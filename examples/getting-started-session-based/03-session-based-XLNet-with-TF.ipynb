{
 "cells": [
  {
   "cell_type": "code",
   "execution_count": null,
   "id": "84a18ed2",
   "metadata": {},
   "outputs": [],
   "source": [
    "# Copyright 2021 NVIDIA Corporation. All Rights Reserved.\n",
    "#\n",
    "# Licensed under the Apache License, Version 2.0 (the \"License\");\n",
    "# you may not use this file except in compliance with the License.\n",
    "# You may obtain a copy of the License at\n",
    "#\n",
    "#     http://www.apache.org/licenses/LICENSE-2.0\n",
    "#\n",
    "# Unless required by applicable law or agreed to in writing, software\n",
    "# distributed under the License is distributed on an \"AS IS\" BASIS,\n",
    "# WITHOUT WARRANTIES OR CONDITIONS OF ANY KIND, either express or implied.\n",
    "# See the License for the specific language governing permissions and\n",
    "# limitations under the License.\n",
    "# =============================================================================="
   ]
  },
  {
   "cell_type": "markdown",
   "id": "3c6e0b09",
   "metadata": {},
   "source": [
    "# Session-based Recommendation with XLNET"
   ]
  },
  {
   "cell_type": "markdown",
   "id": "1011c249",
   "metadata": {},
   "source": [
    "In this notebook we introduce the [Transformers4Rec](https://github.com/NVIDIA-Merlin/Transformers4Rec) library for sequential and session-based recommendation. This notebook uses the PyTorch API, but a TensorFlow API is also available. Transformers4Rec integrates with the popular [HuggingFace’s Transformers](https://github.com/huggingface/transformers) and make it possible to experiment with cutting-edge implementation of the latest NLP Transformer architectures.  \n",
    "\n",
    "We demonstrate how to build a session-based recommendation model with the [XLNET](https://arxiv.org/abs/1906.08237) Transformer architecture. The XLNet architecture was designed to leverage the best of both auto-regressive language modeling and auto-encoding with its Permutation Language Modeling training method. In this example we will use XLNET with masked language modeling (MLM) training method, which showed very promising results in the experiments conducted in our [ACM RecSys'21 paper](https://github.com/NVIDIA-Merlin/publications/blob/main/2021_acm_recsys_transformers4rec/recsys21_transformers4rec_paper.pdf)."
   ]
  },
  {
   "cell_type": "markdown",
   "id": "caadfcd0",
   "metadata": {},
   "source": [
    "In the previous notebook we went through our ETL pipeline with NVTabular library, and created sequential features to be used in training a session-based recommendation model. In this notebook we will learn:\n",
    "\n",
    "- Accelerating data loading of parquet files with multiple features on PyTorch using NVTabular library\n",
    "- Training and evaluating a Transformer-based (XLNET-MLM) session-based recommendation model with multiple features"
   ]
  },
  {
   "cell_type": "markdown",
   "id": "5b7eee2b",
   "metadata": {},
   "source": [
    "## Build a DL model with Transformers4Rec library  "
   ]
  },
  {
   "cell_type": "markdown",
   "id": "f3afdd23",
   "metadata": {},
   "source": [
    "Transformers4Rec supports multiple input features and provides configurable building blocks that can be easily combined for custom architectures:\n",
    "\n",
    "- [TabularSequenceFeatures](https://nvidia-merlin.github.io/Transformers4Rec/main/api/transformers4rec.tf.html#transformers4rec.torch.TabularSequenceFeatures) class that reads from schema and creates an input block. This input module combines different types of features (continuous, categorical & text) to a sequence.\n",
    "-  [MaskSequence](https://github.com/NVIDIA-Merlin/Transformers4Rec/blob/main/transformers4rec/tf/masking.py) to define masking schema and prepare the masked inputs and labels for the selected LM task.\n",
    "-  [TransformerBlock](https://nvidia-merlin.github.io/Transformers4Rec/main/api/transformers4rec.tf.html#transformers4rec.torch.TransformerBlock) class that supports HuggingFace Transformers for session-based and sequential-based recommendation models.\n",
    "-  [SequentialBlock](https://nvidia-merlin.github.io/Transformers4Rec/main/api/transformers4rec.tf.html#transformers4rec.torch.SequentialBlock) creates the body by mimicking [tf.keras.Sequential](https://www.tensorflow.org/api_docs/python/tf/keras/Sequential) class. It is designed to define our model as a sequence of layers.\n",
    "-  [Head](https://nvidia-merlin.github.io/Transformers4Rec/main/api/transformers4rec.tf.html#transformers4rec.tf.Head) where we define the prediction task of the model.\n",
    "-  [NextItemPredictionTask](https://nvidia-merlin.github.io/Transformers4Rec/main/api/transformers4rec.tf.html#transformers4rec.tf.NextItemPredictionTask) is the class to support next item prediction task.\n",
    "\n",
    "You can check the [full documentation](https://nvidia-merlin.github.io/Transformers4Rec/main/index.html) of Transformers4Rec if needed."
   ]
  },
  {
   "cell_type": "markdown",
   "id": "a1b04b39",
   "metadata": {},
   "source": [
    "Figure 1 illustrates Transformers4Rec meta-architecture and how each module/block interacts with each other."
   ]
  },
  {
   "cell_type": "markdown",
   "id": "cfef2d12",
   "metadata": {},
   "source": [
    "![tf4rec_meta](images/tf4rec_meta2.png)"
   ]
  },
  {
   "cell_type": "markdown",
   "id": "da37e6d3",
   "metadata": {},
   "source": [
    "### Imports required libraries"
   ]
  },
  {
   "cell_type": "code",
   "execution_count": 2,
   "id": "481426d9",
   "metadata": {},
   "outputs": [
    {
     "name": "stderr",
     "output_type": "stream",
     "text": [
      "2021-11-17 19:15:27.849759: I tensorflow/core/platform/cpu_feature_guard.cc:142] This TensorFlow binary is optimized with oneAPI Deep Neural Network Library (oneDNN) to use the following CPU instructions in performance-critical operations:  AVX2 FMA\n",
      "To enable them in other operations, rebuild TensorFlow with the appropriate compiler flags.\n",
      "2021-11-17 19:15:29.625089: I tensorflow/core/common_runtime/gpu/gpu_device.cc:1510] Created device /job:localhost/replica:0/task:0/device:GPU:0 with 8080 MB memory:  -> device: 0, name: Tesla V100-SXM2-16GB-N, pci bus id: 0000:0b:00.0, compute capability: 7.0\n"
     ]
    }
   ],
   "source": [
    "import os\n",
    "import glob\n",
    "\n",
    "from nvtabular.loader.tensorflow import KerasSequenceLoader\n",
    "\n",
    "from transformers4rec import tf as tr\n",
    "from transformers4rec.tf.ranking_metric import NDCGAt, AvgPrecisionAt, RecallAt\n",
    "\n",
    "import logging\n",
    "logging.disable(logging.WARNING) # disable INFO and DEBUG logging everywhere"
   ]
  },
  {
   "cell_type": "markdown",
   "id": "33be17c5",
   "metadata": {},
   "source": [
    "Transformers4Rec library relies on a schema object to automatically build all necessary layers to represent, normalize and aggregate input features. As you can see below, `schema.pb` is a protobuf file that contains metadata including statistics about features such as cardinality, min and max values and also tags features based on their characteristics and dtypes (e.g., categorical, continuous, list, integer)."
   ]
  },
  {
   "cell_type": "markdown",
   "id": "22d9599e",
   "metadata": {},
   "source": [
    "### Manually set the schema "
   ]
  },
  {
   "cell_type": "code",
   "execution_count": 3,
   "id": "9e4a6ef8",
   "metadata": {},
   "outputs": [
    {
     "name": "stdout",
     "output_type": "stream",
     "text": [
      "feature {\n",
      "  name: \"session_id\"\n",
      "  type: INT\n",
      "  int_domain {\n",
      "    name: \"session_id\"\n",
      "    min: 1\n",
      "    max: 100001\n",
      "    is_categorical: false\n",
      "  }\n",
      "  annotation {\n",
      "    tag: \"groupby_col\"\n",
      "  }\n",
      "}\n",
      "feature {\n",
      "  name: \"category-list_trim\"\n",
      "  value_count {\n",
      "    min: 2\n",
      "    max: 20\n",
      "  }\n",
      "  type: INT\n",
      "  int_domain {\n",
      "    name: \"category-list_trim\"\n",
      "    min: 1\n",
      "    max: 400\n",
      "    is_categorical: true\n",
      "  }\n",
      "  annotation {\n",
      "    tag: \"list\"\n",
      "    tag: \"categorical\"\n",
      "    tag: \"item\"\n",
      "  }\n",
      "}\n",
      "feature {\n",
      "  name: \"item_id-list_trim\"\n",
      "  value_count {\n",
      "    min: 2\n",
      "    max: 20\n",
      "  }\n",
      "  type: INT\n",
      "  int_domain {\n",
      "    name: \"item_id/list\"\n",
      "    min: 1\n",
      "    max: 50005\n",
      "    is_categorical: true\n",
      "  }\n",
      "  annotation {\n",
      "    tag: \"item_id\"\n",
      "    tag: \"list\"\n",
      "    tag: \"categorical\"\n",
      "    tag: \"item\"\n",
      "  }\n",
      "}\n",
      "feature {\n",
      "  name: \"timestamp/age_days-list_trim\"\n",
      "  value_count {\n",
      "    min: 2\n",
      "    max: 20\n",
      "  }\n",
      "  type: FLOAT\n",
      "  float_domain {\n",
      "    name: \"timestamp/age_days-list_trim\"\n",
      "    min: 0.0000003\n",
      "    max: 0.9999999\n",
      "  }\n",
      "  annotation {\n",
      "    tag: \"continuous\"\n",
      "    tag: \"list\"\n",
      "  }\n",
      "}\n",
      "feature {\n",
      "  name: \"timestamp/weekday/sin-list_trim\"\n",
      "  value_count {\n",
      "    min: 2\n",
      "    max: 20\n",
      "  }\n",
      "  type: FLOAT\n",
      "  float_domain {\n",
      "    name: \"timestamp/weekday-sin_trim\"\n",
      "    min: 0.0000003\n",
      "    max: 0.9999999\n",
      "  }\n",
      "  annotation {\n",
      "    tag: \"continuous\"\n",
      "    tag: \"time\"\n",
      "    tag: \"list\"\n",
      "  }\n",
      "}"
     ]
    }
   ],
   "source": [
    "from merlin_standard_lib import Schema\n",
    "SCHEMA_PATH = \"schema.pb\"\n",
    "schema = Schema().from_proto_text(SCHEMA_PATH)\n",
    "!cat $SCHEMA_PATH"
   ]
  },
  {
   "cell_type": "code",
   "execution_count": 4,
   "id": "054bb34e",
   "metadata": {},
   "outputs": [],
   "source": [
    "# You can select a subset of features for training\n",
    "schema = schema.select_by_name(['item_id-list_trim', \n",
    "                                'category-list_trim', \n",
    "                                'timestamp/weekday/sin-list_trim',\n",
    "                                'timestamp/age_days-list_trim'])"
   ]
  },
  {
   "cell_type": "markdown",
   "id": "991791f2",
   "metadata": {},
   "source": [
    "### Define the sequential input module"
   ]
  },
  {
   "cell_type": "markdown",
   "id": "7b4229e9",
   "metadata": {},
   "source": [
    "Below we define our `input` block using the `TabularSequenceFeatures` [class](https://github.com/NVIDIA-Merlin/Transformers4Rec/blob/main/transformers4rec/tf/features/sequence.py#L121). The `from_schema()` method processes the schema and creates the necessary layers to represent features and aggregate them. It keeps only features tagged as `categorical` and `continuous` and supports data aggregation methods like `concat` and `elementwise-sum` techniques. It also support data augmentation techniques like stochastic swap noise. It outputs an interaction representation after combining all features and also the input mask according to the training task (more on this later).\n"
   ]
  },
  {
   "cell_type": "markdown",
   "id": "e1f1772c",
   "metadata": {},
   "source": [
    "The `max_sequence_length` argument defines the maximum sequence length of our sequential input, and if `continuous_projection` argument is set, all numerical features are concatenated and projected by an MLP block so that continuous features are represented by a vector of size defined by user, which is `64` in this example."
   ]
  },
  {
   "cell_type": "code",
   "execution_count": 5,
   "id": "4f9d7c18",
   "metadata": {},
   "outputs": [],
   "source": [
    "inputs = tr.TabularSequenceFeatures.from_schema(\n",
    "        schema,\n",
    "        max_sequence_length=20,\n",
    "        continuous_projection=64,\n",
    "        d_output=64,\n",
    "        masking=\"clm\",\n",
    ")"
   ]
  },
  {
   "cell_type": "markdown",
   "id": "49f6380e",
   "metadata": {},
   "source": [
    "The output of the `TabularSequenceFeatures` module is the sequence of interactions embeddings vectors defined in the following steps:\n",
    "- 1. Create sequence inputs: If the schema contains non sequential features, expand each feature to a sequence by repeating the value as many as the `max_sequence_length` value.  \n",
    "- 2. Get a representation vector of categorical features: Project each sequential categorical feature using the related embedding table. The resulting tensor is of shape (bs, max_sequence_length, embed_dim).\n",
    "- 3. Project scalar values if `continuous_projection` is set : Apply an MLP layer with hidden size equal to `continuous_projection` vector size value. The resulting tensor is of shape (batch_size, max_sequence_length, continuous_projection).\n",
    "- 4. Aggregate the list of features vectors to represent each interaction in the sequence with one vector: For example, `concat` will concat all vectors based on the last dimension `-1` and the resulting tensor will be of shape (batch_size, max_sequence_length, D) where D is the sum over all embedding dimensions and the value of continuous_projection. \n",
    "- 5. If masking schema is set (needed only for the NextItemPredictionTask training), the masked labels are derived from the sequence of raw item-ids and the sequence of interactions embeddings are processed to mask information about the masked positions."
   ]
  },
  {
   "cell_type": "markdown",
   "id": "c1b31049",
   "metadata": {},
   "source": [
    "### Define the Transformer Block"
   ]
  },
  {
   "cell_type": "markdown",
   "id": "cd4c6a8e",
   "metadata": {},
   "source": [
    "In the next cell, the whole model is build with a few lines of code. \n",
    "Here is a brief explanation of the main classes:  \n",
    "- [XLNetConfig](https://github.com/NVIDIA-Merlin/Transformers4Rec/blob/main/transformers4rec/config/transformer.py#L261) - We have injected in the HF transformers config classes like `XLNetConfig` the `build()` method, that provides default configuration to Transformer architectures for session-based recommendation. Here we use it to instantiate and configure an XLNET architecture.  \n",
    "- [TransformerBlock](https://github.com/NVIDIA-Merlin/Transformers4Rec/blob/main/transformers4rec/tf/block/transformer.py#L42) class integrates with HF Transformers, which are made available as a sequence processing module for session-based and sequential-based recommendation models.  \n",
    "- [NextItemPredictionTask](https://github.com/NVIDIA-Merlin/Transformers4Rec/blob/405e3142f1274b1b0d642f4834ac437f2549cd33/transformers4rec/tf/model/prediction_task.py#82) supports the next-item prediction task. We also support other predictions [tasks](https://github.com/NVIDIA-Merlin/Transformers4Rec/blob/main/transformers4rec/tf/model/prediction_task.py), like classification and regression for the whole sequence. "
   ]
  },
  {
   "cell_type": "code",
   "execution_count": 6,
   "id": "da77bb18",
   "metadata": {},
   "outputs": [],
   "source": [
    "# Define XLNetConfig class and set default parameters for HF XLNet config  \n",
    "transformer_config = tr.XLNetConfig.build(\n",
    "    d_model=64, n_head=4, n_layer=2, total_seq_length=20\n",
    ")\n",
    "# Define the model block including: inputs, masking, projection and transformer block.\n",
    "body = tr.SequentialBlock(\n",
    "    [inputs, tr.TransformerBlock(transformer_config, masking=inputs.masking)]\n",
    ")\n",
    "\n",
    "# Defines the evaluation top-N metrics and the cut-offs\n",
    "metrics = [\n",
    "    NDCGAt(top_ks=[20, 40], labels_onehot=True),  \n",
    "    RecallAt(top_ks=[20, 40], labels_onehot=True)\n",
    "]\n",
    "\n",
    "# link task to body and generate the end-to-end keras model\n",
    "task = tr.NextItemPredictionTask(weight_tying=True, metrics=metrics)\n",
    "\n",
    "model = task.to_model(body=body)"
   ]
  },
  {
   "cell_type": "markdown",
   "id": "1c937391",
   "metadata": {},
   "source": [
    "### Train the model "
   ]
  },
  {
   "cell_type": "markdown",
   "id": "09390aaa",
   "metadata": {},
   "source": [
    "We use the NVTabular `KerasSequenceLoader` Dataloader for optimized loading of multiple features from input parquet files. You can learn more about this data loader [here](https://nvidia-merlin.github.io/NVTabular/main/training/tensorflow.html)."
   ]
  },
  {
   "cell_type": "markdown",
   "id": "44919132",
   "metadata": {},
   "source": [
    "### **Set DataLoader**"
   ]
  },
  {
   "cell_type": "code",
   "execution_count": 7,
   "id": "b64fcad1",
   "metadata": {},
   "outputs": [],
   "source": [
    "x_cat_names, x_cont_names = ['category-list_trim', 'item_id-list_trim'], ['timestamp/age_days-list_trim', 'timestamp/weekday/sin-list_trim']\n",
    "\n",
    "# dictionary representing max sequence length for column\n",
    "sparse_features_max = {\n",
    "    fname: 20\n",
    "    for fname in x_cat_names + x_cont_names\n",
    "}\n",
    "\n",
    "def get_dataloader(paths_or_dataset, batch_size=64):\n",
    "    dataloader = KerasSequenceLoader(\n",
    "        paths_or_dataset,\n",
    "        batch_size=batch_size,\n",
    "        label_names=None,\n",
    "        cat_names=x_cat_names,\n",
    "        cont_names=x_cont_names,\n",
    "        sparse_names=list(sparse_features_max.keys()),\n",
    "        sparse_max=sparse_features_max,\n",
    "        sparse_as_dense=True,\n",
    "    )\n",
    "    return dataloader.map(lambda X, y: (X, []))"
   ]
  },
  {
   "cell_type": "markdown",
   "id": "30948503",
   "metadata": {},
   "source": [
    "## Set training params"
   ]
  },
  {
   "cell_type": "code",
   "execution_count": 8,
   "id": "ad3b7571",
   "metadata": {},
   "outputs": [],
   "source": [
    "import tensorflow as tf\n",
    "lr_schedule = tf.keras.optimizers.schedules.CosineDecay(\n",
    "    initial_learning_rate=0.0005,\n",
    "    decay_steps=1.5)\n",
    "optimizer = tf.keras.optimizers.Adam(learning_rate=lr_schedule)\n",
    "model.compile(optimizer=\"adam\", run_eagerly=True)"
   ]
  },
  {
   "cell_type": "markdown",
   "id": "6c13ef04",
   "metadata": {},
   "source": [
    "## Daily Fine-Tuning: Training over a time window"
   ]
  },
  {
   "cell_type": "markdown",
   "id": "126035e4",
   "metadata": {},
   "source": [
    "Here we do daily fine-tuning meaning that we use the first day to train and second day to evaluate, then we use the second day data to train the model by resuming from the first step, and evaluate on the third day, so on so forth."
   ]
  },
  {
   "cell_type": "markdown",
   "id": "e1d75967",
   "metadata": {},
   "source": [
    "- Define the output folder of the processed parquet files"
   ]
  },
  {
   "cell_type": "code",
   "execution_count": 9,
   "id": "1d65282f",
   "metadata": {},
   "outputs": [],
   "source": [
    "OUTPUT_DIR = os.environ.get(\"OUTPUT_DIR\", \"/workspace/data/sessions_by_day\")"
   ]
  },
  {
   "cell_type": "code",
   "execution_count": 10,
   "id": "40761b6d",
   "metadata": {},
   "outputs": [],
   "source": [
    "from transformers import logging\n",
    "logging.set_verbosity_error()"
   ]
  },
  {
   "cell_type": "code",
   "execution_count": 11,
   "id": "141c961f",
   "metadata": {},
   "outputs": [
    {
     "name": "stdout",
     "output_type": "stream",
     "text": [
      "********************\n",
      "Launch training for day 1 are:\n",
      "********************\n",
      "\n"
     ]
    },
    {
     "name": "stderr",
     "output_type": "stream",
     "text": [
      "2021-11-17 19:15:37.980096: I tensorflow/stream_executor/cuda/cuda_dnn.cc:369] Loaded cuDNN version 8204\n",
      "2021-11-17 19:15:38.196940: I tensorflow/compiler/mlir/mlir_graph_optimization_pass.cc:185] None of the MLIR Optimization Passes are enabled (registered 2)\n"
     ]
    },
    {
     "name": "stdout",
     "output_type": "stream",
     "text": [
      "Epoch 1/5\n",
      "15/15 [==============================] - 34s 2s/step - train_ndcg@20: 0.0032 - train_ndcg@40: 0.0044 - train_recall@20: 0.0099 - train_recall@40: 0.0155 - loss: 10.7448 - regularization_loss: 0.0000e+00 - total_loss: 10.7448\n",
      "Epoch 2/5\n",
      "15/15 [==============================] - 32s 2s/step - train_ndcg@20: 0.0675 - train_ndcg@40: 0.0794 - train_recall@20: 0.1586 - train_recall@40: 0.2161 - loss: 9.0805 - regularization_loss: 0.0000e+00 - total_loss: 9.0805\n",
      "Epoch 3/5\n",
      "15/15 [==============================] - 34s 2s/step - train_ndcg@20: 0.1308 - train_ndcg@40: 0.1669 - train_recall@20: 0.3277 - train_recall@40: 0.5055 - loss: 7.3849 - regularization_loss: 0.0000e+00 - total_loss: 7.3849\n",
      "Epoch 4/5\n",
      "15/15 [==============================] - 32s 2s/step - train_ndcg@20: 0.1479 - train_ndcg@40: 0.1922 - train_recall@20: 0.3941 - train_recall@40: 0.6113 - loss: 5.9321 - regularization_loss: 0.0000e+00 - total_loss: 5.9321\n",
      "Epoch 5/5\n",
      "15/15 [==============================] - 33s 2s/step - train_ndcg@20: 0.1697 - train_ndcg@40: 0.2185 - train_recall@20: 0.4360 - train_recall@40: 0.6740 - loss: 5.0944 - regularization_loss: 0.0000e+00 - total_loss: 5.0944\n",
      "2/2 [==============================] - 1s 290ms/step - eval_ndcg@20: 0.1736 - eval_ndcg@40: 0.2243 - eval_recall@20: 0.5006 - eval_recall@40: 0.7477 - loss: 4.7323 - regularization_loss: 0.0000e+00 - total_loss: 4.7323\n",
      "********************\n",
      "Eval results for day 2 are:\t\n",
      "\n",
      "********************\n",
      "\n",
      " eval_ndcg@20 = 0.18473437428474426\n",
      " eval_ndcg@40 = 0.2354496419429779\n",
      " eval_recall@20 = 0.5087719559669495\n",
      " eval_recall@40 = 0.7543859481811523\n",
      " loss = 4.700231075286865\n",
      " regularization_loss = 0\n",
      " total_loss = 4.700231075286865\n",
      "********************\n",
      "Launch training for day 2 are:\n",
      "********************\n",
      "\n",
      "Epoch 1/5\n",
      "15/15 [==============================] - 32s 2s/step - train_ndcg@20: 0.1660 - train_ndcg@40: 0.2242 - train_recall@20: 0.4339 - train_recall@40: 0.7177 - loss: 4.8249 - regularization_loss: 0.0000e+00 - total_loss: 4.8249\n",
      "Epoch 2/5\n",
      "15/15 [==============================] - 32s 2s/step - train_ndcg@20: 0.1672 - train_ndcg@40: 0.2227 - train_recall@20: 0.4604 - train_recall@40: 0.7327 - loss: 4.7189 - regularization_loss: 0.0000e+00 - total_loss: 4.7189\n",
      "Epoch 3/5\n",
      "15/15 [==============================] - 33s 2s/step - train_ndcg@20: 0.1736 - train_ndcg@40: 0.2282 - train_recall@20: 0.4633 - train_recall@40: 0.7310 - loss: 4.6492 - regularization_loss: 0.0000e+00 - total_loss: 4.6492\n",
      "Epoch 4/5\n",
      "15/15 [==============================] - 32s 2s/step - train_ndcg@20: 0.1692 - train_ndcg@40: 0.2260 - train_recall@20: 0.4542 - train_recall@40: 0.7322 - loss: 4.6401 - regularization_loss: 0.0000e+00 - total_loss: 4.6401\n",
      "Epoch 5/5\n",
      "15/15 [==============================] - 34s 2s/step - train_ndcg@20: 0.1770 - train_ndcg@40: 0.2323 - train_recall@20: 0.4653 - train_recall@40: 0.7359 - loss: 4.6038 - regularization_loss: 0.0000e+00 - total_loss: 4.6038\n",
      "2/2 [==============================] - 1s 249ms/step - eval_ndcg@20: 0.1778 - eval_ndcg@40: 0.2368 - eval_recall@20: 0.4613 - eval_recall@40: 0.7501 - loss: 4.4416 - regularization_loss: 0.0000e+00 - total_loss: 4.4416\n",
      "********************\n",
      "Eval results for day 3 are:\t\n",
      "\n",
      "********************\n",
      "\n",
      " eval_ndcg@20 = 0.1962771713733673\n",
      " eval_ndcg@40 = 0.24134907126426697\n",
      " eval_recall@20 = 0.4888888895511627\n",
      " eval_recall@40 = 0.7111111283302307\n",
      " loss = 4.488396644592285\n",
      " regularization_loss = 0\n",
      " total_loss = 4.488396644592285\n"
     ]
    }
   ],
   "source": [
    "start_time_window_index = 1\n",
    "final_time_window_index = 3\n",
    "#Iterating over days of one week\n",
    "for time_index in range(start_time_window_index, final_time_window_index):\n",
    "    # Set data \n",
    "    time_index_train = time_index\n",
    "    time_index_eval = time_index + 1\n",
    "    train_paths = glob.glob(os.path.join(OUTPUT_DIR, f\"{time_index_train}/train.parquet\"))\n",
    "    eval_paths = glob.glob(os.path.join(OUTPUT_DIR, f\"{time_index_eval}/valid.parquet\"))\n",
    "    \n",
    "    # Train on day related to time_index \n",
    "    print('*'*20)\n",
    "    print(\"Launch training for day %s are:\" %time_index)\n",
    "    print('*'*20 + '\\n')\n",
    "    train_loader = get_dataloader(train_paths) \n",
    "    losses = model.fit(train_loader, epochs=5)\n",
    "    model.reset_metrics()\n",
    "    # Evaluate on the following day\n",
    "    eval_loader = get_dataloader(eval_paths) \n",
    "    eval_metrics = model.evaluate(eval_loader, return_dict=True)\n",
    "    print('*'*20)\n",
    "    print(\"Eval results for day %s are:\\t\" %time_index_eval)\n",
    "    print('\\n' + '*'*20 + '\\n')\n",
    "    for key in sorted(eval_metrics.keys()):\n",
    "        print(\" %s = %s\" % (key, str(eval_metrics[key]))) "
   ]
  },
  {
   "cell_type": "markdown",
   "id": "dae1bbe1",
   "metadata": {},
   "source": [
    "### Saves the model"
   ]
  },
  {
   "cell_type": "code",
   "execution_count": 12,
   "id": "a9129885",
   "metadata": {},
   "outputs": [
    {
     "name": "stderr",
     "output_type": "stream",
     "text": [
      "2021-11-17 19:21:22.282683: W tensorflow/python/util/util.cc:348] Sets are not currently considered sequences, but this may change in the future, so consider avoiding using them.\n"
     ]
    }
   ],
   "source": [
    "model.save('tmp/tensorflow')"
   ]
  },
  {
   "cell_type": "markdown",
   "id": "ea49aa5d",
   "metadata": {},
   "source": [
    "### Reloads the model"
   ]
  },
  {
   "cell_type": "code",
   "execution_count": 13,
   "id": "7f5f69dc",
   "metadata": {},
   "outputs": [],
   "source": [
    "model = tf.keras.models.load_model('./tmp/tensorflow')"
   ]
  },
  {
   "cell_type": "code",
   "execution_count": 14,
   "id": "3cca4090",
   "metadata": {},
   "outputs": [],
   "source": [
    "batch = next(iter(eval_loader))"
   ]
  },
  {
   "cell_type": "code",
   "execution_count": 15,
   "id": "e471504d",
   "metadata": {},
   "outputs": [
    {
     "data": {
      "text/plain": [
       "<tf.Tensor: shape=(64, 50006), dtype=float32, numpy=\n",
       "array([[-14.483589 , -15.827689 ,  -3.2657387, ..., -15.472676 ,\n",
       "        -14.786966 , -15.284707 ],\n",
       "       [-14.517188 , -15.770086 ,  -3.3817382, ..., -15.530424 ,\n",
       "        -14.766118 , -15.170356 ],\n",
       "       [-14.461672 , -15.592571 ,  -3.2989364, ..., -15.317642 ,\n",
       "        -14.794083 , -15.200134 ],\n",
       "       ...,\n",
       "       [-14.512834 , -15.774984 ,  -3.2765167, ..., -15.475362 ,\n",
       "        -14.711787 , -15.197722 ],\n",
       "       [-14.5886345, -15.740798 ,  -3.3435194, ..., -15.510273 ,\n",
       "        -14.731354 , -15.161112 ],\n",
       "       [-14.604326 , -15.766655 ,  -3.3291552, ..., -15.422941 ,\n",
       "        -14.72044  , -15.21335  ]], dtype=float32)>"
      ]
     },
     "execution_count": 15,
     "metadata": {},
     "output_type": "execute_result"
    }
   ],
   "source": [
    "model(batch[0])"
   ]
  },
  {
   "cell_type": "markdown",
   "id": "1359e70b",
   "metadata": {},
   "source": [
    "That's it!  \n",
    "You have just trained your session-based recommendation model using Transformers4Rec."
   ]
  }
 ],
 "metadata": {
  "interpreter": {
   "hash": "7b543a88d374ac88bf8df97911b380f671b13649694a5b49eb21e60fd27eb479"
  },
  "kernelspec": {
   "display_name": "Python 3 (ipykernel)",
   "language": "python",
   "name": "python3"
  },
  "language_info": {
   "codemirror_mode": {
    "name": "ipython",
    "version": 3
   },
   "file_extension": ".py",
   "mimetype": "text/x-python",
   "name": "python",
   "nbconvert_exporter": "python",
   "pygments_lexer": "ipython3",
   "version": "3.8.10"
  }
 },
 "nbformat": 4,
 "nbformat_minor": 5
}
