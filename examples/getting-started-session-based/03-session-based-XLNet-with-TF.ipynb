{
 "cells": [
  {
   "cell_type": "code",
   "execution_count": 1,
   "id": "1e9c3d21",
   "metadata": {},
   "outputs": [],
   "source": [
    "# Copyright 2021 NVIDIA Corporation. All Rights Reserved.\n",
    "#\n",
    "# Licensed under the Apache License, Version 2.0 (the \"License\");\n",
    "# you may not use this file except in compliance with the License.\n",
    "# You may obtain a copy of the License at\n",
    "#\n",
    "#     http://www.apache.org/licenses/LICENSE-2.0\n",
    "#\n",
    "# Unless required by applicable law or agreed to in writing, software\n",
    "# distributed under the License is distributed on an \"AS IS\" BASIS,\n",
    "# WITHOUT WARRANTIES OR CONDITIONS OF ANY KIND, either express or implied.\n",
    "# See the License for the specific language governing permissions and\n",
    "# limitations under the License.\n",
    "# =============================================================================="
   ]
  },
  {
   "cell_type": "markdown",
   "id": "1f2cbdc7",
   "metadata": {},
   "source": [
    "# Session-based Recommendation with XLNET"
   ]
  },
  {
   "cell_type": "markdown",
   "id": "dafd844a",
   "metadata": {},
   "source": [
    "In this notebook we introduce the [Transformers4Rec](https://github.com/NVIDIA-Merlin/Transformers4Rec) library for sequential and session-based recommendation. This notebook uses the PyTorch API, but a TensorFlow API is also available. Transformers4Rec integrates with the popular [HuggingFace’s Transformers](https://github.com/huggingface/transformers) and make it possible to experiment with cutting-edge implementation of the latest NLP Transformer architectures.  \n",
    "\n",
    "We demonstrate how to build a session-based recommendation model with the [XLNET](https://arxiv.org/abs/1906.08237) Transformer architecture. The XLNet architecture was designed to leverage the best of both auto-regressive language modeling and auto-encoding with its Permutation Language Modeling training method. In this example we will use XLNET with masked language modeling (MLM) training method, which showed very promising results in the experiments conducted in our [ACM RecSys'21 paper](https://github.com/NVIDIA-Merlin/publications/blob/main/2021_acm_recsys_transformers4rec/recsys21_transformers4rec_paper.pdf)."
   ]
  },
  {
   "cell_type": "markdown",
   "id": "8dc73b17",
   "metadata": {},
   "source": [
    "In the previous notebook we went through our ETL pipeline with NVTabular library, and created sequential features to be used in training a session-based recommendation model. In this notebook we will learn:\n",
    "\n",
    "- Accelerating data loading of parquet files with multiple features on PyTorch using NVTabular library\n",
    "- Training and evaluating a Transformer-based (XLNET-MLM) session-based recommendation model with multiple features"
   ]
  },
  {
   "cell_type": "markdown",
   "id": "15166c46",
   "metadata": {},
   "source": [
    "## Build a DL model with Transformers4Rec library  "
   ]
  },
  {
   "cell_type": "markdown",
   "id": "d4d63f2c",
   "metadata": {},
   "source": [
    "Transformers4Rec supports multiple input features and provides configurable building blocks that can be easily combined for custom architectures:\n",
    "\n",
    "- [TabularSequenceFeatures](https://nvidia-merlin.github.io/Transformers4Rec/main/api/transformers4rec.tf.html#transformers4rec.torch.TabularSequenceFeatures) class that reads from schema and creates an input block. This input module combines different types of features (continuous, categorical & text) to a sequence.\n",
    "-  [MaskSequence](https://github.com/NVIDIA-Merlin/Transformers4Rec/blob/main/transformers4rec/tf/masking.py) to define masking schema and prepare the masked inputs and labels for the selected LM task.\n",
    "-  [TransformerBlock](https://nvidia-merlin.github.io/Transformers4Rec/main/api/transformers4rec.tf.html#transformers4rec.torch.TransformerBlock) class that supports HuggingFace Transformers for session-based and sequential-based recommendation models.\n",
    "-  [SequentialBlock](https://nvidia-merlin.github.io/Transformers4Rec/main/api/transformers4rec.tf.html#transformers4rec.torch.SequentialBlock) creates the body by mimicking [tf.keras.Sequential](https://www.tensorflow.org/api_docs/python/tf/keras/Sequential) class. It is designed to define our model as a sequence of layers.\n",
    "-  [Head](https://nvidia-merlin.github.io/Transformers4Rec/main/api/transformers4rec.tf.html#transformers4rec.tf.Head) where we define the prediction task of the model.\n",
    "-  [NextItemPredictionTask](https://nvidia-merlin.github.io/Transformers4Rec/main/api/transformers4rec.tf.html#transformers4rec.tf.NextItemPredictionTask) is the class to support next item prediction task.\n",
    "\n",
    "You can check the [full documentation](https://nvidia-merlin.github.io/Transformers4Rec/main/index.html) of Transformers4Rec if needed."
   ]
  },
  {
   "cell_type": "markdown",
   "id": "fdc7bee9",
   "metadata": {},
   "source": [
    "Figure 1 illustrates Transformers4Rec meta-architecture and how each module/block interacts with each other."
   ]
  },
  {
   "cell_type": "markdown",
   "id": "5a14d725",
   "metadata": {},
   "source": [
    "![tf4rec_meta](images/tf4rec_meta2.png)"
   ]
  },
  {
   "cell_type": "markdown",
   "id": "eb70cd9c",
   "metadata": {},
   "source": [
    "### Imports required libraries"
   ]
  },
  {
   "cell_type": "code",
   "execution_count": 2,
   "id": "e2b467cc",
   "metadata": {},
   "outputs": [],
   "source": [
    "import os\n",
    "import os\n",
    "os.environ['TF_CPP_MIN_LOG_LEVEL'] = '3' \n",
    "import glob\n",
    "\n",
    "from nvtabular.loader.tensorflow import KerasSequenceLoader\n",
    "\n",
    "from transformers4rec import tf as tr\n",
    "from transformers4rec.tf.ranking_metric import NDCGAt, AvgPrecisionAt, RecallAt"
   ]
  },
  {
   "cell_type": "code",
   "execution_count": 3,
   "id": "8294cd4c",
   "metadata": {},
   "outputs": [],
   "source": [
    "import cudf\n",
    "import dask_cudf\n",
    "from cudf.io.parquet import ParquetWriter as pwriter_cudf\n",
    "from dask_cudf.io.parquet import CudfEngine"
   ]
  },
  {
   "cell_type": "markdown",
   "id": "f70641da",
   "metadata": {},
   "source": [
    "Transformers4Rec library relies on a schema object to automatically build all necessary layers to represent, normalize and aggregate input features. As you can see below, `schema.pb` is a protobuf file that contains metadata including statistics about features such as cardinality, min and max values and also tags features based on their characteristics and dtypes (e.g., categorical, continuous, list, integer)."
   ]
  },
  {
   "cell_type": "markdown",
   "id": "0ca423bb",
   "metadata": {},
   "source": [
    "### Manually set the schema "
   ]
  },
  {
   "cell_type": "code",
   "execution_count": 4,
   "id": "fb551d7e",
   "metadata": {},
   "outputs": [
    {
     "name": "stdout",
     "output_type": "stream",
     "text": [
      "feature {\n",
      "  name: \"session_id\"\n",
      "  type: INT\n",
      "  int_domain {\n",
      "    name: \"session_id\"\n",
      "    min: 1\n",
      "    max: 100001\n",
      "    is_categorical: false\n",
      "  }\n",
      "  annotation {\n",
      "    tag: \"groupby_col\"\n",
      "  }\n",
      "}\n",
      "feature {\n",
      "  name: \"category-list_trim\"\n",
      "  value_count {\n",
      "    min: 2\n",
      "    max: 20\n",
      "  }\n",
      "  type: INT\n",
      "  int_domain {\n",
      "    name: \"category-list_trim\"\n",
      "    min: 1\n",
      "    max: 400\n",
      "    is_categorical: true\n",
      "  }\n",
      "  annotation {\n",
      "    tag: \"list\"\n",
      "    tag: \"categorical\"\n",
      "    tag: \"item\"\n",
      "  }\n",
      "}\n",
      "feature {\n",
      "  name: \"item_id-list_trim\"\n",
      "  value_count {\n",
      "    min: 2\n",
      "    max: 20\n",
      "  }\n",
      "  type: INT\n",
      "  int_domain {\n",
      "    name: \"item_id/list\"\n",
      "    min: 1\n",
      "    max: 50005\n",
      "    is_categorical: true\n",
      "  }\n",
      "  annotation {\n",
      "    tag: \"item_id\"\n",
      "    tag: \"list\"\n",
      "    tag: \"categorical\"\n",
      "    tag: \"item\"\n",
      "  }\n",
      "}\n",
      "feature {\n",
      "  name: \"timestamp/age_days-list_trim\"\n",
      "  value_count {\n",
      "    min: 2\n",
      "    max: 20\n",
      "  }\n",
      "  type: FLOAT\n",
      "  float_domain {\n",
      "    name: \"timestamp/age_days-list_trim\"\n",
      "    min: 0.0000003\n",
      "    max: 0.9999999\n",
      "  }\n",
      "  annotation {\n",
      "    tag: \"continuous\"\n",
      "    tag: \"list\"\n",
      "  }\n",
      "}\n",
      "feature {\n",
      "  name: \"timestamp/weekday/sin-list_trim\"\n",
      "  value_count {\n",
      "    min: 2\n",
      "    max: 20\n",
      "  }\n",
      "  type: FLOAT\n",
      "  float_domain {\n",
      "    name: \"timestamp/weekday-sin_trim\"\n",
      "    min: 0.0000003\n",
      "    max: 0.9999999\n",
      "  }\n",
      "  annotation {\n",
      "    tag: \"continuous\"\n",
      "    tag: \"time\"\n",
      "    tag: \"list\"\n",
      "  }\n",
      "}"
     ]
    }
   ],
   "source": [
    "from merlin_standard_lib import Schema\n",
    "SCHEMA_PATH = \"schema.pb\"\n",
    "schema = Schema().from_proto_text(SCHEMA_PATH)\n",
    "!cat $SCHEMA_PATH"
   ]
  },
  {
   "cell_type": "code",
   "execution_count": 5,
   "id": "d89e7eb7",
   "metadata": {},
   "outputs": [],
   "source": [
    "# You can select a subset of features for training\n",
    "schema = schema.select_by_name(['item_id-list_trim', \n",
    "                                'category-list_trim', \n",
    "                                'timestamp/weekday/sin-list_trim',\n",
    "                                'timestamp/age_days-list_trim'])"
   ]
  },
  {
   "cell_type": "markdown",
   "id": "637b1e8c",
   "metadata": {},
   "source": [
    "### Define the sequential input module"
   ]
  },
  {
   "cell_type": "markdown",
   "id": "8ff929e8",
   "metadata": {},
   "source": [
    "Below we define our `input` block using the `TabularSequenceFeatures` [class](https://github.com/NVIDIA-Merlin/Transformers4Rec/blob/main/transformers4rec/tf/features/sequence.py#L121). The `from_schema()` method processes the schema and creates the necessary layers to represent features and aggregate them. It keeps only features tagged as `categorical` and `continuous` and supports data aggregation methods like `concat` and `elementwise-sum` techniques. It also support data augmentation techniques like stochastic swap noise. It outputs an interaction representation after combining all features and also the input mask according to the training task (more on this later).\n"
   ]
  },
  {
   "cell_type": "markdown",
   "id": "48e69eef",
   "metadata": {},
   "source": [
    "The `max_sequence_length` argument defines the maximum sequence length of our sequential input, and if `continuous_projection` argument is set, all numerical features are concatenated and projected by an MLP block so that continuous features are represented by a vector of size defined by user, which is `64` in this example."
   ]
  },
  {
   "cell_type": "code",
   "execution_count": 6,
   "id": "c5bc1bb2",
   "metadata": {},
   "outputs": [],
   "source": [
    "inputs = tr.TabularSequenceFeatures.from_schema(\n",
    "        schema,\n",
    "        max_sequence_length=20,\n",
    "        continuous_projection=64,\n",
    "        d_output=100,\n",
    "        masking=\"mlm\",\n",
    ")"
   ]
  },
  {
   "cell_type": "markdown",
   "id": "2b8234c1",
   "metadata": {},
   "source": [
    "The output of the `TabularSequenceFeatures` module is the sequence of interactions embeddings vectors defined in the following steps:\n",
    "- 1. Create sequence inputs: If the schema contains non sequential features, expand each feature to a sequence by repeating the value as many as the `max_sequence_length` value.  \n",
    "- 2. Get a representation vector of categorical features: Project each sequential categorical feature using the related embedding table. The resulting tensor is of shape (bs, max_sequence_length, embed_dim).\n",
    "- 3. Project scalar values if `continuous_projection` is set : Apply an MLP layer with hidden size equal to `continuous_projection` vector size value. The resulting tensor is of shape (batch_size, max_sequence_length, continuous_projection).\n",
    "- 4. Aggregate the list of features vectors to represent each interaction in the sequence with one vector: For example, `concat` will concat all vectors based on the last dimension `-1` and the resulting tensor will be of shape (batch_size, max_sequence_length, D) where D is the sum over all embedding dimensions and the value of continuous_projection. \n",
    "- 5. If masking schema is set (needed only for the NextItemPredictionTask training), the masked labels are derived from the sequence of raw item-ids and the sequence of interactions embeddings are processed to mask information about the masked positions."
   ]
  },
  {
   "cell_type": "markdown",
   "id": "438040e6",
   "metadata": {},
   "source": [
    "### Define the Transformer Block"
   ]
  },
  {
   "cell_type": "markdown",
   "id": "e732ac9c",
   "metadata": {},
   "source": [
    "In the next cell, the whole model is build with a few lines of code. \n",
    "Here is a brief explanation of the main classes:  \n",
    "- [XLNetConfig](https://github.com/NVIDIA-Merlin/Transformers4Rec/blob/main/transformers4rec/config/transformer.py#L261) - We have injected in the HF transformers config classes like `XLNetConfig` the `build()` method, that provides default configuration to Transformer architectures for session-based recommendation. Here we use it to instantiate and configure an XLNET architecture.  \n",
    "- [TransformerBlock](https://github.com/NVIDIA-Merlin/Transformers4Rec/blob/main/transformers4rec/tf/block/transformer.py#L42) class integrates with HF Transformers, which are made available as a sequence processing module for session-based and sequential-based recommendation models.  \n",
    "- [NextItemPredictionTask](https://github.com/NVIDIA-Merlin/Transformers4Rec/blob/405e3142f1274b1b0d642f4834ac437f2549cd33/transformers4rec/tf/model/prediction_task.py#82) supports the next-item prediction task. We also support other predictions [tasks](https://github.com/NVIDIA-Merlin/Transformers4Rec/blob/main/transformers4rec/tf/model/prediction_task.py), like classification and regression for the whole sequence. "
   ]
  },
  {
   "cell_type": "code",
   "execution_count": 7,
   "id": "485f788e",
   "metadata": {},
   "outputs": [],
   "source": [
    "# Define XLNetConfig class and set default parameters for HF XLNet config  \n",
    "transformer_config = tr.XLNetConfig.build(\n",
    "    d_model=64, n_head=4, n_layer=2, total_seq_length=20\n",
    ")\n",
    "# Define the model block including: inputs, masking, projection and transformer block.\n",
    "body = tr.SequentialBlock(\n",
    "    [inputs, tr.MLPBlock([64]), tr.TransformerBlock(transformer_config, masking=inputs.masking)]\n",
    ")\n",
    "\n",
    "# Defines the evaluation top-N metrics and the cut-offs\n",
    "metrics = (\n",
    "    NDCGAt(top_ks=[1, 5, 20, 40], labels_onehot=True),  \n",
    "    RecallAt(top_ks=[1, 5, 20, 40], labels_onehot=True)\n",
    "          )\n",
    "\n",
    "# link task to body and generate the end-to-end keras model\n",
    "task = tr.NextItemPredictionTask(weight_tying=True, metrics=metrics)\n",
    " \n",
    "model = task.to_model(body=body)"
   ]
  },
  {
   "cell_type": "markdown",
   "id": "67370948",
   "metadata": {},
   "source": [
    "### Train the model "
   ]
  },
  {
   "cell_type": "markdown",
   "id": "ea3a46c8",
   "metadata": {},
   "source": [
    "We use the NVTabular `KerasSequenceLoader` Dataloader for optimized loading of multiple features from input parquet files. You can learn more about this data loader [here](https://nvidia-merlin.github.io/NVTabular/main/training/tensorflow.html)."
   ]
  },
  {
   "cell_type": "markdown",
   "id": "a8b8b52b",
   "metadata": {},
   "source": [
    "### **Set DataLoader**"
   ]
  },
  {
   "cell_type": "code",
   "execution_count": 8,
   "id": "46752b38",
   "metadata": {},
   "outputs": [],
   "source": [
    "x_cat_names, x_cont_names = ['category-list_trim', 'item_id-list_trim'], ['timestamp/age_days-list_trim', 'timestamp/weekday/sin-list_trim']\n",
    "\n",
    "# dictionary representing max sequence length for column\n",
    "sparse_features_max = {\n",
    "    fname: 20\n",
    "    for fname in x_cat_names + x_cont_names\n",
    "}\n",
    "\n",
    "def get_dataloader(paths_or_dataset, batch_size=64):\n",
    "    dataloader = KerasSequenceLoader(\n",
    "        paths_or_dataset,\n",
    "        batch_size=batch_size,\n",
    "        label_names=None,\n",
    "        cat_names=x_cat_names,\n",
    "        cont_names=x_cont_names,\n",
    "        sparse_names=list(sparse_features_max.keys()),\n",
    "        sparse_max=sparse_features_max,\n",
    "        sparse_as_dense=True,\n",
    "    )\n",
    "    return dataloader.map(lambda X, y: (X, []))"
   ]
  },
  {
   "cell_type": "markdown",
   "id": "8c7000f4",
   "metadata": {},
   "source": [
    "## Set training params"
   ]
  },
  {
   "cell_type": "code",
   "execution_count": 9,
   "id": "cbf7168c",
   "metadata": {},
   "outputs": [],
   "source": [
    "import tensorflow as tf\n",
    "lr_schedule = tf.keras.optimizers.schedules.CosineDecay(\n",
    "    initial_learning_rate=0.0005,\n",
    "    decay_steps=1.5)\n",
    "optimizer = tf.keras.optimizers.Adam(learning_rate=lr_schedule)\n",
    "model.compile(optimizer=\"adam\", run_eagerly=True)"
   ]
  },
  {
   "cell_type": "markdown",
   "id": "81b0c31b",
   "metadata": {},
   "source": [
    "## Daily Fine-Tuning: Training over a time window"
   ]
  },
  {
   "cell_type": "markdown",
   "id": "c800186a",
   "metadata": {},
   "source": [
    "Here we do daily fine-tuning meaning that we use the first day to train and second day to evaluate, then we use the second day data to train the model by resuming from the first step, and evaluate on the third day, so on so forth."
   ]
  },
  {
   "cell_type": "markdown",
   "id": "f6dab6e8",
   "metadata": {},
   "source": [
    "- Define the output folder of the processed parquet files"
   ]
  },
  {
   "cell_type": "code",
   "execution_count": 13,
   "id": "0769a10d",
   "metadata": {},
   "outputs": [],
   "source": [
    "OUTPUT_DIR = os.environ.get(\"OUTPUT_DIR\", \"/workspace/data/sessions_by_day\")"
   ]
  },
  {
   "cell_type": "code",
   "execution_count": 14,
   "id": "474384eb",
   "metadata": {},
   "outputs": [],
   "source": [
    "import warnings\n",
    "warnings.filterwarnings('ignore')"
   ]
  },
  {
   "cell_type": "code",
   "execution_count": 15,
   "id": "15f04561",
   "metadata": {
    "collapsed": true,
    "jupyter": {
     "outputs_hidden": true
    }
   },
   "outputs": [
    {
     "name": "stdout",
     "output_type": "stream",
     "text": [
      "['/workspace/data/sessions_by_day/1/train.parquet']\n",
      "********************\n",
      "Launch training for day 1 are:\n",
      "********************\n",
      "\n",
      "WARNING:tensorflow:Gradients do not exist for variables ['transformer_block/tfxl_net_model/transformer/mask_emb:0', 'transformer_block/tfxl_net_model/transformer/layer_._0/rel_attn/r_s_bias:0', 'transformer_block/tfxl_net_model/transformer/layer_._0/rel_attn/seg_embed:0', 'transformer_block/tfxl_net_model/transformer/layer_._1/rel_attn/r_s_bias:0', 'transformer_block/tfxl_net_model/transformer/layer_._1/rel_attn/seg_embed:0'] when minimizing the loss.\n",
      "WARNING:tensorflow:Gradients do not exist for variables ['transformer_block/tfxl_net_model/transformer/mask_emb:0', 'transformer_block/tfxl_net_model/transformer/layer_._0/rel_attn/r_s_bias:0', 'transformer_block/tfxl_net_model/transformer/layer_._0/rel_attn/seg_embed:0', 'transformer_block/tfxl_net_model/transformer/layer_._1/rel_attn/r_s_bias:0', 'transformer_block/tfxl_net_model/transformer/layer_._1/rel_attn/seg_embed:0'] when minimizing the loss.\n",
      "WARNING:tensorflow:Gradients do not exist for variables ['transformer_block/tfxl_net_model/transformer/mask_emb:0', 'transformer_block/tfxl_net_model/transformer/layer_._0/rel_attn/r_s_bias:0', 'transformer_block/tfxl_net_model/transformer/layer_._0/rel_attn/seg_embed:0', 'transformer_block/tfxl_net_model/transformer/layer_._1/rel_attn/r_s_bias:0', 'transformer_block/tfxl_net_model/transformer/layer_._1/rel_attn/seg_embed:0'] when minimizing the loss.\n",
      "WARNING:tensorflow:Gradients do not exist for variables ['transformer_block/tfxl_net_model/transformer/mask_emb:0', 'transformer_block/tfxl_net_model/transformer/layer_._0/rel_attn/r_s_bias:0', 'transformer_block/tfxl_net_model/transformer/layer_._0/rel_attn/seg_embed:0', 'transformer_block/tfxl_net_model/transformer/layer_._1/rel_attn/r_s_bias:0', 'transformer_block/tfxl_net_model/transformer/layer_._1/rel_attn/seg_embed:0'] when minimizing the loss.\n",
      "WARNING:tensorflow:Gradients do not exist for variables ['transformer_block/tfxl_net_model/transformer/mask_emb:0', 'transformer_block/tfxl_net_model/transformer/layer_._0/rel_attn/r_s_bias:0', 'transformer_block/tfxl_net_model/transformer/layer_._0/rel_attn/seg_embed:0', 'transformer_block/tfxl_net_model/transformer/layer_._1/rel_attn/r_s_bias:0', 'transformer_block/tfxl_net_model/transformer/layer_._1/rel_attn/seg_embed:0'] when minimizing the loss.\n",
      "WARNING:tensorflow:Gradients do not exist for variables ['transformer_block/tfxl_net_model/transformer/mask_emb:0', 'transformer_block/tfxl_net_model/transformer/layer_._0/rel_attn/r_s_bias:0', 'transformer_block/tfxl_net_model/transformer/layer_._0/rel_attn/seg_embed:0', 'transformer_block/tfxl_net_model/transformer/layer_._1/rel_attn/r_s_bias:0', 'transformer_block/tfxl_net_model/transformer/layer_._1/rel_attn/seg_embed:0'] when minimizing the loss.\n",
      "WARNING:tensorflow:Gradients do not exist for variables ['transformer_block/tfxl_net_model/transformer/mask_emb:0', 'transformer_block/tfxl_net_model/transformer/layer_._0/rel_attn/r_s_bias:0', 'transformer_block/tfxl_net_model/transformer/layer_._0/rel_attn/seg_embed:0', 'transformer_block/tfxl_net_model/transformer/layer_._1/rel_attn/r_s_bias:0', 'transformer_block/tfxl_net_model/transformer/layer_._1/rel_attn/seg_embed:0'] when minimizing the loss.\n",
      "WARNING:tensorflow:Gradients do not exist for variables ['transformer_block/tfxl_net_model/transformer/mask_emb:0', 'transformer_block/tfxl_net_model/transformer/layer_._0/rel_attn/r_s_bias:0', 'transformer_block/tfxl_net_model/transformer/layer_._0/rel_attn/seg_embed:0', 'transformer_block/tfxl_net_model/transformer/layer_._1/rel_attn/r_s_bias:0', 'transformer_block/tfxl_net_model/transformer/layer_._1/rel_attn/seg_embed:0'] when minimizing the loss.\n",
      "WARNING:tensorflow:Gradients do not exist for variables ['transformer_block/tfxl_net_model/transformer/mask_emb:0', 'transformer_block/tfxl_net_model/transformer/layer_._0/rel_attn/r_s_bias:0', 'transformer_block/tfxl_net_model/transformer/layer_._0/rel_attn/seg_embed:0', 'transformer_block/tfxl_net_model/transformer/layer_._1/rel_attn/r_s_bias:0', 'transformer_block/tfxl_net_model/transformer/layer_._1/rel_attn/seg_embed:0'] when minimizing the loss.\n",
      "WARNING:tensorflow:Gradients do not exist for variables ['transformer_block/tfxl_net_model/transformer/mask_emb:0', 'transformer_block/tfxl_net_model/transformer/layer_._0/rel_attn/r_s_bias:0', 'transformer_block/tfxl_net_model/transformer/layer_._0/rel_attn/seg_embed:0', 'transformer_block/tfxl_net_model/transformer/layer_._1/rel_attn/r_s_bias:0', 'transformer_block/tfxl_net_model/transformer/layer_._1/rel_attn/seg_embed:0'] when minimizing the loss.\n",
      "WARNING:tensorflow:Gradients do not exist for variables ['transformer_block/tfxl_net_model/transformer/mask_emb:0', 'transformer_block/tfxl_net_model/transformer/layer_._0/rel_attn/r_s_bias:0', 'transformer_block/tfxl_net_model/transformer/layer_._0/rel_attn/seg_embed:0', 'transformer_block/tfxl_net_model/transformer/layer_._1/rel_attn/r_s_bias:0', 'transformer_block/tfxl_net_model/transformer/layer_._1/rel_attn/seg_embed:0'] when minimizing the loss.\n",
      "WARNING:tensorflow:Gradients do not exist for variables ['transformer_block/tfxl_net_model/transformer/mask_emb:0', 'transformer_block/tfxl_net_model/transformer/layer_._0/rel_attn/r_s_bias:0', 'transformer_block/tfxl_net_model/transformer/layer_._0/rel_attn/seg_embed:0', 'transformer_block/tfxl_net_model/transformer/layer_._1/rel_attn/r_s_bias:0', 'transformer_block/tfxl_net_model/transformer/layer_._1/rel_attn/seg_embed:0'] when minimizing the loss.\n",
      "WARNING:tensorflow:Gradients do not exist for variables ['transformer_block/tfxl_net_model/transformer/mask_emb:0', 'transformer_block/tfxl_net_model/transformer/layer_._0/rel_attn/r_s_bias:0', 'transformer_block/tfxl_net_model/transformer/layer_._0/rel_attn/seg_embed:0', 'transformer_block/tfxl_net_model/transformer/layer_._1/rel_attn/r_s_bias:0', 'transformer_block/tfxl_net_model/transformer/layer_._1/rel_attn/seg_embed:0'] when minimizing the loss.\n",
      "WARNING:tensorflow:Gradients do not exist for variables ['transformer_block/tfxl_net_model/transformer/mask_emb:0', 'transformer_block/tfxl_net_model/transformer/layer_._0/rel_attn/r_s_bias:0', 'transformer_block/tfxl_net_model/transformer/layer_._0/rel_attn/seg_embed:0', 'transformer_block/tfxl_net_model/transformer/layer_._1/rel_attn/r_s_bias:0', 'transformer_block/tfxl_net_model/transformer/layer_._1/rel_attn/seg_embed:0'] when minimizing the loss.\n",
      "WARNING:tensorflow:Gradients do not exist for variables ['transformer_block/tfxl_net_model/transformer/mask_emb:0', 'transformer_block/tfxl_net_model/transformer/layer_._0/rel_attn/r_s_bias:0', 'transformer_block/tfxl_net_model/transformer/layer_._0/rel_attn/seg_embed:0', 'transformer_block/tfxl_net_model/transformer/layer_._1/rel_attn/r_s_bias:0', 'transformer_block/tfxl_net_model/transformer/layer_._1/rel_attn/seg_embed:0'] when minimizing the loss.\n",
      "WARNING:tensorflow:Gradients do not exist for variables ['transformer_block/tfxl_net_model/transformer/mask_emb:0', 'transformer_block/tfxl_net_model/transformer/layer_._0/rel_attn/r_s_bias:0', 'transformer_block/tfxl_net_model/transformer/layer_._0/rel_attn/seg_embed:0', 'transformer_block/tfxl_net_model/transformer/layer_._1/rel_attn/r_s_bias:0', 'transformer_block/tfxl_net_model/transformer/layer_._1/rel_attn/seg_embed:0'] when minimizing the loss.\n",
      "WARNING:tensorflow:Gradients do not exist for variables ['transformer_block/tfxl_net_model/transformer/mask_emb:0', 'transformer_block/tfxl_net_model/transformer/layer_._0/rel_attn/r_s_bias:0', 'transformer_block/tfxl_net_model/transformer/layer_._0/rel_attn/seg_embed:0', 'transformer_block/tfxl_net_model/transformer/layer_._1/rel_attn/r_s_bias:0', 'transformer_block/tfxl_net_model/transformer/layer_._1/rel_attn/seg_embed:0'] when minimizing the loss.\n",
      "WARNING:tensorflow:Gradients do not exist for variables ['transformer_block/tfxl_net_model/transformer/mask_emb:0', 'transformer_block/tfxl_net_model/transformer/layer_._0/rel_attn/r_s_bias:0', 'transformer_block/tfxl_net_model/transformer/layer_._0/rel_attn/seg_embed:0', 'transformer_block/tfxl_net_model/transformer/layer_._1/rel_attn/r_s_bias:0', 'transformer_block/tfxl_net_model/transformer/layer_._1/rel_attn/seg_embed:0'] when minimizing the loss.\n",
      "WARNING:tensorflow:Gradients do not exist for variables ['transformer_block/tfxl_net_model/transformer/mask_emb:0', 'transformer_block/tfxl_net_model/transformer/layer_._0/rel_attn/r_s_bias:0', 'transformer_block/tfxl_net_model/transformer/layer_._0/rel_attn/seg_embed:0', 'transformer_block/tfxl_net_model/transformer/layer_._1/rel_attn/r_s_bias:0', 'transformer_block/tfxl_net_model/transformer/layer_._1/rel_attn/seg_embed:0'] when minimizing the loss.\n",
      "WARNING:tensorflow:Gradients do not exist for variables ['transformer_block/tfxl_net_model/transformer/mask_emb:0', 'transformer_block/tfxl_net_model/transformer/layer_._0/rel_attn/r_s_bias:0', 'transformer_block/tfxl_net_model/transformer/layer_._0/rel_attn/seg_embed:0', 'transformer_block/tfxl_net_model/transformer/layer_._1/rel_attn/r_s_bias:0', 'transformer_block/tfxl_net_model/transformer/layer_._1/rel_attn/seg_embed:0'] when minimizing the loss.\n",
      "WARNING:tensorflow:Gradients do not exist for variables ['transformer_block/tfxl_net_model/transformer/mask_emb:0', 'transformer_block/tfxl_net_model/transformer/layer_._0/rel_attn/r_s_bias:0', 'transformer_block/tfxl_net_model/transformer/layer_._0/rel_attn/seg_embed:0', 'transformer_block/tfxl_net_model/transformer/layer_._1/rel_attn/r_s_bias:0', 'transformer_block/tfxl_net_model/transformer/layer_._1/rel_attn/seg_embed:0'] when minimizing the loss.\n",
      "WARNING:tensorflow:Gradients do not exist for variables ['transformer_block/tfxl_net_model/transformer/mask_emb:0', 'transformer_block/tfxl_net_model/transformer/layer_._0/rel_attn/r_s_bias:0', 'transformer_block/tfxl_net_model/transformer/layer_._0/rel_attn/seg_embed:0', 'transformer_block/tfxl_net_model/transformer/layer_._1/rel_attn/r_s_bias:0', 'transformer_block/tfxl_net_model/transformer/layer_._1/rel_attn/seg_embed:0'] when minimizing the loss.\n",
      "WARNING:tensorflow:Gradients do not exist for variables ['transformer_block/tfxl_net_model/transformer/mask_emb:0', 'transformer_block/tfxl_net_model/transformer/layer_._0/rel_attn/r_s_bias:0', 'transformer_block/tfxl_net_model/transformer/layer_._0/rel_attn/seg_embed:0', 'transformer_block/tfxl_net_model/transformer/layer_._1/rel_attn/r_s_bias:0', 'transformer_block/tfxl_net_model/transformer/layer_._1/rel_attn/seg_embed:0'] when minimizing the loss.\n",
      "WARNING:tensorflow:Gradients do not exist for variables ['transformer_block/tfxl_net_model/transformer/mask_emb:0', 'transformer_block/tfxl_net_model/transformer/layer_._0/rel_attn/r_s_bias:0', 'transformer_block/tfxl_net_model/transformer/layer_._0/rel_attn/seg_embed:0', 'transformer_block/tfxl_net_model/transformer/layer_._1/rel_attn/r_s_bias:0', 'transformer_block/tfxl_net_model/transformer/layer_._1/rel_attn/seg_embed:0'] when minimizing the loss.\n",
      "WARNING:tensorflow:Gradients do not exist for variables ['transformer_block/tfxl_net_model/transformer/mask_emb:0', 'transformer_block/tfxl_net_model/transformer/layer_._0/rel_attn/r_s_bias:0', 'transformer_block/tfxl_net_model/transformer/layer_._0/rel_attn/seg_embed:0', 'transformer_block/tfxl_net_model/transformer/layer_._1/rel_attn/r_s_bias:0', 'transformer_block/tfxl_net_model/transformer/layer_._1/rel_attn/seg_embed:0'] when minimizing the loss.\n",
      "WARNING:tensorflow:Gradients do not exist for variables ['transformer_block/tfxl_net_model/transformer/mask_emb:0', 'transformer_block/tfxl_net_model/transformer/layer_._0/rel_attn/r_s_bias:0', 'transformer_block/tfxl_net_model/transformer/layer_._0/rel_attn/seg_embed:0', 'transformer_block/tfxl_net_model/transformer/layer_._1/rel_attn/r_s_bias:0', 'transformer_block/tfxl_net_model/transformer/layer_._1/rel_attn/seg_embed:0'] when minimizing the loss.\n",
      "WARNING:tensorflow:Gradients do not exist for variables ['transformer_block/tfxl_net_model/transformer/mask_emb:0', 'transformer_block/tfxl_net_model/transformer/layer_._0/rel_attn/r_s_bias:0', 'transformer_block/tfxl_net_model/transformer/layer_._0/rel_attn/seg_embed:0', 'transformer_block/tfxl_net_model/transformer/layer_._1/rel_attn/r_s_bias:0', 'transformer_block/tfxl_net_model/transformer/layer_._1/rel_attn/seg_embed:0'] when minimizing the loss.\n",
      "WARNING:tensorflow:Gradients do not exist for variables ['transformer_block/tfxl_net_model/transformer/mask_emb:0', 'transformer_block/tfxl_net_model/transformer/layer_._0/rel_attn/r_s_bias:0', 'transformer_block/tfxl_net_model/transformer/layer_._0/rel_attn/seg_embed:0', 'transformer_block/tfxl_net_model/transformer/layer_._1/rel_attn/r_s_bias:0', 'transformer_block/tfxl_net_model/transformer/layer_._1/rel_attn/seg_embed:0'] when minimizing the loss.\n",
      "WARNING:tensorflow:Gradients do not exist for variables ['transformer_block/tfxl_net_model/transformer/mask_emb:0', 'transformer_block/tfxl_net_model/transformer/layer_._0/rel_attn/r_s_bias:0', 'transformer_block/tfxl_net_model/transformer/layer_._0/rel_attn/seg_embed:0', 'transformer_block/tfxl_net_model/transformer/layer_._1/rel_attn/r_s_bias:0', 'transformer_block/tfxl_net_model/transformer/layer_._1/rel_attn/seg_embed:0'] when minimizing the loss.\n",
      "WARNING:tensorflow:Gradients do not exist for variables ['transformer_block/tfxl_net_model/transformer/mask_emb:0', 'transformer_block/tfxl_net_model/transformer/layer_._0/rel_attn/r_s_bias:0', 'transformer_block/tfxl_net_model/transformer/layer_._0/rel_attn/seg_embed:0', 'transformer_block/tfxl_net_model/transformer/layer_._1/rel_attn/r_s_bias:0', 'transformer_block/tfxl_net_model/transformer/layer_._1/rel_attn/seg_embed:0'] when minimizing the loss.\n",
      "WARNING:tensorflow:Gradients do not exist for variables ['transformer_block/tfxl_net_model/transformer/mask_emb:0', 'transformer_block/tfxl_net_model/transformer/layer_._0/rel_attn/r_s_bias:0', 'transformer_block/tfxl_net_model/transformer/layer_._0/rel_attn/seg_embed:0', 'transformer_block/tfxl_net_model/transformer/layer_._1/rel_attn/r_s_bias:0', 'transformer_block/tfxl_net_model/transformer/layer_._1/rel_attn/seg_embed:0'] when minimizing the loss.\n",
      "WARNING:tensorflow:Gradients do not exist for variables ['transformer_block/tfxl_net_model/transformer/mask_emb:0', 'transformer_block/tfxl_net_model/transformer/layer_._0/rel_attn/r_s_bias:0', 'transformer_block/tfxl_net_model/transformer/layer_._0/rel_attn/seg_embed:0', 'transformer_block/tfxl_net_model/transformer/layer_._1/rel_attn/r_s_bias:0', 'transformer_block/tfxl_net_model/transformer/layer_._1/rel_attn/seg_embed:0'] when minimizing the loss.\n",
      "WARNING:tensorflow:Gradients do not exist for variables ['transformer_block/tfxl_net_model/transformer/mask_emb:0', 'transformer_block/tfxl_net_model/transformer/layer_._0/rel_attn/r_s_bias:0', 'transformer_block/tfxl_net_model/transformer/layer_._0/rel_attn/seg_embed:0', 'transformer_block/tfxl_net_model/transformer/layer_._1/rel_attn/r_s_bias:0', 'transformer_block/tfxl_net_model/transformer/layer_._1/rel_attn/seg_embed:0'] when minimizing the loss.\n",
      "WARNING:tensorflow:Gradients do not exist for variables ['transformer_block/tfxl_net_model/transformer/mask_emb:0', 'transformer_block/tfxl_net_model/transformer/layer_._0/rel_attn/r_s_bias:0', 'transformer_block/tfxl_net_model/transformer/layer_._0/rel_attn/seg_embed:0', 'transformer_block/tfxl_net_model/transformer/layer_._1/rel_attn/r_s_bias:0', 'transformer_block/tfxl_net_model/transformer/layer_._1/rel_attn/seg_embed:0'] when minimizing the loss.\n",
      "WARNING:tensorflow:Gradients do not exist for variables ['transformer_block/tfxl_net_model/transformer/mask_emb:0', 'transformer_block/tfxl_net_model/transformer/layer_._0/rel_attn/r_s_bias:0', 'transformer_block/tfxl_net_model/transformer/layer_._0/rel_attn/seg_embed:0', 'transformer_block/tfxl_net_model/transformer/layer_._1/rel_attn/r_s_bias:0', 'transformer_block/tfxl_net_model/transformer/layer_._1/rel_attn/seg_embed:0'] when minimizing the loss.\n",
      "WARNING:tensorflow:Gradients do not exist for variables ['transformer_block/tfxl_net_model/transformer/mask_emb:0', 'transformer_block/tfxl_net_model/transformer/layer_._0/rel_attn/r_s_bias:0', 'transformer_block/tfxl_net_model/transformer/layer_._0/rel_attn/seg_embed:0', 'transformer_block/tfxl_net_model/transformer/layer_._1/rel_attn/r_s_bias:0', 'transformer_block/tfxl_net_model/transformer/layer_._1/rel_attn/seg_embed:0'] when minimizing the loss.\n",
      "WARNING:tensorflow:Gradients do not exist for variables ['transformer_block/tfxl_net_model/transformer/mask_emb:0', 'transformer_block/tfxl_net_model/transformer/layer_._0/rel_attn/r_s_bias:0', 'transformer_block/tfxl_net_model/transformer/layer_._0/rel_attn/seg_embed:0', 'transformer_block/tfxl_net_model/transformer/layer_._1/rel_attn/r_s_bias:0', 'transformer_block/tfxl_net_model/transformer/layer_._1/rel_attn/seg_embed:0'] when minimizing the loss.\n",
      "WARNING:tensorflow:Gradients do not exist for variables ['transformer_block/tfxl_net_model/transformer/mask_emb:0', 'transformer_block/tfxl_net_model/transformer/layer_._0/rel_attn/r_s_bias:0', 'transformer_block/tfxl_net_model/transformer/layer_._0/rel_attn/seg_embed:0', 'transformer_block/tfxl_net_model/transformer/layer_._1/rel_attn/r_s_bias:0', 'transformer_block/tfxl_net_model/transformer/layer_._1/rel_attn/seg_embed:0'] when minimizing the loss.\n",
      "WARNING:tensorflow:Gradients do not exist for variables ['transformer_block/tfxl_net_model/transformer/mask_emb:0', 'transformer_block/tfxl_net_model/transformer/layer_._0/rel_attn/r_s_bias:0', 'transformer_block/tfxl_net_model/transformer/layer_._0/rel_attn/seg_embed:0', 'transformer_block/tfxl_net_model/transformer/layer_._1/rel_attn/r_s_bias:0', 'transformer_block/tfxl_net_model/transformer/layer_._1/rel_attn/seg_embed:0'] when minimizing the loss.\n",
      "WARNING:tensorflow:Gradients do not exist for variables ['transformer_block/tfxl_net_model/transformer/mask_emb:0', 'transformer_block/tfxl_net_model/transformer/layer_._0/rel_attn/r_s_bias:0', 'transformer_block/tfxl_net_model/transformer/layer_._0/rel_attn/seg_embed:0', 'transformer_block/tfxl_net_model/transformer/layer_._1/rel_attn/r_s_bias:0', 'transformer_block/tfxl_net_model/transformer/layer_._1/rel_attn/seg_embed:0'] when minimizing the loss.\n",
      "WARNING:tensorflow:Gradients do not exist for variables ['transformer_block/tfxl_net_model/transformer/mask_emb:0', 'transformer_block/tfxl_net_model/transformer/layer_._0/rel_attn/r_s_bias:0', 'transformer_block/tfxl_net_model/transformer/layer_._0/rel_attn/seg_embed:0', 'transformer_block/tfxl_net_model/transformer/layer_._1/rel_attn/r_s_bias:0', 'transformer_block/tfxl_net_model/transformer/layer_._1/rel_attn/seg_embed:0'] when minimizing the loss.\n",
      "WARNING:tensorflow:Gradients do not exist for variables ['transformer_block/tfxl_net_model/transformer/mask_emb:0', 'transformer_block/tfxl_net_model/transformer/layer_._0/rel_attn/r_s_bias:0', 'transformer_block/tfxl_net_model/transformer/layer_._0/rel_attn/seg_embed:0', 'transformer_block/tfxl_net_model/transformer/layer_._1/rel_attn/r_s_bias:0', 'transformer_block/tfxl_net_model/transformer/layer_._1/rel_attn/seg_embed:0'] when minimizing the loss.\n",
      "WARNING:tensorflow:Gradients do not exist for variables ['transformer_block/tfxl_net_model/transformer/mask_emb:0', 'transformer_block/tfxl_net_model/transformer/layer_._0/rel_attn/r_s_bias:0', 'transformer_block/tfxl_net_model/transformer/layer_._0/rel_attn/seg_embed:0', 'transformer_block/tfxl_net_model/transformer/layer_._1/rel_attn/r_s_bias:0', 'transformer_block/tfxl_net_model/transformer/layer_._1/rel_attn/seg_embed:0'] when minimizing the loss.\n",
      "WARNING:tensorflow:Gradients do not exist for variables ['transformer_block/tfxl_net_model/transformer/mask_emb:0', 'transformer_block/tfxl_net_model/transformer/layer_._0/rel_attn/r_s_bias:0', 'transformer_block/tfxl_net_model/transformer/layer_._0/rel_attn/seg_embed:0', 'transformer_block/tfxl_net_model/transformer/layer_._1/rel_attn/r_s_bias:0', 'transformer_block/tfxl_net_model/transformer/layer_._1/rel_attn/seg_embed:0'] when minimizing the loss.\n",
      "WARNING:tensorflow:Gradients do not exist for variables ['transformer_block/tfxl_net_model/transformer/mask_emb:0', 'transformer_block/tfxl_net_model/transformer/layer_._0/rel_attn/r_s_bias:0', 'transformer_block/tfxl_net_model/transformer/layer_._0/rel_attn/seg_embed:0', 'transformer_block/tfxl_net_model/transformer/layer_._1/rel_attn/r_s_bias:0', 'transformer_block/tfxl_net_model/transformer/layer_._1/rel_attn/seg_embed:0'] when minimizing the loss.\n",
      "WARNING:tensorflow:Gradients do not exist for variables ['transformer_block/tfxl_net_model/transformer/mask_emb:0', 'transformer_block/tfxl_net_model/transformer/layer_._0/rel_attn/r_s_bias:0', 'transformer_block/tfxl_net_model/transformer/layer_._0/rel_attn/seg_embed:0', 'transformer_block/tfxl_net_model/transformer/layer_._1/rel_attn/r_s_bias:0', 'transformer_block/tfxl_net_model/transformer/layer_._1/rel_attn/seg_embed:0'] when minimizing the loss.\n",
      "WARNING:tensorflow:Gradients do not exist for variables ['transformer_block/tfxl_net_model/transformer/mask_emb:0', 'transformer_block/tfxl_net_model/transformer/layer_._0/rel_attn/r_s_bias:0', 'transformer_block/tfxl_net_model/transformer/layer_._0/rel_attn/seg_embed:0', 'transformer_block/tfxl_net_model/transformer/layer_._1/rel_attn/r_s_bias:0', 'transformer_block/tfxl_net_model/transformer/layer_._1/rel_attn/seg_embed:0'] when minimizing the loss.\n",
      "WARNING:tensorflow:Gradients do not exist for variables ['transformer_block/tfxl_net_model/transformer/mask_emb:0', 'transformer_block/tfxl_net_model/transformer/layer_._0/rel_attn/r_s_bias:0', 'transformer_block/tfxl_net_model/transformer/layer_._0/rel_attn/seg_embed:0', 'transformer_block/tfxl_net_model/transformer/layer_._1/rel_attn/r_s_bias:0', 'transformer_block/tfxl_net_model/transformer/layer_._1/rel_attn/seg_embed:0'] when minimizing the loss.\n",
      "WARNING:tensorflow:Gradients do not exist for variables ['transformer_block/tfxl_net_model/transformer/mask_emb:0', 'transformer_block/tfxl_net_model/transformer/layer_._0/rel_attn/r_s_bias:0', 'transformer_block/tfxl_net_model/transformer/layer_._0/rel_attn/seg_embed:0', 'transformer_block/tfxl_net_model/transformer/layer_._1/rel_attn/r_s_bias:0', 'transformer_block/tfxl_net_model/transformer/layer_._1/rel_attn/seg_embed:0'] when minimizing the loss.\n",
      "WARNING:tensorflow:Gradients do not exist for variables ['transformer_block/tfxl_net_model/transformer/mask_emb:0', 'transformer_block/tfxl_net_model/transformer/layer_._0/rel_attn/r_s_bias:0', 'transformer_block/tfxl_net_model/transformer/layer_._0/rel_attn/seg_embed:0', 'transformer_block/tfxl_net_model/transformer/layer_._1/rel_attn/r_s_bias:0', 'transformer_block/tfxl_net_model/transformer/layer_._1/rel_attn/seg_embed:0'] when minimizing the loss.\n",
      "WARNING:tensorflow:Gradients do not exist for variables ['transformer_block/tfxl_net_model/transformer/mask_emb:0', 'transformer_block/tfxl_net_model/transformer/layer_._0/rel_attn/r_s_bias:0', 'transformer_block/tfxl_net_model/transformer/layer_._0/rel_attn/seg_embed:0', 'transformer_block/tfxl_net_model/transformer/layer_._1/rel_attn/r_s_bias:0', 'transformer_block/tfxl_net_model/transformer/layer_._1/rel_attn/seg_embed:0'] when minimizing the loss.\n",
      "WARNING:tensorflow:Gradients do not exist for variables ['transformer_block/tfxl_net_model/transformer/mask_emb:0', 'transformer_block/tfxl_net_model/transformer/layer_._0/rel_attn/r_s_bias:0', 'transformer_block/tfxl_net_model/transformer/layer_._0/rel_attn/seg_embed:0', 'transformer_block/tfxl_net_model/transformer/layer_._1/rel_attn/r_s_bias:0', 'transformer_block/tfxl_net_model/transformer/layer_._1/rel_attn/seg_embed:0'] when minimizing the loss.\n",
      "WARNING:tensorflow:Gradients do not exist for variables ['transformer_block/tfxl_net_model/transformer/mask_emb:0', 'transformer_block/tfxl_net_model/transformer/layer_._0/rel_attn/r_s_bias:0', 'transformer_block/tfxl_net_model/transformer/layer_._0/rel_attn/seg_embed:0', 'transformer_block/tfxl_net_model/transformer/layer_._1/rel_attn/r_s_bias:0', 'transformer_block/tfxl_net_model/transformer/layer_._1/rel_attn/seg_embed:0'] when minimizing the loss.\n",
      "WARNING:tensorflow:Gradients do not exist for variables ['transformer_block/tfxl_net_model/transformer/mask_emb:0', 'transformer_block/tfxl_net_model/transformer/layer_._0/rel_attn/r_s_bias:0', 'transformer_block/tfxl_net_model/transformer/layer_._0/rel_attn/seg_embed:0', 'transformer_block/tfxl_net_model/transformer/layer_._1/rel_attn/r_s_bias:0', 'transformer_block/tfxl_net_model/transformer/layer_._1/rel_attn/seg_embed:0'] when minimizing the loss.\n",
      "WARNING:tensorflow:Gradients do not exist for variables ['transformer_block/tfxl_net_model/transformer/mask_emb:0', 'transformer_block/tfxl_net_model/transformer/layer_._0/rel_attn/r_s_bias:0', 'transformer_block/tfxl_net_model/transformer/layer_._0/rel_attn/seg_embed:0', 'transformer_block/tfxl_net_model/transformer/layer_._1/rel_attn/r_s_bias:0', 'transformer_block/tfxl_net_model/transformer/layer_._1/rel_attn/seg_embed:0'] when minimizing the loss.\n",
      "WARNING:tensorflow:Gradients do not exist for variables ['transformer_block/tfxl_net_model/transformer/mask_emb:0', 'transformer_block/tfxl_net_model/transformer/layer_._0/rel_attn/r_s_bias:0', 'transformer_block/tfxl_net_model/transformer/layer_._0/rel_attn/seg_embed:0', 'transformer_block/tfxl_net_model/transformer/layer_._1/rel_attn/r_s_bias:0', 'transformer_block/tfxl_net_model/transformer/layer_._1/rel_attn/seg_embed:0'] when minimizing the loss.\n",
      "WARNING:tensorflow:Gradients do not exist for variables ['transformer_block/tfxl_net_model/transformer/mask_emb:0', 'transformer_block/tfxl_net_model/transformer/layer_._0/rel_attn/r_s_bias:0', 'transformer_block/tfxl_net_model/transformer/layer_._0/rel_attn/seg_embed:0', 'transformer_block/tfxl_net_model/transformer/layer_._1/rel_attn/r_s_bias:0', 'transformer_block/tfxl_net_model/transformer/layer_._1/rel_attn/seg_embed:0'] when minimizing the loss.\n",
      "WARNING:tensorflow:Gradients do not exist for variables ['transformer_block/tfxl_net_model/transformer/mask_emb:0', 'transformer_block/tfxl_net_model/transformer/layer_._0/rel_attn/r_s_bias:0', 'transformer_block/tfxl_net_model/transformer/layer_._0/rel_attn/seg_embed:0', 'transformer_block/tfxl_net_model/transformer/layer_._1/rel_attn/r_s_bias:0', 'transformer_block/tfxl_net_model/transformer/layer_._1/rel_attn/seg_embed:0'] when minimizing the loss.\n",
      "WARNING:tensorflow:Gradients do not exist for variables ['transformer_block/tfxl_net_model/transformer/mask_emb:0', 'transformer_block/tfxl_net_model/transformer/layer_._0/rel_attn/r_s_bias:0', 'transformer_block/tfxl_net_model/transformer/layer_._0/rel_attn/seg_embed:0', 'transformer_block/tfxl_net_model/transformer/layer_._1/rel_attn/r_s_bias:0', 'transformer_block/tfxl_net_model/transformer/layer_._1/rel_attn/seg_embed:0'] when minimizing the loss.\n",
      "WARNING:tensorflow:Gradients do not exist for variables ['transformer_block/tfxl_net_model/transformer/mask_emb:0', 'transformer_block/tfxl_net_model/transformer/layer_._0/rel_attn/r_s_bias:0', 'transformer_block/tfxl_net_model/transformer/layer_._0/rel_attn/seg_embed:0', 'transformer_block/tfxl_net_model/transformer/layer_._1/rel_attn/r_s_bias:0', 'transformer_block/tfxl_net_model/transformer/layer_._1/rel_attn/seg_embed:0'] when minimizing the loss.\n",
      "WARNING:tensorflow:Gradients do not exist for variables ['transformer_block/tfxl_net_model/transformer/mask_emb:0', 'transformer_block/tfxl_net_model/transformer/layer_._0/rel_attn/r_s_bias:0', 'transformer_block/tfxl_net_model/transformer/layer_._0/rel_attn/seg_embed:0', 'transformer_block/tfxl_net_model/transformer/layer_._1/rel_attn/r_s_bias:0', 'transformer_block/tfxl_net_model/transformer/layer_._1/rel_attn/seg_embed:0'] when minimizing the loss.\n",
      "WARNING:tensorflow:Gradients do not exist for variables ['transformer_block/tfxl_net_model/transformer/mask_emb:0', 'transformer_block/tfxl_net_model/transformer/layer_._0/rel_attn/r_s_bias:0', 'transformer_block/tfxl_net_model/transformer/layer_._0/rel_attn/seg_embed:0', 'transformer_block/tfxl_net_model/transformer/layer_._1/rel_attn/r_s_bias:0', 'transformer_block/tfxl_net_model/transformer/layer_._1/rel_attn/seg_embed:0'] when minimizing the loss.\n",
      "WARNING:tensorflow:Gradients do not exist for variables ['transformer_block/tfxl_net_model/transformer/mask_emb:0', 'transformer_block/tfxl_net_model/transformer/layer_._0/rel_attn/r_s_bias:0', 'transformer_block/tfxl_net_model/transformer/layer_._0/rel_attn/seg_embed:0', 'transformer_block/tfxl_net_model/transformer/layer_._1/rel_attn/r_s_bias:0', 'transformer_block/tfxl_net_model/transformer/layer_._1/rel_attn/seg_embed:0'] when minimizing the loss.\n",
      "WARNING:tensorflow:Gradients do not exist for variables ['transformer_block/tfxl_net_model/transformer/mask_emb:0', 'transformer_block/tfxl_net_model/transformer/layer_._0/rel_attn/r_s_bias:0', 'transformer_block/tfxl_net_model/transformer/layer_._0/rel_attn/seg_embed:0', 'transformer_block/tfxl_net_model/transformer/layer_._1/rel_attn/r_s_bias:0', 'transformer_block/tfxl_net_model/transformer/layer_._1/rel_attn/seg_embed:0'] when minimizing the loss.\n",
      "WARNING:tensorflow:Gradients do not exist for variables ['transformer_block/tfxl_net_model/transformer/mask_emb:0', 'transformer_block/tfxl_net_model/transformer/layer_._0/rel_attn/r_s_bias:0', 'transformer_block/tfxl_net_model/transformer/layer_._0/rel_attn/seg_embed:0', 'transformer_block/tfxl_net_model/transformer/layer_._1/rel_attn/r_s_bias:0', 'transformer_block/tfxl_net_model/transformer/layer_._1/rel_attn/seg_embed:0'] when minimizing the loss.\n",
      "WARNING:tensorflow:Gradients do not exist for variables ['transformer_block/tfxl_net_model/transformer/mask_emb:0', 'transformer_block/tfxl_net_model/transformer/layer_._0/rel_attn/r_s_bias:0', 'transformer_block/tfxl_net_model/transformer/layer_._0/rel_attn/seg_embed:0', 'transformer_block/tfxl_net_model/transformer/layer_._1/rel_attn/r_s_bias:0', 'transformer_block/tfxl_net_model/transformer/layer_._1/rel_attn/seg_embed:0'] when minimizing the loss.\n",
      "WARNING:tensorflow:Gradients do not exist for variables ['transformer_block/tfxl_net_model/transformer/mask_emb:0', 'transformer_block/tfxl_net_model/transformer/layer_._0/rel_attn/r_s_bias:0', 'transformer_block/tfxl_net_model/transformer/layer_._0/rel_attn/seg_embed:0', 'transformer_block/tfxl_net_model/transformer/layer_._1/rel_attn/r_s_bias:0', 'transformer_block/tfxl_net_model/transformer/layer_._1/rel_attn/seg_embed:0'] when minimizing the loss.\n",
      "WARNING:tensorflow:Gradients do not exist for variables ['transformer_block/tfxl_net_model/transformer/mask_emb:0', 'transformer_block/tfxl_net_model/transformer/layer_._0/rel_attn/r_s_bias:0', 'transformer_block/tfxl_net_model/transformer/layer_._0/rel_attn/seg_embed:0', 'transformer_block/tfxl_net_model/transformer/layer_._1/rel_attn/r_s_bias:0', 'transformer_block/tfxl_net_model/transformer/layer_._1/rel_attn/seg_embed:0'] when minimizing the loss.\n",
      "WARNING:tensorflow:Gradients do not exist for variables ['transformer_block/tfxl_net_model/transformer/mask_emb:0', 'transformer_block/tfxl_net_model/transformer/layer_._0/rel_attn/r_s_bias:0', 'transformer_block/tfxl_net_model/transformer/layer_._0/rel_attn/seg_embed:0', 'transformer_block/tfxl_net_model/transformer/layer_._1/rel_attn/r_s_bias:0', 'transformer_block/tfxl_net_model/transformer/layer_._1/rel_attn/seg_embed:0'] when minimizing the loss.\n",
      "WARNING:tensorflow:Gradients do not exist for variables ['transformer_block/tfxl_net_model/transformer/mask_emb:0', 'transformer_block/tfxl_net_model/transformer/layer_._0/rel_attn/r_s_bias:0', 'transformer_block/tfxl_net_model/transformer/layer_._0/rel_attn/seg_embed:0', 'transformer_block/tfxl_net_model/transformer/layer_._1/rel_attn/r_s_bias:0', 'transformer_block/tfxl_net_model/transformer/layer_._1/rel_attn/seg_embed:0'] when minimizing the loss.\n",
      "WARNING:tensorflow:Gradients do not exist for variables ['transformer_block/tfxl_net_model/transformer/mask_emb:0', 'transformer_block/tfxl_net_model/transformer/layer_._0/rel_attn/r_s_bias:0', 'transformer_block/tfxl_net_model/transformer/layer_._0/rel_attn/seg_embed:0', 'transformer_block/tfxl_net_model/transformer/layer_._1/rel_attn/r_s_bias:0', 'transformer_block/tfxl_net_model/transformer/layer_._1/rel_attn/seg_embed:0'] when minimizing the loss.\n",
      "WARNING:tensorflow:Gradients do not exist for variables ['transformer_block/tfxl_net_model/transformer/mask_emb:0', 'transformer_block/tfxl_net_model/transformer/layer_._0/rel_attn/r_s_bias:0', 'transformer_block/tfxl_net_model/transformer/layer_._0/rel_attn/seg_embed:0', 'transformer_block/tfxl_net_model/transformer/layer_._1/rel_attn/r_s_bias:0', 'transformer_block/tfxl_net_model/transformer/layer_._1/rel_attn/seg_embed:0'] when minimizing the loss.\n",
      "WARNING:tensorflow:Gradients do not exist for variables ['transformer_block/tfxl_net_model/transformer/mask_emb:0', 'transformer_block/tfxl_net_model/transformer/layer_._0/rel_attn/r_s_bias:0', 'transformer_block/tfxl_net_model/transformer/layer_._0/rel_attn/seg_embed:0', 'transformer_block/tfxl_net_model/transformer/layer_._1/rel_attn/r_s_bias:0', 'transformer_block/tfxl_net_model/transformer/layer_._1/rel_attn/seg_embed:0'] when minimizing the loss.\n",
      "WARNING:tensorflow:Gradients do not exist for variables ['transformer_block/tfxl_net_model/transformer/mask_emb:0', 'transformer_block/tfxl_net_model/transformer/layer_._0/rel_attn/r_s_bias:0', 'transformer_block/tfxl_net_model/transformer/layer_._0/rel_attn/seg_embed:0', 'transformer_block/tfxl_net_model/transformer/layer_._1/rel_attn/r_s_bias:0', 'transformer_block/tfxl_net_model/transformer/layer_._1/rel_attn/seg_embed:0'] when minimizing the loss.\n",
      "WARNING:tensorflow:Gradients do not exist for variables ['transformer_block/tfxl_net_model/transformer/mask_emb:0', 'transformer_block/tfxl_net_model/transformer/layer_._0/rel_attn/r_s_bias:0', 'transformer_block/tfxl_net_model/transformer/layer_._0/rel_attn/seg_embed:0', 'transformer_block/tfxl_net_model/transformer/layer_._1/rel_attn/r_s_bias:0', 'transformer_block/tfxl_net_model/transformer/layer_._1/rel_attn/seg_embed:0'] when minimizing the loss.\n",
      "finished\n",
      "2/2 [==============================] - 1s 467ms/step - eval_ndcg_at_11: 0.9784 - eval_ndcg_at_15: 0.9784 - eval_ndcg_at_120: 0.9784 - eval_ndcg_at_140: 0.9784 - eval_recall_at_11: 0.8840 - eval_recall_at_15: 0.9635 - eval_recall_at_120: 0.9784 - eval_recall_at_140: 0.9784 - loss: 1.6354 - regularization_loss: 0.0000e+00 - total_loss: 1.6354\n",
      "********************\n",
      "Eval results for day 2 are:\t\n",
      "\n",
      "********************\n",
      "\n",
      " eval_ndcg_at_11 = 0.9702970385551453\n",
      " eval_ndcg_at_120 = 0.9702970385551453\n",
      " eval_ndcg_at_140 = 0.9702970385551453\n",
      " eval_ndcg_at_15 = 0.9702970385551453\n",
      " eval_recall_at_11 = 0.8712871074676514\n",
      " eval_recall_at_120 = 0.9702970385551453\n",
      " eval_recall_at_140 = 0.9702970385551453\n",
      " eval_recall_at_15 = 0.9504950642585754\n",
      " loss = 1.7537225484848022\n",
      " regularization_loss = 0\n",
      " total_loss = 1.7537225484848022\n",
      "['/workspace/data/sessions_by_day/2/train.parquet']\n",
      "********************\n",
      "Launch training for day 2 are:\n",
      "********************\n",
      "\n",
      "WARNING:tensorflow:Gradients do not exist for variables ['transformer_block/tfxl_net_model/transformer/mask_emb:0', 'transformer_block/tfxl_net_model/transformer/layer_._0/rel_attn/r_s_bias:0', 'transformer_block/tfxl_net_model/transformer/layer_._0/rel_attn/seg_embed:0', 'transformer_block/tfxl_net_model/transformer/layer_._1/rel_attn/r_s_bias:0', 'transformer_block/tfxl_net_model/transformer/layer_._1/rel_attn/seg_embed:0'] when minimizing the loss.\n",
      "WARNING:tensorflow:Gradients do not exist for variables ['transformer_block/tfxl_net_model/transformer/mask_emb:0', 'transformer_block/tfxl_net_model/transformer/layer_._0/rel_attn/r_s_bias:0', 'transformer_block/tfxl_net_model/transformer/layer_._0/rel_attn/seg_embed:0', 'transformer_block/tfxl_net_model/transformer/layer_._1/rel_attn/r_s_bias:0', 'transformer_block/tfxl_net_model/transformer/layer_._1/rel_attn/seg_embed:0'] when minimizing the loss.\n",
      "WARNING:tensorflow:Gradients do not exist for variables ['transformer_block/tfxl_net_model/transformer/mask_emb:0', 'transformer_block/tfxl_net_model/transformer/layer_._0/rel_attn/r_s_bias:0', 'transformer_block/tfxl_net_model/transformer/layer_._0/rel_attn/seg_embed:0', 'transformer_block/tfxl_net_model/transformer/layer_._1/rel_attn/r_s_bias:0', 'transformer_block/tfxl_net_model/transformer/layer_._1/rel_attn/seg_embed:0'] when minimizing the loss.\n",
      "WARNING:tensorflow:Gradients do not exist for variables ['transformer_block/tfxl_net_model/transformer/mask_emb:0', 'transformer_block/tfxl_net_model/transformer/layer_._0/rel_attn/r_s_bias:0', 'transformer_block/tfxl_net_model/transformer/layer_._0/rel_attn/seg_embed:0', 'transformer_block/tfxl_net_model/transformer/layer_._1/rel_attn/r_s_bias:0', 'transformer_block/tfxl_net_model/transformer/layer_._1/rel_attn/seg_embed:0'] when minimizing the loss.\n",
      "WARNING:tensorflow:Gradients do not exist for variables ['transformer_block/tfxl_net_model/transformer/mask_emb:0', 'transformer_block/tfxl_net_model/transformer/layer_._0/rel_attn/r_s_bias:0', 'transformer_block/tfxl_net_model/transformer/layer_._0/rel_attn/seg_embed:0', 'transformer_block/tfxl_net_model/transformer/layer_._1/rel_attn/r_s_bias:0', 'transformer_block/tfxl_net_model/transformer/layer_._1/rel_attn/seg_embed:0'] when minimizing the loss.\n",
      "WARNING:tensorflow:Gradients do not exist for variables ['transformer_block/tfxl_net_model/transformer/mask_emb:0', 'transformer_block/tfxl_net_model/transformer/layer_._0/rel_attn/r_s_bias:0', 'transformer_block/tfxl_net_model/transformer/layer_._0/rel_attn/seg_embed:0', 'transformer_block/tfxl_net_model/transformer/layer_._1/rel_attn/r_s_bias:0', 'transformer_block/tfxl_net_model/transformer/layer_._1/rel_attn/seg_embed:0'] when minimizing the loss.\n",
      "WARNING:tensorflow:Gradients do not exist for variables ['transformer_block/tfxl_net_model/transformer/mask_emb:0', 'transformer_block/tfxl_net_model/transformer/layer_._0/rel_attn/r_s_bias:0', 'transformer_block/tfxl_net_model/transformer/layer_._0/rel_attn/seg_embed:0', 'transformer_block/tfxl_net_model/transformer/layer_._1/rel_attn/r_s_bias:0', 'transformer_block/tfxl_net_model/transformer/layer_._1/rel_attn/seg_embed:0'] when minimizing the loss.\n",
      "WARNING:tensorflow:Gradients do not exist for variables ['transformer_block/tfxl_net_model/transformer/mask_emb:0', 'transformer_block/tfxl_net_model/transformer/layer_._0/rel_attn/r_s_bias:0', 'transformer_block/tfxl_net_model/transformer/layer_._0/rel_attn/seg_embed:0', 'transformer_block/tfxl_net_model/transformer/layer_._1/rel_attn/r_s_bias:0', 'transformer_block/tfxl_net_model/transformer/layer_._1/rel_attn/seg_embed:0'] when minimizing the loss.\n",
      "WARNING:tensorflow:Gradients do not exist for variables ['transformer_block/tfxl_net_model/transformer/mask_emb:0', 'transformer_block/tfxl_net_model/transformer/layer_._0/rel_attn/r_s_bias:0', 'transformer_block/tfxl_net_model/transformer/layer_._0/rel_attn/seg_embed:0', 'transformer_block/tfxl_net_model/transformer/layer_._1/rel_attn/r_s_bias:0', 'transformer_block/tfxl_net_model/transformer/layer_._1/rel_attn/seg_embed:0'] when minimizing the loss.\n",
      "WARNING:tensorflow:Gradients do not exist for variables ['transformer_block/tfxl_net_model/transformer/mask_emb:0', 'transformer_block/tfxl_net_model/transformer/layer_._0/rel_attn/r_s_bias:0', 'transformer_block/tfxl_net_model/transformer/layer_._0/rel_attn/seg_embed:0', 'transformer_block/tfxl_net_model/transformer/layer_._1/rel_attn/r_s_bias:0', 'transformer_block/tfxl_net_model/transformer/layer_._1/rel_attn/seg_embed:0'] when minimizing the loss.\n",
      "WARNING:tensorflow:Gradients do not exist for variables ['transformer_block/tfxl_net_model/transformer/mask_emb:0', 'transformer_block/tfxl_net_model/transformer/layer_._0/rel_attn/r_s_bias:0', 'transformer_block/tfxl_net_model/transformer/layer_._0/rel_attn/seg_embed:0', 'transformer_block/tfxl_net_model/transformer/layer_._1/rel_attn/r_s_bias:0', 'transformer_block/tfxl_net_model/transformer/layer_._1/rel_attn/seg_embed:0'] when minimizing the loss.\n",
      "WARNING:tensorflow:Gradients do not exist for variables ['transformer_block/tfxl_net_model/transformer/mask_emb:0', 'transformer_block/tfxl_net_model/transformer/layer_._0/rel_attn/r_s_bias:0', 'transformer_block/tfxl_net_model/transformer/layer_._0/rel_attn/seg_embed:0', 'transformer_block/tfxl_net_model/transformer/layer_._1/rel_attn/r_s_bias:0', 'transformer_block/tfxl_net_model/transformer/layer_._1/rel_attn/seg_embed:0'] when minimizing the loss.\n",
      "WARNING:tensorflow:Gradients do not exist for variables ['transformer_block/tfxl_net_model/transformer/mask_emb:0', 'transformer_block/tfxl_net_model/transformer/layer_._0/rel_attn/r_s_bias:0', 'transformer_block/tfxl_net_model/transformer/layer_._0/rel_attn/seg_embed:0', 'transformer_block/tfxl_net_model/transformer/layer_._1/rel_attn/r_s_bias:0', 'transformer_block/tfxl_net_model/transformer/layer_._1/rel_attn/seg_embed:0'] when minimizing the loss.\n",
      "WARNING:tensorflow:Gradients do not exist for variables ['transformer_block/tfxl_net_model/transformer/mask_emb:0', 'transformer_block/tfxl_net_model/transformer/layer_._0/rel_attn/r_s_bias:0', 'transformer_block/tfxl_net_model/transformer/layer_._0/rel_attn/seg_embed:0', 'transformer_block/tfxl_net_model/transformer/layer_._1/rel_attn/r_s_bias:0', 'transformer_block/tfxl_net_model/transformer/layer_._1/rel_attn/seg_embed:0'] when minimizing the loss.\n",
      "WARNING:tensorflow:Gradients do not exist for variables ['transformer_block/tfxl_net_model/transformer/mask_emb:0', 'transformer_block/tfxl_net_model/transformer/layer_._0/rel_attn/r_s_bias:0', 'transformer_block/tfxl_net_model/transformer/layer_._0/rel_attn/seg_embed:0', 'transformer_block/tfxl_net_model/transformer/layer_._1/rel_attn/r_s_bias:0', 'transformer_block/tfxl_net_model/transformer/layer_._1/rel_attn/seg_embed:0'] when minimizing the loss.\n",
      "WARNING:tensorflow:Gradients do not exist for variables ['transformer_block/tfxl_net_model/transformer/mask_emb:0', 'transformer_block/tfxl_net_model/transformer/layer_._0/rel_attn/r_s_bias:0', 'transformer_block/tfxl_net_model/transformer/layer_._0/rel_attn/seg_embed:0', 'transformer_block/tfxl_net_model/transformer/layer_._1/rel_attn/r_s_bias:0', 'transformer_block/tfxl_net_model/transformer/layer_._1/rel_attn/seg_embed:0'] when minimizing the loss.\n",
      "WARNING:tensorflow:Gradients do not exist for variables ['transformer_block/tfxl_net_model/transformer/mask_emb:0', 'transformer_block/tfxl_net_model/transformer/layer_._0/rel_attn/r_s_bias:0', 'transformer_block/tfxl_net_model/transformer/layer_._0/rel_attn/seg_embed:0', 'transformer_block/tfxl_net_model/transformer/layer_._1/rel_attn/r_s_bias:0', 'transformer_block/tfxl_net_model/transformer/layer_._1/rel_attn/seg_embed:0'] when minimizing the loss.\n",
      "WARNING:tensorflow:Gradients do not exist for variables ['transformer_block/tfxl_net_model/transformer/mask_emb:0', 'transformer_block/tfxl_net_model/transformer/layer_._0/rel_attn/r_s_bias:0', 'transformer_block/tfxl_net_model/transformer/layer_._0/rel_attn/seg_embed:0', 'transformer_block/tfxl_net_model/transformer/layer_._1/rel_attn/r_s_bias:0', 'transformer_block/tfxl_net_model/transformer/layer_._1/rel_attn/seg_embed:0'] when minimizing the loss.\n",
      "WARNING:tensorflow:Gradients do not exist for variables ['transformer_block/tfxl_net_model/transformer/mask_emb:0', 'transformer_block/tfxl_net_model/transformer/layer_._0/rel_attn/r_s_bias:0', 'transformer_block/tfxl_net_model/transformer/layer_._0/rel_attn/seg_embed:0', 'transformer_block/tfxl_net_model/transformer/layer_._1/rel_attn/r_s_bias:0', 'transformer_block/tfxl_net_model/transformer/layer_._1/rel_attn/seg_embed:0'] when minimizing the loss.\n",
      "WARNING:tensorflow:Gradients do not exist for variables ['transformer_block/tfxl_net_model/transformer/mask_emb:0', 'transformer_block/tfxl_net_model/transformer/layer_._0/rel_attn/r_s_bias:0', 'transformer_block/tfxl_net_model/transformer/layer_._0/rel_attn/seg_embed:0', 'transformer_block/tfxl_net_model/transformer/layer_._1/rel_attn/r_s_bias:0', 'transformer_block/tfxl_net_model/transformer/layer_._1/rel_attn/seg_embed:0'] when minimizing the loss.\n",
      "WARNING:tensorflow:Gradients do not exist for variables ['transformer_block/tfxl_net_model/transformer/mask_emb:0', 'transformer_block/tfxl_net_model/transformer/layer_._0/rel_attn/r_s_bias:0', 'transformer_block/tfxl_net_model/transformer/layer_._0/rel_attn/seg_embed:0', 'transformer_block/tfxl_net_model/transformer/layer_._1/rel_attn/r_s_bias:0', 'transformer_block/tfxl_net_model/transformer/layer_._1/rel_attn/seg_embed:0'] when minimizing the loss.\n",
      "WARNING:tensorflow:Gradients do not exist for variables ['transformer_block/tfxl_net_model/transformer/mask_emb:0', 'transformer_block/tfxl_net_model/transformer/layer_._0/rel_attn/r_s_bias:0', 'transformer_block/tfxl_net_model/transformer/layer_._0/rel_attn/seg_embed:0', 'transformer_block/tfxl_net_model/transformer/layer_._1/rel_attn/r_s_bias:0', 'transformer_block/tfxl_net_model/transformer/layer_._1/rel_attn/seg_embed:0'] when minimizing the loss.\n",
      "WARNING:tensorflow:Gradients do not exist for variables ['transformer_block/tfxl_net_model/transformer/mask_emb:0', 'transformer_block/tfxl_net_model/transformer/layer_._0/rel_attn/r_s_bias:0', 'transformer_block/tfxl_net_model/transformer/layer_._0/rel_attn/seg_embed:0', 'transformer_block/tfxl_net_model/transformer/layer_._1/rel_attn/r_s_bias:0', 'transformer_block/tfxl_net_model/transformer/layer_._1/rel_attn/seg_embed:0'] when minimizing the loss.\n",
      "WARNING:tensorflow:Gradients do not exist for variables ['transformer_block/tfxl_net_model/transformer/mask_emb:0', 'transformer_block/tfxl_net_model/transformer/layer_._0/rel_attn/r_s_bias:0', 'transformer_block/tfxl_net_model/transformer/layer_._0/rel_attn/seg_embed:0', 'transformer_block/tfxl_net_model/transformer/layer_._1/rel_attn/r_s_bias:0', 'transformer_block/tfxl_net_model/transformer/layer_._1/rel_attn/seg_embed:0'] when minimizing the loss.\n",
      "WARNING:tensorflow:Gradients do not exist for variables ['transformer_block/tfxl_net_model/transformer/mask_emb:0', 'transformer_block/tfxl_net_model/transformer/layer_._0/rel_attn/r_s_bias:0', 'transformer_block/tfxl_net_model/transformer/layer_._0/rel_attn/seg_embed:0', 'transformer_block/tfxl_net_model/transformer/layer_._1/rel_attn/r_s_bias:0', 'transformer_block/tfxl_net_model/transformer/layer_._1/rel_attn/seg_embed:0'] when minimizing the loss.\n",
      "WARNING:tensorflow:Gradients do not exist for variables ['transformer_block/tfxl_net_model/transformer/mask_emb:0', 'transformer_block/tfxl_net_model/transformer/layer_._0/rel_attn/r_s_bias:0', 'transformer_block/tfxl_net_model/transformer/layer_._0/rel_attn/seg_embed:0', 'transformer_block/tfxl_net_model/transformer/layer_._1/rel_attn/r_s_bias:0', 'transformer_block/tfxl_net_model/transformer/layer_._1/rel_attn/seg_embed:0'] when minimizing the loss.\n",
      "WARNING:tensorflow:Gradients do not exist for variables ['transformer_block/tfxl_net_model/transformer/mask_emb:0', 'transformer_block/tfxl_net_model/transformer/layer_._0/rel_attn/r_s_bias:0', 'transformer_block/tfxl_net_model/transformer/layer_._0/rel_attn/seg_embed:0', 'transformer_block/tfxl_net_model/transformer/layer_._1/rel_attn/r_s_bias:0', 'transformer_block/tfxl_net_model/transformer/layer_._1/rel_attn/seg_embed:0'] when minimizing the loss.\n",
      "WARNING:tensorflow:Gradients do not exist for variables ['transformer_block/tfxl_net_model/transformer/mask_emb:0', 'transformer_block/tfxl_net_model/transformer/layer_._0/rel_attn/r_s_bias:0', 'transformer_block/tfxl_net_model/transformer/layer_._0/rel_attn/seg_embed:0', 'transformer_block/tfxl_net_model/transformer/layer_._1/rel_attn/r_s_bias:0', 'transformer_block/tfxl_net_model/transformer/layer_._1/rel_attn/seg_embed:0'] when minimizing the loss.\n",
      "WARNING:tensorflow:Gradients do not exist for variables ['transformer_block/tfxl_net_model/transformer/mask_emb:0', 'transformer_block/tfxl_net_model/transformer/layer_._0/rel_attn/r_s_bias:0', 'transformer_block/tfxl_net_model/transformer/layer_._0/rel_attn/seg_embed:0', 'transformer_block/tfxl_net_model/transformer/layer_._1/rel_attn/r_s_bias:0', 'transformer_block/tfxl_net_model/transformer/layer_._1/rel_attn/seg_embed:0'] when minimizing the loss.\n",
      "WARNING:tensorflow:Gradients do not exist for variables ['transformer_block/tfxl_net_model/transformer/mask_emb:0', 'transformer_block/tfxl_net_model/transformer/layer_._0/rel_attn/r_s_bias:0', 'transformer_block/tfxl_net_model/transformer/layer_._0/rel_attn/seg_embed:0', 'transformer_block/tfxl_net_model/transformer/layer_._1/rel_attn/r_s_bias:0', 'transformer_block/tfxl_net_model/transformer/layer_._1/rel_attn/seg_embed:0'] when minimizing the loss.\n",
      "WARNING:tensorflow:Gradients do not exist for variables ['transformer_block/tfxl_net_model/transformer/mask_emb:0', 'transformer_block/tfxl_net_model/transformer/layer_._0/rel_attn/r_s_bias:0', 'transformer_block/tfxl_net_model/transformer/layer_._0/rel_attn/seg_embed:0', 'transformer_block/tfxl_net_model/transformer/layer_._1/rel_attn/r_s_bias:0', 'transformer_block/tfxl_net_model/transformer/layer_._1/rel_attn/seg_embed:0'] when minimizing the loss.\n",
      "WARNING:tensorflow:Gradients do not exist for variables ['transformer_block/tfxl_net_model/transformer/mask_emb:0', 'transformer_block/tfxl_net_model/transformer/layer_._0/rel_attn/r_s_bias:0', 'transformer_block/tfxl_net_model/transformer/layer_._0/rel_attn/seg_embed:0', 'transformer_block/tfxl_net_model/transformer/layer_._1/rel_attn/r_s_bias:0', 'transformer_block/tfxl_net_model/transformer/layer_._1/rel_attn/seg_embed:0'] when minimizing the loss.\n",
      "WARNING:tensorflow:Gradients do not exist for variables ['transformer_block/tfxl_net_model/transformer/mask_emb:0', 'transformer_block/tfxl_net_model/transformer/layer_._0/rel_attn/r_s_bias:0', 'transformer_block/tfxl_net_model/transformer/layer_._0/rel_attn/seg_embed:0', 'transformer_block/tfxl_net_model/transformer/layer_._1/rel_attn/r_s_bias:0', 'transformer_block/tfxl_net_model/transformer/layer_._1/rel_attn/seg_embed:0'] when minimizing the loss.\n",
      "WARNING:tensorflow:Gradients do not exist for variables ['transformer_block/tfxl_net_model/transformer/mask_emb:0', 'transformer_block/tfxl_net_model/transformer/layer_._0/rel_attn/r_s_bias:0', 'transformer_block/tfxl_net_model/transformer/layer_._0/rel_attn/seg_embed:0', 'transformer_block/tfxl_net_model/transformer/layer_._1/rel_attn/r_s_bias:0', 'transformer_block/tfxl_net_model/transformer/layer_._1/rel_attn/seg_embed:0'] when minimizing the loss.\n",
      "WARNING:tensorflow:Gradients do not exist for variables ['transformer_block/tfxl_net_model/transformer/mask_emb:0', 'transformer_block/tfxl_net_model/transformer/layer_._0/rel_attn/r_s_bias:0', 'transformer_block/tfxl_net_model/transformer/layer_._0/rel_attn/seg_embed:0', 'transformer_block/tfxl_net_model/transformer/layer_._1/rel_attn/r_s_bias:0', 'transformer_block/tfxl_net_model/transformer/layer_._1/rel_attn/seg_embed:0'] when minimizing the loss.\n",
      "WARNING:tensorflow:Gradients do not exist for variables ['transformer_block/tfxl_net_model/transformer/mask_emb:0', 'transformer_block/tfxl_net_model/transformer/layer_._0/rel_attn/r_s_bias:0', 'transformer_block/tfxl_net_model/transformer/layer_._0/rel_attn/seg_embed:0', 'transformer_block/tfxl_net_model/transformer/layer_._1/rel_attn/r_s_bias:0', 'transformer_block/tfxl_net_model/transformer/layer_._1/rel_attn/seg_embed:0'] when minimizing the loss.\n",
      "WARNING:tensorflow:Gradients do not exist for variables ['transformer_block/tfxl_net_model/transformer/mask_emb:0', 'transformer_block/tfxl_net_model/transformer/layer_._0/rel_attn/r_s_bias:0', 'transformer_block/tfxl_net_model/transformer/layer_._0/rel_attn/seg_embed:0', 'transformer_block/tfxl_net_model/transformer/layer_._1/rel_attn/r_s_bias:0', 'transformer_block/tfxl_net_model/transformer/layer_._1/rel_attn/seg_embed:0'] when minimizing the loss.\n",
      "WARNING:tensorflow:Gradients do not exist for variables ['transformer_block/tfxl_net_model/transformer/mask_emb:0', 'transformer_block/tfxl_net_model/transformer/layer_._0/rel_attn/r_s_bias:0', 'transformer_block/tfxl_net_model/transformer/layer_._0/rel_attn/seg_embed:0', 'transformer_block/tfxl_net_model/transformer/layer_._1/rel_attn/r_s_bias:0', 'transformer_block/tfxl_net_model/transformer/layer_._1/rel_attn/seg_embed:0'] when minimizing the loss.\n",
      "WARNING:tensorflow:Gradients do not exist for variables ['transformer_block/tfxl_net_model/transformer/mask_emb:0', 'transformer_block/tfxl_net_model/transformer/layer_._0/rel_attn/r_s_bias:0', 'transformer_block/tfxl_net_model/transformer/layer_._0/rel_attn/seg_embed:0', 'transformer_block/tfxl_net_model/transformer/layer_._1/rel_attn/r_s_bias:0', 'transformer_block/tfxl_net_model/transformer/layer_._1/rel_attn/seg_embed:0'] when minimizing the loss.\n",
      "WARNING:tensorflow:Gradients do not exist for variables ['transformer_block/tfxl_net_model/transformer/mask_emb:0', 'transformer_block/tfxl_net_model/transformer/layer_._0/rel_attn/r_s_bias:0', 'transformer_block/tfxl_net_model/transformer/layer_._0/rel_attn/seg_embed:0', 'transformer_block/tfxl_net_model/transformer/layer_._1/rel_attn/r_s_bias:0', 'transformer_block/tfxl_net_model/transformer/layer_._1/rel_attn/seg_embed:0'] when minimizing the loss.\n",
      "WARNING:tensorflow:Gradients do not exist for variables ['transformer_block/tfxl_net_model/transformer/mask_emb:0', 'transformer_block/tfxl_net_model/transformer/layer_._0/rel_attn/r_s_bias:0', 'transformer_block/tfxl_net_model/transformer/layer_._0/rel_attn/seg_embed:0', 'transformer_block/tfxl_net_model/transformer/layer_._1/rel_attn/r_s_bias:0', 'transformer_block/tfxl_net_model/transformer/layer_._1/rel_attn/seg_embed:0'] when minimizing the loss.\n",
      "WARNING:tensorflow:Gradients do not exist for variables ['transformer_block/tfxl_net_model/transformer/mask_emb:0', 'transformer_block/tfxl_net_model/transformer/layer_._0/rel_attn/r_s_bias:0', 'transformer_block/tfxl_net_model/transformer/layer_._0/rel_attn/seg_embed:0', 'transformer_block/tfxl_net_model/transformer/layer_._1/rel_attn/r_s_bias:0', 'transformer_block/tfxl_net_model/transformer/layer_._1/rel_attn/seg_embed:0'] when minimizing the loss.\n",
      "WARNING:tensorflow:Gradients do not exist for variables ['transformer_block/tfxl_net_model/transformer/mask_emb:0', 'transformer_block/tfxl_net_model/transformer/layer_._0/rel_attn/r_s_bias:0', 'transformer_block/tfxl_net_model/transformer/layer_._0/rel_attn/seg_embed:0', 'transformer_block/tfxl_net_model/transformer/layer_._1/rel_attn/r_s_bias:0', 'transformer_block/tfxl_net_model/transformer/layer_._1/rel_attn/seg_embed:0'] when minimizing the loss.\n",
      "WARNING:tensorflow:Gradients do not exist for variables ['transformer_block/tfxl_net_model/transformer/mask_emb:0', 'transformer_block/tfxl_net_model/transformer/layer_._0/rel_attn/r_s_bias:0', 'transformer_block/tfxl_net_model/transformer/layer_._0/rel_attn/seg_embed:0', 'transformer_block/tfxl_net_model/transformer/layer_._1/rel_attn/r_s_bias:0', 'transformer_block/tfxl_net_model/transformer/layer_._1/rel_attn/seg_embed:0'] when minimizing the loss.\n",
      "WARNING:tensorflow:Gradients do not exist for variables ['transformer_block/tfxl_net_model/transformer/mask_emb:0', 'transformer_block/tfxl_net_model/transformer/layer_._0/rel_attn/r_s_bias:0', 'transformer_block/tfxl_net_model/transformer/layer_._0/rel_attn/seg_embed:0', 'transformer_block/tfxl_net_model/transformer/layer_._1/rel_attn/r_s_bias:0', 'transformer_block/tfxl_net_model/transformer/layer_._1/rel_attn/seg_embed:0'] when minimizing the loss.\n",
      "WARNING:tensorflow:Gradients do not exist for variables ['transformer_block/tfxl_net_model/transformer/mask_emb:0', 'transformer_block/tfxl_net_model/transformer/layer_._0/rel_attn/r_s_bias:0', 'transformer_block/tfxl_net_model/transformer/layer_._0/rel_attn/seg_embed:0', 'transformer_block/tfxl_net_model/transformer/layer_._1/rel_attn/r_s_bias:0', 'transformer_block/tfxl_net_model/transformer/layer_._1/rel_attn/seg_embed:0'] when minimizing the loss.\n",
      "WARNING:tensorflow:Gradients do not exist for variables ['transformer_block/tfxl_net_model/transformer/mask_emb:0', 'transformer_block/tfxl_net_model/transformer/layer_._0/rel_attn/r_s_bias:0', 'transformer_block/tfxl_net_model/transformer/layer_._0/rel_attn/seg_embed:0', 'transformer_block/tfxl_net_model/transformer/layer_._1/rel_attn/r_s_bias:0', 'transformer_block/tfxl_net_model/transformer/layer_._1/rel_attn/seg_embed:0'] when minimizing the loss.\n",
      "WARNING:tensorflow:Gradients do not exist for variables ['transformer_block/tfxl_net_model/transformer/mask_emb:0', 'transformer_block/tfxl_net_model/transformer/layer_._0/rel_attn/r_s_bias:0', 'transformer_block/tfxl_net_model/transformer/layer_._0/rel_attn/seg_embed:0', 'transformer_block/tfxl_net_model/transformer/layer_._1/rel_attn/r_s_bias:0', 'transformer_block/tfxl_net_model/transformer/layer_._1/rel_attn/seg_embed:0'] when minimizing the loss.\n",
      "WARNING:tensorflow:Gradients do not exist for variables ['transformer_block/tfxl_net_model/transformer/mask_emb:0', 'transformer_block/tfxl_net_model/transformer/layer_._0/rel_attn/r_s_bias:0', 'transformer_block/tfxl_net_model/transformer/layer_._0/rel_attn/seg_embed:0', 'transformer_block/tfxl_net_model/transformer/layer_._1/rel_attn/r_s_bias:0', 'transformer_block/tfxl_net_model/transformer/layer_._1/rel_attn/seg_embed:0'] when minimizing the loss.\n",
      "WARNING:tensorflow:Gradients do not exist for variables ['transformer_block/tfxl_net_model/transformer/mask_emb:0', 'transformer_block/tfxl_net_model/transformer/layer_._0/rel_attn/r_s_bias:0', 'transformer_block/tfxl_net_model/transformer/layer_._0/rel_attn/seg_embed:0', 'transformer_block/tfxl_net_model/transformer/layer_._1/rel_attn/r_s_bias:0', 'transformer_block/tfxl_net_model/transformer/layer_._1/rel_attn/seg_embed:0'] when minimizing the loss.\n",
      "WARNING:tensorflow:Gradients do not exist for variables ['transformer_block/tfxl_net_model/transformer/mask_emb:0', 'transformer_block/tfxl_net_model/transformer/layer_._0/rel_attn/r_s_bias:0', 'transformer_block/tfxl_net_model/transformer/layer_._0/rel_attn/seg_embed:0', 'transformer_block/tfxl_net_model/transformer/layer_._1/rel_attn/r_s_bias:0', 'transformer_block/tfxl_net_model/transformer/layer_._1/rel_attn/seg_embed:0'] when minimizing the loss.\n",
      "WARNING:tensorflow:Gradients do not exist for variables ['transformer_block/tfxl_net_model/transformer/mask_emb:0', 'transformer_block/tfxl_net_model/transformer/layer_._0/rel_attn/r_s_bias:0', 'transformer_block/tfxl_net_model/transformer/layer_._0/rel_attn/seg_embed:0', 'transformer_block/tfxl_net_model/transformer/layer_._1/rel_attn/r_s_bias:0', 'transformer_block/tfxl_net_model/transformer/layer_._1/rel_attn/seg_embed:0'] when minimizing the loss.\n",
      "WARNING:tensorflow:Gradients do not exist for variables ['transformer_block/tfxl_net_model/transformer/mask_emb:0', 'transformer_block/tfxl_net_model/transformer/layer_._0/rel_attn/r_s_bias:0', 'transformer_block/tfxl_net_model/transformer/layer_._0/rel_attn/seg_embed:0', 'transformer_block/tfxl_net_model/transformer/layer_._1/rel_attn/r_s_bias:0', 'transformer_block/tfxl_net_model/transformer/layer_._1/rel_attn/seg_embed:0'] when minimizing the loss.\n",
      "WARNING:tensorflow:Gradients do not exist for variables ['transformer_block/tfxl_net_model/transformer/mask_emb:0', 'transformer_block/tfxl_net_model/transformer/layer_._0/rel_attn/r_s_bias:0', 'transformer_block/tfxl_net_model/transformer/layer_._0/rel_attn/seg_embed:0', 'transformer_block/tfxl_net_model/transformer/layer_._1/rel_attn/r_s_bias:0', 'transformer_block/tfxl_net_model/transformer/layer_._1/rel_attn/seg_embed:0'] when minimizing the loss.\n",
      "WARNING:tensorflow:Gradients do not exist for variables ['transformer_block/tfxl_net_model/transformer/mask_emb:0', 'transformer_block/tfxl_net_model/transformer/layer_._0/rel_attn/r_s_bias:0', 'transformer_block/tfxl_net_model/transformer/layer_._0/rel_attn/seg_embed:0', 'transformer_block/tfxl_net_model/transformer/layer_._1/rel_attn/r_s_bias:0', 'transformer_block/tfxl_net_model/transformer/layer_._1/rel_attn/seg_embed:0'] when minimizing the loss.\n",
      "WARNING:tensorflow:Gradients do not exist for variables ['transformer_block/tfxl_net_model/transformer/mask_emb:0', 'transformer_block/tfxl_net_model/transformer/layer_._0/rel_attn/r_s_bias:0', 'transformer_block/tfxl_net_model/transformer/layer_._0/rel_attn/seg_embed:0', 'transformer_block/tfxl_net_model/transformer/layer_._1/rel_attn/r_s_bias:0', 'transformer_block/tfxl_net_model/transformer/layer_._1/rel_attn/seg_embed:0'] when minimizing the loss.\n",
      "WARNING:tensorflow:Gradients do not exist for variables ['transformer_block/tfxl_net_model/transformer/mask_emb:0', 'transformer_block/tfxl_net_model/transformer/layer_._0/rel_attn/r_s_bias:0', 'transformer_block/tfxl_net_model/transformer/layer_._0/rel_attn/seg_embed:0', 'transformer_block/tfxl_net_model/transformer/layer_._1/rel_attn/r_s_bias:0', 'transformer_block/tfxl_net_model/transformer/layer_._1/rel_attn/seg_embed:0'] when minimizing the loss.\n",
      "WARNING:tensorflow:Gradients do not exist for variables ['transformer_block/tfxl_net_model/transformer/mask_emb:0', 'transformer_block/tfxl_net_model/transformer/layer_._0/rel_attn/r_s_bias:0', 'transformer_block/tfxl_net_model/transformer/layer_._0/rel_attn/seg_embed:0', 'transformer_block/tfxl_net_model/transformer/layer_._1/rel_attn/r_s_bias:0', 'transformer_block/tfxl_net_model/transformer/layer_._1/rel_attn/seg_embed:0'] when minimizing the loss.\n",
      "WARNING:tensorflow:Gradients do not exist for variables ['transformer_block/tfxl_net_model/transformer/mask_emb:0', 'transformer_block/tfxl_net_model/transformer/layer_._0/rel_attn/r_s_bias:0', 'transformer_block/tfxl_net_model/transformer/layer_._0/rel_attn/seg_embed:0', 'transformer_block/tfxl_net_model/transformer/layer_._1/rel_attn/r_s_bias:0', 'transformer_block/tfxl_net_model/transformer/layer_._1/rel_attn/seg_embed:0'] when minimizing the loss.\n",
      "WARNING:tensorflow:Gradients do not exist for variables ['transformer_block/tfxl_net_model/transformer/mask_emb:0', 'transformer_block/tfxl_net_model/transformer/layer_._0/rel_attn/r_s_bias:0', 'transformer_block/tfxl_net_model/transformer/layer_._0/rel_attn/seg_embed:0', 'transformer_block/tfxl_net_model/transformer/layer_._1/rel_attn/r_s_bias:0', 'transformer_block/tfxl_net_model/transformer/layer_._1/rel_attn/seg_embed:0'] when minimizing the loss.\n",
      "WARNING:tensorflow:Gradients do not exist for variables ['transformer_block/tfxl_net_model/transformer/mask_emb:0', 'transformer_block/tfxl_net_model/transformer/layer_._0/rel_attn/r_s_bias:0', 'transformer_block/tfxl_net_model/transformer/layer_._0/rel_attn/seg_embed:0', 'transformer_block/tfxl_net_model/transformer/layer_._1/rel_attn/r_s_bias:0', 'transformer_block/tfxl_net_model/transformer/layer_._1/rel_attn/seg_embed:0'] when minimizing the loss.\n",
      "WARNING:tensorflow:Gradients do not exist for variables ['transformer_block/tfxl_net_model/transformer/mask_emb:0', 'transformer_block/tfxl_net_model/transformer/layer_._0/rel_attn/r_s_bias:0', 'transformer_block/tfxl_net_model/transformer/layer_._0/rel_attn/seg_embed:0', 'transformer_block/tfxl_net_model/transformer/layer_._1/rel_attn/r_s_bias:0', 'transformer_block/tfxl_net_model/transformer/layer_._1/rel_attn/seg_embed:0'] when minimizing the loss.\n",
      "WARNING:tensorflow:Gradients do not exist for variables ['transformer_block/tfxl_net_model/transformer/mask_emb:0', 'transformer_block/tfxl_net_model/transformer/layer_._0/rel_attn/r_s_bias:0', 'transformer_block/tfxl_net_model/transformer/layer_._0/rel_attn/seg_embed:0', 'transformer_block/tfxl_net_model/transformer/layer_._1/rel_attn/r_s_bias:0', 'transformer_block/tfxl_net_model/transformer/layer_._1/rel_attn/seg_embed:0'] when minimizing the loss.\n",
      "WARNING:tensorflow:Gradients do not exist for variables ['transformer_block/tfxl_net_model/transformer/mask_emb:0', 'transformer_block/tfxl_net_model/transformer/layer_._0/rel_attn/r_s_bias:0', 'transformer_block/tfxl_net_model/transformer/layer_._0/rel_attn/seg_embed:0', 'transformer_block/tfxl_net_model/transformer/layer_._1/rel_attn/r_s_bias:0', 'transformer_block/tfxl_net_model/transformer/layer_._1/rel_attn/seg_embed:0'] when minimizing the loss.\n",
      "WARNING:tensorflow:Gradients do not exist for variables ['transformer_block/tfxl_net_model/transformer/mask_emb:0', 'transformer_block/tfxl_net_model/transformer/layer_._0/rel_attn/r_s_bias:0', 'transformer_block/tfxl_net_model/transformer/layer_._0/rel_attn/seg_embed:0', 'transformer_block/tfxl_net_model/transformer/layer_._1/rel_attn/r_s_bias:0', 'transformer_block/tfxl_net_model/transformer/layer_._1/rel_attn/seg_embed:0'] when minimizing the loss.\n",
      "WARNING:tensorflow:Gradients do not exist for variables ['transformer_block/tfxl_net_model/transformer/mask_emb:0', 'transformer_block/tfxl_net_model/transformer/layer_._0/rel_attn/r_s_bias:0', 'transformer_block/tfxl_net_model/transformer/layer_._0/rel_attn/seg_embed:0', 'transformer_block/tfxl_net_model/transformer/layer_._1/rel_attn/r_s_bias:0', 'transformer_block/tfxl_net_model/transformer/layer_._1/rel_attn/seg_embed:0'] when minimizing the loss.\n",
      "WARNING:tensorflow:Gradients do not exist for variables ['transformer_block/tfxl_net_model/transformer/mask_emb:0', 'transformer_block/tfxl_net_model/transformer/layer_._0/rel_attn/r_s_bias:0', 'transformer_block/tfxl_net_model/transformer/layer_._0/rel_attn/seg_embed:0', 'transformer_block/tfxl_net_model/transformer/layer_._1/rel_attn/r_s_bias:0', 'transformer_block/tfxl_net_model/transformer/layer_._1/rel_attn/seg_embed:0'] when minimizing the loss.\n",
      "WARNING:tensorflow:Gradients do not exist for variables ['transformer_block/tfxl_net_model/transformer/mask_emb:0', 'transformer_block/tfxl_net_model/transformer/layer_._0/rel_attn/r_s_bias:0', 'transformer_block/tfxl_net_model/transformer/layer_._0/rel_attn/seg_embed:0', 'transformer_block/tfxl_net_model/transformer/layer_._1/rel_attn/r_s_bias:0', 'transformer_block/tfxl_net_model/transformer/layer_._1/rel_attn/seg_embed:0'] when minimizing the loss.\n",
      "WARNING:tensorflow:Gradients do not exist for variables ['transformer_block/tfxl_net_model/transformer/mask_emb:0', 'transformer_block/tfxl_net_model/transformer/layer_._0/rel_attn/r_s_bias:0', 'transformer_block/tfxl_net_model/transformer/layer_._0/rel_attn/seg_embed:0', 'transformer_block/tfxl_net_model/transformer/layer_._1/rel_attn/r_s_bias:0', 'transformer_block/tfxl_net_model/transformer/layer_._1/rel_attn/seg_embed:0'] when minimizing the loss.\n",
      "WARNING:tensorflow:Gradients do not exist for variables ['transformer_block/tfxl_net_model/transformer/mask_emb:0', 'transformer_block/tfxl_net_model/transformer/layer_._0/rel_attn/r_s_bias:0', 'transformer_block/tfxl_net_model/transformer/layer_._0/rel_attn/seg_embed:0', 'transformer_block/tfxl_net_model/transformer/layer_._1/rel_attn/r_s_bias:0', 'transformer_block/tfxl_net_model/transformer/layer_._1/rel_attn/seg_embed:0'] when minimizing the loss.\n",
      "WARNING:tensorflow:Gradients do not exist for variables ['transformer_block/tfxl_net_model/transformer/mask_emb:0', 'transformer_block/tfxl_net_model/transformer/layer_._0/rel_attn/r_s_bias:0', 'transformer_block/tfxl_net_model/transformer/layer_._0/rel_attn/seg_embed:0', 'transformer_block/tfxl_net_model/transformer/layer_._1/rel_attn/r_s_bias:0', 'transformer_block/tfxl_net_model/transformer/layer_._1/rel_attn/seg_embed:0'] when minimizing the loss.\n",
      "WARNING:tensorflow:Gradients do not exist for variables ['transformer_block/tfxl_net_model/transformer/mask_emb:0', 'transformer_block/tfxl_net_model/transformer/layer_._0/rel_attn/r_s_bias:0', 'transformer_block/tfxl_net_model/transformer/layer_._0/rel_attn/seg_embed:0', 'transformer_block/tfxl_net_model/transformer/layer_._1/rel_attn/r_s_bias:0', 'transformer_block/tfxl_net_model/transformer/layer_._1/rel_attn/seg_embed:0'] when minimizing the loss.\n",
      "WARNING:tensorflow:Gradients do not exist for variables ['transformer_block/tfxl_net_model/transformer/mask_emb:0', 'transformer_block/tfxl_net_model/transformer/layer_._0/rel_attn/r_s_bias:0', 'transformer_block/tfxl_net_model/transformer/layer_._0/rel_attn/seg_embed:0', 'transformer_block/tfxl_net_model/transformer/layer_._1/rel_attn/r_s_bias:0', 'transformer_block/tfxl_net_model/transformer/layer_._1/rel_attn/seg_embed:0'] when minimizing the loss.\n",
      "WARNING:tensorflow:Gradients do not exist for variables ['transformer_block/tfxl_net_model/transformer/mask_emb:0', 'transformer_block/tfxl_net_model/transformer/layer_._0/rel_attn/r_s_bias:0', 'transformer_block/tfxl_net_model/transformer/layer_._0/rel_attn/seg_embed:0', 'transformer_block/tfxl_net_model/transformer/layer_._1/rel_attn/r_s_bias:0', 'transformer_block/tfxl_net_model/transformer/layer_._1/rel_attn/seg_embed:0'] when minimizing the loss.\n",
      "WARNING:tensorflow:Gradients do not exist for variables ['transformer_block/tfxl_net_model/transformer/mask_emb:0', 'transformer_block/tfxl_net_model/transformer/layer_._0/rel_attn/r_s_bias:0', 'transformer_block/tfxl_net_model/transformer/layer_._0/rel_attn/seg_embed:0', 'transformer_block/tfxl_net_model/transformer/layer_._1/rel_attn/r_s_bias:0', 'transformer_block/tfxl_net_model/transformer/layer_._1/rel_attn/seg_embed:0'] when minimizing the loss.\n",
      "finished\n",
      "2/2 [==============================] - 1s 409ms/step - eval_ndcg_at_11: 0.9732 - eval_ndcg_at_15: 0.9732 - eval_ndcg_at_120: 0.9732 - eval_ndcg_at_140: 0.9732 - eval_recall_at_11: 0.9422 - eval_recall_at_15: 0.9559 - eval_recall_at_120: 0.9732 - eval_recall_at_140: 0.9732 - loss: 0.5419 - regularization_loss: 0.0000e+00 - total_loss: 0.5419\n",
      "********************\n",
      "Eval results for day 3 are:\t\n",
      "\n",
      "********************\n",
      "\n",
      " eval_ndcg_at_11 = 0.9659090638160706\n",
      " eval_ndcg_at_120 = 0.9659090638160706\n",
      " eval_ndcg_at_140 = 0.9659090638160706\n",
      " eval_ndcg_at_15 = 0.9659090638160706\n",
      " eval_recall_at_11 = 0.9318181872367859\n",
      " eval_recall_at_120 = 0.9659090638160706\n",
      " eval_recall_at_140 = 0.9659090638160706\n",
      " eval_recall_at_15 = 0.9431818127632141\n",
      " loss = 0.6144798398017883\n",
      " regularization_loss = 0\n",
      " total_loss = 0.6144798398017883\n"
     ]
    }
   ],
   "source": [
    "start_time_window_index = 1\n",
    "final_time_window_index = 3\n",
    "#Iterating over days of one week\n",
    "for time_index in range(start_time_window_index, final_time_window_index):\n",
    "    # Set data \n",
    "    time_index_train = time_index\n",
    "    time_index_eval = time_index + 1\n",
    "    train_paths = glob.glob(os.path.join(OUTPUT_DIR, f\"{time_index_train}/train.parquet\"))\n",
    "    eval_paths = glob.glob(os.path.join(OUTPUT_DIR, f\"{time_index_eval}/valid.parquet\"))\n",
    "    print(train_paths)\n",
    "\n",
    "    # Train on day related to time_index \n",
    "    print('*'*20)\n",
    "    print(\"Launch training for day %s are:\" %time_index)\n",
    "    print('*'*20 + '\\n')\n",
    "    train_loader = get_dataloader(train_paths) \n",
    "    losses = model.fit(train_loader, epochs=5, verbose=0, )\n",
    "    model.reset_metrics()\n",
    "    print('finished')\n",
    "    # Evaluate on the following day\n",
    "    eval_loader = get_dataloader(eval_paths) \n",
    "    eval_metrics = model.evaluate(eval_loader, return_dict=True)\n",
    "    print('*'*20)\n",
    "    print(\"Eval results for day %s are:\\t\" %time_index_eval)\n",
    "    print('\\n' + '*'*20 + '\\n')\n",
    "    for key in sorted(eval_metrics.keys()):\n",
    "        print(\" %s = %s\" % (key, str(eval_metrics[key]))) "
   ]
  },
  {
   "cell_type": "code",
   "execution_count": 16,
   "id": "6a2fece8",
   "metadata": {},
   "outputs": [
    {
     "name": "stdout",
     "output_type": "stream",
     "text": [
      "2/2 [==============================] - 1s 527ms/step - eval_ndcg_at_11: 0.9946 - eval_ndcg_at_15: 0.9946 - eval_ndcg_at_120: 0.9946 - eval_ndcg_at_140: 0.9946 - eval_recall_at_11: 0.9675 - eval_recall_at_15: 0.9819 - eval_recall_at_120: 0.9891 - eval_recall_at_140: 0.9946 - loss: 0.3619 - regularization_loss: 0.0000e+00 - total_loss: 0.3619\n"
     ]
    }
   ],
   "source": [
    "# Evaluate on the following day\n",
    "time_index_eval = 5\n",
    "eval_paths = glob.glob(os.path.join(OUTPUT_DIR, f\"{time_index_eval}/valid.parquet\"))\n",
    "eval_loader = get_dataloader(eval_paths) \n",
    "eval_metrics = model.evaluate(eval_loader, return_dict=True, )"
   ]
  },
  {
   "cell_type": "code",
   "execution_count": 17,
   "id": "2336a091",
   "metadata": {},
   "outputs": [
    {
     "data": {
      "text/plain": [
       "{'eval_ndcg_at_11': 1.0,\n",
       " 'eval_ndcg_at_15': 1.0,\n",
       " 'eval_ndcg_at_120': 1.0,\n",
       " 'eval_ndcg_at_140': 1.0,\n",
       " 'eval_recall_at_11': 0.9674796462059021,\n",
       " 'eval_recall_at_15': 0.9837398529052734,\n",
       " 'eval_recall_at_120': 0.9918699264526367,\n",
       " 'eval_recall_at_140': 1.0,\n",
       " 'loss': 0.3112412691116333,\n",
       " 'regularization_loss': 0,\n",
       " 'total_loss': 0.3112412691116333}"
      ]
     },
     "execution_count": 17,
     "metadata": {},
     "output_type": "execute_result"
    }
   ],
   "source": [
    "eval_metrics"
   ]
  },
  {
   "cell_type": "code",
   "execution_count": 18,
   "id": "771c32e7",
   "metadata": {},
   "outputs": [
    {
     "name": "stdout",
     "output_type": "stream",
     "text": [
      "********************\n",
      "Eval results for day 5 are:\t\n",
      "\n",
      "********************\n",
      "\n",
      " eval_ndcg_at_11 = 1.0\n",
      " eval_ndcg_at_120 = 1.0\n",
      " eval_ndcg_at_140 = 1.0\n",
      " eval_ndcg_at_15 = 1.0\n",
      " eval_recall_at_11 = 0.9674796462059021\n",
      " eval_recall_at_120 = 0.9918699264526367\n",
      " eval_recall_at_140 = 1.0\n",
      " eval_recall_at_15 = 0.9837398529052734\n",
      " loss = 0.3112412691116333\n",
      " regularization_loss = 0\n",
      " total_loss = 0.3112412691116333\n"
     ]
    }
   ],
   "source": [
    "print('*'*20)\n",
    "print(\"Eval results for day %s are:\\t\" %time_index_eval)\n",
    "print('\\n' + '*'*20 + '\\n')\n",
    "for key in sorted(eval_metrics.keys()):\n",
    "    print(\" %s = %s\" % (key, str(eval_metrics[key]))) "
   ]
  },
  {
   "cell_type": "markdown",
   "id": "5afa9bc5",
   "metadata": {},
   "source": [
    "### Saves the model"
   ]
  },
  {
   "cell_type": "code",
   "execution_count": 19,
   "id": "5e264991",
   "metadata": {},
   "outputs": [
    {
     "name": "stdout",
     "output_type": "stream",
     "text": [
      "WARNING:tensorflow:Skipping full serialization of Keras layer TFSharedEmbeddings(), because it is not built.\n",
      "WARNING:tensorflow:Skipping full serialization of Keras layer Dropout(), because it is not built.\n",
      "WARNING:tensorflow:Skipping full serialization of Keras layer Dropout(), because it is not built.\n",
      "WARNING:tensorflow:Skipping full serialization of Keras layer TFSequenceSummary(), because it is not built.\n"
     ]
    },
    {
     "name": "stderr",
     "output_type": "stream",
     "text": [
      "WARNING:absl:Function `_wrapped_model` contains input name(s) category-list_trim, item_id-list_trim, timestamp/age_days-list_trim, timestamp/weekday/sin-list_trim with unsupported characters which will be renamed to category_list_trim, item_id_list_trim, timestamp_age_days_list_trim, timestamp_weekday_sin_list_trim in the SavedModel.\n",
      "WARNING:absl:Found untraced functions such as sequential_block_1_layer_call_and_return_conditional_losses, sequential_block_1_layer_call_fn, next_item_prediction_task_layer_call_and_return_conditional_losses, next_item_prediction_task_layer_call_fn, sequential_block_1_layer_call_fn while saving (showing 5 of 205). These functions will not be directly callable after loading.\n"
     ]
    },
    {
     "name": "stdout",
     "output_type": "stream",
     "text": [
      "INFO:tensorflow:Assets written to: tmp/tensorflow/assets\n"
     ]
    },
    {
     "name": "stderr",
     "output_type": "stream",
     "text": [
      "INFO:tensorflow:Assets written to: tmp/tensorflow/assets\n"
     ]
    }
   ],
   "source": [
    "model.save('tmp/tensorflow')"
   ]
  },
  {
   "cell_type": "markdown",
   "id": "4d7a153e",
   "metadata": {},
   "source": [
    "### Reloads the model"
   ]
  },
  {
   "cell_type": "code",
   "execution_count": 42,
   "id": "a3994956",
   "metadata": {},
   "outputs": [],
   "source": [
    "custom_objects = dict([(e.__class__.__name__, e) for e in task.metrics])\n",
    "custom_objects.update({\"Model\": tr.model.base.Model})\n",
    "model = tf.keras.models.load_model('./tmp/tensorflow', custom_objects=custom_objects)"
   ]
  },
  {
   "cell_type": "code",
   "execution_count": 43,
   "id": "3d4d96fa",
   "metadata": {},
   "outputs": [],
   "source": [
    "batch = next(iter(eval_loader))"
   ]
  },
  {
   "cell_type": "code",
   "execution_count": 45,
   "id": "d99c2442",
   "metadata": {},
   "outputs": [
    {
     "data": {
      "text/plain": [
       "<tf.Tensor: shape=(64, 50006), dtype=float32, numpy=\n",
       "array([[-14.493961 , -15.484225 , -11.110427 , ..., -14.346155 ,\n",
       "        -13.904466 , -12.666895 ],\n",
       "       [-13.279946 , -15.803352 ,  -6.682808 , ..., -14.312171 ,\n",
       "        -14.838006 , -13.458751 ],\n",
       "       [-14.116868 , -13.203354 ,  -7.3250527, ..., -13.805136 ,\n",
       "        -14.0072565, -14.038446 ],\n",
       "       ...,\n",
       "       [-16.1054   , -13.409816 ,  -7.595481 , ..., -15.479166 ,\n",
       "        -14.379271 , -13.219385 ],\n",
       "       [-13.628686 , -13.306683 ,  -9.541618 , ..., -13.696954 ,\n",
       "        -14.751454 , -12.460076 ],\n",
       "       [-13.796522 , -14.849159 , -11.28446  , ..., -13.630577 ,\n",
       "        -14.95263  , -12.956992 ]], dtype=float32)>"
      ]
     },
     "execution_count": 45,
     "metadata": {},
     "output_type": "execute_result"
    }
   ],
   "source": [
    "model(batch[0])"
   ]
  },
  {
   "cell_type": "markdown",
   "id": "6c21d612",
   "metadata": {},
   "source": [
    "That's it!  \n",
    "You have just trained your session-based recommendation model using Transformers4Rec."
   ]
  }
 ],
 "metadata": {
  "interpreter": {
   "hash": "7b543a88d374ac88bf8df97911b380f671b13649694a5b49eb21e60fd27eb479"
  },
  "kernelspec": {
   "display_name": "Python 3 (ipykernel)",
   "language": "python",
   "name": "python3"
  },
  "language_info": {
   "codemirror_mode": {
    "name": "ipython",
    "version": 3
   },
   "file_extension": ".py",
   "mimetype": "text/x-python",
   "name": "python",
   "nbconvert_exporter": "python",
   "pygments_lexer": "ipython3",
   "version": "3.8.10"
  }
 },
 "nbformat": 4,
 "nbformat_minor": 5
}
