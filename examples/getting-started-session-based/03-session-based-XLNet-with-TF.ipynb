{
 "cells": [
  {
   "cell_type": "code",
   "execution_count": 1,
   "id": "829d71e1",
   "metadata": {},
   "outputs": [],
   "source": [
    "# Copyright 2021 NVIDIA Corporation. All Rights Reserved.\n",
    "#\n",
    "# Licensed under the Apache License, Version 2.0 (the \"License\");\n",
    "# you may not use this file except in compliance with the License.\n",
    "# You may obtain a copy of the License at\n",
    "#\n",
    "#     http://www.apache.org/licenses/LICENSE-2.0\n",
    "#\n",
    "# Unless required by applicable law or agreed to in writing, software\n",
    "# distributed under the License is distributed on an \"AS IS\" BASIS,\n",
    "# WITHOUT WARRANTIES OR CONDITIONS OF ANY KIND, either express or implied.\n",
    "# See the License for the specific language governing permissions and\n",
    "# limitations under the License.\n",
    "# =============================================================================="
   ]
  },
  {
   "cell_type": "markdown",
   "id": "95ebd562",
   "metadata": {},
   "source": [
    "# Session-based Recommendation with XLNET"
   ]
  },
  {
   "cell_type": "markdown",
   "id": "ee69e6c5",
   "metadata": {},
   "source": [
    "In this notebook we introduce the [Transformers4Rec](https://github.com/NVIDIA-Merlin/Transformers4Rec) library for sequential and session-based recommendation. This notebook uses the PyTorch API, but a TensorFlow API is also available. Transformers4Rec integrates with the popular [HuggingFace’s Transformers](https://github.com/huggingface/transformers) and make it possible to experiment with cutting-edge implementation of the latest NLP Transformer architectures.  \n",
    "\n",
    "We demonstrate how to build a session-based recommendation model with the [XLNET](https://arxiv.org/abs/1906.08237) Transformer architecture. The XLNet architecture was designed to leverage the best of both auto-regressive language modeling and auto-encoding with its Permutation Language Modeling training method. In this example we will use XLNET with masked language modeling (MLM) training method, which showed very promising results in the experiments conducted in our [ACM RecSys'21 paper](https://github.com/NVIDIA-Merlin/publications/blob/main/2021_acm_recsys_transformers4rec/recsys21_transformers4rec_paper.pdf)."
   ]
  },
  {
   "cell_type": "markdown",
   "id": "1dc0f40a",
   "metadata": {},
   "source": [
    "In the previous notebook we went through our ETL pipeline with NVTabular library, and created sequential features to be used in training a session-based recommendation model. In this notebook we will learn:\n",
    "\n",
    "- Accelerating data loading of parquet files with multiple features on PyTorch using NVTabular library\n",
    "- Training and evaluating a Transformer-based (XLNET-MLM) session-based recommendation model with multiple features"
   ]
  },
  {
   "cell_type": "markdown",
   "id": "b2cfe10b",
   "metadata": {},
   "source": [
    "## Build a DL model with Transformers4Rec library  "
   ]
  },
  {
   "cell_type": "markdown",
   "id": "6d4ccc5b",
   "metadata": {},
   "source": [
    "Transformers4Rec supports multiple input features and provides configurable building blocks that can be easily combined for custom architectures:\n",
    "\n",
    "- [TabularSequenceFeatures](https://nvidia-merlin.github.io/Transformers4Rec/main/api/transformers4rec.torch.html#transformers4rec.torch.TabularSequenceFeatures) class that reads from schema and creates an input block. This input module combines different types of features (continuous, categorical & text) to a sequence.\n",
    "-  [MaskSequence](https://github.com/NVIDIA-Merlin/Transformers4Rec/blob/main/transformers4rec/torch/masking.py) to define masking schema and prepare the masked inputs and labels for the selected LM task.\n",
    "-  [TransformerBlock](https://nvidia-merlin.github.io/Transformers4Rec/main/api/transformers4rec.torch.html#transformers4rec.torch.TransformerBlock) class that supports HuggingFace Transformers for session-based and sequential-based recommendation models.\n",
    "-  [SequentialBlock](https://nvidia-merlin.github.io/Transformers4Rec/main/api/transformers4rec.torch.html#transformers4rec.torch.SequentialBlock) creates the body by mimicking [torch.nn.sequential](https://pytorch.org/docs/stable/generated/torch.nn.Sequential.html) class. It is designed to define our model as a sequence of layers.\n",
    "-  [Head](https://nvidia-merlin.github.io/Transformers4Rec/main/api/transformers4rec.torch.html#transformers4rec.torch.Head) where we define the prediction task of the model.\n",
    "-  [NextItemPredictionTask](https://nvidia-merlin.github.io/Transformers4Rec/main/api/transformers4rec.torch.html#transformers4rec.torch.NextItemPredictionTask) is the class to support next item prediction task.\n",
    "- [Trainer](https://nvidia-merlin.github.io/Transformers4Rec/main/api/transformers4rec.torch.html#transformers4rec.torch.Trainer) extends the `Trainer` class from HF transformers and manages the model training and evaluation.\n",
    "\n",
    "You can check the [full documentation](https://nvidia-merlin.github.io/Transformers4Rec/main/index.html) of Transformers4Rec if needed."
   ]
  },
  {
   "cell_type": "markdown",
   "id": "2fbdb9c8",
   "metadata": {},
   "source": [
    "Figure 1 illustrates Transformers4Rec meta-architecture and how each module/block interacts with each other."
   ]
  },
  {
   "cell_type": "markdown",
   "id": "396076b2",
   "metadata": {},
   "source": [
    "![tf4rec_meta](images/tf4rec_meta2.png)"
   ]
  },
  {
   "cell_type": "markdown",
   "id": "0e7eb33f",
   "metadata": {},
   "source": [
    "### Imports required libraries"
   ]
  },
  {
   "cell_type": "code",
   "execution_count": 2,
   "id": "7f3330de",
   "metadata": {},
   "outputs": [],
   "source": [
    "import os\n",
    "import os\n",
    "os.environ['TF_CPP_MIN_LOG_LEVEL'] = '3' \n",
    "import glob\n",
    "\n",
    "from nvtabular.loader.tensorflow import KerasSequenceLoader\n",
    "\n",
    "from transformers4rec import tf as tr\n",
    "from transformers4rec.tf.ranking_metric import NDCGAt, AvgPrecisionAt, RecallAt"
   ]
  },
  {
   "cell_type": "code",
   "execution_count": 3,
   "id": "e875b93d",
   "metadata": {},
   "outputs": [],
   "source": [
    "import cudf\n",
    "import dask_cudf\n",
    "from cudf.io.parquet import ParquetWriter as pwriter_cudf\n",
    "from dask_cudf.io.parquet import CudfEngine"
   ]
  },
  {
   "cell_type": "markdown",
   "id": "abc20f09",
   "metadata": {},
   "source": [
    "Transformers4Rec library relies on a schema object to automatically build all necessary layers to represent, normalize and aggregate input features. As you can see below, `schema.pb` is a protobuf file that contains metadata including statistics about features such as cardinality, min and max values and also tags features based on their characteristics and dtypes (e.g., categorical, continuous, list, integer)."
   ]
  },
  {
   "cell_type": "markdown",
   "id": "3da652df",
   "metadata": {},
   "source": [
    "### Manually set the schema "
   ]
  },
  {
   "cell_type": "code",
   "execution_count": 4,
   "id": "0abd4957",
   "metadata": {},
   "outputs": [
    {
     "name": "stdout",
     "output_type": "stream",
     "text": [
      "feature {\n",
      "  name: \"session_id\"\n",
      "  type: INT\n",
      "  int_domain {\n",
      "    name: \"session_id\"\n",
      "    min: 1\n",
      "    max: 100001\n",
      "    is_categorical: false\n",
      "  }\n",
      "  annotation {\n",
      "    tag: \"groupby_col\"\n",
      "  }\n",
      "}\n",
      "feature {\n",
      "  name: \"category-list_trim\"\n",
      "  value_count {\n",
      "    min: 2\n",
      "    max: 20\n",
      "  }\n",
      "  type: INT\n",
      "  int_domain {\n",
      "    name: \"category-list_trim\"\n",
      "    min: 1\n",
      "    max: 400\n",
      "    is_categorical: true\n",
      "  }\n",
      "  annotation {\n",
      "    tag: \"list\"\n",
      "    tag: \"categorical\"\n",
      "    tag: \"item\"\n",
      "  }\n",
      "}\n",
      "feature {\n",
      "  name: \"item_id-list_trim\"\n",
      "  value_count {\n",
      "    min: 2\n",
      "    max: 20\n",
      "  }\n",
      "  type: INT\n",
      "  int_domain {\n",
      "    name: \"item_id/list\"\n",
      "    min: 1\n",
      "    max: 50005\n",
      "    is_categorical: true\n",
      "  }\n",
      "  annotation {\n",
      "    tag: \"item_id\"\n",
      "    tag: \"list\"\n",
      "    tag: \"categorical\"\n",
      "    tag: \"item\"\n",
      "  }\n",
      "}\n",
      "feature {\n",
      "  name: \"timestamp/age_days-list_trim\"\n",
      "  value_count {\n",
      "    min: 2\n",
      "    max: 20\n",
      "  }\n",
      "  type: FLOAT\n",
      "  float_domain {\n",
      "    name: \"timestamp/age_days-list_trim\"\n",
      "    min: 0.0000003\n",
      "    max: 0.9999999\n",
      "  }\n",
      "  annotation {\n",
      "    tag: \"continuous\"\n",
      "    tag: \"list\"\n",
      "  }\n",
      "}\n",
      "feature {\n",
      "  name: \"timestamp/weekday/sin-list_trim\"\n",
      "  value_count {\n",
      "    min: 2\n",
      "    max: 20\n",
      "  }\n",
      "  type: FLOAT\n",
      "  float_domain {\n",
      "    name: \"timestamp/weekday-sin_trim\"\n",
      "    min: 0.0000003\n",
      "    max: 0.9999999\n",
      "  }\n",
      "  annotation {\n",
      "    tag: \"continuous\"\n",
      "    tag: \"time\"\n",
      "    tag: \"list\"\n",
      "  }\n",
      "}"
     ]
    }
   ],
   "source": [
    "from merlin_standard_lib import Schema\n",
    "SCHEMA_PATH = \"schema.pb\"\n",
    "schema = Schema().from_proto_text(SCHEMA_PATH)\n",
    "!cat $SCHEMA_PATH"
   ]
  },
  {
   "cell_type": "code",
   "execution_count": 5,
   "id": "8d5cc0e3",
   "metadata": {},
   "outputs": [],
   "source": [
    "# You can select a subset of features for training\n",
    "schema = schema.select_by_name(['item_id-list_trim', \n",
    "                                'category-list_trim', \n",
    "                                'timestamp/weekday/sin-list_trim',\n",
    "                                'timestamp/age_days-list_trim'])"
   ]
  },
  {
   "cell_type": "markdown",
   "id": "9a72110a",
   "metadata": {},
   "source": [
    "### Define the sequential input module"
   ]
  },
  {
   "cell_type": "markdown",
   "id": "62368d00",
   "metadata": {},
   "source": [
    "Below we define our `input` block using the `TabularSequenceFeatures` [class](https://github.com/NVIDIA-Merlin/Transformers4Rec/blob/main/transformers4rec/tf/features/sequence.py#L121). The `from_schema()` method processes the schema and creates the necessary layers to represent features and aggregate them. It keeps only features tagged as `categorical` and `continuous` and supports data aggregation methods like `concat` and `elementwise-sum` techniques. It also support data augmentation techniques like stochastic swap noise. It outputs an interaction representation after combining all features and also the input mask according to the training task (more on this later).\n"
   ]
  },
  {
   "cell_type": "markdown",
   "id": "f507e843",
   "metadata": {},
   "source": [
    "The `max_sequence_length` argument defines the maximum sequence length of our sequential input, and if `continuous_projection` argument is set, all numerical features are concatenated and projected by an MLP block so that continuous features are represented by a vector of size defined by user, which is `64` in this example."
   ]
  },
  {
   "cell_type": "code",
   "execution_count": 6,
   "id": "030a4caf",
   "metadata": {},
   "outputs": [],
   "source": [
    "inputs = tr.TabularSequenceFeatures.from_schema(\n",
    "        schema,\n",
    "        max_sequence_length=20,\n",
    "        continuous_projection=64,\n",
    "        d_output=100,\n",
    "        masking=\"mlm\",\n",
    ")"
   ]
  },
  {
   "cell_type": "markdown",
   "id": "90acf861",
   "metadata": {},
   "source": [
    "The output of the `TabularSequenceFeatures` module is the sequence of interactions embeddings vectors defined in the following steps:\n",
    "- 1. Create sequence inputs: If the schema contains non sequential features, expand each feature to a sequence by repeating the value as many as the `max_sequence_length` value.  \n",
    "- 2. Get a representation vector of categorical features: Project each sequential categorical feature using the related embedding table. The resulting tensor is of shape (bs, max_sequence_length, embed_dim).\n",
    "- 3. Project scalar values if `continuous_projection` is set : Apply an MLP layer with hidden size equal to `continuous_projection` vector size value. The resulting tensor is of shape (batch_size, max_sequence_length, continuous_projection).\n",
    "- 4. Aggregate the list of features vectors to represent each interaction in the sequence with one vector: For example, `concat` will concat all vectors based on the last dimension `-1` and the resulting tensor will be of shape (batch_size, max_sequence_length, D) where D is the sum over all embedding dimensions and the value of continuous_projection. \n",
    "- 5. If masking schema is set (needed only for the NextItemPredictionTask training), the masked labels are derived from the sequence of raw item-ids and the sequence of interactions embeddings are processed to mask information about the masked positions."
   ]
  },
  {
   "cell_type": "markdown",
   "id": "199e395f",
   "metadata": {},
   "source": [
    "### Define the Transformer Block"
   ]
  },
  {
   "cell_type": "markdown",
   "id": "a9b3b90d",
   "metadata": {},
   "source": [
    "In the next cell, the whole model is build with a few lines of code. \n",
    "Here is a brief explanation of the main classes:  \n",
    "- [XLNetConfig](https://github.com/NVIDIA-Merlin/Transformers4Rec/blob/main/transformers4rec/config/transformer.py#L261) - We have injected in the HF transformers config classes like `XLNetConfig`the `build()` method, that provides default configuration to Transformer architectures for session-based recommendation. Here we use it to instantiate and configure an XLNET architecture.  \n",
    "- [TransformerBlock](https://github.com/NVIDIA-Merlin/Transformers4Rec/blob/main/transformers4rec/tf/block/transformer.py#L42) class integrates with HF Transformers, which are made available as a sequence processing module for session-based and sequential-based recommendation models.  \n",
    "- [NextItemPredictionTask](https://github.com/NVIDIA-Merlin/Transformers4Rec/blob/405e3142f1274b1b0d642f4834ac437f2549cd33/transformers4rec/tf/model/prediction_task.py#82) supports the next-item prediction task. We also support other predictions [tasks](https://github.com/NVIDIA-Merlin/Transformers4Rec/blob/main/transformers4rec/tf/model/prediction_task.py), like classification and regression for the whole sequence. "
   ]
  },
  {
   "cell_type": "code",
   "execution_count": 7,
   "id": "c8d3ef7a",
   "metadata": {},
   "outputs": [],
   "source": [
    "# Define XLNetConfig class and set default parameters for HF XLNet config  \n",
    "transformer_config = tr.XLNetConfig.build(\n",
    "    d_model=64, n_head=4, n_layer=2, total_seq_length=20\n",
    ")\n",
    "# Define the model block including: inputs, masking, projection and transformer block.\n",
    "body = tr.SequentialBlock(\n",
    "    [inputs, tr.MLPBlock([64]), tr.TransformerBlock(transformer_config, masking=inputs.masking)]\n",
    ")\n",
    "\n",
    "# Defines the evaluation top-N metrics and the cut-offs\n",
    "metrics = (\n",
    "    NDCGAt(top_ks=[1, 5, 20, 40], labels_onehot=True),  \n",
    "    RecallAt(top_ks=[1, 5, 20, 40], labels_onehot=True)\n",
    "          )\n",
    "\n",
    "# link task to body and generate the end-to-end keras model\n",
    "task = tr.NextItemPredictionTask(weight_tying=True, metrics=metrics)\n",
    " \n",
    "model = task.to_model(body=body)"
   ]
  },
  {
   "cell_type": "markdown",
   "id": "ad1b5657",
   "metadata": {},
   "source": [
    "### Train the model "
   ]
  },
  {
   "cell_type": "markdown",
   "id": "a0b46cc2",
   "metadata": {},
   "source": [
    "We use the NVTabular `KerasSequenceLoader` Dataloader for optimized loading of multiple features from input parquet files. You can learn more about this data loader [here](https://nvidia-merlin.github.io/NVTabular/main/training/tensorflow.html)."
   ]
  },
  {
   "cell_type": "markdown",
   "id": "7653df09",
   "metadata": {},
   "source": [
    "### **Set DataLoader**"
   ]
  },
  {
   "cell_type": "code",
   "execution_count": 8,
   "id": "dc3f631c",
   "metadata": {},
   "outputs": [],
   "source": [
    "x_cat_names, x_cont_names = ['category-list_trim', 'item_id-list_trim'], ['timestamp/age_days-list_trim', 'timestamp/weekday/sin-list_trim']\n",
    "\n",
    "# dictionary representing max sequence length for column\n",
    "sparse_features_max = {\n",
    "    fname: 20\n",
    "    for fname in x_cat_names + x_cont_names\n",
    "}\n",
    "\n",
    "def get_dataloader(paths_or_dataset, batch_size=64):\n",
    "    dataloader = KerasSequenceLoader(\n",
    "        paths_or_dataset,\n",
    "        batch_size=batch_size,\n",
    "        label_names=None,\n",
    "        cat_names=x_cat_names,\n",
    "        cont_names=x_cont_names,\n",
    "        sparse_names=list(sparse_features_max.keys()),\n",
    "        sparse_max=sparse_features_max,\n",
    "        sparse_as_dense=True,\n",
    "    )\n",
    "    return dataloader.map(lambda X, y: (X, []))"
   ]
  },
  {
   "cell_type": "markdown",
   "id": "94ddd25f",
   "metadata": {},
   "source": [
    "## Set training params"
   ]
  },
  {
   "cell_type": "code",
   "execution_count": 9,
   "id": "d9ebc653",
   "metadata": {},
   "outputs": [],
   "source": [
    "import tensorflow as tf\n",
    "lr_schedule = tf.keras.optimizers.schedules.CosineDecay(\n",
    "    initial_learning_rate=0.0005,\n",
    "    decay_steps=1.5)\n",
    "optimizer = tf.keras.optimizers.Adam(learning_rate=lr_schedule)\n",
    "model.compile(optimizer=\"adam\", run_eagerly=True)"
   ]
  },
  {
   "cell_type": "markdown",
   "id": "67175c07",
   "metadata": {},
   "source": [
    "## Daily Fine-Tuning: Training over a time window"
   ]
  },
  {
   "cell_type": "markdown",
   "id": "d86c2575",
   "metadata": {},
   "source": [
    "Here we do daily fine-tuning meaning that we use the first day to train and second day to evaluate, then we use the second day data to train the model by resuming from the first step, and evaluate on the third day, so on so forth."
   ]
  },
  {
   "cell_type": "markdown",
   "id": "7484df73",
   "metadata": {},
   "source": [
    "- Define the output folder of the processed parquet files"
   ]
  },
  {
   "cell_type": "code",
   "execution_count": 10,
   "id": "80bed8a3",
   "metadata": {},
   "outputs": [],
   "source": [
    "OUTPUT_DIR = os.environ.get(\"OUTPUT_DIR\", \"/workspace/data/sessions_by_day\")"
   ]
  },
  {
   "cell_type": "code",
   "execution_count": 11,
   "id": "ceb428a0",
   "metadata": {},
   "outputs": [],
   "source": [
    "import warnings\n",
    "warnings.filterwarnings('ignore')"
   ]
  },
  {
   "cell_type": "code",
   "execution_count": 12,
   "id": "fb812e2d",
   "metadata": {},
   "outputs": [
    {
     "name": "stdout",
     "output_type": "stream",
     "text": [
      "['/workspace/data/sessions_by_day/1/train.parquet']\n",
      "********************\n",
      "Launch training for day 1 are:\n",
      "********************\n",
      "\n",
      "WARNING:tensorflow:The parameters `output_attentions`, `output_hidden_states` and `use_cache` cannot be updated when calling a model.They have to be set to True/False in the config object (i.e.: `config=XConfig.from_pretrained('name', output_attentions=True)`).\n",
      "WARNING:tensorflow:AutoGraph could not transform <bound method Socket.send of <zmq.sugar.socket.Socket object at 0x7fa832b2d6a0>> and will run it as-is.\n",
      "Please report this to the TensorFlow team. When filing the bug, set the verbosity to 10 (on Linux, `export AUTOGRAPH_VERBOSITY=10`) and attach the full output.\n",
      "Cause: module, class, method, function, traceback, frame, or code object was expected, got cython_function_or_method\n",
      "To silence this warning, decorate the function with @tf.autograph.experimental.do_not_convert\n",
      "WARNING: AutoGraph could not transform <bound method Socket.send of <zmq.sugar.socket.Socket object at 0x7fa832b2d6a0>> and will run it as-is.\n",
      "Please report this to the TensorFlow team. When filing the bug, set the verbosity to 10 (on Linux, `export AUTOGRAPH_VERBOSITY=10`) and attach the full output.\n",
      "Cause: module, class, method, function, traceback, frame, or code object was expected, got cython_function_or_method\n",
      "To silence this warning, decorate the function with @tf.autograph.experimental.do_not_convert\n",
      "WARNING:tensorflow:The parameter `return_dict` cannot be set in graph mode and will always be set to `True`.\n",
      "WARNING:tensorflow:Gradients do not exist for variables ['transformer_block/tfxl_net_model/transformer/mask_emb:0', 'transformer_block/tfxl_net_model/transformer/layer_._0/rel_attn/r_s_bias:0', 'transformer_block/tfxl_net_model/transformer/layer_._0/rel_attn/seg_embed:0', 'transformer_block/tfxl_net_model/transformer/layer_._1/rel_attn/r_s_bias:0', 'transformer_block/tfxl_net_model/transformer/layer_._1/rel_attn/seg_embed:0'] when minimizing the loss.\n",
      "WARNING:tensorflow:Gradients do not exist for variables ['transformer_block/tfxl_net_model/transformer/mask_emb:0', 'transformer_block/tfxl_net_model/transformer/layer_._0/rel_attn/r_s_bias:0', 'transformer_block/tfxl_net_model/transformer/layer_._0/rel_attn/seg_embed:0', 'transformer_block/tfxl_net_model/transformer/layer_._1/rel_attn/r_s_bias:0', 'transformer_block/tfxl_net_model/transformer/layer_._1/rel_attn/seg_embed:0'] when minimizing the loss.\n",
      "WARNING:tensorflow:Gradients do not exist for variables ['transformer_block/tfxl_net_model/transformer/mask_emb:0', 'transformer_block/tfxl_net_model/transformer/layer_._0/rel_attn/r_s_bias:0', 'transformer_block/tfxl_net_model/transformer/layer_._0/rel_attn/seg_embed:0', 'transformer_block/tfxl_net_model/transformer/layer_._1/rel_attn/r_s_bias:0', 'transformer_block/tfxl_net_model/transformer/layer_._1/rel_attn/seg_embed:0'] when minimizing the loss.\n",
      "WARNING:tensorflow:Gradients do not exist for variables ['transformer_block/tfxl_net_model/transformer/mask_emb:0', 'transformer_block/tfxl_net_model/transformer/layer_._0/rel_attn/r_s_bias:0', 'transformer_block/tfxl_net_model/transformer/layer_._0/rel_attn/seg_embed:0', 'transformer_block/tfxl_net_model/transformer/layer_._1/rel_attn/r_s_bias:0', 'transformer_block/tfxl_net_model/transformer/layer_._1/rel_attn/seg_embed:0'] when minimizing the loss.\n",
      "WARNING:tensorflow:Gradients do not exist for variables ['transformer_block/tfxl_net_model/transformer/mask_emb:0', 'transformer_block/tfxl_net_model/transformer/layer_._0/rel_attn/r_s_bias:0', 'transformer_block/tfxl_net_model/transformer/layer_._0/rel_attn/seg_embed:0', 'transformer_block/tfxl_net_model/transformer/layer_._1/rel_attn/r_s_bias:0', 'transformer_block/tfxl_net_model/transformer/layer_._1/rel_attn/seg_embed:0'] when minimizing the loss.\n",
      "WARNING:tensorflow:Gradients do not exist for variables ['transformer_block/tfxl_net_model/transformer/mask_emb:0', 'transformer_block/tfxl_net_model/transformer/layer_._0/rel_attn/r_s_bias:0', 'transformer_block/tfxl_net_model/transformer/layer_._0/rel_attn/seg_embed:0', 'transformer_block/tfxl_net_model/transformer/layer_._1/rel_attn/r_s_bias:0', 'transformer_block/tfxl_net_model/transformer/layer_._1/rel_attn/seg_embed:0'] when minimizing the loss.\n",
      "WARNING:tensorflow:Gradients do not exist for variables ['transformer_block/tfxl_net_model/transformer/mask_emb:0', 'transformer_block/tfxl_net_model/transformer/layer_._0/rel_attn/r_s_bias:0', 'transformer_block/tfxl_net_model/transformer/layer_._0/rel_attn/seg_embed:0', 'transformer_block/tfxl_net_model/transformer/layer_._1/rel_attn/r_s_bias:0', 'transformer_block/tfxl_net_model/transformer/layer_._1/rel_attn/seg_embed:0'] when minimizing the loss.\n",
      "WARNING:tensorflow:Gradients do not exist for variables ['transformer_block/tfxl_net_model/transformer/mask_emb:0', 'transformer_block/tfxl_net_model/transformer/layer_._0/rel_attn/r_s_bias:0', 'transformer_block/tfxl_net_model/transformer/layer_._0/rel_attn/seg_embed:0', 'transformer_block/tfxl_net_model/transformer/layer_._1/rel_attn/r_s_bias:0', 'transformer_block/tfxl_net_model/transformer/layer_._1/rel_attn/seg_embed:0'] when minimizing the loss.\n",
      "WARNING:tensorflow:Gradients do not exist for variables ['transformer_block/tfxl_net_model/transformer/mask_emb:0', 'transformer_block/tfxl_net_model/transformer/layer_._0/rel_attn/r_s_bias:0', 'transformer_block/tfxl_net_model/transformer/layer_._0/rel_attn/seg_embed:0', 'transformer_block/tfxl_net_model/transformer/layer_._1/rel_attn/r_s_bias:0', 'transformer_block/tfxl_net_model/transformer/layer_._1/rel_attn/seg_embed:0'] when minimizing the loss.\n",
      "WARNING:tensorflow:Gradients do not exist for variables ['transformer_block/tfxl_net_model/transformer/mask_emb:0', 'transformer_block/tfxl_net_model/transformer/layer_._0/rel_attn/r_s_bias:0', 'transformer_block/tfxl_net_model/transformer/layer_._0/rel_attn/seg_embed:0', 'transformer_block/tfxl_net_model/transformer/layer_._1/rel_attn/r_s_bias:0', 'transformer_block/tfxl_net_model/transformer/layer_._1/rel_attn/seg_embed:0'] when minimizing the loss.\n",
      "WARNING:tensorflow:Gradients do not exist for variables ['transformer_block/tfxl_net_model/transformer/mask_emb:0', 'transformer_block/tfxl_net_model/transformer/layer_._0/rel_attn/r_s_bias:0', 'transformer_block/tfxl_net_model/transformer/layer_._0/rel_attn/seg_embed:0', 'transformer_block/tfxl_net_model/transformer/layer_._1/rel_attn/r_s_bias:0', 'transformer_block/tfxl_net_model/transformer/layer_._1/rel_attn/seg_embed:0'] when minimizing the loss.\n",
      "WARNING:tensorflow:Gradients do not exist for variables ['transformer_block/tfxl_net_model/transformer/mask_emb:0', 'transformer_block/tfxl_net_model/transformer/layer_._0/rel_attn/r_s_bias:0', 'transformer_block/tfxl_net_model/transformer/layer_._0/rel_attn/seg_embed:0', 'transformer_block/tfxl_net_model/transformer/layer_._1/rel_attn/r_s_bias:0', 'transformer_block/tfxl_net_model/transformer/layer_._1/rel_attn/seg_embed:0'] when minimizing the loss.\n",
      "WARNING:tensorflow:Gradients do not exist for variables ['transformer_block/tfxl_net_model/transformer/mask_emb:0', 'transformer_block/tfxl_net_model/transformer/layer_._0/rel_attn/r_s_bias:0', 'transformer_block/tfxl_net_model/transformer/layer_._0/rel_attn/seg_embed:0', 'transformer_block/tfxl_net_model/transformer/layer_._1/rel_attn/r_s_bias:0', 'transformer_block/tfxl_net_model/transformer/layer_._1/rel_attn/seg_embed:0'] when minimizing the loss.\n",
      "WARNING:tensorflow:Gradients do not exist for variables ['transformer_block/tfxl_net_model/transformer/mask_emb:0', 'transformer_block/tfxl_net_model/transformer/layer_._0/rel_attn/r_s_bias:0', 'transformer_block/tfxl_net_model/transformer/layer_._0/rel_attn/seg_embed:0', 'transformer_block/tfxl_net_model/transformer/layer_._1/rel_attn/r_s_bias:0', 'transformer_block/tfxl_net_model/transformer/layer_._1/rel_attn/seg_embed:0'] when minimizing the loss.\n",
      "WARNING:tensorflow:Gradients do not exist for variables ['transformer_block/tfxl_net_model/transformer/mask_emb:0', 'transformer_block/tfxl_net_model/transformer/layer_._0/rel_attn/r_s_bias:0', 'transformer_block/tfxl_net_model/transformer/layer_._0/rel_attn/seg_embed:0', 'transformer_block/tfxl_net_model/transformer/layer_._1/rel_attn/r_s_bias:0', 'transformer_block/tfxl_net_model/transformer/layer_._1/rel_attn/seg_embed:0'] when minimizing the loss.\n",
      "WARNING:tensorflow:Gradients do not exist for variables ['transformer_block/tfxl_net_model/transformer/mask_emb:0', 'transformer_block/tfxl_net_model/transformer/layer_._0/rel_attn/r_s_bias:0', 'transformer_block/tfxl_net_model/transformer/layer_._0/rel_attn/seg_embed:0', 'transformer_block/tfxl_net_model/transformer/layer_._1/rel_attn/r_s_bias:0', 'transformer_block/tfxl_net_model/transformer/layer_._1/rel_attn/seg_embed:0'] when minimizing the loss.\n",
      "WARNING:tensorflow:Gradients do not exist for variables ['transformer_block/tfxl_net_model/transformer/mask_emb:0', 'transformer_block/tfxl_net_model/transformer/layer_._0/rel_attn/r_s_bias:0', 'transformer_block/tfxl_net_model/transformer/layer_._0/rel_attn/seg_embed:0', 'transformer_block/tfxl_net_model/transformer/layer_._1/rel_attn/r_s_bias:0', 'transformer_block/tfxl_net_model/transformer/layer_._1/rel_attn/seg_embed:0'] when minimizing the loss.\n",
      "WARNING:tensorflow:Gradients do not exist for variables ['transformer_block/tfxl_net_model/transformer/mask_emb:0', 'transformer_block/tfxl_net_model/transformer/layer_._0/rel_attn/r_s_bias:0', 'transformer_block/tfxl_net_model/transformer/layer_._0/rel_attn/seg_embed:0', 'transformer_block/tfxl_net_model/transformer/layer_._1/rel_attn/r_s_bias:0', 'transformer_block/tfxl_net_model/transformer/layer_._1/rel_attn/seg_embed:0'] when minimizing the loss.\n",
      "WARNING:tensorflow:Gradients do not exist for variables ['transformer_block/tfxl_net_model/transformer/mask_emb:0', 'transformer_block/tfxl_net_model/transformer/layer_._0/rel_attn/r_s_bias:0', 'transformer_block/tfxl_net_model/transformer/layer_._0/rel_attn/seg_embed:0', 'transformer_block/tfxl_net_model/transformer/layer_._1/rel_attn/r_s_bias:0', 'transformer_block/tfxl_net_model/transformer/layer_._1/rel_attn/seg_embed:0'] when minimizing the loss.\n",
      "WARNING:tensorflow:Gradients do not exist for variables ['transformer_block/tfxl_net_model/transformer/mask_emb:0', 'transformer_block/tfxl_net_model/transformer/layer_._0/rel_attn/r_s_bias:0', 'transformer_block/tfxl_net_model/transformer/layer_._0/rel_attn/seg_embed:0', 'transformer_block/tfxl_net_model/transformer/layer_._1/rel_attn/r_s_bias:0', 'transformer_block/tfxl_net_model/transformer/layer_._1/rel_attn/seg_embed:0'] when minimizing the loss.\n",
      "WARNING:tensorflow:Gradients do not exist for variables ['transformer_block/tfxl_net_model/transformer/mask_emb:0', 'transformer_block/tfxl_net_model/transformer/layer_._0/rel_attn/r_s_bias:0', 'transformer_block/tfxl_net_model/transformer/layer_._0/rel_attn/seg_embed:0', 'transformer_block/tfxl_net_model/transformer/layer_._1/rel_attn/r_s_bias:0', 'transformer_block/tfxl_net_model/transformer/layer_._1/rel_attn/seg_embed:0'] when minimizing the loss.\n",
      "WARNING:tensorflow:Gradients do not exist for variables ['transformer_block/tfxl_net_model/transformer/mask_emb:0', 'transformer_block/tfxl_net_model/transformer/layer_._0/rel_attn/r_s_bias:0', 'transformer_block/tfxl_net_model/transformer/layer_._0/rel_attn/seg_embed:0', 'transformer_block/tfxl_net_model/transformer/layer_._1/rel_attn/r_s_bias:0', 'transformer_block/tfxl_net_model/transformer/layer_._1/rel_attn/seg_embed:0'] when minimizing the loss.\n",
      "WARNING:tensorflow:Gradients do not exist for variables ['transformer_block/tfxl_net_model/transformer/mask_emb:0', 'transformer_block/tfxl_net_model/transformer/layer_._0/rel_attn/r_s_bias:0', 'transformer_block/tfxl_net_model/transformer/layer_._0/rel_attn/seg_embed:0', 'transformer_block/tfxl_net_model/transformer/layer_._1/rel_attn/r_s_bias:0', 'transformer_block/tfxl_net_model/transformer/layer_._1/rel_attn/seg_embed:0'] when minimizing the loss.\n",
      "WARNING:tensorflow:Gradients do not exist for variables ['transformer_block/tfxl_net_model/transformer/mask_emb:0', 'transformer_block/tfxl_net_model/transformer/layer_._0/rel_attn/r_s_bias:0', 'transformer_block/tfxl_net_model/transformer/layer_._0/rel_attn/seg_embed:0', 'transformer_block/tfxl_net_model/transformer/layer_._1/rel_attn/r_s_bias:0', 'transformer_block/tfxl_net_model/transformer/layer_._1/rel_attn/seg_embed:0'] when minimizing the loss.\n",
      "WARNING:tensorflow:Gradients do not exist for variables ['transformer_block/tfxl_net_model/transformer/mask_emb:0', 'transformer_block/tfxl_net_model/transformer/layer_._0/rel_attn/r_s_bias:0', 'transformer_block/tfxl_net_model/transformer/layer_._0/rel_attn/seg_embed:0', 'transformer_block/tfxl_net_model/transformer/layer_._1/rel_attn/r_s_bias:0', 'transformer_block/tfxl_net_model/transformer/layer_._1/rel_attn/seg_embed:0'] when minimizing the loss.\n",
      "WARNING:tensorflow:Gradients do not exist for variables ['transformer_block/tfxl_net_model/transformer/mask_emb:0', 'transformer_block/tfxl_net_model/transformer/layer_._0/rel_attn/r_s_bias:0', 'transformer_block/tfxl_net_model/transformer/layer_._0/rel_attn/seg_embed:0', 'transformer_block/tfxl_net_model/transformer/layer_._1/rel_attn/r_s_bias:0', 'transformer_block/tfxl_net_model/transformer/layer_._1/rel_attn/seg_embed:0'] when minimizing the loss.\n",
      "WARNING:tensorflow:Gradients do not exist for variables ['transformer_block/tfxl_net_model/transformer/mask_emb:0', 'transformer_block/tfxl_net_model/transformer/layer_._0/rel_attn/r_s_bias:0', 'transformer_block/tfxl_net_model/transformer/layer_._0/rel_attn/seg_embed:0', 'transformer_block/tfxl_net_model/transformer/layer_._1/rel_attn/r_s_bias:0', 'transformer_block/tfxl_net_model/transformer/layer_._1/rel_attn/seg_embed:0'] when minimizing the loss.\n",
      "WARNING:tensorflow:Gradients do not exist for variables ['transformer_block/tfxl_net_model/transformer/mask_emb:0', 'transformer_block/tfxl_net_model/transformer/layer_._0/rel_attn/r_s_bias:0', 'transformer_block/tfxl_net_model/transformer/layer_._0/rel_attn/seg_embed:0', 'transformer_block/tfxl_net_model/transformer/layer_._1/rel_attn/r_s_bias:0', 'transformer_block/tfxl_net_model/transformer/layer_._1/rel_attn/seg_embed:0'] when minimizing the loss.\n",
      "WARNING:tensorflow:Gradients do not exist for variables ['transformer_block/tfxl_net_model/transformer/mask_emb:0', 'transformer_block/tfxl_net_model/transformer/layer_._0/rel_attn/r_s_bias:0', 'transformer_block/tfxl_net_model/transformer/layer_._0/rel_attn/seg_embed:0', 'transformer_block/tfxl_net_model/transformer/layer_._1/rel_attn/r_s_bias:0', 'transformer_block/tfxl_net_model/transformer/layer_._1/rel_attn/seg_embed:0'] when minimizing the loss.\n",
      "WARNING:tensorflow:Gradients do not exist for variables ['transformer_block/tfxl_net_model/transformer/mask_emb:0', 'transformer_block/tfxl_net_model/transformer/layer_._0/rel_attn/r_s_bias:0', 'transformer_block/tfxl_net_model/transformer/layer_._0/rel_attn/seg_embed:0', 'transformer_block/tfxl_net_model/transformer/layer_._1/rel_attn/r_s_bias:0', 'transformer_block/tfxl_net_model/transformer/layer_._1/rel_attn/seg_embed:0'] when minimizing the loss.\n",
      "WARNING:tensorflow:Gradients do not exist for variables ['transformer_block/tfxl_net_model/transformer/mask_emb:0', 'transformer_block/tfxl_net_model/transformer/layer_._0/rel_attn/r_s_bias:0', 'transformer_block/tfxl_net_model/transformer/layer_._0/rel_attn/seg_embed:0', 'transformer_block/tfxl_net_model/transformer/layer_._1/rel_attn/r_s_bias:0', 'transformer_block/tfxl_net_model/transformer/layer_._1/rel_attn/seg_embed:0'] when minimizing the loss.\n",
      "WARNING:tensorflow:Gradients do not exist for variables ['transformer_block/tfxl_net_model/transformer/mask_emb:0', 'transformer_block/tfxl_net_model/transformer/layer_._0/rel_attn/r_s_bias:0', 'transformer_block/tfxl_net_model/transformer/layer_._0/rel_attn/seg_embed:0', 'transformer_block/tfxl_net_model/transformer/layer_._1/rel_attn/r_s_bias:0', 'transformer_block/tfxl_net_model/transformer/layer_._1/rel_attn/seg_embed:0'] when minimizing the loss.\n",
      "WARNING:tensorflow:Gradients do not exist for variables ['transformer_block/tfxl_net_model/transformer/mask_emb:0', 'transformer_block/tfxl_net_model/transformer/layer_._0/rel_attn/r_s_bias:0', 'transformer_block/tfxl_net_model/transformer/layer_._0/rel_attn/seg_embed:0', 'transformer_block/tfxl_net_model/transformer/layer_._1/rel_attn/r_s_bias:0', 'transformer_block/tfxl_net_model/transformer/layer_._1/rel_attn/seg_embed:0'] when minimizing the loss.\n",
      "WARNING:tensorflow:Gradients do not exist for variables ['transformer_block/tfxl_net_model/transformer/mask_emb:0', 'transformer_block/tfxl_net_model/transformer/layer_._0/rel_attn/r_s_bias:0', 'transformer_block/tfxl_net_model/transformer/layer_._0/rel_attn/seg_embed:0', 'transformer_block/tfxl_net_model/transformer/layer_._1/rel_attn/r_s_bias:0', 'transformer_block/tfxl_net_model/transformer/layer_._1/rel_attn/seg_embed:0'] when minimizing the loss.\n",
      "WARNING:tensorflow:Gradients do not exist for variables ['transformer_block/tfxl_net_model/transformer/mask_emb:0', 'transformer_block/tfxl_net_model/transformer/layer_._0/rel_attn/r_s_bias:0', 'transformer_block/tfxl_net_model/transformer/layer_._0/rel_attn/seg_embed:0', 'transformer_block/tfxl_net_model/transformer/layer_._1/rel_attn/r_s_bias:0', 'transformer_block/tfxl_net_model/transformer/layer_._1/rel_attn/seg_embed:0'] when minimizing the loss.\n",
      "WARNING:tensorflow:Gradients do not exist for variables ['transformer_block/tfxl_net_model/transformer/mask_emb:0', 'transformer_block/tfxl_net_model/transformer/layer_._0/rel_attn/r_s_bias:0', 'transformer_block/tfxl_net_model/transformer/layer_._0/rel_attn/seg_embed:0', 'transformer_block/tfxl_net_model/transformer/layer_._1/rel_attn/r_s_bias:0', 'transformer_block/tfxl_net_model/transformer/layer_._1/rel_attn/seg_embed:0'] when minimizing the loss.\n",
      "WARNING:tensorflow:Gradients do not exist for variables ['transformer_block/tfxl_net_model/transformer/mask_emb:0', 'transformer_block/tfxl_net_model/transformer/layer_._0/rel_attn/r_s_bias:0', 'transformer_block/tfxl_net_model/transformer/layer_._0/rel_attn/seg_embed:0', 'transformer_block/tfxl_net_model/transformer/layer_._1/rel_attn/r_s_bias:0', 'transformer_block/tfxl_net_model/transformer/layer_._1/rel_attn/seg_embed:0'] when minimizing the loss.\n",
      "WARNING:tensorflow:Gradients do not exist for variables ['transformer_block/tfxl_net_model/transformer/mask_emb:0', 'transformer_block/tfxl_net_model/transformer/layer_._0/rel_attn/r_s_bias:0', 'transformer_block/tfxl_net_model/transformer/layer_._0/rel_attn/seg_embed:0', 'transformer_block/tfxl_net_model/transformer/layer_._1/rel_attn/r_s_bias:0', 'transformer_block/tfxl_net_model/transformer/layer_._1/rel_attn/seg_embed:0'] when minimizing the loss.\n",
      "WARNING:tensorflow:Gradients do not exist for variables ['transformer_block/tfxl_net_model/transformer/mask_emb:0', 'transformer_block/tfxl_net_model/transformer/layer_._0/rel_attn/r_s_bias:0', 'transformer_block/tfxl_net_model/transformer/layer_._0/rel_attn/seg_embed:0', 'transformer_block/tfxl_net_model/transformer/layer_._1/rel_attn/r_s_bias:0', 'transformer_block/tfxl_net_model/transformer/layer_._1/rel_attn/seg_embed:0'] when minimizing the loss.\n",
      "WARNING:tensorflow:Gradients do not exist for variables ['transformer_block/tfxl_net_model/transformer/mask_emb:0', 'transformer_block/tfxl_net_model/transformer/layer_._0/rel_attn/r_s_bias:0', 'transformer_block/tfxl_net_model/transformer/layer_._0/rel_attn/seg_embed:0', 'transformer_block/tfxl_net_model/transformer/layer_._1/rel_attn/r_s_bias:0', 'transformer_block/tfxl_net_model/transformer/layer_._1/rel_attn/seg_embed:0'] when minimizing the loss.\n",
      "WARNING:tensorflow:Gradients do not exist for variables ['transformer_block/tfxl_net_model/transformer/mask_emb:0', 'transformer_block/tfxl_net_model/transformer/layer_._0/rel_attn/r_s_bias:0', 'transformer_block/tfxl_net_model/transformer/layer_._0/rel_attn/seg_embed:0', 'transformer_block/tfxl_net_model/transformer/layer_._1/rel_attn/r_s_bias:0', 'transformer_block/tfxl_net_model/transformer/layer_._1/rel_attn/seg_embed:0'] when minimizing the loss.\n",
      "WARNING:tensorflow:Gradients do not exist for variables ['transformer_block/tfxl_net_model/transformer/mask_emb:0', 'transformer_block/tfxl_net_model/transformer/layer_._0/rel_attn/r_s_bias:0', 'transformer_block/tfxl_net_model/transformer/layer_._0/rel_attn/seg_embed:0', 'transformer_block/tfxl_net_model/transformer/layer_._1/rel_attn/r_s_bias:0', 'transformer_block/tfxl_net_model/transformer/layer_._1/rel_attn/seg_embed:0'] when minimizing the loss.\n",
      "WARNING:tensorflow:Gradients do not exist for variables ['transformer_block/tfxl_net_model/transformer/mask_emb:0', 'transformer_block/tfxl_net_model/transformer/layer_._0/rel_attn/r_s_bias:0', 'transformer_block/tfxl_net_model/transformer/layer_._0/rel_attn/seg_embed:0', 'transformer_block/tfxl_net_model/transformer/layer_._1/rel_attn/r_s_bias:0', 'transformer_block/tfxl_net_model/transformer/layer_._1/rel_attn/seg_embed:0'] when minimizing the loss.\n",
      "WARNING:tensorflow:Gradients do not exist for variables ['transformer_block/tfxl_net_model/transformer/mask_emb:0', 'transformer_block/tfxl_net_model/transformer/layer_._0/rel_attn/r_s_bias:0', 'transformer_block/tfxl_net_model/transformer/layer_._0/rel_attn/seg_embed:0', 'transformer_block/tfxl_net_model/transformer/layer_._1/rel_attn/r_s_bias:0', 'transformer_block/tfxl_net_model/transformer/layer_._1/rel_attn/seg_embed:0'] when minimizing the loss.\n",
      "WARNING:tensorflow:Gradients do not exist for variables ['transformer_block/tfxl_net_model/transformer/mask_emb:0', 'transformer_block/tfxl_net_model/transformer/layer_._0/rel_attn/r_s_bias:0', 'transformer_block/tfxl_net_model/transformer/layer_._0/rel_attn/seg_embed:0', 'transformer_block/tfxl_net_model/transformer/layer_._1/rel_attn/r_s_bias:0', 'transformer_block/tfxl_net_model/transformer/layer_._1/rel_attn/seg_embed:0'] when minimizing the loss.\n",
      "WARNING:tensorflow:Gradients do not exist for variables ['transformer_block/tfxl_net_model/transformer/mask_emb:0', 'transformer_block/tfxl_net_model/transformer/layer_._0/rel_attn/r_s_bias:0', 'transformer_block/tfxl_net_model/transformer/layer_._0/rel_attn/seg_embed:0', 'transformer_block/tfxl_net_model/transformer/layer_._1/rel_attn/r_s_bias:0', 'transformer_block/tfxl_net_model/transformer/layer_._1/rel_attn/seg_embed:0'] when minimizing the loss.\n",
      "WARNING:tensorflow:Gradients do not exist for variables ['transformer_block/tfxl_net_model/transformer/mask_emb:0', 'transformer_block/tfxl_net_model/transformer/layer_._0/rel_attn/r_s_bias:0', 'transformer_block/tfxl_net_model/transformer/layer_._0/rel_attn/seg_embed:0', 'transformer_block/tfxl_net_model/transformer/layer_._1/rel_attn/r_s_bias:0', 'transformer_block/tfxl_net_model/transformer/layer_._1/rel_attn/seg_embed:0'] when minimizing the loss.\n",
      "WARNING:tensorflow:Gradients do not exist for variables ['transformer_block/tfxl_net_model/transformer/mask_emb:0', 'transformer_block/tfxl_net_model/transformer/layer_._0/rel_attn/r_s_bias:0', 'transformer_block/tfxl_net_model/transformer/layer_._0/rel_attn/seg_embed:0', 'transformer_block/tfxl_net_model/transformer/layer_._1/rel_attn/r_s_bias:0', 'transformer_block/tfxl_net_model/transformer/layer_._1/rel_attn/seg_embed:0'] when minimizing the loss.\n",
      "WARNING:tensorflow:Gradients do not exist for variables ['transformer_block/tfxl_net_model/transformer/mask_emb:0', 'transformer_block/tfxl_net_model/transformer/layer_._0/rel_attn/r_s_bias:0', 'transformer_block/tfxl_net_model/transformer/layer_._0/rel_attn/seg_embed:0', 'transformer_block/tfxl_net_model/transformer/layer_._1/rel_attn/r_s_bias:0', 'transformer_block/tfxl_net_model/transformer/layer_._1/rel_attn/seg_embed:0'] when minimizing the loss.\n",
      "WARNING:tensorflow:Gradients do not exist for variables ['transformer_block/tfxl_net_model/transformer/mask_emb:0', 'transformer_block/tfxl_net_model/transformer/layer_._0/rel_attn/r_s_bias:0', 'transformer_block/tfxl_net_model/transformer/layer_._0/rel_attn/seg_embed:0', 'transformer_block/tfxl_net_model/transformer/layer_._1/rel_attn/r_s_bias:0', 'transformer_block/tfxl_net_model/transformer/layer_._1/rel_attn/seg_embed:0'] when minimizing the loss.\n",
      "WARNING:tensorflow:Gradients do not exist for variables ['transformer_block/tfxl_net_model/transformer/mask_emb:0', 'transformer_block/tfxl_net_model/transformer/layer_._0/rel_attn/r_s_bias:0', 'transformer_block/tfxl_net_model/transformer/layer_._0/rel_attn/seg_embed:0', 'transformer_block/tfxl_net_model/transformer/layer_._1/rel_attn/r_s_bias:0', 'transformer_block/tfxl_net_model/transformer/layer_._1/rel_attn/seg_embed:0'] when minimizing the loss.\n",
      "WARNING:tensorflow:Gradients do not exist for variables ['transformer_block/tfxl_net_model/transformer/mask_emb:0', 'transformer_block/tfxl_net_model/transformer/layer_._0/rel_attn/r_s_bias:0', 'transformer_block/tfxl_net_model/transformer/layer_._0/rel_attn/seg_embed:0', 'transformer_block/tfxl_net_model/transformer/layer_._1/rel_attn/r_s_bias:0', 'transformer_block/tfxl_net_model/transformer/layer_._1/rel_attn/seg_embed:0'] when minimizing the loss.\n",
      "WARNING:tensorflow:Gradients do not exist for variables ['transformer_block/tfxl_net_model/transformer/mask_emb:0', 'transformer_block/tfxl_net_model/transformer/layer_._0/rel_attn/r_s_bias:0', 'transformer_block/tfxl_net_model/transformer/layer_._0/rel_attn/seg_embed:0', 'transformer_block/tfxl_net_model/transformer/layer_._1/rel_attn/r_s_bias:0', 'transformer_block/tfxl_net_model/transformer/layer_._1/rel_attn/seg_embed:0'] when minimizing the loss.\n",
      "WARNING:tensorflow:Gradients do not exist for variables ['transformer_block/tfxl_net_model/transformer/mask_emb:0', 'transformer_block/tfxl_net_model/transformer/layer_._0/rel_attn/r_s_bias:0', 'transformer_block/tfxl_net_model/transformer/layer_._0/rel_attn/seg_embed:0', 'transformer_block/tfxl_net_model/transformer/layer_._1/rel_attn/r_s_bias:0', 'transformer_block/tfxl_net_model/transformer/layer_._1/rel_attn/seg_embed:0'] when minimizing the loss.\n",
      "WARNING:tensorflow:Gradients do not exist for variables ['transformer_block/tfxl_net_model/transformer/mask_emb:0', 'transformer_block/tfxl_net_model/transformer/layer_._0/rel_attn/r_s_bias:0', 'transformer_block/tfxl_net_model/transformer/layer_._0/rel_attn/seg_embed:0', 'transformer_block/tfxl_net_model/transformer/layer_._1/rel_attn/r_s_bias:0', 'transformer_block/tfxl_net_model/transformer/layer_._1/rel_attn/seg_embed:0'] when minimizing the loss.\n",
      "WARNING:tensorflow:Gradients do not exist for variables ['transformer_block/tfxl_net_model/transformer/mask_emb:0', 'transformer_block/tfxl_net_model/transformer/layer_._0/rel_attn/r_s_bias:0', 'transformer_block/tfxl_net_model/transformer/layer_._0/rel_attn/seg_embed:0', 'transformer_block/tfxl_net_model/transformer/layer_._1/rel_attn/r_s_bias:0', 'transformer_block/tfxl_net_model/transformer/layer_._1/rel_attn/seg_embed:0'] when minimizing the loss.\n",
      "WARNING:tensorflow:Gradients do not exist for variables ['transformer_block/tfxl_net_model/transformer/mask_emb:0', 'transformer_block/tfxl_net_model/transformer/layer_._0/rel_attn/r_s_bias:0', 'transformer_block/tfxl_net_model/transformer/layer_._0/rel_attn/seg_embed:0', 'transformer_block/tfxl_net_model/transformer/layer_._1/rel_attn/r_s_bias:0', 'transformer_block/tfxl_net_model/transformer/layer_._1/rel_attn/seg_embed:0'] when minimizing the loss.\n",
      "WARNING:tensorflow:Gradients do not exist for variables ['transformer_block/tfxl_net_model/transformer/mask_emb:0', 'transformer_block/tfxl_net_model/transformer/layer_._0/rel_attn/r_s_bias:0', 'transformer_block/tfxl_net_model/transformer/layer_._0/rel_attn/seg_embed:0', 'transformer_block/tfxl_net_model/transformer/layer_._1/rel_attn/r_s_bias:0', 'transformer_block/tfxl_net_model/transformer/layer_._1/rel_attn/seg_embed:0'] when minimizing the loss.\n",
      "WARNING:tensorflow:Gradients do not exist for variables ['transformer_block/tfxl_net_model/transformer/mask_emb:0', 'transformer_block/tfxl_net_model/transformer/layer_._0/rel_attn/r_s_bias:0', 'transformer_block/tfxl_net_model/transformer/layer_._0/rel_attn/seg_embed:0', 'transformer_block/tfxl_net_model/transformer/layer_._1/rel_attn/r_s_bias:0', 'transformer_block/tfxl_net_model/transformer/layer_._1/rel_attn/seg_embed:0'] when minimizing the loss.\n",
      "WARNING:tensorflow:Gradients do not exist for variables ['transformer_block/tfxl_net_model/transformer/mask_emb:0', 'transformer_block/tfxl_net_model/transformer/layer_._0/rel_attn/r_s_bias:0', 'transformer_block/tfxl_net_model/transformer/layer_._0/rel_attn/seg_embed:0', 'transformer_block/tfxl_net_model/transformer/layer_._1/rel_attn/r_s_bias:0', 'transformer_block/tfxl_net_model/transformer/layer_._1/rel_attn/seg_embed:0'] when minimizing the loss.\n",
      "WARNING:tensorflow:Gradients do not exist for variables ['transformer_block/tfxl_net_model/transformer/mask_emb:0', 'transformer_block/tfxl_net_model/transformer/layer_._0/rel_attn/r_s_bias:0', 'transformer_block/tfxl_net_model/transformer/layer_._0/rel_attn/seg_embed:0', 'transformer_block/tfxl_net_model/transformer/layer_._1/rel_attn/r_s_bias:0', 'transformer_block/tfxl_net_model/transformer/layer_._1/rel_attn/seg_embed:0'] when minimizing the loss.\n",
      "WARNING:tensorflow:Gradients do not exist for variables ['transformer_block/tfxl_net_model/transformer/mask_emb:0', 'transformer_block/tfxl_net_model/transformer/layer_._0/rel_attn/r_s_bias:0', 'transformer_block/tfxl_net_model/transformer/layer_._0/rel_attn/seg_embed:0', 'transformer_block/tfxl_net_model/transformer/layer_._1/rel_attn/r_s_bias:0', 'transformer_block/tfxl_net_model/transformer/layer_._1/rel_attn/seg_embed:0'] when minimizing the loss.\n",
      "WARNING:tensorflow:Gradients do not exist for variables ['transformer_block/tfxl_net_model/transformer/mask_emb:0', 'transformer_block/tfxl_net_model/transformer/layer_._0/rel_attn/r_s_bias:0', 'transformer_block/tfxl_net_model/transformer/layer_._0/rel_attn/seg_embed:0', 'transformer_block/tfxl_net_model/transformer/layer_._1/rel_attn/r_s_bias:0', 'transformer_block/tfxl_net_model/transformer/layer_._1/rel_attn/seg_embed:0'] when minimizing the loss.\n",
      "WARNING:tensorflow:Gradients do not exist for variables ['transformer_block/tfxl_net_model/transformer/mask_emb:0', 'transformer_block/tfxl_net_model/transformer/layer_._0/rel_attn/r_s_bias:0', 'transformer_block/tfxl_net_model/transformer/layer_._0/rel_attn/seg_embed:0', 'transformer_block/tfxl_net_model/transformer/layer_._1/rel_attn/r_s_bias:0', 'transformer_block/tfxl_net_model/transformer/layer_._1/rel_attn/seg_embed:0'] when minimizing the loss.\n",
      "WARNING:tensorflow:Gradients do not exist for variables ['transformer_block/tfxl_net_model/transformer/mask_emb:0', 'transformer_block/tfxl_net_model/transformer/layer_._0/rel_attn/r_s_bias:0', 'transformer_block/tfxl_net_model/transformer/layer_._0/rel_attn/seg_embed:0', 'transformer_block/tfxl_net_model/transformer/layer_._1/rel_attn/r_s_bias:0', 'transformer_block/tfxl_net_model/transformer/layer_._1/rel_attn/seg_embed:0'] when minimizing the loss.\n",
      "WARNING:tensorflow:Gradients do not exist for variables ['transformer_block/tfxl_net_model/transformer/mask_emb:0', 'transformer_block/tfxl_net_model/transformer/layer_._0/rel_attn/r_s_bias:0', 'transformer_block/tfxl_net_model/transformer/layer_._0/rel_attn/seg_embed:0', 'transformer_block/tfxl_net_model/transformer/layer_._1/rel_attn/r_s_bias:0', 'transformer_block/tfxl_net_model/transformer/layer_._1/rel_attn/seg_embed:0'] when minimizing the loss.\n",
      "WARNING:tensorflow:Gradients do not exist for variables ['transformer_block/tfxl_net_model/transformer/mask_emb:0', 'transformer_block/tfxl_net_model/transformer/layer_._0/rel_attn/r_s_bias:0', 'transformer_block/tfxl_net_model/transformer/layer_._0/rel_attn/seg_embed:0', 'transformer_block/tfxl_net_model/transformer/layer_._1/rel_attn/r_s_bias:0', 'transformer_block/tfxl_net_model/transformer/layer_._1/rel_attn/seg_embed:0'] when minimizing the loss.\n",
      "WARNING:tensorflow:Gradients do not exist for variables ['transformer_block/tfxl_net_model/transformer/mask_emb:0', 'transformer_block/tfxl_net_model/transformer/layer_._0/rel_attn/r_s_bias:0', 'transformer_block/tfxl_net_model/transformer/layer_._0/rel_attn/seg_embed:0', 'transformer_block/tfxl_net_model/transformer/layer_._1/rel_attn/r_s_bias:0', 'transformer_block/tfxl_net_model/transformer/layer_._1/rel_attn/seg_embed:0'] when minimizing the loss.\n",
      "WARNING:tensorflow:Gradients do not exist for variables ['transformer_block/tfxl_net_model/transformer/mask_emb:0', 'transformer_block/tfxl_net_model/transformer/layer_._0/rel_attn/r_s_bias:0', 'transformer_block/tfxl_net_model/transformer/layer_._0/rel_attn/seg_embed:0', 'transformer_block/tfxl_net_model/transformer/layer_._1/rel_attn/r_s_bias:0', 'transformer_block/tfxl_net_model/transformer/layer_._1/rel_attn/seg_embed:0'] when minimizing the loss.\n",
      "WARNING:tensorflow:Gradients do not exist for variables ['transformer_block/tfxl_net_model/transformer/mask_emb:0', 'transformer_block/tfxl_net_model/transformer/layer_._0/rel_attn/r_s_bias:0', 'transformer_block/tfxl_net_model/transformer/layer_._0/rel_attn/seg_embed:0', 'transformer_block/tfxl_net_model/transformer/layer_._1/rel_attn/r_s_bias:0', 'transformer_block/tfxl_net_model/transformer/layer_._1/rel_attn/seg_embed:0'] when minimizing the loss.\n",
      "finished\n",
      "2/2 [==============================] - 1s 462ms/step - eval_ndcg_at_1_1: 0.9884 - eval_ndcg_at_1_5: 0.9884 - eval_ndcg_at_1_20: 0.9884 - eval_ndcg_at_1_40: 0.9884 - eval_recall_at_1_1: 0.9306 - eval_recall_at_1_5: 0.9464 - eval_recall_at_1_20: 0.9811 - eval_recall_at_1_40: 0.9884 - loss: 1.6877 - regularization_loss: 0.0000e+00 - total_loss: 1.6877\n",
      "********************\n",
      "Eval results for day 2 are:\t\n",
      "\n",
      "********************\n",
      "\n",
      " eval_ndcg_at_1_1 = 0.9890109896659851\n",
      " eval_ndcg_at_1_20 = 0.9890109896659851\n",
      " eval_ndcg_at_1_40 = 0.9890109896659851\n",
      " eval_ndcg_at_1_5 = 0.9890109896659851\n",
      " eval_recall_at_1_1 = 0.9340659379959106\n",
      " eval_recall_at_1_20 = 0.9780219793319702\n",
      " eval_recall_at_1_40 = 0.9890109896659851\n",
      " eval_recall_at_1_5 = 0.9450549483299255\n",
      " loss = 1.6672356128692627\n",
      " regularization_loss = 0\n",
      " total_loss = 1.6672356128692627\n",
      "['/workspace/data/sessions_by_day/2/train.parquet']\n",
      "********************\n",
      "Launch training for day 2 are:\n",
      "********************\n",
      "\n",
      "WARNING:tensorflow:Gradients do not exist for variables ['transformer_block/tfxl_net_model/transformer/mask_emb:0', 'transformer_block/tfxl_net_model/transformer/layer_._0/rel_attn/r_s_bias:0', 'transformer_block/tfxl_net_model/transformer/layer_._0/rel_attn/seg_embed:0', 'transformer_block/tfxl_net_model/transformer/layer_._1/rel_attn/r_s_bias:0', 'transformer_block/tfxl_net_model/transformer/layer_._1/rel_attn/seg_embed:0'] when minimizing the loss.\n",
      "WARNING:tensorflow:Gradients do not exist for variables ['transformer_block/tfxl_net_model/transformer/mask_emb:0', 'transformer_block/tfxl_net_model/transformer/layer_._0/rel_attn/r_s_bias:0', 'transformer_block/tfxl_net_model/transformer/layer_._0/rel_attn/seg_embed:0', 'transformer_block/tfxl_net_model/transformer/layer_._1/rel_attn/r_s_bias:0', 'transformer_block/tfxl_net_model/transformer/layer_._1/rel_attn/seg_embed:0'] when minimizing the loss.\n",
      "WARNING:tensorflow:Gradients do not exist for variables ['transformer_block/tfxl_net_model/transformer/mask_emb:0', 'transformer_block/tfxl_net_model/transformer/layer_._0/rel_attn/r_s_bias:0', 'transformer_block/tfxl_net_model/transformer/layer_._0/rel_attn/seg_embed:0', 'transformer_block/tfxl_net_model/transformer/layer_._1/rel_attn/r_s_bias:0', 'transformer_block/tfxl_net_model/transformer/layer_._1/rel_attn/seg_embed:0'] when minimizing the loss.\n",
      "WARNING:tensorflow:Gradients do not exist for variables ['transformer_block/tfxl_net_model/transformer/mask_emb:0', 'transformer_block/tfxl_net_model/transformer/layer_._0/rel_attn/r_s_bias:0', 'transformer_block/tfxl_net_model/transformer/layer_._0/rel_attn/seg_embed:0', 'transformer_block/tfxl_net_model/transformer/layer_._1/rel_attn/r_s_bias:0', 'transformer_block/tfxl_net_model/transformer/layer_._1/rel_attn/seg_embed:0'] when minimizing the loss.\n",
      "WARNING:tensorflow:Gradients do not exist for variables ['transformer_block/tfxl_net_model/transformer/mask_emb:0', 'transformer_block/tfxl_net_model/transformer/layer_._0/rel_attn/r_s_bias:0', 'transformer_block/tfxl_net_model/transformer/layer_._0/rel_attn/seg_embed:0', 'transformer_block/tfxl_net_model/transformer/layer_._1/rel_attn/r_s_bias:0', 'transformer_block/tfxl_net_model/transformer/layer_._1/rel_attn/seg_embed:0'] when minimizing the loss.\n",
      "WARNING:tensorflow:Gradients do not exist for variables ['transformer_block/tfxl_net_model/transformer/mask_emb:0', 'transformer_block/tfxl_net_model/transformer/layer_._0/rel_attn/r_s_bias:0', 'transformer_block/tfxl_net_model/transformer/layer_._0/rel_attn/seg_embed:0', 'transformer_block/tfxl_net_model/transformer/layer_._1/rel_attn/r_s_bias:0', 'transformer_block/tfxl_net_model/transformer/layer_._1/rel_attn/seg_embed:0'] when minimizing the loss.\n",
      "WARNING:tensorflow:Gradients do not exist for variables ['transformer_block/tfxl_net_model/transformer/mask_emb:0', 'transformer_block/tfxl_net_model/transformer/layer_._0/rel_attn/r_s_bias:0', 'transformer_block/tfxl_net_model/transformer/layer_._0/rel_attn/seg_embed:0', 'transformer_block/tfxl_net_model/transformer/layer_._1/rel_attn/r_s_bias:0', 'transformer_block/tfxl_net_model/transformer/layer_._1/rel_attn/seg_embed:0'] when minimizing the loss.\n",
      "WARNING:tensorflow:Gradients do not exist for variables ['transformer_block/tfxl_net_model/transformer/mask_emb:0', 'transformer_block/tfxl_net_model/transformer/layer_._0/rel_attn/r_s_bias:0', 'transformer_block/tfxl_net_model/transformer/layer_._0/rel_attn/seg_embed:0', 'transformer_block/tfxl_net_model/transformer/layer_._1/rel_attn/r_s_bias:0', 'transformer_block/tfxl_net_model/transformer/layer_._1/rel_attn/seg_embed:0'] when minimizing the loss.\n",
      "WARNING:tensorflow:Gradients do not exist for variables ['transformer_block/tfxl_net_model/transformer/mask_emb:0', 'transformer_block/tfxl_net_model/transformer/layer_._0/rel_attn/r_s_bias:0', 'transformer_block/tfxl_net_model/transformer/layer_._0/rel_attn/seg_embed:0', 'transformer_block/tfxl_net_model/transformer/layer_._1/rel_attn/r_s_bias:0', 'transformer_block/tfxl_net_model/transformer/layer_._1/rel_attn/seg_embed:0'] when minimizing the loss.\n",
      "WARNING:tensorflow:Gradients do not exist for variables ['transformer_block/tfxl_net_model/transformer/mask_emb:0', 'transformer_block/tfxl_net_model/transformer/layer_._0/rel_attn/r_s_bias:0', 'transformer_block/tfxl_net_model/transformer/layer_._0/rel_attn/seg_embed:0', 'transformer_block/tfxl_net_model/transformer/layer_._1/rel_attn/r_s_bias:0', 'transformer_block/tfxl_net_model/transformer/layer_._1/rel_attn/seg_embed:0'] when minimizing the loss.\n",
      "WARNING:tensorflow:Gradients do not exist for variables ['transformer_block/tfxl_net_model/transformer/mask_emb:0', 'transformer_block/tfxl_net_model/transformer/layer_._0/rel_attn/r_s_bias:0', 'transformer_block/tfxl_net_model/transformer/layer_._0/rel_attn/seg_embed:0', 'transformer_block/tfxl_net_model/transformer/layer_._1/rel_attn/r_s_bias:0', 'transformer_block/tfxl_net_model/transformer/layer_._1/rel_attn/seg_embed:0'] when minimizing the loss.\n",
      "WARNING:tensorflow:Gradients do not exist for variables ['transformer_block/tfxl_net_model/transformer/mask_emb:0', 'transformer_block/tfxl_net_model/transformer/layer_._0/rel_attn/r_s_bias:0', 'transformer_block/tfxl_net_model/transformer/layer_._0/rel_attn/seg_embed:0', 'transformer_block/tfxl_net_model/transformer/layer_._1/rel_attn/r_s_bias:0', 'transformer_block/tfxl_net_model/transformer/layer_._1/rel_attn/seg_embed:0'] when minimizing the loss.\n",
      "WARNING:tensorflow:Gradients do not exist for variables ['transformer_block/tfxl_net_model/transformer/mask_emb:0', 'transformer_block/tfxl_net_model/transformer/layer_._0/rel_attn/r_s_bias:0', 'transformer_block/tfxl_net_model/transformer/layer_._0/rel_attn/seg_embed:0', 'transformer_block/tfxl_net_model/transformer/layer_._1/rel_attn/r_s_bias:0', 'transformer_block/tfxl_net_model/transformer/layer_._1/rel_attn/seg_embed:0'] when minimizing the loss.\n",
      "WARNING:tensorflow:Gradients do not exist for variables ['transformer_block/tfxl_net_model/transformer/mask_emb:0', 'transformer_block/tfxl_net_model/transformer/layer_._0/rel_attn/r_s_bias:0', 'transformer_block/tfxl_net_model/transformer/layer_._0/rel_attn/seg_embed:0', 'transformer_block/tfxl_net_model/transformer/layer_._1/rel_attn/r_s_bias:0', 'transformer_block/tfxl_net_model/transformer/layer_._1/rel_attn/seg_embed:0'] when minimizing the loss.\n",
      "WARNING:tensorflow:Gradients do not exist for variables ['transformer_block/tfxl_net_model/transformer/mask_emb:0', 'transformer_block/tfxl_net_model/transformer/layer_._0/rel_attn/r_s_bias:0', 'transformer_block/tfxl_net_model/transformer/layer_._0/rel_attn/seg_embed:0', 'transformer_block/tfxl_net_model/transformer/layer_._1/rel_attn/r_s_bias:0', 'transformer_block/tfxl_net_model/transformer/layer_._1/rel_attn/seg_embed:0'] when minimizing the loss.\n",
      "WARNING:tensorflow:Gradients do not exist for variables ['transformer_block/tfxl_net_model/transformer/mask_emb:0', 'transformer_block/tfxl_net_model/transformer/layer_._0/rel_attn/r_s_bias:0', 'transformer_block/tfxl_net_model/transformer/layer_._0/rel_attn/seg_embed:0', 'transformer_block/tfxl_net_model/transformer/layer_._1/rel_attn/r_s_bias:0', 'transformer_block/tfxl_net_model/transformer/layer_._1/rel_attn/seg_embed:0'] when minimizing the loss.\n",
      "WARNING:tensorflow:Gradients do not exist for variables ['transformer_block/tfxl_net_model/transformer/mask_emb:0', 'transformer_block/tfxl_net_model/transformer/layer_._0/rel_attn/r_s_bias:0', 'transformer_block/tfxl_net_model/transformer/layer_._0/rel_attn/seg_embed:0', 'transformer_block/tfxl_net_model/transformer/layer_._1/rel_attn/r_s_bias:0', 'transformer_block/tfxl_net_model/transformer/layer_._1/rel_attn/seg_embed:0'] when minimizing the loss.\n",
      "WARNING:tensorflow:Gradients do not exist for variables ['transformer_block/tfxl_net_model/transformer/mask_emb:0', 'transformer_block/tfxl_net_model/transformer/layer_._0/rel_attn/r_s_bias:0', 'transformer_block/tfxl_net_model/transformer/layer_._0/rel_attn/seg_embed:0', 'transformer_block/tfxl_net_model/transformer/layer_._1/rel_attn/r_s_bias:0', 'transformer_block/tfxl_net_model/transformer/layer_._1/rel_attn/seg_embed:0'] when minimizing the loss.\n",
      "WARNING:tensorflow:Gradients do not exist for variables ['transformer_block/tfxl_net_model/transformer/mask_emb:0', 'transformer_block/tfxl_net_model/transformer/layer_._0/rel_attn/r_s_bias:0', 'transformer_block/tfxl_net_model/transformer/layer_._0/rel_attn/seg_embed:0', 'transformer_block/tfxl_net_model/transformer/layer_._1/rel_attn/r_s_bias:0', 'transformer_block/tfxl_net_model/transformer/layer_._1/rel_attn/seg_embed:0'] when minimizing the loss.\n",
      "WARNING:tensorflow:Gradients do not exist for variables ['transformer_block/tfxl_net_model/transformer/mask_emb:0', 'transformer_block/tfxl_net_model/transformer/layer_._0/rel_attn/r_s_bias:0', 'transformer_block/tfxl_net_model/transformer/layer_._0/rel_attn/seg_embed:0', 'transformer_block/tfxl_net_model/transformer/layer_._1/rel_attn/r_s_bias:0', 'transformer_block/tfxl_net_model/transformer/layer_._1/rel_attn/seg_embed:0'] when minimizing the loss.\n",
      "WARNING:tensorflow:Gradients do not exist for variables ['transformer_block/tfxl_net_model/transformer/mask_emb:0', 'transformer_block/tfxl_net_model/transformer/layer_._0/rel_attn/r_s_bias:0', 'transformer_block/tfxl_net_model/transformer/layer_._0/rel_attn/seg_embed:0', 'transformer_block/tfxl_net_model/transformer/layer_._1/rel_attn/r_s_bias:0', 'transformer_block/tfxl_net_model/transformer/layer_._1/rel_attn/seg_embed:0'] when minimizing the loss.\n",
      "WARNING:tensorflow:Gradients do not exist for variables ['transformer_block/tfxl_net_model/transformer/mask_emb:0', 'transformer_block/tfxl_net_model/transformer/layer_._0/rel_attn/r_s_bias:0', 'transformer_block/tfxl_net_model/transformer/layer_._0/rel_attn/seg_embed:0', 'transformer_block/tfxl_net_model/transformer/layer_._1/rel_attn/r_s_bias:0', 'transformer_block/tfxl_net_model/transformer/layer_._1/rel_attn/seg_embed:0'] when minimizing the loss.\n",
      "WARNING:tensorflow:Gradients do not exist for variables ['transformer_block/tfxl_net_model/transformer/mask_emb:0', 'transformer_block/tfxl_net_model/transformer/layer_._0/rel_attn/r_s_bias:0', 'transformer_block/tfxl_net_model/transformer/layer_._0/rel_attn/seg_embed:0', 'transformer_block/tfxl_net_model/transformer/layer_._1/rel_attn/r_s_bias:0', 'transformer_block/tfxl_net_model/transformer/layer_._1/rel_attn/seg_embed:0'] when minimizing the loss.\n",
      "WARNING:tensorflow:Gradients do not exist for variables ['transformer_block/tfxl_net_model/transformer/mask_emb:0', 'transformer_block/tfxl_net_model/transformer/layer_._0/rel_attn/r_s_bias:0', 'transformer_block/tfxl_net_model/transformer/layer_._0/rel_attn/seg_embed:0', 'transformer_block/tfxl_net_model/transformer/layer_._1/rel_attn/r_s_bias:0', 'transformer_block/tfxl_net_model/transformer/layer_._1/rel_attn/seg_embed:0'] when minimizing the loss.\n",
      "WARNING:tensorflow:Gradients do not exist for variables ['transformer_block/tfxl_net_model/transformer/mask_emb:0', 'transformer_block/tfxl_net_model/transformer/layer_._0/rel_attn/r_s_bias:0', 'transformer_block/tfxl_net_model/transformer/layer_._0/rel_attn/seg_embed:0', 'transformer_block/tfxl_net_model/transformer/layer_._1/rel_attn/r_s_bias:0', 'transformer_block/tfxl_net_model/transformer/layer_._1/rel_attn/seg_embed:0'] when minimizing the loss.\n",
      "WARNING:tensorflow:Gradients do not exist for variables ['transformer_block/tfxl_net_model/transformer/mask_emb:0', 'transformer_block/tfxl_net_model/transformer/layer_._0/rel_attn/r_s_bias:0', 'transformer_block/tfxl_net_model/transformer/layer_._0/rel_attn/seg_embed:0', 'transformer_block/tfxl_net_model/transformer/layer_._1/rel_attn/r_s_bias:0', 'transformer_block/tfxl_net_model/transformer/layer_._1/rel_attn/seg_embed:0'] when minimizing the loss.\n",
      "WARNING:tensorflow:Gradients do not exist for variables ['transformer_block/tfxl_net_model/transformer/mask_emb:0', 'transformer_block/tfxl_net_model/transformer/layer_._0/rel_attn/r_s_bias:0', 'transformer_block/tfxl_net_model/transformer/layer_._0/rel_attn/seg_embed:0', 'transformer_block/tfxl_net_model/transformer/layer_._1/rel_attn/r_s_bias:0', 'transformer_block/tfxl_net_model/transformer/layer_._1/rel_attn/seg_embed:0'] when minimizing the loss.\n",
      "WARNING:tensorflow:Gradients do not exist for variables ['transformer_block/tfxl_net_model/transformer/mask_emb:0', 'transformer_block/tfxl_net_model/transformer/layer_._0/rel_attn/r_s_bias:0', 'transformer_block/tfxl_net_model/transformer/layer_._0/rel_attn/seg_embed:0', 'transformer_block/tfxl_net_model/transformer/layer_._1/rel_attn/r_s_bias:0', 'transformer_block/tfxl_net_model/transformer/layer_._1/rel_attn/seg_embed:0'] when minimizing the loss.\n",
      "WARNING:tensorflow:Gradients do not exist for variables ['transformer_block/tfxl_net_model/transformer/mask_emb:0', 'transformer_block/tfxl_net_model/transformer/layer_._0/rel_attn/r_s_bias:0', 'transformer_block/tfxl_net_model/transformer/layer_._0/rel_attn/seg_embed:0', 'transformer_block/tfxl_net_model/transformer/layer_._1/rel_attn/r_s_bias:0', 'transformer_block/tfxl_net_model/transformer/layer_._1/rel_attn/seg_embed:0'] when minimizing the loss.\n",
      "WARNING:tensorflow:Gradients do not exist for variables ['transformer_block/tfxl_net_model/transformer/mask_emb:0', 'transformer_block/tfxl_net_model/transformer/layer_._0/rel_attn/r_s_bias:0', 'transformer_block/tfxl_net_model/transformer/layer_._0/rel_attn/seg_embed:0', 'transformer_block/tfxl_net_model/transformer/layer_._1/rel_attn/r_s_bias:0', 'transformer_block/tfxl_net_model/transformer/layer_._1/rel_attn/seg_embed:0'] when minimizing the loss.\n",
      "WARNING:tensorflow:Gradients do not exist for variables ['transformer_block/tfxl_net_model/transformer/mask_emb:0', 'transformer_block/tfxl_net_model/transformer/layer_._0/rel_attn/r_s_bias:0', 'transformer_block/tfxl_net_model/transformer/layer_._0/rel_attn/seg_embed:0', 'transformer_block/tfxl_net_model/transformer/layer_._1/rel_attn/r_s_bias:0', 'transformer_block/tfxl_net_model/transformer/layer_._1/rel_attn/seg_embed:0'] when minimizing the loss.\n",
      "WARNING:tensorflow:Gradients do not exist for variables ['transformer_block/tfxl_net_model/transformer/mask_emb:0', 'transformer_block/tfxl_net_model/transformer/layer_._0/rel_attn/r_s_bias:0', 'transformer_block/tfxl_net_model/transformer/layer_._0/rel_attn/seg_embed:0', 'transformer_block/tfxl_net_model/transformer/layer_._1/rel_attn/r_s_bias:0', 'transformer_block/tfxl_net_model/transformer/layer_._1/rel_attn/seg_embed:0'] when minimizing the loss.\n",
      "WARNING:tensorflow:Gradients do not exist for variables ['transformer_block/tfxl_net_model/transformer/mask_emb:0', 'transformer_block/tfxl_net_model/transformer/layer_._0/rel_attn/r_s_bias:0', 'transformer_block/tfxl_net_model/transformer/layer_._0/rel_attn/seg_embed:0', 'transformer_block/tfxl_net_model/transformer/layer_._1/rel_attn/r_s_bias:0', 'transformer_block/tfxl_net_model/transformer/layer_._1/rel_attn/seg_embed:0'] when minimizing the loss.\n",
      "WARNING:tensorflow:Gradients do not exist for variables ['transformer_block/tfxl_net_model/transformer/mask_emb:0', 'transformer_block/tfxl_net_model/transformer/layer_._0/rel_attn/r_s_bias:0', 'transformer_block/tfxl_net_model/transformer/layer_._0/rel_attn/seg_embed:0', 'transformer_block/tfxl_net_model/transformer/layer_._1/rel_attn/r_s_bias:0', 'transformer_block/tfxl_net_model/transformer/layer_._1/rel_attn/seg_embed:0'] when minimizing the loss.\n",
      "WARNING:tensorflow:Gradients do not exist for variables ['transformer_block/tfxl_net_model/transformer/mask_emb:0', 'transformer_block/tfxl_net_model/transformer/layer_._0/rel_attn/r_s_bias:0', 'transformer_block/tfxl_net_model/transformer/layer_._0/rel_attn/seg_embed:0', 'transformer_block/tfxl_net_model/transformer/layer_._1/rel_attn/r_s_bias:0', 'transformer_block/tfxl_net_model/transformer/layer_._1/rel_attn/seg_embed:0'] when minimizing the loss.\n",
      "WARNING:tensorflow:Gradients do not exist for variables ['transformer_block/tfxl_net_model/transformer/mask_emb:0', 'transformer_block/tfxl_net_model/transformer/layer_._0/rel_attn/r_s_bias:0', 'transformer_block/tfxl_net_model/transformer/layer_._0/rel_attn/seg_embed:0', 'transformer_block/tfxl_net_model/transformer/layer_._1/rel_attn/r_s_bias:0', 'transformer_block/tfxl_net_model/transformer/layer_._1/rel_attn/seg_embed:0'] when minimizing the loss.\n",
      "WARNING:tensorflow:Gradients do not exist for variables ['transformer_block/tfxl_net_model/transformer/mask_emb:0', 'transformer_block/tfxl_net_model/transformer/layer_._0/rel_attn/r_s_bias:0', 'transformer_block/tfxl_net_model/transformer/layer_._0/rel_attn/seg_embed:0', 'transformer_block/tfxl_net_model/transformer/layer_._1/rel_attn/r_s_bias:0', 'transformer_block/tfxl_net_model/transformer/layer_._1/rel_attn/seg_embed:0'] when minimizing the loss.\n",
      "WARNING:tensorflow:Gradients do not exist for variables ['transformer_block/tfxl_net_model/transformer/mask_emb:0', 'transformer_block/tfxl_net_model/transformer/layer_._0/rel_attn/r_s_bias:0', 'transformer_block/tfxl_net_model/transformer/layer_._0/rel_attn/seg_embed:0', 'transformer_block/tfxl_net_model/transformer/layer_._1/rel_attn/r_s_bias:0', 'transformer_block/tfxl_net_model/transformer/layer_._1/rel_attn/seg_embed:0'] when minimizing the loss.\n",
      "WARNING:tensorflow:Gradients do not exist for variables ['transformer_block/tfxl_net_model/transformer/mask_emb:0', 'transformer_block/tfxl_net_model/transformer/layer_._0/rel_attn/r_s_bias:0', 'transformer_block/tfxl_net_model/transformer/layer_._0/rel_attn/seg_embed:0', 'transformer_block/tfxl_net_model/transformer/layer_._1/rel_attn/r_s_bias:0', 'transformer_block/tfxl_net_model/transformer/layer_._1/rel_attn/seg_embed:0'] when minimizing the loss.\n",
      "WARNING:tensorflow:Gradients do not exist for variables ['transformer_block/tfxl_net_model/transformer/mask_emb:0', 'transformer_block/tfxl_net_model/transformer/layer_._0/rel_attn/r_s_bias:0', 'transformer_block/tfxl_net_model/transformer/layer_._0/rel_attn/seg_embed:0', 'transformer_block/tfxl_net_model/transformer/layer_._1/rel_attn/r_s_bias:0', 'transformer_block/tfxl_net_model/transformer/layer_._1/rel_attn/seg_embed:0'] when minimizing the loss.\n",
      "WARNING:tensorflow:Gradients do not exist for variables ['transformer_block/tfxl_net_model/transformer/mask_emb:0', 'transformer_block/tfxl_net_model/transformer/layer_._0/rel_attn/r_s_bias:0', 'transformer_block/tfxl_net_model/transformer/layer_._0/rel_attn/seg_embed:0', 'transformer_block/tfxl_net_model/transformer/layer_._1/rel_attn/r_s_bias:0', 'transformer_block/tfxl_net_model/transformer/layer_._1/rel_attn/seg_embed:0'] when minimizing the loss.\n",
      "WARNING:tensorflow:Gradients do not exist for variables ['transformer_block/tfxl_net_model/transformer/mask_emb:0', 'transformer_block/tfxl_net_model/transformer/layer_._0/rel_attn/r_s_bias:0', 'transformer_block/tfxl_net_model/transformer/layer_._0/rel_attn/seg_embed:0', 'transformer_block/tfxl_net_model/transformer/layer_._1/rel_attn/r_s_bias:0', 'transformer_block/tfxl_net_model/transformer/layer_._1/rel_attn/seg_embed:0'] when minimizing the loss.\n",
      "WARNING:tensorflow:Gradients do not exist for variables ['transformer_block/tfxl_net_model/transformer/mask_emb:0', 'transformer_block/tfxl_net_model/transformer/layer_._0/rel_attn/r_s_bias:0', 'transformer_block/tfxl_net_model/transformer/layer_._0/rel_attn/seg_embed:0', 'transformer_block/tfxl_net_model/transformer/layer_._1/rel_attn/r_s_bias:0', 'transformer_block/tfxl_net_model/transformer/layer_._1/rel_attn/seg_embed:0'] when minimizing the loss.\n",
      "WARNING:tensorflow:Gradients do not exist for variables ['transformer_block/tfxl_net_model/transformer/mask_emb:0', 'transformer_block/tfxl_net_model/transformer/layer_._0/rel_attn/r_s_bias:0', 'transformer_block/tfxl_net_model/transformer/layer_._0/rel_attn/seg_embed:0', 'transformer_block/tfxl_net_model/transformer/layer_._1/rel_attn/r_s_bias:0', 'transformer_block/tfxl_net_model/transformer/layer_._1/rel_attn/seg_embed:0'] when minimizing the loss.\n",
      "WARNING:tensorflow:Gradients do not exist for variables ['transformer_block/tfxl_net_model/transformer/mask_emb:0', 'transformer_block/tfxl_net_model/transformer/layer_._0/rel_attn/r_s_bias:0', 'transformer_block/tfxl_net_model/transformer/layer_._0/rel_attn/seg_embed:0', 'transformer_block/tfxl_net_model/transformer/layer_._1/rel_attn/r_s_bias:0', 'transformer_block/tfxl_net_model/transformer/layer_._1/rel_attn/seg_embed:0'] when minimizing the loss.\n",
      "WARNING:tensorflow:Gradients do not exist for variables ['transformer_block/tfxl_net_model/transformer/mask_emb:0', 'transformer_block/tfxl_net_model/transformer/layer_._0/rel_attn/r_s_bias:0', 'transformer_block/tfxl_net_model/transformer/layer_._0/rel_attn/seg_embed:0', 'transformer_block/tfxl_net_model/transformer/layer_._1/rel_attn/r_s_bias:0', 'transformer_block/tfxl_net_model/transformer/layer_._1/rel_attn/seg_embed:0'] when minimizing the loss.\n",
      "WARNING:tensorflow:Gradients do not exist for variables ['transformer_block/tfxl_net_model/transformer/mask_emb:0', 'transformer_block/tfxl_net_model/transformer/layer_._0/rel_attn/r_s_bias:0', 'transformer_block/tfxl_net_model/transformer/layer_._0/rel_attn/seg_embed:0', 'transformer_block/tfxl_net_model/transformer/layer_._1/rel_attn/r_s_bias:0', 'transformer_block/tfxl_net_model/transformer/layer_._1/rel_attn/seg_embed:0'] when minimizing the loss.\n",
      "WARNING:tensorflow:Gradients do not exist for variables ['transformer_block/tfxl_net_model/transformer/mask_emb:0', 'transformer_block/tfxl_net_model/transformer/layer_._0/rel_attn/r_s_bias:0', 'transformer_block/tfxl_net_model/transformer/layer_._0/rel_attn/seg_embed:0', 'transformer_block/tfxl_net_model/transformer/layer_._1/rel_attn/r_s_bias:0', 'transformer_block/tfxl_net_model/transformer/layer_._1/rel_attn/seg_embed:0'] when minimizing the loss.\n",
      "WARNING:tensorflow:Gradients do not exist for variables ['transformer_block/tfxl_net_model/transformer/mask_emb:0', 'transformer_block/tfxl_net_model/transformer/layer_._0/rel_attn/r_s_bias:0', 'transformer_block/tfxl_net_model/transformer/layer_._0/rel_attn/seg_embed:0', 'transformer_block/tfxl_net_model/transformer/layer_._1/rel_attn/r_s_bias:0', 'transformer_block/tfxl_net_model/transformer/layer_._1/rel_attn/seg_embed:0'] when minimizing the loss.\n",
      "WARNING:tensorflow:Gradients do not exist for variables ['transformer_block/tfxl_net_model/transformer/mask_emb:0', 'transformer_block/tfxl_net_model/transformer/layer_._0/rel_attn/r_s_bias:0', 'transformer_block/tfxl_net_model/transformer/layer_._0/rel_attn/seg_embed:0', 'transformer_block/tfxl_net_model/transformer/layer_._1/rel_attn/r_s_bias:0', 'transformer_block/tfxl_net_model/transformer/layer_._1/rel_attn/seg_embed:0'] when minimizing the loss.\n",
      "WARNING:tensorflow:Gradients do not exist for variables ['transformer_block/tfxl_net_model/transformer/mask_emb:0', 'transformer_block/tfxl_net_model/transformer/layer_._0/rel_attn/r_s_bias:0', 'transformer_block/tfxl_net_model/transformer/layer_._0/rel_attn/seg_embed:0', 'transformer_block/tfxl_net_model/transformer/layer_._1/rel_attn/r_s_bias:0', 'transformer_block/tfxl_net_model/transformer/layer_._1/rel_attn/seg_embed:0'] when minimizing the loss.\n",
      "WARNING:tensorflow:Gradients do not exist for variables ['transformer_block/tfxl_net_model/transformer/mask_emb:0', 'transformer_block/tfxl_net_model/transformer/layer_._0/rel_attn/r_s_bias:0', 'transformer_block/tfxl_net_model/transformer/layer_._0/rel_attn/seg_embed:0', 'transformer_block/tfxl_net_model/transformer/layer_._1/rel_attn/r_s_bias:0', 'transformer_block/tfxl_net_model/transformer/layer_._1/rel_attn/seg_embed:0'] when minimizing the loss.\n",
      "WARNING:tensorflow:Gradients do not exist for variables ['transformer_block/tfxl_net_model/transformer/mask_emb:0', 'transformer_block/tfxl_net_model/transformer/layer_._0/rel_attn/r_s_bias:0', 'transformer_block/tfxl_net_model/transformer/layer_._0/rel_attn/seg_embed:0', 'transformer_block/tfxl_net_model/transformer/layer_._1/rel_attn/r_s_bias:0', 'transformer_block/tfxl_net_model/transformer/layer_._1/rel_attn/seg_embed:0'] when minimizing the loss.\n",
      "WARNING:tensorflow:Gradients do not exist for variables ['transformer_block/tfxl_net_model/transformer/mask_emb:0', 'transformer_block/tfxl_net_model/transformer/layer_._0/rel_attn/r_s_bias:0', 'transformer_block/tfxl_net_model/transformer/layer_._0/rel_attn/seg_embed:0', 'transformer_block/tfxl_net_model/transformer/layer_._1/rel_attn/r_s_bias:0', 'transformer_block/tfxl_net_model/transformer/layer_._1/rel_attn/seg_embed:0'] when minimizing the loss.\n",
      "WARNING:tensorflow:Gradients do not exist for variables ['transformer_block/tfxl_net_model/transformer/mask_emb:0', 'transformer_block/tfxl_net_model/transformer/layer_._0/rel_attn/r_s_bias:0', 'transformer_block/tfxl_net_model/transformer/layer_._0/rel_attn/seg_embed:0', 'transformer_block/tfxl_net_model/transformer/layer_._1/rel_attn/r_s_bias:0', 'transformer_block/tfxl_net_model/transformer/layer_._1/rel_attn/seg_embed:0'] when minimizing the loss.\n",
      "WARNING:tensorflow:Gradients do not exist for variables ['transformer_block/tfxl_net_model/transformer/mask_emb:0', 'transformer_block/tfxl_net_model/transformer/layer_._0/rel_attn/r_s_bias:0', 'transformer_block/tfxl_net_model/transformer/layer_._0/rel_attn/seg_embed:0', 'transformer_block/tfxl_net_model/transformer/layer_._1/rel_attn/r_s_bias:0', 'transformer_block/tfxl_net_model/transformer/layer_._1/rel_attn/seg_embed:0'] when minimizing the loss.\n",
      "WARNING:tensorflow:Gradients do not exist for variables ['transformer_block/tfxl_net_model/transformer/mask_emb:0', 'transformer_block/tfxl_net_model/transformer/layer_._0/rel_attn/r_s_bias:0', 'transformer_block/tfxl_net_model/transformer/layer_._0/rel_attn/seg_embed:0', 'transformer_block/tfxl_net_model/transformer/layer_._1/rel_attn/r_s_bias:0', 'transformer_block/tfxl_net_model/transformer/layer_._1/rel_attn/seg_embed:0'] when minimizing the loss.\n",
      "WARNING:tensorflow:Gradients do not exist for variables ['transformer_block/tfxl_net_model/transformer/mask_emb:0', 'transformer_block/tfxl_net_model/transformer/layer_._0/rel_attn/r_s_bias:0', 'transformer_block/tfxl_net_model/transformer/layer_._0/rel_attn/seg_embed:0', 'transformer_block/tfxl_net_model/transformer/layer_._1/rel_attn/r_s_bias:0', 'transformer_block/tfxl_net_model/transformer/layer_._1/rel_attn/seg_embed:0'] when minimizing the loss.\n",
      "WARNING:tensorflow:Gradients do not exist for variables ['transformer_block/tfxl_net_model/transformer/mask_emb:0', 'transformer_block/tfxl_net_model/transformer/layer_._0/rel_attn/r_s_bias:0', 'transformer_block/tfxl_net_model/transformer/layer_._0/rel_attn/seg_embed:0', 'transformer_block/tfxl_net_model/transformer/layer_._1/rel_attn/r_s_bias:0', 'transformer_block/tfxl_net_model/transformer/layer_._1/rel_attn/seg_embed:0'] when minimizing the loss.\n",
      "WARNING:tensorflow:Gradients do not exist for variables ['transformer_block/tfxl_net_model/transformer/mask_emb:0', 'transformer_block/tfxl_net_model/transformer/layer_._0/rel_attn/r_s_bias:0', 'transformer_block/tfxl_net_model/transformer/layer_._0/rel_attn/seg_embed:0', 'transformer_block/tfxl_net_model/transformer/layer_._1/rel_attn/r_s_bias:0', 'transformer_block/tfxl_net_model/transformer/layer_._1/rel_attn/seg_embed:0'] when minimizing the loss.\n",
      "WARNING:tensorflow:Gradients do not exist for variables ['transformer_block/tfxl_net_model/transformer/mask_emb:0', 'transformer_block/tfxl_net_model/transformer/layer_._0/rel_attn/r_s_bias:0', 'transformer_block/tfxl_net_model/transformer/layer_._0/rel_attn/seg_embed:0', 'transformer_block/tfxl_net_model/transformer/layer_._1/rel_attn/r_s_bias:0', 'transformer_block/tfxl_net_model/transformer/layer_._1/rel_attn/seg_embed:0'] when minimizing the loss.\n",
      "WARNING:tensorflow:Gradients do not exist for variables ['transformer_block/tfxl_net_model/transformer/mask_emb:0', 'transformer_block/tfxl_net_model/transformer/layer_._0/rel_attn/r_s_bias:0', 'transformer_block/tfxl_net_model/transformer/layer_._0/rel_attn/seg_embed:0', 'transformer_block/tfxl_net_model/transformer/layer_._1/rel_attn/r_s_bias:0', 'transformer_block/tfxl_net_model/transformer/layer_._1/rel_attn/seg_embed:0'] when minimizing the loss.\n",
      "WARNING:tensorflow:Gradients do not exist for variables ['transformer_block/tfxl_net_model/transformer/mask_emb:0', 'transformer_block/tfxl_net_model/transformer/layer_._0/rel_attn/r_s_bias:0', 'transformer_block/tfxl_net_model/transformer/layer_._0/rel_attn/seg_embed:0', 'transformer_block/tfxl_net_model/transformer/layer_._1/rel_attn/r_s_bias:0', 'transformer_block/tfxl_net_model/transformer/layer_._1/rel_attn/seg_embed:0'] when minimizing the loss.\n",
      "WARNING:tensorflow:Gradients do not exist for variables ['transformer_block/tfxl_net_model/transformer/mask_emb:0', 'transformer_block/tfxl_net_model/transformer/layer_._0/rel_attn/r_s_bias:0', 'transformer_block/tfxl_net_model/transformer/layer_._0/rel_attn/seg_embed:0', 'transformer_block/tfxl_net_model/transformer/layer_._1/rel_attn/r_s_bias:0', 'transformer_block/tfxl_net_model/transformer/layer_._1/rel_attn/seg_embed:0'] when minimizing the loss.\n",
      "WARNING:tensorflow:Gradients do not exist for variables ['transformer_block/tfxl_net_model/transformer/mask_emb:0', 'transformer_block/tfxl_net_model/transformer/layer_._0/rel_attn/r_s_bias:0', 'transformer_block/tfxl_net_model/transformer/layer_._0/rel_attn/seg_embed:0', 'transformer_block/tfxl_net_model/transformer/layer_._1/rel_attn/r_s_bias:0', 'transformer_block/tfxl_net_model/transformer/layer_._1/rel_attn/seg_embed:0'] when minimizing the loss.\n",
      "WARNING:tensorflow:Gradients do not exist for variables ['transformer_block/tfxl_net_model/transformer/mask_emb:0', 'transformer_block/tfxl_net_model/transformer/layer_._0/rel_attn/r_s_bias:0', 'transformer_block/tfxl_net_model/transformer/layer_._0/rel_attn/seg_embed:0', 'transformer_block/tfxl_net_model/transformer/layer_._1/rel_attn/r_s_bias:0', 'transformer_block/tfxl_net_model/transformer/layer_._1/rel_attn/seg_embed:0'] when minimizing the loss.\n",
      "WARNING:tensorflow:Gradients do not exist for variables ['transformer_block/tfxl_net_model/transformer/mask_emb:0', 'transformer_block/tfxl_net_model/transformer/layer_._0/rel_attn/r_s_bias:0', 'transformer_block/tfxl_net_model/transformer/layer_._0/rel_attn/seg_embed:0', 'transformer_block/tfxl_net_model/transformer/layer_._1/rel_attn/r_s_bias:0', 'transformer_block/tfxl_net_model/transformer/layer_._1/rel_attn/seg_embed:0'] when minimizing the loss.\n",
      "WARNING:tensorflow:Gradients do not exist for variables ['transformer_block/tfxl_net_model/transformer/mask_emb:0', 'transformer_block/tfxl_net_model/transformer/layer_._0/rel_attn/r_s_bias:0', 'transformer_block/tfxl_net_model/transformer/layer_._0/rel_attn/seg_embed:0', 'transformer_block/tfxl_net_model/transformer/layer_._1/rel_attn/r_s_bias:0', 'transformer_block/tfxl_net_model/transformer/layer_._1/rel_attn/seg_embed:0'] when minimizing the loss.\n",
      "WARNING:tensorflow:Gradients do not exist for variables ['transformer_block/tfxl_net_model/transformer/mask_emb:0', 'transformer_block/tfxl_net_model/transformer/layer_._0/rel_attn/r_s_bias:0', 'transformer_block/tfxl_net_model/transformer/layer_._0/rel_attn/seg_embed:0', 'transformer_block/tfxl_net_model/transformer/layer_._1/rel_attn/r_s_bias:0', 'transformer_block/tfxl_net_model/transformer/layer_._1/rel_attn/seg_embed:0'] when minimizing the loss.\n",
      "WARNING:tensorflow:Gradients do not exist for variables ['transformer_block/tfxl_net_model/transformer/mask_emb:0', 'transformer_block/tfxl_net_model/transformer/layer_._0/rel_attn/r_s_bias:0', 'transformer_block/tfxl_net_model/transformer/layer_._0/rel_attn/seg_embed:0', 'transformer_block/tfxl_net_model/transformer/layer_._1/rel_attn/r_s_bias:0', 'transformer_block/tfxl_net_model/transformer/layer_._1/rel_attn/seg_embed:0'] when minimizing the loss.\n",
      "finished\n",
      "2/2 [==============================] - 1s 550ms/step - eval_ndcg_at_1_1: 0.9942 - eval_ndcg_at_1_5: 0.9942 - eval_ndcg_at_1_20: 0.9942 - eval_ndcg_at_1_40: 0.9942 - eval_recall_at_1_1: 0.9424 - eval_recall_at_1_5: 0.9763 - eval_recall_at_1_20: 0.9942 - eval_recall_at_1_40: 0.9942 - loss: 0.4446 - regularization_loss: 0.0000e+00 - total_loss: 0.4446\n",
      "********************\n",
      "Eval results for day 3 are:\t\n",
      "\n",
      "********************\n",
      "\n",
      " eval_ndcg_at_1_1 = 1.0\n",
      " eval_ndcg_at_1_20 = 1.0\n",
      " eval_ndcg_at_1_40 = 1.0\n",
      " eval_ndcg_at_1_5 = 1.0\n",
      " eval_recall_at_1_1 = 0.9368420839309692\n",
      " eval_recall_at_1_20 = 1.0\n",
      " eval_recall_at_1_40 = 1.0\n",
      " eval_recall_at_1_5 = 0.9789473414421082\n",
      " loss = 0.4243243932723999\n",
      " regularization_loss = 0\n",
      " total_loss = 0.4243243932723999\n"
     ]
    }
   ],
   "source": [
    "start_time_window_index = 1\n",
    "final_time_window_index = 3\n",
    "#Iterating over days of one week\n",
    "for time_index in range(start_time_window_index, final_time_window_index):\n",
    "    # Set data \n",
    "    time_index_train = time_index\n",
    "    time_index_eval = time_index + 1\n",
    "    train_paths = glob.glob(os.path.join(OUTPUT_DIR, f\"{time_index_train}/train.parquet\"))\n",
    "    eval_paths = glob.glob(os.path.join(OUTPUT_DIR, f\"{time_index_eval}/valid.parquet\"))\n",
    "    print(train_paths)\n",
    "\n",
    "    # Train on day related to time_index \n",
    "    print('*'*20)\n",
    "    print(\"Launch training for day %s are:\" %time_index)\n",
    "    print('*'*20 + '\\n')\n",
    "    train_loader = get_dataloader(train_paths) \n",
    "    losses = model.fit(train_loader, epochs=5, verbose=0, )\n",
    "    model.reset_metrics()\n",
    "    print('finished')\n",
    "    # Evaluate on the following day\n",
    "    eval_loader = get_dataloader(eval_paths) \n",
    "    eval_metrics = model.evaluate(eval_loader, return_dict=True)\n",
    "    print('*'*20)\n",
    "    print(\"Eval results for day %s are:\\t\" %time_index_eval)\n",
    "    print('\\n' + '*'*20 + '\\n')\n",
    "    for key in sorted(eval_metrics.keys()):\n",
    "        print(\" %s = %s\" % (key, str(eval_metrics[key]))) "
   ]
  },
  {
   "cell_type": "code",
   "execution_count": 13,
   "id": "709c4dbc",
   "metadata": {},
   "outputs": [
    {
     "name": "stdout",
     "output_type": "stream",
     "text": [
      "2/2 [==============================] - 1s 541ms/step - eval_ndcg_at_1_1: 0.9900 - eval_ndcg_at_1_5: 0.9900 - eval_ndcg_at_1_20: 0.9900 - eval_ndcg_at_1_40: 0.9900 - eval_recall_at_1_1: 0.9700 - eval_recall_at_1_5: 0.9721 - eval_recall_at_1_20: 0.9900 - eval_recall_at_1_40: 0.9900 - loss: 0.3703 - regularization_loss: 0.0000e+00 - total_loss: 0.3703\n"
     ]
    }
   ],
   "source": [
    "# Evaluate on the following day\n",
    "time_index_eval = 5\n",
    "eval_paths = glob.glob(os.path.join(OUTPUT_DIR, f\"{time_index_eval}/valid.parquet\"))\n",
    "eval_loader = get_dataloader(eval_paths) \n",
    "eval_metrics = model.evaluate(eval_loader, return_dict=True, )"
   ]
  },
  {
   "cell_type": "code",
   "execution_count": 14,
   "id": "a015626f",
   "metadata": {},
   "outputs": [
    {
     "data": {
      "text/plain": [
       "{'eval_ndcg_at_1_1': 0.991304337978363,\n",
       " 'eval_ndcg_at_1_5': 0.991304337978363,\n",
       " 'eval_ndcg_at_1_20': 0.991304337978363,\n",
       " 'eval_ndcg_at_1_40': 0.991304337978363,\n",
       " 'eval_recall_at_1_1': 0.9739130139350891,\n",
       " 'eval_recall_at_1_5': 0.9739130139350891,\n",
       " 'eval_recall_at_1_20': 0.991304337978363,\n",
       " 'eval_recall_at_1_40': 0.991304337978363,\n",
       " 'loss': 0.36306288838386536,\n",
       " 'regularization_loss': 0,\n",
       " 'total_loss': 0.36306288838386536}"
      ]
     },
     "execution_count": 14,
     "metadata": {},
     "output_type": "execute_result"
    }
   ],
   "source": [
    "eval_metrics"
   ]
  },
  {
   "cell_type": "code",
   "execution_count": 15,
   "id": "d79271a2",
   "metadata": {},
   "outputs": [
    {
     "name": "stdout",
     "output_type": "stream",
     "text": [
      "********************\n",
      "Eval results for day 5 are:\t\n",
      "\n",
      "********************\n",
      "\n",
      " eval_ndcg_at_1_1 = 0.991304337978363\n",
      " eval_ndcg_at_1_20 = 0.991304337978363\n",
      " eval_ndcg_at_1_40 = 0.991304337978363\n",
      " eval_ndcg_at_1_5 = 0.991304337978363\n",
      " eval_recall_at_1_1 = 0.9739130139350891\n",
      " eval_recall_at_1_20 = 0.991304337978363\n",
      " eval_recall_at_1_40 = 0.991304337978363\n",
      " eval_recall_at_1_5 = 0.9739130139350891\n",
      " loss = 0.36306288838386536\n",
      " regularization_loss = 0\n",
      " total_loss = 0.36306288838386536\n"
     ]
    }
   ],
   "source": [
    "print('*'*20)\n",
    "print(\"Eval results for day %s are:\\t\" %time_index_eval)\n",
    "print('\\n' + '*'*20 + '\\n')\n",
    "for key in sorted(eval_metrics.keys()):\n",
    "    print(\" %s = %s\" % (key, str(eval_metrics[key]))) "
   ]
  },
  {
   "cell_type": "markdown",
   "id": "16181832",
   "metadata": {},
   "source": [
    "### Saves the model"
   ]
  },
  {
   "cell_type": "code",
   "execution_count": 16,
   "id": "8734a8ae",
   "metadata": {},
   "outputs": [
    {
     "name": "stdout",
     "output_type": "stream",
     "text": [
      "WARNING:tensorflow:The parameters `output_attentions`, `output_hidden_states` and `use_cache` cannot be updated when calling a model.They have to be set to True/False in the config object (i.e.: `config=XConfig.from_pretrained('name', output_attentions=True)`).\n",
      "WARNING:tensorflow:The parameter `return_dict` cannot be set in graph mode and will always be set to `True`.\n",
      "WARNING:tensorflow:Skipping full serialization of Keras layer TFSharedEmbeddings(), because it is not built.\n",
      "WARNING:tensorflow:Skipping full serialization of Keras layer Dropout(), because it is not built.\n",
      "WARNING:tensorflow:Skipping full serialization of Keras layer Dropout(), because it is not built.\n",
      "WARNING:tensorflow:The parameters `output_attentions`, `output_hidden_states` and `use_cache` cannot be updated when calling a model.They have to be set to True/False in the config object (i.e.: `config=XConfig.from_pretrained('name', output_attentions=True)`).\n",
      "WARNING:tensorflow:The parameter `return_dict` cannot be set in graph mode and will always be set to `True`.\n",
      "WARNING:tensorflow:The parameters `output_attentions`, `output_hidden_states` and `use_cache` cannot be updated when calling a model.They have to be set to True/False in the config object (i.e.: `config=XConfig.from_pretrained('name', output_attentions=True)`).\n",
      "WARNING:tensorflow:The parameter `return_dict` cannot be set in graph mode and will always be set to `True`.\n",
      "WARNING:tensorflow:Skipping full serialization of Keras layer TFSequenceSummary(), because it is not built.\n",
      "WARNING:tensorflow:The parameters `output_attentions`, `output_hidden_states` and `use_cache` cannot be updated when calling a model.They have to be set to True/False in the config object (i.e.: `config=XConfig.from_pretrained('name', output_attentions=True)`).\n",
      "WARNING:tensorflow:The parameter `return_dict` cannot be set in graph mode and will always be set to `True`.\n",
      "WARNING:tensorflow:The parameters `output_attentions`, `output_hidden_states` and `use_cache` cannot be updated when calling a model.They have to be set to True/False in the config object (i.e.: `config=XConfig.from_pretrained('name', output_attentions=True)`).\n",
      "WARNING:tensorflow:The parameter `return_dict` cannot be set in graph mode and will always be set to `True`.\n",
      "WARNING:tensorflow:The parameters `output_attentions`, `output_hidden_states` and `use_cache` cannot be updated when calling a model.They have to be set to True/False in the config object (i.e.: `config=XConfig.from_pretrained('name', output_attentions=True)`).\n",
      "WARNING:tensorflow:The parameter `return_dict` cannot be set in graph mode and will always be set to `True`.\n",
      "WARNING:tensorflow:The parameters `output_attentions`, `output_hidden_states` and `use_cache` cannot be updated when calling a model.They have to be set to True/False in the config object (i.e.: `config=XConfig.from_pretrained('name', output_attentions=True)`).\n",
      "WARNING:tensorflow:The parameter `return_dict` cannot be set in graph mode and will always be set to `True`.\n"
     ]
    },
    {
     "name": "stderr",
     "output_type": "stream",
     "text": [
      "WARNING:absl:Function `_wrapped_model` contains input name(s) category-list_trim, item_id-list_trim, timestamp/age_days-list_trim, timestamp/weekday/sin-list_trim with unsupported characters which will be renamed to category_list_trim, item_id_list_trim, timestamp_age_days_list_trim, timestamp_weekday_sin_list_trim in the SavedModel.\n"
     ]
    },
    {
     "name": "stdout",
     "output_type": "stream",
     "text": [
      "WARNING:tensorflow:The parameters `output_attentions`, `output_hidden_states` and `use_cache` cannot be updated when calling a model.They have to be set to True/False in the config object (i.e.: `config=XConfig.from_pretrained('name', output_attentions=True)`).\n"
     ]
    },
    {
     "name": "stderr",
     "output_type": "stream",
     "text": [
      "WARNING:tensorflow:The parameters `output_attentions`, `output_hidden_states` and `use_cache` cannot be updated when calling a model.They have to be set to True/False in the config object (i.e.: `config=XConfig.from_pretrained('name', output_attentions=True)`).\n"
     ]
    },
    {
     "name": "stdout",
     "output_type": "stream",
     "text": [
      "WARNING:tensorflow:The parameter `return_dict` cannot be set in graph mode and will always be set to `True`.\n"
     ]
    },
    {
     "name": "stderr",
     "output_type": "stream",
     "text": [
      "WARNING:tensorflow:The parameter `return_dict` cannot be set in graph mode and will always be set to `True`.\n"
     ]
    },
    {
     "name": "stdout",
     "output_type": "stream",
     "text": [
      "WARNING:tensorflow:The parameters `output_attentions`, `output_hidden_states` and `use_cache` cannot be updated when calling a model.They have to be set to True/False in the config object (i.e.: `config=XConfig.from_pretrained('name', output_attentions=True)`).\n"
     ]
    },
    {
     "name": "stderr",
     "output_type": "stream",
     "text": [
      "WARNING:tensorflow:The parameters `output_attentions`, `output_hidden_states` and `use_cache` cannot be updated when calling a model.They have to be set to True/False in the config object (i.e.: `config=XConfig.from_pretrained('name', output_attentions=True)`).\n"
     ]
    },
    {
     "name": "stdout",
     "output_type": "stream",
     "text": [
      "WARNING:tensorflow:The parameter `return_dict` cannot be set in graph mode and will always be set to `True`.\n"
     ]
    },
    {
     "name": "stderr",
     "output_type": "stream",
     "text": [
      "WARNING:tensorflow:The parameter `return_dict` cannot be set in graph mode and will always be set to `True`.\n"
     ]
    },
    {
     "name": "stdout",
     "output_type": "stream",
     "text": [
      "WARNING:tensorflow:The parameters `output_attentions`, `output_hidden_states` and `use_cache` cannot be updated when calling a model.They have to be set to True/False in the config object (i.e.: `config=XConfig.from_pretrained('name', output_attentions=True)`).\n"
     ]
    },
    {
     "name": "stderr",
     "output_type": "stream",
     "text": [
      "WARNING:tensorflow:The parameters `output_attentions`, `output_hidden_states` and `use_cache` cannot be updated when calling a model.They have to be set to True/False in the config object (i.e.: `config=XConfig.from_pretrained('name', output_attentions=True)`).\n"
     ]
    },
    {
     "name": "stdout",
     "output_type": "stream",
     "text": [
      "WARNING:tensorflow:The parameter `return_dict` cannot be set in graph mode and will always be set to `True`.\n"
     ]
    },
    {
     "name": "stderr",
     "output_type": "stream",
     "text": [
      "WARNING:tensorflow:The parameter `return_dict` cannot be set in graph mode and will always be set to `True`.\n"
     ]
    },
    {
     "name": "stdout",
     "output_type": "stream",
     "text": [
      "WARNING:tensorflow:The parameters `output_attentions`, `output_hidden_states` and `use_cache` cannot be updated when calling a model.They have to be set to True/False in the config object (i.e.: `config=XConfig.from_pretrained('name', output_attentions=True)`).\n"
     ]
    },
    {
     "name": "stderr",
     "output_type": "stream",
     "text": [
      "WARNING:tensorflow:The parameters `output_attentions`, `output_hidden_states` and `use_cache` cannot be updated when calling a model.They have to be set to True/False in the config object (i.e.: `config=XConfig.from_pretrained('name', output_attentions=True)`).\n"
     ]
    },
    {
     "name": "stdout",
     "output_type": "stream",
     "text": [
      "WARNING:tensorflow:The parameter `return_dict` cannot be set in graph mode and will always be set to `True`.\n"
     ]
    },
    {
     "name": "stderr",
     "output_type": "stream",
     "text": [
      "WARNING:tensorflow:The parameter `return_dict` cannot be set in graph mode and will always be set to `True`.\n"
     ]
    },
    {
     "name": "stdout",
     "output_type": "stream",
     "text": [
      "WARNING:tensorflow:The parameters `output_attentions`, `output_hidden_states` and `use_cache` cannot be updated when calling a model.They have to be set to True/False in the config object (i.e.: `config=XConfig.from_pretrained('name', output_attentions=True)`).\n"
     ]
    },
    {
     "name": "stderr",
     "output_type": "stream",
     "text": [
      "WARNING:tensorflow:The parameters `output_attentions`, `output_hidden_states` and `use_cache` cannot be updated when calling a model.They have to be set to True/False in the config object (i.e.: `config=XConfig.from_pretrained('name', output_attentions=True)`).\n"
     ]
    },
    {
     "name": "stdout",
     "output_type": "stream",
     "text": [
      "WARNING:tensorflow:The parameter `return_dict` cannot be set in graph mode and will always be set to `True`.\n"
     ]
    },
    {
     "name": "stderr",
     "output_type": "stream",
     "text": [
      "WARNING:tensorflow:The parameter `return_dict` cannot be set in graph mode and will always be set to `True`.\n"
     ]
    },
    {
     "name": "stdout",
     "output_type": "stream",
     "text": [
      "WARNING:tensorflow:The parameters `output_attentions`, `output_hidden_states` and `use_cache` cannot be updated when calling a model.They have to be set to True/False in the config object (i.e.: `config=XConfig.from_pretrained('name', output_attentions=True)`).\n"
     ]
    },
    {
     "name": "stderr",
     "output_type": "stream",
     "text": [
      "WARNING:tensorflow:The parameters `output_attentions`, `output_hidden_states` and `use_cache` cannot be updated when calling a model.They have to be set to True/False in the config object (i.e.: `config=XConfig.from_pretrained('name', output_attentions=True)`).\n"
     ]
    },
    {
     "name": "stdout",
     "output_type": "stream",
     "text": [
      "WARNING:tensorflow:The parameter `return_dict` cannot be set in graph mode and will always be set to `True`.\n"
     ]
    },
    {
     "name": "stderr",
     "output_type": "stream",
     "text": [
      "WARNING:tensorflow:The parameter `return_dict` cannot be set in graph mode and will always be set to `True`.\n"
     ]
    },
    {
     "name": "stdout",
     "output_type": "stream",
     "text": [
      "WARNING:tensorflow:The parameters `output_attentions`, `output_hidden_states` and `use_cache` cannot be updated when calling a model.They have to be set to True/False in the config object (i.e.: `config=XConfig.from_pretrained('name', output_attentions=True)`).\n"
     ]
    },
    {
     "name": "stderr",
     "output_type": "stream",
     "text": [
      "WARNING:tensorflow:The parameters `output_attentions`, `output_hidden_states` and `use_cache` cannot be updated when calling a model.They have to be set to True/False in the config object (i.e.: `config=XConfig.from_pretrained('name', output_attentions=True)`).\n"
     ]
    },
    {
     "name": "stdout",
     "output_type": "stream",
     "text": [
      "WARNING:tensorflow:The parameter `return_dict` cannot be set in graph mode and will always be set to `True`.\n"
     ]
    },
    {
     "name": "stderr",
     "output_type": "stream",
     "text": [
      "WARNING:tensorflow:The parameter `return_dict` cannot be set in graph mode and will always be set to `True`.\n"
     ]
    },
    {
     "name": "stdout",
     "output_type": "stream",
     "text": [
      "WARNING:tensorflow:The parameters `output_attentions`, `output_hidden_states` and `use_cache` cannot be updated when calling a model.They have to be set to True/False in the config object (i.e.: `config=XConfig.from_pretrained('name', output_attentions=True)`).\n"
     ]
    },
    {
     "name": "stderr",
     "output_type": "stream",
     "text": [
      "WARNING:tensorflow:The parameters `output_attentions`, `output_hidden_states` and `use_cache` cannot be updated when calling a model.They have to be set to True/False in the config object (i.e.: `config=XConfig.from_pretrained('name', output_attentions=True)`).\n"
     ]
    },
    {
     "name": "stdout",
     "output_type": "stream",
     "text": [
      "WARNING:tensorflow:The parameter `return_dict` cannot be set in graph mode and will always be set to `True`.\n"
     ]
    },
    {
     "name": "stderr",
     "output_type": "stream",
     "text": [
      "WARNING:tensorflow:The parameter `return_dict` cannot be set in graph mode and will always be set to `True`.\n"
     ]
    },
    {
     "name": "stdout",
     "output_type": "stream",
     "text": [
      "WARNING:tensorflow:The parameters `output_attentions`, `output_hidden_states` and `use_cache` cannot be updated when calling a model.They have to be set to True/False in the config object (i.e.: `config=XConfig.from_pretrained('name', output_attentions=True)`).\n"
     ]
    },
    {
     "name": "stderr",
     "output_type": "stream",
     "text": [
      "WARNING:tensorflow:The parameters `output_attentions`, `output_hidden_states` and `use_cache` cannot be updated when calling a model.They have to be set to True/False in the config object (i.e.: `config=XConfig.from_pretrained('name', output_attentions=True)`).\n"
     ]
    },
    {
     "name": "stdout",
     "output_type": "stream",
     "text": [
      "WARNING:tensorflow:The parameter `return_dict` cannot be set in graph mode and will always be set to `True`.\n"
     ]
    },
    {
     "name": "stderr",
     "output_type": "stream",
     "text": [
      "WARNING:tensorflow:The parameter `return_dict` cannot be set in graph mode and will always be set to `True`.\n"
     ]
    },
    {
     "name": "stdout",
     "output_type": "stream",
     "text": [
      "WARNING:tensorflow:The parameters `output_attentions`, `output_hidden_states` and `use_cache` cannot be updated when calling a model.They have to be set to True/False in the config object (i.e.: `config=XConfig.from_pretrained('name', output_attentions=True)`).\n"
     ]
    },
    {
     "name": "stderr",
     "output_type": "stream",
     "text": [
      "WARNING:tensorflow:The parameters `output_attentions`, `output_hidden_states` and `use_cache` cannot be updated when calling a model.They have to be set to True/False in the config object (i.e.: `config=XConfig.from_pretrained('name', output_attentions=True)`).\n"
     ]
    },
    {
     "name": "stdout",
     "output_type": "stream",
     "text": [
      "WARNING:tensorflow:The parameter `return_dict` cannot be set in graph mode and will always be set to `True`.\n"
     ]
    },
    {
     "name": "stderr",
     "output_type": "stream",
     "text": [
      "WARNING:tensorflow:The parameter `return_dict` cannot be set in graph mode and will always be set to `True`.\n"
     ]
    },
    {
     "name": "stdout",
     "output_type": "stream",
     "text": [
      "WARNING:tensorflow:The parameters `output_attentions`, `output_hidden_states` and `use_cache` cannot be updated when calling a model.They have to be set to True/False in the config object (i.e.: `config=XConfig.from_pretrained('name', output_attentions=True)`).\n"
     ]
    },
    {
     "name": "stderr",
     "output_type": "stream",
     "text": [
      "WARNING:tensorflow:The parameters `output_attentions`, `output_hidden_states` and `use_cache` cannot be updated when calling a model.They have to be set to True/False in the config object (i.e.: `config=XConfig.from_pretrained('name', output_attentions=True)`).\n"
     ]
    },
    {
     "name": "stdout",
     "output_type": "stream",
     "text": [
      "WARNING:tensorflow:The parameter `return_dict` cannot be set in graph mode and will always be set to `True`.\n"
     ]
    },
    {
     "name": "stderr",
     "output_type": "stream",
     "text": [
      "WARNING:tensorflow:The parameter `return_dict` cannot be set in graph mode and will always be set to `True`.\n"
     ]
    },
    {
     "name": "stdout",
     "output_type": "stream",
     "text": [
      "WARNING:tensorflow:The parameters `output_attentions`, `output_hidden_states` and `use_cache` cannot be updated when calling a model.They have to be set to True/False in the config object (i.e.: `config=XConfig.from_pretrained('name', output_attentions=True)`).\n"
     ]
    },
    {
     "name": "stderr",
     "output_type": "stream",
     "text": [
      "WARNING:tensorflow:The parameters `output_attentions`, `output_hidden_states` and `use_cache` cannot be updated when calling a model.They have to be set to True/False in the config object (i.e.: `config=XConfig.from_pretrained('name', output_attentions=True)`).\n"
     ]
    },
    {
     "name": "stdout",
     "output_type": "stream",
     "text": [
      "WARNING:tensorflow:The parameter `return_dict` cannot be set in graph mode and will always be set to `True`.\n"
     ]
    },
    {
     "name": "stderr",
     "output_type": "stream",
     "text": [
      "WARNING:tensorflow:The parameter `return_dict` cannot be set in graph mode and will always be set to `True`.\n",
      "WARNING:absl:Found untraced functions such as sequential_block_1_layer_call_and_return_conditional_losses, sequential_block_1_layer_call_fn, next_item_prediction_task_layer_call_and_return_conditional_losses, next_item_prediction_task_layer_call_fn, sequential_block_1_layer_call_fn while saving (showing 5 of 205). These functions will not be directly callable after loading.\n"
     ]
    },
    {
     "name": "stdout",
     "output_type": "stream",
     "text": [
      "INFO:tensorflow:Assets written to: tmp/tensorflow/assets\n"
     ]
    },
    {
     "name": "stderr",
     "output_type": "stream",
     "text": [
      "INFO:tensorflow:Assets written to: tmp/tensorflow/assets\n"
     ]
    }
   ],
   "source": [
    "model.save('tmp/tensorflow')"
   ]
  },
  {
   "cell_type": "markdown",
   "id": "004e1ca8",
   "metadata": {},
   "source": [
    "### Reloads the model"
   ]
  },
  {
   "cell_type": "code",
   "execution_count": 17,
   "id": "46eb8249",
   "metadata": {},
   "outputs": [
    {
     "ename": "KeyError",
     "evalue": "'layers'",
     "output_type": "error",
     "traceback": [
      "\u001b[0;31m---------------------------------------------------------------------------\u001b[0m",
      "\u001b[0;31mKeyError\u001b[0m                                  Traceback (most recent call last)",
      "\u001b[0;32m/tmp/ipykernel_383189/1763871290.py\u001b[0m in \u001b[0;36m<module>\u001b[0;34m\u001b[0m\n\u001b[0;32m----> 1\u001b[0;31m \u001b[0mmodel\u001b[0m \u001b[0;34m=\u001b[0m \u001b[0mtf\u001b[0m\u001b[0;34m.\u001b[0m\u001b[0mkeras\u001b[0m\u001b[0;34m.\u001b[0m\u001b[0mmodels\u001b[0m\u001b[0;34m.\u001b[0m\u001b[0mload_model\u001b[0m\u001b[0;34m(\u001b[0m\u001b[0;34m'./tmp/tensorflow'\u001b[0m\u001b[0;34m)\u001b[0m\u001b[0;34m\u001b[0m\u001b[0;34m\u001b[0m\u001b[0m\n\u001b[0m",
      "\u001b[0;32m/usr/local/lib/python3.8/dist-packages/keras/saving/save.py\u001b[0m in \u001b[0;36mload_model\u001b[0;34m(filepath, custom_objects, compile, options)\u001b[0m\n\u001b[1;32m    203\u001b[0m         \u001b[0mfilepath\u001b[0m \u001b[0;34m=\u001b[0m \u001b[0mpath_to_string\u001b[0m\u001b[0;34m(\u001b[0m\u001b[0mfilepath\u001b[0m\u001b[0;34m)\u001b[0m\u001b[0;34m\u001b[0m\u001b[0;34m\u001b[0m\u001b[0m\n\u001b[1;32m    204\u001b[0m         \u001b[0;32mif\u001b[0m \u001b[0misinstance\u001b[0m\u001b[0;34m(\u001b[0m\u001b[0mfilepath\u001b[0m\u001b[0;34m,\u001b[0m \u001b[0mstr\u001b[0m\u001b[0;34m)\u001b[0m\u001b[0;34m:\u001b[0m\u001b[0;34m\u001b[0m\u001b[0;34m\u001b[0m\u001b[0m\n\u001b[0;32m--> 205\u001b[0;31m           \u001b[0;32mreturn\u001b[0m \u001b[0msaved_model_load\u001b[0m\u001b[0;34m.\u001b[0m\u001b[0mload\u001b[0m\u001b[0;34m(\u001b[0m\u001b[0mfilepath\u001b[0m\u001b[0;34m,\u001b[0m \u001b[0mcompile\u001b[0m\u001b[0;34m,\u001b[0m \u001b[0moptions\u001b[0m\u001b[0;34m)\u001b[0m\u001b[0;34m\u001b[0m\u001b[0;34m\u001b[0m\u001b[0m\n\u001b[0m\u001b[1;32m    206\u001b[0m \u001b[0;34m\u001b[0m\u001b[0m\n\u001b[1;32m    207\u001b[0m   raise IOError(\n",
      "\u001b[0;32m/usr/local/lib/python3.8/dist-packages/keras/saving/saved_model/load.py\u001b[0m in \u001b[0;36mload\u001b[0;34m(path, compile, options)\u001b[0m\n\u001b[1;32m    132\u001b[0m   \u001b[0;31m# Recreate layers and metrics using the info stored in the metadata.\u001b[0m\u001b[0;34m\u001b[0m\u001b[0;34m\u001b[0m\u001b[0;34m\u001b[0m\u001b[0m\n\u001b[1;32m    133\u001b[0m   \u001b[0mkeras_loader\u001b[0m \u001b[0;34m=\u001b[0m \u001b[0mKerasObjectLoader\u001b[0m\u001b[0;34m(\u001b[0m\u001b[0mmetadata\u001b[0m\u001b[0;34m,\u001b[0m \u001b[0mobject_graph_def\u001b[0m\u001b[0;34m)\u001b[0m\u001b[0;34m\u001b[0m\u001b[0;34m\u001b[0m\u001b[0m\n\u001b[0;32m--> 134\u001b[0;31m   \u001b[0mkeras_loader\u001b[0m\u001b[0;34m.\u001b[0m\u001b[0mload_layers\u001b[0m\u001b[0;34m(\u001b[0m\u001b[0mcompile\u001b[0m\u001b[0;34m=\u001b[0m\u001b[0mcompile\u001b[0m\u001b[0;34m)\u001b[0m\u001b[0;34m\u001b[0m\u001b[0;34m\u001b[0m\u001b[0m\n\u001b[0m\u001b[1;32m    135\u001b[0m \u001b[0;34m\u001b[0m\u001b[0m\n\u001b[1;32m    136\u001b[0m   \u001b[0;31m# Generate a dictionary of all loaded nodes.\u001b[0m\u001b[0;34m\u001b[0m\u001b[0;34m\u001b[0m\u001b[0;34m\u001b[0m\u001b[0m\n",
      "\u001b[0;32m/usr/local/lib/python3.8/dist-packages/keras/saving/saved_model/load.py\u001b[0m in \u001b[0;36mload_layers\u001b[0;34m(self, compile)\u001b[0m\n\u001b[1;32m    392\u001b[0m         \u001b[0;32mcontinue\u001b[0m\u001b[0;34m\u001b[0m\u001b[0;34m\u001b[0m\u001b[0m\n\u001b[1;32m    393\u001b[0m \u001b[0;34m\u001b[0m\u001b[0m\n\u001b[0;32m--> 394\u001b[0;31m       self.loaded_nodes[node_metadata.node_id] = self._load_layer(\n\u001b[0m\u001b[1;32m    395\u001b[0m           \u001b[0mnode_metadata\u001b[0m\u001b[0;34m.\u001b[0m\u001b[0mnode_id\u001b[0m\u001b[0;34m,\u001b[0m \u001b[0mnode_metadata\u001b[0m\u001b[0;34m.\u001b[0m\u001b[0midentifier\u001b[0m\u001b[0;34m,\u001b[0m\u001b[0;34m\u001b[0m\u001b[0;34m\u001b[0m\u001b[0m\n\u001b[1;32m    396\u001b[0m           node_metadata.metadata)\n",
      "\u001b[0;32m/usr/local/lib/python3.8/dist-packages/keras/saving/saved_model/load.py\u001b[0m in \u001b[0;36m_load_layer\u001b[0;34m(self, node_id, identifier, metadata)\u001b[0m\n\u001b[1;32m    434\u001b[0m     \u001b[0;31m# Detect whether this object can be revived from the config. If not, then\u001b[0m\u001b[0;34m\u001b[0m\u001b[0;34m\u001b[0m\u001b[0;34m\u001b[0m\u001b[0m\n\u001b[1;32m    435\u001b[0m     \u001b[0;31m# revive from the SavedModel instead.\u001b[0m\u001b[0;34m\u001b[0m\u001b[0;34m\u001b[0m\u001b[0;34m\u001b[0m\u001b[0m\n\u001b[0;32m--> 436\u001b[0;31m     \u001b[0mobj\u001b[0m\u001b[0;34m,\u001b[0m \u001b[0msetter\u001b[0m \u001b[0;34m=\u001b[0m \u001b[0mself\u001b[0m\u001b[0;34m.\u001b[0m\u001b[0m_revive_from_config\u001b[0m\u001b[0;34m(\u001b[0m\u001b[0midentifier\u001b[0m\u001b[0;34m,\u001b[0m \u001b[0mmetadata\u001b[0m\u001b[0;34m,\u001b[0m \u001b[0mnode_id\u001b[0m\u001b[0;34m)\u001b[0m\u001b[0;34m\u001b[0m\u001b[0;34m\u001b[0m\u001b[0m\n\u001b[0m\u001b[1;32m    437\u001b[0m     \u001b[0;32mif\u001b[0m \u001b[0mobj\u001b[0m \u001b[0;32mis\u001b[0m \u001b[0;32mNone\u001b[0m\u001b[0;34m:\u001b[0m\u001b[0;34m\u001b[0m\u001b[0;34m\u001b[0m\u001b[0m\n\u001b[1;32m    438\u001b[0m       \u001b[0mobj\u001b[0m\u001b[0;34m,\u001b[0m \u001b[0msetter\u001b[0m \u001b[0;34m=\u001b[0m \u001b[0mrevive_custom_object\u001b[0m\u001b[0;34m(\u001b[0m\u001b[0midentifier\u001b[0m\u001b[0;34m,\u001b[0m \u001b[0mmetadata\u001b[0m\u001b[0;34m)\u001b[0m\u001b[0;34m\u001b[0m\u001b[0;34m\u001b[0m\u001b[0m\n",
      "\u001b[0;32m/usr/local/lib/python3.8/dist-packages/keras/saving/saved_model/load.py\u001b[0m in \u001b[0;36m_revive_from_config\u001b[0;34m(self, identifier, metadata, node_id)\u001b[0m\n\u001b[1;32m    452\u001b[0m       obj = (\n\u001b[1;32m    453\u001b[0m           \u001b[0mself\u001b[0m\u001b[0;34m.\u001b[0m\u001b[0m_revive_graph_network\u001b[0m\u001b[0;34m(\u001b[0m\u001b[0midentifier\u001b[0m\u001b[0;34m,\u001b[0m \u001b[0mmetadata\u001b[0m\u001b[0;34m,\u001b[0m \u001b[0mnode_id\u001b[0m\u001b[0;34m)\u001b[0m \u001b[0;32mor\u001b[0m\u001b[0;34m\u001b[0m\u001b[0;34m\u001b[0m\u001b[0m\n\u001b[0;32m--> 454\u001b[0;31m           self._revive_layer_or_model_from_config(metadata, node_id))\n\u001b[0m\u001b[1;32m    455\u001b[0m \u001b[0;34m\u001b[0m\u001b[0m\n\u001b[1;32m    456\u001b[0m     \u001b[0;32mif\u001b[0m \u001b[0mobj\u001b[0m \u001b[0;32mis\u001b[0m \u001b[0;32mNone\u001b[0m\u001b[0;34m:\u001b[0m\u001b[0;34m\u001b[0m\u001b[0;34m\u001b[0m\u001b[0m\n",
      "\u001b[0;32m/usr/local/lib/python3.8/dist-packages/keras/saving/saved_model/load.py\u001b[0m in \u001b[0;36m_revive_layer_or_model_from_config\u001b[0;34m(self, metadata, node_id)\u001b[0m\n\u001b[1;32m    516\u001b[0m \u001b[0;34m\u001b[0m\u001b[0m\n\u001b[1;32m    517\u001b[0m     \u001b[0;32mtry\u001b[0m\u001b[0;34m:\u001b[0m\u001b[0;34m\u001b[0m\u001b[0;34m\u001b[0m\u001b[0m\n\u001b[0;32m--> 518\u001b[0;31m       obj = layers_module.deserialize(\n\u001b[0m\u001b[1;32m    519\u001b[0m           generic_utils.serialize_keras_class_and_config(\n\u001b[1;32m    520\u001b[0m               class_name, config, shared_object_id=shared_object_id))\n",
      "\u001b[0;32m/usr/local/lib/python3.8/dist-packages/keras/layers/serialization.py\u001b[0m in \u001b[0;36mdeserialize\u001b[0;34m(config, custom_objects)\u001b[0m\n\u001b[1;32m    206\u001b[0m   \"\"\"\n\u001b[1;32m    207\u001b[0m   \u001b[0mpopulate_deserializable_objects\u001b[0m\u001b[0;34m(\u001b[0m\u001b[0;34m)\u001b[0m\u001b[0;34m\u001b[0m\u001b[0;34m\u001b[0m\u001b[0m\n\u001b[0;32m--> 208\u001b[0;31m   return generic_utils.deserialize_keras_object(\n\u001b[0m\u001b[1;32m    209\u001b[0m       \u001b[0mconfig\u001b[0m\u001b[0;34m,\u001b[0m\u001b[0;34m\u001b[0m\u001b[0;34m\u001b[0m\u001b[0m\n\u001b[1;32m    210\u001b[0m       \u001b[0mmodule_objects\u001b[0m\u001b[0;34m=\u001b[0m\u001b[0mLOCAL\u001b[0m\u001b[0;34m.\u001b[0m\u001b[0mALL_OBJECTS\u001b[0m\u001b[0;34m,\u001b[0m\u001b[0;34m\u001b[0m\u001b[0;34m\u001b[0m\u001b[0m\n",
      "\u001b[0;32m/usr/local/lib/python3.8/dist-packages/keras/utils/generic_utils.py\u001b[0m in \u001b[0;36mdeserialize_keras_object\u001b[0;34m(identifier, module_objects, custom_objects, printable_module_name)\u001b[0m\n\u001b[1;32m    672\u001b[0m \u001b[0;34m\u001b[0m\u001b[0m\n\u001b[1;32m    673\u001b[0m       \u001b[0;32mif\u001b[0m \u001b[0;34m'custom_objects'\u001b[0m \u001b[0;32min\u001b[0m \u001b[0marg_spec\u001b[0m\u001b[0;34m.\u001b[0m\u001b[0margs\u001b[0m\u001b[0;34m:\u001b[0m\u001b[0;34m\u001b[0m\u001b[0;34m\u001b[0m\u001b[0m\n\u001b[0;32m--> 674\u001b[0;31m         deserialized_obj = cls.from_config(\n\u001b[0m\u001b[1;32m    675\u001b[0m             \u001b[0mcls_config\u001b[0m\u001b[0;34m,\u001b[0m\u001b[0;34m\u001b[0m\u001b[0;34m\u001b[0m\u001b[0m\n\u001b[1;32m    676\u001b[0m             custom_objects=dict(\n",
      "\u001b[0;32m/usr/local/lib/python3.8/dist-packages/keras/engine/training.py\u001b[0m in \u001b[0;36mfrom_config\u001b[0;34m(cls, config, custom_objects)\u001b[0m\n\u001b[1;32m   2395\u001b[0m     \u001b[0;32mwith\u001b[0m \u001b[0mgeneric_utils\u001b[0m\u001b[0;34m.\u001b[0m\u001b[0mSharedObjectLoadingScope\u001b[0m\u001b[0;34m(\u001b[0m\u001b[0;34m)\u001b[0m\u001b[0;34m:\u001b[0m\u001b[0;34m\u001b[0m\u001b[0;34m\u001b[0m\u001b[0m\n\u001b[1;32m   2396\u001b[0m       input_tensors, output_tensors, created_layers = (\n\u001b[0;32m-> 2397\u001b[0;31m           functional.reconstruct_from_config(config, custom_objects))\n\u001b[0m\u001b[1;32m   2398\u001b[0m       \u001b[0;31m# Initialize a model belonging to `cls`, which can be user-defined or\u001b[0m\u001b[0;34m\u001b[0m\u001b[0;34m\u001b[0m\u001b[0;34m\u001b[0m\u001b[0m\n\u001b[1;32m   2399\u001b[0m       \u001b[0;31m# `Functional`.\u001b[0m\u001b[0;34m\u001b[0m\u001b[0;34m\u001b[0m\u001b[0;34m\u001b[0m\u001b[0m\n",
      "\u001b[0;32m/usr/local/lib/python3.8/dist-packages/keras/engine/functional.py\u001b[0m in \u001b[0;36mreconstruct_from_config\u001b[0;34m(config, custom_objects, created_layers)\u001b[0m\n\u001b[1;32m   1270\u001b[0m \u001b[0;34m\u001b[0m\u001b[0m\n\u001b[1;32m   1271\u001b[0m   \u001b[0;31m# First, we create all layers and enqueue nodes to be processed\u001b[0m\u001b[0;34m\u001b[0m\u001b[0;34m\u001b[0m\u001b[0;34m\u001b[0m\u001b[0m\n\u001b[0;32m-> 1272\u001b[0;31m   \u001b[0;32mfor\u001b[0m \u001b[0mlayer_data\u001b[0m \u001b[0;32min\u001b[0m \u001b[0mconfig\u001b[0m\u001b[0;34m[\u001b[0m\u001b[0;34m'layers'\u001b[0m\u001b[0;34m]\u001b[0m\u001b[0;34m:\u001b[0m\u001b[0;34m\u001b[0m\u001b[0;34m\u001b[0m\u001b[0m\n\u001b[0m\u001b[1;32m   1273\u001b[0m     \u001b[0mprocess_layer\u001b[0m\u001b[0;34m(\u001b[0m\u001b[0mlayer_data\u001b[0m\u001b[0;34m)\u001b[0m\u001b[0;34m\u001b[0m\u001b[0;34m\u001b[0m\u001b[0m\n\u001b[1;32m   1274\u001b[0m   \u001b[0;31m# Then we process nodes in order of layer depth.\u001b[0m\u001b[0;34m\u001b[0m\u001b[0;34m\u001b[0m\u001b[0;34m\u001b[0m\u001b[0m\n",
      "\u001b[0;31mKeyError\u001b[0m: 'layers'"
     ]
    }
   ],
   "source": [
    "model = tf.keras.models.load_model('./tmp/tensorflow')"
   ]
  },
  {
   "cell_type": "markdown",
   "id": "0aa626c5",
   "metadata": {},
   "source": [
    "### Re-compute eval metrics of validation data"
   ]
  },
  {
   "cell_type": "code",
   "execution_count": null,
   "id": "aaf8e7d3",
   "metadata": {},
   "outputs": [],
   "source": [
    "eval_data_paths = glob.glob(os.path.join(OUTPUT_DIR, f\"{time_index_eval}/valid.parquet\"))\n",
    "eval_loader = get_dataloader(eval_data_paths)"
   ]
  },
  {
   "cell_type": "code",
   "execution_count": null,
   "id": "1ac1f859",
   "metadata": {},
   "outputs": [],
   "source": [
    "eval_metrics = model.evaluate(eval_loader)"
   ]
  },
  {
   "cell_type": "code",
   "execution_count": null,
   "id": "4adff45e",
   "metadata": {},
   "outputs": [],
   "source": [
    "for key in sorted(eval_metrics.keys()):\n",
    "    print(\"  %s = %s\" % (key, str(eval_metrics[key])))"
   ]
  },
  {
   "cell_type": "markdown",
   "id": "f0e2cdb2",
   "metadata": {},
   "source": [
    "That's it!  \n",
    "You have just trained your session-based recommendation model using Transformers4Rec."
   ]
  },
  {
   "cell_type": "markdown",
   "id": "3abd2856",
   "metadata": {},
   "source": [
    "Tip: We can easily log and visualize model training and evaluation on [Weights & Biases (W&B)](https://wandb.ai/home), [Tensorboard](https://www.tensorflow.org/tensorboard) and [NVIDIA DLLogger](https://github.com/NVIDIA/dllogger). By default, the HuggingFace transformers `Trainer` (which we extend) uses Weights & Biases (W&B) to log training and evaluation metrics, which provides nice results visualization and comparison between different runs."
   ]
  },
  {
   "cell_type": "code",
   "execution_count": null,
   "id": "f4645350",
   "metadata": {},
   "outputs": [],
   "source": [
    "tf.convert_to_tensor([0.5, 0.6])"
   ]
  },
  {
   "cell_type": "code",
   "execution_count": null,
   "id": "40d48ffd",
   "metadata": {},
   "outputs": [],
   "source": [
    "dict(zip(['top_5', 'top_6'], tf.convert_to_tensor([0.5, 0.6])))"
   ]
  },
  {
   "cell_type": "code",
   "execution_count": null,
   "id": "3f1ad652",
   "metadata": {},
   "outputs": [],
   "source": []
  }
 ],
 "metadata": {
  "interpreter": {
   "hash": "7b543a88d374ac88bf8df97911b380f671b13649694a5b49eb21e60fd27eb479"
  },
  "kernelspec": {
   "display_name": "Python 3 (ipykernel)",
   "language": "python",
   "name": "python3"
  },
  "language_info": {
   "codemirror_mode": {
    "name": "ipython",
    "version": 3
   },
   "file_extension": ".py",
   "mimetype": "text/x-python",
   "name": "python",
   "nbconvert_exporter": "python",
   "pygments_lexer": "ipython3",
   "version": "3.8.10"
  }
 },
 "nbformat": 4,
 "nbformat_minor": 5
}
