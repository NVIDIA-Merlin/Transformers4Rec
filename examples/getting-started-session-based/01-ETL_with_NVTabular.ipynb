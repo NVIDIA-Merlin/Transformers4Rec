{
 "cells": [
  {
   "cell_type": "code",
   "execution_count": null,
   "id": "8c12e124",
   "metadata": {},
   "outputs": [],
   "source": [
    "# Copyright 2021 NVIDIA Corporation. All Rights Reserved.\n",
    "#\n",
    "# Licensed under the Apache License, Version 2.0 (the \"License\");\n",
    "# you may not use this file except in compliance with the License.\n",
    "# You may obtain a copy of the License at\n",
    "#\n",
    "#     http://www.apache.org/licenses/LICENSE-2.0\n",
    "#\n",
    "# Unless required by applicable law or agreed to in writing, software\n",
    "# distributed under the License is distributed on an \"AS IS\" BASIS,\n",
    "# WITHOUT WARRANTIES OR CONDITIONS OF ANY KIND, either express or implied.\n",
    "# See the License for the specific language governing permissions and\n",
    "# limitations under the License.\n",
    "# ======="
   ]
  },
  {
   "cell_type": "markdown",
   "id": "08972f21",
   "metadata": {},
   "source": [
    "# ETL with NVTabular"
   ]
  },
  {
   "cell_type": "markdown",
   "id": "53715dd7",
   "metadata": {},
   "source": [
    "In this notebook we are going to generate synthetic data and then create session-based features with [NVTabular](https://github.com/NVIDIA/NVTabular) to train a session-based recommendation model for next item prediction task.\n",
    "\n",
    "NVTabular is a feature engineering and preprocessing library for tabular data designed to quickly and easily manipulate terabyte scale datasets used to train deep learning based recommender systems. It provides a high level abstraction to simplify code and accelerates computation on the GPU using the RAPIDS cuDF library."
   ]
  },
  {
   "cell_type": "markdown",
   "id": "879c043c",
   "metadata": {},
   "source": [
    "- Import required libraries"
   ]
  },
  {
   "cell_type": "code",
   "execution_count": 2,
   "id": "34647dbe",
   "metadata": {},
   "outputs": [],
   "source": [
    "import os\n",
    "import glob\n",
    "\n",
    "import torch \n",
    "import numpy as np\n",
    "import pandas as pd\n",
    "\n",
    "import cudf\n",
    "import nvtabular as nvt"
   ]
  },
  {
   "cell_type": "markdown",
   "id": "5d717ddf",
   "metadata": {},
   "source": [
    "- Define Input/Output Path"
   ]
  },
  {
   "cell_type": "code",
   "execution_count": 3,
   "id": "31206625",
   "metadata": {},
   "outputs": [],
   "source": [
    "INPUT_DATA_DIR = os.environ.get(\"INPUT_DATA_DIR\", \"/workspace/data/\")"
   ]
  },
  {
   "cell_type": "markdown",
   "id": "790cd3dc",
   "metadata": {},
   "source": [
    "## Create a Synthetic Input Data"
   ]
  },
  {
   "cell_type": "code",
   "execution_count": 4,
   "id": "04c1f1a4",
   "metadata": {},
   "outputs": [],
   "source": [
    "NUM_ROWS = 100000\n",
    "\n",
    "# generate random item interaction features \n",
    "df = pd.DataFrame(np.random.randint(70000, 80000, NUM_ROWS), columns=['session_id'])\n",
    "df['item_id'] = np.clip(np.random.lognormal(3., 1., NUM_ROWS).astype(np.int32), 1, 50000)\n",
    "\n",
    "# generate category mapping for each item-id\n",
    "df['category'] = pd.cut(df['item_id'], bins=334, labels=np.arange(1, 335)).astype(np.int32)\n",
    "df['timestamp/age_days'] = np.random.uniform(0, 1, NUM_ROWS)\n",
    "df['timestamp/weekday/sin']= np.random.uniform(0, 1, NUM_ROWS)\n",
    "\n",
    "# generate day mapping for each session \n",
    "map_day = dict(zip(df.session_id.unique(), np.random.randint(1, 10, size=(df.session_id.nunique()))))\n",
    "df['day'] =  df.session_id.map(map_day)"
   ]
  },
  {
   "cell_type": "code",
   "execution_count": 5,
   "id": "2cf7f68e",
   "metadata": {},
   "outputs": [
    {
     "data": {
      "text/html": [
       "<div>\n",
       "<style scoped>\n",
       "    .dataframe tbody tr th:only-of-type {\n",
       "        vertical-align: middle;\n",
       "    }\n",
       "\n",
       "    .dataframe tbody tr th {\n",
       "        vertical-align: top;\n",
       "    }\n",
       "\n",
       "    .dataframe thead th {\n",
       "        text-align: right;\n",
       "    }\n",
       "</style>\n",
       "<table border=\"1\" class=\"dataframe\">\n",
       "  <thead>\n",
       "    <tr style=\"text-align: right;\">\n",
       "      <th></th>\n",
       "      <th>session_id</th>\n",
       "      <th>item_id</th>\n",
       "      <th>category</th>\n",
       "      <th>timestamp/age_days</th>\n",
       "      <th>timestamp/weekday/sin</th>\n",
       "      <th>day</th>\n",
       "    </tr>\n",
       "  </thead>\n",
       "  <tbody>\n",
       "    <tr>\n",
       "      <th>0</th>\n",
       "      <td>77390</td>\n",
       "      <td>71</td>\n",
       "      <td>16</td>\n",
       "      <td>0.701629</td>\n",
       "      <td>0.206774</td>\n",
       "      <td>4</td>\n",
       "    </tr>\n",
       "    <tr>\n",
       "      <th>1</th>\n",
       "      <td>79251</td>\n",
       "      <td>49</td>\n",
       "      <td>11</td>\n",
       "      <td>0.502681</td>\n",
       "      <td>0.699902</td>\n",
       "      <td>6</td>\n",
       "    </tr>\n",
       "    <tr>\n",
       "      <th>2</th>\n",
       "      <td>76285</td>\n",
       "      <td>105</td>\n",
       "      <td>24</td>\n",
       "      <td>0.632214</td>\n",
       "      <td>0.468025</td>\n",
       "      <td>4</td>\n",
       "    </tr>\n",
       "    <tr>\n",
       "      <th>3</th>\n",
       "      <td>73328</td>\n",
       "      <td>139</td>\n",
       "      <td>31</td>\n",
       "      <td>0.872418</td>\n",
       "      <td>0.119704</td>\n",
       "      <td>6</td>\n",
       "    </tr>\n",
       "    <tr>\n",
       "      <th>4</th>\n",
       "      <td>70384</td>\n",
       "      <td>6</td>\n",
       "      <td>2</td>\n",
       "      <td>0.415906</td>\n",
       "      <td>0.554932</td>\n",
       "      <td>3</td>\n",
       "    </tr>\n",
       "  </tbody>\n",
       "</table>\n",
       "</div>"
      ],
      "text/plain": [
       "   session_id  item_id  category  timestamp/age_days  timestamp/weekday/sin  \\\n",
       "0       77390       71        16            0.701629               0.206774   \n",
       "1       79251       49        11            0.502681               0.699902   \n",
       "2       76285      105        24            0.632214               0.468025   \n",
       "3       73328      139        31            0.872418               0.119704   \n",
       "4       70384        6         2            0.415906               0.554932   \n",
       "\n",
       "   day  \n",
       "0    4  \n",
       "1    6  \n",
       "2    4  \n",
       "3    6  \n",
       "4    3  "
      ]
     },
     "execution_count": 5,
     "metadata": {},
     "output_type": "execute_result"
    }
   ],
   "source": [
    "# convert to cudf \n",
    "df = cudf.from_pandas(df)\n",
    "df.head()"
   ]
  },
  {
   "cell_type": "markdown",
   "id": "8f653953",
   "metadata": {},
   "source": [
    "## Feature Engineering with NVTabular"
   ]
  },
  {
   "cell_type": "markdown",
   "id": "32d57dd9",
   "metadata": {},
   "source": [
    "Deep Learning models require the input feature in a specific format. Categorical features needs to be continuous integers (0, ..., |C|) to use them with an embedding layer. We will use NVTabular to preprocess the categorical features, so that all categorical columns will be encoded to continuous integers. Note that we also add `1` after we categorify the categorical columns, the reason for that we want the encoded null values to start from `1` instead of `0` because we reserve `0` for padding the seqeunce features.\n",
    "\n",
    "Here our goal is to create session-based features.  In this cell, we are creating temporal features and grouping them together at the session level, sorting the interactions by time. Note that we also trim each feature sequence in a  session to a certain length. Here, we use the NVTabular library so that we can easily preprocess and create features in a couple of lines on a GPU."
   ]
  },
  {
   "cell_type": "code",
   "execution_count": 6,
   "id": "13e5627d",
   "metadata": {},
   "outputs": [],
   "source": [
    "# Categorify categorical features\n",
    "\n",
    "categ_feats = ['session_id', 'item_id', 'category'] >> nvt.ops.Categorify() >> nvt.ops.LambdaOp(lambda col: col +1)\n",
    "\n",
    "# Define Groupby Workflow\n",
    "groupby_feats = categ_feats + ['day', 'timestamp/age_days', 'timestamp/weekday/sin']\n",
    "\n",
    "groupby_features = groupby_feats >> nvt.ops.Groupby(\n",
    "    groupby_cols=[\"session_id\"], \n",
    "    aggs={\n",
    "        \"item_id\": [\"list\", \"count\"],\n",
    "        \"category\": [\"list\"],     \n",
    "        \"day\": [\"first\"],\n",
    "        \"timestamp/age_days\": [\"list\"],\n",
    "        'timestamp/weekday/sin': [\"list\"],\n",
    "        },\n",
    "    name_sep=\"-\")\n",
    "\n",
    "groupby_features_trim = (groupby_features['category-list', 'item_id-list', 'timestamp/age_days-list', 'timestamp/weekday/sin-list']) >> nvt.ops.ListSlice(0,20) >> nvt.ops.Rename(postfix = '_trim')\n",
    "\n",
    "MINIMUM_SESSION_LENGTH = 2\n",
    "selected_features = groupby_features['item_id-count', 'day-first', 'session_id'] + groupby_features_trim\n",
    "\n",
    "filtered_sessions = selected_features >> nvt.ops.Filter(f=lambda df: df[\"item_id-count\"] >= MINIMUM_SESSION_LENGTH)\n",
    "\n",
    "workflow = nvt.Workflow(filtered_sessions)\n",
    "dataset = nvt.Dataset(df, cpu=False)\n",
    "workflow.fit(dataset)\n",
    "sessions_gdf = workflow.transform(dataset).to_ddf().compute()"
   ]
  },
  {
   "cell_type": "code",
   "execution_count": 7,
   "id": "4bd44e3d",
   "metadata": {},
   "outputs": [
    {
     "data": {
      "text/plain": [
       "session_id                 int64\n",
       "item_id                    int32\n",
       "category                   int32\n",
       "timestamp/age_days       float64\n",
       "timestamp/weekday/sin    float64\n",
       "day                        int64\n",
       "dtype: object"
      ]
     },
     "execution_count": 7,
     "metadata": {},
     "output_type": "execute_result"
    }
   ],
   "source": [
    "dataset.head(1).dtypes"
   ]
  },
  {
   "cell_type": "code",
   "execution_count": 8,
   "id": "f83a8146",
   "metadata": {},
   "outputs": [
    {
     "data": {
      "text/html": [
       "<div>\n",
       "<style scoped>\n",
       "    .dataframe tbody tr th:only-of-type {\n",
       "        vertical-align: middle;\n",
       "    }\n",
       "\n",
       "    .dataframe tbody tr th {\n",
       "        vertical-align: top;\n",
       "    }\n",
       "\n",
       "    .dataframe thead th {\n",
       "        text-align: right;\n",
       "    }\n",
       "</style>\n",
       "<table border=\"1\" class=\"dataframe\">\n",
       "  <thead>\n",
       "    <tr style=\"text-align: right;\">\n",
       "      <th></th>\n",
       "      <th>item_id-count</th>\n",
       "      <th>day-first</th>\n",
       "      <th>session_id</th>\n",
       "      <th>category-list_trim</th>\n",
       "      <th>item_id-list_trim</th>\n",
       "      <th>timestamp/age_days-list_trim</th>\n",
       "      <th>timestamp/weekday/sin-list_trim</th>\n",
       "    </tr>\n",
       "  </thead>\n",
       "  <tbody>\n",
       "    <tr>\n",
       "      <th>0</th>\n",
       "      <td>25</td>\n",
       "      <td>1</td>\n",
       "      <td>2</td>\n",
       "      <td>[3, 3, 16, 4, 17, 10, 5, 2, 10, 7, 10, 5, 21, ...</td>\n",
       "      <td>[6, 6, 62, 14, 78, 36, 13, 7, 37, 31, 37, 13, ...</td>\n",
       "      <td>[0.9100894916250084, 0.756645604699169, 0.2188...</td>\n",
       "      <td>[0.7847419421279545, 0.5945018653647263, 0.347...</td>\n",
       "    </tr>\n",
       "    <tr>\n",
       "      <th>1</th>\n",
       "      <td>24</td>\n",
       "      <td>4</td>\n",
       "      <td>3</td>\n",
       "      <td>[4, 2, 11, 5, 12, 3, 3, 2, 4, 9, 5, 3, 18, 6, ...</td>\n",
       "      <td>[4, 10, 53, 16, 48, 3, 2, 9, 33, 39, 13, 2, 71...</td>\n",
       "      <td>[0.4661804466282633, 0.7722383727614037, 0.620...</td>\n",
       "      <td>[0.4865002133887476, 0.645986420766564, 0.9069...</td>\n",
       "    </tr>\n",
       "    <tr>\n",
       "      <th>2</th>\n",
       "      <td>24</td>\n",
       "      <td>5</td>\n",
       "      <td>4</td>\n",
       "      <td>[4, 5, 6, 6, 20, 5, 2, 8, 5, 5, 11, 7, 2, 19, ...</td>\n",
       "      <td>[33, 15, 21, 21, 82, 17, 11, 24, 17, 15, 49, 3...</td>\n",
       "      <td>[0.7705694252382204, 0.13105883648010097, 0.04...</td>\n",
       "      <td>[0.5391275527607033, 0.5765740803225676, 0.865...</td>\n",
       "    </tr>\n",
       "  </tbody>\n",
       "</table>\n",
       "</div>"
      ],
      "text/plain": [
       "   item_id-count  day-first  session_id  \\\n",
       "0             25          1           2   \n",
       "1             24          4           3   \n",
       "2             24          5           4   \n",
       "\n",
       "                                  category-list_trim  \\\n",
       "0  [3, 3, 16, 4, 17, 10, 5, 2, 10, 7, 10, 5, 21, ...   \n",
       "1  [4, 2, 11, 5, 12, 3, 3, 2, 4, 9, 5, 3, 18, 6, ...   \n",
       "2  [4, 5, 6, 6, 20, 5, 2, 8, 5, 5, 11, 7, 2, 19, ...   \n",
       "\n",
       "                                   item_id-list_trim  \\\n",
       "0  [6, 6, 62, 14, 78, 36, 13, 7, 37, 31, 37, 13, ...   \n",
       "1  [4, 10, 53, 16, 48, 3, 2, 9, 33, 39, 13, 2, 71...   \n",
       "2  [33, 15, 21, 21, 82, 17, 11, 24, 17, 15, 49, 3...   \n",
       "\n",
       "                        timestamp/age_days-list_trim  \\\n",
       "0  [0.9100894916250084, 0.756645604699169, 0.2188...   \n",
       "1  [0.4661804466282633, 0.7722383727614037, 0.620...   \n",
       "2  [0.7705694252382204, 0.13105883648010097, 0.04...   \n",
       "\n",
       "                     timestamp/weekday/sin-list_trim  \n",
       "0  [0.7847419421279545, 0.5945018653647263, 0.347...  \n",
       "1  [0.4865002133887476, 0.645986420766564, 0.9069...  \n",
       "2  [0.5391275527607033, 0.5765740803225676, 0.865...  "
      ]
     },
     "execution_count": 8,
     "metadata": {},
     "output_type": "execute_result"
    }
   ],
   "source": [
    "sessions_gdf.head(3)"
   ]
  },
  {
   "cell_type": "markdown",
   "id": "3d5cb69e",
   "metadata": {},
   "source": [
    "- we can save our workflow"
   ]
  },
  {
   "cell_type": "code",
   "execution_count": 9,
   "id": "c5c307fa",
   "metadata": {},
   "outputs": [],
   "source": [
    "workflow.save('workflow_etl')"
   ]
  },
  {
   "cell_type": "markdown",
   "id": "c9ade1f0",
   "metadata": {},
   "source": [
    "## Export pre-processed data by day"
   ]
  },
  {
   "cell_type": "code",
   "execution_count": 10,
   "id": "6f6c8657",
   "metadata": {},
   "outputs": [],
   "source": [
    "OUTPUT_FOLDER = os.environ.get(\"OUTPUT_FOLDER\", INPUT_DATA_DIR + \"sessions_by_day\")\n",
    "!mkdir -p $OUTPUT_FOLDER"
   ]
  },
  {
   "cell_type": "code",
   "execution_count": 11,
   "id": "385d1867",
   "metadata": {},
   "outputs": [
    {
     "name": "stderr",
     "output_type": "stream",
     "text": [
      "Creating time-based splits: 100%|████████████████████████████████████████████████████████████████████████████████████████████████████████████████████████████████████████████| 9/9 [00:00<00:00, 10.86it/s]\n"
     ]
    }
   ],
   "source": [
    "from transformers4rec.utils.gpu_preprocessing import save_time_based_splits\n",
    "save_time_based_splits(data=nvt.Dataset(sessions_gdf),\n",
    "                       output_dir= OUTPUT_FOLDER,\n",
    "                       partition_col='day-first',\n",
    "                       timestamp_col='session_id', \n",
    "                      )"
   ]
  },
  {
   "cell_type": "markdown",
   "id": "815375e2",
   "metadata": {},
   "source": [
    "## Checking the pre-processing outputs¶"
   ]
  },
  {
   "cell_type": "code",
   "execution_count": 12,
   "id": "29771554",
   "metadata": {},
   "outputs": [],
   "source": [
    "TRAIN_PATHS = sorted(glob.glob(os.path.join(OUTPUT_FOLDER, \"1\", \"train.parquet\")))"
   ]
  },
  {
   "cell_type": "code",
   "execution_count": 13,
   "id": "28c9316d",
   "metadata": {},
   "outputs": [
    {
     "data": {
      "text/html": [
       "<div>\n",
       "<style scoped>\n",
       "    .dataframe tbody tr th:only-of-type {\n",
       "        vertical-align: middle;\n",
       "    }\n",
       "\n",
       "    .dataframe tbody tr th {\n",
       "        vertical-align: top;\n",
       "    }\n",
       "\n",
       "    .dataframe thead th {\n",
       "        text-align: right;\n",
       "    }\n",
       "</style>\n",
       "<table border=\"1\" class=\"dataframe\">\n",
       "  <thead>\n",
       "    <tr style=\"text-align: right;\">\n",
       "      <th></th>\n",
       "      <th>item_id-count</th>\n",
       "      <th>session_id</th>\n",
       "      <th>category-list_trim</th>\n",
       "      <th>item_id-list_trim</th>\n",
       "      <th>timestamp/age_days-list_trim</th>\n",
       "      <th>timestamp/weekday/sin-list_trim</th>\n",
       "    </tr>\n",
       "  </thead>\n",
       "  <tbody>\n",
       "    <tr>\n",
       "      <th>0</th>\n",
       "      <td>25</td>\n",
       "      <td>2</td>\n",
       "      <td>[3, 3, 16, 4, 17, 10, 5, 2, 10, 7, 10, 5, 21, ...</td>\n",
       "      <td>[6, 6, 62, 14, 78, 36, 13, 7, 37, 31, 37, 13, ...</td>\n",
       "      <td>[0.9100894916250084, 0.756645604699169, 0.2188...</td>\n",
       "      <td>[0.7847419421279545, 0.5945018653647263, 0.347...</td>\n",
       "    </tr>\n",
       "    <tr>\n",
       "      <th>1</th>\n",
       "      <td>22</td>\n",
       "      <td>8</td>\n",
       "      <td>[2, 2, 14, 9, 8, 9, 8, 3, 8, 13, 27, 10, 2, 3,...</td>\n",
       "      <td>[11, 10, 51, 40, 25, 38, 26, 6, 24, 60, 117, 3...</td>\n",
       "      <td>[0.9145827797627815, 0.4003500935746652, 0.167...</td>\n",
       "      <td>[0.2016445226211706, 0.7262655850656101, 0.561...</td>\n",
       "    </tr>\n",
       "    <tr>\n",
       "      <th>2</th>\n",
       "      <td>22</td>\n",
       "      <td>11</td>\n",
       "      <td>[2, 6, 2, 2, 6, 2, 6, 5, 13, 2, 10, 5, 59, 2, ...</td>\n",
       "      <td>[12, 22, 9, 9, 22, 11, 22, 16, 57, 7, 36, 16, ...</td>\n",
       "      <td>[0.07175881656991034, 0.3889615998114859, 0.64...</td>\n",
       "      <td>[0.37966564527196056, 0.1359808551571674, 0.13...</td>\n",
       "    </tr>\n",
       "    <tr>\n",
       "      <th>4</th>\n",
       "      <td>21</td>\n",
       "      <td>15</td>\n",
       "      <td>[7, 4, 6, 8, 8, 35, 12, 8, 28, 39, 6, 6, 2, 10...</td>\n",
       "      <td>[30, 33, 18, 26, 26, 138, 48, 25, 120, 165, 21...</td>\n",
       "      <td>[0.10024194264474551, 0.7061059702958917, 0.12...</td>\n",
       "      <td>[0.5244424597811311, 0.04773987690523407, 0.67...</td>\n",
       "    </tr>\n",
       "    <tr>\n",
       "      <th>5</th>\n",
       "      <td>20</td>\n",
       "      <td>36</td>\n",
       "      <td>[8, 5, 11, 2, 21, 2, 4, 3, 15, 8, 25, 3, 4, 3,...</td>\n",
       "      <td>[25, 17, 53, 7, 96, 12, 14, 2, 67, 25, 113, 2,...</td>\n",
       "      <td>[0.6060663634476966, 0.8895306586594811, 0.337...</td>\n",
       "      <td>[0.6516966658517545, 0.3694457918420432, 0.373...</td>\n",
       "    </tr>\n",
       "  </tbody>\n",
       "</table>\n",
       "</div>"
      ],
      "text/plain": [
       "   item_id-count  session_id  \\\n",
       "0             25           2   \n",
       "1             22           8   \n",
       "2             22          11   \n",
       "4             21          15   \n",
       "5             20          36   \n",
       "\n",
       "                                  category-list_trim  \\\n",
       "0  [3, 3, 16, 4, 17, 10, 5, 2, 10, 7, 10, 5, 21, ...   \n",
       "1  [2, 2, 14, 9, 8, 9, 8, 3, 8, 13, 27, 10, 2, 3,...   \n",
       "2  [2, 6, 2, 2, 6, 2, 6, 5, 13, 2, 10, 5, 59, 2, ...   \n",
       "4  [7, 4, 6, 8, 8, 35, 12, 8, 28, 39, 6, 6, 2, 10...   \n",
       "5  [8, 5, 11, 2, 21, 2, 4, 3, 15, 8, 25, 3, 4, 3,...   \n",
       "\n",
       "                                   item_id-list_trim  \\\n",
       "0  [6, 6, 62, 14, 78, 36, 13, 7, 37, 31, 37, 13, ...   \n",
       "1  [11, 10, 51, 40, 25, 38, 26, 6, 24, 60, 117, 3...   \n",
       "2  [12, 22, 9, 9, 22, 11, 22, 16, 57, 7, 36, 16, ...   \n",
       "4  [30, 33, 18, 26, 26, 138, 48, 25, 120, 165, 21...   \n",
       "5  [25, 17, 53, 7, 96, 12, 14, 2, 67, 25, 113, 2,...   \n",
       "\n",
       "                        timestamp/age_days-list_trim  \\\n",
       "0  [0.9100894916250084, 0.756645604699169, 0.2188...   \n",
       "1  [0.9145827797627815, 0.4003500935746652, 0.167...   \n",
       "2  [0.07175881656991034, 0.3889615998114859, 0.64...   \n",
       "4  [0.10024194264474551, 0.7061059702958917, 0.12...   \n",
       "5  [0.6060663634476966, 0.8895306586594811, 0.337...   \n",
       "\n",
       "                     timestamp/weekday/sin-list_trim  \n",
       "0  [0.7847419421279545, 0.5945018653647263, 0.347...  \n",
       "1  [0.2016445226211706, 0.7262655850656101, 0.561...  \n",
       "2  [0.37966564527196056, 0.1359808551571674, 0.13...  \n",
       "4  [0.5244424597811311, 0.04773987690523407, 0.67...  \n",
       "5  [0.6516966658517545, 0.3694457918420432, 0.373...  "
      ]
     },
     "execution_count": 13,
     "metadata": {},
     "output_type": "execute_result"
    }
   ],
   "source": [
    "gdf = cudf.read_parquet(TRAIN_PATHS[0])\n",
    "gdf.head()"
   ]
  }
 ],
 "metadata": {
  "kernelspec": {
   "display_name": "Python 3 (ipykernel)",
   "language": "python",
   "name": "python3"
  },
  "language_info": {
   "codemirror_mode": {
    "name": "ipython",
    "version": 3
   },
   "file_extension": ".py",
   "mimetype": "text/x-python",
   "name": "python",
   "nbconvert_exporter": "python",
   "pygments_lexer": "ipython3",
   "version": "3.8.10"
  }
 },
 "nbformat": 4,
 "nbformat_minor": 5
}
