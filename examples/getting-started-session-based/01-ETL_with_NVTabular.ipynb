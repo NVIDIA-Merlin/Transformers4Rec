{
 "cells": [
  {
   "cell_type": "code",
   "execution_count": null,
   "id": "f50dffe7",
   "metadata": {},
   "outputs": [],
   "source": [
    "# Copyright 2021 NVIDIA Corporation. All Rights Reserved.\n",
    "#\n",
    "# Licensed under the Apache License, Version 2.0 (the \"License\");\n",
    "# you may not use this file except in compliance with the License.\n",
    "# You may obtain a copy of the License at\n",
    "#\n",
    "#     http://www.apache.org/licenses/LICENSE-2.0\n",
    "#\n",
    "# Unless required by applicable law or agreed to in writing, software\n",
    "# distributed under the License is distributed on an \"AS IS\" BASIS,\n",
    "# WITHOUT WARRANTIES OR CONDITIONS OF ANY KIND, either express or implied.\n",
    "# See the License for the specific language governing permissions and\n",
    "# limitations under the License.\n",
    "# ======="
   ]
  },
  {
   "cell_type": "markdown",
   "id": "4f4b3731",
   "metadata": {},
   "source": [
    "# ETL with NVTabular"
   ]
  },
  {
   "cell_type": "markdown",
   "id": "afdf7058",
   "metadata": {},
   "source": [
    "In this notebook we are going to generate synthetic data and then create session-based features with [NVTabular](https://github.com/NVIDIA/NVTabular) to train a session-based recommendation model for next item prediction task.\n",
    "\n",
    "NVTabular is a feature engineering and preprocessing library for tabular data designed to quickly and easily manipulate terabyte scale datasets used to train deep learning based recommender systems. It provides a high level abstraction to simplify code and accelerates computation on the GPU using the RAPIDS cuDF library."
   ]
  },
  {
   "cell_type": "markdown",
   "id": "5234754f",
   "metadata": {},
   "source": [
    "- Import required libraries"
   ]
  },
  {
   "cell_type": "code",
   "execution_count": 2,
   "id": "eb351dae",
   "metadata": {},
   "outputs": [],
   "source": [
    "import os\n",
    "import glob\n",
    "\n",
    "import torch \n",
    "import numpy as np\n",
    "\n",
    "import cudf\n",
    "import cupy as cp\n",
    "import nvtabular as nvt"
   ]
  },
  {
   "cell_type": "markdown",
   "id": "d4f5ad8e",
   "metadata": {},
   "source": [
    "- Define Input/Output Path"
   ]
  },
  {
   "cell_type": "code",
   "execution_count": 3,
   "id": "122d4d25",
   "metadata": {},
   "outputs": [],
   "source": [
    "INPUT_DATA_DIR = os.environ.get(\"INPUT_DATA_DIR\", \"/workspace/data/\")"
   ]
  },
  {
   "cell_type": "markdown",
   "id": "b7cfe328",
   "metadata": {},
   "source": [
    "## Create a Synthetic Input Data"
   ]
  },
  {
   "cell_type": "code",
   "execution_count": 4,
   "id": "66abc08a",
   "metadata": {},
   "outputs": [
    {
     "data": {
      "text/html": [
       "<div>\n",
       "<style scoped>\n",
       "    .dataframe tbody tr th:only-of-type {\n",
       "        vertical-align: middle;\n",
       "    }\n",
       "\n",
       "    .dataframe tbody tr th {\n",
       "        vertical-align: top;\n",
       "    }\n",
       "\n",
       "    .dataframe thead th {\n",
       "        text-align: right;\n",
       "    }\n",
       "</style>\n",
       "<table border=\"1\" class=\"dataframe\">\n",
       "  <thead>\n",
       "    <tr style=\"text-align: right;\">\n",
       "      <th></th>\n",
       "      <th>session_id</th>\n",
       "      <th>day</th>\n",
       "      <th>item_id</th>\n",
       "      <th>category</th>\n",
       "      <th>timestamp/age_days</th>\n",
       "      <th>timestamp/weekday/sin</th>\n",
       "    </tr>\n",
       "  </thead>\n",
       "  <tbody>\n",
       "    <tr>\n",
       "      <th>0</th>\n",
       "      <td>75413</td>\n",
       "      <td>2</td>\n",
       "      <td>76</td>\n",
       "      <td>88</td>\n",
       "      <td>0.732705</td>\n",
       "      <td>0.736444</td>\n",
       "    </tr>\n",
       "    <tr>\n",
       "      <th>1</th>\n",
       "      <td>74865</td>\n",
       "      <td>8</td>\n",
       "      <td>12</td>\n",
       "      <td>208</td>\n",
       "      <td>0.413342</td>\n",
       "      <td>0.883712</td>\n",
       "    </tr>\n",
       "    <tr>\n",
       "      <th>2</th>\n",
       "      <td>71381</td>\n",
       "      <td>8</td>\n",
       "      <td>22</td>\n",
       "      <td>222</td>\n",
       "      <td>0.836300</td>\n",
       "      <td>0.983673</td>\n",
       "    </tr>\n",
       "    <tr>\n",
       "      <th>3</th>\n",
       "      <td>73579</td>\n",
       "      <td>1</td>\n",
       "      <td>7</td>\n",
       "      <td>330</td>\n",
       "      <td>0.029047</td>\n",
       "      <td>0.596344</td>\n",
       "    </tr>\n",
       "    <tr>\n",
       "      <th>4</th>\n",
       "      <td>75550</td>\n",
       "      <td>3</td>\n",
       "      <td>45</td>\n",
       "      <td>37</td>\n",
       "      <td>0.598035</td>\n",
       "      <td>0.178577</td>\n",
       "    </tr>\n",
       "  </tbody>\n",
       "</table>\n",
       "</div>"
      ],
      "text/plain": [
       "   session_id  day  item_id  category  timestamp/age_days  \\\n",
       "0       75413    2       76        88            0.732705   \n",
       "1       74865    8       12       208            0.413342   \n",
       "2       71381    8       22       222            0.836300   \n",
       "3       73579    1        7       330            0.029047   \n",
       "4       75550    3       45        37            0.598035   \n",
       "\n",
       "   timestamp/weekday/sin  \n",
       "0               0.736444  \n",
       "1               0.883712  \n",
       "2               0.983673  \n",
       "3               0.596344  \n",
       "4               0.178577  "
      ]
     },
     "execution_count": 4,
     "metadata": {},
     "output_type": "execute_result"
    }
   ],
   "source": [
    "NUM_ROWS = 100000\n",
    "inputs = {\n",
    "    'session_id': np.random.randint(70000, 80000, NUM_ROWS),\n",
    "    'day': np.random.randint(1, 10, NUM_ROWS),\n",
    "    'item_id': np.clip(np.random.lognormal(3., 1., NUM_ROWS).astype(np.int32), 1, 50000),\n",
    "    'category': np.random.randint(0, 332, NUM_ROWS),\n",
    "    'timestamp/age_days': np.random.uniform(0, 1, NUM_ROWS),\n",
    "    'timestamp/weekday/sin' : np.random.uniform(0, 1, NUM_ROWS),\n",
    "    }\n",
    "df = cudf.DataFrame(inputs)\n",
    "df.head()"
   ]
  },
  {
   "cell_type": "markdown",
   "id": "7645b5e6",
   "metadata": {},
   "source": [
    "## Feature Engineering with NVTabular"
   ]
  },
  {
   "cell_type": "markdown",
   "id": "d38ac84a",
   "metadata": {},
   "source": [
    "Deep Learning models require the input feature in a specific format. Categorical features needs to be continuous integers (0, ..., |C|) to use them with an embedding layer. We will use NVTabular to preprocess the categorical features, so that all categorical columns will be encoded to continuous integers. Note that we also add `1` after we categorify the categorical columns, the reason for that we want the encoded null values to start from `1` instead of `0` because we reserve `0` for padding the seqeunce features.\n",
    "\n",
    "Here our goal is to create session-based features.  In this cell, we are creating temporal features and grouping them together at the session level, sorting the interactions by time. Note that we also trim each feature sequence in a  session to a certain length. Here, we use the NVTabular library so that we can easily preprocess and create features in a couple of lines on a GPU."
   ]
  },
  {
   "cell_type": "code",
   "execution_count": 5,
   "id": "3caefae0",
   "metadata": {},
   "outputs": [],
   "source": [
    "# Categorify categorical features\n",
    "\n",
    "categ_feats = ['session_id', 'item_id', 'category'] >> nvt.ops.Categorify() >> nvt.ops.LambdaOp(lambda col: col +1)\n",
    "# Define Groupby Workflow\n",
    "groupby_feats = categ_feats + ['day', 'timestamp/age_days', 'timestamp/weekday/sin']\n",
    "\n",
    "groupby_features = groupby_feats >> nvt.ops.Groupby(\n",
    "    groupby_cols=[\"session_id\"], \n",
    "    aggs={\n",
    "        \"item_id\": [\"list\", \"count\"],\n",
    "        \"category\": [\"list\"],     \n",
    "        \"day\": [\"first\"],\n",
    "        \"timestamp/age_days\": [\"list\"],\n",
    "        'timestamp/weekday/sin': [\"list\"],\n",
    "        },\n",
    "    name_sep=\"-\")\n",
    "\n",
    "groupby_features_trim = (groupby_features['category-list', 'item_id-list', 'timestamp/age_days-list', 'timestamp/weekday/sin-list']) >> nvt.ops.ListSlice(0,20) >> nvt.ops.Rename(postfix = '_trim')\n",
    "\n",
    "MINIMUM_SESSION_LENGTH = 2\n",
    "selected_features = groupby_features['item_id-count', 'day-first', 'session_id'] + groupby_features_trim\n",
    "\n",
    "filtered_sessions = selected_features >> nvt.ops.Filter(f=lambda df: df[\"item_id-count\"] >= MINIMUM_SESSION_LENGTH)\n",
    "\n",
    "workflow = nvt.Workflow(filtered_sessions)\n",
    "dataset = nvt.Dataset(df, cpu=False)\n",
    "workflow.fit(dataset)\n",
    "sessions_gdf = workflow.transform(dataset).to_ddf().compute()"
   ]
  },
  {
   "cell_type": "code",
   "execution_count": 6,
   "id": "2dc28c6e",
   "metadata": {},
   "outputs": [
    {
     "data": {
      "text/html": [
       "<div>\n",
       "<style scoped>\n",
       "    .dataframe tbody tr th:only-of-type {\n",
       "        vertical-align: middle;\n",
       "    }\n",
       "\n",
       "    .dataframe tbody tr th {\n",
       "        vertical-align: top;\n",
       "    }\n",
       "\n",
       "    .dataframe thead th {\n",
       "        text-align: right;\n",
       "    }\n",
       "</style>\n",
       "<table border=\"1\" class=\"dataframe\">\n",
       "  <thead>\n",
       "    <tr style=\"text-align: right;\">\n",
       "      <th></th>\n",
       "      <th>item_id-count</th>\n",
       "      <th>day-first</th>\n",
       "      <th>session_id</th>\n",
       "      <th>category-list_trim</th>\n",
       "      <th>item_id-list_trim</th>\n",
       "      <th>timestamp/age_days-list_trim</th>\n",
       "      <th>timestamp/weekday/sin-list_trim</th>\n",
       "    </tr>\n",
       "  </thead>\n",
       "  <tbody>\n",
       "    <tr>\n",
       "      <th>0</th>\n",
       "      <td>26</td>\n",
       "      <td>4</td>\n",
       "      <td>2</td>\n",
       "      <td>[283, 98, 184, 77, 151, 92, 33, 242, 286, 292,...</td>\n",
       "      <td>[60, 20, 9, 29, 4, 4, 9, 6, 39, 23, 21, 6, 26,...</td>\n",
       "      <td>[0.4463565991741223, 0.1549891109018634, 0.369...</td>\n",
       "      <td>[0.5276924471156392, 0.1516751897081191, 0.227...</td>\n",
       "    </tr>\n",
       "    <tr>\n",
       "      <th>1</th>\n",
       "      <td>24</td>\n",
       "      <td>3</td>\n",
       "      <td>3</td>\n",
       "      <td>[278, 276, 150, 152, 308, 40, 19, 294, 279, 27...</td>\n",
       "      <td>[8, 9, 13, 21, 5, 20, 29, 7, 24, 20, 40, 14, 7...</td>\n",
       "      <td>[0.4048416894121356, 0.845958500030117, 0.1118...</td>\n",
       "      <td>[0.7304891747559209, 0.36690625149596334, 0.10...</td>\n",
       "    </tr>\n",
       "    <tr>\n",
       "      <th>2</th>\n",
       "      <td>23</td>\n",
       "      <td>6</td>\n",
       "      <td>4</td>\n",
       "      <td>[215, 140, 128, 191, 256, 126, 217, 46, 76, 32...</td>\n",
       "      <td>[17, 43, 2, 78, 46, 4, 5, 41, 18, 20, 42, 9, 2...</td>\n",
       "      <td>[0.5603328296574529, 0.9515435545166966, 0.730...</td>\n",
       "      <td>[0.21978670796400168, 0.2756249640006897, 0.92...</td>\n",
       "    </tr>\n",
       "  </tbody>\n",
       "</table>\n",
       "</div>"
      ],
      "text/plain": [
       "   item_id-count  day-first  session_id  \\\n",
       "0             26          4           2   \n",
       "1             24          3           3   \n",
       "2             23          6           4   \n",
       "\n",
       "                                  category-list_trim  \\\n",
       "0  [283, 98, 184, 77, 151, 92, 33, 242, 286, 292,...   \n",
       "1  [278, 276, 150, 152, 308, 40, 19, 294, 279, 27...   \n",
       "2  [215, 140, 128, 191, 256, 126, 217, 46, 76, 32...   \n",
       "\n",
       "                                   item_id-list_trim  \\\n",
       "0  [60, 20, 9, 29, 4, 4, 9, 6, 39, 23, 21, 6, 26,...   \n",
       "1  [8, 9, 13, 21, 5, 20, 29, 7, 24, 20, 40, 14, 7...   \n",
       "2  [17, 43, 2, 78, 46, 4, 5, 41, 18, 20, 42, 9, 2...   \n",
       "\n",
       "                        timestamp/age_days-list_trim  \\\n",
       "0  [0.4463565991741223, 0.1549891109018634, 0.369...   \n",
       "1  [0.4048416894121356, 0.845958500030117, 0.1118...   \n",
       "2  [0.5603328296574529, 0.9515435545166966, 0.730...   \n",
       "\n",
       "                     timestamp/weekday/sin-list_trim  \n",
       "0  [0.5276924471156392, 0.1516751897081191, 0.227...  \n",
       "1  [0.7304891747559209, 0.36690625149596334, 0.10...  \n",
       "2  [0.21978670796400168, 0.2756249640006897, 0.92...  "
      ]
     },
     "execution_count": 6,
     "metadata": {},
     "output_type": "execute_result"
    }
   ],
   "source": [
    "sessions_gdf.head(3)"
   ]
  },
  {
   "cell_type": "markdown",
   "id": "b42792e2",
   "metadata": {},
   "source": [
    "- we can save our workflow"
   ]
  },
  {
   "cell_type": "code",
   "execution_count": 7,
   "id": "67f495ff",
   "metadata": {},
   "outputs": [],
   "source": [
    "workflow.save('workflow_etl')"
   ]
  },
  {
   "cell_type": "markdown",
   "id": "43bcef59",
   "metadata": {},
   "source": [
    "## Export pre-processed data by day"
   ]
  },
  {
   "cell_type": "code",
   "execution_count": 8,
   "id": "a02e0ff6",
   "metadata": {},
   "outputs": [],
   "source": [
    "OUTPUT_FOLDER = os.environ.get(\"OUTPUT_FOLDER\", INPUT_DATA_DIR + \"sessions_by_day\")\n",
    "!mkdir -p $OUTPUT_FOLDER"
   ]
  },
  {
   "cell_type": "code",
   "execution_count": 9,
   "id": "8bf8a71f",
   "metadata": {},
   "outputs": [
    {
     "name": "stderr",
     "output_type": "stream",
     "text": [
      "Creating time-based splits: 100%|████████████████████████████████████████████████████████████████████████████████████████████████████████████████████████████████████████████| 9/9 [00:00<00:00, 11.47it/s]\n"
     ]
    }
   ],
   "source": [
    "# requires cudf + cupy + nvtabular + dask_cudf\n",
    "from transformers4rec.utils.gpu_preprocessing import save_time_based_splits\n",
    "save_time_based_splits(data=nvt.Dataset(sessions_gdf),\n",
    "                       output_dir= OUTPUT_FOLDER,\n",
    "                       partition_col='day-first',\n",
    "                       timestamp_col='session_id', \n",
    "                      )"
   ]
  },
  {
   "cell_type": "markdown",
   "id": "9aae29e9",
   "metadata": {},
   "source": [
    "## Checking the pre-processing outputs¶"
   ]
  },
  {
   "cell_type": "code",
   "execution_count": 10,
   "id": "65deefb4",
   "metadata": {},
   "outputs": [],
   "source": [
    "TRAIN_PATHS = sorted(glob.glob(os.path.join(OUTPUT_FOLDER, \"1\", \"train.parquet\")))"
   ]
  },
  {
   "cell_type": "code",
   "execution_count": 11,
   "id": "63dd6f3b",
   "metadata": {},
   "outputs": [
    {
     "data": {
      "text/html": [
       "<div>\n",
       "<style scoped>\n",
       "    .dataframe tbody tr th:only-of-type {\n",
       "        vertical-align: middle;\n",
       "    }\n",
       "\n",
       "    .dataframe tbody tr th {\n",
       "        vertical-align: top;\n",
       "    }\n",
       "\n",
       "    .dataframe thead th {\n",
       "        text-align: right;\n",
       "    }\n",
       "</style>\n",
       "<table border=\"1\" class=\"dataframe\">\n",
       "  <thead>\n",
       "    <tr style=\"text-align: right;\">\n",
       "      <th></th>\n",
       "      <th>item_id-count</th>\n",
       "      <th>session_id</th>\n",
       "      <th>category-list_trim</th>\n",
       "      <th>item_id-list_trim</th>\n",
       "      <th>timestamp/age_days-list_trim</th>\n",
       "      <th>timestamp/weekday/sin-list_trim</th>\n",
       "    </tr>\n",
       "  </thead>\n",
       "  <tbody>\n",
       "    <tr>\n",
       "      <th>0</th>\n",
       "      <td>20</td>\n",
       "      <td>27</td>\n",
       "      <td>[8, 193, 168, 162, 118, 152, 89, 97, 250, 332,...</td>\n",
       "      <td>[164, 45, 54, 18, 6, 8, 10, 62, 112, 19, 12, 3...</td>\n",
       "      <td>[0.30470386183130094, 0.09308778738715362, 0.2...</td>\n",
       "      <td>[0.38974151439627003, 0.45524387873932437, 0.0...</td>\n",
       "    </tr>\n",
       "    <tr>\n",
       "      <th>1</th>\n",
       "      <td>19</td>\n",
       "      <td>46</td>\n",
       "      <td>[90, 163, 327, 309, 2, 269, 48, 221, 62, 196, ...</td>\n",
       "      <td>[5, 39, 16, 3, 2, 5, 18, 7, 10, 26, 15, 3, 10,...</td>\n",
       "      <td>[0.5103827304853293, 0.6159448905229645, 0.221...</td>\n",
       "      <td>[0.1270395229627449, 0.020588725035716293, 0.0...</td>\n",
       "    </tr>\n",
       "    <tr>\n",
       "      <th>2</th>\n",
       "      <td>19</td>\n",
       "      <td>47</td>\n",
       "      <td>[39, 166, 123, 74, 299, 38, 177, 147, 34, 220,...</td>\n",
       "      <td>[26, 9, 39, 10, 28, 12, 182, 8, 3, 8, 9, 18, 1...</td>\n",
       "      <td>[0.7488989346043374, 0.1963593391329208, 0.861...</td>\n",
       "      <td>[0.707052886872627, 0.3649122772525063, 0.6983...</td>\n",
       "    </tr>\n",
       "    <tr>\n",
       "      <th>4</th>\n",
       "      <td>19</td>\n",
       "      <td>56</td>\n",
       "      <td>[180, 10, 40, 163, 193, 89, 218, 71, 217, 218,...</td>\n",
       "      <td>[16, 17, 33, 29, 58, 16, 17, 2, 49, 120, 190, ...</td>\n",
       "      <td>[0.20861699148578527, 0.5914164715883312, 0.29...</td>\n",
       "      <td>[0.3873008805273711, 0.05573806134078918, 0.91...</td>\n",
       "    </tr>\n",
       "    <tr>\n",
       "      <th>5</th>\n",
       "      <td>19</td>\n",
       "      <td>74</td>\n",
       "      <td>[133, 332, 9, 262, 312, 235, 63, 193, 259, 315...</td>\n",
       "      <td>[70, 30, 25, 33, 272, 2, 23, 12, 12, 60, 15, 6...</td>\n",
       "      <td>[0.03325368082407054, 0.5433474219974506, 0.90...</td>\n",
       "      <td>[0.0253795879058184, 0.7564431901223367, 0.074...</td>\n",
       "    </tr>\n",
       "  </tbody>\n",
       "</table>\n",
       "</div>"
      ],
      "text/plain": [
       "   item_id-count  session_id  \\\n",
       "0             20          27   \n",
       "1             19          46   \n",
       "2             19          47   \n",
       "4             19          56   \n",
       "5             19          74   \n",
       "\n",
       "                                  category-list_trim  \\\n",
       "0  [8, 193, 168, 162, 118, 152, 89, 97, 250, 332,...   \n",
       "1  [90, 163, 327, 309, 2, 269, 48, 221, 62, 196, ...   \n",
       "2  [39, 166, 123, 74, 299, 38, 177, 147, 34, 220,...   \n",
       "4  [180, 10, 40, 163, 193, 89, 218, 71, 217, 218,...   \n",
       "5  [133, 332, 9, 262, 312, 235, 63, 193, 259, 315...   \n",
       "\n",
       "                                   item_id-list_trim  \\\n",
       "0  [164, 45, 54, 18, 6, 8, 10, 62, 112, 19, 12, 3...   \n",
       "1  [5, 39, 16, 3, 2, 5, 18, 7, 10, 26, 15, 3, 10,...   \n",
       "2  [26, 9, 39, 10, 28, 12, 182, 8, 3, 8, 9, 18, 1...   \n",
       "4  [16, 17, 33, 29, 58, 16, 17, 2, 49, 120, 190, ...   \n",
       "5  [70, 30, 25, 33, 272, 2, 23, 12, 12, 60, 15, 6...   \n",
       "\n",
       "                        timestamp/age_days-list_trim  \\\n",
       "0  [0.30470386183130094, 0.09308778738715362, 0.2...   \n",
       "1  [0.5103827304853293, 0.6159448905229645, 0.221...   \n",
       "2  [0.7488989346043374, 0.1963593391329208, 0.861...   \n",
       "4  [0.20861699148578527, 0.5914164715883312, 0.29...   \n",
       "5  [0.03325368082407054, 0.5433474219974506, 0.90...   \n",
       "\n",
       "                     timestamp/weekday/sin-list_trim  \n",
       "0  [0.38974151439627003, 0.45524387873932437, 0.0...  \n",
       "1  [0.1270395229627449, 0.020588725035716293, 0.0...  \n",
       "2  [0.707052886872627, 0.3649122772525063, 0.6983...  \n",
       "4  [0.3873008805273711, 0.05573806134078918, 0.91...  \n",
       "5  [0.0253795879058184, 0.7564431901223367, 0.074...  "
      ]
     },
     "execution_count": 11,
     "metadata": {},
     "output_type": "execute_result"
    }
   ],
   "source": [
    "gdf = cudf.read_parquet(TRAIN_PATHS[0])\n",
    "gdf.head()"
   ]
  }
 ],
 "metadata": {
  "kernelspec": {
   "display_name": "Python 3 (ipykernel)",
   "language": "python",
   "name": "python3"
  },
  "language_info": {
   "codemirror_mode": {
    "name": "ipython",
    "version": 3
   },
   "file_extension": ".py",
   "mimetype": "text/x-python",
   "name": "python",
   "nbconvert_exporter": "python",
   "pygments_lexer": "ipython3",
   "version": "3.8.10"
  }
 },
 "nbformat": 4,
 "nbformat_minor": 5
}
