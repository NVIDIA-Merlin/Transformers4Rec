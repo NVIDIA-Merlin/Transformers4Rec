{
 "cells": [
  {
   "cell_type": "code",
   "execution_count": 1,
   "id": "3d72de04",
   "metadata": {},
   "outputs": [],
   "source": [
    "# Copyright 2021 NVIDIA Corporation. All Rights Reserved.\n",
    "#\n",
    "# Licensed under the Apache License, Version 2.0 (the \"License\");\n",
    "# you may not use this file except in compliance with the License.\n",
    "# You may obtain a copy of the License at\n",
    "#\n",
    "#     http://www.apache.org/licenses/LICENSE-2.0\n",
    "#\n",
    "# Unless required by applicable law or agreed to in writing, software\n",
    "# distributed under the License is distributed on an \"AS IS\" BASIS,\n",
    "# WITHOUT WARRANTIES OR CONDITIONS OF ANY KIND, either express or implied.\n",
    "# See the License for the specific language governing permissions and\n",
    "# limitations under the License.\n",
    "# ======="
   ]
  },
  {
   "cell_type": "markdown",
   "id": "32ee3c69",
   "metadata": {},
   "source": [
    "# ETL with NVTabular"
   ]
  },
  {
   "cell_type": "markdown",
   "id": "cb53e15d",
   "metadata": {},
   "source": [
    "In this notebook we are going to generate synthetic data and then create sequential features with [NVTabular](https://github.com/NVIDIA/NVTabular). Such data will be used in the next notebook to train a session-based recommendation model.\n",
    "\n",
    "NVTabular is a feature engineering and preprocessing library for tabular data designed to quickly and easily manipulate terabyte scale datasets used to train deep learning based recommender systems. It provides a high level abstraction to simplify code and accelerates computation on the GPU using the RAPIDS cuDF library."
   ]
  },
  {
   "cell_type": "markdown",
   "id": "51188736",
   "metadata": {},
   "source": [
    "### Import required libraries"
   ]
  },
  {
   "cell_type": "code",
   "execution_count": 2,
   "id": "e8006357",
   "metadata": {},
   "outputs": [],
   "source": [
    "import os\n",
    "import glob\n",
    "\n",
    "import torch \n",
    "import numpy as np\n",
    "import pandas as pd\n",
    "\n",
    "import cudf\n",
    "import cupy as cp\n",
    "import nvtabular as nvt"
   ]
  },
  {
   "cell_type": "markdown",
   "id": "2dd84e10",
   "metadata": {},
   "source": [
    "### Define Input/Output Path"
   ]
  },
  {
   "cell_type": "code",
   "execution_count": 3,
   "id": "fc5e7ec7",
   "metadata": {},
   "outputs": [],
   "source": [
    "INPUT_DATA_DIR = os.environ.get(\"INPUT_DATA_DIR\", \"/workspace/data/\")"
   ]
  },
  {
   "cell_type": "markdown",
   "id": "2a367828",
   "metadata": {},
   "source": [
    "## Create a Synthetic Input Data"
   ]
  },
  {
   "cell_type": "code",
   "execution_count": 4,
   "id": "3a5b0497",
   "metadata": {},
   "outputs": [],
   "source": [
    "NUM_ROWS = 100000\n",
    "long_tailed_item_distribution = np.clip(np.random.lognormal(3., 1., NUM_ROWS).astype(np.int32), 1, 50000)\n",
    "\n",
    "# generate random item interaction features \n",
    "df = pd.DataFrame(np.random.randint(70000, 80000, NUM_ROWS), columns=['session_id'])\n",
    "df['item_id'] = long_tailed_item_distribution\n",
    "\n",
    "# generate category mapping for each item-id\n",
    "df['category'] = pd.cut(df['item_id'], bins=334, labels=np.arange(1, 335)).astype(np.int32)\n",
    "df['timestamp/age_days'] = np.random.uniform(0, 1, NUM_ROWS)\n",
    "df['timestamp/weekday/sin']= np.random.uniform(0, 1, NUM_ROWS)\n",
    "\n",
    "# generate day mapping for each session \n",
    "map_day = dict(zip(df.session_id.unique(), np.random.randint(1, 10, size=(df.session_id.nunique()))))\n",
    "df['day'] =  df.session_id.map(map_day)"
   ]
  },
  {
   "cell_type": "markdown",
   "id": "4f775417",
   "metadata": {},
   "source": [
    "- Visualize couple of rows of the synthetic dataset"
   ]
  },
  {
   "cell_type": "code",
   "execution_count": 5,
   "id": "a78b3c65",
   "metadata": {},
   "outputs": [
    {
     "data": {
      "text/html": [
       "<div>\n",
       "<style scoped>\n",
       "    .dataframe tbody tr th:only-of-type {\n",
       "        vertical-align: middle;\n",
       "    }\n",
       "\n",
       "    .dataframe tbody tr th {\n",
       "        vertical-align: top;\n",
       "    }\n",
       "\n",
       "    .dataframe thead th {\n",
       "        text-align: right;\n",
       "    }\n",
       "</style>\n",
       "<table border=\"1\" class=\"dataframe\">\n",
       "  <thead>\n",
       "    <tr style=\"text-align: right;\">\n",
       "      <th></th>\n",
       "      <th>session_id</th>\n",
       "      <th>item_id</th>\n",
       "      <th>category</th>\n",
       "      <th>timestamp/age_days</th>\n",
       "      <th>timestamp/weekday/sin</th>\n",
       "      <th>day</th>\n",
       "    </tr>\n",
       "  </thead>\n",
       "  <tbody>\n",
       "    <tr>\n",
       "      <th>0</th>\n",
       "      <td>70711</td>\n",
       "      <td>7</td>\n",
       "      <td>1</td>\n",
       "      <td>0.721335</td>\n",
       "      <td>0.345519</td>\n",
       "      <td>6</td>\n",
       "    </tr>\n",
       "    <tr>\n",
       "      <th>1</th>\n",
       "      <td>77190</td>\n",
       "      <td>7</td>\n",
       "      <td>1</td>\n",
       "      <td>0.702950</td>\n",
       "      <td>0.656413</td>\n",
       "      <td>2</td>\n",
       "    </tr>\n",
       "    <tr>\n",
       "      <th>2</th>\n",
       "      <td>76391</td>\n",
       "      <td>19</td>\n",
       "      <td>2</td>\n",
       "      <td>0.972747</td>\n",
       "      <td>0.862056</td>\n",
       "      <td>8</td>\n",
       "    </tr>\n",
       "    <tr>\n",
       "      <th>3</th>\n",
       "      <td>70283</td>\n",
       "      <td>9</td>\n",
       "      <td>1</td>\n",
       "      <td>0.681981</td>\n",
       "      <td>0.781759</td>\n",
       "      <td>1</td>\n",
       "    </tr>\n",
       "    <tr>\n",
       "      <th>4</th>\n",
       "      <td>70864</td>\n",
       "      <td>36</td>\n",
       "      <td>4</td>\n",
       "      <td>0.368054</td>\n",
       "      <td>0.052596</td>\n",
       "      <td>1</td>\n",
       "    </tr>\n",
       "  </tbody>\n",
       "</table>\n",
       "</div>"
      ],
      "text/plain": [
       "   session_id  item_id  category  timestamp/age_days  timestamp/weekday/sin  \\\n",
       "0       70711        7         1            0.721335               0.345519   \n",
       "1       77190        7         1            0.702950               0.656413   \n",
       "2       76391       19         2            0.972747               0.862056   \n",
       "3       70283        9         1            0.681981               0.781759   \n",
       "4       70864       36         4            0.368054               0.052596   \n",
       "\n",
       "   day  \n",
       "0    6  \n",
       "1    2  \n",
       "2    8  \n",
       "3    1  \n",
       "4    1  "
      ]
     },
     "execution_count": 5,
     "metadata": {},
     "output_type": "execute_result"
    }
   ],
   "source": [
    "df.head()"
   ]
  },
  {
   "cell_type": "markdown",
   "id": "c61829ea",
   "metadata": {},
   "source": [
    "## Feature Engineering with NVTabular"
   ]
  },
  {
   "cell_type": "markdown",
   "id": "e7f5b905",
   "metadata": {},
   "source": [
    "Deep Learning models require dense input features. Categorical features are sparse, and need to be represented by dense embeddings in the model. To allow for that, categorical features need first to be encoded as contiguous integers `(0, ..., |C|)`, where `|C|` is the feature cardinality (number of unique values), so that their embeddings can be efficiently stored in embedding layers.  We will use NVTabular to preprocess the categorical features, so that all categorical columns are encoded as contiguous integers.  Note that in the `Categorify` op we set `start_index=1`, the reason for that we want the encoded null values to start from `1` instead of `0` because we reserve `0` for padding the sequence features."
   ]
  },
  {
   "cell_type": "markdown",
   "id": "fab0dade",
   "metadata": {},
   "source": [
    "Here our goal is to create sequential features.  In this cell, we are creating temporal features and grouping them together at the session level, sorting the interactions by time. Note that we also trim each feature sequence in a  session to a certain length. Here, we use the NVTabular library so that we can easily preprocess and create features on GPU with a few lines."
   ]
  },
  {
   "cell_type": "code",
   "execution_count": 6,
   "id": "94b3ade6",
   "metadata": {},
   "outputs": [],
   "source": [
    "# Categorify categorical features\n",
    "categ_feats = ['session_id', 'item_id', 'category'] >> nvt.ops.Categorify(start_index=1)\n",
    "\n",
    "# Define Groupby Workflow\n",
    "groupby_feats = categ_feats + ['day', 'timestamp/age_days', 'timestamp/weekday/sin']\n",
    "\n",
    "# Groups interaction features by session and sorted by timestamp\n",
    "groupby_features = groupby_feats >> nvt.ops.Groupby(\n",
    "    groupby_cols=[\"session_id\"], \n",
    "    aggs={\n",
    "        \"item_id\": [\"list\", \"count\"],\n",
    "        \"category\": [\"list\"],     \n",
    "        \"day\": [\"first\"],\n",
    "        \"timestamp/age_days\": [\"list\"],\n",
    "        'timestamp/weekday/sin': [\"list\"],\n",
    "        },\n",
    "    name_sep=\"-\")\n",
    "\n",
    "# Select and truncate the sequential features\n",
    "sequence_features_truncated = (groupby_features['category-list', 'item_id-list', \n",
    "                                          'timestamp/age_days-list', 'timestamp/weekday/sin-list']) >> \\\n",
    "                            nvt.ops.ListSlice(0,20) >> nvt.ops.Rename(postfix = '_trim')\n",
    "\n",
    "# Filter out sessions with length 1 (not valid for next-item prediction training and evaluation)\n",
    "MINIMUM_SESSION_LENGTH = 2\n",
    "selected_features = groupby_features['item_id-count', 'day-first', 'session_id'] + sequence_features_truncated\n",
    "filtered_sessions = selected_features >> nvt.ops.Filter(f=lambda df: df[\"item_id-count\"] >= MINIMUM_SESSION_LENGTH)\n",
    "\n",
    "\n",
    "workflow = nvt.Workflow(filtered_sessions)\n",
    "dataset = nvt.Dataset(df, cpu=False)\n",
    "# Generating statistics for the features\n",
    "workflow.fit(dataset)\n",
    "# Applying the preprocessing and returning an NVTabular dataset\n",
    "sessions_ds = workflow.transform(dataset)\n",
    "# Converting the NVTabular dataset to a Dask cuDF dataframe (`to_ddf()`) and then to cuDF dataframe (`.compute()`)\n",
    "sessions_gdf = sessions_ds.to_ddf().compute()"
   ]
  },
  {
   "cell_type": "code",
   "execution_count": 7,
   "id": "554606f1",
   "metadata": {},
   "outputs": [
    {
     "data": {
      "text/html": [
       "<div>\n",
       "<style scoped>\n",
       "    .dataframe tbody tr th:only-of-type {\n",
       "        vertical-align: middle;\n",
       "    }\n",
       "\n",
       "    .dataframe tbody tr th {\n",
       "        vertical-align: top;\n",
       "    }\n",
       "\n",
       "    .dataframe thead th {\n",
       "        text-align: right;\n",
       "    }\n",
       "</style>\n",
       "<table border=\"1\" class=\"dataframe\">\n",
       "  <thead>\n",
       "    <tr style=\"text-align: right;\">\n",
       "      <th></th>\n",
       "      <th>item_id-count</th>\n",
       "      <th>day-first</th>\n",
       "      <th>session_id</th>\n",
       "      <th>category-list_trim</th>\n",
       "      <th>item_id-list_trim</th>\n",
       "      <th>timestamp/age_days-list_trim</th>\n",
       "      <th>timestamp/weekday/sin-list_trim</th>\n",
       "    </tr>\n",
       "  </thead>\n",
       "  <tbody>\n",
       "    <tr>\n",
       "      <th>0</th>\n",
       "      <td>24</td>\n",
       "      <td>2</td>\n",
       "      <td>2</td>\n",
       "      <td>[9, 4, 6, 5, 10, 17, 9, 2, 10, 3, 7, 2, 9, 5, ...</td>\n",
       "      <td>[73, 20, 41, 30, 86, 155, 78, 3, 84, 12, 56, 5...</td>\n",
       "      <td>[0.8061659840535261, 0.33520988401518803, 0.38...</td>\n",
       "      <td>[0.8764284249533586, 0.029765077799131734, 0.2...</td>\n",
       "    </tr>\n",
       "    <tr>\n",
       "      <th>1</th>\n",
       "      <td>22</td>\n",
       "      <td>5</td>\n",
       "      <td>3</td>\n",
       "      <td>[5, 7, 2, 14, 2, 2, 3, 4, 2, 6, 10, 4, 3, 8, 1...</td>\n",
       "      <td>[31, 53, 5, 130, 4, 9, 15, 29, 5, 41, 86, 27, ...</td>\n",
       "      <td>[0.9739657650442859, 0.18722445841437374, 0.61...</td>\n",
       "      <td>[0.44804582517029845, 0.4846888236476057, 0.56...</td>\n",
       "    </tr>\n",
       "    <tr>\n",
       "      <th>2</th>\n",
       "      <td>22</td>\n",
       "      <td>3</td>\n",
       "      <td>4</td>\n",
       "      <td>[4, 5, 2, 3, 12, 7, 5, 3, 5, 3, 5, 5, 2, 4, 13...</td>\n",
       "      <td>[29, 40, 6, 8, 98, 53, 30, 11, 31, 13, 32, 31,...</td>\n",
       "      <td>[0.7796087704542672, 0.9483564823526983, 0.473...</td>\n",
       "      <td>[0.06255141868610214, 0.1907497550274838, 0.89...</td>\n",
       "    </tr>\n",
       "  </tbody>\n",
       "</table>\n",
       "</div>"
      ],
      "text/plain": [
       "   item_id-count  day-first  session_id  \\\n",
       "0             24          2           2   \n",
       "1             22          5           3   \n",
       "2             22          3           4   \n",
       "\n",
       "                                  category-list_trim  \\\n",
       "0  [9, 4, 6, 5, 10, 17, 9, 2, 10, 3, 7, 2, 9, 5, ...   \n",
       "1  [5, 7, 2, 14, 2, 2, 3, 4, 2, 6, 10, 4, 3, 8, 1...   \n",
       "2  [4, 5, 2, 3, 12, 7, 5, 3, 5, 3, 5, 5, 2, 4, 13...   \n",
       "\n",
       "                                   item_id-list_trim  \\\n",
       "0  [73, 20, 41, 30, 86, 155, 78, 3, 84, 12, 56, 5...   \n",
       "1  [31, 53, 5, 130, 4, 9, 15, 29, 5, 41, 86, 27, ...   \n",
       "2  [29, 40, 6, 8, 98, 53, 30, 11, 31, 13, 32, 31,...   \n",
       "\n",
       "                        timestamp/age_days-list_trim  \\\n",
       "0  [0.8061659840535261, 0.33520988401518803, 0.38...   \n",
       "1  [0.9739657650442859, 0.18722445841437374, 0.61...   \n",
       "2  [0.7796087704542672, 0.9483564823526983, 0.473...   \n",
       "\n",
       "                     timestamp/weekday/sin-list_trim  \n",
       "0  [0.8764284249533586, 0.029765077799131734, 0.2...  \n",
       "1  [0.44804582517029845, 0.4846888236476057, 0.56...  \n",
       "2  [0.06255141868610214, 0.1907497550274838, 0.89...  "
      ]
     },
     "execution_count": 7,
     "metadata": {},
     "output_type": "execute_result"
    }
   ],
   "source": [
    "sessions_gdf.head(3)"
   ]
  },
  {
   "cell_type": "markdown",
   "id": "4dd16041",
   "metadata": {},
   "source": [
    "It is possible to save the preprocessing workflow. That is useful to apply the same preprocessing to other data (with the same schema) and also to deploy the session-based recommendation pipeline to Triton Inference Server."
   ]
  },
  {
   "cell_type": "code",
   "execution_count": 8,
   "id": "1560a951",
   "metadata": {},
   "outputs": [],
   "source": [
    "workflow.save('workflow_etl')"
   ]
  },
  {
   "cell_type": "markdown",
   "id": "82be5a13",
   "metadata": {},
   "source": [
    "## Export pre-processed data by day"
   ]
  },
  {
   "cell_type": "markdown",
   "id": "f92ef179",
   "metadata": {},
   "source": [
    "In this example we are going to split the preprocessed parquet files by days, to allow for temporal training and evaluation. There will be a folder for each day and three parquet files within each day folder: train.parquet, validation.parquet and test.parquet"
   ]
  },
  {
   "cell_type": "code",
   "execution_count": 9,
   "id": "d33a0507",
   "metadata": {},
   "outputs": [],
   "source": [
    "OUTPUT_FOLDER = os.environ.get(\"OUTPUT_FOLDER\",os.path.join(INPUT_DATA_DIR, \"sessions_by_day\"))\n",
    "!mkdir -p $OUTPUT_FOLDER"
   ]
  },
  {
   "cell_type": "code",
   "execution_count": 10,
   "id": "99c32f45",
   "metadata": {},
   "outputs": [
    {
     "name": "stderr",
     "output_type": "stream",
     "text": [
      "Creating time-based splits: 100%|████████████████████████████████████████████████████████████████████████████████████████████████████████████████████████████████████████████| 9/9 [00:00<00:00, 10.96it/s]\n"
     ]
    }
   ],
   "source": [
    "from transformers4rec.utils.gpu_preprocessing import save_time_based_splits\n",
    "save_time_based_splits(data=nvt.Dataset(sessions_gdf),\n",
    "                       output_dir= OUTPUT_FOLDER,\n",
    "                       partition_col='day-first',\n",
    "                       timestamp_col='session_id', \n",
    "                      )"
   ]
  },
  {
   "cell_type": "markdown",
   "id": "85f1d749",
   "metadata": {},
   "source": [
    "## Checking the preprocessed outputs"
   ]
  },
  {
   "cell_type": "code",
   "execution_count": 11,
   "id": "5c83a858",
   "metadata": {},
   "outputs": [],
   "source": [
    "TRAIN_PATHS = sorted(glob.glob(os.path.join(OUTPUT_FOLDER, \"1\", \"train.parquet\")))"
   ]
  },
  {
   "cell_type": "code",
   "execution_count": 12,
   "id": "61463fd1",
   "metadata": {},
   "outputs": [
    {
     "data": {
      "text/html": [
       "<div>\n",
       "<style scoped>\n",
       "    .dataframe tbody tr th:only-of-type {\n",
       "        vertical-align: middle;\n",
       "    }\n",
       "\n",
       "    .dataframe tbody tr th {\n",
       "        vertical-align: top;\n",
       "    }\n",
       "\n",
       "    .dataframe thead th {\n",
       "        text-align: right;\n",
       "    }\n",
       "</style>\n",
       "<table border=\"1\" class=\"dataframe\">\n",
       "  <thead>\n",
       "    <tr style=\"text-align: right;\">\n",
       "      <th></th>\n",
       "      <th>item_id-count</th>\n",
       "      <th>session_id</th>\n",
       "      <th>category-list_trim</th>\n",
       "      <th>item_id-list_trim</th>\n",
       "      <th>timestamp/age_days-list_trim</th>\n",
       "      <th>timestamp/weekday/sin-list_trim</th>\n",
       "    </tr>\n",
       "  </thead>\n",
       "  <tbody>\n",
       "    <tr>\n",
       "      <th>0</th>\n",
       "      <td>24</td>\n",
       "      <td>3</td>\n",
       "      <td>[5, 2, 2, 2, 2, 3, 3, 9, 5, 2, 4, 6, 2, 6, 8, ...</td>\n",
       "      <td>[34, 2, 3, 13, 5, 12, 9, 71, 31, 13, 23, 48, 6...</td>\n",
       "      <td>[0.7856927323734114, 0.8667491449689286, 0.353...</td>\n",
       "      <td>[0.25570554556877834, 0.10913927053120076, 0.6...</td>\n",
       "    </tr>\n",
       "    <tr>\n",
       "      <th>1</th>\n",
       "      <td>21</td>\n",
       "      <td>14</td>\n",
       "      <td>[18, 9, 11, 2, 2, 10, 2, 7, 9, 5, 3, 6, 5, 3, ...</td>\n",
       "      <td>[152, 74, 88, 10, 3, 89, 5, 59, 75, 34, 12, 43...</td>\n",
       "      <td>[0.8635385613295344, 0.24230437051241316, 0.29...</td>\n",
       "      <td>[0.8410495959592014, 0.526350485198188, 0.0586...</td>\n",
       "    </tr>\n",
       "    <tr>\n",
       "      <th>2</th>\n",
       "      <td>21</td>\n",
       "      <td>16</td>\n",
       "      <td>[3, 2, 31, 2, 7, 7, 2, 3, 4, 3, 11, 6, 3, 2, 4...</td>\n",
       "      <td>[11, 5, 286, 2, 52, 60, 4, 12, 23, 11, 99, 45,...</td>\n",
       "      <td>[0.26452871457718863, 0.7818945654215739, 0.13...</td>\n",
       "      <td>[0.634415686464252, 0.5438707783431721, 0.7207...</td>\n",
       "    </tr>\n",
       "    <tr>\n",
       "      <th>4</th>\n",
       "      <td>19</td>\n",
       "      <td>48</td>\n",
       "      <td>[3, 2, 2, 2, 2, 14, 6, 8, 2, 2, 2, 5, 2, 5, 5,...</td>\n",
       "      <td>[15, 20, 6, 3, 10, 119, 50, 62, 3, 2, 5, 34, 6...</td>\n",
       "      <td>[0.2925786793578683, 0.14419763394734753, 0.50...</td>\n",
       "      <td>[0.2717939738000208, 0.3659795311158144, 0.346...</td>\n",
       "    </tr>\n",
       "    <tr>\n",
       "      <th>5</th>\n",
       "      <td>19</td>\n",
       "      <td>56</td>\n",
       "      <td>[3, 2, 2, 5, 2, 3, 14, 6, 6, 4, 5, 2, 7, 5, 3,...</td>\n",
       "      <td>[9, 5, 13, 37, 20, 7, 123, 42, 42, 21, 31, 8, ...</td>\n",
       "      <td>[0.5112677581271222, 0.9541710850472241, 0.822...</td>\n",
       "      <td>[0.24179080716996437, 0.04657786811566211, 0.0...</td>\n",
       "    </tr>\n",
       "  </tbody>\n",
       "</table>\n",
       "</div>"
      ],
      "text/plain": [
       "   item_id-count  session_id  \\\n",
       "0             24           3   \n",
       "1             21          14   \n",
       "2             21          16   \n",
       "4             19          48   \n",
       "5             19          56   \n",
       "\n",
       "                                  category-list_trim  \\\n",
       "0  [5, 2, 2, 2, 2, 3, 3, 9, 5, 2, 4, 6, 2, 6, 8, ...   \n",
       "1  [18, 9, 11, 2, 2, 10, 2, 7, 9, 5, 3, 6, 5, 3, ...   \n",
       "2  [3, 2, 31, 2, 7, 7, 2, 3, 4, 3, 11, 6, 3, 2, 4...   \n",
       "4  [3, 2, 2, 2, 2, 14, 6, 8, 2, 2, 2, 5, 2, 5, 5,...   \n",
       "5  [3, 2, 2, 5, 2, 3, 14, 6, 6, 4, 5, 2, 7, 5, 3,...   \n",
       "\n",
       "                                   item_id-list_trim  \\\n",
       "0  [34, 2, 3, 13, 5, 12, 9, 71, 31, 13, 23, 48, 6...   \n",
       "1  [152, 74, 88, 10, 3, 89, 5, 59, 75, 34, 12, 43...   \n",
       "2  [11, 5, 286, 2, 52, 60, 4, 12, 23, 11, 99, 45,...   \n",
       "4  [15, 20, 6, 3, 10, 119, 50, 62, 3, 2, 5, 34, 6...   \n",
       "5  [9, 5, 13, 37, 20, 7, 123, 42, 42, 21, 31, 8, ...   \n",
       "\n",
       "                        timestamp/age_days-list_trim  \\\n",
       "0  [0.7856927323734114, 0.8667491449689286, 0.353...   \n",
       "1  [0.8635385613295344, 0.24230437051241316, 0.29...   \n",
       "2  [0.26452871457718863, 0.7818945654215739, 0.13...   \n",
       "4  [0.2925786793578683, 0.14419763394734753, 0.50...   \n",
       "5  [0.5112677581271222, 0.9541710850472241, 0.822...   \n",
       "\n",
       "                     timestamp/weekday/sin-list_trim  \n",
       "0  [0.25570554556877834, 0.10913927053120076, 0.6...  \n",
       "1  [0.8410495959592014, 0.526350485198188, 0.0586...  \n",
       "2  [0.634415686464252, 0.5438707783431721, 0.7207...  \n",
       "4  [0.2717939738000208, 0.3659795311158144, 0.346...  \n",
       "5  [0.24179080716996437, 0.04657786811566211, 0.0...  "
      ]
     },
     "execution_count": 12,
     "metadata": {},
     "output_type": "execute_result"
    }
   ],
   "source": [
    "gdf = cudf.read_parquet(TRAIN_PATHS[0])\n",
    "gdf.head()"
   ]
  },
  {
   "cell_type": "markdown",
   "id": "b5147a27",
   "metadata": {},
   "source": [
    "You have  just created session-level features to train a session-based recommendation model using NVTabular. Now you can move to the the next notebook,`02-session-based-XLNet-with-PyT.ipynb` to train a session-based recommendation model using [XLNet](https://arxiv.org/abs/1906.08237), one of the state-of-the-art NLP model."
   ]
  }
 ],
 "metadata": {
  "kernelspec": {
   "display_name": "Python 3 (ipykernel)",
   "language": "python",
   "name": "python3"
  },
  "language_info": {
   "codemirror_mode": {
    "name": "ipython",
    "version": 3
   },
   "file_extension": ".py",
   "mimetype": "text/x-python",
   "name": "python",
   "nbconvert_exporter": "python",
   "pygments_lexer": "ipython3",
   "version": "3.8.10"
  }
 },
 "nbformat": 4,
 "nbformat_minor": 5
}
