{
 "cells": [
  {
   "cell_type": "code",
   "execution_count": 1,
   "id": "57817877",
   "metadata": {},
   "outputs": [],
   "source": [
    "# Copyright 2021 NVIDIA Corporation. All Rights Reserved.\n",
    "#\n",
    "# Licensed under the Apache License, Version 2.0 (the \"License\");\n",
    "# you may not use this file except in compliance with the License.\n",
    "# You may obtain a copy of the License at\n",
    "#\n",
    "#     http://www.apache.org/licenses/LICENSE-2.0\n",
    "#\n",
    "# Unless required by applicable law or agreed to in writing, software\n",
    "# distributed under the License is distributed on an \"AS IS\" BASIS,\n",
    "# WITHOUT WARRANTIES OR CONDITIONS OF ANY KIND, either express or implied.\n",
    "# See the License for the specific language governing permissions and\n",
    "# limitations under the License.\n",
    "# ======="
   ]
  },
  {
   "cell_type": "markdown",
   "id": "a606af2b",
   "metadata": {},
   "source": [
    "# ETL with NVTabular"
   ]
  },
  {
   "cell_type": "markdown",
   "id": "0bbe27de",
   "metadata": {},
   "source": [
    "In this notebook we are going to generate synthetic data and then create session-based features with [NVTabular](https://github.com/NVIDIA/NVTabular) to train a session-based recommendation model for next item prediction task.\n",
    "\n",
    "NVTabular is a feature engineering and preprocessing library for tabular data designed to quickly and easily manipulate terabyte scale datasets used to train deep learning based recommender systems. It provides a high level abstraction to simplify code and accelerates computation on the GPU using the RAPIDS cuDF library."
   ]
  },
  {
   "cell_type": "markdown",
   "id": "525877c3",
   "metadata": {},
   "source": [
    "- Import required libraries"
   ]
  },
  {
   "cell_type": "code",
   "execution_count": 2,
   "id": "572e8785",
   "metadata": {},
   "outputs": [],
   "source": [
    "import os\n",
    "import glob\n",
    "\n",
    "import torch \n",
    "import numpy\n",
    "\n",
    "import cudf\n",
    "import cupy as cp\n",
    "import nvtabular as nvt"
   ]
  },
  {
   "cell_type": "markdown",
   "id": "dd77a2a7",
   "metadata": {},
   "source": [
    "- Define Input/Output Path"
   ]
  },
  {
   "cell_type": "code",
   "execution_count": 3,
   "id": "612710f8",
   "metadata": {},
   "outputs": [],
   "source": [
    "INPUT_DATA_DIR = os.environ.get(\"INPUT_DATA_DIR\", \"/workspace/data/\")"
   ]
  },
  {
   "cell_type": "markdown",
   "id": "1aefd8ee",
   "metadata": {},
   "source": [
    "## Create a Synthetic Input Data"
   ]
  },
  {
   "cell_type": "code",
   "execution_count": 4,
   "id": "7e481947",
   "metadata": {},
   "outputs": [
    {
     "data": {
      "text/html": [
       "<div>\n",
       "<style scoped>\n",
       "    .dataframe tbody tr th:only-of-type {\n",
       "        vertical-align: middle;\n",
       "    }\n",
       "\n",
       "    .dataframe tbody tr th {\n",
       "        vertical-align: top;\n",
       "    }\n",
       "\n",
       "    .dataframe thead th {\n",
       "        text-align: right;\n",
       "    }\n",
       "</style>\n",
       "<table border=\"1\" class=\"dataframe\">\n",
       "  <thead>\n",
       "    <tr style=\"text-align: right;\">\n",
       "      <th></th>\n",
       "      <th>session_id</th>\n",
       "      <th>day</th>\n",
       "      <th>item_id</th>\n",
       "      <th>category</th>\n",
       "      <th>timestamp/age_days</th>\n",
       "      <th>timestamp/weekday/sin</th>\n",
       "    </tr>\n",
       "  </thead>\n",
       "  <tbody>\n",
       "    <tr>\n",
       "      <th>0</th>\n",
       "      <td>77789</td>\n",
       "      <td>4</td>\n",
       "      <td>18449</td>\n",
       "      <td>255</td>\n",
       "      <td>0.929688</td>\n",
       "      <td>0.896908</td>\n",
       "    </tr>\n",
       "    <tr>\n",
       "      <th>1</th>\n",
       "      <td>78472</td>\n",
       "      <td>3</td>\n",
       "      <td>36495</td>\n",
       "      <td>124</td>\n",
       "      <td>0.040510</td>\n",
       "      <td>0.800594</td>\n",
       "    </tr>\n",
       "    <tr>\n",
       "      <th>2</th>\n",
       "      <td>70526</td>\n",
       "      <td>1</td>\n",
       "      <td>44429</td>\n",
       "      <td>330</td>\n",
       "      <td>0.754144</td>\n",
       "      <td>0.301041</td>\n",
       "    </tr>\n",
       "    <tr>\n",
       "      <th>3</th>\n",
       "      <td>78123</td>\n",
       "      <td>4</td>\n",
       "      <td>21531</td>\n",
       "      <td>177</td>\n",
       "      <td>0.048006</td>\n",
       "      <td>0.983697</td>\n",
       "    </tr>\n",
       "    <tr>\n",
       "      <th>4</th>\n",
       "      <td>74701</td>\n",
       "      <td>5</td>\n",
       "      <td>44893</td>\n",
       "      <td>132</td>\n",
       "      <td>0.540213</td>\n",
       "      <td>0.688128</td>\n",
       "    </tr>\n",
       "  </tbody>\n",
       "</table>\n",
       "</div>"
      ],
      "text/plain": [
       "   session_id  day  item_id  category  timestamp/age_days  \\\n",
       "0       77789    4    18449       255            0.929688   \n",
       "1       78472    3    36495       124            0.040510   \n",
       "2       70526    1    44429       330            0.754144   \n",
       "3       78123    4    21531       177            0.048006   \n",
       "4       74701    5    44893       132            0.540213   \n",
       "\n",
       "   timestamp/weekday/sin  \n",
       "0               0.896908  \n",
       "1               0.800594  \n",
       "2               0.301041  \n",
       "3               0.983697  \n",
       "4               0.688128  "
      ]
     },
     "execution_count": 4,
     "metadata": {},
     "output_type": "execute_result"
    }
   ],
   "source": [
    "NUM_ROWS = 100000\n",
    "inputs = {\n",
    "    'session_id': numpy.random.randint(70000, 80000, NUM_ROWS),\n",
    "    'day': numpy.random.randint(1, 10, NUM_ROWS),\n",
    "    'item_id': numpy.random.randint(0, 51196, NUM_ROWS),\n",
    "    'category': numpy.random.randint(0, 332, NUM_ROWS),\n",
    "    'timestamp/age_days': numpy.random.uniform(0, 1, NUM_ROWS),\n",
    "    'timestamp/weekday/sin' : numpy.random.uniform(0, 1, NUM_ROWS),\n",
    "    }\n",
    "df = cudf.DataFrame(inputs)\n",
    "df.head()"
   ]
  },
  {
   "cell_type": "code",
   "execution_count": 5,
   "id": "859660b2",
   "metadata": {},
   "outputs": [],
   "source": [
    "# 'item_id': numpy.random.lognormal(3., 1., NUM_ROWS).astype(numpy.int32),"
   ]
  },
  {
   "cell_type": "markdown",
   "id": "616295b6",
   "metadata": {},
   "source": [
    "## Feature Engineering with NVTabular"
   ]
  },
  {
   "cell_type": "markdown",
   "id": "aaf66f96",
   "metadata": {},
   "source": [
    "Deep Learning models require the input feature in a specific format. Categorical features needs to be continuous integers (0, ..., |C|) to use them with an embedding layer. We will use NVTabular to preprocess the categorical features, so that all categorical columns will be encoded to continuous integers. Note that we also add `1` after we categorify the categorical columns, the reason for that we want the encoded null values to start from `1` instead of `0` because we reserve `0` for padding the seqeunce features.\n",
    "\n",
    "Here our goal is to create session-based features.  In this cell, we are creating temporal features and grouping them together at the session level, sorting the interactions by time. Note that we also trim each feature sequence in a  session to a certain length. Here, we use the NVTabular library so that we can easily preprocess and create features in a couple of lines on a GPU."
   ]
  },
  {
   "cell_type": "code",
   "execution_count": 6,
   "id": "a928788a",
   "metadata": {},
   "outputs": [],
   "source": [
    "# Categorify categorical features\n",
    "\n",
    "categ_feats = ['session_id', 'item_id', 'category'] >> nvt.ops.Categorify() >> nvt.ops.LambdaOp(lambda col: col +1)\n",
    "# Define Groupby Workflow\n",
    "groupby_feats = categ_feats + ['day', 'timestamp/age_days', 'timestamp/weekday/sin']\n",
    "\n",
    "groupby_features = groupby_feats >> nvt.ops.Groupby(\n",
    "    groupby_cols=[\"session_id\"], \n",
    "    aggs={\n",
    "        \"item_id\": [\"list\", \"count\"],\n",
    "        \"category\": [\"list\"],     \n",
    "        \"day\": [\"first\"],\n",
    "        \"timestamp/age_days\": [\"list\"],\n",
    "        'timestamp/weekday/sin': [\"list\"],\n",
    "        },\n",
    "    name_sep=\"-\")\n",
    "\n",
    "groupby_features_trim = (groupby_features['category-list', 'item_id-list', 'timestamp/age_days-list', 'timestamp/weekday/sin-list']) >> nvt.ops.ListSlice(0,20) >> nvt.ops.Rename(postfix = '_trim')\n",
    "\n",
    "MINIMUM_SESSION_LENGTH = 2\n",
    "selected_features = groupby_features['item_id-count', 'day-first', 'session_id'] + groupby_features_trim\\\n",
    "\n",
    "filtered_sessions = (selected_features) >> nvt.ops.Filter(f=lambda df: df[\"item_id-count\"] >= MINIMUM_SESSION_LENGTH)\\\n",
    "\n",
    "workflow = nvt.Workflow(filtered_sessions)\n",
    "dataset = nvt.Dataset(df, cpu=False)\n",
    "workflow.fit(dataset)\n",
    "sessions_gdf = workflow.transform(dataset).to_ddf().compute()"
   ]
  },
  {
   "cell_type": "code",
   "execution_count": 7,
   "id": "266739bb",
   "metadata": {},
   "outputs": [
    {
     "data": {
      "text/html": [
       "<div>\n",
       "<style scoped>\n",
       "    .dataframe tbody tr th:only-of-type {\n",
       "        vertical-align: middle;\n",
       "    }\n",
       "\n",
       "    .dataframe tbody tr th {\n",
       "        vertical-align: top;\n",
       "    }\n",
       "\n",
       "    .dataframe thead th {\n",
       "        text-align: right;\n",
       "    }\n",
       "</style>\n",
       "<table border=\"1\" class=\"dataframe\">\n",
       "  <thead>\n",
       "    <tr style=\"text-align: right;\">\n",
       "      <th></th>\n",
       "      <th>item_id-count</th>\n",
       "      <th>day-first</th>\n",
       "      <th>session_id</th>\n",
       "      <th>category-list_trim</th>\n",
       "      <th>item_id-list_trim</th>\n",
       "      <th>timestamp/age_days-list_trim</th>\n",
       "      <th>timestamp/weekday/sin-list_trim</th>\n",
       "    </tr>\n",
       "  </thead>\n",
       "  <tbody>\n",
       "    <tr>\n",
       "      <th>0</th>\n",
       "      <td>24</td>\n",
       "      <td>3</td>\n",
       "      <td>2</td>\n",
       "      <td>[237, 89, 40, 13, 90, 152, 186, 52, 216, 203, ...</td>\n",
       "      <td>[8478, 12927, 33021, 9892, 17736, 933, 14584, ...</td>\n",
       "      <td>[0.988693451346936, 0.21186240503101517, 0.455...</td>\n",
       "      <td>[0.9927485451479546, 0.8897108642370064, 0.437...</td>\n",
       "    </tr>\n",
       "    <tr>\n",
       "      <th>1</th>\n",
       "      <td>24</td>\n",
       "      <td>9</td>\n",
       "      <td>3</td>\n",
       "      <td>[296, 16, 327, 116, 274, 318, 326, 106, 126, 8...</td>\n",
       "      <td>[25350, 41066, 32857, 5772, 33616, 4193, 1247,...</td>\n",
       "      <td>[0.9268431688931404, 0.3627724217947451, 0.377...</td>\n",
       "      <td>[0.13003177193725124, 0.8991020624389696, 0.85...</td>\n",
       "    </tr>\n",
       "    <tr>\n",
       "      <th>2</th>\n",
       "      <td>23</td>\n",
       "      <td>4</td>\n",
       "      <td>4</td>\n",
       "      <td>[99, 33, 134, 117, 101, 73, 211, 142, 222, 295...</td>\n",
       "      <td>[15467, 10213, 15297, 9653, 6386, 22949, 14638...</td>\n",
       "      <td>[0.854926921498967, 0.6829013678893918, 0.7060...</td>\n",
       "      <td>[0.9509296729881792, 0.07915906890287194, 0.43...</td>\n",
       "    </tr>\n",
       "  </tbody>\n",
       "</table>\n",
       "</div>"
      ],
      "text/plain": [
       "   item_id-count  day-first  session_id  \\\n",
       "0             24          3           2   \n",
       "1             24          9           3   \n",
       "2             23          4           4   \n",
       "\n",
       "                                  category-list_trim  \\\n",
       "0  [237, 89, 40, 13, 90, 152, 186, 52, 216, 203, ...   \n",
       "1  [296, 16, 327, 116, 274, 318, 326, 106, 126, 8...   \n",
       "2  [99, 33, 134, 117, 101, 73, 211, 142, 222, 295...   \n",
       "\n",
       "                                   item_id-list_trim  \\\n",
       "0  [8478, 12927, 33021, 9892, 17736, 933, 14584, ...   \n",
       "1  [25350, 41066, 32857, 5772, 33616, 4193, 1247,...   \n",
       "2  [15467, 10213, 15297, 9653, 6386, 22949, 14638...   \n",
       "\n",
       "                        timestamp/age_days-list_trim  \\\n",
       "0  [0.988693451346936, 0.21186240503101517, 0.455...   \n",
       "1  [0.9268431688931404, 0.3627724217947451, 0.377...   \n",
       "2  [0.854926921498967, 0.6829013678893918, 0.7060...   \n",
       "\n",
       "                     timestamp/weekday/sin-list_trim  \n",
       "0  [0.9927485451479546, 0.8897108642370064, 0.437...  \n",
       "1  [0.13003177193725124, 0.8991020624389696, 0.85...  \n",
       "2  [0.9509296729881792, 0.07915906890287194, 0.43...  "
      ]
     },
     "execution_count": 7,
     "metadata": {},
     "output_type": "execute_result"
    }
   ],
   "source": [
    "sessions_gdf.head(3)"
   ]
  },
  {
   "cell_type": "markdown",
   "id": "342a1b0c",
   "metadata": {},
   "source": [
    "- we can save our workflow"
   ]
  },
  {
   "cell_type": "code",
   "execution_count": 8,
   "id": "ffa78488",
   "metadata": {},
   "outputs": [],
   "source": [
    "workflow.save('workflow')"
   ]
  },
  {
   "cell_type": "markdown",
   "id": "5506c399",
   "metadata": {},
   "source": [
    "## Export pre-processed data by day¶"
   ]
  },
  {
   "cell_type": "code",
   "execution_count": 9,
   "id": "3b16ac7b",
   "metadata": {},
   "outputs": [],
   "source": [
    "OUTPUT_FOLDER = os.environ.get(\"OUTPUT_FOLDER\", INPUT_DATA_DIR + \"sessions_by_day\")\n",
    "!mkdir -p $OUTPUT_FOLDER"
   ]
  },
  {
   "cell_type": "code",
   "execution_count": 10,
   "id": "5d677bd0",
   "metadata": {},
   "outputs": [
    {
     "name": "stderr",
     "output_type": "stream",
     "text": [
      "Creating time-based splits: 100%|███████████████████████████████████████████████████████████████████████████████████████████████████████████████████████████████████████| 9/9 [00:00<00:00, 12.03it/s]\n"
     ]
    }
   ],
   "source": [
    "# requires cudf + cupy + nvtabular + dask_cudf\n",
    "from transformers4rec.utils.gpu_preprocessing import save_time_based_splits\n",
    "save_time_based_splits(data=nvt.Dataset(sessions_gdf),\n",
    "                       output_dir= OUTPUT_FOLDER,\n",
    "                       partition_col='day-first',\n",
    "                       timestamp_col='session_id', \n",
    "                      )"
   ]
  },
  {
   "cell_type": "markdown",
   "id": "8abf4d4a",
   "metadata": {},
   "source": [
    "## Checking the pre-processing outputs¶"
   ]
  },
  {
   "cell_type": "code",
   "execution_count": 11,
   "id": "7a4a6177",
   "metadata": {},
   "outputs": [],
   "source": [
    "TRAIN_PATHS = sorted(glob.glob(os.path.join(OUTPUT_FOLDER, \"1\", \"train.parquet\")))"
   ]
  },
  {
   "cell_type": "code",
   "execution_count": 12,
   "id": "edcae951",
   "metadata": {},
   "outputs": [
    {
     "data": {
      "text/html": [
       "<div>\n",
       "<style scoped>\n",
       "    .dataframe tbody tr th:only-of-type {\n",
       "        vertical-align: middle;\n",
       "    }\n",
       "\n",
       "    .dataframe tbody tr th {\n",
       "        vertical-align: top;\n",
       "    }\n",
       "\n",
       "    .dataframe thead th {\n",
       "        text-align: right;\n",
       "    }\n",
       "</style>\n",
       "<table border=\"1\" class=\"dataframe\">\n",
       "  <thead>\n",
       "    <tr style=\"text-align: right;\">\n",
       "      <th></th>\n",
       "      <th>item_id-count</th>\n",
       "      <th>session_id</th>\n",
       "      <th>category-list_trim</th>\n",
       "      <th>item_id-list_trim</th>\n",
       "      <th>timestamp/age_days-list_trim</th>\n",
       "      <th>timestamp/weekday/sin-list_trim</th>\n",
       "    </tr>\n",
       "  </thead>\n",
       "  <tbody>\n",
       "    <tr>\n",
       "      <th>0</th>\n",
       "      <td>22</td>\n",
       "      <td>7</td>\n",
       "      <td>[179, 127, 246, 260, 243, 135, 209, 274, 276, ...</td>\n",
       "      <td>[26443, 8508, 25311, 2680, 10604, 27137, 14466...</td>\n",
       "      <td>[0.9179285436064166, 0.019458452311733376, 0.1...</td>\n",
       "      <td>[0.36535143583698426, 0.7867226414482792, 0.56...</td>\n",
       "    </tr>\n",
       "    <tr>\n",
       "      <th>1</th>\n",
       "      <td>21</td>\n",
       "      <td>14</td>\n",
       "      <td>[221, 281, 267, 320, 318, 63, 23, 183, 273, 14...</td>\n",
       "      <td>[2345, 40166, 43805, 3805, 1331, 13600, 27337,...</td>\n",
       "      <td>[0.1799245072294352, 0.2610959321798335, 0.319...</td>\n",
       "      <td>[0.6439663175170048, 0.06590634508556537, 0.56...</td>\n",
       "    </tr>\n",
       "    <tr>\n",
       "      <th>2</th>\n",
       "      <td>21</td>\n",
       "      <td>21</td>\n",
       "      <td>[253, 83, 55, 219, 306, 258, 116, 186, 325, 28...</td>\n",
       "      <td>[23464, 8572, 17526, 5089, 27877, 27640, 14136...</td>\n",
       "      <td>[0.4801740006472296, 0.8808313800410272, 0.119...</td>\n",
       "      <td>[0.49752319798156075, 0.18493971673580478, 0.4...</td>\n",
       "    </tr>\n",
       "    <tr>\n",
       "      <th>3</th>\n",
       "      <td>20</td>\n",
       "      <td>41</td>\n",
       "      <td>[142, 255, 160, 231, 285, 129, 267, 174, 24, 2...</td>\n",
       "      <td>[235, 25040, 3455, 15740, 307, 8342, 34813, 58...</td>\n",
       "      <td>[0.5249228446980618, 0.023509455710684635, 0.1...</td>\n",
       "      <td>[0.38186513715524184, 0.37479180301121706, 0.5...</td>\n",
       "    </tr>\n",
       "    <tr>\n",
       "      <th>4</th>\n",
       "      <td>19</td>\n",
       "      <td>67</td>\n",
       "      <td>[190, 250, 190, 121, 76, 172, 253, 143, 203, 1...</td>\n",
       "      <td>[11556, 10261, 42204, 12966, 585, 9622, 22766,...</td>\n",
       "      <td>[0.25153120929918804, 0.5920753070512191, 0.04...</td>\n",
       "      <td>[0.009368517687431743, 0.1183022455447269, 0.7...</td>\n",
       "    </tr>\n",
       "  </tbody>\n",
       "</table>\n",
       "</div>"
      ],
      "text/plain": [
       "   item_id-count  session_id  \\\n",
       "0             22           7   \n",
       "1             21          14   \n",
       "2             21          21   \n",
       "3             20          41   \n",
       "4             19          67   \n",
       "\n",
       "                                  category-list_trim  \\\n",
       "0  [179, 127, 246, 260, 243, 135, 209, 274, 276, ...   \n",
       "1  [221, 281, 267, 320, 318, 63, 23, 183, 273, 14...   \n",
       "2  [253, 83, 55, 219, 306, 258, 116, 186, 325, 28...   \n",
       "3  [142, 255, 160, 231, 285, 129, 267, 174, 24, 2...   \n",
       "4  [190, 250, 190, 121, 76, 172, 253, 143, 203, 1...   \n",
       "\n",
       "                                   item_id-list_trim  \\\n",
       "0  [26443, 8508, 25311, 2680, 10604, 27137, 14466...   \n",
       "1  [2345, 40166, 43805, 3805, 1331, 13600, 27337,...   \n",
       "2  [23464, 8572, 17526, 5089, 27877, 27640, 14136...   \n",
       "3  [235, 25040, 3455, 15740, 307, 8342, 34813, 58...   \n",
       "4  [11556, 10261, 42204, 12966, 585, 9622, 22766,...   \n",
       "\n",
       "                        timestamp/age_days-list_trim  \\\n",
       "0  [0.9179285436064166, 0.019458452311733376, 0.1...   \n",
       "1  [0.1799245072294352, 0.2610959321798335, 0.319...   \n",
       "2  [0.4801740006472296, 0.8808313800410272, 0.119...   \n",
       "3  [0.5249228446980618, 0.023509455710684635, 0.1...   \n",
       "4  [0.25153120929918804, 0.5920753070512191, 0.04...   \n",
       "\n",
       "                     timestamp/weekday/sin-list_trim  \n",
       "0  [0.36535143583698426, 0.7867226414482792, 0.56...  \n",
       "1  [0.6439663175170048, 0.06590634508556537, 0.56...  \n",
       "2  [0.49752319798156075, 0.18493971673580478, 0.4...  \n",
       "3  [0.38186513715524184, 0.37479180301121706, 0.5...  \n",
       "4  [0.009368517687431743, 0.1183022455447269, 0.7...  "
      ]
     },
     "execution_count": 12,
     "metadata": {},
     "output_type": "execute_result"
    }
   ],
   "source": [
    "gdf = cudf.read_parquet(TRAIN_PATHS[0])\n",
    "gdf.head()"
   ]
  }
 ],
 "metadata": {
  "kernelspec": {
   "display_name": "Python 3 (ipykernel)",
   "language": "python",
   "name": "python3"
  },
  "language_info": {
   "codemirror_mode": {
    "name": "ipython",
    "version": 3
   },
   "file_extension": ".py",
   "mimetype": "text/x-python",
   "name": "python",
   "nbconvert_exporter": "python",
   "pygments_lexer": "ipython3",
   "version": "3.8.10"
  }
 },
 "nbformat": 4,
 "nbformat_minor": 5
}
