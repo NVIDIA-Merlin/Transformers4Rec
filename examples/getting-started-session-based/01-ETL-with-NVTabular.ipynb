{
 "cells": [
  {
   "cell_type": "code",
   "execution_count": 1,
   "id": "c7783917",
   "metadata": {},
   "outputs": [],
   "source": [
    "# Copyright 2022 NVIDIA Corporation. All Rights Reserved.\n",
    "#\n",
    "# Licensed under the Apache License, Version 2.0 (the \"License\");\n",
    "# you may not use this file except in compliance with the License.\n",
    "# You may obtain a copy of the License at\n",
    "#\n",
    "#     http://www.apache.org/licenses/LICENSE-2.0\n",
    "#\n",
    "# Unless required by applicable law or agreed to in writing, software\n",
    "# distributed under the License is distributed on an \"AS IS\" BASIS,\n",
    "# WITHOUT WARRANTIES OR CONDITIONS OF ANY KIND, either express or implied.\n",
    "# See the License for the specific language governing permissions and\n",
    "# limitations under the License.\n",
    "# ======="
   ]
  },
  {
   "cell_type": "markdown",
   "id": "5ba6b360",
   "metadata": {},
   "source": [
    "<img src=\"https://developer.download.nvidia.com/notebooks/dlsw-notebooks/merlin_transformers4rec_getting-started-session-based-01-etl-with-nvtabular/nvidia_logo.png\" style=\"width: 90px; float: right;\">\n",
    "\n",
    "# ETL with NVTabular"
   ]
  },
  {
   "cell_type": "markdown",
   "id": "ab6085c0",
   "metadata": {},
   "source": [
    "In this notebook we are going to generate synthetic data and then create sequential features with [NVTabular](https://github.com/NVIDIA-Merlin/NVTabular). Such data will be used in the next notebook to train a session-based recommendation model.\n",
    "\n",
    "NVTabular is a feature engineering and preprocessing library for tabular data designed to quickly and easily manipulate terabyte scale datasets used to train deep learning based recommender systems. It provides a high level abstraction to simplify code and accelerates computation on the GPU using the RAPIDS cuDF library."
   ]
  },
  {
   "cell_type": "markdown",
   "id": "add26d16",
   "metadata": {},
   "source": [
    "### Import required libraries"
   ]
  },
  {
   "cell_type": "code",
   "execution_count": 2,
   "id": "1e8dae24",
   "metadata": {},
   "outputs": [],
   "source": [
    "import os\n",
    "import glob\n",
    "\n",
    "import numpy as np\n",
    "import pandas as pd\n",
    "\n",
    "import cudf\n",
    "import cupy as cp\n",
    "import nvtabular as nvt\n",
    "from nvtabular.ops import *\n",
    "from merlin.schema.tags import Tags"
   ]
  },
  {
   "cell_type": "markdown",
   "id": "c3206b3f",
   "metadata": {},
   "source": [
    "### Define Input/Output Path"
   ]
  },
  {
   "cell_type": "code",
   "execution_count": 3,
   "id": "105dd71c",
   "metadata": {},
   "outputs": [],
   "source": [
    "INPUT_DATA_DIR = os.environ.get(\"INPUT_DATA_DIR\", \"/workspace/data/\")"
   ]
  },
  {
   "cell_type": "markdown",
   "id": "36498a01",
   "metadata": {},
   "source": [
    "## Create a Synthetic Input Data"
   ]
  },
  {
   "cell_type": "code",
   "execution_count": 4,
   "id": "929036ae",
   "metadata": {},
   "outputs": [],
   "source": [
    "NUM_ROWS = 10000000\n",
    "long_tailed_item_distribution = np.clip(np.random.lognormal(3., 1., NUM_ROWS).astype(np.int32), 1, 50000)\n",
    "\n",
    "# generate random item interaction features \n",
    "df = pd.DataFrame(np.random.randint(70000, 90000, NUM_ROWS), columns=['session_id'])\n",
    "df['item_id'] = long_tailed_item_distribution\n",
    "\n",
    "# generate category mapping for each item-id\n",
    "df['category'] = pd.cut(df['item_id'], bins=334, labels=np.arange(1, 335)).astype(np.int32)\n",
    "df['timestamp/age_days'] = np.random.uniform(0, 1, NUM_ROWS).astype(np.float32)\n",
    "df['timestamp/weekday/sin']= np.random.uniform(0, 1, NUM_ROWS).astype(np.float32)\n",
    "\n",
    "# generate day mapping for each session \n",
    "map_day = dict(zip(df.session_id.unique(), np.random.randint(1, 10, size=(df.session_id.nunique()))))\n",
    "df['day'] =  df.session_id.map(map_day)"
   ]
  },
  {
   "cell_type": "markdown",
   "id": "cd861fcd",
   "metadata": {},
   "source": [
    "Visualize couple of rows of the synthetic dataset:"
   ]
  },
  {
   "cell_type": "code",
   "execution_count": 5,
   "id": "9617e30c",
   "metadata": {},
   "outputs": [
    {
     "data": {
      "text/html": [
       "<div>\n",
       "<style scoped>\n",
       "    .dataframe tbody tr th:only-of-type {\n",
       "        vertical-align: middle;\n",
       "    }\n",
       "\n",
       "    .dataframe tbody tr th {\n",
       "        vertical-align: top;\n",
       "    }\n",
       "\n",
       "    .dataframe thead th {\n",
       "        text-align: right;\n",
       "    }\n",
       "</style>\n",
       "<table border=\"1\" class=\"dataframe\">\n",
       "  <thead>\n",
       "    <tr style=\"text-align: right;\">\n",
       "      <th></th>\n",
       "      <th>session_id</th>\n",
       "      <th>item_id</th>\n",
       "      <th>category</th>\n",
       "      <th>timestamp/age_days</th>\n",
       "      <th>timestamp/weekday/sin</th>\n",
       "      <th>day</th>\n",
       "    </tr>\n",
       "  </thead>\n",
       "  <tbody>\n",
       "    <tr>\n",
       "      <th>0</th>\n",
       "      <td>88303</td>\n",
       "      <td>4</td>\n",
       "      <td>1</td>\n",
       "      <td>0.627299</td>\n",
       "      <td>0.059239</td>\n",
       "      <td>2</td>\n",
       "    </tr>\n",
       "    <tr>\n",
       "      <th>1</th>\n",
       "      <td>79291</td>\n",
       "      <td>15</td>\n",
       "      <td>2</td>\n",
       "      <td>0.693606</td>\n",
       "      <td>0.128668</td>\n",
       "      <td>2</td>\n",
       "    </tr>\n",
       "    <tr>\n",
       "      <th>2</th>\n",
       "      <td>75485</td>\n",
       "      <td>37</td>\n",
       "      <td>5</td>\n",
       "      <td>0.062722</td>\n",
       "      <td>0.111661</td>\n",
       "      <td>7</td>\n",
       "    </tr>\n",
       "    <tr>\n",
       "      <th>3</th>\n",
       "      <td>85283</td>\n",
       "      <td>42</td>\n",
       "      <td>5</td>\n",
       "      <td>0.744100</td>\n",
       "      <td>0.480346</td>\n",
       "      <td>1</td>\n",
       "    </tr>\n",
       "    <tr>\n",
       "      <th>4</th>\n",
       "      <td>84407</td>\n",
       "      <td>5</td>\n",
       "      <td>1</td>\n",
       "      <td>0.622424</td>\n",
       "      <td>0.989467</td>\n",
       "      <td>3</td>\n",
       "    </tr>\n",
       "  </tbody>\n",
       "</table>\n",
       "</div>"
      ],
      "text/plain": [
       "   session_id  item_id  category  timestamp/age_days  timestamp/weekday/sin  \\\n",
       "0       88303        4         1            0.627299               0.059239   \n",
       "1       79291       15         2            0.693606               0.128668   \n",
       "2       75485       37         5            0.062722               0.111661   \n",
       "3       85283       42         5            0.744100               0.480346   \n",
       "4       84407        5         1            0.622424               0.989467   \n",
       "\n",
       "   day  \n",
       "0    2  \n",
       "1    2  \n",
       "2    7  \n",
       "3    1  \n",
       "4    3  "
      ]
     },
     "execution_count": 5,
     "metadata": {},
     "output_type": "execute_result"
    }
   ],
   "source": [
    "df.head()"
   ]
  },
  {
   "cell_type": "markdown",
   "id": "fae36e04",
   "metadata": {},
   "source": [
    "## Feature Engineering with NVTabular"
   ]
  },
  {
   "cell_type": "markdown",
   "id": "139de226",
   "metadata": {},
   "source": [
    "Deep Learning models require dense input features. Categorical features are sparse, and need to be represented by dense embeddings in the model. To allow for that, categorical features first need to be encoded as contiguous integers `(0, ..., |C|)`, where `|C|` is the feature cardinality (number of unique values), so that their embeddings can be efficiently stored in embedding layers.  We will use NVTabular to preprocess the categorical features, so that all categorical columns are encoded as contiguous integers.  Note that in the `Categorify` op, we set `start_index=1`; the reason for that is, we want the encoded null values to start from `1` instead of `0` because we reserve `0` for padding the sequence features."
   ]
  },
  {
   "cell_type": "markdown",
   "id": "55b3bb9c",
   "metadata": {},
   "source": [
    "Here our goal is to create sequential features.  In this cell, we are creating temporal features and grouping them together at the session level, sorting the interactions by time. Note that we also trim each feature sequence in a  session to a certain length. Here, we use the NVTabular library so that we can easily preprocess and create features on GPU with a few lines."
   ]
  },
  {
   "cell_type": "code",
   "execution_count": 6,
   "id": "a256f195",
   "metadata": {},
   "outputs": [
    {
     "name": "stderr",
     "output_type": "stream",
     "text": [
      "/usr/local/lib/python3.8/dist-packages/merlin/schema/tags.py:148: UserWarning: Compound tags like Tags.ITEM_ID have been deprecated and will be removed in a future version. Please use the atomic versions of these tags, like [<Tags.ITEM: 'item'>, <Tags.ID: 'id'>].\n",
      "  warnings.warn(\n",
      "/usr/local/lib/python3.8/dist-packages/merlin/schema/tags.py:148: UserWarning: Compound tags like Tags.ITEM_ID have been deprecated and will be removed in a future version. Please use the atomic versions of these tags, like [<Tags.ITEM: 'item'>, <Tags.ID: 'id'>].\n",
      "  warnings.warn(\n",
      "/usr/local/lib/python3.8/dist-packages/merlin/schema/tags.py:148: UserWarning: Compound tags like Tags.ITEM_ID have been deprecated and will be removed in a future version. Please use the atomic versions of these tags, like [<Tags.ITEM: 'item'>, <Tags.ID: 'id'>].\n",
      "  warnings.warn(\n"
     ]
    }
   ],
   "source": [
    "# Categorify categorical features\n",
    "categ_feats = ['session_id', 'item_id', 'category'] >> nvt.ops.Categorify(start_index=1)\n",
    "\n",
    "# Define Groupby Workflow\n",
    "groupby_feats = categ_feats + ['day', 'timestamp/age_days', 'timestamp/weekday/sin']\n",
    "\n",
    "# Group interaction features by session\n",
    "groupby_features = groupby_feats >> nvt.ops.Groupby(\n",
    "    groupby_cols=[\"session_id\"], \n",
    "    aggs={\n",
    "        \"item_id\": [\"list\", \"count\"],\n",
    "        \"category\": [\"list\"],     \n",
    "        \"day\": [\"first\"],\n",
    "        \"timestamp/age_days\": [\"list\"],\n",
    "        'timestamp/weekday/sin': [\"list\"],\n",
    "        },\n",
    "    name_sep=\"-\")\n",
    "\n",
    "# Select and truncate the sequential features\n",
    "sequence_features_truncated = (groupby_features['category-list']) >> nvt.ops.ListSlice(0,20) >> nvt.ops.Rename(postfix = '_trim')\n",
    "\n",
    "sequence_features_truncated_item = (\n",
    "    groupby_features['item_id-list']\n",
    "    >> nvt.ops.ListSlice(0,20) \n",
    "    >> nvt.ops.Rename(postfix = '_trim')\n",
    "    >> TagAsItemID()\n",
    ")  \n",
    "sequence_features_truncated_cont = (\n",
    "    groupby_features['timestamp/age_days-list', 'timestamp/weekday/sin-list'] \n",
    "    >> nvt.ops.ListSlice(0,20) \n",
    "    >> nvt.ops.Rename(postfix = '_trim')\n",
    "    >> nvt.ops.AddMetadata(tags=[Tags.CONTINUOUS])\n",
    ")\n",
    "\n",
    "# Filter out sessions with length 1 (not valid for next-item prediction training and evaluation)\n",
    "MINIMUM_SESSION_LENGTH = 2\n",
    "selected_features = (\n",
    "    groupby_features['item_id-count', 'day-first', 'session_id'] + \n",
    "    sequence_features_truncated_item +\n",
    "    sequence_features_truncated + \n",
    "    sequence_features_truncated_cont\n",
    ")\n",
    "    \n",
    "filtered_sessions = selected_features >> nvt.ops.Filter(f=lambda df: df[\"item_id-count\"] >= MINIMUM_SESSION_LENGTH)\n",
    "\n",
    "\n",
    "workflow = nvt.Workflow(filtered_sessions)\n",
    "dataset = nvt.Dataset(df, cpu=False)\n",
    "# Generate statistics for the features\n",
    "workflow.fit(dataset)\n",
    "# Apply the preprocessing and return an NVTabular dataset\n",
    "sessions_ds = workflow.transform(dataset)\n",
    "# Convert the NVTabular dataset to a Dask cuDF dataframe (`to_ddf()`) and then to cuDF dataframe (`.compute()`)\n",
    "sessions_gdf = sessions_ds.to_ddf().compute()"
   ]
  },
  {
   "cell_type": "code",
   "execution_count": 7,
   "id": "4dcbca33",
   "metadata": {},
   "outputs": [
    {
     "data": {
      "text/html": [
       "<div>\n",
       "<style scoped>\n",
       "    .dataframe tbody tr th:only-of-type {\n",
       "        vertical-align: middle;\n",
       "    }\n",
       "\n",
       "    .dataframe tbody tr th {\n",
       "        vertical-align: top;\n",
       "    }\n",
       "\n",
       "    .dataframe thead th {\n",
       "        text-align: right;\n",
       "    }\n",
       "</style>\n",
       "<table border=\"1\" class=\"dataframe\">\n",
       "  <thead>\n",
       "    <tr style=\"text-align: right;\">\n",
       "      <th></th>\n",
       "      <th>item_id-count</th>\n",
       "      <th>day-first</th>\n",
       "      <th>session_id</th>\n",
       "      <th>item_id-list_trim</th>\n",
       "      <th>category-list_trim</th>\n",
       "      <th>timestamp/age_days-list_trim</th>\n",
       "      <th>timestamp/weekday/sin-list_trim</th>\n",
       "    </tr>\n",
       "  </thead>\n",
       "  <tbody>\n",
       "    <tr>\n",
       "      <th>0</th>\n",
       "      <td>586</td>\n",
       "      <td>5</td>\n",
       "      <td>2</td>\n",
       "      <td>[13, 8, 39, 14, 23, 2, 4, 83, 25, 34, 17, 4, 1...</td>\n",
       "      <td>[3, 3, 6, 2, 4, 2, 2, 11, 4, 5, 4, 2, 15, 18, ...</td>\n",
       "      <td>[0.3265768, 0.41545194, 0.52078074, 0.7723212,...</td>\n",
       "      <td>[0.5636411, 0.14788395, 0.6995017, 0.010999571...</td>\n",
       "    </tr>\n",
       "    <tr>\n",
       "      <th>1</th>\n",
       "      <td>586</td>\n",
       "      <td>6</td>\n",
       "      <td>3</td>\n",
       "      <td>[20, 14, 8, 15, 10, 56, 73, 22, 18, 52, 27, 42...</td>\n",
       "      <td>[4, 2, 3, 3, 3, 8, 10, 4, 4, 7, 5, 6, 2, 9, 9,...</td>\n",
       "      <td>[0.13561419, 0.035071343, 0.58149755, 0.159483...</td>\n",
       "      <td>[0.3359673, 0.6002685, 0.84561634, 0.04078535,...</td>\n",
       "    </tr>\n",
       "    <tr>\n",
       "      <th>2</th>\n",
       "      <td>584</td>\n",
       "      <td>2</td>\n",
       "      <td>4</td>\n",
       "      <td>[24, 12, 178, 23, 23, 218, 92, 5, 55, 85, 10, ...</td>\n",
       "      <td>[4, 3, 22, 4, 4, 28, 12, 2, 8, 11, 3, 3, 4, 3,...</td>\n",
       "      <td>[0.39440218, 0.12561888, 0.27249986, 0.6201667...</td>\n",
       "      <td>[0.90376323, 0.75177085, 0.6668168, 0.0828298,...</td>\n",
       "    </tr>\n",
       "  </tbody>\n",
       "</table>\n",
       "</div>"
      ],
      "text/plain": [
       "   item_id-count  day-first  session_id  \\\n",
       "0            586          5           2   \n",
       "1            586          6           3   \n",
       "2            584          2           4   \n",
       "\n",
       "                                   item_id-list_trim  \\\n",
       "0  [13, 8, 39, 14, 23, 2, 4, 83, 25, 34, 17, 4, 1...   \n",
       "1  [20, 14, 8, 15, 10, 56, 73, 22, 18, 52, 27, 42...   \n",
       "2  [24, 12, 178, 23, 23, 218, 92, 5, 55, 85, 10, ...   \n",
       "\n",
       "                                  category-list_trim  \\\n",
       "0  [3, 3, 6, 2, 4, 2, 2, 11, 4, 5, 4, 2, 15, 18, ...   \n",
       "1  [4, 2, 3, 3, 3, 8, 10, 4, 4, 7, 5, 6, 2, 9, 9,...   \n",
       "2  [4, 3, 22, 4, 4, 28, 12, 2, 8, 11, 3, 3, 4, 3,...   \n",
       "\n",
       "                        timestamp/age_days-list_trim  \\\n",
       "0  [0.3265768, 0.41545194, 0.52078074, 0.7723212,...   \n",
       "1  [0.13561419, 0.035071343, 0.58149755, 0.159483...   \n",
       "2  [0.39440218, 0.12561888, 0.27249986, 0.6201667...   \n",
       "\n",
       "                     timestamp/weekday/sin-list_trim  \n",
       "0  [0.5636411, 0.14788395, 0.6995017, 0.010999571...  \n",
       "1  [0.3359673, 0.6002685, 0.84561634, 0.04078535,...  \n",
       "2  [0.90376323, 0.75177085, 0.6668168, 0.0828298,...  "
      ]
     },
     "execution_count": 7,
     "metadata": {},
     "output_type": "execute_result"
    }
   ],
   "source": [
    "sessions_gdf.head(3)"
   ]
  },
  {
   "cell_type": "markdown",
   "id": "2458c28f",
   "metadata": {},
   "source": [
    "It is possible to save the preprocessing workflow. That is useful to apply the same preprocessing to other data (with the same schema) and also to deploy the session-based recommendation pipeline to Triton Inference Server."
   ]
  },
  {
   "cell_type": "code",
   "execution_count": 8,
   "id": "ff88e98f",
   "metadata": {},
   "outputs": [],
   "source": [
    "workflow.save('workflow_etl')"
   ]
  },
  {
   "cell_type": "markdown",
   "id": "8172ab8d-9248-4a38-8483-6797df792ab8",
   "metadata": {},
   "source": [
    "The following will generate `schema.pbtxt` file in the provided folder."
   ]
  },
  {
   "cell_type": "code",
   "execution_count": 9,
   "id": "e71dd078-6116-4ac2-ba6f-0207aaa8d417",
   "metadata": {},
   "outputs": [
    {
     "name": "stderr",
     "output_type": "stream",
     "text": [
      "/usr/local/lib/python3.8/dist-packages/merlin/schema/tags.py:148: UserWarning: Compound tags like Tags.ITEM_ID have been deprecated and will be removed in a future version. Please use the atomic versions of these tags, like [<Tags.ITEM: 'item'>, <Tags.ID: 'id'>].\n",
      "  warnings.warn(\n"
     ]
    }
   ],
   "source": [
    "workflow.fit_transform(dataset).to_parquet(os.path.join(INPUT_DATA_DIR, \"processed_nvt\"))"
   ]
  },
  {
   "cell_type": "markdown",
   "id": "02a41961",
   "metadata": {},
   "source": [
    "## Export pre-processed data by day"
   ]
  },
  {
   "cell_type": "markdown",
   "id": "f9cedca3",
   "metadata": {},
   "source": [
    "In this example we are going to split the preprocessed parquet files by days, to allow for temporal training and evaluation. There will be a folder for each day and three parquet files within each day folder: `train.parquet`, `validation.parquet` and `test.parquet`."
   ]
  },
  {
   "cell_type": "code",
   "execution_count": 10,
   "id": "12d3e59b",
   "metadata": {},
   "outputs": [],
   "source": [
    "OUTPUT_DIR = os.environ.get(\"OUTPUT_DIR\",os.path.join(INPUT_DATA_DIR, \"sessions_by_day\"))\n",
    "!mkdir -p $OUTPUT_DIR"
   ]
  },
  {
   "cell_type": "code",
   "execution_count": 11,
   "id": "6c67a92b",
   "metadata": {},
   "outputs": [
    {
     "name": "stderr",
     "output_type": "stream",
     "text": [
      "Creating time-based splits: 100%|██████████| 9/9 [00:01<00:00,  5.79it/s]\n"
     ]
    }
   ],
   "source": [
    "from transformers4rec.data.preprocessing import save_time_based_splits\n",
    "save_time_based_splits(data=nvt.Dataset(sessions_gdf),\n",
    "                       output_dir= OUTPUT_DIR,\n",
    "                       partition_col='day-first',\n",
    "                       timestamp_col='session_id', \n",
    "                      )"
   ]
  },
  {
   "cell_type": "markdown",
   "id": "0b72337b",
   "metadata": {},
   "source": [
    "## Checking the preprocessed outputs"
   ]
  },
  {
   "cell_type": "code",
   "execution_count": 12,
   "id": "dd04ec82",
   "metadata": {},
   "outputs": [],
   "source": [
    "TRAIN_PATHS = sorted(glob.glob(os.path.join(OUTPUT_DIR, \"1\", \"train.parquet\")))"
   ]
  },
  {
   "cell_type": "code",
   "execution_count": 13,
   "id": "8e5e6358",
   "metadata": {},
   "outputs": [
    {
     "data": {
      "text/html": [
       "<div>\n",
       "<style scoped>\n",
       "    .dataframe tbody tr th:only-of-type {\n",
       "        vertical-align: middle;\n",
       "    }\n",
       "\n",
       "    .dataframe tbody tr th {\n",
       "        vertical-align: top;\n",
       "    }\n",
       "\n",
       "    .dataframe thead th {\n",
       "        text-align: right;\n",
       "    }\n",
       "</style>\n",
       "<table border=\"1\" class=\"dataframe\">\n",
       "  <thead>\n",
       "    <tr style=\"text-align: right;\">\n",
       "      <th></th>\n",
       "      <th>item_id-count</th>\n",
       "      <th>session_id</th>\n",
       "      <th>item_id-list_trim</th>\n",
       "      <th>category-list_trim</th>\n",
       "      <th>timestamp/age_days-list_trim</th>\n",
       "      <th>timestamp/weekday/sin-list_trim</th>\n",
       "    </tr>\n",
       "  </thead>\n",
       "  <tbody>\n",
       "    <tr>\n",
       "      <th>0</th>\n",
       "      <td>578</td>\n",
       "      <td>8</td>\n",
       "      <td>[17, 3, 130, 56, 35, 4, 12, 48, 21, 6, 13, 12,...</td>\n",
       "      <td>[4, 2, 17, 8, 5, 2, 3, 7, 2, 2, 3, 3, 3, 6, 2,...</td>\n",
       "      <td>[0.91336805, 0.7539333, 0.6858618, 0.91122335,...</td>\n",
       "      <td>[0.4654125, 0.8024907, 0.15122412, 0.9189323, ...</td>\n",
       "    </tr>\n",
       "    <tr>\n",
       "      <th>1</th>\n",
       "      <td>570</td>\n",
       "      <td>24</td>\n",
       "      <td>[102, 5, 28, 12, 7, 11, 34, 2, 21, 11, 20, 4, ...</td>\n",
       "      <td>[13, 2, 5, 3, 3, 3, 5, 2, 2, 3, 4, 2, 5, 13, 4...</td>\n",
       "      <td>[0.16131416, 0.7624795, 0.5117769, 0.06776055,...</td>\n",
       "      <td>[0.17060736, 0.23287642, 0.5058551, 0.28743693...</td>\n",
       "    </tr>\n",
       "    <tr>\n",
       "      <th>2</th>\n",
       "      <td>567</td>\n",
       "      <td>32</td>\n",
       "      <td>[11, 24, 2, 32, 6, 26, 14, 4, 5, 17, 17, 10, 8...</td>\n",
       "      <td>[3, 4, 2, 5, 2, 4, 2, 2, 2, 4, 4, 3, 3, 4, 2, ...</td>\n",
       "      <td>[0.62564784, 0.997358, 0.8010653, 0.027112987,...</td>\n",
       "      <td>[0.6030678, 0.25616208, 0.9580145, 0.99706334,...</td>\n",
       "    </tr>\n",
       "    <tr>\n",
       "      <th>4</th>\n",
       "      <td>565</td>\n",
       "      <td>43</td>\n",
       "      <td>[18, 16, 22, 32, 13, 73, 5, 21, 11, 61, 78, 73...</td>\n",
       "      <td>[4, 3, 4, 5, 3, 10, 2, 2, 3, 8, 10, 10, 6, 4, ...</td>\n",
       "      <td>[0.7378176, 0.16968544, 0.7315238, 0.95425814,...</td>\n",
       "      <td>[0.34397638, 0.8673334, 0.55496854, 0.9816106,...</td>\n",
       "    </tr>\n",
       "    <tr>\n",
       "      <th>5</th>\n",
       "      <td>563</td>\n",
       "      <td>57</td>\n",
       "      <td>[65, 15, 85, 11, 7, 60, 46, 11, 9, 48, 2, 19, ...</td>\n",
       "      <td>[9, 3, 11, 3, 3, 8, 7, 3, 2, 7, 2, 4, 7, 3, 2,...</td>\n",
       "      <td>[0.84140944, 0.032678757, 0.5808043, 0.9555968...</td>\n",
       "      <td>[0.1885734, 0.68167686, 0.5295532, 0.85896724,...</td>\n",
       "    </tr>\n",
       "    <tr>\n",
       "      <th>...</th>\n",
       "      <td>...</td>\n",
       "      <td>...</td>\n",
       "      <td>...</td>\n",
       "      <td>...</td>\n",
       "      <td>...</td>\n",
       "      <td>...</td>\n",
       "    </tr>\n",
       "    <tr>\n",
       "      <th>2152</th>\n",
       "      <td>438</td>\n",
       "      <td>19951</td>\n",
       "      <td>[8, 25, 12, 63, 33, 40, 22, 28, 77, 33, 13, 8,...</td>\n",
       "      <td>[3, 4, 3, 9, 2, 6, 4, 5, 10, 2, 3, 3, 2, 5, 2,...</td>\n",
       "      <td>[0.8278093, 0.15857665, 0.36844572, 0.19620946...</td>\n",
       "      <td>[0.1730732, 0.8465068, 0.15297464, 0.46283653,...</td>\n",
       "    </tr>\n",
       "    <tr>\n",
       "      <th>2153</th>\n",
       "      <td>437</td>\n",
       "      <td>19961</td>\n",
       "      <td>[23, 40, 77, 89, 33, 38, 19, 16, 13, 60, 11, 5...</td>\n",
       "      <td>[4, 6, 10, 12, 2, 6, 4, 3, 3, 8, 3, 2, 2, 8, 6...</td>\n",
       "      <td>[0.34355995, 0.16667433, 0.3479699, 0.6915854,...</td>\n",
       "      <td>[0.7232413, 0.54277384, 0.9209216, 0.15295857,...</td>\n",
       "    </tr>\n",
       "    <tr>\n",
       "      <th>2155</th>\n",
       "      <td>436</td>\n",
       "      <td>19970</td>\n",
       "      <td>[4, 37, 9, 87, 11, 18, 111, 64, 6, 7, 3, 22, 4...</td>\n",
       "      <td>[2, 6, 2, 12, 3, 4, 15, 9, 2, 3, 2, 4, 2, 4, 2...</td>\n",
       "      <td>[0.86520904, 0.2337783, 0.7927252, 0.60708684,...</td>\n",
       "      <td>[0.37351412, 0.9064367, 0.78618735, 0.14689812...</td>\n",
       "    </tr>\n",
       "    <tr>\n",
       "      <th>2156</th>\n",
       "      <td>434</td>\n",
       "      <td>19977</td>\n",
       "      <td>[4, 19, 58, 28, 11, 140, 3, 93, 32, 42, 7, 5, ...</td>\n",
       "      <td>[2, 4, 8, 5, 3, 18, 2, 12, 5, 6, 3, 2, 4, 3, 3...</td>\n",
       "      <td>[0.9443977, 0.50952923, 0.7083005, 0.6272203, ...</td>\n",
       "      <td>[0.01576173, 0.5609052, 0.9132833, 0.72388875,...</td>\n",
       "    </tr>\n",
       "    <tr>\n",
       "      <th>2157</th>\n",
       "      <td>422</td>\n",
       "      <td>19997</td>\n",
       "      <td>[37, 32, 29, 18, 9, 13, 53, 7, 19, 20, 36, 27,...</td>\n",
       "      <td>[6, 5, 5, 4, 2, 3, 8, 3, 4, 4, 6, 5, 4, 2, 3, ...</td>\n",
       "      <td>[0.61663723, 0.7966605, 0.67182475, 0.7436706,...</td>\n",
       "      <td>[0.07727963, 0.6455043, 0.5547871, 0.9132467, ...</td>\n",
       "    </tr>\n",
       "  </tbody>\n",
       "</table>\n",
       "<p>1724 rows × 6 columns</p>\n",
       "</div>"
      ],
      "text/plain": [
       "      item_id-count  session_id  \\\n",
       "0               578           8   \n",
       "1               570          24   \n",
       "2               567          32   \n",
       "4               565          43   \n",
       "5               563          57   \n",
       "...             ...         ...   \n",
       "2152            438       19951   \n",
       "2153            437       19961   \n",
       "2155            436       19970   \n",
       "2156            434       19977   \n",
       "2157            422       19997   \n",
       "\n",
       "                                      item_id-list_trim  \\\n",
       "0     [17, 3, 130, 56, 35, 4, 12, 48, 21, 6, 13, 12,...   \n",
       "1     [102, 5, 28, 12, 7, 11, 34, 2, 21, 11, 20, 4, ...   \n",
       "2     [11, 24, 2, 32, 6, 26, 14, 4, 5, 17, 17, 10, 8...   \n",
       "4     [18, 16, 22, 32, 13, 73, 5, 21, 11, 61, 78, 73...   \n",
       "5     [65, 15, 85, 11, 7, 60, 46, 11, 9, 48, 2, 19, ...   \n",
       "...                                                 ...   \n",
       "2152  [8, 25, 12, 63, 33, 40, 22, 28, 77, 33, 13, 8,...   \n",
       "2153  [23, 40, 77, 89, 33, 38, 19, 16, 13, 60, 11, 5...   \n",
       "2155  [4, 37, 9, 87, 11, 18, 111, 64, 6, 7, 3, 22, 4...   \n",
       "2156  [4, 19, 58, 28, 11, 140, 3, 93, 32, 42, 7, 5, ...   \n",
       "2157  [37, 32, 29, 18, 9, 13, 53, 7, 19, 20, 36, 27,...   \n",
       "\n",
       "                                     category-list_trim  \\\n",
       "0     [4, 2, 17, 8, 5, 2, 3, 7, 2, 2, 3, 3, 3, 6, 2,...   \n",
       "1     [13, 2, 5, 3, 3, 3, 5, 2, 2, 3, 4, 2, 5, 13, 4...   \n",
       "2     [3, 4, 2, 5, 2, 4, 2, 2, 2, 4, 4, 3, 3, 4, 2, ...   \n",
       "4     [4, 3, 4, 5, 3, 10, 2, 2, 3, 8, 10, 10, 6, 4, ...   \n",
       "5     [9, 3, 11, 3, 3, 8, 7, 3, 2, 7, 2, 4, 7, 3, 2,...   \n",
       "...                                                 ...   \n",
       "2152  [3, 4, 3, 9, 2, 6, 4, 5, 10, 2, 3, 3, 2, 5, 2,...   \n",
       "2153  [4, 6, 10, 12, 2, 6, 4, 3, 3, 8, 3, 2, 2, 8, 6...   \n",
       "2155  [2, 6, 2, 12, 3, 4, 15, 9, 2, 3, 2, 4, 2, 4, 2...   \n",
       "2156  [2, 4, 8, 5, 3, 18, 2, 12, 5, 6, 3, 2, 4, 3, 3...   \n",
       "2157  [6, 5, 5, 4, 2, 3, 8, 3, 4, 4, 6, 5, 4, 2, 3, ...   \n",
       "\n",
       "                           timestamp/age_days-list_trim  \\\n",
       "0     [0.91336805, 0.7539333, 0.6858618, 0.91122335,...   \n",
       "1     [0.16131416, 0.7624795, 0.5117769, 0.06776055,...   \n",
       "2     [0.62564784, 0.997358, 0.8010653, 0.027112987,...   \n",
       "4     [0.7378176, 0.16968544, 0.7315238, 0.95425814,...   \n",
       "5     [0.84140944, 0.032678757, 0.5808043, 0.9555968...   \n",
       "...                                                 ...   \n",
       "2152  [0.8278093, 0.15857665, 0.36844572, 0.19620946...   \n",
       "2153  [0.34355995, 0.16667433, 0.3479699, 0.6915854,...   \n",
       "2155  [0.86520904, 0.2337783, 0.7927252, 0.60708684,...   \n",
       "2156  [0.9443977, 0.50952923, 0.7083005, 0.6272203, ...   \n",
       "2157  [0.61663723, 0.7966605, 0.67182475, 0.7436706,...   \n",
       "\n",
       "                        timestamp/weekday/sin-list_trim  \n",
       "0     [0.4654125, 0.8024907, 0.15122412, 0.9189323, ...  \n",
       "1     [0.17060736, 0.23287642, 0.5058551, 0.28743693...  \n",
       "2     [0.6030678, 0.25616208, 0.9580145, 0.99706334,...  \n",
       "4     [0.34397638, 0.8673334, 0.55496854, 0.9816106,...  \n",
       "5     [0.1885734, 0.68167686, 0.5295532, 0.85896724,...  \n",
       "...                                                 ...  \n",
       "2152  [0.1730732, 0.8465068, 0.15297464, 0.46283653,...  \n",
       "2153  [0.7232413, 0.54277384, 0.9209216, 0.15295857,...  \n",
       "2155  [0.37351412, 0.9064367, 0.78618735, 0.14689812...  \n",
       "2156  [0.01576173, 0.5609052, 0.9132833, 0.72388875,...  \n",
       "2157  [0.07727963, 0.6455043, 0.5547871, 0.9132467, ...  \n",
       "\n",
       "[1724 rows x 6 columns]"
      ]
     },
     "execution_count": 13,
     "metadata": {},
     "output_type": "execute_result"
    }
   ],
   "source": [
    "gdf = cudf.read_parquet(TRAIN_PATHS[0])\n",
    "gdf"
   ]
  },
  {
   "cell_type": "markdown",
   "id": "a6461a96",
   "metadata": {},
   "source": [
    "You have  just created session-level features to train a session-based recommendation model using NVTabular. Now you can move to the the next notebook,`02-session-based-XLNet-with-PyT.ipynb` to train a session-based recommendation model using [XLNet](https://arxiv.org/abs/1906.08237), one of the state-of-the-art NLP model."
   ]
  }
 ],
 "metadata": {
  "kernelspec": {
   "display_name": "Python 3 (ipykernel)",
   "language": "python",
   "name": "python3"
  },
  "language_info": {
   "codemirror_mode": {
    "name": "ipython",
    "version": 3
   },
   "file_extension": ".py",
   "mimetype": "text/x-python",
   "name": "python",
   "nbconvert_exporter": "python",
   "pygments_lexer": "ipython3",
   "version": "3.8.10"
  }
 },
 "nbformat": 4,
 "nbformat_minor": 5
}
