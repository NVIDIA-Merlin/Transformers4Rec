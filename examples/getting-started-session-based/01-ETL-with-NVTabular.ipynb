{
 "cells": [
  {
   "cell_type": "code",
   "execution_count": 1,
   "id": "3a02592a",
   "metadata": {},
   "outputs": [],
   "source": [
    "# Copyright 2021 NVIDIA Corporation. All Rights Reserved.\n",
    "#\n",
    "# Licensed under the Apache License, Version 2.0 (the \"License\");\n",
    "# you may not use this file except in compliance with the License.\n",
    "# You may obtain a copy of the License at\n",
    "#\n",
    "#     http://www.apache.org/licenses/LICENSE-2.0\n",
    "#\n",
    "# Unless required by applicable law or agreed to in writing, software\n",
    "# distributed under the License is distributed on an \"AS IS\" BASIS,\n",
    "# WITHOUT WARRANTIES OR CONDITIONS OF ANY KIND, either express or implied.\n",
    "# See the License for the specific language governing permissions and\n",
    "# limitations under the License.\n",
    "# ======="
   ]
  },
  {
   "cell_type": "markdown",
   "id": "b6555c0b",
   "metadata": {},
   "source": [
    "# ETL with NVTabular"
   ]
  },
  {
   "cell_type": "markdown",
   "id": "db74aa89",
   "metadata": {},
   "source": [
    "In this notebook we are going to generate synthetic data and then create sequential features with [NVTabular](https://github.com/NVIDIA/NVTabular). Such data will be used in the next notebook to train a session-based recommendation model.\n",
    "\n",
    "NVTabular is a feature engineering and preprocessing library for tabular data designed to quickly and easily manipulate terabyte scale datasets used to train deep learning based recommender systems. It provides a high level abstraction to simplify code and accelerates computation on the GPU using the RAPIDS cuDF library."
   ]
  },
  {
   "cell_type": "markdown",
   "id": "d64f71cb",
   "metadata": {},
   "source": [
    "### Import required libraries"
   ]
  },
  {
   "cell_type": "code",
   "execution_count": 2,
   "id": "24372b6e",
   "metadata": {},
   "outputs": [],
   "source": [
    "import os\n",
    "import glob\n",
    "\n",
    "import torch \n",
    "import numpy as np\n",
    "import pandas as pd\n",
    "\n",
    "import cudf\n",
    "import cupy as cp\n",
    "import nvtabular as nvt"
   ]
  },
  {
   "cell_type": "markdown",
   "id": "a9eface9",
   "metadata": {},
   "source": [
    "### Define Input/Output Path"
   ]
  },
  {
   "cell_type": "code",
   "execution_count": 3,
   "id": "903e1c01",
   "metadata": {},
   "outputs": [],
   "source": [
    "INPUT_DATA_DIR = os.environ.get(\"INPUT_DATA_DIR\", \"/workspace/data/\")"
   ]
  },
  {
   "cell_type": "markdown",
   "id": "bbd21027",
   "metadata": {},
   "source": [
    "## Create a Synthetic Input Data"
   ]
  },
  {
   "cell_type": "code",
   "execution_count": 4,
   "id": "48e30142",
   "metadata": {},
   "outputs": [],
   "source": [
    "NUM_ROWS = 100000\n",
    "long_tailed_item_distribution = np.clip(np.random.lognormal(3., 1., NUM_ROWS).astype(np.int32), 1, 50000)\n",
    "\n",
    "# generate random item interaction features \n",
    "df = pd.DataFrame(np.random.randint(70000, 80000, NUM_ROWS), columns=['session_id'])\n",
    "df['item_id'] = long_tailed_item_distribution\n",
    "\n",
    "# generate category mapping for each item-id\n",
    "df['category'] = pd.cut(df['item_id'], bins=334, labels=np.arange(1, 335)).astype(np.int32)\n",
    "df['timestamp/age_days'] = np.random.uniform(0, 1, NUM_ROWS)\n",
    "df['timestamp/weekday/sin']= np.random.uniform(0, 1, NUM_ROWS)\n",
    "\n",
    "# generate day mapping for each session \n",
    "map_day = dict(zip(df.session_id.unique(), np.random.randint(1, 10, size=(df.session_id.nunique()))))\n",
    "df['day'] =  df.session_id.map(map_day)"
   ]
  },
  {
   "cell_type": "markdown",
   "id": "3a04876b",
   "metadata": {},
   "source": [
    "## Feature Engineering with NVTabular"
   ]
  },
  {
   "cell_type": "markdown",
   "id": "a75b1eb7",
   "metadata": {},
   "source": [
    "Deep Learning models require dense input features. Categorical features are sparse, and need to be represented by dense embeddings in the model. To allow for that, categorical features need first to be encoded as contiguous integers `(0, ..., |C|)`, where `|C|` is the feature cardinality (number of unique values), so that their embeddings can be efficiently stored in embedding layers.  \n",
    "We will use NVTabular to preprocess the categorical features, so that all categorical columns are encoded as contiguous integers. "
   ]
  },
  {
   "cell_type": "markdown",
   "id": "94a4d797",
   "metadata": {},
   "source": [
    "Here our goal is to create sequential features.  In this cell, we are creating temporal features and grouping them together at the session level, sorting the interactions by time. Note that we also trim each feature sequence in a  session to a certain length. Here, we use the NVTabular library so that we can easily preprocess and create features on GPU with a few lines."
   ]
  },
  {
   "cell_type": "code",
   "execution_count": 5,
   "id": "48d3707a",
   "metadata": {},
   "outputs": [],
   "source": [
    "# Categorify categorical features\n",
    "categ_feats = ['session_id', 'item_id', 'category'] >> nvt.ops.Categorify(start_index=1)\n",
    "\n",
    "# Define Groupby Workflow\n",
    "groupby_feats = categ_feats + ['day', 'timestamp/age_days', 'timestamp/weekday/sin']\n",
    "\n",
    "# Groups interaction features by session and sorted by timestamp\n",
    "groupby_features = groupby_feats >> nvt.ops.Groupby(\n",
    "    groupby_cols=[\"session_id\"], \n",
    "    aggs={\n",
    "        \"item_id\": [\"list\", \"count\"],\n",
    "        \"category\": [\"list\"],     \n",
    "        \"day\": [\"first\"],\n",
    "        \"timestamp/age_days\": [\"list\"],\n",
    "        'timestamp/weekday/sin': [\"list\"],\n",
    "        },\n",
    "    name_sep=\"-\")\n",
    "\n",
    "# Select and truncate the sequential features\n",
    "sequence_features_truncated = (groupby_features['category-list', 'item_id-list', \n",
    "                                          'timestamp/age_days-list', 'timestamp/weekday/sin-list']) >> \\\n",
    "                            nvt.ops.ListSlice(0,20) >> nvt.ops.Rename(postfix = '_trim')\n",
    "\n",
    "# Filter out sessions with length 1 (not valid for next-item prediction training and evaluation)\n",
    "MINIMUM_SESSION_LENGTH = 2\n",
    "selected_features = groupby_features['item_id-count', 'day-first', 'session_id'] + sequence_features_truncated\n",
    "filtered_sessions = selected_features >> nvt.ops.Filter(f=lambda df: df[\"item_id-count\"] >= MINIMUM_SESSION_LENGTH)\n",
    "\n",
    "\n",
    "workflow = nvt.Workflow(filtered_sessions)\n",
    "dataset = nvt.Dataset(df, cpu=False)\n",
    "# Generating statistics for the features\n",
    "workflow.fit(dataset)\n",
    "# Applying the preprocessing and returning an NVTabular dataset\n",
    "sessions_ds = workflow.transform(dataset)\n",
    "# Converting the NVTabular dataset to a Dask cuDF dataframe (`to_ddf()`) and then to cuDF dataframe (`.compute()`)\n",
    "sessions_gdf = sessions_ds.to_ddf().compute()"
   ]
  },
  {
   "cell_type": "code",
   "execution_count": 6,
   "id": "bb637b90",
   "metadata": {},
   "outputs": [
    {
     "data": {
      "text/html": [
       "<div>\n",
       "<style scoped>\n",
       "    .dataframe tbody tr th:only-of-type {\n",
       "        vertical-align: middle;\n",
       "    }\n",
       "\n",
       "    .dataframe tbody tr th {\n",
       "        vertical-align: top;\n",
       "    }\n",
       "\n",
       "    .dataframe thead th {\n",
       "        text-align: right;\n",
       "    }\n",
       "</style>\n",
       "<table border=\"1\" class=\"dataframe\">\n",
       "  <thead>\n",
       "    <tr style=\"text-align: right;\">\n",
       "      <th></th>\n",
       "      <th>item_id-count</th>\n",
       "      <th>day-first</th>\n",
       "      <th>session_id</th>\n",
       "      <th>category-list_trim</th>\n",
       "      <th>item_id-list_trim</th>\n",
       "      <th>timestamp/age_days-list_trim</th>\n",
       "      <th>timestamp/weekday/sin-list_trim</th>\n",
       "    </tr>\n",
       "  </thead>\n",
       "  <tbody>\n",
       "    <tr>\n",
       "      <th>0</th>\n",
       "      <td>25</td>\n",
       "      <td>9</td>\n",
       "      <td>2</td>\n",
       "      <td>[2, 2, 5, 3, 6, 4, 10, 4, 2, 2, 66, 5, 7, 4, 3...</td>\n",
       "      <td>[3, 3, 25, 22, 28, 12, 52, 15, 10, 11, 413, 20...</td>\n",
       "      <td>[0.7136986303272446, 0.18120407184950815, 0.46...</td>\n",
       "      <td>[0.46347800502005154, 0.3510890235812454, 0.34...</td>\n",
       "    </tr>\n",
       "    <tr>\n",
       "      <th>1</th>\n",
       "      <td>24</td>\n",
       "      <td>5</td>\n",
       "      <td>3</td>\n",
       "      <td>[9, 4, 2, 4, 2, 3, 4, 6, 2, 2, 9, 4, 5, 2, 4, ...</td>\n",
       "      <td>[48, 15, 11, 12, 7, 4, 12, 28, 5, 11, 50, 15, ...</td>\n",
       "      <td>[0.8330846988133308, 0.6339836255483956, 0.818...</td>\n",
       "      <td>[0.7267929363174592, 0.6891924543129208, 0.611...</td>\n",
       "    </tr>\n",
       "    <tr>\n",
       "      <th>2</th>\n",
       "      <td>23</td>\n",
       "      <td>6</td>\n",
       "      <td>4</td>\n",
       "      <td>[3, 4, 4, 6, 5, 6, 2, 3, 12, 7, 3, 4, 4, 3, 17...</td>\n",
       "      <td>[13, 18, 16, 30, 19, 28, 8, 2, 65, 38, 6, 17, ...</td>\n",
       "      <td>[0.6549519454565732, 0.6760938177961002, 0.626...</td>\n",
       "      <td>[0.6696162303967736, 0.19386208479337608, 0.96...</td>\n",
       "    </tr>\n",
       "  </tbody>\n",
       "</table>\n",
       "</div>"
      ],
      "text/plain": [
       "   item_id-count  day-first  session_id  \\\n",
       "0             25          9           2   \n",
       "1             24          5           3   \n",
       "2             23          6           4   \n",
       "\n",
       "                                  category-list_trim  \\\n",
       "0  [2, 2, 5, 3, 6, 4, 10, 4, 2, 2, 66, 5, 7, 4, 3...   \n",
       "1  [9, 4, 2, 4, 2, 3, 4, 6, 2, 2, 9, 4, 5, 2, 4, ...   \n",
       "2  [3, 4, 4, 6, 5, 6, 2, 3, 12, 7, 3, 4, 4, 3, 17...   \n",
       "\n",
       "                                   item_id-list_trim  \\\n",
       "0  [3, 3, 25, 22, 28, 12, 52, 15, 10, 11, 413, 20...   \n",
       "1  [48, 15, 11, 12, 7, 4, 12, 28, 5, 11, 50, 15, ...   \n",
       "2  [13, 18, 16, 30, 19, 28, 8, 2, 65, 38, 6, 17, ...   \n",
       "\n",
       "                        timestamp/age_days-list_trim  \\\n",
       "0  [0.7136986303272446, 0.18120407184950815, 0.46...   \n",
       "1  [0.8330846988133308, 0.6339836255483956, 0.818...   \n",
       "2  [0.6549519454565732, 0.6760938177961002, 0.626...   \n",
       "\n",
       "                     timestamp/weekday/sin-list_trim  \n",
       "0  [0.46347800502005154, 0.3510890235812454, 0.34...  \n",
       "1  [0.7267929363174592, 0.6891924543129208, 0.611...  \n",
       "2  [0.6696162303967736, 0.19386208479337608, 0.96...  "
      ]
     },
     "execution_count": 6,
     "metadata": {},
     "output_type": "execute_result"
    }
   ],
   "source": [
    "sessions_gdf.head(3)"
   ]
  },
  {
   "cell_type": "markdown",
   "id": "b351ebe8",
   "metadata": {},
   "source": [
    "It is possible to save the preprocessing workflow. That is useful to apply the same preprocessing to other data (with the same schema) and also to deploy the session-based recommendation pipeline to Triton Inference Server."
   ]
  },
  {
   "cell_type": "code",
   "execution_count": 7,
   "id": "3a9d2bff",
   "metadata": {},
   "outputs": [],
   "source": [
    "workflow.save('workflow_etl')"
   ]
  },
  {
   "cell_type": "markdown",
   "id": "3ef6a468",
   "metadata": {},
   "source": [
    "## Export pre-processed data by day"
   ]
  },
  {
   "cell_type": "code",
   "execution_count": 8,
   "id": "927857f5",
   "metadata": {},
   "outputs": [],
   "source": [
    "OUTPUT_FOLDER = os.environ.get(\"OUTPUT_FOLDER\",os.path.join(INPUT_DATA_DIR, \"sessions_by_day\"))\n",
    "!mkdir -p $OUTPUT_FOLDER"
   ]
  },
  {
   "cell_type": "code",
   "execution_count": 9,
   "id": "862705f2",
   "metadata": {},
   "outputs": [
    {
     "name": "stderr",
     "output_type": "stream",
     "text": [
      "Creating time-based splits: 100%|████████████████████████████████████████████████████████████████████████████████████████████████████████████████████████████████████████████| 9/9 [00:00<00:00, 10.88it/s]\n"
     ]
    }
   ],
   "source": [
    "# requires cudf + cupy + nvtabular + dask_cudf\n",
    "from transformers4rec.utils.gpu_preprocessing import save_time_based_splits\n",
    "save_time_based_splits(data=nvt.Dataset(sessions_gdf),\n",
    "                       output_dir= OUTPUT_FOLDER,\n",
    "                       partition_col='day-first',\n",
    "                       timestamp_col='session_id', \n",
    "                      )"
   ]
  },
  {
   "cell_type": "markdown",
   "id": "52a0b9b9",
   "metadata": {},
   "source": [
    "## Checking the preprocessed outputs"
   ]
  },
  {
   "cell_type": "code",
   "execution_count": 10,
   "id": "2343f8f5",
   "metadata": {},
   "outputs": [],
   "source": [
    "TRAIN_PATHS = sorted(glob.glob(os.path.join(OUTPUT_FOLDER, \"1\", \"train.parquet\")))"
   ]
  },
  {
   "cell_type": "code",
   "execution_count": 11,
   "id": "422210e8",
   "metadata": {},
   "outputs": [
    {
     "data": {
      "text/html": [
       "<div>\n",
       "<style scoped>\n",
       "    .dataframe tbody tr th:only-of-type {\n",
       "        vertical-align: middle;\n",
       "    }\n",
       "\n",
       "    .dataframe tbody tr th {\n",
       "        vertical-align: top;\n",
       "    }\n",
       "\n",
       "    .dataframe thead th {\n",
       "        text-align: right;\n",
       "    }\n",
       "</style>\n",
       "<table border=\"1\" class=\"dataframe\">\n",
       "  <thead>\n",
       "    <tr style=\"text-align: right;\">\n",
       "      <th></th>\n",
       "      <th>item_id-count</th>\n",
       "      <th>session_id</th>\n",
       "      <th>category-list_trim</th>\n",
       "      <th>item_id-list_trim</th>\n",
       "      <th>timestamp/age_days-list_trim</th>\n",
       "      <th>timestamp/weekday/sin-list_trim</th>\n",
       "    </tr>\n",
       "  </thead>\n",
       "  <tbody>\n",
       "    <tr>\n",
       "      <th>0</th>\n",
       "      <td>21</td>\n",
       "      <td>8</td>\n",
       "      <td>[3, 5, 3, 4, 5, 3, 9, 10, 2, 2, 4, 5, 16, 4, 1...</td>\n",
       "      <td>[6, 21, 4, 12, 20, 13, 50, 52, 11, 5, 15, 23, ...</td>\n",
       "      <td>[0.9719553842908865, 0.8821611053413697, 0.948...</td>\n",
       "      <td>[0.06927941994677334, 0.6817721908946835, 0.47...</td>\n",
       "    </tr>\n",
       "    <tr>\n",
       "      <th>1</th>\n",
       "      <td>21</td>\n",
       "      <td>10</td>\n",
       "      <td>[12, 7, 4, 6, 2, 12, 2, 5, 12, 2, 3, 6, 17, 6,...</td>\n",
       "      <td>[65, 35, 16, 27, 5, 63, 11, 21, 63, 11, 22, 28...</td>\n",
       "      <td>[0.7991976473964882, 0.3562884637379887, 0.689...</td>\n",
       "      <td>[0.8428343992126212, 0.9319406181028398, 0.341...</td>\n",
       "    </tr>\n",
       "    <tr>\n",
       "      <th>2</th>\n",
       "      <td>20</td>\n",
       "      <td>19</td>\n",
       "      <td>[4, 17, 4, 9, 8, 4, 3, 3, 3, 3, 4, 6, 7, 18, 2...</td>\n",
       "      <td>[14, 92, 14, 46, 39, 17, 4, 2, 13, 2, 18, 27, ...</td>\n",
       "      <td>[0.9461446273589291, 0.2636703158463797, 0.189...</td>\n",
       "      <td>[0.3645245443096057, 0.06704003381301427, 0.94...</td>\n",
       "    </tr>\n",
       "    <tr>\n",
       "      <th>4</th>\n",
       "      <td>20</td>\n",
       "      <td>24</td>\n",
       "      <td>[8, 8, 3, 7, 6, 18, 6, 2, 4, 7, 23, 2, 12, 4, ...</td>\n",
       "      <td>[40, 40, 6, 34, 26, 106, 29, 11, 17, 38, 131, ...</td>\n",
       "      <td>[0.24059078789801147, 0.4823239789692144, 0.16...</td>\n",
       "      <td>[0.41404942555231794, 0.4220584940326747, 0.91...</td>\n",
       "    </tr>\n",
       "    <tr>\n",
       "      <th>5</th>\n",
       "      <td>20</td>\n",
       "      <td>26</td>\n",
       "      <td>[6, 9, 3, 6, 4, 9, 4, 4, 18, 15, 3, 7, 5, 2, 1...</td>\n",
       "      <td>[29, 49, 13, 31, 16, 45, 12, 16, 96, 85, 13, 3...</td>\n",
       "      <td>[0.05377278816585762, 0.6957004354733369, 0.10...</td>\n",
       "      <td>[0.8547741682395857, 0.3023164938900591, 0.114...</td>\n",
       "    </tr>\n",
       "  </tbody>\n",
       "</table>\n",
       "</div>"
      ],
      "text/plain": [
       "   item_id-count  session_id  \\\n",
       "0             21           8   \n",
       "1             21          10   \n",
       "2             20          19   \n",
       "4             20          24   \n",
       "5             20          26   \n",
       "\n",
       "                                  category-list_trim  \\\n",
       "0  [3, 5, 3, 4, 5, 3, 9, 10, 2, 2, 4, 5, 16, 4, 1...   \n",
       "1  [12, 7, 4, 6, 2, 12, 2, 5, 12, 2, 3, 6, 17, 6,...   \n",
       "2  [4, 17, 4, 9, 8, 4, 3, 3, 3, 3, 4, 6, 7, 18, 2...   \n",
       "4  [8, 8, 3, 7, 6, 18, 6, 2, 4, 7, 23, 2, 12, 4, ...   \n",
       "5  [6, 9, 3, 6, 4, 9, 4, 4, 18, 15, 3, 7, 5, 2, 1...   \n",
       "\n",
       "                                   item_id-list_trim  \\\n",
       "0  [6, 21, 4, 12, 20, 13, 50, 52, 11, 5, 15, 23, ...   \n",
       "1  [65, 35, 16, 27, 5, 63, 11, 21, 63, 11, 22, 28...   \n",
       "2  [14, 92, 14, 46, 39, 17, 4, 2, 13, 2, 18, 27, ...   \n",
       "4  [40, 40, 6, 34, 26, 106, 29, 11, 17, 38, 131, ...   \n",
       "5  [29, 49, 13, 31, 16, 45, 12, 16, 96, 85, 13, 3...   \n",
       "\n",
       "                        timestamp/age_days-list_trim  \\\n",
       "0  [0.9719553842908865, 0.8821611053413697, 0.948...   \n",
       "1  [0.7991976473964882, 0.3562884637379887, 0.689...   \n",
       "2  [0.9461446273589291, 0.2636703158463797, 0.189...   \n",
       "4  [0.24059078789801147, 0.4823239789692144, 0.16...   \n",
       "5  [0.05377278816585762, 0.6957004354733369, 0.10...   \n",
       "\n",
       "                     timestamp/weekday/sin-list_trim  \n",
       "0  [0.06927941994677334, 0.6817721908946835, 0.47...  \n",
       "1  [0.8428343992126212, 0.9319406181028398, 0.341...  \n",
       "2  [0.3645245443096057, 0.06704003381301427, 0.94...  \n",
       "4  [0.41404942555231794, 0.4220584940326747, 0.91...  \n",
       "5  [0.8547741682395857, 0.3023164938900591, 0.114...  "
      ]
     },
     "execution_count": 11,
     "metadata": {},
     "output_type": "execute_result"
    }
   ],
   "source": [
    "gdf = cudf.read_parquet(TRAIN_PATHS[0])\n",
    "gdf.head()"
   ]
  }
 ],
 "metadata": {
  "kernelspec": {
   "display_name": "Python 3 (ipykernel)",
   "language": "python",
   "name": "python3"
  },
  "language_info": {
   "codemirror_mode": {
    "name": "ipython",
    "version": 3
   },
   "file_extension": ".py",
   "mimetype": "text/x-python",
   "name": "python",
   "nbconvert_exporter": "python",
   "pygments_lexer": "ipython3",
   "version": "3.8.10"
  }
 },
 "nbformat": 4,
 "nbformat_minor": 5
}
