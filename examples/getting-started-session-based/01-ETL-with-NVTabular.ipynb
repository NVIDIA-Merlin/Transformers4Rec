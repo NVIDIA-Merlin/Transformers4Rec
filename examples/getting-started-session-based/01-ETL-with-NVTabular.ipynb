{
 "cells": [
  {
   "cell_type": "code",
   "execution_count": 1,
   "id": "9010b9cd",
   "metadata": {},
   "outputs": [],
   "source": [
    "# Copyright 2021 NVIDIA Corporation. All Rights Reserved.\n",
    "#\n",
    "# Licensed under the Apache License, Version 2.0 (the \"License\");\n",
    "# you may not use this file except in compliance with the License.\n",
    "# You may obtain a copy of the License at\n",
    "#\n",
    "#     http://www.apache.org/licenses/LICENSE-2.0\n",
    "#\n",
    "# Unless required by applicable law or agreed to in writing, software\n",
    "# distributed under the License is distributed on an \"AS IS\" BASIS,\n",
    "# WITHOUT WARRANTIES OR CONDITIONS OF ANY KIND, either express or implied.\n",
    "# See the License for the specific language governing permissions and\n",
    "# limitations under the License.\n",
    "# ======="
   ]
  },
  {
   "cell_type": "markdown",
   "id": "ab58d1c4",
   "metadata": {},
   "source": [
    "# ETL with NVTabular"
   ]
  },
  {
   "cell_type": "markdown",
   "id": "8589e316",
   "metadata": {},
   "source": [
    "In this notebook we are going to generate synthetic data and then create session-based features with [NVTabular](https://github.com/NVIDIA/NVTabular) to train a session-based recommendation model for next item prediction task.\n",
    "\n",
    "NVTabular is a feature engineering and preprocessing library for tabular data designed to quickly and easily manipulate terabyte scale datasets used to train deep learning based recommender systems. It provides a high level abstraction to simplify code and accelerates computation on the GPU using the RAPIDS cuDF library."
   ]
  },
  {
   "cell_type": "markdown",
   "id": "b6069212",
   "metadata": {},
   "source": [
    "- Import required libraries"
   ]
  },
  {
   "cell_type": "code",
   "execution_count": 2,
   "id": "55ed413d",
   "metadata": {},
   "outputs": [],
   "source": [
    "import os\n",
    "import glob\n",
    "\n",
    "import torch \n",
    "import numpy as np\n",
    "\n",
    "import cudf\n",
    "import cupy as cp\n",
    "import nvtabular as nvt"
   ]
  },
  {
   "cell_type": "markdown",
   "id": "71048396",
   "metadata": {},
   "source": [
    "- Define Input/Output Path"
   ]
  },
  {
   "cell_type": "code",
   "execution_count": 3,
   "id": "7c64e17a",
   "metadata": {},
   "outputs": [],
   "source": [
    "INPUT_DATA_DIR = os.environ.get(\"INPUT_DATA_DIR\", \"/workspace/data/\")"
   ]
  },
  {
   "cell_type": "markdown",
   "id": "9863aacd",
   "metadata": {},
   "source": [
    "## Create a Synthetic Input Data"
   ]
  },
  {
   "cell_type": "code",
   "execution_count": 4,
   "id": "ea786c87",
   "metadata": {},
   "outputs": [
    {
     "data": {
      "text/html": [
       "<div>\n",
       "<style scoped>\n",
       "    .dataframe tbody tr th:only-of-type {\n",
       "        vertical-align: middle;\n",
       "    }\n",
       "\n",
       "    .dataframe tbody tr th {\n",
       "        vertical-align: top;\n",
       "    }\n",
       "\n",
       "    .dataframe thead th {\n",
       "        text-align: right;\n",
       "    }\n",
       "</style>\n",
       "<table border=\"1\" class=\"dataframe\">\n",
       "  <thead>\n",
       "    <tr style=\"text-align: right;\">\n",
       "      <th></th>\n",
       "      <th>session_id</th>\n",
       "      <th>day</th>\n",
       "      <th>item_id</th>\n",
       "      <th>category</th>\n",
       "      <th>timestamp/age_days</th>\n",
       "      <th>timestamp/weekday/sin</th>\n",
       "    </tr>\n",
       "  </thead>\n",
       "  <tbody>\n",
       "    <tr>\n",
       "      <th>0</th>\n",
       "      <td>78349</td>\n",
       "      <td>5</td>\n",
       "      <td>5</td>\n",
       "      <td>63</td>\n",
       "      <td>0.895495</td>\n",
       "      <td>0.163206</td>\n",
       "    </tr>\n",
       "    <tr>\n",
       "      <th>1</th>\n",
       "      <td>76609</td>\n",
       "      <td>4</td>\n",
       "      <td>17</td>\n",
       "      <td>176</td>\n",
       "      <td>0.691784</td>\n",
       "      <td>0.227206</td>\n",
       "    </tr>\n",
       "    <tr>\n",
       "      <th>2</th>\n",
       "      <td>74052</td>\n",
       "      <td>3</td>\n",
       "      <td>22</td>\n",
       "      <td>150</td>\n",
       "      <td>0.360527</td>\n",
       "      <td>0.165966</td>\n",
       "    </tr>\n",
       "    <tr>\n",
       "      <th>3</th>\n",
       "      <td>76930</td>\n",
       "      <td>8</td>\n",
       "      <td>13</td>\n",
       "      <td>36</td>\n",
       "      <td>0.850611</td>\n",
       "      <td>0.595348</td>\n",
       "    </tr>\n",
       "    <tr>\n",
       "      <th>4</th>\n",
       "      <td>76695</td>\n",
       "      <td>3</td>\n",
       "      <td>26</td>\n",
       "      <td>278</td>\n",
       "      <td>0.294581</td>\n",
       "      <td>0.494827</td>\n",
       "    </tr>\n",
       "  </tbody>\n",
       "</table>\n",
       "</div>"
      ],
      "text/plain": [
       "   session_id  day  item_id  category  timestamp/age_days  \\\n",
       "0       78349    5        5        63            0.895495   \n",
       "1       76609    4       17       176            0.691784   \n",
       "2       74052    3       22       150            0.360527   \n",
       "3       76930    8       13        36            0.850611   \n",
       "4       76695    3       26       278            0.294581   \n",
       "\n",
       "   timestamp/weekday/sin  \n",
       "0               0.163206  \n",
       "1               0.227206  \n",
       "2               0.165966  \n",
       "3               0.595348  \n",
       "4               0.494827  "
      ]
     },
     "execution_count": 4,
     "metadata": {},
     "output_type": "execute_result"
    }
   ],
   "source": [
    "NUM_ROWS = 100000\n",
    "inputs = {\n",
    "    'session_id': np.random.randint(70000, 80000, NUM_ROWS),\n",
    "    'day': np.random.randint(1, 10, NUM_ROWS),\n",
    "    'item_id': np.random.lognormal(3., 1., NUM_ROWS).astype(np.int32),\n",
    "    'category': np.random.randint(0, 332, NUM_ROWS),\n",
    "    'timestamp/age_days': np.random.uniform(0, 1, NUM_ROWS),\n",
    "    'timestamp/weekday/sin' : np.random.uniform(0, 1, NUM_ROWS),\n",
    "    }\n",
    "df = cudf.DataFrame(inputs)\n",
    "df.head()"
   ]
  },
  {
   "cell_type": "markdown",
   "id": "641ca507",
   "metadata": {},
   "source": [
    "## Feature Engineering with NVTabular"
   ]
  },
  {
   "cell_type": "markdown",
   "id": "23b73b7a",
   "metadata": {},
   "source": [
    "Deep Learning models require the input feature in a specific format. Categorical features needs to be continuous integers (0, ..., |C|) to use them with an embedding layer. We will use NVTabular to preprocess the categorical features, so that all categorical columns will be encoded to continuous integers. Note that we also add `1` after we categorify the categorical columns, the reason for that we want the encoded null values to start from `1` instead of `0` because we reserve `0` for padding the seqeunce features.\n",
    "\n",
    "Here our goal is to create session-based features.  In this cell, we are creating temporal features and grouping them together at the session level, sorting the interactions by time. Note that we also trim each feature sequence in a  session to a certain length. Here, we use the NVTabular library so that we can easily preprocess and create features in a couple of lines on a GPU."
   ]
  },
  {
   "cell_type": "code",
   "execution_count": 5,
   "id": "b4ffd3e2",
   "metadata": {},
   "outputs": [],
   "source": [
    "# Categorify categorical features\n",
    "\n",
    "categ_feats = ['session_id', 'item_id', 'category'] >> nvt.ops.Categorify() >> nvt.ops.LambdaOp(lambda col: col +1)\n",
    "# Define Groupby Workflow\n",
    "groupby_feats = categ_feats + ['day', 'timestamp/age_days', 'timestamp/weekday/sin']\n",
    "\n",
    "groupby_features = groupby_feats >> nvt.ops.Groupby(\n",
    "    groupby_cols=[\"session_id\"], \n",
    "    aggs={\n",
    "        \"item_id\": [\"list\", \"count\"],\n",
    "        \"category\": [\"list\"],     \n",
    "        \"day\": [\"first\"],\n",
    "        \"timestamp/age_days\": [\"list\"],\n",
    "        'timestamp/weekday/sin': [\"list\"],\n",
    "        },\n",
    "    name_sep=\"-\")\n",
    "\n",
    "groupby_features_trim = (groupby_features['category-list', 'item_id-list', 'timestamp/age_days-list', 'timestamp/weekday/sin-list']) >> nvt.ops.ListSlice(0,20) >> nvt.ops.Rename(postfix = '_trim')\n",
    "\n",
    "MINIMUM_SESSION_LENGTH = 2\n",
    "selected_features = groupby_features['item_id-count', 'day-first', 'session_id'] + groupby_features_trim\n",
    "\n",
    "filtered_sessions = selected_features >> nvt.ops.Filter(f=lambda df: df[\"item_id-count\"] >= MINIMUM_SESSION_LENGTH)\n",
    "\n",
    "workflow = nvt.Workflow(filtered_sessions)\n",
    "dataset = nvt.Dataset(df, cpu=False)\n",
    "workflow.fit(dataset)\n",
    "sessions_gdf = workflow.transform(dataset).to_ddf().compute()"
   ]
  },
  {
   "cell_type": "code",
   "execution_count": 6,
   "id": "272c2c6a",
   "metadata": {},
   "outputs": [
    {
     "data": {
      "text/html": [
       "<div>\n",
       "<style scoped>\n",
       "    .dataframe tbody tr th:only-of-type {\n",
       "        vertical-align: middle;\n",
       "    }\n",
       "\n",
       "    .dataframe tbody tr th {\n",
       "        vertical-align: top;\n",
       "    }\n",
       "\n",
       "    .dataframe thead th {\n",
       "        text-align: right;\n",
       "    }\n",
       "</style>\n",
       "<table border=\"1\" class=\"dataframe\">\n",
       "  <thead>\n",
       "    <tr style=\"text-align: right;\">\n",
       "      <th></th>\n",
       "      <th>item_id-count</th>\n",
       "      <th>day-first</th>\n",
       "      <th>session_id</th>\n",
       "      <th>category-list_trim</th>\n",
       "      <th>item_id-list_trim</th>\n",
       "      <th>timestamp/age_days-list_trim</th>\n",
       "      <th>timestamp/weekday/sin-list_trim</th>\n",
       "    </tr>\n",
       "  </thead>\n",
       "  <tbody>\n",
       "    <tr>\n",
       "      <th>0</th>\n",
       "      <td>24</td>\n",
       "      <td>8</td>\n",
       "      <td>2</td>\n",
       "      <td>[281, 24, 322, 51, 65, 278, 92, 179, 80, 197, ...</td>\n",
       "      <td>[35, 8, 11, 11, 6, 30, 9, 24, 14, 15, 93, 15, ...</td>\n",
       "      <td>[0.892955009856083, 0.21738232902724808, 0.189...</td>\n",
       "      <td>[0.9274283040483893, 0.2950782656140717, 0.389...</td>\n",
       "    </tr>\n",
       "    <tr>\n",
       "      <th>1</th>\n",
       "      <td>24</td>\n",
       "      <td>2</td>\n",
       "      <td>3</td>\n",
       "      <td>[61, 301, 199, 92, 233, 25, 176, 268, 2, 120, ...</td>\n",
       "      <td>[246, 2, 33, 53, 27, 72, 7, 35, 38, 4, 12, 9, ...</td>\n",
       "      <td>[0.4695135267633095, 0.15847174044324397, 0.66...</td>\n",
       "      <td>[0.7007907651963626, 0.6100794479812083, 0.550...</td>\n",
       "    </tr>\n",
       "    <tr>\n",
       "      <th>2</th>\n",
       "      <td>22</td>\n",
       "      <td>7</td>\n",
       "      <td>4</td>\n",
       "      <td>[245, 251, 249, 19, 333, 46, 120, 94, 177, 77,...</td>\n",
       "      <td>[68, 54, 13, 6, 61, 13, 47, 6, 3, 36, 218, 88,...</td>\n",
       "      <td>[0.6086831914062396, 0.7630037586848936, 0.145...</td>\n",
       "      <td>[0.9836082578093043, 0.3248996724647304, 0.944...</td>\n",
       "    </tr>\n",
       "  </tbody>\n",
       "</table>\n",
       "</div>"
      ],
      "text/plain": [
       "   item_id-count  day-first  session_id  \\\n",
       "0             24          8           2   \n",
       "1             24          2           3   \n",
       "2             22          7           4   \n",
       "\n",
       "                                  category-list_trim  \\\n",
       "0  [281, 24, 322, 51, 65, 278, 92, 179, 80, 197, ...   \n",
       "1  [61, 301, 199, 92, 233, 25, 176, 268, 2, 120, ...   \n",
       "2  [245, 251, 249, 19, 333, 46, 120, 94, 177, 77,...   \n",
       "\n",
       "                                   item_id-list_trim  \\\n",
       "0  [35, 8, 11, 11, 6, 30, 9, 24, 14, 15, 93, 15, ...   \n",
       "1  [246, 2, 33, 53, 27, 72, 7, 35, 38, 4, 12, 9, ...   \n",
       "2  [68, 54, 13, 6, 61, 13, 47, 6, 3, 36, 218, 88,...   \n",
       "\n",
       "                        timestamp/age_days-list_trim  \\\n",
       "0  [0.892955009856083, 0.21738232902724808, 0.189...   \n",
       "1  [0.4695135267633095, 0.15847174044324397, 0.66...   \n",
       "2  [0.6086831914062396, 0.7630037586848936, 0.145...   \n",
       "\n",
       "                     timestamp/weekday/sin-list_trim  \n",
       "0  [0.9274283040483893, 0.2950782656140717, 0.389...  \n",
       "1  [0.7007907651963626, 0.6100794479812083, 0.550...  \n",
       "2  [0.9836082578093043, 0.3248996724647304, 0.944...  "
      ]
     },
     "execution_count": 6,
     "metadata": {},
     "output_type": "execute_result"
    }
   ],
   "source": [
    "sessions_gdf.head(3)"
   ]
  },
  {
   "cell_type": "markdown",
   "id": "f04dd22e",
   "metadata": {},
   "source": [
    "- we can save our workflow"
   ]
  },
  {
   "cell_type": "code",
   "execution_count": 7,
   "id": "ea8a9304",
   "metadata": {},
   "outputs": [],
   "source": [
    "workflow.save('workflow')"
   ]
  },
  {
   "cell_type": "markdown",
   "id": "21ba16bd",
   "metadata": {},
   "source": [
    "## Export pre-processed data by day"
   ]
  },
  {
   "cell_type": "code",
   "execution_count": 8,
   "id": "39b7c2a5",
   "metadata": {},
   "outputs": [],
   "source": [
    "OUTPUT_FOLDER = os.environ.get(\"OUTPUT_FOLDER\", INPUT_DATA_DIR + \"sessions_by_day\")\n",
    "!mkdir -p $OUTPUT_FOLDER"
   ]
  },
  {
   "cell_type": "code",
   "execution_count": 9,
   "id": "4c9f1896",
   "metadata": {},
   "outputs": [
    {
     "name": "stderr",
     "output_type": "stream",
     "text": [
      "Creating time-based splits: 100%|███████████████████████████████████████████████████████████████████████████████████████████████████████████████████████████████████████| 9/9 [00:00<00:00, 12.14it/s]\n"
     ]
    }
   ],
   "source": [
    "# requires cudf + cupy + nvtabular + dask_cudf\n",
    "from transformers4rec.utils.gpu_preprocessing import save_time_based_splits\n",
    "save_time_based_splits(data=nvt.Dataset(sessions_gdf),\n",
    "                       output_dir= OUTPUT_FOLDER,\n",
    "                       partition_col='day-first',\n",
    "                       timestamp_col='session_id', \n",
    "                      )"
   ]
  },
  {
   "cell_type": "markdown",
   "id": "f2f716b5",
   "metadata": {},
   "source": [
    "## Checking the pre-processing outputs¶"
   ]
  },
  {
   "cell_type": "code",
   "execution_count": 10,
   "id": "0a4db834",
   "metadata": {},
   "outputs": [],
   "source": [
    "TRAIN_PATHS = sorted(glob.glob(os.path.join(OUTPUT_FOLDER, \"1\", \"train.parquet\")))"
   ]
  },
  {
   "cell_type": "code",
   "execution_count": 11,
   "id": "35abce20",
   "metadata": {},
   "outputs": [
    {
     "data": {
      "text/html": [
       "<div>\n",
       "<style scoped>\n",
       "    .dataframe tbody tr th:only-of-type {\n",
       "        vertical-align: middle;\n",
       "    }\n",
       "\n",
       "    .dataframe tbody tr th {\n",
       "        vertical-align: top;\n",
       "    }\n",
       "\n",
       "    .dataframe thead th {\n",
       "        text-align: right;\n",
       "    }\n",
       "</style>\n",
       "<table border=\"1\" class=\"dataframe\">\n",
       "  <thead>\n",
       "    <tr style=\"text-align: right;\">\n",
       "      <th></th>\n",
       "      <th>item_id-count</th>\n",
       "      <th>session_id</th>\n",
       "      <th>category-list_trim</th>\n",
       "      <th>item_id-list_trim</th>\n",
       "      <th>timestamp/age_days-list_trim</th>\n",
       "      <th>timestamp/weekday/sin-list_trim</th>\n",
       "    </tr>\n",
       "  </thead>\n",
       "  <tbody>\n",
       "    <tr>\n",
       "      <th>0</th>\n",
       "      <td>19</td>\n",
       "      <td>50</td>\n",
       "      <td>[105, 118, 101, 195, 301, 57, 19, 47, 239, 105...</td>\n",
       "      <td>[5, 5, 3, 25, 108, 8, 5, 12, 14, 13, 8, 5, 64,...</td>\n",
       "      <td>[0.996581398431122, 0.8647581530540058, 0.4271...</td>\n",
       "      <td>[0.4729119275072129, 0.5053625706372086, 0.538...</td>\n",
       "    </tr>\n",
       "    <tr>\n",
       "      <th>1</th>\n",
       "      <td>19</td>\n",
       "      <td>54</td>\n",
       "      <td>[77, 2, 154, 332, 14, 322, 292, 105, 128, 58, ...</td>\n",
       "      <td>[38, 19, 18, 17, 10, 118, 44, 25, 5, 35, 23, 1...</td>\n",
       "      <td>[0.3852559478929408, 0.9395631624840882, 0.548...</td>\n",
       "      <td>[0.1288564492663059, 0.08362282051577552, 0.99...</td>\n",
       "    </tr>\n",
       "    <tr>\n",
       "      <th>2</th>\n",
       "      <td>19</td>\n",
       "      <td>61</td>\n",
       "      <td>[331, 109, 202, 19, 319, 192, 322, 156, 118, 1...</td>\n",
       "      <td>[2, 108, 22, 22, 137, 130, 16, 34, 8, 15, 28, ...</td>\n",
       "      <td>[0.12819882765510937, 0.7805237237181775, 0.30...</td>\n",
       "      <td>[0.9059472783723667, 0.9850215005748464, 0.406...</td>\n",
       "    </tr>\n",
       "    <tr>\n",
       "      <th>3</th>\n",
       "      <td>18</td>\n",
       "      <td>69</td>\n",
       "      <td>[80, 59, 18, 233, 115, 47, 275, 159, 332, 298,...</td>\n",
       "      <td>[51, 25, 7, 50, 20, 57, 11, 6, 36, 4, 4, 54, 9...</td>\n",
       "      <td>[0.22780825515746927, 0.06990145868899689, 0.7...</td>\n",
       "      <td>[0.8841153650975748, 0.6324951113182498, 0.579...</td>\n",
       "    </tr>\n",
       "    <tr>\n",
       "      <th>4</th>\n",
       "      <td>18</td>\n",
       "      <td>73</td>\n",
       "      <td>[39, 323, 155, 314, 239, 295, 53, 133, 267, 85...</td>\n",
       "      <td>[19, 42, 3, 63, 10, 24, 23, 12, 19, 2, 9, 66, ...</td>\n",
       "      <td>[0.5612513114423124, 0.0924140824649482, 0.535...</td>\n",
       "      <td>[0.8043765626709053, 0.13703184234023247, 0.28...</td>\n",
       "    </tr>\n",
       "  </tbody>\n",
       "</table>\n",
       "</div>"
      ],
      "text/plain": [
       "   item_id-count  session_id  \\\n",
       "0             19          50   \n",
       "1             19          54   \n",
       "2             19          61   \n",
       "3             18          69   \n",
       "4             18          73   \n",
       "\n",
       "                                  category-list_trim  \\\n",
       "0  [105, 118, 101, 195, 301, 57, 19, 47, 239, 105...   \n",
       "1  [77, 2, 154, 332, 14, 322, 292, 105, 128, 58, ...   \n",
       "2  [331, 109, 202, 19, 319, 192, 322, 156, 118, 1...   \n",
       "3  [80, 59, 18, 233, 115, 47, 275, 159, 332, 298,...   \n",
       "4  [39, 323, 155, 314, 239, 295, 53, 133, 267, 85...   \n",
       "\n",
       "                                   item_id-list_trim  \\\n",
       "0  [5, 5, 3, 25, 108, 8, 5, 12, 14, 13, 8, 5, 64,...   \n",
       "1  [38, 19, 18, 17, 10, 118, 44, 25, 5, 35, 23, 1...   \n",
       "2  [2, 108, 22, 22, 137, 130, 16, 34, 8, 15, 28, ...   \n",
       "3  [51, 25, 7, 50, 20, 57, 11, 6, 36, 4, 4, 54, 9...   \n",
       "4  [19, 42, 3, 63, 10, 24, 23, 12, 19, 2, 9, 66, ...   \n",
       "\n",
       "                        timestamp/age_days-list_trim  \\\n",
       "0  [0.996581398431122, 0.8647581530540058, 0.4271...   \n",
       "1  [0.3852559478929408, 0.9395631624840882, 0.548...   \n",
       "2  [0.12819882765510937, 0.7805237237181775, 0.30...   \n",
       "3  [0.22780825515746927, 0.06990145868899689, 0.7...   \n",
       "4  [0.5612513114423124, 0.0924140824649482, 0.535...   \n",
       "\n",
       "                     timestamp/weekday/sin-list_trim  \n",
       "0  [0.4729119275072129, 0.5053625706372086, 0.538...  \n",
       "1  [0.1288564492663059, 0.08362282051577552, 0.99...  \n",
       "2  [0.9059472783723667, 0.9850215005748464, 0.406...  \n",
       "3  [0.8841153650975748, 0.6324951113182498, 0.579...  \n",
       "4  [0.8043765626709053, 0.13703184234023247, 0.28...  "
      ]
     },
     "execution_count": 11,
     "metadata": {},
     "output_type": "execute_result"
    }
   ],
   "source": [
    "gdf = cudf.read_parquet(TRAIN_PATHS[0])\n",
    "gdf.head()"
   ]
  }
 ],
 "metadata": {
  "kernelspec": {
   "display_name": "Python 3 (ipykernel)",
   "language": "python",
   "name": "python3"
  },
  "language_info": {
   "codemirror_mode": {
    "name": "ipython",
    "version": 3
   },
   "file_extension": ".py",
   "mimetype": "text/x-python",
   "name": "python",
   "nbconvert_exporter": "python",
   "pygments_lexer": "ipython3",
   "version": "3.8.10"
  }
 },
 "nbformat": 4,
 "nbformat_minor": 5
}
