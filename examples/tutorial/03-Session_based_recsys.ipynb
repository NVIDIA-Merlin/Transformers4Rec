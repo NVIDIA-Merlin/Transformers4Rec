{
 "cells": [
  {
   "cell_type": "code",
   "execution_count": 1,
   "id": "71de0d0a",
   "metadata": {},
   "outputs": [],
   "source": [
    "# Copyright 2021 NVIDIA Corporation. All Rights Reserved.\n",
    "#\n",
    "# Licensed under the Apache License, Version 2.0 (the \"License\");\n",
    "# you may not use this file except in compliance with the License.\n",
    "# You may obtain a copy of the License at\n",
    "#\n",
    "#     http://www.apache.org/licenses/LICENSE-2.0\n",
    "#\n",
    "# Unless required by applicable law or agreed to in writing, software\n",
    "# distributed under the License is distributed on an \"AS IS\" BASIS,\n",
    "# WITHOUT WARRANTIES OR CONDITIONS OF ANY KIND, either express or implied.\n",
    "# See the License for the specific language governing permissions and\n",
    "# limitations under the License.\n",
    "# =============================================================================="
   ]
  },
  {
   "cell_type": "markdown",
   "id": "c1f54b8a",
   "metadata": {},
   "source": [
    "# 1. Introduction"
   ]
  },
  {
   "cell_type": "markdown",
   "id": "8e67f6cb",
   "metadata": {},
   "source": [
    "In the previous notebook we went through our ETL pipeline with NVTabular library, and created session-based features to be used in training a session-based recommendation model. In this notebook we will learn:\n",
    "\n",
    "- Accelerating data loading of multiple features on PyTorch using NVTabular library\n",
    "- Training and evaluating an RNN-based (GRU) session-based recommendation model \n",
    "- Training and evaluating a Transformer-based (XLNET-MLM) session-based recommendation model\n",
    "- Integrate side information (additional features) into transformer architectures in order to improve recommendation accuracy"
   ]
  },
  {
   "cell_type": "markdown",
   "id": "128705da",
   "metadata": {},
   "source": [
    "# 2. Session-based Recommendation"
   ]
  },
  {
   "cell_type": "markdown",
   "id": "a1b71247",
   "metadata": {},
   "source": [
    "Session-based recommendation, a sub-area of sequential recommendation, has been an important task in online services like e-commerce and news portals, where most users either browse anonymously or may have very distinct interests for different sessions. Session-Based Recommender Systems (SBRS) have\n",
    "been proposed to model the sequence of interactions within the current user session, where a session is a short sequence of user interactions typically bounded by user inactivity. They have recently gained popularity due to their ability to capture short-term and contextual user preferences towards items.\n",
    "\n",
    "\n",
    "Many methods have been proposed to leverage the sequence of interactions that occur during a session, including session-based k-NN algorithms like V-SkNN [1] and neural approaches like GRU4Rec [2]. In addition,  state of the art NLP approaches have inspired RecSys practitioners and researchers to leverage the self-attention mechanism and the Transformer-based architectures for sequential and session-based recommendation[3]."
   ]
  },
  {
   "cell_type": "markdown",
   "id": "1863bfa3",
   "metadata": {},
   "source": [
    "# 3. Transformers4Rec Library"
   ]
  },
  {
   "cell_type": "markdown",
   "id": "7ac7db1b",
   "metadata": {},
   "source": [
    "In this tutorial, we introduce an open source library, [Transformers4Rec](https://github.com/NVIDIA-Merlin/Transformers4Rec), which leverages the popular [HuggingFace’s Transformers](https://github.com/huggingface/transformers) NLP library and make it possible to experiment with cutting-edge implementation of such architectures for sequential and session-based recommendation problems."
   ]
  },
  {
   "cell_type": "markdown",
   "id": "afad70ac",
   "metadata": {},
   "source": [
    "Transformers4Rec supports multiple input features and provides configurable building blocks that can be easily combined for custom architectures:\n",
    "\n",
    "- [TabularSequenceFeatures](https://github.com/NVIDIA-Merlin/Transformers4Rec/blob/main/transformers4rec/torch/features/sequence.py#L74) class that reads from schema and creates an input block. This input module combines different types of features (continuous, categorical & text) to a sequence.\n",
    "-  [MaskSequence](https://github.com/NVIDIA-Merlin/Transformers4Rec/blob/main/transformers4rec/torch/masking.py#L28) to define masking schema and prepare the masked inputs and labels for the selected LM task.\n",
    "- [TransformerBlock](https://github.com/NVIDIA-Merlin/Transformers4Rec/blob/main/transformers4rec/torch/block/transformer.py#L38) class that supports HuggingFace Transformers for session-based and sequential-based recommendation models.\n",
    "- [SequentialBlock](https://github.com/NVIDIA-Merlin/Transformers4Rec/blob/main/transformers4rec/torch/block/base.py#L61) that creates the body by mimicking [torch.nn.sequential](https://pytorch.org/docs/stable/generated/torch.nn.Sequential.html) class. It is designed to define our model as a sequence of layers.\n",
    "- [Head](https://github.com/NVIDIA-Merlin/Transformers4Rec/blob/main/transformers4rec/torch/model/head.py) where we define the prediction task of the model.\n",
    "- [NextItemPredictionTask](https://github.com/NVIDIA-Merlin/Transformers4Rec/blob/main/transformers4rec/torch/model/head.py#L236) that is the class to support next item prediction task.\n",
    "- [Trainer](https://github.com/NVIDIA-Merlin/Transformers4Rec/blob/main/transformers4rec/torch/trainer.py#L34) manages the model training and evaluation."
   ]
  },
  {
   "cell_type": "markdown",
   "id": "60630dee",
   "metadata": {},
   "source": [
    "In Figure 1, we define our Transformers4Rec meta-architecure that we train for next-item prediction in this tutorial. Although, we can only use `product-id` as input feature, you can notice that in the figure, we have both categorical and numerical features. That means we can also use side information in traning a Transformers4Rec model, which we will do in Section 3.2.4."
   ]
  },
  {
   "cell_type": "markdown",
   "id": "28d5c254",
   "metadata": {},
   "source": [
    "<div align=\"center\"><img src=\"images/tf4rec_meta.png\", width=500, height=500></div>\n",
    "<p><center>Figure 1. Transformers4Rec meta-architecure.</center></p>"
   ]
  },
  {
   "cell_type": "markdown",
   "id": "d578e9a9",
   "metadata": {},
   "source": [
    "In Transformers4Rec we leverage from HF Transformers only the transformer architectures building block and their configuration classes. Transformers4Rec provides additional blocks necessary for recommendation, e.g., input features normalization and aggregation, and heads for recommendation and sequence classification/prediction. We also extend their Trainer class to allow for the evaluation with RecSys metrics."
   ]
  },
  {
   "cell_type": "markdown",
   "id": "3e4613b1",
   "metadata": {},
   "source": [
    "In the `Features Processing Module` of the meta-architecture, the input features are processed. Categorical features are represented by embeddings. Numerical features can be represented as a scalar, projected by a fully-connected (FC) layer to multiple dimensions, or represented as a weighted average of embeddings by the technique Soft One-Hot embeddings (more info in our [paper's online appendix](https://github.com/NVIDIA-Merlin/publications/blob/main/2021_acm_recsys_transformers4rec/Appendices/Appendix_A-Techniques_used_in_Transformers4Rec_Meta-Architecture.md)).\n",
    "\n",
    "The features are optionally normalized (with layer normalization) and then aggregated. The current feature aggregation options are: `concat`, `stack`,\n",
    "`Element-wise sum`  and  `Element-wise sum & item multiplication`.  You can learn more about these aggregation methods [here](https://github.com/NVIDIA-Merlin/Transformers4Rec/blob/main/docs/source/core_features.md).\n",
    "\n",
    "The other blocks of the meta-architecture is explained in the following sections."
   ]
  },
  {
   "cell_type": "markdown",
   "id": "ee434f03",
   "metadata": {},
   "source": [
    "## 3.1 Training an RNN-based Session-based Recommendation Model"
   ]
  },
  {
   "cell_type": "markdown",
   "id": "bcbe62e3",
   "metadata": {},
   "source": [
    "In this section, we use a Recurrent Neural Networks (RNN), A Gated Recurrent Unit (GRU)[4] architecture, to do next item prediction using a sequence of events per user in a given session. There is obviously some sequence information that want to capture to do accurate/relevant recommendations. The input of the GRU network is the actual state of the session while the output is the next item to be interacted (e.g., click, view, or purchase) in the session. Basically, for each item in a given session, we generate the output as the predicted preference of the items, i.e. the likelihood of being the next.\n"
   ]
  },
  {
   "cell_type": "markdown",
   "id": "3bc40e19",
   "metadata": {},
   "source": [
    "Figure 2 illustrates the logic of predicting next item in a given session. We treat the recommendation as a multi-class classification problem and use cross-entropy loss. In our first example, we use GRU architecture instead of `Transformer block` as shown in the Figure 1."
   ]
  },
  {
   "cell_type": "markdown",
   "id": "2a2a9095",
   "metadata": {},
   "source": [
    "<div align=\"center\"><img src=\"images/gru_based.png\", width=600, height=600></div>\n",
    "<p><center>Figure 2. Next item prediction with RNN.</center></p>"
   ]
  },
  {
   "cell_type": "markdown",
   "id": "ab004716",
   "metadata": {},
   "source": [
    "### 3.1.1 Import Libraries and Modules"
   ]
  },
  {
   "cell_type": "code",
   "execution_count": 2,
   "id": "6487e35a",
   "metadata": {},
   "outputs": [],
   "source": [
    "import os\n",
    "import glob\n",
    "\n",
    "import torch \n",
    "import transformers4rec.torch as tr\n",
    "\n",
    "from transformers4rec.torch.ranking_metric import NDCGAt, AvgPrecisionAt, RecallAt"
   ]
  },
  {
   "cell_type": "markdown",
   "id": "b2ba9a49",
   "metadata": {},
   "source": [
    "- Create the Schema object from `schema` file."
   ]
  },
  {
   "cell_type": "code",
   "execution_count": 3,
   "id": "2243eb34",
   "metadata": {},
   "outputs": [],
   "source": [
    "from merlin_standard_lib import Schema\n",
    "# Define schema object to pass it to the TabularSequenceFeatures class\n",
    "SCHEMA_PATH = 'schema_tutorial.pb'\n",
    "schema = Schema().from_proto_text(SCHEMA_PATH)\n",
    "schema = schema.select_by_name(['product_id-list_seq'])"
   ]
  },
  {
   "cell_type": "markdown",
   "id": "8e33f7df",
   "metadata": {},
   "source": [
    "Transformers4Rec library relies on schema object in creation of TabularSequence features. As you can see below `schema.pb` is a protobuf file contains metadata including statistics about features such as cardinality, min and max values and also tags each feature based on their characteristics and dtypes (e.g., categorical, continuous, list, integer). We can tag our target column and even the add the prediction task such as `binary`, `regression` or `multiclass` as a tag for the target column in the `schema.pb` file. `schema.pb` provides a standard representations for metadata that are useful when training machine learning or deep learning models.\n",
    "\n",
    "The meta-data information loaded from `Schema` and their tags is used to automatically set the parameters of Transformers4rec models. Certain Transformers4rec modules have `from_schema` method to instantiate their parameters and layers from protobuf text file respectively. \n",
    "\n",
    "Although in this tutorial we did not automatically generate schema file from the NVTabular workflow, with the new NVTabular release we are able to define a standard and generic protobuf schema."
   ]
  },
  {
   "cell_type": "markdown",
   "id": "e34ced37",
   "metadata": {},
   "source": [
    "Let's view the content of `schema.pb`"
   ]
  },
  {
   "cell_type": "code",
   "execution_count": 4,
   "id": "d7454276",
   "metadata": {},
   "outputs": [
    {
     "name": "stdout",
     "output_type": "stream",
     "text": [
      "feature {\n",
      "  name: \"user_session\"\n",
      "  type: INT\n",
      "  int_domain {\n",
      "    name: \"user_session\"\n",
      "    min: 1\n",
      "    max: 1877365\n",
      "    is_categorical: false\n",
      "  }\n",
      "  annotation {\n",
      "    tag: \"groupby_col\"\n",
      "  }\n",
      "}\n",
      "feature {\n",
      "  name: \"category_id-list_seq\"\n",
      "  value_count {\n",
      "    min: 2\n",
      "    max: 20\n",
      "  }\n",
      "  type: INT\n",
      "  int_domain {\n",
      "    name: \"category_id-list_seq\"\n",
      "    min: 1\n",
      "    max: 567\n",
      "    is_categorical: true\n",
      "  }\n",
      "  annotation {\n",
      "    tag: \"list\"\n",
      "    tag: \"categorical\"\n",
      "    tag: \"item\"\n"
     ]
    }
   ],
   "source": [
    "!head -30 $SCHEMA_PATH"
   ]
  },
  {
   "cell_type": "markdown",
   "id": "5cff2bb0",
   "metadata": {},
   "source": [
    "Initialize the sequential tabular module that converts the inputs and aggregate them into one single interaction tensor. We use `sequential-concat` aggregation method here. In the input block we also define masking method (see Section 3.2.2 for details)."
   ]
  },
  {
   "cell_type": "markdown",
   "id": "38550302",
   "metadata": {},
   "source": [
    "\n",
    "We define our input block using `TabularSequenceFeatures` class. The `from_schema` module directly parse schema and accepts categorical and continuous sequential inputs and supports data augmentation, data aggregation, sequential-concat and elementwise-sum aggregations, the projection of the interaction embeddings and the masking tasks. `max_sequence_length` argument defines the maximum sequence length of our sequential input."
   ]
  },
  {
   "cell_type": "code",
   "execution_count": 5,
   "id": "be9f4f71",
   "metadata": {},
   "outputs": [],
   "source": [
    "sequence_length, d_model = 20, 128\n",
    "inputs = tr.TabularSequenceFeatures.from_schema(\n",
    "        schema,\n",
    "        max_sequence_length= sequence_length,\n",
    "        masking = 'causal',\n",
    "    )"
   ]
  },
  {
   "cell_type": "markdown",
   "id": "28e75e26",
   "metadata": {},
   "source": [
    "- Define a SequentialBlock"
   ]
  },
  {
   "cell_type": "code",
   "execution_count": 6,
   "id": "c06da4c8",
   "metadata": {},
   "outputs": [],
   "source": [
    "body = tr.SequentialBlock(\n",
    "        inputs,\n",
    "        tr.MLPBlock([d_model]),\n",
    "        tr.Block(torch.nn.GRU(input_size=d_model, hidden_size=d_model, num_layers=1), [None, 20, d_model])\n",
    ")"
   ]
  },
  {
   "cell_type": "markdown",
   "id": "065b0a0c",
   "metadata": {},
   "source": [
    "In our experiments published in our [ACM RecSys'21 paper](https://github.com/NVIDIA-Merlin/publications/blob/main/2021_acm_recsys_transformers4rec/recsys21_transformers4rec_paper.pdf) [7], we used the next item prediction head. It was composed by an output layer using the tying embeddings technique, i.e., weight-tying the projection layer to the item embedding matrix weights, followed by a softmax layer to predict the relevance scores over all items.\n",
    "\n",
    "Weight-tying, also known as `Tying Embeddings`, proposed originally by the NLP community to tie the weights of the input (item id) embedding matrix with the output projection layer, showed to be a very effective technique in extensive experimentation for competitions and empirical analysis (for more details see our [paper](https://github.com/NVIDIA-Merlin/publications/blob/main/2021_acm_recsys_transformers4rec/recsys21_transformers4rec_paper.pdf) and its online [appendix](https://github.com/NVIDIA-Merlin/publications/blob/main/2021_acm_recsys_transformers4rec/Appendices/Appendix_A-Techniques_used_in_Transformers4Rec_Meta-Architecture.md)). You can enable this option as follows."
   ]
  },
  {
   "cell_type": "markdown",
   "id": "bb6053cf",
   "metadata": {},
   "source": [
    "- We link the transformer-body to the inputs and the prediction tasks to get the final pytorch `Model` class."
   ]
  },
  {
   "cell_type": "code",
   "execution_count": 7,
   "id": "536302c7",
   "metadata": {},
   "outputs": [
    {
     "name": "stderr",
     "output_type": "stream",
     "text": [
      "Projecting inputs of NextItemPredictionTask to'64' As weight tying requires the input dimension '128' to be equal to the item-id embedding dimension '64'\n"
     ]
    }
   ],
   "source": [
    "head = tr.Head(\n",
    "    body,\n",
    "    tr.NextItemPredictionTask(weight_tying=True, hf_format=True),\n",
    "    inputs=inputs,\n",
    ")\n",
    "model = tr.Model(head)"
   ]
  },
  {
   "cell_type": "markdown",
   "id": "200e07c5",
   "metadata": {},
   "source": [
    "- Initialize the Dataloader"
   ]
  },
  {
   "cell_type": "markdown",
   "id": "184ee77b",
   "metadata": {},
   "source": [
    "We use optimized NVTabular PyTorch Dataloader which has the following benefits:\n",
    "- removing bottlenecks from dataloading by processing large chunks of data at a time instead of item by item\n",
    "- processing datasets that don’t fit within the GPU or CPU memory by streaming from the disk\n",
    "- reading data directly into the GPU memory and removing CPU-GPU communication\n",
    "- preparing batch asynchronously into the GPU to avoid CPU-GPU communication\n",
    "- supporting commonly used formats such as parquet"
   ]
  },
  {
   "cell_type": "code",
   "execution_count": 8,
   "id": "bb15c84d",
   "metadata": {},
   "outputs": [],
   "source": [
    "# NVTabular dependencies\n",
    "from nvtabular import Dataset as NVTDataset\n",
    "from nvtabular.loader.torch import DLDataLoader\n",
    "from nvtabular.loader.torch import TorchAsyncItr as NVTDataLoader\n",
    "\n",
    "\n",
    "x_cat_names, x_cont_names = ['product_id-list_seq'], []\n",
    "\n",
    "#   dictionary representing max sequence length for column\n",
    "sparse_features_max = {\n",
    "    fname: sequence_length\n",
    "    for fname in x_cat_names + x_cont_names\n",
    "}\n",
    "\n",
    "# define collate function\n",
    "def dataloader_collate_dict(inputs):\n",
    "    # Gets only the features dict\n",
    "    inputs = inputs[0][0]\n",
    "    return inputs\n",
    "\n",
    "class DLDataLoaderWrapper(DLDataLoader):\n",
    "    def __init__(self, *args, **kwargs) -> None:\n",
    "        if \"batch_size\" in kwargs:\n",
    "            self._batch_size = kwargs.pop(\"batch_size\")\n",
    "        super().__init__(*args, **kwargs)\n"
   ]
  },
  {
   "cell_type": "markdown",
   "id": "fa97c566",
   "metadata": {},
   "source": [
    "**Daily Fine-Tuning: Training over a time window**"
   ]
  },
  {
   "cell_type": "markdown",
   "id": "6147d6bd",
   "metadata": {},
   "source": [
    "Now that the model is defined, we are going to launch training. For that, Transfromers4rec extends HF Transformers Trainer class to adapt the evaluation loop for session-based recommendation task and the calculation of ranking metrics. The original train() method is not modified meaning that we leverage the efficient training implementation from that library, which manages for example half-precision (FP16) training."
   ]
  },
  {
   "cell_type": "markdown",
   "id": "4ae6fd15",
   "metadata": {},
   "source": [
    "- Set training arguments"
   ]
  },
  {
   "cell_type": "code",
   "execution_count": 9,
   "id": "8123a227",
   "metadata": {},
   "outputs": [],
   "source": [
    "from transformers4rec.config.trainer import T4RecTrainingArguments\n",
    "from transformers4rec.torch import Trainer\n",
    "#Set argumentd for training \n",
    "train_args = T4RecTrainingArguments(local_rank = -1, \n",
    "                                    dataloader_drop_last = False,\n",
    "                                    report_to = [],   #set empy list to avoig w&b login\n",
    "                                    gradient_accumulation_steps = 1,\n",
    "                                    per_device_train_batch_size = 256, \n",
    "                                    per_device_eval_batch_size = 32,\n",
    "                                    output_dir = \"./tmp\", \n",
    "                                    max_sequence_length=sequence_length,\n",
    "                                    learning_rate=0.00071,\n",
    "                                    num_train_epochs=3,\n",
    "                                    logging_steps=200,\n",
    "                                   )"
   ]
  },
  {
   "cell_type": "markdown",
   "id": "4325c658",
   "metadata": {},
   "source": [
    "**Instantiate the Trainer**"
   ]
  },
  {
   "cell_type": "code",
   "execution_count": 10,
   "id": "4ee98d33",
   "metadata": {},
   "outputs": [],
   "source": [
    "# Instantiate the T4Rec Trainer, which manages training and evaluation\n",
    "trainer = Trainer(\n",
    "    model=model,\n",
    "    args=train_args,\n",
    "    schema=schema,\n",
    "    compute_metrics=True,\n",
    ")"
   ]
  },
  {
   "cell_type": "markdown",
   "id": "0d33f020",
   "metadata": {},
   "source": [
    "Here, we use a for loop that allows us to do fit_and_evaluate method to conduct a time-based finetuning by iteratively training and evaluating using a sliding time window: At each iteration, we use training data of a specific time index $t$ to train the model then we evaluate on the validation data of next index $t + 1$. We set the start time to 1 and end time to 4."
   ]
  },
  {
   "cell_type": "code",
   "execution_count": 11,
   "id": "ac56fc9e",
   "metadata": {},
   "outputs": [
    {
     "name": "stderr",
     "output_type": "stream",
     "text": [
      "***** Running training *****\n",
      "  Num examples = 112128\n",
      "  Num Epochs = 3\n",
      "  Instantaneous batch size per device = 256\n",
      "  Total train batch size (w. parallel, distributed & accumulation) = 1024\n",
      "  Gradient Accumulation steps = 1\n",
      "  Total optimization steps = 1314\n"
     ]
    },
    {
     "name": "stdout",
     "output_type": "stream",
     "text": [
      "********************\n",
      "Launch training for day 1 are:\n",
      "********************\n",
      "\n"
     ]
    },
    {
     "data": {
      "text/html": [
       "\n",
       "    <div>\n",
       "      \n",
       "      <progress value='1314' max='1314' style='width:300px; height:20px; vertical-align: middle;'></progress>\n",
       "      [1314/1314 00:49, Epoch 3/3]\n",
       "    </div>\n",
       "    <table border=\"1\" class=\"dataframe\">\n",
       "  <thead>\n",
       "    <tr style=\"text-align: left;\">\n",
       "      <th>Step</th>\n",
       "      <th>Training Loss</th>\n",
       "    </tr>\n",
       "  </thead>\n",
       "  <tbody>\n",
       "    <tr>\n",
       "      <td>200</td>\n",
       "      <td>9.765800</td>\n",
       "    </tr>\n",
       "    <tr>\n",
       "      <td>400</td>\n",
       "      <td>8.616200</td>\n",
       "    </tr>\n",
       "    <tr>\n",
       "      <td>600</td>\n",
       "      <td>8.963800</td>\n",
       "    </tr>\n",
       "    <tr>\n",
       "      <td>800</td>\n",
       "      <td>8.247700</td>\n",
       "    </tr>\n",
       "    <tr>\n",
       "      <td>1000</td>\n",
       "      <td>8.772400</td>\n",
       "    </tr>\n",
       "    <tr>\n",
       "      <td>1200</td>\n",
       "      <td>8.267900</td>\n",
       "    </tr>\n",
       "  </tbody>\n",
       "</table><p>"
      ],
      "text/plain": [
       "<IPython.core.display.HTML object>"
      ]
     },
     "metadata": {},
     "output_type": "display_data"
    },
    {
     "name": "stderr",
     "output_type": "stream",
     "text": [
      "Saving model checkpoint to ./tmp/checkpoint-500\n",
      "Trainer.model is not a `PreTrainedModel`, only saving its state dict.\n",
      "Saving model checkpoint to ./tmp/checkpoint-1000\n",
      "Trainer.model is not a `PreTrainedModel`, only saving its state dict.\n",
      "\n",
      "\n",
      "Training completed. Do not forget to share your model on huggingface.co/models =)\n",
      "\n",
      "\n"
     ]
    },
    {
     "data": {
      "text/html": [
       "\n",
       "    <div>\n",
       "      \n",
       "      <progress value='1285' max='415' style='width:300px; height:20px; vertical-align: middle;'></progress>\n",
       "      [415/415 02:05]\n",
       "    </div>\n",
       "    "
      ],
      "text/plain": [
       "<IPython.core.display.HTML object>"
      ]
     },
     "metadata": {},
     "output_type": "display_data"
    },
    {
     "name": "stdout",
     "output_type": "stream",
     "text": [
      "********************\n",
      "Eval results for day 2 are:\t\n",
      "\n",
      "********************\n",
      "\n",
      " epoch = 3.0\n",
      " eval/loss = 8.942201614379883\n",
      " eval/next-item/avg_precision_at_10 = 0.028088631108403206\n",
      " eval/next-item/avg_precision_at_20 = 0.030619902536273003\n",
      " eval/next-item/ndcg_at_10 = 0.038881588727235794\n",
      " eval/next-item/ndcg_at_20 = 0.04819311201572418\n",
      " eval/next-item/recall_at_10 = 0.07457959651947021\n",
      " eval/next-item/recall_at_20 = 0.1116054579615593\n",
      " eval_runtime = 10.3006\n",
      " eval_samples_per_second = 1289.241\n",
      " eval_steps_per_second = 10.096\n"
     ]
    },
    {
     "name": "stderr",
     "output_type": "stream",
     "text": [
      "***** Running training *****\n",
      "  Num examples = 106240\n",
      "  Num Epochs = 3\n",
      "  Instantaneous batch size per device = 256\n",
      "  Total train batch size (w. parallel, distributed & accumulation) = 1024\n",
      "  Gradient Accumulation steps = 1\n",
      "  Total optimization steps = 1245\n"
     ]
    },
    {
     "name": "stdout",
     "output_type": "stream",
     "text": [
      "********************\n",
      "Launch training for day 2 are:\n",
      "********************\n",
      "\n"
     ]
    },
    {
     "data": {
      "text/html": [
       "\n",
       "    <div>\n",
       "      \n",
       "      <progress value='1245' max='1245' style='width:300px; height:20px; vertical-align: middle;'></progress>\n",
       "      [1245/1245 00:48, Epoch 3/3]\n",
       "    </div>\n",
       "    <table border=\"1\" class=\"dataframe\">\n",
       "  <thead>\n",
       "    <tr style=\"text-align: left;\">\n",
       "      <th>Step</th>\n",
       "      <th>Training Loss</th>\n",
       "    </tr>\n",
       "  </thead>\n",
       "  <tbody>\n",
       "    <tr>\n",
       "      <td>200</td>\n",
       "      <td>8.939800</td>\n",
       "    </tr>\n",
       "    <tr>\n",
       "      <td>400</td>\n",
       "      <td>8.308200</td>\n",
       "    </tr>\n",
       "    <tr>\n",
       "      <td>600</td>\n",
       "      <td>8.679800</td>\n",
       "    </tr>\n",
       "    <tr>\n",
       "      <td>800</td>\n",
       "      <td>8.054900</td>\n",
       "    </tr>\n",
       "    <tr>\n",
       "      <td>1000</td>\n",
       "      <td>8.525700</td>\n",
       "    </tr>\n",
       "    <tr>\n",
       "      <td>1200</td>\n",
       "      <td>7.919200</td>\n",
       "    </tr>\n",
       "  </tbody>\n",
       "</table><p>"
      ],
      "text/plain": [
       "<IPython.core.display.HTML object>"
      ]
     },
     "metadata": {},
     "output_type": "display_data"
    },
    {
     "name": "stderr",
     "output_type": "stream",
     "text": [
      "Saving model checkpoint to ./tmp/checkpoint-500\n",
      "Trainer.model is not a `PreTrainedModel`, only saving its state dict.\n",
      "Saving model checkpoint to ./tmp/checkpoint-1000\n",
      "Trainer.model is not a `PreTrainedModel`, only saving its state dict.\n",
      "\n",
      "\n",
      "Training completed. Do not forget to share your model on huggingface.co/models =)\n",
      "\n",
      "\n"
     ]
    },
    {
     "name": "stdout",
     "output_type": "stream",
     "text": [
      "********************\n",
      "Eval results for day 3 are:\t\n",
      "\n",
      "********************\n",
      "\n",
      " epoch = 3.0\n",
      " eval/loss = 8.60169506072998\n",
      " eval/next-item/avg_precision_at_10 = 0.03585263714194298\n",
      " eval/next-item/avg_precision_at_20 = 0.0393085777759552\n",
      " eval/next-item/ndcg_at_10 = 0.04929468408226967\n",
      " eval/next-item/ndcg_at_20 = 0.06208065524697304\n",
      " eval/next-item/recall_at_10 = 0.09337791800498962\n",
      " eval/next-item/recall_at_20 = 0.1443483978509903\n",
      " eval_runtime = 9.5624\n",
      " eval_samples_per_second = 1285.039\n",
      " eval_steps_per_second = 10.039\n"
     ]
    },
    {
     "name": "stderr",
     "output_type": "stream",
     "text": [
      "***** Running training *****\n",
      "  Num examples = 97792\n",
      "  Num Epochs = 3\n",
      "  Instantaneous batch size per device = 256\n",
      "  Total train batch size (w. parallel, distributed & accumulation) = 1024\n",
      "  Gradient Accumulation steps = 1\n",
      "  Total optimization steps = 1146\n"
     ]
    },
    {
     "name": "stdout",
     "output_type": "stream",
     "text": [
      "********************\n",
      "Launch training for day 3 are:\n",
      "********************\n",
      "\n"
     ]
    },
    {
     "data": {
      "text/html": [
       "\n",
       "    <div>\n",
       "      \n",
       "      <progress value='1146' max='1146' style='width:300px; height:20px; vertical-align: middle;'></progress>\n",
       "      [1146/1146 00:43, Epoch 3/3]\n",
       "    </div>\n",
       "    <table border=\"1\" class=\"dataframe\">\n",
       "  <thead>\n",
       "    <tr style=\"text-align: left;\">\n",
       "      <th>Step</th>\n",
       "      <th>Training Loss</th>\n",
       "    </tr>\n",
       "  </thead>\n",
       "  <tbody>\n",
       "    <tr>\n",
       "      <td>200</td>\n",
       "      <td>8.615900</td>\n",
       "    </tr>\n",
       "    <tr>\n",
       "      <td>400</td>\n",
       "      <td>8.113000</td>\n",
       "    </tr>\n",
       "    <tr>\n",
       "      <td>600</td>\n",
       "      <td>8.226200</td>\n",
       "    </tr>\n",
       "    <tr>\n",
       "      <td>800</td>\n",
       "      <td>7.972700</td>\n",
       "    </tr>\n",
       "    <tr>\n",
       "      <td>1000</td>\n",
       "      <td>8.009000</td>\n",
       "    </tr>\n",
       "  </tbody>\n",
       "</table><p>"
      ],
      "text/plain": [
       "<IPython.core.display.HTML object>"
      ]
     },
     "metadata": {},
     "output_type": "display_data"
    },
    {
     "name": "stderr",
     "output_type": "stream",
     "text": [
      "Saving model checkpoint to ./tmp/checkpoint-500\n",
      "Trainer.model is not a `PreTrainedModel`, only saving its state dict.\n",
      "Saving model checkpoint to ./tmp/checkpoint-1000\n",
      "Trainer.model is not a `PreTrainedModel`, only saving its state dict.\n",
      "\n",
      "\n",
      "Training completed. Do not forget to share your model on huggingface.co/models =)\n",
      "\n",
      "\n"
     ]
    },
    {
     "name": "stdout",
     "output_type": "stream",
     "text": [
      "********************\n",
      "Eval results for day 4 are:\t\n",
      "\n",
      "********************\n",
      "\n",
      " epoch = 3.0\n",
      " eval/loss = 8.281408309936523\n",
      " eval/next-item/avg_precision_at_10 = 0.04493127763271332\n",
      " eval/next-item/avg_precision_at_20 = 0.04901984706521034\n",
      " eval/next-item/ndcg_at_10 = 0.06079323962330818\n",
      " eval/next-item/ndcg_at_20 = 0.07579956203699112\n",
      " eval/next-item/recall_at_10 = 0.11305075883865356\n",
      " eval/next-item/recall_at_20 = 0.17263592779636383\n",
      " eval_runtime = 11.9813\n",
      " eval_samples_per_second = 1298.021\n",
      " eval_steps_per_second = 10.183\n",
      "CPU times: user 2min 26s, sys: 31.5 s, total: 2min 58s\n",
      "Wall time: 2min 57s\n"
     ]
    }
   ],
   "source": [
    "%%time\n",
    "start_time_window_index = 1\n",
    "final_time_window_index = 4\n",
    "for time_index in range(start_time_window_index, final_time_window_index):\n",
    "    # Set data \n",
    "    time_index_train = time_index\n",
    "    time_index_eval = time_index + 1\n",
    "    train_paths = glob.glob(f\"/workspace/data/sessions_by_day/{time_index_train}/train.parquet\")\n",
    "    eval_paths = glob.glob(f\"/workspace/data/sessions_by_day/{time_index_eval}/valid.parquet\")  \n",
    "\n",
    "    train_dataset = NVTDataset(\n",
    "    train_paths,\n",
    "    engine=\"parquet\")\n",
    "    \n",
    "    eval_dataset = NVTDataset(\n",
    "    eval_paths,\n",
    "    engine=\"parquet\")\n",
    "\n",
    "    train_loader = NVTDataLoader(\n",
    "    dataset=train_dataset,\n",
    "    batch_size= train_args.per_device_train_batch_size,\n",
    "    shuffle=False,\n",
    "    cats=x_cat_names,\n",
    "    conts=x_cont_names,\n",
    "    device=0,\n",
    "    labels=[],\n",
    "    sparse_names=x_cat_names + x_cont_names,\n",
    "    sparse_max=sparse_features_max,\n",
    "    sparse_as_dense=True,\n",
    "    drop_last=False,\n",
    "    )\n",
    "\n",
    "    eval_loader = NVTDataLoader(\n",
    "    dataset=eval_dataset,\n",
    "    batch_size= train_args.per_device_eval_batch_size,\n",
    "    shuffle=False,\n",
    "    cats=x_cat_names,\n",
    "    conts=x_cont_names,\n",
    "    device=0,\n",
    "    labels=[],\n",
    "    sparse_names=x_cat_names + x_cont_names,\n",
    "    sparse_max=sparse_features_max,\n",
    "    sparse_as_dense=True,\n",
    "    drop_last=False,\n",
    "    )\n",
    "    \n",
    "    dl_loader = DLDataLoaderWrapper(\n",
    "    train_loader, collate_fn=dataloader_collate_dict, batch_size=train_args.per_device_train_batch_size,\n",
    "    )\n",
    "\n",
    "    dl_loader_eval = DLDataLoaderWrapper(\n",
    "    eval_loader, collate_fn=dataloader_collate_dict, batch_size=train_args.per_device_eval_batch_size,\n",
    "    )\n",
    "\n",
    "    trainer.train_dataloader = dl_loader\n",
    "    trainer.eval_dataloader = dl_loader_eval\n",
    "    \n",
    "    # Train on day related to time_index \n",
    "    print('*'*20)\n",
    "    print(\"Launch training for day %s are:\" %time_index)\n",
    "    print('*'*20 + '\\n')\n",
    "\n",
    "    trainer.reset_lr_scheduler()\n",
    "    trainer.train()\n",
    "    trainer.state.global_step +=1\n",
    "    # Evaluate on the following day\n",
    "    train_metrics = trainer.evaluate(metric_key_prefix='eval')\n",
    "    print('*'*20)\n",
    "    print(\"Eval results for day %s are:\\t\" %time_index_eval)\n",
    "    print('\\n' + '*'*20 + '\\n')\n",
    "    for key in sorted(train_metrics.keys()):\n",
    "        print(\" %s = %s\" % (key, str(train_metrics[key]))) \n",
    "    trainer.wipe_memory()"
   ]
  },
  {
   "cell_type": "markdown",
   "id": "4cf0069f",
   "metadata": {
    "tags": []
   },
   "source": [
    "### Metrics"
   ]
  },
  {
   "cell_type": "markdown",
   "id": "cd71c3af",
   "metadata": {},
   "source": [
    "The following information\n",
    "retrieval metrics are used to compute the Top-20 accuracy of recommendation lists containing all items: <br> \n",
    "- **Normalized Discounted Cumulative Gain (NDCG@20):** NDCG accounts for rank of the relevant item in the recommendation list and is a more fine-grained metric than HR, which only verifies whether the relevant item is among the top-k items.\n",
    "\n",
    "- **Hit Rate (HR@20)**: Also known as `Recall@n` when there is only one relevant item in the recommendation list. HR just verifies whether the relevant item is among the top-n items."
   ]
  },
  {
   "cell_type": "markdown",
   "id": "c52c43bd",
   "metadata": {},
   "source": [
    "#### Restart the kernel to free our GPU memory"
   ]
  },
  {
   "cell_type": "code",
   "execution_count": 12,
   "id": "89488181",
   "metadata": {},
   "outputs": [
    {
     "data": {
      "text/plain": [
       "{'status': 'ok', 'restart': True}"
      ]
     },
     "execution_count": 12,
     "metadata": {},
     "output_type": "execute_result"
    }
   ],
   "source": [
    "import IPython\n",
    "app = IPython.Application.instance()\n",
    "app.kernel.do_shutdown(True)"
   ]
  },
  {
   "cell_type": "markdown",
   "id": "1ea94c7e",
   "metadata": {},
   "source": [
    "## 3.2. Training a Transformer-based Session-based Recommendation Model"
   ]
  },
  {
   "cell_type": "markdown",
   "id": "ea4cea6d",
   "metadata": {},
   "source": [
    "### 3.2.1 What's Transformers?"
   ]
  },
  {
   "cell_type": "markdown",
   "id": "e3a60c10",
   "metadata": {},
   "source": [
    "The Transformer is a competitive alternative to the models using Recurrent Neural Networks (RNNs) for a range of sequence modeling tasks. The Transformer architecture [5] was introduced as a novel architecture in NLP domain that aims to solve sequence-to-sequence tasks relying entirely on self-attention mechanism to compute representations of its input and output. Hence, the Transformer overperforms RNNs with their three mechanisms: \n",
    "\n",
    "- Non-sequential: Transformers network is parallelized where as RNN computations are inherently sequential. That resulted in significant speed-up in the training time.\n",
    "- Self-attention mechanisms: Transformers rely entirely on self-attention mechanisms that directly model relationships between all item-ids in a sequence.  \n",
    "- Positional encodings: A representation of the location or “position” of items in a sequence which is used to give the order context to the model architecture."
   ]
  },
  {
   "cell_type": "markdown",
   "id": "db03cdca",
   "metadata": {},
   "source": [
    "<div align=\"center\"><img src=\"images/transformer_vs_rnn.png\", width=600, height=600></div>\n",
    "<p><center> Figure 3. Transformer vs vanilla RNN.</center></p>"
   ]
  },
  {
   "cell_type": "markdown",
   "id": "25599e2a",
   "metadata": {},
   "source": [
    "Figure 4 illustrates the differences of Transformer (self-attention based) and a vanilla RNN architecture. As we see, RNN cannot be parallelized because it uses sequential processing over time (notice the sequential path from previous cells to the current one). On the other hand, the Transformer is a more powerful architecture because the self-attention mechanism is capable of representing dependencies within the sequence of tokens, favors parallel processing and handle longer sequences.\n",
    "\n",
    "As illustrated in the [Attention is All You Need](https://arxiv.org/pdf/1706.03762.pdf) paper, the original transformer model is made up of an encoder and decoder where each is a stack we can call a transformer block. In our transformer-meta architecture we use the encoder block of transformer architecture."
   ]
  },
  {
   "cell_type": "markdown",
   "id": "4609b95c",
   "metadata": {},
   "source": [
    "<div align=\"center\"><img src=\"images/encoder.png\", width=300, height=300></div>\n",
    "<p><center> Figure 4. Encoder block of the Transformer Architecture.</center></p>"
   ]
  },
  {
   "cell_type": "markdown",
   "id": "f63e61b9",
   "metadata": {},
   "source": [
    "### 3.2.2. XLNet-MLM"
   ]
  },
  {
   "cell_type": "markdown",
   "id": "235c0e18",
   "metadata": {},
   "source": [
    "Here, we use XLNet as the Transformer block in our meta-architecture and train the model with `Masked Language Model (MLM)` masking method. XLNet [9] was proposed as a generalized autoregressive (AR) pretraining method that uses a permutation language modeling (PLM) objective to combine the advantages of AR and auoencoding (AE) methods. Here, we use XLNet as the Transformer block in our meta-architecture and train the model with `Masked Language Model (MLM)` masking method. XLNet's main contribution is a modified language model training objective which learns conditional distributions for all permutations of tokens in a sequence[8]. \n",
    "\n",
    "MLM  pre-training objective was introduced in `BERT: Pre-training of Deep Bidirectional Transformers for Language Understanding` paper [7]. The Figure 5 illustrates the masking methods, causal language modeling (LM) and masked LM, that we use in RNN and XLNet-MLM, respectively. Causal LM is the task of predicting the token following a sequence of tokens, where the model only attends to the left context, i.e. models the probability of a token given the previous tokens in a sentence [6]. The MLM randomly masks some of the tokens from the input sequence, and the objective is to predict the original vocabulary id of the masked word based only on its context. The Transformer layer is allowed to use positions on the right (future information) during training. During inference, all past items are visible for the Transformer layer, which tries to predict the next item. In our experiments [7] we obtained very promising accuracy results with XLNET-MLM which allows the use of future information during training, and performs a type of data augmentation, by masking different positions of the sequences in each training epoch. Therefore, in this tutorial we use masked LM as masking method."
   ]
  },
  {
   "cell_type": "markdown",
   "id": "1abe4833",
   "metadata": {},
   "source": [
    "<div align=\"center\"><img src=\"images/masking.png\", width=600, height=600></div>\n",
    "<p><center>Figure 5. Causal and Masked Language Model masking methods.</center></p>"
   ]
  },
  {
   "cell_type": "markdown",
   "id": "9ec00da5",
   "metadata": {},
   "source": [
    "###  3.2.3 Train XLNET-MLM for Next Item Prediction"
   ]
  },
  {
   "cell_type": "markdown",
   "id": "f552feab",
   "metadata": {},
   "source": [
    "Now we are going to leverage XLNET-masked LM (MLM) model to do next item prediction."
   ]
  },
  {
   "cell_type": "code",
   "execution_count": 13,
   "id": "bb8f5094",
   "metadata": {},
   "outputs": [],
   "source": [
    "import os\n",
    "import glob\n",
    "\n",
    "import torch \n",
    "import transformers4rec.torch as tr\n",
    "\n",
    "from transformers4rec.torch.ranking_metric import NDCGAt, AvgPrecisionAt, RecallAt"
   ]
  },
  {
   "cell_type": "markdown",
   "id": "5176fd71",
   "metadata": {},
   "source": [
    "As we did above, we start with defining our schema object and our sub-schema to chose only `product-id` feature to train our XLNET-MLM architecture with only one feature. For masking task, we use `mlm` method."
   ]
  },
  {
   "cell_type": "code",
   "execution_count": 14,
   "id": "4353ff45",
   "metadata": {},
   "outputs": [],
   "source": [
    "from merlin_standard_lib import Schema\n",
    "schema = Schema().from_proto_text(\"schema_tutorial.pb\")\n",
    "# create a sub-schema only with the selected features\n",
    "schema = schema.select_by_name(['product_id-list_seq'])"
   ]
  },
  {
   "cell_type": "markdown",
   "id": "0a1644a1",
   "metadata": {},
   "source": [
    "- Define Input block"
   ]
  },
  {
   "cell_type": "code",
   "execution_count": 15,
   "id": "55599530",
   "metadata": {},
   "outputs": [],
   "source": [
    "#Input \n",
    "sequence_length, d_model = 20, 192\n",
    "# Define input module to process tabular input-features and to prepare masked inputs\n",
    "inputs= tr.TabularSequenceFeatures.from_schema(\n",
    "    schema,\n",
    "    max_sequence_length=sequence_length,\n",
    "    d_output=d_model,\n",
    "    masking=\"mlm\",\n",
    ")"
   ]
  },
  {
   "cell_type": "markdown",
   "id": "ad3a3051",
   "metadata": {},
   "source": [
    "We build a XLNetConfig class to update the config class of the transformer architecture with the specified arguments, then load the related model. Here we use it to instantiate an XLNET model according to the arguments (d_model, n_head, etc.), defining the model architecture.\n",
    "\n",
    "TransformerBlock class is created to support HF Transformers for session-based and sequential-based recommendation models. `NextItemPredictionTask` is the class to support next item prediction task."
   ]
  },
  {
   "cell_type": "code",
   "execution_count": 16,
   "id": "881842f6",
   "metadata": {},
   "outputs": [
    {
     "name": "stderr",
     "output_type": "stream",
     "text": [
      "Projecting inputs of NextItemPredictionTask to'64' As weight tying requires the input dimension '192' to be equal to the item-id embedding dimension '64'\n"
     ]
    }
   ],
   "source": [
    "# Define XLNetConfig class and set default parameters for HF XLNet config  \n",
    "transformer_config = tr.XLNetConfig.build(\n",
    "    d_model=d_model, n_head=4, n_layer=2, total_seq_length=sequence_length\n",
    ")\n",
    "# Define the model block including: inputs, masking, projection and transformer block.\n",
    "body = tr.SequentialBlock(\n",
    "    inputs, tr.MLPBlock([192]), tr.TransformerBlock(transformer_config, masking=inputs.masking)\n",
    ")\n",
    "\n",
    "# Define the head for to next item prediction task \n",
    "head = tr.Head(\n",
    "    body,\n",
    "    tr.NextItemPredictionTask(weight_tying=True, hf_format=True, \n",
    "                                     metrics=[NDCGAt(top_ks=[10, 20], labels_onehot=True),  RecallAt(top_ks=[10, 20], labels_onehot=True)]),\n",
    "    inputs=inputs,\n",
    ")\n",
    "\n",
    "# Get the end-to-end Model class \n",
    "model = tr.Model(head)"
   ]
  },
  {
   "cell_type": "markdown",
   "id": "20294f07",
   "metadata": {},
   "source": [
    "**Set training arguments**"
   ]
  },
  {
   "cell_type": "markdown",
   "id": "03e73bb8",
   "metadata": {},
   "source": [
    "An additional argument `data_loader_engine` is defined to automatically load the features needed for training using the schema. The default value is nvtabular for optimized GPU-based data-loading. Optionally the PyarrowDataLoader (pyarrow) can also be used as a basic option, but it is slower and works only for small datasets, as the full data is loaded to CPU memory."
   ]
  },
  {
   "cell_type": "code",
   "execution_count": 17,
   "id": "0640950c",
   "metadata": {},
   "outputs": [
    {
     "name": "stderr",
     "output_type": "stream",
     "text": [
      "PyTorch: setting up devices\n"
     ]
    }
   ],
   "source": [
    "from transformers4rec.config.trainer import T4RecTrainingArguments\n",
    "from transformers4rec.torch import Trainer\n",
    "\n",
    "#Set arguments for training \n",
    "training_args = T4RecTrainingArguments(\n",
    "            output_dir=\"./tmp\",\n",
    "            max_sequence_length=20,\n",
    "            data_loader_engine='nvtabular',\n",
    "            num_train_epochs=3, \n",
    "            dataloader_drop_last=False,\n",
    "            per_device_train_batch_size = 256,\n",
    "            per_device_eval_batch_size = 32,\n",
    "            gradient_accumulation_steps = 1,\n",
    "            learning_rate=0.000666,\n",
    "            report_to = [],\n",
    "            logging_steps=200,\n",
    "        )"
   ]
  },
  {
   "cell_type": "markdown",
   "id": "7d82c45b",
   "metadata": {},
   "source": [
    "**Instantiate the trainer**"
   ]
  },
  {
   "cell_type": "code",
   "execution_count": 18,
   "id": "4928706c",
   "metadata": {},
   "outputs": [],
   "source": [
    "# Instantiate the T4Rec Trainer, which manages training and evaluation\n",
    "trainer = Trainer(\n",
    "    model=model,\n",
    "    args=training_args,\n",
    "    schema=schema,\n",
    "    compute_metrics=True,\n",
    ")"
   ]
  },
  {
   "cell_type": "markdown",
   "id": "d6ea6565",
   "metadata": {},
   "source": [
    "- Now, we do time-based fine-tuning the model by iteratively training and evaluating using a sliding time window."
   ]
  },
  {
   "cell_type": "code",
   "execution_count": 19,
   "id": "0ccb63bb",
   "metadata": {},
   "outputs": [
    {
     "name": "stderr",
     "output_type": "stream",
     "text": [
      "***** Running training *****\n",
      "  Num examples = 112128\n",
      "  Num Epochs = 3\n",
      "  Instantaneous batch size per device = 256\n",
      "  Total train batch size (w. parallel, distributed & accumulation) = 1024\n",
      "  Gradient Accumulation steps = 1\n",
      "  Total optimization steps = 1314\n"
     ]
    },
    {
     "name": "stdout",
     "output_type": "stream",
     "text": [
      "['/workspace/data/sessions_by_day/1/train.parquet']\n",
      "********************\n",
      "Launch training for day 1 are:\n",
      "********************\n",
      "\n"
     ]
    },
    {
     "data": {
      "text/html": [
       "\n",
       "    <div>\n",
       "      \n",
       "      <progress value='1314' max='1314' style='width:300px; height:20px; vertical-align: middle;'></progress>\n",
       "      [1314/1314 00:45, Epoch 3/3]\n",
       "    </div>\n",
       "    <table border=\"1\" class=\"dataframe\">\n",
       "  <thead>\n",
       "    <tr style=\"text-align: left;\">\n",
       "      <th>Step</th>\n",
       "      <th>Training Loss</th>\n",
       "    </tr>\n",
       "  </thead>\n",
       "  <tbody>\n",
       "    <tr>\n",
       "      <td>200</td>\n",
       "      <td>9.949500</td>\n",
       "    </tr>\n",
       "    <tr>\n",
       "      <td>400</td>\n",
       "      <td>8.630800</td>\n",
       "    </tr>\n",
       "    <tr>\n",
       "      <td>600</td>\n",
       "      <td>8.990900</td>\n",
       "    </tr>\n",
       "    <tr>\n",
       "      <td>800</td>\n",
       "      <td>8.198900</td>\n",
       "    </tr>\n",
       "    <tr>\n",
       "      <td>1000</td>\n",
       "      <td>8.673500</td>\n",
       "    </tr>\n",
       "    <tr>\n",
       "      <td>1200</td>\n",
       "      <td>8.158600</td>\n",
       "    </tr>\n",
       "  </tbody>\n",
       "</table><p>"
      ],
      "text/plain": [
       "<IPython.core.display.HTML object>"
      ]
     },
     "metadata": {},
     "output_type": "display_data"
    },
    {
     "name": "stderr",
     "output_type": "stream",
     "text": [
      "Saving model checkpoint to ./tmp/checkpoint-500\n",
      "Trainer.model is not a `PreTrainedModel`, only saving its state dict.\n",
      "Saving model checkpoint to ./tmp/checkpoint-1000\n",
      "Trainer.model is not a `PreTrainedModel`, only saving its state dict.\n",
      "\n",
      "\n",
      "Training completed. Do not forget to share your model on huggingface.co/models =)\n",
      "\n",
      "\n"
     ]
    },
    {
     "data": {
      "text/html": [
       "\n",
       "    <div>\n",
       "      \n",
       "      <progress value='1285' max='415' style='width:300px; height:20px; vertical-align: middle;'></progress>\n",
       "      [415/415 01:49]\n",
       "    </div>\n",
       "    "
      ],
      "text/plain": [
       "<IPython.core.display.HTML object>"
      ]
     },
     "metadata": {},
     "output_type": "display_data"
    },
    {
     "name": "stdout",
     "output_type": "stream",
     "text": [
      "********************\n",
      "Eval results for day 2 are:\t\n",
      "\n",
      "********************\n",
      "\n",
      " epoch = 3.0\n",
      " eval/loss = 8.890445709228516\n",
      " eval/next-item/ndcg_at_10 = 0.0488111786544323\n",
      " eval/next-item/ndcg_at_20 = 0.058980487287044525\n",
      " eval/next-item/recall_at_10 = 0.0929040014743805\n",
      " eval/next-item/recall_at_20 = 0.13347409665584564\n",
      " eval_runtime = 6.9288\n",
      " eval_samples_per_second = 1916.646\n",
      " eval_steps_per_second = 15.01\n",
      "['/workspace/data/sessions_by_day/2/train.parquet']\n",
      "********************\n",
      "Launch training for day 2 are:\n",
      "********************\n",
      "\n"
     ]
    },
    {
     "name": "stderr",
     "output_type": "stream",
     "text": [
      "***** Running training *****\n",
      "  Num examples = 106240\n",
      "  Num Epochs = 3\n",
      "  Instantaneous batch size per device = 256\n",
      "  Total train batch size (w. parallel, distributed & accumulation) = 1024\n",
      "  Gradient Accumulation steps = 1\n",
      "  Total optimization steps = 1245\n"
     ]
    },
    {
     "data": {
      "text/html": [
       "\n",
       "    <div>\n",
       "      \n",
       "      <progress value='1245' max='1245' style='width:300px; height:20px; vertical-align: middle;'></progress>\n",
       "      [1245/1245 00:43, Epoch 3/3]\n",
       "    </div>\n",
       "    <table border=\"1\" class=\"dataframe\">\n",
       "  <thead>\n",
       "    <tr style=\"text-align: left;\">\n",
       "      <th>Step</th>\n",
       "      <th>Training Loss</th>\n",
       "    </tr>\n",
       "  </thead>\n",
       "  <tbody>\n",
       "    <tr>\n",
       "      <td>200</td>\n",
       "      <td>8.786500</td>\n",
       "    </tr>\n",
       "    <tr>\n",
       "      <td>400</td>\n",
       "      <td>8.122600</td>\n",
       "    </tr>\n",
       "    <tr>\n",
       "      <td>600</td>\n",
       "      <td>8.559000</td>\n",
       "    </tr>\n",
       "    <tr>\n",
       "      <td>800</td>\n",
       "      <td>7.912700</td>\n",
       "    </tr>\n",
       "    <tr>\n",
       "      <td>1000</td>\n",
       "      <td>8.409000</td>\n",
       "    </tr>\n",
       "    <tr>\n",
       "      <td>1200</td>\n",
       "      <td>7.769500</td>\n",
       "    </tr>\n",
       "  </tbody>\n",
       "</table><p>"
      ],
      "text/plain": [
       "<IPython.core.display.HTML object>"
      ]
     },
     "metadata": {},
     "output_type": "display_data"
    },
    {
     "name": "stderr",
     "output_type": "stream",
     "text": [
      "Saving model checkpoint to ./tmp/checkpoint-500\n",
      "Trainer.model is not a `PreTrainedModel`, only saving its state dict.\n",
      "Saving model checkpoint to ./tmp/checkpoint-1000\n",
      "Trainer.model is not a `PreTrainedModel`, only saving its state dict.\n",
      "\n",
      "\n",
      "Training completed. Do not forget to share your model on huggingface.co/models =)\n",
      "\n",
      "\n"
     ]
    },
    {
     "name": "stdout",
     "output_type": "stream",
     "text": [
      "********************\n",
      "Eval results for day 3 are:\t\n",
      "\n",
      "********************\n",
      "\n",
      " epoch = 3.0\n",
      " eval/loss = 8.53929328918457\n",
      " eval/next-item/ndcg_at_10 = 0.057730529457330704\n",
      " eval/next-item/ndcg_at_20 = 0.07115677744150162\n",
      " eval/next-item/recall_at_10 = 0.11099331825971603\n",
      " eval/next-item/recall_at_20 = 0.16416572034358978\n",
      " eval_runtime = 7.0637\n",
      " eval_samples_per_second = 1739.595\n",
      " eval_steps_per_second = 13.591\n",
      "['/workspace/data/sessions_by_day/3/train.parquet']\n",
      "********************\n",
      "Launch training for day 3 are:\n",
      "********************\n",
      "\n"
     ]
    },
    {
     "name": "stderr",
     "output_type": "stream",
     "text": [
      "***** Running training *****\n",
      "  Num examples = 97792\n",
      "  Num Epochs = 3\n",
      "  Instantaneous batch size per device = 256\n",
      "  Total train batch size (w. parallel, distributed & accumulation) = 1024\n",
      "  Gradient Accumulation steps = 1\n",
      "  Total optimization steps = 1146\n"
     ]
    },
    {
     "data": {
      "text/html": [
       "\n",
       "    <div>\n",
       "      \n",
       "      <progress value='1146' max='1146' style='width:300px; height:20px; vertical-align: middle;'></progress>\n",
       "      [1146/1146 00:41, Epoch 3/3]\n",
       "    </div>\n",
       "    <table border=\"1\" class=\"dataframe\">\n",
       "  <thead>\n",
       "    <tr style=\"text-align: left;\">\n",
       "      <th>Step</th>\n",
       "      <th>Training Loss</th>\n",
       "    </tr>\n",
       "  </thead>\n",
       "  <tbody>\n",
       "    <tr>\n",
       "      <td>200</td>\n",
       "      <td>8.461800</td>\n",
       "    </tr>\n",
       "    <tr>\n",
       "      <td>400</td>\n",
       "      <td>7.949400</td>\n",
       "    </tr>\n",
       "    <tr>\n",
       "      <td>600</td>\n",
       "      <td>8.122600</td>\n",
       "    </tr>\n",
       "    <tr>\n",
       "      <td>800</td>\n",
       "      <td>7.886600</td>\n",
       "    </tr>\n",
       "    <tr>\n",
       "      <td>1000</td>\n",
       "      <td>7.917500</td>\n",
       "    </tr>\n",
       "  </tbody>\n",
       "</table><p>"
      ],
      "text/plain": [
       "<IPython.core.display.HTML object>"
      ]
     },
     "metadata": {},
     "output_type": "display_data"
    },
    {
     "name": "stderr",
     "output_type": "stream",
     "text": [
      "Saving model checkpoint to ./tmp/checkpoint-500\n",
      "Trainer.model is not a `PreTrainedModel`, only saving its state dict.\n",
      "Saving model checkpoint to ./tmp/checkpoint-1000\n",
      "Trainer.model is not a `PreTrainedModel`, only saving its state dict.\n",
      "\n",
      "\n",
      "Training completed. Do not forget to share your model on huggingface.co/models =)\n",
      "\n",
      "\n"
     ]
    },
    {
     "name": "stdout",
     "output_type": "stream",
     "text": [
      "********************\n",
      "Eval results for day 4 are:\t\n",
      "\n",
      "********************\n",
      "\n",
      " epoch = 3.0\n",
      " eval/loss = 8.245924949645996\n",
      " eval/next-item/ndcg_at_10 = 0.06760746985673904\n",
      " eval/next-item/ndcg_at_20 = 0.08345689624547958\n",
      " eval/next-item/recall_at_10 = 0.12690028548240662\n",
      " eval/next-item/recall_at_20 = 0.1897706836462021\n",
      " eval_runtime = 8.9579\n",
      " eval_samples_per_second = 1736.119\n",
      " eval_steps_per_second = 13.619\n",
      "CPU times: user 7min 5s, sys: 14.2 s, total: 7min 19s\n",
      "Wall time: 2min 36s\n"
     ]
    }
   ],
   "source": [
    "%%time\n",
    "start_time_window_index = 1\n",
    "final_time_window_index = 4\n",
    "for time_index in range(start_time_window_index, final_time_window_index):\n",
    "    # Set data \n",
    "    time_index_train = time_index\n",
    "    time_index_eval = time_index + 1\n",
    "    train_paths = glob.glob(f\"/workspace/data/sessions_by_day/{time_index_train}/train.parquet\")\n",
    "    eval_paths = glob.glob(f\"/workspace/data/sessions_by_day/{time_index_eval}/valid.parquet\")  \n",
    "    print(train_paths)\n",
    "    # Train on day related to time_index \n",
    "    print('*'*20)\n",
    "    print(\"Launch training for day %s are:\" %time_index)\n",
    "    print('*'*20 + '\\n')\n",
    "    trainer.train_dataset_or_path = train_paths\n",
    "    trainer.reset_lr_scheduler()\n",
    "    trainer.train()\n",
    "    trainer.state.global_step +=1\n",
    "    # Evaluate on the following day\n",
    "    trainer.eval_dataset_or_path = eval_paths\n",
    "    train_metrics = trainer.evaluate(metric_key_prefix='eval')\n",
    "    print('*'*20)\n",
    "    print(\"Eval results for day %s are:\\t\" %time_index_eval)\n",
    "    print('\\n' + '*'*20 + '\\n')\n",
    "    for key in sorted(train_metrics.keys()):\n",
    "        print(\" %s = %s\" % (key, str(train_metrics[key]))) \n",
    "    trainer.wipe_memory()"
   ]
  },
  {
   "cell_type": "markdown",
   "id": "838d9057",
   "metadata": {},
   "source": [
    "### Restart the kernel to free our GPU memory"
   ]
  },
  {
   "cell_type": "code",
   "execution_count": 20,
   "id": "5b7fe143",
   "metadata": {},
   "outputs": [],
   "source": [
    "import IPython\n",
    "app = IPython.Application.instance()\n",
    "app.kernel.do_shutdown(True)\n",
    "app.kernel.start()"
   ]
  },
  {
   "cell_type": "markdown",
   "id": "abfc4f04",
   "metadata": {},
   "source": [
    "### 3.2.4 Train XLNET-MLM with Side Information for Next Item Prediction"
   ]
  },
  {
   "cell_type": "markdown",
   "id": "7acafe04",
   "metadata": {},
   "source": [
    "It is a common practice in RecSys to leverage additional tabular features of item (product) metadata and user context, providing the model more\n",
    "information for meaningful predictions. With that motivation, in this section, we will use additional features to train our XLNET-MLM architecture. We already checked our `schema.pb`, saw that it includes features and their tags. Now it is time to use these additional features that we created in the `01_ETL_with_NVTAbular` notebook."
   ]
  },
  {
   "cell_type": "code",
   "execution_count": 1,
   "id": "ead08db0",
   "metadata": {},
   "outputs": [],
   "source": [
    "import os\n",
    "import glob\n",
    "import nvtabular as nvt\n",
    "\n",
    "import torch \n",
    "import transformers4rec.torch as tr\n",
    "\n",
    "from transformers4rec.torch.ranking_metric import NDCGAt, AvgPrecisionAt, RecallAt"
   ]
  },
  {
   "cell_type": "markdown",
   "id": "98fe046b",
   "metadata": {},
   "source": [
    "This time we want you to do some coding exercise and replace the `FIXME` in the cells with the proper codes."
   ]
  },
  {
   "cell_type": "code",
   "execution_count": 2,
   "id": "41c30235",
   "metadata": {},
   "outputs": [],
   "source": [
    "# Define categorical and continuous columns to fed to training model\n",
    "x_cat_names = ['product_id-list_seq', 'category_id-list_seq', 'brand-list_seq']\n",
    "x_cont_names = ['product_recency_days_log_norm-list_seq', 'et_dayofweek_sin-list_seq', 'et_dayofweek_cos-list_seq', \n",
    "                'price_log_norm-list_seq', 'relative_price_to_avg_categ_id-list_seq']\n",
    "\n",
    "\n",
    "from merlin_standard_lib import Schema\n",
    "schema = Schema().from_proto_text(\"schema_tutorial.pb\")\n",
    "# create a sub-schema only with the selected features\n",
    "schema = schema.select_by_name(x_cat_names + x_cont_names)"
   ]
  },
  {
   "cell_type": "markdown",
   "id": "0767a81d",
   "metadata": {},
   "source": [
    "Below, we define `continuous_projection` argument, so that all numerical features are concatenated and projected by a number of MLP layers."
   ]
  },
  {
   "cell_type": "code",
   "execution_count": 3,
   "id": "83919ee9",
   "metadata": {},
   "outputs": [
    {
     "name": "stderr",
     "output_type": "stream",
     "text": [
      "Projecting inputs of NextItemPredictionTask to'64' As weight tying requires the input dimension '192' to be equal to the item-id embedding dimension '64'\n"
     ]
    }
   ],
   "source": [
    "#Input \n",
    "sequence_length, d_model = 20, 192\n",
    "# Define input module to process tabular input-features and to prepare masked inputs\n",
    "inputs= tr.TabularSequenceFeatures.from_schema(\n",
    "    schema,\n",
    "    max_sequence_length=sequence_length,\n",
    "    aggregation=\"concat\",\n",
    "    d_output=d_model,\n",
    "    masking=\"mlm\",\n",
    ")\n",
    "\n",
    "\n",
    "# Define XLNetConfig class and set default parameters for HF XLNet config  \n",
    "transformer_config = tr.XLNetConfig.build(\n",
    "    d_model=d_model, n_head=4, n_layer=2, total_seq_length=sequence_length\n",
    ")\n",
    "# Define the model block including: inputs, masking, projection and transformer block.\n",
    "body = tr.SequentialBlock(\n",
    "    inputs, tr.MLPBlock([192]), tr.TransformerBlock(transformer_config, masking=inputs.masking)\n",
    ")\n",
    "\n",
    "# Define the head related to next item prediction task \n",
    "head = tr.Head(\n",
    "    body,\n",
    "    tr.NextItemPredictionTask(weight_tying=True, hf_format=True, \n",
    "                                     metrics=[NDCGAt(top_ks=[10, 20], labels_onehot=True),  RecallAt(top_ks=[10, 20], labels_onehot=True)]),\n",
    "    inputs=inputs,\n",
    ")\n",
    "\n",
    "# Get the end-to-end Model class \n",
    "model = tr.Model(head)"
   ]
  },
  {
   "cell_type": "markdown",
   "id": "5bbce3cc",
   "metadata": {},
   "source": [
    "- Set training arguments"
   ]
  },
  {
   "cell_type": "code",
   "execution_count": 4,
   "id": "c3a7f234",
   "metadata": {},
   "outputs": [],
   "source": [
    "from transformers4rec.config.trainer import T4RecTrainingArguments\n",
    "from transformers4rec.torch import Trainer\n",
    "\n",
    "#Set arguments for training \n",
    "training_args = T4RecTrainingArguments(\n",
    "            output_dir=\"./tmp\",\n",
    "            max_sequence_length=20,\n",
    "            data_loader_engine='nvtabular',\n",
    "            num_train_epochs=3, \n",
    "            dataloader_drop_last=False,\n",
    "            per_device_train_batch_size = 256,\n",
    "            per_device_eval_batch_size = 32,\n",
    "            gradient_accumulation_steps = 1,\n",
    "            learning_rate=0.000666,\n",
    "            report_to = [],\n",
    "            logging_steps=200,\n",
    ")"
   ]
  },
  {
   "cell_type": "code",
   "execution_count": 5,
   "id": "9e80e821",
   "metadata": {},
   "outputs": [],
   "source": [
    "# Instantiate the T4Rec Trainer, which manages training and evaluation\n",
    "trainer = Trainer(\n",
    "    model=model,\n",
    "    args=training_args,\n",
    "    schema=schema,\n",
    "    compute_metrics=True,\n",
    ")"
   ]
  },
  {
   "cell_type": "code",
   "execution_count": 6,
   "id": "1d690476",
   "metadata": {},
   "outputs": [
    {
     "name": "stdout",
     "output_type": "stream",
     "text": [
      "['/workspace/data/sessions_by_day/1/train.parquet']\n",
      "********************\n",
      "Launch training for day 1 are:\n",
      "********************\n",
      "\n"
     ]
    },
    {
     "name": "stderr",
     "output_type": "stream",
     "text": [
      "***** Running training *****\n",
      "  Num examples = 112128\n",
      "  Num Epochs = 3\n",
      "  Instantaneous batch size per device = 256\n",
      "  Total train batch size (w. parallel, distributed & accumulation) = 1024\n",
      "  Gradient Accumulation steps = 1\n",
      "  Total optimization steps = 1314\n"
     ]
    },
    {
     "data": {
      "text/html": [
       "\n",
       "    <div>\n",
       "      \n",
       "      <progress value='1314' max='1314' style='width:300px; height:20px; vertical-align: middle;'></progress>\n",
       "      [1314/1314 00:51, Epoch 3/3]\n",
       "    </div>\n",
       "    <table border=\"1\" class=\"dataframe\">\n",
       "  <thead>\n",
       "    <tr style=\"text-align: left;\">\n",
       "      <th>Step</th>\n",
       "      <th>Training Loss</th>\n",
       "    </tr>\n",
       "  </thead>\n",
       "  <tbody>\n",
       "    <tr>\n",
       "      <td>200</td>\n",
       "      <td>9.797100</td>\n",
       "    </tr>\n",
       "    <tr>\n",
       "      <td>400</td>\n",
       "      <td>8.478700</td>\n",
       "    </tr>\n",
       "    <tr>\n",
       "      <td>600</td>\n",
       "      <td>8.834100</td>\n",
       "    </tr>\n",
       "    <tr>\n",
       "      <td>800</td>\n",
       "      <td>8.066100</td>\n",
       "    </tr>\n",
       "    <tr>\n",
       "      <td>1000</td>\n",
       "      <td>8.560600</td>\n",
       "    </tr>\n",
       "    <tr>\n",
       "      <td>1200</td>\n",
       "      <td>8.063600</td>\n",
       "    </tr>\n",
       "  </tbody>\n",
       "</table><p>"
      ],
      "text/plain": [
       "<IPython.core.display.HTML object>"
      ]
     },
     "metadata": {},
     "output_type": "display_data"
    },
    {
     "name": "stderr",
     "output_type": "stream",
     "text": [
      "Saving model checkpoint to ./tmp/checkpoint-500\n",
      "Trainer.model is not a `PreTrainedModel`, only saving its state dict.\n",
      "Saving model checkpoint to ./tmp/checkpoint-1000\n",
      "Trainer.model is not a `PreTrainedModel`, only saving its state dict.\n",
      "\n",
      "\n",
      "Training completed. Do not forget to share your model on huggingface.co/models =)\n",
      "\n",
      "\n"
     ]
    },
    {
     "data": {
      "text/html": [
       "\n",
       "    <div>\n",
       "      \n",
       "      <progress value='1285' max='415' style='width:300px; height:20px; vertical-align: middle;'></progress>\n",
       "      [415/415 02:11]\n",
       "    </div>\n",
       "    "
      ],
      "text/plain": [
       "<IPython.core.display.HTML object>"
      ]
     },
     "metadata": {},
     "output_type": "display_data"
    },
    {
     "name": "stdout",
     "output_type": "stream",
     "text": [
      "********************\n",
      "Eval results for day 2 are:\t\n",
      "\n",
      "********************\n",
      "\n",
      " epoch = 3.0\n",
      " eval/loss = 8.776267051696777\n",
      " eval/next-item/ndcg_at_10 = 0.05078784003853798\n",
      " eval/next-item/ndcg_at_20 = 0.0625191479921341\n",
      " eval/next-item/recall_at_10 = 0.09478922933340073\n",
      " eval/next-item/recall_at_20 = 0.1416182816028595\n",
      " eval_runtime = 9.5221\n",
      " eval_samples_per_second = 1394.657\n",
      " eval_steps_per_second = 10.922\n",
      "['/workspace/data/sessions_by_day/2/train.parquet']\n",
      "********************\n",
      "Launch training for day 2 are:\n",
      "********************\n",
      "\n"
     ]
    },
    {
     "name": "stderr",
     "output_type": "stream",
     "text": [
      "***** Running training *****\n",
      "  Num examples = 106240\n",
      "  Num Epochs = 3\n",
      "  Instantaneous batch size per device = 256\n",
      "  Total train batch size (w. parallel, distributed & accumulation) = 1024\n",
      "  Gradient Accumulation steps = 1\n",
      "  Total optimization steps = 1245\n"
     ]
    },
    {
     "data": {
      "text/html": [
       "\n",
       "    <div>\n",
       "      \n",
       "      <progress value='1245' max='1245' style='width:300px; height:20px; vertical-align: middle;'></progress>\n",
       "      [1245/1245 00:50, Epoch 3/3]\n",
       "    </div>\n",
       "    <table border=\"1\" class=\"dataframe\">\n",
       "  <thead>\n",
       "    <tr style=\"text-align: left;\">\n",
       "      <th>Step</th>\n",
       "      <th>Training Loss</th>\n",
       "    </tr>\n",
       "  </thead>\n",
       "  <tbody>\n",
       "    <tr>\n",
       "      <td>200</td>\n",
       "      <td>8.672400</td>\n",
       "    </tr>\n",
       "    <tr>\n",
       "      <td>400</td>\n",
       "      <td>7.967300</td>\n",
       "    </tr>\n",
       "    <tr>\n",
       "      <td>600</td>\n",
       "      <td>8.412800</td>\n",
       "    </tr>\n",
       "    <tr>\n",
       "      <td>800</td>\n",
       "      <td>7.752100</td>\n",
       "    </tr>\n",
       "    <tr>\n",
       "      <td>1000</td>\n",
       "      <td>8.251900</td>\n",
       "    </tr>\n",
       "    <tr>\n",
       "      <td>1200</td>\n",
       "      <td>7.598700</td>\n",
       "    </tr>\n",
       "  </tbody>\n",
       "</table><p>"
      ],
      "text/plain": [
       "<IPython.core.display.HTML object>"
      ]
     },
     "metadata": {},
     "output_type": "display_data"
    },
    {
     "name": "stderr",
     "output_type": "stream",
     "text": [
      "Saving model checkpoint to ./tmp/checkpoint-500\n",
      "Trainer.model is not a `PreTrainedModel`, only saving its state dict.\n",
      "Saving model checkpoint to ./tmp/checkpoint-1000\n",
      "Trainer.model is not a `PreTrainedModel`, only saving its state dict.\n",
      "\n",
      "\n",
      "Training completed. Do not forget to share your model on huggingface.co/models =)\n",
      "\n",
      "\n"
     ]
    },
    {
     "name": "stdout",
     "output_type": "stream",
     "text": [
      "********************\n",
      "Eval results for day 3 are:\t\n",
      "\n",
      "********************\n",
      "\n",
      " epoch = 3.0\n",
      " eval/loss = 8.366894721984863\n",
      " eval/next-item/ndcg_at_10 = 0.0630049854516983\n",
      " eval/next-item/ndcg_at_20 = 0.07753028720617294\n",
      " eval/next-item/recall_at_10 = 0.12020877748727798\n",
      " eval/next-item/recall_at_20 = 0.17778503894805908\n",
      " eval_runtime = 9.3637\n",
      " eval_samples_per_second = 1312.309\n",
      " eval_steps_per_second = 10.252\n",
      "['/workspace/data/sessions_by_day/3/train.parquet']\n",
      "********************\n",
      "Launch training for day 3 are:\n",
      "********************\n",
      "\n"
     ]
    },
    {
     "name": "stderr",
     "output_type": "stream",
     "text": [
      "***** Running training *****\n",
      "  Num examples = 97792\n",
      "  Num Epochs = 3\n",
      "  Instantaneous batch size per device = 256\n",
      "  Total train batch size (w. parallel, distributed & accumulation) = 1024\n",
      "  Gradient Accumulation steps = 1\n",
      "  Total optimization steps = 1146\n"
     ]
    },
    {
     "data": {
      "text/html": [
       "\n",
       "    <div>\n",
       "      \n",
       "      <progress value='1146' max='1146' style='width:300px; height:20px; vertical-align: middle;'></progress>\n",
       "      [1146/1146 00:46, Epoch 3/3]\n",
       "    </div>\n",
       "    <table border=\"1\" class=\"dataframe\">\n",
       "  <thead>\n",
       "    <tr style=\"text-align: left;\">\n",
       "      <th>Step</th>\n",
       "      <th>Training Loss</th>\n",
       "    </tr>\n",
       "  </thead>\n",
       "  <tbody>\n",
       "    <tr>\n",
       "      <td>200</td>\n",
       "      <td>8.291600</td>\n",
       "    </tr>\n",
       "    <tr>\n",
       "      <td>400</td>\n",
       "      <td>7.747600</td>\n",
       "    </tr>\n",
       "    <tr>\n",
       "      <td>600</td>\n",
       "      <td>7.891500</td>\n",
       "    </tr>\n",
       "    <tr>\n",
       "      <td>800</td>\n",
       "      <td>7.617300</td>\n",
       "    </tr>\n",
       "    <tr>\n",
       "      <td>1000</td>\n",
       "      <td>7.638400</td>\n",
       "    </tr>\n",
       "  </tbody>\n",
       "</table><p>"
      ],
      "text/plain": [
       "<IPython.core.display.HTML object>"
      ]
     },
     "metadata": {},
     "output_type": "display_data"
    },
    {
     "name": "stderr",
     "output_type": "stream",
     "text": [
      "Saving model checkpoint to ./tmp/checkpoint-500\n",
      "Trainer.model is not a `PreTrainedModel`, only saving its state dict.\n",
      "Saving model checkpoint to ./tmp/checkpoint-1000\n",
      "Trainer.model is not a `PreTrainedModel`, only saving its state dict.\n",
      "\n",
      "\n",
      "Training completed. Do not forget to share your model on huggingface.co/models =)\n",
      "\n",
      "\n"
     ]
    },
    {
     "name": "stdout",
     "output_type": "stream",
     "text": [
      "********************\n",
      "Eval results for day 4 are:\t\n",
      "\n",
      "********************\n",
      "\n",
      " epoch = 3.0\n",
      " eval/loss = 8.026039123535156\n",
      " eval/next-item/ndcg_at_10 = 0.07818037271499634\n",
      " eval/next-item/ndcg_at_20 = 0.09498133510351181\n",
      " eval/next-item/recall_at_10 = 0.14873744547367096\n",
      " eval/next-item/recall_at_20 = 0.21553723514080048\n",
      " eval_runtime = 11.5502\n",
      " eval_samples_per_second = 1346.472\n",
      " eval_steps_per_second = 10.563\n",
      "CPU times: user 7min 33s, sys: 17.2 s, total: 7min 51s\n",
      "Wall time: 3min 10s\n"
     ]
    }
   ],
   "source": [
    "%%time\n",
    "start_time_window_index = 1\n",
    "final_time_window_index = 4\n",
    "for time_index in range(start_time_window_index, final_time_window_index):\n",
    "    # Set data \n",
    "    time_index_train = time_index\n",
    "    time_index_eval = time_index + 1\n",
    "    train_paths = glob.glob(f\"/workspace/data/sessions_by_day/{time_index_train}/train.parquet\")\n",
    "    eval_paths = glob.glob(f\"/workspace/data/sessions_by_day/{time_index_eval}/valid.parquet\")  \n",
    "    print(train_paths)\n",
    "    # Train on day related to time_index \n",
    "    print('*'*20)\n",
    "    print(\"Launch training for day %s are:\" %time_index)\n",
    "    print('*'*20 + '\\n')\n",
    "    trainer.train_dataset_or_path = train_paths\n",
    "    trainer.reset_lr_scheduler()\n",
    "    trainer.train()\n",
    "    trainer.state.global_step +=1\n",
    "    # Evaluate on the following day\n",
    "    trainer.eval_dataset_or_path = eval_paths\n",
    "    train_metrics = trainer.evaluate(metric_key_prefix='eval')\n",
    "    print('*'*20)\n",
    "    print(\"Eval results for day %s are:\\t\" %time_index_eval)\n",
    "    print('\\n' + '*'*20 + '\\n')\n",
    "    for key in sorted(train_metrics.keys()):\n",
    "        print(\" %s = %s\" % (key, str(train_metrics[key]))) \n",
    "    trainer.wipe_memory()"
   ]
  },
  {
   "cell_type": "markdown",
   "id": "478b5278",
   "metadata": {},
   "source": [
    "- Export the worflow and model in the format required by Triton server"
   ]
  },
  {
   "cell_type": "markdown",
   "id": "714857e0",
   "metadata": {},
   "source": [
    "After model training and evaluation is completed we can save our trained model. Here, we also use NVTabular’s `export_pytorch_ensemble` function which enables us to create model files and config files to be served to [Triton Inference Server](https://github.com/triton-inference-server/server). Nvidia Triton IS simplifies the deployment of AI models at scale in production."
   ]
  },
  {
   "cell_type": "markdown",
   "id": "c3849949",
   "metadata": {},
   "source": [
    "- Load the workflow that we saved in the ETL notebook."
   ]
  },
  {
   "cell_type": "code",
   "execution_count": 7,
   "id": "0cdbbb7f",
   "metadata": {},
   "outputs": [],
   "source": [
    "import nvtabular as nvt\n",
    "workflow_path = 'workflow_etl'\n",
    "workflow = nvt.Workflow.load(workflow_path)"
   ]
  },
  {
   "cell_type": "code",
   "execution_count": 8,
   "id": "55224a8f",
   "metadata": {},
   "outputs": [
    {
     "data": {
      "text/plain": [
       "{'product_id-list_seq': 20,\n",
       " 'category_id-list_seq': 20,\n",
       " 'brand-list_seq': 20,\n",
       " 'product_recency_days_log_norm-list_seq': 20,\n",
       " 'et_dayofweek_sin-list_seq': 20,\n",
       " 'et_dayofweek_cos-list_seq': 20,\n",
       " 'price_log_norm-list_seq': 20,\n",
       " 'relative_price_to_avg_categ_id-list_seq': 20}"
      ]
     },
     "execution_count": 8,
     "metadata": {},
     "output_type": "execute_result"
    }
   ],
   "source": [
    "# dictionary representing max sequence length for column\n",
    "sparse_features_max = {\n",
    "    fname: sequence_length\n",
    "    for fname in x_cat_names + x_cont_names\n",
    "}\n",
    "\n",
    "sparse_features_max"
   ]
  },
  {
   "cell_type": "markdown",
   "id": "30549205",
   "metadata": {},
   "source": [
    "- Export the worflow and model in the format required by Triton Inference Server"
   ]
  },
  {
   "cell_type": "markdown",
   "id": "367183f7",
   "metadata": {},
   "source": [
    "NVTabular’s `export_pytorch_ensemble` function enables us to create model files and config files to be served to Triton Inference Server."
   ]
  },
  {
   "cell_type": "code",
   "execution_count": 9,
   "id": "9e5fea7d",
   "metadata": {},
   "outputs": [],
   "source": [
    "from nvtabular.inference.triton import export_pytorch_ensemble\n",
    "export_pytorch_ensemble(\n",
    "    model,\n",
    "    workflow,\n",
    "    sparse_max=sparse_features_max,\n",
    "    name= \"t4r_pytorch\",\n",
    "    model_path= \"/workspace/models/\",\n",
    "    label_columns =[],\n",
    ")"
   ]
  },
  {
   "cell_type": "markdown",
   "id": "40dd3eaa",
   "metadata": {},
   "source": [
    "# Wrap Up"
   ]
  },
  {
   "cell_type": "markdown",
   "id": "e4720613",
   "metadata": {},
   "source": [
    "Congratulations on finishing this notebook. In this tutorial, we have presented Transformers4Rec, an open source library designed to enable RecSys researchers and practitioners to quickly and easily explore the latest developments of the NLP for sequential and session-based recommendation tasks.\n",
    "\n",
    "In the end, using side information was the best approach. Why is that? Have an idea? Head back over to the notebook launcher to find out."
   ]
  },
  {
   "cell_type": "code",
   "execution_count": 12,
   "id": "e0cf1e6a",
   "metadata": {},
   "outputs": [],
   "source": [
    "import IPython\n",
    "app = IPython.Application.instance()\n",
    "app.kernel.do_shutdown(True)\n",
    "app.kernel.start()"
   ]
  },
  {
   "cell_type": "markdown",
   "id": "66e68c82",
   "metadata": {},
   "source": [
    "# References"
   ]
  },
  {
   "cell_type": "markdown",
   "id": "97c3ae74",
   "metadata": {},
   "source": [
    "1. Malte Ludewig and Dietmar Jannach. 2018. Evaluation of session-based recommendation algorithms. User Modeling and User-Adapted Interaction 28, 4-5 (2018), 331–390.<br>\n",
    "2. Balázs Hidasi and Alexandros Karatzoglou. 2018. Recurrent neural networks with top-k gains for session-based recommendations. In Proceedings of the 27th ACMinternational conference on information and knowledge management. 843–852.<br>\n",
    "3. Fei Sun, Jun Liu, Jian Wu, Changhua Pei, Xiao Lin, Wenwu Ou, and Peng Jiang. 2019. BERT4Rec: Sequential recommendation with bidirectional encoder representations from transformer. In Proceedings of the 28th ACM international conference on information and knowledge management. 1441–1450.\n",
    "4. Kyunghyun Cho, Bart Van Merriënboer, Caglar Gulcehre, Dzmitry Bahdanau, Fethi Bougares, Holger Schwenk, and Yoshua Bengio. 2014. Learning phrase representations using RNN encoder-decoder for statistical machine translation. arXiv preprint arXiv:1406.1078 (2014).\n",
    "5. Vaswani, A., et al. (2017). Attention is all you need. In Advances in neural information processing systems (pp. 5998-6008).\n",
    "6. Lample, Guillaume, and Alexis Conneau. \"Cross-lingual language model pretraining.\" arXiv preprint arXiv:1901.07291\n",
    "7. Gabriel De Souza P. Moreira, et al. (2021). Transformers4Rec: Bridging the Gap between NLP and Sequential / Session-Based Recommendation. RecSys'21.\n",
    "8. Understanding XLNet, BorealisAI. Online available: https://www.borealisai.com/en/blog/understanding-xlnet/\n",
    "9. Yang, Zhilin, et al. \"Xlnet: Generalized autoregressive pretraining for language understanding.\" Advances in neural information processing systems 32 (2019)."
   ]
  }
 ],
 "metadata": {
  "kernelspec": {
   "display_name": "Python 3 (ipykernel)",
   "language": "python",
   "name": "python3"
  },
  "language_info": {
   "codemirror_mode": {
    "name": "ipython",
    "version": 3
   },
   "file_extension": ".py",
   "mimetype": "text/x-python",
   "name": "python",
   "nbconvert_exporter": "python",
   "pygments_lexer": "ipython3",
   "version": "3.8.10"
  }
 },
 "nbformat": 4,
 "nbformat_minor": 5
}
