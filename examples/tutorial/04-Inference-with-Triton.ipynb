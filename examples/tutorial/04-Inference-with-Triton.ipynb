{
 "cells": [
  {
   "cell_type": "code",
   "execution_count": 1,
   "id": "35245beb",
   "metadata": {},
   "outputs": [],
   "source": [
    "# Copyright 2021 NVIDIA Corporation. All Rights Reserved.\n",
    "#\n",
    "# Licensed under the Apache License, Version 2.0 (the \"License\");\n",
    "# you may not use this file except in compliance with the License.\n",
    "# You may obtain a copy of the License at\n",
    "#\n",
    "#     http://www.apache.org/licenses/LICENSE-2.0\n",
    "#\n",
    "# Unless required by applicable law or agreed to in writing, software\n",
    "# distributed under the License is distributed on an \"AS IS\" BASIS,\n",
    "# WITHOUT WARRANTIES OR CONDITIONS OF ANY KIND, either express or implied.\n",
    "# See the License for the specific language governing permissions and\n",
    "# limitations under the License.\n",
    "# =============================================================================="
   ]
  },
  {
   "cell_type": "markdown",
   "id": "de4456c8",
   "metadata": {},
   "source": [
    "# Triton for Recommender Systems"
   ]
  },
  {
   "cell_type": "markdown",
   "id": "9646a79c",
   "metadata": {},
   "source": [
    "The Triton Inference Server allows us to deploy our model to the web regardless of cloud provider, and it supports a number of different machine learning frameworks such as TensorFlow and PyTorch.\n",
    "\n",
    "**Objectives:**\n",
    "\n",
    "Learn how to deploy a model to Triton\n",
    "1. Deploy saved NVTabular and PyTorch models to Triton Inference Server\n",
    "2. Sent requests for predictions"
   ]
  },
  {
   "cell_type": "markdown",
   "id": "6b2ab492",
   "metadata": {},
   "source": [
    "**Pull and start Inference docker container**"
   ]
  },
  {
   "cell_type": "markdown",
   "id": "bb579f45",
   "metadata": {},
   "source": [
    "At this point, before connecing to the Triton Server, we launch the inference docker container and then load the ensemble t4r_pytorch to the inference server. This is done with the scripts below:\n",
    "\n",
    "launch the docker container:\n",
    "```\n",
    "docker run -it --gpus device=0 -p 8000:8000 -p 8001:8001 -p 8002:8002 -v <path_to_saved_models>:/root/models/ nvcr.io/nvidia/merlin/merlin-inference:0.6\n",
    "```\n",
    "\n",
    "This script will mount your local model-repository folder that includes your saved models from the previous cell to /root/models directory in the merlin-inference docker container.\n",
    "\n",
    "start triton server:\n",
    "After you started the merlin-inference container, you can start triton server with the command below. You need to provide correct path of the models folder.\n",
    "```\n",
    "tritonserver --model-repository=<path_to_models> --model-control-mode=explicit\n",
    "```\n",
    "Note: The model-repository path for our example is /root/models. The models haven't been loaded, yet. Below, we will request the Triton server to load the saved ensemble model below."
   ]
  },
  {
   "cell_type": "markdown",
   "id": "385b650c",
   "metadata": {},
   "source": [
    "## 1. Deploy PyTorch and NVTabular Model to Triton Inference Server"
   ]
  },
  {
   "cell_type": "markdown",
   "id": "df00f487",
   "metadata": {},
   "source": [
    "Our Triton server has already been launched with to the web and is ready to make requests. We already, exportex the saved PyTorch model in the previous notebook, and generated the config files for Triton Inference Server."
   ]
  },
  {
   "cell_type": "code",
   "execution_count": 2,
   "id": "eb327568",
   "metadata": {},
   "outputs": [],
   "source": [
    " # Import dependencies\n",
    "import os\n",
    "from time import time\n",
    "\n",
    "import argparse\n",
    "import numpy as np\n",
    "import pandas as pd\n",
    "import sys\n",
    "import cudf"
   ]
  },
  {
   "cell_type": "markdown",
   "id": "5fb13bd8",
   "metadata": {},
   "source": [
    "## 1.2 Review exported files"
   ]
  },
  {
   "cell_type": "markdown",
   "id": "ab2c772f",
   "metadata": {},
   "source": [
    "Triton expects a specific directory structure for our models as the following format:"
   ]
  },
  {
   "cell_type": "markdown",
   "id": "57ca4769",
   "metadata": {},
   "source": [
    "```\n",
    "<model-name>/\n",
    "[config.pbtxt]\n",
    "<version-name>/\n",
    "  [model.savedmodel]/\n",
    "    <pytorch_saved_model_files>/\n",
    "      ...\n",
    "```"
   ]
  },
  {
   "cell_type": "markdown",
   "id": "349962dc",
   "metadata": {},
   "source": [
    "Let's check out our model repository layout. You can install tree library with apt-get install tree, and then run `!tree /workspace/models/` to print out the model repository layout as below:"
   ]
  },
  {
   "cell_type": "markdown",
   "id": "468c3e95",
   "metadata": {},
   "source": [
    "Triton needs a [config file](https://github.com/triton-inference-server/server/blob/main/docs/model_configuration.md) to understand how to interpret the model. Let's look at the generated config file. It defines the input columns with datatype and dimensions and the output layer. Manually creating this config file can be complicated and NVTabular provides an easy function with `export_pytorch_ensemble` to deploy PyTorch model to Triton.\n",
    "\n",
    "\n",
    "The config file needs the following information:\n",
    "* [name](https://docs.nvidia.com/deeplearning/triton-inference-server/master-user-guide/docs/protobuf_api/model_config.proto.html#_CPPv4N6nvidia15inferenceserver11ModelConfig4nameE): The name of our model. Must be the same name as the parent folder.\n",
    "* [platform](https://docs.nvidia.com/deeplearning/triton-inference-server/master-user-guide/docs/protobuf_api/model_config.proto.html#_CPPv4N6nvidia15inferenceserver11ModelConfig8platformE): The type of framework serving the model.\n",
    "* [input](https://docs.nvidia.com/deeplearning/triton-inference-server/master-user-guide/docs/protobuf_api/model_config.proto.html#_CPPv4N6nvidia15inferenceserver11ModelConfig5inputE): The input our model expects.\n",
    "  * `name`: Should correspond with the model input name.\n",
    "  * `data_type`: Should correspond to the input's data type.\n",
    "  * `dims`: The dimensions of the *request* for the input. For models that support input and output tensors with variable-size dimensions, those dimensions can be listed as -1 in the input and output configuration.\n",
    "* [output](https://docs.nvidia.com/deeplearning/triton-inference-server/master-user-guide/docs/protobuf_api/model_config.proto.html#_CPPv4N6nvidia15inferenceserver11ModelConfig6outputE): The output parameters of our model.\n",
    "  * `name`: Should correspond with the model output name.\n",
    "  * `data_type`: Should correspond to the output's data type.\n",
    "  * `dims`: The dimensions of the output."
   ]
  },
  {
   "cell_type": "markdown",
   "id": "33386790",
   "metadata": {},
   "source": [
    "## 1.3. Loading Model"
   ]
  },
  {
   "cell_type": "markdown",
   "id": "03d198ae",
   "metadata": {},
   "source": [
    "Next, let's build a client to connect to our server. This InferenceServerClient object is what we'll be using to talk to Triton."
   ]
  },
  {
   "cell_type": "code",
   "execution_count": 3,
   "id": "1d44d0b3",
   "metadata": {},
   "outputs": [
    {
     "name": "stdout",
     "output_type": "stream",
     "text": [
      "client created.\n",
      "GET /v2/health/live, headers None\n",
      "<HTTPSocketPoolResponse status=200 headers={'content-length': '0', 'content-type': 'text/plain'}>\n"
     ]
    },
    {
     "name": "stderr",
     "output_type": "stream",
     "text": [
      "/opt/conda/lib/python3.8/site-packages/tritonhttpclient/__init__.py:31: DeprecationWarning: The package `tritonhttpclient` is deprecated and will be removed in a future version. Please use instead `tritonclient.http`\n",
      "  warnings.warn(\n"
     ]
    },
    {
     "data": {
      "text/plain": [
       "True"
      ]
     },
     "execution_count": 3,
     "metadata": {},
     "output_type": "execute_result"
    }
   ],
   "source": [
    "import tritonhttpclient\n",
    "\n",
    "try:\n",
    "    triton_client = tritonhttpclient.InferenceServerClient(url=\"localhost:8000\", verbose=True)\n",
    "    print(\"client created.\")\n",
    "except Exception as e:\n",
    "    print(\"channel creation failed: \" + str(e))\n",
    "triton_client.is_server_live()"
   ]
  },
  {
   "cell_type": "code",
   "execution_count": 4,
   "id": "72d27786",
   "metadata": {},
   "outputs": [
    {
     "name": "stdout",
     "output_type": "stream",
     "text": [
      "POST /v2/repository/index, headers None\n",
      "\n",
      "<HTTPSocketPoolResponse status=200 headers={'content-type': 'application/json', 'content-length': '245'}>\n",
      "bytearray(b'[{\"name\":\"t4r_pytorch\",\"version\":\"1\",\"state\":\"UNAVAILABLE\",\"reason\":\"unloaded\"},{\"name\":\"t4r_pytorch_nvt\",\"version\":\"1\",\"state\":\"UNAVAILABLE\",\"reason\":\"unloaded\"},{\"name\":\"t4r_pytorch_pt\",\"version\":\"1\",\"state\":\"UNAVAILABLE\",\"reason\":\"unloaded\"}]')\n"
     ]
    },
    {
     "data": {
      "text/plain": [
       "[{'name': 't4r_pytorch',\n",
       "  'version': '1',\n",
       "  'state': 'UNAVAILABLE',\n",
       "  'reason': 'unloaded'},\n",
       " {'name': 't4r_pytorch_nvt',\n",
       "  'version': '1',\n",
       "  'state': 'UNAVAILABLE',\n",
       "  'reason': 'unloaded'},\n",
       " {'name': 't4r_pytorch_pt',\n",
       "  'version': '1',\n",
       "  'state': 'UNAVAILABLE',\n",
       "  'reason': 'unloaded'}]"
      ]
     },
     "execution_count": 4,
     "metadata": {},
     "output_type": "execute_result"
    }
   ],
   "source": [
    "triton_client.get_model_repository_index()"
   ]
  },
  {
   "cell_type": "markdown",
   "id": "91caa1f0",
   "metadata": {},
   "source": [
    "- We load the ensemble model"
   ]
  },
  {
   "cell_type": "code",
   "execution_count": 5,
   "id": "b27e727d",
   "metadata": {},
   "outputs": [
    {
     "name": "stdout",
     "output_type": "stream",
     "text": [
      "POST /v2/repository/models/t4r_pytorch/load, headers None\n",
      "\n",
      "<HTTPSocketPoolResponse status=200 headers={'content-type': 'application/json', 'content-length': '0'}>\n",
      "Loaded model 't4r_pytorch'\n"
     ]
    }
   ],
   "source": [
    "model_name = \"t4r_pytorch\"\n",
    "triton_client.load_model(model_name=model_name)"
   ]
  },
  {
   "cell_type": "markdown",
   "id": "4ef05a48",
   "metadata": {},
   "source": [
    "If all models are loaded succesfully, you should be seeing successfully loaded status next to each model name on your terminal."
   ]
  },
  {
   "cell_type": "markdown",
   "id": "6d4dec93",
   "metadata": {},
   "source": [
    "## 2. Sent Requests for Predictions"
   ]
  },
  {
   "cell_type": "markdown",
   "id": "a7537dc2",
   "metadata": {},
   "source": [
    "- Load raw data for inference: We select the first 50 interactions and filter out sessions with less than 2 interactions"
   ]
  },
  {
   "cell_type": "code",
   "execution_count": 6,
   "id": "e03ce246",
   "metadata": {},
   "outputs": [],
   "source": [
    "import cudf\n",
    "batch = cudf.read_parquet('/workspace/data/Oct-2019.parquet').iloc[:100,:]"
   ]
  },
  {
   "cell_type": "code",
   "execution_count": 7,
   "id": "dfea2faf",
   "metadata": {},
   "outputs": [],
   "source": [
    "sessions_to_use = batch.user_session.value_counts()[batch.user_session.value_counts() > 1].index.values\n",
    "filtered_batch = batch[batch.user_session.isin(sessions_to_use)]"
   ]
  },
  {
   "cell_type": "code",
   "execution_count": 8,
   "id": "e863b2ae",
   "metadata": {},
   "outputs": [
    {
     "data": {
      "text/html": [
       "<div>\n",
       "<style scoped>\n",
       "    .dataframe tbody tr th:only-of-type {\n",
       "        vertical-align: middle;\n",
       "    }\n",
       "\n",
       "    .dataframe tbody tr th {\n",
       "        vertical-align: top;\n",
       "    }\n",
       "\n",
       "    .dataframe thead th {\n",
       "        text-align: right;\n",
       "    }\n",
       "</style>\n",
       "<table border=\"1\" class=\"dataframe\">\n",
       "  <thead>\n",
       "    <tr style=\"text-align: right;\">\n",
       "      <th></th>\n",
       "      <th>user_session</th>\n",
       "      <th>event_type</th>\n",
       "      <th>product_id</th>\n",
       "      <th>category_id</th>\n",
       "      <th>category_code</th>\n",
       "      <th>brand</th>\n",
       "      <th>price</th>\n",
       "      <th>user_id</th>\n",
       "      <th>event_time_ts</th>\n",
       "      <th>prod_first_event_time_ts</th>\n",
       "    </tr>\n",
       "  </thead>\n",
       "  <tbody>\n",
       "    <tr>\n",
       "      <th>0</th>\n",
       "      <td>43</td>\n",
       "      <td>view</td>\n",
       "      <td>5300797</td>\n",
       "      <td>2053013563173241677</td>\n",
       "      <td>&lt;NA&gt;</td>\n",
       "      <td>panasonic</td>\n",
       "      <td>39.90</td>\n",
       "      <td>513903572</td>\n",
       "      <td>1570460611</td>\n",
       "      <td>1569948287</td>\n",
       "    </tr>\n",
       "    <tr>\n",
       "      <th>1</th>\n",
       "      <td>43</td>\n",
       "      <td>view</td>\n",
       "      <td>5300798</td>\n",
       "      <td>2053013563173241677</td>\n",
       "      <td>&lt;NA&gt;</td>\n",
       "      <td>panasonic</td>\n",
       "      <td>32.18</td>\n",
       "      <td>513903572</td>\n",
       "      <td>1570460616</td>\n",
       "      <td>1569934097</td>\n",
       "    </tr>\n",
       "    <tr>\n",
       "      <th>2</th>\n",
       "      <td>43</td>\n",
       "      <td>view</td>\n",
       "      <td>5300284</td>\n",
       "      <td>2053013563173241677</td>\n",
       "      <td>&lt;NA&gt;</td>\n",
       "      <td>rowenta</td>\n",
       "      <td>30.86</td>\n",
       "      <td>513903572</td>\n",
       "      <td>1570460621</td>\n",
       "      <td>1569927253</td>\n",
       "    </tr>\n",
       "    <tr>\n",
       "      <th>3</th>\n",
       "      <td>43</td>\n",
       "      <td>view</td>\n",
       "      <td>5300382</td>\n",
       "      <td>2053013563173241677</td>\n",
       "      <td>&lt;NA&gt;</td>\n",
       "      <td>remington</td>\n",
       "      <td>28.22</td>\n",
       "      <td>513903572</td>\n",
       "      <td>1570460636</td>\n",
       "      <td>1570026747</td>\n",
       "    </tr>\n",
       "    <tr>\n",
       "      <th>4</th>\n",
       "      <td>43</td>\n",
       "      <td>view</td>\n",
       "      <td>5300366</td>\n",
       "      <td>2053013563173241677</td>\n",
       "      <td>&lt;NA&gt;</td>\n",
       "      <td>polaris</td>\n",
       "      <td>26.46</td>\n",
       "      <td>513903572</td>\n",
       "      <td>1570460650</td>\n",
       "      <td>1570097085</td>\n",
       "    </tr>\n",
       "  </tbody>\n",
       "</table>\n",
       "</div>"
      ],
      "text/plain": [
       "   user_session event_type  product_id          category_id category_code  \\\n",
       "0            43       view     5300797  2053013563173241677          <NA>   \n",
       "1            43       view     5300798  2053013563173241677          <NA>   \n",
       "2            43       view     5300284  2053013563173241677          <NA>   \n",
       "3            43       view     5300382  2053013563173241677          <NA>   \n",
       "4            43       view     5300366  2053013563173241677          <NA>   \n",
       "\n",
       "       brand  price    user_id  event_time_ts  prod_first_event_time_ts  \n",
       "0  panasonic  39.90  513903572     1570460611                1569948287  \n",
       "1  panasonic  32.18  513903572     1570460616                1569934097  \n",
       "2    rowenta  30.86  513903572     1570460621                1569927253  \n",
       "3  remington  28.22  513903572     1570460636                1570026747  \n",
       "4    polaris  26.46  513903572     1570460650                1570097085  "
      ]
     },
     "execution_count": 8,
     "metadata": {},
     "output_type": "execute_result"
    }
   ],
   "source": [
    "filtered_batch.head()"
   ]
  },
  {
   "cell_type": "code",
   "execution_count": 9,
   "id": "531654ea",
   "metadata": {},
   "outputs": [],
   "source": [
    "import warnings\n",
    "\n",
    "warnings.filterwarnings(\"ignore\")"
   ]
  },
  {
   "cell_type": "code",
   "execution_count": 10,
   "id": "eb691d1b",
   "metadata": {},
   "outputs": [
    {
     "name": "stdout",
     "output_type": "stream",
     "text": [
      "output :\n",
      " [[-14.327803 -14.31179   -8.603794 ... -15.728743 -15.332325 -15.000166]\n",
      " [-17.512676 -16.658257  -7.375148 ... -18.469122 -17.989824 -17.459372]\n",
      " [-23.414373 -24.599703  -5.441975 ... -26.738302 -26.056658 -25.856808]\n",
      " [-14.12752  -13.941931  -8.50183  ... -14.946888 -14.655097 -14.412033]]\n"
     ]
    }
   ],
   "source": [
    "import nvtabular.inference.triton as nvt_triton\n",
    "import tritonclient.grpc as grpcclient\n",
    "\n",
    "inputs = nvt_triton.convert_df_to_triton_input(filtered_batch.columns, filtered_batch, grpcclient.InferInput)\n",
    "\n",
    "output_names = [\"output\"]\n",
    "\n",
    "outputs = []\n",
    "for col in output_names:\n",
    "    outputs.append(grpcclient.InferRequestedOutput(col))\n",
    "    \n",
    "MODEL_NAME_NVT = \"t4r_pytorch\"\n",
    "\n",
    "with grpcclient.InferenceServerClient(\"localhost:8001\") as client:\n",
    "    response = client.infer(MODEL_NAME_NVT, inputs)\n",
    "    print(col, ':\\n', response.as_numpy(col))"
   ]
  },
  {
   "cell_type": "markdown",
   "id": "4c4a80ed",
   "metadata": {},
   "source": [
    "- Visualise top-k predictions"
   ]
  },
  {
   "cell_type": "code",
   "execution_count": 11,
   "id": "25644c2a",
   "metadata": {},
   "outputs": [
    {
     "name": "stdout",
     "output_type": "stream",
     "text": [
      "- Top-5 predictions for session `17`: 604 || 4 || 11 || 560 || 619\n",
      "\n",
      "- Top-5 predictions for session `43`: 270 || 4 || 3 || 116 || 349\n",
      "\n",
      "- Top-5 predictions for session `217`: 173 || 908 || 349 || 881 || 164\n",
      "\n",
      "- Top-5 predictions for session `317`: 27 || 11 || 2 || 3 || 4\n",
      "\n"
     ]
    }
   ],
   "source": [
    "from demo_utils import visualize_response\n",
    "visualize_response(filtered_batch, response, top_k=5)"
   ]
  },
  {
   "cell_type": "markdown",
   "id": "814a9847",
   "metadata": {},
   "source": [
    "- Unload models"
   ]
  },
  {
   "cell_type": "code",
   "execution_count": 12,
   "id": "e30bce1f",
   "metadata": {},
   "outputs": [
    {
     "name": "stdout",
     "output_type": "stream",
     "text": [
      "POST /v2/repository/models/t4r_pytorch/unload, headers None\n",
      "{\"parameters\":{\"unload_dependents\":false}}\n",
      "<HTTPSocketPoolResponse status=200 headers={'content-type': 'application/json', 'content-length': '0'}>\n",
      "Loaded model 't4r_pytorch'\n",
      "POST /v2/repository/models/t4r_pytorch_nvt/unload, headers None\n",
      "{\"parameters\":{\"unload_dependents\":false}}\n",
      "<HTTPSocketPoolResponse status=200 headers={'content-type': 'application/json', 'content-length': '0'}>\n",
      "Loaded model 't4r_pytorch_nvt'\n",
      "POST /v2/repository/models/t4r_pytorch_pt/unload, headers None\n",
      "{\"parameters\":{\"unload_dependents\":false}}\n",
      "<HTTPSocketPoolResponse status=200 headers={'content-type': 'application/json', 'content-length': '0'}>\n",
      "Loaded model 't4r_pytorch_pt'\n"
     ]
    }
   ],
   "source": [
    "triton_client.unload_model(model_name=\"t4r_pytorch\")\n",
    "triton_client.unload_model(model_name=\"t4r_pytorch_nvt\")\n",
    "triton_client.unload_model(model_name=\"t4r_pytorch_pt\")"
   ]
  }
 ],
 "metadata": {
  "kernelspec": {
   "display_name": "Python 3 (ipykernel)",
   "language": "python",
   "name": "python3"
  },
  "language_info": {
   "codemirror_mode": {
    "name": "ipython",
    "version": 3
   },
   "file_extension": ".py",
   "mimetype": "text/x-python",
   "name": "python",
   "nbconvert_exporter": "python",
   "pygments_lexer": "ipython3",
   "version": "3.8.10"
  }
 },
 "nbformat": 4,
 "nbformat_minor": 5
}
