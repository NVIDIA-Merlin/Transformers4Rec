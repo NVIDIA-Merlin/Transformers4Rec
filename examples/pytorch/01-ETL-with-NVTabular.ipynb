{
 "cells": [
  {
   "cell_type": "code",
   "execution_count": 1,
   "id": "1495252d",
   "metadata": {},
   "outputs": [],
   "source": [
    "# Copyright 2021 NVIDIA Corporation. All Rights Reserved.\n",
    "#\n",
    "# Licensed under the Apache License, Version 2.0 (the \"License\");\n",
    "# you may not use this file except in compliance with the License.\n",
    "# You may obtain a copy of the License at\n",
    "#\n",
    "#     http://www.apache.org/licenses/LICENSE-2.0\n",
    "#\n",
    "# Unless required by applicable law or agreed to in writing, software\n",
    "# distributed under the License is distributed on an \"AS IS\" BASIS,\n",
    "# WITHOUT WARRANTIES OR CONDITIONS OF ANY KIND, either express or implied.\n",
    "# See the License for the specific language governing permissions and\n",
    "# limitations under the License.\n",
    "# ======="
   ]
  },
  {
   "cell_type": "markdown",
   "id": "f51a4c19",
   "metadata": {},
   "source": [
    "# ETL with NVTabular"
   ]
  },
  {
   "cell_type": "markdown",
   "id": "7f7d7f6e",
   "metadata": {},
   "source": [
    "In this notebook we are going to generate synthetic data and then create session-based features with [NVTabular](https://github.com/NVIDIA/NVTabular) to train a session-based recommendation model for next item prediction task.\n",
    "\n",
    "NVTabular is a feature engineering and preprocessing library for tabular data designed to quickly and easily manipulate terabyte scale datasets used to train deep learning based recommender systems. It provides a high level abstraction to simplify code and accelerates computation on the GPU using the RAPIDS cuDF library."
   ]
  },
  {
   "cell_type": "markdown",
   "id": "e883f19e",
   "metadata": {},
   "source": [
    "- Import required libraries"
   ]
  },
  {
   "cell_type": "code",
   "execution_count": 2,
   "id": "19c5de32",
   "metadata": {},
   "outputs": [],
   "source": [
    "import os\n",
    "import glob\n",
    "\n",
    "import torch \n",
    "import numpy\n",
    "\n",
    "import cudf\n",
    "import cupy as cp\n",
    "import nvtabular as nvt"
   ]
  },
  {
   "cell_type": "markdown",
   "id": "97e58ece",
   "metadata": {},
   "source": [
    "- Define Input/Output Path"
   ]
  },
  {
   "cell_type": "code",
   "execution_count": 3,
   "id": "fee815a2",
   "metadata": {},
   "outputs": [],
   "source": [
    "INPUT_DATA_DIR = os.environ.get(\"INPUT_DATA_DIR\", \"/workspace/data/\")"
   ]
  },
  {
   "cell_type": "markdown",
   "id": "ebe7bcad",
   "metadata": {},
   "source": [
    "## Create a Synthetic Input Data"
   ]
  },
  {
   "cell_type": "code",
   "execution_count": 4,
   "id": "cd17767a",
   "metadata": {},
   "outputs": [
    {
     "data": {
      "text/html": [
       "<div>\n",
       "<style scoped>\n",
       "    .dataframe tbody tr th:only-of-type {\n",
       "        vertical-align: middle;\n",
       "    }\n",
       "\n",
       "    .dataframe tbody tr th {\n",
       "        vertical-align: top;\n",
       "    }\n",
       "\n",
       "    .dataframe thead th {\n",
       "        text-align: right;\n",
       "    }\n",
       "</style>\n",
       "<table border=\"1\" class=\"dataframe\">\n",
       "  <thead>\n",
       "    <tr style=\"text-align: right;\">\n",
       "      <th></th>\n",
       "      <th>session_id</th>\n",
       "      <th>day</th>\n",
       "      <th>item_id</th>\n",
       "      <th>category</th>\n",
       "      <th>timestamp/age_days</th>\n",
       "      <th>timestamp/weekday/sin</th>\n",
       "    </tr>\n",
       "  </thead>\n",
       "  <tbody>\n",
       "    <tr>\n",
       "      <th>0</th>\n",
       "      <td>71620</td>\n",
       "      <td>3</td>\n",
       "      <td>12267</td>\n",
       "      <td>94</td>\n",
       "      <td>0.985003</td>\n",
       "      <td>0.430432</td>\n",
       "    </tr>\n",
       "    <tr>\n",
       "      <th>1</th>\n",
       "      <td>74490</td>\n",
       "      <td>4</td>\n",
       "      <td>10727</td>\n",
       "      <td>55</td>\n",
       "      <td>0.488696</td>\n",
       "      <td>0.208056</td>\n",
       "    </tr>\n",
       "    <tr>\n",
       "      <th>2</th>\n",
       "      <td>78665</td>\n",
       "      <td>2</td>\n",
       "      <td>6525</td>\n",
       "      <td>171</td>\n",
       "      <td>0.703520</td>\n",
       "      <td>0.429791</td>\n",
       "    </tr>\n",
       "    <tr>\n",
       "      <th>3</th>\n",
       "      <td>78260</td>\n",
       "      <td>8</td>\n",
       "      <td>38001</td>\n",
       "      <td>234</td>\n",
       "      <td>0.503243</td>\n",
       "      <td>0.036423</td>\n",
       "    </tr>\n",
       "    <tr>\n",
       "      <th>4</th>\n",
       "      <td>74709</td>\n",
       "      <td>7</td>\n",
       "      <td>17191</td>\n",
       "      <td>13</td>\n",
       "      <td>0.435430</td>\n",
       "      <td>0.023882</td>\n",
       "    </tr>\n",
       "  </tbody>\n",
       "</table>\n",
       "</div>"
      ],
      "text/plain": [
       "   session_id  day  item_id  category  timestamp/age_days  \\\n",
       "0       71620    3    12267        94            0.985003   \n",
       "1       74490    4    10727        55            0.488696   \n",
       "2       78665    2     6525       171            0.703520   \n",
       "3       78260    8    38001       234            0.503243   \n",
       "4       74709    7    17191        13            0.435430   \n",
       "\n",
       "   timestamp/weekday/sin  \n",
       "0               0.430432  \n",
       "1               0.208056  \n",
       "2               0.429791  \n",
       "3               0.036423  \n",
       "4               0.023882  "
      ]
     },
     "execution_count": 4,
     "metadata": {},
     "output_type": "execute_result"
    }
   ],
   "source": [
    "NUM_ROWS = 100000\n",
    "inputs = {\n",
    "    'session_id': numpy.random.randint(70000, 80000, NUM_ROWS),\n",
    "    'day': numpy.random.randint(1, 10, NUM_ROWS),\n",
    "    'item_id': numpy.random.randint(1, 51996, NUM_ROWS),\n",
    "    'category': numpy.random.randint(0, 332, NUM_ROWS),\n",
    "    'timestamp/age_days': numpy.random.uniform(0, 1, NUM_ROWS),\n",
    "    'timestamp/weekday/sin' : numpy.random.uniform(0, 1, NUM_ROWS),\n",
    "    }\n",
    "df = cudf.DataFrame(inputs)\n",
    "df.head()"
   ]
  },
  {
   "cell_type": "markdown",
   "id": "8a1ee9ea",
   "metadata": {},
   "source": [
    "## Feature Engineering with NVTabular"
   ]
  },
  {
   "cell_type": "markdown",
   "id": "4aa85a60",
   "metadata": {},
   "source": [
    "Deep Learning models require the input feature in a specific format. Categorical features needs to be continuous integers (0, ..., |C|) to use them with an embedding layer. We will use NVTabular to preprocess the categorical features, so that all categorical columns will be encoded to continuous integers. Note that we also add `1` after we categorify the categorical columns, the reason for that we want the encoded null values to start from `1` instead of `0` because we reserve `0` for padding the seqeunce features.\n",
    "\n",
    "Here our goal is to create session-based features.  In this cell, we are creating temporal features and grouping them together at the session level, sorting the interactions by time. Note that we also trim each feature sequence in a  session to a certain length. Here, we use the NVTabular library so that we can easily preprocess and create features in a couple of lines on a GPU."
   ]
  },
  {
   "cell_type": "code",
   "execution_count": 5,
   "id": "6cc24e91",
   "metadata": {},
   "outputs": [
    {
     "name": "stderr",
     "output_type": "stream",
     "text": [
      "/nvtabular/nvtabular/workflow/node.py:45: FutureWarning: The `[\"a\", \"b\", \"c\"] >> ops.Operator` syntax for creating a `ColumnGroup` has been deprecated in NVTabular 21.09 and will be removed in a future version.\n",
      "  warnings.warn(\n"
     ]
    }
   ],
   "source": [
    "# Categorify categorical features\n",
    "\n",
    "categ_feats = ['session_id', 'item_id', 'category'] >> nvt.ops.Categorify() >> nvt.ops.LambdaOp(lambda col: col +1)\n",
    "# Define Groupby Workflow\n",
    "groupby_feats = categ_feats + ['day', 'timestamp/age_days', 'timestamp/weekday/sin']\n",
    "\n",
    "groupby_features = groupby_feats >> nvt.ops.Groupby(\n",
    "    groupby_cols=[\"session_id\"], \n",
    "    aggs={\n",
    "        \"item_id\": [\"list\", \"count\"],\n",
    "        \"category\": [\"list\"],     \n",
    "        \"day\": [\"first\"],\n",
    "        \"timestamp/age_days\": [\"list\"],\n",
    "        'timestamp/weekday/sin': [\"list\"],\n",
    "        },\n",
    "    name_sep=\"-\")\n",
    "\n",
    "\n",
    "groupby_features_nonlist = [x for x in groupby_features.output_columns.names if '-list' not in x]\n",
    "\n",
    "# Trim sessions to first 20 items \n",
    "groupby_features_trim = ((groupby_features - groupby_features_nonlist)) >> nvt.ops.ListSlice(0,20) >> nvt.ops.Rename(postfix = '_trim')\n",
    "\n",
    "MINIMUM_SESSION_LENGTH = 2\n",
    "\n",
    "selected_features = groupby_features[groupby_features_nonlist] + groupby_features_trim\n",
    "\n",
    "# select sessions with session length > 1\n",
    "filtered_sessions = (selected_features) >> nvt.ops.Filter(f=lambda df: df[\"item_id-count\"] >= MINIMUM_SESSION_LENGTH)\n",
    "\n",
    "workflow = nvt.Workflow(filtered_sessions)\n",
    "dataset = nvt.Dataset(df, cpu=False)\n",
    "workflow.fit(dataset)\n",
    "sessions_gdf = workflow.transform(dataset).to_ddf().compute()"
   ]
  },
  {
   "cell_type": "code",
   "execution_count": 6,
   "id": "da7e6b17",
   "metadata": {},
   "outputs": [
    {
     "data": {
      "text/html": [
       "<div>\n",
       "<style scoped>\n",
       "    .dataframe tbody tr th:only-of-type {\n",
       "        vertical-align: middle;\n",
       "    }\n",
       "\n",
       "    .dataframe tbody tr th {\n",
       "        vertical-align: top;\n",
       "    }\n",
       "\n",
       "    .dataframe thead th {\n",
       "        text-align: right;\n",
       "    }\n",
       "</style>\n",
       "<table border=\"1\" class=\"dataframe\">\n",
       "  <thead>\n",
       "    <tr style=\"text-align: right;\">\n",
       "      <th></th>\n",
       "      <th>item_id-count</th>\n",
       "      <th>session_id</th>\n",
       "      <th>day-first</th>\n",
       "      <th>item_id-list_trim</th>\n",
       "      <th>category-list_trim</th>\n",
       "      <th>timestamp/weekday/sin-list_trim</th>\n",
       "      <th>timestamp/age_days-list_trim</th>\n",
       "    </tr>\n",
       "  </thead>\n",
       "  <tbody>\n",
       "    <tr>\n",
       "      <th>0</th>\n",
       "      <td>21</td>\n",
       "      <td>2</td>\n",
       "      <td>9</td>\n",
       "      <td>[840, 2951, 25526, 40443, 24932, 14475, 17653,...</td>\n",
       "      <td>[140, 150, 263, 295, 266, 106, 39, 322, 147, 1...</td>\n",
       "      <td>[0.028410835321902583, 0.9691826933247304, 0.6...</td>\n",
       "      <td>[0.2689724161281237, 0.16797748135413082, 0.21...</td>\n",
       "    </tr>\n",
       "    <tr>\n",
       "      <th>1</th>\n",
       "      <td>21</td>\n",
       "      <td>3</td>\n",
       "      <td>8</td>\n",
       "      <td>[26650, 6982, 41154, 6679, 30911, 3117, 4867, ...</td>\n",
       "      <td>[219, 130, 22, 308, 264, 208, 47, 103, 212, 28...</td>\n",
       "      <td>[0.9923099491428694, 0.7445460561955058, 0.130...</td>\n",
       "      <td>[0.43645313554838305, 0.6568401890098505, 0.13...</td>\n",
       "    </tr>\n",
       "    <tr>\n",
       "      <th>2</th>\n",
       "      <td>21</td>\n",
       "      <td>4</td>\n",
       "      <td>3</td>\n",
       "      <td>[26817, 11285, 12128, 37192, 38653, 23904, 110...</td>\n",
       "      <td>[120, 25, 18, 16, 129, 333, 164, 78, 4, 195, 2...</td>\n",
       "      <td>[0.990841258040863, 0.24163118628953406, 0.254...</td>\n",
       "      <td>[0.2304644324273546, 0.42607898450166937, 0.52...</td>\n",
       "    </tr>\n",
       "  </tbody>\n",
       "</table>\n",
       "</div>"
      ],
      "text/plain": [
       "   item_id-count  session_id  day-first  \\\n",
       "0             21           2          9   \n",
       "1             21           3          8   \n",
       "2             21           4          3   \n",
       "\n",
       "                                   item_id-list_trim  \\\n",
       "0  [840, 2951, 25526, 40443, 24932, 14475, 17653,...   \n",
       "1  [26650, 6982, 41154, 6679, 30911, 3117, 4867, ...   \n",
       "2  [26817, 11285, 12128, 37192, 38653, 23904, 110...   \n",
       "\n",
       "                                  category-list_trim  \\\n",
       "0  [140, 150, 263, 295, 266, 106, 39, 322, 147, 1...   \n",
       "1  [219, 130, 22, 308, 264, 208, 47, 103, 212, 28...   \n",
       "2  [120, 25, 18, 16, 129, 333, 164, 78, 4, 195, 2...   \n",
       "\n",
       "                     timestamp/weekday/sin-list_trim  \\\n",
       "0  [0.028410835321902583, 0.9691826933247304, 0.6...   \n",
       "1  [0.9923099491428694, 0.7445460561955058, 0.130...   \n",
       "2  [0.990841258040863, 0.24163118628953406, 0.254...   \n",
       "\n",
       "                        timestamp/age_days-list_trim  \n",
       "0  [0.2689724161281237, 0.16797748135413082, 0.21...  \n",
       "1  [0.43645313554838305, 0.6568401890098505, 0.13...  \n",
       "2  [0.2304644324273546, 0.42607898450166937, 0.52...  "
      ]
     },
     "execution_count": 6,
     "metadata": {},
     "output_type": "execute_result"
    }
   ],
   "source": [
    "sessions_gdf.head(3)"
   ]
  },
  {
   "cell_type": "markdown",
   "id": "c4e8d609",
   "metadata": {},
   "source": [
    "## Export pre-processed data by day¶"
   ]
  },
  {
   "cell_type": "code",
   "execution_count": 7,
   "id": "82d44131",
   "metadata": {},
   "outputs": [],
   "source": [
    "OUTPUT_DATA_DIR = os.environ.get(\"OUTPUT_DATA_DIR\", INPUT_DATA_DIR + \"output\")\n",
    "\n",
    "PARTITION_COL = 'day-first'\n",
    "\n",
    "# Convert to a Dataset and write out hive-partitioned data to disk\n",
    "workflow.transform(dataset).to_parquet(OUTPUT_DATA_DIR, partition_on=[PARTITION_COL])"
   ]
  },
  {
   "cell_type": "code",
   "execution_count": 8,
   "id": "8d38b07f",
   "metadata": {},
   "outputs": [],
   "source": [
    "OUTPUT_FOLDER = os.environ.get(\"OUTPUT_DATA_DIR\", INPUT_DATA_DIR + \"sessions_by_day\")\n",
    "!mkdir -p $OUTPUT_FOLDER"
   ]
  },
  {
   "cell_type": "code",
   "execution_count": 9,
   "id": "666b1ca9",
   "metadata": {},
   "outputs": [],
   "source": [
    "days_folders = [f for f in sorted(os.listdir(OUTPUT_DATA_DIR)) if f.startswith(PARTITION_COL)]\n",
    "for day_folder in days_folders:\n",
    "    df = cudf.read_parquet(os.path.join(OUTPUT_DATA_DIR, day_folder))\n",
    "    out_folder = os.path.join(OUTPUT_FOLDER, day_folder.replace('day-first=', ''))\n",
    "    os.makedirs(out_folder, exist_ok=True)\n",
    "    cp.random.seed(1)\n",
    "    random_values = cp.random.rand(len(df))\n",
    "    # Extracts 80% , 10%  and 10% for train, valid and test set, respectively. \n",
    "    train_set = df[random_values <= 0.80]\n",
    "    train_set.to_parquet(os.path.join(out_folder, 'train.parquet'))\n",
    "    \n",
    "    valid_set = df[(random_values > 0.80) &  (random_values < 0.90)]\n",
    "    valid_set.to_parquet(os.path.join(out_folder, 'valid.parquet'))\n",
    "    \n",
    "    test_set = df[random_values >= 0.90]\n",
    "    test_set.to_parquet(os.path.join(out_folder, 'test.parquet'))"
   ]
  },
  {
   "cell_type": "markdown",
   "id": "953e868c",
   "metadata": {},
   "source": [
    "## Checking the pre-processing outputs¶"
   ]
  },
  {
   "cell_type": "code",
   "execution_count": 10,
   "id": "645023be",
   "metadata": {},
   "outputs": [],
   "source": [
    "TRAIN_PATHS = sorted(glob.glob(os.path.join(OUTPUT_FOLDER, \"1\", \"train.parquet\")))"
   ]
  },
  {
   "cell_type": "code",
   "execution_count": 12,
   "id": "45082763",
   "metadata": {},
   "outputs": [
    {
     "data": {
      "text/html": [
       "<div>\n",
       "<style scoped>\n",
       "    .dataframe tbody tr th:only-of-type {\n",
       "        vertical-align: middle;\n",
       "    }\n",
       "\n",
       "    .dataframe tbody tr th {\n",
       "        vertical-align: top;\n",
       "    }\n",
       "\n",
       "    .dataframe thead th {\n",
       "        text-align: right;\n",
       "    }\n",
       "</style>\n",
       "<table border=\"1\" class=\"dataframe\">\n",
       "  <thead>\n",
       "    <tr style=\"text-align: right;\">\n",
       "      <th></th>\n",
       "      <th>item_id-count</th>\n",
       "      <th>session_id</th>\n",
       "      <th>item_id-list_trim</th>\n",
       "      <th>category-list_trim</th>\n",
       "      <th>timestamp/weekday/sin-list_trim</th>\n",
       "      <th>timestamp/age_days-list_trim</th>\n",
       "    </tr>\n",
       "  </thead>\n",
       "  <tbody>\n",
       "    <tr>\n",
       "      <th>0</th>\n",
       "      <td>20</td>\n",
       "      <td>9</td>\n",
       "      <td>[2554, 15667, 96, 1133, 1429, 735, 22710, 3014...</td>\n",
       "      <td>[50, 33, 43, 244, 192, 76, 218, 7, 167, 280, 3...</td>\n",
       "      <td>[0.3991574138561549, 0.2659848395499488, 0.289...</td>\n",
       "      <td>[0.9929986679944129, 0.4762350664816781, 0.491...</td>\n",
       "    </tr>\n",
       "    <tr>\n",
       "      <th>1</th>\n",
       "      <td>19</td>\n",
       "      <td>31</td>\n",
       "      <td>[18616, 6953, 13177, 38148, 28445, 14767, 2285...</td>\n",
       "      <td>[100, 63, 185, 253, 73, 233, 110, 34, 76, 189,...</td>\n",
       "      <td>[0.6111753639455862, 0.37635135545573795, 0.24...</td>\n",
       "      <td>[0.04225290336699772, 0.5073988359077798, 0.99...</td>\n",
       "    </tr>\n",
       "    <tr>\n",
       "      <th>2</th>\n",
       "      <td>19</td>\n",
       "      <td>43</td>\n",
       "      <td>[29532, 41644, 43485, 15190, 1155, 15879, 3009...</td>\n",
       "      <td>[182, 163, 190, 274, 160, 217, 145, 174, 124, ...</td>\n",
       "      <td>[0.3086618798967069, 0.6947151316284855, 0.918...</td>\n",
       "      <td>[0.8120340338721659, 0.6867329960142494, 0.039...</td>\n",
       "    </tr>\n",
       "    <tr>\n",
       "      <th>4</th>\n",
       "      <td>18</td>\n",
       "      <td>79</td>\n",
       "      <td>[13583, 3940, 10587, 11814, 44121, 10095, 2397...</td>\n",
       "      <td>[90, 92, 194, 38, 174, 148, 97, 96, 140, 204, ...</td>\n",
       "      <td>[0.868993975355618, 0.9613542980653605, 0.3258...</td>\n",
       "      <td>[0.029050675830974204, 0.29788855062538133, 0....</td>\n",
       "    </tr>\n",
       "    <tr>\n",
       "      <th>5</th>\n",
       "      <td>18</td>\n",
       "      <td>83</td>\n",
       "      <td>[6660, 42762, 17279, 17557, 38180, 39654, 2729...</td>\n",
       "      <td>[91, 16, 76, 68, 121, 70, 70, 33, 2, 170, 25, ...</td>\n",
       "      <td>[0.11905301048777017, 0.2247034473227557, 0.65...</td>\n",
       "      <td>[0.8323905850084493, 0.011296206141988008, 0.3...</td>\n",
       "    </tr>\n",
       "  </tbody>\n",
       "</table>\n",
       "</div>"
      ],
      "text/plain": [
       "   item_id-count  session_id  \\\n",
       "0             20           9   \n",
       "1             19          31   \n",
       "2             19          43   \n",
       "4             18          79   \n",
       "5             18          83   \n",
       "\n",
       "                                   item_id-list_trim  \\\n",
       "0  [2554, 15667, 96, 1133, 1429, 735, 22710, 3014...   \n",
       "1  [18616, 6953, 13177, 38148, 28445, 14767, 2285...   \n",
       "2  [29532, 41644, 43485, 15190, 1155, 15879, 3009...   \n",
       "4  [13583, 3940, 10587, 11814, 44121, 10095, 2397...   \n",
       "5  [6660, 42762, 17279, 17557, 38180, 39654, 2729...   \n",
       "\n",
       "                                  category-list_trim  \\\n",
       "0  [50, 33, 43, 244, 192, 76, 218, 7, 167, 280, 3...   \n",
       "1  [100, 63, 185, 253, 73, 233, 110, 34, 76, 189,...   \n",
       "2  [182, 163, 190, 274, 160, 217, 145, 174, 124, ...   \n",
       "4  [90, 92, 194, 38, 174, 148, 97, 96, 140, 204, ...   \n",
       "5  [91, 16, 76, 68, 121, 70, 70, 33, 2, 170, 25, ...   \n",
       "\n",
       "                     timestamp/weekday/sin-list_trim  \\\n",
       "0  [0.3991574138561549, 0.2659848395499488, 0.289...   \n",
       "1  [0.6111753639455862, 0.37635135545573795, 0.24...   \n",
       "2  [0.3086618798967069, 0.6947151316284855, 0.918...   \n",
       "4  [0.868993975355618, 0.9613542980653605, 0.3258...   \n",
       "5  [0.11905301048777017, 0.2247034473227557, 0.65...   \n",
       "\n",
       "                        timestamp/age_days-list_trim  \n",
       "0  [0.9929986679944129, 0.4762350664816781, 0.491...  \n",
       "1  [0.04225290336699772, 0.5073988359077798, 0.99...  \n",
       "2  [0.8120340338721659, 0.6867329960142494, 0.039...  \n",
       "4  [0.029050675830974204, 0.29788855062538133, 0....  \n",
       "5  [0.8323905850084493, 0.011296206141988008, 0.3...  "
      ]
     },
     "execution_count": 12,
     "metadata": {},
     "output_type": "execute_result"
    }
   ],
   "source": [
    "gdf = cudf.read_parquet(TRAIN_PATHS[0])\n",
    "gdf.head()"
   ]
  }
 ],
 "metadata": {
  "kernelspec": {
   "display_name": "Python 3 (ipykernel)",
   "language": "python",
   "name": "python3"
  },
  "language_info": {
   "codemirror_mode": {
    "name": "ipython",
    "version": 3
   },
   "file_extension": ".py",
   "mimetype": "text/x-python",
   "name": "python",
   "nbconvert_exporter": "python",
   "pygments_lexer": "ipython3",
   "version": "3.8.10"
  }
 },
 "nbformat": 4,
 "nbformat_minor": 5
}
