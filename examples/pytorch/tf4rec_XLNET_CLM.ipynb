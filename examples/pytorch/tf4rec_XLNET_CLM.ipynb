{
 "cells": [
  {
   "cell_type": "code",
   "execution_count": 1,
   "id": "standing-wages",
   "metadata": {},
   "outputs": [],
   "source": [
    "import os\n",
    "import torch \n",
    "import numpy\n",
    "import pandas as pd \n",
    "import cudf\n",
    "import cupy\n",
    "import nvtabular as nvt"
   ]
  },
  {
   "cell_type": "markdown",
   "id": "colored-solution",
   "metadata": {},
   "source": [
    "### Create random input data similar to pre-processed Yoochoose dataset structure "
   ]
  },
  {
   "cell_type": "code",
   "execution_count": 2,
   "id": "invalid-rebound",
   "metadata": {},
   "outputs": [
    {
     "data": {
      "text/html": [
       "<div>\n",
       "<style scoped>\n",
       "    .dataframe tbody tr th:only-of-type {\n",
       "        vertical-align: middle;\n",
       "    }\n",
       "\n",
       "    .dataframe tbody tr th {\n",
       "        vertical-align: top;\n",
       "    }\n",
       "\n",
       "    .dataframe thead th {\n",
       "        text-align: right;\n",
       "    }\n",
       "</style>\n",
       "<table border=\"1\" class=\"dataframe\">\n",
       "  <thead>\n",
       "    <tr style=\"text-align: right;\">\n",
       "      <th></th>\n",
       "      <th>session_id</th>\n",
       "      <th>day</th>\n",
       "      <th>item_id</th>\n",
       "      <th>category</th>\n",
       "      <th>timestamp/age_days</th>\n",
       "      <th>timestamp/weekday/sin</th>\n",
       "      <th>purchase</th>\n",
       "    </tr>\n",
       "  </thead>\n",
       "  <tbody>\n",
       "    <tr>\n",
       "      <th>0</th>\n",
       "      <td>72551</td>\n",
       "      <td>9</td>\n",
       "      <td>19127</td>\n",
       "      <td>106</td>\n",
       "      <td>0.228705</td>\n",
       "      <td>0.718865</td>\n",
       "      <td>0</td>\n",
       "    </tr>\n",
       "    <tr>\n",
       "      <th>1</th>\n",
       "      <td>72085</td>\n",
       "      <td>4</td>\n",
       "      <td>41292</td>\n",
       "      <td>208</td>\n",
       "      <td>0.080211</td>\n",
       "      <td>0.052820</td>\n",
       "      <td>0</td>\n",
       "    </tr>\n",
       "    <tr>\n",
       "      <th>2</th>\n",
       "      <td>77017</td>\n",
       "      <td>9</td>\n",
       "      <td>49099</td>\n",
       "      <td>91</td>\n",
       "      <td>0.539491</td>\n",
       "      <td>0.717076</td>\n",
       "      <td>0</td>\n",
       "    </tr>\n",
       "    <tr>\n",
       "      <th>3</th>\n",
       "      <td>76445</td>\n",
       "      <td>1</td>\n",
       "      <td>41223</td>\n",
       "      <td>81</td>\n",
       "      <td>0.923112</td>\n",
       "      <td>0.421609</td>\n",
       "      <td>0</td>\n",
       "    </tr>\n",
       "    <tr>\n",
       "      <th>4</th>\n",
       "      <td>76360</td>\n",
       "      <td>5</td>\n",
       "      <td>25711</td>\n",
       "      <td>172</td>\n",
       "      <td>0.827265</td>\n",
       "      <td>0.188140</td>\n",
       "      <td>0</td>\n",
       "    </tr>\n",
       "    <tr>\n",
       "      <th>...</th>\n",
       "      <td>...</td>\n",
       "      <td>...</td>\n",
       "      <td>...</td>\n",
       "      <td>...</td>\n",
       "      <td>...</td>\n",
       "      <td>...</td>\n",
       "      <td>...</td>\n",
       "    </tr>\n",
       "    <tr>\n",
       "      <th>199995</th>\n",
       "      <td>77441</td>\n",
       "      <td>3</td>\n",
       "      <td>16487</td>\n",
       "      <td>63</td>\n",
       "      <td>0.130175</td>\n",
       "      <td>0.343054</td>\n",
       "      <td>1</td>\n",
       "    </tr>\n",
       "    <tr>\n",
       "      <th>199996</th>\n",
       "      <td>71514</td>\n",
       "      <td>6</td>\n",
       "      <td>35285</td>\n",
       "      <td>252</td>\n",
       "      <td>0.394108</td>\n",
       "      <td>0.773249</td>\n",
       "      <td>1</td>\n",
       "    </tr>\n",
       "    <tr>\n",
       "      <th>199997</th>\n",
       "      <td>75334</td>\n",
       "      <td>8</td>\n",
       "      <td>44853</td>\n",
       "      <td>90</td>\n",
       "      <td>0.908994</td>\n",
       "      <td>0.452033</td>\n",
       "      <td>0</td>\n",
       "    </tr>\n",
       "    <tr>\n",
       "      <th>199998</th>\n",
       "      <td>74428</td>\n",
       "      <td>4</td>\n",
       "      <td>10683</td>\n",
       "      <td>266</td>\n",
       "      <td>0.506767</td>\n",
       "      <td>0.612449</td>\n",
       "      <td>1</td>\n",
       "    </tr>\n",
       "    <tr>\n",
       "      <th>199999</th>\n",
       "      <td>70835</td>\n",
       "      <td>2</td>\n",
       "      <td>49666</td>\n",
       "      <td>123</td>\n",
       "      <td>0.385198</td>\n",
       "      <td>0.932668</td>\n",
       "      <td>0</td>\n",
       "    </tr>\n",
       "  </tbody>\n",
       "</table>\n",
       "<p>200000 rows × 7 columns</p>\n",
       "</div>"
      ],
      "text/plain": [
       "        session_id  day  item_id  category  timestamp/age_days  \\\n",
       "0            72551    9    19127       106            0.228705   \n",
       "1            72085    4    41292       208            0.080211   \n",
       "2            77017    9    49099        91            0.539491   \n",
       "3            76445    1    41223        81            0.923112   \n",
       "4            76360    5    25711       172            0.827265   \n",
       "...            ...  ...      ...       ...                 ...   \n",
       "199995       77441    3    16487        63            0.130175   \n",
       "199996       71514    6    35285       252            0.394108   \n",
       "199997       75334    8    44853        90            0.908994   \n",
       "199998       74428    4    10683       266            0.506767   \n",
       "199999       70835    2    49666       123            0.385198   \n",
       "\n",
       "        timestamp/weekday/sin  purchase  \n",
       "0                    0.718865         0  \n",
       "1                    0.052820         0  \n",
       "2                    0.717076         0  \n",
       "3                    0.421609         0  \n",
       "4                    0.188140         0  \n",
       "...                       ...       ...  \n",
       "199995               0.343054         1  \n",
       "199996               0.773249         1  \n",
       "199997               0.452033         0  \n",
       "199998               0.612449         1  \n",
       "199999               0.932668         0  \n",
       "\n",
       "[200000 rows x 7 columns]"
      ]
     },
     "execution_count": 2,
     "metadata": {},
     "output_type": "execute_result"
    }
   ],
   "source": [
    "NUM_ROWS = 200000\n",
    "session_length = 20\n",
    "inputs = {\n",
    "    'session_id': numpy.random.randint(70000, 80000, NUM_ROWS),\n",
    "    'day': numpy.random.randint(1, 10, NUM_ROWS),\n",
    "    'item_id': numpy.random.randint(1, 51996, NUM_ROWS),\n",
    "    'category': numpy.random.randint(0, 332, NUM_ROWS),\n",
    "    'timestamp/age_days': numpy.random.uniform(0, 1, NUM_ROWS),\n",
    "    'timestamp/weekday/sin' : numpy.random.uniform(0, 1, NUM_ROWS),\n",
    "    'purchase': numpy.random.randint(0, 2, NUM_ROWS)\n",
    "    }\n",
    "random_data = cudf.DataFrame(inputs)\n",
    "random_data"
   ]
  },
  {
   "cell_type": "markdown",
   "id": "polished-madrid",
   "metadata": {},
   "source": [
    "### NVTabular workflow"
   ]
  },
  {
   "cell_type": "markdown",
   "id": "certain-generator",
   "metadata": {},
   "source": [
    "- #TODO : Change the workflow using tagging API once it is finalized  "
   ]
  },
  {
   "cell_type": "code",
   "execution_count": 3,
   "id": "distant-original",
   "metadata": {},
   "outputs": [],
   "source": [
    "# Define Groupby Workflow\n",
    "groupby_features = list(inputs.keys()) >> nvt.ops.Groupby(\n",
    "    groupby_cols=[\"session_id\"], \n",
    "    aggs={\n",
    "        \"item_id\": [\"list\"],\n",
    "        \"category\": [\"list\"],     \n",
    "        \"day\": [\"first\"],\n",
    "        \"purchase\": [\"first\"],\n",
    "        \"timestamp/age_days\": [\"list\"],\n",
    "        'timestamp/weekday/sin': [\"list\"],\n",
    "        },\n",
    "    name_sep=\"-\")\n",
    "# Trim sessions to first 20 items \n",
    "groupby_features_list = [x for x in groupby_features.output_columns.names if '-list' in x]\n",
    "\n",
    "#groupby_features_nonlist:  need to fix a BUG related to adding two workflow nodes\n",
    "#groupby_features_trim = groupby_features_list >> nvt.ops.ListSlice(0,20) >> nvt.ops.Rename(postfix = '_trim')\n",
    "workflow = nvt.Workflow(groupby_features)\n",
    "dataset = nvt.Dataset(random_data, cpu=False)\n",
    "workflow.fit(dataset)\n",
    "sessions_gdf = workflow.transform(dataset).to_ddf().compute()\n",
    "\n",
    "# Re-compute tri: to be removed when the BUG of two workflow nodes is fixed : \n",
    "groupby_features_trim =  groupby_features_list >> nvt.ops.ListSlice(0,20) >> nvt.ops.Rename(postfix = '_trim')\n",
    "workflow = nvt.Workflow(list(sessions_gdf.columns)  + groupby_features_trim)\n",
    "dataset = nvt.Dataset(sessions_gdf, cpu=False)\n",
    "workflow.fit(dataset)\n",
    "sessions_gdf = workflow.transform(dataset).to_ddf().compute()"
   ]
  },
  {
   "cell_type": "code",
   "execution_count": 4,
   "id": "leading-bedroom",
   "metadata": {},
   "outputs": [
    {
     "data": {
      "text/html": [
       "<div>\n",
       "<style scoped>\n",
       "    .dataframe tbody tr th:only-of-type {\n",
       "        vertical-align: middle;\n",
       "    }\n",
       "\n",
       "    .dataframe tbody tr th {\n",
       "        vertical-align: top;\n",
       "    }\n",
       "\n",
       "    .dataframe thead th {\n",
       "        text-align: right;\n",
       "    }\n",
       "</style>\n",
       "<table border=\"1\" class=\"dataframe\">\n",
       "  <thead>\n",
       "    <tr style=\"text-align: right;\">\n",
       "      <th></th>\n",
       "      <th>timestamp/age_days-list_trim</th>\n",
       "      <th>item_id-list_trim</th>\n",
       "      <th>category-list_trim</th>\n",
       "      <th>timestamp/weekday/sin-list_trim</th>\n",
       "      <th>timestamp/age_days-list</th>\n",
       "      <th>item_id-list</th>\n",
       "      <th>category-list</th>\n",
       "      <th>timestamp/weekday/sin-list</th>\n",
       "      <th>day-first</th>\n",
       "      <th>session_id</th>\n",
       "      <th>purchase-first</th>\n",
       "    </tr>\n",
       "  </thead>\n",
       "  <tbody>\n",
       "    <tr>\n",
       "      <th>0</th>\n",
       "      <td>[0.4196480297033909, 0.047959138751666686, 0.9...</td>\n",
       "      <td>[10056, 17344, 28903, 32735, 27977, 47981, 297...</td>\n",
       "      <td>[4, 133, 104, 241, 69, 183, 116, 102, 155, 31,...</td>\n",
       "      <td>[0.6764826947365993, 0.50910225618793, 0.72312...</td>\n",
       "      <td>[0.4196480297033909, 0.047959138751666686, 0.9...</td>\n",
       "      <td>[10056, 17344, 28903, 32735, 27977, 47981, 297...</td>\n",
       "      <td>[4, 133, 104, 241, 69, 183, 116, 102, 155, 31,...</td>\n",
       "      <td>[0.6764826947365993, 0.50910225618793, 0.72312...</td>\n",
       "      <td>4</td>\n",
       "      <td>70000</td>\n",
       "      <td>0</td>\n",
       "    </tr>\n",
       "    <tr>\n",
       "      <th>1</th>\n",
       "      <td>[0.6019363898760877, 0.6859739107134702, 0.417...</td>\n",
       "      <td>[44601, 37626, 18035, 32663, 44133, 33738, 450...</td>\n",
       "      <td>[107, 152, 268, 237, 38, 186, 11, 214, 231, 21...</td>\n",
       "      <td>[0.3839594036335826, 0.8950368033691941, 0.866...</td>\n",
       "      <td>[0.6019363898760877, 0.6859739107134702, 0.417...</td>\n",
       "      <td>[44601, 37626, 18035, 32663, 44133, 33738, 450...</td>\n",
       "      <td>[107, 152, 268, 237, 38, 186, 11, 214, 231, 21...</td>\n",
       "      <td>[0.3839594036335826, 0.8950368033691941, 0.866...</td>\n",
       "      <td>4</td>\n",
       "      <td>70001</td>\n",
       "      <td>0</td>\n",
       "    </tr>\n",
       "    <tr>\n",
       "      <th>2</th>\n",
       "      <td>[0.6770391070589014, 0.8220821243093939, 0.288...</td>\n",
       "      <td>[50401, 4531, 36090, 14544, 48050, 2897, 40726...</td>\n",
       "      <td>[123, 103, 268, 97, 78, 241, 283, 312, 42, 193...</td>\n",
       "      <td>[0.20149853173406074, 0.08520662535055312, 0.5...</td>\n",
       "      <td>[0.6770391070589014, 0.8220821243093939, 0.288...</td>\n",
       "      <td>[50401, 4531, 36090, 14544, 48050, 2897, 40726...</td>\n",
       "      <td>[123, 103, 268, 97, 78, 241, 283, 312, 42, 193...</td>\n",
       "      <td>[0.20149853173406074, 0.08520662535055312, 0.5...</td>\n",
       "      <td>4</td>\n",
       "      <td>70002</td>\n",
       "      <td>1</td>\n",
       "    </tr>\n",
       "  </tbody>\n",
       "</table>\n",
       "</div>"
      ],
      "text/plain": [
       "                        timestamp/age_days-list_trim  \\\n",
       "0  [0.4196480297033909, 0.047959138751666686, 0.9...   \n",
       "1  [0.6019363898760877, 0.6859739107134702, 0.417...   \n",
       "2  [0.6770391070589014, 0.8220821243093939, 0.288...   \n",
       "\n",
       "                                   item_id-list_trim  \\\n",
       "0  [10056, 17344, 28903, 32735, 27977, 47981, 297...   \n",
       "1  [44601, 37626, 18035, 32663, 44133, 33738, 450...   \n",
       "2  [50401, 4531, 36090, 14544, 48050, 2897, 40726...   \n",
       "\n",
       "                                  category-list_trim  \\\n",
       "0  [4, 133, 104, 241, 69, 183, 116, 102, 155, 31,...   \n",
       "1  [107, 152, 268, 237, 38, 186, 11, 214, 231, 21...   \n",
       "2  [123, 103, 268, 97, 78, 241, 283, 312, 42, 193...   \n",
       "\n",
       "                     timestamp/weekday/sin-list_trim  \\\n",
       "0  [0.6764826947365993, 0.50910225618793, 0.72312...   \n",
       "1  [0.3839594036335826, 0.8950368033691941, 0.866...   \n",
       "2  [0.20149853173406074, 0.08520662535055312, 0.5...   \n",
       "\n",
       "                             timestamp/age_days-list  \\\n",
       "0  [0.4196480297033909, 0.047959138751666686, 0.9...   \n",
       "1  [0.6019363898760877, 0.6859739107134702, 0.417...   \n",
       "2  [0.6770391070589014, 0.8220821243093939, 0.288...   \n",
       "\n",
       "                                        item_id-list  \\\n",
       "0  [10056, 17344, 28903, 32735, 27977, 47981, 297...   \n",
       "1  [44601, 37626, 18035, 32663, 44133, 33738, 450...   \n",
       "2  [50401, 4531, 36090, 14544, 48050, 2897, 40726...   \n",
       "\n",
       "                                       category-list  \\\n",
       "0  [4, 133, 104, 241, 69, 183, 116, 102, 155, 31,...   \n",
       "1  [107, 152, 268, 237, 38, 186, 11, 214, 231, 21...   \n",
       "2  [123, 103, 268, 97, 78, 241, 283, 312, 42, 193...   \n",
       "\n",
       "                          timestamp/weekday/sin-list  day-first  session_id  \\\n",
       "0  [0.6764826947365993, 0.50910225618793, 0.72312...          4       70000   \n",
       "1  [0.3839594036335826, 0.8950368033691941, 0.866...          4       70001   \n",
       "2  [0.20149853173406074, 0.08520662535055312, 0.5...          4       70002   \n",
       "\n",
       "   purchase-first  \n",
       "0               0  \n",
       "1               0  \n",
       "2               1  "
      ]
     },
     "execution_count": 4,
     "metadata": {},
     "output_type": "execute_result"
    }
   ],
   "source": [
    "sessions_gdf.head(3)"
   ]
  },
  {
   "cell_type": "markdown",
   "id": "broad-candidate",
   "metadata": {},
   "source": [
    "- We can save the workflow."
   ]
  },
  {
   "cell_type": "code",
   "execution_count": 5,
   "id": "taken-czech",
   "metadata": {},
   "outputs": [],
   "source": [
    "workflow.save('workflow_inference_test')"
   ]
  },
  {
   "cell_type": "markdown",
   "id": "scientific-collectible",
   "metadata": {},
   "source": [
    "### Export pre-processed data by day "
   ]
  },
  {
   "cell_type": "code",
   "execution_count": 6,
   "id": "streaming-property",
   "metadata": {},
   "outputs": [],
   "source": [
    "# Convert to a Dataset and write out hive-partitioned data to disk\n",
    "nvt_output_path_tmp ='./output_nvt_tmp/'\n",
    "PARTITION_COL = 'day-first'\n",
    "nvt.Dataset(sessions_gdf).to_parquet(nvt_output_path_tmp, partition_on=[PARTITION_COL])"
   ]
  },
  {
   "cell_type": "code",
   "execution_count": 7,
   "id": "absent-cooking",
   "metadata": {},
   "outputs": [],
   "source": [
    "OUTPUT_FOLDER = \"./preproc_sessions_by_day_ts/\"\n",
    "!mkdir -p $OUTPUT_FOLDER\n",
    "days_folders = [f for f in sorted(os.listdir(nvt_output_path_tmp)) if f.startswith(PARTITION_COL)]\n",
    "for day_folder in days_folders:\n",
    "    df = cudf.read_parquet(os.path.join(nvt_output_path_tmp, day_folder))\n",
    "    out_folder = os.path.join(OUTPUT_FOLDER, day_folder.replace('day-first=', ''))\n",
    "    os.makedirs(out_folder, exist_ok=True)\n",
    "    df.to_parquet(os.path.join(out_folder, 'train.parquet'))\n",
    "    \n",
    "    random_values = cupy.random.rand(len(df))\n",
    "    \n",
    "    #Extracts 10% for valid and test set. Those sessions are also in the train set, but as evaluation\n",
    "    #happens only for the subsequent day of training, that is not an issue, and we can keep the train set larger.\n",
    "    valid_set = df[random_values <= 0.10]\n",
    "    valid_set.to_parquet(os.path.join(out_folder, 'valid.parquet'))\n",
    "    \n",
    "    test_set = df[random_values >= 0.90]\n",
    "    test_set.to_parquet(os.path.join(out_folder, 'test.parquet'))"
   ]
  },
  {
   "cell_type": "markdown",
   "id": "elder-marketplace",
   "metadata": {},
   "source": [
    "# Transformers4rec model  "
   ]
  },
  {
   "cell_type": "code",
   "execution_count": 8,
   "id": "completed-lighter",
   "metadata": {},
   "outputs": [],
   "source": [
    "import torch \n",
    "import transformers4rec.torch as torch4rec\n",
    "from transformers4rec.torch import TabularSequenceFeatures, MLPBlock, SequentialBlock, Head, TransformerBlock\n",
    "\n",
    "from transformers4rec.utils.schema import DatasetSchema\n",
    "from transformers4rec.torch.head import NextItemPredictionTask\n",
    "from transformers4rec.config import transformer\n",
    "from transformers4rec.torch.ranking_metric import NDCGAt, AvgPrecisionAt, RecallAt"
   ]
  },
  {
   "cell_type": "markdown",
   "id": "polar-herald",
   "metadata": {},
   "source": [
    "- Manually set the schema "
   ]
  },
  {
   "cell_type": "code",
   "execution_count": 9,
   "id": "amber-spanking",
   "metadata": {},
   "outputs": [],
   "source": [
    "# Define schema object to pass it to the SequentialTabularFeatures\n",
    "schema = DatasetSchema.from_schema(\"schema.pb\")"
   ]
  },
  {
   "cell_type": "markdown",
   "id": "fancy-webcam",
   "metadata": {},
   "source": [
    "### Define the sequential input module"
   ]
  },
  {
   "cell_type": "markdown",
   "id": "illegal-peripheral",
   "metadata": {},
   "source": [
    "Below we define our `input` bloc using [`SequentialTabularFeatures` class](https://github.com/NVIDIA-Merlin/Transformers4Rec/blob/main/transformers4rec/torch/features/sequential.py). The `from_schema` module directly parse schema and accepts categorical and continuous sequential inputs and supports data augmentation, data aggregation, `sequential-concat` and `elementwise-sum` aggregations, the projection of the interaction embeddings and the masking tasks.\n",
    "\n",
    "`max_sequence_length` defines the maximum sequence length of our sequential input, and if `continuous_projection` argument is set,  all numerical features are concatenated and projected by a number of MLP layers."
   ]
  },
  {
   "cell_type": "code",
   "execution_count": 10,
   "id": "ancient-working",
   "metadata": {},
   "outputs": [],
   "source": [
    "inputs = TabularSequenceFeatures.from_schema(\n",
    "        schema,\n",
    "        max_sequence_length=20,\n",
    "        continuous_projection=64,\n",
    "        d_output=100,\n",
    "        masking=\"causal\",\n",
    "    )"
   ]
  },
  {
   "cell_type": "markdown",
   "id": "consecutive-encoding",
   "metadata": {},
   "source": [
    "### End-to-end session-based Transformer-based model for item prediction:"
   ]
  },
  {
   "cell_type": "markdown",
   "id": "absolute-marriage",
   "metadata": {},
   "source": [
    "- LM task + HF Transformer architecture + Next item-prediction task. \n",
    "- We build a [T4RecConfig](https://github.com/NVIDIA-Merlin/Transformers4Rec/blob/main/transformers4rec/config/transformer.py#L8) class to update the config class of the transformer architecture with the specified arguments, then load the related model. Here we use it to instantiate an XLNET model according to the  arguments (d_model, n_head, etc.), defining the model architecture.\n",
    "- [TransformerBlock](https://github.com/NVIDIA-Merlin/Transformers4Rec/blob/main/transformers4rec/torch/block/transformer.py#L37) class is created to support HF Transformers for session-based and sequential-based recommendation models.\n",
    "- [NextItemPredictionTask](https://github.com/NVIDIA-Merlin/Transformers4Rec/blob/main/transformers4rec/torch/head.py#L212) is the class to support next item prediction task."
   ]
  },
  {
   "cell_type": "code",
   "execution_count": 11,
   "id": "scenic-secondary",
   "metadata": {},
   "outputs": [],
   "source": [
    "#### Define XLNetConfig class and set default parameters \n",
    "\n",
    "# Set HF config of XLNet \n",
    "transformer_config = transformer.XLNetConfig.build(\n",
    "    d_model=64, n_head=4, n_layer=2, total_seq_length=20\n",
    ")\n",
    "# Define the model block including: inputs, masking, projection and transformer block.\n",
    "body = torch4rec.SequentialBlock(\n",
    "    inputs, torch4rec.MLPBlock([64]), torch4rec.TransformerBlock(transformer=transformer_config, masking=inputs.masking)\n",
    ")\n",
    "\n",
    "# Define the head related to next item prediction task \n",
    "head = torch4rec.Head(\n",
    "    body,\n",
    "    torch4rec.NextItemPredictionTask(weight_tying=True, hf_format=True),\n",
    "    inputs=inputs,\n",
    "    \n",
    ")\n",
    "\n",
    "# Get the end-to-end Model class \n",
    "model = torch4rec.Model(head, device='cuda')"
   ]
  },
  {
   "cell_type": "markdown",
   "id": "killing-transmission",
   "metadata": {},
   "source": [
    "# Training and evaluation"
   ]
  },
  {
   "cell_type": "markdown",
   "id": "possible-victory",
   "metadata": {},
   "source": [
    "- **Set Training arguments**"
   ]
  },
  {
   "cell_type": "code",
   "execution_count": 13,
   "id": "given-parade",
   "metadata": {},
   "outputs": [],
   "source": [
    "from transformers4rec.config.trainer import T4RecTrainingArguments\n",
    "from transformers4rec.torch import Trainer\n",
    "#Set argumentd for training \n",
    "train_args = T4RecTrainingArguments(local_rank = -1, dataloader_drop_last = True, data_loader_engine='nvtabular',\n",
    "                                  report_to = [], debug = [\"r\"], gradient_accumulation_steps = 32,\n",
    "                                  per_device_train_batch_size = 512, per_device_eval_batch_size = 32,\n",
    "                                  output_dir = \".\", use_legacy_prediction_loop = False,\n",
    "                                  max_sequence_length=20)"
   ]
  },
  {
   "cell_type": "markdown",
   "id": "wanted-minutes",
   "metadata": {},
   "source": [
    "- **Define paths to train and eval data**"
   ]
  },
  {
   "cell_type": "code",
   "execution_count": 14,
   "id": "collaborative-fleece",
   "metadata": {},
   "outputs": [],
   "source": [
    "import glob\n",
    "from transformers4rec.torch.utils.data_utils import PyarrowDataLoaderBuilder, NVTDataLoaderBuilder\n",
    "train_data_paths = glob.glob(\"./preproc_sessions_by_day_ts/*/train.parquet\")[:-1]\n",
    "eval_data_paths = glob.glob(\"./preproc_sessions_by_day_ts/*/valid.parquet\")[:-1]"
   ]
  },
  {
   "cell_type": "markdown",
   "id": "seeing-allowance",
   "metadata": {},
   "source": [
    "- **Define Trainer**"
   ]
  },
  {
   "cell_type": "code",
   "execution_count": 15,
   "id": "considerable-parking",
   "metadata": {},
   "outputs": [],
   "source": [
    "# Instantiate the T4Rec Trainer, which manages training and evaluation\n",
    "trainer = Trainer(\n",
    "    model=model,\n",
    "    args=train_args,\n",
    "    schema=schema,\n",
    "    compute_metrics=True,\n",
    "    train_dataset_or_path=train_data_paths,\n",
    "    eval_dataset_or_path=eval_data_paths,\n",
    ")"
   ]
  },
  {
   "cell_type": "markdown",
   "id": "organized-patch",
   "metadata": {},
   "source": [
    "- **Train the model**  "
   ]
  },
  {
   "cell_type": "code",
   "execution_count": 16,
   "id": "metric-tender",
   "metadata": {},
   "outputs": [
    {
     "name": "stderr",
     "output_type": "stream",
     "text": [
      "***** Running training *****\n",
      "  Num examples = 8704\n",
      "  Num Epochs = 3\n",
      "  Instantaneous batch size per device = 512\n",
      "  Total train batch size (w. parallel, distributed & accumulation) = 16384\n",
      "  Gradient Accumulation steps = 32\n",
      "  Total optimization steps = 3\n"
     ]
    },
    {
     "data": {
      "text/html": [
       "\n",
       "    <div>\n",
       "      \n",
       "      <progress value='3' max='3' style='width:300px; height:20px; vertical-align: middle;'></progress>\n",
       "      [3/3 00:03, Epoch 3/3]\n",
       "    </div>\n",
       "    <table border=\"1\" class=\"dataframe\">\n",
       "  <thead>\n",
       "    <tr style=\"text-align: left;\">\n",
       "      <th>Step</th>\n",
       "      <th>Training Loss</th>\n",
       "    </tr>\n",
       "  </thead>\n",
       "  <tbody>\n",
       "  </tbody>\n",
       "</table><p>"
      ],
      "text/plain": [
       "<IPython.core.display.HTML object>"
      ]
     },
     "metadata": {},
     "output_type": "display_data"
    },
    {
     "name": "stderr",
     "output_type": "stream",
     "text": [
      "\n",
      "\n",
      "Training completed. Do not forget to share your model on huggingface.co/models =)\n",
      "\n",
      "\n"
     ]
    },
    {
     "data": {
      "text/plain": [
       "TrainOutput(global_step=3, training_loss=5.828135808308919, metrics={'train_runtime': 5.6771, 'train_samples_per_second': 4.228, 'train_steps_per_second': 0.528, 'total_flos': 0.0, 'train_loss': 5.828135808308919, 'epoch': 3.0})"
      ]
     },
     "execution_count": 16,
     "metadata": {},
     "output_type": "execute_result"
    }
   ],
   "source": [
    "trainer.reset_lr_scheduler()\n",
    "trainer.train()"
   ]
  },
  {
   "cell_type": "markdown",
   "id": "dominant-physiology",
   "metadata": {},
   "source": [
    "- **Compute evaluation metrics**"
   ]
  },
  {
   "cell_type": "code",
   "execution_count": 17,
   "id": "colored-blank",
   "metadata": {},
   "outputs": [
    {
     "data": {
      "text/html": [
       "\n",
       "    <div>\n",
       "      \n",
       "      <progress value='68' max='26' style='width:300px; height:20px; vertical-align: middle;'></progress>\n",
       "      [26/26 00:13]\n",
       "    </div>\n",
       "    "
      ],
      "text/plain": [
       "<IPython.core.display.HTML object>"
      ]
     },
     "metadata": {},
     "output_type": "display_data"
    },
    {
     "name": "stdout",
     "output_type": "stream",
     "text": [
      "  epoch = 3.0\n",
      "  eval_avgprecisionat_10 = 8.34434395073913e-05\n",
      "  eval_avgprecisionat_20 = 0.00010814513370860368\n",
      "  eval_loss = 10.938192367553711\n",
      "  eval_ndcgat_10 = 9.643646626500413e-05\n",
      "  eval_ndcgat_20 = 0.00018513661052566022\n",
      "  eval_recallat_10 = 0.0001390723919030279\n",
      "  eval_recallat_20 = 0.0004867533571086824\n",
      "  eval_runtime = 2.1582\n",
      "  eval_samples_per_second = 385.508\n",
      "  eval_steps_per_second = 12.047\n"
     ]
    }
   ],
   "source": [
    "eval_metrics = trainer.evaluate(eval_dataset=eval_data_paths, metric_key_prefix='eval')\n",
    "for key in sorted(eval_metrics.keys()):\n",
    "    print(\"  %s = %s\" % (key, str(eval_metrics[key])))"
   ]
  },
  {
   "cell_type": "markdown",
   "id": "earlier-peace",
   "metadata": {},
   "source": [
    "- **Compute Train metrics**"
   ]
  },
  {
   "cell_type": "code",
   "execution_count": 18,
   "id": "north-greene",
   "metadata": {},
   "outputs": [
    {
     "name": "stdout",
     "output_type": "stream",
     "text": [
      "  epoch = 3.0\n",
      "  train_avgprecisionat_10 = 0.0001914666499942541\n",
      "  train_avgprecisionat_20 = 0.0001975129562197253\n",
      "  train_loss = 10.93864631652832\n",
      "  train_ndcgat_10 = 0.00020869127183686942\n",
      "  train_ndcgat_20 = 0.00023136497475206852\n",
      "  train_recallat_10 = 0.0002720841730479151\n",
      "  train_recallat_20 = 0.00036277889739722013\n",
      "  train_runtime = 1.6463\n",
      "  train_samples_per_second = 388.755\n",
      "  train_steps_per_second = 12.149\n"
     ]
    }
   ],
   "source": [
    "train_metrics = trainer.evaluate(eval_dataset=train_data_paths, metric_key_prefix='train')\n",
    "for key in sorted(train_metrics.keys()):\n",
    "    print(\"  %s = %s\" % (key, str(train_metrics[key])))"
   ]
  },
  {
   "cell_type": "markdown",
   "id": "scientific-founder",
   "metadata": {},
   "source": [
    "* **Save the model**"
   ]
  },
  {
   "cell_type": "code",
   "execution_count": 19,
   "id": "aboriginal-greek",
   "metadata": {},
   "outputs": [
    {
     "name": "stderr",
     "output_type": "stream",
     "text": [
      "Saving model checkpoint to ./checkpoint-3\n",
      "Trainer.model is not a `PreTrainedModel`, only saving its state dict.\n"
     ]
    }
   ],
   "source": [
    "trainer._save_model_and_checkpoint()"
   ]
  },
  {
   "cell_type": "markdown",
   "id": "existing-oasis",
   "metadata": {},
   "source": [
    "* **Reload model:**"
   ]
  },
  {
   "cell_type": "code",
   "execution_count": 20,
   "id": "governmental-desperate",
   "metadata": {},
   "outputs": [],
   "source": [
    "trainer.load_model_trainer_states_from_checkpoint('./checkpoint-3')"
   ]
  },
  {
   "cell_type": "markdown",
   "id": "automotive-salon",
   "metadata": {},
   "source": [
    "- **Re-compute eval metrics of train data**"
   ]
  },
  {
   "cell_type": "code",
   "execution_count": 21,
   "id": "buried-cooperation",
   "metadata": {},
   "outputs": [
    {
     "name": "stdout",
     "output_type": "stream",
     "text": [
      "  epoch = 3.0\n",
      "  train_avgprecisionat_10 = 0.0001914666499942541\n",
      "  train_avgprecisionat_20 = 0.0001975129562197253\n",
      "  train_loss = 10.93864631652832\n",
      "  train_ndcgat_10 = 0.00020869127183686942\n",
      "  train_ndcgat_20 = 0.00023136497475206852\n",
      "  train_recallat_10 = 0.0002720841730479151\n",
      "  train_recallat_20 = 0.00036277889739722013\n",
      "  train_runtime = 2.2422\n",
      "  train_samples_per_second = 285.43\n",
      "  train_steps_per_second = 8.92\n"
     ]
    }
   ],
   "source": [
    "train_metrics = trainer.evaluate(eval_dataset=train_data_paths, metric_key_prefix='train')\n",
    "for key in sorted(train_metrics.keys()):\n",
    "    print(\"  %s = %s\" % (key, str(train_metrics[key])))"
   ]
  },
  {
   "cell_type": "markdown",
   "id": "funny-virgin",
   "metadata": {},
   "source": [
    "* **Resume Training** "
   ]
  },
  {
   "cell_type": "code",
   "execution_count": 22,
   "id": "fixed-texture",
   "metadata": {},
   "outputs": [
    {
     "name": "stderr",
     "output_type": "stream",
     "text": [
      "Loading model from ./checkpoint-3).\n",
      "***** Running training *****\n",
      "  Num examples = 1024\n",
      "  Num Epochs = 3\n",
      "  Instantaneous batch size per device = 512\n",
      "  Total train batch size (w. parallel, distributed & accumulation) = 16384\n",
      "  Gradient Accumulation steps = 32\n",
      "  Total optimization steps = 3\n",
      "  Continuing training from checkpoint, will skip to saved global_step\n",
      "  Continuing training from epoch 3\n",
      "  Continuing training from global step 3\n",
      "  Will skip the first 3 epochs then the first 0 batches in the first epoch. If this takes a lot of time, you can add the `--ignore_data_skip` flag to your launch command, but you will resume the training on data already seen by your model.\n"
     ]
    },
    {
     "data": {
      "application/vnd.jupyter.widget-view+json": {
       "model_id": "8fdd002a436a42539cbe8127972c119e",
       "version_major": 2,
       "version_minor": 0
      },
      "text/plain": [
       "HBox(children=(HTML(value=''), FloatProgress(value=1.0, bar_style='info', layout=Layout(width='20px'), max=1.0…"
      ]
     },
     "metadata": {},
     "output_type": "display_data"
    },
    {
     "name": "stderr",
     "output_type": "stream",
     "text": [
      "\n",
      "\n",
      "Training completed. Do not forget to share your model on huggingface.co/models =)\n",
      "\n",
      "\n"
     ]
    },
    {
     "data": {
      "text/html": [
       "\n",
       "    <div>\n",
       "      \n",
       "      <progress value='3' max='3' style='width:300px; height:20px; vertical-align: middle;'></progress>\n",
       "      [3/3 : < :, Epoch 3/3]\n",
       "    </div>\n",
       "    <table border=\"1\" class=\"dataframe\">\n",
       "  <thead>\n",
       "    <tr style=\"text-align: left;\">\n",
       "      <th>Step</th>\n",
       "      <th>Training Loss</th>\n",
       "    </tr>\n",
       "  </thead>\n",
       "  <tbody>\n",
       "  </tbody>\n",
       "</table><p>"
      ],
      "text/plain": [
       "<IPython.core.display.HTML object>"
      ]
     },
     "metadata": {},
     "output_type": "display_data"
    },
    {
     "data": {
      "text/plain": [
       "TrainOutput(global_step=3, training_loss=0.0, metrics={'train_runtime': 0.2376, 'train_samples_per_second': 555.646, 'train_steps_per_second': 12.628, 'total_flos': 0.0, 'train_loss': 0.0, 'epoch': 3.0})"
      ]
     },
     "execution_count": 22,
     "metadata": {},
     "output_type": "execute_result"
    }
   ],
   "source": [
    "# reset lr scheduler to train on new day data\n",
    "trainer.reset_lr_scheduler()\n",
    "# set new data from last day\n",
    "trainer.train_dataset = train_data_paths[-1]\n",
    "trainer.train(resume_from_checkpoint='./checkpoint-3')"
   ]
  },
  {
   "cell_type": "markdown",
   "id": "tribal-anatomy",
   "metadata": {},
   "source": [
    "- **Evaluate on last day**"
   ]
  },
  {
   "cell_type": "code",
   "execution_count": 23,
   "id": "adjacent-orbit",
   "metadata": {},
   "outputs": [
    {
     "name": "stdout",
     "output_type": "stream",
     "text": [
      "  epoch = 3.0\n",
      "  eval_avgprecisionat_10 = 0.0\n",
      "  eval_avgprecisionat_20 = 4.933886157232337e-05\n",
      "  eval_loss = 10.936347961425781\n",
      "  eval_ndcgat_10 = 0.0\n",
      "  eval_ndcgat_20 = 0.00020906655117869377\n",
      "  eval_recallat_10 = 0.0\n",
      "  eval_recallat_20 = 0.0008880994864739478\n",
      "  eval_runtime = 0.2439\n",
      "  eval_samples_per_second = 262.424\n",
      "  eval_steps_per_second = 8.201\n"
     ]
    }
   ],
   "source": [
    "# set new data from last day\n",
    "eval_metrics = trainer.evaluate(eval_dataset=eval_data_paths[-1], metric_key_prefix='eval')\n",
    "for key in sorted(eval_metrics.keys()):\n",
    "    print(\"  %s = %s\" % (key, str(eval_metrics[key])))"
   ]
  }
 ],
 "metadata": {
  "kernelspec": {
   "display_name": "Python 3",
   "language": "python",
   "name": "python3"
  },
  "language_info": {
   "codemirror_mode": {
    "name": "ipython",
    "version": 3
   },
   "file_extension": ".py",
   "mimetype": "text/x-python",
   "name": "python",
   "nbconvert_exporter": "python",
   "pygments_lexer": "ipython3",
   "version": "3.8.8"
  }
 },
 "nbformat": 4,
 "nbformat_minor": 5
}
