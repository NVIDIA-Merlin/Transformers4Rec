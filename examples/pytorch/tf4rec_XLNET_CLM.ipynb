{
 "cells": [
  {
   "cell_type": "code",
   "execution_count": 1,
   "id": "checked-nashville",
   "metadata": {},
   "outputs": [],
   "source": [
    "import os\n",
    "import torch \n",
    "import numpy\n",
    "import pandas as pd \n",
    "import cudf\n",
    "import cupy\n",
    "import nvtabular as nvt"
   ]
  },
  {
   "cell_type": "markdown",
   "id": "diverse-spending",
   "metadata": {},
   "source": [
    "### Create random input data similar to pre-processed Yoochoose dataset structure "
   ]
  },
  {
   "cell_type": "code",
   "execution_count": 2,
   "id": "essential-camera",
   "metadata": {},
   "outputs": [
    {
     "data": {
      "text/html": [
       "<div>\n",
       "<style scoped>\n",
       "    .dataframe tbody tr th:only-of-type {\n",
       "        vertical-align: middle;\n",
       "    }\n",
       "\n",
       "    .dataframe tbody tr th {\n",
       "        vertical-align: top;\n",
       "    }\n",
       "\n",
       "    .dataframe thead th {\n",
       "        text-align: right;\n",
       "    }\n",
       "</style>\n",
       "<table border=\"1\" class=\"dataframe\">\n",
       "  <thead>\n",
       "    <tr style=\"text-align: right;\">\n",
       "      <th></th>\n",
       "      <th>session_id</th>\n",
       "      <th>day</th>\n",
       "      <th>item_id</th>\n",
       "      <th>category</th>\n",
       "      <th>timestamp/age_days</th>\n",
       "      <th>timestamp/weekday/sin</th>\n",
       "      <th>purchase</th>\n",
       "    </tr>\n",
       "  </thead>\n",
       "  <tbody>\n",
       "    <tr>\n",
       "      <th>0</th>\n",
       "      <td>73335</td>\n",
       "      <td>1</td>\n",
       "      <td>25204</td>\n",
       "      <td>135</td>\n",
       "      <td>0.283280</td>\n",
       "      <td>0.126510</td>\n",
       "      <td>0</td>\n",
       "    </tr>\n",
       "    <tr>\n",
       "      <th>1</th>\n",
       "      <td>77282</td>\n",
       "      <td>2</td>\n",
       "      <td>20726</td>\n",
       "      <td>153</td>\n",
       "      <td>0.777557</td>\n",
       "      <td>0.167179</td>\n",
       "      <td>0</td>\n",
       "    </tr>\n",
       "    <tr>\n",
       "      <th>2</th>\n",
       "      <td>73655</td>\n",
       "      <td>5</td>\n",
       "      <td>47016</td>\n",
       "      <td>327</td>\n",
       "      <td>0.807628</td>\n",
       "      <td>0.094816</td>\n",
       "      <td>0</td>\n",
       "    </tr>\n",
       "    <tr>\n",
       "      <th>3</th>\n",
       "      <td>73205</td>\n",
       "      <td>6</td>\n",
       "      <td>8130</td>\n",
       "      <td>102</td>\n",
       "      <td>0.581975</td>\n",
       "      <td>0.374510</td>\n",
       "      <td>0</td>\n",
       "    </tr>\n",
       "    <tr>\n",
       "      <th>4</th>\n",
       "      <td>72327</td>\n",
       "      <td>4</td>\n",
       "      <td>34756</td>\n",
       "      <td>59</td>\n",
       "      <td>0.280593</td>\n",
       "      <td>0.909303</td>\n",
       "      <td>0</td>\n",
       "    </tr>\n",
       "    <tr>\n",
       "      <th>...</th>\n",
       "      <td>...</td>\n",
       "      <td>...</td>\n",
       "      <td>...</td>\n",
       "      <td>...</td>\n",
       "      <td>...</td>\n",
       "      <td>...</td>\n",
       "      <td>...</td>\n",
       "    </tr>\n",
       "    <tr>\n",
       "      <th>9995</th>\n",
       "      <td>70511</td>\n",
       "      <td>6</td>\n",
       "      <td>14203</td>\n",
       "      <td>40</td>\n",
       "      <td>0.408895</td>\n",
       "      <td>0.757879</td>\n",
       "      <td>1</td>\n",
       "    </tr>\n",
       "    <tr>\n",
       "      <th>9996</th>\n",
       "      <td>78436</td>\n",
       "      <td>4</td>\n",
       "      <td>25377</td>\n",
       "      <td>85</td>\n",
       "      <td>0.028902</td>\n",
       "      <td>0.144950</td>\n",
       "      <td>0</td>\n",
       "    </tr>\n",
       "    <tr>\n",
       "      <th>9997</th>\n",
       "      <td>73295</td>\n",
       "      <td>3</td>\n",
       "      <td>26406</td>\n",
       "      <td>300</td>\n",
       "      <td>0.732575</td>\n",
       "      <td>0.849151</td>\n",
       "      <td>1</td>\n",
       "    </tr>\n",
       "    <tr>\n",
       "      <th>9998</th>\n",
       "      <td>75522</td>\n",
       "      <td>9</td>\n",
       "      <td>4956</td>\n",
       "      <td>231</td>\n",
       "      <td>0.186765</td>\n",
       "      <td>0.603853</td>\n",
       "      <td>1</td>\n",
       "    </tr>\n",
       "    <tr>\n",
       "      <th>9999</th>\n",
       "      <td>74187</td>\n",
       "      <td>7</td>\n",
       "      <td>16470</td>\n",
       "      <td>177</td>\n",
       "      <td>0.216767</td>\n",
       "      <td>0.532938</td>\n",
       "      <td>0</td>\n",
       "    </tr>\n",
       "  </tbody>\n",
       "</table>\n",
       "<p>10000 rows × 7 columns</p>\n",
       "</div>"
      ],
      "text/plain": [
       "      session_id  day  item_id  category  timestamp/age_days  \\\n",
       "0          73335    1    25204       135            0.283280   \n",
       "1          77282    2    20726       153            0.777557   \n",
       "2          73655    5    47016       327            0.807628   \n",
       "3          73205    6     8130       102            0.581975   \n",
       "4          72327    4    34756        59            0.280593   \n",
       "...          ...  ...      ...       ...                 ...   \n",
       "9995       70511    6    14203        40            0.408895   \n",
       "9996       78436    4    25377        85            0.028902   \n",
       "9997       73295    3    26406       300            0.732575   \n",
       "9998       75522    9     4956       231            0.186765   \n",
       "9999       74187    7    16470       177            0.216767   \n",
       "\n",
       "      timestamp/weekday/sin  purchase  \n",
       "0                  0.126510         0  \n",
       "1                  0.167179         0  \n",
       "2                  0.094816         0  \n",
       "3                  0.374510         0  \n",
       "4                  0.909303         0  \n",
       "...                     ...       ...  \n",
       "9995               0.757879         1  \n",
       "9996               0.144950         0  \n",
       "9997               0.849151         1  \n",
       "9998               0.603853         1  \n",
       "9999               0.532938         0  \n",
       "\n",
       "[10000 rows x 7 columns]"
      ]
     },
     "execution_count": 2,
     "metadata": {},
     "output_type": "execute_result"
    }
   ],
   "source": [
    "NUM_ROWS = 10000\n",
    "session_length = 20\n",
    "inputs = {\n",
    "    'session_id': numpy.random.randint(70000, 80000, NUM_ROWS),\n",
    "    'day': numpy.random.randint(1, 10, NUM_ROWS),\n",
    "    'item_id': numpy.random.randint(1, 51996, NUM_ROWS),\n",
    "    'category': numpy.random.randint(0, 332, NUM_ROWS),\n",
    "    'timestamp/age_days': numpy.random.uniform(0, 1, NUM_ROWS),\n",
    "    'timestamp/weekday/sin' : numpy.random.uniform(0, 1, NUM_ROWS),\n",
    "    'purchase': numpy.random.randint(0, 2, NUM_ROWS)\n",
    "    }\n",
    "random_data = cudf.DataFrame(inputs)\n",
    "random_data"
   ]
  },
  {
   "cell_type": "markdown",
   "id": "innocent-malaysia",
   "metadata": {},
   "source": [
    "### NVTabular workflow"
   ]
  },
  {
   "cell_type": "markdown",
   "id": "coral-intervention",
   "metadata": {},
   "source": [
    "- #TODO : Change the workflow using tagging API once it is finalized  "
   ]
  },
  {
   "cell_type": "code",
   "execution_count": 3,
   "id": "invalid-version",
   "metadata": {},
   "outputs": [],
   "source": [
    "# Define Groupby Workflow\n",
    "groupby_features = list(inputs.keys()) >> nvt.ops.Groupby(\n",
    "    groupby_cols=[\"session_id\"], \n",
    "    aggs={\n",
    "        \"item_id\": [\"list\"],\n",
    "        \"category\": [\"list\"],     \n",
    "        \"day\": [\"first\"],\n",
    "        \"purchase\": [\"first\"],\n",
    "        \"timestamp/age_days\": [\"list\"],\n",
    "        'timestamp/weekday/sin': [\"list\"],\n",
    "        },\n",
    "    name_sep=\"-\")\n",
    "# Trim sessions to first 20 items \n",
    "groupby_features_list = [x for x in groupby_features.output_columns.names if '-list' in x]\n",
    "\n",
    "#groupby_features_nonlist:  need to fix a BUG related to adding two workflow nodes\n",
    "#groupby_features_trim = groupby_features_list >> nvt.ops.ListSlice(0,20) >> nvt.ops.Rename(postfix = '_trim')\n",
    "workflow = nvt.Workflow(groupby_features)\n",
    "dataset = nvt.Dataset(random_data, cpu=False)\n",
    "workflow.fit(dataset)\n",
    "sessions_gdf = workflow.transform(dataset).to_ddf().compute()\n",
    "\n",
    "# Re-compute tri: to be removed when the BUG of two workflow nodes is fixed : \n",
    "groupby_features_trim =  groupby_features_list >> nvt.ops.ListSlice(0,20) >> nvt.ops.Rename(postfix = '_trim')\n",
    "workflow = nvt.Workflow(list(sessions_gdf.columns)  + groupby_features_trim)\n",
    "dataset = nvt.Dataset(sessions_gdf, cpu=False)\n",
    "workflow.fit(dataset)\n",
    "sessions_gdf = workflow.transform(dataset).to_ddf().compute()"
   ]
  },
  {
   "cell_type": "code",
   "execution_count": 4,
   "id": "tropical-wrist",
   "metadata": {},
   "outputs": [
    {
     "data": {
      "text/html": [
       "<div>\n",
       "<style scoped>\n",
       "    .dataframe tbody tr th:only-of-type {\n",
       "        vertical-align: middle;\n",
       "    }\n",
       "\n",
       "    .dataframe tbody tr th {\n",
       "        vertical-align: top;\n",
       "    }\n",
       "\n",
       "    .dataframe thead th {\n",
       "        text-align: right;\n",
       "    }\n",
       "</style>\n",
       "<table border=\"1\" class=\"dataframe\">\n",
       "  <thead>\n",
       "    <tr style=\"text-align: right;\">\n",
       "      <th></th>\n",
       "      <th>category-list_trim</th>\n",
       "      <th>timestamp/age_days-list_trim</th>\n",
       "      <th>item_id-list_trim</th>\n",
       "      <th>timestamp/weekday/sin-list_trim</th>\n",
       "      <th>purchase-first</th>\n",
       "      <th>category-list</th>\n",
       "      <th>session_id</th>\n",
       "      <th>timestamp/age_days-list</th>\n",
       "      <th>day-first</th>\n",
       "      <th>item_id-list</th>\n",
       "      <th>timestamp/weekday/sin-list</th>\n",
       "    </tr>\n",
       "  </thead>\n",
       "  <tbody>\n",
       "    <tr>\n",
       "      <th>0</th>\n",
       "      <td>[207]</td>\n",
       "      <td>[0.5123948838105032]</td>\n",
       "      <td>[39511]</td>\n",
       "      <td>[0.7095749236097595]</td>\n",
       "      <td>0</td>\n",
       "      <td>[207]</td>\n",
       "      <td>70000</td>\n",
       "      <td>[0.5123948838105032]</td>\n",
       "      <td>4</td>\n",
       "      <td>[39511]</td>\n",
       "      <td>[0.7095749236097595]</td>\n",
       "    </tr>\n",
       "    <tr>\n",
       "      <th>1</th>\n",
       "      <td>[164]</td>\n",
       "      <td>[0.8770186544541125]</td>\n",
       "      <td>[51728]</td>\n",
       "      <td>[0.2572932168328079]</td>\n",
       "      <td>0</td>\n",
       "      <td>[164]</td>\n",
       "      <td>70002</td>\n",
       "      <td>[0.8770186544541125]</td>\n",
       "      <td>4</td>\n",
       "      <td>[51728]</td>\n",
       "      <td>[0.2572932168328079]</td>\n",
       "    </tr>\n",
       "    <tr>\n",
       "      <th>2</th>\n",
       "      <td>[279]</td>\n",
       "      <td>[0.9985119530693698]</td>\n",
       "      <td>[19247]</td>\n",
       "      <td>[0.016013178790216687]</td>\n",
       "      <td>1</td>\n",
       "      <td>[279]</td>\n",
       "      <td>70003</td>\n",
       "      <td>[0.9985119530693698]</td>\n",
       "      <td>1</td>\n",
       "      <td>[19247]</td>\n",
       "      <td>[0.016013178790216687]</td>\n",
       "    </tr>\n",
       "  </tbody>\n",
       "</table>\n",
       "</div>"
      ],
      "text/plain": [
       "  category-list_trim timestamp/age_days-list_trim item_id-list_trim  \\\n",
       "0              [207]         [0.5123948838105032]           [39511]   \n",
       "1              [164]         [0.8770186544541125]           [51728]   \n",
       "2              [279]         [0.9985119530693698]           [19247]   \n",
       "\n",
       "  timestamp/weekday/sin-list_trim  purchase-first category-list  session_id  \\\n",
       "0            [0.7095749236097595]               0         [207]       70000   \n",
       "1            [0.2572932168328079]               0         [164]       70002   \n",
       "2          [0.016013178790216687]               1         [279]       70003   \n",
       "\n",
       "  timestamp/age_days-list  day-first item_id-list timestamp/weekday/sin-list  \n",
       "0    [0.5123948838105032]          4      [39511]       [0.7095749236097595]  \n",
       "1    [0.8770186544541125]          4      [51728]       [0.2572932168328079]  \n",
       "2    [0.9985119530693698]          1      [19247]     [0.016013178790216687]  "
      ]
     },
     "execution_count": 4,
     "metadata": {},
     "output_type": "execute_result"
    }
   ],
   "source": [
    "sessions_gdf.head(3)"
   ]
  },
  {
   "cell_type": "markdown",
   "id": "moderate-mission",
   "metadata": {},
   "source": [
    "- We can save the workflow."
   ]
  },
  {
   "cell_type": "code",
   "execution_count": 5,
   "id": "improved-somewhere",
   "metadata": {},
   "outputs": [],
   "source": [
    "workflow.save('workflow_inference_test')"
   ]
  },
  {
   "cell_type": "markdown",
   "id": "canadian-papua",
   "metadata": {},
   "source": [
    "### Export pre-processed data by day "
   ]
  },
  {
   "cell_type": "code",
   "execution_count": 6,
   "id": "lasting-shape",
   "metadata": {},
   "outputs": [
    {
     "name": "stderr",
     "output_type": "stream",
     "text": [
      "Creating time-based splits: 100%|██████████| 9/9 [00:03<00:00,  2.53it/s]\n"
     ]
    }
   ],
   "source": [
    "# requires cudf + cupy + nvtabular + dask_cudf\n",
    "from transformers4rec.utils.processing_utils import save_time_based_splits\n",
    "save_time_based_splits(data=nvt.Dataset(sessions_gdf),\n",
    "                       output_dir= \"./preproc_sessions_by_day_ts\",\n",
    "                       partition_col='day-first',\n",
    "                       timestamp_col='session_id', \n",
    "                      )"
   ]
  },
  {
   "cell_type": "markdown",
   "id": "interstate-least",
   "metadata": {},
   "source": [
    "# Transformers4rec model  "
   ]
  },
  {
   "cell_type": "code",
   "execution_count": 7,
   "id": "hollywood-compiler",
   "metadata": {},
   "outputs": [],
   "source": [
    "import torch \n",
    "import transformers4rec.torch as torch4rec\n",
    "from transformers4rec.torch import TabularSequenceFeatures, MLPBlock, SequentialBlock, Head, TransformerBlock\n",
    "\n",
    "from transformers4rec.utils.schema import DatasetSchema\n",
    "from transformers4rec.torch.head import NextItemPredictionTask\n",
    "from transformers4rec.config import transformer\n",
    "from transformers4rec.torch.ranking_metric import NDCGAt, AvgPrecisionAt, RecallAt"
   ]
  },
  {
   "cell_type": "markdown",
   "id": "derived-pixel",
   "metadata": {},
   "source": [
    "- Manually set the schema "
   ]
  },
  {
   "cell_type": "code",
   "execution_count": 8,
   "id": "respiratory-cannon",
   "metadata": {},
   "outputs": [],
   "source": [
    "# Define schema object to pass it to the SequentialTabularFeatures\n",
    "schema = DatasetSchema.from_schema(\"schema.pb\")"
   ]
  },
  {
   "cell_type": "markdown",
   "id": "waiting-marks",
   "metadata": {},
   "source": [
    "### Define the sequential input module"
   ]
  },
  {
   "cell_type": "markdown",
   "id": "sixth-carrier",
   "metadata": {},
   "source": [
    "Below we define our `input` bloc using [`SequentialTabularFeatures` class](https://github.com/NVIDIA-Merlin/Transformers4Rec/blob/main/transformers4rec/torch/features/sequential.py). The `from_schema` module directly parse schema and accepts categorical and continuous sequential inputs and supports data augmentation, data aggregation, `sequential-concat` and `elementwise-sum` aggregations, the projection of the interaction embeddings and the masking tasks.\n",
    "\n",
    "`max_sequence_length` defines the maximum sequence length of our sequential input, and if `continuous_projection` argument is set,  all numerical features are concatenated and projected by a number of MLP layers."
   ]
  },
  {
   "cell_type": "code",
   "execution_count": 9,
   "id": "electoral-albert",
   "metadata": {},
   "outputs": [],
   "source": [
    "inputs = TabularSequenceFeatures.from_schema(\n",
    "        schema,\n",
    "        max_sequence_length=20,\n",
    "        continuous_projection=64,\n",
    "        d_output=100,\n",
    "        masking=\"causal\",\n",
    "    )"
   ]
  },
  {
   "cell_type": "markdown",
   "id": "covered-receptor",
   "metadata": {},
   "source": [
    "### End-to-end session-based Transformer-based model for item prediction:"
   ]
  },
  {
   "cell_type": "markdown",
   "id": "congressional-prize",
   "metadata": {},
   "source": [
    "- LM task + HF Transformer architecture + Next item-prediction task. \n",
    "- We build a [T4RecConfig](https://github.com/NVIDIA-Merlin/Transformers4Rec/blob/main/transformers4rec/config/transformer.py#L8) class to update the config class of the transformer architecture with the specified arguments, then load the related model. Here we use it to instantiate an XLNET model according to the  arguments (d_model, n_head, etc.), defining the model architecture.\n",
    "- [TransformerBlock](https://github.com/NVIDIA-Merlin/Transformers4Rec/blob/main/transformers4rec/torch/block/transformer.py#L37) class is created to support HF Transformers for session-based and sequential-based recommendation models.\n",
    "- [NextItemPredictionTask](https://github.com/NVIDIA-Merlin/Transformers4Rec/blob/main/transformers4rec/torch/head.py#L212) is the class to support next item prediction task."
   ]
  },
  {
   "cell_type": "code",
   "execution_count": 10,
   "id": "assisted-valuation",
   "metadata": {},
   "outputs": [],
   "source": [
    "#### Define XLNetConfig class and set default parameters \n",
    "# Set HF config of XLNet \n",
    "transformer_config = transformer.XLNetConfig.build(\n",
    "    d_model=64, n_head=4, n_layer=2, total_seq_length=20\n",
    ")\n",
    "# Define the model block including: inputs, masking, projection and transformer block.\n",
    "body = torch4rec.SequentialBlock(\n",
    "    inputs, torch4rec.MLPBlock([64]), torch4rec.TransformerBlock(transformer_config, masking=inputs.masking)\n",
    ")\n",
    "\n",
    "# Define the head related to next item prediction task \n",
    "head = torch4rec.Head(\n",
    "    body,\n",
    "    torch4rec.NextItemPredictionTask(weight_tying=True, hf_format=True),\n",
    "    inputs=inputs,\n",
    ")\n",
    "\n",
    "# Get the end-to-end Model class \n",
    "model = torch4rec.Model(head)"
   ]
  },
  {
   "cell_type": "markdown",
   "id": "incident-conditions",
   "metadata": {},
   "source": [
    "# Training and evaluation"
   ]
  },
  {
   "cell_type": "markdown",
   "id": "facial-purpose",
   "metadata": {},
   "source": [
    "- **Set Training arguments**"
   ]
  },
  {
   "cell_type": "code",
   "execution_count": 11,
   "id": "given-flight",
   "metadata": {},
   "outputs": [],
   "source": [
    "from transformers4rec.config.trainer import T4RecTrainingArguments\n",
    "from transformers4rec.torch import Trainer\n",
    "#Set argumentd for training \n",
    "train_args = T4RecTrainingArguments(local_rank = -1, dataloader_drop_last = True, data_loader_engine='pyarrow',\n",
    "                                  report_to = [], debug = [\"r\"], gradient_accumulation_steps = 32,\n",
    "                                  per_device_train_batch_size = 512, per_device_eval_batch_size = 32,\n",
    "                                  output_dir = \".\", lr_scheduler_type='cosine', \n",
    "                                  learning_rate_num_cosine_cycles_by_epoch=1.5,\n",
    "                                  max_sequence_length=20, fp16=False, no_cuda=True)"
   ]
  },
  {
   "cell_type": "markdown",
   "id": "commercial-offset",
   "metadata": {},
   "source": [
    "- **Define paths to train and eval data**"
   ]
  },
  {
   "cell_type": "code",
   "execution_count": 12,
   "id": "incorporated-moderator",
   "metadata": {},
   "outputs": [],
   "source": [
    "import glob\n",
    "train_data_paths = glob.glob(\"./preproc_sessions_by_day_ts/*/train.parquet\")[:-1]\n",
    "eval_data_paths = glob.glob(\"./preproc_sessions_by_day_ts/*/valid.parquet\")[:-1]"
   ]
  },
  {
   "cell_type": "markdown",
   "id": "freelance-killer",
   "metadata": {},
   "source": [
    "- **Define Trainer**"
   ]
  },
  {
   "cell_type": "code",
   "execution_count": 13,
   "id": "italic-douglas",
   "metadata": {},
   "outputs": [],
   "source": [
    "# Instantiate the T4Rec Trainer, which manages training and evaluation\n",
    "trainer = Trainer(\n",
    "    model=model,\n",
    "    args=train_args,\n",
    "    schema=schema,\n",
    "    compute_metrics=True,\n",
    "    train_dataset_or_path=train_data_paths,\n",
    "    eval_dataset_or_path=eval_data_paths,\n",
    ")"
   ]
  },
  {
   "cell_type": "markdown",
   "id": "protecting-scoop",
   "metadata": {},
   "source": [
    "- **Train the model**  "
   ]
  },
  {
   "cell_type": "code",
   "execution_count": 14,
   "id": "amazing-penetration",
   "metadata": {},
   "outputs": [
    {
     "data": {
      "text/html": [
       "\n",
       "    <div>\n",
       "      \n",
       "      <progress value='3' max='3' style='width:300px; height:20px; vertical-align: middle;'></progress>\n",
       "      [3/3 00:41, Epoch 3/3]\n",
       "    </div>\n",
       "    <table border=\"1\" class=\"dataframe\">\n",
       "  <thead>\n",
       "    <tr style=\"text-align: left;\">\n",
       "      <th>Step</th>\n",
       "      <th>Training Loss</th>\n",
       "    </tr>\n",
       "  </thead>\n",
       "  <tbody>\n",
       "  </tbody>\n",
       "</table><p>"
      ],
      "text/plain": [
       "<IPython.core.display.HTML object>"
      ]
     },
     "metadata": {},
     "output_type": "display_data"
    },
    {
     "data": {
      "text/plain": [
       "TrainOutput(global_step=3, training_loss=3.424956957499186, metrics={'train_runtime': 64.8283, 'train_samples_per_second': 0.046, 'total_flos': 0.0, 'epoch': 3.0, 'init_mem_cpu_alloc_delta': 172032, 'init_mem_gpu_alloc_delta': 0, 'init_mem_cpu_peaked_delta': 0, 'init_mem_gpu_peaked_delta': 0, 'train_mem_cpu_alloc_delta': 2959847424, 'train_mem_gpu_alloc_delta': 0, 'train_mem_cpu_peaked_delta': 341401600, 'train_mem_gpu_peaked_delta': 0})"
      ]
     },
     "execution_count": 14,
     "metadata": {},
     "output_type": "execute_result"
    }
   ],
   "source": [
    "trainer.reset_lr_scheduler()\n",
    "trainer.train()"
   ]
  },
  {
   "cell_type": "markdown",
   "id": "stuffed-upper",
   "metadata": {},
   "source": [
    "- **Compute evaluation metrics**"
   ]
  },
  {
   "cell_type": "code",
   "execution_count": 15,
   "id": "intensive-jackson",
   "metadata": {},
   "outputs": [
    {
     "data": {
      "text/html": [
       "\n",
       "    <div>\n",
       "      \n",
       "      <progress value='37' max='17' style='width:300px; height:20px; vertical-align: middle;'></progress>\n",
       "      [17/17 00:22]\n",
       "    </div>\n",
       "    "
      ],
      "text/plain": [
       "<IPython.core.display.HTML object>"
      ]
     },
     "metadata": {},
     "output_type": "display_data"
    },
    {
     "name": "stdout",
     "output_type": "stream",
     "text": [
      "  epoch = 3.0\n",
      "  eval_avgprecisionat_10 = 0.0\n",
      "  eval_avgprecisionat_20 = 0.0\n",
      "  eval_loss = 10.94094467163086\n",
      "  eval_mem_cpu_alloc_delta = 26046464\n",
      "  eval_mem_cpu_peaked_delta = 40960\n",
      "  eval_mem_gpu_alloc_delta = 0\n",
      "  eval_mem_gpu_peaked_delta = 0\n",
      "  eval_ndcgat_10 = 0.0\n",
      "  eval_ndcgat_20 = 0.0\n",
      "  eval_recallat_10 = 0.0\n",
      "  eval_recallat_20 = 0.0\n",
      "  eval_runtime = 12.7475\n",
      "  eval_samples_per_second = 42.675\n"
     ]
    }
   ],
   "source": [
    "eval_metrics = trainer.evaluate(eval_dataset=eval_data_paths, metric_key_prefix='eval')\n",
    "for key in sorted(eval_metrics.keys()):\n",
    "    print(\"  %s = %s\" % (key, str(eval_metrics[key])))"
   ]
  },
  {
   "cell_type": "markdown",
   "id": "unlikely-ratio",
   "metadata": {},
   "source": [
    "- **Compute Train metrics**"
   ]
  },
  {
   "cell_type": "code",
   "execution_count": 16,
   "id": "russian-symbol",
   "metadata": {},
   "outputs": [
    {
     "name": "stdout",
     "output_type": "stream",
     "text": [
      "  epoch = 3.0\n",
      "  eval_mem_cpu_alloc_delta = 5509120\n",
      "  eval_mem_cpu_peaked_delta = 286720\n",
      "  eval_mem_gpu_alloc_delta = 0\n",
      "  eval_mem_gpu_peaked_delta = 0\n",
      "  train_avgprecisionat_10 = 0.0\n",
      "  train_avgprecisionat_20 = 0.0\n",
      "  train_loss = 10.914937973022461\n",
      "  train_ndcgat_10 = 0.0\n",
      "  train_ndcgat_20 = 0.0\n",
      "  train_recallat_10 = 0.0\n",
      "  train_recallat_20 = 0.0\n",
      "  train_runtime = 11.7674\n",
      "  train_samples_per_second = 54.387\n"
     ]
    }
   ],
   "source": [
    "train_metrics = trainer.evaluate(eval_dataset=train_data_paths, metric_key_prefix='train')\n",
    "for key in sorted(train_metrics.keys()):\n",
    "    print(\"  %s = %s\" % (key, str(train_metrics[key])))"
   ]
  },
  {
   "cell_type": "markdown",
   "id": "binary-rider",
   "metadata": {},
   "source": [
    "* **Save the model**"
   ]
  },
  {
   "cell_type": "code",
   "execution_count": null,
   "id": "removed-lobby",
   "metadata": {},
   "outputs": [],
   "source": [
    "trainer._save_model_and_checkpoint()"
   ]
  },
  {
   "cell_type": "markdown",
   "id": "significant-celebrity",
   "metadata": {},
   "source": [
    "* **Reload model:**"
   ]
  },
  {
   "cell_type": "code",
   "execution_count": null,
   "id": "satellite-broadcast",
   "metadata": {},
   "outputs": [],
   "source": [
    "trainer.load_model_trainer_states_from_checkpoint('./checkpoint-%s'%trainer.state.global_step)"
   ]
  },
  {
   "cell_type": "markdown",
   "id": "pediatric-singer",
   "metadata": {},
   "source": [
    "- **Re-compute eval metrics of train data**"
   ]
  },
  {
   "cell_type": "code",
   "execution_count": null,
   "id": "given-turtle",
   "metadata": {},
   "outputs": [],
   "source": [
    "train_metrics = trainer.evaluate(eval_dataset=train_data_paths, metric_key_prefix='train')\n",
    "for key in sorted(train_metrics.keys()):\n",
    "    print(\"  %s = %s\" % (key, str(train_metrics[key])))"
   ]
  },
  {
   "cell_type": "markdown",
   "id": "consecutive-conjunction",
   "metadata": {},
   "source": [
    "* **Resume Training** "
   ]
  },
  {
   "cell_type": "code",
   "execution_count": null,
   "id": "affiliated-cleanup",
   "metadata": {},
   "outputs": [],
   "source": [
    "# reset lr scheduler to train on new day data\n",
    "trainer.reset_lr_scheduler()\n",
    "# set new data from last day\n",
    "trainer.train_dataset = train_data_paths[-1]\n",
    "trainer.train(resume_from_checkpoint='./checkpoint-%s'%trainer.state.global_step)"
   ]
  },
  {
   "cell_type": "markdown",
   "id": "impressive-interaction",
   "metadata": {},
   "source": [
    "- **Evaluate on last day**"
   ]
  },
  {
   "cell_type": "code",
   "execution_count": null,
   "id": "informative-doctor",
   "metadata": {},
   "outputs": [],
   "source": [
    "# set new data from last day\n",
    "eval_metrics = trainer.evaluate(eval_dataset=eval_data_paths[-1], metric_key_prefix='eval')\n",
    "for key in sorted(eval_metrics.keys()):\n",
    "    print(\"  %s = %s\" % (key, str(eval_metrics[key])))"
   ]
  },
  {
   "cell_type": "markdown",
   "id": "cheap-crawford",
   "metadata": {},
   "source": [
    "# Incremental Training over a list of time windows "
   ]
  },
  {
   "cell_type": "code",
   "execution_count": null,
   "id": "fancy-middle",
   "metadata": {},
   "outputs": [],
   "source": [
    "# Instantiate the T4Rec Trainer, which manages training and evaluation\n",
    "trainer = Trainer(\n",
    "    model=model,\n",
    "    args=train_args,\n",
    "    schema=schema,\n",
    "    compute_metrics=True,\n",
    ")"
   ]
  },
  {
   "cell_type": "code",
   "execution_count": null,
   "id": "regulation-importance",
   "metadata": {},
   "outputs": [],
   "source": [
    "start_time_window_index = 1\n",
    "final_time_window_index = 7\n",
    "for time_index in range(start_time_window_index, final_time_window_index):\n",
    "    # Set data \n",
    "    time_index_train = time_index\n",
    "    time_index_eval = time_index + 1\n",
    "    train_paths = glob.glob(f\"./preproc_sessions_by_day_ts/{time_index_train}/train.parquet\")\n",
    "    eval_paths = glob.glob(f\"./preproc_sessions_by_day_ts/{time_index_eval}/valid.parquet\")  \n",
    "    \n",
    "    # Train on day related to time_index \n",
    "    print('*'*20)\n",
    "    print(\"Launch training for day %s are:\" %time_index)\n",
    "    print('*'*20 + '\\n')\n",
    "    trainer.train_dataset = train_paths\n",
    "    trainer.reset_lr_scheduler()\n",
    "    trainer.train()\n",
    "    trainer.state.global_step +=1\n",
    "    # Evaluate on the following day\n",
    "    trainer.eval_dataset = eval_paths\n",
    "    train_metrics = trainer.evaluate(metric_key_prefix='eval')\n",
    "    print('*'*20)\n",
    "    print(\"Eval results for day %s are:\\t\" %time_index_eval)\n",
    "    print('\\n' + '*'*20 + '\\n')\n",
    "    for key in sorted(train_metrics.keys()):\n",
    "        print(\" %s = %s\" % (key, str(train_metrics[key]))) \n",
    "    trainer.wipe_memory()"
   ]
  }
 ],
 "metadata": {
  "kernelspec": {
   "display_name": "Python 3",
   "language": "python",
   "name": "python3"
  },
  "language_info": {
   "codemirror_mode": {
    "name": "ipython",
    "version": 3
   },
   "file_extension": ".py",
   "mimetype": "text/x-python",
   "name": "python",
   "nbconvert_exporter": "python",
   "pygments_lexer": "ipython3",
   "version": "3.8.8"
  }
 },
 "nbformat": 4,
 "nbformat_minor": 5
}
