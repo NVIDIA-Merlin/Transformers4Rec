{
 "cells": [
  {
   "cell_type": "code",
   "execution_count": 1,
   "id": "unlike-gateway",
   "metadata": {},
   "outputs": [],
   "source": [
    "import os\n",
    "import torch \n",
    "import numpy\n",
    "import pandas as pd \n",
    "import cudf\n",
    "import cupy\n",
    "import nvtabular as nvt"
   ]
  },
  {
   "cell_type": "markdown",
   "id": "federal-grade",
   "metadata": {},
   "source": [
    "### Create random input data similar to pre-processed Yoochoose dataset structure "
   ]
  },
  {
   "cell_type": "code",
   "execution_count": 2,
   "id": "manufactured-router",
   "metadata": {},
   "outputs": [
    {
     "data": {
      "text/html": [
       "<div>\n",
       "<style scoped>\n",
       "    .dataframe tbody tr th:only-of-type {\n",
       "        vertical-align: middle;\n",
       "    }\n",
       "\n",
       "    .dataframe tbody tr th {\n",
       "        vertical-align: top;\n",
       "    }\n",
       "\n",
       "    .dataframe thead th {\n",
       "        text-align: right;\n",
       "    }\n",
       "</style>\n",
       "<table border=\"1\" class=\"dataframe\">\n",
       "  <thead>\n",
       "    <tr style=\"text-align: right;\">\n",
       "      <th></th>\n",
       "      <th>session_id</th>\n",
       "      <th>day</th>\n",
       "      <th>item_id</th>\n",
       "      <th>category</th>\n",
       "      <th>timestamp/age_days</th>\n",
       "      <th>timestamp/weekday/sin</th>\n",
       "      <th>purchase</th>\n",
       "    </tr>\n",
       "  </thead>\n",
       "  <tbody>\n",
       "    <tr>\n",
       "      <th>0</th>\n",
       "      <td>73937</td>\n",
       "      <td>1</td>\n",
       "      <td>23547</td>\n",
       "      <td>66</td>\n",
       "      <td>0.413801</td>\n",
       "      <td>0.133115</td>\n",
       "      <td>0</td>\n",
       "    </tr>\n",
       "    <tr>\n",
       "      <th>1</th>\n",
       "      <td>74205</td>\n",
       "      <td>9</td>\n",
       "      <td>31135</td>\n",
       "      <td>27</td>\n",
       "      <td>0.658831</td>\n",
       "      <td>0.276254</td>\n",
       "      <td>1</td>\n",
       "    </tr>\n",
       "    <tr>\n",
       "      <th>2</th>\n",
       "      <td>78490</td>\n",
       "      <td>7</td>\n",
       "      <td>23840</td>\n",
       "      <td>270</td>\n",
       "      <td>0.486844</td>\n",
       "      <td>0.957908</td>\n",
       "      <td>1</td>\n",
       "    </tr>\n",
       "    <tr>\n",
       "      <th>3</th>\n",
       "      <td>72677</td>\n",
       "      <td>2</td>\n",
       "      <td>7843</td>\n",
       "      <td>7</td>\n",
       "      <td>0.895641</td>\n",
       "      <td>0.563399</td>\n",
       "      <td>1</td>\n",
       "    </tr>\n",
       "    <tr>\n",
       "      <th>4</th>\n",
       "      <td>78914</td>\n",
       "      <td>1</td>\n",
       "      <td>25748</td>\n",
       "      <td>215</td>\n",
       "      <td>0.465150</td>\n",
       "      <td>0.207356</td>\n",
       "      <td>1</td>\n",
       "    </tr>\n",
       "    <tr>\n",
       "      <th>...</th>\n",
       "      <td>...</td>\n",
       "      <td>...</td>\n",
       "      <td>...</td>\n",
       "      <td>...</td>\n",
       "      <td>...</td>\n",
       "      <td>...</td>\n",
       "      <td>...</td>\n",
       "    </tr>\n",
       "    <tr>\n",
       "      <th>9995</th>\n",
       "      <td>76882</td>\n",
       "      <td>2</td>\n",
       "      <td>4194</td>\n",
       "      <td>40</td>\n",
       "      <td>0.455592</td>\n",
       "      <td>0.415028</td>\n",
       "      <td>1</td>\n",
       "    </tr>\n",
       "    <tr>\n",
       "      <th>9996</th>\n",
       "      <td>78589</td>\n",
       "      <td>7</td>\n",
       "      <td>14881</td>\n",
       "      <td>268</td>\n",
       "      <td>0.517333</td>\n",
       "      <td>0.793696</td>\n",
       "      <td>0</td>\n",
       "    </tr>\n",
       "    <tr>\n",
       "      <th>9997</th>\n",
       "      <td>72704</td>\n",
       "      <td>5</td>\n",
       "      <td>5032</td>\n",
       "      <td>43</td>\n",
       "      <td>0.461757</td>\n",
       "      <td>0.655167</td>\n",
       "      <td>0</td>\n",
       "    </tr>\n",
       "    <tr>\n",
       "      <th>9998</th>\n",
       "      <td>75992</td>\n",
       "      <td>5</td>\n",
       "      <td>26427</td>\n",
       "      <td>222</td>\n",
       "      <td>0.854022</td>\n",
       "      <td>0.904570</td>\n",
       "      <td>1</td>\n",
       "    </tr>\n",
       "    <tr>\n",
       "      <th>9999</th>\n",
       "      <td>73594</td>\n",
       "      <td>1</td>\n",
       "      <td>16933</td>\n",
       "      <td>85</td>\n",
       "      <td>0.224450</td>\n",
       "      <td>0.871505</td>\n",
       "      <td>1</td>\n",
       "    </tr>\n",
       "  </tbody>\n",
       "</table>\n",
       "<p>10000 rows × 7 columns</p>\n",
       "</div>"
      ],
      "text/plain": [
       "      session_id  day  item_id  category  timestamp/age_days  \\\n",
       "0          73937    1    23547        66            0.413801   \n",
       "1          74205    9    31135        27            0.658831   \n",
       "2          78490    7    23840       270            0.486844   \n",
       "3          72677    2     7843         7            0.895641   \n",
       "4          78914    1    25748       215            0.465150   \n",
       "...          ...  ...      ...       ...                 ...   \n",
       "9995       76882    2     4194        40            0.455592   \n",
       "9996       78589    7    14881       268            0.517333   \n",
       "9997       72704    5     5032        43            0.461757   \n",
       "9998       75992    5    26427       222            0.854022   \n",
       "9999       73594    1    16933        85            0.224450   \n",
       "\n",
       "      timestamp/weekday/sin  purchase  \n",
       "0                  0.133115         0  \n",
       "1                  0.276254         1  \n",
       "2                  0.957908         1  \n",
       "3                  0.563399         1  \n",
       "4                  0.207356         1  \n",
       "...                     ...       ...  \n",
       "9995               0.415028         1  \n",
       "9996               0.793696         0  \n",
       "9997               0.655167         0  \n",
       "9998               0.904570         1  \n",
       "9999               0.871505         1  \n",
       "\n",
       "[10000 rows x 7 columns]"
      ]
     },
     "execution_count": 2,
     "metadata": {},
     "output_type": "execute_result"
    }
   ],
   "source": [
    "NUM_ROWS = 10000\n",
    "session_length = 20\n",
    "batch_size = 100\n",
    "inputs = {\n",
    "    'session_id': numpy.random.randint(70000, 80000, NUM_ROWS),\n",
    "    'day': numpy.random.randint(1, 10, NUM_ROWS),\n",
    "    'item_id': numpy.random.randint(1, 51996, NUM_ROWS),\n",
    "    'category': numpy.random.randint(0, 332, NUM_ROWS),\n",
    "    'timestamp/age_days': numpy.random.uniform(0, 1, NUM_ROWS),\n",
    "    'timestamp/weekday/sin' : numpy.random.uniform(0, 1, NUM_ROWS),\n",
    "    'purchase': numpy.random.randint(0, 2, NUM_ROWS)\n",
    "    }\n",
    "random_data = cudf.DataFrame(inputs)\n",
    "random_data"
   ]
  },
  {
   "cell_type": "markdown",
   "id": "peripheral-package",
   "metadata": {},
   "source": [
    "### NVTabular workflow"
   ]
  },
  {
   "cell_type": "markdown",
   "id": "crucial-perry",
   "metadata": {},
   "source": [
    "- #TODO : Change the workflow using tagging API once it is finalized  "
   ]
  },
  {
   "cell_type": "code",
   "execution_count": 3,
   "id": "natural-funeral",
   "metadata": {},
   "outputs": [
    {
     "name": "stderr",
     "output_type": "stream",
     "text": [
      "/nvtabular/nvtabular/workflow/node.py:43: FutureWarning: The `[\"a\", \"b\", \"c\"] >> ops.Operator` syntax for creating a `ColumnGroup` has been deprecated in NVTabular 21.09 and will be removed in a future version.\n",
      "  warnings.warn(\n"
     ]
    }
   ],
   "source": [
    "# Define Groupby Workflow\n",
    "groupby_features = list(inputs.keys()) >> nvt.ops.Groupby(\n",
    "    groupby_cols=[\"session_id\"], \n",
    "    aggs={\n",
    "        \"item_id\": [\"list\"],\n",
    "        \"category\": [\"list\"],     \n",
    "        \"day\": [\"first\"],\n",
    "        \"purchase\": [\"first\"],\n",
    "        \"timestamp/age_days\": [\"list\"],\n",
    "        'timestamp/weekday/sin': [\"list\"],\n",
    "        },\n",
    "    name_sep=\"-\")\n",
    "# Trim sessions to first 20 items \n",
    "groupby_features_nonlist = [x for x in groupby_features.selector if '-list' not in x]\n",
    "groupby_features_nonlist\n",
    "groupby_features_trim = ((groupby_features - groupby_features_nonlist)) >> nvt.ops.ListSlice(0,20) >> nvt.ops.Rename(postfix = '_trim')\n",
    "\n",
    "workflow = nvt.Workflow(groupby_features + groupby_features_trim )\n",
    "dataset = nvt.Dataset(random_data, cpu=False)\n",
    "workflow.fit(dataset)\n",
    "sessions_gdf = workflow.transform(dataset).to_ddf().compute()"
   ]
  },
  {
   "cell_type": "code",
   "execution_count": 4,
   "id": "derived-formation",
   "metadata": {},
   "outputs": [
    {
     "data": {
      "text/html": [
       "<div>\n",
       "<style scoped>\n",
       "    .dataframe tbody tr th:only-of-type {\n",
       "        vertical-align: middle;\n",
       "    }\n",
       "\n",
       "    .dataframe tbody tr th {\n",
       "        vertical-align: top;\n",
       "    }\n",
       "\n",
       "    .dataframe thead th {\n",
       "        text-align: right;\n",
       "    }\n",
       "</style>\n",
       "<table border=\"1\" class=\"dataframe\">\n",
       "  <thead>\n",
       "    <tr style=\"text-align: right;\">\n",
       "      <th></th>\n",
       "      <th>category-list</th>\n",
       "      <th>purchase-first</th>\n",
       "      <th>timestamp/weekday/sin-list</th>\n",
       "      <th>timestamp/age_days-list</th>\n",
       "      <th>session_id</th>\n",
       "      <th>item_id-list</th>\n",
       "      <th>day-first</th>\n",
       "      <th>category-list_trim</th>\n",
       "      <th>timestamp/weekday/sin-list_trim</th>\n",
       "      <th>timestamp/age_days-list_trim</th>\n",
       "      <th>item_id-list_trim</th>\n",
       "    </tr>\n",
       "  </thead>\n",
       "  <tbody>\n",
       "    <tr>\n",
       "      <th>0</th>\n",
       "      <td>[184, 135, 224]</td>\n",
       "      <td>0</td>\n",
       "      <td>[0.257748284548454, 0.7676927098279173, 0.7387...</td>\n",
       "      <td>[0.3356433901782223, 0.8908132518976292, 0.855...</td>\n",
       "      <td>70002</td>\n",
       "      <td>[47039, 14928, 21948]</td>\n",
       "      <td>9</td>\n",
       "      <td>[184, 135, 224]</td>\n",
       "      <td>[0.257748284548454, 0.7676927098279173, 0.7387...</td>\n",
       "      <td>[0.3356433901782223, 0.8908132518976292, 0.855...</td>\n",
       "      <td>[47039, 14928, 21948]</td>\n",
       "    </tr>\n",
       "    <tr>\n",
       "      <th>1</th>\n",
       "      <td>[277]</td>\n",
       "      <td>0</td>\n",
       "      <td>[0.2782138412720573]</td>\n",
       "      <td>[0.20679906905291812]</td>\n",
       "      <td>70003</td>\n",
       "      <td>[43424]</td>\n",
       "      <td>2</td>\n",
       "      <td>[277]</td>\n",
       "      <td>[0.2782138412720573]</td>\n",
       "      <td>[0.20679906905291812]</td>\n",
       "      <td>[43424]</td>\n",
       "    </tr>\n",
       "    <tr>\n",
       "      <th>2</th>\n",
       "      <td>[229]</td>\n",
       "      <td>0</td>\n",
       "      <td>[0.2765030673053457]</td>\n",
       "      <td>[0.9463081705213681]</td>\n",
       "      <td>70005</td>\n",
       "      <td>[20205]</td>\n",
       "      <td>1</td>\n",
       "      <td>[229]</td>\n",
       "      <td>[0.2765030673053457]</td>\n",
       "      <td>[0.9463081705213681]</td>\n",
       "      <td>[20205]</td>\n",
       "    </tr>\n",
       "  </tbody>\n",
       "</table>\n",
       "</div>"
      ],
      "text/plain": [
       "     category-list  purchase-first  \\\n",
       "0  [184, 135, 224]               0   \n",
       "1            [277]               0   \n",
       "2            [229]               0   \n",
       "\n",
       "                          timestamp/weekday/sin-list  \\\n",
       "0  [0.257748284548454, 0.7676927098279173, 0.7387...   \n",
       "1                               [0.2782138412720573]   \n",
       "2                               [0.2765030673053457]   \n",
       "\n",
       "                             timestamp/age_days-list  session_id  \\\n",
       "0  [0.3356433901782223, 0.8908132518976292, 0.855...       70002   \n",
       "1                              [0.20679906905291812]       70003   \n",
       "2                               [0.9463081705213681]       70005   \n",
       "\n",
       "            item_id-list  day-first category-list_trim  \\\n",
       "0  [47039, 14928, 21948]          9    [184, 135, 224]   \n",
       "1                [43424]          2              [277]   \n",
       "2                [20205]          1              [229]   \n",
       "\n",
       "                     timestamp/weekday/sin-list_trim  \\\n",
       "0  [0.257748284548454, 0.7676927098279173, 0.7387...   \n",
       "1                               [0.2782138412720573]   \n",
       "2                               [0.2765030673053457]   \n",
       "\n",
       "                        timestamp/age_days-list_trim      item_id-list_trim  \n",
       "0  [0.3356433901782223, 0.8908132518976292, 0.855...  [47039, 14928, 21948]  \n",
       "1                              [0.20679906905291812]                [43424]  \n",
       "2                               [0.9463081705213681]                [20205]  "
      ]
     },
     "execution_count": 4,
     "metadata": {},
     "output_type": "execute_result"
    }
   ],
   "source": [
    "sessions_gdf.head(3)"
   ]
  },
  {
   "cell_type": "markdown",
   "id": "declared-librarian",
   "metadata": {},
   "source": [
    "- We can save the workflow."
   ]
  },
  {
   "cell_type": "code",
   "execution_count": 5,
   "id": "average-joseph",
   "metadata": {},
   "outputs": [],
   "source": [
    "workflow.save('workflow_inference_test')"
   ]
  },
  {
   "cell_type": "markdown",
   "id": "functioning-sunday",
   "metadata": {},
   "source": [
    "### Export pre-processed data by day "
   ]
  },
  {
   "cell_type": "code",
   "execution_count": 6,
   "id": "monthly-forge",
   "metadata": {},
   "outputs": [],
   "source": [
    "# Convert to a Dataset and write out hive-partitioned data to disk\n",
    "nvt_output_path_tmp ='./output_nvt_tmp/'\n",
    "PARTITION_COL = 'day-first'\n",
    "nvt.Dataset(sessions_gdf).to_parquet(nvt_output_path_tmp, partition_on=[PARTITION_COL])"
   ]
  },
  {
   "cell_type": "code",
   "execution_count": 7,
   "id": "fifty-determination",
   "metadata": {},
   "outputs": [],
   "source": [
    "OUTPUT_FOLDER = \"./preproc_sessions_by_day_ts/\"\n",
    "!mkdir -p $OUTPUT_FOLDER\n",
    "days_folders = [f for f in sorted(os.listdir(nvt_output_path_tmp)) if f.startswith(PARTITION_COL)]\n",
    "for day_folder in days_folders:\n",
    "    df = cudf.read_parquet(os.path.join(nvt_output_path_tmp, day_folder))\n",
    "    out_folder = os.path.join(OUTPUT_FOLDER, day_folder.replace('day-first=', ''))\n",
    "    os.makedirs(out_folder, exist_ok=True)\n",
    "    df.to_parquet(os.path.join(out_folder, 'train.parquet'))\n",
    "    \n",
    "    random_values = cupy.random.rand(len(df))\n",
    "    \n",
    "    #Extracts 10% for valid and test set. Those sessions are also in the train set, but as evaluation\n",
    "    #happens only for the subsequent day of training, that is not an issue, and we can keep the train set larger.\n",
    "    valid_set = df[random_values <= 0.10]\n",
    "    valid_set.to_parquet(os.path.join(out_folder, 'valid.parquet'))\n",
    "    \n",
    "    test_set = df[random_values >= 0.90]\n",
    "    test_set.to_parquet(os.path.join(out_folder, 'test.parquet'))"
   ]
  },
  {
   "cell_type": "markdown",
   "id": "stone-commodity",
   "metadata": {},
   "source": [
    "# Transformers4rec model  "
   ]
  },
  {
   "cell_type": "code",
   "execution_count": 8,
   "id": "tutorial-choir",
   "metadata": {},
   "outputs": [],
   "source": [
    "import torch \n",
    "import transformers4rec.torch as torch4rec\n",
    "from transformers4rec.torch import SequentialTabularFeatures, MLPBlock, SequentialBlock, Head, TransformerBlock\n",
    "\n",
    "from transformers4rec.utils.schema import DatasetSchema\n",
    "\n",
    "from transformers4rec.torch.head import NextItemPredictionTask\n",
    "\n",
    "from transformers4rec.config import transformer\n",
    "from transformers4rec.torch.ranking_metric import NDCGAt, AvgPrecisionAt"
   ]
  },
  {
   "cell_type": "markdown",
   "id": "adult-extreme",
   "metadata": {},
   "source": [
    "- Manually set the schema "
   ]
  },
  {
   "cell_type": "code",
   "execution_count": 9,
   "id": "atlantic-horror",
   "metadata": {},
   "outputs": [],
   "source": [
    "# Define schema object to pass it to the SequentialTabularFeatures\n",
    "schema = DatasetSchema.from_schema(\"schema.pb\")"
   ]
  },
  {
   "cell_type": "markdown",
   "id": "gorgeous-perspective",
   "metadata": {},
   "source": [
    "### Define the sequential input module"
   ]
  },
  {
   "cell_type": "markdown",
   "id": "bored-warrior",
   "metadata": {},
   "source": [
    "Below we define our `input` bloc using [`SequentialTabularFeatures` class](https://github.com/NVIDIA-Merlin/Transformers4Rec/blob/main/transformers4rec/torch/features/sequential.py). The `from_schema` module directly parse schema and accepts categorical and continuous sequential inputs and supports data augmentation, data aggregation, `sequential-concat` and `elementwise-sum` aggregations, the projection of the interaction embeddings and the masking tasks.\n",
    "\n",
    "`max_sequence_length` defines the maximum sequence length of our sequential input, and if `continuous_projection` argument is set,  all numerical features are concatenated and projected by a number of MLP layers."
   ]
  },
  {
   "cell_type": "code",
   "execution_count": 10,
   "id": "tight-malta",
   "metadata": {},
   "outputs": [],
   "source": [
    "inputs = SequentialTabularFeatures.from_schema(\n",
    "        schema,\n",
    "        max_sequence_length=20,\n",
    "        continuous_projection=64,\n",
    "        d_output=100,\n",
    "        masking=\"causal\",\n",
    "    )\n",
    "\n",
    "inputs.masking.device = 'cuda'"
   ]
  },
  {
   "cell_type": "markdown",
   "id": "incredible-merit",
   "metadata": {},
   "source": [
    "### End-to-end session-based Transformer-based model for item prediction:"
   ]
  },
  {
   "cell_type": "markdown",
   "id": "offshore-reference",
   "metadata": {},
   "source": [
    "- LM task + HF Transformer architecture + Next item-prediction task. \n",
    "- We build a [T4RecConfig](https://github.com/NVIDIA-Merlin/Transformers4Rec/blob/main/transformers4rec/config/transformer.py#L8) class to update the config class of the transformer architecture with the specified arguments, then load the related model. Here we use it to instantiate an XLNET model according to the  arguments (d_model, n_head, etc.), defining the model architecture.\n",
    "- [TransformerBlock](https://github.com/NVIDIA-Merlin/Transformers4Rec/blob/main/transformers4rec/torch/block/transformer.py#L37) class is created to support HF Transformers for session-based and sequential-based recommendation models.\n",
    "- [NextItemPredictionTask](https://github.com/NVIDIA-Merlin/Transformers4Rec/blob/main/transformers4rec/torch/head.py#L212) is the class to support next item prediction task."
   ]
  },
  {
   "cell_type": "code",
   "execution_count": 11,
   "id": "starting-estonia",
   "metadata": {},
   "outputs": [],
   "source": [
    "# case-1: Define XLNetConfig class and set default parameters \n",
    "\n",
    "transformer_config = transformer.XLNetConfig.build(\n",
    "    d_model=64, n_head=4, n_layer=2, total_seq_length=20\n",
    ")\n",
    "\n",
    "body = torch4rec.SequentialBlock(\n",
    "    inputs, torch4rec.MLPBlock([64]), torch4rec.TransformerBlock(transformer=transformer_config, masking=inputs.masking)\n",
    ")\n",
    "\n",
    "head = torch4rec.Head(\n",
    "    body,\n",
    "    torch4rec.NextItemPredictionTask(weight_tying=True, hf_format=True, metrics=[NDCGAt(top_ks=[5,10, 1000], labels_onehot=True),\n",
    "                                                                                 AvgPrecisionAt(top_ks=[5,10, 1000],labels_onehot=True)]),\n",
    "    inputs=inputs,\n",
    ")\n",
    "model = torch4rec.Model(head)"
   ]
  },
  {
   "cell_type": "markdown",
   "id": "violent-power",
   "metadata": {},
   "source": [
    "# Train the model "
   ]
  },
  {
   "cell_type": "markdown",
   "id": "extra-tuesday",
   "metadata": {},
   "source": [
    "- Set the Trainer"
   ]
  },
  {
   "cell_type": "code",
   "execution_count": 12,
   "id": "sexual-basics",
   "metadata": {},
   "outputs": [],
   "source": [
    "from transformers4rec.config.trainer import T4RecTrainingArguments\n",
    "from transformers4rec.torch import Trainer\n",
    "#Set argumentd for training \n",
    "train_args = T4RecTrainingArguments(local_rank = -1, dataloader_drop_last = True,\n",
    "                  report_to = [], debug = [\"r\"], gradient_accumulation_steps = 32,\n",
    "                  per_device_train_batch_size = 512, per_device_eval_batch_size = 512,\n",
    "                  output_dir = \".\", use_legacy_prediction_loop = False)\n",
    "\n",
    "# Instantiate the T4Rec Trainer, which manages training and evaluation\n",
    "trainer = Trainer(\n",
    "    model=model,\n",
    "    args=train_args,\n",
    "    compute_metrics=True,\n",
    ")"
   ]
  },
  {
   "cell_type": "markdown",
   "id": "pregnant-summit",
   "metadata": {},
   "source": [
    "- Build dataloader "
   ]
  },
  {
   "cell_type": "code",
   "execution_count": 13,
   "id": "exciting-prototype",
   "metadata": {},
   "outputs": [],
   "source": [
    "import glob\n",
    "from transformers4rec.torch.utils.data_utils import PyarrowDataLoaderBuilder, NVTDataLoaderBuilder\n",
    "train_data_paths = glob.glob(\"./preproc_sessions_by_day_ts/*/train.parquet\")\n",
    "\n",
    "# Specify sparse features\n",
    "SESSION_LENGTH_MAX = 20\n",
    "x_cat_names, x_cont_names = ['item_id-list_trim', 'category-list_trim'], ['timestamp/weekday/sin-list_trim','timestamp/age_days-list_trim']\n",
    "sparse_features_max = {\n",
    "    fname: SESSION_LENGTH_MAX\n",
    "    for fname in x_cat_names + x_cont_names\n",
    "}"
   ]
  },
  {
   "cell_type": "code",
   "execution_count": 14,
   "id": "underlying-assets",
   "metadata": {},
   "outputs": [],
   "source": [
    "pyarrow_loader = PyarrowDataLoaderBuilder(\n",
    "                                    paths_or_dataset=train_data_paths, \n",
    "                                    batch_size=train_args.per_device_train_batch_size,\n",
    "                                    max_sequence_length=20,\n",
    "                                    dataloader_drop_last=True,\n",
    "                                    shuffle=True,\n",
    "                                    pin_memory=True\n",
    "    \n",
    "                                ).build_from_schema(schema)\n",
    "\n",
    "nvt_loader = NVTDataLoaderBuilder(paths_or_dataset=train_data_paths, \n",
    "                                batch_size=train_args.per_device_train_batch_size,\n",
    "                                max_sequence_length=20,\n",
    "                                dataloader_drop_last=True,\n",
    "                                shuffle=True,\n",
    "                                sparse_as_dense=True,\n",
    "                                sparse_names=x_cat_names+x_cont_names,\n",
    "                                sparse_max=sparse_features_max\n",
    "                                ).build_from_schema(schema)"
   ]
  },
  {
   "cell_type": "markdown",
   "id": "tested-resident",
   "metadata": {},
   "source": [
    "- Fit the model : "
   ]
  },
  {
   "cell_type": "code",
   "execution_count": 15,
   "id": "painful-instrumentation",
   "metadata": {},
   "outputs": [
    {
     "data": {
      "text/html": [
       "\n",
       "    <div>\n",
       "      \n",
       "      <progress value='3' max='3' style='width:300px; height:20px; vertical-align: middle;'></progress>\n",
       "      [3/3 00:01, Epoch 3/3]\n",
       "    </div>\n",
       "    <table border=\"1\" class=\"dataframe\">\n",
       "  <thead>\n",
       "    <tr style=\"text-align: left;\">\n",
       "      <th>Step</th>\n",
       "      <th>Training Loss</th>\n",
       "    </tr>\n",
       "  </thead>\n",
       "  <tbody>\n",
       "  </tbody>\n",
       "</table><p>"
      ],
      "text/plain": [
       "<IPython.core.display.HTML object>"
      ]
     },
     "metadata": {},
     "output_type": "display_data"
    },
    {
     "data": {
      "text/plain": [
       "TrainOutput(global_step=3, training_loss=15.08968734741211, metrics={'train_runtime': 3.0099, 'train_samples_per_second': 0.997, 'total_flos': 0.0, 'epoch': 3.0, 'init_mem_cpu_alloc_delta': 2647527424, 'init_mem_gpu_alloc_delta': 14147584, 'init_mem_cpu_peaked_delta': 0, 'init_mem_gpu_peaked_delta': 0, 'train_mem_cpu_alloc_delta': 28340224, 'train_mem_gpu_alloc_delta': 42939904, 'train_mem_cpu_peaked_delta': 8192, 'train_mem_gpu_peaked_delta': 440794624})"
      ]
     },
     "execution_count": 15,
     "metadata": {},
     "output_type": "execute_result"
    }
   ],
   "source": [
    "trainer.set_train_dataloader(nvt_loader)\n",
    "trainer.reset_lr_scheduler()\n",
    "trainer.train()"
   ]
  },
  {
   "cell_type": "markdown",
   "id": "graduate-possible",
   "metadata": {},
   "source": [
    "- Evaluate the model: here we evaluate the model using training set."
   ]
  },
  {
   "cell_type": "code",
   "execution_count": 16,
   "id": "usual-bronze",
   "metadata": {},
   "outputs": [
    {
     "name": "stderr",
     "output_type": "stream",
     "text": [
      "/opt/conda/lib/python3.8/site-packages/transformers/trainer_pt_utils.py:366: FutureWarning: DistributedTensorGatherer is deprecated and will be removed in v5 of Transformers.\n",
      "  warnings.warn(\n"
     ]
    },
    {
     "data": {
      "text/html": [
       "\n",
       "    <div>\n",
       "      \n",
       "      <progress value='12' max='12' style='width:300px; height:20px; vertical-align: middle;'></progress>\n",
       "      [12/12 00:21]\n",
       "    </div>\n",
       "    "
      ],
      "text/plain": [
       "<IPython.core.display.HTML object>"
      ]
     },
     "metadata": {},
     "output_type": "display_data"
    },
    {
     "name": "stderr",
     "output_type": "stream",
     "text": [
      "Not all data has been set. Are you sure you passed all values?\n",
      "Not all data has been set. Are you sure you passed all values?\n"
     ]
    },
    {
     "name": "stdout",
     "output_type": "stream",
     "text": [
      "  epoch = 3.0\n",
      "  eval_mem_cpu_alloc_delta = 2637824\n",
      "  eval_mem_cpu_peaked_delta = 102400\n",
      "  eval_mem_gpu_alloc_delta = -238592\n",
      "  eval_mem_gpu_peaked_delta = 574467584\n",
      "  train_avgprecisionat_@10 = 0.0\n",
      "  train_avgprecisionat_@1000 = 7.8851226e-05\n",
      "  train_avgprecisionat_@5 = 0.0\n",
      "  train_loss = 34.1590264638265\n",
      "  train_ndcgat_@10 = 0.0\n",
      "  train_ndcgat_@1000 = 0.0022098827\n",
      "  train_ndcgat_@5 = 0.0\n",
      "  train_runtime = 24.2242\n",
      "  train_samples_per_second = 422.718\n"
     ]
    }
   ],
   "source": [
    "trainer.set_eval_dataloader(nvt_loader)\n",
    "train_metrics = trainer.evaluate(metric_key_prefix='train')\n",
    "for key in sorted(train_metrics.keys()):\n",
    "    print(\"  %s = %s\" % (key, str(train_metrics[key])))"
   ]
  },
  {
   "cell_type": "code",
   "execution_count": null,
   "id": "clean-massachusetts",
   "metadata": {},
   "outputs": [],
   "source": []
  }
 ],
 "metadata": {
  "kernelspec": {
   "display_name": "Python 3",
   "language": "python",
   "name": "python3"
  },
  "language_info": {
   "codemirror_mode": {
    "name": "ipython",
    "version": 3
   },
   "file_extension": ".py",
   "mimetype": "text/x-python",
   "name": "python",
   "nbconvert_exporter": "python",
   "pygments_lexer": "ipython3",
   "version": "3.8.8"
  }
 },
 "nbformat": 4,
 "nbformat_minor": 5
}
