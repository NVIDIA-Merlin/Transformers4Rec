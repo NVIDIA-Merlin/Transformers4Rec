{
 "cells": [
  {
   "cell_type": "code",
   "execution_count": 1,
   "id": "tribal-neutral",
   "metadata": {},
   "outputs": [],
   "source": [
    "import os\n",
    "import torch \n",
    "import numpy\n",
    "import pandas as pd \n",
    "import cudf\n",
    "import cupy\n",
    "import nvtabular as nvt"
   ]
  },
  {
   "cell_type": "markdown",
   "id": "harmful-lover",
   "metadata": {},
   "source": [
    "### Create random input data similar to pre-processed Yoochoose dataset structure "
   ]
  },
  {
   "cell_type": "code",
   "execution_count": 2,
   "id": "saving-native",
   "metadata": {},
   "outputs": [
    {
     "data": {
      "text/html": [
       "<div>\n",
       "<style scoped>\n",
       "    .dataframe tbody tr th:only-of-type {\n",
       "        vertical-align: middle;\n",
       "    }\n",
       "\n",
       "    .dataframe tbody tr th {\n",
       "        vertical-align: top;\n",
       "    }\n",
       "\n",
       "    .dataframe thead th {\n",
       "        text-align: right;\n",
       "    }\n",
       "</style>\n",
       "<table border=\"1\" class=\"dataframe\">\n",
       "  <thead>\n",
       "    <tr style=\"text-align: right;\">\n",
       "      <th></th>\n",
       "      <th>session_id</th>\n",
       "      <th>day</th>\n",
       "      <th>item_id</th>\n",
       "      <th>category</th>\n",
       "      <th>timestamp/age_days</th>\n",
       "      <th>timestamp/weekday/sin</th>\n",
       "      <th>purchase</th>\n",
       "    </tr>\n",
       "  </thead>\n",
       "  <tbody>\n",
       "    <tr>\n",
       "      <th>0</th>\n",
       "      <td>76747</td>\n",
       "      <td>6</td>\n",
       "      <td>22388</td>\n",
       "      <td>72</td>\n",
       "      <td>0.288054</td>\n",
       "      <td>0.533836</td>\n",
       "      <td>1</td>\n",
       "    </tr>\n",
       "    <tr>\n",
       "      <th>1</th>\n",
       "      <td>71167</td>\n",
       "      <td>9</td>\n",
       "      <td>47833</td>\n",
       "      <td>221</td>\n",
       "      <td>0.550444</td>\n",
       "      <td>0.116814</td>\n",
       "      <td>1</td>\n",
       "    </tr>\n",
       "    <tr>\n",
       "      <th>2</th>\n",
       "      <td>73963</td>\n",
       "      <td>4</td>\n",
       "      <td>22239</td>\n",
       "      <td>159</td>\n",
       "      <td>0.490460</td>\n",
       "      <td>0.485789</td>\n",
       "      <td>0</td>\n",
       "    </tr>\n",
       "    <tr>\n",
       "      <th>3</th>\n",
       "      <td>79271</td>\n",
       "      <td>5</td>\n",
       "      <td>3361</td>\n",
       "      <td>155</td>\n",
       "      <td>0.206031</td>\n",
       "      <td>0.062344</td>\n",
       "      <td>0</td>\n",
       "    </tr>\n",
       "    <tr>\n",
       "      <th>4</th>\n",
       "      <td>72333</td>\n",
       "      <td>9</td>\n",
       "      <td>29085</td>\n",
       "      <td>312</td>\n",
       "      <td>0.572049</td>\n",
       "      <td>0.032932</td>\n",
       "      <td>0</td>\n",
       "    </tr>\n",
       "    <tr>\n",
       "      <th>...</th>\n",
       "      <td>...</td>\n",
       "      <td>...</td>\n",
       "      <td>...</td>\n",
       "      <td>...</td>\n",
       "      <td>...</td>\n",
       "      <td>...</td>\n",
       "      <td>...</td>\n",
       "    </tr>\n",
       "    <tr>\n",
       "      <th>9995</th>\n",
       "      <td>72993</td>\n",
       "      <td>6</td>\n",
       "      <td>42526</td>\n",
       "      <td>110</td>\n",
       "      <td>0.471787</td>\n",
       "      <td>0.002256</td>\n",
       "      <td>1</td>\n",
       "    </tr>\n",
       "    <tr>\n",
       "      <th>9996</th>\n",
       "      <td>73604</td>\n",
       "      <td>3</td>\n",
       "      <td>19149</td>\n",
       "      <td>326</td>\n",
       "      <td>0.987786</td>\n",
       "      <td>0.858587</td>\n",
       "      <td>0</td>\n",
       "    </tr>\n",
       "    <tr>\n",
       "      <th>9997</th>\n",
       "      <td>75048</td>\n",
       "      <td>2</td>\n",
       "      <td>26950</td>\n",
       "      <td>122</td>\n",
       "      <td>0.136803</td>\n",
       "      <td>0.244733</td>\n",
       "      <td>0</td>\n",
       "    </tr>\n",
       "    <tr>\n",
       "      <th>9998</th>\n",
       "      <td>76540</td>\n",
       "      <td>5</td>\n",
       "      <td>23454</td>\n",
       "      <td>82</td>\n",
       "      <td>0.961493</td>\n",
       "      <td>0.404627</td>\n",
       "      <td>1</td>\n",
       "    </tr>\n",
       "    <tr>\n",
       "      <th>9999</th>\n",
       "      <td>74839</td>\n",
       "      <td>7</td>\n",
       "      <td>13494</td>\n",
       "      <td>271</td>\n",
       "      <td>0.254159</td>\n",
       "      <td>0.438050</td>\n",
       "      <td>0</td>\n",
       "    </tr>\n",
       "  </tbody>\n",
       "</table>\n",
       "<p>10000 rows × 7 columns</p>\n",
       "</div>"
      ],
      "text/plain": [
       "      session_id  day  item_id  category  timestamp/age_days  \\\n",
       "0          76747    6    22388        72            0.288054   \n",
       "1          71167    9    47833       221            0.550444   \n",
       "2          73963    4    22239       159            0.490460   \n",
       "3          79271    5     3361       155            0.206031   \n",
       "4          72333    9    29085       312            0.572049   \n",
       "...          ...  ...      ...       ...                 ...   \n",
       "9995       72993    6    42526       110            0.471787   \n",
       "9996       73604    3    19149       326            0.987786   \n",
       "9997       75048    2    26950       122            0.136803   \n",
       "9998       76540    5    23454        82            0.961493   \n",
       "9999       74839    7    13494       271            0.254159   \n",
       "\n",
       "      timestamp/weekday/sin  purchase  \n",
       "0                  0.533836         1  \n",
       "1                  0.116814         1  \n",
       "2                  0.485789         0  \n",
       "3                  0.062344         0  \n",
       "4                  0.032932         0  \n",
       "...                     ...       ...  \n",
       "9995               0.002256         1  \n",
       "9996               0.858587         0  \n",
       "9997               0.244733         0  \n",
       "9998               0.404627         1  \n",
       "9999               0.438050         0  \n",
       "\n",
       "[10000 rows x 7 columns]"
      ]
     },
     "execution_count": 2,
     "metadata": {},
     "output_type": "execute_result"
    }
   ],
   "source": [
    "NUM_ROWS = 10000\n",
    "session_length = 20\n",
    "batch_size = 100\n",
    "inputs = {\n",
    "    'session_id': numpy.random.randint(70000, 80000, NUM_ROWS),\n",
    "    'day': numpy.random.randint(1, 10, NUM_ROWS),\n",
    "    'item_id': numpy.random.randint(1, 51996, NUM_ROWS),\n",
    "    'category': numpy.random.randint(0, 332, NUM_ROWS),\n",
    "    'timestamp/age_days': numpy.random.uniform(0, 1, NUM_ROWS),\n",
    "    'timestamp/weekday/sin' : numpy.random.uniform(0, 1, NUM_ROWS),\n",
    "    'purchase': numpy.random.randint(0, 2, NUM_ROWS)\n",
    "    }\n",
    "random_data = cudf.DataFrame(inputs)\n",
    "random_data"
   ]
  },
  {
   "cell_type": "markdown",
   "id": "floral-feeding",
   "metadata": {},
   "source": [
    "### NVTabular workflow"
   ]
  },
  {
   "cell_type": "markdown",
   "id": "painful-expansion",
   "metadata": {},
   "source": [
    "- #TODO : Change the workflow using tagging API once it is finalized  "
   ]
  },
  {
   "cell_type": "code",
   "execution_count": 3,
   "id": "natural-michigan",
   "metadata": {},
   "outputs": [
    {
     "name": "stderr",
     "output_type": "stream",
     "text": [
      "/nvtabular/nvtabular/workflow/node.py:43: FutureWarning: The `[\"a\", \"b\", \"c\"] >> ops.Operator` syntax for creating a `ColumnGroup` has been deprecated in NVTabular 21.09 and will be removed in a future version.\n",
      "  warnings.warn(\n"
     ]
    }
   ],
   "source": [
    "# Define Groupby Workflow\n",
    "groupby_features = list(inputs.keys()) >> nvt.ops.Groupby(\n",
    "    groupby_cols=[\"session_id\"], \n",
    "    aggs={\n",
    "        \"item_id\": [\"list\"],\n",
    "        \"category\": [\"list\"],     \n",
    "        \"day\": [\"first\"],\n",
    "        \"purchase\": [\"first\"],\n",
    "        \"timestamp/age_days\": [\"list\"],\n",
    "        'timestamp/weekday/sin': [\"list\"],\n",
    "        },\n",
    "    name_sep=\"-\")\n",
    "# Trim sessions to first 20 items \n",
    "groupby_features_nonlist = [x for x in groupby_features.selector if '-list' not in x]\n",
    "groupby_features_nonlist\n",
    "groupby_features_trim = ((groupby_features - groupby_features_nonlist)) >> nvt.ops.ListSlice(0,20) >> nvt.ops.Rename(postfix = '_trim')\n",
    "\n",
    "workflow = nvt.Workflow(groupby_features + groupby_features_trim )\n",
    "dataset = nvt.Dataset(random_data, cpu=False)\n",
    "workflow.fit(dataset)\n",
    "sessions_gdf = workflow.transform(dataset).to_ddf().compute()"
   ]
  },
  {
   "cell_type": "code",
   "execution_count": 4,
   "id": "resistant-council",
   "metadata": {},
   "outputs": [
    {
     "data": {
      "text/html": [
       "<div>\n",
       "<style scoped>\n",
       "    .dataframe tbody tr th:only-of-type {\n",
       "        vertical-align: middle;\n",
       "    }\n",
       "\n",
       "    .dataframe tbody tr th {\n",
       "        vertical-align: top;\n",
       "    }\n",
       "\n",
       "    .dataframe thead th {\n",
       "        text-align: right;\n",
       "    }\n",
       "</style>\n",
       "<table border=\"1\" class=\"dataframe\">\n",
       "  <thead>\n",
       "    <tr style=\"text-align: right;\">\n",
       "      <th></th>\n",
       "      <th>purchase-first</th>\n",
       "      <th>timestamp/age_days-list</th>\n",
       "      <th>session_id</th>\n",
       "      <th>timestamp/weekday/sin-list</th>\n",
       "      <th>item_id-list</th>\n",
       "      <th>category-list</th>\n",
       "      <th>day-first</th>\n",
       "      <th>timestamp/age_days-list_trim</th>\n",
       "      <th>timestamp/weekday/sin-list_trim</th>\n",
       "      <th>item_id-list_trim</th>\n",
       "      <th>category-list_trim</th>\n",
       "    </tr>\n",
       "  </thead>\n",
       "  <tbody>\n",
       "    <tr>\n",
       "      <th>0</th>\n",
       "      <td>0</td>\n",
       "      <td>[0.9162040642342256, 0.12168169060280332]</td>\n",
       "      <td>70000</td>\n",
       "      <td>[0.1445256999821507, 0.34874245458422604]</td>\n",
       "      <td>[17689, 5731]</td>\n",
       "      <td>[272, 180]</td>\n",
       "      <td>3</td>\n",
       "      <td>[0.9162040642342256, 0.12168169060280332]</td>\n",
       "      <td>[0.1445256999821507, 0.34874245458422604]</td>\n",
       "      <td>[17689, 5731]</td>\n",
       "      <td>[272, 180]</td>\n",
       "    </tr>\n",
       "    <tr>\n",
       "      <th>1</th>\n",
       "      <td>0</td>\n",
       "      <td>[0.3648727333239704]</td>\n",
       "      <td>70001</td>\n",
       "      <td>[0.2666721097634238]</td>\n",
       "      <td>[31982]</td>\n",
       "      <td>[162]</td>\n",
       "      <td>4</td>\n",
       "      <td>[0.3648727333239704]</td>\n",
       "      <td>[0.2666721097634238]</td>\n",
       "      <td>[31982]</td>\n",
       "      <td>[162]</td>\n",
       "    </tr>\n",
       "    <tr>\n",
       "      <th>2</th>\n",
       "      <td>1</td>\n",
       "      <td>[0.7997741673137783, 0.7381101537531506]</td>\n",
       "      <td>70002</td>\n",
       "      <td>[0.32939338781118777, 0.04611238136930851]</td>\n",
       "      <td>[36459, 27061]</td>\n",
       "      <td>[134, 276]</td>\n",
       "      <td>1</td>\n",
       "      <td>[0.7997741673137783, 0.7381101537531506]</td>\n",
       "      <td>[0.32939338781118777, 0.04611238136930851]</td>\n",
       "      <td>[36459, 27061]</td>\n",
       "      <td>[134, 276]</td>\n",
       "    </tr>\n",
       "  </tbody>\n",
       "</table>\n",
       "</div>"
      ],
      "text/plain": [
       "   purchase-first                    timestamp/age_days-list  session_id  \\\n",
       "0               0  [0.9162040642342256, 0.12168169060280332]       70000   \n",
       "1               0                       [0.3648727333239704]       70001   \n",
       "2               1   [0.7997741673137783, 0.7381101537531506]       70002   \n",
       "\n",
       "                   timestamp/weekday/sin-list    item_id-list category-list  \\\n",
       "0   [0.1445256999821507, 0.34874245458422604]   [17689, 5731]    [272, 180]   \n",
       "1                        [0.2666721097634238]         [31982]         [162]   \n",
       "2  [0.32939338781118777, 0.04611238136930851]  [36459, 27061]    [134, 276]   \n",
       "\n",
       "   day-first               timestamp/age_days-list_trim  \\\n",
       "0          3  [0.9162040642342256, 0.12168169060280332]   \n",
       "1          4                       [0.3648727333239704]   \n",
       "2          1   [0.7997741673137783, 0.7381101537531506]   \n",
       "\n",
       "              timestamp/weekday/sin-list_trim item_id-list_trim  \\\n",
       "0   [0.1445256999821507, 0.34874245458422604]     [17689, 5731]   \n",
       "1                        [0.2666721097634238]           [31982]   \n",
       "2  [0.32939338781118777, 0.04611238136930851]    [36459, 27061]   \n",
       "\n",
       "  category-list_trim  \n",
       "0         [272, 180]  \n",
       "1              [162]  \n",
       "2         [134, 276]  "
      ]
     },
     "execution_count": 4,
     "metadata": {},
     "output_type": "execute_result"
    }
   ],
   "source": [
    "sessions_gdf.head(3)"
   ]
  },
  {
   "cell_type": "markdown",
   "id": "talented-hungarian",
   "metadata": {},
   "source": [
    "- We can save the workflow."
   ]
  },
  {
   "cell_type": "code",
   "execution_count": 5,
   "id": "neural-trash",
   "metadata": {},
   "outputs": [],
   "source": [
    "workflow.save('workflow_inference_test')"
   ]
  },
  {
   "cell_type": "markdown",
   "id": "documentary-thread",
   "metadata": {},
   "source": [
    "### Export pre-processed data by day "
   ]
  },
  {
   "cell_type": "code",
   "execution_count": 6,
   "id": "announced-gibraltar",
   "metadata": {},
   "outputs": [],
   "source": [
    "# Convert to a Dataset and write out hive-partitioned data to disk\n",
    "nvt_output_path_tmp ='./output_nvt_tmp/'\n",
    "PARTITION_COL = 'day-first'\n",
    "nvt.Dataset(sessions_gdf).to_parquet(nvt_output_path_tmp, partition_on=[PARTITION_COL])"
   ]
  },
  {
   "cell_type": "code",
   "execution_count": 7,
   "id": "otherwise-formation",
   "metadata": {},
   "outputs": [],
   "source": [
    "OUTPUT_FOLDER = \"./preproc_sessions_by_day_ts/\"\n",
    "!mkdir -p $OUTPUT_FOLDER\n",
    "days_folders = [f for f in sorted(os.listdir(nvt_output_path_tmp)) if f.startswith(PARTITION_COL)]\n",
    "for day_folder in days_folders:\n",
    "    df = cudf.read_parquet(os.path.join(nvt_output_path_tmp, day_folder))\n",
    "    out_folder = os.path.join(OUTPUT_FOLDER, day_folder.replace('day-first=', ''))\n",
    "    os.makedirs(out_folder, exist_ok=True)\n",
    "    df.to_parquet(os.path.join(out_folder, 'train.parquet'))\n",
    "    \n",
    "    random_values = cupy.random.rand(len(df))\n",
    "    \n",
    "    #Extracts 10% for valid and test set. Those sessions are also in the train set, but as evaluation\n",
    "    #happens only for the subsequent day of training, that is not an issue, and we can keep the train set larger.\n",
    "    valid_set = df[random_values <= 0.10]\n",
    "    valid_set.to_parquet(os.path.join(out_folder, 'valid.parquet'))\n",
    "    \n",
    "    test_set = df[random_values >= 0.90]\n",
    "    test_set.to_parquet(os.path.join(out_folder, 'test.parquet'))"
   ]
  },
  {
   "cell_type": "markdown",
   "id": "brown-matthew",
   "metadata": {},
   "source": [
    "# Transformers4rec model  "
   ]
  },
  {
   "cell_type": "code",
   "execution_count": 8,
   "id": "criminal-aviation",
   "metadata": {},
   "outputs": [],
   "source": [
    "import torch \n",
    "import transformers4rec.torch as torch4rec\n",
    "from transformers4rec.torch import TabularSequenceFeatures, MLPBlock, SequentialBlock, Head, TransformerBlock\n",
    "\n",
    "from transformers4rec.utils.schema import DatasetSchema\n",
    "\n",
    "from transformers4rec.torch.head import NextItemPredictionTask\n",
    "\n",
    "from transformers4rec.config import transformer\n",
    "from transformers4rec.torch.ranking_metric import NDCGAt, AvgPrecisionAt"
   ]
  },
  {
   "cell_type": "markdown",
   "id": "friendly-briefs",
   "metadata": {},
   "source": [
    "- Manually set the schema "
   ]
  },
  {
   "cell_type": "code",
   "execution_count": 9,
   "id": "deadly-handle",
   "metadata": {},
   "outputs": [],
   "source": [
    "# Define schema object to pass it to the SequentialTabularFeatures\n",
    "schema = DatasetSchema.from_schema(\"schema.pb\")"
   ]
  },
  {
   "cell_type": "markdown",
   "id": "northern-inspector",
   "metadata": {},
   "source": [
    "### Define the sequential input module"
   ]
  },
  {
   "cell_type": "markdown",
   "id": "needed-paintball",
   "metadata": {},
   "source": [
    "Below we define our `input` bloc using [`SequentialTabularFeatures` class](https://github.com/NVIDIA-Merlin/Transformers4Rec/blob/main/transformers4rec/torch/features/sequential.py). The `from_schema` module directly parse schema and accepts categorical and continuous sequential inputs and supports data augmentation, data aggregation, `sequential-concat` and `elementwise-sum` aggregations, the projection of the interaction embeddings and the masking tasks.\n",
    "\n",
    "`max_sequence_length` defines the maximum sequence length of our sequential input, and if `continuous_projection` argument is set,  all numerical features are concatenated and projected by a number of MLP layers."
   ]
  },
  {
   "cell_type": "code",
   "execution_count": 10,
   "id": "amateur-hartford",
   "metadata": {},
   "outputs": [],
   "source": [
    "inputs = TabularSequenceFeatures.from_schema(\n",
    "        schema,\n",
    "        max_sequence_length=20,\n",
    "        continuous_projection=64,\n",
    "        d_output=100,\n",
    "        masking=\"causal\",\n",
    "    )\n",
    "\n",
    "inputs.masking.device = 'cuda'"
   ]
  },
  {
   "cell_type": "markdown",
   "id": "velvet-headline",
   "metadata": {},
   "source": [
    "### End-to-end session-based Transformer-based model for item prediction:"
   ]
  },
  {
   "cell_type": "markdown",
   "id": "innocent-processing",
   "metadata": {},
   "source": [
    "- LM task + HF Transformer architecture + Next item-prediction task. \n",
    "- We build a [T4RecConfig](https://github.com/NVIDIA-Merlin/Transformers4Rec/blob/main/transformers4rec/config/transformer.py#L8) class to update the config class of the transformer architecture with the specified arguments, then load the related model. Here we use it to instantiate an XLNET model according to the  arguments (d_model, n_head, etc.), defining the model architecture.\n",
    "- [TransformerBlock](https://github.com/NVIDIA-Merlin/Transformers4Rec/blob/main/transformers4rec/torch/block/transformer.py#L37) class is created to support HF Transformers for session-based and sequential-based recommendation models.\n",
    "- [NextItemPredictionTask](https://github.com/NVIDIA-Merlin/Transformers4Rec/blob/main/transformers4rec/torch/head.py#L212) is the class to support next item prediction task."
   ]
  },
  {
   "cell_type": "code",
   "execution_count": 11,
   "id": "arabic-linux",
   "metadata": {},
   "outputs": [],
   "source": [
    "# case-1: Define XLNetConfig class and set default parameters \n",
    "\n",
    "transformer_config = transformer.XLNetConfig.build(\n",
    "    d_model=64, n_head=4, n_layer=2, total_seq_length=20\n",
    ")\n",
    "\n",
    "body = torch4rec.SequentialBlock(\n",
    "    inputs, torch4rec.MLPBlock([64]), torch4rec.TransformerBlock(transformer=transformer_config, masking=inputs.masking)\n",
    ")\n",
    "\n",
    "head = torch4rec.Head(\n",
    "    body,\n",
    "    torch4rec.NextItemPredictionTask(weight_tying=True, hf_format=True, metrics=[NDCGAt(top_ks=[5,10, 1000], labels_onehot=True),\n",
    "                                                                                 AvgPrecisionAt(top_ks=[5,10, 1000],labels_onehot=True)]),\n",
    "    inputs=inputs,\n",
    ")\n",
    "model = torch4rec.Model(head)"
   ]
  },
  {
   "cell_type": "markdown",
   "id": "hourly-grenada",
   "metadata": {},
   "source": [
    "# Train the model "
   ]
  },
  {
   "cell_type": "markdown",
   "id": "absolute-bathroom",
   "metadata": {},
   "source": [
    "## Non-incremental training and evaluation"
   ]
  },
  {
   "cell_type": "markdown",
   "id": "equal-notice",
   "metadata": {},
   "source": [
    "- Set Training arguments"
   ]
  },
  {
   "cell_type": "code",
   "execution_count": 12,
   "id": "electoral-politics",
   "metadata": {},
   "outputs": [],
   "source": [
    "from transformers4rec.config.trainer import T4RecTrainingArguments\n",
    "from transformers4rec.torch import Trainer\n",
    "#Set argumentd for training \n",
    "train_args = T4RecTrainingArguments(local_rank = -1, dataloader_drop_last = True,\n",
    "                  report_to = [], debug = [\"r\"], gradient_accumulation_steps = 32,\n",
    "                  per_device_train_batch_size = 512, per_device_eval_batch_size = 512,\n",
    "                  output_dir = \".\", use_legacy_prediction_loop = False)"
   ]
  },
  {
   "cell_type": "markdown",
   "id": "global-patrol",
   "metadata": {},
   "source": [
    "- Build dataloader "
   ]
  },
  {
   "cell_type": "code",
   "execution_count": 13,
   "id": "silver-sweet",
   "metadata": {},
   "outputs": [],
   "source": [
    "import glob\n",
    "from transformers4rec.torch.utils.data_utils import PyarrowDataLoaderBuilder, NVTDataLoaderBuilder\n",
    "train_data_paths = glob.glob(\"./preproc_sessions_by_day_ts/*/train.parquet\")\n",
    "eval_data_paths = glob.glob(\"./preproc_sessions_by_day_ts/*/valid.parquet\")\n",
    "# Specify sparse features\n",
    "SESSION_LENGTH_MAX = 20\n",
    "x_cat_names, x_cont_names = ['item_id-list_trim', 'category-list_trim'], ['timestamp/weekday/sin-list_trim','timestamp/age_days-list_trim']\n",
    "sparse_features_max = {\n",
    "    fname: SESSION_LENGTH_MAX\n",
    "    for fname in x_cat_names + x_cont_names\n",
    "}"
   ]
  },
  {
   "cell_type": "code",
   "execution_count": 14,
   "id": "equivalent-beach",
   "metadata": {},
   "outputs": [],
   "source": [
    "train_nvt_loader = NVTDataLoaderBuilder.from_schema(schema,\n",
    "                                paths_or_dataset=train_data_paths, \n",
    "                                batch_size=train_args.per_device_train_batch_size,\n",
    "                                max_sequence_length=20,\n",
    "                                drop_last=True,\n",
    "                                shuffle=True,\n",
    "                                sparse_as_dense=True,\n",
    "                                sparse_names=x_cat_names+x_cont_names,\n",
    "                                sparse_max=sparse_features_max\n",
    "                                )\n",
    "\n",
    "\n",
    "eval_nvt_loader = NVTDataLoaderBuilder.from_schema(schema,\n",
    "                                paths_or_dataset=eval_data_paths, \n",
    "                                batch_size=train_args.per_device_train_batch_size,\n",
    "                                max_sequence_length=20,\n",
    "                                drop_last=True,\n",
    "                                shuffle=True,\n",
    "                                sparse_as_dense=True,\n",
    "                                sparse_names=x_cat_names+x_cont_names,\n",
    "                                sparse_max=sparse_features_max\n",
    "                                )"
   ]
  },
  {
   "cell_type": "markdown",
   "id": "perceived-treasury",
   "metadata": {},
   "source": [
    "- Define Trainer"
   ]
  },
  {
   "cell_type": "code",
   "execution_count": 15,
   "id": "congressional-vegetable",
   "metadata": {},
   "outputs": [],
   "source": [
    "# Instantiate the T4Rec Trainer, which manages training and evaluation\n",
    "trainer = Trainer(\n",
    "    model=model,\n",
    "    args=train_args,\n",
    "    compute_metrics=True,\n",
    "    train_dataloader=train_nvt_loader,\n",
    "    eval_dataloader=eval_nvt_loader,\n",
    ")"
   ]
  },
  {
   "cell_type": "markdown",
   "id": "structural-charger",
   "metadata": {},
   "source": [
    "- Launch one full train and evaluation : "
   ]
  },
  {
   "cell_type": "code",
   "execution_count": 16,
   "id": "sitting-typing",
   "metadata": {},
   "outputs": [
    {
     "data": {
      "text/html": [
       "\n",
       "    <div>\n",
       "      \n",
       "      <progress value='3' max='3' style='width:300px; height:20px; vertical-align: middle;'></progress>\n",
       "      [3/3 00:01, Epoch 3/3]\n",
       "    </div>\n",
       "    <table border=\"1\" class=\"dataframe\">\n",
       "  <thead>\n",
       "    <tr style=\"text-align: left;\">\n",
       "      <th>Step</th>\n",
       "      <th>Training Loss</th>\n",
       "    </tr>\n",
       "  </thead>\n",
       "  <tbody>\n",
       "  </tbody>\n",
       "</table><p>"
      ],
      "text/plain": [
       "<IPython.core.display.HTML object>"
      ]
     },
     "metadata": {},
     "output_type": "display_data"
    },
    {
     "data": {
      "text/plain": [
       "TrainOutput(global_step=3, training_loss=15.015725453694662, metrics={'train_runtime': 2.159, 'train_samples_per_second': 1.39, 'total_flos': 0.0, 'epoch': 3.0, 'init_mem_cpu_alloc_delta': 2700804096, 'init_mem_gpu_alloc_delta': 14147584, 'init_mem_cpu_peaked_delta': 0, 'init_mem_gpu_peaked_delta': 0, 'train_mem_cpu_alloc_delta': 23719936, 'train_mem_gpu_alloc_delta': 42733056, 'train_mem_cpu_peaked_delta': 0, 'train_mem_gpu_peaked_delta': 441208832})"
      ]
     },
     "execution_count": 16,
     "metadata": {},
     "output_type": "execute_result"
    }
   ],
   "source": [
    "trainer.reset_lr_scheduler()\n",
    "trainer.train()"
   ]
  },
  {
   "cell_type": "code",
   "execution_count": 17,
   "id": "romance-minimum",
   "metadata": {},
   "outputs": [
    {
     "name": "stderr",
     "output_type": "stream",
     "text": [
      "/opt/conda/lib/python3.8/site-packages/transformers/trainer_pt_utils.py:366: FutureWarning: DistributedTensorGatherer is deprecated and will be removed in v5 of Transformers.\n",
      "  warnings.warn(\n"
     ]
    },
    {
     "data": {
      "text/html": [
       "\n",
       "    <div>\n",
       "      \n",
       "      <progress value='1' max='1' style='width:300px; height:20px; vertical-align: middle;'></progress>\n",
       "      [1/1 : < :]\n",
       "    </div>\n",
       "    "
      ],
      "text/plain": [
       "<IPython.core.display.HTML object>"
      ]
     },
     "metadata": {},
     "output_type": "display_data"
    },
    {
     "name": "stderr",
     "output_type": "stream",
     "text": [
      "Not all data has been set. Are you sure you passed all values?\n",
      "Not all data has been set. Are you sure you passed all values?\n"
     ]
    },
    {
     "name": "stdout",
     "output_type": "stream",
     "text": [
      "  epoch = 3.0\n",
      "  eval_avgprecisionat_@10 = 0.0\n",
      "  eval_avgprecisionat_@1000 = 7.355372e-05\n",
      "  eval_avgprecisionat_@5 = 0.0\n",
      "  eval_loss = 33.65076446533203\n",
      "  eval_mem_cpu_alloc_delta = 1916928\n",
      "  eval_mem_cpu_peaked_delta = 0\n",
      "  eval_mem_gpu_alloc_delta = 92160\n",
      "  eval_mem_gpu_peaked_delta = 541213184\n",
      "  eval_ndcgat_@10 = 0.0\n",
      "  eval_ndcgat_@1000 = 0.0033141105\n",
      "  eval_ndcgat_@5 = 0.0\n",
      "  eval_runtime = 1.2938\n",
      "  eval_samples_per_second = 395.733\n"
     ]
    }
   ],
   "source": [
    "train_metrics = trainer.evaluate(metric_key_prefix='eval')\n",
    "for key in sorted(train_metrics.keys()):\n",
    "    print(\"  %s = %s\" % (key, str(train_metrics[key])))"
   ]
  },
  {
   "cell_type": "markdown",
   "id": "congressional-purse",
   "metadata": {},
   "source": [
    "## Incremental training and evaluation : "
   ]
  },
  {
   "cell_type": "markdown",
   "id": "square-thriller",
   "metadata": {},
   "source": [
    "- Set Trainer "
   ]
  },
  {
   "cell_type": "code",
   "execution_count": 18,
   "id": "continued-bicycle",
   "metadata": {},
   "outputs": [],
   "source": [
    "from transformers4rec.config.trainer import T4RecTrainingArguments\n",
    "from transformers4rec.torch import Trainer\n",
    "#Set argumentd for training \n",
    "train_args = T4RecTrainingArguments(local_rank = -1, dataloader_drop_last = True,\n",
    "                  report_to = [], debug = [\"r\"], gradient_accumulation_steps = 32,\n",
    "                  per_device_train_batch_size = 512, per_device_eval_batch_size = 32,\n",
    "                  output_dir = \".\", use_legacy_prediction_loop = False)\n",
    "\n",
    "# Instantiate the T4Rec Trainer, which manages training and evaluation\n",
    "trainer = Trainer(\n",
    "    model=model,\n",
    "    args=train_args,\n",
    "    compute_metrics=True,\n",
    ")"
   ]
  },
  {
   "cell_type": "markdown",
   "id": "intended-arthur",
   "metadata": {},
   "source": [
    "- Launch incremental training and evaluation : "
   ]
  },
  {
   "cell_type": "code",
   "execution_count": 19,
   "id": "superb-genealogy",
   "metadata": {},
   "outputs": [
    {
     "data": {
      "text/html": [
       "\n",
       "    <div>\n",
       "      \n",
       "      <progress value='3' max='3' style='width:300px; height:20px; vertical-align: middle;'></progress>\n",
       "      [3/3 00:00, Epoch 3/3]\n",
       "    </div>\n",
       "    <table border=\"1\" class=\"dataframe\">\n",
       "  <thead>\n",
       "    <tr style=\"text-align: left;\">\n",
       "      <th>Step</th>\n",
       "      <th>Training Loss</th>\n",
       "    </tr>\n",
       "  </thead>\n",
       "  <tbody>\n",
       "  </tbody>\n",
       "</table><p>"
      ],
      "text/plain": [
       "<IPython.core.display.HTML object>"
      ]
     },
     "metadata": {},
     "output_type": "display_data"
    },
    {
     "data": {
      "text/html": [
       "\n",
       "    <div>\n",
       "      \n",
       "      <progress value='4' max='2' style='width:300px; height:20px; vertical-align: middle;'></progress>\n",
       "      [2/2 00:04]\n",
       "    </div>\n",
       "    "
      ],
      "text/plain": [
       "<IPython.core.display.HTML object>"
      ]
     },
     "metadata": {},
     "output_type": "display_data"
    },
    {
     "name": "stderr",
     "output_type": "stream",
     "text": [
      "Not all data has been set. Are you sure you passed all values?\n",
      "Not all data has been set. Are you sure you passed all values?\n"
     ]
    },
    {
     "name": "stdout",
     "output_type": "stream",
     "text": [
      "Eval results for day 2 are:\n",
      "\t\n",
      " epoch = 3.0\n",
      " eval_avgprecisionat_@10 = 0.0\n",
      " eval_avgprecisionat_@1000 = 3.850004e-05\n",
      " eval_avgprecisionat_@5 = 0.0\n",
      " eval_loss = 32.82271766662598\n",
      " eval_mem_cpu_alloc_delta = -102400\n",
      " eval_mem_cpu_peaked_delta = 135168\n",
      " eval_mem_gpu_alloc_delta = -87040\n",
      " eval_mem_gpu_peaked_delta = 37295104\n",
      " eval_ndcgat_@10 = 0.0\n",
      " eval_ndcgat_@1000 = 0.0027331354\n",
      " eval_ndcgat_@5 = 0.0\n",
      " eval_runtime = 2.0322\n",
      " eval_samples_per_second = 31.493\n"
     ]
    },
    {
     "data": {
      "text/html": [
       "\n",
       "    <div>\n",
       "      \n",
       "      <progress value='3' max='3' style='width:300px; height:20px; vertical-align: middle;'></progress>\n",
       "      [3/3 00:00, Epoch 3/3]\n",
       "    </div>\n",
       "    <table border=\"1\" class=\"dataframe\">\n",
       "  <thead>\n",
       "    <tr style=\"text-align: left;\">\n",
       "      <th>Step</th>\n",
       "      <th>Training Loss</th>\n",
       "    </tr>\n",
       "  </thead>\n",
       "  <tbody>\n",
       "  </tbody>\n",
       "</table><p>"
      ],
      "text/plain": [
       "<IPython.core.display.HTML object>"
      ]
     },
     "metadata": {},
     "output_type": "display_data"
    },
    {
     "name": "stderr",
     "output_type": "stream",
     "text": [
      "Not all data has been set. Are you sure you passed all values?\n",
      "Not all data has been set. Are you sure you passed all values?\n"
     ]
    },
    {
     "name": "stdout",
     "output_type": "stream",
     "text": [
      "Eval results for day 3 are:\n",
      "\t\n",
      " epoch = 3.0\n",
      " eval_avgprecisionat_@10 = 0.0\n",
      " eval_avgprecisionat_@1000 = 7.1705144e-05\n",
      " eval_avgprecisionat_@5 = 0.0\n",
      " eval_loss = 34.384437561035156\n",
      " eval_mem_cpu_alloc_delta = 12288\n",
      " eval_mem_cpu_peaked_delta = 16384\n",
      " eval_mem_gpu_alloc_delta = -80896\n",
      " eval_mem_gpu_peaked_delta = 34725888\n",
      " eval_ndcgat_@10 = 0.0\n",
      " eval_ndcgat_@1000 = 0.003087417\n",
      " eval_ndcgat_@5 = 0.0\n",
      " eval_runtime = 2.0897\n",
      " eval_samples_per_second = 30.626\n"
     ]
    }
   ],
   "source": [
    "start_time_window_index = 1\n",
    "final_time_window_index = 3\n",
    "\n",
    "for time_index in range(start_time_window_index, final_time_window_index):\n",
    "    time_index_train = time_index\n",
    "    time_index_eval = time_index + 1\n",
    "    train_paths = glob.glob(f\"./preproc_sessions_by_day_ts/{time_index_train}/train.parquet\")\n",
    "    eval_paths = glob.glob(f\"./preproc_sessions_by_day_ts/{time_index_eval}/valid.parquet\")\n",
    "    # Build data-loader\n",
    "    train_nvt_loader = NVTDataLoaderBuilder.from_schema(schema,\n",
    "                                paths_or_dataset=train_paths, \n",
    "                                batch_size=train_args.per_device_train_batch_size,\n",
    "                                max_sequence_length=20,\n",
    "                                drop_last=True,\n",
    "                                shuffle=True,\n",
    "                                sparse_as_dense=True,\n",
    "                                sparse_names=x_cat_names+x_cont_names,\n",
    "                                sparse_max=sparse_features_max\n",
    "                        )\n",
    "    \n",
    "    # Set dataloaders\n",
    "    trainer.set_train_dataloader(train_nvt_loader)    \n",
    "    trainer.reset_lr_scheduler()\n",
    "    trainer.train()\n",
    "    \n",
    "    eval_nvt_loader = NVTDataLoaderBuilder.from_schema(schema,\n",
    "                            paths_or_dataset= eval_paths,\n",
    "                            batch_size=train_args.per_device_eval_batch_size,\n",
    "                            max_sequence_length=20,\n",
    "                            drop_last=True,\n",
    "                            shuffle=True,\n",
    "                            sparse_as_dense=True,\n",
    "                            sparse_names=x_cat_names+x_cont_names,\n",
    "                            sparse_max=sparse_features_max\n",
    "                            )\n",
    "    trainer.set_eval_dataloader(eval_nvt_loader)\n",
    "    # Evaluate on the following day\n",
    "    train_metrics = trainer.evaluate(metric_key_prefix='eval')\n",
    "    print(\"Eval results for day %s are:\\n\\t\" %time_index_eval)\n",
    "    for key in sorted(train_metrics.keys()):\n",
    "        print(\" %s = %s\" % (key, str(train_metrics[key])))   \n",
    "    trainer.wipe_memory()"
   ]
  },
  {
   "cell_type": "code",
   "execution_count": null,
   "id": "alpine-proceeding",
   "metadata": {},
   "outputs": [],
   "source": []
  }
 ],
 "metadata": {
  "kernelspec": {
   "display_name": "Python 3",
   "language": "python",
   "name": "python3"
  },
  "language_info": {
   "codemirror_mode": {
    "name": "ipython",
    "version": 3
   },
   "file_extension": ".py",
   "mimetype": "text/x-python",
   "name": "python",
   "nbconvert_exporter": "python",
   "pygments_lexer": "ipython3",
   "version": "3.8.8"
  }
 },
 "nbformat": 4,
 "nbformat_minor": 5
}
