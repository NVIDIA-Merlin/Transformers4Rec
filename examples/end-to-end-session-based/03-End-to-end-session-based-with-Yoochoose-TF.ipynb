{
 "cells": [
  {
   "cell_type": "code",
   "execution_count": 1,
   "id": "d08cf03d",
   "metadata": {},
   "outputs": [],
   "source": [
    "# Copyright 2021 NVIDIA Corporation. All Rights Reserved.\n",
    "#\n",
    "# Licensed under the Apache License, Version 2.0 (the \"License\");\n",
    "# you may not use this file except in compliance with the License.\n",
    "# You may obtain a copy of the License at\n",
    "#\n",
    "#     http://www.apache.org/licenses/LICENSE-2.0\n",
    "#\n",
    "# Unless required by applicable law or agreed to in writing, software\n",
    "# distributed under the License is distributed on an \"AS IS\" BASIS,\n",
    "# WITHOUT WARRANTIES OR CONDITIONS OF ANY KIND, either express or implied.\n",
    "# See the License for the specific language governing permissions and\n",
    "# limitations under the License.\n",
    "# =============================================================================="
   ]
  },
  {
   "cell_type": "markdown",
   "id": "03401681",
   "metadata": {
    "tags": []
   },
   "source": [
    "# End-to-end session-based recommendation with Transformers4Rec"
   ]
  },
  {
   "cell_type": "markdown",
   "id": "0133d08e",
   "metadata": {},
   "source": [
    "In recent years, several deep learning-based algorithms have been proposed for recommendation systems while its adoption in industry deployments have been steeply growing. In particular, NLP inspired approaches have been successfully adapted for sequential and session-based recommendation problems, which are important for many domains like e-commerce, news and streaming media. Session-Based Recommender Systems (SBRS) have been proposed to model the sequence of interactions within the current user session, where a session is a short sequence of user interactions typically bounded by user inactivity. They have recently gained popularity due to their ability to capture short-term or contextual user preferences towards items. \n",
    "\n",
    "The field of NLP has evolved significantly within the last decade, particularly due to the increased usage of deep learning. As a result, state of the art NLP approaches have inspired RecSys practitioners and researchers to adapt those architectures, especially for sequential and session-based recommendation problems. Here, we leverage one of the state-of-the-art Transformer-based architecture, [XLNet](https://arxiv.org/abs/1906.08237) with Masked Language Modeling (MLM) training technique (see our [tutorial](https://github.com/NVIDIA-Merlin/Transformers4Rec/tree/main/examples/tutorial) for details) for training a session-based model.\n",
    "\n",
    "In this end-to-end-session-based recommnender model example, we use `Transformers4Rec` library, which leverages the popular [HuggingFace’s Transformers](https://github.com/huggingface/transformers) NLP library and make it possible to experiment with cutting-edge implementation of such architectures for sequential and session-based recommendation problems. For detailed explanations of the building blocks of Transformers4Rec meta-architecture visit [getting-started-session-based](https://github.com/NVIDIA-Merlin/Transformers4Rec/tree/main/examples/getting-started-session-based) and [tutorial](https://github.com/NVIDIA-Merlin/Transformers4Rec/tree/main/examples/tutorial) example notebooks."
   ]
  },
  {
   "cell_type": "markdown",
   "id": "fd91a32f",
   "metadata": {},
   "source": [
    "## 1. Model definition using Transformers4Rec"
   ]
  },
  {
   "cell_type": "markdown",
   "id": "c7b018d8",
   "metadata": {},
   "source": [
    "In the previous notebook, we have created sequential features and saved our processed data frames as parquet files, and now we use these processed parquet files to train a session-based recommendation model with XLNet architecture."
   ]
  },
  {
   "cell_type": "markdown",
   "id": "d5c0d1fc",
   "metadata": {},
   "source": [
    "### 1.1 Import Libraries"
   ]
  },
  {
   "cell_type": "code",
   "execution_count": 2,
   "id": "50b4b8c7",
   "metadata": {},
   "outputs": [
    {
     "name": "stderr",
     "output_type": "stream",
     "text": [
      "2021-12-06 01:42:25.104727: I tensorflow/core/platform/cpu_feature_guard.cc:142] This TensorFlow binary is optimized with oneAPI Deep Neural Network Library (oneDNN) to use the following CPU instructions in performance-critical operations:  AVX2 AVX512F FMA\n",
      "To enable them in other operations, rebuild TensorFlow with the appropriate compiler flags.\n",
      "2021-12-06 01:42:26.205315: I tensorflow/core/common_runtime/gpu/gpu_device.cc:1510] Created device /job:localhost/replica:0/task:0/device:GPU:0 with 16254 MB memory:  -> device: 0, name: Quadro GV100, pci bus id: 0000:15:00.0, compute capability: 7.0\n"
     ]
    }
   ],
   "source": [
    "import os\n",
    "import glob\n",
    "import cudf\n",
    "\n",
    "from nvtabular.loader.tensorflow import KerasSequenceLoader\n",
    "\n",
    "from transformers4rec import tf as tr\n",
    "from transformers4rec.tf.ranking_metric import NDCGAt, RecallAt\n",
    "\n",
    "import logging\n",
    "logging.disable(logging.WARNING) # disable INFO and DEBUG logging everywhere"
   ]
  },
  {
   "cell_type": "code",
   "execution_count": 3,
   "id": "c6c6da8f",
   "metadata": {},
   "outputs": [],
   "source": [
    "# avoid numba warnings\n",
    "from numba import config\n",
    "config.CUDA_LOW_OCCUPANCY_WARNINGS = 0"
   ]
  },
  {
   "cell_type": "markdown",
   "id": "84c51665",
   "metadata": {},
   "source": [
    "### 1.2 Get the schema "
   ]
  },
  {
   "cell_type": "markdown",
   "id": "7c28d080",
   "metadata": {},
   "source": [
    "The library uses a schema format to configure the input features and automatically creates the necessary layers. This *protobuf* text file contains the description of each input feature by defining: the name, the type, the number of elements of a list column,  the cardinality of a categorical feature and the min and max values of each feature. In addition, the annotation field contains the tags such as specifying `continuous` and `categorical` features, the `target` column or the `item_id` feature, among others."
   ]
  },
  {
   "cell_type": "code",
   "execution_count": 4,
   "id": "45e5125a",
   "metadata": {
    "tags": []
   },
   "outputs": [
    {
     "name": "stdout",
     "output_type": "stream",
     "text": [
      "feature {\n",
      "  name: \"session_id\"\n",
      "  type: INT\n",
      "  int_domain {\n",
      "    name: \"session_id\"\n",
      "    min: 1\n",
      "    max: 9249733 \n",
      "    is_categorical: false\n",
      "  }\n",
      "  annotation {\n",
      "    tag: \"groupby_col\"\n",
      "  }\n",
      "}\n",
      "feature {\n",
      "  name: \"item_id-list_seq\"\n",
      "  value_count {\n",
      "    min: 2\n",
      "    max: 185\n",
      "  }\n",
      "  type: INT\n",
      "  int_domain {\n",
      "    name: \"item_id/list\"\n",
      "    min: 1\n",
      "    max: 52742\n",
      "    is_categorical: true\n",
      "  }\n",
      "  annotation {\n",
      "    tag: \"item_id\"\n",
      "    tag: \"list\"\n",
      "    tag: \"categorical\"\n",
      "    tag: \"item\"\n",
      "  }\n",
      "}\n",
      "feature {\n",
      "  name: \"category-list_seq\"\n",
      "  value_count {\n",
      "    min: 2\n",
      "    max: 185\n",
      "  }\n",
      "  type: INT\n",
      "  int_domain {\n",
      "    name: \"category-list_seq\"\n",
      "    min: 1\n",
      "    max: 337\n",
      "    is_categorical: true\n",
      "  }\n",
      "  annotation {\n",
      "    tag: \"list\"\n",
      "    tag: \"categorical\"\n",
      "    tag: \"item\"\n",
      "  }\n",
      "}\n",
      "feature {\n",
      "  name: \"product_recency_days_log_norm-list_seq\"\n",
      "  value_count {\n",
      "    min: 2\n",
      "    max: 185\n",
      "  }\n",
      "  type: FLOAT\n",
      "  float_domain {\n",
      "    name: \"product_recency_days_log_norm-list_seq\"\n",
      "    min: -2.9177291\n",
      "    max: 1.5231701\n",
      "  }\n",
      "  annotation {\n",
      "    tag: \"continuous\"\n",
      "    tag: \"list\"\n",
      "  }\n",
      "}\n",
      "feature {\n",
      "  name: \"et_dayofweek_sin-list_seq\"\n",
      "  value_count {\n",
      "    min: 2\n",
      "    max: 185\n",
      "  }\n",
      "  type: FLOAT\n",
      "  float_domain {\n",
      "    name: \"et_dayofweek_sin-list_seq\"\n",
      "    min: 0.7421683\n",
      "    max: 0.9995285\n",
      "  }\n",
      "  annotation {\n",
      "    tag: \"continuous\"\n",
      "    tag: \"time\"\n",
      "    tag: \"list\"\n",
      "  }\n",
      "}\n"
     ]
    }
   ],
   "source": [
    "from merlin_standard_lib import Schema\n",
    "SCHEMA_PATH = \"schema_demo.pb\"\n",
    "schema = Schema().from_proto_text(SCHEMA_PATH)\n",
    "!cat $SCHEMA_PATH"
   ]
  },
  {
   "cell_type": "markdown",
   "id": "d29f2751",
   "metadata": {},
   "source": [
    "We can select the subset of features we want to use for training the model by their tags or their names."
   ]
  },
  {
   "cell_type": "code",
   "execution_count": 5,
   "id": "3d847d63",
   "metadata": {},
   "outputs": [],
   "source": [
    "schema = schema.select_by_name(\n",
    "   ['item_id-list_seq', 'category-list_seq', 'product_recency_days_log_norm-list_seq', 'et_dayofweek_sin-list_seq']\n",
    ")"
   ]
  },
  {
   "cell_type": "markdown",
   "id": "c87858f2",
   "metadata": {},
   "source": [
    "### 3.2 Define the end-to-end Session-based Transformer-based recommendation model"
   ]
  },
  {
   "cell_type": "markdown",
   "id": "e9772891",
   "metadata": {
    "tags": []
   },
   "source": [
    "For session-based recommendation model definition, the end-to-end model definition requires four steps:\n",
    "\n",
    "1. Instantiate [TabularSequenceFeatures](https://nvidia-merlin.github.io/Transformers4Rec/main/api/transformers4rec.tf.features.html?highlight=tabularsequence#transformers4rec.tf.features.sequence.TabularSequenceFeatures) input-module from schema to prepare the embedding tables of categorical variables and project continuous features, if specified. In addition, the module provides different aggregation methods (e.g. 'concat', 'elementwise-sum') to merge input features and generate the sequence of interactions embeddings. The module also supports language modeling tasks to prepare masked labels for training and evaluation (e.g: 'mlm' for masked language modeling) \n",
    "\n",
    "2. Next, we need to define one or multiple prediction tasks. For this demo, we are going to use [NextItemPredictionTask](https://nvidia-merlin.github.io/Transformers4Rec/main/api/transformers4rec.tf.model.html?highlight=nextitem#transformers4rec.tf.model.prediction_task.NextItemPredictionTask) with `Causal Language modeling (CLM)`.\n",
    "\n",
    "3. Then we construct a `transformer_config` based on the architectures provided by [Hugging Face Transformers](https://github.com/huggingface/transformers) framework. </a>\n",
    "\n",
    "4. Finally we link the transformer-body to the inputs and the prediction tasks to get the final Tensorflow `Model` class.\n",
    "    \n",
    "For more details about the features supported by each sub-module, please check out the library [documentation](https://nvidia-merlin.github.io/Transformers4Rec/main/index.html) page."
   ]
  },
  {
   "cell_type": "code",
   "execution_count": 6,
   "id": "f6d54644",
   "metadata": {
    "tags": []
   },
   "outputs": [],
   "source": [
    "max_sequence_length, d_model = 20, 320\n",
    "\n",
    "# Defines the evaluation top-N metrics and the cut-offs\n",
    "metrics = [\n",
    "    NDCGAt(top_ks=[10, 20], labels_onehot=True),  \n",
    "    RecallAt(top_ks=[10, 20], labels_onehot=True)\n",
    "]\n",
    "\n",
    "#Define input module to process tabular input-features and to prepare masked inputs\n",
    "input_module = tr.TabularSequenceFeatures.from_schema(\n",
    "    schema,\n",
    "    max_sequence_length=max_sequence_length,\n",
    "    continuous_projection=64,\n",
    "    aggregation=\"concat\",\n",
    "    d_output=d_model,\n",
    "    masking=\"clm\",\n",
    ")\n",
    "\n",
    "# Define Next item prediction-task \n",
    "prediction_task = tr.NextItemPredictionTask(weight_tying=True, metrics=metrics)\n",
    "\n",
    "# Define the config of the XLNet Transformer architecture\n",
    "transformer_config = tr.XLNetConfig.build(\n",
    "    d_model=d_model, n_head=8, n_layer=2, total_seq_length=max_sequence_length\n",
    ")\n",
    "\n",
    "#Get the end-to-end model \n",
    "model = transformer_config.to_tf_model(input_module, prediction_task)"
   ]
  },
  {
   "cell_type": "code",
   "execution_count": 7,
   "id": "c9b0bdc9",
   "metadata": {
    "tags": []
   },
   "outputs": [
    {
     "data": {
      "text/plain": [
       "Model()"
      ]
     },
     "execution_count": 7,
     "metadata": {},
     "output_type": "execute_result"
    }
   ],
   "source": [
    "model"
   ]
  },
  {
   "cell_type": "markdown",
   "id": "b6c902b1",
   "metadata": {},
   "source": [
    "### 3.3. Daily Fine-Tuning: Training over a time window¶"
   ]
  },
  {
   "cell_type": "markdown",
   "id": "2e24dabc",
   "metadata": {},
   "source": [
    "Now that the model is defined, we are going to launch training. For that, Transfromers4rec extends HF Transformers Trainer class to adapt the evaluation loop for session-based recommendation task and the calculation of ranking metrics. The original `train()` method is not modified meaning that we leverage the efficient training implementation from that library, which manages for example half-precision (FP16) training."
   ]
  },
  {
   "cell_type": "markdown",
   "id": "0a80b726",
   "metadata": {},
   "source": [
    "#### Sets DataLoader"
   ]
  },
  {
   "cell_type": "markdown",
   "id": "9dfbeeaa",
   "metadata": {},
   "source": [
    "We use the NVTabular `KerasSequenceLoader` Dataloader for optimized loading of multiple features from input parquet files. In our experiments, we see a speed-up by 9x of the same training workflow with NVTabular dataloader. You can learn more about this data loader [here](https://nvidia-merlin.github.io/NVTabular/main/training/tensorflow.html) and [here](https://medium.com/nvidia-merlin/training-deep-learning-based-recommender-systems-9x-faster-with-tensorflow-cc5a2572ea49)."
   ]
  },
  {
   "cell_type": "code",
   "execution_count": 8,
   "id": "a23b24e1",
   "metadata": {},
   "outputs": [],
   "source": [
    "# Define categorical and continuous columns\n",
    "x_cat_names, x_cont_names = ['item_id-list_seq', 'category-list_seq'], ['product_recency_days_log_norm-list_seq', 'et_dayofweek_sin-list_seq']\n",
    "\n",
    "# dictionary representing max sequence length for each column\n",
    "sparse_features_max = {\n",
    "    fname: 20\n",
    "    for fname in x_cat_names + x_cont_names\n",
    "}\n",
    "\n",
    "def get_dataloader(paths_or_dataset, batch_size=384):\n",
    "    dataloader = KerasSequenceLoader(\n",
    "        paths_or_dataset,\n",
    "        batch_size=batch_size,\n",
    "        label_names=None,\n",
    "        cat_names=x_cat_names,\n",
    "        cont_names=x_cont_names,\n",
    "        sparse_names=list(sparse_features_max.keys()),\n",
    "        sparse_max=sparse_features_max,\n",
    "        sparse_as_dense=True,\n",
    "    )\n",
    "    return dataloader.map(lambda X, y: (X, []))"
   ]
  },
  {
   "cell_type": "markdown",
   "id": "3997e93b",
   "metadata": {},
   "source": [
    "#### Launches daily Training and Evaluation"
   ]
  },
  {
   "cell_type": "markdown",
   "id": "b7188241",
   "metadata": {},
   "source": [
    "In this demo, we will use the `fit_and_evaluate` method that allows us to conduct a time-based finetuning by iteratively training and evaluating using a sliding time window: At each iteration, we use training data of a specific time index $t$ to train the model then we evaluate on the validation data of next index $t + 1$. Particularly, we set start time to 178 and end time to 180."
   ]
  },
  {
   "cell_type": "code",
   "execution_count": 9,
   "id": "85e61070",
   "metadata": {},
   "outputs": [],
   "source": [
    "import tensorflow as tf\n",
    "\n",
    "opt = tf.keras.optimizers.Adam(learning_rate=0.0005)\n",
    "model.compile(optimizer=opt, run_eagerly=False) # set it to True if to run the model eagerly."
   ]
  },
  {
   "cell_type": "code",
   "execution_count": 10,
   "id": "ea567094",
   "metadata": {},
   "outputs": [],
   "source": [
    "OUTPUT_DIR = os.environ.get(\"OUTPUT_DIR\", './preproc_sessions_by_day')"
   ]
  },
  {
   "cell_type": "code",
   "execution_count": 11,
   "id": "603ea10d",
   "metadata": {},
   "outputs": [
    {
     "name": "stdout",
     "output_type": "stream",
     "text": [
      "********************\n",
      "Launch training for day 178 are:\n",
      "********************\n",
      "\n"
     ]
    },
    {
     "name": "stderr",
     "output_type": "stream",
     "text": [
      "2021-12-06 01:42:37.293526: I tensorflow/stream_executor/cuda/cuda_dnn.cc:369] Loaded cuDNN version 8204\n",
      "2021-12-06 01:42:37.436290: I tensorflow/compiler/mlir/mlir_graph_optimization_pass.cc:185] None of the MLIR Optimization Passes are enabled (registered 2)\n"
     ]
    },
    {
     "name": "stdout",
     "output_type": "stream",
     "text": [
      "Epoch 1/3\n",
      "75/75 [==============================] - 28s 225ms/step - train_ndcg@10: 0.0839 - train_ndcg@20: 0.0901 - train_recall@10: 0.1199 - train_recall@20: 0.1446 - loss: 9.0953 - regularization_loss: 0.0000e+00 - total_loss: 9.0953\n",
      "Epoch 2/3\n",
      "75/75 [==============================] - 20s 227ms/step - train_ndcg@10: 0.5238 - train_ndcg@20: 0.5355 - train_recall@10: 0.6001 - train_recall@20: 0.6468 - loss: 3.8032 - regularization_loss: 0.0000e+00 - total_loss: 3.8032\n",
      "Epoch 3/3\n",
      "75/75 [==============================] - 20s 228ms/step - train_ndcg@10: 0.6759 - train_ndcg@20: 0.6830 - train_recall@10: 0.7242 - train_recall@20: 0.7523 - loss: 2.6340 - regularization_loss: 0.0000e+00 - total_loss: 2.6340\n",
      "6/6 [==============================] - 4s 272ms/step - eval_ndcg@10: 0.4978 - eval_ndcg@20: 0.5042 - eval_recall@10: 0.5500 - eval_recall@20: 0.5748 - loss: 4.2365 - regularization_loss: 0.0000e+00 - total_loss: 4.2365\n",
      "********************\n",
      "Eval results for day 179 are:\t\n",
      "\n",
      "********************\n",
      "\n",
      " eval_ndcg@10 = 0.10880284756422043\n",
      " eval_ndcg@20 = 0.11630712449550629\n",
      " eval_recall@10 = 0.20000000298023224\n",
      " eval_recall@20 = 0.22857142984867096\n",
      " loss = 7.436736106872559\n",
      " regularization_loss = 0\n",
      " total_loss = 7.436736106872559\n",
      "********************\n",
      "Launch training for day 179 are:\n",
      "********************\n",
      "\n",
      "Epoch 1/3\n",
      "54/54 [==============================] - 15s 236ms/step - train_ndcg@10: 0.6543 - train_ndcg@20: 0.6601 - train_recall@10: 0.6926 - train_recall@20: 0.7157 - loss: 2.9515 - regularization_loss: 0.0000e+00 - total_loss: 2.9515\n",
      "Epoch 2/3\n",
      "54/54 [==============================] - 15s 237ms/step - train_ndcg@10: 0.6903 - train_ndcg@20: 0.6956 - train_recall@10: 0.7319 - train_recall@20: 0.7532 - loss: 2.5734 - regularization_loss: 0.0000e+00 - total_loss: 2.5734\n",
      "Epoch 3/3\n",
      "54/54 [==============================] - 15s 238ms/step - train_ndcg@10: 0.7115 - train_ndcg@20: 0.7173 - train_recall@10: 0.7526 - train_recall@20: 0.7753 - loss: 2.3701 - regularization_loss: 0.0000e+00 - total_loss: 2.3701\n",
      "5/5 [==============================] - 2s 321ms/step - eval_ndcg@10: 0.5108 - eval_ndcg@20: 0.5150 - eval_recall@10: 0.5513 - eval_recall@20: 0.5685 - loss: 4.7429 - regularization_loss: 0.0000e+00 - total_loss: 4.7429\n",
      "********************\n",
      "Eval results for day 180 are:\t\n",
      "\n",
      "********************\n",
      "\n",
      " eval_ndcg@10 = 0.10434707254171371\n",
      " eval_ndcg@20 = 0.1091664731502533\n",
      " eval_recall@10 = 0.17525772750377655\n",
      " eval_recall@20 = 0.19587628543376923\n",
      " loss = 8.864171981811523\n",
      " regularization_loss = 0\n",
      " total_loss = 8.864171981811523\n",
      "CPU times: user 5min 48s, sys: 35.3 s, total: 6min 23s\n",
      "Wall time: 2min 11s\n"
     ]
    }
   ],
   "source": [
    "%%time\n",
    "start_time_window_index = 178\n",
    "final_time_window_index = 180\n",
    "# Iterating over days of one week\n",
    "for time_index in range(start_time_window_index, final_time_window_index):\n",
    "    # Set data \n",
    "    time_index_train = time_index\n",
    "    time_index_eval = time_index + 1\n",
    "    train_paths = glob.glob(os.path.join(OUTPUT_DIR, f\"{time_index_train}/train.parquet\"))\n",
    "    eval_paths = glob.glob(os.path.join(OUTPUT_DIR, f\"{time_index_eval}/valid.parquet\"))\n",
    "    \n",
    "    # Train on day related to time_index \n",
    "    print('*'*20)\n",
    "    print(\"Launch training for day %s are:\" %time_index)\n",
    "    print('*'*20 + '\\n')\n",
    "    train_loader = get_dataloader(train_paths, batch_size=384) \n",
    "    losses = model.fit(train_loader, epochs=3)\n",
    "    model.reset_metrics()\n",
    "    # Evaluate on the following day\n",
    "    eval_loader = get_dataloader(eval_paths, batch_size=512) \n",
    "    eval_metrics = model.evaluate(eval_loader, return_dict=True)\n",
    "    print('*'*20)\n",
    "    print(\"Eval results for day %s are:\\t\" %time_index_eval)\n",
    "    print('\\n' + '*'*20 + '\\n')\n",
    "    for key in sorted(eval_metrics.keys()):\n",
    "        print(\" %s = %s\" % (key, str(eval_metrics[key]))) "
   ]
  },
  {
   "cell_type": "markdown",
   "id": "3405c0be",
   "metadata": {},
   "source": [
    "#### Exports the preprocessing workflow and model in the format required by Triton server:** \n",
    "\n",
    "NVTabular’s `export_tensorflow_ensemble()` function enables us to create model files and config files to be served to Triton Inference Server. "
   ]
  },
  {
   "cell_type": "code",
   "execution_count": 12,
   "id": "004f241f",
   "metadata": {},
   "outputs": [],
   "source": [
    "import nvtabular as nvt\n",
    "workflow = nvt.Workflow.load('workflow_etl')"
   ]
  },
  {
   "cell_type": "code",
   "execution_count": 13,
   "id": "907ef98a",
   "metadata": {},
   "outputs": [
    {
     "name": "stderr",
     "output_type": "stream",
     "text": [
      "2021-12-06 01:44:43.953356: W tensorflow/python/util/util.cc:348] Sets are not currently considered sequences, but this may change in the future, so consider avoiding using them.\n",
      "/nvtabular/nvtabular/inference/triton/ensemble.py:80: UserWarning: TF model expects int64 for column category-list_seq, but workflow  is producing type list. Overriding dtype in NVTabular workflow.\n",
      "  warnings.warn(\n",
      "/nvtabular/nvtabular/inference/triton/ensemble.py:80: UserWarning: TF model expects float32 for column et_dayofweek_sin-list_seq, but workflow  is producing type list. Overriding dtype in NVTabular workflow.\n",
      "  warnings.warn(\n",
      "/nvtabular/nvtabular/inference/triton/ensemble.py:80: UserWarning: TF model expects int64 for column item_id-list_seq, but workflow  is producing type list. Overriding dtype in NVTabular workflow.\n",
      "  warnings.warn(\n",
      "/nvtabular/nvtabular/inference/triton/ensemble.py:80: UserWarning: TF model expects float32 for column product_recency_days_log_norm-list_seq, but workflow  is producing type list. Overriding dtype in NVTabular workflow.\n",
      "  warnings.warn(\n",
      "/nvtabular/nvtabular/inference/triton/ensemble.py:279: UserWarning: Column session_id is being generated by NVTabular workflow  but is unused in t4r_tf_tf model\n",
      "  warnings.warn(\n",
      "/nvtabular/nvtabular/inference/triton/ensemble.py:279: UserWarning: Column item_id-count is being generated by NVTabular workflow  but is unused in t4r_tf_tf model\n",
      "  warnings.warn(\n",
      "/nvtabular/nvtabular/inference/triton/ensemble.py:279: UserWarning: Column day_index is being generated by NVTabular workflow  but is unused in t4r_tf_tf model\n",
      "  warnings.warn(\n"
     ]
    }
   ],
   "source": [
    "from nvtabular.inference.triton import export_tensorflow_ensemble\n",
    "export_tensorflow_ensemble(\n",
    "    model, \n",
    "    workflow, \n",
    "    name = \"t4r_tf\", \n",
    "    model_path = '/workspace/TF4Rec/models/tf/', \n",
    "    label_columns = [], \n",
    "    sparse_max = sparse_features_max\n",
    ")"
   ]
  },
  {
   "cell_type": "markdown",
   "id": "e6de6132",
   "metadata": {},
   "source": [
    "## 4. Serving Ensemble Model to the Triton Inference Server"
   ]
  },
  {
   "cell_type": "markdown",
   "id": "427c1ac0",
   "metadata": {},
   "source": [
    "NVIDIA [Triton Inference Server (TIS)](https://github.com/triton-inference-server/server) simplifies the deployment of AI models at scale in production. TIS provides a cloud and edge inferencing solution optimized for both CPUs and GPUs. It supports a number of different machine learning frameworks such as TensorFlow and PyTorch.\n",
    "\n",
    "The last step of machine learning (ML)/deep learning (DL) pipeline is to deploy the ETL workflow and saved model to production. In the production setting, we want to transform the input data as done during training (ETL). We need to apply the same mean/std for continuous features and use the same categorical mapping to convert the categories to continuous integer before we use the DL model for a prediction. Therefore, we deploy the NVTabular workflow with the Tensorflow model as an ensemble model to Triton Inference. The ensemble model guarantees that the same transformation is applied to the raw inputs.\n",
    "\n",
    "\n",
    "In this section, you will learn how to\n",
    "- to deploy saved NVTabular and Tensorflow models to Triton Inference Server \n",
    "- send requests for predictions and get responses."
   ]
  },
  {
   "cell_type": "markdown",
   "id": "7bdfa858",
   "metadata": {},
   "source": [
    "### 4.1. Pull and Start Inference Container\n",
    "\n",
    "At this point, before connecing to the Triton Server, we launch the inference docker container and then load the ensemble `t4r_tf` to the inference server. This is done with the scripts below:\n",
    "\n",
    "**Launch the docker container**\n",
    "```\n",
    "docker run -it --gpus device=0 -p 8000:8000 -p 8001:8001 -p 8002:8002 -v <path_to_saved_models>:/workspace/models/ nvcr.io/nvidia/merlin/merlin-inference:21.11\n",
    "```\n",
    "This script will mount your local model-repository folder that includes your saved models from the previous cell to `/workspace/models` directory in the merlin-inference docker container.\n",
    "\n",
    "**Start triton server**<br>\n",
    "After you started the merlin-inference container, you can start triton server with the command below. You need to provide correct path of the models folder.\n",
    "\n",
    "\n",
    "```\n",
    "tritonserver --model-repository=<path_to_models> --backend-config=tensorflow,version=2 --model-control-mode=explicit\n",
    "```\n",
    "Note: The model-repository path for our example is `/workspace/models`. The models haven't been loaded, yet. Below, we will request the Triton server to load the saved ensemble model below."
   ]
  },
  {
   "cell_type": "markdown",
   "id": "ebe4ca98",
   "metadata": {},
   "source": [
    "### Connect to the Triton Inference Server and check if the server is alive"
   ]
  },
  {
   "cell_type": "code",
   "execution_count": 14,
   "id": "075435cc",
   "metadata": {
    "tags": []
   },
   "outputs": [
    {
     "name": "stdout",
     "output_type": "stream",
     "text": [
      "client created.\n",
      "GET /v2/health/live, headers None\n",
      "<HTTPSocketPoolResponse status=200 headers={'content-length': '0', 'content-type': 'text/plain'}>\n"
     ]
    },
    {
     "name": "stderr",
     "output_type": "stream",
     "text": [
      "/usr/local/lib/python3.8/dist-packages/tritonhttpclient/__init__.py:31: DeprecationWarning: The package `tritonhttpclient` is deprecated and will be removed in a future version. Please use instead `tritonclient.http`\n",
      "  warnings.warn(\n"
     ]
    },
    {
     "data": {
      "text/plain": [
       "True"
      ]
     },
     "execution_count": 14,
     "metadata": {},
     "output_type": "execute_result"
    }
   ],
   "source": [
    "import tritonhttpclient\n",
    "try:\n",
    "    triton_client = tritonhttpclient.InferenceServerClient(url=\"localhost:8000\", verbose=True)\n",
    "    print(\"client created.\")\n",
    "except Exception as e:\n",
    "    print(\"channel creation failed: \" + str(e))\n",
    "triton_client.is_server_live()"
   ]
  },
  {
   "cell_type": "markdown",
   "id": "c93cb3b6",
   "metadata": {},
   "source": [
    "### Load raw data for inference\n",
    "We select the last 50 interactions and filter out sessions with less than 2 interactions. "
   ]
  },
  {
   "cell_type": "code",
   "execution_count": 15,
   "id": "7a6cb5fa",
   "metadata": {},
   "outputs": [],
   "source": [
    "interactions_merged_df = cudf.read_parquet('/workspace/data/interactions_merged_df.parquet')\n",
    "interactions_merged_df=interactions_merged_df.sort_values('timestamp')\n",
    "batch = interactions_merged_df[-50:]\n",
    "sessions_to_use = batch.session_id.value_counts()\n",
    "# ignore sessions with less than 2 interactions\n",
    "filtered_batch = batch[batch.session_id.isin(sessions_to_use[sessions_to_use.values>1].index.values)]"
   ]
  },
  {
   "cell_type": "code",
   "execution_count": 16,
   "id": "44dd9f2e",
   "metadata": {},
   "outputs": [
    {
     "data": {
      "text/plain": [
       "session_id         int64\n",
       "timestamp          int64\n",
       "item_id            int64\n",
       "category           int64\n",
       "itemid_ts_first    int64\n",
       "dtype: object"
      ]
     },
     "execution_count": 16,
     "metadata": {},
     "output_type": "execute_result"
    }
   ],
   "source": [
    "filtered_batch.dtypes"
   ]
  },
  {
   "cell_type": "markdown",
   "id": "867b5dc6",
   "metadata": {},
   "source": [
    "### Send the request to triton server"
   ]
  },
  {
   "cell_type": "code",
   "execution_count": 17,
   "id": "ab3b0a4e",
   "metadata": {},
   "outputs": [
    {
     "name": "stdout",
     "output_type": "stream",
     "text": [
      "POST /v2/repository/index, headers None\n",
      "\n",
      "<HTTPSocketPoolResponse status=200 headers={'content-type': 'application/json', 'content-length': '152'}>\n",
      "bytearray(b'[{\"name\":\"t4r_tf\",\"version\":\"1\",\"state\":\"READY\"},{\"name\":\"t4r_tf_nvt\",\"version\":\"1\",\"state\":\"READY\"},{\"name\":\"t4r_tf_tf\",\"version\":\"1\",\"state\":\"READY\"}]')\n"
     ]
    },
    {
     "data": {
      "text/plain": [
       "[{'name': 't4r_tf', 'version': '1', 'state': 'READY'},\n",
       " {'name': 't4r_tf_nvt', 'version': '1', 'state': 'READY'},\n",
       " {'name': 't4r_tf_tf', 'version': '1', 'state': 'READY'}]"
      ]
     },
     "execution_count": 17,
     "metadata": {},
     "output_type": "execute_result"
    }
   ],
   "source": [
    "triton_client.get_model_repository_index()"
   ]
  },
  {
   "cell_type": "markdown",
   "id": "d0e0a3a9",
   "metadata": {},
   "source": [
    "### Load the ensemble model to triton\n",
    "If all models are loaded successfully, you should be seeing `successfully loaded` status next to each model name on your terminal."
   ]
  },
  {
   "cell_type": "code",
   "execution_count": 18,
   "id": "3aaf7006",
   "metadata": {},
   "outputs": [],
   "source": [
    "triton_client.load_model(model_name=\"t4r_tf\")"
   ]
  },
  {
   "cell_type": "code",
   "execution_count": null,
   "id": "c46f4ba5",
   "metadata": {
    "tags": []
   },
   "outputs": [],
   "source": [
    "import nvtabular.inference.triton as nvt_triton\n",
    "import tritonclient.grpc as grpcclient\n",
    "\n",
    "inputs = nvt_triton.convert_df_to_triton_input(filtered_batch.columns, filtered_batch, grpcclient.InferInput)\n",
    "\n",
    "output_names = [\"output_1\"]\n",
    "\n",
    "outputs = []\n",
    "for col in output_names:\n",
    "    outputs.append(grpcclient.InferRequestedOutput(col))\n",
    "    \n",
    "MODEL_NAME_NVT = \"t4r_tf\"\n",
    "\n",
    "with grpcclient.InferenceServerClient(\"localhost:8001\") as client:\n",
    "    response = client.infer(MODEL_NAME_NVT, inputs)\n",
    "    print(col, ':\\n', response.as_numpy(col))"
   ]
  },
  {
   "cell_type": "markdown",
   "id": "896bf742",
   "metadata": {},
   "source": [
    "- Visualise top-k predictions"
   ]
  },
  {
   "cell_type": "code",
   "execution_count": 23,
   "id": "93884b54",
   "metadata": {
    "tags": []
   },
   "outputs": [
    {
     "name": "stdout",
     "output_type": "stream",
     "text": [
      "- Top-5 predictions for session `11257991`: 2365 || 260 || 196 || 33 || 1169\n",
      "\n",
      "- Top-5 predictions for session `11270119`: 898 || 2214 || 1169 || 958 || 2814\n",
      "\n",
      "- Top-5 predictions for session `11311424`: 898 || 2214 || 1987 || 958 || 1169\n",
      "\n",
      "- Top-5 predictions for session `11336059`: 260 || 196 || 1169 || 2365 || 33\n",
      "\n",
      "- Top-5 predictions for session `11394056`: 863 || 2365 || 196 || 33 || 1169\n",
      "\n",
      "- Top-5 predictions for session `11399751`: 1987 || 2214 || 958 || 2814 || 1169\n",
      "\n",
      "- Top-5 predictions for session `11401481`: 898 || 157 || 2214 || 620 || 2814\n",
      "\n",
      "- Top-5 predictions for session `11421333`: 1126 || 196 || 127 || 1169 || 1987\n",
      "\n",
      "- Top-5 predictions for session `11425751`: 196 || 33 || 958 || 1169 || 1987\n",
      "\n",
      "- Top-5 predictions for session `11445777`: 33 || 196 || 1987 || 1126 || 1169\n",
      "\n",
      "- Top-5 predictions for session `11457123`: 184 || 1169 || 313 || 33 || 863\n",
      "\n",
      "- Top-5 predictions for session `11467406`: 898 || 958 || 2214 || 1169 || 1987\n",
      "\n",
      "- Top-5 predictions for session `11493827`: 863 || 2365 || 196 || 33 || 1169\n",
      "\n",
      "- Top-5 predictions for session `11528554`: 1061 || 33 || 863 || 1020 || 1169\n",
      "\n",
      "- Top-5 predictions for session `11561822`: 127 || 1126 || 196 || 1169 || 1987\n",
      "\n"
     ]
    }
   ],
   "source": [
    "from transformers4rec.torch.utils.examples_utils import visualize_response\n",
    "visualize_response(filtered_batch, response, top_k=5, session_col='session_id')"
   ]
  },
  {
   "cell_type": "markdown",
   "id": "61a298b2",
   "metadata": {},
   "source": [
    "As you noticed, we first got prediction results (logits) from the trained model head, and then by using a handy util function `visualize_response` we extracted top-k encoded item-ids from logits. Basically, we generated recommended items for a given session.\n",
    "\n",
    "This is the end of the tutorial. You successfully\n",
    "\n",
    "- performed feature engineering with NVTabular\n",
    "- trained transformer architecture based session-based recommendation models with Transformers4Rec\n",
    "- deployed a trained model to Triton Inference Server, sent request and got responses from the server."
   ]
  },
  {
   "cell_type": "markdown",
   "id": "e9eab877",
   "metadata": {},
   "source": [
    "**Unload models**"
   ]
  },
  {
   "cell_type": "code",
   "execution_count": null,
   "id": "b074a1fb",
   "metadata": {},
   "outputs": [],
   "source": [
    "triton_client.unload_model(model_name=\"t4r_tf\")\n",
    "triton_client.unload_model(model_name=\"t4r_tf_nvt\")\n",
    "triton_client.unload_model(model_name=\"t4r_tf_pt\")"
   ]
  },
  {
   "cell_type": "markdown",
   "id": "bffabdb6",
   "metadata": {},
   "source": [
    "## References"
   ]
  },
  {
   "cell_type": "markdown",
   "id": "816734e8",
   "metadata": {},
   "source": [
    "- Merlin Transformers4rec: https://github.com/NVIDIA-Merlin/Transformers4Rec\n",
    "\n",
    "- Merlin NVTabular: https://github.com/NVIDIA-Merlin/NVTabular/tree/main/nvtabular\n",
    "\n",
    "- Triton inference server: https://github.com/triton-inference-server"
   ]
  }
 ],
 "metadata": {
  "interpreter": {
   "hash": "7b543a88d374ac88bf8df97911b380f671b13649694a5b49eb21e60fd27eb479"
  },
  "kernelspec": {
   "display_name": "Python 3 (ipykernel)",
   "language": "python",
   "name": "python3"
  },
  "language_info": {
   "codemirror_mode": {
    "name": "ipython",
    "version": 3
   },
   "file_extension": ".py",
   "mimetype": "text/x-python",
   "name": "python",
   "nbconvert_exporter": "python",
   "pygments_lexer": "ipython3",
   "version": "3.8.10"
  }
 },
 "nbformat": 4,
 "nbformat_minor": 5
}
