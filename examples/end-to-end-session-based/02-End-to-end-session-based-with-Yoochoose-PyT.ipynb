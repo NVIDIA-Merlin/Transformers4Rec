{
 "cells": [
  {
   "cell_type": "code",
   "execution_count": 1,
   "id": "0fb18ebc",
   "metadata": {},
   "outputs": [],
   "source": [
    "# Copyright 2022 NVIDIA Corporation. All Rights Reserved.\n",
    "#\n",
    "# Licensed under the Apache License, Version 2.0 (the \"License\");\n",
    "# you may not use this file except in compliance with the License.\n",
    "# You may obtain a copy of the License at\n",
    "#\n",
    "#     http://www.apache.org/licenses/LICENSE-2.0\n",
    "#\n",
    "# Unless required by applicable law or agreed to in writing, software\n",
    "# distributed under the License is distributed on an \"AS IS\" BASIS,\n",
    "# WITHOUT WARRANTIES OR CONDITIONS OF ANY KIND, either express or implied.\n",
    "# See the License for the specific language governing permissions and\n",
    "# limitations under the License.\n",
    "# ==============================================================================\n",
    "\n",
    "# Each user is responsible for checking the content of datasets and the\n",
    "# applicable licenses and determining if suitable for the intended use."
   ]
  },
  {
   "cell_type": "markdown",
   "id": "378ff149",
   "metadata": {
    "tags": []
   },
   "source": [
    "<img src=\"https://developer.download.nvidia.com/notebooks/dlsw-notebooks/merlin_transformers4rec_end-to-end-session-based-02-end-to-end-session-based-with-yoochoose-pyt/nvidia_logo.png\" style=\"width: 90px; float: right;\">\n",
    "\n",
    "# End-to-end session-based recommendations with PyTorch"
   ]
  },
  {
   "cell_type": "markdown",
   "id": "fe975de6",
   "metadata": {},
   "source": [
    "In recent years, several deep learning-based algorithms have been proposed for recommendation systems while its adoption in industry deployments have been steeply growing. In particular, NLP inspired approaches have been successfully adapted for sequential and session-based recommendation problems, which are important for many domains like e-commerce, news and streaming media. Session-Based Recommender Systems (SBRS) have been proposed to model the sequence of interactions within the current user session, where a session is a short sequence of user interactions typically bounded by user inactivity. They have recently gained popularity due to their ability to capture short-term or contextual user preferences towards items. \n",
    "\n",
    "The field of NLP has evolved significantly within the last decade, particularly due to the increased usage of deep learning. As a result, state of the art NLP approaches have inspired RecSys practitioners and researchers to adapt those architectures, especially for sequential and session-based recommendation problems. Here, we leverage one of the state-of-the-art Transformer-based architecture, [XLNet](https://arxiv.org/abs/1906.08237) with Masked Language Modeling (MLM) training technique (see our [tutorial](https://github.com/NVIDIA-Merlin/Transformers4Rec/tree/main/examples/tutorial) for details) for training a session-based model.\n",
    "\n",
    "In this end-to-end-session-based recommnender model example, we use `Transformers4Rec` library, which leverages the popular [HuggingFace’s Transformers](https://github.com/huggingface/transformers) NLP library and make it possible to experiment with cutting-edge implementation of such architectures for sequential and session-based recommendation problems. For detailed explanations of the building blocks of Transformers4Rec meta-architecture visit [getting-started-session-based](https://github.com/NVIDIA-Merlin/Transformers4Rec/tree/main/examples/getting-started-session-based) and [tutorial](https://github.com/NVIDIA-Merlin/Transformers4Rec/tree/main/examples/tutorial) example notebooks."
   ]
  },
  {
   "cell_type": "markdown",
   "id": "e7516d46",
   "metadata": {},
   "source": [
    "## 1. Model definition using Transformers4Rec"
   ]
  },
  {
   "cell_type": "markdown",
   "id": "d8642b00",
   "metadata": {},
   "source": [
    "In the previous notebook, we have created sequential features and saved our processed data frames as parquet files. Now we use these processed parquet files to train a session-based recommendation model with the XLNet architecture."
   ]
  },
  {
   "cell_type": "markdown",
   "id": "34bc0fdb",
   "metadata": {},
   "source": [
    "### 1.1 Get the schema "
   ]
  },
  {
   "cell_type": "markdown",
   "id": "78d52653",
   "metadata": {},
   "source": [
    "The library uses a schema format to configure the input features and automatically creates the necessary layers. This *protobuf* text file contains the description of each input feature by defining: the name, the type, the number of elements of a list column,  the cardinality of a categorical feature and the min and max values of each feature. In addition, the annotation field contains the tags such as specifying the `continuous` and `categorical` features, the `target` column or the `item_id` feature, among others."
   ]
  },
  {
   "cell_type": "code",
   "execution_count": 2,
   "id": "51ffda76",
   "metadata": {
    "tags": []
   },
   "outputs": [
    {
     "name": "stdout",
     "output_type": "stream",
     "text": [
      "[{'name': 'session_id', 'tags': {'groupby_col'}, 'properties': {'domain': {'min': 1, 'max': 9249733, 'name': 'session_id'}}, 'dtype': dtype('int64'), 'is_list': False, 'is_ragged': False}, {'name': 'item_id-list_seq', 'tags': {<Tags.LIST: 'list'>, <Tags.CATEGORICAL: 'categorical'>, <Tags.ITEM: 'item'>, <Tags.ID: 'id'>, <Tags.ITEM_ID: 'item_id'>}, 'properties': {'domain': {'min': 1, 'max': 52742, 'name': 'item_id/list'}, 'value_count': {'min': 2, 'max': 185}}, 'dtype': dtype('int64'), 'is_list': True, 'is_ragged': True}, {'name': 'category-list_seq', 'tags': {<Tags.LIST: 'list'>, <Tags.CATEGORICAL: 'categorical'>, <Tags.ITEM: 'item'>}, 'properties': {'domain': {'min': 1, 'max': 337, 'name': 'category-list_seq'}, 'value_count': {'min': 2, 'max': 185}}, 'dtype': dtype('int64'), 'is_list': True, 'is_ragged': True}, {'name': 'product_recency_days_log_norm-list_seq', 'tags': {<Tags.LIST: 'list'>, <Tags.CONTINUOUS: 'continuous'>}, 'properties': {'domain': {'min': -2.9177291, 'max': 1.5231701, 'name': 'product_recency_days_log_norm-list_seq'}, 'value_count': {'min': 2, 'max': 185}}, 'dtype': dtype('float64'), 'is_list': True, 'is_ragged': True}, {'name': 'et_dayofweek_sin-list_seq', 'tags': {<Tags.LIST: 'list'>, <Tags.TIME: 'time'>, <Tags.CONTINUOUS: 'continuous'>}, 'properties': {'domain': {'min': 0.7421683, 'max': 0.9995285, 'name': 'et_dayofweek_sin-list_seq'}, 'value_count': {'min': 2, 'max': 185}}, 'dtype': dtype('float64'), 'is_list': True, 'is_ragged': True}]\n"
     ]
    },
    {
     "name": "stderr",
     "output_type": "stream",
     "text": [
      "/usr/local/lib/python3.8/dist-packages/merlin/schema/tags.py:148: UserWarning: Compound tags like Tags.ITEM_ID have been deprecated and will be removed in a future version. Please use the atomic versions of these tags, like [<Tags.ITEM: 'item'>, <Tags.ID: 'id'>].\n",
      "  warnings.warn(\n"
     ]
    }
   ],
   "source": [
    "import os\n",
    "from merlin.schema import Schema\n",
    "from merlin.schema.io import proto_utils\n",
    "from merlin.schema.io.schema_bp import Schema as ProtoSchema\n",
    "from merlin.schema.io.tensorflow_metadata import TensorflowMetadata\n",
    "from tensorflow_metadata.proto.v0 import schema_pb2\n",
    "try:\n",
    "    os.chdir(\"./examples/end-to-end-session-based/\")\n",
    "except FileNotFoundError:\n",
    "    pass\n",
    "\n",
    "SCHEMA_PATH = \"schema_demo.pb\"\n",
    "schema = TensorflowMetadata.from_proto_text_file(os.getcwd(), SCHEMA_PATH).to_merlin_schema()\n",
    "print(schema)"
   ]
  },
  {
   "cell_type": "markdown",
   "id": "7ab6407d",
   "metadata": {},
   "source": [
    "We can select the subset of features we want to use for training the model by their tags or their names."
   ]
  },
  {
   "cell_type": "code",
   "execution_count": 3,
   "id": "f2a57f70",
   "metadata": {},
   "outputs": [],
   "source": [
    "schema = schema.select_by_name(\n",
    "   ['item_id-list_seq', 'category-list_seq', 'product_recency_days_log_norm-list_seq', 'et_dayofweek_sin-list_seq']\n",
    ")"
   ]
  },
  {
   "cell_type": "markdown",
   "id": "c79ca4c0",
   "metadata": {},
   "source": [
    "### 1.2 Define the end-to-end Session-based Transformer-based recommendation model"
   ]
  },
  {
   "cell_type": "markdown",
   "id": "2e74ac27",
   "metadata": {
    "tags": []
   },
   "source": [
    "For defining a session-based recommendation model, the end-to-end model definition requires four steps:\n",
    "\n",
    "1. Instantiate [TabularSequenceFeatures](https://nvidia-merlin.github.io/Transformers4Rec/main/api/transformers4rec.tf.features.html?highlight=tabularsequence#transformers4rec.tf.features.sequence.TabularSequenceFeatures) input-module from schema to prepare the embedding tables of categorical variables and project continuous features, if specified. In addition, the module provides different aggregation methods (e.g. 'concat', 'elementwise-sum') to merge input features and generate the sequence of interactions embeddings. The module also supports language modeling tasks to prepare masked labels for training and evaluation (e.g: 'mlm' for masked language modeling) \n",
    "\n",
    "2. Next, we need to define one or multiple prediction tasks. For this demo, we are going to use [NextItemPredictionTask](https://nvidia-merlin.github.io/Transformers4Rec/main/api/transformers4rec.tf.model.html?highlight=nextitem#transformers4rec.tf.model.prediction_task.NextItemPredictionTask) with `Masked Language modeling`: during training, randomly selected items are masked and predicted using the unmasked sequence items. For inference, it is meant to always predict the next item to be interacted with.\n",
    "\n",
    "3. Then we construct a `transformer_config` based on the architectures provided by [Hugging Face Transformers](https://github.com/huggingface/transformers) framework. </a>\n",
    "\n",
    "4. Finally we link the transformer-body to the inputs and the prediction tasks to get the final pytorch `Model` class.\n",
    "    \n",
    "For more details about the features supported by each sub-module, please check out the library [documentation](https://nvidia-merlin.github.io/Transformers4Rec/main/index.html) page."
   ]
  },
  {
   "cell_type": "code",
   "execution_count": 4,
   "id": "d79c0e1b",
   "metadata": {
    "tags": []
   },
   "outputs": [
    {
     "name": "stderr",
     "output_type": "stream",
     "text": [
      "/usr/local/lib/python3.8/dist-packages/tqdm/auto.py:22: TqdmWarning: IProgress not found. Please update jupyter and ipywidgets. See https://ipywidgets.readthedocs.io/en/stable/user_install.html\n",
      "  from .autonotebook import tqdm as notebook_tqdm\n"
     ]
    },
    {
     "ename": "AssertionError",
     "evalue": "Please provide at least one input layer",
     "output_type": "error",
     "traceback": [
      "\u001b[0;31m---------------------------------------------------------------------------\u001b[0m",
      "\u001b[0;31mAssertionError\u001b[0m                            Traceback (most recent call last)",
      "Cell \u001b[0;32mIn[4], line 5\u001b[0m\n\u001b[1;32m      3\u001b[0m max_sequence_length, d_model \u001b[39m=\u001b[39m \u001b[39m20\u001b[39m, \u001b[39m320\u001b[39m\n\u001b[1;32m      4\u001b[0m \u001b[39m# Define input module to process tabular input-features and to prepare masked inputs\u001b[39;00m\n\u001b[0;32m----> 5\u001b[0m input_module \u001b[39m=\u001b[39m tr\u001b[39m.\u001b[39;49mTabularSequenceFeatures\u001b[39m.\u001b[39;49mfrom_schema(\n\u001b[1;32m      6\u001b[0m     schema,\n\u001b[1;32m      7\u001b[0m     max_sequence_length\u001b[39m=\u001b[39;49mmax_sequence_length,\n\u001b[1;32m      8\u001b[0m     continuous_projection\u001b[39m=\u001b[39;49m\u001b[39m64\u001b[39;49m,\n\u001b[1;32m      9\u001b[0m     aggregation\u001b[39m=\u001b[39;49m\u001b[39m\"\u001b[39;49m\u001b[39mconcat\u001b[39;49m\u001b[39m\"\u001b[39;49m,\n\u001b[1;32m     10\u001b[0m     d_output\u001b[39m=\u001b[39;49md_model,\n\u001b[1;32m     11\u001b[0m     masking\u001b[39m=\u001b[39;49m\u001b[39m\"\u001b[39;49m\u001b[39mmlm\u001b[39;49m\u001b[39m\"\u001b[39;49m,\n\u001b[1;32m     12\u001b[0m )\n\u001b[1;32m     14\u001b[0m \u001b[39m# Define Next item prediction-task \u001b[39;00m\n\u001b[1;32m     15\u001b[0m prediction_task \u001b[39m=\u001b[39m tr\u001b[39m.\u001b[39mNextItemPredictionTask(weight_tying\u001b[39m=\u001b[39m\u001b[39mTrue\u001b[39;00m)\n",
      "File \u001b[0;32m/workspace/transformers4rec/torch/features/sequence.py:194\u001b[0m, in \u001b[0;36mTabularSequenceFeatures.from_schema\u001b[0;34m(cls, schema, continuous_tags, categorical_tags, aggregation, automatic_build, max_sequence_length, continuous_projection, continuous_soft_embeddings, projection, d_output, masking, **kwargs)\u001b[0m\n\u001b[1;32m    141\u001b[0m \u001b[39m@classmethod\u001b[39m\n\u001b[1;32m    142\u001b[0m \u001b[39mdef\u001b[39;00m \u001b[39mfrom_schema\u001b[39m(  \u001b[39m# type: ignore\u001b[39;00m\n\u001b[1;32m    143\u001b[0m     \u001b[39mcls\u001b[39m,\n\u001b[0;32m   (...)\u001b[0m\n\u001b[1;32m    155\u001b[0m     \u001b[39m*\u001b[39m\u001b[39m*\u001b[39mkwargs\n\u001b[1;32m    156\u001b[0m ) \u001b[39m-\u001b[39m\u001b[39m>\u001b[39m \u001b[39m\"\u001b[39m\u001b[39mTabularSequenceFeatures\u001b[39m\u001b[39m\"\u001b[39m:\n\u001b[1;32m    157\u001b[0m     \u001b[39m\"\"\"Instantiates ``TabularFeatures`` from a ``merlin.schema.Schema``\u001b[39;00m\n\u001b[1;32m    158\u001b[0m \n\u001b[1;32m    159\u001b[0m \u001b[39m    Parameters\u001b[39;00m\n\u001b[0;32m   (...)\u001b[0m\n\u001b[1;32m    192\u001b[0m \u001b[39m        Returns ``TabularFeatures`` from a dataset schema\u001b[39;00m\n\u001b[1;32m    193\u001b[0m \u001b[39m    \"\"\"\u001b[39;00m\n\u001b[0;32m--> 194\u001b[0m     output: TabularSequenceFeatures \u001b[39m=\u001b[39m \u001b[39msuper\u001b[39;49m()\u001b[39m.\u001b[39;49mfrom_schema(  \u001b[39m# type: ignore\u001b[39;49;00m\n\u001b[1;32m    195\u001b[0m         schema\u001b[39m=\u001b[39;49mschema,\n\u001b[1;32m    196\u001b[0m         continuous_tags\u001b[39m=\u001b[39;49mcontinuous_tags,\n\u001b[1;32m    197\u001b[0m         categorical_tags\u001b[39m=\u001b[39;49mcategorical_tags,\n\u001b[1;32m    198\u001b[0m         aggregation\u001b[39m=\u001b[39;49maggregation,\n\u001b[1;32m    199\u001b[0m         automatic_build\u001b[39m=\u001b[39;49mautomatic_build,\n\u001b[1;32m    200\u001b[0m         max_sequence_length\u001b[39m=\u001b[39;49mmax_sequence_length,\n\u001b[1;32m    201\u001b[0m         continuous_projection\u001b[39m=\u001b[39;49mcontinuous_projection,\n\u001b[1;32m    202\u001b[0m         continuous_soft_embeddings\u001b[39m=\u001b[39;49mcontinuous_soft_embeddings,\n\u001b[1;32m    203\u001b[0m         \u001b[39m*\u001b[39;49m\u001b[39m*\u001b[39;49mkwargs\n\u001b[1;32m    204\u001b[0m     )\n\u001b[1;32m    205\u001b[0m     \u001b[39mif\u001b[39;00m d_output \u001b[39mand\u001b[39;00m projection:\n\u001b[1;32m    206\u001b[0m         \u001b[39mraise\u001b[39;00m \u001b[39mValueError\u001b[39;00m(\u001b[39m\"\u001b[39m\u001b[39mYou cannot specify both d_output and projection at the same time\u001b[39m\u001b[39m\"\u001b[39m)\n",
      "File \u001b[0;32m/workspace/transformers4rec/torch/features/tabular.py:177\u001b[0m, in \u001b[0;36mTabularFeatures.from_schema\u001b[0;34m(cls, schema, continuous_tags, categorical_tags, aggregation, automatic_build, max_sequence_length, continuous_projection, continuous_soft_embeddings, **kwargs)\u001b[0m\n\u001b[1;32m    172\u001b[0m \u001b[39mif\u001b[39;00m categorical_tags:\n\u001b[1;32m    173\u001b[0m     maybe_categorical_module \u001b[39m=\u001b[39m \u001b[39mcls\u001b[39m\u001b[39m.\u001b[39mEMBEDDING_MODULE_CLASS\u001b[39m.\u001b[39mfrom_schema(\n\u001b[1;32m    174\u001b[0m         schema, tags\u001b[39m=\u001b[39mcategorical_tags, \u001b[39m*\u001b[39m\u001b[39m*\u001b[39mkwargs\n\u001b[1;32m    175\u001b[0m     )\n\u001b[0;32m--> 177\u001b[0m output \u001b[39m=\u001b[39m \u001b[39mcls\u001b[39;49m(\n\u001b[1;32m    178\u001b[0m     continuous_module\u001b[39m=\u001b[39;49mmaybe_continuous_module,\n\u001b[1;32m    179\u001b[0m     categorical_module\u001b[39m=\u001b[39;49mmaybe_categorical_module,\n\u001b[1;32m    180\u001b[0m     text_embedding_module\u001b[39m=\u001b[39;49m\u001b[39mNone\u001b[39;49;00m,\n\u001b[1;32m    181\u001b[0m     aggregation\u001b[39m=\u001b[39;49maggregation,\n\u001b[1;32m    182\u001b[0m )\n\u001b[1;32m    184\u001b[0m \u001b[39mif\u001b[39;00m automatic_build \u001b[39mand\u001b[39;00m schema:\n\u001b[1;32m    185\u001b[0m     output\u001b[39m.\u001b[39mbuild(\n\u001b[1;32m    186\u001b[0m         get_output_sizes_from_schema(\n\u001b[1;32m    187\u001b[0m             schema,\n\u001b[0;32m   (...)\u001b[0m\n\u001b[1;32m    191\u001b[0m         schema\u001b[39m=\u001b[39mschema,\n\u001b[1;32m    192\u001b[0m     )\n",
      "File \u001b[0;32m/workspace/transformers4rec/torch/features/sequence.py:128\u001b[0m, in \u001b[0;36mTabularSequenceFeatures.__init__\u001b[0;34m(self, continuous_module, categorical_module, text_embedding_module, projection_module, masking, pre, post, aggregation, schema, **kwargs)\u001b[0m\n\u001b[1;32m    115\u001b[0m \u001b[39mdef\u001b[39;00m \u001b[39m__init__\u001b[39m(\n\u001b[1;32m    116\u001b[0m     \u001b[39mself\u001b[39m,\n\u001b[1;32m    117\u001b[0m     continuous_module: Optional[TabularModule] \u001b[39m=\u001b[39m \u001b[39mNone\u001b[39;00m,\n\u001b[0;32m   (...)\u001b[0m\n\u001b[1;32m    126\u001b[0m     \u001b[39m*\u001b[39m\u001b[39m*\u001b[39mkwargs\n\u001b[1;32m    127\u001b[0m ):\n\u001b[0;32m--> 128\u001b[0m     \u001b[39msuper\u001b[39;49m()\u001b[39m.\u001b[39;49m\u001b[39m__init__\u001b[39;49m(\n\u001b[1;32m    129\u001b[0m         continuous_module,\n\u001b[1;32m    130\u001b[0m         categorical_module,\n\u001b[1;32m    131\u001b[0m         text_embedding_module,\n\u001b[1;32m    132\u001b[0m         pre\u001b[39m=\u001b[39;49mpre,\n\u001b[1;32m    133\u001b[0m         post\u001b[39m=\u001b[39;49mpost,\n\u001b[1;32m    134\u001b[0m         aggregation\u001b[39m=\u001b[39;49maggregation,\n\u001b[1;32m    135\u001b[0m         schema\u001b[39m=\u001b[39;49mschema,\n\u001b[1;32m    136\u001b[0m         \u001b[39m*\u001b[39;49m\u001b[39m*\u001b[39;49mkwargs\n\u001b[1;32m    137\u001b[0m     )\n\u001b[1;32m    138\u001b[0m     \u001b[39mself\u001b[39m\u001b[39m.\u001b[39mprojection_module \u001b[39m=\u001b[39m projection_module\n\u001b[1;32m    139\u001b[0m     \u001b[39mself\u001b[39m\u001b[39m.\u001b[39mset_masking(masking)\n",
      "File \u001b[0;32m/workspace/transformers4rec/torch/features/tabular.py:85\u001b[0m, in \u001b[0;36mTabularFeatures.__init__\u001b[0;34m(self, continuous_module, categorical_module, text_embedding_module, pre, post, aggregation, schema, **kwargs)\u001b[0m\n\u001b[1;32m     82\u001b[0m \u001b[39mif\u001b[39;00m text_embedding_module:\n\u001b[1;32m     83\u001b[0m     to_merge[\u001b[39m\"\u001b[39m\u001b[39mtext_embedding_module\u001b[39m\u001b[39m\"\u001b[39m] \u001b[39m=\u001b[39m text_embedding_module\n\u001b[0;32m---> 85\u001b[0m \u001b[39massert\u001b[39;00m to_merge \u001b[39m!=\u001b[39m {}, \u001b[39m\"\u001b[39m\u001b[39mPlease provide at least one input layer\u001b[39m\u001b[39m\"\u001b[39m\n\u001b[1;32m     86\u001b[0m \u001b[39msuper\u001b[39m(TabularFeatures, \u001b[39mself\u001b[39m)\u001b[39m.\u001b[39m\u001b[39m__init__\u001b[39m(\n\u001b[1;32m     87\u001b[0m     to_merge, pre\u001b[39m=\u001b[39mpre, post\u001b[39m=\u001b[39mpost, aggregation\u001b[39m=\u001b[39maggregation, schema\u001b[39m=\u001b[39mschema, \u001b[39m*\u001b[39m\u001b[39m*\u001b[39mkwargs\n\u001b[1;32m     88\u001b[0m )\n",
      "\u001b[0;31mAssertionError\u001b[0m: Please provide at least one input layer"
     ]
    }
   ],
   "source": [
    "from transformers4rec import torch as tr\n",
    "\n",
    "max_sequence_length, d_model = 20, 320\n",
    "# Define input module to process tabular input-features and to prepare masked inputs\n",
    "input_module = tr.TabularSequenceFeatures.from_schema(\n",
    "    schema,\n",
    "    max_sequence_length=max_sequence_length,\n",
    "    continuous_projection=64,\n",
    "    aggregation=\"concat\",\n",
    "    d_output=d_model,\n",
    "    masking=\"mlm\",\n",
    ")\n",
    "\n",
    "# Define Next item prediction-task \n",
    "prediction_task = tr.NextItemPredictionTask(weight_tying=True)\n",
    "\n",
    "# Define the config of the XLNet Transformer architecture\n",
    "transformer_config = tr.XLNetConfig.build(\n",
    "    d_model=d_model, n_head=8, n_layer=2, total_seq_length=max_sequence_length\n",
    ")\n",
    "\n",
    "# Get the end-to-end model \n",
    "model = transformer_config.to_torch_model(input_module, prediction_task)"
   ]
  },
  {
   "cell_type": "markdown",
   "id": "847757ca-3c91-4504-b9dc-29127563da01",
   "metadata": {},
   "source": [
    "You can print out the model structure by uncommenting the line below."
   ]
  },
  {
   "cell_type": "code",
   "execution_count": null,
   "id": "d9d4a3f7-f495-4504-bfe1-94f1a6cc8328",
   "metadata": {},
   "outputs": [],
   "source": [
    "#model"
   ]
  },
  {
   "cell_type": "markdown",
   "id": "12fa0aa0",
   "metadata": {},
   "source": [
    "### 1.3. Daily Fine-Tuning: Training over a time window¶"
   ]
  },
  {
   "cell_type": "markdown",
   "id": "fdecb72a",
   "metadata": {},
   "source": [
    "Now that the model is defined, we are going to launch training. For that, Transfromers4rec extends HF Transformers Trainer class to adapt the evaluation loop for session-based recommendation task and the calculation of ranking metrics. The original `train()` method is not modified meaning that we leverage the efficient training implementation from that library, which manages, for example, half-precision (FP16) training."
   ]
  },
  {
   "cell_type": "markdown",
   "id": "e6186d69",
   "metadata": {},
   "source": [
    "#### Set the training arguments"
   ]
  },
  {
   "cell_type": "markdown",
   "id": "818197e2",
   "metadata": {},
   "source": [
    "An additional argument `data_loader_engine` is defined to automatically load the features needed for training using the schema. The default value is `merlin` for optimized GPU-based data-loading.  Optionally a `PyarrowDataLoader` (`pyarrow`) can also be used as a basic option, but it is slower and works only for small datasets, as the full data is loaded to CPU memory."
   ]
  },
  {
   "cell_type": "code",
   "execution_count": null,
   "id": "8fec3739",
   "metadata": {},
   "outputs": [],
   "source": [
    "training_args = tr.trainer.T4RecTrainingArguments(\n",
    "            output_dir=\"./tmp\",\n",
    "            max_sequence_length=20,\n",
    "            data_loader_engine='merlin',\n",
    "            num_train_epochs=10, \n",
    "            dataloader_drop_last=False,\n",
    "            per_device_train_batch_size = 384,\n",
    "            per_device_eval_batch_size = 512,\n",
    "            learning_rate=0.0005,\n",
    "            fp16=True,\n",
    "            report_to = [],\n",
    "            logging_steps=200\n",
    "        )"
   ]
  },
  {
   "cell_type": "markdown",
   "id": "836df805",
   "metadata": {},
   "source": [
    "#### Instantiate the trainer"
   ]
  },
  {
   "cell_type": "code",
   "execution_count": null,
   "id": "3e707cb8",
   "metadata": {
    "tags": []
   },
   "outputs": [],
   "source": [
    "recsys_trainer = tr.Trainer(\n",
    "    model=model,\n",
    "    args=training_args,\n",
    "    schema=schema,\n",
    "    compute_metrics=True)"
   ]
  },
  {
   "cell_type": "markdown",
   "id": "f116800b",
   "metadata": {},
   "source": [
    "#### Launch daily training and evaluation"
   ]
  },
  {
   "cell_type": "markdown",
   "id": "709592a2",
   "metadata": {},
   "source": [
    "In this demo, we will use the `fit_and_evaluate` method that allows us to conduct a time-based finetuning by iteratively training and evaluating using a sliding time window: At each iteration, we use the training data of a specific time index $t$ to train the model; then we evaluate on the validation data of the next index $t + 1$. Particularly, we set start time to 178 and end time to 180."
   ]
  },
  {
   "cell_type": "code",
   "execution_count": null,
   "id": "85be5b12",
   "metadata": {
    "tags": []
   },
   "outputs": [],
   "source": [
    "from transformers4rec.torch.utils.examples_utils import fit_and_evaluate\n",
    "OT_results = fit_and_evaluate(recsys_trainer, start_time_index=178, end_time_index=180, input_dir='./preproc_sessions_by_day')"
   ]
  },
  {
   "cell_type": "markdown",
   "id": "25c0aeb3",
   "metadata": {
    "tags": []
   },
   "source": [
    "#### Visualize the average of metrics over time"
   ]
  },
  {
   "cell_type": "markdown",
   "id": "93aaace3",
   "metadata": {},
   "source": [
    "`OT_results` is a list of scores (accuracy metrics) for evaluation based on given start and end time_index. Since in this example we do evaluation on days 179, 180 and 181, we get three metrics in the list one for each day."
   ]
  },
  {
   "cell_type": "code",
   "execution_count": null,
   "id": "7c90423f",
   "metadata": {},
   "outputs": [],
   "source": [
    "OT_results"
   ]
  },
  {
   "cell_type": "code",
   "execution_count": null,
   "id": "6eaf2040",
   "metadata": {
    "tags": []
   },
   "outputs": [],
   "source": [
    "import numpy as np\n",
    "# take the average of metric values over time\n",
    "avg_results = {k: np.mean(v) for k,v in OT_results.items()}\n",
    "for key in sorted(avg_results.keys()): \n",
    "    print(\" %s = %s\" % (key, str(avg_results[key]))) "
   ]
  },
  {
   "cell_type": "markdown",
   "id": "f2909d9a",
   "metadata": {},
   "source": [
    "#### Save the model"
   ]
  },
  {
   "cell_type": "code",
   "execution_count": null,
   "id": "c91bf13f",
   "metadata": {
    "tags": []
   },
   "outputs": [],
   "source": [
    "recsys_trainer._save_model_and_checkpoint(save_model_class=True)"
   ]
  },
  {
   "cell_type": "markdown",
   "id": "1d55e66e",
   "metadata": {},
   "source": [
    "#### Export the preprocessing workflow and model in the format required by Triton server:\n",
    "\n",
    "NVTabular’s `export_pytorch_ensemble()` function enables us to create model files and config files to be served to Triton Inference Server. "
   ]
  },
  {
   "cell_type": "code",
   "execution_count": null,
   "id": "20583e54",
   "metadata": {},
   "outputs": [],
   "source": [
    "from nvtabular.inference.triton import export_pytorch_ensemble\n",
    "from nvtabular.workflow import Workflow\n",
    "workflow = Workflow.load(\"workflow_etl\")\n",
    "\n",
    "export_pytorch_ensemble(\n",
    "    model,\n",
    "    workflow,\n",
    "    sparse_max=recsys_trainer.get_train_dataloader().dataset.sparse_max,\n",
    "    name= \"t4r_pytorch\",\n",
    "    model_path= \"/workspace/TF4Rec/models/\",\n",
    "    label_columns =[],\n",
    ")"
   ]
  },
  {
   "cell_type": "markdown",
   "id": "d2e4430b",
   "metadata": {},
   "source": [
    "## 2. Serving Ensemble Model to the Triton Inference Server"
   ]
  },
  {
   "cell_type": "markdown",
   "id": "4b1615cc",
   "metadata": {},
   "source": [
    "NVIDIA [Triton Inference Server (TIS)](https://github.com/triton-inference-server/server) simplifies the deployment of AI models at scale in production. TIS provides a cloud and edge inferencing solution optimized for both CPUs and GPUs. It supports a number of different machine learning frameworks such as TensorFlow and PyTorch.\n",
    "\n",
    "The last step of a machine learning (ML)/deep learning (DL) pipeline is to deploy the ETL workflow and saved model to production. In the production setting, we want to transform the input data as done during training (ETL). We need to apply the same mean/std for continuous features and use the same categorical mapping to convert the categories to continuous integer before we use the DL model for a prediction. Therefore, we deploy the NVTabular workflow with the PyTorch model as an ensemble model to Triton Inference. The ensemble model guarantees that the same transformation is applied to the raw inputs.\n",
    "\n",
    "\n",
    "In this section, you will learn how to\n",
    "- to deploy saved NVTabular and PyTorch models to Triton Inference Server \n",
    "- send requests for predictions and get responses."
   ]
  },
  {
   "cell_type": "markdown",
   "id": "d29b67ad",
   "metadata": {},
   "source": [
    "### 2.1. Pull and Start Inference Container\n",
    "\n",
    "At this point, we start the Triton Inference Server (TIS). \n",
    "\n",
    "**Start triton server**<br>\n",
    "You can start triton server with the command below. You need to provide correct path of the models folder.\n",
    "\n",
    "```\n",
    "tritonserver --model-repository=<path_to_models> --model-control-mode=explicit\n",
    "```\n",
    "Note: The model-repository path for our example is `/workspace/TF4Rec/models/`. The models have not been loaded yet. Below, we will request the Triton server to load the saved ensemble model."
   ]
  },
  {
   "cell_type": "markdown",
   "id": "7e76b0ed",
   "metadata": {},
   "source": [
    "### 2.2. Connect to the Triton Inference Server and check if the server is alive"
   ]
  },
  {
   "cell_type": "code",
   "execution_count": null,
   "id": "dcfb4acd",
   "metadata": {
    "tags": []
   },
   "outputs": [],
   "source": [
    "import tritonhttpclient\n",
    "try:\n",
    "    triton_client = tritonhttpclient.InferenceServerClient(url=\"localhost:8000\", verbose=True)\n",
    "    print(\"client created.\")\n",
    "except Exception as e:\n",
    "    print(\"channel creation failed: \" + str(e))\n",
    "triton_client.is_server_live()"
   ]
  },
  {
   "cell_type": "markdown",
   "id": "f5067e84",
   "metadata": {},
   "source": [
    "### 2.3. Load raw data for inference\n",
    "We select the last 50 interactions and filter out sessions with less than 2 interactions. "
   ]
  },
  {
   "cell_type": "code",
   "execution_count": null,
   "id": "61a27083",
   "metadata": {},
   "outputs": [],
   "source": [
    "import pandas as pd\n",
    "interactions_merged_df = pd.read_parquet(\"/workspace/data/interactions_merged_df.parquet\")\n",
    "interactions_merged_df = interactions_merged_df.sort_values('timestamp')\n",
    "batch = interactions_merged_df[-50:]\n",
    "sessions_to_use = batch.session_id.value_counts()\n",
    "filtered_batch = batch[batch.session_id.isin(sessions_to_use[sessions_to_use.values>1].index.values)]"
   ]
  },
  {
   "cell_type": "markdown",
   "id": "4944262f-b9a4-4465-9877-938946a93907",
   "metadata": {},
   "source": [
    "### 2.4. Load the ensemble model to triton"
   ]
  },
  {
   "cell_type": "markdown",
   "id": "48a8ad13-59fa-4c55-8a36-f4fff41480e9",
   "metadata": {},
   "source": [
    "The models should be loaded successfully before we send a request to TIS. If all models are loaded successfully, you should be seeing `successfully loaded` status next to each model name on your terminal."
   ]
  },
  {
   "cell_type": "code",
   "execution_count": null,
   "id": "216cafd5-4fb3-47dd-9763-f43dc95851fa",
   "metadata": {},
   "outputs": [],
   "source": [
    "triton_client.load_model(model_name=\"t4r_pytorch\")"
   ]
  },
  {
   "cell_type": "markdown",
   "id": "74e022da",
   "metadata": {},
   "source": [
    "### 2.5. Send the request to triton server"
   ]
  },
  {
   "cell_type": "code",
   "execution_count": null,
   "id": "e98c6068",
   "metadata": {},
   "outputs": [],
   "source": [
    "triton_client.get_model_repository_index()"
   ]
  },
  {
   "cell_type": "markdown",
   "id": "8083b9ab",
   "metadata": {},
   "source": [
    "If all models are loaded successfully, you should be seeing `READY` status next to each model."
   ]
  },
  {
   "cell_type": "code",
   "execution_count": null,
   "id": "a979bdad",
   "metadata": {
    "tags": []
   },
   "outputs": [],
   "source": [
    "import nvtabular.inference.triton as nvt_triton\n",
    "import tritonclient.grpc as grpcclient\n",
    "\n",
    "inputs = nvt_triton.convert_df_to_triton_input(filtered_batch.columns, filtered_batch, grpcclient.InferInput)\n",
    "\n",
    "output_names = [\"output\"]\n",
    "\n",
    "outputs = []\n",
    "for col in output_names:\n",
    "    outputs.append(grpcclient.InferRequestedOutput(col))\n",
    "    \n",
    "MODEL_NAME_NVT = \"t4r_pytorch\"\n",
    "\n",
    "with grpcclient.InferenceServerClient(\"localhost:8001\") as client:\n",
    "    response = client.infer(MODEL_NAME_NVT, inputs)\n",
    "    print(col, ':\\n', response.as_numpy(col))"
   ]
  },
  {
   "cell_type": "markdown",
   "id": "e97d0ee4",
   "metadata": {},
   "source": [
    "- Visualise top-k predictions"
   ]
  },
  {
   "cell_type": "code",
   "execution_count": null,
   "id": "ca739176",
   "metadata": {
    "tags": []
   },
   "outputs": [],
   "source": [
    "from transformers4rec.torch.utils.examples_utils import visualize_response\n",
    "visualize_response(filtered_batch, response, top_k=5, session_col='session_id')"
   ]
  },
  {
   "cell_type": "markdown",
   "id": "f576abb9",
   "metadata": {},
   "source": [
    "As you noticed, we first got prediction results (logits) from the trained model head, and then by using a handy util function `visualize_response` we extracted top-k encoded item-ids from logits. Basically, we generated recommended items for a given session.\n",
    "\n",
    "This is the end of the tutorial. You successfully\n",
    "\n",
    "- performed feature engineering with NVTabular\n",
    "- trained transformer architecture based session-based recommendation models with Transformers4Rec\n",
    "- deployed a trained model to Triton Inference Server, sent request and got responses from the server."
   ]
  },
  {
   "cell_type": "markdown",
   "id": "365e8f11",
   "metadata": {},
   "source": [
    "**Unload models**"
   ]
  },
  {
   "cell_type": "code",
   "execution_count": null,
   "id": "0713f660",
   "metadata": {},
   "outputs": [],
   "source": [
    "triton_client.unload_model(model_name=\"t4r_pytorch\")\n",
    "triton_client.unload_model(model_name=\"t4r_pytorch_nvt\")\n",
    "triton_client.unload_model(model_name=\"t4r_pytorch_pt\")"
   ]
  },
  {
   "cell_type": "markdown",
   "id": "68dd532f",
   "metadata": {},
   "source": [
    "## References"
   ]
  },
  {
   "cell_type": "markdown",
   "id": "30f9073e",
   "metadata": {},
   "source": [
    "- Merlin Transformers4rec: https://github.com/NVIDIA-Merlin/Transformers4Rec\n",
    "\n",
    "- Merlin NVTabular: https://github.com/NVIDIA-Merlin/NVTabular/tree/main/nvtabular\n",
    "\n",
    "- Merlin Dataloader: https://github.com/NVIDIA-Merlin/dataloader\n",
    "\n",
    "- Triton inference server: https://github.com/triton-inference-server"
   ]
  }
 ],
 "metadata": {
  "kernelspec": {
   "display_name": "Python 3 (ipykernel)",
   "language": "python",
   "name": "python3"
  },
  "language_info": {
   "codemirror_mode": {
    "name": "ipython",
    "version": 3
   },
   "file_extension": ".py",
   "mimetype": "text/x-python",
   "name": "python",
   "nbconvert_exporter": "python",
   "pygments_lexer": "ipython3",
   "version": "3.8.10"
  },
  "vscode": {
   "interpreter": {
    "hash": "8da354bb7ba701cae52cd1a3a84502fe41cc6aebe6fe36bc9cca0806df816f73"
   }
  }
 },
 "nbformat": 4,
 "nbformat_minor": 5
}
