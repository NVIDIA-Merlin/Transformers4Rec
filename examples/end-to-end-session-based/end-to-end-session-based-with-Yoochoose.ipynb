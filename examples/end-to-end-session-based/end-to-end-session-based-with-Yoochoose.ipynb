{
 "cells": [
  {
   "cell_type": "code",
   "execution_count": 1,
   "id": "730944c9",
   "metadata": {},
   "outputs": [],
   "source": [
    "# Copyright 2021 NVIDIA Corporation. All Rights Reserved.\n",
    "#\n",
    "# Licensed under the Apache License, Version 2.0 (the \"License\");\n",
    "# you may not use this file except in compliance with the License.\n",
    "# You may obtain a copy of the License at\n",
    "#\n",
    "#     http://www.apache.org/licenses/LICENSE-2.0\n",
    "#\n",
    "# Unless required by applicable law or agreed to in writing, software\n",
    "# distributed under the License is distributed on an \"AS IS\" BASIS,\n",
    "# WITHOUT WARRANTIES OR CONDITIONS OF ANY KIND, either express or implied.\n",
    "# See the License for the specific language governing permissions and\n",
    "# limitations under the License.\n",
    "# =============================================================================="
   ]
  },
  {
   "cell_type": "markdown",
   "id": "67d89bcd",
   "metadata": {
    "tags": []
   },
   "source": [
    "# End-to-end session-based recommendation with Transformers4Rec"
   ]
  },
  {
   "cell_type": "markdown",
   "id": "3fdae035",
   "metadata": {},
   "source": [
    "In recent years, several deep learning-based algorithms have been proposed for recommendation systems while its adoption in industry deployments have been steeply growing. In particular, NLP inspired approaches have been successfully adapted for sequential and session-based recommendation problems, which are important for many domains like e-commerce, news and streaming media. Session-Based Recommender Systems (SBRS) have been proposed to model the sequence of interactions within the current user session, where a session is a short sequence of user interactions typically bounded by user inactivity. They have recently gained popularity due to their ability to capture short-term or contextual user preferences towards items. \n",
    "\n",
    "The field of NLP has evolved significantly within the last decade, particularly due to the increased usage of deep learning. As a result, state of the art NLP approaches have inspired RecSys practitioners and researchers to adapt those architectures, especially for sequential and session-based recommendation problems. Here, we leverage one of the state-of-the-art Transformer-based architecture, [XLNet](https://arxiv.org/abs/1906.08237) with Masked Language Modeling (MLM) training technique (see our [tutorial](https://github.com/NVIDIA-Merlin/Transformers4Rec/tree/main/examples/tutorial) for details) for training a session-based model.\n",
    "\n",
    "In this end-to-end-session-based recommnender model example, we use `Transformers4Rec` library, which leverages the popular [HuggingFace’s Transformers](https://github.com/huggingface/transformers) NLP library and make it possible to experiment with cutting-edge implementation of such architectures for sequential and session-based recommendation problems. For detailed explanations of the building blocks of Transformers4Rec meta-architecture visit [getting-started-session-based](https://github.com/NVIDIA-Merlin/Transformers4Rec/tree/main/examples/getting-started-session-based) and [tutorial](https://github.com/NVIDIA-Merlin/Transformers4Rec/tree/main/examples/tutorial) example notebooks."
   ]
  },
  {
   "cell_type": "markdown",
   "id": "bd5489f6",
   "metadata": {},
   "source": [
    "## 1. Setup"
   ]
  },
  {
   "cell_type": "markdown",
   "id": "820f6404",
   "metadata": {},
   "source": [
    "### 1.1. Import Libraries and Define Data Input and Output Paths"
   ]
  },
  {
   "cell_type": "code",
   "execution_count": 2,
   "id": "224f3bb0",
   "metadata": {},
   "outputs": [],
   "source": [
    "import os\n",
    "import glob\n",
    "import numpy as np\n",
    "import gc\n",
    "\n",
    "import cudf\n",
    "import cupy\n",
    "import nvtabular as nvt"
   ]
  },
  {
   "cell_type": "code",
   "execution_count": 3,
   "id": "e7cc2a35",
   "metadata": {},
   "outputs": [],
   "source": [
    "DATA_FOLDER = \"/workspace/data/\"\n",
    "FILENAME_PATTERN = 'yoochoose-clicks.dat'\n",
    "DATA_PATH = os.path.join(DATA_FOLDER, FILENAME_PATTERN)\n",
    "\n",
    "OUTPUT_FOLDER = \"./yoochoose_transformed\"\n",
    "OVERWRITE = False"
   ]
  },
  {
   "cell_type": "markdown",
   "id": "fe5edc4d",
   "metadata": {},
   "source": [
    "### 1.2. Download the data"
   ]
  },
  {
   "cell_type": "markdown",
   "id": "16b8e561",
   "metadata": {},
   "source": [
    "In this notebook we are using the `YOOCHOOSE` dataset which contains a collection of sessions from a retailer. Each session  encapsulates the click events that the user performed in that session.\n",
    "\n",
    "The dataset is available on [Kaggle](https://www.kaggle.com/chadgostopp/recsys-challenge-2015). You need to download it and copy to the `DATA_FOLDER` path. Note that we are only using the `yoochoose-clicks.dat` file.\n"
   ]
  },
  {
   "cell_type": "markdown",
   "id": "4769034c",
   "metadata": {},
   "source": [
    "### 1.3. Load and clean raw data"
   ]
  },
  {
   "cell_type": "code",
   "execution_count": 4,
   "id": "bf768d3a",
   "metadata": {},
   "outputs": [],
   "source": [
    "interactions_df = cudf.read_csv(DATA_PATH, sep=',', \n",
    "                                names=['session_id','timestamp', 'item_id', 'category'], \n",
    "                                dtype=['int', 'datetime64[s]', 'int', 'int'])"
   ]
  },
  {
   "cell_type": "markdown",
   "id": "7c4c9762",
   "metadata": {},
   "source": [
    "#### Remove repeated interactions within the same session"
   ]
  },
  {
   "cell_type": "code",
   "execution_count": 5,
   "id": "b886a6fb",
   "metadata": {
    "tags": []
   },
   "outputs": [
    {
     "name": "stdout",
     "output_type": "stream",
     "text": [
      "Count with in-session repeated interactions: 33003944\n",
      "Count after removed in-session repeated interactions: 28971543\n"
     ]
    }
   ],
   "source": [
    "print(\"Count with in-session repeated interactions: {}\".format(len(interactions_df)))\n",
    "# Sorts the dataframe by session and timestamp, to remove consecutive repetitions\n",
    "interactions_df.timestamp = interactions_df.timestamp.astype(int)\n",
    "interactions_df = interactions_df.sort_values(['session_id', 'timestamp'])\n",
    "past_ids = interactions_df['item_id'].shift(1).fillna()\n",
    "session_past_ids = interactions_df['session_id'].shift(1).fillna()\n",
    "# Keeping only no consecutive repeated in session interactions\n",
    "interactions_df = interactions_df[~((interactions_df['session_id'] == session_past_ids) & (interactions_df['item_id'] == past_ids))]\n",
    "print(\"Count after removed in-session repeated interactions: {}\".format(len(interactions_df)))"
   ]
  },
  {
   "cell_type": "markdown",
   "id": "84512c78",
   "metadata": {},
   "source": [
    "#### Creates new feature with the timestamp when the item was first seen"
   ]
  },
  {
   "cell_type": "code",
   "execution_count": 6,
   "id": "ff5afe4a",
   "metadata": {
    "tags": []
   },
   "outputs": [
    {
     "data": {
      "text/html": [
       "<div>\n",
       "<style scoped>\n",
       "    .dataframe tbody tr th:only-of-type {\n",
       "        vertical-align: middle;\n",
       "    }\n",
       "\n",
       "    .dataframe tbody tr th {\n",
       "        vertical-align: top;\n",
       "    }\n",
       "\n",
       "    .dataframe thead th {\n",
       "        text-align: right;\n",
       "    }\n",
       "</style>\n",
       "<table border=\"1\" class=\"dataframe\">\n",
       "  <thead>\n",
       "    <tr style=\"text-align: right;\">\n",
       "      <th></th>\n",
       "      <th>session_id</th>\n",
       "      <th>timestamp</th>\n",
       "      <th>item_id</th>\n",
       "      <th>category</th>\n",
       "      <th>itemid_ts_first</th>\n",
       "    </tr>\n",
       "  </thead>\n",
       "  <tbody>\n",
       "    <tr>\n",
       "      <th>0</th>\n",
       "      <td>10962</td>\n",
       "      <td>1396529065</td>\n",
       "      <td>214716935</td>\n",
       "      <td>0</td>\n",
       "      <td>1396321225</td>\n",
       "    </tr>\n",
       "    <tr>\n",
       "      <th>1</th>\n",
       "      <td>10962</td>\n",
       "      <td>1396529088</td>\n",
       "      <td>214716932</td>\n",
       "      <td>0</td>\n",
       "      <td>1396323181</td>\n",
       "    </tr>\n",
       "    <tr>\n",
       "      <th>2</th>\n",
       "      <td>10963</td>\n",
       "      <td>1396329338</td>\n",
       "      <td>214833800</td>\n",
       "      <td>0</td>\n",
       "      <td>1396327488</td>\n",
       "    </tr>\n",
       "    <tr>\n",
       "      <th>3</th>\n",
       "      <td>10963</td>\n",
       "      <td>1396329372</td>\n",
       "      <td>214832728</td>\n",
       "      <td>0</td>\n",
       "      <td>1396327694</td>\n",
       "    </tr>\n",
       "    <tr>\n",
       "      <th>4</th>\n",
       "      <td>10963</td>\n",
       "      <td>1396329388</td>\n",
       "      <td>214833800</td>\n",
       "      <td>0</td>\n",
       "      <td>1396327488</td>\n",
       "    </tr>\n",
       "  </tbody>\n",
       "</table>\n",
       "</div>"
      ],
      "text/plain": [
       "   session_id   timestamp    item_id  category  itemid_ts_first\n",
       "0       10962  1396529065  214716935         0       1396321225\n",
       "1       10962  1396529088  214716932         0       1396323181\n",
       "2       10963  1396329338  214833800         0       1396327488\n",
       "3       10963  1396329372  214832728         0       1396327694\n",
       "4       10963  1396329388  214833800         0       1396327488"
      ]
     },
     "execution_count": 6,
     "metadata": {},
     "output_type": "execute_result"
    }
   ],
   "source": [
    "items_first_ts_df = interactions_df.groupby('item_id').agg({'timestamp': 'min'}).reset_index().rename(columns={'timestamp': 'itemid_ts_first'})\n",
    "interactions_merged_df = interactions_df.merge(items_first_ts_df, on=['item_id'], how='left')\n",
    "interactions_merged_df.head()"
   ]
  },
  {
   "cell_type": "code",
   "execution_count": 7,
   "id": "6d96b068",
   "metadata": {
    "tags": []
   },
   "outputs": [
    {
     "data": {
      "text/plain": [
       "0"
      ]
     },
     "execution_count": 7,
     "metadata": {},
     "output_type": "execute_result"
    }
   ],
   "source": [
    "# free gpu memory\n",
    "del interactions_df, session_past_ids, items_first_ts_df\n",
    "gc.collect()"
   ]
  },
  {
   "cell_type": "markdown",
   "id": "3a95c064",
   "metadata": {},
   "source": [
    "## 2. Define a preprocessing workflow with NVTabular"
   ]
  },
  {
   "cell_type": "markdown",
   "id": "6ee3969b",
   "metadata": {},
   "source": [
    "NVTabular is a feature engineering and preprocessing library for tabular data designed to quickly and easily manipulate terabyte scale datasets used to train deep learning based recommender systems. It provides a high level abstraction to simplify code and accelerates computation on the GPU using the RAPIDS cuDF library.\n",
    "\n",
    "NVTabular supports different feature engineering transformations required by deep learning (DL) models such as Categorical encoding and numerical feature normalization. It also supports feature engineering and generating sequential features. \n",
    "\n",
    "More information about the supported features can be found <a href=https://nvidia-merlin.github.io/NVTabular/main/index.html> here. </a>"
   ]
  },
  {
   "cell_type": "markdown",
   "id": "5b3b9bd0",
   "metadata": {},
   "source": [
    "### 2.1 Feature engineering: Create and Transform items features"
   ]
  },
  {
   "cell_type": "markdown",
   "id": "838dd8e5",
   "metadata": {},
   "source": [
    "In this cell, we are defining three transformations ops: \n",
    "\n",
    "- 1. Encoding categorical variables using `Categorify()` op. We set `start_index` to 1, so that encoded null values start from `1` instead of `0` because we reserve `0` for padding the sequence features.\n",
    "- 2. Deriving temporal features from timestamp and computing their cyclical representation using a custom lambda function. \n",
    "- 3. Computing the item recency in days using a custom Op. Note that item recency is defined as the difference between the first occurrence of the item in dataset and the actual date of item interaction. \n",
    "\n",
    "For more ETL workflow examples, visit NVTabular [example notebooks](https://github.com/NVIDIA-Merlin/NVTabular/tree/main/examples)."
   ]
  },
  {
   "cell_type": "code",
   "execution_count": 8,
   "id": "b6a073a4",
   "metadata": {
    "tags": []
   },
   "outputs": [],
   "source": [
    "# Encodes categorical features as contiguous integers\n",
    "cat_feats = nvt.ColumnSelector(['session_id', 'category', 'item_id']) >> nvt.ops.Categorify(start_index=1)\n",
    "\n",
    "# create time features\n",
    "session_ts = nvt.ColumnSelector(['timestamp'])\n",
    "session_time = (\n",
    "    session_ts >> \n",
    "    nvt.ops.LambdaOp(lambda col: cudf.to_datetime(col, unit='s')) >> \n",
    "    nvt.ops.Rename(name = 'event_time_dt')\n",
    ")\n",
    "sessiontime_weekday = (\n",
    "    session_time >> \n",
    "    nvt.ops.LambdaOp(lambda col: col.dt.weekday) >> \n",
    "    nvt.ops.Rename(name ='et_dayofweek')\n",
    ")\n",
    "\n",
    "# Derive cyclical features: Defines a custom lambda function \n",
    "def get_cycled_feature_value_sin(col, max_value):\n",
    "    value_scaled = (col + 0.000001) / max_value\n",
    "    value_sin = np.sin(2*np.pi*value_scaled)\n",
    "    return value_sin\n",
    "\n",
    "weekday_sin = sessiontime_weekday >> (lambda col: get_cycled_feature_value_sin(col+1, 7)) >> nvt.ops.Rename(name = 'et_dayofweek_sin')\n",
    "\n",
    "# Compute Item recency: Define a custom Op \n",
    "class ItemRecency(nvt.ops.Operator):\n",
    "    def transform(self, columns, gdf):\n",
    "        for column in columns.names:\n",
    "            col = gdf[column]\n",
    "            item_first_timestamp = gdf['itemid_ts_first']\n",
    "            delta_days = (col - item_first_timestamp) / (60*60*24)\n",
    "            gdf[column + \"_age_days\"] = delta_days * (delta_days >=0)\n",
    "        return gdf\n",
    "           \n",
    "    def output_column_names(self, columns):\n",
    "        return nvt.ColumnSelector([column + \"_age_days\" for column in columns.names])\n",
    "\n",
    "    def dependencies(self):\n",
    "        return [\"itemid_ts_first\"]\n",
    "    \n",
    "recency_features = session_ts >> ItemRecency() \n",
    "# Apply standardization to this continuous feature\n",
    "recency_features_norm = recency_features >> nvt.ops.LogOp() >> nvt.ops.Normalize() >> nvt.ops.Rename(name='product_recency_days_log_norm')\n",
    "\n",
    "time_features = (\n",
    "    session_time +\n",
    "    sessiontime_weekday +\n",
    "    weekday_sin + \n",
    "    recency_features_norm\n",
    ")\n",
    "\n",
    "features = nvt.ColumnSelector(['timestamp', 'session_id']) + cat_feats + time_features "
   ]
  },
  {
   "cell_type": "markdown",
   "id": "0eae8527",
   "metadata": {},
   "source": [
    "### 2.2 Defines the preprocessing of sequential features"
   ]
  },
  {
   "cell_type": "markdown",
   "id": "c9ade6ef",
   "metadata": {},
   "source": [
    "Once the item features are generated, the objective of this cell is grouping interactions at the session level, sorting the interactions by time. We additionally truncate all sessions to first 20 interactions and filter out sessions with less than 2 interactions."
   ]
  },
  {
   "cell_type": "code",
   "execution_count": 9,
   "id": "a5db3bcf",
   "metadata": {},
   "outputs": [],
   "source": [
    "# Define Groupby Operator\n",
    "groupby_features = features >> nvt.ops.Groupby(\n",
    "    groupby_cols=[\"session_id\"], \n",
    "    sort_cols=[\"timestamp\"],\n",
    "    aggs={\n",
    "        'item_id': [\"list\", \"count\"],\n",
    "        'category': [\"list\"],  \n",
    "        'timestamp': [\"first\"],\n",
    "        'event_time_dt': [\"first\"],\n",
    "        'et_dayofweek_sin': [\"list\"],\n",
    "        'product_recency_days_log_norm': [\"list\"]\n",
    "        },\n",
    "    name_sep=\"-\")\n",
    "\n",
    "\n",
    "# Truncate sequence features to first interacted 20 items \n",
    "SESSIONS_MAX_LENGTH = 20 \n",
    "\n",
    "groupby_features_list = groupby_features['item_id-list', 'category-list', 'et_dayofweek_sin-list', 'product_recency_days_log_norm-list']\n",
    "groupby_features_truncated = groupby_features_list >> nvt.ops.ListSlice(0, SESSIONS_MAX_LENGTH) >> nvt.ops.Rename(postfix = '_seq')\n",
    "\n",
    "# Calculate session day index based on 'event_time_dt-first' column\n",
    "day_index = ((groupby_features['event_time_dt-first'])  >> \n",
    "    nvt.ops.LambdaOp(lambda col: (col - col.min()).dt.days +1) >> \n",
    "    nvt.ops.Rename(f = lambda col: \"day_index\")\n",
    ")\n",
    "\n",
    "# Select features for training \n",
    "selected_features = groupby_features['session_id', 'item_id-count'] + groupby_features_truncated + day_index\n",
    "\n",
    "# Filter out sessions with less than 2 interactions \n",
    "MINIMUM_SESSION_LENGTH = 2\n",
    "filtered_sessions = selected_features >> nvt.ops.Filter(f=lambda df: df[\"item_id-count\"] >= MINIMUM_SESSION_LENGTH) "
   ]
  },
  {
   "cell_type": "markdown",
   "id": "57a7d823",
   "metadata": {},
   "source": [
    "- Avoid Numba low occupancy warnings"
   ]
  },
  {
   "cell_type": "code",
   "execution_count": 10,
   "id": "ceb04840",
   "metadata": {},
   "outputs": [],
   "source": [
    "from numba import config\n",
    "config.CUDA_LOW_OCCUPANCY_WARNINGS = 0"
   ]
  },
  {
   "cell_type": "markdown",
   "id": "aa09050f",
   "metadata": {},
   "source": [
    "### 2.3 Execute NVTabular workflow"
   ]
  },
  {
   "cell_type": "markdown",
   "id": "2968c33e",
   "metadata": {},
   "source": [
    "Once we have defined the general workflow (`filtered_sessions`), we provide our cudf dataset to nvt.Dataset class which is optimized to split data into chunks that can fit in device memory and to handle the calculation of complex global statistics. Then, we execute the pipeline that fits and transforms data to get the desired output features."
   ]
  },
  {
   "cell_type": "code",
   "execution_count": 11,
   "id": "d4917233",
   "metadata": {
    "tags": []
   },
   "outputs": [],
   "source": [
    "dataset = nvt.Dataset(interactions_merged_df)\n",
    "workflow = nvt.Workflow(filtered_sessions)\n",
    "# Learns features statistics necessary of the preprocessing workflow\n",
    "workflow.fit(dataset)\n",
    "# Apply the preprocessing workflow in the dataset and converts the resulting Dask cudf dataframe to a cudf dataframe\n",
    "sessions_gdf = workflow.transform(dataset).compute()"
   ]
  },
  {
   "cell_type": "markdown",
   "id": "71096736",
   "metadata": {},
   "source": [
    "Let's print the head of our preprocessed dataset. You can notice that now each example (row) is a session and the sequential features with respect to user interactions were converted to lists with matching length."
   ]
  },
  {
   "cell_type": "code",
   "execution_count": 12,
   "id": "41bdc644",
   "metadata": {
    "tags": []
   },
   "outputs": [
    {
     "data": {
      "text/html": [
       "<div>\n",
       "<style scoped>\n",
       "    .dataframe tbody tr th:only-of-type {\n",
       "        vertical-align: middle;\n",
       "    }\n",
       "\n",
       "    .dataframe tbody tr th {\n",
       "        vertical-align: top;\n",
       "    }\n",
       "\n",
       "    .dataframe thead th {\n",
       "        text-align: right;\n",
       "    }\n",
       "</style>\n",
       "<table border=\"1\" class=\"dataframe\">\n",
       "  <thead>\n",
       "    <tr style=\"text-align: right;\">\n",
       "      <th></th>\n",
       "      <th>session_id</th>\n",
       "      <th>item_id-count</th>\n",
       "      <th>item_id-list_seq</th>\n",
       "      <th>category-list_seq</th>\n",
       "      <th>et_dayofweek_sin-list_seq</th>\n",
       "      <th>product_recency_days_log_norm-list_seq</th>\n",
       "      <th>day_index</th>\n",
       "    </tr>\n",
       "  </thead>\n",
       "  <tbody>\n",
       "    <tr>\n",
       "      <th>0</th>\n",
       "      <td>2</td>\n",
       "      <td>200</td>\n",
       "      <td>[2223, 2125, 1800, 123, 3030, 1861, 1076, 1285...</td>\n",
       "      <td>[2, 2, 2, 2, 2, 2, 2, 2, 2, 2, 2, 2, 2, 2, 2, ...</td>\n",
       "      <td>[1.1285199e-06, 1.1285199e-06, 1.1285199e-06, ...</td>\n",
       "      <td>[-1.1126341, -0.9665389, -0.1350116, -0.127809...</td>\n",
       "      <td>27</td>\n",
       "    </tr>\n",
       "    <tr>\n",
       "      <th>1</th>\n",
       "      <td>3</td>\n",
       "      <td>200</td>\n",
       "      <td>[26562, 35137, 19260, 46449, 29027, 39096, 272...</td>\n",
       "      <td>[2, 2, 2, 2, 2, 2, 2, 2, 2, 2, 2, 2, 2, 2, 2, ...</td>\n",
       "      <td>[0.43388295, 0.43388295, 0.43388295, 0.4338829...</td>\n",
       "      <td>[0.40848607, 0.39331725, 0.5418466, -3.0278225...</td>\n",
       "      <td>58</td>\n",
       "    </tr>\n",
       "    <tr>\n",
       "      <th>2</th>\n",
       "      <td>4</td>\n",
       "      <td>200</td>\n",
       "      <td>[23212, 30448, 16468, 2052, 22490, 31097, 6243...</td>\n",
       "      <td>[2, 2, 2, 2, 2, 2, 2, 2, 2, 2, 2, 2, 2, 2, 2, ...</td>\n",
       "      <td>[0.9749277, 0.9749277, 0.9749277, 0.9749277, 0...</td>\n",
       "      <td>[0.6801631, 0.7174695, 0.7185285, 0.7204116, 0...</td>\n",
       "      <td>71</td>\n",
       "    </tr>\n",
       "    <tr>\n",
       "      <th>3</th>\n",
       "      <td>5</td>\n",
       "      <td>200</td>\n",
       "      <td>[230, 451, 732, 1268, 2014, 567, 497, 439, 338...</td>\n",
       "      <td>[2, 2, 2, 2, 2, 2, 2, 2, 2, 2, 2, 2, 3, 2, 2, ...</td>\n",
       "      <td>[0.43388295, 0.43388295, 0.43388295, 0.4338829...</td>\n",
       "      <td>[1.3680888, -0.6530481, -0.69314253, -0.590593...</td>\n",
       "      <td>149</td>\n",
       "    </tr>\n",
       "    <tr>\n",
       "      <th>4</th>\n",
       "      <td>6</td>\n",
       "      <td>200</td>\n",
       "      <td>[23, 70, 160, 70, 90, 742, 851, 359, 734, 878,...</td>\n",
       "      <td>[2, 2, 2, 2, 2, 2, 2, 2, 2, 2, 2, 2, 2, 2, 2, ...</td>\n",
       "      <td>[0.43388295, 0.43388295, 0.43388295, 0.4338829...</td>\n",
       "      <td>[1.3714824, 1.3715883, 1.3715737, 1.3715955, 1...</td>\n",
       "      <td>149</td>\n",
       "    </tr>\n",
       "  </tbody>\n",
       "</table>\n",
       "</div>"
      ],
      "text/plain": [
       "   session_id  item_id-count  \\\n",
       "0           2            200   \n",
       "1           3            200   \n",
       "2           4            200   \n",
       "3           5            200   \n",
       "4           6            200   \n",
       "\n",
       "                                    item_id-list_seq  \\\n",
       "0  [2223, 2125, 1800, 123, 3030, 1861, 1076, 1285...   \n",
       "1  [26562, 35137, 19260, 46449, 29027, 39096, 272...   \n",
       "2  [23212, 30448, 16468, 2052, 22490, 31097, 6243...   \n",
       "3  [230, 451, 732, 1268, 2014, 567, 497, 439, 338...   \n",
       "4  [23, 70, 160, 70, 90, 742, 851, 359, 734, 878,...   \n",
       "\n",
       "                                   category-list_seq  \\\n",
       "0  [2, 2, 2, 2, 2, 2, 2, 2, 2, 2, 2, 2, 2, 2, 2, ...   \n",
       "1  [2, 2, 2, 2, 2, 2, 2, 2, 2, 2, 2, 2, 2, 2, 2, ...   \n",
       "2  [2, 2, 2, 2, 2, 2, 2, 2, 2, 2, 2, 2, 2, 2, 2, ...   \n",
       "3  [2, 2, 2, 2, 2, 2, 2, 2, 2, 2, 2, 2, 3, 2, 2, ...   \n",
       "4  [2, 2, 2, 2, 2, 2, 2, 2, 2, 2, 2, 2, 2, 2, 2, ...   \n",
       "\n",
       "                           et_dayofweek_sin-list_seq  \\\n",
       "0  [1.1285199e-06, 1.1285199e-06, 1.1285199e-06, ...   \n",
       "1  [0.43388295, 0.43388295, 0.43388295, 0.4338829...   \n",
       "2  [0.9749277, 0.9749277, 0.9749277, 0.9749277, 0...   \n",
       "3  [0.43388295, 0.43388295, 0.43388295, 0.4338829...   \n",
       "4  [0.43388295, 0.43388295, 0.43388295, 0.4338829...   \n",
       "\n",
       "              product_recency_days_log_norm-list_seq  day_index  \n",
       "0  [-1.1126341, -0.9665389, -0.1350116, -0.127809...         27  \n",
       "1  [0.40848607, 0.39331725, 0.5418466, -3.0278225...         58  \n",
       "2  [0.6801631, 0.7174695, 0.7185285, 0.7204116, 0...         71  \n",
       "3  [1.3680888, -0.6530481, -0.69314253, -0.590593...        149  \n",
       "4  [1.3714824, 1.3715883, 1.3715737, 1.3715955, 1...        149  "
      ]
     },
     "execution_count": 12,
     "metadata": {},
     "output_type": "execute_result"
    }
   ],
   "source": [
    "sessions_gdf.head()"
   ]
  },
  {
   "cell_type": "markdown",
   "id": "02ff1f8b",
   "metadata": {},
   "source": [
    "#### Saves the preprocessing workflow"
   ]
  },
  {
   "cell_type": "code",
   "execution_count": 13,
   "id": "70e6e2a8",
   "metadata": {},
   "outputs": [],
   "source": [
    "workflow.save('workflow_etl')"
   ]
  },
  {
   "cell_type": "markdown",
   "id": "f6b88c0e",
   "metadata": {},
   "source": [
    "### 2.4 Export pre-processed data by day"
   ]
  },
  {
   "cell_type": "markdown",
   "id": "5899dfb2",
   "metadata": {},
   "source": [
    "In this example we are going to split the preprocessed parquet files by days, to allow for temporal training and evaluation. There will be a folder for each day and three parquet files within each day: `train.parquet`, `validation.parquet` and `test.parquet`\n",
    "  \n",
    "P.s. It is worthwhile a note that the dataset have a single categorical feature (category), but it is inconsistent over time in the dataset. All interactions before day 84 (2014-06-23) have the same value for that feature, whereas many other categories are introduced afterwards. Thus for the demo we save only the last five days."
   ]
  },
  {
   "cell_type": "code",
   "execution_count": 14,
   "id": "492cffde",
   "metadata": {},
   "outputs": [],
   "source": [
    "sessions_gdf = sessions_gdf[sessions_gdf.day_index>=178]"
   ]
  },
  {
   "cell_type": "code",
   "execution_count": 15,
   "id": "3f1af129",
   "metadata": {
    "tags": []
   },
   "outputs": [
    {
     "name": "stderr",
     "output_type": "stream",
     "text": [
      "Creating time-based splits: 100%|█████████████████████████████████████████████████████████████████████████████████████████████████████████████████████████████████| 5/5 [00:00<00:00,  8.39it/s]\n"
     ]
    }
   ],
   "source": [
    "from transformers4rec.data.preprocessing import save_time_based_splits\n",
    "save_time_based_splits(data=nvt.Dataset(sessions_gdf),\n",
    "                       output_dir= \"./preproc_sessions_by_day\",\n",
    "                       partition_col='day_index',\n",
    "                       timestamp_col='session_id', \n",
    "                      )"
   ]
  },
  {
   "cell_type": "code",
   "execution_count": 16,
   "id": "5e969f31",
   "metadata": {
    "tags": []
   },
   "outputs": [
    {
     "name": "stdout",
     "output_type": "stream",
     "text": [
      "preproc_sessions_by_day/\n",
      "    182/\n",
      "        test.parquet\n",
      "        valid.parquet\n",
      "        train.parquet\n",
      "    179/\n",
      "        test.parquet\n",
      "        valid.parquet\n",
      "        train.parquet\n",
      "    180/\n",
      "        test.parquet\n",
      "        valid.parquet\n",
      "        train.parquet\n",
      "    178/\n",
      "        test.parquet\n",
      "        valid.parquet\n",
      "        train.parquet\n",
      "    181/\n",
      "        test.parquet\n",
      "        valid.parquet\n",
      "        train.parquet\n"
     ]
    }
   ],
   "source": [
    "from transformers4rec.torch.utils.examples_utils import list_files\n",
    "list_files('./preproc_sessions_by_day')"
   ]
  },
  {
   "cell_type": "code",
   "execution_count": 17,
   "id": "4d733137",
   "metadata": {
    "tags": []
   },
   "outputs": [
    {
     "data": {
      "text/plain": [
       "0"
      ]
     },
     "execution_count": 17,
     "metadata": {},
     "output_type": "execute_result"
    }
   ],
   "source": [
    "# free gpu memory\n",
    "del  sessions_gdf\n",
    "gc.collect()"
   ]
  },
  {
   "cell_type": "markdown",
   "id": "62f2ab0d",
   "metadata": {},
   "source": [
    "## 3. Model definition using Transformers4Rec"
   ]
  },
  {
   "cell_type": "markdown",
   "id": "293202f2",
   "metadata": {},
   "source": [
    "### 3.1 Get the schema "
   ]
  },
  {
   "cell_type": "markdown",
   "id": "6c7a404a",
   "metadata": {},
   "source": [
    "The library uses a schema format to configure the input features and automatically creates the necessary layers. This *protobuf* text file contains the description of each input feature by defining: the name, the type, the number of elements of a list column,  the cardinality of a categorical feature and the min and max values of each feature. In addition, the annotation field contains the tags such as specifying `continuous` and `categorical` features, the `target` column or the `item_id` feature, among others."
   ]
  },
  {
   "cell_type": "code",
   "execution_count": 18,
   "id": "dd80d176",
   "metadata": {
    "tags": []
   },
   "outputs": [
    {
     "name": "stdout",
     "output_type": "stream",
     "text": [
      "feature {\n",
      "  name: \"session_id\"\n",
      "  type: INT\n",
      "  int_domain {\n",
      "    name: \"session_id\"\n",
      "    min: 1\n",
      "    max: 9249733 \n",
      "    is_categorical: false\n",
      "  }\n",
      "  annotation {\n",
      "    tag: \"groupby_col\"\n",
      "  }\n",
      "}\n",
      "feature {\n",
      "  name: \"item_id-list_seq\"\n",
      "  value_count {\n",
      "    min: 2\n",
      "    max: 185\n",
      "  }\n",
      "  type: INT\n",
      "  int_domain {\n",
      "    name: \"item_id/list\"\n",
      "    min: 1\n",
      "    max: 52742\n",
      "    is_categorical: true\n",
      "  }\n",
      "  annotation {\n",
      "    tag: \"item_id\"\n",
      "    tag: \"list\"\n",
      "    tag: \"categorical\"\n",
      "    tag: \"item\"\n",
      "  }\n",
      "}\n",
      "feature {\n",
      "  name: \"category-list_seq\"\n",
      "  value_count {\n",
      "    min: 2\n",
      "    max: 185\n",
      "  }\n",
      "  type: INT\n",
      "  int_domain {\n",
      "    name: \"category-list_seq\"\n",
      "    min: 1\n",
      "    max: 337\n",
      "    is_categorical: true\n",
      "  }\n",
      "  annotation {\n",
      "    tag: \"list\"\n",
      "    tag: \"categorical\"\n",
      "    tag: \"item\"\n",
      "  }\n",
      "}\n",
      "feature {\n",
      "  name: \"product_recency_days_log_norm-list_seq\"\n",
      "  value_count {\n",
      "    min: 2\n",
      "    max: 185\n",
      "  }\n",
      "  type: FLOAT\n",
      "  float_domain {\n",
      "    name: \"product_recency_days_log_norm-list_seq\"\n",
      "    min: -2.9177291\n",
      "    max: 1.5231701\n",
      "  }\n",
      "  annotation {\n",
      "    tag: \"continuous\"\n",
      "    tag: \"list\"\n",
      "  }\n",
      "}\n",
      "feature {\n",
      "  name: \"et_dayofweek_sin-list_seq\"\n",
      "  value_count {\n",
      "    min: 2\n",
      "    max: 185\n",
      "  }\n",
      "  type: FLOAT\n",
      "  float_domain {\n",
      "    name: \"et_dayofweek_sin-list_seq\"\n",
      "    min: 0.7421683\n",
      "    max: 0.9995285\n",
      "  }\n",
      "  annotation {\n",
      "    tag: \"continuous\"\n",
      "    tag: \"time\"\n",
      "    tag: \"list\"\n",
      "  }\n",
      "}\n"
     ]
    }
   ],
   "source": [
    "from merlin_standard_lib import Schema\n",
    "SCHEMA_PATH = \"schema_demo.pb\"\n",
    "schema = Schema().from_proto_text(SCHEMA_PATH)\n",
    "!cat $SCHEMA_PATH"
   ]
  },
  {
   "cell_type": "markdown",
   "id": "b7f65daa",
   "metadata": {},
   "source": [
    "We can select the subset of features we want to use for training the model by their tags or their names."
   ]
  },
  {
   "cell_type": "code",
   "execution_count": 19,
   "id": "07389ed5",
   "metadata": {},
   "outputs": [],
   "source": [
    "schema = schema.select_by_name(\n",
    "   ['item_id-list_seq', 'category-list_seq', 'product_recency_days_log_norm-list_seq', 'et_dayofweek_sin-list_seq']\n",
    ")"
   ]
  },
  {
   "cell_type": "markdown",
   "id": "f3d2bc06",
   "metadata": {},
   "source": [
    "### 3.2 Define the end-to-end Session-based Transformer-based recommendation model"
   ]
  },
  {
   "cell_type": "markdown",
   "id": "26fd854a",
   "metadata": {
    "tags": []
   },
   "source": [
    "For session-based recommendation model definition, the end-to-end model definition requires four steps:\n",
    "\n",
    "1. Instantiate [TabularSequenceFeatures](https://nvidia-merlin.github.io/Transformers4Rec/main/api/transformers4rec.tf.features.html?highlight=tabularsequence#transformers4rec.tf.features.sequence.TabularSequenceFeatures) input-module from schema to prepare the embedding tables of categorical variables and project continuous features, if specified. In addition, the module provides different aggregation methods (e.g. 'concat', 'elementwise-sum') to merge input features and generate the sequence of interactions embeddings. The module also supports language modeling tasks to prepare masked labels for training and evaluation (e.g: 'mlm' for masked language modeling) \n",
    "\n",
    "2. Next, we need to define one or multiple prediction tasks. For this demo, we are going to use [NextItemPredictionTask](https://nvidia-merlin.github.io/Transformers4Rec/main/api/transformers4rec.tf.model.html?highlight=nextitem#transformers4rec.tf.model.prediction_task.NextItemPredictionTask) with `Masked Language modeling`: during training randomly selected items are masked and predicted using the unmasked sequence items. For inference it is meant to always predict the next item to be interacted with.\n",
    "\n",
    "3. Then we construct a `transformer_config` based on the architectures provided by [Hugging Face Transformers](https://github.com/huggingface/transformers) framework. </a>\n",
    "\n",
    "4. Finally we link the transformer-body to the inputs and the prediction tasks to get the final pytorch `Model` class.\n",
    "    \n",
    "For more details about the features supported by each sub-module, please check out the library [documentation](https://nvidia-merlin.github.io/Transformers4Rec/main/index.html) page."
   ]
  },
  {
   "cell_type": "code",
   "execution_count": 20,
   "id": "3a1fb52a",
   "metadata": {
    "tags": []
   },
   "outputs": [
    {
     "name": "stderr",
     "output_type": "stream",
     "text": [
      "Projecting inputs of NextItemPredictionTask to'64' As weight tying requires the input dimension '320' to be equal to the item-id embedding dimension '64'\n"
     ]
    }
   ],
   "source": [
    "from transformers4rec import torch as tr\n",
    "\n",
    "max_sequence_length, d_model = 20, 320\n",
    "# Define input module to process tabular input-features and to prepare masked inputs\n",
    "input_module = tr.TabularSequenceFeatures.from_schema(\n",
    "    schema,\n",
    "    max_sequence_length=max_sequence_length,\n",
    "    continuous_projection=64,\n",
    "    aggregation=\"concat\",\n",
    "    d_output=d_model,\n",
    "    masking=\"mlm\",\n",
    ")\n",
    "\n",
    "# Define Next item prediction-task \n",
    "prediction_task = tr.NextItemPredictionTask(hf_format=True, weight_tying=True)\n",
    "\n",
    "# Define the config of the XLNet Transformer architecture\n",
    "transformer_config = tr.XLNetConfig.build(\n",
    "    d_model=d_model, n_head=8, n_layer=2, total_seq_length=max_sequence_length\n",
    ")\n",
    "\n",
    "#Get the end-to-end model \n",
    "model = transformer_config.to_torch_model(input_module, prediction_task)"
   ]
  },
  {
   "cell_type": "code",
   "execution_count": 21,
   "id": "3b67b87a",
   "metadata": {
    "tags": []
   },
   "outputs": [
    {
     "data": {
      "text/plain": [
       "Model(\n",
       "  (heads): ModuleList(\n",
       "    (0): Head(\n",
       "      (body): SequentialBlock(\n",
       "        (0): TabularSequenceFeatures(\n",
       "          (_aggregation): ConcatFeatures()\n",
       "          (to_merge): ModuleDict(\n",
       "            (continuous_module): SequentialBlock(\n",
       "              (0): ContinuousFeatures(\n",
       "                (filter_features): FilterFeatures()\n",
       "                (_aggregation): ConcatFeatures()\n",
       "              )\n",
       "              (1): SequentialBlock(\n",
       "                (0): DenseBlock(\n",
       "                  (0): Linear(in_features=2, out_features=64, bias=True)\n",
       "                  (1): ReLU(inplace=True)\n",
       "                )\n",
       "              )\n",
       "              (2): AsTabular()\n",
       "            )\n",
       "            (categorical_module): SequenceEmbeddingFeatures(\n",
       "              (filter_features): FilterFeatures()\n",
       "              (embedding_tables): ModuleDict(\n",
       "                (item_id-list_seq): Embedding(52743, 64, padding_idx=0)\n",
       "                (category-list_seq): Embedding(338, 64, padding_idx=0)\n",
       "              )\n",
       "            )\n",
       "          )\n",
       "          (projection_module): SequentialBlock(\n",
       "            (0): DenseBlock(\n",
       "              (0): Linear(in_features=192, out_features=320, bias=True)\n",
       "              (1): ReLU(inplace=True)\n",
       "            )\n",
       "          )\n",
       "          (_masking): MaskedLanguageModeling()\n",
       "        )\n",
       "        (1): TansformerBlock(\n",
       "          (transformer): XLNetModel(\n",
       "            (word_embedding): Embedding(1, 320)\n",
       "            (layer): ModuleList(\n",
       "              (0): XLNetLayer(\n",
       "                (rel_attn): XLNetRelativeAttention(\n",
       "                  (layer_norm): LayerNorm((320,), eps=0.03, elementwise_affine=True)\n",
       "                  (dropout): Dropout(p=0.3, inplace=False)\n",
       "                )\n",
       "                (ff): XLNetFeedForward(\n",
       "                  (layer_norm): LayerNorm((320,), eps=0.03, elementwise_affine=True)\n",
       "                  (layer_1): Linear(in_features=320, out_features=1280, bias=True)\n",
       "                  (layer_2): Linear(in_features=1280, out_features=320, bias=True)\n",
       "                  (dropout): Dropout(p=0.3, inplace=False)\n",
       "                )\n",
       "                (dropout): Dropout(p=0.3, inplace=False)\n",
       "              )\n",
       "              (1): XLNetLayer(\n",
       "                (rel_attn): XLNetRelativeAttention(\n",
       "                  (layer_norm): LayerNorm((320,), eps=0.03, elementwise_affine=True)\n",
       "                  (dropout): Dropout(p=0.3, inplace=False)\n",
       "                )\n",
       "                (ff): XLNetFeedForward(\n",
       "                  (layer_norm): LayerNorm((320,), eps=0.03, elementwise_affine=True)\n",
       "                  (layer_1): Linear(in_features=320, out_features=1280, bias=True)\n",
       "                  (layer_2): Linear(in_features=1280, out_features=320, bias=True)\n",
       "                  (dropout): Dropout(p=0.3, inplace=False)\n",
       "                )\n",
       "                (dropout): Dropout(p=0.3, inplace=False)\n",
       "              )\n",
       "            )\n",
       "            (dropout): Dropout(p=0.3, inplace=False)\n",
       "          )\n",
       "          (masking): MaskedLanguageModeling()\n",
       "        )\n",
       "      )\n",
       "      (prediction_task_dict): ModuleDict(\n",
       "        (next-item): NextItemPredictionTask(\n",
       "          (sequence_summary): SequenceSummary(\n",
       "            (summary): Identity()\n",
       "            (activation): Identity()\n",
       "            (first_dropout): Identity()\n",
       "            (last_dropout): Identity()\n",
       "          )\n",
       "          (metrics): ModuleList(\n",
       "            (0): NDCGAt()\n",
       "            (1): AvgPrecisionAt()\n",
       "            (2): RecallAt()\n",
       "          )\n",
       "          (loss): NLLLoss()\n",
       "          (embeddings): SequenceEmbeddingFeatures(\n",
       "            (filter_features): FilterFeatures()\n",
       "            (embedding_tables): ModuleDict(\n",
       "              (item_id-list_seq): Embedding(52743, 64, padding_idx=0)\n",
       "              (category-list_seq): Embedding(338, 64, padding_idx=0)\n",
       "            )\n",
       "          )\n",
       "          (item_embedding_table): Embedding(52743, 64, padding_idx=0)\n",
       "          (masking): MaskedLanguageModeling()\n",
       "          (task_block): SequentialBlock(\n",
       "            (0): DenseBlock(\n",
       "              (0): Linear(in_features=320, out_features=64, bias=True)\n",
       "              (1): ReLU(inplace=True)\n",
       "            )\n",
       "          )\n",
       "          (pre): Block(\n",
       "            (module): NextItemPredictionTask(\n",
       "              (item_embedding_table): Embedding(52743, 64, padding_idx=0)\n",
       "              (log_softmax): LogSoftmax(dim=-1)\n",
       "            )\n",
       "          )\n",
       "        )\n",
       "      )\n",
       "    )\n",
       "  )\n",
       ")"
      ]
     },
     "execution_count": 21,
     "metadata": {},
     "output_type": "execute_result"
    }
   ],
   "source": [
    "model"
   ]
  },
  {
   "cell_type": "markdown",
   "id": "0ae46670",
   "metadata": {},
   "source": [
    "### 3.3. Daily Fine-Tuning: Training over a time window¶"
   ]
  },
  {
   "cell_type": "markdown",
   "id": "3a355e98",
   "metadata": {},
   "source": [
    "Now that the model is defined, we are going to launch training. For that, Transfromers4rec extends HF Transformers Trainer class to adapt the evaluation loop for session-based recommendation task and the calculation of ranking metrics. The original `train()` method is not modified meaning that we leverage the efficient training implementation from that library, which manages for example half-precision (FP16) training."
   ]
  },
  {
   "cell_type": "markdown",
   "id": "7368c5fb",
   "metadata": {},
   "source": [
    "#### Sets Training arguments"
   ]
  },
  {
   "cell_type": "markdown",
   "id": "06449c0f",
   "metadata": {},
   "source": [
    "An additional argument `data_loader_engine` is defined to automatically load the features needed for training using the schema. The default value is `nvtabular` for optimized GPU-based data-loading.  Optionally a `PyarrowDataLoader` (`pyarrow`) can also be used as a basic option, but it is slower and works only for small datasets, as the full data is loaded to CPU memory."
   ]
  },
  {
   "cell_type": "code",
   "execution_count": 22,
   "id": "f18e2a3b",
   "metadata": {},
   "outputs": [],
   "source": [
    "training_args = tr.trainer.T4RecTrainingArguments(\n",
    "            output_dir=\"./tmp\",\n",
    "            max_sequence_length=20,\n",
    "            data_loader_engine='nvtabular',\n",
    "            num_train_epochs=10, \n",
    "            dataloader_drop_last=False,\n",
    "            per_device_train_batch_size = 384,\n",
    "            per_device_eval_batch_size = 512,\n",
    "            learning_rate=0.0005,\n",
    "            fp16=True,\n",
    "            report_to = [],\n",
    "            logging_steps=200\n",
    "        )"
   ]
  },
  {
   "cell_type": "markdown",
   "id": "dbf5bdfa",
   "metadata": {},
   "source": [
    "#### Instantiate the trainer"
   ]
  },
  {
   "cell_type": "code",
   "execution_count": 23,
   "id": "63dc212c",
   "metadata": {
    "tags": []
   },
   "outputs": [
    {
     "name": "stderr",
     "output_type": "stream",
     "text": [
      "Using amp fp16 backend\n"
     ]
    }
   ],
   "source": [
    "recsys_trainer = tr.Trainer(\n",
    "    model=model,\n",
    "    args=training_args,\n",
    "    schema=schema,\n",
    "    compute_metrics=True)"
   ]
  },
  {
   "cell_type": "markdown",
   "id": "bb57126e",
   "metadata": {},
   "source": [
    "#### Launches daily Training and Evaluation"
   ]
  },
  {
   "cell_type": "markdown",
   "id": "766eba12",
   "metadata": {},
   "source": [
    "In this demo, we will use the `fit_and_evaluate` method that allows us to conduct a time-based finetuning by iteratively training and evaluating using a sliding time window: At each iteration, we use training data of a specific time index $t$ to train the model then we evaluate on the validation data of next index $t + 1$. Particularly, we set start time to 178 and end time to 180."
   ]
  },
  {
   "cell_type": "code",
   "execution_count": 24,
   "id": "b7bea2f8",
   "metadata": {
    "tags": []
   },
   "outputs": [
    {
     "name": "stderr",
     "output_type": "stream",
     "text": [
      "***** Running training *****\n",
      "  Num examples = 28800\n",
      "  Num Epochs = 10\n",
      "  Instantaneous batch size per device = 384\n",
      "  Total train batch size (w. parallel, distributed & accumulation) = 384\n",
      "  Gradient Accumulation steps = 1\n",
      "  Total optimization steps = 750\n"
     ]
    },
    {
     "name": "stdout",
     "output_type": "stream",
     "text": [
      "\n",
      "***** Launch training for day 178: *****\n"
     ]
    },
    {
     "data": {
      "text/html": [
       "\n",
       "    <div>\n",
       "      \n",
       "      <progress value='750' max='750' style='width:300px; height:20px; vertical-align: middle;'></progress>\n",
       "      [750/750 00:28, Epoch 10/10]\n",
       "    </div>\n",
       "    <table border=\"1\" class=\"dataframe\">\n",
       "  <thead>\n",
       "    <tr style=\"text-align: left;\">\n",
       "      <th>Step</th>\n",
       "      <th>Training Loss</th>\n",
       "    </tr>\n",
       "  </thead>\n",
       "  <tbody>\n",
       "    <tr>\n",
       "      <td>200</td>\n",
       "      <td>7.721300</td>\n",
       "    </tr>\n",
       "    <tr>\n",
       "      <td>400</td>\n",
       "      <td>6.645300</td>\n",
       "    </tr>\n",
       "    <tr>\n",
       "      <td>600</td>\n",
       "      <td>6.346600</td>\n",
       "    </tr>\n",
       "  </tbody>\n",
       "</table><p>"
      ],
      "text/plain": [
       "<IPython.core.display.HTML object>"
      ]
     },
     "metadata": {},
     "output_type": "display_data"
    },
    {
     "name": "stderr",
     "output_type": "stream",
     "text": [
      "Saving model checkpoint to ./tmp/checkpoint-500\n",
      "Trainer.model is not a `PreTrainedModel`, only saving its state dict.\n",
      "\n",
      "\n",
      "Training completed. Do not forget to share your model on huggingface.co/models =)\n",
      "\n",
      "\n"
     ]
    },
    {
     "data": {
      "text/html": [
       "\n",
       "    <div>\n",
       "      \n",
       "      <progress value='14' max='6' style='width:300px; height:20px; vertical-align: middle;'></progress>\n",
       "      [6/6 00:38]\n",
       "    </div>\n",
       "    "
      ],
      "text/plain": [
       "<IPython.core.display.HTML object>"
      ]
     },
     "metadata": {},
     "output_type": "display_data"
    },
    {
     "name": "stdout",
     "output_type": "stream",
     "text": [
      "\n",
      "***** Evaluation results for day 179:*****\n",
      "\n",
      " eval/next-item/avg_precision@10 = 0.08169878274202347\n",
      " eval/next-item/avg_precision@20 = 0.08574782311916351\n",
      " eval/next-item/ndcg@10 = 0.11046259850263596\n",
      " eval/next-item/ndcg@20 = 0.12532013654708862\n",
      " eval/next-item/recall@10 = 0.20192678272724152\n",
      " eval/next-item/recall@20 = 0.2608863115310669\n",
      "\n",
      "***** Launch training for day 179: *****\n"
     ]
    },
    {
     "name": "stderr",
     "output_type": "stream",
     "text": [
      "***** Running training *****\n",
      "  Num examples = 20736\n",
      "  Num Epochs = 10\n",
      "  Instantaneous batch size per device = 384\n",
      "  Total train batch size (w. parallel, distributed & accumulation) = 384\n",
      "  Gradient Accumulation steps = 1\n",
      "  Total optimization steps = 540\n"
     ]
    },
    {
     "data": {
      "text/html": [
       "\n",
       "    <div>\n",
       "      \n",
       "      <progress value='540' max='540' style='width:300px; height:20px; vertical-align: middle;'></progress>\n",
       "      [540/540 00:20, Epoch 10/10]\n",
       "    </div>\n",
       "    <table border=\"1\" class=\"dataframe\">\n",
       "  <thead>\n",
       "    <tr style=\"text-align: left;\">\n",
       "      <th>Step</th>\n",
       "      <th>Training Loss</th>\n",
       "    </tr>\n",
       "  </thead>\n",
       "  <tbody>\n",
       "    <tr>\n",
       "      <td>200</td>\n",
       "      <td>6.845400</td>\n",
       "    </tr>\n",
       "    <tr>\n",
       "      <td>400</td>\n",
       "      <td>6.425500</td>\n",
       "    </tr>\n",
       "  </tbody>\n",
       "</table><p>"
      ],
      "text/plain": [
       "<IPython.core.display.HTML object>"
      ]
     },
     "metadata": {},
     "output_type": "display_data"
    },
    {
     "name": "stderr",
     "output_type": "stream",
     "text": [
      "Saving model checkpoint to ./tmp/checkpoint-500\n",
      "Trainer.model is not a `PreTrainedModel`, only saving its state dict.\n",
      "\n",
      "\n",
      "Training completed. Do not forget to share your model on huggingface.co/models =)\n",
      "\n",
      "\n",
      "***** Running training *****\n",
      "  Num examples = 16896\n",
      "  Num Epochs = 10\n",
      "  Instantaneous batch size per device = 384\n",
      "  Total train batch size (w. parallel, distributed & accumulation) = 384\n",
      "  Gradient Accumulation steps = 1\n",
      "  Total optimization steps = 440\n"
     ]
    },
    {
     "name": "stdout",
     "output_type": "stream",
     "text": [
      "\n",
      "***** Evaluation results for day 180:*****\n",
      "\n",
      " eval/next-item/avg_precision@10 = 0.06733544170856476\n",
      " eval/next-item/avg_precision@20 = 0.07138364017009735\n",
      " eval/next-item/ndcg@10 = 0.09150198847055435\n",
      " eval/next-item/ndcg@20 = 0.10659514367580414\n",
      " eval/next-item/recall@10 = 0.16969697177410126\n",
      " eval/next-item/recall@20 = 0.2293706238269806\n",
      "\n",
      "***** Launch training for day 180: *****\n"
     ]
    },
    {
     "data": {
      "text/html": [
       "\n",
       "    <div>\n",
       "      \n",
       "      <progress value='440' max='440' style='width:300px; height:20px; vertical-align: middle;'></progress>\n",
       "      [440/440 00:17, Epoch 10/10]\n",
       "    </div>\n",
       "    <table border=\"1\" class=\"dataframe\">\n",
       "  <thead>\n",
       "    <tr style=\"text-align: left;\">\n",
       "      <th>Step</th>\n",
       "      <th>Training Loss</th>\n",
       "    </tr>\n",
       "  </thead>\n",
       "  <tbody>\n",
       "    <tr>\n",
       "      <td>200</td>\n",
       "      <td>6.880100</td>\n",
       "    </tr>\n",
       "    <tr>\n",
       "      <td>400</td>\n",
       "      <td>6.469300</td>\n",
       "    </tr>\n",
       "  </tbody>\n",
       "</table><p>"
      ],
      "text/plain": [
       "<IPython.core.display.HTML object>"
      ]
     },
     "metadata": {},
     "output_type": "display_data"
    },
    {
     "name": "stderr",
     "output_type": "stream",
     "text": [
      "\n",
      "\n",
      "Training completed. Do not forget to share your model on huggingface.co/models =)\n",
      "\n",
      "\n"
     ]
    },
    {
     "name": "stdout",
     "output_type": "stream",
     "text": [
      "\n",
      "***** Evaluation results for day 181:*****\n",
      "\n",
      " eval/next-item/avg_precision@10 = 0.12588053941726685\n",
      " eval/next-item/avg_precision@20 = 0.13366079330444336\n",
      " eval/next-item/ndcg@10 = 0.17167863249778748\n",
      " eval/next-item/ndcg@20 = 0.200278639793396\n",
      " eval/next-item/recall@10 = 0.3200370967388153\n",
      " eval/next-item/recall@20 = 0.4313543736934662\n"
     ]
    }
   ],
   "source": [
    "from transformers4rec.torch.utils.examples_utils import fit_and_evaluate\n",
    "OT_results = fit_and_evaluate(recsys_trainer, start_time_index=178, end_time_index=180, input_dir='./preproc_sessions_by_day')"
   ]
  },
  {
   "cell_type": "markdown",
   "id": "24960448",
   "metadata": {
    "tags": []
   },
   "source": [
    "#### Visualize the average over time metrics"
   ]
  },
  {
   "cell_type": "markdown",
   "id": "7c430b21",
   "metadata": {},
   "source": [
    "`OT_results` is a list of scores (accuracy metrics) for evaluation based on given start and end time_index. Since in this example we do evaluation on days 179, 180 and 181, we get three metrics in the list one for each day."
   ]
  },
  {
   "cell_type": "code",
   "execution_count": 25,
   "id": "cf9e4e96",
   "metadata": {},
   "outputs": [
    {
     "data": {
      "text/plain": [
       "{'indexed_by_time_eval/next-item/avg_precision@10': [0.08169878274202347,\n",
       "  0.06733544170856476,\n",
       "  0.12588053941726685],\n",
       " 'indexed_by_time_eval/next-item/avg_precision@20': [0.08574782311916351,\n",
       "  0.07138364017009735,\n",
       "  0.13366079330444336],\n",
       " 'indexed_by_time_eval/next-item/ndcg@10': [0.11046259850263596,\n",
       "  0.09150198847055435,\n",
       "  0.17167863249778748],\n",
       " 'indexed_by_time_eval/next-item/ndcg@20': [0.12532013654708862,\n",
       "  0.10659514367580414,\n",
       "  0.200278639793396],\n",
       " 'indexed_by_time_eval/next-item/recall@10': [0.20192678272724152,\n",
       "  0.16969697177410126,\n",
       "  0.3200370967388153],\n",
       " 'indexed_by_time_eval/next-item/recall@20': [0.2608863115310669,\n",
       "  0.2293706238269806,\n",
       "  0.4313543736934662]}"
      ]
     },
     "execution_count": 25,
     "metadata": {},
     "output_type": "execute_result"
    }
   ],
   "source": [
    "OT_results"
   ]
  },
  {
   "cell_type": "code",
   "execution_count": 27,
   "id": "9778f80a",
   "metadata": {
    "tags": []
   },
   "outputs": [
    {
     "name": "stdout",
     "output_type": "stream",
     "text": [
      " indexed_by_time_eval/next-item/avg_precision@10 = 0.09163825462261836\n",
      " indexed_by_time_eval/next-item/avg_precision@20 = 0.09693075219790141\n",
      " indexed_by_time_eval/next-item/ndcg@10 = 0.12454773982365926\n",
      " indexed_by_time_eval/next-item/ndcg@20 = 0.1440646400054296\n",
      " indexed_by_time_eval/next-item/recall@10 = 0.2305536170800527\n",
      " indexed_by_time_eval/next-item/recall@20 = 0.3072037696838379\n"
     ]
    }
   ],
   "source": [
    "# take the average of metric values over time\n",
    "avg_results = {k: np.mean(v) for k,v in OT_results.items()}\n",
    "for key in sorted(avg_results.keys()): \n",
    "    print(\" %s = %s\" % (key, str(avg_results[key]))) "
   ]
  },
  {
   "cell_type": "markdown",
   "id": "41a2c427",
   "metadata": {},
   "source": [
    "#### Saves the model"
   ]
  },
  {
   "cell_type": "code",
   "execution_count": 25,
   "id": "0c0fc9f9",
   "metadata": {
    "tags": []
   },
   "outputs": [
    {
     "name": "stderr",
     "output_type": "stream",
     "text": [
      "Saving model checkpoint to ./tmp/checkpoint-750\n",
      "Trainer.model is not a `PreTrainedModel`, only saving its state dict.\n"
     ]
    }
   ],
   "source": [
    "recsys_trainer._save_model_and_checkpoint(save_model_class=True)"
   ]
  },
  {
   "cell_type": "markdown",
   "id": "5e475669",
   "metadata": {},
   "source": [
    "#### Exports the preprocessing workflow and model in the format required by Triton server:** \n",
    "\n",
    "NVTabular’s `export_pytorch_ensemble()` function enables us to create model files and config files to be served to Triton Inference Server. "
   ]
  },
  {
   "cell_type": "code",
   "execution_count": 26,
   "id": "6b478fef",
   "metadata": {},
   "outputs": [],
   "source": [
    "from nvtabular.inference.triton import export_pytorch_ensemble\n",
    "export_pytorch_ensemble(\n",
    "    model,\n",
    "    workflow,\n",
    "    sparse_max=recsys_trainer.get_train_dataloader().dataset.sparse_max,\n",
    "    name= \"t4r_pytorch\",\n",
    "    model_path= \"/workspace/TF4Rec/models/\",\n",
    "    label_columns =[],\n",
    ")"
   ]
  },
  {
   "cell_type": "markdown",
   "id": "75e4d037",
   "metadata": {},
   "source": [
    "## 4. Serving Ensemble Model to the Triton Inference Server"
   ]
  },
  {
   "cell_type": "markdown",
   "id": "89a57bcf",
   "metadata": {},
   "source": [
    "NVIDIA [Triton Inference Server (TIS)](https://github.com/triton-inference-server/server) simplifies the deployment of AI models at scale in production. TIS provides a cloud and edge inferencing solution optimized for both CPUs and GPUs. It supports a number of different machine learning frameworks such as TensorFlow and PyTorch.\n",
    "\n",
    "The last step of machine learning (ML)/deep learning (DL) pipeline is to deploy the ETL workflow and saved model to production. In the production setting, we want to transform the input data as done during training (ETL). We need to apply the same mean/std for continuous features and use the same categorical mapping to convert the categories to continuous integer before we use the DL model for a prediction. Therefore, we deploy the NVTabular workflow with the PyTorch model as an ensemble model to Triton Inference. The ensemble model guarantees that the same transformation is applied to the raw inputs.\n",
    "\n",
    "\n",
    "In this section, you will learn how to\n",
    "- to deploy saved NVTabular and PyTorch models to Triton Inference Server \n",
    "- send requests for predictions and get responses."
   ]
  },
  {
   "cell_type": "markdown",
   "id": "5acf88cf",
   "metadata": {},
   "source": [
    "### 4.1. Pull and Start Inference Container\n",
    "\n",
    "At this point, before connecing to the Triton Server, we launch the inference docker container and then load the ensemble `t4r_pytorch` to the inference server. This is done with the scripts below:\n",
    "\n",
    "**Launch the docker container**\n",
    "```\n",
    "docker run -it --gpus device=0 -p 8000:8000 -p 8001:8001 -p 8002:8002 -v <path_to_saved_models>:/workspace/models/ nvcr.io/nvidia/merlin/merlin-inference:21.09\n",
    "```\n",
    "This script will mount your local model-repository folder that includes your saved models from the previous cell to `/workspace/models` directory in the merlin-inference docker container.\n",
    "\n",
    "**Start triton server**<br>\n",
    "After you started the merlin-inference container, you can start triton server with the command below. You need to provide correct path of the models folder.\n",
    "\n",
    "\n",
    "```\n",
    "tritonserver --model-repository=<path_to_models> --model-control-mode=explicit\n",
    "```\n",
    "Note: The model-repository path for our example is `/workspace/models`. The models haven't been loaded, yet. Below, we will request the Triton server to load the saved ensemble model below."
   ]
  },
  {
   "cell_type": "markdown",
   "id": "954cf6d3",
   "metadata": {},
   "source": [
    "### Connect to the Triton Inference Server and check if the server is alive"
   ]
  },
  {
   "cell_type": "code",
   "execution_count": 17,
   "id": "1d3b5885",
   "metadata": {
    "tags": []
   },
   "outputs": [
    {
     "name": "stdout",
     "output_type": "stream",
     "text": [
      "client created.\n",
      "GET /v2/health/live, headers None\n",
      "<HTTPSocketPoolResponse status=200 headers={'content-length': '0', 'content-type': 'text/plain'}>\n"
     ]
    },
    {
     "data": {
      "text/plain": [
       "True"
      ]
     },
     "execution_count": 17,
     "metadata": {},
     "output_type": "execute_result"
    }
   ],
   "source": [
    "import tritonhttpclient\n",
    "try:\n",
    "    triton_client = tritonhttpclient.InferenceServerClient(url=\"localhost:8000\", verbose=True)\n",
    "    print(\"client created.\")\n",
    "except Exception as e:\n",
    "    print(\"channel creation failed: \" + str(e))\n",
    "triton_client.is_server_live()"
   ]
  },
  {
   "cell_type": "markdown",
   "id": "32458160",
   "metadata": {},
   "source": [
    "### Load raw data for inference\n",
    "We select the last 50 interactions and filter out sessions with less than 2 interactions. "
   ]
  },
  {
   "cell_type": "code",
   "execution_count": 19,
   "id": "511c4032",
   "metadata": {},
   "outputs": [],
   "source": [
    "interactions_merged_df=interactions_merged_df.sort_values('timestamp')\n",
    "batch = interactions_merged_df[-50:]\n",
    "sessions_to_use = batch.session_id.value_counts()\n",
    "filtered_batch = batch[batch.session_id.isin(sessions_to_use[sessions_to_use.values>1].index.values)]"
   ]
  },
  {
   "cell_type": "markdown",
   "id": "67452782",
   "metadata": {},
   "source": [
    "### Send the request to triton server"
   ]
  },
  {
   "cell_type": "code",
   "execution_count": 20,
   "id": "bc285a81",
   "metadata": {},
   "outputs": [
    {
     "name": "stdout",
     "output_type": "stream",
     "text": [
      "POST /v2/repository/index, headers None\n",
      "\n",
      "<HTTPSocketPoolResponse status=200 headers={'content-type': 'application/json', 'content-length': '77'}>\n",
      "bytearray(b'[{\"name\":\"t4r_pytorch\"},{\"name\":\"t4r_pytorch_nvt\"},{\"name\":\"t4r_pytorch_pt\"}]')\n"
     ]
    },
    {
     "data": {
      "text/plain": [
       "[{'name': 't4r_pytorch'},\n",
       " {'name': 't4r_pytorch_nvt'},\n",
       " {'name': 't4r_pytorch_pt'}]"
      ]
     },
     "execution_count": 20,
     "metadata": {},
     "output_type": "execute_result"
    }
   ],
   "source": [
    "triton_client.get_model_repository_index()"
   ]
  },
  {
   "cell_type": "markdown",
   "id": "3b3a9b6d",
   "metadata": {},
   "source": [
    "### Load the ensemble model to triton\n",
    "If all models are loaded successfully, you should be seeing `successfully loaded` status next to each model name on your terminal."
   ]
  },
  {
   "cell_type": "code",
   "execution_count": 21,
   "id": "1d64f351",
   "metadata": {},
   "outputs": [
    {
     "name": "stdout",
     "output_type": "stream",
     "text": [
      "POST /v2/repository/models/t4r_pytorch/load, headers None\n",
      "\n",
      "<HTTPSocketPoolResponse status=200 headers={'content-type': 'application/json', 'content-length': '0'}>\n",
      "Loaded model 't4r_pytorch'\n"
     ]
    }
   ],
   "source": [
    "triton_client.load_model(model_name=\"t4r_pytorch\")"
   ]
  },
  {
   "cell_type": "code",
   "execution_count": 22,
   "id": "92d6d20a",
   "metadata": {
    "tags": []
   },
   "outputs": [
    {
     "name": "stdout",
     "output_type": "stream",
     "text": [
      "output :\n",
      " [[-13.53608   -14.02154    -8.15927   ... -13.912806  -14.316951\n",
      "  -13.758053 ]\n",
      " [-15.546847  -16.178349   -7.881463  ... -16.058243  -17.085182\n",
      "  -15.761725 ]\n",
      " [-12.496786  -13.111265   -8.736879  ... -13.031836  -13.436075\n",
      "  -12.741135 ]\n",
      " ...\n",
      " [-14.425283  -14.728777   -7.756508  ... -14.73007   -15.161329\n",
      "  -14.437494 ]\n",
      " [-15.366516  -15.427296   -7.3262033 ... -15.448423  -15.94982\n",
      "  -15.064197 ]\n",
      " [-11.908236  -12.42782    -8.78612   ... -12.316145  -12.594669\n",
      "  -12.181059 ]]\n"
     ]
    }
   ],
   "source": [
    "import nvtabular.inference.triton as nvt_triton\n",
    "import tritonclient.grpc as grpcclient\n",
    "\n",
    "inputs = nvt_triton.convert_df_to_triton_input(filtered_batch.columns, filtered_batch, grpcclient.InferInput)\n",
    "\n",
    "output_names = [\"output\"]\n",
    "\n",
    "outputs = []\n",
    "for col in output_names:\n",
    "    outputs.append(grpcclient.InferRequestedOutput(col))\n",
    "    \n",
    "MODEL_NAME_NVT = \"t4r_pytorch\"\n",
    "\n",
    "with grpcclient.InferenceServerClient(\"localhost:8001\") as client:\n",
    "    response = client.infer(MODEL_NAME_NVT, inputs)\n",
    "    print(col, ':\\n', response.as_numpy(col))"
   ]
  },
  {
   "cell_type": "markdown",
   "id": "b2509ebd",
   "metadata": {},
   "source": [
    "- Visualise top-k predictions"
   ]
  },
  {
   "cell_type": "code",
   "execution_count": 23,
   "id": "27c78a6c",
   "metadata": {
    "tags": []
   },
   "outputs": [
    {
     "name": "stdout",
     "output_type": "stream",
     "text": [
      "- Top-5 predictions for session `11257991`: 2365 || 260 || 196 || 33 || 1169\n",
      "\n",
      "- Top-5 predictions for session `11270119`: 898 || 2214 || 1169 || 958 || 2814\n",
      "\n",
      "- Top-5 predictions for session `11311424`: 898 || 2214 || 1987 || 958 || 1169\n",
      "\n",
      "- Top-5 predictions for session `11336059`: 260 || 196 || 1169 || 2365 || 33\n",
      "\n",
      "- Top-5 predictions for session `11394056`: 863 || 2365 || 196 || 33 || 1169\n",
      "\n",
      "- Top-5 predictions for session `11399751`: 1987 || 2214 || 958 || 2814 || 1169\n",
      "\n",
      "- Top-5 predictions for session `11401481`: 898 || 157 || 2214 || 620 || 2814\n",
      "\n",
      "- Top-5 predictions for session `11421333`: 1126 || 196 || 127 || 1169 || 1987\n",
      "\n",
      "- Top-5 predictions for session `11425751`: 196 || 33 || 958 || 1169 || 1987\n",
      "\n",
      "- Top-5 predictions for session `11445777`: 33 || 196 || 1987 || 1126 || 1169\n",
      "\n",
      "- Top-5 predictions for session `11457123`: 184 || 1169 || 313 || 33 || 863\n",
      "\n",
      "- Top-5 predictions for session `11467406`: 898 || 958 || 2214 || 1169 || 1987\n",
      "\n",
      "- Top-5 predictions for session `11493827`: 863 || 2365 || 196 || 33 || 1169\n",
      "\n",
      "- Top-5 predictions for session `11528554`: 1061 || 33 || 863 || 1020 || 1169\n",
      "\n",
      "- Top-5 predictions for session `11561822`: 127 || 1126 || 196 || 1169 || 1987\n",
      "\n"
     ]
    }
   ],
   "source": [
    "from transformers4rec.torch.utils.examples_utils import visualize_response\n",
    "visualize_response(filtered_batch, response, top_k=5, session_col='session_id')"
   ]
  },
  {
   "cell_type": "markdown",
   "id": "a4ac318f",
   "metadata": {},
   "source": [
    "As you noticed, we first got prediction results (logits) from the trained model head, and then by using a handy util function `visualize_response` we extracted top-k encoded item-ids from logits. Basically, we generated recommended items for a given session.\n",
    "\n",
    "This is the end of the tutorial. You successfully\n",
    "\n",
    "- performed feature engineering with NVTabular\n",
    "- trained transformer architecture based session-based recommendation models with Transformers4Rec\n",
    "- deployed a trained model to Triton Inference Server, sent request and got responses from the server."
   ]
  },
  {
   "cell_type": "markdown",
   "id": "8faccae6",
   "metadata": {},
   "source": [
    "**Unload models**"
   ]
  },
  {
   "cell_type": "code",
   "execution_count": null,
   "id": "add4ba68",
   "metadata": {},
   "outputs": [],
   "source": [
    "triton_client.unload_model(model_name=\"t4r_pytorch\")\n",
    "triton_client.unload_model(model_name=\"t4r_pytorch_nvt\")\n",
    "triton_client.unload_model(model_name=\"t4r_pytorch_pt\")"
   ]
  },
  {
   "cell_type": "markdown",
   "id": "826e47de",
   "metadata": {},
   "source": [
    "## References"
   ]
  },
  {
   "cell_type": "markdown",
   "id": "c3f26f40",
   "metadata": {},
   "source": [
    "- Merlin Transformers4rec: https://github.com/NVIDIA-Merlin/Transformers4Rec\n",
    "\n",
    "- Merlin NVTabular: https://github.com/NVIDIA-Merlin/NVTabular/tree/main/nvtabular\n",
    "\n",
    "- Triton inference server: https://github.com/triton-inference-server"
   ]
  }
 ],
 "metadata": {
  "interpreter": {
   "hash": "7b543a88d374ac88bf8df97911b380f671b13649694a5b49eb21e60fd27eb479"
  },
  "kernelspec": {
   "display_name": "Python 3 (ipykernel)",
   "language": "python",
   "name": "python3"
  },
  "language_info": {
   "codemirror_mode": {
    "name": "ipython",
    "version": 3
   },
   "file_extension": ".py",
   "mimetype": "text/x-python",
   "name": "python",
   "nbconvert_exporter": "python",
   "pygments_lexer": "ipython3",
   "version": "3.8.12"
  }
 },
 "nbformat": 4,
 "nbformat_minor": 5
}
