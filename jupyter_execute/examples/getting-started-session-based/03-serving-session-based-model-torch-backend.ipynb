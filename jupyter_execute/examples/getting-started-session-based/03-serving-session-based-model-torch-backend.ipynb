{
 "cells": [
  {
   "cell_type": "code",
   "execution_count": 1,
   "id": "97250792",
   "metadata": {},
   "outputs": [],
   "source": [
    "# Copyright 2022 NVIDIA Corporation. All Rights Reserved.\n",
    "#\n",
    "# Licensed under the Apache License, Version 2.0 (the \"License\");\n",
    "# you may not use this file except in compliance with the License.\n",
    "# You may obtain a copy of the License at\n",
    "#\n",
    "#     http://www.apache.org/licenses/LICENSE-2.0\n",
    "#\n",
    "# Unless required by applicable law or agreed to in writing, software\n",
    "# distributed under the License is distributed on an \"AS IS\" BASIS,\n",
    "# WITHOUT WARRANTIES OR CONDITIONS OF ANY KIND, either express or implied.\n",
    "# See the License for the specific language governing permissions and\n",
    "# limitations under the License.\n",
    "# ==============================================================================\n",
    "\n",
    "# Each user is responsible for checking the content of datasets and the\n",
    "# applicable licenses and determining if suitable for the intended use."
   ]
  },
  {
   "cell_type": "markdown",
   "id": "0a2228da",
   "metadata": {},
   "source": [
    "<img src=\"https://developer.download.nvidia.com//notebooks/dlsw-notebooks/remtting-started-session-based-03-serving-session-based-model-torch-backend/nvidia_logo.png\" style=\"width: 90px; float: right;\">\n",
    "\n",
    "# Serving a Session-based Recommendation model with Torch Backend"
   ]
  },
  {
   "cell_type": "markdown",
   "id": "4127de28-a7ce-4ff7-8dcc-1575a70ca7c8",
   "metadata": {},
   "source": [
    "This notebook is created using the latest stable [merlin-pytorch](https://catalog.ngc.nvidia.com/orgs/nvidia/teams/merlin/containers/merlin-pytorch/tags) container.\n",
    "\n",
    "At this point, when you reach out to this notebook, we expect that you have already executed the `01-ETL-with-NVTabular.ipynb` and `02-session-based-XLNet-with-PyT.ipynb` notebooks, and saved the NVT workflow and the trained session-based model.\n",
    "\n",
    "In this notebook, you are going to learn how you can serve a trained Transformer-based PyTorch model on NVIDIA [Triton Inference Server](https://github.com/triton-inference-server/server)  (TIS) with Torch backend using [Merlin systems](https://github.com/NVIDIA-Merlin/systems) library. One common way to do inference with a trained model is to use TorchScript, an intermediate representation of a PyTorch model that can be run in Python as well as in a high performance environment like C++. [TorchScript](https://pytorch.org/tutorials/beginner/Intro_to_TorchScript_tutorial.html) is actually the recommended model format for scaled inference and deployment. TIS [PyTorch (LibTorch) backend](https://github.com/triton-inference-server/pytorch_backend) is designed to run TorchScript models using the PyTorch C++ API.\n",
    "\n",
    "[Triton Inference Server](https://github.com/triton-inference-server/server) (TIS) simplifies the deployment of AI models at scale in production. TIS provides a cloud and edge inferencing solution optimized for both CPUs and GPUs. It supports a number of different machine learning frameworks such as TensorFlow and PyTorch."
   ]
  },
  {
   "cell_type": "markdown",
   "id": "599efc90",
   "metadata": {},
   "source": [
    "### Import required libraries"
   ]
  },
  {
   "cell_type": "code",
   "execution_count": 2,
   "id": "3ba89970",
   "metadata": {},
   "outputs": [],
   "source": [
    "import os\n",
    "os.environ[\"CUDA_VISIBLE_DEVICES\"]=\"0\"\n",
    "\n",
    "import cudf\n",
    "import glob\n",
    "import numpy as np\n",
    "import pandas as pd\n",
    "import torch \n",
    "\n",
    "from transformers4rec import torch as tr\n",
    "from merlin.io import Dataset\n",
    "\n",
    "from merlin.core.dispatch import make_df \n",
    "from merlin.systems.dag import Ensemble  \n",
    "from merlin.systems.dag.ops.pytorch import PredictPyTorch \n",
    "from merlin.systems.dag.ops.workflow import TransformWorkflow "
   ]
  },
  {
   "cell_type": "markdown",
   "id": "ac2aebe1-66a9-4c71-9bbc-1874625bc4e8",
   "metadata": {
    "tags": []
   },
   "source": [
    "We define the paths"
   ]
  },
  {
   "cell_type": "code",
   "execution_count": 3,
   "id": "5bc4a16b-32be-42b7-9b6f-e4f4cde3f345",
   "metadata": {},
   "outputs": [],
   "source": [
    "INPUT_DATA_DIR = os.environ.get(\"INPUT_DATA_DIR\", \"/workspace/data\")\n",
    "OUTPUT_DIR = os.environ.get(\"OUTPUT_DIR\", f\"{INPUT_DATA_DIR}/sessions_by_day\")\n",
    "model_path= os.environ.get(\"model_path\", f\"{INPUT_DATA_DIR}/saved_model\")"
   ]
  },
  {
   "cell_type": "markdown",
   "id": "a510b6ef",
   "metadata": {},
   "source": [
    "### Set the schema object"
   ]
  },
  {
   "cell_type": "markdown",
   "id": "30a0518a-eb01-4ac4-9c6d-36b328985765",
   "metadata": {},
   "source": [
    "We create the schema object by reading the processed train parquet file."
   ]
  },
  {
   "cell_type": "code",
   "execution_count": 4,
   "id": "9d1299fa",
   "metadata": {},
   "outputs": [
    {
     "name": "stderr",
     "output_type": "stream",
     "text": [
      "/workspace/merlin/core/merlin/schema/tags.py:149: UserWarning: Compound tags like Tags.ITEM_ID have been deprecated and will be removed in a future version. Please use the atomic versions of these tags, like [<Tags.ITEM: 'item'>, <Tags.ID: 'id'>].\n",
      "  warnings.warn(\n"
     ]
    }
   ],
   "source": [
    "from merlin.schema import Schema\n",
    "from merlin.io import Dataset\n",
    "\n",
    "train = Dataset(os.path.join(INPUT_DATA_DIR, \"processed_nvt/part_0.parquet\"))\n",
    "schema = train.schema"
   ]
  },
  {
   "cell_type": "markdown",
   "id": "81764b19-4495-45c0-9cb5-6d937962d2bc",
   "metadata": {},
   "source": [
    "We need to load the saved model to be able to serve it on TIS."
   ]
  },
  {
   "cell_type": "code",
   "execution_count": 5,
   "id": "3bbc34a4-2277-4961-8061-59aadaa5116c",
   "metadata": {},
   "outputs": [],
   "source": [
    "import cloudpickle\n",
    "loaded_model = cloudpickle.load(\n",
    "                open(os.path.join(model_path, \"t4rec_model_class.pkl\"), \"rb\")\n",
    "            )"
   ]
  },
  {
   "cell_type": "markdown",
   "id": "c68ab3c7-a576-4fa0-a6f3-fe2bd11effc9",
   "metadata": {},
   "source": [
    "Switch the model to eval mode. We call `model.eval()` before tracing to set dropout and batch normalization layers to evaluation mode before running inference. Failing to do this might yield inconsistent inference results."
   ]
  },
  {
   "cell_type": "code",
   "execution_count": 6,
   "id": "e516a78d-2e1a-4124-ba46-f60b245d3329",
   "metadata": {},
   "outputs": [
    {
     "data": {
      "text/plain": [
       "Model(\n",
       "  (heads): ModuleList(\n",
       "    (0): Head(\n",
       "      (body): SequentialBlock(\n",
       "        (0): TabularSequenceFeatures(\n",
       "          (to_merge): ModuleDict(\n",
       "            (continuous_module): SequentialBlock(\n",
       "              (0): ContinuousFeatures(\n",
       "                (filter_features): FilterFeatures()\n",
       "                (_aggregation): ConcatFeatures()\n",
       "              )\n",
       "              (1): SequentialBlock(\n",
       "                (0): DenseBlock(\n",
       "                  (0): Linear(in_features=2, out_features=64, bias=True)\n",
       "                  (1): ReLU(inplace=True)\n",
       "                )\n",
       "              )\n",
       "              (2): AsTabular()\n",
       "            )\n",
       "            (categorical_module): SequenceEmbeddingFeatures(\n",
       "              (filter_features): FilterFeatures()\n",
       "              (embedding_tables): ModuleDict(\n",
       "                (item_id-list): Embedding(493, 64, padding_idx=0)\n",
       "                (category-list): Embedding(173, 64, padding_idx=0)\n",
       "              )\n",
       "            )\n",
       "          )\n",
       "          (_aggregation): ConcatFeatures()\n",
       "          (projection_module): SequentialBlock(\n",
       "            (0): DenseBlock(\n",
       "              (0): Linear(in_features=192, out_features=100, bias=True)\n",
       "              (1): ReLU(inplace=True)\n",
       "            )\n",
       "          )\n",
       "          (_masking): MaskedLanguageModeling()\n",
       "        )\n",
       "        (1): SequentialBlock(\n",
       "          (0): DenseBlock(\n",
       "            (0): Linear(in_features=100, out_features=64, bias=True)\n",
       "            (1): ReLU(inplace=True)\n",
       "          )\n",
       "        )\n",
       "        (2): TansformerBlock(\n",
       "          (transformer): XLNetModel(\n",
       "            (word_embedding): Embedding(1, 64)\n",
       "            (layer): ModuleList(\n",
       "              (0): XLNetLayer(\n",
       "                (rel_attn): XLNetRelativeAttention(\n",
       "                  (layer_norm): LayerNorm((64,), eps=0.03, elementwise_affine=True)\n",
       "                  (dropout): Dropout(p=0.3, inplace=False)\n",
       "                )\n",
       "                (ff): XLNetFeedForward(\n",
       "                  (layer_norm): LayerNorm((64,), eps=0.03, elementwise_affine=True)\n",
       "                  (layer_1): Linear(in_features=64, out_features=256, bias=True)\n",
       "                  (layer_2): Linear(in_features=256, out_features=64, bias=True)\n",
       "                  (dropout): Dropout(p=0.3, inplace=False)\n",
       "                  (activation_function): GELUActivation()\n",
       "                )\n",
       "                (dropout): Dropout(p=0.3, inplace=False)\n",
       "              )\n",
       "              (1): XLNetLayer(\n",
       "                (rel_attn): XLNetRelativeAttention(\n",
       "                  (layer_norm): LayerNorm((64,), eps=0.03, elementwise_affine=True)\n",
       "                  (dropout): Dropout(p=0.3, inplace=False)\n",
       "                )\n",
       "                (ff): XLNetFeedForward(\n",
       "                  (layer_norm): LayerNorm((64,), eps=0.03, elementwise_affine=True)\n",
       "                  (layer_1): Linear(in_features=64, out_features=256, bias=True)\n",
       "                  (layer_2): Linear(in_features=256, out_features=64, bias=True)\n",
       "                  (dropout): Dropout(p=0.3, inplace=False)\n",
       "                  (activation_function): GELUActivation()\n",
       "                )\n",
       "                (dropout): Dropout(p=0.3, inplace=False)\n",
       "              )\n",
       "            )\n",
       "            (dropout): Dropout(p=0.3, inplace=False)\n",
       "          )\n",
       "          (masking): MaskedLanguageModeling()\n",
       "        )\n",
       "      )\n",
       "      (prediction_task_dict): ModuleDict(\n",
       "        (next-item): NextItemPredictionTask(\n",
       "          (sequence_summary): SequenceSummary(\n",
       "            (summary): Identity()\n",
       "            (activation): Identity()\n",
       "            (first_dropout): Identity()\n",
       "            (last_dropout): Identity()\n",
       "          )\n",
       "          (metrics): ModuleList(\n",
       "            (0): NDCGAt()\n",
       "            (1): RecallAt()\n",
       "          )\n",
       "          (loss): CrossEntropyLoss()\n",
       "          (embeddings): SequenceEmbeddingFeatures(\n",
       "            (filter_features): FilterFeatures()\n",
       "            (embedding_tables): ModuleDict(\n",
       "              (item_id-list): Embedding(493, 64, padding_idx=0)\n",
       "              (category-list): Embedding(173, 64, padding_idx=0)\n",
       "            )\n",
       "          )\n",
       "          (item_embedding_table): Embedding(493, 64, padding_idx=0)\n",
       "          (masking): MaskedLanguageModeling()\n",
       "          (pre): Block(\n",
       "            (module): NextItemPredictionTask(\n",
       "              (item_embedding_table): Embedding(493, 64, padding_idx=0)\n",
       "            )\n",
       "          )\n",
       "        )\n",
       "      )\n",
       "    )\n",
       "  )\n",
       ")"
      ]
     },
     "execution_count": 6,
     "metadata": {},
     "output_type": "execute_result"
    }
   ],
   "source": [
    "model = loaded_model.cuda()\n",
    "model.eval()"
   ]
  },
  {
   "cell_type": "markdown",
   "id": "409c17c2-c81d-4f41-9577-bd380ae10921",
   "metadata": {},
   "source": [
    "### Trace the model\n",
    "\n",
    "We serve the model with the PyTorch backend that is used to execute TorchScript models. All models created in PyTorch using the python API must be traced/scripted to produce a TorchScript model. For tracing the model, we use [torch.jit.trace](https://pytorch.org/docs/stable/generated/torch.jit.trace.html) api that takes the model as a Python function or torch.nn.Module, and an example input  that will be passed to the function while tracing."
   ]
  },
  {
   "cell_type": "code",
   "execution_count": 7,
   "id": "6273c8e5-db62-4cc6-a4f3-945155a463d6",
   "metadata": {
    "tags": []
   },
   "outputs": [],
   "source": [
    "train_paths = os.path.join(OUTPUT_DIR, f\"{1}/train.parquet\")\n",
    "dataset = Dataset(train_paths)"
   ]
  },
  {
   "cell_type": "markdown",
   "id": "9ddb4b5f-9b8c-487b-9fa1-cd4b6d3c090f",
   "metadata": {},
   "source": [
    "Create a dict of tensors to feed it as example inputs in the `torch.jit.trace()`."
   ]
  },
  {
   "cell_type": "code",
   "execution_count": 8,
   "id": "d8df9e4a",
   "metadata": {},
   "outputs": [],
   "source": [
    "import pandas as pd\n",
    "from merlin.table import TensorTable, TorchColumn\n",
    "from merlin.table.conversions import convert_col\n",
    "\n",
    "df = cudf.read_parquet(train_paths, columns=model.input_schema.column_names)\n",
    "table = TensorTable.from_df(df.loc[:100])\n",
    "for column in table.columns:\n",
    "    table[column] = convert_col(table[column], TorchColumn)\n",
    "model_input_dict = table.to_dict()"
   ]
  },
  {
   "cell_type": "code",
   "execution_count": 9,
   "id": "6b4731f0-e0df-48da-b405-3fead25cadd0",
   "metadata": {},
   "outputs": [
    {
     "data": {
      "text/plain": [
       "{'weekday_sin-list__values': tensor([9.0335e-01, 6.1793e-01, 2.6242e-01, 6.7923e-01, 9.3555e-01, 6.9956e-01,\n",
       "         5.5867e-01, 7.7624e-01, 9.6504e-01, 3.1927e-01, 6.4654e-01, 9.5347e-02,\n",
       "         2.3197e-01, 3.0618e-01, 3.0868e-01, 4.7169e-01, 8.9577e-01, 4.9156e-01,\n",
       "         5.5645e-01, 1.7117e-01, 4.4256e-01, 6.1161e-01, 9.7295e-01, 5.4066e-01,\n",
       "         1.1771e-01, 4.5218e-01, 4.0567e-01, 7.1686e-01, 5.5469e-02, 8.5642e-01,\n",
       "         1.9757e-02, 1.5123e-01, 7.6822e-01, 4.7810e-01, 7.3114e-01, 5.4558e-01,\n",
       "         5.5872e-01, 9.6191e-01, 6.5765e-04, 7.8162e-01, 7.0617e-01, 9.2865e-01,\n",
       "         1.3238e-02, 2.1268e-01, 3.3873e-01, 1.3442e-01, 1.8885e-01, 6.8171e-01,\n",
       "         5.7528e-01, 3.3820e-01, 3.1279e-01, 1.0624e-01, 5.7980e-01, 3.6283e-01,\n",
       "         6.9245e-01, 4.0857e-01, 1.8025e-01, 3.7041e-01, 7.1286e-02, 4.7412e-03,\n",
       "         9.4665e-01, 7.3423e-01, 6.9356e-01, 3.0290e-01, 6.0237e-01, 8.6221e-02,\n",
       "         3.0249e-01, 4.8158e-01, 4.5226e-01, 7.5549e-01, 7.2938e-01, 9.8018e-01,\n",
       "         4.4025e-01, 2.9200e-01, 4.0991e-02, 7.2172e-01, 8.3618e-01, 2.9709e-03,\n",
       "         1.7382e-01, 9.4742e-01, 5.2274e-01, 7.7680e-03, 8.5222e-01, 5.3768e-01,\n",
       "         9.1014e-01, 8.3261e-01, 7.1640e-01, 3.5953e-01, 6.8745e-01, 7.3665e-01,\n",
       "         3.0701e-01, 8.8899e-01, 1.6659e-01, 9.1659e-01, 4.6888e-01, 9.1468e-03,\n",
       "         5.7153e-01, 7.8624e-01, 5.6548e-01, 5.7832e-01, 7.7408e-02, 3.8156e-01,\n",
       "         4.4821e-01, 5.0542e-01, 8.2571e-01, 8.4099e-01, 8.3429e-01, 4.5229e-01,\n",
       "         7.4253e-01, 1.2133e-01, 3.0753e-01, 4.7609e-01, 9.3145e-01, 3.1146e-01,\n",
       "         4.7979e-01, 3.1741e-01, 7.0556e-02, 3.7274e-03, 3.3100e-01, 7.4556e-01,\n",
       "         1.9668e-01, 2.7893e-01, 3.7026e-01, 5.2113e-01, 8.1771e-01, 7.9684e-01,\n",
       "         4.3612e-01, 8.9390e-01, 4.6388e-01, 9.3233e-02, 3.0521e-01, 2.9624e-01,\n",
       "         2.0111e-01, 5.3116e-01, 6.3834e-01, 8.1599e-01, 3.9889e-01, 2.0726e-01,\n",
       "         5.0752e-01, 6.3629e-01, 1.1615e-01, 6.0907e-01, 9.3705e-01, 7.6081e-01,\n",
       "         2.2344e-01, 3.7341e-01, 2.1352e-01, 5.5792e-01, 2.3884e-01, 5.1241e-01,\n",
       "         4.2859e-01, 2.6745e-01, 7.0149e-01, 7.7271e-01, 9.7470e-01, 2.9851e-01,\n",
       "         3.6220e-01, 7.1964e-01, 9.8924e-02, 4.2278e-01, 9.2394e-01, 5.4416e-02,\n",
       "         8.2690e-01, 9.5137e-01, 2.7069e-01, 4.0910e-01, 6.5487e-01, 3.3828e-01,\n",
       "         3.5586e-01, 7.8433e-01, 9.5182e-01, 1.0664e-01, 4.5966e-01, 9.1269e-01,\n",
       "         9.0110e-01, 8.8323e-01, 8.0163e-01, 6.1198e-01, 7.1632e-01, 8.0810e-01,\n",
       "         3.6022e-01, 1.0125e-01, 6.1275e-02, 1.9713e-01, 6.9611e-01, 1.0539e-01,\n",
       "         6.3606e-01, 1.7859e-01, 4.9180e-01, 6.0091e-01, 1.9489e-01, 3.1242e-01,\n",
       "         5.7435e-02, 7.6455e-01, 9.1532e-03, 1.4022e-01, 6.7814e-01, 6.4885e-01,\n",
       "         2.1707e-01, 8.7882e-02, 7.3319e-01, 2.5464e-01, 6.3461e-01, 9.2501e-01,\n",
       "         5.0877e-01, 4.6345e-01, 9.6097e-01, 3.0540e-01, 7.2994e-01, 1.8059e-02,\n",
       "         2.0526e-01, 4.7532e-01, 6.2443e-01, 5.3653e-01, 1.8451e-01, 3.4582e-01,\n",
       "         3.1663e-02, 2.9339e-01, 4.8247e-01, 5.9224e-01, 8.5249e-01, 4.3782e-01,\n",
       "         5.0847e-01, 7.4306e-01, 4.0228e-01, 3.5060e-01, 2.0383e-01, 5.9909e-01,\n",
       "         1.9630e-01, 3.0325e-01, 5.8152e-01, 1.9598e-04, 1.5798e-01, 8.6199e-01,\n",
       "         6.0801e-01, 1.8470e-01, 2.4106e-01, 3.9562e-01, 4.0336e-01, 5.0500e-01,\n",
       "         9.8991e-01, 7.7172e-01, 2.0854e-01, 7.1236e-01, 8.5714e-01, 5.9961e-01,\n",
       "         6.2871e-01, 9.5358e-01, 9.8993e-01, 2.7197e-02, 4.0978e-01, 7.4517e-01,\n",
       "         4.9870e-01, 2.7043e-01, 2.4044e-01, 5.2013e-01, 4.0094e-01, 4.4082e-01,\n",
       "         2.1521e-01, 5.7735e-01, 5.5698e-01, 6.5140e-01, 2.1639e-01, 3.9069e-01,\n",
       "         1.7496e-01, 9.7648e-02, 3.0500e-02, 3.1027e-01, 3.1238e-01, 7.6859e-02,\n",
       "         3.7755e-01, 4.5391e-01, 3.3556e-01, 2.1391e-03, 5.3818e-02, 2.1444e-01,\n",
       "         7.0766e-01, 6.2140e-01, 9.6876e-01, 3.0493e-01, 1.1580e-01, 5.9688e-01,\n",
       "         1.0951e-01, 6.7726e-01, 5.5295e-01, 2.8579e-01, 1.2490e-02, 1.3221e-03,\n",
       "         5.5287e-01, 4.9942e-01, 2.6729e-01, 4.1500e-02, 8.1352e-01, 4.3543e-02,\n",
       "         9.8552e-01, 4.6436e-02, 4.1681e-01, 9.0265e-01, 5.7555e-02, 1.9550e-01,\n",
       "         6.5123e-01, 1.3511e-01, 1.9624e-01, 4.9690e-01, 1.2664e-01, 8.2656e-01,\n",
       "         2.4217e-01, 7.8323e-01, 1.6209e-02, 4.2552e-01, 4.7377e-01, 1.4360e-01,\n",
       "         9.0079e-01, 3.5225e-01, 2.5649e-01, 3.7778e-01, 8.2888e-02, 8.9731e-01,\n",
       "         6.6882e-01, 3.0262e-01, 8.1284e-01, 9.9743e-01, 8.0287e-01, 6.2663e-02,\n",
       "         2.6941e-01, 3.2377e-01, 8.6484e-02, 1.7002e-01, 6.0658e-01, 1.8581e-01,\n",
       "         7.4517e-01, 5.9501e-01, 2.6587e-02, 1.4658e-01, 9.7115e-01, 7.2902e-01,\n",
       "         3.9843e-01, 2.5587e-01, 8.4932e-02, 8.9251e-01, 8.3415e-01, 1.6210e-01,\n",
       "         8.3666e-01, 7.6193e-01, 1.0099e-01, 5.6911e-01, 1.1346e-01, 6.8467e-01,\n",
       "         4.4927e-01, 2.6970e-01, 1.3098e-01, 2.9867e-01, 3.7987e-01, 3.8652e-01,\n",
       "         4.5246e-01, 4.4367e-01, 5.2977e-01, 5.2168e-02, 4.8019e-01, 6.2810e-01,\n",
       "         2.1713e-01, 4.3246e-01, 8.5420e-01, 4.2350e-01, 1.7373e-01, 8.3713e-01,\n",
       "         8.0916e-01, 1.9364e-01, 1.1451e-01, 8.3049e-01, 5.5018e-02, 8.4588e-01,\n",
       "         9.8551e-02, 6.9381e-01, 3.8779e-02, 6.7309e-01, 2.2248e-01, 8.5116e-01,\n",
       "         3.8011e-01, 8.7532e-01, 5.8754e-01, 9.6269e-01, 2.4285e-01, 3.2505e-01,\n",
       "         3.3101e-01, 9.8015e-01, 3.4053e-01, 8.5623e-01, 5.4515e-01, 4.3592e-01,\n",
       "         4.7118e-01, 7.5477e-01, 4.2002e-01, 4.7548e-01, 1.7103e-01, 7.6246e-02,\n",
       "         4.3196e-01, 8.3998e-01, 5.9510e-01, 2.8226e-01, 4.3411e-01, 8.5313e-01,\n",
       "         3.3239e-01, 8.4910e-02, 3.3828e-01, 1.9970e-01, 2.0644e-01, 5.2219e-01,\n",
       "         5.7864e-01, 2.2277e-01, 2.7035e-01, 8.8196e-01, 1.9876e-01, 7.1749e-01,\n",
       "         6.2589e-01, 5.3938e-01, 9.7966e-01, 3.4293e-01, 2.5501e-01, 7.6974e-01,\n",
       "         3.5402e-02, 4.7173e-01], device='cuda:0'),\n",
       " 'weekday_sin-list__offsets': tensor([  0,   4,   8,  12,  19,  23,  28,  30,  36,  45,  51,  57,  63,  65,\n",
       "          68,  71,  77,  83,  90,  97, 101, 104, 109, 113, 119, 126, 134, 137,\n",
       "         147, 154, 158, 162, 170, 174, 180, 184, 190, 196, 202, 206, 211, 217,\n",
       "         220, 225, 234, 237, 242, 249, 255, 259, 266, 271, 273, 277, 280, 284,\n",
       "         294, 298, 301, 305, 307, 311, 315, 322, 328, 332, 338, 343, 346, 353,\n",
       "         356, 360, 367, 370, 374, 386, 391, 394, 399, 405, 412, 419, 422],\n",
       "        device='cuda:0', dtype=torch.int32),\n",
       " 'age_days-list__values': tensor([0.6864, 0.5562, 0.1506, 0.1527, 0.8457, 0.4923, 0.0604, 0.4910, 0.1001,\n",
       "         0.8816, 0.1208, 0.6055, 0.0072, 0.4786, 0.0111, 0.7643, 0.2377, 0.9877,\n",
       "         0.5471, 0.7377, 0.6882, 0.3473, 0.8316, 0.3003, 0.0339, 0.3124, 0.2429,\n",
       "         0.0916, 0.8580, 0.7283, 0.2579, 0.0203, 0.5521, 0.5429, 0.9092, 0.9706,\n",
       "         0.5143, 0.3932, 0.5602, 0.2905, 0.3103, 0.7574, 0.6345, 0.8460, 0.1654,\n",
       "         0.6438, 0.8112, 0.8559, 0.7671, 0.7051, 0.0342, 0.8202, 0.6450, 0.6239,\n",
       "         0.6535, 0.5372, 0.7945, 0.9880, 0.3430, 0.1261, 0.5409, 0.9111, 0.7708,\n",
       "         0.3961, 0.1971, 0.1810, 0.9822, 0.0135, 0.5818, 0.4049, 0.5955, 0.0175,\n",
       "         0.0582, 0.6451, 0.5682, 0.1767, 0.2046, 0.0181, 0.9892, 0.2091, 0.8784,\n",
       "         0.7990, 0.4760, 0.9837, 0.0483, 0.4145, 0.0501, 0.2644, 0.6876, 0.1772,\n",
       "         0.9530, 0.6617, 0.7595, 0.6418, 0.7053, 0.7353, 0.1178, 0.5708, 0.9118,\n",
       "         0.3817, 0.8163, 0.5592, 0.0263, 0.7426, 0.7504, 0.1453, 0.1261, 0.2843,\n",
       "         0.0916, 0.8025, 0.5057, 0.1798, 0.4978, 0.4059, 0.3467, 0.8321, 0.9569,\n",
       "         0.2257, 0.4661, 0.5355, 0.5287, 0.2789, 0.6137, 0.7507, 0.2671, 0.3475,\n",
       "         0.6775, 0.2755, 0.2705, 0.6361, 0.7418, 0.7470, 0.6971, 0.3926, 0.6781,\n",
       "         0.4782, 0.7376, 0.5079, 0.9950, 0.9877, 0.0786, 0.8750, 0.6036, 0.9578,\n",
       "         0.3204, 0.4169, 0.2733, 0.8141, 0.6977, 0.5282, 0.8436, 0.4513, 0.0044,\n",
       "         0.8754, 0.3406, 0.2862, 0.2795, 0.6000, 0.5966, 0.5941, 0.0756, 0.7670,\n",
       "         0.8045, 0.1671, 0.6139, 0.4253, 0.0875, 0.9646, 0.2904, 0.9187, 0.0631,\n",
       "         0.0440, 0.8061, 0.8814, 0.9460, 0.3258, 0.1310, 0.4768, 0.1844, 0.9852,\n",
       "         0.3005, 0.5041, 0.6340, 0.8558, 0.5530, 0.5584, 0.8220, 0.2970, 0.6035,\n",
       "         0.4829, 0.6203, 0.5038, 0.2977, 0.4476, 0.6181, 0.5745, 0.2515, 0.7483,\n",
       "         0.4560, 0.2936, 0.8943, 0.4444, 0.7550, 0.8761, 0.9139, 0.8925, 0.9655,\n",
       "         0.2475, 0.5479, 0.3591, 0.2017, 0.7192, 0.5854, 0.0280, 0.3394, 0.0548,\n",
       "         0.8865, 0.0885, 0.8830, 0.9059, 0.5144, 0.6704, 0.2530, 0.9066, 0.1493,\n",
       "         0.0133, 0.3411, 0.5805, 0.3219, 0.8381, 0.1898, 0.9853, 0.4951, 0.8921,\n",
       "         0.4684, 0.5548, 0.0959, 0.2271, 0.8040, 0.8180, 0.2429, 0.4656, 0.0248,\n",
       "         0.6433, 0.2792, 0.1939, 0.2916, 0.7245, 0.1623, 0.9434, 0.5893, 0.0988,\n",
       "         0.4240, 0.7009, 0.0702, 0.5703, 0.0785, 0.3646, 0.8654, 0.5999, 0.8501,\n",
       "         0.6637, 0.6934, 0.7100, 0.4033, 0.7082, 0.8922, 0.2551, 0.8100, 0.6159,\n",
       "         0.0352, 0.9296, 0.4019, 0.0560, 0.0140, 0.2568, 0.8935, 0.2220, 0.6011,\n",
       "         0.5311, 0.6508, 0.9499, 0.2882, 0.3859, 0.7192, 0.5734, 0.5430, 0.5470,\n",
       "         0.6100, 0.3221, 0.8932, 0.1917, 0.2715, 0.9648, 0.3337, 0.3423, 0.1694,\n",
       "         0.8997, 0.1235, 0.0754, 0.1066, 0.7731, 0.9779, 0.1149, 0.7129, 0.5492,\n",
       "         0.5105, 0.5903, 0.1652, 0.8601, 0.3179, 0.4858, 0.5632, 0.2972, 0.3266,\n",
       "         0.3010, 0.9428, 0.3308, 0.4054, 0.9851, 0.8445, 0.0965, 0.9255, 0.6904,\n",
       "         0.4425, 0.3705, 0.6532, 0.6187, 0.5300, 0.6050, 0.0195, 0.8343, 0.0675,\n",
       "         0.2041, 0.3092, 0.6547, 0.6616, 0.0972, 0.4775, 0.3849, 0.3033, 0.9609,\n",
       "         0.9839, 0.4001, 0.6065, 0.2203, 0.5405, 0.0463, 0.4115, 0.6639, 0.6231,\n",
       "         0.1286, 0.3898, 0.3187, 0.7574, 0.8418, 0.5627, 0.3724, 0.7124, 0.4849,\n",
       "         0.6358, 0.1927, 0.9656, 0.2104, 0.3219, 0.0530, 0.7592, 0.4185, 0.8550,\n",
       "         0.4254, 0.9376, 0.0722, 0.4513, 0.4236, 0.9076, 0.9693, 0.6590, 0.0147,\n",
       "         0.2602, 0.1906, 0.1603, 0.9987, 0.1635, 0.9510, 0.7504, 0.8241, 0.3808,\n",
       "         0.4338, 0.3709, 0.9349, 0.5595, 0.8686, 0.4290, 0.6465, 0.5390, 0.1859,\n",
       "         0.6526, 0.4768, 0.5636, 0.2489, 0.4109, 0.9884, 0.7743, 0.2705, 0.2039,\n",
       "         0.7362, 0.0805, 0.8489, 0.2946, 0.9948, 0.7444, 0.2934, 0.8453, 0.4200,\n",
       "         0.2433, 0.1293, 0.9999, 0.2679, 0.7504, 0.5701, 0.4573, 0.9727],\n",
       "        device='cuda:0'),\n",
       " 'age_days-list__offsets': tensor([  0,   4,   8,  12,  19,  23,  28,  30,  36,  45,  51,  57,  63,  65,\n",
       "          68,  71,  77,  83,  90,  97, 101, 104, 109, 113, 119, 126, 134, 137,\n",
       "         147, 154, 158, 162, 170, 174, 180, 184, 190, 196, 202, 206, 211, 217,\n",
       "         220, 225, 234, 237, 242, 249, 255, 259, 266, 271, 273, 277, 280, 284,\n",
       "         294, 298, 301, 305, 307, 311, 315, 322, 328, 332, 338, 343, 346, 353,\n",
       "         356, 360, 367, 370, 374, 386, 391, 394, 399, 405, 412, 419, 422],\n",
       "        device='cuda:0', dtype=torch.int32),\n",
       " 'item_id-list__values': tensor([ 18,  44,  10,  28, 123,   9, 165,  58,  17,   7,  85,   2,   4,   5,\n",
       "          65,  22,  23,   9,  51,   2,   8,  11,  82,   5,   2, 111,  43,  11,\n",
       "          12,  33,   1,  29,   4,   5,  28,  14,  12,   2,  84,  15,   4,  16,\n",
       "           6,   5,   2,  89,  19,  31,  12,  42,  22,  13,  12,  21,  48,   4,\n",
       "          10,   9,  60,  55,  36,  39,   7,  11,  19,  15,  19,  28,  48,   7,\n",
       "         184,  10,  24,  23,  41,   2,   2,  34,  10,  35,   8,  49,  51,  11,\n",
       "         188,  40, 101, 101,  83,  10,   6,   1,   7,  72,   7,   7,  17,  85,\n",
       "          24,   2,  40,  20,   2,   2,  35,  54,  17,  22,  38,  15,  28,  37,\n",
       "           3,  11,   8,  13,  22,   9,  17,   2,  18,  32,   6, 162,  13,   7,\n",
       "           7,  51,  66,  30, 104,  58,  10, 349,   2,  17,   3,  18,  12,  21,\n",
       "          40, 193,  11,  23,  51,   8,   8,  20,   7,  65,  23,   8,  42,  67,\n",
       "           9,  89,  36,  17,  66,   5, 124,  12,  17,   9,  10,   5,  44,  28,\n",
       "          14,  87,  40,   5,  87,  10,   8,  11,  27,   3,   8,  16,  64,  12,\n",
       "          15, 187,  10,  19,   7,  63,  27,  66,  11,  98,   9,  30,   7,  22,\n",
       "          13,  15,  14,   9,  10,  22,   3,   4,  17,  62,  31,  25,   5,   4,\n",
       "          20,  10,  85,   3,  83,   6,  19,  31,  15,  16,   6,   9,   4, 100,\n",
       "          14,  36, 191,  16,   8, 155,  33,  21,   8,  18,  15, 119,   1,  22,\n",
       "          27,  15,  94, 141,   6,   9,   4,  16,  16,   6,   3,   4,  29,  20,\n",
       "           2,   2,  27,  17,   4,  49,  17, 112,   8,  67,   2,  26,   6,  35,\n",
       "           1,  44,  36,  76,  35,  14,  51,  47,  18,   1,  16,   5,  12,  55,\n",
       "          34,  32, 114,  33,  39,  20,  43,   6,   8,   7,  56,   7,  90,  95,\n",
       "          18,   3,  59,  20,   3,   2,   5,  20, 120,   4, 137,   2,  21,   7,\n",
       "          33,   7,   7,  35,  51,  39,  20,  75,  27,   1,  24,  24,  15,  61,\n",
       "          14,  10,  31,  50,   8,  57,  19,  46,  59,  25,  18,  67,  23,  42,\n",
       "          38,   2,   3,  21,  25,  97,   2,   7,  79,  32,  73,  11,  26,  24,\n",
       "          81,   2,   4,  29,   4,   7,   5,  46,  67,  65,  26,  26,  10,  23,\n",
       "          35,  33,   3,  41, 157,  64,  19,  14,   6,  21,  45,  18,  31,   7,\n",
       "          10, 147,  14,  12,  37,   3,  13,  13,   7,  35,  13,   7,  22,   5,\n",
       "          82,  10,  36,   5,  55,  20,   8, 148,  62,  16,   1,  40,  35, 227,\n",
       "          69,   2,  59,  73,  47,  16,  58,   7,  39,  12,  43,  30,  16,   9,\n",
       "          23, 164], device='cuda:0'),\n",
       " 'item_id-list__offsets': tensor([  0,   4,   8,  12,  19,  23,  28,  30,  36,  45,  51,  57,  63,  65,\n",
       "          68,  71,  77,  83,  90,  97, 101, 104, 109, 113, 119, 126, 134, 137,\n",
       "         147, 154, 158, 162, 170, 174, 180, 184, 190, 196, 202, 206, 211, 217,\n",
       "         220, 225, 234, 237, 242, 249, 255, 259, 266, 271, 273, 277, 280, 284,\n",
       "         294, 298, 301, 305, 307, 311, 315, 322, 328, 332, 338, 343, 346, 353,\n",
       "         356, 360, 367, 370, 374, 386, 391, 394, 399, 405, 412, 419, 422],\n",
       "        device='cuda:0', dtype=torch.int32),\n",
       " 'category-list__values': tensor([ 5, 11,  2,  7, 32,  3, 40, 15,  5,  2, 21,  1,  1,  3, 16,  6,  6,  3,\n",
       "         13,  1,  2,  4, 20,  3,  1, 28, 11,  4,  4,  3,  1,  8,  1,  3,  7,  3,\n",
       "          4,  1, 21,  4,  1,  5,  2,  3,  1, 22,  5,  8,  4, 11,  6,  4,  4,  3,\n",
       "         12,  1,  2,  3, 15, 14,  9, 10,  2,  4,  5,  4,  5,  7, 12,  2, 52,  2,\n",
       "          6,  6, 10,  1,  1,  9,  2,  9,  2, 12, 13,  4, 53, 10, 26, 26, 21,  2,\n",
       "          2,  1,  2, 17,  2,  2,  5, 21,  6,  1, 10,  6,  1,  1,  9, 14,  5,  6,\n",
       "         10,  4,  7,  9,  1,  4,  2,  4,  6,  3,  5,  1,  5,  8,  2, 43,  4,  2,\n",
       "          2, 13, 17,  8, 27, 15,  2, 84,  1,  5,  1,  5,  4,  3, 10, 45,  4,  6,\n",
       "         13,  2,  2,  6,  2, 16,  6,  2, 11, 17,  3, 22,  9,  5, 17,  3, 32,  4,\n",
       "          5,  3,  2,  3, 11,  7,  3, 22, 10,  3, 22,  2,  2,  4,  7,  1,  2,  5,\n",
       "         16,  4,  4, 49,  2,  5,  2, 16,  7, 17,  4, 24,  3,  8,  2,  6,  4,  4,\n",
       "          3,  3,  2,  6,  1,  1,  5, 16,  8,  7,  3,  1,  6,  2, 21,  1, 21,  2,\n",
       "          5,  8,  4,  5,  2,  3,  1, 26,  3,  9, 44,  5,  2, 41,  3,  3,  2,  5,\n",
       "          4, 30,  1,  6,  7,  4, 23, 36,  2,  3,  1,  5,  5,  2,  1,  1,  8,  6,\n",
       "          1,  1,  7,  5,  1, 12,  5, 29,  2, 17,  1,  7,  2,  9,  1, 11,  9, 20,\n",
       "          9,  3, 13, 12,  5,  1,  5,  3,  4, 14,  9,  8, 27,  3, 10,  6, 11,  2,\n",
       "          2,  2, 14,  2, 23, 23,  5,  1, 15,  6,  1,  1,  3,  6, 29,  1, 31,  1,\n",
       "          3,  2,  3,  2,  2,  9, 13, 10,  6, 19,  7,  1,  6,  6,  4, 15,  3,  2,\n",
       "          8, 13,  2, 14,  5, 12, 15,  7,  5, 17,  6, 11, 10,  1,  1,  3,  7, 24,\n",
       "          1,  2, 19,  8, 18,  4,  7,  6, 21,  1,  1,  8,  1,  2,  3, 12, 17, 16,\n",
       "          7,  7,  2,  6,  9,  3,  1, 10, 40, 16,  5,  3,  2,  3, 11,  5,  8,  2,\n",
       "          2, 37,  3,  4,  9,  1,  4,  4,  2,  9,  4,  2,  6,  3, 20,  2,  9,  3,\n",
       "         14,  6,  2, 39, 16,  5,  1, 10,  9, 54, 18,  1, 15, 18, 12,  5, 15,  2,\n",
       "         10,  4, 11,  8,  5,  3,  6, 38], device='cuda:0'),\n",
       " 'category-list__offsets': tensor([  0,   4,   8,  12,  19,  23,  28,  30,  36,  45,  51,  57,  63,  65,\n",
       "          68,  71,  77,  83,  90,  97, 101, 104, 109, 113, 119, 126, 134, 137,\n",
       "         147, 154, 158, 162, 170, 174, 180, 184, 190, 196, 202, 206, 211, 217,\n",
       "         220, 225, 234, 237, 242, 249, 255, 259, 266, 271, 273, 277, 280, 284,\n",
       "         294, 298, 301, 305, 307, 311, 315, 322, 328, 332, 338, 343, 346, 353,\n",
       "         356, 360, 367, 370, 374, 386, 391, 394, 399, 405, 412, 419, 422],\n",
       "        device='cuda:0', dtype=torch.int32)}"
      ]
     },
     "execution_count": 9,
     "metadata": {},
     "output_type": "execute_result"
    }
   ],
   "source": [
    "model_input_dict"
   ]
  },
  {
   "cell_type": "code",
   "execution_count": 10,
   "id": "43e789a3-2423-44eb-ae5d-0c154557424f",
   "metadata": {
    "tags": []
   },
   "outputs": [],
   "source": [
    "traced_model = torch.jit.trace(model, model_input_dict, strict=True)"
   ]
  },
  {
   "cell_type": "markdown",
   "id": "a404bdb6-6e19-4899-8172-214adef384a8",
   "metadata": {},
   "source": [
    "Generate model input and output schemas to feed in the `PredictPyTorch` operator below."
   ]
  },
  {
   "cell_type": "code",
   "execution_count": 11,
   "id": "c6a814aa-4954-404b-bd2d-161ed8066f4e",
   "metadata": {},
   "outputs": [],
   "source": [
    "input_schema = model.input_schema\n",
    "output_schema = model.output_schema"
   ]
  },
  {
   "cell_type": "code",
   "execution_count": 12,
   "id": "757cd0c5-f581-488b-a8de-b8d1188820d6",
   "metadata": {},
   "outputs": [
    {
     "data": {
      "text/html": [
       "<div>\n",
       "<style scoped>\n",
       "    .dataframe tbody tr th:only-of-type {\n",
       "        vertical-align: middle;\n",
       "    }\n",
       "\n",
       "    .dataframe tbody tr th {\n",
       "        vertical-align: top;\n",
       "    }\n",
       "\n",
       "    .dataframe thead th {\n",
       "        text-align: right;\n",
       "    }\n",
       "</style>\n",
       "<table border=\"1\" class=\"dataframe\">\n",
       "  <thead>\n",
       "    <tr style=\"text-align: right;\">\n",
       "      <th></th>\n",
       "      <th>name</th>\n",
       "      <th>tags</th>\n",
       "      <th>dtype</th>\n",
       "      <th>is_list</th>\n",
       "      <th>is_ragged</th>\n",
       "      <th>properties.value_count.min</th>\n",
       "      <th>properties.value_count.max</th>\n",
       "      <th>properties.embedding_sizes.dimension</th>\n",
       "      <th>properties.embedding_sizes.cardinality</th>\n",
       "      <th>properties.num_buckets</th>\n",
       "      <th>properties.start_index</th>\n",
       "      <th>properties.max_size</th>\n",
       "      <th>properties.cat_path</th>\n",
       "      <th>properties.freq_threshold</th>\n",
       "      <th>properties.domain.min</th>\n",
       "      <th>properties.domain.max</th>\n",
       "      <th>properties.domain.name</th>\n",
       "    </tr>\n",
       "  </thead>\n",
       "  <tbody>\n",
       "    <tr>\n",
       "      <th>0</th>\n",
       "      <td>weekday_sin-list</td>\n",
       "      <td>(Tags.CONTINUOUS, Tags.LIST)</td>\n",
       "      <td>DType(name='float32', element_type=&lt;ElementTyp...</td>\n",
       "      <td>True</td>\n",
       "      <td>True</td>\n",
       "      <td>2</td>\n",
       "      <td>16</td>\n",
       "      <td>NaN</td>\n",
       "      <td>NaN</td>\n",
       "      <td>NaN</td>\n",
       "      <td>NaN</td>\n",
       "      <td>NaN</td>\n",
       "      <td>NaN</td>\n",
       "      <td>NaN</td>\n",
       "      <td>NaN</td>\n",
       "      <td>NaN</td>\n",
       "      <td>NaN</td>\n",
       "    </tr>\n",
       "    <tr>\n",
       "      <th>1</th>\n",
       "      <td>age_days-list</td>\n",
       "      <td>(Tags.CONTINUOUS, Tags.LIST)</td>\n",
       "      <td>DType(name='float32', element_type=&lt;ElementTyp...</td>\n",
       "      <td>True</td>\n",
       "      <td>True</td>\n",
       "      <td>2</td>\n",
       "      <td>16</td>\n",
       "      <td>NaN</td>\n",
       "      <td>NaN</td>\n",
       "      <td>NaN</td>\n",
       "      <td>NaN</td>\n",
       "      <td>NaN</td>\n",
       "      <td>NaN</td>\n",
       "      <td>NaN</td>\n",
       "      <td>NaN</td>\n",
       "      <td>NaN</td>\n",
       "      <td>NaN</td>\n",
       "    </tr>\n",
       "    <tr>\n",
       "      <th>2</th>\n",
       "      <td>item_id-list</td>\n",
       "      <td>(Tags.ITEM, Tags.ID, Tags.ITEM_ID, Tags.CATEGO...</td>\n",
       "      <td>DType(name='int64', element_type=&lt;ElementType....</td>\n",
       "      <td>True</td>\n",
       "      <td>True</td>\n",
       "      <td>2</td>\n",
       "      <td>16</td>\n",
       "      <td>52.0</td>\n",
       "      <td>493.0</td>\n",
       "      <td>NaN</td>\n",
       "      <td>0.0</td>\n",
       "      <td>0.0</td>\n",
       "      <td>.//categories/unique.item_id.parquet</td>\n",
       "      <td>0.0</td>\n",
       "      <td>0.0</td>\n",
       "      <td>492.0</td>\n",
       "      <td>item_id</td>\n",
       "    </tr>\n",
       "    <tr>\n",
       "      <th>3</th>\n",
       "      <td>category-list</td>\n",
       "      <td>(Tags.CATEGORICAL, Tags.LIST)</td>\n",
       "      <td>DType(name='int64', element_type=&lt;ElementType....</td>\n",
       "      <td>True</td>\n",
       "      <td>True</td>\n",
       "      <td>2</td>\n",
       "      <td>16</td>\n",
       "      <td>29.0</td>\n",
       "      <td>173.0</td>\n",
       "      <td>NaN</td>\n",
       "      <td>0.0</td>\n",
       "      <td>0.0</td>\n",
       "      <td>.//categories/unique.category.parquet</td>\n",
       "      <td>0.0</td>\n",
       "      <td>0.0</td>\n",
       "      <td>172.0</td>\n",
       "      <td>category</td>\n",
       "    </tr>\n",
       "  </tbody>\n",
       "</table>\n",
       "</div>"
      ],
      "text/plain": [
       "[{'name': 'weekday_sin-list', 'tags': {<Tags.CONTINUOUS: 'continuous'>, <Tags.LIST: 'list'>}, 'properties': {'value_count': {'min': 2, 'max': 16}}, 'dtype': DType(name='float32', element_type=<ElementType.Float: 'float'>, element_size=32, element_unit=None, signed=True, shape=Shape(dims=(Dimension(min=0, max=None), Dimension(min=2, max=16)))), 'is_list': True, 'is_ragged': True}, {'name': 'age_days-list', 'tags': {<Tags.CONTINUOUS: 'continuous'>, <Tags.LIST: 'list'>}, 'properties': {'value_count': {'min': 2, 'max': 16}}, 'dtype': DType(name='float32', element_type=<ElementType.Float: 'float'>, element_size=32, element_unit=None, signed=True, shape=Shape(dims=(Dimension(min=0, max=None), Dimension(min=2, max=16)))), 'is_list': True, 'is_ragged': True}, {'name': 'item_id-list', 'tags': {<Tags.ITEM: 'item'>, <Tags.ID: 'id'>, <Tags.ITEM_ID: 'item_id'>, <Tags.CATEGORICAL: 'categorical'>, <Tags.LIST: 'list'>}, 'properties': {'embedding_sizes': {'dimension': 52.0, 'cardinality': 493.0}, 'num_buckets': None, 'start_index': 0.0, 'max_size': 0.0, 'cat_path': './/categories/unique.item_id.parquet', 'freq_threshold': 0.0, 'domain': {'min': 0, 'max': 492, 'name': 'item_id'}, 'value_count': {'min': 2, 'max': 16}}, 'dtype': DType(name='int64', element_type=<ElementType.Int: 'int'>, element_size=64, element_unit=None, signed=True, shape=Shape(dims=(Dimension(min=0, max=None), Dimension(min=2, max=16)))), 'is_list': True, 'is_ragged': True}, {'name': 'category-list', 'tags': {<Tags.CATEGORICAL: 'categorical'>, <Tags.LIST: 'list'>}, 'properties': {'cat_path': './/categories/unique.category.parquet', 'max_size': 0.0, 'num_buckets': None, 'start_index': 0.0, 'freq_threshold': 0.0, 'embedding_sizes': {'dimension': 29.0, 'cardinality': 173.0}, 'domain': {'min': 0, 'max': 172, 'name': 'category'}, 'value_count': {'min': 2, 'max': 16}}, 'dtype': DType(name='int64', element_type=<ElementType.Int: 'int'>, element_size=64, element_unit=None, signed=True, shape=Shape(dims=(Dimension(min=0, max=None), Dimension(min=2, max=16)))), 'is_list': True, 'is_ragged': True}]"
      ]
     },
     "execution_count": 12,
     "metadata": {},
     "output_type": "execute_result"
    }
   ],
   "source": [
    "input_schema"
   ]
  },
  {
   "cell_type": "markdown",
   "id": "6f8a8bfc-c6e1-44dd-ab65-cbdab2135e8e",
   "metadata": {},
   "source": [
    "Let's create a folder that we can store the exported models and the config files."
   ]
  },
  {
   "cell_type": "code",
   "execution_count": 13,
   "id": "6b2deb2b-e223-4b5d-b655-810e1aefa7e8",
   "metadata": {},
   "outputs": [],
   "source": [
    "import shutil\n",
    "ens_model_path = os.environ.get(\"ens_model_path\", f\"{INPUT_DATA_DIR}/models\")\n",
    "# Make sure we have a clean stats space for Dask\n",
    "if os.path.isdir(ens_model_path):\n",
    "    shutil.rmtree(ens_model_path)\n",
    "os.mkdir(ens_model_path)"
   ]
  },
  {
   "cell_type": "markdown",
   "id": "845c935c-8bfc-4c92-bba2-2a915edbfc68",
   "metadata": {},
   "source": [
    "We want to serve NVT model and our trained session-based model together as an ensemble to the Triton Inference Server. That way we can send raw requests to Triton and return back item scores per session. For that we need to load our save workflow first."
   ]
  },
  {
   "cell_type": "code",
   "execution_count": 14,
   "id": "0360f457-a198-42c0-b860-3356f7956ab9",
   "metadata": {},
   "outputs": [
    {
     "name": "stdout",
     "output_type": "stream",
     "text": [
      "['item_id', 'category', 'day', 'age_days', 'weekday_sin', 'session_id']\n"
     ]
    }
   ],
   "source": [
    "from nvtabular.workflow import Workflow\n",
    "workflow = Workflow.load(os.path.join(INPUT_DATA_DIR, \"workflow_etl\"))\n",
    "print(workflow.input_schema.column_names)"
   ]
  },
  {
   "cell_type": "markdown",
   "id": "e3449615-2120-402d-b5c3-1544ee3224dd",
   "metadata": {},
   "source": [
    "For transforming the raw input features during inference, we use [TransformWorkflow](https://github.com/NVIDIA-Merlin/systems/blob/main/merlin/systems/dag/ops/workflow.py) operator that ensures the workflow is correctly saved and packaged with the required config so the server will know how to load it. We use [PredictPyTorch](https://github.com/NVIDIA-Merlin/systems/blob/main/merlin/systems/dag/ops/pytorch.py) operator that takes a pytorch model and packages it correctly for tritonserver to run on the PyTorch backend."
   ]
  },
  {
   "cell_type": "code",
   "execution_count": 15,
   "id": "4f96597c-1c05-4fb0-ad3e-c55c21599158",
   "metadata": {},
   "outputs": [
    {
     "name": "stderr",
     "output_type": "stream",
     "text": [
      "/workspace/merlin/core/merlin/schema/tags.py:149: UserWarning: Compound tags like Tags.ITEM_ID have been deprecated and will be removed in a future version. Please use the atomic versions of these tags, like [<Tags.ITEM: 'item'>, <Tags.ID: 'id'>].\n",
      "  warnings.warn(\n",
      "/workspace/merlin/systems/merlin/systems/dag/node.py:100: UserWarning: Operator 'TransformWorkflow' is producing the output column 'session_id', which is not being used by any downstream operator in the ensemble graph.\n",
      "  warnings.warn(\n",
      "/workspace/merlin/systems/merlin/systems/dag/node.py:100: UserWarning: Operator 'TransformWorkflow' is producing the output column 'day-first', which is not being used by any downstream operator in the ensemble graph.\n",
      "  warnings.warn(\n"
     ]
    }
   ],
   "source": [
    "torch_op = workflow.input_schema.column_names >> TransformWorkflow(workflow) >> PredictPyTorch(\n",
    "    traced_model, input_schema, output_schema\n",
    ")\n",
    "\n",
    "ensemble = Ensemble(torch_op, workflow.input_schema)"
   ]
  },
  {
   "cell_type": "markdown",
   "id": "f36b0f90-5392-4d7a-9a48-57737cf63cd1",
   "metadata": {},
   "source": [
    "The last step is to create the ensemble artifacts that Triton Inference Server can consume. To make these artifacts, we import the Ensemble class. The class is responsible for interpreting the graph and exporting the correct files for the server.\n",
    "\n",
    "When we create an `Ensemble` object we supply the graph and a schema representing the starting input of the graph. The inputs to the ensemble graph are the inputs to the first operator of out graph. After we created the Ensemble we export the graph, supplying an export path for the `ensemble.export` function. This returns an ensemble config which represents the entire inference pipeline and a list of node-specific configs."
   ]
  },
  {
   "cell_type": "code",
   "execution_count": 16,
   "id": "5b0d14bb-7765-45e8-8fd0-9d508dc3ec14",
   "metadata": {},
   "outputs": [],
   "source": [
    "ens_config, node_configs = ensemble.export(ens_model_path)"
   ]
  },
  {
   "cell_type": "code",
   "execution_count": 17,
   "id": "a3ba86eb-ca25-4a0c-9daf-61c9911b29ab",
   "metadata": {
    "tags": []
   },
   "outputs": [
    {
     "data": {
      "text/html": [
       "<div>\n",
       "<style scoped>\n",
       "    .dataframe tbody tr th:only-of-type {\n",
       "        vertical-align: middle;\n",
       "    }\n",
       "\n",
       "    .dataframe tbody tr th {\n",
       "        vertical-align: top;\n",
       "    }\n",
       "\n",
       "    .dataframe thead th {\n",
       "        text-align: right;\n",
       "    }\n",
       "</style>\n",
       "<table border=\"1\" class=\"dataframe\">\n",
       "  <thead>\n",
       "    <tr style=\"text-align: right;\">\n",
       "      <th></th>\n",
       "      <th>name</th>\n",
       "      <th>tags</th>\n",
       "      <th>dtype</th>\n",
       "      <th>is_list</th>\n",
       "      <th>is_ragged</th>\n",
       "    </tr>\n",
       "  </thead>\n",
       "  <tbody>\n",
       "    <tr>\n",
       "      <th>0</th>\n",
       "      <td>item_id</td>\n",
       "      <td>()</td>\n",
       "      <td>DType(name='int32', element_type=&lt;ElementType....</td>\n",
       "      <td>False</td>\n",
       "      <td>False</td>\n",
       "    </tr>\n",
       "    <tr>\n",
       "      <th>1</th>\n",
       "      <td>category</td>\n",
       "      <td>()</td>\n",
       "      <td>DType(name='int32', element_type=&lt;ElementType....</td>\n",
       "      <td>False</td>\n",
       "      <td>False</td>\n",
       "    </tr>\n",
       "    <tr>\n",
       "      <th>2</th>\n",
       "      <td>day</td>\n",
       "      <td>()</td>\n",
       "      <td>DType(name='int64', element_type=&lt;ElementType....</td>\n",
       "      <td>False</td>\n",
       "      <td>False</td>\n",
       "    </tr>\n",
       "    <tr>\n",
       "      <th>3</th>\n",
       "      <td>age_days</td>\n",
       "      <td>()</td>\n",
       "      <td>DType(name='float32', element_type=&lt;ElementTyp...</td>\n",
       "      <td>False</td>\n",
       "      <td>False</td>\n",
       "    </tr>\n",
       "    <tr>\n",
       "      <th>4</th>\n",
       "      <td>weekday_sin</td>\n",
       "      <td>()</td>\n",
       "      <td>DType(name='float32', element_type=&lt;ElementTyp...</td>\n",
       "      <td>False</td>\n",
       "      <td>False</td>\n",
       "    </tr>\n",
       "    <tr>\n",
       "      <th>5</th>\n",
       "      <td>session_id</td>\n",
       "      <td>()</td>\n",
       "      <td>DType(name='int64', element_type=&lt;ElementType....</td>\n",
       "      <td>False</td>\n",
       "      <td>False</td>\n",
       "    </tr>\n",
       "  </tbody>\n",
       "</table>\n",
       "</div>"
      ],
      "text/plain": [
       "[{'name': 'item_id', 'tags': set(), 'properties': {}, 'dtype': DType(name='int32', element_type=<ElementType.Int: 'int'>, element_size=32, element_unit=None, signed=True, shape=Shape(dims=(Dimension(min=0, max=None),))), 'is_list': False, 'is_ragged': False}, {'name': 'category', 'tags': set(), 'properties': {}, 'dtype': DType(name='int32', element_type=<ElementType.Int: 'int'>, element_size=32, element_unit=None, signed=True, shape=Shape(dims=(Dimension(min=0, max=None),))), 'is_list': False, 'is_ragged': False}, {'name': 'day', 'tags': set(), 'properties': {}, 'dtype': DType(name='int64', element_type=<ElementType.Int: 'int'>, element_size=64, element_unit=None, signed=True, shape=Shape(dims=(Dimension(min=0, max=None),))), 'is_list': False, 'is_ragged': False}, {'name': 'age_days', 'tags': set(), 'properties': {}, 'dtype': DType(name='float32', element_type=<ElementType.Float: 'float'>, element_size=32, element_unit=None, signed=True, shape=Shape(dims=(Dimension(min=0, max=None),))), 'is_list': False, 'is_ragged': False}, {'name': 'weekday_sin', 'tags': set(), 'properties': {}, 'dtype': DType(name='float32', element_type=<ElementType.Float: 'float'>, element_size=32, element_unit=None, signed=True, shape=Shape(dims=(Dimension(min=0, max=None),))), 'is_list': False, 'is_ragged': False}, {'name': 'session_id', 'tags': set(), 'properties': {}, 'dtype': DType(name='int64', element_type=<ElementType.Int: 'int'>, element_size=64, element_unit=None, signed=True, shape=Shape(dims=(Dimension(min=0, max=None),))), 'is_list': False, 'is_ragged': False}]"
      ]
     },
     "execution_count": 17,
     "metadata": {},
     "output_type": "execute_result"
    }
   ],
   "source": [
    "ensemble.input_schema"
   ]
  },
  {
   "cell_type": "markdown",
   "id": "a36169a5-f218-44b5-b034-7d299ce718ed",
   "metadata": {},
   "source": [
    "## Starting Triton Server"
   ]
  },
  {
   "cell_type": "markdown",
   "id": "eb507766-ac9b-4c8c-8339-c1c951648428",
   "metadata": {},
   "source": [
    "It is time to deploy all the models as an ensemble model to Triton Inference Serve TIS. After we export the ensemble, we are ready to start the TIS. You can start triton server by using the following command on your terminal:\n",
    "\n",
    "`tritonserver --model-repository=<ensemble_export_path>`\n",
    "\n",
    "For the `--model-repository` argument, specify the same path as the export_path that you specified previously in the `ensemble.export` method. This command will launch the server and load all the models to the server. Once all the models are loaded successfully, you should see READY status printed out in the terminal for each loaded model."
   ]
  },
  {
   "cell_type": "code",
   "execution_count": 18,
   "id": "46a86c8d-9ec1-4422-8f8c-4d49e83f6783",
   "metadata": {
    "tags": []
   },
   "outputs": [
    {
     "name": "stdout",
     "output_type": "stream",
     "text": [
      "client created.\n"
     ]
    }
   ],
   "source": [
    "import tritonclient.http as client\n",
    "\n",
    "# Create a triton client\n",
    "try:\n",
    "    triton_client = client.InferenceServerClient(url=\"localhost:8000\", verbose=True)\n",
    "    print(\"client created.\")\n",
    "except Exception as e:\n",
    "    print(\"channel creation failed: \" + str(e))"
   ]
  },
  {
   "cell_type": "markdown",
   "id": "bab41dd0-0155-4d97-8bdf-2451177d46f1",
   "metadata": {},
   "source": [
    "After we create the client and verified it is connected to the server instance, we can communicate with the server and ensure all the models are loaded correctly."
   ]
  },
  {
   "cell_type": "code",
   "execution_count": 19,
   "id": "dda3f852-a019-4bf1-831b-f63b750a1192",
   "metadata": {
    "tags": []
   },
   "outputs": [
    {
     "name": "stdout",
     "output_type": "stream",
     "text": [
      "GET /v2/health/live, headers None\n",
      "<HTTPSocketPoolResponse status=200 headers={'content-length': '0', 'content-type': 'text/plain'}>\n",
      "POST /v2/repository/index, headers None\n",
      "\n",
      "<HTTPSocketPoolResponse status=200 headers={'content-type': 'application/json', 'content-length': '188'}>\n",
      "bytearray(b'[{\"name\":\"0_transformworkflowtriton\",\"version\":\"1\",\"state\":\"READY\"},{\"name\":\"1_predictpytorchtriton\",\"version\":\"1\",\"state\":\"READY\"},{\"name\":\"executor_model\",\"version\":\"1\",\"state\":\"READY\"}]')\n"
     ]
    },
    {
     "data": {
      "text/plain": [
       "[{'name': '0_transformworkflowtriton', 'version': '1', 'state': 'READY'},\n",
       " {'name': '1_predictpytorchtriton', 'version': '1', 'state': 'READY'},\n",
       " {'name': 'executor_model', 'version': '1', 'state': 'READY'}]"
      ]
     },
     "execution_count": 19,
     "metadata": {},
     "output_type": "execute_result"
    }
   ],
   "source": [
    "# ensure triton is in a good state\n",
    "triton_client.is_server_live()\n",
    "triton_client.get_model_repository_index()"
   ]
  },
  {
   "cell_type": "markdown",
   "id": "415146b1-9e9c-4c72-a9b9-697041ba27ef",
   "metadata": {},
   "source": [
    "### Send request to Triton and get the response"
   ]
  },
  {
   "cell_type": "markdown",
   "id": "5f218f19-63d8-498f-aec8-b5dfa56ca3f3",
   "metadata": {},
   "source": [
    "The last step of a machine learning (ML)/deep learning (DL) pipeline is to deploy the model to production, and get responses for a given query or a set of queries.\n",
    "In this section, we generate a dataframe that we can serve as a request to TIS. We do serve the raw dataframe and in the production setting, we want to transform the input data as done during training (ETL). We need to apply the same mean/std for continuous features and use the same categorical mapping to convert the categories to continuous integer before we use the deployed DL model for a prediction."
   ]
  },
  {
   "cell_type": "markdown",
   "id": "5e3abf91-67e8-4f04-842c-f128a3379569",
   "metadata": {},
   "source": [
    "Let's generate a dataframe with raw input values. We can send this dataframe to Triton as a request."
   ]
  },
  {
   "cell_type": "code",
   "execution_count": 20,
   "id": "0acd5649-31fe-4f3f-87a2-2607477638b5",
   "metadata": {
    "tags": []
   },
   "outputs": [
    {
     "name": "stdout",
     "output_type": "stream",
     "text": [
      "   session_id  item_id  category  age_days  weekday_sin  day\n",
      "0       81119        7         2  0.844459     0.395856    1\n",
      "1       70544        8         3  0.994260     0.483951    8\n"
     ]
    }
   ],
   "source": [
    "NUM_ROWS =1000\n",
    "long_tailed_item_distribution = np.clip(np.random.lognormal(3., 1., int(NUM_ROWS)).astype(np.int32), 1, 50000)\n",
    "# generate random item interaction features \n",
    "df = pd.DataFrame(np.random.randint(70000, 90000, int(NUM_ROWS)), columns=['session_id'])\n",
    "df['item_id'] = long_tailed_item_distribution\n",
    "\n",
    "# generate category mapping for each item-id\n",
    "df['category'] = pd.cut(df['item_id'], bins=334, labels=np.arange(1, 335)).astype(np.int32)\n",
    "df['age_days'] = np.random.uniform(0, 1, int(NUM_ROWS)).astype(np.float32)\n",
    "df['weekday_sin']= np.random.uniform(0, 1, int(NUM_ROWS)).astype(np.float32)\n",
    "\n",
    "# generate day mapping for each session \n",
    "map_day = dict(zip(df.session_id.unique(), np.random.randint(1, 10, size=(df.session_id.nunique()))))\n",
    "df['day'] =  df.session_id.map(map_day)\n",
    "\n",
    "print(df.head(2))"
   ]
  },
  {
   "cell_type": "markdown",
   "id": "52832509-6444-4fd2-8834-a02eec429e14",
   "metadata": {},
   "source": [
    "Once our models are successfully loaded to the TIS, we can now easily send a request to TIS and get a response for our query with send_triton_request utility function."
   ]
  },
  {
   "cell_type": "code",
   "execution_count": 21,
   "id": "42091c25-7676-414e-bb8c-8432aeb58297",
   "metadata": {
    "tags": []
   },
   "outputs": [
    {
     "data": {
      "text/plain": [
       "{'next-item': array([[-4.0163584,  2.8880801,  2.8579702, ..., -3.2957313, -3.4589174,\n",
       "         -3.1256526],\n",
       "        [-4.0165143,  2.887963 ,  2.8577764, ..., -3.296179 , -3.4597163,\n",
       "         -3.1257925],\n",
       "        [-4.014146 ,  2.8889873,  2.8591576, ..., -3.2919312, -3.4524093,\n",
       "         -3.1247814],\n",
       "        ...,\n",
       "        [-4.017418 ,  2.8872206,  2.85729  , ..., -3.2978077, -3.462584 ,\n",
       "         -3.1261778],\n",
       "        [-4.0187573,  2.8866076,  2.8563938, ..., -3.2999353, -3.466495 ,\n",
       "         -3.126523 ],\n",
       "        [-4.0182676,  2.8868668,  2.8567138, ..., -3.2992334, -3.4651473,\n",
       "         -3.1263661]], dtype=float32)}"
      ]
     },
     "execution_count": 21,
     "metadata": {},
     "output_type": "execute_result"
    }
   ],
   "source": [
    "from merlin.systems.triton.utils import send_triton_request\n",
    "response = send_triton_request(workflow.input_schema, df, output_schema.column_names, endpoint=\"localhost:8001\")\n",
    "response"
   ]
  },
  {
   "cell_type": "code",
   "execution_count": 22,
   "id": "0fa425a4-9c00-45ed-a4b1-fd75ca4bf819",
   "metadata": {
    "tags": []
   },
   "outputs": [
    {
     "data": {
      "text/plain": [
       "(31, 493)"
      ]
     },
     "execution_count": 22,
     "metadata": {},
     "output_type": "execute_result"
    }
   ],
   "source": [
    "response['next-item'].shape"
   ]
  },
  {
   "cell_type": "markdown",
   "id": "d0581195-d496-4536-a93b-3071ed9088ea",
   "metadata": {},
   "source": [
    "We return a response for each request in the df. Each row in the `response['next-item']` array corresponds to the logit values per item in the catalog, and one logit score corresponding to the null, OOV and padded items. The first score of each array in each row corresponds to the score for the padded item, OOV or null item. Note that we dont have OOV or null items in our syntheticall generated datasets.\n",
    "\n",
    "This is the end of this suit of examples. You successfully performed feature engineering with NVTabular trained transformer architecture based session-based recommendation models with Transformers4Rec deployed the saved workflow and the trained model to Triton Inference Server with Torch backend, sent request and got responses from the server. If you would like to learn how to serve a TF4Rec model with Python backend please visit this [example](https://github.com/NVIDIA-Merlin/Transformers4Rec/blob/main/examples/end-to-end-session-based/02-End-to-end-session-based-with-Yoochoose-PyT.ipynb)."
   ]
  }
 ],
 "metadata": {
  "interpreter": {
   "hash": "7b543a88d374ac88bf8df97911b380f671b13649694a5b49eb21e60fd27eb479"
  },
  "kernelspec": {
   "display_name": "Python 3 (ipykernel)",
   "language": "python",
   "name": "python3"
  },
  "language_info": {
   "codemirror_mode": {
    "name": "ipython",
    "version": 3
   },
   "file_extension": ".py",
   "mimetype": "text/x-python",
   "name": "python",
   "nbconvert_exporter": "python",
   "pygments_lexer": "ipython3",
   "version": "3.8.16"
  }
 },
 "nbformat": 4,
 "nbformat_minor": 5
}