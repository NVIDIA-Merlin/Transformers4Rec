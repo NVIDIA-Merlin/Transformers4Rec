{
 "cells": [
  {
   "cell_type": "code",
   "execution_count": 1,
   "id": "0fb18ebc",
   "metadata": {},
   "outputs": [],
   "source": [
    "# Copyright 2022 NVIDIA Corporation. All Rights Reserved.\n",
    "#\n",
    "# Licensed under the Apache License, Version 2.0 (the \"License\");\n",
    "# you may not use this file except in compliance with the License.\n",
    "# You may obtain a copy of the License at\n",
    "#\n",
    "#     http://www.apache.org/licenses/LICENSE-2.0\n",
    "#\n",
    "# Unless required by applicable law or agreed to in writing, software\n",
    "# distributed under the License is distributed on an \"AS IS\" BASIS,\n",
    "# WITHOUT WARRANTIES OR CONDITIONS OF ANY KIND, either express or implied.\n",
    "# See the License for the specific language governing permissions and\n",
    "# limitations under the License.\n",
    "# ==============================================================================\n",
    "\n",
    "# Each user is responsible for checking the content of datasets and the\n",
    "# applicable licenses and determining if suitable for the intended use."
   ]
  },
  {
   "cell_type": "markdown",
   "id": "378ff149",
   "metadata": {
    "tags": []
   },
   "source": [
    "<img src=\"https://developer.download.nvidia.com/notebooks/dlsw-notebooks/merlin_transformers4rec_end-to-end-session-based-02-end-to-end-session-based-with-yoochoose-pyt/nvidia_logo.png\" style=\"width: 90px; float: right;\">\n",
    "\n",
    "# End-to-end session-based recommendations with PyTorch"
   ]
  },
  {
   "cell_type": "markdown",
   "id": "fe975de6",
   "metadata": {},
   "source": [
    "In recent years, several deep learning-based algorithms have been proposed for recommendation systems while its adoption in industry deployments have been steeply growing. In particular, NLP inspired approaches have been successfully adapted for sequential and session-based recommendation problems, which are important for many domains like e-commerce, news and streaming media. Session-Based Recommender Systems (SBRS) have been proposed to model the sequence of interactions within the current user session, where a session is a short sequence of user interactions typically bounded by user inactivity. They have recently gained popularity due to their ability to capture short-term or contextual user preferences towards items. \n",
    "\n",
    "The field of NLP has evolved significantly within the last decade, particularly due to the increased usage of deep learning. As a result, state of the art NLP approaches have inspired RecSys practitioners and researchers to adapt those architectures, especially for sequential and session-based recommendation problems. Here, we leverage one of the state-of-the-art Transformer-based architecture, [XLNet](https://arxiv.org/abs/1906.08237) with Masked Language Modeling (MLM) training technique (see our [tutorial](https://github.com/NVIDIA-Merlin/Transformers4Rec/tree/main/examples/tutorial) for details) for training a session-based model.\n",
    "\n",
    "In this end-to-end-session-based recommnender model example, we use `Transformers4Rec` library, which leverages the popular [HuggingFace’s Transformers](https://github.com/huggingface/transformers) NLP library and make it possible to experiment with cutting-edge implementation of such architectures for sequential and session-based recommendation problems. For detailed explanations of the building blocks of Transformers4Rec meta-architecture visit [getting-started-session-based](https://github.com/NVIDIA-Merlin/Transformers4Rec/tree/main/examples/getting-started-session-based) and [tutorial](https://github.com/NVIDIA-Merlin/Transformers4Rec/tree/main/examples/tutorial) example notebooks."
   ]
  },
  {
   "cell_type": "markdown",
   "id": "e7516d46",
   "metadata": {},
   "source": [
    "## 1. Model definition using Transformers4Rec"
   ]
  },
  {
   "cell_type": "markdown",
   "id": "d8642b00",
   "metadata": {},
   "source": [
    "In the previous notebook, we have created sequential features and saved our processed data frames as parquet files. Now we use these processed parquet files to train a session-based recommendation model with the XLNet architecture."
   ]
  },
  {
   "cell_type": "markdown",
   "id": "34bc0fdb",
   "metadata": {},
   "source": [
    "### 1.1 Get the schema "
   ]
  },
  {
   "cell_type": "markdown",
   "id": "78d52653",
   "metadata": {},
   "source": [
    "The library uses a schema format to configure the input features and automatically creates the necessary layers. This *protobuf* text file contains the description of each input feature by defining: the name, the type, the number of elements of a list column,  the cardinality of a categorical feature and the min and max values of each feature. In addition, the annotation field contains the tags such as specifying the `continuous` and `categorical` features, the `target` column or the `item_id` feature, among others."
   ]
  },
  {
   "cell_type": "markdown",
   "id": "83162988-58c7-45b2-9be2-a1039a786553",
   "metadata": {},
   "source": [
    "We create the schema object by reading the processed train parquet file generated by NVTabular pipeline in the previous, 01-ETL-with-NVTabular, notebook."
   ]
  },
  {
   "cell_type": "code",
   "execution_count": 2,
   "id": "bdc53326-860b-4cc3-b465-9cf6d4586c53",
   "metadata": {},
   "outputs": [],
   "source": [
    "import os\n",
    "INPUT_DATA_DIR = os.environ.get(\"INPUT_DATA_DIR\", \"/workspace/data\")\n",
    "OUTPUT_DIR = os.environ.get(\"OUTPUT_DIR\", f\"{INPUT_DATA_DIR}/preproc_sessions_by_day\")"
   ]
  },
  {
   "cell_type": "code",
   "execution_count": 3,
   "id": "c80c3dd1-7390-46b1-97ba-0768b95502ad",
   "metadata": {},
   "outputs": [
    {
     "name": "stderr",
     "output_type": "stream",
     "text": [
      "/usr/local/lib/python3.8/dist-packages/merlin/dtypes/mappings/tf.py:52: UserWarning: Tensorflow dtype mappings did not load successfully due to an error: No module named 'tensorflow'\n",
      "  warn(f\"Tensorflow dtype mappings did not load successfully due to an error: {exc.msg}\")\n",
      "/usr/local/lib/python3.8/dist-packages/tqdm/auto.py:21: TqdmWarning: IProgress not found. Please update jupyter and ipywidgets. See https://ipywidgets.readthedocs.io/en/stable/user_install.html\n",
      "  from .autonotebook import tqdm as notebook_tqdm\n",
      "/usr/local/lib/python3.8/dist-packages/merlin/schema/tags.py:149: UserWarning: Compound tags like Tags.ITEM_ID have been deprecated and will be removed in a future version. Please use the atomic versions of these tags, like [<Tags.ITEM: 'item'>, <Tags.ID: 'id'>].\n",
      "  warnings.warn(\n"
     ]
    }
   ],
   "source": [
    "from merlin.schema import Schema\n",
    "from merlin.io import Dataset\n",
    "\n",
    "train = Dataset(os.path.join(INPUT_DATA_DIR, \"processed_nvt/part_0.parquet\"))\n",
    "schema = train.schema"
   ]
  },
  {
   "cell_type": "markdown",
   "id": "7ab6407d",
   "metadata": {},
   "source": [
    "We can select the subset of features we want to use for training the model by their tags or their names."
   ]
  },
  {
   "cell_type": "code",
   "execution_count": 4,
   "id": "f2a57f70",
   "metadata": {},
   "outputs": [],
   "source": [
    "schema = schema.select_by_name(\n",
    "   ['item_id-list', 'category-list', 'product_recency_days_log_norm-list', 'et_dayofweek_sin-list']\n",
    ")"
   ]
  },
  {
   "cell_type": "markdown",
   "id": "eaba9e00-23cc-49fb-9c57-1ec4f2a7c7eb",
   "metadata": {},
   "source": [
    "We can print out the schema."
   ]
  },
  {
   "cell_type": "code",
   "execution_count": 5,
   "id": "25fc2490-1daa-43f7-a052-1eb0d262bd5c",
   "metadata": {
    "tags": []
   },
   "outputs": [
    {
     "data": {
      "text/html": [
       "<div>\n",
       "<style scoped>\n",
       "    .dataframe tbody tr th:only-of-type {\n",
       "        vertical-align: middle;\n",
       "    }\n",
       "\n",
       "    .dataframe tbody tr th {\n",
       "        vertical-align: top;\n",
       "    }\n",
       "\n",
       "    .dataframe thead th {\n",
       "        text-align: right;\n",
       "    }\n",
       "</style>\n",
       "<table border=\"1\" class=\"dataframe\">\n",
       "  <thead>\n",
       "    <tr style=\"text-align: right;\">\n",
       "      <th></th>\n",
       "      <th>name</th>\n",
       "      <th>tags</th>\n",
       "      <th>dtype</th>\n",
       "      <th>is_list</th>\n",
       "      <th>is_ragged</th>\n",
       "      <th>properties.num_buckets</th>\n",
       "      <th>properties.freq_threshold</th>\n",
       "      <th>properties.max_size</th>\n",
       "      <th>properties.start_index</th>\n",
       "      <th>properties.cat_path</th>\n",
       "      <th>properties.embedding_sizes.cardinality</th>\n",
       "      <th>properties.embedding_sizes.dimension</th>\n",
       "      <th>properties.domain.min</th>\n",
       "      <th>properties.domain.max</th>\n",
       "      <th>properties.domain.name</th>\n",
       "      <th>properties.value_count.min</th>\n",
       "      <th>properties.value_count.max</th>\n",
       "    </tr>\n",
       "  </thead>\n",
       "  <tbody>\n",
       "    <tr>\n",
       "      <th>0</th>\n",
       "      <td>item_id-list</td>\n",
       "      <td>(Tags.ITEM_ID, Tags.CATEGORICAL, Tags.ID, Tags...</td>\n",
       "      <td>DType(name='int64', element_type=&lt;ElementType....</td>\n",
       "      <td>True</td>\n",
       "      <td>True</td>\n",
       "      <td>NaN</td>\n",
       "      <td>0.0</td>\n",
       "      <td>0.0</td>\n",
       "      <td>1.0</td>\n",
       "      <td>.//categories/unique.item_id.parquet</td>\n",
       "      <td>52741.0</td>\n",
       "      <td>512.0</td>\n",
       "      <td>0.0</td>\n",
       "      <td>52740.0</td>\n",
       "      <td>item_id</td>\n",
       "      <td>0</td>\n",
       "      <td>20</td>\n",
       "    </tr>\n",
       "    <tr>\n",
       "      <th>1</th>\n",
       "      <td>category-list</td>\n",
       "      <td>(Tags.CATEGORICAL, Tags.LIST)</td>\n",
       "      <td>DType(name='int64', element_type=&lt;ElementType....</td>\n",
       "      <td>True</td>\n",
       "      <td>True</td>\n",
       "      <td>NaN</td>\n",
       "      <td>0.0</td>\n",
       "      <td>0.0</td>\n",
       "      <td>1.0</td>\n",
       "      <td>.//categories/unique.category.parquet</td>\n",
       "      <td>336.0</td>\n",
       "      <td>42.0</td>\n",
       "      <td>0.0</td>\n",
       "      <td>335.0</td>\n",
       "      <td>category</td>\n",
       "      <td>0</td>\n",
       "      <td>20</td>\n",
       "    </tr>\n",
       "    <tr>\n",
       "      <th>2</th>\n",
       "      <td>product_recency_days_log_norm-list</td>\n",
       "      <td>(Tags.LIST, Tags.CONTINUOUS)</td>\n",
       "      <td>DType(name='float32', element_type=&lt;ElementTyp...</td>\n",
       "      <td>True</td>\n",
       "      <td>True</td>\n",
       "      <td>NaN</td>\n",
       "      <td>NaN</td>\n",
       "      <td>NaN</td>\n",
       "      <td>NaN</td>\n",
       "      <td>NaN</td>\n",
       "      <td>NaN</td>\n",
       "      <td>NaN</td>\n",
       "      <td>NaN</td>\n",
       "      <td>NaN</td>\n",
       "      <td>NaN</td>\n",
       "      <td>0</td>\n",
       "      <td>20</td>\n",
       "    </tr>\n",
       "    <tr>\n",
       "      <th>3</th>\n",
       "      <td>et_dayofweek_sin-list</td>\n",
       "      <td>(Tags.LIST, Tags.CONTINUOUS)</td>\n",
       "      <td>DType(name='float32', element_type=&lt;ElementTyp...</td>\n",
       "      <td>True</td>\n",
       "      <td>True</td>\n",
       "      <td>NaN</td>\n",
       "      <td>NaN</td>\n",
       "      <td>NaN</td>\n",
       "      <td>NaN</td>\n",
       "      <td>NaN</td>\n",
       "      <td>NaN</td>\n",
       "      <td>NaN</td>\n",
       "      <td>NaN</td>\n",
       "      <td>NaN</td>\n",
       "      <td>NaN</td>\n",
       "      <td>0</td>\n",
       "      <td>20</td>\n",
       "    </tr>\n",
       "  </tbody>\n",
       "</table>\n",
       "</div>"
      ],
      "text/plain": [
       "[{'name': 'item_id-list', 'tags': {<Tags.ITEM_ID: 'item_id'>, <Tags.CATEGORICAL: 'categorical'>, <Tags.ID: 'id'>, <Tags.LIST: 'list'>, <Tags.ITEM: 'item'>}, 'properties': {'num_buckets': None, 'freq_threshold': 0.0, 'max_size': 0.0, 'start_index': 1.0, 'cat_path': './/categories/unique.item_id.parquet', 'embedding_sizes': {'cardinality': 52741.0, 'dimension': 512.0}, 'domain': {'min': 0, 'max': 52740, 'name': 'item_id'}, 'value_count': {'min': 0, 'max': 20}}, 'dtype': DType(name='int64', element_type=<ElementType.Int: 'int'>, element_size=64, element_unit=None, signed=True, shape=Shape(dims=(Dimension(min=0, max=None), Dimension(min=0, max=20)))), 'is_list': True, 'is_ragged': True}, {'name': 'category-list', 'tags': {<Tags.CATEGORICAL: 'categorical'>, <Tags.LIST: 'list'>}, 'properties': {'num_buckets': None, 'freq_threshold': 0.0, 'max_size': 0.0, 'start_index': 1.0, 'cat_path': './/categories/unique.category.parquet', 'embedding_sizes': {'cardinality': 336.0, 'dimension': 42.0}, 'domain': {'min': 0, 'max': 335, 'name': 'category'}, 'value_count': {'min': 0, 'max': 20}}, 'dtype': DType(name='int64', element_type=<ElementType.Int: 'int'>, element_size=64, element_unit=None, signed=True, shape=Shape(dims=(Dimension(min=0, max=None), Dimension(min=0, max=20)))), 'is_list': True, 'is_ragged': True}, {'name': 'product_recency_days_log_norm-list', 'tags': {<Tags.LIST: 'list'>, <Tags.CONTINUOUS: 'continuous'>}, 'properties': {'value_count': {'min': 0, 'max': 20}}, 'dtype': DType(name='float32', element_type=<ElementType.Float: 'float'>, element_size=32, element_unit=None, signed=True, shape=Shape(dims=(Dimension(min=0, max=None), Dimension(min=0, max=20)))), 'is_list': True, 'is_ragged': True}, {'name': 'et_dayofweek_sin-list', 'tags': {<Tags.LIST: 'list'>, <Tags.CONTINUOUS: 'continuous'>}, 'properties': {'value_count': {'min': 0, 'max': 20}}, 'dtype': DType(name='float32', element_type=<ElementType.Float: 'float'>, element_size=32, element_unit=None, signed=True, shape=Shape(dims=(Dimension(min=0, max=None), Dimension(min=0, max=20)))), 'is_list': True, 'is_ragged': True}]"
      ]
     },
     "execution_count": 5,
     "metadata": {},
     "output_type": "execute_result"
    }
   ],
   "source": [
    "schema"
   ]
  },
  {
   "cell_type": "markdown",
   "id": "c79ca4c0",
   "metadata": {},
   "source": [
    "### 1.2 Define the end-to-end Session-based Transformer-based recommendation model"
   ]
  },
  {
   "cell_type": "markdown",
   "id": "2e74ac27",
   "metadata": {
    "tags": []
   },
   "source": [
    "For defining a session-based recommendation model, the end-to-end model definition requires four steps:\n",
    "\n",
    "1. Instantiate [TabularSequenceFeatures](https://nvidia-merlin.github.io/Transformers4Rec/main/api/transformers4rec.tf.features.html?highlight=tabularsequence#transformers4rec.tf.features.sequence.TabularSequenceFeatures) input-module from schema to prepare the embedding tables of categorical variables and project continuous features, if specified. In addition, the module provides different aggregation methods (e.g. 'concat', 'elementwise-sum') to merge input features and generate the sequence of interactions embeddings. The module also supports language modeling tasks to prepare masked labels for training and evaluation (e.g: 'mlm' for masked language modeling) \n",
    "\n",
    "2. Next, we need to define one or multiple prediction tasks. For this demo, we are going to use [NextItemPredictionTask](https://nvidia-merlin.github.io/Transformers4Rec/main/api/transformers4rec.tf.model.html?highlight=nextitem#transformers4rec.tf.model.prediction_task.NextItemPredictionTask) with `Masked Language modeling`: during training, randomly selected items are masked and predicted using the unmasked sequence items. For inference, it is meant to always predict the next item to be interacted with.\n",
    "\n",
    "3. Then we construct a `transformer_config` based on the architectures provided by [Hugging Face Transformers](https://github.com/huggingface/transformers) framework. </a>\n",
    "\n",
    "4. Finally we link the transformer-body to the inputs and the prediction tasks to get the final pytorch `Model` class.\n",
    "    \n",
    "For more details about the features supported by each sub-module, please check out the library [documentation](https://nvidia-merlin.github.io/Transformers4Rec/main/index.html) page."
   ]
  },
  {
   "cell_type": "code",
   "execution_count": 6,
   "id": "d79c0e1b",
   "metadata": {
    "tags": []
   },
   "outputs": [
    {
     "name": "stderr",
     "output_type": "stream",
     "text": [
      "Projecting inputs of NextItemPredictionTask to'64' As weight tying requires the input dimension '320' to be equal to the item-id embedding dimension '64'\n"
     ]
    }
   ],
   "source": [
    "from transformers4rec import torch as tr\n",
    "\n",
    "max_sequence_length, d_model = 20, 320\n",
    "# Define input module to process tabular input-features and to prepare masked inputs\n",
    "input_module = tr.TabularSequenceFeatures.from_schema(\n",
    "    schema,\n",
    "    max_sequence_length=max_sequence_length,\n",
    "    continuous_projection=64,\n",
    "    aggregation=\"concat\",\n",
    "    d_output=d_model,\n",
    "    masking=\"mlm\",\n",
    ")\n",
    "\n",
    "# Define Next item prediction-task \n",
    "prediction_task = tr.NextItemPredictionTask(weight_tying=True)\n",
    "\n",
    "# Define the config of the XLNet Transformer architecture\n",
    "transformer_config = tr.XLNetConfig.build(\n",
    "    d_model=d_model, n_head=8, n_layer=2, total_seq_length=max_sequence_length\n",
    ")\n",
    "\n",
    "# Get the end-to-end model \n",
    "model = transformer_config.to_torch_model(input_module, prediction_task)"
   ]
  },
  {
   "cell_type": "markdown",
   "id": "847757ca-3c91-4504-b9dc-29127563da01",
   "metadata": {},
   "source": [
    "You can print out the model structure by uncommenting the line below."
   ]
  },
  {
   "cell_type": "code",
   "execution_count": 7,
   "id": "d9d4a3f7-f495-4504-bfe1-94f1a6cc8328",
   "metadata": {
    "tags": []
   },
   "outputs": [],
   "source": [
    "#model"
   ]
  },
  {
   "cell_type": "markdown",
   "id": "12fa0aa0",
   "metadata": {},
   "source": [
    "### 1.3. Daily Fine-Tuning: Training over a time window¶"
   ]
  },
  {
   "cell_type": "markdown",
   "id": "fdecb72a",
   "metadata": {},
   "source": [
    "Now that the model is defined, we are going to launch training. For that, Transfromers4rec extends HF Transformers Trainer class to adapt the evaluation loop for session-based recommendation task and the calculation of ranking metrics. The original `train()` method is not modified meaning that we leverage the efficient training implementation from that library, which manages, for example, half-precision (FP16) training."
   ]
  },
  {
   "cell_type": "markdown",
   "id": "e6186d69",
   "metadata": {},
   "source": [
    "#### Set the training arguments"
   ]
  },
  {
   "cell_type": "markdown",
   "id": "818197e2",
   "metadata": {},
   "source": [
    "An additional argument `data_loader_engine` is defined to automatically load the features needed for training using the schema. The default value is `merlin` for optimized GPU-based data-loading.  Optionally a `PyarrowDataLoader` (`pyarrow`) can also be used as a basic option, but it is slower and works only for small datasets, as the full data is loaded to CPU memory."
   ]
  },
  {
   "cell_type": "code",
   "execution_count": 8,
   "id": "8fec3739",
   "metadata": {
    "tags": []
   },
   "outputs": [],
   "source": [
    "training_args = tr.trainer.T4RecTrainingArguments(\n",
    "            output_dir=\"./tmp\",\n",
    "            max_sequence_length=20,\n",
    "            data_loader_engine='merlin',\n",
    "            num_train_epochs=10, \n",
    "            dataloader_drop_last=False,\n",
    "            per_device_train_batch_size = 384,\n",
    "            per_device_eval_batch_size = 512,\n",
    "            learning_rate=0.0005,\n",
    "            fp16=True,\n",
    "            report_to = [],\n",
    "            logging_steps=200\n",
    "        )"
   ]
  },
  {
   "cell_type": "markdown",
   "id": "836df805",
   "metadata": {},
   "source": [
    "#### Instantiate the trainer"
   ]
  },
  {
   "cell_type": "code",
   "execution_count": 9,
   "id": "3e707cb8",
   "metadata": {
    "tags": []
   },
   "outputs": [
    {
     "name": "stderr",
     "output_type": "stream",
     "text": [
      "Using amp fp16 backend\n"
     ]
    }
   ],
   "source": [
    "recsys_trainer = tr.Trainer(\n",
    "    model=model,\n",
    "    args=training_args,\n",
    "    schema=schema,\n",
    "    compute_metrics=True)"
   ]
  },
  {
   "cell_type": "markdown",
   "id": "f116800b",
   "metadata": {},
   "source": [
    "#### Launch daily training and evaluation"
   ]
  },
  {
   "cell_type": "markdown",
   "id": "709592a2",
   "metadata": {},
   "source": [
    "In this demo, we will use the `fit_and_evaluate` method that allows us to conduct a time-based finetuning by iteratively training and evaluating using a sliding time window: At each iteration, we use the training data of a specific time index $t$ to train the model; then we evaluate on the validation data of the next index $t + 1$. Particularly, we set start time to 178 and end time to 180."
   ]
  },
  {
   "cell_type": "code",
   "execution_count": 10,
   "id": "85be5b12",
   "metadata": {
    "tags": []
   },
   "outputs": [
    {
     "name": "stderr",
     "output_type": "stream",
     "text": [
      "***** Running training *****\n",
      "  Num examples = 28800\n",
      "  Num Epochs = 10\n",
      "  Instantaneous batch size per device = 384\n",
      "  Total train batch size (w. parallel, distributed & accumulation) = 384\n",
      "  Gradient Accumulation steps = 1\n",
      "  Total optimization steps = 750\n"
     ]
    },
    {
     "name": "stdout",
     "output_type": "stream",
     "text": [
      "\n",
      "***** Launch training for day 178: *****\n"
     ]
    },
    {
     "data": {
      "text/html": [
       "\n",
       "    <div>\n",
       "\n",
       "      <progress value='750' max='750' style='width:300px; height:20px; vertical-align: middle;'></progress>\n",
       "      [750/750 00:20, Epoch 10/10]\n",
       "    </div>\n",
       "    <table border=\"1\" class=\"dataframe\">\n",
       "  <thead>\n",
       "    <tr style=\"text-align: left;\">\n",
       "      <th>Step</th>\n",
       "      <th>Training Loss</th>\n",
       "    </tr>\n",
       "  </thead>\n",
       "  <tbody>\n",
       "    <tr>\n",
       "      <td>200</td>\n",
       "      <td>7.681100</td>\n",
       "    </tr>\n",
       "    <tr>\n",
       "      <td>400</td>\n",
       "      <td>6.656800</td>\n",
       "    </tr>\n",
       "    <tr>\n",
       "      <td>600</td>\n",
       "      <td>6.372000</td>\n",
       "    </tr>\n",
       "  </tbody>\n",
       "</table><p>"
      ],
      "text/plain": [
       "<IPython.core.display.HTML object>"
      ]
     },
     "metadata": {},
     "output_type": "display_data"
    },
    {
     "name": "stderr",
     "output_type": "stream",
     "text": [
      "Saving model checkpoint to ./tmp/checkpoint-500\n",
      "Trainer.model is not a `PreTrainedModel`, only saving its state dict.\n",
      "\n",
      "\n",
      "Training completed. Do not forget to share your model on huggingface.co/models =)\n",
      "\n",
      "\n"
     ]
    },
    {
     "data": {
      "text/html": [
       "\n",
       "<div>\n",
       "\n",
       "  <progress value='14' max='6' style='width:300px; height:20px; vertical-align: middle;'></progress>\n",
       "  [6/6 00:27]\n",
       "</div>\n"
      ],
      "text/plain": [
       "<IPython.core.display.HTML object>"
      ]
     },
     "metadata": {},
     "output_type": "display_data"
    },
    {
     "name": "stderr",
     "output_type": "stream",
     "text": [
      "***** Running training *****\n",
      "  Num examples = 20736\n",
      "  Num Epochs = 10\n",
      "  Instantaneous batch size per device = 384\n",
      "  Total train batch size (w. parallel, distributed & accumulation) = 384\n",
      "  Gradient Accumulation steps = 1\n",
      "  Total optimization steps = 540\n"
     ]
    },
    {
     "name": "stdout",
     "output_type": "stream",
     "text": [
      "\n",
      "***** Evaluation results for day 179:*****\n",
      "\n",
      " eval_/next-item/avg_precision@10 = 0.08119537681341171\n",
      " eval_/next-item/avg_precision@20 = 0.0857219472527504\n",
      " eval_/next-item/ndcg@10 = 0.11199340969324112\n",
      " eval_/next-item/ndcg@20 = 0.12857995927333832\n",
      " eval_/next-item/recall@10 = 0.20809248089790344\n",
      " eval_/next-item/recall@20 = 0.27398842573165894\n",
      "\n",
      "***** Launch training for day 179: *****\n"
     ]
    },
    {
     "data": {
      "text/html": [
       "\n",
       "    <div>\n",
       "\n",
       "      <progress value='540' max='540' style='width:300px; height:20px; vertical-align: middle;'></progress>\n",
       "      [540/540 00:14, Epoch 10/10]\n",
       "    </div>\n",
       "    <table border=\"1\" class=\"dataframe\">\n",
       "  <thead>\n",
       "    <tr style=\"text-align: left;\">\n",
       "      <th>Step</th>\n",
       "      <th>Training Loss</th>\n",
       "    </tr>\n",
       "  </thead>\n",
       "  <tbody>\n",
       "    <tr>\n",
       "      <td>200</td>\n",
       "      <td>6.805900</td>\n",
       "    </tr>\n",
       "    <tr>\n",
       "      <td>400</td>\n",
       "      <td>6.250300</td>\n",
       "    </tr>\n",
       "  </tbody>\n",
       "</table><p>"
      ],
      "text/plain": [
       "<IPython.core.display.HTML object>"
      ]
     },
     "metadata": {},
     "output_type": "display_data"
    },
    {
     "name": "stderr",
     "output_type": "stream",
     "text": [
      "Saving model checkpoint to ./tmp/checkpoint-500\n",
      "Trainer.model is not a `PreTrainedModel`, only saving its state dict.\n",
      "\n",
      "\n",
      "Training completed. Do not forget to share your model on huggingface.co/models =)\n",
      "\n",
      "\n",
      "***** Running training *****\n",
      "  Num examples = 16896\n",
      "  Num Epochs = 10\n",
      "  Instantaneous batch size per device = 384\n",
      "  Total train batch size (w. parallel, distributed & accumulation) = 384\n",
      "  Gradient Accumulation steps = 1\n",
      "  Total optimization steps = 440\n"
     ]
    },
    {
     "name": "stdout",
     "output_type": "stream",
     "text": [
      "\n",
      "***** Evaluation results for day 180:*****\n",
      "\n",
      " eval_/next-item/avg_precision@10 = 0.06664632260799408\n",
      " eval_/next-item/avg_precision@20 = 0.07125943899154663\n",
      " eval_/next-item/ndcg@10 = 0.09318044036626816\n",
      " eval_/next-item/ndcg@20 = 0.110211081802845\n",
      " eval_/next-item/recall@10 = 0.17855477333068848\n",
      " eval_/next-item/recall@20 = 0.24568764865398407\n",
      "\n",
      "***** Launch training for day 180: *****\n"
     ]
    },
    {
     "data": {
      "text/html": [
       "\n",
       "    <div>\n",
       "\n",
       "      <progress value='440' max='440' style='width:300px; height:20px; vertical-align: middle;'></progress>\n",
       "      [440/440 00:12, Epoch 10/10]\n",
       "    </div>\n",
       "    <table border=\"1\" class=\"dataframe\">\n",
       "  <thead>\n",
       "    <tr style=\"text-align: left;\">\n",
       "      <th>Step</th>\n",
       "      <th>Training Loss</th>\n",
       "    </tr>\n",
       "  </thead>\n",
       "  <tbody>\n",
       "    <tr>\n",
       "      <td>200</td>\n",
       "      <td>6.608300</td>\n",
       "    </tr>\n",
       "    <tr>\n",
       "      <td>400</td>\n",
       "      <td>6.030500</td>\n",
       "    </tr>\n",
       "  </tbody>\n",
       "</table><p>"
      ],
      "text/plain": [
       "<IPython.core.display.HTML object>"
      ]
     },
     "metadata": {},
     "output_type": "display_data"
    },
    {
     "name": "stderr",
     "output_type": "stream",
     "text": [
      "\n",
      "\n",
      "Training completed. Do not forget to share your model on huggingface.co/models =)\n",
      "\n",
      "\n"
     ]
    },
    {
     "name": "stdout",
     "output_type": "stream",
     "text": [
      "\n",
      "***** Evaluation results for day 181:*****\n",
      "\n",
      " eval_/next-item/avg_precision@10 = 0.13680869340896606\n",
      " eval_/next-item/avg_precision@20 = 0.14374792575836182\n",
      " eval_/next-item/ndcg@10 = 0.18158714473247528\n",
      " eval_/next-item/ndcg@20 = 0.2070869356393814\n",
      " eval_/next-item/recall@10 = 0.3181818127632141\n",
      " eval_/next-item/recall@20 = 0.4202226400375366\n"
     ]
    }
   ],
   "source": [
    "from transformers4rec.torch.utils.examples_utils import fit_and_evaluate\n",
    "OT_results = fit_and_evaluate(recsys_trainer, start_time_index=178, end_time_index=180, input_dir=OUTPUT_DIR)"
   ]
  },
  {
   "cell_type": "markdown",
   "id": "25c0aeb3",
   "metadata": {
    "tags": []
   },
   "source": [
    "#### Visualize the average of metrics over time"
   ]
  },
  {
   "cell_type": "markdown",
   "id": "93aaace3",
   "metadata": {},
   "source": [
    "`OT_results` is a list of scores (accuracy metrics) for evaluation based on given start and end time_index. Since in this example we do evaluation on days 179, 180 and 181, we get three metrics in the list one for each day."
   ]
  },
  {
   "cell_type": "code",
   "execution_count": 11,
   "id": "7c90423f",
   "metadata": {
    "tags": []
   },
   "outputs": [
    {
     "data": {
      "text/plain": [
       "{'indexed_by_time_eval_/next-item/avg_precision@10': [0.08119537681341171,\n",
       "  0.06664632260799408,\n",
       "  0.13680869340896606],\n",
       " 'indexed_by_time_eval_/next-item/avg_precision@20': [0.0857219472527504,\n",
       "  0.07125943899154663,\n",
       "  0.14374792575836182],\n",
       " 'indexed_by_time_eval_/next-item/ndcg@10': [0.11199340969324112,\n",
       "  0.09318044036626816,\n",
       "  0.18158714473247528],\n",
       " 'indexed_by_time_eval_/next-item/ndcg@20': [0.12857995927333832,\n",
       "  0.110211081802845,\n",
       "  0.2070869356393814],\n",
       " 'indexed_by_time_eval_/next-item/recall@10': [0.20809248089790344,\n",
       "  0.17855477333068848,\n",
       "  0.3181818127632141],\n",
       " 'indexed_by_time_eval_/next-item/recall@20': [0.27398842573165894,\n",
       "  0.24568764865398407,\n",
       "  0.4202226400375366]}"
      ]
     },
     "execution_count": 11,
     "metadata": {},
     "output_type": "execute_result"
    }
   ],
   "source": [
    "OT_results"
   ]
  },
  {
   "cell_type": "code",
   "execution_count": 12,
   "id": "6eaf2040",
   "metadata": {
    "tags": []
   },
   "outputs": [
    {
     "name": "stdout",
     "output_type": "stream",
     "text": [
      " indexed_by_time_eval_/next-item/avg_precision@10 = 0.09488346427679062\n",
      " indexed_by_time_eval_/next-item/avg_precision@20 = 0.10024310400088628\n",
      " indexed_by_time_eval_/next-item/ndcg@10 = 0.12892033159732819\n",
      " indexed_by_time_eval_/next-item/ndcg@20 = 0.14862599223852158\n",
      " indexed_by_time_eval_/next-item/recall@10 = 0.23494302233060202\n",
      " indexed_by_time_eval_/next-item/recall@20 = 0.3132995714743932\n"
     ]
    }
   ],
   "source": [
    "import numpy as np\n",
    "# take the average of metric values over time\n",
    "avg_results = {k: np.mean(v) for k,v in OT_results.items()}\n",
    "for key in sorted(avg_results.keys()): \n",
    "    print(\" %s = %s\" % (key, str(avg_results[key]))) "
   ]
  },
  {
   "cell_type": "markdown",
   "id": "51feee51",
   "metadata": {},
   "source": [
    "#### Trace the model\n",
    "\n",
    "We serve the model with the PyTorch backend that is used to execute TorchScript models. All models created in PyTorch using the python API must be traced/scripted to produce a TorchScript model. For tracing the model, we use [torch.jit.trace](https://pytorch.org/docs/stable/generated/torch.jit.trace.html) api that takes the model as a Python function or torch.nn.Module, and an example input  that will be passed to the function while tracing."
   ]
  },
  {
   "cell_type": "code",
   "execution_count": 13,
   "id": "8939fd41",
   "metadata": {},
   "outputs": [],
   "source": [
    "import os\n",
    "import torch\n",
    "import cudf\n",
    "from merlin.io import Dataset\n",
    "from nvtabular import Workflow\n",
    "\n",
    "from merlin.systems.dag import Ensemble\n",
    "from merlin.systems.dag.ops.pytorch import PredictPyTorch\n",
    "from merlin.systems.dag.ops.workflow import TransformWorkflow\n",
    "from merlin.table import TensorTable, TorchColumn\n",
    "from merlin.table.conversions import convert_col"
   ]
  },
  {
   "cell_type": "markdown",
   "id": "42bebd77",
   "metadata": {},
   "source": [
    "Create a dict of tensors to feed it as example inputs in the `torch.jit.trace()`."
   ]
  },
  {
   "cell_type": "code",
   "execution_count": 14,
   "id": "0b668889",
   "metadata": {},
   "outputs": [],
   "source": [
    "df = cudf.read_parquet(os.path.join(INPUT_DATA_DIR, \"./preproc_sessions_by_day/178/train.parquet\"), columns=model.input_schema.column_names)\n",
    "table = TensorTable.from_df(df.iloc[:100])\n",
    "for column in table.columns:\n",
    "    table[column] = convert_col(table[column], TorchColumn)\n",
    "model_input_dict = table.to_dict()"
   ]
  },
  {
   "cell_type": "markdown",
   "id": "f96c4d8d",
   "metadata": {},
   "source": [
    "Let's now add a top_k parameter to model so that we can return the top k item ids with the highest scores when we serve the model on Triton Inference Server."
   ]
  },
  {
   "cell_type": "code",
   "execution_count": 15,
   "id": "4a81b2e8",
   "metadata": {},
   "outputs": [],
   "source": [
    "model.top_k = 20"
   ]
  },
  {
   "cell_type": "markdown",
   "id": "75fa9c78",
   "metadata": {},
   "source": [
    "Let us now trace the model."
   ]
  },
  {
   "cell_type": "code",
   "execution_count": 16,
   "id": "3158138f",
   "metadata": {
    "scrolled": false
   },
   "outputs": [],
   "source": [
    "model.eval()\n",
    "traced_model = torch.jit.trace(model, model_input_dict, strict=True)"
   ]
  },
  {
   "cell_type": "markdown",
   "id": "a6978d13",
   "metadata": {},
   "source": [
    "Let's check out the `item_id-list` column in the `model_input_dict` dictionary.\n",
    "\n",
    "The column is represented as values and offsets dictating which values belong to which example."
   ]
  },
  {
   "cell_type": "code",
   "execution_count": 17,
   "id": "073f527b",
   "metadata": {},
   "outputs": [
    {
     "data": {
      "text/plain": [
       "tensor([  604,   878,   742,    90,  4777,  1583,  3446,  8083,  3446,  4018,\n",
       "          742,  4777,   184, 12288,  2065,   430,     6,    30,     6,   157,\n",
       "         1987,  2590, 10855,  8217,  4210,  8711,  4242,    81,   112,  4242,\n",
       "         5732,  6810,    33,     6,    73,   664,  2312,  7124,  9113,   445,\n",
       "         1157,   774,   685,   430,  1945,   475,   597,   289,   166,    29,\n",
       "          342,   289,    33,   423,   166,   480,  2772,   288,   962,  4001,\n",
       "         2050,  3274,   499,  1219,   395,  1636, 11839, 10714, 11107,   289,\n",
       "          166,   650,  1085,   302,    88,   650,   214,   304,   177,   317,\n",
       "          423,     6,  3818,   931,  2186,  1085,   206,   687,  3831,   687,\n",
       "          202,    20,    43,    20,  2034, 10457,    20,    21,  1126,  2815,\n",
       "         4210, 34264,   830,   774,   620,  2050,  1987,  1079,  4713,  1336,\n",
       "          661,   289,   430,   863,  4829,  5786, 19156, 17270, 23365,  4209,\n",
       "         3651,  1037,  4770,   224,   277,  1020,   650,   166,  1354,   206,\n",
       "         1889,  2473,  1697,   997,   480,   774,  3841,  4316,  3841,  1230,\n",
       "         3841,  1697,  3809,   475,   981,   804,   313,   613,  1219,  1334,\n",
       "         1941,  2888,  2626,  1334,  2689,   804,   475,   981,   313,   804,\n",
       "         1219,   206,   651,   429,   605,   101,   413,  1965,   627,   814,\n",
       "          627,   814,  4713,  3675,  2789,  3769,  1283,  9540,  1251,   313,\n",
       "          685,  2497,   395,   845,  3462,  2713,  5077,   388,   340,   297,\n",
       "          388,  9641,    46,    61,   822,    61,   602,  2270,   719,  3274,\n",
       "         2556,     2,    61,    24,    96,    61,   423,    61,   475,  3460,\n",
       "         2693,  3460,  3044,  2556,  3988,   992,  1603,   122,  2704,  2787,\n",
       "         3135,   550,   516,    44,  1551,  2702,   206,  1762,    31,   474,\n",
       "          481,   198,   474,  2704,  2393,  1025, 20033,    72,  1334,   224,\n",
       "         3460,  4774,  2050,  6485, 15953,   422,  1488,  2346,  4470,  2548,\n",
       "          571,  1770,  1324,   453,   837,   123,   638,  4759,  3552,  6825,\n",
       "         2740,  5347,  5390,  1169,  4100,  1230,   804,  3588,  2449,   185,\n",
       "           16,   643,   274,   686, 18092, 10457,   609,  2969,  3480,  2969,\n",
       "           37,   609,  2969,   609,    22,  8312,   257,    37,    22,  5361,\n",
       "         7186,  7380,  6052,  7256, 13404,   557,   160,  1664,  4375,  3484,\n",
       "          685,   651,   445,   429,   445,   774,   651,  4284,  1738,  3855,\n",
       "          225,   210,  7245,  6731,   771,  1987,   157,   804,   442,   804,\n",
       "         2091,  1169,  2091,  1169,  3484,  4375,  3484,   445,   429,   430,\n",
       "          423,  1697,  1393,  1798,  2753,   206,  1153, 21588,  2189,  3704,\n",
       "         4463,  5816,  7557,   507,  1797,   814,   627,  2016,   855,  1889,\n",
       "          224,   597,    37,   597, 16533, 10255,     2,  2651,  4028,  2556,\n",
       "         2788,  6379,  1830,  1070,    30,   312,   445,  1085,  1569,  2222,\n",
       "         2664,  1950,  2098,  1672,   224,  4336,   651,   997,  1157,   830,\n",
       "          800,   597,  1085, 12430,   415, 12430,   651,   800,  1756,  1378,\n",
       "         1413,   633,  2034,  7932,  6034,  6360,  4662,   576,  4662,   576,\n",
       "         4662], device='cuda:0')"
      ]
     },
     "execution_count": 17,
     "metadata": {},
     "output_type": "execute_result"
    }
   ],
   "source": [
    "model_input_dict['item_id-list__values']"
   ]
  },
  {
   "cell_type": "markdown",
   "id": "3eb2d6e8",
   "metadata": {},
   "source": [
    "And here are the offsets"
   ]
  },
  {
   "cell_type": "code",
   "execution_count": 18,
   "id": "797f95fe",
   "metadata": {},
   "outputs": [
    {
     "data": {
      "text/plain": [
       "tensor([  0,  12,  14,  16,  19,  21,  23,  26,  32,  35,  45,  47,  49,  51,\n",
       "         56,  59,  61,  66,  69,  72,  76,  78,  80,  83,  87,  91,  94,  96,\n",
       "         98, 100, 102, 104, 107, 111, 113, 122, 124, 128, 130, 133, 136, 141,\n",
       "        143, 161, 164, 167, 172, 176, 180, 182, 184, 191, 193, 196, 199, 201,\n",
       "        209, 214, 234, 237, 243, 245, 265, 267, 274, 276, 281, 289, 295, 298,\n",
       "        300, 305, 307, 312, 314, 317, 320, 324, 327, 331, 335, 337, 339, 343,\n",
       "        345, 348, 351, 354, 356, 360, 362, 364, 367, 374, 376, 381, 383, 386,\n",
       "        388, 396, 401], device='cuda:0', dtype=torch.int32)"
      ]
     },
     "execution_count": 18,
     "metadata": {},
     "output_type": "execute_result"
    }
   ],
   "source": [
    "model_input_dict['item_id-list__offsets']"
   ]
  },
  {
   "cell_type": "markdown",
   "id": "228f090b",
   "metadata": {},
   "source": [
    "Let's create a folder that we can store the exported models and the config files."
   ]
  },
  {
   "cell_type": "code",
   "execution_count": 19,
   "id": "20a93b02",
   "metadata": {},
   "outputs": [],
   "source": [
    "import shutil\n",
    "ens_model_path = os.environ.get(\"ens_model_path\", f\"{INPUT_DATA_DIR}/models\")\n",
    "# Make sure we have a clean stats space for Dask\n",
    "if os.path.isdir(ens_model_path):\n",
    "    shutil.rmtree(ens_model_path)\n",
    "os.mkdir(ens_model_path)"
   ]
  },
  {
   "cell_type": "code",
   "execution_count": 20,
   "id": "55c03a0a",
   "metadata": {},
   "outputs": [],
   "source": [
    "workflow = Workflow.load(os.path.join(INPUT_DATA_DIR, \"workflow_etl\"))"
   ]
  },
  {
   "cell_type": "code",
   "execution_count": 21,
   "id": "18eaa079",
   "metadata": {},
   "outputs": [
    {
     "name": "stderr",
     "output_type": "stream",
     "text": [
      "/usr/local/lib/python3.8/dist-packages/merlin/schema/tags.py:149: UserWarning: Compound tags like Tags.ITEM_ID have been deprecated and will be removed in a future version. Please use the atomic versions of these tags, like [<Tags.ITEM: 'item'>, <Tags.ID: 'id'>].\n",
      "  warnings.warn(\n"
     ]
    }
   ],
   "source": [
    "torch_op = workflow.input_schema.column_names >> TransformWorkflow(workflow) >> PredictPyTorch(\n",
    "    traced_model, model.input_schema, model.output_schema\n",
    ")"
   ]
  },
  {
   "cell_type": "markdown",
   "id": "8bf0fe7e",
   "metadata": {},
   "source": [
    "The last step is to create the ensemble artifacts that Triton Inference Server can consume. To make these artifacts, we import the Ensemble class. The class is responsible for interpreting the graph and exporting the correct files for the server.\n",
    "\n",
    "When we create an `Ensemble` object we supply the graph and a schema representing the starting input of the graph. The inputs to the ensemble graph are the inputs to the first operator of out graph. After we created the Ensemble we export the graph, supplying an export path for the `ensemble.export` function. This returns an ensemble config which represents the entire inference pipeline and a list of node-specific configs."
   ]
  },
  {
   "cell_type": "code",
   "execution_count": 22,
   "id": "64178cff",
   "metadata": {},
   "outputs": [
    {
     "name": "stderr",
     "output_type": "stream",
     "text": [
      "/usr/local/lib/python3.8/dist-packages/merlin/systems/dag/node.py:100: UserWarning: Operator 'TransformWorkflow' is producing the output column 'session_id', which is not being used by any downstream operator in the ensemble graph.\n",
      "  warnings.warn(\n",
      "/usr/local/lib/python3.8/dist-packages/merlin/systems/dag/node.py:100: UserWarning: Operator 'TransformWorkflow' is producing the output column 'item_id-count', which is not being used by any downstream operator in the ensemble graph.\n",
      "  warnings.warn(\n",
      "/usr/local/lib/python3.8/dist-packages/merlin/systems/dag/node.py:100: UserWarning: Operator 'TransformWorkflow' is producing the output column 'day_index', which is not being used by any downstream operator in the ensemble graph.\n",
      "  warnings.warn(\n"
     ]
    }
   ],
   "source": [
    "ensemble = Ensemble(torch_op, workflow.input_schema)\n",
    "ens_config, node_configs = ensemble.export(ens_model_path)"
   ]
  },
  {
   "cell_type": "markdown",
   "id": "d2e4430b",
   "metadata": {},
   "source": [
    "## 2. Serving Ensemble Model to the Triton Inference Server"
   ]
  },
  {
   "cell_type": "markdown",
   "id": "4b1615cc",
   "metadata": {},
   "source": [
    "NVIDIA [Triton Inference Server (TIS)](https://github.com/triton-inference-server/server) simplifies the deployment of AI models at scale in production. TIS provides a cloud and edge inferencing solution optimized for both CPUs and GPUs. It supports a number of different machine learning frameworks such as TensorFlow and PyTorch.\n",
    "\n",
    "The last step of a machine learning (ML)/deep learning (DL) pipeline is to deploy the ETL workflow and saved model to production. In the production setting, we want to transform the input data as done during training (ETL). We need to apply the same mean/std for continuous features and use the same categorical mapping to convert the categories to continuous integer before we use the DL model for a prediction. Therefore, we deploy the NVTabular workflow with the PyTorch model as an ensemble model to Triton Inference. The ensemble model guarantees that the same transformation is applied to the raw inputs.\n",
    "\n",
    "\n",
    "In this section, you will learn how to\n",
    "- to deploy saved NVTabular and PyTorch models to Triton Inference Server \n",
    "- send requests for predictions and get responses."
   ]
  },
  {
   "cell_type": "markdown",
   "id": "ccafebdc",
   "metadata": {},
   "source": [
    "### 2.1 Starting Triton Server"
   ]
  },
  {
   "cell_type": "markdown",
   "id": "adb24c60",
   "metadata": {},
   "source": [
    "It is time to deploy all the models as an ensemble model to Triton Inference Serve TIS. After we export the ensemble, we are ready to start the TIS. You can start triton server by using the following command on your terminal:\n",
    "\n",
    "`tritonserver --model-repository=<ensemble_export_path>`\n",
    "\n",
    "For the `--model-repository` argument, specify the same path as the export_path that you specified previously in the `ensemble.export` method. This command will launch the server and load all the models to the server. Once all the models are loaded successfully, you should see READY status printed out in the terminal for each loaded model."
   ]
  },
  {
   "cell_type": "markdown",
   "id": "7e76b0ed",
   "metadata": {},
   "source": [
    "### 2.2. Connect to the Triton Inference Server and check if the server is alive"
   ]
  },
  {
   "cell_type": "code",
   "execution_count": 23,
   "id": "dcfb4acd",
   "metadata": {
    "tags": []
   },
   "outputs": [
    {
     "name": "stdout",
     "output_type": "stream",
     "text": [
      "client created.\n",
      "GET /v2/health/live, headers None\n",
      "<HTTPSocketPoolResponse status=200 headers={'content-length': '0', 'content-type': 'text/plain'}>\n"
     ]
    },
    {
     "name": "stderr",
     "output_type": "stream",
     "text": [
      "/usr/local/lib/python3.8/dist-packages/tritonhttpclient/__init__.py:31: DeprecationWarning: The package `tritonhttpclient` is deprecated and will be removed in a future version. Please use instead `tritonclient.http`\n",
      "  warnings.warn(\n"
     ]
    },
    {
     "data": {
      "text/plain": [
       "True"
      ]
     },
     "execution_count": 23,
     "metadata": {},
     "output_type": "execute_result"
    }
   ],
   "source": [
    "import tritonhttpclient\n",
    "try:\n",
    "    triton_client = tritonhttpclient.InferenceServerClient(url=\"localhost:8000\", verbose=True)\n",
    "    print(\"client created.\")\n",
    "except Exception as e:\n",
    "    print(\"channel creation failed: \" + str(e))\n",
    "triton_client.is_server_live()"
   ]
  },
  {
   "cell_type": "markdown",
   "id": "f5067e84",
   "metadata": {},
   "source": [
    "### 2.3. Load raw data for inference\n",
    "We select the last 50 interactions and filter out sessions with less than 2 interactions. "
   ]
  },
  {
   "cell_type": "code",
   "execution_count": 24,
   "id": "61a27083",
   "metadata": {
    "tags": []
   },
   "outputs": [],
   "source": [
    "import pandas as pd\n",
    "interactions_merged_df = pd.read_parquet(os.path.join(INPUT_DATA_DIR, \"interactions_merged_df.parquet\"))\n",
    "interactions_merged_df = interactions_merged_df.sort_values('timestamp')\n",
    "batch = interactions_merged_df[-50:]\n",
    "sessions_to_use = batch.session_id.value_counts()\n",
    "filtered_batch = batch[batch.session_id.isin(sessions_to_use[sessions_to_use.values>1].index.values)]"
   ]
  },
  {
   "cell_type": "markdown",
   "id": "74e022da",
   "metadata": {},
   "source": [
    "### 2.5. Send the request to triton server"
   ]
  },
  {
   "cell_type": "code",
   "execution_count": 25,
   "id": "e98c6068",
   "metadata": {
    "tags": []
   },
   "outputs": [
    {
     "name": "stdout",
     "output_type": "stream",
     "text": [
      "POST /v2/repository/index, headers None\n",
      "\n",
      "<HTTPSocketPoolResponse status=200 headers={'content-type': 'application/json', 'content-length': '188'}>\n",
      "bytearray(b'[{\"name\":\"0_transformworkflowtriton\",\"version\":\"1\",\"state\":\"READY\"},{\"name\":\"1_predictpytorchtriton\",\"version\":\"1\",\"state\":\"READY\"},{\"name\":\"executor_model\",\"version\":\"1\",\"state\":\"READY\"}]')\n"
     ]
    },
    {
     "data": {
      "text/plain": [
       "[{'name': '0_transformworkflowtriton', 'version': '1', 'state': 'READY'},\n",
       " {'name': '1_predictpytorchtriton', 'version': '1', 'state': 'READY'},\n",
       " {'name': 'executor_model', 'version': '1', 'state': 'READY'}]"
      ]
     },
     "execution_count": 25,
     "metadata": {},
     "output_type": "execute_result"
    }
   ],
   "source": [
    "triton_client.get_model_repository_index()"
   ]
  },
  {
   "cell_type": "markdown",
   "id": "8083b9ab",
   "metadata": {},
   "source": [
    "If all models are loaded successfully, you should be seeing `READY` status next to each model."
   ]
  },
  {
   "cell_type": "code",
   "execution_count": 26,
   "id": "eea28970",
   "metadata": {},
   "outputs": [
    {
     "name": "stdout",
     "output_type": "stream",
     "text": [
      "{'item_id_scores': array([[ 7.7149506,  7.3862066,  7.3664827,  7.2885814,  6.8977885,\n",
      "         6.853054 ,  6.6473446,  6.5615396,  6.5239835,  6.504697 ,\n",
      "         6.4961066,  6.482874 ,  6.478437 ,  6.4518657,  6.403399 ,\n",
      "         6.3845167,  6.372211 ,  6.3541226,  6.2738447,  6.2641015],\n",
      "       [ 7.8986144,  7.575227 ,  6.9020343,  6.8903823,  6.839163 ,\n",
      "         6.833202 ,  6.761392 ,  6.7598944,  6.6728435,  6.6523266,\n",
      "         6.640926 ,  6.6118965,  6.470592 ,  6.419156 ,  6.4112453,\n",
      "         6.4044685,  6.386283 ,  6.3791957,  6.362708 ,  6.32642  ],\n",
      "       [ 3.2538116,  3.1455884,  3.1179721,  3.0379417,  2.9422204,\n",
      "         2.9090347,  2.8573742,  2.8552375,  2.8385096,  2.8210163,\n",
      "         2.8062954,  2.7926047,  2.7883859,  2.7677355,  2.7579772,\n",
      "         2.7548594,  2.7234986,  2.7234783,  2.7092912,  2.7081766],\n",
      "       [ 7.1264834,  6.9747195,  6.686076 ,  6.55559  ,  6.554246 ,\n",
      "         6.4562297,  6.409179 ,  6.303057 ,  6.1918006,  6.18303  ,\n",
      "         6.1193542,  6.107653 ,  6.0896993,  6.0872216,  6.0593266,\n",
      "         6.0522294,  5.960239 ,  5.953763 ,  5.9512544,  5.93457  ],\n",
      "       [ 8.472156 ,  8.323568 ,  8.279997 ,  8.109349 ,  8.0277195,\n",
      "         7.8910418,  7.743165 ,  7.7279477,  7.692122 ,  7.6912303,\n",
      "         7.6711187,  7.5660324,  7.5545163,  7.524415 ,  7.4610972,\n",
      "         7.424488 ,  7.4123936,  7.411586 ,  7.3956637,  7.334862 ],\n",
      "       [10.485718 , 10.375805 , 10.131399 ,  9.950816 ,  9.917899 ,\n",
      "         9.840376 ,  9.77128  ,  9.676795 ,  9.599488 ,  9.544931 ,\n",
      "         9.512772 ,  9.488843 ,  9.455492 ,  9.438552 ,  9.430434 ,\n",
      "         9.37854  ,  9.362637 ,  9.329395 ,  9.303702 ,  9.279214 ],\n",
      "       [ 5.836771 ,  5.828289 ,  5.7385616,  5.6870475,  5.5709176,\n",
      "         5.5614986,  5.5448956,  5.3459535,  5.344148 ,  5.310749 ,\n",
      "         5.2611475,  5.2548814,  5.1640043,  5.1203575,  5.0081887,\n",
      "         4.987002 ,  4.976223 ,  4.90389  ,  4.8933997,  4.86463  ],\n",
      "       [ 8.174524 ,  7.422059 ,  7.3884916,  7.272735 ,  7.1977425,\n",
      "         7.0858173,  6.645329 ,  6.5097084,  6.470001 ,  6.453685 ,\n",
      "         6.2901287,  6.1282573,  6.1203957,  6.0265145,  6.0052614,\n",
      "         5.9081306,  5.880647 ,  5.78306  ,  5.7507606,  5.7427897],\n",
      "       [ 6.7380514,  6.735104 ,  6.6285214,  6.5611916,  6.527247 ,\n",
      "         6.4949493,  6.4821672,  6.474738 ,  6.4419727,  6.4345016,\n",
      "         6.3947067,  6.352811 ,  6.314824 ,  6.293556 ,  6.288764 ,\n",
      "         6.2727513,  6.2707367,  6.2422667,  6.2342215,  6.196748 ],\n",
      "       [ 5.6076183,  5.472957 ,  5.412912 ,  5.3116655,  5.177665 ,\n",
      "         5.112378 ,  5.085245 ,  4.9710717,  4.940496 ,  4.93859  ,\n",
      "         4.8099985,  4.760807 ,  4.7229834,  4.7145324,  4.707185 ,\n",
      "         4.667753 ,  4.6421194,  4.630641 ,  4.6156597,  4.5743294],\n",
      "       [ 8.147796 ,  7.6630974,  7.5877905,  7.4908724,  7.4732018,\n",
      "         7.404136 ,  7.352083 ,  7.3242574,  7.3009863,  7.242015 ,\n",
      "         7.1836567,  7.1416435,  7.138858 ,  7.134639 ,  7.111288 ,\n",
      "         7.0651016,  7.0538983,  7.0510435,  7.044665 ,  7.035279 ],\n",
      "       [ 3.2990756,  3.1885252,  3.1802373,  3.0592136,  3.045468 ,\n",
      "         3.0039759,  2.9578297,  2.9415162,  2.93026  ,  2.9297981,\n",
      "         2.8965662,  2.8944998,  2.877764 ,  2.8689   ,  2.8668582,\n",
      "         2.8634927,  2.78628  ,  2.767284 ,  2.7598662,  2.7465074],\n",
      "       [ 8.852634 ,  8.734692 ,  8.606397 ,  8.578839 ,  8.453225 ,\n",
      "         8.416724 ,  8.407235 ,  8.343583 ,  8.280216 ,  8.269384 ,\n",
      "         8.20807  ,  8.177954 ,  8.15201  ,  8.136789 ,  8.103194 ,\n",
      "         7.873078 ,  7.852006 ,  7.849255 ,  7.8436575,  7.7874575],\n",
      "       [ 8.121338 ,  7.9475265,  7.9030285,  7.8839293,  7.850343 ,\n",
      "         7.8212285,  7.7303505,  7.655741 ,  7.5204306,  7.4822707,\n",
      "         7.4198914,  7.3865814,  7.3747654,  7.3459187,  7.3127384,\n",
      "         7.2247725,  7.1183944,  7.111621 ,  7.0977235,  7.089139 ],\n",
      "       [ 8.760972 ,  8.427143 ,  8.166194 ,  8.004948 ,  7.831641 ,\n",
      "         7.8019366,  7.784935 ,  7.6579127,  7.5422807,  7.531015 ,\n",
      "         7.48702  ,  7.448603 ,  7.3950186,  7.355933 ,  7.3510966,\n",
      "         7.2111845,  7.183003 ,  7.166962 ,  7.1576095,  7.1405106]],\n",
      "      dtype=float32), 'item_ids': array([[  127,  1245,  1271,  4074,   161,   532,  3928, 19290, 11874,\n",
      "         1446,   346,  9285,  3452,  3334, 10987,   479,  7555,  3206,\n",
      "        14633, 13677],\n",
      "       [ 2693,  3460, 10401,  2393,  9415,  9285, 14213,  2404, 13750,\n",
      "        10987,  8084,   183,  2889,  5110, 16662, 10962,  7865, 14401,\n",
      "         4158,  3211],\n",
      "       [ 4278,  3225,  5889,   953,  7577,  1420,  4185,  4591,   573,\n",
      "        10287,  3514,  7923,  5623,  3269,   873,  2433, 15077,  5110,\n",
      "         6357,  3593],\n",
      "       [10401,   573,  3211,  2404,  3452,  2763,  4014,   786,  3296,\n",
      "         6030,  4380,  7481,  2067, 10962,   183,   809,  4651,  2806,\n",
      "         2575,  8084],\n",
      "       [10987,  9415,  9285,   479,  7998,  7555,  2475,  2404,  8084,\n",
      "         2693,  2661,  1102,   786, 14343,  3460,   161, 13677,  2889,\n",
      "         2393,  1600],\n",
      "       [ 8084, 13677, 14633, 12754, 14213,  3452, 13821,  2984, 11816,\n",
      "         2475,  1600,  4074, 13749,  9285, 17882, 10401, 10673,  1964,\n",
      "        11874,  9801],\n",
      "       [  224,  1453,  1889,   620,  2556,   520,   741,  1219,   633,\n",
      "         2050,  6344,  2651,  2852,  1039,  3841,   375,  2473,  3225,\n",
      "         4204,  2980],\n",
      "       [  620,   633,  1889,  1625,  1453,  1219,  4962,  6344,   224,\n",
      "         2034,  1413,  2980,   741,  1908,   597,  1085,  4770,  2305,\n",
      "         1647,  1334],\n",
      "       [  573, 14505,  3365,  9020,  5932,  7470,  7055,  6344, 10962,\n",
      "        11937,  6488, 13821, 19263, 14213,   633,  8553, 10123, 10401,\n",
      "         1453, 15439],\n",
      "       [15148, 13277,  1381, 24893, 11689, 37268,  7454,  1547,  2305,\n",
      "        30765, 46450, 18630,  8747,  1085,  1889, 25487,  7506,   620,\n",
      "        14220,  8291],\n",
      "       [19263, 13821, 15289, 11874,  8058, 17882,  7159, 12754,  6473,\n",
      "        14213, 16233,   573,  3452, 12059,  1600,  8084, 10401, 13749,\n",
      "        15439,  9801],\n",
      "       [ 8813,  1889,   464,  1855,   520,   127,   185,  4204,   637,\n",
      "           31,   784,  2789,  4713,  6461, 11874,   840,   177,  5224,\n",
      "         5818,  6473],\n",
      "       [ 7865,  5932,  7055, 14213,  9020,  4541,  8084,  6488,  8553,\n",
      "        14505,  6473, 10962,  4204,  4136, 16233, 13821, 10401,  9459,\n",
      "         9801, 15439],\n",
      "       [10401,  6488,  5932,  7865, 10962, 14213,  8553,  8084,  9020,\n",
      "          573,  4204, 13821,  3175, 15439,  4136, 10123, 11874,  3452,\n",
      "        17882,  9236],\n",
      "       [ 2693,  3460, 14213,  7865,  5932,  6488,  4204,  8084, 10962,\n",
      "         8553,  1219,  9020,  4541, 13750,  9236,  1453,  4136,  2980,\n",
      "        10401,  2651]])}\n"
     ]
    }
   ],
   "source": [
    "from merlin.systems.triton.utils import send_triton_request\n",
    "response = send_triton_request(workflow.input_schema, filtered_batch, model.output_schema.column_names)\n",
    "print(response)"
   ]
  },
  {
   "cell_type": "markdown",
   "id": "5ac9f174",
   "metadata": {},
   "source": [
    "The response contains scores (logits) for each of the returned items and the returned it ids."
   ]
  },
  {
   "cell_type": "code",
   "execution_count": 27,
   "id": "928080a5",
   "metadata": {},
   "outputs": [
    {
     "data": {
      "text/plain": [
       "dict_keys(['item_id_scores', 'item_ids'])"
      ]
     },
     "execution_count": 27,
     "metadata": {},
     "output_type": "execute_result"
    }
   ],
   "source": [
    "response.keys()"
   ]
  },
  {
   "cell_type": "markdown",
   "id": "76f10a13",
   "metadata": {},
   "source": [
    "Just as we requested by setting the `top_k` parameter, only 20 predictions are returned."
   ]
  },
  {
   "cell_type": "code",
   "execution_count": 28,
   "id": "811bfa29",
   "metadata": {},
   "outputs": [
    {
     "data": {
      "text/plain": [
       "(15, 20)"
      ]
     },
     "execution_count": 28,
     "metadata": {},
     "output_type": "execute_result"
    }
   ],
   "source": [
    "response['item_ids'].shape"
   ]
  },
  {
   "cell_type": "markdown",
   "id": "f576abb9",
   "metadata": {},
   "source": [
    "\n",
    "This is the end of the tutorial. You successfully\n",
    "\n",
    "- performed feature engineering with NVTabular\n",
    "- trained transformer architecture based session-based recommendation models with Transformers4Rec\n",
    "- deployed a trained model to Triton Inference Server, sent request and got responses from the server."
   ]
  },
  {
   "cell_type": "markdown",
   "id": "68dd532f",
   "metadata": {},
   "source": [
    "## References"
   ]
  },
  {
   "cell_type": "markdown",
   "id": "30f9073e",
   "metadata": {},
   "source": [
    "- Merlin Transformers4rec: https://github.com/NVIDIA-Merlin/Transformers4Rec\n",
    "\n",
    "- Merlin NVTabular: https://github.com/NVIDIA-Merlin/NVTabular/tree/main/nvtabular\n",
    "\n",
    "- Merlin Dataloader: https://github.com/NVIDIA-Merlin/dataloader\n",
    "\n",
    "- Triton inference server: https://github.com/triton-inference-server"
   ]
  }
 ],
 "metadata": {
  "kernelspec": {
   "display_name": "Python 3 (ipykernel)",
   "language": "python",
   "name": "python3"
  },
  "language_info": {
   "codemirror_mode": {
    "name": "ipython",
    "version": 3
   },
   "file_extension": ".py",
   "mimetype": "text/x-python",
   "name": "python",
   "nbconvert_exporter": "python",
   "pygments_lexer": "ipython3",
   "version": "3.8.10"
  },
  "vscode": {
   "interpreter": {
    "hash": "d795d7ca5d3ec3bd6293cc80853205a74ce23d484a2b8f537732a716747107c8"
   }
  }
 },
 "nbformat": 4,
 "nbformat_minor": 5
}