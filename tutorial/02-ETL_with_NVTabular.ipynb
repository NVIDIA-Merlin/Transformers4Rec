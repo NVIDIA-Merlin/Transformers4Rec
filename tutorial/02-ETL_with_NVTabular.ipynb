{
 "cells": [
  {
   "cell_type": "code",
   "execution_count": 1,
   "metadata": {},
   "outputs": [],
   "source": [
    "# Copyright 2021 NVIDIA Corporation. All Rights Reserved.\n",
    "#\n",
    "# Licensed under the Apache License, Version 2.0 (the \"License\");\n",
    "# you may not use this file except in compliance with the License.\n",
    "# You may obtain a copy of the License at\n",
    "#\n",
    "#     http://www.apache.org/licenses/LICENSE-2.0\n",
    "#\n",
    "# Unless required by applicable law or agreed to in writing, software\n",
    "# distributed under the License is distributed on an \"AS IS\" BASIS,\n",
    "# WITHOUT WARRANTIES OR CONDITIONS OF ANY KIND, either express or implied.\n",
    "# See the License for the specific language governing permissions and\n",
    "# limitations under the License.\n",
    "# =============================================================================="
   ]
  },
  {
   "cell_type": "markdown",
   "metadata": {},
   "source": [
    "## 1. Introduction"
   ]
  },
  {
   "cell_type": "markdown",
   "metadata": {},
   "source": [
    "In this notebook, we will create a preprocessing and feature engineering pipeline with [Rapids cuDF](https://github.com/rapidsai/cudf) and [Merlin NVTabular](https://github.com/NVIDIA/NVTabular) libraries to prepare our dataset for session-based recommendation model training. \n",
    "\n",
    "NVTabular is a feature engineering and preprocessing library for tabular data that is designed to easily manipulate terabyte scale datasets and train deep learning (DL) based recommender systems.\n",
    "\n",
    "Our main goal is to create session-based features. In order to do that, we are going to perform the following:\n",
    "\n",
    "- Categorify categorical features with `Categorify()` op\n",
    "- Create temporal features with a `user-defined custom` op and `Lambda` op\n",
    "- Transform continuous features using `Log` and `Normalize` ops\n",
    "- Group all these features together at the session level sorting the interactions by time with `Groupby`\n",
    "- Finally export the preprocessed datasets to parquet files by hive-partitioning."
   ]
  },
  {
   "cell_type": "markdown",
   "metadata": {},
   "source": [
    "### 1.1. Dataset"
   ]
  },
  {
   "cell_type": "markdown",
   "metadata": {},
   "source": [
    "In our hands-on exercise notebooks we are going to use a subset of the publicly available [eCommerce dataset](https://www.kaggle.com/mkechinov/ecommerce-behavior-data-from-multi-category-store). The ecommeerce behavior data contains 7 months of data (from October 2019 to April 2020) from a large multi-category online store. Each row in the file represents an event. All events are related to products and users. Each event is like many-to-many relation between products and users.\n",
    "\n",
    "Data collected by Open CDP project and the source of the dataset is [REES46 Marketing Platform](https://rees46.com/)."
   ]
  },
  {
   "cell_type": "markdown",
   "metadata": {},
   "source": [
    "## 2. Import Libraries"
   ]
  },
  {
   "cell_type": "code",
   "execution_count": 2,
   "metadata": {},
   "outputs": [],
   "source": [
    "import os\n",
    "\n",
    "import numpy as np \n",
    "import cupy as cp\n",
    "import glob\n",
    "\n",
    "import cudf\n",
    "import nvtabular as nvt\n",
    "from nvtabular import ColumnSelector"
   ]
  },
  {
   "cell_type": "markdown",
   "metadata": {},
   "source": [
    "## 3. Set up Input and Output Data Paths"
   ]
  },
  {
   "cell_type": "code",
   "execution_count": 3,
   "metadata": {},
   "outputs": [],
   "source": [
    "# define some information about where to get our data\n",
    "INPUT_DATA_DIR = os.environ.get(\"INPUT_DATA_DIR\", \"/data/\")\n",
    "OUTPUT_DATA_DIR = os.environ.get(\"OUTPUT_DATA_DIR\", INPUT_DATA_DIR + \"output\")"
   ]
  },
  {
   "cell_type": "markdown",
   "metadata": {},
   "source": [
    "## 4. Read the Parquet file"
   ]
  },
  {
   "cell_type": "markdown",
   "metadata": {},
   "source": [
    "We already performed certain preprocessing steps on the first month (Oct-2019) of the raw dataset in the `01-preprocess` notebook: <br>\n",
    "\n",
    "- we created `event_time_ts` column from `event_time` column which shows the time when event happened at (in UTC).\n",
    "- we created `prod_first_event_time_ts` column which indicates the timestamp that an item was seen first time.\n",
    "- we removed the rows where the `user_session` is Null. As a result, 2 rows were removed.\n",
    "- we categorified the `user_session` column, so that it now has only integer values.\n",
    "- we removed consequetively repeated (user, item) interactions. For example, an original session with `[1, 2, 4, 1, 2, 2, 3, 3, 3]` product interactions has become `[1, 2, 4, 1, 2, 3]` after removing the repeated interactions on the same item within the same session."
   ]
  },
  {
   "cell_type": "markdown",
   "metadata": {},
   "source": [
    "Even though the original dataset contains 7 months data files, we are going to use the first seven days of the `Oct-2019.csv` ecommerce dataset. We use cuDF to read the parquet file. "
   ]
  },
  {
   "cell_type": "code",
   "execution_count": 7,
   "metadata": {},
   "outputs": [
    {
     "name": "stdout",
     "output_type": "stream",
     "text": [
      "CPU times: user 713 ms, sys: 360 ms, total: 1.07 s\n",
      "Wall time: 1.09 s\n"
     ]
    },
    {
     "data": {
      "text/html": [
       "<div>\n",
       "<style scoped>\n",
       "    .dataframe tbody tr th:only-of-type {\n",
       "        vertical-align: middle;\n",
       "    }\n",
       "\n",
       "    .dataframe tbody tr th {\n",
       "        vertical-align: top;\n",
       "    }\n",
       "\n",
       "    .dataframe thead th {\n",
       "        text-align: right;\n",
       "    }\n",
       "</style>\n",
       "<table border=\"1\" class=\"dataframe\">\n",
       "  <thead>\n",
       "    <tr style=\"text-align: right;\">\n",
       "      <th></th>\n",
       "      <th>user_session</th>\n",
       "      <th>event_type</th>\n",
       "      <th>product_id</th>\n",
       "      <th>category_id</th>\n",
       "      <th>category_code</th>\n",
       "      <th>brand</th>\n",
       "      <th>price</th>\n",
       "      <th>user_id</th>\n",
       "      <th>event_time_ts</th>\n",
       "      <th>prod_first_event_time_ts</th>\n",
       "    </tr>\n",
       "  </thead>\n",
       "  <tbody>\n",
       "    <tr>\n",
       "      <th>0</th>\n",
       "      <td>43</td>\n",
       "      <td>view</td>\n",
       "      <td>5300797</td>\n",
       "      <td>2053013563173241677</td>\n",
       "      <td>&lt;NA&gt;</td>\n",
       "      <td>panasonic</td>\n",
       "      <td>39.90</td>\n",
       "      <td>513903572</td>\n",
       "      <td>1570460611</td>\n",
       "      <td>1569948287</td>\n",
       "    </tr>\n",
       "    <tr>\n",
       "      <th>1</th>\n",
       "      <td>43</td>\n",
       "      <td>view</td>\n",
       "      <td>5300798</td>\n",
       "      <td>2053013563173241677</td>\n",
       "      <td>&lt;NA&gt;</td>\n",
       "      <td>panasonic</td>\n",
       "      <td>32.18</td>\n",
       "      <td>513903572</td>\n",
       "      <td>1570460616</td>\n",
       "      <td>1569934097</td>\n",
       "    </tr>\n",
       "    <tr>\n",
       "      <th>2</th>\n",
       "      <td>43</td>\n",
       "      <td>view</td>\n",
       "      <td>5300284</td>\n",
       "      <td>2053013563173241677</td>\n",
       "      <td>&lt;NA&gt;</td>\n",
       "      <td>rowenta</td>\n",
       "      <td>30.86</td>\n",
       "      <td>513903572</td>\n",
       "      <td>1570460621</td>\n",
       "      <td>1569927253</td>\n",
       "    </tr>\n",
       "    <tr>\n",
       "      <th>3</th>\n",
       "      <td>43</td>\n",
       "      <td>view</td>\n",
       "      <td>5300382</td>\n",
       "      <td>2053013563173241677</td>\n",
       "      <td>&lt;NA&gt;</td>\n",
       "      <td>remington</td>\n",
       "      <td>28.22</td>\n",
       "      <td>513903572</td>\n",
       "      <td>1570460636</td>\n",
       "      <td>1570026747</td>\n",
       "    </tr>\n",
       "    <tr>\n",
       "      <th>4</th>\n",
       "      <td>43</td>\n",
       "      <td>view</td>\n",
       "      <td>5300366</td>\n",
       "      <td>2053013563173241677</td>\n",
       "      <td>&lt;NA&gt;</td>\n",
       "      <td>polaris</td>\n",
       "      <td>26.46</td>\n",
       "      <td>513903572</td>\n",
       "      <td>1570460650</td>\n",
       "      <td>1570097085</td>\n",
       "    </tr>\n",
       "  </tbody>\n",
       "</table>\n",
       "</div>"
      ],
      "text/plain": [
       "   user_session event_type  product_id          category_id category_code  \\\n",
       "0            43       view     5300797  2053013563173241677          <NA>   \n",
       "1            43       view     5300798  2053013563173241677          <NA>   \n",
       "2            43       view     5300284  2053013563173241677          <NA>   \n",
       "3            43       view     5300382  2053013563173241677          <NA>   \n",
       "4            43       view     5300366  2053013563173241677          <NA>   \n",
       "\n",
       "       brand  price    user_id  event_time_ts  prod_first_event_time_ts  \n",
       "0  panasonic  39.90  513903572     1570460611                1569948287  \n",
       "1  panasonic  32.18  513903572     1570460616                1569934097  \n",
       "2    rowenta  30.86  513903572     1570460621                1569927253  \n",
       "3  remington  28.22  513903572     1570460636                1570026747  \n",
       "4    polaris  26.46  513903572     1570460650                1570097085  "
      ]
     },
     "execution_count": 7,
     "metadata": {},
     "output_type": "execute_result"
    }
   ],
   "source": [
    "%%time\n",
    "# df = cudf.read_parquet(os.path.join(INPUT_DATA_DIR, 'Oct-2019.parquet'))  \n",
    "df = cudf.read_parquet('../examples/Oct-2019.parquet')\n",
    "df.head()"
   ]
  },
  {
   "cell_type": "code",
   "execution_count": 8,
   "metadata": {},
   "outputs": [
    {
     "data": {
      "text/plain": [
       "(6390928, 10)"
      ]
     },
     "execution_count": 8,
     "metadata": {},
     "output_type": "execute_result"
    }
   ],
   "source": [
    "df.shape"
   ]
  },
  {
   "cell_type": "markdown",
   "metadata": {},
   "source": [
    "Let's check if there is any column with nulls."
   ]
  },
  {
   "cell_type": "code",
   "execution_count": 9,
   "metadata": {},
   "outputs": [
    {
     "data": {
      "text/plain": [
       "user_session                False\n",
       "event_type                  False\n",
       "product_id                  False\n",
       "category_id                 False\n",
       "category_code                True\n",
       "brand                        True\n",
       "price                       False\n",
       "user_id                     False\n",
       "event_time_ts               False\n",
       "prod_first_event_time_ts    False\n",
       "dtype: bool"
      ]
     },
     "execution_count": 9,
     "metadata": {},
     "output_type": "execute_result"
    }
   ],
   "source": [
    "df.isnull().any()"
   ]
  },
  {
   "cell_type": "markdown",
   "metadata": {
    "tags": []
   },
   "source": [
    "We see that `'category_code', 'brand'` columns have null values, and in the following cell we are going to fill these nulls with via categorify op, and then all categorical columns will be encoded to continuous integers. Note that we also add `1` after we categorify the categorical columns, the reason for that we want the encoded null values to start from `1` instead of `0` because we reserve `0` for padding the seqeunce features."
   ]
  },
  {
   "cell_type": "markdown",
   "metadata": {},
   "source": [
    "## 5. Initialize NVTabular Workflow\n",
    "\n",
    "### 5.1. Categorical Features Encoding\n"
   ]
  },
  {
   "cell_type": "code",
   "execution_count": 10,
   "metadata": {},
   "outputs": [],
   "source": [
    "# categorify features \n",
    "cat_feats = ['user_session', 'category_code', 'brand', 'user_id', 'product_id', 'category_id', 'event_type'] >> nvt.ops.Categorify() >> nvt.ops.LambdaOp(lambda col: col +1)"
   ]
  },
  {
   "cell_type": "markdown",
   "metadata": {},
   "source": [
    "### 5.2. Extract Temporal Features"
   ]
  },
  {
   "cell_type": "code",
   "execution_count": 11,
   "metadata": {},
   "outputs": [],
   "source": [
    "# create time features\n",
    "sessionTs = ['event_time_ts']\n",
    "\n",
    "sessionTime = (\n",
    "    sessionTs >> \n",
    "    nvt.ops.LambdaOp(lambda col: cudf.to_datetime(col, unit='s')) >> \n",
    "    nvt.ops.Rename(name = 'event_time_dt')\n",
    ")\n",
    "\n",
    "sessionTime_weekday = (\n",
    "    sessionTime >> \n",
    "    nvt.ops.LambdaOp(lambda col: col.dt.weekday) >> \n",
    "    nvt.ops.Rename(name ='et_dayofweek')\n",
    ")"
   ]
  },
  {
   "cell_type": "markdown",
   "metadata": {},
   "source": [
    "Now let's create cycling features from the `sessionTime_weekday` column. We would like to use the temporal features (hour, day of week, month, etc.) inherently cylical characteristic. We represent the day of week as a cycling feature, so that it can be represented in a continuous space (sine and cosine). That way, the difference between the representation of two different days is the same, in other words, with cyclical features we can convey closeness between data. You can read more about it [here](https://ianlondon.github.io/blog/encoding-cyclical-features-24hour-time/)."
   ]
  },
  {
   "cell_type": "code",
   "execution_count": 12,
   "metadata": {},
   "outputs": [],
   "source": [
    "def get_cycled_feature_value_sin(col, max_value):\n",
    "    value_scaled = (col + 0.000001) / max_value\n",
    "    value_sin = np.sin(2*np.pi*value_scaled)\n",
    "    return value_sin\n",
    "\n",
    "def get_cycled_feature_value_cos(col, max_value):\n",
    "    value_scaled = (col + 0.000001) / max_value\n",
    "    value_cos = np.cos(2*np.pi*value_scaled)\n",
    "    return value_cos"
   ]
  },
  {
   "cell_type": "code",
   "execution_count": 13,
   "metadata": {},
   "outputs": [],
   "source": [
    "weekday_sin = sessionTime_weekday >> (lambda col: get_cycled_feature_value_sin(col+1, 7)) >> nvt.ops.Rename(name = 'et_dayofweek_sin')\n",
    "weekday_cos= sessionTime_weekday >> (lambda col: get_cycled_feature_value_cos(col+1, 7)) >> nvt.ops.Rename(name = 'et_dayofweek_cos')"
   ]
  },
  {
   "cell_type": "markdown",
   "metadata": {},
   "source": [
    "### 5.2.1 Add Product Recency feature"
   ]
  },
  {
   "cell_type": "markdown",
   "metadata": {},
   "source": [
    "- Let's define a custom op to calculate product recency in days"
   ]
  },
  {
   "cell_type": "code",
   "execution_count": 14,
   "metadata": {},
   "outputs": [],
   "source": [
    "from nvtabular.ops import Operator\n",
    "\n",
    "class ItemRecency(Operator):\n",
    "    def transform(self, columns, gdf):\n",
    "        for column in columns.names:\n",
    "            col = gdf[column]\n",
    "            item_first_timestamp = gdf['prod_first_event_time_ts']\n",
    "            delta_days = (col - item_first_timestamp) / (60*60*24)\n",
    "            gdf[column + \"_age_days\"] = delta_days * (delta_days >=0)\n",
    "        return gdf\n",
    "            \n",
    "    def output_column_names(self, columns):\n",
    "        return ColumnSelector([column + \"_age_days\" for column in columns.names])\n",
    "\n",
    "    def dependencies(self):\n",
    "        return [\"prod_first_event_time_ts\"]\n",
    "    \n",
    "    \n",
    "recency_features = ['event_time_ts'] >> ItemRecency() \n",
    "recency_features_norm = recency_features >> nvt.ops.LogOp() >> nvt.ops.Normalize() >> nvt.ops.Rename(name='product_recency_days_log_norm')"
   ]
  },
  {
   "cell_type": "code",
   "execution_count": 15,
   "metadata": {},
   "outputs": [],
   "source": [
    "time_features = (\n",
    "    sessionTime +\n",
    "    sessionTime_weekday +\n",
    "    weekday_sin +\n",
    "    weekday_cos +\n",
    "    recency_features_norm\n",
    ")"
   ]
  },
  {
   "cell_type": "markdown",
   "metadata": {},
   "source": [
    "We can visualize our workflow graph from a feature columngroup object."
   ]
  },
  {
   "cell_type": "code",
   "execution_count": 16,
   "metadata": {},
   "outputs": [
    {
     "data": {
      "image/svg+xml": [
       "<?xml version=\"1.0\" encoding=\"UTF-8\" standalone=\"no\"?>\n",
       "<!DOCTYPE svg PUBLIC \"-//W3C//DTD SVG 1.1//EN\"\n",
       " \"http://www.w3.org/Graphics/SVG/1.1/DTD/svg11.dtd\">\n",
       "<!-- Generated by graphviz version 2.43.0 (0)\n",
       " -->\n",
       "<!-- Title: %3 Pages: 1 -->\n",
       "<svg width=\"1042pt\" height=\"404pt\"\n",
       " viewBox=\"0.00 0.00 1041.60 404.00\" xmlns=\"http://www.w3.org/2000/svg\" xmlns:xlink=\"http://www.w3.org/1999/xlink\">\n",
       "<g id=\"graph0\" class=\"graph\" transform=\"scale(1 1) rotate(0) translate(4 400)\">\n",
       "<title>%3</title>\n",
       "<polygon fill=\"white\" stroke=\"transparent\" points=\"-4,4 -4,-400 1037.6,-400 1037.6,4 -4,4\"/>\n",
       "<!-- 0 -->\n",
       "<g id=\"node1\" class=\"node\">\n",
       "<title>0</title>\n",
       "<ellipse fill=\"none\" stroke=\"black\" cx=\"517.78\" cy=\"-234\" rx=\"230.16\" ry=\"18\"/>\n",
       "<text text-anchor=\"middle\" x=\"517.78\" y=\"-230.3\" font-family=\"Times,serif\" font-size=\"14.00\">nvt.ops.LambdaOp(lambda col: col.dt.weekday)</text>\n",
       "</g>\n",
       "<!-- 5 -->\n",
       "<g id=\"node10\" class=\"node\">\n",
       "<title>5</title>\n",
       "<ellipse fill=\"none\" stroke=\"black\" cx=\"517.78\" cy=\"-162\" rx=\"48.19\" ry=\"18\"/>\n",
       "<text text-anchor=\"middle\" x=\"517.78\" y=\"-158.3\" font-family=\"Times,serif\" font-size=\"14.00\">Rename</text>\n",
       "</g>\n",
       "<!-- 0&#45;&gt;5 -->\n",
       "<g id=\"edge5\" class=\"edge\">\n",
       "<title>0&#45;&gt;5</title>\n",
       "<path fill=\"none\" stroke=\"black\" d=\"M517.78,-215.7C517.78,-207.98 517.78,-198.71 517.78,-190.11\"/>\n",
       "<polygon fill=\"black\" stroke=\"black\" points=\"521.28,-190.1 517.78,-180.1 514.28,-190.1 521.28,-190.1\"/>\n",
       "</g>\n",
       "<!-- 10 -->\n",
       "<g id=\"node2\" class=\"node\">\n",
       "<title>10</title>\n",
       "<ellipse fill=\"none\" stroke=\"black\" cx=\"531.78\" cy=\"-306\" rx=\"48.19\" ry=\"18\"/>\n",
       "<text text-anchor=\"middle\" x=\"531.78\" y=\"-302.3\" font-family=\"Times,serif\" font-size=\"14.00\">Rename</text>\n",
       "</g>\n",
       "<!-- 10&#45;&gt;0 -->\n",
       "<g id=\"edge1\" class=\"edge\">\n",
       "<title>10&#45;&gt;0</title>\n",
       "<path fill=\"none\" stroke=\"black\" d=\"M528.32,-287.7C526.77,-279.98 524.92,-270.71 523.2,-262.11\"/>\n",
       "<polygon fill=\"black\" stroke=\"black\" points=\"526.59,-261.22 521.2,-252.1 519.73,-262.6 526.59,-261.22\"/>\n",
       "</g>\n",
       "<!-- 12 -->\n",
       "<g id=\"node13\" class=\"node\">\n",
       "<title>12</title>\n",
       "<ellipse fill=\"none\" stroke=\"black\" cx=\"792.78\" cy=\"-234\" rx=\"27\" ry=\"18\"/>\n",
       "<text text-anchor=\"middle\" x=\"792.78\" y=\"-230.3\" font-family=\"Times,serif\" font-size=\"14.00\">+</text>\n",
       "</g>\n",
       "<!-- 10&#45;&gt;12 -->\n",
       "<g id=\"edge11\" class=\"edge\">\n",
       "<title>10&#45;&gt;12</title>\n",
       "<path fill=\"none\" stroke=\"black\" d=\"M574.84,-297.64C620.69,-289.17 695.03,-273.58 756.78,-252 758.69,-251.33 760.63,-250.6 762.57,-249.81\"/>\n",
       "<polygon fill=\"black\" stroke=\"black\" points=\"764.38,-252.85 772.15,-245.65 761.58,-246.43 764.38,-252.85\"/>\n",
       "</g>\n",
       "<!-- 1 -->\n",
       "<g id=\"node3\" class=\"node\">\n",
       "<title>1</title>\n",
       "<ellipse fill=\"none\" stroke=\"black\" cx=\"254.78\" cy=\"-18\" rx=\"48.19\" ry=\"18\"/>\n",
       "<text text-anchor=\"middle\" x=\"254.78\" y=\"-14.3\" font-family=\"Times,serif\" font-size=\"14.00\">Rename</text>\n",
       "</g>\n",
       "<!-- 7 -->\n",
       "<g id=\"node4\" class=\"node\">\n",
       "<title>7</title>\n",
       "<ellipse fill=\"none\" stroke=\"black\" cx=\"254.78\" cy=\"-90\" rx=\"254.55\" ry=\"18\"/>\n",
       "<text text-anchor=\"middle\" x=\"254.78\" y=\"-86.3\" font-family=\"Times,serif\" font-size=\"14.00\">(lambda col: get_cycled_feature_value_cos(col+1, 7))</text>\n",
       "</g>\n",
       "<!-- 7&#45;&gt;1 -->\n",
       "<g id=\"edge2\" class=\"edge\">\n",
       "<title>7&#45;&gt;1</title>\n",
       "<path fill=\"none\" stroke=\"black\" d=\"M254.78,-71.7C254.78,-63.98 254.78,-54.71 254.78,-46.11\"/>\n",
       "<polygon fill=\"black\" stroke=\"black\" points=\"258.28,-46.1 254.78,-36.1 251.28,-46.1 258.28,-46.1\"/>\n",
       "</g>\n",
       "<!-- 2 -->\n",
       "<g id=\"node5\" class=\"node\">\n",
       "<title>2</title>\n",
       "<ellipse fill=\"none\" stroke=\"black\" cx=\"935.78\" cy=\"-378\" rx=\"70.69\" ry=\"18\"/>\n",
       "<text text-anchor=\"middle\" x=\"935.78\" y=\"-374.3\" font-family=\"Times,serif\" font-size=\"14.00\">ItemRecency</text>\n",
       "</g>\n",
       "<!-- 8 -->\n",
       "<g id=\"node11\" class=\"node\">\n",
       "<title>8</title>\n",
       "<ellipse fill=\"none\" stroke=\"black\" cx=\"935.78\" cy=\"-306\" rx=\"40.89\" ry=\"18\"/>\n",
       "<text text-anchor=\"middle\" x=\"935.78\" y=\"-302.3\" font-family=\"Times,serif\" font-size=\"14.00\">LogOp</text>\n",
       "</g>\n",
       "<!-- 2&#45;&gt;8 -->\n",
       "<g id=\"edge8\" class=\"edge\">\n",
       "<title>2&#45;&gt;8</title>\n",
       "<path fill=\"none\" stroke=\"black\" d=\"M935.78,-359.7C935.78,-351.98 935.78,-342.71 935.78,-334.11\"/>\n",
       "<polygon fill=\"black\" stroke=\"black\" points=\"939.28,-334.1 935.78,-324.1 932.28,-334.1 939.28,-334.1\"/>\n",
       "</g>\n",
       "<!-- 3 -->\n",
       "<g id=\"node6\" class=\"node\">\n",
       "<title>3</title>\n",
       "<ellipse fill=\"none\" stroke=\"black\" cx=\"780.78\" cy=\"-18\" rx=\"48.19\" ry=\"18\"/>\n",
       "<text text-anchor=\"middle\" x=\"780.78\" y=\"-14.3\" font-family=\"Times,serif\" font-size=\"14.00\">Rename</text>\n",
       "</g>\n",
       "<!-- 6 -->\n",
       "<g id=\"node7\" class=\"node\">\n",
       "<title>6</title>\n",
       "<ellipse fill=\"none\" stroke=\"black\" cx=\"780.78\" cy=\"-90\" rx=\"252.66\" ry=\"18\"/>\n",
       "<text text-anchor=\"middle\" x=\"780.78\" y=\"-86.3\" font-family=\"Times,serif\" font-size=\"14.00\">(lambda col: get_cycled_feature_value_sin(col+1, 7))</text>\n",
       "</g>\n",
       "<!-- 6&#45;&gt;3 -->\n",
       "<g id=\"edge3\" class=\"edge\">\n",
       "<title>6&#45;&gt;3</title>\n",
       "<path fill=\"none\" stroke=\"black\" d=\"M780.78,-71.7C780.78,-63.98 780.78,-54.71 780.78,-46.11\"/>\n",
       "<polygon fill=\"black\" stroke=\"black\" points=\"784.28,-46.1 780.78,-36.1 777.28,-46.1 784.28,-46.1\"/>\n",
       "</g>\n",
       "<!-- 4 -->\n",
       "<g id=\"node8\" class=\"node\">\n",
       "<title>4</title>\n",
       "<ellipse fill=\"none\" stroke=\"black\" cx=\"935.78\" cy=\"-162\" rx=\"48.19\" ry=\"18\"/>\n",
       "<text text-anchor=\"middle\" x=\"935.78\" y=\"-158.3\" font-family=\"Times,serif\" font-size=\"14.00\">Rename</text>\n",
       "</g>\n",
       "<!-- 11 -->\n",
       "<g id=\"node9\" class=\"node\">\n",
       "<title>11</title>\n",
       "<ellipse fill=\"none\" stroke=\"black\" cx=\"935.78\" cy=\"-234\" rx=\"58.49\" ry=\"18\"/>\n",
       "<text text-anchor=\"middle\" x=\"935.78\" y=\"-230.3\" font-family=\"Times,serif\" font-size=\"14.00\">Normalize</text>\n",
       "</g>\n",
       "<!-- 11&#45;&gt;4 -->\n",
       "<g id=\"edge4\" class=\"edge\">\n",
       "<title>11&#45;&gt;4</title>\n",
       "<path fill=\"none\" stroke=\"black\" d=\"M935.78,-215.7C935.78,-207.98 935.78,-198.71 935.78,-190.11\"/>\n",
       "<polygon fill=\"black\" stroke=\"black\" points=\"939.28,-190.1 935.78,-180.1 932.28,-190.1 939.28,-190.1\"/>\n",
       "</g>\n",
       "<!-- 5&#45;&gt;7 -->\n",
       "<g id=\"edge7\" class=\"edge\">\n",
       "<title>5&#45;&gt;7</title>\n",
       "<path fill=\"none\" stroke=\"black\" d=\"M479.82,-150.9C439.87,-140.27 376.06,-123.28 326.57,-110.11\"/>\n",
       "<polygon fill=\"black\" stroke=\"black\" points=\"327.44,-106.72 316.88,-107.53 325.64,-113.48 327.44,-106.72\"/>\n",
       "</g>\n",
       "<!-- 5&#45;&gt;6 -->\n",
       "<g id=\"edge6\" class=\"edge\">\n",
       "<title>5&#45;&gt;6</title>\n",
       "<path fill=\"none\" stroke=\"black\" d=\"M555.74,-150.9C595.75,-140.25 659.71,-123.22 709.23,-110.04\"/>\n",
       "<polygon fill=\"black\" stroke=\"black\" points=\"710.17,-113.42 718.93,-107.46 708.37,-106.65 710.17,-113.42\"/>\n",
       "</g>\n",
       "<!-- 8&#45;&gt;11 -->\n",
       "<g id=\"edge10\" class=\"edge\">\n",
       "<title>8&#45;&gt;11</title>\n",
       "<path fill=\"none\" stroke=\"black\" d=\"M935.78,-287.7C935.78,-279.98 935.78,-270.71 935.78,-262.11\"/>\n",
       "<polygon fill=\"black\" stroke=\"black\" points=\"939.28,-262.1 935.78,-252.1 932.28,-262.1 939.28,-262.1\"/>\n",
       "</g>\n",
       "<!-- 9 -->\n",
       "<g id=\"node12\" class=\"node\">\n",
       "<title>9</title>\n",
       "<ellipse fill=\"none\" stroke=\"black\" cx=\"531.78\" cy=\"-378\" rx=\"300.05\" ry=\"18\"/>\n",
       "<text text-anchor=\"middle\" x=\"531.78\" y=\"-374.3\" font-family=\"Times,serif\" font-size=\"14.00\">nvt.ops.LambdaOp(lambda col: cudf.to_datetime(col, unit=&#39;s&#39;))</text>\n",
       "</g>\n",
       "<!-- 9&#45;&gt;10 -->\n",
       "<g id=\"edge9\" class=\"edge\">\n",
       "<title>9&#45;&gt;10</title>\n",
       "<path fill=\"none\" stroke=\"black\" d=\"M531.78,-359.7C531.78,-351.98 531.78,-342.71 531.78,-334.11\"/>\n",
       "<polygon fill=\"black\" stroke=\"black\" points=\"535.28,-334.1 531.78,-324.1 528.28,-334.1 535.28,-334.1\"/>\n",
       "</g>\n",
       "<!-- 13 -->\n",
       "<g id=\"node14\" class=\"node\">\n",
       "<title>13</title>\n",
       "<ellipse fill=\"none\" stroke=\"black\" cx=\"792.78\" cy=\"-162\" rx=\"77.19\" ry=\"18\"/>\n",
       "<text text-anchor=\"middle\" x=\"792.78\" y=\"-158.3\" font-family=\"Times,serif\" font-size=\"14.00\">output cols=[]</text>\n",
       "</g>\n",
       "<!-- 12&#45;&gt;13 -->\n",
       "<g id=\"edge12\" class=\"edge\">\n",
       "<title>12&#45;&gt;13</title>\n",
       "<path fill=\"none\" stroke=\"black\" d=\"M792.78,-215.7C792.78,-207.98 792.78,-198.71 792.78,-190.11\"/>\n",
       "<polygon fill=\"black\" stroke=\"black\" points=\"796.28,-190.1 792.78,-180.1 789.28,-190.1 796.28,-190.1\"/>\n",
       "</g>\n",
       "</g>\n",
       "</svg>\n"
      ],
      "text/plain": [
       "<graphviz.dot.Digraph at 0x7f516ddd7b80>"
      ]
     },
     "execution_count": 16,
     "metadata": {},
     "output_type": "execute_result"
    }
   ],
   "source": [
    "time_features.graph"
   ]
  },
  {
   "cell_type": "markdown",
   "metadata": {},
   "source": [
    "### 5.4. Normalize Continuous Features¶"
   ]
  },
  {
   "cell_type": "code",
   "execution_count": 17,
   "metadata": {},
   "outputs": [],
   "source": [
    "# Smoothing price long-tailed distribution\n",
    "price_log = ['price'] >> nvt.ops.LogOp() >> nvt.ops.Normalize() >> nvt.ops.Rename(name='price_log_norm')"
   ]
  },
  {
   "cell_type": "code",
   "execution_count": 18,
   "metadata": {},
   "outputs": [],
   "source": [
    "# Relative Price to the average price for the category_id\n",
    "def relative_price_to_avg_categ(col, gdf):\n",
    "    epsilon = 1e-5\n",
    "    col = ((gdf['price'] - col) / (col + epsilon)) * (col > 0).astype(int)\n",
    "    return col\n",
    "    \n",
    "avg_category_id_pr = ['category_id'] >> nvt.ops.JoinGroupby(cont_cols =['price'], stats=[\"mean\"]) >> nvt.ops.Rename(name='avg_category_id_price')\n",
    "relative_price_to_avg_category = avg_category_id_pr >> nvt.ops.LambdaOp(relative_price_to_avg_categ, dependency=['price']) >> nvt.ops.Rename(name=\"relative_price_to_avg_categ_id\")"
   ]
  },
  {
   "cell_type": "markdown",
   "metadata": {},
   "source": [
    "### 5.5. Grouping interactions into sessions¶"
   ]
  },
  {
   "cell_type": "markdown",
   "metadata": {},
   "source": [
    "#### Aggregate by session id (create sequence as type of array)"
   ]
  },
  {
   "cell_type": "code",
   "execution_count": 19,
   "metadata": {},
   "outputs": [],
   "source": [
    "groupby_feats = ['event_time_ts', 'user_session'] + cat_feats + time_features + price_log + relative_price_to_avg_category"
   ]
  },
  {
   "cell_type": "code",
   "execution_count": 20,
   "metadata": {},
   "outputs": [],
   "source": [
    "# Define Groupby Workflow\n",
    "groupby_features = groupby_feats >> nvt.ops.Groupby(\n",
    "    groupby_cols=[\"user_session\"], \n",
    "    sort_cols=[\"event_time_ts\"],\n",
    "    aggs={\n",
    "        'user_id': ['first'],\n",
    "        'product_id': [\"list\", \"count\"],\n",
    "        'category_code': [\"list\"],  \n",
    "        'event_type': [\"list\"], \n",
    "        'brand': [\"list\"], \n",
    "        'category_id': [\"list\"], \n",
    "        'event_time_ts': [\"first\"],\n",
    "        'event_time_dt': [\"first\"],\n",
    "        'et_dayofweek_sin': [\"list\"],\n",
    "        'et_dayofweek_cos': [\"list\"],\n",
    "        'price_log_norm': [\"list\"],\n",
    "        'relative_price_to_avg_categ_id': [\"list\"],\n",
    "        'product_recency_days_log_norm': [\"list\"]\n",
    "        },\n",
    "    name_sep=\"-\")"
   ]
  },
  {
   "cell_type": "markdown",
   "metadata": {},
   "source": [
    "- Select columns which are not list"
   ]
  },
  {
   "cell_type": "code",
   "execution_count": 21,
   "metadata": {},
   "outputs": [],
   "source": [
    "groupby_features_list = groupby_features['product_id-list',\n",
    "        'category_code-list',  \n",
    "        'event_type-list', \n",
    "        'brand-list', \n",
    "        'category_id-list', \n",
    "        'et_dayofweek_sin-list',\n",
    "        'et_dayofweek_cos-list',\n",
    "        'price_log_norm-list',\n",
    "        'relative_price_to_avg_categ_id-list',\n",
    "        'product_recency_days_log_norm-list']"
   ]
  },
  {
   "cell_type": "code",
   "execution_count": 22,
   "metadata": {},
   "outputs": [],
   "source": [
    "SESSIONS_MAX_LENGTH = 20 \n",
    "MINIMUM_SESSION_LENGTH = 2"
   ]
  },
  {
   "cell_type": "markdown",
   "metadata": {},
   "source": [
    "We trim the features in sequence in each session according to sessions_max_length param which is set as 20 in our example."
   ]
  },
  {
   "cell_type": "code",
   "execution_count": 23,
   "metadata": {},
   "outputs": [],
   "source": [
    "groupby_features_trim = groupby_features_list >> nvt.ops.ListSlice(0,SESSIONS_MAX_LENGTH) >> nvt.ops.Rename(postfix = '_seq')"
   ]
  },
  {
   "cell_type": "markdown",
   "metadata": {},
   "source": [
    "- Create a `day_index` column in order to partition sessions by day when saving the parquet files."
   ]
  },
  {
   "cell_type": "code",
   "execution_count": 24,
   "metadata": {},
   "outputs": [],
   "source": [
    "# calculate session day index based on 'timestamp-first' column\n",
    "day_index = ((groupby_features['event_time_dt-first'])  >> \n",
    "    nvt.ops.LambdaOp(lambda col: (col - col.min()).dt.days +1) >> \n",
    "    nvt.ops.Rename(f = lambda col: \"day_index\")\n",
    ")"
   ]
  },
  {
   "cell_type": "markdown",
   "metadata": {},
   "source": [
    "- Select certain columns to be used in model training"
   ]
  },
  {
   "cell_type": "code",
   "execution_count": 25,
   "metadata": {},
   "outputs": [],
   "source": [
    "selected_features = groupby_features['user_session', 'product_id-count'] + groupby_features_trim + day_index"
   ]
  },
  {
   "cell_type": "markdown",
   "metadata": {},
   "source": [
    "- Filter out the session that have less than 1 interactions."
   ]
  },
  {
   "cell_type": "code",
   "execution_count": 26,
   "metadata": {},
   "outputs": [],
   "source": [
    "filtered_sessions = selected_features >> nvt.ops.Filter(f=lambda df: df[\"product_id-count\"] >= MINIMUM_SESSION_LENGTH)"
   ]
  },
  {
   "cell_type": "markdown",
   "metadata": {},
   "source": [
    "- Initialize the NVTabular dataset object and workflow graph."
   ]
  },
  {
   "cell_type": "markdown",
   "metadata": {},
   "source": [
    "NVTabular's preprocessing and feature engineering workflows are directed graphs of operators. When we initialize an NVTabular Workflow with our pipeline, workflow organizes the input and output columns."
   ]
  },
  {
   "cell_type": "code",
   "execution_count": 27,
   "metadata": {},
   "outputs": [
    {
     "name": "stderr",
     "output_type": "stream",
     "text": [
      "/root/.local/lib/python3.8/site-packages/numba-0.54.0rc2-py3.8-linux-x86_64.egg/numba/cuda/compiler.py:865: NumbaPerformanceWarning: \u001b[1mGrid size (1) < 2 * SM count (160) will likely result in GPU under utilization due to low occupancy.\u001b[0m\n",
      "  warn(NumbaPerformanceWarning(msg))\n",
      "/root/.local/lib/python3.8/site-packages/numba-0.54.0rc2-py3.8-linux-x86_64.egg/numba/cuda/compiler.py:865: NumbaPerformanceWarning: \u001b[1mGrid size (1) < 2 * SM count (160) will likely result in GPU under utilization due to low occupancy.\u001b[0m\n",
      "  warn(NumbaPerformanceWarning(msg))\n"
     ]
    }
   ],
   "source": [
    "dataset = nvt.Dataset(df)\n",
    "\n",
    "workflow = nvt.Workflow(filtered_sessions)\n",
    "workflow.fit(dataset)\n",
    "sessions_gdf = workflow.transform(dataset).to_ddf()"
   ]
  },
  {
   "cell_type": "markdown",
   "metadata": {},
   "source": [
    "Above, we created an NVTabular Dataset object using our input dataset. Then, we calculate statistics for this workflow on the input dataset, i.e. on our training set, using the workflow.fit() method so that our Workflow can use these stats to transform any given input."
   ]
  },
  {
   "cell_type": "markdown",
   "metadata": {},
   "source": [
    "Let's print the head of our preprocessed dataset"
   ]
  },
  {
   "cell_type": "code",
   "execution_count": 28,
   "metadata": {},
   "outputs": [
    {
     "data": {
      "text/html": [
       "<div>\n",
       "<style scoped>\n",
       "    .dataframe tbody tr th:only-of-type {\n",
       "        vertical-align: middle;\n",
       "    }\n",
       "\n",
       "    .dataframe tbody tr th {\n",
       "        vertical-align: top;\n",
       "    }\n",
       "\n",
       "    .dataframe thead th {\n",
       "        text-align: right;\n",
       "    }\n",
       "</style>\n",
       "<table border=\"1\" class=\"dataframe\">\n",
       "  <thead>\n",
       "    <tr style=\"text-align: right;\">\n",
       "      <th></th>\n",
       "      <th>user_session</th>\n",
       "      <th>product_id-count</th>\n",
       "      <th>product_id-list_seq</th>\n",
       "      <th>category_code-list_seq</th>\n",
       "      <th>event_type-list_seq</th>\n",
       "      <th>brand-list_seq</th>\n",
       "      <th>category_id-list_seq</th>\n",
       "      <th>et_dayofweek_sin-list_seq</th>\n",
       "      <th>et_dayofweek_cos-list_seq</th>\n",
       "      <th>price_log_norm-list_seq</th>\n",
       "      <th>relative_price_to_avg_categ_id-list_seq</th>\n",
       "      <th>product_recency_days_log_norm-list_seq</th>\n",
       "      <th>day_index</th>\n",
       "    </tr>\n",
       "  </thead>\n",
       "  <tbody>\n",
       "    <tr>\n",
       "      <th>0</th>\n",
       "      <td>2</td>\n",
       "      <td>779</td>\n",
       "      <td>[19064, 52057, 13290, 11446, 15835, 879, 633, ...</td>\n",
       "      <td>[1, 1, 1, 1, 1, 12, 12, 12, 12, 12, 12, 12, 12...</td>\n",
       "      <td>[2, 2, 2, 2, 2, 2, 2, 2, 2, 2, 2, 2, 2, 2, 2, ...</td>\n",
       "      <td>[171, 120, 231, 392, 562, 20, 9, 20, 295, 143,...</td>\n",
       "      <td>[3, 3, 3, 3, 3, 17, 17, 17, 17, 17, 17, 17, 17...</td>\n",
       "      <td>[0.9749277, 0.9749277, 0.9749277, 0.9749277, 0...</td>\n",
       "      <td>[-0.22252177, -0.22252177, -0.22252177, -0.222...</td>\n",
       "      <td>[-0.6063043, -0.5922227, -0.58657265, -0.95319...</td>\n",
       "      <td>[0.03519271796785137, 0.05391070768135524, 0.0...</td>\n",
       "      <td>[-2.2660856, -2.2660856, -2.2657654, -2.266085...</td>\n",
       "      <td>1</td>\n",
       "    </tr>\n",
       "    <tr>\n",
       "      <th>1</th>\n",
       "      <td>3</td>\n",
       "      <td>316</td>\n",
       "      <td>[252, 2801, 5399, 1074, 252, 355, 327, 319, 34...</td>\n",
       "      <td>[1, 17, 17, 15, 1, 1, 17, 31, 17, 17, 17, 17, ...</td>\n",
       "      <td>[2, 2, 2, 2, 2, 2, 2, 2, 2, 2, 2, 2, 2, 2, 2, ...</td>\n",
       "      <td>[1, 1, 1, 1, 1, 50, 1, 1, 36, 1, 1, 36, 50, 1,...</td>\n",
       "      <td>[234, 36, 36, 30, 234, 52, 36, 48, 36, 36, 36,...</td>\n",
       "      <td>[0.43388295, 0.43388295, 0.43388295, 0.4338829...</td>\n",
       "      <td>[-0.90096927, -0.90096927, -0.90096927, -0.900...</td>\n",
       "      <td>[0.76379955, 0.40693888, 0.2585879, 0.01305802...</td>\n",
       "      <td>[0.0006990395296891112, -0.048753441585919946,...</td>\n",
       "      <td>[-0.8581507, -0.9379308, -1.0066843, -0.936325...</td>\n",
       "      <td>2</td>\n",
       "    </tr>\n",
       "    <tr>\n",
       "      <th>2</th>\n",
       "      <td>4</td>\n",
       "      <td>277</td>\n",
       "      <td>[765, 353, 1360, 1965, 2204, 3129, 726, 861, 9...</td>\n",
       "      <td>[12, 12, 12, 12, 12, 12, 12, 12, 12, 12, 12, 1...</td>\n",
       "      <td>[2, 2, 2, 2, 2, 2, 2, 2, 2, 2, 2, 2, 2, 2, 2, ...</td>\n",
       "      <td>[448, 114, 1, 20, 20, 72, 114, 143, 20, 141, 7...</td>\n",
       "      <td>[17, 17, 17, 17, 17, 17, 17, 17, 17, 17, 17, 1...</td>\n",
       "      <td>[0.43388295, 0.43388295, 0.43388295, 0.4338829...</td>\n",
       "      <td>[-0.90096927, -0.90096927, -0.90096927, -0.900...</td>\n",
       "      <td>[-1.7807854, -0.5645747, -0.04535069, -0.43499...</td>\n",
       "      <td>[-0.8327209899254823, -0.1912324036802535, 0.5...</td>\n",
       "      <td>[-0.7992506, -0.78641737, -0.8228414, -0.79577...</td>\n",
       "      <td>2</td>\n",
       "    </tr>\n",
       "  </tbody>\n",
       "</table>\n",
       "</div>"
      ],
      "text/plain": [
       "   user_session  product_id-count  \\\n",
       "0             2               779   \n",
       "1             3               316   \n",
       "2             4               277   \n",
       "\n",
       "                                 product_id-list_seq  \\\n",
       "0  [19064, 52057, 13290, 11446, 15835, 879, 633, ...   \n",
       "1  [252, 2801, 5399, 1074, 252, 355, 327, 319, 34...   \n",
       "2  [765, 353, 1360, 1965, 2204, 3129, 726, 861, 9...   \n",
       "\n",
       "                              category_code-list_seq  \\\n",
       "0  [1, 1, 1, 1, 1, 12, 12, 12, 12, 12, 12, 12, 12...   \n",
       "1  [1, 17, 17, 15, 1, 1, 17, 31, 17, 17, 17, 17, ...   \n",
       "2  [12, 12, 12, 12, 12, 12, 12, 12, 12, 12, 12, 1...   \n",
       "\n",
       "                                 event_type-list_seq  \\\n",
       "0  [2, 2, 2, 2, 2, 2, 2, 2, 2, 2, 2, 2, 2, 2, 2, ...   \n",
       "1  [2, 2, 2, 2, 2, 2, 2, 2, 2, 2, 2, 2, 2, 2, 2, ...   \n",
       "2  [2, 2, 2, 2, 2, 2, 2, 2, 2, 2, 2, 2, 2, 2, 2, ...   \n",
       "\n",
       "                                      brand-list_seq  \\\n",
       "0  [171, 120, 231, 392, 562, 20, 9, 20, 295, 143,...   \n",
       "1  [1, 1, 1, 1, 1, 50, 1, 1, 36, 1, 1, 36, 50, 1,...   \n",
       "2  [448, 114, 1, 20, 20, 72, 114, 143, 20, 141, 7...   \n",
       "\n",
       "                                category_id-list_seq  \\\n",
       "0  [3, 3, 3, 3, 3, 17, 17, 17, 17, 17, 17, 17, 17...   \n",
       "1  [234, 36, 36, 30, 234, 52, 36, 48, 36, 36, 36,...   \n",
       "2  [17, 17, 17, 17, 17, 17, 17, 17, 17, 17, 17, 1...   \n",
       "\n",
       "                           et_dayofweek_sin-list_seq  \\\n",
       "0  [0.9749277, 0.9749277, 0.9749277, 0.9749277, 0...   \n",
       "1  [0.43388295, 0.43388295, 0.43388295, 0.4338829...   \n",
       "2  [0.43388295, 0.43388295, 0.43388295, 0.4338829...   \n",
       "\n",
       "                           et_dayofweek_cos-list_seq  \\\n",
       "0  [-0.22252177, -0.22252177, -0.22252177, -0.222...   \n",
       "1  [-0.90096927, -0.90096927, -0.90096927, -0.900...   \n",
       "2  [-0.90096927, -0.90096927, -0.90096927, -0.900...   \n",
       "\n",
       "                             price_log_norm-list_seq  \\\n",
       "0  [-0.6063043, -0.5922227, -0.58657265, -0.95319...   \n",
       "1  [0.76379955, 0.40693888, 0.2585879, 0.01305802...   \n",
       "2  [-1.7807854, -0.5645747, -0.04535069, -0.43499...   \n",
       "\n",
       "             relative_price_to_avg_categ_id-list_seq  \\\n",
       "0  [0.03519271796785137, 0.05391070768135524, 0.0...   \n",
       "1  [0.0006990395296891112, -0.048753441585919946,...   \n",
       "2  [-0.8327209899254823, -0.1912324036802535, 0.5...   \n",
       "\n",
       "              product_recency_days_log_norm-list_seq  day_index  \n",
       "0  [-2.2660856, -2.2660856, -2.2657654, -2.266085...          1  \n",
       "1  [-0.8581507, -0.9379308, -1.0066843, -0.936325...          2  \n",
       "2  [-0.7992506, -0.78641737, -0.8228414, -0.79577...          2  "
      ]
     },
     "execution_count": 28,
     "metadata": {},
     "output_type": "execute_result"
    }
   ],
   "source": [
    "sessions_gdf.head(3)"
   ]
  },
  {
   "cell_type": "code",
   "execution_count": 26,
   "metadata": {},
   "outputs": [
    {
     "data": {
      "text/plain": [
       "['user_session',\n",
       " 'product_id-count',\n",
       " 'product_id-list_seq',\n",
       " 'category_code-list_seq',\n",
       " 'event_type-list_seq',\n",
       " 'brand-list_seq',\n",
       " 'category_id-list_seq',\n",
       " 'et_dayofweek_sin-list_seq',\n",
       " 'et_dayofweek_cos-list_seq',\n",
       " 'price_log_norm-list_seq',\n",
       " 'relative_price_to_avg_categ_id-list_seq',\n",
       " 'product_recency_days_log_norm-list_seq',\n",
       " 'day_index']"
      ]
     },
     "execution_count": 26,
     "metadata": {},
     "output_type": "execute_result"
    }
   ],
   "source": [
    "workflow.output_schema.column_names"
   ]
  },
  {
   "cell_type": "markdown",
   "metadata": {},
   "source": [
    "- Save workflow to load later on"
   ]
  },
  {
   "cell_type": "code",
   "execution_count": 27,
   "metadata": {},
   "outputs": [],
   "source": [
    "workflow.save('workflow_ecommerce_etl')"
   ]
  },
  {
   "cell_type": "markdown",
   "metadata": {},
   "source": [
    "In this step we can serialize our nvtabular model, and generate model config files to be able to serve our model to [Triton Inference Server](https://github.com/triton-inference-server/server)."
   ]
  },
  {
   "cell_type": "code",
   "execution_count": 28,
   "metadata": {},
   "outputs": [
    {
     "data": {
      "text/plain": [
       "name: \"model_nvt\"\n",
       "input {\n",
       "  name: \"event_time_ts\"\n",
       "  data_type: TYPE_INT64\n",
       "  dims: -1\n",
       "  dims: 1\n",
       "}\n",
       "input {\n",
       "  name: \"user_session\"\n",
       "  data_type: TYPE_INT64\n",
       "  dims: -1\n",
       "  dims: 1\n",
       "}\n",
       "input {\n",
       "  name: \"price\"\n",
       "  data_type: TYPE_FP64\n",
       "  dims: -1\n",
       "  dims: 1\n",
       "}\n",
       "input {\n",
       "  name: \"category_id\"\n",
       "  data_type: TYPE_INT64\n",
       "  dims: -1\n",
       "  dims: 1\n",
       "}\n",
       "input {\n",
       "  name: \"prod_first_event_time_ts\"\n",
       "  data_type: TYPE_INT64\n",
       "  dims: -1\n",
       "  dims: 1\n",
       "}\n",
       "input {\n",
       "  name: \"category_code\"\n",
       "  data_type: TYPE_STRING\n",
       "  dims: -1\n",
       "  dims: 1\n",
       "}\n",
       "input {\n",
       "  name: \"event_type\"\n",
       "  data_type: TYPE_STRING\n",
       "  dims: -1\n",
       "  dims: 1\n",
       "}\n",
       "input {\n",
       "  name: \"product_id\"\n",
       "  data_type: TYPE_INT64\n",
       "  dims: -1\n",
       "  dims: 1\n",
       "}\n",
       "input {\n",
       "  name: \"user_id\"\n",
       "  data_type: TYPE_INT64\n",
       "  dims: -1\n",
       "  dims: 1\n",
       "}\n",
       "input {\n",
       "  name: \"brand\"\n",
       "  data_type: TYPE_STRING\n",
       "  dims: -1\n",
       "  dims: 1\n",
       "}\n",
       "output {\n",
       "  name: \"user_session\"\n",
       "  data_type: TYPE_INT64\n",
       "  dims: -1\n",
       "  dims: 1\n",
       "}\n",
       "output {\n",
       "  name: \"product_id-count\"\n",
       "  data_type: TYPE_INT32\n",
       "  dims: -1\n",
       "  dims: 1\n",
       "}\n",
       "output {\n",
       "  name: \"product_id-list_seq__values\"\n",
       "  data_type: TYPE_INT64\n",
       "  dims: -1\n",
       "  dims: 1\n",
       "}\n",
       "output {\n",
       "  name: \"product_id-list_seq__nnzs\"\n",
       "  data_type: TYPE_INT64\n",
       "  dims: -1\n",
       "  dims: 1\n",
       "}\n",
       "output {\n",
       "  name: \"category_code-list_seq__values\"\n",
       "  data_type: TYPE_INT64\n",
       "  dims: -1\n",
       "  dims: 1\n",
       "}\n",
       "output {\n",
       "  name: \"category_code-list_seq__nnzs\"\n",
       "  data_type: TYPE_INT64\n",
       "  dims: -1\n",
       "  dims: 1\n",
       "}\n",
       "output {\n",
       "  name: \"event_type-list_seq__values\"\n",
       "  data_type: TYPE_INT64\n",
       "  dims: -1\n",
       "  dims: 1\n",
       "}\n",
       "output {\n",
       "  name: \"event_type-list_seq__nnzs\"\n",
       "  data_type: TYPE_INT64\n",
       "  dims: -1\n",
       "  dims: 1\n",
       "}\n",
       "output {\n",
       "  name: \"brand-list_seq__values\"\n",
       "  data_type: TYPE_INT64\n",
       "  dims: -1\n",
       "  dims: 1\n",
       "}\n",
       "output {\n",
       "  name: \"brand-list_seq__nnzs\"\n",
       "  data_type: TYPE_INT64\n",
       "  dims: -1\n",
       "  dims: 1\n",
       "}\n",
       "output {\n",
       "  name: \"category_id-list_seq__values\"\n",
       "  data_type: TYPE_INT64\n",
       "  dims: -1\n",
       "  dims: 1\n",
       "}\n",
       "output {\n",
       "  name: \"category_id-list_seq__nnzs\"\n",
       "  data_type: TYPE_INT64\n",
       "  dims: -1\n",
       "  dims: 1\n",
       "}\n",
       "output {\n",
       "  name: \"et_dayofweek_sin-list_seq__values\"\n",
       "  data_type: TYPE_FP32\n",
       "  dims: -1\n",
       "  dims: 1\n",
       "}\n",
       "output {\n",
       "  name: \"et_dayofweek_sin-list_seq__nnzs\"\n",
       "  data_type: TYPE_INT64\n",
       "  dims: -1\n",
       "  dims: 1\n",
       "}\n",
       "output {\n",
       "  name: \"et_dayofweek_cos-list_seq__values\"\n",
       "  data_type: TYPE_FP32\n",
       "  dims: -1\n",
       "  dims: 1\n",
       "}\n",
       "output {\n",
       "  name: \"et_dayofweek_cos-list_seq__nnzs\"\n",
       "  data_type: TYPE_INT64\n",
       "  dims: -1\n",
       "  dims: 1\n",
       "}\n",
       "output {\n",
       "  name: \"price_log_norm-list_seq__values\"\n",
       "  data_type: TYPE_FP32\n",
       "  dims: -1\n",
       "  dims: 1\n",
       "}\n",
       "output {\n",
       "  name: \"price_log_norm-list_seq__nnzs\"\n",
       "  data_type: TYPE_INT64\n",
       "  dims: -1\n",
       "  dims: 1\n",
       "}\n",
       "output {\n",
       "  name: \"relative_price_to_avg_categ_id-list_seq__values\"\n",
       "  data_type: TYPE_FP64\n",
       "  dims: -1\n",
       "  dims: 1\n",
       "}\n",
       "output {\n",
       "  name: \"relative_price_to_avg_categ_id-list_seq__nnzs\"\n",
       "  data_type: TYPE_INT64\n",
       "  dims: -1\n",
       "  dims: 1\n",
       "}\n",
       "output {\n",
       "  name: \"product_recency_days_log_norm-list_seq__values\"\n",
       "  data_type: TYPE_FP32\n",
       "  dims: -1\n",
       "  dims: 1\n",
       "}\n",
       "output {\n",
       "  name: \"product_recency_days_log_norm-list_seq__nnzs\"\n",
       "  data_type: TYPE_INT64\n",
       "  dims: -1\n",
       "  dims: 1\n",
       "}\n",
       "output {\n",
       "  name: \"day_index\"\n",
       "  data_type: TYPE_INT64\n",
       "  dims: -1\n",
       "  dims: 1\n",
       "}\n",
       "parameters {\n",
       "  key: \"output_model\"\n",
       "  value {\n",
       "  }\n",
       "}\n",
       "parameters {\n",
       "  key: \"python_module\"\n",
       "  value {\n",
       "    string_value: \"nvtabular.inference.triton.model\"\n",
       "  }\n",
       "}\n",
       "backend: \"python\""
      ]
     },
     "execution_count": 28,
     "metadata": {},
     "output_type": "execute_result"
    }
   ],
   "source": [
    "from nvtabular.inference.triton import generate_nvtabular_model\n",
    "generate_nvtabular_model(\n",
    "    workflow=workflow,\n",
    "    name='model_nvt',\n",
    "    output_path='/workspace/TF4Rec/models/model_nvt/',\n",
    ")"
   ]
  },
  {
   "cell_type": "markdown",
   "metadata": {},
   "source": [
    "## 6. Exporting data"
   ]
  },
  {
   "cell_type": "markdown",
   "metadata": {},
   "source": [
    "We export dataset to parquet, partioned by the session day_idx. When our Workflow transforms our dataset, we also save the results out to parquet files for fast reading at train time."
   ]
  },
  {
   "cell_type": "code",
   "execution_count": 29,
   "metadata": {},
   "outputs": [],
   "source": [
    "# define partition column\n",
    "PARTITION_COL = 'day_index'\n",
    "\n",
    "# Convert to a Dataset and write out hive-partitioned data to disk\n",
    "workflow.transform(dataset).to_parquet(OUTPUT_DATA_DIR, partition_on=[PARTITION_COL])"
   ]
  },
  {
   "cell_type": "code",
   "execution_count": 30,
   "metadata": {},
   "outputs": [
    {
     "name": "stdout",
     "output_type": "stream",
     "text": [
      " _file_list.txt   _metadata.json  'day_index=2'  'day_index=4'\t'day_index=6'\n",
      " _metadata\t 'day_index=1'\t  'day_index=3'  'day_index=5'\t'day_index=7'\n"
     ]
    }
   ],
   "source": [
    "!ls $OUTPUT_DATA_DIR"
   ]
  },
  {
   "cell_type": "code",
   "execution_count": 31,
   "metadata": {},
   "outputs": [],
   "source": [
    "# define output_folder to store the partitioned parquet files\n",
    "OUTPUT_FOLDER = os.path.join(INPUT_DATA_DIR, 'sessions_by_day')\n",
    "!mkdir -p $OUTPUT_FOLDER"
   ]
  },
  {
   "cell_type": "markdown",
   "metadata": {},
   "source": [
    "In this section we are going to create a folder structure as shown below. As we explained above, this is just to structure parquet files so that it would be easier to do incremental training and evaluation."
   ]
  },
  {
   "cell_type": "markdown",
   "metadata": {},
   "source": [
    "```\n",
    "/output/sessions_by_day/\n",
    "|-- 1\n",
    "|   |-- train.parquet\n",
    "|   |-- valid.parquet\n",
    "|   |-- test.parquet\n",
    "\n",
    "|-- 2\n",
    "|   |-- train.parquet\n",
    "|   |-- valid.parquet\n",
    "|   |-- test.parquet\n",
    "```"
   ]
  },
  {
   "cell_type": "code",
   "execution_count": 33,
   "metadata": {},
   "outputs": [],
   "source": [
    "days_folders = [f for f in sorted(os.listdir(OUTPUT_DATA_DIR)) if f.startswith(PARTITION_COL)]\n",
    "for day_folder in days_folders:\n",
    "    df = cudf.read_parquet(os.path.join(OUTPUT_DATA_DIR, day_folder))\n",
    "    out_folder = os.path.join(OUTPUT_FOLDER, day_folder.replace('day_index=', ''))\n",
    "    os.makedirs(out_folder, exist_ok=True)\n",
    "    \n",
    "    cp.random.seed(1)\n",
    "    random_values = cp.random.rand(len(df))\n",
    "    # Extracts 80% , 10%  and 10% for train, valid and test set, respectively. \n",
    "    train_set = df[random_values <= 0.80]\n",
    "    train_set.to_parquet(os.path.join(out_folder, 'train.parquet'))\n",
    "    \n",
    "    valid_set = df[(random_values > 0.80) &  (random_values < 0.90)]\n",
    "    valid_set.to_parquet(os.path.join(out_folder, 'valid.parquet'))\n",
    "    \n",
    "    test_set = df[random_values >= 0.90]\n",
    "    test_set.to_parquet(os.path.join(out_folder, 'test.parquet'))"
   ]
  },
  {
   "cell_type": "code",
   "execution_count": 44,
   "metadata": {},
   "outputs": [],
   "source": []
  },
  {
   "cell_type": "markdown",
   "metadata": {},
   "source": [
    "## 7. Wrap Up "
   ]
  },
  {
   "cell_type": "markdown",
   "metadata": {},
   "source": [
    "That's it! we finished our first task. We reprocessed our dataset and created new features to train a session-based recommendation model. Please run the cell below to shut down the kernel before moving on to the next notebook."
   ]
  },
  {
   "cell_type": "code",
   "execution_count": 35,
   "metadata": {},
   "outputs": [],
   "source": [
    "import IPython\n",
    "\n",
    "app = IPython.Application.instance()\n",
    "app.kernel.do_shutdown(True)"
   ]
  }
 ],
 "metadata": {
  "kernelspec": {
   "display_name": "Python 3 (ipykernel)",
   "language": "python",
   "name": "python3"
  },
  "language_info": {
   "codemirror_mode": {
    "name": "ipython",
    "version": 3
   },
   "file_extension": ".py",
   "mimetype": "text/x-python",
   "name": "python",
   "nbconvert_exporter": "python",
   "pygments_lexer": "ipython3",
   "version": "3.8.10"
  }
 },
 "nbformat": 4,
 "nbformat_minor": 4
}
