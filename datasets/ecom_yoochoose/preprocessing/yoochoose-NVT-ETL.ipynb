{
 "cells": [
  {
   "cell_type": "code",
   "execution_count": null,
   "id": "c434a9a3",
   "metadata": {},
   "outputs": [],
   "source": [
    "# Copyright 2021 NVIDIA Corporation. All Rights Reserved.\n",
    "#\n",
    "# Licensed under the Apache License, Version 2.0 (the \"License\");\n",
    "# you may not use this file except in compliance with the License.\n",
    "# You may obtain a copy of the License at\n",
    "#\n",
    "#     http://www.apache.org/licenses/LICENSE-2.0\n",
    "#\n",
    "# Unless required by applicable law or agreed to in writing, software\n",
    "# distributed under the License is distributed on an \"AS IS\" BASIS,\n",
    "# WITHOUT WARRANTIES OR CONDITIONS OF ANY KIND, either express or implied.\n",
    "# See the License for the specific language governing permissions and\n",
    "# limitations under the License."
   ]
  },
  {
   "cell_type": "markdown",
   "id": "fa8d41e5-6d51-44d3-8fec-9fa126958859",
   "metadata": {},
   "source": [
    "## Dataset"
   ]
  },
  {
   "cell_type": "markdown",
   "id": "4624bb09-6e3a-4c87-ae87-c0fe165476aa",
   "metadata": {},
   "source": [
    "In this notebook we are using the `YOOCHOOSE dataset` which contains a collection of sessions from a retailer, where each session is encapsulating the click events that the user performed in that session.\n",
    "\n",
    "The dataset is available on [Kaggle](https://www.kaggle.com/chadgostopp/recsys-challenge-2015)."
   ]
  },
  {
   "cell_type": "markdown",
   "id": "10891505-1f32-42c4-862f-538a05f982df",
   "metadata": {},
   "source": [
    "- Import required libraries"
   ]
  },
  {
   "cell_type": "code",
   "execution_count": 2,
   "id": "c5f1e513",
   "metadata": {},
   "outputs": [],
   "source": [
    "import os\n",
    "import pandas as pd\n",
    "import numpy as np\n",
    "import gc\n",
    "\n",
    "import cudf\n",
    "import cupy\n",
    "import nvtabular as nvt\n",
    "from nvtabular import ColumnSelector"
   ]
  },
  {
   "cell_type": "code",
   "execution_count": 3,
   "id": "e64161d9",
   "metadata": {},
   "outputs": [],
   "source": [
    "DATA_FOLDER = \"/workspace/yoochoose/\"\n",
    "FILENAME_PATTERN = 'yoochoose-clicks.dat'\n",
    "DATA_PATH = os.path.join(DATA_FOLDER, FILENAME_PATTERN)"
   ]
  },
  {
   "cell_type": "code",
   "execution_count": 4,
   "id": "d40f29e7",
   "metadata": {},
   "outputs": [],
   "source": [
    "OUTPUT_FOLDER = \"/workspace/yoochoose/sessions_by_day_ts\"\n",
    "!mkdir -p $OUTPUT_FOLDER"
   ]
  },
  {
   "cell_type": "code",
   "execution_count": 5,
   "id": "c43679a7",
   "metadata": {},
   "outputs": [],
   "source": [
    "MINIMUM_SESSION_LENGTH = 2"
   ]
  },
  {
   "cell_type": "markdown",
   "id": "2710d9ba",
   "metadata": {},
   "source": [
    "### Loading data"
   ]
  },
  {
   "cell_type": "code",
   "execution_count": 6,
   "id": "a1f880a9",
   "metadata": {},
   "outputs": [],
   "source": [
    "#List of columns names to be used for CSV without the header line\n",
    "HEADLESS_CSV_COLUMN_NAMES = ['session_id','timestamp', 'item_id', 'category']"
   ]
  },
  {
   "cell_type": "code",
   "execution_count": 7,
   "id": "fcfd5bfd",
   "metadata": {},
   "outputs": [],
   "source": [
    "interactions_df = cudf.read_csv(DATA_PATH, sep=',', names=HEADLESS_CSV_COLUMN_NAMES)"
   ]
  },
  {
   "cell_type": "markdown",
   "id": "791e5e84",
   "metadata": {},
   "source": [
    "- Convert timestamp from datetime"
   ]
  },
  {
   "cell_type": "code",
   "execution_count": 8,
   "id": "fa7221ee",
   "metadata": {},
   "outputs": [],
   "source": [
    "interactions_df['event_time_dt'] = interactions_df['timestamp'].astype('datetime64[s]')\n",
    "interactions_df['event_time_ts']= interactions_df['event_time_dt'].astype('int')"
   ]
  },
  {
   "cell_type": "code",
   "execution_count": 9,
   "id": "00067733",
   "metadata": {},
   "outputs": [],
   "source": [
    "interactions_df = interactions_df.drop(['timestamp'], axis=1)"
   ]
  },
  {
   "cell_type": "code",
   "execution_count": 10,
   "id": "27bd078b",
   "metadata": {},
   "outputs": [
    {
     "data": {
      "text/html": [
       "<div>\n",
       "<style scoped>\n",
       "    .dataframe tbody tr th:only-of-type {\n",
       "        vertical-align: middle;\n",
       "    }\n",
       "\n",
       "    .dataframe tbody tr th {\n",
       "        vertical-align: top;\n",
       "    }\n",
       "\n",
       "    .dataframe thead th {\n",
       "        text-align: right;\n",
       "    }\n",
       "</style>\n",
       "<table border=\"1\" class=\"dataframe\">\n",
       "  <thead>\n",
       "    <tr style=\"text-align: right;\">\n",
       "      <th></th>\n",
       "      <th>session_id</th>\n",
       "      <th>item_id</th>\n",
       "      <th>category</th>\n",
       "      <th>event_time_dt</th>\n",
       "      <th>event_time_ts</th>\n",
       "    </tr>\n",
       "  </thead>\n",
       "  <tbody>\n",
       "    <tr>\n",
       "      <th>0</th>\n",
       "      <td>1</td>\n",
       "      <td>214536502</td>\n",
       "      <td>0</td>\n",
       "      <td>2014-04-07 10:51:09</td>\n",
       "      <td>1396867869</td>\n",
       "    </tr>\n",
       "    <tr>\n",
       "      <th>1</th>\n",
       "      <td>1</td>\n",
       "      <td>214536500</td>\n",
       "      <td>0</td>\n",
       "      <td>2014-04-07 10:54:09</td>\n",
       "      <td>1396868049</td>\n",
       "    </tr>\n",
       "  </tbody>\n",
       "</table>\n",
       "</div>"
      ],
      "text/plain": [
       "   session_id    item_id category       event_time_dt  event_time_ts\n",
       "0           1  214536502        0 2014-04-07 10:51:09     1396867869\n",
       "1           1  214536500        0 2014-04-07 10:54:09     1396868049"
      ]
     },
     "execution_count": 10,
     "metadata": {},
     "output_type": "execute_result"
    }
   ],
   "source": [
    "interactions_df.head(2)"
   ]
  },
  {
   "cell_type": "markdown",
   "id": "4baccef3",
   "metadata": {},
   "source": [
    "### Removing consecutive repeated interactions"
   ]
  },
  {
   "cell_type": "code",
   "execution_count": 11,
   "id": "b60b7aa9",
   "metadata": {},
   "outputs": [
    {
     "name": "stdout",
     "output_type": "stream",
     "text": [
      "Count with in-session repeated interactions: 33003944\n",
      "Count after removed in-session repeated interactions: 28971544\n"
     ]
    }
   ],
   "source": [
    "print(\"Count with in-session repeated interactions: {}\".format(len(interactions_df)))\n",
    "# Sorts the dataframe by session and timestamp, to remove consective repetitions\n",
    "interactions_df = interactions_df.sort_values(['session_id', 'event_time_ts'])\n",
    "\n",
    "interactions_df['item_id_past'] = interactions_df['item_id'].shift(1).fillna(0)\n",
    "interactions_df['session_id_past'] = interactions_df['session_id'].shift(1).fillna(0)\n",
    "#Keeping only no consectutive repeated in session interactions\n",
    "interactions_df = interactions_df[~((interactions_df['session_id'] == interactions_df['session_id_past']) & \\\n",
    "                 (interactions_df['item_id'] == interactions_df['item_id_past']))]\n",
    "print(\"Count after removed in-session repeated interactions: {}\".format(len(interactions_df)))"
   ]
  },
  {
   "cell_type": "code",
   "execution_count": 12,
   "id": "bd8e7e7e",
   "metadata": {},
   "outputs": [],
   "source": [
    "del(interactions_df['item_id_past'])\n",
    "del(interactions_df['session_id_past'])"
   ]
  },
  {
   "cell_type": "markdown",
   "id": "4ac11dc3",
   "metadata": {},
   "source": [
    "### Include the item first time seen feature (for recency calculation)"
   ]
  },
  {
   "cell_type": "code",
   "execution_count": null,
   "id": "13345b41",
   "metadata": {},
   "outputs": [],
   "source": [
    "items_first_ts_df = interactions_df.groupby('item_id').agg({'event_time_ts': 'min'}).reset_index().rename(columns={'event_time_ts': 'itemid_ts_first'})\n",
    "interactions_merged_df = interactions_df.merge(items_first_ts_df, on=['item_id'], how='left')"
   ]
  },
  {
   "cell_type": "code",
   "execution_count": 15,
   "id": "dc82c302",
   "metadata": {},
   "outputs": [
    {
     "data": {
      "text/html": [
       "<div>\n",
       "<style scoped>\n",
       "    .dataframe tbody tr th:only-of-type {\n",
       "        vertical-align: middle;\n",
       "    }\n",
       "\n",
       "    .dataframe tbody tr th {\n",
       "        vertical-align: top;\n",
       "    }\n",
       "\n",
       "    .dataframe thead th {\n",
       "        text-align: right;\n",
       "    }\n",
       "</style>\n",
       "<table border=\"1\" class=\"dataframe\">\n",
       "  <thead>\n",
       "    <tr style=\"text-align: right;\">\n",
       "      <th></th>\n",
       "      <th>session_id</th>\n",
       "      <th>item_id</th>\n",
       "      <th>category</th>\n",
       "      <th>event_time_dt</th>\n",
       "      <th>event_time_ts</th>\n",
       "      <th>itemid_ts_first</th>\n",
       "    </tr>\n",
       "  </thead>\n",
       "  <tbody>\n",
       "    <tr>\n",
       "      <th>0</th>\n",
       "      <td>23123</td>\n",
       "      <td>214821024</td>\n",
       "      <td>0</td>\n",
       "      <td>2014-04-02 20:43:48</td>\n",
       "      <td>1396471428</td>\n",
       "      <td>1396322465</td>\n",
       "    </tr>\n",
       "    <tr>\n",
       "      <th>1</th>\n",
       "      <td>23123</td>\n",
       "      <td>214587384</td>\n",
       "      <td>0</td>\n",
       "      <td>2014-04-02 20:44:51</td>\n",
       "      <td>1396471491</td>\n",
       "      <td>1396321757</td>\n",
       "    </tr>\n",
       "    <tr>\n",
       "      <th>2</th>\n",
       "      <td>23124</td>\n",
       "      <td>214820450</td>\n",
       "      <td>0</td>\n",
       "      <td>2014-04-01 14:54:24</td>\n",
       "      <td>1396364064</td>\n",
       "      <td>1396326153</td>\n",
       "    </tr>\n",
       "    <tr>\n",
       "      <th>3</th>\n",
       "      <td>23126</td>\n",
       "      <td>214820450</td>\n",
       "      <td>0</td>\n",
       "      <td>2014-04-03 14:16:28</td>\n",
       "      <td>1396534588</td>\n",
       "      <td>1396326153</td>\n",
       "    </tr>\n",
       "    <tr>\n",
       "      <th>4</th>\n",
       "      <td>23126</td>\n",
       "      <td>214584797</td>\n",
       "      <td>0</td>\n",
       "      <td>2014-04-03 14:20:39</td>\n",
       "      <td>1396534839</td>\n",
       "      <td>1396326293</td>\n",
       "    </tr>\n",
       "  </tbody>\n",
       "</table>\n",
       "</div>"
      ],
      "text/plain": [
       "   session_id    item_id category       event_time_dt  event_time_ts  \\\n",
       "0       23123  214821024        0 2014-04-02 20:43:48     1396471428   \n",
       "1       23123  214587384        0 2014-04-02 20:44:51     1396471491   \n",
       "2       23124  214820450        0 2014-04-01 14:54:24     1396364064   \n",
       "3       23126  214820450        0 2014-04-03 14:16:28     1396534588   \n",
       "4       23126  214584797        0 2014-04-03 14:20:39     1396534839   \n",
       "\n",
       "   itemid_ts_first  \n",
       "0       1396322465  \n",
       "1       1396321757  \n",
       "2       1396326153  \n",
       "3       1396326153  \n",
       "4       1396326293  "
      ]
     },
     "execution_count": 15,
     "metadata": {},
     "output_type": "execute_result"
    }
   ],
   "source": [
    "interactions_merged_df.head()"
   ]
  },
  {
   "cell_type": "markdown",
   "id": "c112d423",
   "metadata": {},
   "source": [
    "- Check out if there is any column with missing values"
   ]
  },
  {
   "cell_type": "code",
   "execution_count": 16,
   "id": "22134f8c",
   "metadata": {},
   "outputs": [
    {
     "data": {
      "text/plain": [
       "session_id         False\n",
       "item_id            False\n",
       "category           False\n",
       "event_time_dt      False\n",
       "event_time_ts      False\n",
       "itemid_ts_first    False\n",
       "dtype: bool"
      ]
     },
     "execution_count": 16,
     "metadata": {},
     "output_type": "execute_result"
    }
   ],
   "source": [
    "interactions_merged_df.isnull().any()"
   ]
  },
  {
   "cell_type": "markdown",
   "id": "78d0a3f1-c26c-4032-817d-b6fe5e31e58e",
   "metadata": {},
   "source": [
    "## Temporal Features"
   ]
  },
  {
   "cell_type": "code",
   "execution_count": null,
   "id": "4e155c77-60c0-4902-872a-a0a74500964d",
   "metadata": {},
   "outputs": [],
   "source": [
    "# create time features\n",
    "sessionTime = ['event_time_dt']\n",
    "\n",
    "sessionTime_hour = (\n",
    "    sessionTime >> \n",
    "    #nvt.ops.LambdaOp(lambda col: cudf.to_datetime(col, unit='ms').dt.hour) >> \n",
    "    nvt.ops.LambdaOp(lambda col: col.dt.hour) >> \n",
    "    nvt.ops.Rename(name = \"event_time_hour\")\n",
    ")\n",
    "sessionTime_weekday = (\n",
    "    sessionTime >> \n",
    "    #nvt.ops.LambdaOp(lambda col: cudf.to_datetime(col, unit='ms').dt.weekday) >> \n",
    "    nvt.ops.LambdaOp(lambda col: col.dt.weekday) >> \n",
    "    nvt.ops.Rename(name = \"event_time_wd\")\n",
    ")\n",
    "sessionTime_day = (\n",
    "    sessionTime >> \n",
    "    nvt.ops.LambdaOp(lambda col: col.dt.day) >> \n",
    "    nvt.ops.Rename(name = \"event_time_day\")\n",
    ")"
   ]
  },
  {
   "cell_type": "markdown",
   "id": "89282e1c",
   "metadata": {},
   "source": [
    "### Temporal features"
   ]
  },
  {
   "cell_type": "code",
   "execution_count": 17,
   "id": "490e769c",
   "metadata": {},
   "outputs": [],
   "source": [
    "# create time features\n",
    "sessionTime = ['event_time_dt']\n",
    "\n",
    "sessionTime_hour = (\n",
    "    sessionTime >> \n",
    "    #nvt.ops.LambdaOp(lambda col: cudf.to_datetime(col, unit='ms').dt.hour) >> \n",
    "    nvt.ops.LambdaOp(lambda col: col.dt.hour) >> \n",
    "    nvt.ops.Rename(name = \"event_time_hour\")\n",
    ")\n",
    "sessionTime_weekday = (\n",
    "    sessionTime >> \n",
    "    #nvt.ops.LambdaOp(lambda col: cudf.to_datetime(col, unit='ms').dt.weekday) >> \n",
    "    nvt.ops.LambdaOp(lambda col: col.dt.weekday) >> \n",
    "    nvt.ops.Rename(name = \"event_time_wd\")\n",
    ")\n",
    "sessionTime_day = (\n",
    "    sessionTime >> \n",
    "    nvt.ops.LambdaOp(lambda col: col.dt.day) >> \n",
    "    nvt.ops.Rename(name = \"event_time_day\")\n",
    ")"
   ]
  },
  {
   "cell_type": "code",
   "execution_count": 18,
   "id": "2618e803",
   "metadata": {},
   "outputs": [],
   "source": [
    "def get_cycled_feature_value_sin(col, max_value):\n",
    "    value_scaled = (col + 0.000001) / max_value\n",
    "    value_sin = np.sin(2*np.pi*value_scaled)\n",
    "    return value_sin\n",
    "\n",
    "def get_cycled_feature_value_cos(col, max_value):\n",
    "    value_scaled = (col + 0.000001) / max_value\n",
    "    value_cos = np.cos(2*np.pi*value_scaled)\n",
    "    return value_cos"
   ]
  },
  {
   "cell_type": "code",
   "execution_count": 19,
   "id": "8ee3c6a7",
   "metadata": {},
   "outputs": [],
   "source": [
    "hour_sin = sessionTime_hour >> (lambda col: get_cycled_feature_value_sin(col, 24)) >> nvt.ops.Rename(name = 'timestamp_hour_sin')\n",
    "hour_cos = sessionTime_hour >> (lambda col: get_cycled_feature_value_cos(col, 24)) >> nvt.ops.Rename(name = 'timestamp_hour_cos')\n",
    "weekday_sin = sessionTime_weekday >> (lambda col: get_cycled_feature_value_sin(col+1, 7)) >> nvt.ops.Rename(name = 'timestamp_wd_sin')\n",
    "weekday_cos= sessionTime_weekday >> (lambda col: get_cycled_feature_value_cos(col+1, 7)) >> nvt.ops.Rename(name = 'timestamp_wd_cos')"
   ]
  },
  {
   "cell_type": "code",
   "execution_count": 20,
   "id": "d8055716",
   "metadata": {},
   "outputs": [],
   "source": [
    "cycled_features = hour_sin + hour_cos + weekday_sin + weekday_cos"
   ]
  },
  {
   "cell_type": "markdown",
   "id": "abb6366c",
   "metadata": {},
   "source": [
    "- Calculate item recency "
   ]
  },
  {
   "cell_type": "code",
   "execution_count": 21,
   "id": "a8feb037",
   "metadata": {},
   "outputs": [],
   "source": [
    "# create custom op\n",
    "from nvtabular.ops import Operator\n",
    "\n",
    "class ItemRecency(Operator):\n",
    "    def transform(self, columns, gdf):\n",
    "        for column in columns:\n",
    "            col = gdf[column]\n",
    "            item_first_timestamp = gdf['itemid_ts_first']\n",
    "            delta_days = (col - item_first_timestamp) / (60*60*24)\n",
    "            gdf[column + \"_age_days\"] = delta_days * (delta_days >=0)\n",
    "        return gdf\n",
    "            \n",
    "    def output_column_names(self, columns):\n",
    "        return ColumnSelector([column + \"_age_days\" for column in columns])\n",
    "            \n",
    "    def dependencies(self):\n",
    "        return [\"itemid_ts_first\"]"
   ]
  },
  {
   "cell_type": "code",
   "execution_count": 22,
   "id": "384c4a59",
   "metadata": {},
   "outputs": [],
   "source": [
    "recency_features = [\"event_time_ts\"] >> ItemRecency() \n",
    "recency_features_norm = recency_features >> nvt.ops.LogOp() >> nvt.ops.Normalize() >> nvt.ops.Rename(name = \"timestamp_age_days_norm\")"
   ]
  },
  {
   "cell_type": "code",
   "execution_count": 23,
   "id": "e3bad37d",
   "metadata": {},
   "outputs": [
    {
     "data": {
      "text/plain": [
       "['timestamp_age_days_norm']"
      ]
     },
     "execution_count": 23,
     "metadata": {},
     "output_type": "execute_result"
    }
   ],
   "source": [
    "recency_features_norm.selector.names"
   ]
  },
  {
   "cell_type": "code",
   "execution_count": 24,
   "id": "db8226a7",
   "metadata": {},
   "outputs": [],
   "source": [
    "time_features = (\n",
    "    sessionTime + \n",
    "    sessionTime_hour +\n",
    "    sessionTime_day + \n",
    "    sessionTime_weekday +\n",
    "    recency_features_norm + \n",
    "    cycled_features +\n",
    "    [\"event_time_ts\"]\n",
    ")"
   ]
  },
  {
   "cell_type": "code",
   "execution_count": null,
   "id": "b698f150",
   "metadata": {},
   "outputs": [],
   "source": [
    "time_features.graph"
   ]
  },
  {
   "cell_type": "markdown",
   "id": "55c371f1",
   "metadata": {},
   "source": [
    "### Categorify"
   ]
  },
  {
   "cell_type": "code",
   "execution_count": 25,
   "id": "af711930",
   "metadata": {},
   "outputs": [],
   "source": [
    "categ_features = ['item_id', 'category'] >> nvt.ops.Categorify()"
   ]
  },
  {
   "cell_type": "markdown",
   "id": "31e815ba",
   "metadata": {},
   "source": [
    "### Grouping interactions into sessions"
   ]
  },
  {
   "cell_type": "code",
   "execution_count": 26,
   "id": "539c8629",
   "metadata": {},
   "outputs": [],
   "source": [
    "groupby_feats = categ_features + ['session_id']+ time_features"
   ]
  },
  {
   "cell_type": "code",
   "execution_count": 27,
   "id": "550c1129",
   "metadata": {},
   "outputs": [
    {
     "data": {
      "text/plain": [
       "['item_id',\n",
       " 'category',\n",
       " 'session_id',\n",
       " 'event_time_hour',\n",
       " 'event_time_dt',\n",
       " 'event_time_day',\n",
       " 'event_time_wd',\n",
       " 'timestamp_age_days_norm',\n",
       " 'timestamp_hour_sin',\n",
       " 'timestamp_hour_cos',\n",
       " 'timestamp_wd_sin',\n",
       " 'timestamp_wd_cos',\n",
       " 'event_time_ts']"
      ]
     },
     "execution_count": 27,
     "metadata": {},
     "output_type": "execute_result"
    }
   ],
   "source": [
    "groupby_feats.selector.names"
   ]
  },
  {
   "cell_type": "code",
   "execution_count": 28,
   "id": "f3db6562",
   "metadata": {},
   "outputs": [],
   "source": [
    "# Define Groupby Workflow\n",
    "groupby_features = groupby_feats >> nvt.ops.Groupby(\n",
    "    groupby_cols=[\"session_id\"], \n",
    "    sort_cols=[\"event_time_ts\"],\n",
    "    aggs={\n",
    "        \"item_id\": [\"list\", \"count\"],\n",
    "        \"category\": [\"list\"],        \n",
    "        \"event_time_ts\": [\"list\", \"first\"],\n",
    "        \"event_time_dt\": [\"first\"],\n",
    "        'event_time_day': [\"list\"],\n",
    "        'event_time_hour': [\"list\"],\n",
    "        'event_time_wd': [\"list\"],\n",
    "        'timestamp_age_days_norm': [\"list\"],\n",
    "        'timestamp_hour_sin': [\"list\"],\n",
    "        'timestamp_hour_cos': [\"list\"],\n",
    "        'timestamp_wd_sin': [\"list\"],\n",
    "        'timestamp_wd_cos': [\"list\"],\n",
    "        },\n",
    "    name_sep=\"-\")"
   ]
  },
  {
   "cell_type": "code",
   "execution_count": 29,
   "id": "6fc02681",
   "metadata": {},
   "outputs": [
    {
     "data": {
      "text/plain": [
       "['session_id', 'event_time_dt-first', 'event_time_ts-first', 'item_id-count']"
      ]
     },
     "execution_count": 29,
     "metadata": {},
     "output_type": "execute_result"
    }
   ],
   "source": [
    "groupby_features_nonlist = [x for x in groupby_features.selector if '-list' not in x]\n",
    "groupby_features_nonlist"
   ]
  },
  {
   "cell_type": "code",
   "execution_count": 30,
   "id": "c5bdfbdf",
   "metadata": {},
   "outputs": [
    {
     "name": "stderr",
     "output_type": "stream",
     "text": [
      "/root/.local/lib/python3.8/site-packages/nvtabular-0.6.0+16.gd36ebd2-py3.8-linux-x86_64.egg/nvtabular/workflow/node.py:43: FutureWarning: The `[\"a\", \"b\", \"c\"] >> ops.Operator` syntax for creating a `ColumnGroup` has been deprecated in NVTabular 21.09 and will be removed in a future version.\n",
      "  warnings.warn(\n"
     ]
    }
   ],
   "source": [
    "groupby_features_trim = ((groupby_features - groupby_features_nonlist)) >> nvt.ops.ListSlice(0,20) >> nvt.ops.Rename(postfix = '_trim')"
   ]
  },
  {
   "cell_type": "code",
   "execution_count": 31,
   "id": "90622af1",
   "metadata": {},
   "outputs": [],
   "source": [
    "# calculate session day index based on 'event_time_dt-first' column\n",
    "day_index = ((groupby_features['event_time_dt-first'])  >> \n",
    "    nvt.ops.LambdaOp(lambda col: (col - col.min()).dt.days +1) >> \n",
    "    nvt.ops.Rename(f = lambda col: \"day_index\")\n",
    ")"
   ]
  },
  {
   "cell_type": "code",
   "execution_count": 32,
   "id": "f10a990a",
   "metadata": {},
   "outputs": [],
   "source": [
    "day_padded = day_index >> (lambda col: col.astype(str).str.pad(4,fillchar='0')) >> nvt.ops.Rename(f = lambda col: \"day_padded\")"
   ]
  },
  {
   "cell_type": "code",
   "execution_count": 33,
   "id": "c48805bf",
   "metadata": {},
   "outputs": [],
   "source": [
    "selected_features = groupby_features[groupby_features_nonlist] + groupby_features_trim + day_padded"
   ]
  },
  {
   "cell_type": "code",
   "execution_count": 34,
   "id": "1f88dbb6",
   "metadata": {},
   "outputs": [],
   "source": [
    "filtered_sessions = selected_features-'event_time_dt-first' >> nvt.ops.Filter(f=lambda df: df[\"item_id-count\"] >= MINIMUM_SESSION_LENGTH)"
   ]
  },
  {
   "cell_type": "code",
   "execution_count": 35,
   "id": "148280b1",
   "metadata": {},
   "outputs": [
    {
     "data": {
      "text/plain": [
       "['session_id',\n",
       " 'event_time_ts-first',\n",
       " 'item_id-count',\n",
       " 'timestamp_wd_sin-list_trim',\n",
       " 'event_time_day-list_trim',\n",
       " 'event_time_wd-list_trim',\n",
       " 'timestamp_hour_cos-list_trim',\n",
       " 'timestamp_wd_cos-list_trim',\n",
       " 'category-list_trim',\n",
       " 'timestamp_age_days_norm-list_trim',\n",
       " 'item_id-list_trim',\n",
       " 'event_time_hour-list_trim',\n",
       " 'timestamp_hour_sin-list_trim',\n",
       " 'event_time_ts-list_trim',\n",
       " 'day_padded']"
      ]
     },
     "execution_count": 35,
     "metadata": {},
     "output_type": "execute_result"
    }
   ],
   "source": [
    "filtered_sessions.selector.names"
   ]
  },
  {
   "cell_type": "markdown",
   "id": "ada67b15",
   "metadata": {},
   "source": [
    "- Initialize workflow object and transform the dataset"
   ]
  },
  {
   "cell_type": "code",
   "execution_count": 36,
   "id": "12457f08",
   "metadata": {},
   "outputs": [
    {
     "name": "stderr",
     "output_type": "stream",
     "text": [
      "/root/.local/lib/python3.8/site-packages/numba-0.54.0rc2-py3.8-linux-x86_64.egg/numba/cuda/compiler.py:865: NumbaPerformanceWarning: \u001b[1mGrid size (1) < 2 * SM count (160) will likely result in GPU under utilization due to low occupancy.\u001b[0m\n",
      "  warn(NumbaPerformanceWarning(msg))\n"
     ]
    }
   ],
   "source": [
    "workflow = nvt.Workflow(filtered_sessions)\n",
    "dataset = nvt.Dataset(interactions_merged_df, cpu=False)\n",
    "workflow.fit(dataset)\n",
    "sessions_gdf = workflow.transform(dataset).to_ddf().compute()"
   ]
  },
  {
   "cell_type": "code",
   "execution_count": 37,
   "id": "0b4f4a5c",
   "metadata": {},
   "outputs": [
    {
     "data": {
      "text/html": [
       "<div>\n",
       "<style scoped>\n",
       "    .dataframe tbody tr th:only-of-type {\n",
       "        vertical-align: middle;\n",
       "    }\n",
       "\n",
       "    .dataframe tbody tr th {\n",
       "        vertical-align: top;\n",
       "    }\n",
       "\n",
       "    .dataframe thead th {\n",
       "        text-align: right;\n",
       "    }\n",
       "</style>\n",
       "<table border=\"1\" class=\"dataframe\">\n",
       "  <thead>\n",
       "    <tr style=\"text-align: right;\">\n",
       "      <th></th>\n",
       "      <th>session_id</th>\n",
       "      <th>event_time_ts-first</th>\n",
       "      <th>item_id-count</th>\n",
       "      <th>timestamp_wd_sin-list_trim</th>\n",
       "      <th>event_time_day-list_trim</th>\n",
       "      <th>event_time_wd-list_trim</th>\n",
       "      <th>timestamp_hour_cos-list_trim</th>\n",
       "      <th>timestamp_wd_cos-list_trim</th>\n",
       "      <th>category-list_trim</th>\n",
       "      <th>timestamp_age_days_norm-list_trim</th>\n",
       "      <th>item_id-list_trim</th>\n",
       "      <th>event_time_hour-list_trim</th>\n",
       "      <th>timestamp_hour_sin-list_trim</th>\n",
       "      <th>event_time_ts-list_trim</th>\n",
       "      <th>day_padded</th>\n",
       "    </tr>\n",
       "  </thead>\n",
       "  <tbody>\n",
       "    <tr>\n",
       "      <th>0</th>\n",
       "      <td>1</td>\n",
       "      <td>1396867869</td>\n",
       "      <td>4</td>\n",
       "      <td>[0.7818321, 0.7818321, 0.7818321, 0.7818321]</td>\n",
       "      <td>[7, 7, 7, 7]</td>\n",
       "      <td>[0, 0, 0, 0]</td>\n",
       "      <td>[-0.8660256, -0.8660256, -0.8660256, -0.8660256]</td>\n",
       "      <td>[0.6234891, 0.6234891, 0.6234891, 0.6234891]</td>\n",
       "      <td>[1, 1, 1, 1]</td>\n",
       "      <td>[-1.3044713, -1.2986491, -1.3283161, -1.3548527]</td>\n",
       "      <td>[3559, 7340, 19523, 15499]</td>\n",
       "      <td>[10, 10, 10, 10]</td>\n",
       "      <td>[0.49999964, 0.49999964, 0.49999964, 0.49999964]</td>\n",
       "      <td>[1396867869, 1396868049, 1396868086, 1396868220]</td>\n",
       "      <td>0007</td>\n",
       "    </tr>\n",
       "    <tr>\n",
       "      <th>1</th>\n",
       "      <td>2</td>\n",
       "      <td>1396878997</td>\n",
       "      <td>5</td>\n",
       "      <td>[0.7818321, 0.7818321, 0.7818321, 0.7818321, 0...</td>\n",
       "      <td>[7, 7, 7, 7, 7]</td>\n",
       "      <td>[0, 0, 0, 0, 0]</td>\n",
       "      <td>[-0.96592575, -0.96592575, -0.96592575, -0.866...</td>\n",
       "      <td>[0.6234891, 0.6234891, 0.6234891, 0.6234891, 0...</td>\n",
       "      <td>[1, 1, 1, 1, 1]</td>\n",
       "      <td>[-1.3023784, -2.2679915, -2.1763284, -2.169367...</td>\n",
       "      <td>[1968, 8039, 5178, 9410, 605]</td>\n",
       "      <td>[13, 13, 13, 14, 14]</td>\n",
       "      <td>[-0.2588193, -0.2588193, -0.2588193, -0.500000...</td>\n",
       "      <td>[1396878997, 1396879117, 1396879190, 139687923...</td>\n",
       "      <td>0007</td>\n",
       "    </tr>\n",
       "  </tbody>\n",
       "</table>\n",
       "</div>"
      ],
      "text/plain": [
       "   session_id  event_time_ts-first  item_id-count  \\\n",
       "0           1           1396867869              4   \n",
       "1           2           1396878997              5   \n",
       "\n",
       "                          timestamp_wd_sin-list_trim event_time_day-list_trim  \\\n",
       "0       [0.7818321, 0.7818321, 0.7818321, 0.7818321]             [7, 7, 7, 7]   \n",
       "1  [0.7818321, 0.7818321, 0.7818321, 0.7818321, 0...          [7, 7, 7, 7, 7]   \n",
       "\n",
       "  event_time_wd-list_trim                       timestamp_hour_cos-list_trim  \\\n",
       "0            [0, 0, 0, 0]   [-0.8660256, -0.8660256, -0.8660256, -0.8660256]   \n",
       "1         [0, 0, 0, 0, 0]  [-0.96592575, -0.96592575, -0.96592575, -0.866...   \n",
       "\n",
       "                          timestamp_wd_cos-list_trim category-list_trim  \\\n",
       "0       [0.6234891, 0.6234891, 0.6234891, 0.6234891]       [1, 1, 1, 1]   \n",
       "1  [0.6234891, 0.6234891, 0.6234891, 0.6234891, 0...    [1, 1, 1, 1, 1]   \n",
       "\n",
       "                   timestamp_age_days_norm-list_trim  \\\n",
       "0   [-1.3044713, -1.2986491, -1.3283161, -1.3548527]   \n",
       "1  [-1.3023784, -2.2679915, -2.1763284, -2.169367...   \n",
       "\n",
       "               item_id-list_trim event_time_hour-list_trim  \\\n",
       "0     [3559, 7340, 19523, 15499]          [10, 10, 10, 10]   \n",
       "1  [1968, 8039, 5178, 9410, 605]      [13, 13, 13, 14, 14]   \n",
       "\n",
       "                        timestamp_hour_sin-list_trim  \\\n",
       "0   [0.49999964, 0.49999964, 0.49999964, 0.49999964]   \n",
       "1  [-0.2588193, -0.2588193, -0.2588193, -0.500000...   \n",
       "\n",
       "                             event_time_ts-list_trim day_padded  \n",
       "0   [1396867869, 1396868049, 1396868086, 1396868220]       0007  \n",
       "1  [1396878997, 1396879117, 1396879190, 139687923...       0007  "
      ]
     },
     "execution_count": 37,
     "metadata": {},
     "output_type": "execute_result"
    }
   ],
   "source": [
    "sessions_gdf.head(2)"
   ]
  },
  {
   "cell_type": "code",
   "execution_count": 38,
   "id": "efa0e10c",
   "metadata": {},
   "outputs": [
    {
     "data": {
      "text/plain": [
       "{'item_id': (52740, 512), 'category': (336, 42)}"
      ]
     },
     "execution_count": 38,
     "metadata": {},
     "output_type": "execute_result"
    }
   ],
   "source": [
    "categ_features.op.get_embedding_sizes(categ_features.selector)"
   ]
  },
  {
   "cell_type": "markdown",
   "id": "dcc9e742",
   "metadata": {},
   "source": [
    "### Exporting session by day "
   ]
  },
  {
   "cell_type": "markdown",
   "id": "db8a5407",
   "metadata": {},
   "source": [
    "#### Saving using hive-partitioned data"
   ]
  },
  {
   "cell_type": "code",
   "execution_count": 39,
   "id": "4c5b026f",
   "metadata": {},
   "outputs": [],
   "source": [
    "PARTITION_COL = 'day_padded'\n",
    "\n",
    "# Convert to a Dataset and write out hive-partitioned data to disk\n",
    "nvt_output_path_tmp ='./output_nvt_tmp/'\n",
    "workflow.transform(dataset).to_parquet(nvt_output_path_tmp, partition_on=[PARTITION_COL])"
   ]
  },
  {
   "cell_type": "markdown",
   "id": "11d6e2da",
   "metadata": {},
   "source": [
    "#### Converting to the HF4Rec dir structure and splitting dataset"
   ]
  },
  {
   "cell_type": "markdown",
   "id": "1a57aa7c",
   "metadata": {},
   "source": [
    "- Rename columns to match with the yaml file"
   ]
  },
  {
   "cell_type": "code",
   "execution_count": 42,
   "id": "da4254d4",
   "metadata": {},
   "outputs": [],
   "source": [
    "rename_cols = ['session_id', 'event_time_ts-first', 'session_size', 'timestamp_wd_sin-list', 'event_time_day-list','event_time_wd-list', 'timestamp_hour_cos-list',\n",
    "               'timestamp_wd_cos-list', 'category-list', 'timestamp_age_days_norm-list', 'item_id-list', 'event_time_hour-list', 'timestamp_hour_sin-list',\n",
    "               'event_time_ts-list']"
   ]
  },
  {
   "cell_type": "code",
   "execution_count": 44,
   "id": "a0fd8fba",
   "metadata": {},
   "outputs": [],
   "source": [
    "days_folders = [f for f in sorted(os.listdir(nvt_output_path_tmp)) if f.startswith(PARTITION_COL)]\n",
    "for day_folder in days_folders:\n",
    "    df = cudf.read_parquet(os.path.join(nvt_output_path_tmp, day_folder))\n",
    "    df = df.sort_values('event_time_ts-first')\n",
    "    df.columns = rename_cols\n",
    "    out_folder = os.path.join(OUTPUT_FOLDER, day_folder.replace('day_padded=', ''))\n",
    "    os.makedirs(out_folder, exist_ok=True)\n",
    "    df.to_parquet(os.path.join(out_folder, 'train.parquet'))\n",
    "    \n",
    "    random_values = cupy.random.rand(len(df))\n",
    "    \n",
    "    #Extracts 10% for valid and test set. Those sessions are also in the train set, but as evaluation\n",
    "    #happens only for the subsequent day of training, that is not an issue, and we can keep the train set larger.\n",
    "    valid_set = df[random_values <= 0.10]\n",
    "    valid_set.to_parquet(os.path.join(out_folder, 'valid.parquet'))\n",
    "    \n",
    "    test_set = df[random_values >= 0.90]\n",
    "    test_set.to_parquet(os.path.join(out_folder, 'test.parquet'))"
   ]
  },
  {
   "cell_type": "code",
   "execution_count": 45,
   "id": "41179ca5",
   "metadata": {},
   "outputs": [
    {
     "data": {
      "text/html": [
       "<div>\n",
       "<style scoped>\n",
       "    .dataframe tbody tr th:only-of-type {\n",
       "        vertical-align: middle;\n",
       "    }\n",
       "\n",
       "    .dataframe tbody tr th {\n",
       "        vertical-align: top;\n",
       "    }\n",
       "\n",
       "    .dataframe thead th {\n",
       "        text-align: right;\n",
       "    }\n",
       "</style>\n",
       "<table border=\"1\" class=\"dataframe\">\n",
       "  <thead>\n",
       "    <tr style=\"text-align: right;\">\n",
       "      <th></th>\n",
       "      <th>session_id</th>\n",
       "      <th>event_time_ts-first</th>\n",
       "      <th>session_size</th>\n",
       "      <th>timestamp_wd_sin-list</th>\n",
       "      <th>event_time_day-list</th>\n",
       "      <th>event_time_wd-list</th>\n",
       "      <th>timestamp_hour_cos-list</th>\n",
       "      <th>timestamp_wd_cos-list</th>\n",
       "      <th>category-list</th>\n",
       "      <th>timestamp_age_days_norm-list</th>\n",
       "      <th>item_id-list</th>\n",
       "      <th>event_time_hour-list</th>\n",
       "      <th>timestamp_hour_sin-list</th>\n",
       "      <th>event_time_ts-list</th>\n",
       "    </tr>\n",
       "  </thead>\n",
       "  <tbody>\n",
       "    <tr>\n",
       "      <th>31230</th>\n",
       "      <td>351646</td>\n",
       "      <td>1396321200</td>\n",
       "      <td>2</td>\n",
       "      <td>[0.9749277, 0.9749277]</td>\n",
       "      <td>[1, 1]</td>\n",
       "      <td>[1, 1]</td>\n",
       "      <td>[0.70710653, 0.70710653]</td>\n",
       "      <td>[-0.22252177, -0.22252177]</td>\n",
       "      <td>[1, 1]</td>\n",
       "      <td>[-3.0278223, -3.0278223]</td>\n",
       "      <td>[556, 574]</td>\n",
       "      <td>[3, 3]</td>\n",
       "      <td>[0.707107, 0.707107]</td>\n",
       "      <td>[1396321200, 1396321393]</td>\n",
       "    </tr>\n",
       "    <tr>\n",
       "      <th>34633</th>\n",
       "      <td>389654</td>\n",
       "      <td>1396321200</td>\n",
       "      <td>5</td>\n",
       "      <td>[0.9749277, 0.9749277, 0.9749277, 0.9749277, 0...</td>\n",
       "      <td>[1, 1, 1, 1, 1]</td>\n",
       "      <td>[1, 1, 1, 1, 1]</td>\n",
       "      <td>[0.70710653, 0.70710653, 0.70710653, 0.7071065...</td>\n",
       "      <td>[-0.22252177, -0.22252177, -0.22252177, -0.222...</td>\n",
       "      <td>[1, 1, 1, 1, 1]</td>\n",
       "      <td>[-3.0278223, -3.0278223, -3.026238, -3.0273852...</td>\n",
       "      <td>[90, 4519, 90, 513, 90]</td>\n",
       "      <td>[3, 3, 3, 3, 3]</td>\n",
       "      <td>[0.707107, 0.707107, 0.707107, 0.707107, 0.707...</td>\n",
       "      <td>[1396321200, 1396321248, 1396321356, 139632170...</td>\n",
       "    </tr>\n",
       "    <tr>\n",
       "      <th>18660</th>\n",
       "      <td>210798</td>\n",
       "      <td>1396321213</td>\n",
       "      <td>12</td>\n",
       "      <td>[0.9749277, 0.9749277, 0.9749277, 0.9749277, 0...</td>\n",
       "      <td>[1, 1, 1, 1, 1, 1, 1, 1, 1, 1, 1, 1]</td>\n",
       "      <td>[1, 1, 1, 1, 1, 1, 1, 1, 1, 1, 1, 1]</td>\n",
       "      <td>[0.70710653, 0.70710653, 0.70710653, 0.7071065...</td>\n",
       "      <td>[-0.22252177, -0.22252177, -0.22252177, -0.222...</td>\n",
       "      <td>[1, 1, 1, 1, 1, 1, 1, 1, 1, 1, 1, 1]</td>\n",
       "      <td>[-3.0278223, -3.0278223, -3.0278223, -3.027822...</td>\n",
       "      <td>[6593, 5068, 12213, 15581, 11431, 1731, 11431,...</td>\n",
       "      <td>[3, 3, 3, 3, 3, 3, 3, 3, 3, 3, 3, 3]</td>\n",
       "      <td>[0.707107, 0.707107, 0.707107, 0.707107, 0.707...</td>\n",
       "      <td>[1396321213, 1396321268, 1396321299, 139632157...</td>\n",
       "    </tr>\n",
       "    <tr>\n",
       "      <th>33364</th>\n",
       "      <td>375257</td>\n",
       "      <td>1396321213</td>\n",
       "      <td>11</td>\n",
       "      <td>[0.9749277, 0.9749277, 0.9749277, 0.9749277, 0...</td>\n",
       "      <td>[1, 1, 1, 1, 1, 1, 1, 1, 1, 1, 1]</td>\n",
       "      <td>[1, 1, 1, 1, 1, 1, 1, 1, 1, 1, 1]</td>\n",
       "      <td>[0.70710653, 0.70710653, 0.70710653, 0.7071065...</td>\n",
       "      <td>[-0.22252177, -0.22252177, -0.22252177, -0.222...</td>\n",
       "      <td>[1, 1, 1, 1, 1, 1, 1, 1, 1, 1, 1]</td>\n",
       "      <td>[-3.0278223, -3.0278223, -3.0278223, -3.027822...</td>\n",
       "      <td>[4133, 4034, 5093, 1117, 4068, 1117, 4068, 111...</td>\n",
       "      <td>[3, 3, 3, 3, 3, 3, 3, 3, 3, 3, 3]</td>\n",
       "      <td>[0.707107, 0.707107, 0.707107, 0.707107, 0.707...</td>\n",
       "      <td>[1396321213, 1396321263, 1396321416, 139632151...</td>\n",
       "    </tr>\n",
       "    <tr>\n",
       "      <th>15154</th>\n",
       "      <td>171168</td>\n",
       "      <td>1396321220</td>\n",
       "      <td>2</td>\n",
       "      <td>[0.9749277, 0.9749277]</td>\n",
       "      <td>[1, 1]</td>\n",
       "      <td>[1, 1]</td>\n",
       "      <td>[0.70710653, 0.70710653]</td>\n",
       "      <td>[-0.22252177, -0.22252177]</td>\n",
       "      <td>[1, 1]</td>\n",
       "      <td>[-3.0278223, -3.0278223]</td>\n",
       "      <td>[464, 576]</td>\n",
       "      <td>[3, 3]</td>\n",
       "      <td>[0.707107, 0.707107]</td>\n",
       "      <td>[1396321220, 1396321232]</td>\n",
       "    </tr>\n",
       "  </tbody>\n",
       "</table>\n",
       "</div>"
      ],
      "text/plain": [
       "       session_id  event_time_ts-first  session_size  \\\n",
       "31230      351646           1396321200             2   \n",
       "34633      389654           1396321200             5   \n",
       "18660      210798           1396321213            12   \n",
       "33364      375257           1396321213            11   \n",
       "15154      171168           1396321220             2   \n",
       "\n",
       "                                   timestamp_wd_sin-list  \\\n",
       "31230                             [0.9749277, 0.9749277]   \n",
       "34633  [0.9749277, 0.9749277, 0.9749277, 0.9749277, 0...   \n",
       "18660  [0.9749277, 0.9749277, 0.9749277, 0.9749277, 0...   \n",
       "33364  [0.9749277, 0.9749277, 0.9749277, 0.9749277, 0...   \n",
       "15154                             [0.9749277, 0.9749277]   \n",
       "\n",
       "                        event_time_day-list  \\\n",
       "31230                                [1, 1]   \n",
       "34633                       [1, 1, 1, 1, 1]   \n",
       "18660  [1, 1, 1, 1, 1, 1, 1, 1, 1, 1, 1, 1]   \n",
       "33364     [1, 1, 1, 1, 1, 1, 1, 1, 1, 1, 1]   \n",
       "15154                                [1, 1]   \n",
       "\n",
       "                         event_time_wd-list  \\\n",
       "31230                                [1, 1]   \n",
       "34633                       [1, 1, 1, 1, 1]   \n",
       "18660  [1, 1, 1, 1, 1, 1, 1, 1, 1, 1, 1, 1]   \n",
       "33364     [1, 1, 1, 1, 1, 1, 1, 1, 1, 1, 1]   \n",
       "15154                                [1, 1]   \n",
       "\n",
       "                                 timestamp_hour_cos-list  \\\n",
       "31230                           [0.70710653, 0.70710653]   \n",
       "34633  [0.70710653, 0.70710653, 0.70710653, 0.7071065...   \n",
       "18660  [0.70710653, 0.70710653, 0.70710653, 0.7071065...   \n",
       "33364  [0.70710653, 0.70710653, 0.70710653, 0.7071065...   \n",
       "15154                           [0.70710653, 0.70710653]   \n",
       "\n",
       "                                   timestamp_wd_cos-list  \\\n",
       "31230                         [-0.22252177, -0.22252177]   \n",
       "34633  [-0.22252177, -0.22252177, -0.22252177, -0.222...   \n",
       "18660  [-0.22252177, -0.22252177, -0.22252177, -0.222...   \n",
       "33364  [-0.22252177, -0.22252177, -0.22252177, -0.222...   \n",
       "15154                         [-0.22252177, -0.22252177]   \n",
       "\n",
       "                              category-list  \\\n",
       "31230                                [1, 1]   \n",
       "34633                       [1, 1, 1, 1, 1]   \n",
       "18660  [1, 1, 1, 1, 1, 1, 1, 1, 1, 1, 1, 1]   \n",
       "33364     [1, 1, 1, 1, 1, 1, 1, 1, 1, 1, 1]   \n",
       "15154                                [1, 1]   \n",
       "\n",
       "                            timestamp_age_days_norm-list  \\\n",
       "31230                           [-3.0278223, -3.0278223]   \n",
       "34633  [-3.0278223, -3.0278223, -3.026238, -3.0273852...   \n",
       "18660  [-3.0278223, -3.0278223, -3.0278223, -3.027822...   \n",
       "33364  [-3.0278223, -3.0278223, -3.0278223, -3.027822...   \n",
       "15154                           [-3.0278223, -3.0278223]   \n",
       "\n",
       "                                            item_id-list  \\\n",
       "31230                                         [556, 574]   \n",
       "34633                            [90, 4519, 90, 513, 90]   \n",
       "18660  [6593, 5068, 12213, 15581, 11431, 1731, 11431,...   \n",
       "33364  [4133, 4034, 5093, 1117, 4068, 1117, 4068, 111...   \n",
       "15154                                         [464, 576]   \n",
       "\n",
       "                       event_time_hour-list  \\\n",
       "31230                                [3, 3]   \n",
       "34633                       [3, 3, 3, 3, 3]   \n",
       "18660  [3, 3, 3, 3, 3, 3, 3, 3, 3, 3, 3, 3]   \n",
       "33364     [3, 3, 3, 3, 3, 3, 3, 3, 3, 3, 3]   \n",
       "15154                                [3, 3]   \n",
       "\n",
       "                                 timestamp_hour_sin-list  \\\n",
       "31230                               [0.707107, 0.707107]   \n",
       "34633  [0.707107, 0.707107, 0.707107, 0.707107, 0.707...   \n",
       "18660  [0.707107, 0.707107, 0.707107, 0.707107, 0.707...   \n",
       "33364  [0.707107, 0.707107, 0.707107, 0.707107, 0.707...   \n",
       "15154                               [0.707107, 0.707107]   \n",
       "\n",
       "                                      event_time_ts-list  \n",
       "31230                           [1396321200, 1396321393]  \n",
       "34633  [1396321200, 1396321248, 1396321356, 139632170...  \n",
       "18660  [1396321213, 1396321268, 1396321299, 139632157...  \n",
       "33364  [1396321213, 1396321263, 1396321416, 139632151...  \n",
       "15154                           [1396321220, 1396321232]  "
      ]
     },
     "execution_count": 45,
     "metadata": {},
     "output_type": "execute_result"
    }
   ],
   "source": [
    "df = cudf.read_parquet(os.path.join(OUTPUT_FOLDER, '0001/train.parquet'))\n",
    "df.head()"
   ]
  }
 ],
 "metadata": {
  "kernelspec": {
   "display_name": "Python 3 (ipykernel)",
   "language": "python",
   "name": "python3"
  },
  "language_info": {
   "codemirror_mode": {
    "name": "ipython",
    "version": 3
   },
   "file_extension": ".py",
   "mimetype": "text/x-python",
   "name": "python",
   "nbconvert_exporter": "python",
   "pygments_lexer": "ipython3",
   "version": "3.8.10"
  }
 },
 "nbformat": 4,
 "nbformat_minor": 5
}
