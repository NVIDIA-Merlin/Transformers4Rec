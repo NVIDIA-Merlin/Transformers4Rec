{
 "cells": [
  {
   "cell_type": "code",
   "execution_count": null,
   "id": "20b3d91a",
   "metadata": {},
   "outputs": [],
   "source": [
    "# Copyright 2021 NVIDIA Corporation. All Rights Reserved.\n",
    "#\n",
    "# Licensed under the Apache License, Version 2.0 (the \"License\");\n",
    "# you may not use this file except in compliance with the License.\n",
    "# You may obtain a copy of the License at\n",
    "#\n",
    "#     http://www.apache.org/licenses/LICENSE-2.0\n",
    "#\n",
    "# Unless required by applicable law or agreed to in writing, software\n",
    "# distributed under the License is distributed on an \"AS IS\" BASIS,\n",
    "# WITHOUT WARRANTIES OR CONDITIONS OF ANY KIND, either express or implied.\n",
    "# See the License for the specific language governing permissions and\n",
    "# limitations under the License."
   ]
  },
  {
   "cell_type": "markdown",
   "id": "03dcc8fd",
   "metadata": {},
   "source": [
    "## Dataset"
   ]
  },
  {
   "cell_type": "markdown",
   "id": "ec0cbd0a",
   "metadata": {},
   "source": [
    "In this notebook we are using the `YOOCHOOSE dataset` which contains a collection of sessions from a retailer, where each session is encapsulating the click events that the user performed in that session.\n",
    "\n",
    "The dataset is available on [Kaggle](https://www.kaggle.com/chadgostopp/recsys-challenge-2015)."
   ]
  },
  {
   "cell_type": "markdown",
   "id": "f9ad2143",
   "metadata": {},
   "source": [
    "- Import required libraries"
   ]
  },
  {
   "cell_type": "code",
   "execution_count": 2,
   "id": "cd68fbf7",
   "metadata": {},
   "outputs": [],
   "source": [
    "import os\n",
    "import pandas as pd\n",
    "import numpy as np\n",
    "import gc\n",
    "\n",
    "import cudf\n",
    "import cupy\n",
    "import nvtabular as nvt\n",
    "from nvtabular import ColumnSelector"
   ]
  },
  {
   "cell_type": "code",
   "execution_count": 3,
   "id": "f66aa7c7",
   "metadata": {},
   "outputs": [],
   "source": [
    "DATA_FOLDER = \"/workspace/yoochoose/\"\n",
    "FILENAME_PATTERN = 'yoochoose-clicks.dat'\n",
    "DATA_PATH = os.path.join(DATA_FOLDER, FILENAME_PATTERN)"
   ]
  },
  {
   "cell_type": "code",
   "execution_count": 4,
   "id": "eb9cde3e",
   "metadata": {},
   "outputs": [],
   "source": [
    "OUTPUT_FOLDER = \"/workspace/yoochoose/sessions_by_day\"\n",
    "!mkdir -p $OUTPUT_FOLDER"
   ]
  },
  {
   "cell_type": "code",
   "execution_count": 5,
   "id": "cad9c522",
   "metadata": {},
   "outputs": [],
   "source": [
    "MINIMUM_SESSION_LENGTH = 2"
   ]
  },
  {
   "cell_type": "markdown",
   "id": "dd7be5dd",
   "metadata": {},
   "source": [
    "### Loading data"
   ]
  },
  {
   "cell_type": "code",
   "execution_count": 6,
   "id": "68937371",
   "metadata": {},
   "outputs": [],
   "source": [
    "#List of columns names to be used for CSV without the header line\n",
    "HEADLESS_CSV_COLUMN_NAMES = ['session_id','timestamp', 'item_id', 'category']"
   ]
  },
  {
   "cell_type": "code",
   "execution_count": 7,
   "id": "d71e6399",
   "metadata": {},
   "outputs": [],
   "source": [
    "interactions_df = cudf.read_csv(DATA_PATH, sep=',', names=HEADLESS_CSV_COLUMN_NAMES)"
   ]
  },
  {
   "cell_type": "markdown",
   "id": "cd3969a4",
   "metadata": {},
   "source": [
    "- Convert timestamp from datetime"
   ]
  },
  {
   "cell_type": "code",
   "execution_count": 8,
   "id": "0f2f4f65",
   "metadata": {},
   "outputs": [],
   "source": [
    "interactions_df['event_time_dt'] = interactions_df['timestamp'].astype('datetime64[s]')\n",
    "interactions_df['event_time_ts']= interactions_df['event_time_dt'].astype('int')"
   ]
  },
  {
   "cell_type": "code",
   "execution_count": 9,
   "id": "c2ed00e7",
   "metadata": {},
   "outputs": [],
   "source": [
    "interactions_df = interactions_df.drop(['timestamp'], axis=1)"
   ]
  },
  {
   "cell_type": "markdown",
   "id": "8ad05356",
   "metadata": {},
   "source": [
    "### Removing consecutive repeated interactions"
   ]
  },
  {
   "cell_type": "code",
   "execution_count": 10,
   "id": "4f6e851f",
   "metadata": {},
   "outputs": [
    {
     "name": "stdout",
     "output_type": "stream",
     "text": [
      "Count with in-session repeated interactions: 33003944\n",
      "Count after removed in-session repeated interactions: 28971544\n"
     ]
    }
   ],
   "source": [
    "print(\"Count with in-session repeated interactions: {}\".format(len(interactions_df)))\n",
    "# Sorts the dataframe by session and timestamp, to remove consective repetitions\n",
    "interactions_df = interactions_df.sort_values(['session_id', 'event_time_ts'])\n",
    "\n",
    "interactions_df['item_id_past'] = interactions_df['item_id'].shift(1).fillna(0)\n",
    "interactions_df['session_id_past'] = interactions_df['session_id'].shift(1).fillna(0)\n",
    "#Keeping only no consectutive repeated in session interactions\n",
    "interactions_df = interactions_df[~((interactions_df['session_id'] == interactions_df['session_id_past']) & \\\n",
    "                 (interactions_df['item_id'] == interactions_df['item_id_past']))]\n",
    "print(\"Count after removed in-session repeated interactions: {}\".format(len(interactions_df)))"
   ]
  },
  {
   "cell_type": "code",
   "execution_count": 11,
   "id": "0316082a",
   "metadata": {},
   "outputs": [],
   "source": [
    "del(interactions_df['item_id_past'])\n",
    "del(interactions_df['session_id_past'])\n",
    "gc.collect()"
   ]
  },
  {
   "cell_type": "markdown",
   "id": "ebf0f1db",
   "metadata": {},
   "source": [
    "### Include the item first time seen feature (for recency calculation)"
   ]
  },
  {
   "cell_type": "code",
   "execution_count": 12,
   "id": "87a2240c",
   "metadata": {},
   "outputs": [],
   "source": [
    "items_first_ts_df = interactions_df.groupby('item_id').agg({'event_time_ts': 'min'}).reset_index().rename(columns={'event_time_ts': 'itemid_ts_first'})\n",
    "interactions_merged_df = interactions_df.merge(items_first_ts_df, on=['item_id'], how='left')"
   ]
  },
  {
   "cell_type": "code",
   "execution_count": 13,
   "id": "363ba01e",
   "metadata": {},
   "outputs": [
    {
     "data": {
      "text/html": [
       "<div>\n",
       "<style scoped>\n",
       "    .dataframe tbody tr th:only-of-type {\n",
       "        vertical-align: middle;\n",
       "    }\n",
       "\n",
       "    .dataframe tbody tr th {\n",
       "        vertical-align: top;\n",
       "    }\n",
       "\n",
       "    .dataframe thead th {\n",
       "        text-align: right;\n",
       "    }\n",
       "</style>\n",
       "<table border=\"1\" class=\"dataframe\">\n",
       "  <thead>\n",
       "    <tr style=\"text-align: right;\">\n",
       "      <th></th>\n",
       "      <th>session_id</th>\n",
       "      <th>item_id</th>\n",
       "      <th>category</th>\n",
       "      <th>event_time_dt</th>\n",
       "      <th>event_time_ts</th>\n",
       "      <th>itemid_ts_first</th>\n",
       "    </tr>\n",
       "  </thead>\n",
       "  <tbody>\n",
       "    <tr>\n",
       "      <th>0</th>\n",
       "      <td>3906</td>\n",
       "      <td>214716997</td>\n",
       "      <td>0</td>\n",
       "      <td>2014-04-01 11:00:46</td>\n",
       "      <td>1396350046</td>\n",
       "      <td>1396325069</td>\n",
       "    </tr>\n",
       "    <tr>\n",
       "      <th>1</th>\n",
       "      <td>3906</td>\n",
       "      <td>214716930</td>\n",
       "      <td>0</td>\n",
       "      <td>2014-04-01 11:02:31</td>\n",
       "      <td>1396350151</td>\n",
       "      <td>1396321473</td>\n",
       "    </tr>\n",
       "    <tr>\n",
       "      <th>2</th>\n",
       "      <td>3907</td>\n",
       "      <td>214535595</td>\n",
       "      <td>0</td>\n",
       "      <td>2014-04-05 21:25:39</td>\n",
       "      <td>1396733139</td>\n",
       "      <td>1396335529</td>\n",
       "    </tr>\n",
       "    <tr>\n",
       "      <th>3</th>\n",
       "      <td>3907</td>\n",
       "      <td>214535617</td>\n",
       "      <td>0</td>\n",
       "      <td>2014-04-05 21:25:56</td>\n",
       "      <td>1396733156</td>\n",
       "      <td>1396329369</td>\n",
       "    </tr>\n",
       "    <tr>\n",
       "      <th>4</th>\n",
       "      <td>3908</td>\n",
       "      <td>214832670</td>\n",
       "      <td>0</td>\n",
       "      <td>2014-04-01 14:49:54</td>\n",
       "      <td>1396363794</td>\n",
       "      <td>1396326727</td>\n",
       "    </tr>\n",
       "  </tbody>\n",
       "</table>\n",
       "</div>"
      ],
      "text/plain": [
       "   session_id    item_id category       event_time_dt  event_time_ts  \\\n",
       "0        3906  214716997        0 2014-04-01 11:00:46     1396350046   \n",
       "1        3906  214716930        0 2014-04-01 11:02:31     1396350151   \n",
       "2        3907  214535595        0 2014-04-05 21:25:39     1396733139   \n",
       "3        3907  214535617        0 2014-04-05 21:25:56     1396733156   \n",
       "4        3908  214832670        0 2014-04-01 14:49:54     1396363794   \n",
       "\n",
       "   itemid_ts_first  \n",
       "0       1396325069  \n",
       "1       1396321473  \n",
       "2       1396335529  \n",
       "3       1396329369  \n",
       "4       1396326727  "
      ]
     },
     "execution_count": 13,
     "metadata": {},
     "output_type": "execute_result"
    }
   ],
   "source": [
    "interactions_merged_df.head()"
   ]
  },
  {
   "cell_type": "markdown",
   "id": "c56f288e",
   "metadata": {},
   "source": [
    "- Check out if there is any column with missing values"
   ]
  },
  {
   "cell_type": "code",
   "execution_count": 14,
   "id": "865df132",
   "metadata": {},
   "outputs": [
    {
     "data": {
      "text/plain": [
       "session_id         False\n",
       "item_id            False\n",
       "category           False\n",
       "event_time_dt      False\n",
       "event_time_ts      False\n",
       "itemid_ts_first    False\n",
       "dtype: bool"
      ]
     },
     "execution_count": 14,
     "metadata": {},
     "output_type": "execute_result"
    }
   ],
   "source": [
    "interactions_merged_df.isnull().any()"
   ]
  },
  {
   "cell_type": "code",
   "execution_count": null,
   "id": "e4b61999",
   "metadata": {},
   "outputs": [],
   "source": [
    "items_first_ts_df = None\n",
    "del(items_first_ts_df)\n",
    "gc.collect()"
   ]
  },
  {
   "cell_type": "markdown",
   "id": "3db35a5e",
   "metadata": {},
   "source": [
    "### Temporal features"
   ]
  },
  {
   "cell_type": "code",
   "execution_count": 15,
   "id": "6f75a116",
   "metadata": {},
   "outputs": [],
   "source": [
    "# create time features\n",
    "sessionTime = ['event_time_dt']\n",
    "\n",
    "sessionTime_hour = (\n",
    "    sessionTime >> \n",
    "    #nvt.ops.LambdaOp(lambda col: cudf.to_datetime(col, unit='ms').dt.hour) >> \n",
    "    nvt.ops.LambdaOp(lambda col: col.dt.hour) >> \n",
    "    nvt.ops.Rename(name = \"event_time_hour\")\n",
    ")\n",
    "sessionTime_weekday = (\n",
    "    sessionTime >> \n",
    "    #nvt.ops.LambdaOp(lambda col: cudf.to_datetime(col, unit='ms').dt.weekday) >> \n",
    "    nvt.ops.LambdaOp(lambda col: col.dt.weekday) >> \n",
    "    nvt.ops.Rename(name = \"event_time_wd\")\n",
    ")\n",
    "sessionTime_day = (\n",
    "    sessionTime >> \n",
    "    nvt.ops.LambdaOp(lambda col: col.dt.day) >> \n",
    "    nvt.ops.Rename(name = \"event_time_day\")\n",
    ")"
   ]
  },
  {
   "cell_type": "code",
   "execution_count": 16,
   "id": "274b1d83",
   "metadata": {},
   "outputs": [],
   "source": [
    "def get_cycled_feature_value_sin(col, max_value):\n",
    "    value_scaled = (col + 0.000001) / max_value\n",
    "    value_sin = np.sin(2*np.pi*value_scaled)\n",
    "    return value_sin\n",
    "\n",
    "def get_cycled_feature_value_cos(col, max_value):\n",
    "    value_scaled = (col + 0.000001) / max_value\n",
    "    value_cos = np.cos(2*np.pi*value_scaled)\n",
    "    return value_cos"
   ]
  },
  {
   "cell_type": "code",
   "execution_count": 17,
   "id": "5e1106fe",
   "metadata": {},
   "outputs": [],
   "source": [
    "hour_sin = sessionTime_hour >> (lambda col: get_cycled_feature_value_sin(col, 24)) >> nvt.ops.Rename(name = 'timestamp_hour_sin')\n",
    "hour_cos = sessionTime_hour >> (lambda col: get_cycled_feature_value_cos(col, 24)) >> nvt.ops.Rename(name = 'timestamp_hour_cos')\n",
    "weekday_sin = sessionTime_weekday >> (lambda col: get_cycled_feature_value_sin(col+1, 7)) >> nvt.ops.Rename(name = 'timestamp_wd_sin')\n",
    "weekday_cos= sessionTime_weekday >> (lambda col: get_cycled_feature_value_cos(col+1, 7)) >> nvt.ops.Rename(name = 'timestamp_wd_cos')"
   ]
  },
  {
   "cell_type": "code",
   "execution_count": 18,
   "id": "70e92c4d",
   "metadata": {},
   "outputs": [],
   "source": [
    "cycled_features = hour_sin + hour_cos + weekday_sin + weekday_cos"
   ]
  },
  {
   "cell_type": "markdown",
   "id": "8e71ea41",
   "metadata": {},
   "source": [
    "- Calculate item recency "
   ]
  },
  {
   "cell_type": "code",
   "execution_count": 19,
   "id": "9b89aa41",
   "metadata": {},
   "outputs": [],
   "source": [
    "# create custom operator\n",
    "from nvtabular.ops import Operator\n",
    "\n",
    "class ItemRecency(Operator):\n",
    "    def transform(self, columns, gdf):\n",
    "        for column in columns.names:\n",
    "            col = gdf[column]\n",
    "            item_first_timestamp = gdf['itemid_ts_first']\n",
    "            delta_days = (col - item_first_timestamp) / (60*60*24)\n",
    "            gdf[column + \"_age_days\"] = delta_days * (delta_days >=0)\n",
    "        return gdf\n",
    "            \n",
    "    def output_column_names(self, columns):\n",
    "        return ColumnSelector([column + \"_age_days\" for column in columns.names])\n",
    "            \n",
    "    def dependencies(self):\n",
    "        return [\"itemid_ts_first\"]"
   ]
  },
  {
   "cell_type": "code",
   "execution_count": 20,
   "id": "c073552d",
   "metadata": {},
   "outputs": [],
   "source": [
    "recency_features = [\"event_time_ts\"] >> ItemRecency() \n",
    "recency_features_norm = recency_features >> nvt.ops.LogOp() >> nvt.ops.Normalize() >> nvt.ops.Rename(name = \"timestamp_age_days_norm\")"
   ]
  },
  {
   "cell_type": "code",
   "execution_count": 21,
   "id": "6efde41b",
   "metadata": {},
   "outputs": [],
   "source": [
    "time_features = (\n",
    "    sessionTime + \n",
    "    sessionTime_hour +\n",
    "    sessionTime_day + \n",
    "    sessionTime_weekday +\n",
    "    recency_features_norm + \n",
    "    cycled_features +\n",
    "    [\"event_time_ts\"]\n",
    ")"
   ]
  },
  {
   "cell_type": "code",
   "execution_count": 22,
   "id": "20386107",
   "metadata": {},
   "outputs": [
    {
     "data": {
      "image/svg+xml": [
       "<?xml version=\"1.0\" encoding=\"UTF-8\" standalone=\"no\"?>\n",
       "<!DOCTYPE svg PUBLIC \"-//W3C//DTD SVG 1.1//EN\"\n",
       " \"http://www.w3.org/Graphics/SVG/1.1/DTD/svg11.dtd\">\n",
       "<!-- Generated by graphviz version 2.43.0 (0)\n",
       " -->\n",
       "<!-- Title: %3 Pages: 1 -->\n",
       "<svg width=\"2331pt\" height=\"260pt\"\n",
       " viewBox=\"0.00 0.00 2331.19 260.00\" xmlns=\"http://www.w3.org/2000/svg\" xmlns:xlink=\"http://www.w3.org/1999/xlink\">\n",
       "<g id=\"graph0\" class=\"graph\" transform=\"scale(1 1) rotate(0) translate(4 256)\">\n",
       "<title>%3</title>\n",
       "<polygon fill=\"white\" stroke=\"transparent\" points=\"-4,4 -4,-256 2327.19,-256 2327.19,4 -4,4\"/>\n",
       "<!-- 0 -->\n",
       "<g id=\"node1\" class=\"node\">\n",
       "<title>0</title>\n",
       "<ellipse fill=\"none\" stroke=\"black\" cx=\"77.34\" cy=\"-90\" rx=\"27\" ry=\"18\"/>\n",
       "<text text-anchor=\"middle\" x=\"77.34\" y=\"-86.3\" font-family=\"Times,serif\" font-size=\"14.00\">+</text>\n",
       "</g>\n",
       "<!-- 19 -->\n",
       "<g id=\"node20\" class=\"node\">\n",
       "<title>19</title>\n",
       "<ellipse fill=\"none\" stroke=\"black\" cx=\"77.34\" cy=\"-18\" rx=\"77.19\" ry=\"18\"/>\n",
       "<text text-anchor=\"middle\" x=\"77.34\" y=\"-14.3\" font-family=\"Times,serif\" font-size=\"14.00\">output cols=[]</text>\n",
       "</g>\n",
       "<!-- 0&#45;&gt;19 -->\n",
       "<g id=\"edge16\" class=\"edge\">\n",
       "<title>0&#45;&gt;19</title>\n",
       "<path fill=\"none\" stroke=\"black\" d=\"M77.34,-71.7C77.34,-63.98 77.34,-54.71 77.34,-46.11\"/>\n",
       "<polygon fill=\"black\" stroke=\"black\" points=\"80.84,-46.1 77.34,-36.1 73.84,-46.1 80.84,-46.1\"/>\n",
       "</g>\n",
       "<!-- 11 -->\n",
       "<g id=\"node2\" class=\"node\">\n",
       "<title>11</title>\n",
       "<ellipse fill=\"none\" stroke=\"black\" cx=\"369.34\" cy=\"-162\" rx=\"48.19\" ry=\"18\"/>\n",
       "<text text-anchor=\"middle\" x=\"369.34\" y=\"-158.3\" font-family=\"Times,serif\" font-size=\"14.00\">Rename</text>\n",
       "</g>\n",
       "<!-- 11&#45;&gt;0 -->\n",
       "<g id=\"edge1\" class=\"edge\">\n",
       "<title>11&#45;&gt;0</title>\n",
       "<path fill=\"none\" stroke=\"black\" d=\"M324.56,-155.02C272.79,-147.36 185.44,-132.11 113.34,-108 111.43,-107.36 109.48,-106.64 107.53,-105.88\"/>\n",
       "<polygon fill=\"black\" stroke=\"black\" points=\"108.51,-102.49 97.94,-101.75 105.74,-108.92 108.51,-102.49\"/>\n",
       "</g>\n",
       "<!-- 3 -->\n",
       "<g id=\"node5\" class=\"node\">\n",
       "<title>3</title>\n",
       "<ellipse fill=\"none\" stroke=\"black\" cx=\"369.34\" cy=\"-90\" rx=\"246.96\" ry=\"18\"/>\n",
       "<text text-anchor=\"middle\" x=\"369.34\" y=\"-86.3\" font-family=\"Times,serif\" font-size=\"14.00\">(lambda col: get_cycled_feature_value_cos(col, 24))</text>\n",
       "</g>\n",
       "<!-- 11&#45;&gt;3 -->\n",
       "<g id=\"edge3\" class=\"edge\">\n",
       "<title>11&#45;&gt;3</title>\n",
       "<path fill=\"none\" stroke=\"black\" d=\"M369.34,-143.7C369.34,-135.98 369.34,-126.71 369.34,-118.11\"/>\n",
       "<polygon fill=\"black\" stroke=\"black\" points=\"372.84,-118.1 369.34,-108.1 365.84,-118.1 372.84,-118.1\"/>\n",
       "</g>\n",
       "<!-- 13 -->\n",
       "<g id=\"node8\" class=\"node\">\n",
       "<title>13</title>\n",
       "<ellipse fill=\"none\" stroke=\"black\" cx=\"879.34\" cy=\"-90\" rx=\"245.06\" ry=\"18\"/>\n",
       "<text text-anchor=\"middle\" x=\"879.34\" y=\"-86.3\" font-family=\"Times,serif\" font-size=\"14.00\">(lambda col: get_cycled_feature_value_sin(col, 24))</text>\n",
       "</g>\n",
       "<!-- 11&#45;&gt;13 -->\n",
       "<g id=\"edge11\" class=\"edge\">\n",
       "<title>11&#45;&gt;13</title>\n",
       "<path fill=\"none\" stroke=\"black\" d=\"M413.71,-154.91C489.97,-144.44 648.38,-122.7 759.15,-107.5\"/>\n",
       "<polygon fill=\"black\" stroke=\"black\" points=\"759.95,-110.92 769.38,-106.09 759,-103.99 759.95,-110.92\"/>\n",
       "</g>\n",
       "<!-- 1 -->\n",
       "<g id=\"node3\" class=\"node\">\n",
       "<title>1</title>\n",
       "<ellipse fill=\"none\" stroke=\"black\" cx=\"1136.34\" cy=\"-234\" rx=\"206.06\" ry=\"18\"/>\n",
       "<text text-anchor=\"middle\" x=\"1136.34\" y=\"-230.3\" font-family=\"Times,serif\" font-size=\"14.00\">nvt.ops.LambdaOp(lambda col: col.dt.day)</text>\n",
       "</g>\n",
       "<!-- 2 -->\n",
       "<g id=\"node4\" class=\"node\">\n",
       "<title>2</title>\n",
       "<ellipse fill=\"none\" stroke=\"black\" cx=\"1136.34\" cy=\"-162\" rx=\"48.19\" ry=\"18\"/>\n",
       "<text text-anchor=\"middle\" x=\"1136.34\" y=\"-158.3\" font-family=\"Times,serif\" font-size=\"14.00\">Rename</text>\n",
       "</g>\n",
       "<!-- 1&#45;&gt;2 -->\n",
       "<g id=\"edge2\" class=\"edge\">\n",
       "<title>1&#45;&gt;2</title>\n",
       "<path fill=\"none\" stroke=\"black\" d=\"M1136.34,-215.7C1136.34,-207.98 1136.34,-198.71 1136.34,-190.11\"/>\n",
       "<polygon fill=\"black\" stroke=\"black\" points=\"1139.84,-190.1 1136.34,-180.1 1132.84,-190.1 1139.84,-190.1\"/>\n",
       "</g>\n",
       "<!-- 4 -->\n",
       "<g id=\"node6\" class=\"node\">\n",
       "<title>4</title>\n",
       "<ellipse fill=\"none\" stroke=\"black\" cx=\"369.34\" cy=\"-18\" rx=\"48.19\" ry=\"18\"/>\n",
       "<text text-anchor=\"middle\" x=\"369.34\" y=\"-14.3\" font-family=\"Times,serif\" font-size=\"14.00\">Rename</text>\n",
       "</g>\n",
       "<!-- 3&#45;&gt;4 -->\n",
       "<g id=\"edge4\" class=\"edge\">\n",
       "<title>3&#45;&gt;4</title>\n",
       "<path fill=\"none\" stroke=\"black\" d=\"M369.34,-71.7C369.34,-63.98 369.34,-54.71 369.34,-46.11\"/>\n",
       "<polygon fill=\"black\" stroke=\"black\" points=\"372.84,-46.1 369.34,-36.1 365.84,-46.1 372.84,-46.1\"/>\n",
       "</g>\n",
       "<!-- 5 -->\n",
       "<g id=\"node7\" class=\"node\">\n",
       "<title>5</title>\n",
       "<ellipse fill=\"none\" stroke=\"black\" cx=\"879.34\" cy=\"-18\" rx=\"48.19\" ry=\"18\"/>\n",
       "<text text-anchor=\"middle\" x=\"879.34\" y=\"-14.3\" font-family=\"Times,serif\" font-size=\"14.00\">Rename</text>\n",
       "</g>\n",
       "<!-- 13&#45;&gt;5 -->\n",
       "<g id=\"edge5\" class=\"edge\">\n",
       "<title>13&#45;&gt;5</title>\n",
       "<path fill=\"none\" stroke=\"black\" d=\"M879.34,-71.7C879.34,-63.98 879.34,-54.71 879.34,-46.11\"/>\n",
       "<polygon fill=\"black\" stroke=\"black\" points=\"882.84,-46.1 879.34,-36.1 875.84,-46.1 882.84,-46.1\"/>\n",
       "</g>\n",
       "<!-- 6 -->\n",
       "<g id=\"node9\" class=\"node\">\n",
       "<title>6</title>\n",
       "<ellipse fill=\"none\" stroke=\"black\" cx=\"1395.34\" cy=\"-90\" rx=\"252.66\" ry=\"18\"/>\n",
       "<text text-anchor=\"middle\" x=\"1395.34\" y=\"-86.3\" font-family=\"Times,serif\" font-size=\"14.00\">(lambda col: get_cycled_feature_value_sin(col+1, 7))</text>\n",
       "</g>\n",
       "<!-- 7 -->\n",
       "<g id=\"node11\" class=\"node\">\n",
       "<title>7</title>\n",
       "<ellipse fill=\"none\" stroke=\"black\" cx=\"1395.34\" cy=\"-18\" rx=\"48.19\" ry=\"18\"/>\n",
       "<text text-anchor=\"middle\" x=\"1395.34\" y=\"-14.3\" font-family=\"Times,serif\" font-size=\"14.00\">Rename</text>\n",
       "</g>\n",
       "<!-- 6&#45;&gt;7 -->\n",
       "<g id=\"edge7\" class=\"edge\">\n",
       "<title>6&#45;&gt;7</title>\n",
       "<path fill=\"none\" stroke=\"black\" d=\"M1395.34,-71.7C1395.34,-63.98 1395.34,-54.71 1395.34,-46.11\"/>\n",
       "<polygon fill=\"black\" stroke=\"black\" points=\"1398.84,-46.1 1395.34,-36.1 1391.84,-46.1 1398.84,-46.1\"/>\n",
       "</g>\n",
       "<!-- 16 -->\n",
       "<g id=\"node10\" class=\"node\">\n",
       "<title>16</title>\n",
       "<ellipse fill=\"none\" stroke=\"black\" cx=\"1658.34\" cy=\"-162\" rx=\"48.19\" ry=\"18\"/>\n",
       "<text text-anchor=\"middle\" x=\"1658.34\" y=\"-158.3\" font-family=\"Times,serif\" font-size=\"14.00\">Rename</text>\n",
       "</g>\n",
       "<!-- 16&#45;&gt;6 -->\n",
       "<g id=\"edge6\" class=\"edge\">\n",
       "<title>16&#45;&gt;6</title>\n",
       "<path fill=\"none\" stroke=\"black\" d=\"M1620.38,-150.9C1580.37,-140.25 1516.41,-123.22 1466.89,-110.04\"/>\n",
       "<polygon fill=\"black\" stroke=\"black\" points=\"1467.75,-106.65 1457.19,-107.46 1465.95,-113.42 1467.75,-106.65\"/>\n",
       "</g>\n",
       "<!-- 8 -->\n",
       "<g id=\"node12\" class=\"node\">\n",
       "<title>8</title>\n",
       "<ellipse fill=\"none\" stroke=\"black\" cx=\"1921.34\" cy=\"-90\" rx=\"254.55\" ry=\"18\"/>\n",
       "<text text-anchor=\"middle\" x=\"1921.34\" y=\"-86.3\" font-family=\"Times,serif\" font-size=\"14.00\">(lambda col: get_cycled_feature_value_cos(col+1, 7))</text>\n",
       "</g>\n",
       "<!-- 16&#45;&gt;8 -->\n",
       "<g id=\"edge8\" class=\"edge\">\n",
       "<title>16&#45;&gt;8</title>\n",
       "<path fill=\"none\" stroke=\"black\" d=\"M1696.3,-150.9C1736.25,-140.27 1800.06,-123.28 1849.55,-110.11\"/>\n",
       "<polygon fill=\"black\" stroke=\"black\" points=\"1850.48,-113.48 1859.24,-107.53 1848.68,-106.72 1850.48,-113.48\"/>\n",
       "</g>\n",
       "<!-- 9 -->\n",
       "<g id=\"node13\" class=\"node\">\n",
       "<title>9</title>\n",
       "<ellipse fill=\"none\" stroke=\"black\" cx=\"1921.34\" cy=\"-18\" rx=\"48.19\" ry=\"18\"/>\n",
       "<text text-anchor=\"middle\" x=\"1921.34\" y=\"-14.3\" font-family=\"Times,serif\" font-size=\"14.00\">Rename</text>\n",
       "</g>\n",
       "<!-- 8&#45;&gt;9 -->\n",
       "<g id=\"edge9\" class=\"edge\">\n",
       "<title>8&#45;&gt;9</title>\n",
       "<path fill=\"none\" stroke=\"black\" d=\"M1921.34,-71.7C1921.34,-63.98 1921.34,-54.71 1921.34,-46.11\"/>\n",
       "<polygon fill=\"black\" stroke=\"black\" points=\"1924.84,-46.1 1921.34,-36.1 1917.84,-46.1 1924.84,-46.1\"/>\n",
       "</g>\n",
       "<!-- 10 -->\n",
       "<g id=\"node14\" class=\"node\">\n",
       "<title>10</title>\n",
       "<ellipse fill=\"none\" stroke=\"black\" cx=\"369.34\" cy=\"-234\" rx=\"211.46\" ry=\"18\"/>\n",
       "<text text-anchor=\"middle\" x=\"369.34\" y=\"-230.3\" font-family=\"Times,serif\" font-size=\"14.00\">nvt.ops.LambdaOp(lambda col: col.dt.hour)</text>\n",
       "</g>\n",
       "<!-- 10&#45;&gt;11 -->\n",
       "<g id=\"edge10\" class=\"edge\">\n",
       "<title>10&#45;&gt;11</title>\n",
       "<path fill=\"none\" stroke=\"black\" d=\"M369.34,-215.7C369.34,-207.98 369.34,-198.71 369.34,-190.11\"/>\n",
       "<polygon fill=\"black\" stroke=\"black\" points=\"372.84,-190.1 369.34,-180.1 365.84,-190.1 372.84,-190.1\"/>\n",
       "</g>\n",
       "<!-- 12 -->\n",
       "<g id=\"node15\" class=\"node\">\n",
       "<title>12</title>\n",
       "<ellipse fill=\"none\" stroke=\"black\" cx=\"2252.34\" cy=\"-234\" rx=\"70.69\" ry=\"18\"/>\n",
       "<text text-anchor=\"middle\" x=\"2252.34\" y=\"-230.3\" font-family=\"Times,serif\" font-size=\"14.00\">ItemRecency</text>\n",
       "</g>\n",
       "<!-- 14 -->\n",
       "<g id=\"node16\" class=\"node\">\n",
       "<title>14</title>\n",
       "<ellipse fill=\"none\" stroke=\"black\" cx=\"2252.34\" cy=\"-162\" rx=\"40.89\" ry=\"18\"/>\n",
       "<text text-anchor=\"middle\" x=\"2252.34\" y=\"-158.3\" font-family=\"Times,serif\" font-size=\"14.00\">LogOp</text>\n",
       "</g>\n",
       "<!-- 12&#45;&gt;14 -->\n",
       "<g id=\"edge12\" class=\"edge\">\n",
       "<title>12&#45;&gt;14</title>\n",
       "<path fill=\"none\" stroke=\"black\" d=\"M2252.34,-215.7C2252.34,-207.98 2252.34,-198.71 2252.34,-190.11\"/>\n",
       "<polygon fill=\"black\" stroke=\"black\" points=\"2255.84,-190.1 2252.34,-180.1 2248.84,-190.1 2255.84,-190.1\"/>\n",
       "</g>\n",
       "<!-- 18 -->\n",
       "<g id=\"node19\" class=\"node\">\n",
       "<title>18</title>\n",
       "<ellipse fill=\"none\" stroke=\"black\" cx=\"2252.34\" cy=\"-90\" rx=\"58.49\" ry=\"18\"/>\n",
       "<text text-anchor=\"middle\" x=\"2252.34\" y=\"-86.3\" font-family=\"Times,serif\" font-size=\"14.00\">Normalize</text>\n",
       "</g>\n",
       "<!-- 14&#45;&gt;18 -->\n",
       "<g id=\"edge15\" class=\"edge\">\n",
       "<title>14&#45;&gt;18</title>\n",
       "<path fill=\"none\" stroke=\"black\" d=\"M2252.34,-143.7C2252.34,-135.98 2252.34,-126.71 2252.34,-118.11\"/>\n",
       "<polygon fill=\"black\" stroke=\"black\" points=\"2255.84,-118.1 2252.34,-108.1 2248.84,-118.1 2255.84,-118.1\"/>\n",
       "</g>\n",
       "<!-- 15 -->\n",
       "<g id=\"node17\" class=\"node\">\n",
       "<title>15</title>\n",
       "<ellipse fill=\"none\" stroke=\"black\" cx=\"1658.34\" cy=\"-234\" rx=\"230.16\" ry=\"18\"/>\n",
       "<text text-anchor=\"middle\" x=\"1658.34\" y=\"-230.3\" font-family=\"Times,serif\" font-size=\"14.00\">nvt.ops.LambdaOp(lambda col: col.dt.weekday)</text>\n",
       "</g>\n",
       "<!-- 15&#45;&gt;16 -->\n",
       "<g id=\"edge13\" class=\"edge\">\n",
       "<title>15&#45;&gt;16</title>\n",
       "<path fill=\"none\" stroke=\"black\" d=\"M1658.34,-215.7C1658.34,-207.98 1658.34,-198.71 1658.34,-190.11\"/>\n",
       "<polygon fill=\"black\" stroke=\"black\" points=\"1661.84,-190.1 1658.34,-180.1 1654.84,-190.1 1661.84,-190.1\"/>\n",
       "</g>\n",
       "<!-- 17 -->\n",
       "<g id=\"node18\" class=\"node\">\n",
       "<title>17</title>\n",
       "<ellipse fill=\"none\" stroke=\"black\" cx=\"2252.34\" cy=\"-18\" rx=\"48.19\" ry=\"18\"/>\n",
       "<text text-anchor=\"middle\" x=\"2252.34\" y=\"-14.3\" font-family=\"Times,serif\" font-size=\"14.00\">Rename</text>\n",
       "</g>\n",
       "<!-- 18&#45;&gt;17 -->\n",
       "<g id=\"edge14\" class=\"edge\">\n",
       "<title>18&#45;&gt;17</title>\n",
       "<path fill=\"none\" stroke=\"black\" d=\"M2252.34,-71.7C2252.34,-63.98 2252.34,-54.71 2252.34,-46.11\"/>\n",
       "<polygon fill=\"black\" stroke=\"black\" points=\"2255.84,-46.1 2252.34,-36.1 2248.84,-46.1 2255.84,-46.1\"/>\n",
       "</g>\n",
       "</g>\n",
       "</svg>\n"
      ],
      "text/plain": [
       "<graphviz.dot.Digraph at 0x7f5f74df4b20>"
      ]
     },
     "execution_count": 22,
     "metadata": {},
     "output_type": "execute_result"
    }
   ],
   "source": [
    "time_features.graph"
   ]
  },
  {
   "cell_type": "markdown",
   "id": "fbc74b23",
   "metadata": {},
   "source": [
    "### Categorify"
   ]
  },
  {
   "cell_type": "code",
   "execution_count": 23,
   "id": "9d76a3a6",
   "metadata": {},
   "outputs": [],
   "source": [
    "categ_features = ['item_id', 'category'] >> nvt.ops.Categorify()"
   ]
  },
  {
   "cell_type": "markdown",
   "id": "8ab6164f",
   "metadata": {},
   "source": [
    "### Grouping interactions into sessions"
   ]
  },
  {
   "cell_type": "code",
   "execution_count": 24,
   "id": "f3dceb0a",
   "metadata": {},
   "outputs": [],
   "source": [
    "groupby_feats = categ_features + ['session_id']+ time_features"
   ]
  },
  {
   "cell_type": "code",
   "execution_count": 25,
   "id": "16844a71",
   "metadata": {},
   "outputs": [],
   "source": [
    "# Define Groupby Workflow\n",
    "groupby_features = groupby_feats >> nvt.ops.Groupby(\n",
    "    groupby_cols=[\"session_id\"], \n",
    "    sort_cols=[\"event_time_ts\"],\n",
    "    aggs={\n",
    "        \"item_id\": [\"list\", \"count\"],\n",
    "        \"category\": [\"list\"],        \n",
    "        \"event_time_dt\": [\"first\"],\n",
    "        \"event_time_ts\": [\"first\"],\n",
    "        \"timestamp_age_days_norm\": [\"list\"],\n",
    "        \"timestamp_hour_sin\": [\"list\"],\n",
    "        \"timestamp_hour_cos\": [\"list\"],\n",
    "        \"timestamp_wd_sin\": [\"list\"],\n",
    "        \"timestamp_wd_cos\": [\"list\"],\n",
    "        },\n",
    "    name_sep=\"-\")"
   ]
  },
  {
   "cell_type": "code",
   "execution_count": 26,
   "id": "7f695963",
   "metadata": {},
   "outputs": [],
   "source": [
    "groupby_features_list = groupby_features['item_id-list', 'category-list', 'timestamp_age_days_norm-list', 'timestamp_wd_sin-list',\n",
    "                                         'timestamp_hour_cos-list','timestamp_wd_cos-list', 'timestamp_hour_sin-list']"
   ]
  },
  {
   "cell_type": "code",
   "execution_count": 27,
   "id": "b728d80b",
   "metadata": {},
   "outputs": [],
   "source": [
    "groupby_features_trim = groupby_features_list >> nvt.ops.ListSlice(0,20) >> nvt.ops.Rename(postfix = '_trim')"
   ]
  },
  {
   "cell_type": "code",
   "execution_count": 28,
   "id": "32e36c64",
   "metadata": {},
   "outputs": [],
   "source": [
    "# calculate session day index based on 'event_time_dt-first' column\n",
    "day_index = ((groupby_features['event_time_dt-first'])  >> \n",
    "    nvt.ops.LambdaOp(lambda col: (col - col.min()).dt.days +1) >> \n",
    "    nvt.ops.Rename(f = lambda col: \"day_index\")\n",
    ")"
   ]
  },
  {
   "cell_type": "code",
   "execution_count": 29,
   "id": "df7ffd45",
   "metadata": {},
   "outputs": [],
   "source": [
    "day_padded = day_index >> (lambda col: col.astype(str).str.pad(4,fillchar='0')) >> nvt.ops.Rename(f = lambda col: \"day_padded\")"
   ]
  },
  {
   "cell_type": "code",
   "execution_count": 30,
   "id": "6f03ce25",
   "metadata": {},
   "outputs": [],
   "source": [
    "selected_features = groupby_features['session_id', 'item_id-count', 'event_time_ts-first'] + groupby_features_trim + day_padded"
   ]
  },
  {
   "cell_type": "code",
   "execution_count": 31,
   "id": "4f128111",
   "metadata": {},
   "outputs": [],
   "source": [
    "filtered_sessions = selected_features >> nvt.ops.Filter(f=lambda df: df[\"item_id-count\"] >= MINIMUM_SESSION_LENGTH)"
   ]
  },
  {
   "cell_type": "markdown",
   "id": "a72731f6",
   "metadata": {},
   "source": [
    "- Initialize workflow object and transform the dataset"
   ]
  },
  {
   "cell_type": "code",
   "execution_count": 32,
   "id": "b51ba33d",
   "metadata": {},
   "outputs": [
    {
     "name": "stderr",
     "output_type": "stream",
     "text": [
      "/root/.local/lib/python3.8/site-packages/numba-0.54.0rc2-py3.8-linux-x86_64.egg/numba/cuda/compiler.py:865: NumbaPerformanceWarning: \u001b[1mGrid size (1) < 2 * SM count (160) will likely result in GPU under utilization due to low occupancy.\u001b[0m\n",
      "  warn(NumbaPerformanceWarning(msg))\n"
     ]
    }
   ],
   "source": [
    "workflow = nvt.Workflow(filtered_sessions)\n",
    "dataset = nvt.Dataset(interactions_merged_df, cpu=False)\n",
    "workflow.fit(dataset)\n",
    "sessions_gdf = workflow.transform(dataset).to_ddf().compute()"
   ]
  },
  {
   "cell_type": "code",
   "execution_count": 33,
   "id": "dc80312b",
   "metadata": {},
   "outputs": [
    {
     "data": {
      "text/html": [
       "<div>\n",
       "<style scoped>\n",
       "    .dataframe tbody tr th:only-of-type {\n",
       "        vertical-align: middle;\n",
       "    }\n",
       "\n",
       "    .dataframe tbody tr th {\n",
       "        vertical-align: top;\n",
       "    }\n",
       "\n",
       "    .dataframe thead th {\n",
       "        text-align: right;\n",
       "    }\n",
       "</style>\n",
       "<table border=\"1\" class=\"dataframe\">\n",
       "  <thead>\n",
       "    <tr style=\"text-align: right;\">\n",
       "      <th></th>\n",
       "      <th>session_id</th>\n",
       "      <th>item_id-count</th>\n",
       "      <th>event_time_ts-first</th>\n",
       "      <th>item_id-list_trim</th>\n",
       "      <th>category-list_trim</th>\n",
       "      <th>timestamp_age_days_norm-list_trim</th>\n",
       "      <th>timestamp_wd_sin-list_trim</th>\n",
       "      <th>timestamp_hour_cos-list_trim</th>\n",
       "      <th>timestamp_wd_cos-list_trim</th>\n",
       "      <th>timestamp_hour_sin-list_trim</th>\n",
       "      <th>day_padded</th>\n",
       "    </tr>\n",
       "  </thead>\n",
       "  <tbody>\n",
       "    <tr>\n",
       "      <th>0</th>\n",
       "      <td>1</td>\n",
       "      <td>4</td>\n",
       "      <td>1396867869</td>\n",
       "      <td>[3559, 7340, 19523, 15499]</td>\n",
       "      <td>[1, 1, 1, 1]</td>\n",
       "      <td>[-1.3044713, -1.2986491, -1.3283161, -1.3548527]</td>\n",
       "      <td>[0.7818321, 0.7818321, 0.7818321, 0.7818321]</td>\n",
       "      <td>[-0.8660256, -0.8660256, -0.8660256, -0.8660256]</td>\n",
       "      <td>[0.6234891, 0.6234891, 0.6234891, 0.6234891]</td>\n",
       "      <td>[0.49999964, 0.49999964, 0.49999964, 0.49999964]</td>\n",
       "      <td>0007</td>\n",
       "    </tr>\n",
       "    <tr>\n",
       "      <th>1</th>\n",
       "      <td>2</td>\n",
       "      <td>5</td>\n",
       "      <td>1396878997</td>\n",
       "      <td>[1968, 8039, 5178, 9410, 605]</td>\n",
       "      <td>[1, 1, 1, 1, 1]</td>\n",
       "      <td>[-1.3023784, -2.2679915, -2.1763284, -2.169367...</td>\n",
       "      <td>[0.7818321, 0.7818321, 0.7818321, 0.7818321, 0...</td>\n",
       "      <td>[-0.96592575, -0.96592575, -0.96592575, -0.866...</td>\n",
       "      <td>[0.6234891, 0.6234891, 0.6234891, 0.6234891, 0...</td>\n",
       "      <td>[-0.2588193, -0.2588193, -0.2588193, -0.500000...</td>\n",
       "      <td>0007</td>\n",
       "    </tr>\n",
       "  </tbody>\n",
       "</table>\n",
       "</div>"
      ],
      "text/plain": [
       "   session_id  item_id-count  event_time_ts-first  \\\n",
       "0           1              4           1396867869   \n",
       "1           2              5           1396878997   \n",
       "\n",
       "               item_id-list_trim category-list_trim  \\\n",
       "0     [3559, 7340, 19523, 15499]       [1, 1, 1, 1]   \n",
       "1  [1968, 8039, 5178, 9410, 605]    [1, 1, 1, 1, 1]   \n",
       "\n",
       "                   timestamp_age_days_norm-list_trim  \\\n",
       "0   [-1.3044713, -1.2986491, -1.3283161, -1.3548527]   \n",
       "1  [-1.3023784, -2.2679915, -2.1763284, -2.169367...   \n",
       "\n",
       "                          timestamp_wd_sin-list_trim  \\\n",
       "0       [0.7818321, 0.7818321, 0.7818321, 0.7818321]   \n",
       "1  [0.7818321, 0.7818321, 0.7818321, 0.7818321, 0...   \n",
       "\n",
       "                        timestamp_hour_cos-list_trim  \\\n",
       "0   [-0.8660256, -0.8660256, -0.8660256, -0.8660256]   \n",
       "1  [-0.96592575, -0.96592575, -0.96592575, -0.866...   \n",
       "\n",
       "                          timestamp_wd_cos-list_trim  \\\n",
       "0       [0.6234891, 0.6234891, 0.6234891, 0.6234891]   \n",
       "1  [0.6234891, 0.6234891, 0.6234891, 0.6234891, 0...   \n",
       "\n",
       "                        timestamp_hour_sin-list_trim day_padded  \n",
       "0   [0.49999964, 0.49999964, 0.49999964, 0.49999964]       0007  \n",
       "1  [-0.2588193, -0.2588193, -0.2588193, -0.500000...       0007  "
      ]
     },
     "execution_count": 33,
     "metadata": {},
     "output_type": "execute_result"
    }
   ],
   "source": [
    "sessions_gdf.head(2)"
   ]
  },
  {
   "cell_type": "markdown",
   "id": "fa41967e",
   "metadata": {},
   "source": [
    "### Exporting session by day "
   ]
  },
  {
   "cell_type": "markdown",
   "id": "4af9bddf",
   "metadata": {},
   "source": [
    "#### Saving using hive-partitioned data"
   ]
  },
  {
   "cell_type": "code",
   "execution_count": 35,
   "id": "e2158ab7",
   "metadata": {},
   "outputs": [],
   "source": [
    "PARTITION_COL = 'day_padded'\n",
    "\n",
    "# Convert to a Dataset and write out hive-partitioned data to disk\n",
    "nvt_output_path_tmp ='./output_nvt_tmp/'\n",
    "workflow.transform(dataset).to_parquet(nvt_output_path_tmp, partition_on=[PARTITION_COL])"
   ]
  },
  {
   "cell_type": "markdown",
   "id": "8fdb5a9e",
   "metadata": {},
   "source": [
    "#### Converting to the HF4Rec dir structure and splitting dataset"
   ]
  },
  {
   "cell_type": "markdown",
   "id": "fe0dae44",
   "metadata": {},
   "source": [
    "- Rename columns to match with the yaml file"
   ]
  },
  {
   "cell_type": "code",
   "execution_count": 36,
   "id": "8f077d21",
   "metadata": {},
   "outputs": [],
   "source": [
    "rename_cols = ['session_id', 'session_size', 'event_time_ts-first', 'item_id-list', 'category-list',  'timestamp_age_days_norm-list', \n",
    "               'timestamp_wd_sin-list', 'timestamp_hour_cos-list', 'timestamp_wd_cos-list', 'timestamp_hour_sin-list']"
   ]
  },
  {
   "cell_type": "markdown",
   "id": "748b4b24",
   "metadata": {},
   "source": [
    "- Create the folder structure to be able to do daily training and evaluation"
   ]
  },
  {
   "cell_type": "code",
   "execution_count": null,
   "id": "4c7beac7",
   "metadata": {},
   "outputs": [],
   "source": [
    "days_folders = [f for f in sorted(os.listdir(nvt_output_path_tmp)) if f.startswith(PARTITION_COL)]\n",
    "for day_folder in days_folders:\n",
    "    df = cudf.read_parquet(os.path.join(nvt_output_path_tmp, day_folder))\n",
    "    df = df.sort_values('event_time_ts-first')\n",
    "    df.columns = rename_cols\n",
    "    out_folder = os.path.join(OUTPUT_FOLDER, day_folder.replace('day_padded=', ''))\n",
    "    os.makedirs(out_folder, exist_ok=True)\n",
    "    df.to_parquet(os.path.join(out_folder, 'train.parquet'))\n",
    "    \n",
    "    random_values = np.random.rand(len(df))\n",
    "    \n",
    "    #Extracts 10% for valid and test set. Those sessions are also in the train set, but as evaluation\n",
    "    #happens only for the subsequent day of training, that is not an issue, and we can keep the train set larger.\n",
    "    valid_set = df[random_values <= 0.10]\n",
    "    valid_set.to_parquet(os.path.join(out_folder, 'valid.parquet'))\n",
    "    \n",
    "    test_set = df[random_values >= 0.90]\n",
    "    test_set.to_parquet(os.path.join(out_folder, 'test.parquet'))"
   ]
  },
  {
   "cell_type": "markdown",
   "id": "1d34cc08",
   "metadata": {},
   "source": [
    "- check out one processed parquet file"
   ]
  },
  {
   "cell_type": "code",
   "execution_count": 46,
   "id": "ee8d623f",
   "metadata": {},
   "outputs": [
    {
     "data": {
      "text/html": [
       "<div>\n",
       "<style scoped>\n",
       "    .dataframe tbody tr th:only-of-type {\n",
       "        vertical-align: middle;\n",
       "    }\n",
       "\n",
       "    .dataframe tbody tr th {\n",
       "        vertical-align: top;\n",
       "    }\n",
       "\n",
       "    .dataframe thead th {\n",
       "        text-align: right;\n",
       "    }\n",
       "</style>\n",
       "<table border=\"1\" class=\"dataframe\">\n",
       "  <thead>\n",
       "    <tr style=\"text-align: right;\">\n",
       "      <th></th>\n",
       "      <th>session_id</th>\n",
       "      <th>session_size</th>\n",
       "      <th>event_time_ts-first</th>\n",
       "      <th>item_id-list</th>\n",
       "      <th>category-list</th>\n",
       "      <th>timestamp_age_days_norm-list</th>\n",
       "      <th>timestamp_wd_sin-list</th>\n",
       "      <th>timestamp_hour_cos-list</th>\n",
       "      <th>timestamp_wd_cos-list</th>\n",
       "      <th>timestamp_hour_sin-list</th>\n",
       "    </tr>\n",
       "  </thead>\n",
       "  <tbody>\n",
       "    <tr>\n",
       "      <th>31230</th>\n",
       "      <td>351646</td>\n",
       "      <td>2</td>\n",
       "      <td>1396321200</td>\n",
       "      <td>[556, 574]</td>\n",
       "      <td>[1, 1]</td>\n",
       "      <td>[-3.0278223, -3.0278223]</td>\n",
       "      <td>[0.9749277, 0.9749277]</td>\n",
       "      <td>[0.70710653, 0.70710653]</td>\n",
       "      <td>[-0.22252177, -0.22252177]</td>\n",
       "      <td>[0.707107, 0.707107]</td>\n",
       "    </tr>\n",
       "    <tr>\n",
       "      <th>34633</th>\n",
       "      <td>389654</td>\n",
       "      <td>5</td>\n",
       "      <td>1396321200</td>\n",
       "      <td>[90, 4519, 90, 513, 90]</td>\n",
       "      <td>[1, 1, 1, 1, 1]</td>\n",
       "      <td>[-3.0278223, -3.0278223, -3.026238, -3.0273852...</td>\n",
       "      <td>[0.9749277, 0.9749277, 0.9749277, 0.9749277, 0...</td>\n",
       "      <td>[0.70710653, 0.70710653, 0.70710653, 0.7071065...</td>\n",
       "      <td>[-0.22252177, -0.22252177, -0.22252177, -0.222...</td>\n",
       "      <td>[0.707107, 0.707107, 0.707107, 0.707107, 0.707...</td>\n",
       "    </tr>\n",
       "    <tr>\n",
       "      <th>18660</th>\n",
       "      <td>210798</td>\n",
       "      <td>12</td>\n",
       "      <td>1396321213</td>\n",
       "      <td>[6593, 5068, 12213, 15581, 11431, 1731, 11431,...</td>\n",
       "      <td>[1, 1, 1, 1, 1, 1, 1, 1, 1, 1, 1, 1]</td>\n",
       "      <td>[-3.0278223, -3.0278223, -3.0278223, -3.027822...</td>\n",
       "      <td>[0.9749277, 0.9749277, 0.9749277, 0.9749277, 0...</td>\n",
       "      <td>[0.70710653, 0.70710653, 0.70710653, 0.7071065...</td>\n",
       "      <td>[-0.22252177, -0.22252177, -0.22252177, -0.222...</td>\n",
       "      <td>[0.707107, 0.707107, 0.707107, 0.707107, 0.707...</td>\n",
       "    </tr>\n",
       "    <tr>\n",
       "      <th>33364</th>\n",
       "      <td>375257</td>\n",
       "      <td>11</td>\n",
       "      <td>1396321213</td>\n",
       "      <td>[4133, 4034, 5093, 1117, 4068, 1117, 4068, 111...</td>\n",
       "      <td>[1, 1, 1, 1, 1, 1, 1, 1, 1, 1, 1]</td>\n",
       "      <td>[-3.0278223, -3.0278223, -3.0278223, -3.027822...</td>\n",
       "      <td>[0.9749277, 0.9749277, 0.9749277, 0.9749277, 0...</td>\n",
       "      <td>[0.70710653, 0.70710653, 0.70710653, 0.7071065...</td>\n",
       "      <td>[-0.22252177, -0.22252177, -0.22252177, -0.222...</td>\n",
       "      <td>[0.707107, 0.707107, 0.707107, 0.707107, 0.707...</td>\n",
       "    </tr>\n",
       "    <tr>\n",
       "      <th>15154</th>\n",
       "      <td>171168</td>\n",
       "      <td>2</td>\n",
       "      <td>1396321220</td>\n",
       "      <td>[464, 576]</td>\n",
       "      <td>[1, 1]</td>\n",
       "      <td>[-3.0278223, -3.0278223]</td>\n",
       "      <td>[0.9749277, 0.9749277]</td>\n",
       "      <td>[0.70710653, 0.70710653]</td>\n",
       "      <td>[-0.22252177, -0.22252177]</td>\n",
       "      <td>[0.707107, 0.707107]</td>\n",
       "    </tr>\n",
       "  </tbody>\n",
       "</table>\n",
       "</div>"
      ],
      "text/plain": [
       "       session_id  session_size  event_time_ts-first  \\\n",
       "31230      351646             2           1396321200   \n",
       "34633      389654             5           1396321200   \n",
       "18660      210798            12           1396321213   \n",
       "33364      375257            11           1396321213   \n",
       "15154      171168             2           1396321220   \n",
       "\n",
       "                                            item_id-list  \\\n",
       "31230                                         [556, 574]   \n",
       "34633                            [90, 4519, 90, 513, 90]   \n",
       "18660  [6593, 5068, 12213, 15581, 11431, 1731, 11431,...   \n",
       "33364  [4133, 4034, 5093, 1117, 4068, 1117, 4068, 111...   \n",
       "15154                                         [464, 576]   \n",
       "\n",
       "                              category-list  \\\n",
       "31230                                [1, 1]   \n",
       "34633                       [1, 1, 1, 1, 1]   \n",
       "18660  [1, 1, 1, 1, 1, 1, 1, 1, 1, 1, 1, 1]   \n",
       "33364     [1, 1, 1, 1, 1, 1, 1, 1, 1, 1, 1]   \n",
       "15154                                [1, 1]   \n",
       "\n",
       "                            timestamp_age_days_norm-list  \\\n",
       "31230                           [-3.0278223, -3.0278223]   \n",
       "34633  [-3.0278223, -3.0278223, -3.026238, -3.0273852...   \n",
       "18660  [-3.0278223, -3.0278223, -3.0278223, -3.027822...   \n",
       "33364  [-3.0278223, -3.0278223, -3.0278223, -3.027822...   \n",
       "15154                           [-3.0278223, -3.0278223]   \n",
       "\n",
       "                                   timestamp_wd_sin-list  \\\n",
       "31230                             [0.9749277, 0.9749277]   \n",
       "34633  [0.9749277, 0.9749277, 0.9749277, 0.9749277, 0...   \n",
       "18660  [0.9749277, 0.9749277, 0.9749277, 0.9749277, 0...   \n",
       "33364  [0.9749277, 0.9749277, 0.9749277, 0.9749277, 0...   \n",
       "15154                             [0.9749277, 0.9749277]   \n",
       "\n",
       "                                 timestamp_hour_cos-list  \\\n",
       "31230                           [0.70710653, 0.70710653]   \n",
       "34633  [0.70710653, 0.70710653, 0.70710653, 0.7071065...   \n",
       "18660  [0.70710653, 0.70710653, 0.70710653, 0.7071065...   \n",
       "33364  [0.70710653, 0.70710653, 0.70710653, 0.7071065...   \n",
       "15154                           [0.70710653, 0.70710653]   \n",
       "\n",
       "                                   timestamp_wd_cos-list  \\\n",
       "31230                         [-0.22252177, -0.22252177]   \n",
       "34633  [-0.22252177, -0.22252177, -0.22252177, -0.222...   \n",
       "18660  [-0.22252177, -0.22252177, -0.22252177, -0.222...   \n",
       "33364  [-0.22252177, -0.22252177, -0.22252177, -0.222...   \n",
       "15154                         [-0.22252177, -0.22252177]   \n",
       "\n",
       "                                 timestamp_hour_sin-list  \n",
       "31230                               [0.707107, 0.707107]  \n",
       "34633  [0.707107, 0.707107, 0.707107, 0.707107, 0.707...  \n",
       "18660  [0.707107, 0.707107, 0.707107, 0.707107, 0.707...  \n",
       "33364  [0.707107, 0.707107, 0.707107, 0.707107, 0.707...  \n",
       "15154                               [0.707107, 0.707107]  "
      ]
     },
     "execution_count": 46,
     "metadata": {},
     "output_type": "execute_result"
    }
   ],
   "source": [
    "df = cudf.read_parquet(os.path.join(OUTPUT_FOLDER, '0001/train.parquet'))\n",
    "df.head()"
   ]
  }
 ],
 "metadata": {
  "kernelspec": {
   "display_name": "Python 3 (ipykernel)",
   "language": "python",
   "name": "python3"
  },
  "language_info": {
   "codemirror_mode": {
    "name": "ipython",
    "version": 3
   },
   "file_extension": ".py",
   "mimetype": "text/x-python",
   "name": "python",
   "nbconvert_exporter": "python",
   "pygments_lexer": "ipython3",
   "version": "3.8.10"
  }
 },
 "nbformat": 4,
 "nbformat_minor": 5
}
