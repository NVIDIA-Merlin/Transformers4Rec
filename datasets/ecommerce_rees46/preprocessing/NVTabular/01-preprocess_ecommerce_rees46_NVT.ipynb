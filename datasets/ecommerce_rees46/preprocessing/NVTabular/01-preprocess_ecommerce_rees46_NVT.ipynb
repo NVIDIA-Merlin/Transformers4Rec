{
 "cells": [
  {
   "cell_type": "code",
   "execution_count": 1,
   "metadata": {},
   "outputs": [],
   "source": [
    "# Copyright 2021 NVIDIA Corporation. All Rights Reserved.\n",
    "#\n",
    "# Licensed under the Apache License, Version 2.0 (the \"License\");\n",
    "# you may not use this file except in compliance with the License.\n",
    "# You may obtain a copy of the License at\n",
    "#\n",
    "#     http://www.apache.org/licenses/LICENSE-2.0\n",
    "#\n",
    "# Unless required by applicable law or agreed to in writing, software\n",
    "# distributed under the License is distributed on an \"AS IS\" BASIS,\n",
    "# WITHOUT WARRANTIES OR CONDITIONS OF ANY KIND, either express or implied.\n",
    "# See the License for the specific language governing permissions and\n",
    "# limitations under the License.\n",
    "# =============================================================================="
   ]
  },
  {
   "cell_type": "markdown",
   "metadata": {},
   "source": [
    "## Read and Process E-Commerce data with NVTabular"
   ]
  },
  {
   "cell_type": "markdown",
   "metadata": {},
   "source": [
    "In this notebook, we are going to use a subset of the publicly available [eCommerce dataset](https://www.kaggle.com/mkechinov/ecommerce-behavior-data-from-multi-category-store). The e-commerce behavior data contains 7 months data (from October 2019 to April 2020) from a large multi-category online store. Each row in the file represents an event. All events are related to products and users. Each event is like many-to-many relation between products and users.\n",
    "Data collected by Open CDP project and the source of the dataset is [REES46 Marketing Platform](https://rees46.com/)."
   ]
  },
  {
   "cell_type": "markdown",
   "metadata": {},
   "source": [
    "We use only `2019-Oct.csv` file for training our models, so you can visit this site and download the csv file: https://www.kaggle.com/mkechinov/ecommerce-behavior-data-from-multi-category-store."
   ]
  },
  {
   "cell_type": "markdown",
   "metadata": {},
   "source": [
    "In addition, we provide scripts to download additional months from Google Drive in the [01-preprocess_ecommerce_rees46_pyspark.ipynb](https://github.com/NVIDIA-Merlin/Transformers4Rec/blob/main/datasets/ecommerce_rees46/preprocessing/pyspark/01-preprocess_ecommerce_rees46_pyspark.ipynb) notebook. You can visit the notebook to use the download scripts from google drive."
   ]
  },
  {
   "cell_type": "markdown",
   "metadata": {},
   "source": [
    "- Import the required libraries"
   ]
  },
  {
   "cell_type": "code",
   "execution_count": 2,
   "metadata": {},
   "outputs": [],
   "source": [
    "import os\n",
    "import numpy as np \n",
    "import pandas as pd\n",
    "import gc\n",
    "import shutil\n",
    "import glob\n",
    "\n",
    "import cudf\n",
    "import cupy\n",
    "import nvtabular as nvt\n",
    "from nvtabular import ColumnSelector"
   ]
  },
  {
   "cell_type": "markdown",
   "metadata": {},
   "source": [
    "## Define Input/Output Directories"
   ]
  },
  {
   "cell_type": "markdown",
   "metadata": {},
   "source": [
    "A this point we expect that you have already downloaded the `2019-Oct.csv` dataset and stored it in the `INPUT_DATA_DIR` as defined below."
   ]
  },
  {
   "cell_type": "code",
   "execution_count": 3,
   "metadata": {},
   "outputs": [],
   "source": [
    "# define some information about where to get our data\n",
    "BASE_DIR = os.environ.get(\"BASE_DIR\", \"/workspace/\")\n",
    "INPUT_DATA_DIR = os.environ.get(\"INPUT_DATA_DIR\", BASE_DIR + \"ecommerce/\")\n",
    "OUTPUT_DATA_DIR = os.environ.get(\"OUTPUT_DATA_DIR\", BASE_DIR + \"ecommerce/output_tmp/\")\n",
    "\n",
    "INPUT_PATH= os.path.join(INPUT_DATA_DIR, 'input/')\n",
    "!mkdir -p $INPUT_PATH"
   ]
  },
  {
   "cell_type": "markdown",
   "metadata": {},
   "source": [
    "## Configurations"
   ]
  },
  {
   "cell_type": "markdown",
   "metadata": {},
   "source": [
    "We will only use 2019-Oct dataset."
   ]
  },
  {
   "cell_type": "code",
   "execution_count": 4,
   "metadata": {},
   "outputs": [],
   "source": [
    "selected_months = [\"2019-Oct.csv\"]"
   ]
  },
  {
   "cell_type": "code",
   "execution_count": 5,
   "metadata": {},
   "outputs": [
    {
     "data": {
      "text/plain": [
       "['/workspace/ecommerce/2019-Oct.csv']"
      ]
     },
     "execution_count": 5,
     "metadata": {},
     "output_type": "execute_result"
    }
   ],
   "source": [
    "files_paths = [os.path.join(INPUT_DATA_DIR, file) for file in selected_months]\n",
    "files_paths"
   ]
  },
  {
   "cell_type": "markdown",
   "metadata": {},
   "source": [
    "## Read Data via cuDF from CSV"
   ]
  },
  {
   "cell_type": "code",
   "execution_count": 6,
   "metadata": {},
   "outputs": [
    {
     "name": "stdout",
     "output_type": "stream",
     "text": [
      "CPU times: user 2.72 s, sys: 2.03 s, total: 4.75 s\n",
      "Wall time: 5.4 s\n"
     ]
    },
    {
     "data": {
      "text/html": [
       "<div>\n",
       "<style scoped>\n",
       "    .dataframe tbody tr th:only-of-type {\n",
       "        vertical-align: middle;\n",
       "    }\n",
       "\n",
       "    .dataframe tbody tr th {\n",
       "        vertical-align: top;\n",
       "    }\n",
       "\n",
       "    .dataframe thead th {\n",
       "        text-align: right;\n",
       "    }\n",
       "</style>\n",
       "<table border=\"1\" class=\"dataframe\">\n",
       "  <thead>\n",
       "    <tr style=\"text-align: right;\">\n",
       "      <th></th>\n",
       "      <th>event_time</th>\n",
       "      <th>event_type</th>\n",
       "      <th>product_id</th>\n",
       "      <th>category_id</th>\n",
       "      <th>category_code</th>\n",
       "      <th>brand</th>\n",
       "      <th>price</th>\n",
       "      <th>user_id</th>\n",
       "      <th>user_session</th>\n",
       "    </tr>\n",
       "  </thead>\n",
       "  <tbody>\n",
       "    <tr>\n",
       "      <th>0</th>\n",
       "      <td>2019-10-01 00:00:00 UTC</td>\n",
       "      <td>view</td>\n",
       "      <td>44600062</td>\n",
       "      <td>2103807459595387724</td>\n",
       "      <td>&lt;NA&gt;</td>\n",
       "      <td>shiseido</td>\n",
       "      <td>35.79</td>\n",
       "      <td>541312140</td>\n",
       "      <td>72d76fde-8bb3-4e00-8c23-a032dfed738c</td>\n",
       "    </tr>\n",
       "    <tr>\n",
       "      <th>1</th>\n",
       "      <td>2019-10-01 00:00:00 UTC</td>\n",
       "      <td>view</td>\n",
       "      <td>3900821</td>\n",
       "      <td>2053013552326770905</td>\n",
       "      <td>appliances.environment.water_heater</td>\n",
       "      <td>aqua</td>\n",
       "      <td>33.20</td>\n",
       "      <td>554748717</td>\n",
       "      <td>9333dfbd-b87a-4708-9857-6336556b0fcc</td>\n",
       "    </tr>\n",
       "    <tr>\n",
       "      <th>2</th>\n",
       "      <td>2019-10-01 00:00:01 UTC</td>\n",
       "      <td>view</td>\n",
       "      <td>17200506</td>\n",
       "      <td>2053013559792632471</td>\n",
       "      <td>furniture.living_room.sofa</td>\n",
       "      <td>&lt;NA&gt;</td>\n",
       "      <td>543.10</td>\n",
       "      <td>519107250</td>\n",
       "      <td>566511c2-e2e3-422b-b695-cf8e6e792ca8</td>\n",
       "    </tr>\n",
       "    <tr>\n",
       "      <th>3</th>\n",
       "      <td>2019-10-01 00:00:01 UTC</td>\n",
       "      <td>view</td>\n",
       "      <td>1307067</td>\n",
       "      <td>2053013558920217191</td>\n",
       "      <td>computers.notebook</td>\n",
       "      <td>lenovo</td>\n",
       "      <td>251.74</td>\n",
       "      <td>550050854</td>\n",
       "      <td>7c90fc70-0e80-4590-96f3-13c02c18c713</td>\n",
       "    </tr>\n",
       "    <tr>\n",
       "      <th>4</th>\n",
       "      <td>2019-10-01 00:00:04 UTC</td>\n",
       "      <td>view</td>\n",
       "      <td>1004237</td>\n",
       "      <td>2053013555631882655</td>\n",
       "      <td>electronics.smartphone</td>\n",
       "      <td>apple</td>\n",
       "      <td>1081.98</td>\n",
       "      <td>535871217</td>\n",
       "      <td>c6bd7419-2748-4c56-95b4-8cec9ff8b80d</td>\n",
       "    </tr>\n",
       "  </tbody>\n",
       "</table>\n",
       "</div>"
      ],
      "text/plain": [
       "                event_time event_type  product_id          category_id  \\\n",
       "0  2019-10-01 00:00:00 UTC       view    44600062  2103807459595387724   \n",
       "1  2019-10-01 00:00:00 UTC       view     3900821  2053013552326770905   \n",
       "2  2019-10-01 00:00:01 UTC       view    17200506  2053013559792632471   \n",
       "3  2019-10-01 00:00:01 UTC       view     1307067  2053013558920217191   \n",
       "4  2019-10-01 00:00:04 UTC       view     1004237  2053013555631882655   \n",
       "\n",
       "                         category_code     brand    price    user_id  \\\n",
       "0                                 <NA>  shiseido    35.79  541312140   \n",
       "1  appliances.environment.water_heater      aqua    33.20  554748717   \n",
       "2           furniture.living_room.sofa      <NA>   543.10  519107250   \n",
       "3                   computers.notebook    lenovo   251.74  550050854   \n",
       "4               electronics.smartphone     apple  1081.98  535871217   \n",
       "\n",
       "                           user_session  \n",
       "0  72d76fde-8bb3-4e00-8c23-a032dfed738c  \n",
       "1  9333dfbd-b87a-4708-9857-6336556b0fcc  \n",
       "2  566511c2-e2e3-422b-b695-cf8e6e792ca8  \n",
       "3  7c90fc70-0e80-4590-96f3-13c02c18c713  \n",
       "4  c6bd7419-2748-4c56-95b4-8cec9ff8b80d  "
      ]
     },
     "execution_count": 6,
     "metadata": {},
     "output_type": "execute_result"
    }
   ],
   "source": [
    "%%time\n",
    "raw_df = cudf.read_csv(files_paths[0]) \n",
    "raw_df.head()"
   ]
  },
  {
   "cell_type": "code",
   "execution_count": 7,
   "metadata": {},
   "outputs": [
    {
     "data": {
      "text/plain": [
       "(42448764, 9)"
      ]
     },
     "execution_count": 7,
     "metadata": {},
     "output_type": "execute_result"
    }
   ],
   "source": [
    "raw_df.shape"
   ]
  },
  {
   "cell_type": "markdown",
   "metadata": {},
   "source": [
    "## PREPROCESSING"
   ]
  },
  {
   "cell_type": "markdown",
   "metadata": {},
   "source": [
    "### Convert timestamp from datetime"
   ]
  },
  {
   "cell_type": "code",
   "execution_count": null,
   "metadata": {},
   "outputs": [],
   "source": [
    "raw_df['event_time_dt'] = raw_df['event_time'].astype('datetime64[s]')\n",
    "raw_df['event_time_ts']= raw_df['event_time_dt'].astype('int')"
   ]
  },
  {
   "cell_type": "code",
   "execution_count": 9,
   "metadata": {},
   "outputs": [
    {
     "data": {
      "text/plain": [
       "event_time       False\n",
       "event_type       False\n",
       "product_id       False\n",
       "category_id      False\n",
       "category_code     True\n",
       "brand             True\n",
       "price            False\n",
       "user_id          False\n",
       "user_session      True\n",
       "event_time_dt    False\n",
       "event_time_ts    False\n",
       "dtype: bool"
      ]
     },
     "execution_count": 9,
     "metadata": {},
     "output_type": "execute_result"
    }
   ],
   "source": [
    "# check out the columns with nulls\n",
    "raw_df.isnull().any()"
   ]
  },
  {
   "cell_type": "code",
   "execution_count": 10,
   "metadata": {},
   "outputs": [
    {
     "data": {
      "text/plain": [
       "42448762"
      ]
     },
     "execution_count": 10,
     "metadata": {},
     "output_type": "execute_result"
    }
   ],
   "source": [
    "# Remove rows where `user_session` is null.\n",
    "raw_df = raw_df[raw_df['user_session'].isnull()==False]\n",
    "len(raw_df)"
   ]
  },
  {
   "cell_type": "markdown",
   "metadata": {},
   "source": [
    "### Categorify `user_session` column"
   ]
  },
  {
   "cell_type": "code",
   "execution_count": 12,
   "metadata": {},
   "outputs": [
    {
     "data": {
      "text/plain": [
       "['event_time',\n",
       " 'event_type',\n",
       " 'product_id',\n",
       " 'category_id',\n",
       " 'category_code',\n",
       " 'brand',\n",
       " 'price',\n",
       " 'user_id',\n",
       " 'event_time_dt',\n",
       " 'event_time_ts']"
      ]
     },
     "execution_count": 12,
     "metadata": {},
     "output_type": "execute_result"
    }
   ],
   "source": [
    "cols = list(raw_df.columns)\n",
    "cols.remove('user_session')\n",
    "cols"
   ]
  },
  {
   "cell_type": "code",
   "execution_count": 13,
   "metadata": {},
   "outputs": [],
   "source": [
    "# load data \n",
    "df_event = nvt.Dataset(raw_df) \n",
    "\n",
    "# categorify user_session \n",
    "cat_feats = ['user_session'] >> nvt.ops.Categorify()\n",
    "\n",
    "workflow = nvt.Workflow(cols + cat_feats)\n",
    "workflow.fit(df_event)\n",
    "df = workflow.transform(df_event).to_ddf().compute()"
   ]
  },
  {
   "cell_type": "code",
   "execution_count": 14,
   "metadata": {},
   "outputs": [],
   "source": [
    "df = df.drop(['event_time'],  axis=1)"
   ]
  },
  {
   "cell_type": "code",
   "execution_count": 15,
   "metadata": {},
   "outputs": [
    {
     "data": {
      "text/plain": [
       "user_session             int64\n",
       "event_type              object\n",
       "product_id               int64\n",
       "category_id              int64\n",
       "category_code           object\n",
       "brand                   object\n",
       "price                  float64\n",
       "user_id                  int64\n",
       "event_time_dt    datetime64[s]\n",
       "event_time_ts            int64\n",
       "dtype: object"
      ]
     },
     "execution_count": 15,
     "metadata": {},
     "output_type": "execute_result"
    }
   ],
   "source": [
    "df.dtypes"
   ]
  },
  {
   "cell_type": "code",
   "execution_count": 16,
   "metadata": {},
   "outputs": [
    {
     "data": {
      "text/html": [
       "<div>\n",
       "<style scoped>\n",
       "    .dataframe tbody tr th:only-of-type {\n",
       "        vertical-align: middle;\n",
       "    }\n",
       "\n",
       "    .dataframe tbody tr th {\n",
       "        vertical-align: top;\n",
       "    }\n",
       "\n",
       "    .dataframe thead th {\n",
       "        text-align: right;\n",
       "    }\n",
       "</style>\n",
       "<table border=\"1\" class=\"dataframe\">\n",
       "  <thead>\n",
       "    <tr style=\"text-align: right;\">\n",
       "      <th></th>\n",
       "      <th>user_session</th>\n",
       "      <th>event_type</th>\n",
       "      <th>product_id</th>\n",
       "      <th>category_id</th>\n",
       "      <th>category_code</th>\n",
       "      <th>brand</th>\n",
       "      <th>price</th>\n",
       "      <th>user_id</th>\n",
       "      <th>event_time_dt</th>\n",
       "      <th>event_time_ts</th>\n",
       "    </tr>\n",
       "  </thead>\n",
       "  <tbody>\n",
       "    <tr>\n",
       "      <th>0</th>\n",
       "      <td>5126085</td>\n",
       "      <td>view</td>\n",
       "      <td>44600062</td>\n",
       "      <td>2103807459595387724</td>\n",
       "      <td>&lt;NA&gt;</td>\n",
       "      <td>shiseido</td>\n",
       "      <td>35.79</td>\n",
       "      <td>541312140</td>\n",
       "      <td>2019-10-01 00:00:00</td>\n",
       "      <td>1569888000</td>\n",
       "    </tr>\n",
       "    <tr>\n",
       "      <th>1</th>\n",
       "      <td>7854470</td>\n",
       "      <td>view</td>\n",
       "      <td>3900821</td>\n",
       "      <td>2053013552326770905</td>\n",
       "      <td>appliances.environment.water_heater</td>\n",
       "      <td>aqua</td>\n",
       "      <td>33.20</td>\n",
       "      <td>554748717</td>\n",
       "      <td>2019-10-01 00:00:00</td>\n",
       "      <td>1569888000</td>\n",
       "    </tr>\n",
       "    <tr>\n",
       "      <th>2</th>\n",
       "      <td>730655</td>\n",
       "      <td>view</td>\n",
       "      <td>17200506</td>\n",
       "      <td>2053013559792632471</td>\n",
       "      <td>furniture.living_room.sofa</td>\n",
       "      <td>&lt;NA&gt;</td>\n",
       "      <td>543.10</td>\n",
       "      <td>519107250</td>\n",
       "      <td>2019-10-01 00:00:01</td>\n",
       "      <td>1569888001</td>\n",
       "    </tr>\n",
       "    <tr>\n",
       "      <th>3</th>\n",
       "      <td>1637332</td>\n",
       "      <td>view</td>\n",
       "      <td>1307067</td>\n",
       "      <td>2053013558920217191</td>\n",
       "      <td>computers.notebook</td>\n",
       "      <td>lenovo</td>\n",
       "      <td>251.74</td>\n",
       "      <td>550050854</td>\n",
       "      <td>2019-10-01 00:00:01</td>\n",
       "      <td>1569888001</td>\n",
       "    </tr>\n",
       "    <tr>\n",
       "      <th>4</th>\n",
       "      <td>4202155</td>\n",
       "      <td>view</td>\n",
       "      <td>1004237</td>\n",
       "      <td>2053013555631882655</td>\n",
       "      <td>electronics.smartphone</td>\n",
       "      <td>apple</td>\n",
       "      <td>1081.98</td>\n",
       "      <td>535871217</td>\n",
       "      <td>2019-10-01 00:00:04</td>\n",
       "      <td>1569888004</td>\n",
       "    </tr>\n",
       "  </tbody>\n",
       "</table>\n",
       "</div>"
      ],
      "text/plain": [
       "   user_session event_type  product_id          category_id  \\\n",
       "0       5126085       view    44600062  2103807459595387724   \n",
       "1       7854470       view     3900821  2053013552326770905   \n",
       "2        730655       view    17200506  2053013559792632471   \n",
       "3       1637332       view     1307067  2053013558920217191   \n",
       "4       4202155       view     1004237  2053013555631882655   \n",
       "\n",
       "                         category_code     brand    price    user_id  \\\n",
       "0                                 <NA>  shiseido    35.79  541312140   \n",
       "1  appliances.environment.water_heater      aqua    33.20  554748717   \n",
       "2           furniture.living_room.sofa      <NA>   543.10  519107250   \n",
       "3                   computers.notebook    lenovo   251.74  550050854   \n",
       "4               electronics.smartphone     apple  1081.98  535871217   \n",
       "\n",
       "        event_time_dt  event_time_ts  \n",
       "0 2019-10-01 00:00:00     1569888000  \n",
       "1 2019-10-01 00:00:00     1569888000  \n",
       "2 2019-10-01 00:00:01     1569888001  \n",
       "3 2019-10-01 00:00:01     1569888001  \n",
       "4 2019-10-01 00:00:04     1569888004  "
      ]
     },
     "execution_count": 16,
     "metadata": {},
     "output_type": "execute_result"
    }
   ],
   "source": [
    "df.head()"
   ]
  },
  {
   "cell_type": "code",
   "execution_count": 17,
   "metadata": {},
   "outputs": [
    {
     "data": {
      "text/plain": [
       "(42448762, 10)"
      ]
     },
     "execution_count": 17,
     "metadata": {},
     "output_type": "execute_result"
    }
   ],
   "source": [
    "df.shape"
   ]
  },
  {
   "cell_type": "code",
   "execution_count": 18,
   "metadata": {},
   "outputs": [],
   "source": [
    "raw_df = None\n",
    "del(raw_df)"
   ]
  },
  {
   "cell_type": "code",
   "execution_count": 19,
   "metadata": {},
   "outputs": [
    {
     "data": {
      "text/plain": [
       "167"
      ]
     },
     "execution_count": 19,
     "metadata": {},
     "output_type": "execute_result"
    }
   ],
   "source": [
    "gc.collect()"
   ]
  },
  {
   "cell_type": "markdown",
   "metadata": {},
   "source": [
    "### Removing repeated (user, item) interactions"
   ]
  },
  {
   "cell_type": "code",
   "execution_count": 20,
   "metadata": {},
   "outputs": [
    {
     "name": "stdout",
     "output_type": "stream",
     "text": [
      "Count with in-session repeated interactions: 42448762\n",
      "Count after removed in-session repeated interactions: 30733301\n",
      "CPU times: user 425 ms, sys: 546 ms, total: 971 ms\n",
      "Wall time: 1.23 s\n"
     ]
    },
    {
     "data": {
      "text/plain": [
       "0"
      ]
     },
     "execution_count": 20,
     "metadata": {},
     "output_type": "execute_result"
    }
   ],
   "source": [
    "%%time\n",
    "\n",
    "# Keeps repeated interactions on the same items, removing only consecutive interactions, \n",
    "# because it might be due to browser tab refreshes or different interaction types (e.g. click, add-to-card, purchase)\n",
    "\n",
    "df = df.sort_values(['user_session', 'event_time_ts']).reset_index(drop=True)\n",
    "\n",
    "print(\"Count with in-session repeated interactions: {}\".format(len(df)))\n",
    "# Sorts the dataframe by session and timestamp, to remove consecutive repetitions\n",
    "df['product_id_past'] = df['product_id'].shift(1).fillna(0)\n",
    "df['session_id_past'] = df['user_session'].shift(1).fillna(0)\n",
    "#Keeping only no consecutive repeated in session interactions\n",
    "df = df[~((df['user_session'] == df['session_id_past']) & \\\n",
    "             (df['product_id'] == df['product_id_past']))]\n",
    "print(\"Count after removed in-session repeated interactions: {}\".format(len(df)))\n",
    "del(df['product_id_past'])\n",
    "del(df['session_id_past'])\n",
    "\n",
    "gc.collect()"
   ]
  },
  {
   "cell_type": "markdown",
   "metadata": {},
   "source": [
    "### Include the item first time seen feature (for recency calculation)¶"
   ]
  },
  {
   "cell_type": "code",
   "execution_count": 21,
   "metadata": {},
   "outputs": [
    {
     "data": {
      "text/plain": [
       "0"
      ]
     },
     "execution_count": 21,
     "metadata": {},
     "output_type": "execute_result"
    }
   ],
   "source": [
    "item_first_interaction_df = df.groupby('product_id').agg({'event_time_ts': 'min'}).reset_index().rename(columns={'event_time_ts': 'prod_first_event_time_ts'})\n",
    "item_first_interaction_df.head()\n",
    "gc.collect()"
   ]
  },
  {
   "cell_type": "code",
   "execution_count": 22,
   "metadata": {},
   "outputs": [],
   "source": [
    "df = df.merge(item_first_interaction_df, on=['product_id'], how='left').reset_index(drop=True)"
   ]
  },
  {
   "cell_type": "code",
   "execution_count": 23,
   "metadata": {},
   "outputs": [
    {
     "data": {
      "text/html": [
       "<div>\n",
       "<style scoped>\n",
       "    .dataframe tbody tr th:only-of-type {\n",
       "        vertical-align: middle;\n",
       "    }\n",
       "\n",
       "    .dataframe tbody tr th {\n",
       "        vertical-align: top;\n",
       "    }\n",
       "\n",
       "    .dataframe thead th {\n",
       "        text-align: right;\n",
       "    }\n",
       "</style>\n",
       "<table border=\"1\" class=\"dataframe\">\n",
       "  <thead>\n",
       "    <tr style=\"text-align: right;\">\n",
       "      <th></th>\n",
       "      <th>user_session</th>\n",
       "      <th>event_type</th>\n",
       "      <th>product_id</th>\n",
       "      <th>category_id</th>\n",
       "      <th>category_code</th>\n",
       "      <th>brand</th>\n",
       "      <th>price</th>\n",
       "      <th>user_id</th>\n",
       "      <th>event_time_dt</th>\n",
       "      <th>event_time_ts</th>\n",
       "      <th>prod_first_event_time_ts</th>\n",
       "    </tr>\n",
       "  </thead>\n",
       "  <tbody>\n",
       "    <tr>\n",
       "      <th>0</th>\n",
       "      <td>94</td>\n",
       "      <td>view</td>\n",
       "      <td>26202560</td>\n",
       "      <td>2053013563693335403</td>\n",
       "      <td>&lt;NA&gt;</td>\n",
       "      <td>&lt;NA&gt;</td>\n",
       "      <td>388.49</td>\n",
       "      <td>512892706</td>\n",
       "      <td>2019-10-15 17:21:59</td>\n",
       "      <td>1571160119</td>\n",
       "      <td>1569925682</td>\n",
       "    </tr>\n",
       "    <tr>\n",
       "      <th>1</th>\n",
       "      <td>94</td>\n",
       "      <td>view</td>\n",
       "      <td>26203994</td>\n",
       "      <td>2053013563693335403</td>\n",
       "      <td>&lt;NA&gt;</td>\n",
       "      <td>&lt;NA&gt;</td>\n",
       "      <td>157.79</td>\n",
       "      <td>512892706</td>\n",
       "      <td>2019-10-15 17:22:17</td>\n",
       "      <td>1571160137</td>\n",
       "      <td>1569941460</td>\n",
       "    </tr>\n",
       "    <tr>\n",
       "      <th>2</th>\n",
       "      <td>94</td>\n",
       "      <td>view</td>\n",
       "      <td>26204036</td>\n",
       "      <td>2053013563693335403</td>\n",
       "      <td>&lt;NA&gt;</td>\n",
       "      <td>sokolov</td>\n",
       "      <td>471.70</td>\n",
       "      <td>512892706</td>\n",
       "      <td>2019-10-15 17:22:29</td>\n",
       "      <td>1571160149</td>\n",
       "      <td>1569897265</td>\n",
       "    </tr>\n",
       "    <tr>\n",
       "      <th>3</th>\n",
       "      <td>94</td>\n",
       "      <td>view</td>\n",
       "      <td>26203994</td>\n",
       "      <td>2053013563693335403</td>\n",
       "      <td>&lt;NA&gt;</td>\n",
       "      <td>&lt;NA&gt;</td>\n",
       "      <td>157.79</td>\n",
       "      <td>512892706</td>\n",
       "      <td>2019-10-15 17:22:58</td>\n",
       "      <td>1571160178</td>\n",
       "      <td>1569941460</td>\n",
       "    </tr>\n",
       "    <tr>\n",
       "      <th>4</th>\n",
       "      <td>94</td>\n",
       "      <td>view</td>\n",
       "      <td>26203727</td>\n",
       "      <td>2053013563693335403</td>\n",
       "      <td>&lt;NA&gt;</td>\n",
       "      <td>lucente</td>\n",
       "      <td>317.38</td>\n",
       "      <td>512892706</td>\n",
       "      <td>2019-10-15 17:23:19</td>\n",
       "      <td>1571160199</td>\n",
       "      <td>1569901056</td>\n",
       "    </tr>\n",
       "  </tbody>\n",
       "</table>\n",
       "</div>"
      ],
      "text/plain": [
       "   user_session event_type  product_id          category_id category_code  \\\n",
       "0            94       view    26202560  2053013563693335403          <NA>   \n",
       "1            94       view    26203994  2053013563693335403          <NA>   \n",
       "2            94       view    26204036  2053013563693335403          <NA>   \n",
       "3            94       view    26203994  2053013563693335403          <NA>   \n",
       "4            94       view    26203727  2053013563693335403          <NA>   \n",
       "\n",
       "     brand   price    user_id       event_time_dt  event_time_ts  \\\n",
       "0     <NA>  388.49  512892706 2019-10-15 17:21:59     1571160119   \n",
       "1     <NA>  157.79  512892706 2019-10-15 17:22:17     1571160137   \n",
       "2  sokolov  471.70  512892706 2019-10-15 17:22:29     1571160149   \n",
       "3     <NA>  157.79  512892706 2019-10-15 17:22:58     1571160178   \n",
       "4  lucente  317.38  512892706 2019-10-15 17:23:19     1571160199   \n",
       "\n",
       "   prod_first_event_time_ts  \n",
       "0                1569925682  \n",
       "1                1569941460  \n",
       "2                1569897265  \n",
       "3                1569941460  \n",
       "4                1569901056  "
      ]
     },
     "execution_count": 23,
     "metadata": {},
     "output_type": "execute_result"
    }
   ],
   "source": [
    "df.head()"
   ]
  },
  {
   "cell_type": "markdown",
   "metadata": {},
   "source": [
    "- Check out if there is any column with missing (null) values."
   ]
  },
  {
   "cell_type": "code",
   "execution_count": 24,
   "metadata": {},
   "outputs": [
    {
     "data": {
      "text/plain": [
       "user_session                False\n",
       "event_type                  False\n",
       "product_id                  False\n",
       "category_id                 False\n",
       "category_code                True\n",
       "brand                        True\n",
       "price                       False\n",
       "user_id                     False\n",
       "event_time_dt               False\n",
       "event_time_ts               False\n",
       "prod_first_event_time_ts    False\n",
       "dtype: bool"
      ]
     },
     "execution_count": 24,
     "metadata": {},
     "output_type": "execute_result"
    }
   ],
   "source": [
    "df.isnull().any()"
   ]
  },
  {
   "cell_type": "code",
   "execution_count": 25,
   "metadata": {},
   "outputs": [
    {
     "data": {
      "text/plain": [
       "0"
      ]
     },
     "execution_count": 25,
     "metadata": {},
     "output_type": "execute_result"
    }
   ],
   "source": [
    "del(item_first_interaction_df)\n",
    "item_first_interaction_df=None\n",
    "gc.collect()"
   ]
  },
  {
   "cell_type": "markdown",
   "metadata": {},
   "source": [
    "You need to run this cell only once and then comment out if you would like to rerun the same pipeline. We'll use this saved parquet file below in the NVTabular workflow."
   ]
  },
  {
   "cell_type": "code",
   "execution_count": 26,
   "metadata": {},
   "outputs": [],
   "source": [
    "# save df as parquet files on disk\n",
    "df.to_parquet(os.path.join(INPUT_PATH, 'input.parquet'))"
   ]
  },
  {
   "cell_type": "markdown",
   "metadata": {},
   "source": [
    "## FEATURE ENGINEERING with NVTabular"
   ]
  },
  {
   "cell_type": "markdown",
   "metadata": {},
   "source": [
    "### Categorical features encoding\n"
   ]
  },
  {
   "cell_type": "code",
   "execution_count": 27,
   "metadata": {},
   "outputs": [],
   "source": [
    "cols= ['event_time_dt', 'event_time_ts', 'user_session']"
   ]
  },
  {
   "cell_type": "code",
   "execution_count": 28,
   "metadata": {},
   "outputs": [],
   "source": [
    "# since we are using 0 for padding later on, let's fill columns with NA strings with 'unknown' value.\n",
    "fill_na_categs = ['category_code', 'brand'] >> nvt.ops.FillMissing(fill_val=-1)\n",
    "\n",
    "# categorify categorical features \n",
    "cat_feats = fill_na_categs + ['user_id', 'product_id', 'category_id', 'event_type'] >> nvt.ops.Categorify()"
   ]
  },
  {
   "cell_type": "markdown",
   "metadata": {},
   "source": [
    "### Extract Temporal Features"
   ]
  },
  {
   "cell_type": "code",
   "execution_count": 29,
   "metadata": {},
   "outputs": [],
   "source": [
    "# create time features\n",
    "sessionTime = ['event_time_dt']\n",
    "\n",
    "sessionTime_hour = (\n",
    "    sessionTime >> \n",
    "    nvt.ops.LambdaOp(lambda col: col.dt.hour) >> \n",
    "    nvt.ops.Rename(name = 'et_hour')\n",
    ")\n",
    "sessionTime_weekday = (\n",
    "    sessionTime >> \n",
    "    nvt.ops.LambdaOp(lambda col: col.dt.weekday) >> \n",
    "    nvt.ops.Rename(name ='et_dayofweek')\n",
    ")\n",
    "sessionTime_day = (\n",
    "    sessionTime >> \n",
    "    nvt.ops.LambdaOp(lambda col: col.dt.day) >> \n",
    "    nvt.ops.Rename(name =\"et_dayofmonth\")\n",
    ")\n",
    "sessionTime_month = (\n",
    "    sessionTime >> \n",
    "    nvt.ops.LambdaOp(lambda col: col.dt.month) >> \n",
    "    nvt.ops.Rename(name =\"et_month\")\n",
    ")"
   ]
  },
  {
   "cell_type": "code",
   "execution_count": 30,
   "metadata": {},
   "outputs": [],
   "source": [
    "def get_cycled_feature_value_sin(col, max_value):\n",
    "    value_scaled = (col + 0.000001) / max_value\n",
    "    value_sin = np.sin(2*np.pi*value_scaled)\n",
    "    return value_sin\n",
    "\n",
    "def get_cycled_feature_value_cos(col, max_value):\n",
    "    value_scaled = (col + 0.000001) / max_value\n",
    "    value_cos = np.cos(2*np.pi*value_scaled)\n",
    "    return value_cos"
   ]
  },
  {
   "cell_type": "code",
   "execution_count": 31,
   "metadata": {},
   "outputs": [],
   "source": [
    "hour_sin = sessionTime_hour >> (lambda col: get_cycled_feature_value_sin(col, 24)) >> nvt.ops.Rename(name='et_hour_sin')\n",
    "hour_cos = sessionTime_hour >> (lambda col: get_cycled_feature_value_cos(col, 24)) >> nvt.ops.Rename(name ='et_hour_cos')\n",
    "weekday_sin = sessionTime_weekday >> (lambda col: get_cycled_feature_value_sin(col+1, 7)) >> nvt.ops.Rename(name = 'et_dayofweek_sin')\n",
    "weekday_cos= sessionTime_weekday >> (lambda col: get_cycled_feature_value_cos(col+1, 7)) >> nvt.ops.Rename(name = 'et_dayofweek_cos')\n",
    "\n",
    "dayofmonth_sin = sessionTime_hour >> (lambda col: get_cycled_feature_value_sin(col, 31)) >> nvt.ops.Rename(name ='et_dayofmonth_sin')\n",
    "dayofmonth_cos = sessionTime_hour >> (lambda col: get_cycled_feature_value_cos(col, 31)) >> nvt.ops.Rename(name='et_dayofmonth_cos')\n",
    "month_sin = sessionTime_weekday >> (lambda col: get_cycled_feature_value_sin(col, 12)) >> nvt.ops.Rename(name='et_month_sin')\n",
    "month_cos= sessionTime_weekday >> (lambda col: get_cycled_feature_value_cos(col, 12)) >> nvt.ops.Rename(name = 'et_month_cos')"
   ]
  },
  {
   "cell_type": "code",
   "execution_count": 32,
   "metadata": {},
   "outputs": [],
   "source": [
    "cycled_features = hour_sin + hour_cos + weekday_sin + weekday_cos + dayofmonth_sin + dayofmonth_cos + month_sin + month_cos"
   ]
  },
  {
   "cell_type": "markdown",
   "metadata": {},
   "source": [
    "- Calculate item recency "
   ]
  },
  {
   "cell_type": "code",
   "execution_count": 33,
   "metadata": {},
   "outputs": [],
   "source": [
    "# create custom op\n",
    "from nvtabular.ops import Operator\n",
    "\n",
    "class ItemRecency(Operator):\n",
    "    def transform(self, columns, gdf):\n",
    "        for column in columns:\n",
    "            col = gdf[column]\n",
    "            item_first_timestamp = gdf['prod_first_event_time_ts']\n",
    "            delta_days = (col - item_first_timestamp) / (60*60*24)\n",
    "            gdf[column + \"_age_days\"] = delta_days * (delta_days >=0)\n",
    "        return gdf\n",
    "            \n",
    "    def output_column_names(self, columns):\n",
    "        return ColumnSelector([column + \"_age_days\" for column in columns])\n",
    "            \n",
    "    def dependencies(self):\n",
    "        return [\"prod_first_event_time_ts\"]"
   ]
  },
  {
   "cell_type": "code",
   "execution_count": 34,
   "metadata": {},
   "outputs": [],
   "source": [
    "recency_features = [\"event_time_ts\"] >> ItemRecency() >>  nvt.ops.Rename(name='product_recency_days')\n",
    "recency_features_norm = recency_features >> nvt.ops.LogOp() >> nvt.ops.Normalize() >> nvt.ops.Rename(name='product_recency_days_log_norm')"
   ]
  },
  {
   "cell_type": "code",
   "execution_count": 35,
   "metadata": {},
   "outputs": [],
   "source": [
    "time_features = (\n",
    "    sessionTime_hour +\n",
    "    sessionTime_day + \n",
    "    sessionTime_month + \n",
    "    sessionTime_weekday +\n",
    "    cycled_features +\n",
    "    recency_features_norm\n",
    ")"
   ]
  },
  {
   "cell_type": "code",
   "execution_count": 36,
   "metadata": {},
   "outputs": [
    {
     "data": {
      "image/svg+xml": [
       "<?xml version=\"1.0\" encoding=\"UTF-8\" standalone=\"no\"?>\n",
       "<!DOCTYPE svg PUBLIC \"-//W3C//DTD SVG 1.1//EN\"\n",
       " \"http://www.w3.org/Graphics/SVG/1.1/DTD/svg11.dtd\">\n",
       "<!-- Generated by graphviz version 2.43.0 (0)\n",
       " -->\n",
       "<!-- Title: %3 Pages: 1 -->\n",
       "<svg width=\"5201pt\" height=\"548pt\"\n",
       " viewBox=\"0.00 0.00 5200.66 548.00\" xmlns=\"http://www.w3.org/2000/svg\" xmlns:xlink=\"http://www.w3.org/1999/xlink\">\n",
       "<g id=\"graph0\" class=\"graph\" transform=\"scale(1 1) rotate(0) translate(4 544)\">\n",
       "<title>%3</title>\n",
       "<polygon fill=\"white\" stroke=\"transparent\" points=\"-4,4 -4,-544 5196.66,-544 5196.66,4 -4,4\"/>\n",
       "<!-- 0 -->\n",
       "<g id=\"node1\" class=\"node\">\n",
       "<title>0</title>\n",
       "<ellipse fill=\"none\" stroke=\"black\" cx=\"246.98\" cy=\"-234\" rx=\"246.96\" ry=\"18\"/>\n",
       "<text text-anchor=\"middle\" x=\"246.98\" y=\"-230.3\" font-family=\"Times,serif\" font-size=\"14.00\">(lambda col: get_cycled_feature_value_cos(col, 31))</text>\n",
       "</g>\n",
       "<!-- 3 -->\n",
       "<g id=\"node6\" class=\"node\">\n",
       "<title>3</title>\n",
       "<ellipse fill=\"none\" stroke=\"black\" cx=\"333.98\" cy=\"-162\" rx=\"48.19\" ry=\"18\"/>\n",
       "<text text-anchor=\"middle\" x=\"333.98\" y=\"-158.3\" font-family=\"Times,serif\" font-size=\"14.00\">Rename</text>\n",
       "</g>\n",
       "<!-- 0&#45;&gt;3 -->\n",
       "<g id=\"edge4\" class=\"edge\">\n",
       "<title>0&#45;&gt;3</title>\n",
       "<path fill=\"none\" stroke=\"black\" d=\"M268.04,-216.05C279.67,-206.69 294.25,-194.96 306.74,-184.91\"/>\n",
       "<polygon fill=\"black\" stroke=\"black\" points=\"309,-187.59 314.6,-178.59 304.61,-182.13 309,-187.59\"/>\n",
       "</g>\n",
       "<!-- 28 -->\n",
       "<g id=\"node2\" class=\"node\">\n",
       "<title>28</title>\n",
       "<ellipse fill=\"none\" stroke=\"black\" cx=\"1264.98\" cy=\"-306\" rx=\"48.19\" ry=\"18\"/>\n",
       "<text text-anchor=\"middle\" x=\"1264.98\" y=\"-302.3\" font-family=\"Times,serif\" font-size=\"14.00\">Rename</text>\n",
       "</g>\n",
       "<!-- 28&#45;&gt;0 -->\n",
       "<g id=\"edge1\" class=\"edge\">\n",
       "<title>28&#45;&gt;0</title>\n",
       "<path fill=\"none\" stroke=\"black\" d=\"M1217.92,-301.76C1079.91,-292.27 670.81,-264.14 429.94,-247.58\"/>\n",
       "<polygon fill=\"black\" stroke=\"black\" points=\"429.88,-244.07 419.66,-246.87 429.4,-251.05 429.88,-244.07\"/>\n",
       "</g>\n",
       "<!-- 16 -->\n",
       "<g id=\"node20\" class=\"node\">\n",
       "<title>16</title>\n",
       "<ellipse fill=\"none\" stroke=\"black\" cx=\"756.98\" cy=\"-234\" rx=\"245.06\" ry=\"18\"/>\n",
       "<text text-anchor=\"middle\" x=\"756.98\" y=\"-230.3\" font-family=\"Times,serif\" font-size=\"14.00\">(lambda col: get_cycled_feature_value_sin(col, 24))</text>\n",
       "</g>\n",
       "<!-- 28&#45;&gt;16 -->\n",
       "<g id=\"edge15\" class=\"edge\">\n",
       "<title>28&#45;&gt;16</title>\n",
       "<path fill=\"none\" stroke=\"black\" d=\"M1220.34,-298.85C1144.27,-288.37 987.07,-266.71 876.96,-251.53\"/>\n",
       "<polygon fill=\"black\" stroke=\"black\" points=\"877.18,-248.03 866.79,-250.13 876.22,-254.96 877.18,-248.03\"/>\n",
       "</g>\n",
       "<!-- 21 -->\n",
       "<g id=\"node25\" class=\"node\">\n",
       "<title>21</title>\n",
       "<ellipse fill=\"none\" stroke=\"black\" cx=\"1264.98\" cy=\"-234\" rx=\"245.06\" ry=\"18\"/>\n",
       "<text text-anchor=\"middle\" x=\"1264.98\" y=\"-230.3\" font-family=\"Times,serif\" font-size=\"14.00\">(lambda col: get_cycled_feature_value_sin(col, 31))</text>\n",
       "</g>\n",
       "<!-- 28&#45;&gt;21 -->\n",
       "<g id=\"edge18\" class=\"edge\">\n",
       "<title>28&#45;&gt;21</title>\n",
       "<path fill=\"none\" stroke=\"black\" d=\"M1264.98,-287.7C1264.98,-279.98 1264.98,-270.71 1264.98,-262.11\"/>\n",
       "<polygon fill=\"black\" stroke=\"black\" points=\"1268.48,-262.1 1264.98,-252.1 1261.48,-262.1 1268.48,-262.1\"/>\n",
       "</g>\n",
       "<!-- 25 -->\n",
       "<g id=\"node29\" class=\"node\">\n",
       "<title>25</title>\n",
       "<ellipse fill=\"none\" stroke=\"black\" cx=\"1774.98\" cy=\"-234\" rx=\"246.96\" ry=\"18\"/>\n",
       "<text text-anchor=\"middle\" x=\"1774.98\" y=\"-230.3\" font-family=\"Times,serif\" font-size=\"14.00\">(lambda col: get_cycled_feature_value_cos(col, 24))</text>\n",
       "</g>\n",
       "<!-- 28&#45;&gt;25 -->\n",
       "<g id=\"edge22\" class=\"edge\">\n",
       "<title>28&#45;&gt;25</title>\n",
       "<path fill=\"none\" stroke=\"black\" d=\"M1309.35,-298.91C1385.55,-288.45 1543.77,-266.73 1654.53,-251.53\"/>\n",
       "<polygon fill=\"black\" stroke=\"black\" points=\"1655.33,-254.96 1664.76,-250.13 1654.38,-248.02 1655.33,-254.96\"/>\n",
       "</g>\n",
       "<!-- 33 -->\n",
       "<g id=\"node35\" class=\"node\">\n",
       "<title>33</title>\n",
       "<ellipse fill=\"none\" stroke=\"black\" cx=\"2846.98\" cy=\"-90\" rx=\"27\" ry=\"18\"/>\n",
       "<text text-anchor=\"middle\" x=\"2846.98\" y=\"-86.3\" font-family=\"Times,serif\" font-size=\"14.00\">+</text>\n",
       "</g>\n",
       "<!-- 28&#45;&gt;33 -->\n",
       "<g id=\"edge28\" class=\"edge\">\n",
       "<title>28&#45;&gt;33</title>\n",
       "<path fill=\"none\" stroke=\"black\" d=\"M1312.85,-303.57C1470.25,-298.59 1965.41,-280.79 2030.98,-252 2052.28,-242.65 2048.2,-226.47 2068.98,-216 2232.62,-133.5 2294.02,-172.93 2474.98,-144 2597.88,-124.35 2744.22,-104.55 2810.79,-95.74\"/>\n",
       "<polygon fill=\"black\" stroke=\"black\" points=\"2811.32,-99.2 2820.77,-94.42 2810.4,-92.26 2811.32,-99.2\"/>\n",
       "</g>\n",
       "<!-- 1 -->\n",
       "<g id=\"node3\" class=\"node\">\n",
       "<title>1</title>\n",
       "<ellipse fill=\"none\" stroke=\"black\" cx=\"2330.98\" cy=\"-234\" rx=\"252.66\" ry=\"18\"/>\n",
       "<text text-anchor=\"middle\" x=\"2330.98\" y=\"-230.3\" font-family=\"Times,serif\" font-size=\"14.00\">(lambda col: get_cycled_feature_value_sin(col+1, 7))</text>\n",
       "</g>\n",
       "<!-- 5 -->\n",
       "<g id=\"node9\" class=\"node\">\n",
       "<title>5</title>\n",
       "<ellipse fill=\"none\" stroke=\"black\" cx=\"2531.98\" cy=\"-162\" rx=\"48.19\" ry=\"18\"/>\n",
       "<text text-anchor=\"middle\" x=\"2531.98\" y=\"-158.3\" font-family=\"Times,serif\" font-size=\"14.00\">Rename</text>\n",
       "</g>\n",
       "<!-- 1&#45;&gt;5 -->\n",
       "<g id=\"edge6\" class=\"edge\">\n",
       "<title>1&#45;&gt;5</title>\n",
       "<path fill=\"none\" stroke=\"black\" d=\"M2378.87,-216.32C2412.12,-204.74 2456.07,-189.43 2488.36,-178.19\"/>\n",
       "<polygon fill=\"black\" stroke=\"black\" points=\"2489.68,-181.44 2497.98,-174.84 2487.38,-174.83 2489.68,-181.44\"/>\n",
       "</g>\n",
       "<!-- 2 -->\n",
       "<g id=\"node4\" class=\"node\">\n",
       "<title>2</title>\n",
       "<ellipse fill=\"none\" stroke=\"black\" cx=\"3364.98\" cy=\"-306\" rx=\"48.19\" ry=\"18\"/>\n",
       "<text text-anchor=\"middle\" x=\"3364.98\" y=\"-302.3\" font-family=\"Times,serif\" font-size=\"14.00\">Rename</text>\n",
       "</g>\n",
       "<!-- 2&#45;&gt;1 -->\n",
       "<g id=\"edge2\" class=\"edge\">\n",
       "<title>2&#45;&gt;1</title>\n",
       "<path fill=\"none\" stroke=\"black\" d=\"M3317.86,-301.81C3178.46,-292.37 2762.46,-264.21 2517.33,-247.62\"/>\n",
       "<polygon fill=\"black\" stroke=\"black\" points=\"2517.45,-244.12 2507.24,-246.93 2516.98,-251.1 2517.45,-244.12\"/>\n",
       "</g>\n",
       "<!-- 7 -->\n",
       "<g id=\"node11\" class=\"node\">\n",
       "<title>7</title>\n",
       "<ellipse fill=\"none\" stroke=\"black\" cx=\"2846.98\" cy=\"-234\" rx=\"245.06\" ry=\"18\"/>\n",
       "<text text-anchor=\"middle\" x=\"2846.98\" y=\"-230.3\" font-family=\"Times,serif\" font-size=\"14.00\">(lambda col: get_cycled_feature_value_sin(col, 12))</text>\n",
       "</g>\n",
       "<!-- 2&#45;&gt;7 -->\n",
       "<g id=\"edge7\" class=\"edge\">\n",
       "<title>2&#45;&gt;7</title>\n",
       "<path fill=\"none\" stroke=\"black\" d=\"M3320.37,-298.97C3242.94,-288.51 3081.2,-266.65 2968.45,-251.41\"/>\n",
       "<polygon fill=\"black\" stroke=\"black\" points=\"2968.76,-247.92 2958.38,-250.05 2967.82,-254.86 2968.76,-247.92\"/>\n",
       "</g>\n",
       "<!-- 13 -->\n",
       "<g id=\"node17\" class=\"node\">\n",
       "<title>13</title>\n",
       "<ellipse fill=\"none\" stroke=\"black\" cx=\"3364.98\" cy=\"-234\" rx=\"254.55\" ry=\"18\"/>\n",
       "<text text-anchor=\"middle\" x=\"3364.98\" y=\"-230.3\" font-family=\"Times,serif\" font-size=\"14.00\">(lambda col: get_cycled_feature_value_cos(col+1, 7))</text>\n",
       "</g>\n",
       "<!-- 2&#45;&gt;13 -->\n",
       "<g id=\"edge12\" class=\"edge\">\n",
       "<title>2&#45;&gt;13</title>\n",
       "<path fill=\"none\" stroke=\"black\" d=\"M3364.98,-287.7C3364.98,-279.98 3364.98,-270.71 3364.98,-262.11\"/>\n",
       "<polygon fill=\"black\" stroke=\"black\" points=\"3368.48,-262.1 3364.98,-252.1 3361.48,-262.1 3368.48,-262.1\"/>\n",
       "</g>\n",
       "<!-- 17 -->\n",
       "<g id=\"node21\" class=\"node\">\n",
       "<title>17</title>\n",
       "<ellipse fill=\"none\" stroke=\"black\" cx=\"3884.98\" cy=\"-234\" rx=\"246.96\" ry=\"18\"/>\n",
       "<text text-anchor=\"middle\" x=\"3884.98\" y=\"-230.3\" font-family=\"Times,serif\" font-size=\"14.00\">(lambda col: get_cycled_feature_value_cos(col, 12))</text>\n",
       "</g>\n",
       "<!-- 2&#45;&gt;17 -->\n",
       "<g id=\"edge16\" class=\"edge\">\n",
       "<title>2&#45;&gt;17</title>\n",
       "<path fill=\"none\" stroke=\"black\" d=\"M3409.76,-298.97C3487.48,-288.51 3649.85,-266.65 3763.04,-251.41\"/>\n",
       "<polygon fill=\"black\" stroke=\"black\" points=\"3763.71,-254.86 3773.15,-250.05 3762.77,-247.92 3763.71,-254.86\"/>\n",
       "</g>\n",
       "<!-- 2&#45;&gt;33 -->\n",
       "<g id=\"edge31\" class=\"edge\">\n",
       "<title>2&#45;&gt;33</title>\n",
       "<path fill=\"none\" stroke=\"black\" d=\"M3413.09,-305.43C3574.78,-306.38 4091.29,-305.2 4140.98,-252 4151.9,-240.31 4151.46,-228.09 4140.98,-216 4056.32,-118.36 3087.45,-95.38 2884.23,-91.62\"/>\n",
       "<polygon fill=\"black\" stroke=\"black\" points=\"2884.12,-88.12 2874.06,-91.44 2884,-95.12 2884.12,-88.12\"/>\n",
       "</g>\n",
       "<!-- 30 -->\n",
       "<g id=\"node5\" class=\"node\">\n",
       "<title>30</title>\n",
       "<ellipse fill=\"none\" stroke=\"black\" cx=\"3364.98\" cy=\"-378\" rx=\"230.16\" ry=\"18\"/>\n",
       "<text text-anchor=\"middle\" x=\"3364.98\" y=\"-374.3\" font-family=\"Times,serif\" font-size=\"14.00\">nvt.ops.LambdaOp(lambda col: col.dt.weekday)</text>\n",
       "</g>\n",
       "<!-- 30&#45;&gt;2 -->\n",
       "<g id=\"edge3\" class=\"edge\">\n",
       "<title>30&#45;&gt;2</title>\n",
       "<path fill=\"none\" stroke=\"black\" d=\"M3364.98,-359.7C3364.98,-351.98 3364.98,-342.71 3364.98,-334.11\"/>\n",
       "<polygon fill=\"black\" stroke=\"black\" points=\"3368.48,-334.1 3364.98,-324.1 3361.48,-334.1 3368.48,-334.1\"/>\n",
       "</g>\n",
       "<!-- 3&#45;&gt;33 -->\n",
       "<g id=\"edge37\" class=\"edge\">\n",
       "<title>3&#45;&gt;33</title>\n",
       "<path fill=\"none\" stroke=\"black\" d=\"M381.93,-159.66C702.17,-150.74 2526.38,-99.93 2809.93,-92.03\"/>\n",
       "<polygon fill=\"black\" stroke=\"black\" points=\"2810.2,-95.53 2820.1,-91.75 2810.01,-88.53 2810.2,-95.53\"/>\n",
       "</g>\n",
       "<!-- 4 -->\n",
       "<g id=\"node7\" class=\"node\">\n",
       "<title>4</title>\n",
       "<ellipse fill=\"none\" stroke=\"black\" cx=\"4676.98\" cy=\"-306\" rx=\"40.89\" ry=\"18\"/>\n",
       "<text text-anchor=\"middle\" x=\"4676.98\" y=\"-302.3\" font-family=\"Times,serif\" font-size=\"14.00\">LogOp</text>\n",
       "</g>\n",
       "<!-- 11 -->\n",
       "<g id=\"node15\" class=\"node\">\n",
       "<title>11</title>\n",
       "<ellipse fill=\"none\" stroke=\"black\" cx=\"4676.98\" cy=\"-234\" rx=\"58.49\" ry=\"18\"/>\n",
       "<text text-anchor=\"middle\" x=\"4676.98\" y=\"-230.3\" font-family=\"Times,serif\" font-size=\"14.00\">Normalize</text>\n",
       "</g>\n",
       "<!-- 4&#45;&gt;11 -->\n",
       "<g id=\"edge10\" class=\"edge\">\n",
       "<title>4&#45;&gt;11</title>\n",
       "<path fill=\"none\" stroke=\"black\" d=\"M4676.98,-287.7C4676.98,-279.98 4676.98,-270.71 4676.98,-262.11\"/>\n",
       "<polygon fill=\"black\" stroke=\"black\" points=\"4680.48,-262.1 4676.98,-252.1 4673.48,-262.1 4680.48,-262.1\"/>\n",
       "</g>\n",
       "<!-- 8 -->\n",
       "<g id=\"node8\" class=\"node\">\n",
       "<title>8</title>\n",
       "<ellipse fill=\"none\" stroke=\"black\" cx=\"4676.98\" cy=\"-378\" rx=\"48.19\" ry=\"18\"/>\n",
       "<text text-anchor=\"middle\" x=\"4676.98\" y=\"-374.3\" font-family=\"Times,serif\" font-size=\"14.00\">Rename</text>\n",
       "</g>\n",
       "<!-- 8&#45;&gt;4 -->\n",
       "<g id=\"edge5\" class=\"edge\">\n",
       "<title>8&#45;&gt;4</title>\n",
       "<path fill=\"none\" stroke=\"black\" d=\"M4676.98,-359.7C4676.98,-351.98 4676.98,-342.71 4676.98,-334.11\"/>\n",
       "<polygon fill=\"black\" stroke=\"black\" points=\"4680.48,-334.1 4676.98,-324.1 4673.48,-334.1 4680.48,-334.1\"/>\n",
       "</g>\n",
       "<!-- 5&#45;&gt;33 -->\n",
       "<g id=\"edge34\" class=\"edge\">\n",
       "<title>5&#45;&gt;33</title>\n",
       "<path fill=\"none\" stroke=\"black\" d=\"M2572.19,-152.06C2634.31,-138.26 2752.58,-111.98 2811.61,-98.86\"/>\n",
       "<polygon fill=\"black\" stroke=\"black\" points=\"2812.58,-102.23 2821.58,-96.64 2811.06,-95.4 2812.58,-102.23\"/>\n",
       "</g>\n",
       "<!-- 6 -->\n",
       "<g id=\"node10\" class=\"node\">\n",
       "<title>6</title>\n",
       "<ellipse fill=\"none\" stroke=\"black\" cx=\"4393.98\" cy=\"-306\" rx=\"135.68\" ry=\"18\"/>\n",
       "<text text-anchor=\"middle\" x=\"4393.98\" y=\"-302.3\" font-family=\"Times,serif\" font-size=\"14.00\">input cols=[event_time_dt]</text>\n",
       "</g>\n",
       "<!-- 10 -->\n",
       "<g id=\"node14\" class=\"node\">\n",
       "<title>10</title>\n",
       "<ellipse fill=\"none\" stroke=\"black\" cx=\"4393.98\" cy=\"-234\" rx=\"206.06\" ry=\"18\"/>\n",
       "<text text-anchor=\"middle\" x=\"4393.98\" y=\"-230.3\" font-family=\"Times,serif\" font-size=\"14.00\">nvt.ops.LambdaOp(lambda col: col.dt.day)</text>\n",
       "</g>\n",
       "<!-- 6&#45;&gt;10 -->\n",
       "<g id=\"edge9\" class=\"edge\">\n",
       "<title>6&#45;&gt;10</title>\n",
       "<path fill=\"none\" stroke=\"black\" d=\"M4393.98,-287.7C4393.98,-279.98 4393.98,-270.71 4393.98,-262.11\"/>\n",
       "<polygon fill=\"black\" stroke=\"black\" points=\"4397.48,-262.1 4393.98,-252.1 4390.48,-262.1 4397.48,-262.1\"/>\n",
       "</g>\n",
       "<!-- 12 -->\n",
       "<g id=\"node16\" class=\"node\">\n",
       "<title>12</title>\n",
       "<ellipse fill=\"none\" stroke=\"black\" cx=\"2846.98\" cy=\"-162\" rx=\"48.19\" ry=\"18\"/>\n",
       "<text text-anchor=\"middle\" x=\"2846.98\" y=\"-158.3\" font-family=\"Times,serif\" font-size=\"14.00\">Rename</text>\n",
       "</g>\n",
       "<!-- 7&#45;&gt;12 -->\n",
       "<g id=\"edge11\" class=\"edge\">\n",
       "<title>7&#45;&gt;12</title>\n",
       "<path fill=\"none\" stroke=\"black\" d=\"M2846.98,-215.7C2846.98,-207.98 2846.98,-198.71 2846.98,-190.11\"/>\n",
       "<polygon fill=\"black\" stroke=\"black\" points=\"2850.48,-190.1 2846.98,-180.1 2843.48,-190.1 2850.48,-190.1\"/>\n",
       "</g>\n",
       "<!-- 34 -->\n",
       "<g id=\"node12\" class=\"node\">\n",
       "<title>34</title>\n",
       "<ellipse fill=\"none\" stroke=\"black\" cx=\"4676.98\" cy=\"-450\" rx=\"70.69\" ry=\"18\"/>\n",
       "<text text-anchor=\"middle\" x=\"4676.98\" y=\"-446.3\" font-family=\"Times,serif\" font-size=\"14.00\">ItemRecency</text>\n",
       "</g>\n",
       "<!-- 34&#45;&gt;8 -->\n",
       "<g id=\"edge8\" class=\"edge\">\n",
       "<title>34&#45;&gt;8</title>\n",
       "<path fill=\"none\" stroke=\"black\" d=\"M4676.98,-431.7C4676.98,-423.98 4676.98,-414.71 4676.98,-406.11\"/>\n",
       "<polygon fill=\"black\" stroke=\"black\" points=\"4680.48,-406.1 4676.98,-396.1 4673.48,-406.1 4680.48,-406.1\"/>\n",
       "</g>\n",
       "<!-- 9 -->\n",
       "<g id=\"node13\" class=\"node\">\n",
       "<title>9</title>\n",
       "<ellipse fill=\"none\" stroke=\"black\" cx=\"4507.98\" cy=\"-522\" rx=\"184.67\" ry=\"18\"/>\n",
       "<text text-anchor=\"middle\" x=\"4507.98\" y=\"-518.3\" font-family=\"Times,serif\" font-size=\"14.00\">input cols=[prod_first_event_time_ts]</text>\n",
       "</g>\n",
       "<!-- 9&#45;&gt;34 -->\n",
       "<g id=\"edge42\" class=\"edge\">\n",
       "<title>9&#45;&gt;34</title>\n",
       "<path fill=\"none\" stroke=\"black\" d=\"M4548.03,-504.41C4573.33,-493.93 4606.05,-480.38 4632.21,-469.54\"/>\n",
       "<polygon fill=\"black\" stroke=\"black\" points=\"4633.62,-472.75 4641.52,-465.69 4630.94,-466.28 4633.62,-472.75\"/>\n",
       "</g>\n",
       "<!-- 14 -->\n",
       "<g id=\"node18\" class=\"node\">\n",
       "<title>14</title>\n",
       "<ellipse fill=\"none\" stroke=\"black\" cx=\"4314.98\" cy=\"-162\" rx=\"48.19\" ry=\"18\"/>\n",
       "<text text-anchor=\"middle\" x=\"4314.98\" y=\"-158.3\" font-family=\"Times,serif\" font-size=\"14.00\">Rename</text>\n",
       "</g>\n",
       "<!-- 10&#45;&gt;14 -->\n",
       "<g id=\"edge13\" class=\"edge\">\n",
       "<title>10&#45;&gt;14</title>\n",
       "<path fill=\"none\" stroke=\"black\" d=\"M4374.85,-216.05C4364.57,-206.94 4351.74,-195.57 4340.6,-185.7\"/>\n",
       "<polygon fill=\"black\" stroke=\"black\" points=\"4342.65,-182.84 4332.84,-178.83 4338.01,-188.08 4342.65,-182.84\"/>\n",
       "</g>\n",
       "<!-- 29 -->\n",
       "<g id=\"node32\" class=\"node\">\n",
       "<title>29</title>\n",
       "<ellipse fill=\"none\" stroke=\"black\" cx=\"4552.98\" cy=\"-162\" rx=\"48.19\" ry=\"18\"/>\n",
       "<text text-anchor=\"middle\" x=\"4552.98\" y=\"-158.3\" font-family=\"Times,serif\" font-size=\"14.00\">Rename</text>\n",
       "</g>\n",
       "<!-- 11&#45;&gt;29 -->\n",
       "<g id=\"edge25\" class=\"edge\">\n",
       "<title>11&#45;&gt;29</title>\n",
       "<path fill=\"none\" stroke=\"black\" d=\"M4650.07,-217.81C4631.66,-207.42 4607.1,-193.55 4587.29,-182.37\"/>\n",
       "<polygon fill=\"black\" stroke=\"black\" points=\"4588.99,-179.31 4578.56,-177.44 4585.55,-185.41 4588.99,-179.31\"/>\n",
       "</g>\n",
       "<!-- 12&#45;&gt;33 -->\n",
       "<g id=\"edge38\" class=\"edge\">\n",
       "<title>12&#45;&gt;33</title>\n",
       "<path fill=\"none\" stroke=\"black\" d=\"M2846.98,-143.7C2846.98,-135.98 2846.98,-126.71 2846.98,-118.11\"/>\n",
       "<polygon fill=\"black\" stroke=\"black\" points=\"2850.48,-118.1 2846.98,-108.1 2843.48,-118.1 2850.48,-118.1\"/>\n",
       "</g>\n",
       "<!-- 15 -->\n",
       "<g id=\"node19\" class=\"node\">\n",
       "<title>15</title>\n",
       "<ellipse fill=\"none\" stroke=\"black\" cx=\"3162.98\" cy=\"-162\" rx=\"48.19\" ry=\"18\"/>\n",
       "<text text-anchor=\"middle\" x=\"3162.98\" y=\"-158.3\" font-family=\"Times,serif\" font-size=\"14.00\">Rename</text>\n",
       "</g>\n",
       "<!-- 13&#45;&gt;15 -->\n",
       "<g id=\"edge14\" class=\"edge\">\n",
       "<title>13&#45;&gt;15</title>\n",
       "<path fill=\"none\" stroke=\"black\" d=\"M3316.85,-216.32C3283.43,-204.74 3239.26,-189.43 3206.82,-178.19\"/>\n",
       "<polygon fill=\"black\" stroke=\"black\" points=\"3207.74,-174.81 3197.15,-174.84 3205.45,-181.42 3207.74,-174.81\"/>\n",
       "</g>\n",
       "<!-- 14&#45;&gt;33 -->\n",
       "<g id=\"edge29\" class=\"edge\">\n",
       "<title>14&#45;&gt;33</title>\n",
       "<path fill=\"none\" stroke=\"black\" d=\"M4270.93,-154.77C4243.17,-151.07 4206.54,-146.61 4173.98,-144 3663.98,-103.14 3041.08,-93.29 2884.19,-91.4\"/>\n",
       "<polygon fill=\"black\" stroke=\"black\" points=\"2884.16,-87.9 2874.12,-91.28 2884.08,-94.89 2884.16,-87.9\"/>\n",
       "</g>\n",
       "<!-- 15&#45;&gt;33 -->\n",
       "<g id=\"edge35\" class=\"edge\">\n",
       "<title>15&#45;&gt;33</title>\n",
       "<path fill=\"none\" stroke=\"black\" d=\"M3122.64,-152.06C3060.32,-138.26 2941.68,-111.98 2882.45,-98.86\"/>\n",
       "<polygon fill=\"black\" stroke=\"black\" points=\"2882.97,-95.39 2872.45,-96.64 2881.46,-102.22 2882.97,-95.39\"/>\n",
       "</g>\n",
       "<!-- 19 -->\n",
       "<g id=\"node23\" class=\"node\">\n",
       "<title>19</title>\n",
       "<ellipse fill=\"none\" stroke=\"black\" cx=\"1139.98\" cy=\"-162\" rx=\"48.19\" ry=\"18\"/>\n",
       "<text text-anchor=\"middle\" x=\"1139.98\" y=\"-158.3\" font-family=\"Times,serif\" font-size=\"14.00\">Rename</text>\n",
       "</g>\n",
       "<!-- 16&#45;&gt;19 -->\n",
       "<g id=\"edge17\" class=\"edge\">\n",
       "<title>16&#45;&gt;19</title>\n",
       "<path fill=\"none\" stroke=\"black\" d=\"M843.89,-217.12C918.94,-203.4 1024.92,-184.03 1087.63,-172.57\"/>\n",
       "<polygon fill=\"black\" stroke=\"black\" points=\"1088.48,-175.97 1097.69,-170.73 1087.22,-169.08 1088.48,-175.97\"/>\n",
       "</g>\n",
       "<!-- 22 -->\n",
       "<g id=\"node26\" class=\"node\">\n",
       "<title>22</title>\n",
       "<ellipse fill=\"none\" stroke=\"black\" cx=\"3580.98\" cy=\"-162\" rx=\"48.19\" ry=\"18\"/>\n",
       "<text text-anchor=\"middle\" x=\"3580.98\" y=\"-158.3\" font-family=\"Times,serif\" font-size=\"14.00\">Rename</text>\n",
       "</g>\n",
       "<!-- 17&#45;&gt;22 -->\n",
       "<g id=\"edge19\" class=\"edge\">\n",
       "<title>17&#45;&gt;22</title>\n",
       "<path fill=\"none\" stroke=\"black\" d=\"M3814.09,-216.68C3757.79,-203.71 3680.49,-185.91 3630.63,-174.43\"/>\n",
       "<polygon fill=\"black\" stroke=\"black\" points=\"3631.27,-170.99 3620.73,-172.15 3629.69,-177.81 3631.27,-170.99\"/>\n",
       "</g>\n",
       "<!-- 18 -->\n",
       "<g id=\"node22\" class=\"node\">\n",
       "<title>18</title>\n",
       "<ellipse fill=\"none\" stroke=\"black\" cx=\"1264.98\" cy=\"-450\" rx=\"135.68\" ry=\"18\"/>\n",
       "<text text-anchor=\"middle\" x=\"1264.98\" y=\"-446.3\" font-family=\"Times,serif\" font-size=\"14.00\">input cols=[event_time_dt]</text>\n",
       "</g>\n",
       "<!-- 23 -->\n",
       "<g id=\"node27\" class=\"node\">\n",
       "<title>23</title>\n",
       "<ellipse fill=\"none\" stroke=\"black\" cx=\"1264.98\" cy=\"-378\" rx=\"211.46\" ry=\"18\"/>\n",
       "<text text-anchor=\"middle\" x=\"1264.98\" y=\"-374.3\" font-family=\"Times,serif\" font-size=\"14.00\">nvt.ops.LambdaOp(lambda col: col.dt.hour)</text>\n",
       "</g>\n",
       "<!-- 18&#45;&gt;23 -->\n",
       "<g id=\"edge20\" class=\"edge\">\n",
       "<title>18&#45;&gt;23</title>\n",
       "<path fill=\"none\" stroke=\"black\" d=\"M1264.98,-431.7C1264.98,-423.98 1264.98,-414.71 1264.98,-406.11\"/>\n",
       "<polygon fill=\"black\" stroke=\"black\" points=\"1268.48,-406.1 1264.98,-396.1 1261.48,-406.1 1268.48,-406.1\"/>\n",
       "</g>\n",
       "<!-- 19&#45;&gt;33 -->\n",
       "<g id=\"edge32\" class=\"edge\">\n",
       "<title>19&#45;&gt;33</title>\n",
       "<path fill=\"none\" stroke=\"black\" d=\"M1187.44,-158.97C1262.78,-155.76 1414.41,-149.32 1542.98,-144 2044.27,-123.24 2653.99,-98.74 2809.5,-92.5\"/>\n",
       "<polygon fill=\"black\" stroke=\"black\" points=\"2810.05,-95.98 2819.9,-92.09 2809.77,-88.99 2810.05,-95.98\"/>\n",
       "</g>\n",
       "<!-- 20 -->\n",
       "<g id=\"node24\" class=\"node\">\n",
       "<title>20</title>\n",
       "<ellipse fill=\"none\" stroke=\"black\" cx=\"4972.98\" cy=\"-306\" rx=\"135.68\" ry=\"18\"/>\n",
       "<text text-anchor=\"middle\" x=\"4972.98\" y=\"-302.3\" font-family=\"Times,serif\" font-size=\"14.00\">input cols=[event_time_dt]</text>\n",
       "</g>\n",
       "<!-- 24 -->\n",
       "<g id=\"node28\" class=\"node\">\n",
       "<title>24</title>\n",
       "<ellipse fill=\"none\" stroke=\"black\" cx=\"4972.98\" cy=\"-234\" rx=\"219.86\" ry=\"18\"/>\n",
       "<text text-anchor=\"middle\" x=\"4972.98\" y=\"-230.3\" font-family=\"Times,serif\" font-size=\"14.00\">nvt.ops.LambdaOp(lambda col: col.dt.month)</text>\n",
       "</g>\n",
       "<!-- 20&#45;&gt;24 -->\n",
       "<g id=\"edge21\" class=\"edge\">\n",
       "<title>20&#45;&gt;24</title>\n",
       "<path fill=\"none\" stroke=\"black\" d=\"M4972.98,-287.7C4972.98,-279.98 4972.98,-270.71 4972.98,-262.11\"/>\n",
       "<polygon fill=\"black\" stroke=\"black\" points=\"4976.48,-262.1 4972.98,-252.1 4969.48,-262.1 4976.48,-262.1\"/>\n",
       "</g>\n",
       "<!-- 26 -->\n",
       "<g id=\"node30\" class=\"node\">\n",
       "<title>26</title>\n",
       "<ellipse fill=\"none\" stroke=\"black\" cx=\"1599.98\" cy=\"-162\" rx=\"48.19\" ry=\"18\"/>\n",
       "<text text-anchor=\"middle\" x=\"1599.98\" y=\"-158.3\" font-family=\"Times,serif\" font-size=\"14.00\">Rename</text>\n",
       "</g>\n",
       "<!-- 21&#45;&gt;26 -->\n",
       "<g id=\"edge23\" class=\"edge\">\n",
       "<title>21&#45;&gt;26</title>\n",
       "<path fill=\"none\" stroke=\"black\" d=\"M1342.25,-216.85C1405.74,-203.59 1493.87,-185.17 1548.88,-173.68\"/>\n",
       "<polygon fill=\"black\" stroke=\"black\" points=\"1549.68,-177.09 1558.75,-171.61 1548.25,-170.23 1549.68,-177.09\"/>\n",
       "</g>\n",
       "<!-- 22&#45;&gt;33 -->\n",
       "<g id=\"edge39\" class=\"edge\">\n",
       "<title>22&#45;&gt;33</title>\n",
       "<path fill=\"none\" stroke=\"black\" d=\"M3535.06,-156.62C3399.97,-143.74 3005.67,-106.13 2883.5,-94.48\"/>\n",
       "<polygon fill=\"black\" stroke=\"black\" points=\"2883.81,-91 2873.52,-93.53 2883.15,-97.97 2883.81,-91\"/>\n",
       "</g>\n",
       "<!-- 23&#45;&gt;28 -->\n",
       "<g id=\"edge24\" class=\"edge\">\n",
       "<title>23&#45;&gt;28</title>\n",
       "<path fill=\"none\" stroke=\"black\" d=\"M1264.98,-359.7C1264.98,-351.98 1264.98,-342.71 1264.98,-334.11\"/>\n",
       "<polygon fill=\"black\" stroke=\"black\" points=\"1268.48,-334.1 1264.98,-324.1 1261.48,-334.1 1268.48,-334.1\"/>\n",
       "</g>\n",
       "<!-- 31 -->\n",
       "<g id=\"node33\" class=\"node\">\n",
       "<title>31</title>\n",
       "<ellipse fill=\"none\" stroke=\"black\" cx=\"4819.98\" cy=\"-162\" rx=\"48.19\" ry=\"18\"/>\n",
       "<text text-anchor=\"middle\" x=\"4819.98\" y=\"-158.3\" font-family=\"Times,serif\" font-size=\"14.00\">Rename</text>\n",
       "</g>\n",
       "<!-- 24&#45;&gt;31 -->\n",
       "<g id=\"edge27\" class=\"edge\">\n",
       "<title>24&#45;&gt;31</title>\n",
       "<path fill=\"none\" stroke=\"black\" d=\"M4936.33,-216.23C4912.76,-205.45 4882.19,-191.46 4858.3,-180.53\"/>\n",
       "<polygon fill=\"black\" stroke=\"black\" points=\"4859.72,-177.33 4849.17,-176.36 4856.81,-183.7 4859.72,-177.33\"/>\n",
       "</g>\n",
       "<!-- 35 -->\n",
       "<g id=\"node36\" class=\"node\">\n",
       "<title>35</title>\n",
       "<ellipse fill=\"none\" stroke=\"black\" cx=\"1886.98\" cy=\"-162\" rx=\"48.19\" ry=\"18\"/>\n",
       "<text text-anchor=\"middle\" x=\"1886.98\" y=\"-158.3\" font-family=\"Times,serif\" font-size=\"14.00\">Rename</text>\n",
       "</g>\n",
       "<!-- 25&#45;&gt;35 -->\n",
       "<g id=\"edge43\" class=\"edge\">\n",
       "<title>25&#45;&gt;35</title>\n",
       "<path fill=\"none\" stroke=\"black\" d=\"M1802.09,-216.05C1817.82,-206.22 1837.74,-193.77 1854.33,-183.4\"/>\n",
       "<polygon fill=\"black\" stroke=\"black\" points=\"1856.53,-186.16 1863.16,-177.89 1852.82,-180.22 1856.53,-186.16\"/>\n",
       "</g>\n",
       "<!-- 26&#45;&gt;33 -->\n",
       "<g id=\"edge36\" class=\"edge\">\n",
       "<title>26&#45;&gt;33</title>\n",
       "<path fill=\"none\" stroke=\"black\" d=\"M1646.65,-157.25C1693.1,-153.59 1766.44,-148 1829.98,-144 2212.66,-119.89 2676.85,-98.59 2809.79,-92.65\"/>\n",
       "<polygon fill=\"black\" stroke=\"black\" points=\"2810.02,-96.14 2819.86,-92.2 2809.71,-89.15 2810.02,-96.14\"/>\n",
       "</g>\n",
       "<!-- 27 -->\n",
       "<g id=\"node31\" class=\"node\">\n",
       "<title>27</title>\n",
       "<ellipse fill=\"none\" stroke=\"black\" cx=\"3364.98\" cy=\"-450\" rx=\"135.68\" ry=\"18\"/>\n",
       "<text text-anchor=\"middle\" x=\"3364.98\" y=\"-446.3\" font-family=\"Times,serif\" font-size=\"14.00\">input cols=[event_time_dt]</text>\n",
       "</g>\n",
       "<!-- 27&#45;&gt;30 -->\n",
       "<g id=\"edge26\" class=\"edge\">\n",
       "<title>27&#45;&gt;30</title>\n",
       "<path fill=\"none\" stroke=\"black\" d=\"M3364.98,-431.7C3364.98,-423.98 3364.98,-414.71 3364.98,-406.11\"/>\n",
       "<polygon fill=\"black\" stroke=\"black\" points=\"3368.48,-406.1 3364.98,-396.1 3361.48,-406.1 3368.48,-406.1\"/>\n",
       "</g>\n",
       "<!-- 29&#45;&gt;33 -->\n",
       "<g id=\"edge40\" class=\"edge\">\n",
       "<title>29&#45;&gt;33</title>\n",
       "<path fill=\"none\" stroke=\"black\" d=\"M4507.29,-155.96C4470.73,-152.1 4418.12,-146.97 4371.98,-144 3779.28,-105.9 3055.11,-93.88 2884.31,-91.49\"/>\n",
       "<polygon fill=\"black\" stroke=\"black\" points=\"2884.13,-87.98 2874.09,-91.35 2884.04,-94.98 2884.13,-87.98\"/>\n",
       "</g>\n",
       "<!-- 31&#45;&gt;33 -->\n",
       "<g id=\"edge30\" class=\"edge\">\n",
       "<title>31&#45;&gt;33</title>\n",
       "<path fill=\"none\" stroke=\"black\" d=\"M4773.73,-156.58C4731.21,-152.67 4666.4,-147.13 4609.98,-144 3917.16,-105.57 3069.53,-93.65 2883.98,-91.42\"/>\n",
       "<polygon fill=\"black\" stroke=\"black\" points=\"2883.97,-87.92 2873.93,-91.3 2883.89,-94.92 2883.97,-87.92\"/>\n",
       "</g>\n",
       "<!-- 32 -->\n",
       "<g id=\"node34\" class=\"node\">\n",
       "<title>32</title>\n",
       "<ellipse fill=\"none\" stroke=\"black\" cx=\"4845.98\" cy=\"-522\" rx=\"135.38\" ry=\"18\"/>\n",
       "<text text-anchor=\"middle\" x=\"4845.98\" y=\"-518.3\" font-family=\"Times,serif\" font-size=\"14.00\">input cols=[event_time_ts]</text>\n",
       "</g>\n",
       "<!-- 32&#45;&gt;34 -->\n",
       "<g id=\"edge41\" class=\"edge\">\n",
       "<title>32&#45;&gt;34</title>\n",
       "<path fill=\"none\" stroke=\"black\" d=\"M4806.78,-504.76C4781.42,-494.26 4748.34,-480.56 4721.92,-469.61\"/>\n",
       "<polygon fill=\"black\" stroke=\"black\" points=\"4723.09,-466.31 4712.51,-465.72 4720.41,-472.78 4723.09,-466.31\"/>\n",
       "</g>\n",
       "<!-- 36 -->\n",
       "<g id=\"node37\" class=\"node\">\n",
       "<title>36</title>\n",
       "<ellipse fill=\"none\" stroke=\"black\" cx=\"2846.98\" cy=\"-18\" rx=\"243.96\" ry=\"18\"/>\n",
       "<text text-anchor=\"middle\" x=\"2846.98\" y=\"-14.3\" font-family=\"Times,serif\" font-size=\"14.00\">output cols=[et_hour, et_dayofmonth, et_month...]</text>\n",
       "</g>\n",
       "<!-- 33&#45;&gt;36 -->\n",
       "<g id=\"edge44\" class=\"edge\">\n",
       "<title>33&#45;&gt;36</title>\n",
       "<path fill=\"none\" stroke=\"black\" d=\"M2846.98,-71.7C2846.98,-63.98 2846.98,-54.71 2846.98,-46.11\"/>\n",
       "<polygon fill=\"black\" stroke=\"black\" points=\"2850.48,-46.1 2846.98,-36.1 2843.48,-46.1 2850.48,-46.1\"/>\n",
       "</g>\n",
       "<!-- 35&#45;&gt;33 -->\n",
       "<g id=\"edge33\" class=\"edge\">\n",
       "<title>35&#45;&gt;33</title>\n",
       "<path fill=\"none\" stroke=\"black\" d=\"M1931.91,-155.3C1961.45,-151.7 2000.97,-147.14 2035.98,-144 2334.09,-117.27 2695,-98.45 2809.95,-92.78\"/>\n",
       "<polygon fill=\"black\" stroke=\"black\" points=\"2810.17,-96.27 2819.99,-92.29 2809.83,-89.28 2810.17,-96.27\"/>\n",
       "</g>\n",
       "</g>\n",
       "</svg>\n"
      ],
      "text/plain": [
       "<graphviz.dot.Digraph at 0x7f1dc020cbe0>"
      ]
     },
     "execution_count": 36,
     "metadata": {},
     "output_type": "execute_result"
    }
   ],
   "source": [
    "time_features.graph"
   ]
  },
  {
   "cell_type": "markdown",
   "metadata": {},
   "source": [
    "### Computing elapsed time since last interaction (on non-repeated items)"
   ]
  },
  {
   "cell_type": "code",
   "execution_count": 37,
   "metadata": {},
   "outputs": [],
   "source": [
    "# compute the delta in timestamp for each users session\n",
    "diff_features = ([\"event_time_ts\"] >> nvt.ops.DifferenceLag(partition_cols=[\"user_session\"]) >> (lambda col: col.astype(\"float32\"))\n",
    "                                   >> nvt.ops.FillMissing(fill_val=0)\n",
    "                                   >> nvt.ops.Rename(name=\"delta_event_secs\")\n",
    "                )\n",
    "diff_features_log_norm = diff_features >> nvt.ops.LogOp() >> nvt.ops.Normalize() >> nvt.ops.Rename(name='delta_event_secs_log_norm')"
   ]
  },
  {
   "cell_type": "markdown",
   "metadata": {},
   "source": [
    "### Normalize Continuous Features¶"
   ]
  },
  {
   "cell_type": "code",
   "execution_count": 38,
   "metadata": {},
   "outputs": [],
   "source": [
    "# Smoothing price long-tailed distribution\n",
    "price_log = ['price'] >> nvt.ops.LogOp() >> nvt.ops.Normalize() >> nvt.ops.Rename(name='price_log_norm')"
   ]
  },
  {
   "cell_type": "code",
   "execution_count": 39,
   "metadata": {},
   "outputs": [],
   "source": [
    "# Relative Price to the average price for the category_id\n",
    "def relative_price_to_avg_categ(col, gdf):\n",
    "    col = ((gdf['price'] - col) / (col + epsilon)) * (col > 0).astype(int)\n",
    "    return col\n",
    "    \n",
    "avg_category_id_pr = cat_feats['category_id'] >> nvt.ops.JoinGroupby(cont_cols =['price'], stats=[\"mean\"]) >> nvt.ops.Rename(name='avg_category_id_price')\n",
    "relative_price_to_avg_category = avg_category_id_pr >> nvt.ops.LambdaOp(relative_price_to_avg_categ, dependency=['price']) >> nvt.ops.Rename(name=\"relative_price_to_avg_categ_id\")"
   ]
  },
  {
   "cell_type": "markdown",
   "metadata": {},
   "source": [
    "### Grouping interactions into sessions¶"
   ]
  },
  {
   "cell_type": "code",
   "execution_count": 40,
   "metadata": {},
   "outputs": [],
   "source": [
    "groupby_feats = cols + cat_feats + time_features + avg_category_id_pr + price_log + relative_price_to_avg_category + diff_features_log_norm"
   ]
  },
  {
   "cell_type": "markdown",
   "metadata": {},
   "source": [
    "#### Aggregate by session id (create sequence as type of array)"
   ]
  },
  {
   "cell_type": "code",
   "execution_count": 41,
   "metadata": {},
   "outputs": [],
   "source": [
    "# Define Groupby Workflow\n",
    "groupby_features = groupby_feats  >> nvt.ops.Groupby(\n",
    "    groupby_cols=[\"user_session\"], \n",
    "    sort_cols=[\"event_time_ts\"],\n",
    "    aggs={\n",
    "        'user_id': ['first'],\n",
    "        'product_id': [\"list\", \"count\"],\n",
    "        'category_code': [\"list\"],  \n",
    "        'event_type': [\"list\"], \n",
    "        'brand': [\"list\"], \n",
    "        'category_id': [\"list\"], \n",
    "        'event_time_ts': [\"list\", \"first\"],\n",
    "        'event_time_dt': [\"first\"],\n",
    "        'product_recency_days_log_norm': [\"list\"],\n",
    "        'et_hour_sin': [\"list\"],\n",
    "        'et_hour_cos': [\"list\"],\n",
    "        'et_dayofweek_sin': [\"list\"],\n",
    "        'et_dayofweek_cos': [\"list\"],\n",
    "        'et_dayofmonth_sin': [\"list\"],\n",
    "        'et_dayofmonth_cos': [\"list\"],\n",
    "        'et_month_sin': [\"list\"],\n",
    "        'et_month_cos': [\"list\"], \n",
    "        'avg_category_id_price': [\"list\"], \n",
    "        'relative_price_to_avg_categ_id': [\"list\"], \n",
    "        'price_log_norm': [\"list\"], \n",
    "        'delta_event_secs_log_norm': [\"list\"], \n",
    "        },\n",
    "    name_sep=\"-\")"
   ]
  },
  {
   "cell_type": "code",
   "execution_count": 43,
   "metadata": {},
   "outputs": [
    {
     "data": {
      "text/plain": [
       "['event_time_ts-first',\n",
       " 'event_time_dt-first',\n",
       " 'product_id-count',\n",
       " 'user_session',\n",
       " 'user_id-first']"
      ]
     },
     "execution_count": 43,
     "metadata": {},
     "output_type": "execute_result"
    }
   ],
   "source": [
    "groupby_features_nonlist = [x for x in groupby_features.selector if '-list' not in x]\n",
    "groupby_features_nonlist"
   ]
  },
  {
   "cell_type": "code",
   "execution_count": 44,
   "metadata": {},
   "outputs": [],
   "source": [
    "SESSIONS_MAX_LENGTH = 20 \n",
    "MINIMUM_SESSION_LENGTH = 2"
   ]
  },
  {
   "cell_type": "code",
   "execution_count": 45,
   "metadata": {},
   "outputs": [
    {
     "name": "stderr",
     "output_type": "stream",
     "text": [
      "/root/.local/lib/python3.8/site-packages/nvtabular-0.6.0+16.gd36ebd2-py3.8-linux-x86_64.egg/nvtabular/workflow/node.py:43: FutureWarning: The `[\"a\", \"b\", \"c\"] >> ops.Operator` syntax for creating a `ColumnGroup` has been deprecated in NVTabular 21.09 and will be removed in a future version.\n",
      "  warnings.warn(\n"
     ]
    }
   ],
   "source": [
    "groupby_features_trim = ((groupby_features - groupby_features_nonlist)) >> nvt.ops.ListSlice(0,SESSIONS_MAX_LENGTH) >> nvt.ops.Rename(postfix = '_trim')"
   ]
  },
  {
   "cell_type": "code",
   "execution_count": 46,
   "metadata": {},
   "outputs": [],
   "source": [
    "day_index = (groupby_features['event_time_dt-first'] >> \n",
    "    nvt.ops.LambdaOp(lambda col: (col - col.min()).dt.days +1) >> \n",
    "    nvt.ops.Rename(name = \"day_index\")\n",
    ")"
   ]
  },
  {
   "cell_type": "code",
   "execution_count": 47,
   "metadata": {},
   "outputs": [],
   "source": [
    "day_padded = day_index >> (lambda col: col.astype(str).str.pad(4,fillchar='0')) >> nvt.ops.Rename(name=\"day_padded\")"
   ]
  },
  {
   "cell_type": "code",
   "execution_count": 48,
   "metadata": {},
   "outputs": [],
   "source": [
    "selected_features = groupby_features[groupby_features_nonlist] + groupby_features_trim + day_padded"
   ]
  },
  {
   "cell_type": "markdown",
   "metadata": {},
   "source": [
    "- Select sessions with session size is equal and longer than the MINIMUM_SESSION_LENGTH."
   ]
  },
  {
   "cell_type": "code",
   "execution_count": 49,
   "metadata": {},
   "outputs": [],
   "source": [
    "filtered_sessions = selected_features-'event_time_dt-first' >> nvt.ops.Filter(f=lambda df: df[\"product_id-count\"] >= MINIMUM_SESSION_LENGTH)"
   ]
  },
  {
   "cell_type": "code",
   "execution_count": 51,
   "metadata": {},
   "outputs": [
    {
     "data": {
      "text/plain": [
       "['/workspace/ecommerce/input/input.parquet']"
      ]
     },
     "execution_count": 51,
     "metadata": {},
     "output_type": "execute_result"
    }
   ],
   "source": [
    "# define the path of the saved parquet files \n",
    "input_paths = glob.glob(os.path.join(INPUT_PATH, '*.parquet'))\n",
    "input_paths"
   ]
  },
  {
   "cell_type": "code",
   "execution_count": 52,
   "metadata": {},
   "outputs": [
    {
     "name": "stderr",
     "output_type": "stream",
     "text": [
      "/root/.local/lib/python3.8/site-packages/numba-0.54.0rc2-py3.8-linux-x86_64.egg/numba/cuda/compiler.py:865: NumbaPerformanceWarning: \u001b[1mGrid size (1) < 2 * SM count (160) will likely result in GPU under utilization due to low occupancy.\u001b[0m\n",
      "  warn(NumbaPerformanceWarning(msg))\n",
      "/root/.local/lib/python3.8/site-packages/numba-0.54.0rc2-py3.8-linux-x86_64.egg/numba/cuda/compiler.py:865: NumbaPerformanceWarning: \u001b[1mGrid size (1) < 2 * SM count (160) will likely result in GPU under utilization due to low occupancy.\u001b[0m\n",
      "  warn(NumbaPerformanceWarning(msg))\n",
      "/root/.local/lib/python3.8/site-packages/numba-0.54.0rc2-py3.8-linux-x86_64.egg/numba/cuda/compiler.py:865: NumbaPerformanceWarning: \u001b[1mGrid size (1) < 2 * SM count (160) will likely result in GPU under utilization due to low occupancy.\u001b[0m\n",
      "  warn(NumbaPerformanceWarning(msg))\n"
     ]
    }
   ],
   "source": [
    "dataset = nvt.Dataset(input_paths, part_size=\"500MB\")\n",
    "workflow = nvt.Workflow(filtered_sessions)\n",
    "workflow.fit(dataset)"
   ]
  },
  {
   "cell_type": "code",
   "execution_count": null,
   "metadata": {},
   "outputs": [],
   "source": [
    "sessions_gdf = workflow.transform(dataset).to_ddf()"
   ]
  },
  {
   "cell_type": "code",
   "execution_count": 54,
   "metadata": {},
   "outputs": [
    {
     "data": {
      "text/html": [
       "<div>\n",
       "<style scoped>\n",
       "    .dataframe tbody tr th:only-of-type {\n",
       "        vertical-align: middle;\n",
       "    }\n",
       "\n",
       "    .dataframe tbody tr th {\n",
       "        vertical-align: top;\n",
       "    }\n",
       "\n",
       "    .dataframe thead th {\n",
       "        text-align: right;\n",
       "    }\n",
       "</style>\n",
       "<table border=\"1\" class=\"dataframe\">\n",
       "  <thead>\n",
       "    <tr style=\"text-align: right;\">\n",
       "      <th></th>\n",
       "      <th>event_time_ts-first</th>\n",
       "      <th>product_id-count</th>\n",
       "      <th>user_session</th>\n",
       "      <th>user_id-first</th>\n",
       "      <th>et_hour_sin-list_trim</th>\n",
       "      <th>avg_category_id_price-list_trim</th>\n",
       "      <th>category_id-list_trim</th>\n",
       "      <th>et_dayofmonth_sin-list_trim</th>\n",
       "      <th>et_dayofmonth_cos-list_trim</th>\n",
       "      <th>product_id-list_trim</th>\n",
       "      <th>...</th>\n",
       "      <th>price_log_norm-list_trim</th>\n",
       "      <th>et_dayofweek_sin-list_trim</th>\n",
       "      <th>product_recency_days_log_norm-list_trim</th>\n",
       "      <th>et_hour_cos-list_trim</th>\n",
       "      <th>et_dayofweek_cos-list_trim</th>\n",
       "      <th>event_time_ts-list_trim</th>\n",
       "      <th>delta_event_secs_log_norm-list_trim</th>\n",
       "      <th>et_month_cos-list_trim</th>\n",
       "      <th>brand-list_trim</th>\n",
       "      <th>day_padded</th>\n",
       "    </tr>\n",
       "  </thead>\n",
       "  <tbody>\n",
       "    <tr>\n",
       "      <th>0</th>\n",
       "      <td>1569900208</td>\n",
       "      <td>779</td>\n",
       "      <td>1</td>\n",
       "      <td>73</td>\n",
       "      <td>[0.707107, 0.707107, 0.707107, 0.86602557, 0.8...</td>\n",
       "      <td>[67.77804798822402, 67.77804798822402, 67.7780...</td>\n",
       "      <td>[2, 2, 2, 2, 2, 19, 19, 19, 19, 19, 19, 19, 19...</td>\n",
       "      <td>[0.5712684, 0.5712684, 0.5712684, 0.72479296, ...</td>\n",
       "      <td>[0.82076335, 0.82076335, 0.82076335, 0.6889667...</td>\n",
       "      <td>[26847, 111411, 31915, 10388, 28421, 670, 897,...</td>\n",
       "      <td>...</td>\n",
       "      <td>[-0.59687126, -0.58262926, -0.57691485, -0.947...</td>\n",
       "      <td>[0.9749277, 0.9749277, 0.9749277, 0.9749277, 0...</td>\n",
       "      <td>[-3.1486545, -3.1486545, -3.148422, -3.1486545...</td>\n",
       "      <td>[0.70710653, 0.70710653, 0.70710653, 0.4999997...</td>\n",
       "      <td>[-0.22252177, -0.22252177, -0.22252177, -0.222...</td>\n",
       "      <td>[1569900208, 1569900523, 1569900702, 156990268...</td>\n",
       "      <td>[-1.3126762, 1.5326037, 1.2543979, 2.4412634, ...</td>\n",
       "      <td>[0.86602515, 0.86602515, 0.86602515, 0.8660251...</td>\n",
       "      <td>[190, 111, 275, 290, 536, 31, 10, 31, 416, 185...</td>\n",
       "      <td>0001</td>\n",
       "    </tr>\n",
       "    <tr>\n",
       "      <th>1</th>\n",
       "      <td>1571718982</td>\n",
       "      <td>1008</td>\n",
       "      <td>2</td>\n",
       "      <td>17</td>\n",
       "      <td>[0.86602557, 0.86602557, 0.86602557, 0.8660255...</td>\n",
       "      <td>[465.9987932459777, 465.9987932459777, 465.998...</td>\n",
       "      <td>[12, 12, 12, 5, 5, 5, 5, 5, 5, 5, 5, 5, 5, 5, ...</td>\n",
       "      <td>[0.72479296, 0.72479296, 0.72479296, 0.7247929...</td>\n",
       "      <td>[0.68896675, 0.68896675, 0.68896675, 0.6889667...</td>\n",
       "      <td>[620, 2933, 620, 2762, 11452, 34, 265, 761, 11...</td>\n",
       "      <td>...</td>\n",
       "      <td>[0.084585965, -0.24322365, 0.084585965, -0.144...</td>\n",
       "      <td>[0.9749277, 0.9749277, 0.9749277, 0.9749277, 0...</td>\n",
       "      <td>[0.7401958, 0.73695797, 0.7402965, 0.73854333,...</td>\n",
       "      <td>[0.49999976, 0.49999976, 0.49999976, 0.4999997...</td>\n",
       "      <td>[-0.22252177, -0.22252177, -0.22252177, -0.222...</td>\n",
       "      <td>[1571718982, 1571719023, 1571719135, 157171947...</td>\n",
       "      <td>[-1.3126762, 0.5349946, 1.0242496, 1.5629407, ...</td>\n",
       "      <td>[0.86602515, 0.86602515, 0.86602515, 0.8660251...</td>\n",
       "      <td>[1, 43, 1, 15, 15, 15, 15, 15, 15, 15, 15, 15,...</td>\n",
       "      <td>0022</td>\n",
       "    </tr>\n",
       "  </tbody>\n",
       "</table>\n",
       "<p>2 rows × 24 columns</p>\n",
       "</div>"
      ],
      "text/plain": [
       "   event_time_ts-first  product_id-count  user_session  user_id-first  \\\n",
       "0           1569900208               779             1             73   \n",
       "1           1571718982              1008             2             17   \n",
       "\n",
       "                               et_hour_sin-list_trim  \\\n",
       "0  [0.707107, 0.707107, 0.707107, 0.86602557, 0.8...   \n",
       "1  [0.86602557, 0.86602557, 0.86602557, 0.8660255...   \n",
       "\n",
       "                     avg_category_id_price-list_trim  \\\n",
       "0  [67.77804798822402, 67.77804798822402, 67.7780...   \n",
       "1  [465.9987932459777, 465.9987932459777, 465.998...   \n",
       "\n",
       "                               category_id-list_trim  \\\n",
       "0  [2, 2, 2, 2, 2, 19, 19, 19, 19, 19, 19, 19, 19...   \n",
       "1  [12, 12, 12, 5, 5, 5, 5, 5, 5, 5, 5, 5, 5, 5, ...   \n",
       "\n",
       "                         et_dayofmonth_sin-list_trim  \\\n",
       "0  [0.5712684, 0.5712684, 0.5712684, 0.72479296, ...   \n",
       "1  [0.72479296, 0.72479296, 0.72479296, 0.7247929...   \n",
       "\n",
       "                         et_dayofmonth_cos-list_trim  \\\n",
       "0  [0.82076335, 0.82076335, 0.82076335, 0.6889667...   \n",
       "1  [0.68896675, 0.68896675, 0.68896675, 0.6889667...   \n",
       "\n",
       "                                product_id-list_trim  ...  \\\n",
       "0  [26847, 111411, 31915, 10388, 28421, 670, 897,...  ...   \n",
       "1  [620, 2933, 620, 2762, 11452, 34, 265, 761, 11...  ...   \n",
       "\n",
       "                            price_log_norm-list_trim  \\\n",
       "0  [-0.59687126, -0.58262926, -0.57691485, -0.947...   \n",
       "1  [0.084585965, -0.24322365, 0.084585965, -0.144...   \n",
       "\n",
       "                          et_dayofweek_sin-list_trim  \\\n",
       "0  [0.9749277, 0.9749277, 0.9749277, 0.9749277, 0...   \n",
       "1  [0.9749277, 0.9749277, 0.9749277, 0.9749277, 0...   \n",
       "\n",
       "             product_recency_days_log_norm-list_trim  \\\n",
       "0  [-3.1486545, -3.1486545, -3.148422, -3.1486545...   \n",
       "1  [0.7401958, 0.73695797, 0.7402965, 0.73854333,...   \n",
       "\n",
       "                               et_hour_cos-list_trim  \\\n",
       "0  [0.70710653, 0.70710653, 0.70710653, 0.4999997...   \n",
       "1  [0.49999976, 0.49999976, 0.49999976, 0.4999997...   \n",
       "\n",
       "                          et_dayofweek_cos-list_trim  \\\n",
       "0  [-0.22252177, -0.22252177, -0.22252177, -0.222...   \n",
       "1  [-0.22252177, -0.22252177, -0.22252177, -0.222...   \n",
       "\n",
       "                             event_time_ts-list_trim  \\\n",
       "0  [1569900208, 1569900523, 1569900702, 156990268...   \n",
       "1  [1571718982, 1571719023, 1571719135, 157171947...   \n",
       "\n",
       "                 delta_event_secs_log_norm-list_trim  \\\n",
       "0  [-1.3126762, 1.5326037, 1.2543979, 2.4412634, ...   \n",
       "1  [-1.3126762, 0.5349946, 1.0242496, 1.5629407, ...   \n",
       "\n",
       "                              et_month_cos-list_trim  \\\n",
       "0  [0.86602515, 0.86602515, 0.86602515, 0.8660251...   \n",
       "1  [0.86602515, 0.86602515, 0.86602515, 0.8660251...   \n",
       "\n",
       "                                     brand-list_trim day_padded  \n",
       "0  [190, 111, 275, 290, 536, 31, 10, 31, 416, 185...       0001  \n",
       "1  [1, 43, 1, 15, 15, 15, 15, 15, 15, 15, 15, 15,...       0022  \n",
       "\n",
       "[2 rows x 24 columns]"
      ]
     },
     "execution_count": 54,
     "metadata": {},
     "output_type": "execute_result"
    }
   ],
   "source": [
    "sessions_gdf.head(2)"
   ]
  },
  {
   "cell_type": "code",
   "execution_count": 55,
   "metadata": {},
   "outputs": [
    {
     "data": {
      "text/plain": [
       "['user_session',\n",
       " 'product_id-count',\n",
       " 'event_time_ts-first',\n",
       " 'user_id-first',\n",
       " 'et_month_sin-list_trim',\n",
       " 'product_id-list_trim',\n",
       " 'event_time_ts-list_trim',\n",
       " 'et_hour_cos-list_trim',\n",
       " 'et_month_cos-list_trim',\n",
       " 'brand-list_trim',\n",
       " 'price_log_norm-list_trim',\n",
       " 'delta_event_secs_log_norm-list_trim',\n",
       " 'et_dayofweek_cos-list_trim',\n",
       " 'category_id-list_trim',\n",
       " 'avg_category_id_price-list_trim',\n",
       " 'et_hour_sin-list_trim',\n",
       " 'et_dayofweek_sin-list_trim',\n",
       " 'category_code-list_trim',\n",
       " 'event_type-list_trim',\n",
       " 'et_dayofmonth_cos-list_trim',\n",
       " 'relative_price_to_avg_categ_id-list_trim',\n",
       " 'et_dayofmonth_sin-list_trim',\n",
       " 'day_padded']"
      ]
     },
     "execution_count": 55,
     "metadata": {},
     "output_type": "execute_result"
    }
   ],
   "source": [
    "workflow.output_node.selector.names"
   ]
  },
  {
   "cell_type": "markdown",
   "metadata": {},
   "source": [
    "- NVTabular provides a useful op to print out (cardinality, emb_dim) tuples for each categorical column. Note that here the `emb_dim` value is calculated from the `emb_sz_rule` [function](https://github.com/NVIDIA/NVTabular/blob/bc4eef46f80140986d5c7e2893ed35b69fc8030a/nvtabular/ops/categorify.py#L528). "
   ]
  },
  {
   "cell_type": "code",
   "execution_count": 57,
   "metadata": {},
   "outputs": [
    {
     "data": {
      "text/plain": [
       "{'category_code': (128, 24),\n",
       " 'brand': (3446, 153),\n",
       " 'user_id': (3022271, 512),\n",
       " 'product_id': (166795, 512),\n",
       " 'category_id': (625, 59),\n",
       " 'event_type': (4, 16)}"
      ]
     },
     "execution_count": 57,
     "metadata": {},
     "output_type": "execute_result"
    }
   ],
   "source": [
    "cat_feats.op.get_embedding_sizes(cat_feats.selector)"
   ]
  },
  {
   "cell_type": "markdown",
   "metadata": {},
   "source": [
    "## Exporting data"
   ]
  },
  {
   "cell_type": "markdown",
   "metadata": {},
   "source": [
    "- Export dataset to parquet, partioned by the session day_padded column"
   ]
  },
  {
   "cell_type": "code",
   "execution_count": 58,
   "metadata": {},
   "outputs": [],
   "source": [
    "PARTITION_COL = 'day_padded'\n",
    "\n",
    "# Convert to a Dataset and write out hive-partitioned data to disk\n",
    "workflow.transform(dataset).to_parquet(OUTPUT_DATA_DIR, partition_on=[PARTITION_COL])"
   ]
  },
  {
   "cell_type": "markdown",
   "metadata": {},
   "source": [
    "## Converting to the HF4Rec dir structure and splitting dataset¶\n",
    "- Move to pandas to be able to save as required file structure to load back in the model."
   ]
  },
  {
   "cell_type": "code",
   "execution_count": 59,
   "metadata": {},
   "outputs": [],
   "source": [
    "OUTPUT_FOLDER = \"/workspace/ecommerce-rees/sessions_by_day_ts\"\n",
    "!mkdir -p $OUTPUT_FOLDER"
   ]
  },
  {
   "cell_type": "code",
   "execution_count": 60,
   "metadata": {},
   "outputs": [],
   "source": [
    "# Save the final parquet files into the required file structure to be used in the model training and evaluation.\n",
    "days_folders = [f for f in sorted(os.listdir(OUTPUT_DATA_DIR)) if f.startswith(PARTITION_COL)]\n",
    "for day_folder in days_folders:\n",
    "    df = cudf.read_parquet(os.path.join(OUTPUT_DATA_DIR, day_folder))\n",
    "    df = df.sort_values('event_time_ts-first')\n",
    "    out_folder = os.path.join(OUTPUT_FOLDER, day_folder.replace('day_padded=', ''))\n",
    "    os.makedirs(out_folder, exist_ok=True)\n",
    "    df.to_parquet(os.path.join(out_folder, 'train.parquet'))\n",
    "    random_values = np.random.rand(len(df))\n",
    "    \n",
    "    #Extracts 10% for valid and test set. Those sessions are also in the train set, but as evaluation\n",
    "    #happens only for the subsequent day of training, that is not an issue, and we can keep the train set larger.\n",
    "    valid_set = df[random_values <= 0.10]\n",
    "    valid_set.to_parquet(os.path.join(out_folder, 'valid.parquet'))\n",
    "    test_set = df[random_values >= 0.90]\n",
    "    test_set.to_parquet(os.path.join(out_folder, 'test.parquet'))"
   ]
  },
  {
   "cell_type": "markdown",
   "metadata": {},
   "source": [
    "### Check exported dataset"
   ]
  },
  {
   "cell_type": "code",
   "execution_count": 61,
   "metadata": {},
   "outputs": [
    {
     "data": {
      "text/html": [
       "<div>\n",
       "<style scoped>\n",
       "    .dataframe tbody tr th:only-of-type {\n",
       "        vertical-align: middle;\n",
       "    }\n",
       "\n",
       "    .dataframe tbody tr th {\n",
       "        vertical-align: top;\n",
       "    }\n",
       "\n",
       "    .dataframe thead th {\n",
       "        text-align: right;\n",
       "    }\n",
       "</style>\n",
       "<table border=\"1\" class=\"dataframe\">\n",
       "  <thead>\n",
       "    <tr style=\"text-align: right;\">\n",
       "      <th></th>\n",
       "      <th>event_time_ts-first</th>\n",
       "      <th>product_id-count</th>\n",
       "      <th>user_session</th>\n",
       "      <th>user_id-first</th>\n",
       "      <th>et_hour_sin-list_trim</th>\n",
       "      <th>avg_category_id_price-list_trim</th>\n",
       "      <th>category_id-list_trim</th>\n",
       "      <th>et_dayofmonth_sin-list_trim</th>\n",
       "      <th>et_dayofmonth_cos-list_trim</th>\n",
       "      <th>product_id-list_trim</th>\n",
       "      <th>...</th>\n",
       "      <th>event_type-list_trim</th>\n",
       "      <th>price_log_norm-list_trim</th>\n",
       "      <th>et_dayofweek_sin-list_trim</th>\n",
       "      <th>product_recency_days_log_norm-list_trim</th>\n",
       "      <th>et_hour_cos-list_trim</th>\n",
       "      <th>et_dayofweek_cos-list_trim</th>\n",
       "      <th>event_time_ts-list_trim</th>\n",
       "      <th>delta_event_secs_log_norm-list_trim</th>\n",
       "      <th>et_month_cos-list_trim</th>\n",
       "      <th>brand-list_trim</th>\n",
       "    </tr>\n",
       "  </thead>\n",
       "  <tbody>\n",
       "    <tr>\n",
       "      <th>21658</th>\n",
       "      <td>1569888001</td>\n",
       "      <td>11</td>\n",
       "      <td>730655</td>\n",
       "      <td>425512</td>\n",
       "      <td>[2.6179939e-07, 2.6179939e-07, 2.6179939e-07, ...</td>\n",
       "      <td>[627.0743073715739, 574.4541253211834, 574.454...</td>\n",
       "      <td>[31, 14, 14, 14, 14, 14, 14, 14, 14, 14, 14]</td>\n",
       "      <td>[2.0268341e-07, 2.0268341e-07, 2.0268341e-07, ...</td>\n",
       "      <td>[1.0, 1.0, 1.0, 1.0, 1.0, 1.0, 1.0, 1.0, 1.0, ...</td>\n",
       "      <td>[4853, 81, 146, 132, 381, 519, 1558, 5046, 155...</td>\n",
       "      <td>...</td>\n",
       "      <td>[1, 1, 1, 1, 1, 1, 1, 1, 1, 1, 1]</td>\n",
       "      <td>[1.0353123, 0.43446776, 0.9506203, 0.96737427,...</td>\n",
       "      <td>[0.9749277, 0.9749277, 0.9749277, 0.9749277, 0...</td>\n",
       "      <td>[-3.1486545, -3.1486545, -3.1486545, -3.148654...</td>\n",
       "      <td>[1.0, 1.0, 1.0, 1.0, 1.0, 1.0, 1.0, 1.0, 1.0, ...</td>\n",
       "      <td>[-0.22252177, -0.22252177, -0.22252177, -0.222...</td>\n",
       "      <td>[1569888001, 1569888069, 1569888086, 156988820...</td>\n",
       "      <td>[-1.3126762, -1.3126762, 0.11614336, 1.0329224...</td>\n",
       "      <td>[0.86602515, 0.86602515, 0.86602515, 0.8660251...</td>\n",
       "      <td>[1, 1, 42, 1, 1, 1, 1, 1, 1, 1, 1]</td>\n",
       "    </tr>\n",
       "    <tr>\n",
       "      <th>47877</th>\n",
       "      <td>1569888001</td>\n",
       "      <td>7</td>\n",
       "      <td>1637332</td>\n",
       "      <td>366900</td>\n",
       "      <td>[2.6179939e-07, 2.6179939e-07, 2.6179939e-07, ...</td>\n",
       "      <td>[737.3441434477307, 737.3441434477307, 737.344...</td>\n",
       "      <td>[3, 3, 3, 3, 3, 3, 3]</td>\n",
       "      <td>[2.0268341e-07, 2.0268341e-07, 2.0268341e-07, ...</td>\n",
       "      <td>[1.0, 1.0, 1.0, 1.0, 1.0, 1.0, 1.0]</td>\n",
       "      <td>[222, 1579, 19587, 1579, 222, 1467, 306]</td>\n",
       "      <td>...</td>\n",
       "      <td>[1, 1, 1, 1, 1, 1, 1]</td>\n",
       "      <td>[0.41740024, 1.089425, 1.8598968, 1.089425, 0....</td>\n",
       "      <td>[0.9749277, 0.9749277, 0.9749277, 0.9749277, 0...</td>\n",
       "      <td>[-3.1486545, -3.1486545, -3.1486545, -3.147447...</td>\n",
       "      <td>[1.0, 1.0, 1.0, 1.0, 1.0, 1.0, 1.0]</td>\n",
       "      <td>[-0.22252177, -0.22252177, -0.22252177, -0.222...</td>\n",
       "      <td>[1569888001, 1569888019, 1569888065, 156988810...</td>\n",
       "      <td>[-1.3126762, 0.14287078, 0.59059674, 0.4855195...</td>\n",
       "      <td>[0.86602515, 0.86602515, 0.86602515, 0.8660251...</td>\n",
       "      <td>[14, 16, 16, 16, 14, 11, 11]</td>\n",
       "    </tr>\n",
       "    <tr>\n",
       "      <th>110495</th>\n",
       "      <td>1569888004</td>\n",
       "      <td>2</td>\n",
       "      <td>4202155</td>\n",
       "      <td>101880</td>\n",
       "      <td>[2.6179939e-07, 2.6179939e-07]</td>\n",
       "      <td>[494.9725346164257, 494.9725346164257]</td>\n",
       "      <td>[1, 1]</td>\n",
       "      <td>[2.0268341e-07, 2.0268341e-07]</td>\n",
       "      <td>[1.0, 1.0]</td>\n",
       "      <td>[40, 17]</td>\n",
       "      <td>...</td>\n",
       "      <td>[1, 1]</td>\n",
       "      <td>[1.5900185, 1.9761941]</td>\n",
       "      <td>[0.9749277, 0.9749277]</td>\n",
       "      <td>[-3.1486545, -3.1486545]</td>\n",
       "      <td>[1.0, 1.0]</td>\n",
       "      <td>[-0.22252177, -0.22252177]</td>\n",
       "      <td>[1569888004, 1569888019]</td>\n",
       "      <td>[-1.3126762, 0.057918757]</td>\n",
       "      <td>[0.86602515, 0.86602515]</td>\n",
       "      <td>[3, 3]</td>\n",
       "    </tr>\n",
       "    <tr>\n",
       "      <th>52595</th>\n",
       "      <td>1569888005</td>\n",
       "      <td>5</td>\n",
       "      <td>1808164</td>\n",
       "      <td>135811</td>\n",
       "      <td>[2.6179939e-07, 2.6179939e-07, 2.6179939e-07, ...</td>\n",
       "      <td>[813.4801048287933, 813.4801048287933, 813.480...</td>\n",
       "      <td>[28, 28, 28, 28, 84]</td>\n",
       "      <td>[2.0268341e-07, 2.0268341e-07, 2.0268341e-07, ...</td>\n",
       "      <td>[1.0, 1.0, 1.0, 1.0, 1.0]</td>\n",
       "      <td>[12538, 8620, 10200, 117715, 5831]</td>\n",
       "      <td>...</td>\n",
       "      <td>[1, 1, 1, 1, 1]</td>\n",
       "      <td>[1.4494401, 1.4607621, 1.5130011, 1.5399412, 0...</td>\n",
       "      <td>[0.9749277, 0.9749277, 0.9749277, 0.9749277, 0...</td>\n",
       "      <td>[-3.1486545, -3.1486545, -3.1486545, -3.148654...</td>\n",
       "      <td>[1.0, 1.0, 1.0, 1.0, 1.0]</td>\n",
       "      <td>[-0.22252177, -0.22252177, -0.22252177, -0.222...</td>\n",
       "      <td>[1569888005, 1569888022, 1569888093, 156988810...</td>\n",
       "      <td>[-1.3126762, 0.11614336, 0.80144083, 0.0260149...</td>\n",
       "      <td>[0.86602515, 0.86602515, 0.86602515, 0.8660251...</td>\n",
       "      <td>[64, 64, 64, 64, 137]</td>\n",
       "    </tr>\n",
       "    <tr>\n",
       "      <th>101871</th>\n",
       "      <td>1569888008</td>\n",
       "      <td>3</td>\n",
       "      <td>3794756</td>\n",
       "      <td>1611628</td>\n",
       "      <td>[2.6179939e-07, 2.6179939e-07, 2.6179939e-07]</td>\n",
       "      <td>[129.76474167279804, 129.76474167279804, 129.7...</td>\n",
       "      <td>[49, 49, 49]</td>\n",
       "      <td>[2.0268341e-07, 2.0268341e-07, 2.0268341e-07]</td>\n",
       "      <td>[1.0, 1.0, 1.0]</td>\n",
       "      <td>[1648, 4902, 1887]</td>\n",
       "      <td>...</td>\n",
       "      <td>[1, 1, 1]</td>\n",
       "      <td>[-1.02581, 0.081737794, -0.12177552]</td>\n",
       "      <td>[0.9749277, 0.9749277, 0.9749277]</td>\n",
       "      <td>[-3.1486545, -3.1486545, -3.1486545]</td>\n",
       "      <td>[1.0, 1.0, 1.0]</td>\n",
       "      <td>[-0.22252177, -0.22252177, -0.22252177]</td>\n",
       "      <td>[1569888008, 1569888027, 1569888044]</td>\n",
       "      <td>[-1.3126762, 0.16822703, 0.11614336]</td>\n",
       "      <td>[0.86602515, 0.86602515, 0.86602515]</td>\n",
       "      <td>[59, 1, 59]</td>\n",
       "    </tr>\n",
       "  </tbody>\n",
       "</table>\n",
       "<p>5 rows × 23 columns</p>\n",
       "</div>"
      ],
      "text/plain": [
       "        event_time_ts-first  product_id-count  user_session  user_id-first  \\\n",
       "21658            1569888001                11        730655         425512   \n",
       "47877            1569888001                 7       1637332         366900   \n",
       "110495           1569888004                 2       4202155         101880   \n",
       "52595            1569888005                 5       1808164         135811   \n",
       "101871           1569888008                 3       3794756        1611628   \n",
       "\n",
       "                                    et_hour_sin-list_trim  \\\n",
       "21658   [2.6179939e-07, 2.6179939e-07, 2.6179939e-07, ...   \n",
       "47877   [2.6179939e-07, 2.6179939e-07, 2.6179939e-07, ...   \n",
       "110495                     [2.6179939e-07, 2.6179939e-07]   \n",
       "52595   [2.6179939e-07, 2.6179939e-07, 2.6179939e-07, ...   \n",
       "101871      [2.6179939e-07, 2.6179939e-07, 2.6179939e-07]   \n",
       "\n",
       "                          avg_category_id_price-list_trim  \\\n",
       "21658   [627.0743073715739, 574.4541253211834, 574.454...   \n",
       "47877   [737.3441434477307, 737.3441434477307, 737.344...   \n",
       "110495             [494.9725346164257, 494.9725346164257]   \n",
       "52595   [813.4801048287933, 813.4801048287933, 813.480...   \n",
       "101871  [129.76474167279804, 129.76474167279804, 129.7...   \n",
       "\n",
       "                               category_id-list_trim  \\\n",
       "21658   [31, 14, 14, 14, 14, 14, 14, 14, 14, 14, 14]   \n",
       "47877                          [3, 3, 3, 3, 3, 3, 3]   \n",
       "110495                                        [1, 1]   \n",
       "52595                           [28, 28, 28, 28, 84]   \n",
       "101871                                  [49, 49, 49]   \n",
       "\n",
       "                              et_dayofmonth_sin-list_trim  \\\n",
       "21658   [2.0268341e-07, 2.0268341e-07, 2.0268341e-07, ...   \n",
       "47877   [2.0268341e-07, 2.0268341e-07, 2.0268341e-07, ...   \n",
       "110495                     [2.0268341e-07, 2.0268341e-07]   \n",
       "52595   [2.0268341e-07, 2.0268341e-07, 2.0268341e-07, ...   \n",
       "101871      [2.0268341e-07, 2.0268341e-07, 2.0268341e-07]   \n",
       "\n",
       "                              et_dayofmonth_cos-list_trim  \\\n",
       "21658   [1.0, 1.0, 1.0, 1.0, 1.0, 1.0, 1.0, 1.0, 1.0, ...   \n",
       "47877                 [1.0, 1.0, 1.0, 1.0, 1.0, 1.0, 1.0]   \n",
       "110495                                         [1.0, 1.0]   \n",
       "52595                           [1.0, 1.0, 1.0, 1.0, 1.0]   \n",
       "101871                                    [1.0, 1.0, 1.0]   \n",
       "\n",
       "                                     product_id-list_trim  ...  \\\n",
       "21658   [4853, 81, 146, 132, 381, 519, 1558, 5046, 155...  ...   \n",
       "47877            [222, 1579, 19587, 1579, 222, 1467, 306]  ...   \n",
       "110495                                           [40, 17]  ...   \n",
       "52595                  [12538, 8620, 10200, 117715, 5831]  ...   \n",
       "101871                                 [1648, 4902, 1887]  ...   \n",
       "\n",
       "                     event_type-list_trim  \\\n",
       "21658   [1, 1, 1, 1, 1, 1, 1, 1, 1, 1, 1]   \n",
       "47877               [1, 1, 1, 1, 1, 1, 1]   \n",
       "110495                             [1, 1]   \n",
       "52595                     [1, 1, 1, 1, 1]   \n",
       "101871                          [1, 1, 1]   \n",
       "\n",
       "                                 price_log_norm-list_trim  \\\n",
       "21658   [1.0353123, 0.43446776, 0.9506203, 0.96737427,...   \n",
       "47877   [0.41740024, 1.089425, 1.8598968, 1.089425, 0....   \n",
       "110495                             [1.5900185, 1.9761941]   \n",
       "52595   [1.4494401, 1.4607621, 1.5130011, 1.5399412, 0...   \n",
       "101871               [-1.02581, 0.081737794, -0.12177552]   \n",
       "\n",
       "                               et_dayofweek_sin-list_trim  \\\n",
       "21658   [0.9749277, 0.9749277, 0.9749277, 0.9749277, 0...   \n",
       "47877   [0.9749277, 0.9749277, 0.9749277, 0.9749277, 0...   \n",
       "110495                             [0.9749277, 0.9749277]   \n",
       "52595   [0.9749277, 0.9749277, 0.9749277, 0.9749277, 0...   \n",
       "101871                  [0.9749277, 0.9749277, 0.9749277]   \n",
       "\n",
       "                  product_recency_days_log_norm-list_trim  \\\n",
       "21658   [-3.1486545, -3.1486545, -3.1486545, -3.148654...   \n",
       "47877   [-3.1486545, -3.1486545, -3.1486545, -3.147447...   \n",
       "110495                           [-3.1486545, -3.1486545]   \n",
       "52595   [-3.1486545, -3.1486545, -3.1486545, -3.148654...   \n",
       "101871               [-3.1486545, -3.1486545, -3.1486545]   \n",
       "\n",
       "                                    et_hour_cos-list_trim  \\\n",
       "21658   [1.0, 1.0, 1.0, 1.0, 1.0, 1.0, 1.0, 1.0, 1.0, ...   \n",
       "47877                 [1.0, 1.0, 1.0, 1.0, 1.0, 1.0, 1.0]   \n",
       "110495                                         [1.0, 1.0]   \n",
       "52595                           [1.0, 1.0, 1.0, 1.0, 1.0]   \n",
       "101871                                    [1.0, 1.0, 1.0]   \n",
       "\n",
       "                               et_dayofweek_cos-list_trim  \\\n",
       "21658   [-0.22252177, -0.22252177, -0.22252177, -0.222...   \n",
       "47877   [-0.22252177, -0.22252177, -0.22252177, -0.222...   \n",
       "110495                         [-0.22252177, -0.22252177]   \n",
       "52595   [-0.22252177, -0.22252177, -0.22252177, -0.222...   \n",
       "101871            [-0.22252177, -0.22252177, -0.22252177]   \n",
       "\n",
       "                                  event_time_ts-list_trim  \\\n",
       "21658   [1569888001, 1569888069, 1569888086, 156988820...   \n",
       "47877   [1569888001, 1569888019, 1569888065, 156988810...   \n",
       "110495                           [1569888004, 1569888019]   \n",
       "52595   [1569888005, 1569888022, 1569888093, 156988810...   \n",
       "101871               [1569888008, 1569888027, 1569888044]   \n",
       "\n",
       "                      delta_event_secs_log_norm-list_trim  \\\n",
       "21658   [-1.3126762, -1.3126762, 0.11614336, 1.0329224...   \n",
       "47877   [-1.3126762, 0.14287078, 0.59059674, 0.4855195...   \n",
       "110495                          [-1.3126762, 0.057918757]   \n",
       "52595   [-1.3126762, 0.11614336, 0.80144083, 0.0260149...   \n",
       "101871               [-1.3126762, 0.16822703, 0.11614336]   \n",
       "\n",
       "                                   et_month_cos-list_trim  \\\n",
       "21658   [0.86602515, 0.86602515, 0.86602515, 0.8660251...   \n",
       "47877   [0.86602515, 0.86602515, 0.86602515, 0.8660251...   \n",
       "110495                           [0.86602515, 0.86602515]   \n",
       "52595   [0.86602515, 0.86602515, 0.86602515, 0.8660251...   \n",
       "101871               [0.86602515, 0.86602515, 0.86602515]   \n",
       "\n",
       "                           brand-list_trim  \n",
       "21658   [1, 1, 42, 1, 1, 1, 1, 1, 1, 1, 1]  \n",
       "47877         [14, 16, 16, 16, 14, 11, 11]  \n",
       "110495                              [3, 3]  \n",
       "52595                [64, 64, 64, 64, 137]  \n",
       "101871                         [59, 1, 59]  \n",
       "\n",
       "[5 rows x 23 columns]"
      ]
     },
     "execution_count": 61,
     "metadata": {},
     "output_type": "execute_result"
    }
   ],
   "source": [
    "# Check one file\n",
    "df = cudf.read_parquet(os.path.join(OUTPUT_FOLDER, '0001/train.parquet'))\n",
    "df.head()"
   ]
  }
 ],
 "metadata": {
  "kernelspec": {
   "display_name": "Python 3 (ipykernel)",
   "language": "python",
   "name": "python3"
  },
  "language_info": {
   "codemirror_mode": {
    "name": "ipython",
    "version": 3
   },
   "file_extension": ".py",
   "mimetype": "text/x-python",
   "name": "python",
   "nbconvert_exporter": "python",
   "pygments_lexer": "ipython3",
   "version": "3.8.10"
  }
 },
 "nbformat": 4,
 "nbformat_minor": 4
}
