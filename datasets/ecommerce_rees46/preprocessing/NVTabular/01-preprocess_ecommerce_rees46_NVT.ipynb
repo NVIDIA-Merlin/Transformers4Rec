{
 "cells": [
  {
   "cell_type": "markdown",
   "metadata": {},
   "source": [
    "# Read, Parse, Process E-Commerce data with NVTabular\n",
    "eCommerce dataset: https://www.kaggle.com/mkechinov/ecommerce-behavior-data-from-multi-category-store"
   ]
  },
  {
   "cell_type": "markdown",
   "metadata": {},
   "source": [
    "## Data Download from Kaggle"
   ]
  },
  {
   "cell_type": "code",
   "execution_count": 1,
   "metadata": {},
   "outputs": [],
   "source": [
    "# !pip install kaggle --upgrade"
   ]
  },
  {
   "cell_type": "code",
   "execution_count": 2,
   "metadata": {},
   "outputs": [],
   "source": [
    "# # NOTE: first to get kaggle api tiken from account page in Kaggle. Place it at ~/.kaggle/kaggle.json\n",
    "# !mkdir -p ~/.kaggle/ && cp /mount/workspace/kaggle.json ~/.kaggle/ && chmod 600 ~/.kaggle/kaggle.json\n",
    "# !mkdir -p ~/data\n",
    "# !cd ~/data && kaggle datasets download mkechinov/ecommerce-behavior-data-from-multi-category-store\n",
    "# !cd ~/data && unzip ecommerce-behavior-data-from-multi-category-store.zip"
   ]
  },
  {
   "cell_type": "markdown",
   "metadata": {},
   "source": [
    "### Downloading additional months from Google Drive"
   ]
  },
  {
   "cell_type": "code",
   "execution_count": 3,
   "metadata": {},
   "outputs": [],
   "source": [
    "# !pip install gdown\n",
    "# !cd ~/data "
   ]
  },
  {
   "cell_type": "code",
   "execution_count": 4,
   "metadata": {},
   "outputs": [],
   "source": [
    "# !gdown https://drive.google.com/uc?id=1qZIwMbMgMmgDC5EoMdJ8aI9lQPsWA3-P -O .\n",
    "# !echo \"Unziping\" && gunzip 2019-Dec.csv.gz"
   ]
  },
  {
   "cell_type": "code",
   "execution_count": 5,
   "metadata": {},
   "outputs": [],
   "source": [
    "# !cd ~/data && gdown https://drive.google.com/uc?id=1x5ohrrZNhWQN4Q-zww0RmXOwctKHH9PT\n",
    "# !cd ~/data && echo \"Unziping\" && gunzip 2020-Jan.csv.gz"
   ]
  },
  {
   "cell_type": "code",
   "execution_count": 6,
   "metadata": {},
   "outputs": [],
   "source": [
    "# !cd ~/data && gdown https://drive.google.com/uc?id=1-Rov9fFtGJqb7_ePc6qH-Rhzxn0cIcKB\n",
    "# !cd ~/data && echo \"Unziping\" && gunzip 2020-Feb.csv.gz"
   ]
  },
  {
   "cell_type": "code",
   "execution_count": 7,
   "metadata": {},
   "outputs": [],
   "source": [
    "# !cd ~/data && gdown https://drive.google.com/uc?id=1zr_RXpGvOWN2PrWI6itWL8HnRsCpyqz8\n",
    "# !cd ~/data && echo \"Unziping\" && gunzip 2020-Mar.csv.gz"
   ]
  },
  {
   "cell_type": "code",
   "execution_count": 8,
   "metadata": {},
   "outputs": [],
   "source": [
    "# !cd ~/data && gdown https://drive.google.com/uc?id=1g5WoIgLe05UMdREbxAjh0bEFgVCjA1UL\n",
    "# !cd ~/data && echo \"Unziping\" && gunzip 2020-Apr.csv.gz"
   ]
  },
  {
   "cell_type": "markdown",
   "metadata": {},
   "source": [
    "## Configurations"
   ]
  },
  {
   "cell_type": "code",
   "execution_count": 9,
   "metadata": {},
   "outputs": [],
   "source": [
    "import os"
   ]
  },
  {
   "cell_type": "code",
   "execution_count": 10,
   "metadata": {},
   "outputs": [],
   "source": [
    "import numpy as np # linear algebra\n",
    "import pandas as pd # data processing, CSV file I/O (e.g. pd.read_csv)\n",
    "from dask_cuda import LocalCUDACluster\n",
    "from dask.distributed import Client\n",
    "\n",
    "import rmm\n",
    "\n",
    "import glob\n",
    "\n",
    "import cudf, dask_cudf\n",
    "import cupy\n",
    "import nvtabular as nvt\n",
    "\n",
    "import pandas as pd\n",
    "import numpy as np\n",
    "import shutil"
   ]
  },
  {
   "cell_type": "markdown",
   "metadata": {},
   "source": [
    "## Set up Dask Cuda Cluster"
   ]
  },
  {
   "cell_type": "code",
   "execution_count": 11,
   "metadata": {},
   "outputs": [],
   "source": [
    "# define some information about where to get our data\n",
    "BASE_DIR = os.environ.get(\"BASE_DIR\", \"/workspace/\")\n",
    "INPUT_DATA_DIR = os.environ.get(\"INPUT_DATA_DIR\", BASE_DIR + \"ecommerce/\")\n",
    "dask_workdir = os.path.join(BASE_DIR, \"test_dask/workdir\")\n",
    "OUTPUT_DATA_DIR = os.environ.get(\"OUTPUT_DATA_DIR\", BASE_DIR + \"/ecommerce/output\")\n",
    "stats_path = os.path.join(BASE_DIR, \"test_dask/stats\")\n",
    "\n",
    "# Make sure we have a clean worker space for Dask\n",
    "if os.path.isdir(dask_workdir):\n",
    "    shutil.rmtree(dask_workdir)\n",
    "os.makedirs(dask_workdir)\n",
    "\n",
    "# Make sure we have a clean stats space for Dask\n",
    "if os.path.isdir(stats_path):\n",
    "    shutil.rmtree(stats_path)\n",
    "os.mkdir(stats_path)\n",
    "\n",
    "# Make sure we have a clean output path\n",
    "if os.path.isdir(OUTPUT_DATA_DIR):\n",
    "    shutil.rmtree(OUTPUT_DATA_DIR)\n",
    "os.mkdir(OUTPUT_DATA_DIR)"
   ]
  },
  {
   "cell_type": "code",
   "execution_count": 12,
   "metadata": {},
   "outputs": [
    {
     "data": {
      "text/html": [
       "<table style=\"border: 2px solid white;\">\n",
       "<tr>\n",
       "<td style=\"vertical-align: top; border: 0px solid white\">\n",
       "<h3 style=\"text-align: left;\">Client</h3>\n",
       "<ul style=\"text-align: left; list-style: none; margin: 0; padding: 0;\">\n",
       "  <li><b>Scheduler: </b>tcp://127.0.0.1:38185</li>\n",
       "  <li><b>Dashboard: </b><a href='http://127.0.0.1:8787/status' target='_blank'>http://127.0.0.1:8787/status</a></li>\n",
       "</ul>\n",
       "</td>\n",
       "<td style=\"vertical-align: top; border: 0px solid white\">\n",
       "<h3 style=\"text-align: left;\">Cluster</h3>\n",
       "<ul style=\"text-align: left; list-style:none; margin: 0; padding: 0;\">\n",
       "  <li><b>Workers: </b>2</li>\n",
       "  <li><b>Cores: </b>2</li>\n",
       "  <li><b>Memory: </b>100.00 GiB</li>\n",
       "</ul>\n",
       "</td>\n",
       "</tr>\n",
       "</table>"
      ],
      "text/plain": [
       "<Client: 'tcp://127.0.0.1:38185' processes=2 threads=2, memory=100.00 GiB>"
      ]
     },
     "execution_count": 12,
     "metadata": {},
     "output_type": "execute_result"
    }
   ],
   "source": [
    "# Dask dashboard\n",
    "from nvtabular.utils import _pynvml_mem_size, device_mem_size\n",
    "dashboard_port = \"8787\"\n",
    "\n",
    "# Deploy a Single-Machine Multi-GPU Cluster\n",
    "protocol = \"tcp\"  # \"tcp\" or \"ucx\"\n",
    "NUM_GPUS = [0, 1]\n",
    "visible_devices = \",\".join([str(n) for n in NUM_GPUS])  # Delect devices to place workers\n",
    "device_limit_frac = 0.7  # Spill GPU-Worker memory to host at this limit.\n",
    "device_pool_frac = 0.8\n",
    "part_mem_frac = 0.15\n",
    "\n",
    "# Use total device size to calculate args.device_limit_frac\n",
    "device_size = device_mem_size(kind=\"total\")\n",
    "device_limit = int(device_limit_frac * device_size)\n",
    "device_pool_size = int(device_pool_frac * device_size)\n",
    "part_size = int(part_mem_frac * device_size)\n",
    "\n",
    "# Check if any device memory is already occupied\n",
    "for dev in visible_devices.split(\",\"):\n",
    "    fmem = _pynvml_mem_size(kind=\"free\", index=int(dev))\n",
    "    used = (device_size - fmem) / 1e9\n",
    "    if used > 1.0:\n",
    "        warnings.warn(f\"BEWARE - {used} GB is already occupied on device {int(dev)}!\")\n",
    "\n",
    "cluster = None  # (Optional) Specify existing scheduler port\n",
    "if cluster is None:\n",
    "    cluster = LocalCUDACluster(\n",
    "        protocol=protocol,\n",
    "        n_workers=len(visible_devices.split(\",\")),\n",
    "        CUDA_VISIBLE_DEVICES=visible_devices,\n",
    "        device_memory_limit=device_limit,\n",
    "        local_directory=dask_workdir,\n",
    "        dashboard_address=\":\" + dashboard_port,\n",
    "    )\n",
    "\n",
    "# Create the distributed client\n",
    "client = Client(cluster)\n",
    "client"
   ]
  },
  {
   "cell_type": "code",
   "execution_count": 13,
   "metadata": {},
   "outputs": [],
   "source": [
    "NUM_MONTHS_TO_PREPROCESS = 1 #For the eCommerce dataset there are up to 7 months (2019-Oct to 2020-Apr)\n",
    "KEEP_REPEATED_USER_INTERACTIONS = False"
   ]
  },
  {
   "cell_type": "code",
   "execution_count": 14,
   "metadata": {},
   "outputs": [],
   "source": [
    "MONTHS_FILES = [\"2019-Oct.csv\", \"2019-Nov.csv\", \"2019-Dec.csv\", \"2020-Jan.csv\", \"2020-Feb.csv\", \"2020-Mar.csv\", \"2020-Apr.csv\"]"
   ]
  },
  {
   "cell_type": "code",
   "execution_count": 15,
   "metadata": {},
   "outputs": [
    {
     "data": {
      "text/plain": [
       "['2019-Oct.csv']"
      ]
     },
     "execution_count": 15,
     "metadata": {},
     "output_type": "execute_result"
    }
   ],
   "source": [
    "selected_months = MONTHS_FILES[:NUM_MONTHS_TO_PREPROCESS]\n",
    "selected_months"
   ]
  },
  {
   "cell_type": "code",
   "execution_count": 16,
   "metadata": {},
   "outputs": [
    {
     "data": {
      "text/plain": [
       "['/workspace//ecommerce/2019-Oct.csv']"
      ]
     },
     "execution_count": 16,
     "metadata": {},
     "output_type": "execute_result"
    }
   ],
   "source": [
    "files_paths = [os.path.join(INPUT_DATA_DIR, file) for file in selected_months]\n",
    "files_paths"
   ]
  },
  {
   "cell_type": "markdown",
   "metadata": {},
   "source": [
    "#### Read through Dask-cudf from CSV"
   ]
  },
  {
   "cell_type": "code",
   "execution_count": 17,
   "metadata": {},
   "outputs": [
    {
     "name": "stdout",
     "output_type": "stream",
     "text": [
      "CPU times: user 667 ms, sys: 418 ms, total: 1.08 s\n",
      "Wall time: 2.77 s\n"
     ]
    },
    {
     "data": {
      "text/html": [
       "<div>\n",
       "<style scoped>\n",
       "    .dataframe tbody tr th:only-of-type {\n",
       "        vertical-align: middle;\n",
       "    }\n",
       "\n",
       "    .dataframe tbody tr th {\n",
       "        vertical-align: top;\n",
       "    }\n",
       "\n",
       "    .dataframe thead th {\n",
       "        text-align: right;\n",
       "    }\n",
       "</style>\n",
       "<table border=\"1\" class=\"dataframe\">\n",
       "  <thead>\n",
       "    <tr style=\"text-align: right;\">\n",
       "      <th></th>\n",
       "      <th>event_time</th>\n",
       "      <th>event_type</th>\n",
       "      <th>product_id</th>\n",
       "      <th>category_id</th>\n",
       "      <th>category_code</th>\n",
       "      <th>brand</th>\n",
       "      <th>price</th>\n",
       "      <th>user_id</th>\n",
       "      <th>user_session</th>\n",
       "    </tr>\n",
       "  </thead>\n",
       "  <tbody>\n",
       "    <tr>\n",
       "      <th>0</th>\n",
       "      <td>2019-10-01 00:00:00 UTC</td>\n",
       "      <td>view</td>\n",
       "      <td>44600062</td>\n",
       "      <td>2103807459595387724</td>\n",
       "      <td>&lt;NA&gt;</td>\n",
       "      <td>shiseido</td>\n",
       "      <td>35.79</td>\n",
       "      <td>541312140</td>\n",
       "      <td>72d76fde-8bb3-4e00-8c23-a032dfed738c</td>\n",
       "    </tr>\n",
       "    <tr>\n",
       "      <th>1</th>\n",
       "      <td>2019-10-01 00:00:00 UTC</td>\n",
       "      <td>view</td>\n",
       "      <td>3900821</td>\n",
       "      <td>2053013552326770905</td>\n",
       "      <td>appliances.environment.water_heater</td>\n",
       "      <td>aqua</td>\n",
       "      <td>33.20</td>\n",
       "      <td>554748717</td>\n",
       "      <td>9333dfbd-b87a-4708-9857-6336556b0fcc</td>\n",
       "    </tr>\n",
       "    <tr>\n",
       "      <th>2</th>\n",
       "      <td>2019-10-01 00:00:01 UTC</td>\n",
       "      <td>view</td>\n",
       "      <td>17200506</td>\n",
       "      <td>2053013559792632471</td>\n",
       "      <td>furniture.living_room.sofa</td>\n",
       "      <td>&lt;NA&gt;</td>\n",
       "      <td>543.10</td>\n",
       "      <td>519107250</td>\n",
       "      <td>566511c2-e2e3-422b-b695-cf8e6e792ca8</td>\n",
       "    </tr>\n",
       "    <tr>\n",
       "      <th>3</th>\n",
       "      <td>2019-10-01 00:00:01 UTC</td>\n",
       "      <td>view</td>\n",
       "      <td>1307067</td>\n",
       "      <td>2053013558920217191</td>\n",
       "      <td>computers.notebook</td>\n",
       "      <td>lenovo</td>\n",
       "      <td>251.74</td>\n",
       "      <td>550050854</td>\n",
       "      <td>7c90fc70-0e80-4590-96f3-13c02c18c713</td>\n",
       "    </tr>\n",
       "    <tr>\n",
       "      <th>4</th>\n",
       "      <td>2019-10-01 00:00:04 UTC</td>\n",
       "      <td>view</td>\n",
       "      <td>1004237</td>\n",
       "      <td>2053013555631882655</td>\n",
       "      <td>electronics.smartphone</td>\n",
       "      <td>apple</td>\n",
       "      <td>1081.98</td>\n",
       "      <td>535871217</td>\n",
       "      <td>c6bd7419-2748-4c56-95b4-8cec9ff8b80d</td>\n",
       "    </tr>\n",
       "  </tbody>\n",
       "</table>\n",
       "</div>"
      ],
      "text/plain": [
       "                event_time event_type  product_id          category_id  \\\n",
       "0  2019-10-01 00:00:00 UTC       view    44600062  2103807459595387724   \n",
       "1  2019-10-01 00:00:00 UTC       view     3900821  2053013552326770905   \n",
       "2  2019-10-01 00:00:01 UTC       view    17200506  2053013559792632471   \n",
       "3  2019-10-01 00:00:01 UTC       view     1307067  2053013558920217191   \n",
       "4  2019-10-01 00:00:04 UTC       view     1004237  2053013555631882655   \n",
       "\n",
       "                         category_code     brand    price    user_id  \\\n",
       "0                                 <NA>  shiseido    35.79  541312140   \n",
       "1  appliances.environment.water_heater      aqua    33.20  554748717   \n",
       "2           furniture.living_room.sofa      <NA>   543.10  519107250   \n",
       "3                   computers.notebook    lenovo   251.74  550050854   \n",
       "4               electronics.smartphone     apple  1081.98  535871217   \n",
       "\n",
       "                           user_session  \n",
       "0  72d76fde-8bb3-4e00-8c23-a032dfed738c  \n",
       "1  9333dfbd-b87a-4708-9857-6336556b0fcc  \n",
       "2  566511c2-e2e3-422b-b695-cf8e6e792ca8  \n",
       "3  7c90fc70-0e80-4590-96f3-13c02c18c713  \n",
       "4  c6bd7419-2748-4c56-95b4-8cec9ff8b80d  "
      ]
     },
     "execution_count": 17,
     "metadata": {},
     "output_type": "execute_result"
    }
   ],
   "source": [
    "%%time\n",
    "raw_df = dask_cudf.read_csv(files_paths, inferSchema = True) \n",
    "raw_df.head()"
   ]
  },
  {
   "cell_type": "code",
   "execution_count": 18,
   "metadata": {},
   "outputs": [
    {
     "data": {
      "text/plain": [
       "event_time        object\n",
       "event_type        object\n",
       "product_id         int64\n",
       "category_id        int64\n",
       "category_code     object\n",
       "brand             object\n",
       "price            float64\n",
       "user_id            int64\n",
       "user_session      object\n",
       "dtype: object"
      ]
     },
     "execution_count": 18,
     "metadata": {},
     "output_type": "execute_result"
    }
   ],
   "source": [
    "raw_df.dtypes"
   ]
  },
  {
   "cell_type": "markdown",
   "metadata": {},
   "source": [
    "## Convert timestamp from datetime"
   ]
  },
  {
   "cell_type": "code",
   "execution_count": 20,
   "metadata": {},
   "outputs": [
    {
     "data": {
      "text/html": [
       "<div>\n",
       "<style scoped>\n",
       "    .dataframe tbody tr th:only-of-type {\n",
       "        vertical-align: middle;\n",
       "    }\n",
       "\n",
       "    .dataframe tbody tr th {\n",
       "        vertical-align: top;\n",
       "    }\n",
       "\n",
       "    .dataframe thead th {\n",
       "        text-align: right;\n",
       "    }\n",
       "</style>\n",
       "<table border=\"1\" class=\"dataframe\">\n",
       "  <thead>\n",
       "    <tr style=\"text-align: right;\">\n",
       "      <th></th>\n",
       "      <th>event_time</th>\n",
       "      <th>event_type</th>\n",
       "      <th>product_id</th>\n",
       "      <th>category_id</th>\n",
       "      <th>category_code</th>\n",
       "      <th>brand</th>\n",
       "      <th>price</th>\n",
       "      <th>user_id</th>\n",
       "      <th>user_session</th>\n",
       "      <th>event_time_dt</th>\n",
       "      <th>event_time_ts</th>\n",
       "    </tr>\n",
       "  </thead>\n",
       "  <tbody>\n",
       "    <tr>\n",
       "      <th>0</th>\n",
       "      <td>2019-10-01 00:00:00 UTC</td>\n",
       "      <td>view</td>\n",
       "      <td>44600062</td>\n",
       "      <td>2103807459595387724</td>\n",
       "      <td>&lt;NA&gt;</td>\n",
       "      <td>shiseido</td>\n",
       "      <td>35.79</td>\n",
       "      <td>541312140</td>\n",
       "      <td>72d76fde-8bb3-4e00-8c23-a032dfed738c</td>\n",
       "      <td>2019-10-01 00:00:00</td>\n",
       "      <td>1569888000</td>\n",
       "    </tr>\n",
       "    <tr>\n",
       "      <th>1</th>\n",
       "      <td>2019-10-01 00:00:00 UTC</td>\n",
       "      <td>view</td>\n",
       "      <td>3900821</td>\n",
       "      <td>2053013552326770905</td>\n",
       "      <td>appliances.environment.water_heater</td>\n",
       "      <td>aqua</td>\n",
       "      <td>33.20</td>\n",
       "      <td>554748717</td>\n",
       "      <td>9333dfbd-b87a-4708-9857-6336556b0fcc</td>\n",
       "      <td>2019-10-01 00:00:00</td>\n",
       "      <td>1569888000</td>\n",
       "    </tr>\n",
       "    <tr>\n",
       "      <th>2</th>\n",
       "      <td>2019-10-01 00:00:01 UTC</td>\n",
       "      <td>view</td>\n",
       "      <td>17200506</td>\n",
       "      <td>2053013559792632471</td>\n",
       "      <td>furniture.living_room.sofa</td>\n",
       "      <td>&lt;NA&gt;</td>\n",
       "      <td>543.10</td>\n",
       "      <td>519107250</td>\n",
       "      <td>566511c2-e2e3-422b-b695-cf8e6e792ca8</td>\n",
       "      <td>2019-10-01 00:00:01</td>\n",
       "      <td>1569888001</td>\n",
       "    </tr>\n",
       "    <tr>\n",
       "      <th>3</th>\n",
       "      <td>2019-10-01 00:00:01 UTC</td>\n",
       "      <td>view</td>\n",
       "      <td>1307067</td>\n",
       "      <td>2053013558920217191</td>\n",
       "      <td>computers.notebook</td>\n",
       "      <td>lenovo</td>\n",
       "      <td>251.74</td>\n",
       "      <td>550050854</td>\n",
       "      <td>7c90fc70-0e80-4590-96f3-13c02c18c713</td>\n",
       "      <td>2019-10-01 00:00:01</td>\n",
       "      <td>1569888001</td>\n",
       "    </tr>\n",
       "    <tr>\n",
       "      <th>4</th>\n",
       "      <td>2019-10-01 00:00:04 UTC</td>\n",
       "      <td>view</td>\n",
       "      <td>1004237</td>\n",
       "      <td>2053013555631882655</td>\n",
       "      <td>electronics.smartphone</td>\n",
       "      <td>apple</td>\n",
       "      <td>1081.98</td>\n",
       "      <td>535871217</td>\n",
       "      <td>c6bd7419-2748-4c56-95b4-8cec9ff8b80d</td>\n",
       "      <td>2019-10-01 00:00:04</td>\n",
       "      <td>1569888004</td>\n",
       "    </tr>\n",
       "  </tbody>\n",
       "</table>\n",
       "</div>"
      ],
      "text/plain": [
       "                event_time event_type  product_id          category_id  \\\n",
       "0  2019-10-01 00:00:00 UTC       view    44600062  2103807459595387724   \n",
       "1  2019-10-01 00:00:00 UTC       view     3900821  2053013552326770905   \n",
       "2  2019-10-01 00:00:01 UTC       view    17200506  2053013559792632471   \n",
       "3  2019-10-01 00:00:01 UTC       view     1307067  2053013558920217191   \n",
       "4  2019-10-01 00:00:04 UTC       view     1004237  2053013555631882655   \n",
       "\n",
       "                         category_code     brand    price    user_id  \\\n",
       "0                                 <NA>  shiseido    35.79  541312140   \n",
       "1  appliances.environment.water_heater      aqua    33.20  554748717   \n",
       "2           furniture.living_room.sofa      <NA>   543.10  519107250   \n",
       "3                   computers.notebook    lenovo   251.74  550050854   \n",
       "4               electronics.smartphone     apple  1081.98  535871217   \n",
       "\n",
       "                           user_session       event_time_dt  event_time_ts  \n",
       "0  72d76fde-8bb3-4e00-8c23-a032dfed738c 2019-10-01 00:00:00     1569888000  \n",
       "1  9333dfbd-b87a-4708-9857-6336556b0fcc 2019-10-01 00:00:00     1569888000  \n",
       "2  566511c2-e2e3-422b-b695-cf8e6e792ca8 2019-10-01 00:00:01     1569888001  \n",
       "3  7c90fc70-0e80-4590-96f3-13c02c18c713 2019-10-01 00:00:01     1569888001  \n",
       "4  c6bd7419-2748-4c56-95b4-8cec9ff8b80d 2019-10-01 00:00:04     1569888004  "
      ]
     },
     "execution_count": 20,
     "metadata": {},
     "output_type": "execute_result"
    }
   ],
   "source": [
    "raw_df['event_time_dt'] = raw_df['event_time'].astype('datetime64[s]')\n",
    "raw_df['event_time_ts']= raw_df['event_time_dt'].astype('int')\n",
    "raw_df.head()"
   ]
  },
  {
   "cell_type": "markdown",
   "metadata": {},
   "source": [
    "## Removing repeated (user,item) interactions"
   ]
  },
  {
   "cell_type": "code",
   "execution_count": 21,
   "metadata": {},
   "outputs": [],
   "source": [
    "df = raw_df"
   ]
  },
  {
   "cell_type": "code",
   "execution_count": 22,
   "metadata": {},
   "outputs": [
    {
     "data": {
      "text/plain": [
       "['event_time',\n",
       " 'event_type',\n",
       " 'product_id',\n",
       " 'category_id',\n",
       " 'category_code',\n",
       " 'brand',\n",
       " 'price',\n",
       " 'user_id',\n",
       " 'event_time_dt',\n",
       " 'event_time_ts']"
      ]
     },
     "execution_count": 22,
     "metadata": {},
     "output_type": "execute_result"
    }
   ],
   "source": [
    "cols = list(df.columns)\n",
    "cols.remove('user_session')\n",
    "cols"
   ]
  },
  {
   "cell_type": "markdown",
   "metadata": {},
   "source": [
    "## Categorify `user_session` column"
   ]
  },
  {
   "cell_type": "code",
   "execution_count": 23,
   "metadata": {},
   "outputs": [],
   "source": [
    "#  load data \n",
    "df_event = nvt.Dataset(df) \n",
    "# categorify features \n",
    "cat_feats = ['user_session'] >> nvt.ops.Categorify()\n",
    "\n",
    "workflow = nvt.Workflow(cols + cat_feats)\n",
    "workflow.fit(df_event)\n",
    "df = workflow.transform(df_event).to_ddf()"
   ]
  },
  {
   "cell_type": "code",
   "execution_count": 24,
   "metadata": {},
   "outputs": [],
   "source": [
    "#Keeping only the first user interaction with an item (ignores all future repeated interactions)\n",
    "if not KEEP_REPEATED_USER_INTERACTIONS:\n",
    "    df_first_user_item_interaction_df = df.groupby(['user_id', 'product_id']).agg({'event_time_ts': 'min'})\n",
    "    df_first_user_item_interaction_df = df_first_user_item_interaction_df.compute().reset_index().rename(columns={'event_time_ts': 'first_user_item_event_time_ts'})\n",
    "    df = df.merge(df_first_user_item_interaction_df, how='inner', left_on=['user_id', 'product_id', 'event_time_ts'], right_on=['user_id', 'product_id','first_user_item_event_time_ts'])\n",
    "    df = df.drop(columns=['first_user_item_event_time_ts'])\n",
    "\n",
    "#Keeps repeated interactions on the same items, removing only consecutive interactions, because it might be due to browser tab refreshes or different interaction types (e.g. click, add-to-card, purchase)\n",
    "else:\n",
    "    print(\"Count with in-session repeated interactions: {}\".format(len(df)))\n",
    "    # Sorts the dataframe by session and timestamp, to remove consective repetitions\n",
    "    df = df.sort_values(['user_session', 'event_time_ts'])\n",
    "    df['product_id_past'] = df['product_id'].shift(1)\n",
    "    df['session_id_past'] = df['user_session'].shift(1)\n",
    "    #Keeping only no consectutive repeated in session interactions\n",
    "    df = df[~((df['user_session'] == df['session_id_past']) & \\\n",
    "                 (df['product_id'] == df['product_id_past']))]\n",
    "    print(\"Count after removed in-session repeated interactions: {}\".format(len(interactions_df)))\n",
    "    del(df['product_id_past'])\n",
    "    del(df['session_id_past'])"
   ]
  },
  {
   "cell_type": "code",
   "execution_count": 25,
   "metadata": {},
   "outputs": [
    {
     "data": {
      "text/html": [
       "<div>\n",
       "<style scoped>\n",
       "    .dataframe tbody tr th:only-of-type {\n",
       "        vertical-align: middle;\n",
       "    }\n",
       "\n",
       "    .dataframe tbody tr th {\n",
       "        vertical-align: top;\n",
       "    }\n",
       "\n",
       "    .dataframe thead th {\n",
       "        text-align: right;\n",
       "    }\n",
       "</style>\n",
       "<table border=\"1\" class=\"dataframe\">\n",
       "  <thead>\n",
       "    <tr style=\"text-align: right;\">\n",
       "      <th></th>\n",
       "      <th>user_session</th>\n",
       "      <th>event_time</th>\n",
       "      <th>event_type</th>\n",
       "      <th>product_id</th>\n",
       "      <th>category_id</th>\n",
       "      <th>category_code</th>\n",
       "      <th>brand</th>\n",
       "      <th>price</th>\n",
       "      <th>user_id</th>\n",
       "      <th>event_time_dt</th>\n",
       "      <th>event_time_ts</th>\n",
       "    </tr>\n",
       "  </thead>\n",
       "  <tbody>\n",
       "    <tr>\n",
       "      <th>0</th>\n",
       "      <td>7353546</td>\n",
       "      <td>2019-10-01 17:28:04 UTC</td>\n",
       "      <td>view</td>\n",
       "      <td>1005118</td>\n",
       "      <td>2053013555631882655</td>\n",
       "      <td>electronics.smartphone</td>\n",
       "      <td>apple</td>\n",
       "      <td>975.57</td>\n",
       "      <td>555727499</td>\n",
       "      <td>2019-10-01 17:28:04</td>\n",
       "      <td>1569950884</td>\n",
       "    </tr>\n",
       "    <tr>\n",
       "      <th>1</th>\n",
       "      <td>2309416</td>\n",
       "      <td>2019-10-02 08:31:29 UTC</td>\n",
       "      <td>view</td>\n",
       "      <td>6501029</td>\n",
       "      <td>2053013554155487563</td>\n",
       "      <td>computers.components.motherboard</td>\n",
       "      <td>gigabyte</td>\n",
       "      <td>1172.06</td>\n",
       "      <td>516419954</td>\n",
       "      <td>2019-10-02 08:31:29</td>\n",
       "      <td>1570005089</td>\n",
       "    </tr>\n",
       "    <tr>\n",
       "      <th>2</th>\n",
       "      <td>7549019</td>\n",
       "      <td>2019-10-02 07:26:47 UTC</td>\n",
       "      <td>view</td>\n",
       "      <td>2400060</td>\n",
       "      <td>2053013563743667055</td>\n",
       "      <td>appliances.kitchen.hood</td>\n",
       "      <td>&lt;NA&gt;</td>\n",
       "      <td>271.00</td>\n",
       "      <td>554190762</td>\n",
       "      <td>2019-10-02 07:26:47</td>\n",
       "      <td>1570001207</td>\n",
       "    </tr>\n",
       "    <tr>\n",
       "      <th>3</th>\n",
       "      <td>1513742</td>\n",
       "      <td>2019-10-02 14:20:54 UTC</td>\n",
       "      <td>view</td>\n",
       "      <td>2701646</td>\n",
       "      <td>2053013563911439225</td>\n",
       "      <td>appliances.kitchen.refrigerators</td>\n",
       "      <td>indesit</td>\n",
       "      <td>270.02</td>\n",
       "      <td>539931286</td>\n",
       "      <td>2019-10-02 14:20:54</td>\n",
       "      <td>1570026054</td>\n",
       "    </tr>\n",
       "    <tr>\n",
       "      <th>4</th>\n",
       "      <td>7607749</td>\n",
       "      <td>2019-10-02 03:43:53 UTC</td>\n",
       "      <td>view</td>\n",
       "      <td>1801991</td>\n",
       "      <td>2053013554415534427</td>\n",
       "      <td>electronics.video.tv</td>\n",
       "      <td>irbis</td>\n",
       "      <td>100.39</td>\n",
       "      <td>514491621</td>\n",
       "      <td>2019-10-02 03:43:53</td>\n",
       "      <td>1569987833</td>\n",
       "    </tr>\n",
       "  </tbody>\n",
       "</table>\n",
       "</div>"
      ],
      "text/plain": [
       "   user_session               event_time event_type  product_id  \\\n",
       "0       7353546  2019-10-01 17:28:04 UTC       view     1005118   \n",
       "1       2309416  2019-10-02 08:31:29 UTC       view     6501029   \n",
       "2       7549019  2019-10-02 07:26:47 UTC       view     2400060   \n",
       "3       1513742  2019-10-02 14:20:54 UTC       view     2701646   \n",
       "4       7607749  2019-10-02 03:43:53 UTC       view     1801991   \n",
       "\n",
       "           category_id                     category_code     brand    price  \\\n",
       "0  2053013555631882655            electronics.smartphone     apple   975.57   \n",
       "1  2053013554155487563  computers.components.motherboard  gigabyte  1172.06   \n",
       "2  2053013563743667055           appliances.kitchen.hood      <NA>   271.00   \n",
       "3  2053013563911439225  appliances.kitchen.refrigerators   indesit   270.02   \n",
       "4  2053013554415534427              electronics.video.tv     irbis   100.39   \n",
       "\n",
       "     user_id       event_time_dt  event_time_ts  \n",
       "0  555727499 2019-10-01 17:28:04     1569950884  \n",
       "1  516419954 2019-10-02 08:31:29     1570005089  \n",
       "2  554190762 2019-10-02 07:26:47     1570001207  \n",
       "3  539931286 2019-10-02 14:20:54     1570026054  \n",
       "4  514491621 2019-10-02 03:43:53     1569987833  "
      ]
     },
     "execution_count": 25,
     "metadata": {},
     "output_type": "execute_result"
    }
   ],
   "source": [
    "df.head()"
   ]
  },
  {
   "cell_type": "markdown",
   "metadata": {},
   "source": [
    "**Full Dataset (7 months) Stats - Number of interactions**\n",
    "- No filter: 411709736\n",
    "- Removed iser consecutive repeated interactions in the same items: 261390136\n",
    "- Removing all user repeated interactions with the same items: 204098003"
   ]
  },
  {
   "cell_type": "markdown",
   "metadata": {},
   "source": [
    "**1 Months Stats - Number of interactions**\n",
    "- No filter: 42448764\n",
    "- Removed iser consecutive repeated interactions in the same items: 26565608 \n",
    "- Removing all user repeated interactions with the same items: 23312920"
   ]
  },
  {
   "cell_type": "markdown",
   "metadata": {},
   "source": [
    "### Categorical features encoding\n"
   ]
  },
  {
   "cell_type": "code",
   "execution_count": 26,
   "metadata": {},
   "outputs": [],
   "source": [
    "cols= ['event_time',\n",
    " 'event_type',\n",
    " 'category_id',\n",
    " 'category_code',\n",
    " 'brand',\n",
    " 'price',\n",
    " 'user_session',\n",
    " 'event_time_dt',\n",
    " 'event_time_ts',\n",
    " 'user_id',\n",
    " 'product_id']"
   ]
  },
  {
   "cell_type": "code",
   "execution_count": 27,
   "metadata": {},
   "outputs": [],
   "source": [
    "# categorify features \n",
    "cat_feats = ['user_id', 'product_id', 'category_id', 'category_code', 'brand', 'event_type'] >> nvt.ops.Rename(postfix = '_idx') >> nvt.ops.Categorify()"
   ]
  },
  {
   "cell_type": "code",
   "execution_count": 28,
   "metadata": {},
   "outputs": [
    {
     "data": {
      "text/plain": [
       "['user_id_idx',\n",
       " 'product_id_idx',\n",
       " 'category_id_idx',\n",
       " 'category_code_idx',\n",
       " 'brand_idx',\n",
       " 'event_type_idx']"
      ]
     },
     "execution_count": 28,
     "metadata": {},
     "output_type": "execute_result"
    }
   ],
   "source": [
    "cat_feats.columns"
   ]
  },
  {
   "cell_type": "markdown",
   "metadata": {},
   "source": [
    "### Extracts Temporal Features"
   ]
  },
  {
   "cell_type": "code",
   "execution_count": 29,
   "metadata": {},
   "outputs": [
    {
     "data": {
      "text/html": [
       "<div>\n",
       "<style scoped>\n",
       "    .dataframe tbody tr th:only-of-type {\n",
       "        vertical-align: middle;\n",
       "    }\n",
       "\n",
       "    .dataframe tbody tr th {\n",
       "        vertical-align: top;\n",
       "    }\n",
       "\n",
       "    .dataframe thead th {\n",
       "        text-align: right;\n",
       "    }\n",
       "</style>\n",
       "<table border=\"1\" class=\"dataframe\">\n",
       "  <thead>\n",
       "    <tr style=\"text-align: right;\">\n",
       "      <th></th>\n",
       "      <th>product_id</th>\n",
       "      <th>prod_first_event_time_ts</th>\n",
       "    </tr>\n",
       "  </thead>\n",
       "  <tbody>\n",
       "    <tr>\n",
       "      <th>0</th>\n",
       "      <td>18900237</td>\n",
       "      <td>2019-10-08 15:31:19</td>\n",
       "    </tr>\n",
       "    <tr>\n",
       "      <th>1</th>\n",
       "      <td>28401063</td>\n",
       "      <td>2019-10-01 05:57:35</td>\n",
       "    </tr>\n",
       "    <tr>\n",
       "      <th>2</th>\n",
       "      <td>17500826</td>\n",
       "      <td>2019-10-20 04:51:14</td>\n",
       "    </tr>\n",
       "    <tr>\n",
       "      <th>3</th>\n",
       "      <td>21409547</td>\n",
       "      <td>2019-10-01 03:48:11</td>\n",
       "    </tr>\n",
       "    <tr>\n",
       "      <th>4</th>\n",
       "      <td>11800032</td>\n",
       "      <td>2019-10-01 04:51:58</td>\n",
       "    </tr>\n",
       "  </tbody>\n",
       "</table>\n",
       "</div>"
      ],
      "text/plain": [
       "   product_id prod_first_event_time_ts\n",
       "0    18900237      2019-10-08 15:31:19\n",
       "1    28401063      2019-10-01 05:57:35\n",
       "2    17500826      2019-10-20 04:51:14\n",
       "3    21409547      2019-10-01 03:48:11\n",
       "4    11800032      2019-10-01 04:51:58"
      ]
     },
     "execution_count": 29,
     "metadata": {},
     "output_type": "execute_result"
    }
   ],
   "source": [
    "item_first_interaction_df = df.groupby('product_id').agg({'event_time_ts': 'min'}).reset_index().rename(columns={'event_time_ts': 'prod_first_event_time_ts'})\n",
    "item_first_interaction_df['prod_first_event_time_ts'] = item_first_interaction_df['prod_first_event_time_ts'].astype('datetime64[s]')\n",
    "item_first_interaction_df.head()"
   ]
  },
  {
   "cell_type": "code",
   "execution_count": 30,
   "metadata": {},
   "outputs": [],
   "source": [
    "df = df.merge(item_first_interaction_df, on=['product_id'], how='left')"
   ]
  },
  {
   "cell_type": "code",
   "execution_count": 41,
   "metadata": {},
   "outputs": [],
   "source": [
    "#df.to_parquet('input_df')"
   ]
  },
  {
   "cell_type": "code",
   "execution_count": 31,
   "metadata": {},
   "outputs": [],
   "source": [
    "# calculate item recency \n",
    "# create custom op\n",
    "from nvtabular.ops import Operator\n",
    "\n",
    "class ItemRecency(Operator):\n",
    "    def transform(self, columns, gdf):\n",
    "        for column in columns:\n",
    "            col = gdf[column]\n",
    "            item_first_timestamp = gdf['prod_first_event_time_ts']\n",
    "            delta_days = (col - item_first_timestamp).dt.days\n",
    "            gdf[column + \"_age_days\"] = delta_days * (delta_days >=0)\n",
    "        return gdf\n",
    "            \n",
    "    def output_column_names(self, columns):\n",
    "        return [column + \"_age_days\" for column in columns]\n",
    "            \n",
    "    def dependencies(self):\n",
    "        return [\"prod_first_event_time_ts\"]"
   ]
  },
  {
   "cell_type": "code",
   "execution_count": 32,
   "metadata": {},
   "outputs": [],
   "source": [
    "# create time features\n",
    "sessionTime = ['event_time_dt']\n",
    "\n",
    "sessionTime_hour = (\n",
    "    sessionTime >> \n",
    "    nvt.ops.LambdaOp(lambda col: col.dt.hour) >> \n",
    "    nvt.ops.Rename(name = 'et_hour')\n",
    ")\n",
    "sessionTime_weekday = (\n",
    "    sessionTime >> \n",
    "    nvt.ops.LambdaOp(lambda col: col.dt.weekday) >> \n",
    "    nvt.ops.Rename(name ='et_dayofweek')\n",
    ")\n",
    "sessionTime_day = (\n",
    "    sessionTime >> \n",
    "    nvt.ops.LambdaOp(lambda col: col.dt.day) >> \n",
    "    nvt.ops.Rename(name =\"et_dayofmonth\")\n",
    ")\n",
    "sessionTime_month = (\n",
    "    sessionTime >> \n",
    "    nvt.ops.LambdaOp(lambda col: col.dt.month) >> \n",
    "    nvt.ops.Rename(name =\"et_month\")\n",
    ")"
   ]
  },
  {
   "cell_type": "code",
   "execution_count": 33,
   "metadata": {},
   "outputs": [],
   "source": [
    "def get_cycled_feature_value_sin(col, max_value):\n",
    "    value_scaled = (col + 0.000001) / max_value\n",
    "    value_sin = np.sin(2*np.pi*value_scaled)\n",
    "    return value_sin\n",
    "\n",
    "def get_cycled_feature_value_cos(col, max_value):\n",
    "    value_scaled = (col + 0.000001) / max_value\n",
    "    value_cos = np.cos(2*np.pi*value_scaled)\n",
    "    return value_cos"
   ]
  },
  {
   "cell_type": "code",
   "execution_count": 34,
   "metadata": {},
   "outputs": [],
   "source": [
    "hour_sin = sessionTime_hour >> (lambda col: get_cycled_feature_value_sin(col, 24)) >> nvt.ops.Rename(name='et_hour_sin')\n",
    "hour_cos = sessionTime_hour >> (lambda col: get_cycled_feature_value_cos(col, 24)) >> nvt.ops.Rename(name ='et_hour_cos')\n",
    "weekday_sin = sessionTime_weekday >> (lambda col: get_cycled_feature_value_sin(col+1, 7)) >> nvt.ops.Rename(name = 'et_dayofweek_sin')\n",
    "weekday_cos= sessionTime_weekday >> (lambda col: get_cycled_feature_value_cos(col+1, 7)) >> nvt.ops.Rename(name = 'et_dayofweek_cos')\n",
    "\n",
    "dayofmonth_sin = sessionTime_hour >> (lambda col: get_cycled_feature_value_sin(col, 31)) >> nvt.ops.Rename(name ='et_dayofmonth_sin')\n",
    "dayofmonth_cos = sessionTime_hour >> (lambda col: get_cycled_feature_value_cos(col, 31)) >> nvt.ops.Rename(name='et_dayofmonth_cos')\n",
    "month_sin = sessionTime_weekday >> (lambda col: get_cycled_feature_value_sin(col, 12)) >> nvt.ops.Rename(name='et_month_sin')\n",
    "month_cos= sessionTime_weekday >> (lambda col: get_cycled_feature_value_cos(col, 12)) >> nvt.ops.Rename(name = 'et_month_cos')"
   ]
  },
  {
   "cell_type": "code",
   "execution_count": 35,
   "metadata": {},
   "outputs": [],
   "source": [
    "cycled_features = hour_sin + hour_cos + weekday_sin + weekday_cos + dayofmonth_sin + dayofmonth_cos + month_sin + month_cos"
   ]
  },
  {
   "cell_type": "code",
   "execution_count": 36,
   "metadata": {},
   "outputs": [],
   "source": [
    "recency_features = [\"event_time_dt\"] >> ItemRecency() >>  nvt.ops.Rename(name='product_recency_days')\n",
    "recency_features_norm = recency_features >> nvt.ops.LogOp() >> nvt.ops.Normalize() >> nvt.ops.Rename(name='product_recency_days_log_norm')"
   ]
  },
  {
   "cell_type": "code",
   "execution_count": 37,
   "metadata": {},
   "outputs": [],
   "source": [
    "time_features = (\n",
    "    sessionTime_hour +\n",
    "    sessionTime_day + \n",
    "    sessionTime_month + \n",
    "    sessionTime_weekday +\n",
    "    recency_features +\n",
    "    recency_features_norm + \n",
    "    cycled_features\n",
    "    #cycled_features_norm\n",
    ")\n",
    "#time_features.graph"
   ]
  },
  {
   "cell_type": "code",
   "execution_count": 38,
   "metadata": {},
   "outputs": [],
   "source": [
    "#Smoothing price long-tailed distribution\n",
    "price_log = ['price'] >> nvt.ops.LogOp() >> nvt.ops.Normalize() >> nvt.ops.Rename(name='price_log_norm')"
   ]
  },
  {
   "cell_type": "code",
   "execution_count": 39,
   "metadata": {},
   "outputs": [],
   "source": [
    "avg_category_id_price = ['category_id'] >> nvt.ops.JoinGroupby(cont_cols =['price'], stats=[\"mean\"]) >> nvt.ops.Rename(name='avg_category_id_prices')\n",
    "# df_indexed = df_indexed.join(avg_category_id_prices_df, on='category_id', how='inner') \\\n",
    "#         .withColumn('relative_price_to_avg_category_id', (F.col('price') - F.col('avg_category_id_price')) / F.col('avg_category_id_price'))"
   ]
  },
  {
   "cell_type": "code",
   "execution_count": 52,
   "metadata": {},
   "outputs": [
    {
     "name": "stderr",
     "output_type": "stream",
     "text": [
      "/nvtabular/nvtabular/io/parquet.py:85: UserWarning: Row group memory size (134870929) (bytes) of parquet file is bigger than requested part_size (100000000) for the NVTabular dataset.A row group memory size of 128 MB is generally recommended. You can find info on how to set the row group size of parquet files in https://nvidia.github.io/NVTabular/main/resources/troubleshooting.html#setting-the-row-group-size-for-the-parquet-files\n",
      "  warnings.warn(\n"
     ]
    }
   ],
   "source": [
    "#  load data \n",
    "path = '/workspace/Transformers4Rec/datasets/ecommerce_rees46/preprocessing/'\n",
    "input_paths = glob.glob(os.path.join(path, \"input_df\", \"*.parquet\"))\n",
    "dataset = nvt.Dataset(input_paths, part_size=\"100MB\")\n",
    "workflow = nvt.Workflow(cols + cat_feats + time_features + avg_category_id_price + price_log)\n",
    "workflow.fit(dataset)\n",
    "df_indexed = workflow.transform(dataset).to_ddf()"
   ]
  },
  {
   "cell_type": "code",
   "execution_count": 53,
   "metadata": {},
   "outputs": [
    {
     "data": {
      "text/html": [
       "<div>\n",
       "<style scoped>\n",
       "    .dataframe tbody tr th:only-of-type {\n",
       "        vertical-align: middle;\n",
       "    }\n",
       "\n",
       "    .dataframe tbody tr th {\n",
       "        vertical-align: top;\n",
       "    }\n",
       "\n",
       "    .dataframe thead th {\n",
       "        text-align: right;\n",
       "    }\n",
       "</style>\n",
       "<table border=\"1\" class=\"dataframe\">\n",
       "  <thead>\n",
       "    <tr style=\"text-align: right;\">\n",
       "      <th></th>\n",
       "      <th>user_id_idx</th>\n",
       "      <th>product_id_idx</th>\n",
       "      <th>category_id_idx</th>\n",
       "      <th>category_code_idx</th>\n",
       "      <th>brand_idx</th>\n",
       "      <th>event_type_idx</th>\n",
       "      <th>event_time</th>\n",
       "      <th>event_type</th>\n",
       "      <th>category_id</th>\n",
       "      <th>category_code</th>\n",
       "      <th>...</th>\n",
       "      <th>et_hour_sin</th>\n",
       "      <th>et_hour_cos</th>\n",
       "      <th>et_dayofweek_sin</th>\n",
       "      <th>et_dayofweek_cos</th>\n",
       "      <th>et_dayofmonth_sin</th>\n",
       "      <th>et_dayofmonth_cos</th>\n",
       "      <th>et_month_sin</th>\n",
       "      <th>et_month_cos</th>\n",
       "      <th>avg_category_id_prices</th>\n",
       "      <th>price_log_norm</th>\n",
       "    </tr>\n",
       "  </thead>\n",
       "  <tbody>\n",
       "    <tr>\n",
       "      <th>0</th>\n",
       "      <td>1174806</td>\n",
       "      <td>163410</td>\n",
       "      <td>504</td>\n",
       "      <td>1</td>\n",
       "      <td>2608</td>\n",
       "      <td>3</td>\n",
       "      <td>2019-10-01 16:00:24 UTC</td>\n",
       "      <td>view</td>\n",
       "      <td>2126679654801604876</td>\n",
       "      <td>accessories.bag</td>\n",
       "      <td>...</td>\n",
       "      <td>-0.866026</td>\n",
       "      <td>-0.499999</td>\n",
       "      <td>0.974928</td>\n",
       "      <td>-0.222522</td>\n",
       "      <td>-0.101169</td>\n",
       "      <td>-0.994869</td>\n",
       "      <td>0.500000</td>\n",
       "      <td>0.866025</td>\n",
       "      <td>18.227099</td>\n",
       "      <td>-2.511035</td>\n",
       "    </tr>\n",
       "    <tr>\n",
       "      <th>1</th>\n",
       "      <td>2006121</td>\n",
       "      <td>126257</td>\n",
       "      <td>273</td>\n",
       "      <td>0</td>\n",
       "      <td>1846</td>\n",
       "      <td>3</td>\n",
       "      <td>2019-10-01 17:50:25 UTC</td>\n",
       "      <td>view</td>\n",
       "      <td>2053013563550729061</td>\n",
       "      <td>&lt;NA&gt;</td>\n",
       "      <td>...</td>\n",
       "      <td>-0.965926</td>\n",
       "      <td>-0.258819</td>\n",
       "      <td>0.974928</td>\n",
       "      <td>-0.222522</td>\n",
       "      <td>-0.299364</td>\n",
       "      <td>-0.954139</td>\n",
       "      <td>0.500000</td>\n",
       "      <td>0.866025</td>\n",
       "      <td>224.449294</td>\n",
       "      <td>0.456359</td>\n",
       "    </tr>\n",
       "    <tr>\n",
       "      <th>2</th>\n",
       "      <td>683589</td>\n",
       "      <td>91653</td>\n",
       "      <td>225</td>\n",
       "      <td>97</td>\n",
       "      <td>0</td>\n",
       "      <td>3</td>\n",
       "      <td>2019-10-01 15:57:26 UTC</td>\n",
       "      <td>view</td>\n",
       "      <td>2053013561579406073</td>\n",
       "      <td>electronics.clocks</td>\n",
       "      <td>...</td>\n",
       "      <td>-0.707107</td>\n",
       "      <td>-0.707107</td>\n",
       "      <td>0.974928</td>\n",
       "      <td>-0.222522</td>\n",
       "      <td>0.101168</td>\n",
       "      <td>-0.994869</td>\n",
       "      <td>0.500000</td>\n",
       "      <td>0.866025</td>\n",
       "      <td>293.260562</td>\n",
       "      <td>-0.892912</td>\n",
       "    </tr>\n",
       "    <tr>\n",
       "      <th>3</th>\n",
       "      <td>1853381</td>\n",
       "      <td>26927</td>\n",
       "      <td>197</td>\n",
       "      <td>114</td>\n",
       "      <td>649</td>\n",
       "      <td>3</td>\n",
       "      <td>2019-10-02 13:38:57 UTC</td>\n",
       "      <td>view</td>\n",
       "      <td>2053013560346280633</td>\n",
       "      <td>kids.carriage</td>\n",
       "      <td>...</td>\n",
       "      <td>-0.258819</td>\n",
       "      <td>-0.965926</td>\n",
       "      <td>0.433883</td>\n",
       "      <td>-0.900969</td>\n",
       "      <td>0.485302</td>\n",
       "      <td>-0.874347</td>\n",
       "      <td>0.866026</td>\n",
       "      <td>0.500000</td>\n",
       "      <td>213.358342</td>\n",
       "      <td>-0.554439</td>\n",
       "    </tr>\n",
       "    <tr>\n",
       "      <th>4</th>\n",
       "      <td>59077</td>\n",
       "      <td>848</td>\n",
       "      <td>85</td>\n",
       "      <td>98</td>\n",
       "      <td>2701</td>\n",
       "      <td>3</td>\n",
       "      <td>2019-10-01 14:43:32 UTC</td>\n",
       "      <td>view</td>\n",
       "      <td>2053013555631882655</td>\n",
       "      <td>electronics.smartphone</td>\n",
       "      <td>...</td>\n",
       "      <td>-0.500000</td>\n",
       "      <td>-0.866025</td>\n",
       "      <td>0.974928</td>\n",
       "      <td>-0.222522</td>\n",
       "      <td>0.299363</td>\n",
       "      <td>-0.954139</td>\n",
       "      <td>0.500000</td>\n",
       "      <td>0.866025</td>\n",
       "      <td>503.092535</td>\n",
       "      <td>0.440936</td>\n",
       "    </tr>\n",
       "  </tbody>\n",
       "</table>\n",
       "<p>5 rows × 33 columns</p>\n",
       "</div>"
      ],
      "text/plain": [
       "   user_id_idx  product_id_idx  category_id_idx  category_code_idx  brand_idx  \\\n",
       "0      1174806          163410              504                  1       2608   \n",
       "1      2006121          126257              273                  0       1846   \n",
       "2       683589           91653              225                 97          0   \n",
       "3      1853381           26927              197                114        649   \n",
       "4        59077             848               85                 98       2701   \n",
       "\n",
       "   event_type_idx               event_time event_type          category_id  \\\n",
       "0               3  2019-10-01 16:00:24 UTC       view  2126679654801604876   \n",
       "1               3  2019-10-01 17:50:25 UTC       view  2053013563550729061   \n",
       "2               3  2019-10-01 15:57:26 UTC       view  2053013561579406073   \n",
       "3               3  2019-10-02 13:38:57 UTC       view  2053013560346280633   \n",
       "4               3  2019-10-01 14:43:32 UTC       view  2053013555631882655   \n",
       "\n",
       "            category_code  ... et_hour_sin  et_hour_cos  et_dayofweek_sin  \\\n",
       "0         accessories.bag  ...   -0.866026    -0.499999          0.974928   \n",
       "1                    <NA>  ...   -0.965926    -0.258819          0.974928   \n",
       "2      electronics.clocks  ...   -0.707107    -0.707107          0.974928   \n",
       "3           kids.carriage  ...   -0.258819    -0.965926          0.433883   \n",
       "4  electronics.smartphone  ...   -0.500000    -0.866025          0.974928   \n",
       "\n",
       "   et_dayofweek_cos  et_dayofmonth_sin  et_dayofmonth_cos  et_month_sin  \\\n",
       "0         -0.222522          -0.101169          -0.994869      0.500000   \n",
       "1         -0.222522          -0.299364          -0.954139      0.500000   \n",
       "2         -0.222522           0.101168          -0.994869      0.500000   \n",
       "3         -0.900969           0.485302          -0.874347      0.866026   \n",
       "4         -0.222522           0.299363          -0.954139      0.500000   \n",
       "\n",
       "   et_month_cos  avg_category_id_prices  price_log_norm  \n",
       "0      0.866025               18.227099       -2.511035  \n",
       "1      0.866025              224.449294        0.456359  \n",
       "2      0.866025              293.260562       -0.892912  \n",
       "3      0.500000              213.358342       -0.554439  \n",
       "4      0.866025              503.092535        0.440936  \n",
       "\n",
       "[5 rows x 33 columns]"
      ]
     },
     "execution_count": 53,
     "metadata": {},
     "output_type": "execute_result"
    }
   ],
   "source": [
    "df_indexed.head()"
   ]
  },
  {
   "cell_type": "markdown",
   "metadata": {},
   "source": [
    "### Analyze categorical statistics"
   ]
  },
  {
   "cell_type": "code",
   "execution_count": 99,
   "metadata": {},
   "outputs": [],
   "source": [
    "#Relative Price to the average price for the category_id\n",
    "avg_category_id_prices_df = df_indexed.groupBy('category_id').agg(F.mean('price').alias('avg_category_id_price'))\n",
    "df_indexed = df_indexed.join(avg_category_id_prices_df, on='category_id', how='inner') \\\n",
    "        .withColumn('relative_price_to_avg_category_id', (F.col('price') - F.col('avg_category_id_price')) / F.col('avg_category_id_price'))"
   ]
  },
  {
   "cell_type": "code",
   "execution_count": 100,
   "metadata": {},
   "outputs": [],
   "source": [
    "#_df_sb_a.groupBy('product_id').agg(F.stddev('price').alias('std')).where(~F.isnan('std')).agg(F.mean('std')).show()"
   ]
  },
  {
   "cell_type": "code",
   "execution_count": 101,
   "metadata": {},
   "outputs": [],
   "source": [
    "#_df_sb_a.groupBy('category_id').agg(F.stddev('price').alias('std')).where(~F.isnan('std')).agg(F.mean('std')).show()"
   ]
  },
  {
   "cell_type": "code",
   "execution_count": 102,
   "metadata": {},
   "outputs": [],
   "source": [
    "#_df_sb_a.groupBy('category_code').agg(F.stddev('price').alias('std')).agg(F.mean('std')).show()"
   ]
  },
  {
   "cell_type": "code",
   "execution_count": 103,
   "metadata": {},
   "outputs": [
    {
     "data": {
      "text/plain": [
       "[('category_id', 'bigint'),\n",
       " ('product_id', 'int'),\n",
       " ('event_time', 'string'),\n",
       " ('event_type', 'string'),\n",
       " ('category_code', 'string'),\n",
       " ('brand', 'string'),\n",
       " ('price', 'double'),\n",
       " ('user_session', 'string'),\n",
       " ('event_time_dt', 'timestamp'),\n",
       " ('event_time_ts', 'bigint'),\n",
       " ('user_id', 'int'),\n",
       " ('product_idx', 'int'),\n",
       " ('category_sub_idx', 'int'),\n",
       " ('category_code_idx', 'int'),\n",
       " ('brand_idx', 'int'),\n",
       " ('event_type_idx', 'int'),\n",
       " ('user_idx', 'int'),\n",
       " ('et_hour', 'int'),\n",
       " ('et_dayofweek', 'int'),\n",
       " ('et_dayofmonth', 'int'),\n",
       " ('et_month', 'int'),\n",
       " ('et_hour_sin', 'float'),\n",
       " ('et_hour_cos', 'float'),\n",
       " ('et_dayofweek_sin', 'float'),\n",
       " ('et_dayofweek_cos', 'float'),\n",
       " ('et_dayofmonth_sin', 'float'),\n",
       " ('et_dayofmonth_cos', 'float'),\n",
       " ('et_month_sin', 'float'),\n",
       " ('et_month_cos', 'float'),\n",
       " ('prod_first_event_time_ts', 'bigint'),\n",
       " ('product_recency_days', 'double'),\n",
       " ('product_recency_days_log', 'double'),\n",
       " ('price_log', 'double'),\n",
       " ('avg_category_id_price', 'double'),\n",
       " ('relative_price_to_avg_category_id', 'double')]"
      ]
     },
     "execution_count": 103,
     "metadata": {},
     "output_type": "execute_result"
    }
   ],
   "source": [
    "df_indexed.dtypes"
   ]
  },
  {
   "cell_type": "markdown",
   "metadata": {},
   "source": [
    "### Normalize Continuous Features"
   ]
  },
  {
   "cell_type": "markdown",
   "metadata": {},
   "source": [
    "#### Price (log)"
   ]
  },
  {
   "cell_type": "code",
   "execution_count": 104,
   "metadata": {},
   "outputs": [
    {
     "name": "stdout",
     "output_type": "stream",
     "text": [
      "4.985035180576169 1.2631603275977517\n",
      "CPU times: user 10.4 ms, sys: 9.86 ms, total: 20.2 ms\n",
      "Wall time: 1min 35s\n"
     ]
    }
   ],
   "source": [
    "%%time\n",
    "price_log_mean, price_log_std = tuple(df_indexed.agg(F.mean('price_log'), F.stddev('price_log')).take(1)[0])\n",
    "print(price_log_mean, price_log_std)"
   ]
  },
  {
   "cell_type": "code",
   "execution_count": 105,
   "metadata": {},
   "outputs": [],
   "source": [
    "#Z-norm\n",
    "df_indexed = df_indexed.withColumn('price_log_norm', (F.col('price_log') - price_log_mean) / price_log_std)"
   ]
  },
  {
   "cell_type": "markdown",
   "metadata": {},
   "source": [
    "#### Elapsed days (log)"
   ]
  },
  {
   "cell_type": "code",
   "execution_count": 106,
   "metadata": {},
   "outputs": [
    {
     "name": "stdout",
     "output_type": "stream",
     "text": [
      "2.4707174040997737 0.8161943934923657\n",
      "CPU times: user 1.96 ms, sys: 18.1 ms, total: 20 ms\n",
      "Wall time: 1min 20s\n"
     ]
    }
   ],
   "source": [
    "%%time\n",
    "product_recency_days_log_mean, product_recency_days_log_std = tuple(df_indexed.agg(F.mean('product_recency_days_log'), F.stddev('product_recency_days_log')).take(1)[0])\n",
    "print(product_recency_days_log_mean, product_recency_days_log_std)"
   ]
  },
  {
   "cell_type": "code",
   "execution_count": 107,
   "metadata": {},
   "outputs": [],
   "source": [
    "#Z-norm\n",
    "df_indexed = df_indexed.withColumn('product_recency_days_log_norm', (F.col('product_recency_days_log') - product_recency_days_log_mean) / product_recency_days_log_std)"
   ]
  },
  {
   "cell_type": "code",
   "execution_count": 108,
   "metadata": {},
   "outputs": [
    {
     "data": {
      "text/plain": [
       "23312920"
      ]
     },
     "execution_count": 108,
     "metadata": {},
     "output_type": "execute_result"
    }
   ],
   "source": [
    "df_indexed.count()"
   ]
  },
  {
   "cell_type": "markdown",
   "metadata": {},
   "source": [
    "## Computing elapsed time since last interaction (on non-repeated items)"
   ]
  },
  {
   "cell_type": "code",
   "execution_count": 110,
   "metadata": {},
   "outputs": [],
   "source": [
    "user_window = Window.partitionBy('user_idx').orderBy('event_time_ts')"
   ]
  },
  {
   "cell_type": "code",
   "execution_count": 111,
   "metadata": {},
   "outputs": [],
   "source": [
    "df_indexed = df_indexed.withColumn('prev_event_time_ts', F.lag('event_time_ts').over(user_window)) \\\n",
    "                            .withColumn('delta_event_secs',F.when(F.isnull(F.col('prev_event_time_ts')), 0) \\\n",
    "                                                            .otherwise(F.col('event_time_ts') - F.col('prev_event_time_ts'))) \\\n",
    "                            .withColumn('delta_event_secs_log', F.log1p('delta_event_secs'))"
   ]
  },
  {
   "cell_type": "code",
   "execution_count": 112,
   "metadata": {},
   "outputs": [
    {
     "name": "stdout",
     "output_type": "stream",
     "text": [
      "4.783448763418383 3.492059719833784\n",
      "CPU times: user 3.88 ms, sys: 16.6 ms, total: 20.5 ms\n",
      "Wall time: 1min 21s\n"
     ]
    }
   ],
   "source": [
    "%%time\n",
    "session_delta_time_mean, session_delta_time_std = tuple(df_indexed.agg(\n",
    "                            F.mean('delta_event_secs_log').alias('delta_event_secs_log_mean'),\n",
    "                            F.stddev('delta_event_secs_log').alias('delta_event_secs_log_std')).take(1)[0])\n",
    "print(session_delta_time_mean, session_delta_time_std)\n",
    "\n",
    "#Z-norm\n",
    "df_indexed = df_indexed.withColumn('delta_event_secs_log_norm', (F.col('delta_event_secs_log') - session_delta_time_mean) / session_delta_time_std)"
   ]
  },
  {
   "cell_type": "code",
   "execution_count": 113,
   "metadata": {},
   "outputs": [
    {
     "name": "stdout",
     "output_type": "stream",
     "text": [
      "root\n",
      " |-- category_id: long (nullable = true)\n",
      " |-- product_id: integer (nullable = true)\n",
      " |-- event_time: string (nullable = true)\n",
      " |-- event_type: string (nullable = true)\n",
      " |-- category_code: string (nullable = true)\n",
      " |-- brand: string (nullable = true)\n",
      " |-- price: double (nullable = true)\n",
      " |-- user_session: string (nullable = true)\n",
      " |-- event_time_dt: timestamp (nullable = true)\n",
      " |-- event_time_ts: long (nullable = true)\n",
      " |-- user_id: integer (nullable = true)\n",
      " |-- product_idx: integer (nullable = true)\n",
      " |-- category_sub_idx: integer (nullable = true)\n",
      " |-- category_code_idx: integer (nullable = true)\n",
      " |-- brand_idx: integer (nullable = true)\n",
      " |-- event_type_idx: integer (nullable = true)\n",
      " |-- user_idx: integer (nullable = true)\n",
      " |-- et_hour: integer (nullable = true)\n",
      " |-- et_dayofweek: integer (nullable = true)\n",
      " |-- et_dayofmonth: integer (nullable = true)\n",
      " |-- et_month: integer (nullable = true)\n",
      " |-- et_hour_sin: float (nullable = true)\n",
      " |-- et_hour_cos: float (nullable = true)\n",
      " |-- et_dayofweek_sin: float (nullable = true)\n",
      " |-- et_dayofweek_cos: float (nullable = true)\n",
      " |-- et_dayofmonth_sin: float (nullable = true)\n",
      " |-- et_dayofmonth_cos: float (nullable = true)\n",
      " |-- et_month_sin: float (nullable = true)\n",
      " |-- et_month_cos: float (nullable = true)\n",
      " |-- prod_first_event_time_ts: long (nullable = true)\n",
      " |-- product_recency_days: double (nullable = true)\n",
      " |-- product_recency_days_log: double (nullable = true)\n",
      " |-- price_log: double (nullable = true)\n",
      " |-- avg_category_id_price: double (nullable = true)\n",
      " |-- relative_price_to_avg_category_id: double (nullable = true)\n",
      " |-- price_log_norm: double (nullable = true)\n",
      " |-- product_recency_days_log_norm: double (nullable = true)\n",
      " |-- prev_event_time_ts: long (nullable = true)\n",
      " |-- delta_event_secs: long (nullable = true)\n",
      " |-- delta_event_secs_log: double (nullable = true)\n",
      " |-- delta_event_secs_log_norm: double (nullable = true)\n",
      "\n"
     ]
    }
   ],
   "source": [
    "df_indexed.printSchema()"
   ]
  },
  {
   "cell_type": "markdown",
   "metadata": {},
   "source": [
    "## Processing sessions sequences"
   ]
  },
  {
   "cell_type": "markdown",
   "metadata": {},
   "source": [
    "#### Aggregate by session id (create sequence as type of array)"
   ]
  },
  {
   "cell_type": "code",
   "execution_count": 114,
   "metadata": {},
   "outputs": [],
   "source": [
    "session_window = Window.partitionBy('user_session').orderBy('event_time_ts')"
   ]
  },
  {
   "cell_type": "code",
   "execution_count": 115,
   "metadata": {},
   "outputs": [],
   "source": [
    "def get_non_repeated_items(values):\n",
    "    #Returns unique items, keep the order of their first occurence\n",
    "    result = []\n",
    "    for v in values:\n",
    "        if v not in result:\n",
    "            result.append(v)\n",
    "    return result\n",
    "\n",
    "@udf(returnType=ArrayType(IntegerType()))\n",
    "def get_non_repeated_items_integer_udf(values):\n",
    "    result = get_non_repeated_items(values)\n",
    "    result = list([int(x) for x in result])\n",
    "    return result\n",
    "\n",
    "#########################################\n",
    "\n",
    "def get_non_repeated_additional_items(item_ids, additional_feature_values):\n",
    "    #Returns unique items, keep the order of their first occurence\n",
    "    ids = []\n",
    "    result = []\n",
    "    for i, v in zip(item_ids, additional_feature_values):\n",
    "        if i not in ids:\n",
    "            ids.append(i)\n",
    "            result.append(v)\n",
    "    return result\n",
    "\n",
    "@udf(returnType=ArrayType(IntegerType()))\n",
    "def get_non_repeated_additional_items_integer_udf(item_ids, additional_feature_values):\n",
    "    result = get_non_repeated_additional_items(item_ids, additional_feature_values)\n",
    "    result = list([int(x) for x in result])\n",
    "    return result\n",
    "\n",
    "@udf(returnType=ArrayType(FloatType()))\n",
    "def get_non_repeated_additional_items_float_udf(item_ids, additional_feature_values):\n",
    "    result =  get_non_repeated_additional_items(item_ids, additional_feature_values)\n",
    "    result = list([float(x) for x in result])\n",
    "    return result"
   ]
  },
  {
   "cell_type": "code",
   "execution_count": 116,
   "metadata": {},
   "outputs": [],
   "source": [
    "SESSIONS_MAX_LENGTH = 20"
   ]
  },
  {
   "cell_type": "code",
   "execution_count": 117,
   "metadata": {},
   "outputs": [],
   "source": [
    "df_sb_grouped_df = df_indexed \\\n",
    "                .select('user_idx', 'user_session', \n",
    "                        F.first('event_time_ts').over(session_window).alias('session_start_ts'),\n",
    "                        F.last('event_time_ts').over(session_window).alias('session_end_ts'),\n",
    "                        F.slice(F.collect_list('product_idx').over(session_window), 1, SESSIONS_MAX_LENGTH).alias('pid_seq_als'), \n",
    "                        F.slice(F.collect_list('event_time_ts').over(session_window), 1, SESSIONS_MAX_LENGTH).alias('etime_seq_als'),\n",
    "                        F.slice(F.collect_list('event_type_idx').over(session_window), 1, SESSIONS_MAX_LENGTH).alias('event_type_seq_als'), \n",
    "                        F.slice(F.collect_list('category_sub_idx').over(session_window), 1, SESSIONS_MAX_LENGTH).alias('csid_seq_als'),\n",
    "                        F.slice(F.collect_list('category_code_idx').over(session_window), 1, SESSIONS_MAX_LENGTH).alias('ccid_seq_als'),\n",
    "                        F.slice(F.collect_list('brand_idx').over(session_window), 1, SESSIONS_MAX_LENGTH).alias('bid_seq_als'),\n",
    "                        F.slice(F.collect_list('price_log_norm').over(session_window), 1, SESSIONS_MAX_LENGTH).alias('price_log_norm_seq_als'),                    \n",
    "                        F.slice(F.collect_list('delta_event_secs').over(session_window), 1, SESSIONS_MAX_LENGTH).alias('dtime_secs_seq_als'),\n",
    "                        F.slice(F.collect_list('delta_event_secs_log_norm').over(session_window), 1, SESSIONS_MAX_LENGTH).alias('dtime_secs_log_norm_seq_als'),                     \n",
    "                        F.slice(F.collect_list('product_recency_days').over(session_window), 1, SESSIONS_MAX_LENGTH).alias('prod_recency_days_als'),\n",
    "                        F.slice(F.collect_list('product_recency_days_log_norm').over(session_window), 1, SESSIONS_MAX_LENGTH).alias('prod_recency_days_log_norm_als'),\n",
    "                        F.slice(F.collect_list('relative_price_to_avg_category_id').over(session_window), 1, SESSIONS_MAX_LENGTH).alias('relative_price_to_avg_category_als'),\n",
    "                        F.slice(F.collect_list('et_hour_sin').over(session_window), 1, SESSIONS_MAX_LENGTH).alias('et_hour_sin_seq_als'),\n",
    "                        F.slice(F.collect_list('et_hour_cos').over(session_window), 1, SESSIONS_MAX_LENGTH).alias('et_hour_cos_seq_als'),\n",
    "                        F.slice(F.collect_list('et_month_sin').over(session_window), 1, SESSIONS_MAX_LENGTH).alias('et_month_sin_seq_als'),\n",
    "                        F.slice(F.collect_list('et_month_cos').over(session_window), 1, SESSIONS_MAX_LENGTH).alias('et_month_cos_seq_als'),\n",
    "                        F.slice(F.collect_list('et_dayofweek_sin').over(session_window), 1, SESSIONS_MAX_LENGTH).alias('et_dayofweek_sin_seq_als'),\n",
    "                        F.slice(F.collect_list('et_dayofweek_cos').over(session_window), 1, SESSIONS_MAX_LENGTH).alias('et_dayofweek_cos_seq_als'),\n",
    "                        F.slice(F.collect_list('et_dayofmonth_sin').over(session_window), 1, SESSIONS_MAX_LENGTH).alias('et_dayofmonth_sin_seq_als'),\n",
    "                        F.slice(F.collect_list('et_dayofmonth_cos').over(session_window), 1, SESSIONS_MAX_LENGTH).alias('et_dayofmonth_cos_seq_als'),                        \n",
    "                       )\\\n",
    "                .groupBy('user_idx', 'user_session').agg(\n",
    "                    F.min('session_start_ts').alias('session_start_ts'),\n",
    "                    F.max('session_end_ts').alias('session_end_ts'),\n",
    "                    F.max('pid_seq_als').alias('sess_pid_seq'),\n",
    "                    F.max('etime_seq_als').alias('sess_etime_seq'),\n",
    "                    F.max('event_type_seq_als').alias('sess_etype_seq'),    \n",
    "                    F.max('csid_seq_als').alias('sess_csid_seq'),\n",
    "                    F.max('ccid_seq_als').alias('sess_ccid_seq'),\n",
    "                    F.max('bid_seq_als').alias('sess_bid_seq'),\n",
    "                    F.max('price_log_norm_seq_als').alias('sess_price_log_norm_seq'),        \n",
    "                    F.max('dtime_secs_seq_als').alias('sess_dtime_secs_seq'),\n",
    "                    F.max('dtime_secs_log_norm_seq_als').alias('sess_dtime_secs_log_norm_seq'),                    \n",
    "                    F.max('prod_recency_days_als').alias('sess_prod_recency_days_seq'),\n",
    "                    F.max('prod_recency_days_log_norm_als').alias('sess_prod_recency_days_log_norm_seq'),\n",
    "                    F.max('relative_price_to_avg_category_als').alias('sess_relative_price_to_avg_category_seq'),\n",
    "                    F.max('et_hour_sin_seq_als').alias('sess_et_hour_sin_seq'),\n",
    "                    F.max('et_hour_cos_seq_als').alias('sess_et_hour_cos_seq'),\n",
    "                    F.max('et_month_sin_seq_als').alias('sess_et_month_sin_seq'),\n",
    "                    F.max('et_month_cos_seq_als').alias('sess_et_month_cos_seq'),\n",
    "                    F.max('et_dayofweek_sin_seq_als').alias('sess_et_dayofweek_sin_seq'),\n",
    "                    F.max('et_dayofweek_cos_seq_als').alias('sess_et_dayofweek_cos_seq'),\n",
    "                    F.max('et_dayofmonth_sin_seq_als').alias('sess_et_dayofmonth_sin_seq'),\n",
    "                    F.max('et_dayofmonth_cos_seq_als').alias('sess_et_dayofmonth_cos_seq'),               \n",
    "                        )"
   ]
  },
  {
   "cell_type": "code",
   "execution_count": 118,
   "metadata": {},
   "outputs": [],
   "source": [
    "'''\n",
    "df_sb_grouped_nr_df = df_sb_grouped_df.select('user_idx', 'user_session', 'session_start_ts', 'session_end_ts',\n",
    "                        get_non_repeated_items_integer_udf('sess_pid_seq').alias('sess_pid_seq'),\n",
    "                        get_non_repeated_additional_items_integer_udf(F.col(\"sess_pid_seq\"), F.col('sess_etime_seq')).alias('sess_etime_seq'),\n",
    "                        get_non_repeated_additional_items_integer_udf(F.col(\"sess_pid_seq\"), F.col('sess_etype_seq')).alias('sess_etype_seq'),                        \n",
    "                        get_non_repeated_additional_items_integer_udf(F.col(\"sess_pid_seq\"), F.col('sess_csid_seq')).alias('sess_csid_seq'),\n",
    "                        get_non_repeated_additional_items_integer_udf(F.col(\"sess_pid_seq\"), F.col('sess_ccid_seq')).alias('sess_ccid_seq'),\n",
    "                        get_non_repeated_additional_items_integer_udf(F.col(\"sess_pid_seq\"), F.col('sess_bid_seq')).alias('sess_bid_seq'),\n",
    "                        get_non_repeated_additional_items_float_udf(F.col(\"sess_pid_seq\"), F.col('sess_price_log_norm_seq')).alias('sess_price_log_norm_seq'),                                              \n",
    "                        get_non_repeated_additional_items_float_udf(F.col(\"sess_pid_seq\"), F.col('sess_dtime_secs_seq')).alias('sess_dtime_secs_seq'),\n",
    "                        get_non_repeated_additional_items_float_udf(F.col(\"sess_pid_seq\"), F.col('sess_dtime_secs_log_norm_seq')).alias('sess_dtime_secs_log_norm_seq'),\n",
    "                        get_non_repeated_additional_items_float_udf(F.col(\"sess_pid_seq\"), F.col('sess_prod_recency_days_seq')).alias('sess_prod_recency_days_seq'),\n",
    "                        get_non_repeated_additional_items_float_udf(F.col(\"sess_pid_seq\"), F.col('sess_prod_recency_days_log_norm_seq')).alias('sess_prod_recency_days_log_norm_seq'),\n",
    "                        get_non_repeated_additional_items_float_udf(F.col(\"sess_pid_seq\"), F.col('sess_relative_price_to_avg_category_seq')).alias('sess_relative_price_to_avg_category_seq'),\n",
    "                        get_non_repeated_additional_items_float_udf(F.col(\"sess_pid_seq\"), F.col('sess_et_hour_sin_seq')).alias('sess_et_hour_sin_seq'),\n",
    "                        get_non_repeated_additional_items_float_udf(F.col(\"sess_pid_seq\"), F.col('sess_et_hour_cos_seq')).alias('sess_et_hour_cos_seq'),\n",
    "                        get_non_repeated_additional_items_float_udf(F.col(\"sess_pid_seq\"), F.col('sess_et_month_sin_seq')).alias('sess_et_month_sin_seq'),\n",
    "                        get_non_repeated_additional_items_float_udf(F.col(\"sess_pid_seq\"), F.col('sess_et_month_cos_seq')).alias('sess_et_month_cos_seq'),\n",
    "                        get_non_repeated_additional_items_float_udf(F.col(\"sess_pid_seq\"), F.col('sess_et_dayofweek_sin_seq')).alias('sess_et_dayofweek_sin_seq'),\n",
    "                        get_non_repeated_additional_items_float_udf(F.col(\"sess_pid_seq\"), F.col('sess_et_dayofweek_cos_seq')).alias('sess_et_dayofweek_cos_seq'),\n",
    "                        get_non_repeated_additional_items_float_udf(F.col(\"sess_pid_seq\"), F.col('sess_et_dayofmonth_sin_seq')).alias('sess_et_dayofmonth_sin_seq'),\n",
    "                        get_non_repeated_additional_items_float_udf(F.col(\"sess_pid_seq\"), F.col('sess_et_dayofmonth_cos_seq')).alias('sess_et_dayofmonth_cos_seq'),\n",
    "                       ) \\\n",
    "            .where(F.size('sess_pid_seq') >= 2) \\\n",
    "            .withColumn('sess_seq_len', F.size('sess_pid_seq'))\n",
    "'''            \n",
    "\n",
    "\n",
    "df_sb_grouped_nr_df = df_sb_grouped_df.select('user_idx', 'user_session', 'session_start_ts', 'session_end_ts',\n",
    "                        'sess_pid_seq', 'sess_etime_seq', 'sess_etype_seq', 'sess_csid_seq', 'sess_ccid_seq', 'sess_bid_seq', \n",
    "                        'sess_price_log_norm_seq', 'sess_dtime_secs_seq', 'sess_dtime_secs_log_norm_seq',\n",
    "                        'sess_prod_recency_days_seq', 'sess_prod_recency_days_log_norm_seq', 'sess_relative_price_to_avg_category_seq',\n",
    "                        'sess_et_hour_sin_seq', 'sess_et_hour_cos_seq', 'sess_et_month_sin_seq', 'sess_et_month_cos_seq',\n",
    "                        'sess_et_dayofweek_sin_seq', 'sess_et_dayofweek_cos_seq', 'sess_et_dayofmonth_sin_seq', 'sess_et_dayofmonth_cos_seq',\n",
    "                       ) \\\n",
    "            .where(F.size('sess_pid_seq') >= 2) \\\n",
    "            .withColumn('sess_seq_len', F.size('sess_pid_seq'))"
   ]
  },
  {
   "cell_type": "code",
   "execution_count": 119,
   "metadata": {},
   "outputs": [
    {
     "name": "stdout",
     "output_type": "stream",
     "text": [
      "root\n",
      " |-- user_idx: integer (nullable = true)\n",
      " |-- user_session: string (nullable = true)\n",
      " |-- session_start_ts: long (nullable = true)\n",
      " |-- session_end_ts: long (nullable = true)\n",
      " |-- sess_pid_seq: array (nullable = true)\n",
      " |    |-- element: integer (containsNull = true)\n",
      " |-- sess_etime_seq: array (nullable = true)\n",
      " |    |-- element: long (containsNull = true)\n",
      " |-- sess_etype_seq: array (nullable = true)\n",
      " |    |-- element: integer (containsNull = true)\n",
      " |-- sess_csid_seq: array (nullable = true)\n",
      " |    |-- element: integer (containsNull = true)\n",
      " |-- sess_ccid_seq: array (nullable = true)\n",
      " |    |-- element: integer (containsNull = true)\n",
      " |-- sess_bid_seq: array (nullable = true)\n",
      " |    |-- element: integer (containsNull = true)\n",
      " |-- sess_price_log_norm_seq: array (nullable = true)\n",
      " |    |-- element: double (containsNull = true)\n",
      " |-- sess_dtime_secs_seq: array (nullable = true)\n",
      " |    |-- element: long (containsNull = true)\n",
      " |-- sess_dtime_secs_log_norm_seq: array (nullable = true)\n",
      " |    |-- element: double (containsNull = true)\n",
      " |-- sess_prod_recency_days_seq: array (nullable = true)\n",
      " |    |-- element: double (containsNull = true)\n",
      " |-- sess_prod_recency_days_log_norm_seq: array (nullable = true)\n",
      " |    |-- element: double (containsNull = true)\n",
      " |-- sess_relative_price_to_avg_category_seq: array (nullable = true)\n",
      " |    |-- element: double (containsNull = true)\n",
      " |-- sess_et_hour_sin_seq: array (nullable = true)\n",
      " |    |-- element: float (containsNull = true)\n",
      " |-- sess_et_hour_cos_seq: array (nullable = true)\n",
      " |    |-- element: float (containsNull = true)\n",
      " |-- sess_et_month_sin_seq: array (nullable = true)\n",
      " |    |-- element: float (containsNull = true)\n",
      " |-- sess_et_month_cos_seq: array (nullable = true)\n",
      " |    |-- element: float (containsNull = true)\n",
      " |-- sess_et_dayofweek_sin_seq: array (nullable = true)\n",
      " |    |-- element: float (containsNull = true)\n",
      " |-- sess_et_dayofweek_cos_seq: array (nullable = true)\n",
      " |    |-- element: float (containsNull = true)\n",
      " |-- sess_et_dayofmonth_sin_seq: array (nullable = true)\n",
      " |    |-- element: float (containsNull = true)\n",
      " |-- sess_et_dayofmonth_cos_seq: array (nullable = true)\n",
      " |    |-- element: float (containsNull = true)\n",
      " |-- sess_seq_len: integer (nullable = false)\n",
      "\n"
     ]
    }
   ],
   "source": [
    "df_sb_grouped_nr_df.printSchema()"
   ]
  },
  {
   "cell_type": "code",
   "execution_count": 120,
   "metadata": {},
   "outputs": [],
   "source": [
    "percentiles = np.arange(0., 1.1, 0.1).tolist()+[0.95,0.99,0.999]"
   ]
  },
  {
   "cell_type": "code",
   "execution_count": 121,
   "metadata": {},
   "outputs": [
    {
     "data": {
      "text/plain": [
       "\"\\nsession_sizes_pdf = pd.DataFrame(zip(percentiles, \\n                                          df_sb_grouped_nr_df.approxQuantile('sess_seq_len', probabilities=percentiles, relativeError=0.00001)),\\n                                         columns=['percentile', 'session_sizes']).sort_values('percentile')\\nsession_sizes_pdf\\n\""
      ]
     },
     "execution_count": 121,
     "metadata": {},
     "output_type": "execute_result"
    }
   ],
   "source": [
    "'''\n",
    "session_sizes_pdf = pd.DataFrame(zip(percentiles, \n",
    "                                          df_sb_grouped_nr_df.approxQuantile('sess_seq_len', probabilities=percentiles, relativeError=0.00001)),\n",
    "                                         columns=['percentile', 'session_sizes']).sort_values('percentile')\n",
    "session_sizes_pdf\n",
    "'''"
   ]
  },
  {
   "cell_type": "code",
   "execution_count": 122,
   "metadata": {},
   "outputs": [
    {
     "name": "stdout",
     "output_type": "stream",
     "text": [
      "root\n",
      " |-- user_idx: integer (nullable = true)\n",
      " |-- user_session: string (nullable = true)\n",
      " |-- session_start_ts: long (nullable = true)\n",
      " |-- session_end_ts: long (nullable = true)\n",
      " |-- sess_pid_seq: array (nullable = true)\n",
      " |    |-- element: integer (containsNull = true)\n",
      " |-- sess_etime_seq: array (nullable = true)\n",
      " |    |-- element: long (containsNull = true)\n",
      " |-- sess_etype_seq: array (nullable = true)\n",
      " |    |-- element: integer (containsNull = true)\n",
      " |-- sess_csid_seq: array (nullable = true)\n",
      " |    |-- element: integer (containsNull = true)\n",
      " |-- sess_ccid_seq: array (nullable = true)\n",
      " |    |-- element: integer (containsNull = true)\n",
      " |-- sess_bid_seq: array (nullable = true)\n",
      " |    |-- element: integer (containsNull = true)\n",
      " |-- sess_price_log_norm_seq: array (nullable = true)\n",
      " |    |-- element: double (containsNull = true)\n",
      " |-- sess_dtime_secs_seq: array (nullable = true)\n",
      " |    |-- element: long (containsNull = true)\n",
      " |-- sess_dtime_secs_log_norm_seq: array (nullable = true)\n",
      " |    |-- element: double (containsNull = true)\n",
      " |-- sess_prod_recency_days_seq: array (nullable = true)\n",
      " |    |-- element: double (containsNull = true)\n",
      " |-- sess_prod_recency_days_log_norm_seq: array (nullable = true)\n",
      " |    |-- element: double (containsNull = true)\n",
      " |-- sess_relative_price_to_avg_category_seq: array (nullable = true)\n",
      " |    |-- element: double (containsNull = true)\n",
      " |-- sess_et_hour_sin_seq: array (nullable = true)\n",
      " |    |-- element: float (containsNull = true)\n",
      " |-- sess_et_hour_cos_seq: array (nullable = true)\n",
      " |    |-- element: float (containsNull = true)\n",
      " |-- sess_et_month_sin_seq: array (nullable = true)\n",
      " |    |-- element: float (containsNull = true)\n",
      " |-- sess_et_month_cos_seq: array (nullable = true)\n",
      " |    |-- element: float (containsNull = true)\n",
      " |-- sess_et_dayofweek_sin_seq: array (nullable = true)\n",
      " |    |-- element: float (containsNull = true)\n",
      " |-- sess_et_dayofweek_cos_seq: array (nullable = true)\n",
      " |    |-- element: float (containsNull = true)\n",
      " |-- sess_et_dayofmonth_sin_seq: array (nullable = true)\n",
      " |    |-- element: float (containsNull = true)\n",
      " |-- sess_et_dayofmonth_cos_seq: array (nullable = true)\n",
      " |    |-- element: float (containsNull = true)\n",
      " |-- sess_seq_len: integer (nullable = false)\n",
      "\n"
     ]
    }
   ],
   "source": [
    "df_sb_grouped_nr_df.printSchema()"
   ]
  },
  {
   "cell_type": "code",
   "execution_count": 123,
   "metadata": {},
   "outputs": [],
   "source": [
    "##Generating an example parquet file with sequences with different length (sparse) to test with NVT + PyTorch pipeline\n",
    "#df_sb_grouped_nr_df.withColumn('session_start_date', F.date_trunc('day', F.to_timestamp(F.col('session_start_ts'))).cast('string').substr(0,10).alias()) \\\n",
    "#            .repartition(F.col('session_start_date')) \\\n",
    "#                .write.partitionBy('session_start_date').parquet('/mount/workspace/transformers/data_sparse_example')"
   ]
  },
  {
   "cell_type": "markdown",
   "metadata": {},
   "source": [
    "## Processing user sequences"
   ]
  },
  {
   "cell_type": "code",
   "execution_count": 124,
   "metadata": {},
   "outputs": [],
   "source": [
    "MAX_LENGTH_USER_SEQUENCE_BEFORE_SESSION = 20"
   ]
  },
  {
   "cell_type": "markdown",
   "metadata": {},
   "source": [
    "#### Delta time between user clicks (secs)"
   ]
  },
  {
   "cell_type": "code",
   "execution_count": 125,
   "metadata": {},
   "outputs": [],
   "source": [
    "df_user_seq_grouped_df = df_indexed \\\n",
    "                .select('user_idx',  \n",
    "                        F.collect_list('user_session').over(user_window).alias('session_seq_als'),\n",
    "                        F.collect_list('product_idx').over(user_window).alias('pid_seq_als'), \n",
    "                        F.collect_list('event_time_ts').over(user_window).alias('etime_seq_als'),\n",
    "                        F.collect_list('event_type_idx').over(user_window).alias('event_type_seq_als'), \n",
    "                        F.collect_list('category_sub_idx').over(user_window).alias('csid_seq_als'),\n",
    "                        F.collect_list('category_code_idx').over(user_window).alias('ccid_seq_als'),\n",
    "                        F.collect_list('brand_idx').over(user_window).alias('bid_seq_als'),\n",
    "                        F.collect_list('price_log_norm').over(user_window).alias('price_log_seq_als'),\n",
    "                        \n",
    "                        F.collect_list('delta_event_secs').over(session_window).alias('dtime_secs_seq_als'),\n",
    "                        F.collect_list('delta_event_secs_log_norm').over(session_window).alias('dtime_secs_log_norm_seq_als'),                     \n",
    "                        F.collect_list('product_recency_days').over(session_window).alias('prod_recency_days_als'),\n",
    "                        F.collect_list('product_recency_days_log_norm').over(session_window).alias('prod_recency_days_log_norm_als'),\n",
    "                                        \n",
    "                        F.collect_list('relative_price_to_avg_category_id').over(user_window).alias('relative_price_to_avg_category_als'),\n",
    "                        F.collect_list('et_hour_sin').over(user_window).alias('et_hour_sin_seq_als'),\n",
    "                        F.collect_list('et_hour_cos').over(user_window).alias('et_hour_cos_seq_als'),\n",
    "                        F.collect_list('et_month_sin').over(user_window).alias('et_month_sin_seq_als'),\n",
    "                        F.collect_list('et_month_cos').over(user_window).alias('et_month_cos_seq_als'),\n",
    "                        F.collect_list('et_dayofweek_sin').over(user_window).alias('et_dayofweek_sin_seq_als'),\n",
    "                        F.collect_list('et_dayofweek_cos').over(user_window).alias('et_dayofweek_cos_seq_als'),\n",
    "                        F.collect_list('et_dayofmonth_sin').over(user_window).alias('et_dayofmonth_sin_seq_als'),\n",
    "                        F.collect_list('et_dayofmonth_cos').over(user_window).alias('et_dayofmonth_cos_seq_als'),                     \n",
    "                       )\\\n",
    "                .groupBy('user_idx').agg(\n",
    "                    F.max('session_seq_als').alias('user_session_seq'),\n",
    "                    F.max('pid_seq_als').alias('user_pid_seq'),\n",
    "                    F.max('etime_seq_als').alias('user_etime_seq'),\n",
    "                    F.max('event_type_seq_als').alias('user_etype_seq'),    \n",
    "                    F.max('csid_seq_als').alias('user_csid_seq'),\n",
    "                    F.max('ccid_seq_als').alias('user_ccid_seq'),\n",
    "                    F.max('bid_seq_als').alias('user_bid_seq'),\n",
    "                    F.max('price_log_seq_als').alias('user_price_log_seq'),  \n",
    "    \n",
    "                    F.max('dtime_secs_seq_als').alias('user_dtime_secs_seq'),\n",
    "                    F.max('dtime_secs_log_norm_seq_als').alias('user_dtime_secs_log_norm_seq'),\n",
    "                    F.max('prod_recency_days_als').alias('user_prod_recency_days_seq'),\n",
    "                    F.max('prod_recency_days_log_norm_als').alias('user_prod_recency_days_log_norm_seq'),\n",
    "    \n",
    "                    F.max('relative_price_to_avg_category_als').alias('user_relative_price_to_avg_category_seq'),\n",
    "                    F.max('et_hour_sin_seq_als').alias('user_et_hour_sin_seq'),\n",
    "                    F.max('et_hour_cos_seq_als').alias('user_et_hour_cos_seq'),\n",
    "                    F.max('et_month_sin_seq_als').alias('user_et_month_sin_seq'),\n",
    "                    F.max('et_month_cos_seq_als').alias('user_et_month_cos_seq'),\n",
    "                    F.max('et_dayofweek_sin_seq_als').alias('user_et_dayofweek_sin_seq'),\n",
    "                    F.max('et_dayofweek_cos_seq_als').alias('user_et_dayofweek_cos_seq'),\n",
    "                    F.max('et_dayofmonth_sin_seq_als').alias('user_et_dayofmonth_sin_seq'),\n",
    "                    F.max('et_dayofmonth_cos_seq_als').alias('user_et_dayofmonth_cos_seq'),               \n",
    "                        )"
   ]
  },
  {
   "cell_type": "code",
   "execution_count": 126,
   "metadata": {},
   "outputs": [
    {
     "name": "stdout",
     "output_type": "stream",
     "text": [
      "root\n",
      " |-- user_idx: integer (nullable = true)\n",
      " |-- user_session_seq: array (nullable = true)\n",
      " |    |-- element: string (containsNull = true)\n",
      " |-- user_pid_seq: array (nullable = true)\n",
      " |    |-- element: integer (containsNull = true)\n",
      " |-- user_etime_seq: array (nullable = true)\n",
      " |    |-- element: long (containsNull = true)\n",
      " |-- user_etype_seq: array (nullable = true)\n",
      " |    |-- element: integer (containsNull = true)\n",
      " |-- user_csid_seq: array (nullable = true)\n",
      " |    |-- element: integer (containsNull = true)\n",
      " |-- user_ccid_seq: array (nullable = true)\n",
      " |    |-- element: integer (containsNull = true)\n",
      " |-- user_bid_seq: array (nullable = true)\n",
      " |    |-- element: integer (containsNull = true)\n",
      " |-- user_price_log_seq: array (nullable = true)\n",
      " |    |-- element: double (containsNull = true)\n",
      " |-- user_dtime_secs_seq: array (nullable = true)\n",
      " |    |-- element: long (containsNull = true)\n",
      " |-- user_dtime_secs_log_norm_seq: array (nullable = true)\n",
      " |    |-- element: double (containsNull = true)\n",
      " |-- user_prod_recency_days_seq: array (nullable = true)\n",
      " |    |-- element: double (containsNull = true)\n",
      " |-- user_prod_recency_days_log_norm_seq: array (nullable = true)\n",
      " |    |-- element: double (containsNull = true)\n",
      " |-- user_relative_price_to_avg_category_seq: array (nullable = true)\n",
      " |    |-- element: double (containsNull = true)\n",
      " |-- user_et_hour_sin_seq: array (nullable = true)\n",
      " |    |-- element: float (containsNull = true)\n",
      " |-- user_et_hour_cos_seq: array (nullable = true)\n",
      " |    |-- element: float (containsNull = true)\n",
      " |-- user_et_month_sin_seq: array (nullable = true)\n",
      " |    |-- element: float (containsNull = true)\n",
      " |-- user_et_month_cos_seq: array (nullable = true)\n",
      " |    |-- element: float (containsNull = true)\n",
      " |-- user_et_dayofweek_sin_seq: array (nullable = true)\n",
      " |    |-- element: float (containsNull = true)\n",
      " |-- user_et_dayofweek_cos_seq: array (nullable = true)\n",
      " |    |-- element: float (containsNull = true)\n",
      " |-- user_et_dayofmonth_sin_seq: array (nullable = true)\n",
      " |    |-- element: float (containsNull = true)\n",
      " |-- user_et_dayofmonth_cos_seq: array (nullable = true)\n",
      " |    |-- element: float (containsNull = true)\n",
      "\n"
     ]
    }
   ],
   "source": [
    "df_user_seq_grouped_df.printSchema()"
   ]
  },
  {
   "cell_type": "code",
   "execution_count": 127,
   "metadata": {},
   "outputs": [
    {
     "data": {
      "text/plain": [
       "['user_idx',\n",
       " 'user_session',\n",
       " 'session_start_ts',\n",
       " 'session_end_ts',\n",
       " 'sess_pid_seq',\n",
       " 'sess_etime_seq',\n",
       " 'sess_etype_seq',\n",
       " 'sess_csid_seq',\n",
       " 'sess_ccid_seq',\n",
       " 'sess_bid_seq',\n",
       " 'sess_price_log_norm_seq',\n",
       " 'sess_dtime_secs_seq',\n",
       " 'sess_dtime_secs_log_norm_seq',\n",
       " 'sess_prod_recency_days_seq',\n",
       " 'sess_prod_recency_days_log_norm_seq',\n",
       " 'sess_relative_price_to_avg_category_seq',\n",
       " 'sess_et_hour_sin_seq',\n",
       " 'sess_et_hour_cos_seq',\n",
       " 'sess_et_month_sin_seq',\n",
       " 'sess_et_month_cos_seq',\n",
       " 'sess_et_dayofweek_sin_seq',\n",
       " 'sess_et_dayofweek_cos_seq',\n",
       " 'sess_et_dayofmonth_sin_seq',\n",
       " 'sess_et_dayofmonth_cos_seq',\n",
       " 'sess_seq_len']"
      ]
     },
     "execution_count": 127,
     "metadata": {},
     "output_type": "execute_result"
    }
   ],
   "source": [
    "df_sb_grouped_nr_df.columns"
   ]
  },
  {
   "cell_type": "markdown",
   "metadata": {},
   "source": [
    "### Joining users and sessions sequences"
   ]
  },
  {
   "cell_type": "code",
   "execution_count": 128,
   "metadata": {},
   "outputs": [],
   "source": [
    "df_user_seq_grouped_df = df_user_seq_grouped_df.withColumnRenamed('user_idx', 'user_idx2')\n",
    "users_and_session_seq_joined_df = df_sb_grouped_nr_df \\\n",
    "                .join(df_user_seq_grouped_df,\n",
    "                      on=(df_sb_grouped_nr_df['user_idx'] == df_user_seq_grouped_df['user_idx2']), how='inner') \\\n",
    "                .drop(F.col('user_idx2'))"
   ]
  },
  {
   "cell_type": "code",
   "execution_count": 129,
   "metadata": {},
   "outputs": [
    {
     "name": "stdout",
     "output_type": "stream",
     "text": [
      "root\n",
      " |-- user_idx: integer (nullable = true)\n",
      " |-- user_session: string (nullable = true)\n",
      " |-- session_start_ts: long (nullable = true)\n",
      " |-- session_end_ts: long (nullable = true)\n",
      " |-- sess_pid_seq: array (nullable = true)\n",
      " |    |-- element: integer (containsNull = true)\n",
      " |-- sess_etime_seq: array (nullable = true)\n",
      " |    |-- element: long (containsNull = true)\n",
      " |-- sess_etype_seq: array (nullable = true)\n",
      " |    |-- element: integer (containsNull = true)\n",
      " |-- sess_csid_seq: array (nullable = true)\n",
      " |    |-- element: integer (containsNull = true)\n",
      " |-- sess_ccid_seq: array (nullable = true)\n",
      " |    |-- element: integer (containsNull = true)\n",
      " |-- sess_bid_seq: array (nullable = true)\n",
      " |    |-- element: integer (containsNull = true)\n",
      " |-- sess_price_log_norm_seq: array (nullable = true)\n",
      " |    |-- element: double (containsNull = true)\n",
      " |-- sess_dtime_secs_seq: array (nullable = true)\n",
      " |    |-- element: long (containsNull = true)\n",
      " |-- sess_dtime_secs_log_norm_seq: array (nullable = true)\n",
      " |    |-- element: double (containsNull = true)\n",
      " |-- sess_prod_recency_days_seq: array (nullable = true)\n",
      " |    |-- element: double (containsNull = true)\n",
      " |-- sess_prod_recency_days_log_norm_seq: array (nullable = true)\n",
      " |    |-- element: double (containsNull = true)\n",
      " |-- sess_relative_price_to_avg_category_seq: array (nullable = true)\n",
      " |    |-- element: double (containsNull = true)\n",
      " |-- sess_et_hour_sin_seq: array (nullable = true)\n",
      " |    |-- element: float (containsNull = true)\n",
      " |-- sess_et_hour_cos_seq: array (nullable = true)\n",
      " |    |-- element: float (containsNull = true)\n",
      " |-- sess_et_month_sin_seq: array (nullable = true)\n",
      " |    |-- element: float (containsNull = true)\n",
      " |-- sess_et_month_cos_seq: array (nullable = true)\n",
      " |    |-- element: float (containsNull = true)\n",
      " |-- sess_et_dayofweek_sin_seq: array (nullable = true)\n",
      " |    |-- element: float (containsNull = true)\n",
      " |-- sess_et_dayofweek_cos_seq: array (nullable = true)\n",
      " |    |-- element: float (containsNull = true)\n",
      " |-- sess_et_dayofmonth_sin_seq: array (nullable = true)\n",
      " |    |-- element: float (containsNull = true)\n",
      " |-- sess_et_dayofmonth_cos_seq: array (nullable = true)\n",
      " |    |-- element: float (containsNull = true)\n",
      " |-- sess_seq_len: integer (nullable = false)\n",
      " |-- user_session_seq: array (nullable = true)\n",
      " |    |-- element: string (containsNull = true)\n",
      " |-- user_pid_seq: array (nullable = true)\n",
      " |    |-- element: integer (containsNull = true)\n",
      " |-- user_etime_seq: array (nullable = true)\n",
      " |    |-- element: long (containsNull = true)\n",
      " |-- user_etype_seq: array (nullable = true)\n",
      " |    |-- element: integer (containsNull = true)\n",
      " |-- user_csid_seq: array (nullable = true)\n",
      " |    |-- element: integer (containsNull = true)\n",
      " |-- user_ccid_seq: array (nullable = true)\n",
      " |    |-- element: integer (containsNull = true)\n",
      " |-- user_bid_seq: array (nullable = true)\n",
      " |    |-- element: integer (containsNull = true)\n",
      " |-- user_price_log_seq: array (nullable = true)\n",
      " |    |-- element: double (containsNull = true)\n",
      " |-- user_dtime_secs_seq: array (nullable = true)\n",
      " |    |-- element: long (containsNull = true)\n",
      " |-- user_dtime_secs_log_norm_seq: array (nullable = true)\n",
      " |    |-- element: double (containsNull = true)\n",
      " |-- user_prod_recency_days_seq: array (nullable = true)\n",
      " |    |-- element: double (containsNull = true)\n",
      " |-- user_prod_recency_days_log_norm_seq: array (nullable = true)\n",
      " |    |-- element: double (containsNull = true)\n",
      " |-- user_relative_price_to_avg_category_seq: array (nullable = true)\n",
      " |    |-- element: double (containsNull = true)\n",
      " |-- user_et_hour_sin_seq: array (nullable = true)\n",
      " |    |-- element: float (containsNull = true)\n",
      " |-- user_et_hour_cos_seq: array (nullable = true)\n",
      " |    |-- element: float (containsNull = true)\n",
      " |-- user_et_month_sin_seq: array (nullable = true)\n",
      " |    |-- element: float (containsNull = true)\n",
      " |-- user_et_month_cos_seq: array (nullable = true)\n",
      " |    |-- element: float (containsNull = true)\n",
      " |-- user_et_dayofweek_sin_seq: array (nullable = true)\n",
      " |    |-- element: float (containsNull = true)\n",
      " |-- user_et_dayofweek_cos_seq: array (nullable = true)\n",
      " |    |-- element: float (containsNull = true)\n",
      " |-- user_et_dayofmonth_sin_seq: array (nullable = true)\n",
      " |    |-- element: float (containsNull = true)\n",
      " |-- user_et_dayofmonth_cos_seq: array (nullable = true)\n",
      " |    |-- element: float (containsNull = true)\n",
      "\n"
     ]
    }
   ],
   "source": [
    "users_and_session_seq_joined_df.printSchema()"
   ]
  },
  {
   "cell_type": "code",
   "execution_count": 130,
   "metadata": {},
   "outputs": [],
   "source": [
    "def user_seq_feature_before_session(session_start, user_ts_seq, user_feature_seq, limit):\n",
    "    new_seq = list(map(lambda y: y[1], filter(lambda x: x[0] < session_start, zip(user_ts_seq, user_feature_seq))))[-limit:]\n",
    "    return new_seq\n",
    "\n",
    "@udf(returnType=ArrayType(IntegerType()))\n",
    "def user_seq_before_session_integer_udf(session_start, user_ts_seq, user_feature_seq, limit):\n",
    "    result = user_seq_feature_before_session(session_start, user_ts_seq, user_feature_seq, limit)\n",
    "    return list([int(x) for x in result])\n",
    "\n",
    "@udf(returnType=ArrayType(FloatType()))\n",
    "def user_seq_before_session_float_udf(session_start, user_ts_seq, user_feature_seq, limit):\n",
    "    result = user_seq_feature_before_session(session_start, user_ts_seq, user_feature_seq, limit)\n",
    "    return list([float(x) for x in result])\n",
    "\n",
    "@udf(returnType=ArrayType(StringType()))\n",
    "def user_seq_before_session_str_udf(session_start, user_ts_seq, user_feature_seq, limit):\n",
    "    result = user_seq_feature_before_session(session_start, user_ts_seq, user_feature_seq, limit)\n",
    "    return list([str(x) for x in result])"
   ]
  },
  {
   "cell_type": "code",
   "execution_count": 131,
   "metadata": {},
   "outputs": [],
   "source": [
    "def sessions_reversed_order(session_ids):\n",
    "    last_session_id = \"\"\n",
    "    counter = 1\n",
    "    sessions_orders = []\n",
    "    for session_id in reversed(session_ids):\n",
    "        if session_id != last_session_id:\n",
    "            counter += 1\n",
    "            last_session_id = session_id\n",
    "        sessions_orders.append(counter)\n",
    "    return list(reversed(sessions_orders))\n",
    "\n",
    "\n",
    "@udf(returnType=ArrayType(IntegerType()))\n",
    "def sessions_reversed_order_udf(session_ids):\n",
    "    result = sessions_reversed_order(session_ids)\n",
    "    return list([int(x) for x in result])"
   ]
  },
  {
   "cell_type": "code",
   "execution_count": 132,
   "metadata": {},
   "outputs": [],
   "source": [
    "@udf(returnType=ArrayType(IntegerType()))\n",
    "def get_repeated_values_array_int_udf(value, repeat_times):\n",
    "    return [value] * repeat_times"
   ]
  },
  {
   "cell_type": "code",
   "execution_count": 133,
   "metadata": {},
   "outputs": [
    {
     "data": {
      "text/plain": [
       "[5, 5, 5, 5, 4, 3, 3, 2]"
      ]
     },
     "execution_count": 133,
     "metadata": {},
     "output_type": "execute_result"
    }
   ],
   "source": [
    "sessions_reversed_order([\"a\", \"a\", \"a\", \"a\", \"b\", \"c\", \"c\", \"d\"])"
   ]
  },
  {
   "cell_type": "code",
   "execution_count": 134,
   "metadata": {},
   "outputs": [],
   "source": [
    "session_seq_and_prev_users_seq_df = users_and_session_seq_joined_df \\\n",
    "            .withColumn('bef_sess_pid_seq', user_seq_before_session_integer_udf(F.col('session_start_ts'), F.col('user_etime_seq'),  F.col('user_pid_seq'), F.lit(MAX_LENGTH_USER_SEQUENCE_BEFORE_SESSION))) \\\n",
    "            .withColumn('bef_sess_etime_seq', user_seq_before_session_integer_udf(F.col('session_start_ts'), F.col('user_etime_seq'),  F.col('user_etime_seq'), F.lit(MAX_LENGTH_USER_SEQUENCE_BEFORE_SESSION))) \\\n",
    "            .withColumn('bef_sess_etype_seq', user_seq_before_session_integer_udf(F.col('session_start_ts'), F.col('user_etime_seq'),  F.col('user_etype_seq'), F.lit(MAX_LENGTH_USER_SEQUENCE_BEFORE_SESSION))) \\\n",
    "            .withColumn('bef_sess_csid_seq', user_seq_before_session_integer_udf(F.col('session_start_ts'), F.col('user_etime_seq'),  F.col('user_csid_seq'), F.lit(MAX_LENGTH_USER_SEQUENCE_BEFORE_SESSION))) \\\n",
    "            .withColumn('bef_sess_ccid_seq', user_seq_before_session_integer_udf(F.col('session_start_ts'), F.col('user_etime_seq'),  F.col('user_ccid_seq'), F.lit(MAX_LENGTH_USER_SEQUENCE_BEFORE_SESSION))) \\\n",
    "            .withColumn('bef_sess_bid_seq', user_seq_before_session_integer_udf(F.col('session_start_ts'), F.col('user_etime_seq'),  F.col('user_bid_seq'), F.lit(MAX_LENGTH_USER_SEQUENCE_BEFORE_SESSION))) \\\n",
    "            .withColumn('bef_sess_price_log_norm_seq', user_seq_before_session_float_udf(F.col('session_start_ts'), F.col('user_etime_seq'),  F.col('user_price_log_seq'), F.lit(MAX_LENGTH_USER_SEQUENCE_BEFORE_SESSION))) \\\n",
    "            .withColumn('bef_sess_dtime_secs_seq', user_seq_before_session_float_udf(F.col('session_start_ts'), F.col('user_etime_seq'),  F.col('user_dtime_secs_seq'), F.lit(MAX_LENGTH_USER_SEQUENCE_BEFORE_SESSION))) \\\n",
    "            .withColumn('bef_sess_dtime_secs_log_norm_seq', user_seq_before_session_float_udf(F.col('session_start_ts'), F.col('user_etime_seq'),  F.col('user_dtime_secs_log_norm_seq'), F.lit(MAX_LENGTH_USER_SEQUENCE_BEFORE_SESSION))) \\\n",
    "            .withColumn('bef_sess_prod_recency_days_seq', user_seq_before_session_float_udf(F.col('session_start_ts'), F.col('user_etime_seq'),  F.col('user_prod_recency_days_seq'), F.lit(MAX_LENGTH_USER_SEQUENCE_BEFORE_SESSION))) \\\n",
    "            .withColumn('bef_sess_prod_recency_days_log_norm_seq', user_seq_before_session_float_udf(F.col('session_start_ts'), F.col('user_etime_seq'),  F.col('user_prod_recency_days_log_norm_seq'), F.lit(MAX_LENGTH_USER_SEQUENCE_BEFORE_SESSION))) \\\n",
    "            .withColumn('bef_sess_relative_price_to_avg_category_seq', user_seq_before_session_float_udf(F.col('session_start_ts'), F.col('user_etime_seq'),  F.col('user_relative_price_to_avg_category_seq'), F.lit(MAX_LENGTH_USER_SEQUENCE_BEFORE_SESSION))) \\\n",
    "            .withColumn('bef_sess_et_hour_sin_seq', user_seq_before_session_float_udf(F.col('session_start_ts'), F.col('user_etime_seq'),  F.col('user_et_hour_sin_seq'), F.lit(MAX_LENGTH_USER_SEQUENCE_BEFORE_SESSION))) \\\n",
    "            .withColumn('bef_sess_et_hour_cos_seq', user_seq_before_session_float_udf(F.col('session_start_ts'), F.col('user_etime_seq'),  F.col('user_et_hour_cos_seq'), F.lit(MAX_LENGTH_USER_SEQUENCE_BEFORE_SESSION))) \\\n",
    "            .withColumn('bef_sess_et_month_sin_seq', user_seq_before_session_float_udf(F.col('session_start_ts'), F.col('user_etime_seq'),  F.col('user_et_month_sin_seq'), F.lit(MAX_LENGTH_USER_SEQUENCE_BEFORE_SESSION))) \\\n",
    "            .withColumn('bef_sess_et_month_cos_seq', user_seq_before_session_float_udf(F.col('session_start_ts'), F.col('user_etime_seq'),  F.col('user_et_month_cos_seq'), F.lit(MAX_LENGTH_USER_SEQUENCE_BEFORE_SESSION))) \\\n",
    "            .withColumn('bef_sess_et_dayofweek_sin_seq', user_seq_before_session_float_udf(F.col('session_start_ts'), F.col('user_etime_seq'),  F.col('user_et_dayofweek_sin_seq'), F.lit(MAX_LENGTH_USER_SEQUENCE_BEFORE_SESSION))) \\\n",
    "            .withColumn('bef_sess_et_dayofweek_cos_seq', user_seq_before_session_float_udf(F.col('session_start_ts'), F.col('user_etime_seq'),  F.col('user_et_dayofweek_cos_seq'), F.lit(MAX_LENGTH_USER_SEQUENCE_BEFORE_SESSION))) \\\n",
    "            .withColumn('bef_sess_et_dayofmonth_sin_seq', user_seq_before_session_float_udf(F.col('session_start_ts'), F.col('user_etime_seq'),  F.col('user_et_dayofmonth_sin_seq'), F.lit(MAX_LENGTH_USER_SEQUENCE_BEFORE_SESSION))) \\\n",
    "            .withColumn('bef_sess_et_dayofmonth_cos_seq', user_seq_before_session_float_udf(F.col('session_start_ts'), F.col('user_etime_seq'),  F.col('user_et_dayofmonth_cos_seq'), F.lit(MAX_LENGTH_USER_SEQUENCE_BEFORE_SESSION))) \\\n",
    "            .withColumn('bef_sess_session_reversed_order_seq', sessions_reversed_order_udf(user_seq_before_session_str_udf(F.col('session_start_ts'), F.col('user_etime_seq'),  F.col('user_session_seq'), F.lit(MAX_LENGTH_USER_SEQUENCE_BEFORE_SESSION)))) \\\n",
    "            .withColumn('sess_session_reversed_order_seq', get_repeated_values_array_int_udf(F.lit(1), F.lit(SESSIONS_MAX_LENGTH))) \\\n",
    "            .withColumn('bef_sess_seq_length', F.size('bef_sess_pid_seq'))"
   ]
  },
  {
   "cell_type": "markdown",
   "metadata": {},
   "source": [
    "# Exporting data"
   ]
  },
  {
   "cell_type": "markdown",
   "metadata": {},
   "source": [
    "#### Option A: Pad zeros to make all sequences same length\n",
    "NOTE: it would be not memory-efficient. But currently it seems no way to utilize Petastorm (parquet -> dataloader) without this option."
   ]
  },
  {
   "cell_type": "code",
   "execution_count": 135,
   "metadata": {},
   "outputs": [],
   "source": [
    "from pyspark.sql.types import ArrayType, IntegerType\n",
    "\n",
    "def pad_array(values, expected_length, trunc_start, dtype=int):\n",
    "    #if dtype is float:\n",
    "    #    value_to_pad = [0.]\n",
    "    #else:\n",
    "    #    value_to_pad = [0]\n",
    "    #value_to_pad = [dtype(0)]\n",
    "        \n",
    "    res = list([dtype(x) for x in values]) + ([dtype(0)] * (expected_length-len(values)))\n",
    "    \n",
    "    # Pick first N\n",
    "    if trunc_start:\n",
    "        res = res[:expected_length]\n",
    "    #Pick last N\n",
    "    else:\n",
    "        res = res[-expected_length:]\n",
    "        \n",
    "    return res\n",
    "\n",
    "\n",
    "@udf(returnType=ArrayType(IntegerType()))\n",
    "def pad_array_int(values, expected_length, trunc_start):\n",
    "    return pad_array(values, expected_length, trunc_start)\n",
    "\n",
    "@udf(returnType=ArrayType(LongType()))\n",
    "def pad_array_long(values, expected_length, trunc_start):\n",
    "    return pad_array(values, expected_length, trunc_start)\n",
    "\n",
    "@udf(returnType=ArrayType(FloatType()))\n",
    "def pad_array_float(values, expected_length, trunc_start):\n",
    "    return pad_array(values, expected_length, trunc_start, dtype=float)"
   ]
  },
  {
   "cell_type": "code",
   "execution_count": 136,
   "metadata": {},
   "outputs": [
    {
     "data": {
      "text/plain": [
       "\"\\n#Export padded sequences for compatibility with PetaStorm data loader. NVTabular and PyArrow supports list columns with different lengths\\nsessions_users_seqs_to_export_df =         session_seq_and_prev_users_seq_df.select('user_idx', 'user_session', 'sess_seq_len', \\n                                                 'session_start_ts',  \\n                                                 F.date_trunc('day', F.to_timestamp(F.col('session_start_ts'))).cast('string').substr(0,10).alias('session_start_date'), \\n                                                 'user_seq_length_bef_sess', 'user_elapsed_days_bef_sess', 'user_elapsed_days_log_bef_sess_norm',\\n                        # Session sequences (first N interactions)\\n                        pad_array_long(F.col('sess_pid_seq'), F.lit(SESSIONS_MAX_LENGTH), F.lit(True)).alias('sess_pid_seq'),\\n                        pad_array_long(F.col('sess_etime_seq'), F.lit(SESSIONS_MAX_LENGTH), F.lit(True)).alias('sess_etime_seq'),\\n                        pad_array_int(F.col('sess_etype_seq'), F.lit(SESSIONS_MAX_LENGTH), F.lit(True)).alias('sess_etype_seq'),\\n                        pad_array_int(F.col('sess_csid_seq'), F.lit(SESSIONS_MAX_LENGTH), F.lit(True)).alias('sess_csid_seq'),\\n                        pad_array_int(F.col('sess_ccid_seq'), F.lit(SESSIONS_MAX_LENGTH), F.lit(True)).alias('sess_ccid_seq'),\\n                        pad_array_int(F.col('sess_bid_seq'), F.lit(SESSIONS_MAX_LENGTH), F.lit(True)).alias('sess_bid_seq'),\\n                        pad_array_float(F.col('sess_price_seq'), F.lit(SESSIONS_MAX_LENGTH), F.lit(True)).alias('sess_price_seq'),\\n                        pad_array_float(F.col('sess_dtime_seq'), F.lit(SESSIONS_MAX_LENGTH), F.lit(True)).alias('sess_dtime_seq'),\\n                        pad_array_float(F.col('sess_product_recency_seq'), F.lit(SESSIONS_MAX_LENGTH), F.lit(True)).alias('sess_product_recency_seq'),\\n                        pad_array_float(F.col('sess_relative_price_to_avg_category_seq'), F.lit(SESSIONS_MAX_LENGTH), F.lit(True)).alias('sess_relative_price_to_avg_category_seq'),\\n                        pad_array_float(F.col('sess_et_hour_sin_seq'), F.lit(SESSIONS_MAX_LENGTH), F.lit(True)).alias('sess_et_hour_sin_seq'), \\n                        pad_array_float(F.col('sess_et_hour_cos_seq'), F.lit(SESSIONS_MAX_LENGTH), F.lit(True)).alias('sess_et_hour_cos_seq'),\\n                        pad_array_float(F.col('sess_et_month_sin_seq'), F.lit(SESSIONS_MAX_LENGTH), F.lit(True)).alias('sess_et_month_sin_seq'),\\n                        pad_array_float(F.col('sess_et_month_cos_seq'), F.lit(SESSIONS_MAX_LENGTH), F.lit(True)).alias('sess_et_month_cos_seq'),\\n                        pad_array_float(F.col('sess_et_dayofweek_sin_seq'), F.lit(SESSIONS_MAX_LENGTH), F.lit(True)).alias('sess_et_dayofweek_sin_seq'),\\n                        pad_array_float(F.col('sess_et_dayofweek_cos_seq'), F.lit(SESSIONS_MAX_LENGTH), F.lit(True)).alias('sess_et_dayofweek_cos_seq'),\\n                        pad_array_float(F.col('sess_et_dayofmonth_sin_seq'), F.lit(SESSIONS_MAX_LENGTH), F.lit(True)).alias('sess_et_dayofmonth_sin_seq'),\\n                        pad_array_float(F.col('sess_et_dayofmonth_cos_seq'), F.lit(SESSIONS_MAX_LENGTH), F.lit(True)).alias('sess_et_dayofmonth_cos_seq'),\\n                         # Users sequences before session (last M interactions) \\n                         pad_array_long(F.col('user_pid_seq_bef_sess'), F.lit(MAX_LENGTH_USER_SEQUENCE_BEFORE_SESSION), F.lit(False)).alias('user_pid_seq_bef_sess'),\\n                         pad_array_long(F.col('user_etime_seq_bef_sess'), F.lit(MAX_LENGTH_USER_SEQUENCE_BEFORE_SESSION), F.lit(False)).alias('user_etime_seq_bef_sess'),\\n                         pad_array_int(F.col('user_etype_seq_bef_sess'), F.lit(MAX_LENGTH_USER_SEQUENCE_BEFORE_SESSION), F.lit(False)).alias('user_etype_seq_bef_sess'),\\n                         pad_array_int(F.col('user_csid_seq_bef_sess'), F.lit(MAX_LENGTH_USER_SEQUENCE_BEFORE_SESSION), F.lit(False)).alias('user_csid_seq_bef_sess'),\\n                         pad_array_int(F.col('user_ccid_seq_bef_sess'), F.lit(MAX_LENGTH_USER_SEQUENCE_BEFORE_SESSION), F.lit(False)).alias('user_ccid_seq_bef_sess'),\\n                         pad_array_int(F.col('user_bid_seq_bef_sess'), F.lit(MAX_LENGTH_USER_SEQUENCE_BEFORE_SESSION), F.lit(False)).alias('user_bid_seq_bef_sess'),\\n                         pad_array_float(F.col('user_price_seq_bef_sess'), F.lit(MAX_LENGTH_USER_SEQUENCE_BEFORE_SESSION), F.lit(False)).alias('user_price_seq_bef_sess'),\\n                         pad_array_float(F.col('user_dtime_seq_bef_sess'), F.lit(MAX_LENGTH_USER_SEQUENCE_BEFORE_SESSION), F.lit(False)).alias('user_dtime_seq_bef_sess'),\\n                         pad_array_float(F.col('user_product_recency_seq_bef_sess'), F.lit(MAX_LENGTH_USER_SEQUENCE_BEFORE_SESSION), F.lit(False)).alias('user_product_recency_seq_bef_sess'),\\n                         pad_array_float(F.col('user_relative_price_to_avg_category_seq_bef_sess'), F.lit(MAX_LENGTH_USER_SEQUENCE_BEFORE_SESSION), F.lit(False)).alias('user_relative_price_to_avg_category_seq_bef_sess'),\\n                         pad_array_float(F.col('user_et_hour_sin_seq_bef_sess'), F.lit(MAX_LENGTH_USER_SEQUENCE_BEFORE_SESSION), F.lit(False)).alias('user_et_hour_sin_seq_bef_sess'),\\n                         pad_array_float(F.col('user_et_hour_cos_seq_bef_sess'), F.lit(MAX_LENGTH_USER_SEQUENCE_BEFORE_SESSION), F.lit(False)).alias('user_et_hour_cos_seq_bef_sess'),\\n                         pad_array_float(F.col('user_et_month_sin_seq_bef_sess'), F.lit(MAX_LENGTH_USER_SEQUENCE_BEFORE_SESSION), F.lit(False)).alias('user_et_month_sin_seq_bef_sess'),\\n                         pad_array_float(F.col('user_et_month_cos_seq_bef_sess'), F.lit(MAX_LENGTH_USER_SEQUENCE_BEFORE_SESSION), F.lit(False)).alias('user_et_month_cos_seq_bef_sess'),\\n                         pad_array_float(F.col('user_et_dayofweek_sin_seq_bef_sess'), F.lit(MAX_LENGTH_USER_SEQUENCE_BEFORE_SESSION), F.lit(False)).alias('user_et_dayofweek_sin_seq_bef_sess'),\\n                         pad_array_float(F.col('user_et_dayofweek_cos_seq_bef_sess'), F.lit(MAX_LENGTH_USER_SEQUENCE_BEFORE_SESSION), F.lit(False)).alias('user_et_dayofweek_cos_seq_bef_sess'),\\n                         pad_array_float(F.col('user_et_dayofmonth_sin_seq_bef_sess'), F.lit(MAX_LENGTH_USER_SEQUENCE_BEFORE_SESSION), F.lit(False)).alias('user_et_dayofmonth_sin_seq_bef_sess'),\\n                         pad_array_float(F.col('user_et_dayofmonth_cos_seq_bef_sess'), F.lit(MAX_LENGTH_USER_SEQUENCE_BEFORE_SESSION), F.lit(False)).alias('user_et_dayofmonth_cos_seq_bef_sess'),\\n                    )\\n\""
      ]
     },
     "execution_count": 136,
     "metadata": {},
     "output_type": "execute_result"
    }
   ],
   "source": [
    "'''\n",
    "#Export padded sequences for compatibility with PetaStorm data loader. NVTabular and PyArrow supports list columns with different lengths\n",
    "sessions_users_seqs_to_export_df = \\\n",
    "        session_seq_and_prev_users_seq_df.select('user_idx', 'user_session', 'sess_seq_len', \n",
    "                                                 'session_start_ts',  \n",
    "                                                 F.date_trunc('day', F.to_timestamp(F.col('session_start_ts'))).cast('string').substr(0,10).alias('session_start_date'), \n",
    "                                                 'user_seq_length_bef_sess', 'user_elapsed_days_bef_sess', 'user_elapsed_days_log_bef_sess_norm',\n",
    "                        # Session sequences (first N interactions)\n",
    "                        pad_array_long(F.col('sess_pid_seq'), F.lit(SESSIONS_MAX_LENGTH), F.lit(True)).alias('sess_pid_seq'),\n",
    "                        pad_array_long(F.col('sess_etime_seq'), F.lit(SESSIONS_MAX_LENGTH), F.lit(True)).alias('sess_etime_seq'),\n",
    "                        pad_array_int(F.col('sess_etype_seq'), F.lit(SESSIONS_MAX_LENGTH), F.lit(True)).alias('sess_etype_seq'),\n",
    "                        pad_array_int(F.col('sess_csid_seq'), F.lit(SESSIONS_MAX_LENGTH), F.lit(True)).alias('sess_csid_seq'),\n",
    "                        pad_array_int(F.col('sess_ccid_seq'), F.lit(SESSIONS_MAX_LENGTH), F.lit(True)).alias('sess_ccid_seq'),\n",
    "                        pad_array_int(F.col('sess_bid_seq'), F.lit(SESSIONS_MAX_LENGTH), F.lit(True)).alias('sess_bid_seq'),\n",
    "                        pad_array_float(F.col('sess_price_seq'), F.lit(SESSIONS_MAX_LENGTH), F.lit(True)).alias('sess_price_seq'),\n",
    "                        pad_array_float(F.col('sess_dtime_seq'), F.lit(SESSIONS_MAX_LENGTH), F.lit(True)).alias('sess_dtime_seq'),\n",
    "                        pad_array_float(F.col('sess_product_recency_seq'), F.lit(SESSIONS_MAX_LENGTH), F.lit(True)).alias('sess_product_recency_seq'),\n",
    "                        pad_array_float(F.col('sess_relative_price_to_avg_category_seq'), F.lit(SESSIONS_MAX_LENGTH), F.lit(True)).alias('sess_relative_price_to_avg_category_seq'),\n",
    "                        pad_array_float(F.col('sess_et_hour_sin_seq'), F.lit(SESSIONS_MAX_LENGTH), F.lit(True)).alias('sess_et_hour_sin_seq'), \n",
    "                        pad_array_float(F.col('sess_et_hour_cos_seq'), F.lit(SESSIONS_MAX_LENGTH), F.lit(True)).alias('sess_et_hour_cos_seq'),\n",
    "                        pad_array_float(F.col('sess_et_month_sin_seq'), F.lit(SESSIONS_MAX_LENGTH), F.lit(True)).alias('sess_et_month_sin_seq'),\n",
    "                        pad_array_float(F.col('sess_et_month_cos_seq'), F.lit(SESSIONS_MAX_LENGTH), F.lit(True)).alias('sess_et_month_cos_seq'),\n",
    "                        pad_array_float(F.col('sess_et_dayofweek_sin_seq'), F.lit(SESSIONS_MAX_LENGTH), F.lit(True)).alias('sess_et_dayofweek_sin_seq'),\n",
    "                        pad_array_float(F.col('sess_et_dayofweek_cos_seq'), F.lit(SESSIONS_MAX_LENGTH), F.lit(True)).alias('sess_et_dayofweek_cos_seq'),\n",
    "                        pad_array_float(F.col('sess_et_dayofmonth_sin_seq'), F.lit(SESSIONS_MAX_LENGTH), F.lit(True)).alias('sess_et_dayofmonth_sin_seq'),\n",
    "                        pad_array_float(F.col('sess_et_dayofmonth_cos_seq'), F.lit(SESSIONS_MAX_LENGTH), F.lit(True)).alias('sess_et_dayofmonth_cos_seq'),\n",
    "                         # Users sequences before session (last M interactions) \n",
    "                         pad_array_long(F.col('user_pid_seq_bef_sess'), F.lit(MAX_LENGTH_USER_SEQUENCE_BEFORE_SESSION), F.lit(False)).alias('user_pid_seq_bef_sess'),\n",
    "                         pad_array_long(F.col('user_etime_seq_bef_sess'), F.lit(MAX_LENGTH_USER_SEQUENCE_BEFORE_SESSION), F.lit(False)).alias('user_etime_seq_bef_sess'),\n",
    "                         pad_array_int(F.col('user_etype_seq_bef_sess'), F.lit(MAX_LENGTH_USER_SEQUENCE_BEFORE_SESSION), F.lit(False)).alias('user_etype_seq_bef_sess'),\n",
    "                         pad_array_int(F.col('user_csid_seq_bef_sess'), F.lit(MAX_LENGTH_USER_SEQUENCE_BEFORE_SESSION), F.lit(False)).alias('user_csid_seq_bef_sess'),\n",
    "                         pad_array_int(F.col('user_ccid_seq_bef_sess'), F.lit(MAX_LENGTH_USER_SEQUENCE_BEFORE_SESSION), F.lit(False)).alias('user_ccid_seq_bef_sess'),\n",
    "                         pad_array_int(F.col('user_bid_seq_bef_sess'), F.lit(MAX_LENGTH_USER_SEQUENCE_BEFORE_SESSION), F.lit(False)).alias('user_bid_seq_bef_sess'),\n",
    "                         pad_array_float(F.col('user_price_seq_bef_sess'), F.lit(MAX_LENGTH_USER_SEQUENCE_BEFORE_SESSION), F.lit(False)).alias('user_price_seq_bef_sess'),\n",
    "                         pad_array_float(F.col('user_dtime_seq_bef_sess'), F.lit(MAX_LENGTH_USER_SEQUENCE_BEFORE_SESSION), F.lit(False)).alias('user_dtime_seq_bef_sess'),\n",
    "                         pad_array_float(F.col('user_product_recency_seq_bef_sess'), F.lit(MAX_LENGTH_USER_SEQUENCE_BEFORE_SESSION), F.lit(False)).alias('user_product_recency_seq_bef_sess'),\n",
    "                         pad_array_float(F.col('user_relative_price_to_avg_category_seq_bef_sess'), F.lit(MAX_LENGTH_USER_SEQUENCE_BEFORE_SESSION), F.lit(False)).alias('user_relative_price_to_avg_category_seq_bef_sess'),\n",
    "                         pad_array_float(F.col('user_et_hour_sin_seq_bef_sess'), F.lit(MAX_LENGTH_USER_SEQUENCE_BEFORE_SESSION), F.lit(False)).alias('user_et_hour_sin_seq_bef_sess'),\n",
    "                         pad_array_float(F.col('user_et_hour_cos_seq_bef_sess'), F.lit(MAX_LENGTH_USER_SEQUENCE_BEFORE_SESSION), F.lit(False)).alias('user_et_hour_cos_seq_bef_sess'),\n",
    "                         pad_array_float(F.col('user_et_month_sin_seq_bef_sess'), F.lit(MAX_LENGTH_USER_SEQUENCE_BEFORE_SESSION), F.lit(False)).alias('user_et_month_sin_seq_bef_sess'),\n",
    "                         pad_array_float(F.col('user_et_month_cos_seq_bef_sess'), F.lit(MAX_LENGTH_USER_SEQUENCE_BEFORE_SESSION), F.lit(False)).alias('user_et_month_cos_seq_bef_sess'),\n",
    "                         pad_array_float(F.col('user_et_dayofweek_sin_seq_bef_sess'), F.lit(MAX_LENGTH_USER_SEQUENCE_BEFORE_SESSION), F.lit(False)).alias('user_et_dayofweek_sin_seq_bef_sess'),\n",
    "                         pad_array_float(F.col('user_et_dayofweek_cos_seq_bef_sess'), F.lit(MAX_LENGTH_USER_SEQUENCE_BEFORE_SESSION), F.lit(False)).alias('user_et_dayofweek_cos_seq_bef_sess'),\n",
    "                         pad_array_float(F.col('user_et_dayofmonth_sin_seq_bef_sess'), F.lit(MAX_LENGTH_USER_SEQUENCE_BEFORE_SESSION), F.lit(False)).alias('user_et_dayofmonth_sin_seq_bef_sess'),\n",
    "                         pad_array_float(F.col('user_et_dayofmonth_cos_seq_bef_sess'), F.lit(MAX_LENGTH_USER_SEQUENCE_BEFORE_SESSION), F.lit(False)).alias('user_et_dayofmonth_cos_seq_bef_sess'),\n",
    "                    )\n",
    "'''                    "
   ]
  },
  {
   "cell_type": "code",
   "execution_count": 137,
   "metadata": {},
   "outputs": [],
   "source": [
    "sessions_users_seqs_to_export_df = \\\n",
    "        session_seq_and_prev_users_seq_df.select(\n",
    "                        'user_idx', 'user_session', 'session_start_ts', 'sess_seq_len',  'bef_sess_seq_length',  \n",
    "                        F.date_trunc('day', F.to_timestamp(F.col('session_start_ts'))).cast('string').substr(0,10).alias('session_start_date'), \n",
    "                        # Session sequences (first N interactions)\n",
    "                        'sess_pid_seq',\n",
    "                        'sess_etime_seq',\n",
    "                        'sess_etype_seq',\n",
    "                        'sess_csid_seq',\n",
    "                        'sess_ccid_seq',\n",
    "                        'sess_bid_seq',\n",
    "                        'sess_price_log_norm_seq',\n",
    "                        'sess_dtime_secs_seq',\n",
    "                        'sess_dtime_secs_log_norm_seq',\n",
    "                        'sess_prod_recency_days_seq',\n",
    "                        'sess_prod_recency_days_log_norm_seq',\n",
    "                        'sess_relative_price_to_avg_category_seq',\n",
    "                        'sess_et_hour_sin_seq', \n",
    "                        'sess_et_hour_cos_seq',\n",
    "                        'sess_et_month_sin_seq',\n",
    "                        'sess_et_month_cos_seq',\n",
    "                        'sess_et_dayofweek_sin_seq',\n",
    "                        'sess_et_dayofweek_cos_seq',\n",
    "                        'sess_et_dayofmonth_sin_seq',\n",
    "                        'sess_et_dayofmonth_cos_seq',\n",
    "                        'sess_session_reversed_order_seq',\n",
    "                         # Users sequences before session (last M interactions) \n",
    "                         'bef_sess_pid_seq',\n",
    "                         'bef_sess_etime_seq',\n",
    "                         'bef_sess_etype_seq',\n",
    "                         'bef_sess_csid_seq',\n",
    "                         'bef_sess_ccid_seq',\n",
    "                         'bef_sess_bid_seq',\n",
    "                         'bef_sess_price_log_norm_seq',\n",
    "                         'bef_sess_dtime_secs_seq',\n",
    "                         'bef_sess_dtime_secs_log_norm_seq',                         \n",
    "                         'bef_sess_prod_recency_days_seq',\n",
    "                         'bef_sess_prod_recency_days_log_norm_seq',   \n",
    "                         'bef_sess_relative_price_to_avg_category_seq',\n",
    "                         'bef_sess_et_hour_sin_seq',\n",
    "                         'bef_sess_et_hour_cos_seq',\n",
    "                         'bef_sess_et_month_sin_seq',\n",
    "                         'bef_sess_et_month_cos_seq',\n",
    "                         'bef_sess_et_dayofweek_sin_seq',\n",
    "                         'bef_sess_et_dayofweek_cos_seq',\n",
    "                         'bef_sess_et_dayofmonth_sin_seq',\n",
    "                         'bef_sess_et_dayofmonth_cos_seq',\n",
    "                         'bef_sess_session_reversed_order_seq',\n",
    "                    )"
   ]
  },
  {
   "cell_type": "code",
   "execution_count": 138,
   "metadata": {},
   "outputs": [
    {
     "name": "stdout",
     "output_type": "stream",
     "text": [
      "root\n",
      " |-- user_idx: integer (nullable = true)\n",
      " |-- user_session: string (nullable = true)\n",
      " |-- session_start_ts: long (nullable = true)\n",
      " |-- sess_seq_len: integer (nullable = false)\n",
      " |-- bef_sess_seq_length: integer (nullable = false)\n",
      " |-- session_start_date: string (nullable = true)\n",
      " |-- sess_pid_seq: array (nullable = true)\n",
      " |    |-- element: integer (containsNull = true)\n",
      " |-- sess_etime_seq: array (nullable = true)\n",
      " |    |-- element: long (containsNull = true)\n",
      " |-- sess_etype_seq: array (nullable = true)\n",
      " |    |-- element: integer (containsNull = true)\n",
      " |-- sess_csid_seq: array (nullable = true)\n",
      " |    |-- element: integer (containsNull = true)\n",
      " |-- sess_ccid_seq: array (nullable = true)\n",
      " |    |-- element: integer (containsNull = true)\n",
      " |-- sess_bid_seq: array (nullable = true)\n",
      " |    |-- element: integer (containsNull = true)\n",
      " |-- sess_price_log_norm_seq: array (nullable = true)\n",
      " |    |-- element: double (containsNull = true)\n",
      " |-- sess_dtime_secs_seq: array (nullable = true)\n",
      " |    |-- element: long (containsNull = true)\n",
      " |-- sess_dtime_secs_log_norm_seq: array (nullable = true)\n",
      " |    |-- element: double (containsNull = true)\n",
      " |-- sess_prod_recency_days_seq: array (nullable = true)\n",
      " |    |-- element: double (containsNull = true)\n",
      " |-- sess_prod_recency_days_log_norm_seq: array (nullable = true)\n",
      " |    |-- element: double (containsNull = true)\n",
      " |-- sess_relative_price_to_avg_category_seq: array (nullable = true)\n",
      " |    |-- element: double (containsNull = true)\n",
      " |-- sess_et_hour_sin_seq: array (nullable = true)\n",
      " |    |-- element: float (containsNull = true)\n",
      " |-- sess_et_hour_cos_seq: array (nullable = true)\n",
      " |    |-- element: float (containsNull = true)\n",
      " |-- sess_et_month_sin_seq: array (nullable = true)\n",
      " |    |-- element: float (containsNull = true)\n",
      " |-- sess_et_month_cos_seq: array (nullable = true)\n",
      " |    |-- element: float (containsNull = true)\n",
      " |-- sess_et_dayofweek_sin_seq: array (nullable = true)\n",
      " |    |-- element: float (containsNull = true)\n",
      " |-- sess_et_dayofweek_cos_seq: array (nullable = true)\n",
      " |    |-- element: float (containsNull = true)\n",
      " |-- sess_et_dayofmonth_sin_seq: array (nullable = true)\n",
      " |    |-- element: float (containsNull = true)\n",
      " |-- sess_et_dayofmonth_cos_seq: array (nullable = true)\n",
      " |    |-- element: float (containsNull = true)\n",
      " |-- sess_session_reversed_order_seq: array (nullable = true)\n",
      " |    |-- element: integer (containsNull = true)\n",
      " |-- bef_sess_pid_seq: array (nullable = true)\n",
      " |    |-- element: integer (containsNull = true)\n",
      " |-- bef_sess_etime_seq: array (nullable = true)\n",
      " |    |-- element: integer (containsNull = true)\n",
      " |-- bef_sess_etype_seq: array (nullable = true)\n",
      " |    |-- element: integer (containsNull = true)\n",
      " |-- bef_sess_csid_seq: array (nullable = true)\n",
      " |    |-- element: integer (containsNull = true)\n",
      " |-- bef_sess_ccid_seq: array (nullable = true)\n",
      " |    |-- element: integer (containsNull = true)\n",
      " |-- bef_sess_bid_seq: array (nullable = true)\n",
      " |    |-- element: integer (containsNull = true)\n",
      " |-- bef_sess_price_log_seq: array (nullable = true)\n",
      " |    |-- element: float (containsNull = true)\n",
      " |-- bef_sess_dtime_secs_seq: array (nullable = true)\n",
      " |    |-- element: float (containsNull = true)\n",
      " |-- bef_sess_dtime_secs_log_norm_seq: array (nullable = true)\n",
      " |    |-- element: float (containsNull = true)\n",
      " |-- bef_sess_prod_recency_days_seq: array (nullable = true)\n",
      " |    |-- element: float (containsNull = true)\n",
      " |-- bef_sess_prod_recency_days_log_norm_seq: array (nullable = true)\n",
      " |    |-- element: float (containsNull = true)\n",
      " |-- bef_sess_relative_price_to_avg_category_seq: array (nullable = true)\n",
      " |    |-- element: float (containsNull = true)\n",
      " |-- bef_sess_et_hour_sin_seq: array (nullable = true)\n",
      " |    |-- element: float (containsNull = true)\n",
      " |-- bef_sess_et_hour_cos_seq: array (nullable = true)\n",
      " |    |-- element: float (containsNull = true)\n",
      " |-- bef_sess_et_month_sin_seq: array (nullable = true)\n",
      " |    |-- element: float (containsNull = true)\n",
      " |-- bef_sess_et_month_cos_seq: array (nullable = true)\n",
      " |    |-- element: float (containsNull = true)\n",
      " |-- bef_sess_et_dayofweek_sin_seq: array (nullable = true)\n",
      " |    |-- element: float (containsNull = true)\n",
      " |-- bef_sess_et_dayofweek_cos_seq: array (nullable = true)\n",
      " |    |-- element: float (containsNull = true)\n",
      " |-- bef_sess_et_dayofmonth_sin_seq: array (nullable = true)\n",
      " |    |-- element: float (containsNull = true)\n",
      " |-- bef_sess_et_dayofmonth_cos_seq: array (nullable = true)\n",
      " |    |-- element: float (containsNull = true)\n",
      " |-- bef_sess_session_reversed_order_seq: array (nullable = true)\n",
      " |    |-- element: integer (containsNull = true)\n",
      "\n"
     ]
    }
   ],
   "source": [
    "sessions_users_seqs_to_export_df.printSchema()"
   ]
  },
  {
   "cell_type": "code",
   "execution_count": 139,
   "metadata": {},
   "outputs": [],
   "source": [
    "#sessions_users_seqs_to_export_df.show()"
   ]
  },
  {
   "cell_type": "markdown",
   "metadata": {},
   "source": [
    "#### Export dataset to parquet, partioned by the session date"
   ]
  },
  {
   "cell_type": "code",
   "execution_count": 140,
   "metadata": {},
   "outputs": [
    {
     "name": "stdout",
     "output_type": "stream",
     "text": [
      "CPU times: user 241 ms, sys: 217 ms, total: 457 ms\n",
      "Wall time: 15min 20s\n"
     ]
    }
   ],
   "source": [
    "%%time\n",
    "OUTPUT_PATH = '/mount/results/repeated_interactions={}/total_months={}'.format(KEEP_REPEATED_USER_INTERACTIONS, NUM_MONTHS_TO_PREPROCESS)\n",
    "sessions_users_seqs_to_export_df.repartition(F.col('session_start_date')) \\\n",
    "                .write.partitionBy('session_start_date') \\\n",
    "                .parquet(os.path.join(OUTPUT_PATH, 'ecommerce_preproc.parquet'))"
   ]
  },
  {
   "cell_type": "markdown",
   "metadata": {},
   "source": [
    "#### Check exported dataset"
   ]
  },
  {
   "cell_type": "code",
   "execution_count": 141,
   "metadata": {},
   "outputs": [],
   "source": [
    "check_df = spark.read.parquet(os.path.join(OUTPUT_PATH, 'ecommerce_preproc.parquet'))"
   ]
  },
  {
   "cell_type": "code",
   "execution_count": 142,
   "metadata": {},
   "outputs": [
    {
     "data": {
      "text/plain": [
       "[Row(user_idx=503175767, user_session='a0bd23ae-2ee8-4b0f-b628-437b9137ccc9', session_start_ts=1570938717, sess_seq_len=6, bef_sess_seq_length=1, sess_pid_seq=[19764, 23487, 20743, 30416, 19282, 48790], sess_etime_seq=[1570938717, 1570938775, 1570938826, 1570938875, 1570938890, 1570938930], sess_etype_seq=[2, 2, 2, 2, 2, 2], sess_csid_seq=[59, 59, 59, 59, 59, 59], sess_ccid_seq=[38, 38, 38, 38, 38, 38], sess_bid_seq=[80, 80, 80, 80, 80, 80], sess_price_log_norm_seq=[-0.051558973702671464, -0.19539975681449054, 0.22817432520591252, -0.187058017060996, -0.30135946042794687, 0.42666204410908015], sess_dtime_secs_seq=[63846, 58, 51, 49, 15, 40], sess_dtime_secs_log_norm_seq=[1.7985935567321982, -0.20214755077162974, -0.23831352027294844, -0.24954491844478394, -0.5758378156471834, -0.3063741122860863], sess_prod_recency_days_seq=[12.038055555555555, 11.815636574074073, 11.812222222222223, 11.476759259259259, 11.99837962962963, 11.054872685185185], sess_prod_recency_days_log_norm_seq=[0.11903417643765535, 0.09795292550113097, 0.09762646372279583, 0.06511959749432025, 0.11530010799970804, 0.022974363049449092], sess_relative_price_to_avg_category_seq=[0.2177648641403655, 0.013953346324094272, 0.7376812404326636, 0.024788668668456613, -0.11419001131873704, 1.2353896833249463], sess_et_hour_sin_seq=[0.7071067690849304, 0.7071067690849304, 0.7071067690849304, 0.7071067690849304, 0.7071067690849304, 0.7071067690849304], sess_et_hour_cos_seq=[0.7071067690849304, 0.7071067690849304, 0.7071067690849304, 0.7071067690849304, 0.7071067690849304, 0.7071067690849304], sess_et_month_sin_seq=[-0.8660253882408142, -0.8660253882408142, -0.8660253882408142, -0.8660253882408142, -0.8660253882408142, -0.8660253882408142], sess_et_month_cos_seq=[0.5, 0.5, 0.5, 0.5, 0.5, 0.5], sess_et_dayofweek_sin_seq=[0.7818315029144287, 0.7818315029144287, 0.7818315029144287, 0.7818315029144287, 0.7818315029144287, 0.7818315029144287], sess_et_dayofweek_cos_seq=[0.6234897971153259, 0.6234897971153259, 0.6234897971153259, 0.6234897971153259, 0.6234897971153259, 0.6234897971153259], sess_et_dayofmonth_sin_seq=[0.4853019714355469, 0.4853019714355469, 0.4853019714355469, 0.4853019714355469, 0.4853019714355469, 0.4853019714355469], sess_et_dayofmonth_cos_seq=[-0.8743466138839722, -0.8743466138839722, -0.8743466138839722, -0.8743466138839722, -0.8743466138839722, -0.8743466138839722], sess_session_reversed_order_seq=[1, 1, 1, 1, 1, 1, 1, 1, 1, 1, 1, 1, 1, 1, 1, 1, 1, 1, 1, 1], bef_sess_pid_seq=[4663], bef_sess_etime_seq=[1570874871], bef_sess_etype_seq=[2], bef_sess_csid_seq=[29], bef_sess_ccid_seq=[21], bef_sess_bid_seq=[157], bef_sess_price_log_seq=[1.357925534248352], bef_sess_dtime_secs_seq=[63846.0], bef_sess_dtime_secs_log_norm_seq=[1.798593521118164], bef_sess_prod_recency_days_seq=[12.072430610656738], bef_sess_prod_recency_days_log_norm_seq=[0.12226017564535141], bef_sess_relative_price_to_avg_category_seq=[0.27600860595703125], bef_sess_et_hour_sin_seq=[0.5], bef_sess_et_hour_cos_seq=[-0.8660253882408142], bef_sess_et_month_sin_seq=[-0.8660253882408142], bef_sess_et_month_cos_seq=[0.5], bef_sess_et_dayofweek_sin_seq=[8.97597907112413e-09], bef_sess_et_dayofweek_cos_seq=[1.0], bef_sess_et_dayofmonth_sin_seq=[0.651372492313385], bef_sess_et_dayofmonth_cos_seq=[-0.7587581276893616], bef_sess_session_reversed_order_seq=[2], session_start_date=datetime.date(2019, 10, 13)),\n",
       " Row(user_idx=512374750, user_session='ec7a7ce4-c92d-4307-a43d-e07b38ebf4ba', session_start_ts=1570984572, sess_seq_len=2, bef_sess_seq_length=15, sess_pid_seq=[633, 1176], sess_etime_seq=[1570984572, 1570984599], sess_etype_seq=[2, 2], sess_csid_seq=[7, 7], sess_ccid_seq=[7, 7], sess_bid_seq=[41, 280], sess_price_log_norm_seq=[-0.8632014398019928, -0.5219562138776559], sess_dtime_secs_seq=[431445, 27], sess_dtime_secs_log_norm_seq=[2.3457356204098074, -0.41558403053664145], sess_prod_recency_days_seq=[12.578356481481482, 12.581365740740742], sess_prod_recency_days_log_norm_seq=[0.16878293563067887, 0.1690544361544999], sess_relative_price_to_avg_category_seq=[-0.49818324471703657, -0.22215275697518214], sess_et_hour_sin_seq=[-0.8660253882408142, -0.8660253882408142], sess_et_hour_cos_seq=[-0.5, -0.5], sess_et_month_sin_seq=[-0.8660253882408142, -0.8660253882408142], sess_et_month_cos_seq=[0.5, 0.5], sess_et_dayofweek_sin_seq=[0.7818315029144287, 0.7818315029144287], sess_et_dayofweek_cos_seq=[0.6234897971153259, 0.6234897971153259], sess_et_dayofmonth_sin_seq=[0.4853019714355469, 0.4853019714355469], sess_et_dayofmonth_cos_seq=[-0.8743466138839722, -0.8743466138839722], sess_session_reversed_order_seq=[1, 1, 1, 1, 1, 1, 1, 1, 1, 1, 1, 1, 1, 1, 1, 1, 1, 1, 1, 1], bef_sess_pid_seq=[1869, 52037, 22155, 9917, 7488, 18920, 10049, 4190, 398, 538, 17848, 606, 7271, 11586, 7267], bef_sess_etime_seq=[1570366883, 1570366910, 1570366930, 1570366952, 1570366975, 1570366998, 1570367130, 1570367270, 1570368927, 1570369035, 1570369336, 1570369585, 1570369637, 1570552733, 1570553127], bef_sess_etype_seq=[2, 2, 2, 2, 2, 2, 2, 2, 2, 2, 2, 2, 2, 2, 2], bef_sess_csid_seq=[32, 32, 32, 32, 32, 32, 32, 32, 246, 246, 97, 51, 51, 32, 84], bef_sess_ccid_seq=[19, 19, 19, 19, 19, 19, 19, 19, 10, 10, 128, 30, 30, 19, 49], bef_sess_bid_seq=[306, 215, 71, 129, 1322, 71, 71, 20, 3446, 3446, 1699, 33, 33, 71, 663], bef_sess_price_log_seq=[-2.2320332527160645, -1.935004472732544, -1.848232626914978, -1.8229235410690308, -1.7700389623641968, -1.742171049118042, -1.3526750802993774, -0.4570605754852295, -1.424936294555664, -0.702494204044342, -1.9418967962265015, -0.5783572196960449, -0.4697974920272827, -1.6335914134979248, 1.5915573835372925], bef_sess_dtime_secs_seq=[653768.0, 68.0, 27.0], bef_sess_dtime_secs_log_norm_seq=[2.464751720428467, -0.15731181204319, -0.4155840277671814], bef_sess_prod_recency_days_seq=[29.488588333129883, 29.708251953125, 29.619247436523438, 29.609560012817383], bef_sess_prod_recency_days_log_norm_seq=[1.1598156690597534, 1.1686112880706787, 1.1650550365447998, 1.1646673679351807], bef_sess_relative_price_to_avg_category_seq=[-0.7936669588088989, -0.6875604391098022, -0.6482716798782349, -0.6359772086143494, -0.6089828610420227, -0.5940157175064087, -0.31899404525756836, 1.1670315265655518, -0.5172048807144165, 0.23355500400066376, -0.6982442140579224, -0.24965083599090576, -0.13777941465377808, -0.5304052233695984, 2.102353572845459], bef_sess_et_hour_sin_seq=[-0.258819043636322, -0.258819043636322, -0.258819043636322, -0.258819043636322, -0.258819043636322, -0.258819043636322, -0.258819043636322, -0.258819043636322, -0.258819043636322, -0.258819043636322, -0.258819043636322, -0.258819043636322, -0.258819043636322, -0.8660253882408142, -0.8660253882408142], bef_sess_et_hour_cos_seq=[-0.9659258127212524, -0.9659258127212524, -0.9659258127212524, -0.9659258127212524, -0.9659258127212524, -0.9659258127212524, -0.9659258127212524, -0.9659258127212524, -0.9659258127212524, -0.9659258127212524, -0.9659258127212524, -0.9659258127212524, -0.9659258127212524, -0.5, -0.5], bef_sess_et_month_sin_seq=[-0.8660253882408142, -0.8660253882408142, -0.8660253882408142, -0.8660253882408142, -0.8660253882408142, -0.8660253882408142, -0.8660253882408142, -0.8660253882408142, -0.8660253882408142, -0.8660253882408142, -0.8660253882408142, -0.8660253882408142, -0.8660253882408142, -0.8660253882408142, -0.8660253882408142], bef_sess_et_month_cos_seq=[0.5, 0.5, 0.5, 0.5, 0.5, 0.5, 0.5, 0.5, 0.5, 0.5, 0.5, 0.5, 0.5, 0.5, 0.5], bef_sess_et_dayofweek_sin_seq=[0.7818315029144287, 0.7818315029144287, 0.7818315029144287, 0.7818315029144287, 0.7818315029144287, 0.7818315029144287, 0.7818315029144287, 0.7818315029144287, 0.7818315029144287, 0.7818315029144287, 0.7818315029144287, 0.7818315029144287, 0.7818315029144287, 0.4338837265968323, 0.4338837265968323], bef_sess_et_dayofweek_cos_seq=[0.6234897971153259, 0.6234897971153259, 0.6234897971153259, 0.6234897971153259, 0.6234897971153259, 0.6234897971153259, 0.6234897971153259, 0.6234897971153259, 0.6234897971153259, 0.6234897971153259, 0.6234897971153259, 0.6234897971153259, 0.6234897971153259, -0.9009688496589661, -0.9009688496589661], bef_sess_et_dayofmonth_sin_seq=[0.9377521276473999, 0.9377521276473999, 0.9377521276473999, 0.9377521276473999, 0.9377521276473999, 0.9377521276473999, 0.9377521276473999, 0.9377521276473999, 0.9377521276473999, 0.9377521276473999, 0.9377521276473999, 0.9377521276473999, 0.9377521276473999, 0.9987165331840515, 0.9987165331840515], bef_sess_et_dayofmonth_cos_seq=[0.3473052382469177, 0.3473052382469177, 0.3473052382469177, 0.3473052382469177, 0.3473052382469177, 0.3473052382469177, 0.3473052382469177, 0.3473052382469177, 0.3473052382469177, 0.3473052382469177, 0.3473052382469177, 0.3473052382469177, 0.3473052382469177, -0.05064916983246803, -0.05064916983246803], bef_sess_session_reversed_order_seq=[6, 6, 6, 6, 6, 6, 6, 6, 5, 5, 4, 4, 4, 3, 2], session_start_date=datetime.date(2019, 10, 13)),\n",
       " Row(user_idx=512404663, user_session='a49c1432-bb3d-42d6-9d44-02cc3c9546d7', session_start_ts=1570961826, sess_seq_len=4, bef_sess_seq_length=7, sess_pid_seq=[7395, 6661, 30933, 2356], sess_etime_seq=[1570961826, 1570961846, 1570961870, 1570961886], sess_etype_seq=[2, 2, 2, 2], sess_csid_seq=[149, 149, 149, 149], sess_ccid_seq=[57, 57, 57, 57], sess_bid_seq=[4, 33, 22, 4], sess_price_log_norm_seq=[-1.5864249498893992, -1.6158856569171494, -0.7027572747336571, -1.5343536193332459], sess_dtime_secs_seq=[76283, 20, 24, 16], sess_dtime_secs_log_norm_seq=[1.8495587852127147, -0.4979658039117755, -0.4480372800224199, -0.5584771097371136], sess_prod_recency_days_seq=[12.226597222222223, 12.267835648148148, 12.101469907407408, 12.297962962962963], sess_prod_recency_days_log_norm_seq=[0.1366247308093367, 0.14043876157031668, 0.12497883751502349, 0.14321766928341015], sess_relative_price_to_avg_category_seq=[-0.25183629503681854, -0.2806272019087315, 1.3664525953886197, -0.19825321835853618], sess_et_hour_sin_seq=[0.5, 0.5, 0.5, 0.5], sess_et_hour_cos_seq=[-0.8660253882408142, -0.8660253882408142, -0.8660253882408142, -0.8660253882408142], sess_et_month_sin_seq=[-0.8660253882408142, -0.8660253882408142, -0.8660253882408142, -0.8660253882408142], sess_et_month_cos_seq=[0.5, 0.5, 0.5, 0.5], sess_et_dayofweek_sin_seq=[0.7818315029144287, 0.7818315029144287, 0.7818315029144287, 0.7818315029144287], sess_et_dayofweek_cos_seq=[0.6234897971153259, 0.6234897971153259, 0.6234897971153259, 0.6234897971153259], sess_et_dayofmonth_sin_seq=[0.4853019714355469, 0.4853019714355469, 0.4853019714355469, 0.4853019714355469], sess_et_dayofmonth_cos_seq=[-0.8743466138839722, -0.8743466138839722, -0.8743466138839722, -0.8743466138839722], sess_session_reversed_order_seq=[1, 1, 1, 1, 1, 1, 1, 1, 1, 1, 1, 1, 1, 1, 1, 1, 1, 1, 1, 1], bef_sess_pid_seq=[999, 9679, 36152, 7903, 4418, 3455, 12580], bef_sess_etime_seq=[1570352674, 1570353541, 1570706313, 1570706686, 1570707689, 1570875616, 1570885543], bef_sess_etype_seq=[2, 2, 2, 2, 2, 2, 2], bef_sess_csid_seq=[19, 10, 5, 5, 5, 10, 62], bef_sess_ccid_seq=[128, 10, 6, 6, 6, 10, 128], bef_sess_bid_seq=[225, 225, 3446, 8, 504, 7, 33], bef_sess_price_log_seq=[0.9900798797607422, 1.391419529914856, 0.7424255609512329, 1.291462779045105, 0.7702916264533997, 0.7654884457588196, -1.9597163200378418], bef_sess_dtime_secs_seq=[623592.0], bef_sess_dtime_secs_log_norm_seq=[2.451219320297241], bef_sess_prod_recency_days_seq=[29.556482315063477, 28.37013816833496], bef_sess_prod_recency_days_log_norm_seq=[1.1625409126281738, 1.1140251159667969], bef_sess_relative_price_to_avg_category_seq=[8.281656265258789, 3.8393337726593018, -0.20543445646762848, 0.5918616056442261, -0.17689178884029388, 1.1917533874511719, -0.6331835985183716], bef_sess_et_hour_sin_seq=[0.7071067690849304, 0.7071067690849304, 0.258819043636322, 0.258819043636322, 0.258819043636322, 0.5, -0.258819043636322], bef_sess_et_hour_cos_seq=[-0.7071067690849304, -0.7071067690849304, -0.9659258127212524, -0.9659258127212524, -0.9659258127212524, -0.8660253882408142, -0.9659258127212524], bef_sess_et_month_sin_seq=[-0.8660253882408142, -0.8660253882408142, -0.8660253882408142, -0.8660253882408142, -0.8660253882408142, -0.8660253882408142, -0.8660253882408142], bef_sess_et_month_cos_seq=[0.5, 0.5, 0.5, 0.5, 0.5, 0.5, 0.5], bef_sess_et_dayofweek_sin_seq=[0.7818315029144287, 0.7818315029144287, -0.9749279022216797, -0.9749279022216797, -0.9749279022216797, 8.97597907112413e-09, 8.97597907112413e-09], bef_sess_et_dayofweek_cos_seq=[0.6234897971153259, 0.6234897971153259, -0.22252093255519867, -0.22252093255519867, -0.22252093255519867, 1.0, 1.0], bef_sess_et_dayofmonth_sin_seq=[0.9377521276473999, 0.9377521276473999, 0.8978045582771301, 0.8978045582771301, 0.8978045582771301, 0.651372492313385, 0.651372492313385], bef_sess_et_dayofmonth_cos_seq=[0.3473052382469177, 0.3473052382469177, -0.44039416313171387, -0.44039416313171387, -0.44039416313171387, -0.7587581276893616, -0.7587581276893616], bef_sess_session_reversed_order_seq=[8, 7, 6, 5, 4, 3, 2], session_start_date=datetime.date(2019, 10, 13)),\n",
       " Row(user_idx=512418224, user_session='94ef4c32-b97c-47fd-8e59-70be68b013cf', session_start_ts=1570955519, sess_seq_len=8, bef_sess_seq_length=19, sess_pid_seq=[2099, 916, 4052, 674, 8896, 15043, 13443, 15962], sess_etime_seq=[1570955519, 1570955548, 1570955607, 1570955692, 1570955828, 1570955857, 1570956104, 1570956304], sess_etype_seq=[2, 2, 2, 2, 2, 2, 2, 2], sess_csid_seq=[15, 15, 15, 15, 23, 23, 26, 23], sess_ccid_seq=[128, 128, 128, 128, 14, 14, 16, 14], sess_bid_seq=[25, 3446, 3446, 42, 25, 3446, 3446, 25], sess_price_log_norm_seq=[1.458082524164928, 1.0202262895007446, 1.2752141921400377, 1.1081234216968592, -0.3039783741172842, 0.3978745575852914, 1.163901997782327, 0.17317809730586695], sess_dtime_secs_seq=[158122, 29, 59, 85, 136, 29, 247, 200], sess_dtime_secs_log_norm_seq=[2.058292326995578, -0.39582695963229975, -0.19733459805466397, -0.09424279467378066, 0.03909788874293396, -0.39582695963229975, 0.20903994814308205, 0.14886805677694348], sess_prod_recency_days_seq=[12.246493055555556, 12.242881944444445, 12.183599537037036, 12.245601851851852, 12.155752314814816, 12.2453125, 12.200381944444445, 10.99045138888889], sess_prod_recency_days_log_norm_seq=[0.13846632511630969, 0.1381322796890094, 0.13263530667181203, 0.13838389288245975, 0.13004462920961318, 0.1383571279774669, 0.1341939630220538, 0.016409340043420748], sess_relative_price_to_avg_category_seq=[0.5506582542250351, -0.1088167083320809, 0.23048130839140918, -0.003970625081231646, -0.573597414725235, 0.04094303909048019, 1.3360136723346472, -0.21734646686964726], sess_et_hour_sin_seq=[0.8660253882408142, 0.8660253882408142, 0.8660253882408142, 0.8660253882408142, 0.8660253882408142, 0.8660253882408142, 0.8660253882408142, 0.8660253882408142], sess_et_hour_cos_seq=[-0.5, -0.5, -0.5, -0.5, -0.5, -0.5, -0.5, -0.5], sess_et_month_sin_seq=[-0.8660253882408142, -0.8660253882408142, -0.8660253882408142, -0.8660253882408142, -0.8660253882408142, -0.8660253882408142, -0.8660253882408142, -0.8660253882408142], sess_et_month_cos_seq=[0.5, 0.5, 0.5, 0.5, 0.5, 0.5, 0.5, 0.5], sess_et_dayofweek_sin_seq=[0.7818315029144287, 0.7818315029144287, 0.7818315029144287, 0.7818315029144287, 0.7818315029144287, 0.7818315029144287, 0.7818315029144287, 0.7818315029144287], sess_et_dayofweek_cos_seq=[0.6234897971153259, 0.6234897971153259, 0.6234897971153259, 0.6234897971153259, 0.6234897971153259, 0.6234897971153259, 0.6234897971153259, 0.6234897971153259], sess_et_dayofmonth_sin_seq=[0.4853019714355469, 0.4853019714355469, 0.4853019714355469, 0.4853019714355469, 0.4853019714355469, 0.4853019714355469, 0.4853019714355469, 0.4853019714355469], sess_et_dayofmonth_cos_seq=[-0.8743466138839722, -0.8743466138839722, -0.8743466138839722, -0.8743466138839722, -0.8743466138839722, -0.8743466138839722, -0.8743466138839722, -0.8743466138839722], sess_session_reversed_order_seq=[1, 1, 1, 1, 1, 1, 1, 1, 1, 1, 1, 1, 1, 1, 1, 1, 1, 1, 1, 1], bef_sess_pid_seq=[1152, 1595, 6696, 9945, 55038, 5178, 12074, 4078, 15256, 21969, 6964, 36775, 32876, 3567, 40043, 1069, 3536, 10466, 11679], bef_sess_etime_seq=[1570712208, 1570712262, 1570712596, 1570712727, 1570713232, 1570713391, 1570713482, 1570713576, 1570713713, 1570713881, 1570713979, 1570714098, 1570714131, 1570714170, 1570714378, 1570714728, 1570796945, 1570797202, 1570797397], bef_sess_etype_seq=[2, 2, 2, 2, 2, 2, 2, 2, 2, 2, 2, 2, 2, 2, 2, 2, 2, 2, 2], bef_sess_csid_seq=[15, 15, 23, 337, 337, 238, 286, 286, 286, 286, 286, 509, 509, 189, 186, 15, 26, 345, 120], bef_sess_ccid_seq=[128, 128, 14, 128, 128, 128, 128, 128, 128, 128, 128, 128, 128, 128, 128, 128, 16, 14, 128], bef_sess_bid_seq=[3446, 677, 25, 3446, 3446, 1139, 199, 199, 199, 3446, 199, 2255, 443, 3446, 76, 95, 25, 25, 25], bef_sess_price_log_seq=[1.2947086095809937, 1.6596503257751465, 0.7655501961708069, -2.68672251701355, -1.2917033433914185, -1.8499116897583008, -0.8932464718818665, -1.3458285331726074, -0.49539676308631897, -3.9464786052703857, -0.8114442825317383, -1.5143009424209595, -2.74353289604187, -1.1150484085083008, -0.937640905380249, 0.8829845190048218, 0.8645430207252502, -0.4645223319530487, 0.0830976590514183], bef_sess_dtime_secs_seq=[806677.0, 39.0, 307.0, 79.0, 57.0, 46.0, 14.0, 60.0, 58.0, 179.0], bef_sess_dtime_secs_log_norm_seq=[2.524937152862549, -0.31344518065452576, 0.271086722612381, -0.11495282500982285, -0.20704278349876404, -0.267263799905777, -0.5943193435668945, -0.19260120391845703, -0.20214754343032837, 0.11726835370063782], bef_sess_prod_recency_days_seq=[29.409109115600586], bef_sess_prod_recency_days_log_norm_seq=[1.1566176414489746], bef_sess_relative_price_to_avg_category_seq=[0.26119956374168396, 1.0007777214050293, 0.6588137745857239, -0.7826210260391235, 0.5344399213790894, -0.6276506185531616, 0.36889198422431946, -0.2400299459695816, 1.2819793224334717, -1.0, 0.5211224555969238, -0.1277017444372177, -0.8487564325332642, -0.15225403010845184, -0.1713121086359024, -0.250928670167923, 0.5993280410766602, -0.10409703850746155, -0.07423942536115646], bef_sess_et_hour_sin_seq=[-2.6179940437742744e-09, -2.6179940437742744e-09, -0.258819043636322, -0.258819043636322, -0.258819043636322, -0.258819043636322, -0.258819043636322, -0.258819043636322, -0.258819043636322, -0.258819043636322, -0.258819043636322, -0.258819043636322, -0.258819043636322, -0.258819043636322, -0.258819043636322, -0.258819043636322, -2.6179940437742744e-09, -2.6179940437742744e-09, -2.6179940437742744e-09], bef_sess_et_hour_cos_seq=[-1.0, -1.0, -0.9659258127212524, -0.9659258127212524, -0.9659258127212524, -0.9659258127212524, -0.9659258127212524, -0.9659258127212524, -0.9659258127212524, -0.9659258127212524, -0.9659258127212524, -0.9659258127212524, -0.9659258127212524, -0.9659258127212524, -0.9659258127212524, -0.9659258127212524, -1.0, -1.0, -1.0], bef_sess_et_month_sin_seq=[-0.8660253882408142, -0.8660253882408142, -0.8660253882408142, -0.8660253882408142, -0.8660253882408142, -0.8660253882408142, -0.8660253882408142, -0.8660253882408142, -0.8660253882408142, -0.8660253882408142, -0.8660253882408142, -0.8660253882408142, -0.8660253882408142, -0.8660253882408142, -0.8660253882408142, -0.8660253882408142, -0.8660253882408142, -0.8660253882408142, -0.8660253882408142], bef_sess_et_month_cos_seq=[0.5, 0.5, 0.5, 0.5, 0.5, 0.5, 0.5, 0.5, 0.5, 0.5, 0.5, 0.5, 0.5, 0.5, 0.5, 0.5, 0.5, 0.5, 0.5], bef_sess_et_dayofweek_sin_seq=[-0.9749279022216797, -0.9749279022216797, -0.9749279022216797, -0.9749279022216797, -0.9749279022216797, -0.9749279022216797, -0.9749279022216797, -0.9749279022216797, -0.9749279022216797, -0.9749279022216797, -0.9749279022216797, -0.9749279022216797, -0.9749279022216797, -0.9749279022216797, -0.9749279022216797, -0.9749279022216797, -0.7818315029144287, -0.7818315029144287, -0.7818315029144287], bef_sess_et_dayofweek_cos_seq=[-0.22252093255519867, -0.22252093255519867, -0.22252093255519867, -0.22252093255519867, -0.22252093255519867, -0.22252093255519867, -0.22252093255519867, -0.22252093255519867, -0.22252093255519867, -0.22252093255519867, -0.22252093255519867, -0.22252093255519867, -0.22252093255519867, -0.22252093255519867, -0.22252093255519867, -0.22252093255519867, 0.6234897971153259, 0.6234897971153259, 0.6234897971153259], bef_sess_et_dayofmonth_sin_seq=[0.8978045582771301, 0.8978045582771301, 0.8978045582771301, 0.8978045582771301, 0.8978045582771301, 0.8978045582771301, 0.8978045582771301, 0.8978045582771301, 0.8978045582771301, 0.8978045582771301, 0.8978045582771301, 0.8978045582771301, 0.8978045582771301, 0.8978045582771301, 0.8978045582771301, 0.8978045582771301, 0.790775716304779, 0.790775716304779, 0.790775716304779], bef_sess_et_dayofmonth_cos_seq=[-0.44039416313171387, -0.44039416313171387, -0.44039416313171387, -0.44039416313171387, -0.44039416313171387, -0.44039416313171387, -0.44039416313171387, -0.44039416313171387, -0.44039416313171387, -0.44039416313171387, -0.44039416313171387, -0.44039416313171387, -0.44039416313171387, -0.44039416313171387, -0.44039416313171387, -0.44039416313171387, -0.6121059656143188, -0.6121059656143188, -0.6121059656143188], bef_sess_session_reversed_order_seq=[3, 3, 3, 3, 3, 3, 3, 3, 3, 3, 3, 3, 3, 3, 3, 3, 2, 2, 2], session_start_date=datetime.date(2019, 10, 13)),\n",
       " Row(user_idx=512456873, user_session='c20d9977-379d-4518-a4e4-31bdc0c175bc', session_start_ts=1570965330, sess_seq_len=5, bef_sess_seq_length=9, sess_pid_seq=[25, 27, 95, 72, 99], sess_etime_seq=[1570965330, 1570965350, 1570965393, 1570965434, 1570965451], sess_etype_seq=[2, 2, 2, 2, 2], sess_csid_seq=[2, 2, 2, 2, 2], sess_ccid_seq=[2, 2, 2, 2, 2], sess_bid_seq=[5, 5, 5, 5, 5], sess_price_log_norm_seq=[0.509908022213758, 0.12158615486782476, 0.1208428072621225, 0.4347698319730838, 0.42675679945742356], sess_dtime_secs_seq=[1014916, 20, 43, 41, 17], sess_dtime_secs_log_norm_seq=[2.5906969972230645, -0.4979658039117755, -0.28615178710279465, -0.2994734423341396, -0.5421090008198157], sess_prod_recency_days_seq=[12.468125, 12.395983796296296, 12.370428240740742, 12.373576388888889, 12.469293981481481], sess_prod_recency_days_log_norm_seq=[0.1587959675399037, 0.15221562685228482, 0.1498760803181173, 0.15016452671158856, 0.1589023054299245], sess_relative_price_to_avg_category_seq=[-0.4485706292190234, -0.6631236040661816, -0.6634416370101833, -0.49868069495829387, -0.5037493450033212], sess_et_hour_sin_seq=[0.258819043636322, 0.258819043636322, 0.258819043636322, 0.258819043636322, 0.258819043636322], sess_et_hour_cos_seq=[-0.9659258127212524, -0.9659258127212524, -0.9659258127212524, -0.9659258127212524, -0.9659258127212524], sess_et_month_sin_seq=[-0.8660253882408142, -0.8660253882408142, -0.8660253882408142, -0.8660253882408142, -0.8660253882408142], sess_et_month_cos_seq=[0.5, 0.5, 0.5, 0.5, 0.5], sess_et_dayofweek_sin_seq=[0.7818315029144287, 0.7818315029144287, 0.7818315029144287, 0.7818315029144287, 0.7818315029144287], sess_et_dayofweek_cos_seq=[0.6234897971153259, 0.6234897971153259, 0.6234897971153259, 0.6234897971153259, 0.6234897971153259], sess_et_dayofmonth_sin_seq=[0.4853019714355469, 0.4853019714355469, 0.4853019714355469, 0.4853019714355469, 0.4853019714355469], sess_et_dayofmonth_cos_seq=[-0.8743466138839722, -0.8743466138839722, -0.8743466138839722, -0.8743466138839722, -0.8743466138839722], sess_session_reversed_order_seq=[1, 1, 1, 1, 1, 1, 1, 1, 1, 1, 1, 1, 1, 1, 1, 1, 1, 1, 1, 1], bef_sess_pid_seq=[12, 51, 127, 234, 118, 598, 2453, 544, 2302], bef_sess_etime_seq=[1569950096, 1569950154, 1569950166, 1569950207, 1569950233, 1569950268, 1569950351, 1569950402, 1569950414], bef_sess_etype_seq=[2, 2, 2, 2, 2, 2, 2, 2, 2], bef_sess_csid_seq=[2, 2, 2, 2, 2, 2, 2, 2, 2], bef_sess_ccid_seq=[2, 2, 2, 2, 2, 2, 2, 2, 2], bef_sess_bid_seq=[2, 2, 2, 5, 5, 5, 2, 2, 2], bef_sess_price_log_seq=[0.7755336165428162, 0.45006608963012695, 0.5357822179794312, 0.7107015252113342, 0.9518063068389893, 1.1317671537399292, 1.234928011894226, 1.2636889219284058, 1.2636889219284058], bef_sess_dtime_secs_seq=[1014916.0, 20.0, 43.0, 41.0, 17.0], bef_sess_dtime_secs_log_norm_seq=[2.5906970500946045, -0.49796581268310547, -0.28615179657936096, -0.29947343468666077, -0.5421090126037598], bef_sess_prod_recency_days_seq=[29.009977340698242], bef_sess_prod_recency_days_log_norm_seq=[1.1404298543930054], bef_sess_relative_price_to_avg_category_seq=[-0.22793526947498322, -0.48886144161224365, -0.43018436431884766, -0.28879883885383606, -0.03488927707076073, 0.21194404363632202, 0.380899041891098, 0.4320625960826874, 0.4320625960826874], bef_sess_et_hour_sin_seq=[-0.9659258127212524, -0.9659258127212524, -0.9659258127212524, -0.9659258127212524, -0.9659258127212524, -0.9659258127212524, -0.9659258127212524, -0.9659258127212524, -0.9659258127212524], bef_sess_et_hour_cos_seq=[-0.258819043636322, -0.258819043636322, -0.258819043636322, -0.258819043636322, -0.258819043636322, -0.258819043636322, -0.258819043636322, -0.258819043636322, -0.258819043636322], bef_sess_et_month_sin_seq=[-0.8660253882408142, -0.8660253882408142, -0.8660253882408142, -0.8660253882408142, -0.8660253882408142, -0.8660253882408142, -0.8660253882408142, -0.8660253882408142, -0.8660253882408142], bef_sess_et_month_cos_seq=[0.5, 0.5, 0.5, 0.5, 0.5, 0.5, 0.5, 0.5, 0.5], bef_sess_et_dayofweek_sin_seq=[0.4338837265968323, 0.4338837265968323, 0.4338837265968323, 0.4338837265968323, 0.4338837265968323, 0.4338837265968323, 0.4338837265968323, 0.4338837265968323, 0.4338837265968323], bef_sess_et_dayofweek_cos_seq=[-0.9009688496589661, -0.9009688496589661, -0.9009688496589661, -0.9009688496589661, -0.9009688496589661, -0.9009688496589661, -0.9009688496589661, -0.9009688496589661, -0.9009688496589661], bef_sess_et_dayofmonth_sin_seq=[0.2012985199689865, 0.2012985199689865, 0.2012985199689865, 0.2012985199689865, 0.2012985199689865, 0.2012985199689865, 0.2012985199689865, 0.2012985199689865, 0.2012985199689865], bef_sess_et_dayofmonth_cos_seq=[0.9795299172401428, 0.9795299172401428, 0.9795299172401428, 0.9795299172401428, 0.9795299172401428, 0.9795299172401428, 0.9795299172401428, 0.9795299172401428, 0.9795299172401428], bef_sess_session_reversed_order_seq=[2, 2, 2, 2, 2, 2, 2, 2, 2], session_start_date=datetime.date(2019, 10, 13)),\n",
       " Row(user_idx=512461750, user_session='51cd3cc5-6d95-4e8a-8c40-94ab91fe5c2f', session_start_ts=1570959351, sess_seq_len=2, bef_sess_seq_length=5, sess_pid_seq=[60, 26089], sess_etime_seq=[1570959351, 1570959376], sess_etype_seq=[2, 2], sess_csid_seq=[10, 10], sess_ccid_seq=[10, 10], sess_bid_seq=[2, 23], sess_price_log_norm_seq=[-0.6415181414393342, -1.4259195175423192], sess_dtime_secs_seq=[1027807, 25], sess_dtime_secs_log_norm_seq=[2.5943113521948296, -0.43680588185058433], sess_prod_recency_days_seq=[12.299236111111112, 12.258009259259259], sess_prod_recency_days_log_norm_seq=[0.14333496426394826, 0.13953102228776523], sess_relative_price_to_avg_category_seq=[-0.6341267531278079, -0.867755280652569], sess_et_hour_sin_seq=[0.7071067690849304, 0.7071067690849304], sess_et_hour_cos_seq=[-0.7071067690849304, -0.7071067690849304], sess_et_month_sin_seq=[-0.8660253882408142, -0.8660253882408142], sess_et_month_cos_seq=[0.5, 0.5], sess_et_dayofweek_sin_seq=[0.7818315029144287, 0.7818315029144287], sess_et_dayofweek_cos_seq=[0.6234897971153259, 0.6234897971153259], sess_et_dayofmonth_sin_seq=[0.4853019714355469, 0.4853019714355469], sess_et_dayofmonth_cos_seq=[-0.8743466138839722, -0.8743466138839722], sess_session_reversed_order_seq=[1, 1, 1, 1, 1, 1, 1, 1, 1, 1, 1, 1, 1, 1, 1, 1, 1, 1, 1, 1], bef_sess_pid_seq=[251, 253, 49, 9, 23], bef_sess_etime_seq=[1569931417, 1569931448, 1569931513, 1569931535, 1569931544], bef_sess_etype_seq=[2, 2, 2, 2, 2], bef_sess_csid_seq=[11, 11, 2, 2, 2], bef_sess_ccid_seq=[3, 3, 2, 2, 2], bef_sess_bid_seq=[2, 2, 2, 2, 2], bef_sess_price_log_seq=[0.4586975872516632, 0.4586975872516632, 1.671073079109192, 0.5362774133682251, 1.3336108922958374], bef_sess_dtime_secs_seq=[1027807.0, 25.0], bef_sess_dtime_secs_log_norm_seq=[2.594311237335205, -0.4368058741092682], bef_sess_prod_recency_days_seq=[12.333136558532715, 12.306562423706055, 12.303946495056152, 12.269919395446777, 3.1582870483398438], bef_sess_prod_recency_days_log_norm_seq=[0.1464540809392929, 0.14400972425937653, 0.14376886188983917, 0.14063112437725067, -1.2810847759246826], bef_sess_relative_price_to_avg_category_seq=[-0.22236692905426025, -0.22236692905426025, 1.3971136808395386, -0.429826557636261, 0.5644835829734802], bef_sess_et_hour_sin_seq=[-2.6179940437742744e-09, -2.6179940437742744e-09, -2.6179940437742744e-09, -2.6179940437742744e-09, -2.6179940437742744e-09], bef_sess_et_hour_cos_seq=[-1.0, -1.0, -1.0, -1.0, -1.0], bef_sess_et_month_sin_seq=[-0.8660253882408142, -0.8660253882408142, -0.8660253882408142, -0.8660253882408142, -0.8660253882408142], bef_sess_et_month_cos_seq=[0.5, 0.5, 0.5, 0.5, 0.5], bef_sess_et_dayofweek_sin_seq=[0.4338837265968323, 0.4338837265968323, 0.4338837265968323, 0.4338837265968323, 0.4338837265968323], bef_sess_et_dayofweek_cos_seq=[-0.9009688496589661, -0.9009688496589661, -0.9009688496589661, -0.9009688496589661, -0.9009688496589661], bef_sess_et_dayofmonth_sin_seq=[0.2012985199689865, 0.2012985199689865, 0.2012985199689865, 0.2012985199689865, 0.2012985199689865], bef_sess_et_dayofmonth_cos_seq=[0.9795299172401428, 0.9795299172401428, 0.9795299172401428, 0.9795299172401428, 0.9795299172401428], bef_sess_session_reversed_order_seq=[2, 2, 2, 2, 2], session_start_date=datetime.date(2019, 10, 13)),\n",
       " Row(user_idx=512461750, user_session='f242bbe8-1671-467d-b3cb-4ea42499d32d', session_start_ts=1570959448, sess_seq_len=6, bef_sess_seq_length=7, sess_pid_seq=[74, 329, 484, 673, 452, 534], sess_etime_seq=[1570959448, 1570959565, 1570959586, 1570959602, 1570959614, 1570959637], sess_etype_seq=[2, 2, 2, 2, 2, 2], sess_csid_seq=[2, 2, 2, 2, 2, 2], sess_ccid_seq=[2, 2, 2, 2, 2, 2], sess_bid_seq=[2, 2, 2, 2, 2, 2], sess_price_log_norm_seq=[1.4001028846667494, 1.676355154885322, 1.673345799498285, 1.5558220015206952, 1.866758925968824, 1.701561974198494], sess_dtime_secs_seq=[72, 117, 21, 16, 12, 23], sess_dtime_secs_log_norm_seq=[-0.14117436751438409, -0.0036551891939938254, -0.48464414868043043, -0.5584771097371136, -0.6352982434282203, -0.45972722744468153], sess_prod_recency_days_seq=[12.333136574074073, 12.3065625, 12.30394675925926, 12.269918981481482, 3.158287037037037, 12.295810185185186], sess_prod_recency_days_log_norm_seq=[0.14645408648453492, 0.14400972541050228, 0.14376885807939105, 0.14063112874995398, -1.2810847426874963, 0.143019308583819], sess_relative_price_to_avg_category_seq=[0.7017346521761858, 1.4131743479080259, 1.4040110237089767, 1.072084015466185, 2.069852746094571, 1.4913110668374476], sess_et_hour_sin_seq=[0.7071067690849304, 0.7071067690849304, 0.7071067690849304, 0.7071067690849304, 0.7071067690849304, 0.7071067690849304], sess_et_hour_cos_seq=[-0.7071067690849304, -0.7071067690849304, -0.7071067690849304, -0.7071067690849304, -0.7071067690849304, -0.7071067690849304], sess_et_month_sin_seq=[-0.8660253882408142, -0.8660253882408142, -0.8660253882408142, -0.8660253882408142, -0.8660253882408142, -0.8660253882408142], sess_et_month_cos_seq=[0.5, 0.5, 0.5, 0.5, 0.5, 0.5], sess_et_dayofweek_sin_seq=[0.7818315029144287, 0.7818315029144287, 0.7818315029144287, 0.7818315029144287, 0.7818315029144287, 0.7818315029144287], sess_et_dayofweek_cos_seq=[0.6234897971153259, 0.6234897971153259, 0.6234897971153259, 0.6234897971153259, 0.6234897971153259, 0.6234897971153259], sess_et_dayofmonth_sin_seq=[0.4853019714355469, 0.4853019714355469, 0.4853019714355469, 0.4853019714355469, 0.4853019714355469, 0.4853019714355469], sess_et_dayofmonth_cos_seq=[-0.8743466138839722, -0.8743466138839722, -0.8743466138839722, -0.8743466138839722, -0.8743466138839722, -0.8743466138839722], sess_session_reversed_order_seq=[1, 1, 1, 1, 1, 1, 1, 1, 1, 1, 1, 1, 1, 1, 1, 1, 1, 1, 1, 1], bef_sess_pid_seq=[251, 253, 49, 9, 23, 60, 26089], bef_sess_etime_seq=[1569931417, 1569931448, 1569931513, 1569931535, 1569931544, 1570959351, 1570959376], bef_sess_etype_seq=[2, 2, 2, 2, 2, 2, 2], bef_sess_csid_seq=[11, 11, 2, 2, 2, 10, 10], bef_sess_ccid_seq=[3, 3, 2, 2, 2, 10, 10], bef_sess_bid_seq=[2, 2, 2, 2, 2, 2, 23], bef_sess_price_log_seq=[0.4586975872516632, 0.4586975872516632, 1.671073079109192, 0.5362774133682251, 1.3336108922958374, -0.6415181159973145, -1.425919532775879], bef_sess_dtime_secs_seq=[1027807.0, 25.0], bef_sess_dtime_secs_log_norm_seq=[2.594311237335205, -0.4368058741092682], bef_sess_prod_recency_days_seq=[12.333136558532715, 12.306562423706055, 12.303946495056152, 12.269919395446777, 3.1582870483398438, 12.295809745788574], bef_sess_prod_recency_days_log_norm_seq=[0.1464540809392929, 0.14400972425937653, 0.14376886188983917, 0.14063112437725067, -1.2810847759246826, 0.14301930367946625], bef_sess_relative_price_to_avg_category_seq=[-0.22236692905426025, -0.22236692905426025, 1.3971136808395386, -0.429826557636261, 0.5644835829734802, -0.6341267824172974, -0.8677552938461304], bef_sess_et_hour_sin_seq=[-2.6179940437742744e-09, -2.6179940437742744e-09, -2.6179940437742744e-09, -2.6179940437742744e-09, -2.6179940437742744e-09, 0.7071067690849304, 0.7071067690849304], bef_sess_et_hour_cos_seq=[-1.0, -1.0, -1.0, -1.0, -1.0, -0.7071067690849304, -0.7071067690849304], bef_sess_et_month_sin_seq=[-0.8660253882408142, -0.8660253882408142, -0.8660253882408142, -0.8660253882408142, -0.8660253882408142, -0.8660253882408142, -0.8660253882408142], bef_sess_et_month_cos_seq=[0.5, 0.5, 0.5, 0.5, 0.5, 0.5, 0.5], bef_sess_et_dayofweek_sin_seq=[0.4338837265968323, 0.4338837265968323, 0.4338837265968323, 0.4338837265968323, 0.4338837265968323, 0.7818315029144287, 0.7818315029144287], bef_sess_et_dayofweek_cos_seq=[-0.9009688496589661, -0.9009688496589661, -0.9009688496589661, -0.9009688496589661, -0.9009688496589661, 0.6234897971153259, 0.6234897971153259], bef_sess_et_dayofmonth_sin_seq=[0.2012985199689865, 0.2012985199689865, 0.2012985199689865, 0.2012985199689865, 0.2012985199689865, 0.4853019714355469, 0.4853019714355469], bef_sess_et_dayofmonth_cos_seq=[0.9795299172401428, 0.9795299172401428, 0.9795299172401428, 0.9795299172401428, 0.9795299172401428, -0.8743466138839722, -0.8743466138839722], bef_sess_session_reversed_order_seq=[3, 3, 3, 3, 3, 2, 2], session_start_date=datetime.date(2019, 10, 13)),\n",
       " Row(user_idx=512473397, user_session='719e5298-0991-4f86-9395-266144dbf430', session_start_ts=1570985857, sess_seq_len=10, bef_sess_seq_length=20, sess_pid_seq=[39, 418, 34, 4727, 2327, 6573, 6496, 11695, 16320, 7903], sess_etime_seq=[1570985857, 1570985943, 1570986029, 1570986232, 1570986893, 1570987023, 1570987119, 1570987491, 1570987513, 1570987594], sess_etype_seq=[2, 2, 2, 2, 2, 2, 2, 2, 2, 2], sess_csid_seq=[5, 5, 5, 5, 5, 5, 5, 5, 5, 5], sess_ccid_seq=[6, 6, 6, 6, 6, 6, 6, 6, 6, 6], sess_bid_seq=[16, 121, 2, 8, 8, 8, 2, 8, 8, 8], sess_price_log_norm_seq=[0.02641774765671255, 0.7439926160214212, 0.7358268820576588, 1.0548433870142437, 1.108470596403705, 1.204468034223698, 1.1404947273815997, 1.0730187117087109, 1.368011789928018, 1.2914521252016689], sess_dtime_secs_seq=[43085, 86, 86, 203, 661, 130, 96, 372, 22, 81], sess_dtime_secs_log_norm_seq=[1.6859690573104589, -0.0909321919554438, -0.0909321919554438, 0.15311056319829572, 0.4902026110252505, 0.026273479591905603, -0.05977497570543708, 0.3259192990776247, -0.4719147665572205, -0.10788175070845037], sess_prod_recency_days_seq=[12.60818287037037, 12.699467592592592, 12.702175925925927, 12.540208333333334, 12.582766203703704, 12.470914351851851, 12.608229166666666, 12.554143518518519, 12.508900462962963, 12.566921296296297], sess_prod_recency_days_log_norm_seq=[0.1714712701596075, 0.17966255011525087, 0.17990474328585823, 0.16533591856430102, 0.16918076780941807, 0.15904968922399013, 0.171475438390481, 0.16659620831632735, 0.16249971663171647, 0.16775068459788967], sess_relative_price_to_avg_category_seq=[-0.6796523025332057, -0.20385586887139745, -0.2120474860936954, 0.18004085907775533, 0.26289565410745697, 0.4259813667753429, 0.31511721389960673, 0.20749557617436346, 0.7536887203402954, 0.5918402831903609], sess_et_hour_sin_seq=[-0.8660253882408142, -0.8660253882408142, -0.9659258127212524, -0.9659258127212524, -0.9659258127212524, -0.9659258127212524, -0.9659258127212524, -0.9659258127212524, -0.9659258127212524, -0.9659258127212524], sess_et_hour_cos_seq=[-0.5, -0.5, -0.258819043636322, -0.258819043636322, -0.258819043636322, -0.258819043636322, -0.258819043636322, -0.258819043636322, -0.258819043636322, -0.258819043636322], sess_et_month_sin_seq=[-0.8660253882408142, -0.8660253882408142, -0.8660253882408142, -0.8660253882408142, -0.8660253882408142, -0.8660253882408142, -0.8660253882408142, -0.8660253882408142, -0.8660253882408142, -0.8660253882408142], sess_et_month_cos_seq=[0.5, 0.5, 0.5, 0.5, 0.5, 0.5, 0.5, 0.5, 0.5, 0.5], sess_et_dayofweek_sin_seq=[0.7818315029144287, 0.7818315029144287, 0.7818315029144287, 0.7818315029144287, 0.7818315029144287, 0.7818315029144287, 0.7818315029144287, 0.7818315029144287, 0.7818315029144287, 0.7818315029144287], sess_et_dayofweek_cos_seq=[0.6234897971153259, 0.6234897971153259, 0.6234897971153259, 0.6234897971153259, 0.6234897971153259, 0.6234897971153259, 0.6234897971153259, 0.6234897971153259, 0.6234897971153259, 0.6234897971153259], sess_et_dayofmonth_sin_seq=[0.4853019714355469, 0.4853019714355469, 0.4853019714355469, 0.4853019714355469, 0.4853019714355469, 0.4853019714355469, 0.4853019714355469, 0.4853019714355469, 0.4853019714355469, 0.4853019714355469], sess_et_dayofmonth_cos_seq=[-0.8743466138839722, -0.8743466138839722, -0.8743466138839722, -0.8743466138839722, -0.8743466138839722, -0.8743466138839722, -0.8743466138839722, -0.8743466138839722, -0.8743466138839722, -0.8743466138839722], sess_session_reversed_order_seq=[1, 1, 1, 1, 1, 1, 1, 1, 1, 1, 1, 1, 1, 1, 1, 1, 1, 1, 1, 1], bef_sess_pid_seq=[54829, 16557, 26200, 12655, 19659, 47379, 190, 193, 1089, 5764, 6277, 14956, 24040, 16068, 796, 2015, 4038, 48264, 27656, 30595], bef_sess_etime_seq=[1570379174, 1570379227, 1570379279, 1570379469, 1570379561, 1570379631, 1570518089, 1570518094, 1570687571, 1570703946, 1570704129, 1570704181, 1570704539, 1570704665, 1570789818, 1570896659, 1570896754, 1570896975, 1570897028, 1570942772], bef_sess_etype_seq=[2, 2, 2, 2, 2, 2, 2, 2, 2, 2, 2, 2, 2, 2, 2, 2, 2, 2, 2, 2], bef_sess_csid_seq=[122, 122, 122, 68, 68, 68, 2, 2, 2, 102, 102, 102, 102, 102, 48, 38, 38, 38, 38, 2], bef_sess_ccid_seq=[62, 62, 62, 20, 20, 20, 2, 2, 2, 51, 51, 51, 51, 51, 29, 5, 5, 5, 5, 2], bef_sess_bid_seq=[78, 78, 3446, 78, 78, 370, 2, 2, 3446, 111, 107, 22, 22, 111, 2, 114, 114, 37, 12, 10], bef_sess_price_log_seq=[-0.9371101260185242, -1.033877968788147, 0.8012940883636475, -0.6758571863174438, -0.6758571863174438, -0.8971045613288879, 0.37291771173477173, 1.3184895515441895, -3.9464786052703857, -0.37678152322769165, -0.8674012422561646, -0.8114442825317383, -0.5493293404579163, -0.3546951115131378, -0.11088141053915024, -1.092561960220337, -1.092561960220337, -0.5518258810043335, -0.8150743842124939, 0.19077567756175995], bef_sess_dtime_secs_seq=[346543.0], bef_sess_dtime_secs_log_norm_seq=[2.2829840183258057], bef_sess_prod_recency_days_seq=[30.585752487182617], bef_sess_prod_recency_days_log_norm_seq=[1.2031309604644775], bef_sess_relative_price_to_avg_category_seq=[-0.2851194143295288, -0.3692518472671509, 5.555794715881348, -0.2990398108959198, -0.2990398108959198, -0.47273513674736023, -0.536506712436676, 0.534846842288971, -1.0, -0.41560912132263184, -0.6885503530502319, -0.6652631759643555, -0.5313294529914856, -0.39889177680015564, 0.09879733622074127, -0.608660101890564, -0.608660101890564, -0.21447649598121643, -0.43978676199913025, -0.6321750283241272], bef_sess_et_hour_sin_seq=[-0.8660253882408142, -0.8660253882408142, -0.8660253882408142, -0.8660253882408142, -0.8660253882408142, -0.8660253882408142, 0.9659258127212524, 0.9659258127212524, 1.0, 0.5, 0.5, 0.5, 0.5, 0.5, 0.5, -0.8660253882408142, -0.8660253882408142, -0.8660253882408142, -0.8660253882408142, 0.8660253882408142], bef_sess_et_hour_cos_seq=[-0.5, -0.5, -0.5, -0.5, -0.5, -0.5, -0.258819043636322, -0.258819043636322, -2.6179938217296694e-09, -0.8660253882408142, -0.8660253882408142, -0.8660253882408142, -0.8660253882408142, -0.8660253882408142, -0.8660253882408142, -0.5, -0.5, -0.5, -0.5, 0.5], bef_sess_et_month_sin_seq=[-0.8660253882408142, -0.8660253882408142, -0.8660253882408142, -0.8660253882408142, -0.8660253882408142, -0.8660253882408142, -0.8660253882408142, -0.8660253882408142, -0.8660253882408142, -0.8660253882408142, -0.8660253882408142, -0.8660253882408142, -0.8660253882408142, -0.8660253882408142, -0.8660253882408142, -0.8660253882408142, -0.8660253882408142, -0.8660253882408142, -0.8660253882408142, -0.8660253882408142], bef_sess_et_month_cos_seq=[0.5, 0.5, 0.5, 0.5, 0.5, 0.5, 0.5, 0.5, 0.5, 0.5, 0.5, 0.5, 0.5, 0.5, 0.5, 0.5, 0.5, 0.5, 0.5, 0.5], bef_sess_et_dayofweek_sin_seq=[0.7818315029144287, 0.7818315029144287, 0.7818315029144287, 0.7818315029144287, 0.7818315029144287, 0.7818315029144287, 0.4338837265968323, 0.4338837265968323, -0.9749279022216797, -0.9749279022216797, -0.9749279022216797, -0.9749279022216797, -0.9749279022216797, -0.9749279022216797, -0.7818315029144287, 8.97597907112413e-09, 8.97597907112413e-09, 8.97597907112413e-09, 8.97597907112413e-09, 0.7818315029144287], bef_sess_et_dayofweek_cos_seq=[0.6234897971153259, 0.6234897971153259, 0.6234897971153259, 0.6234897971153259, 0.6234897971153259, 0.6234897971153259, -0.9009688496589661, -0.9009688496589661, -0.22252093255519867, -0.22252093255519867, -0.22252093255519867, -0.22252093255519867, -0.22252093255519867, -0.22252093255519867, 0.6234897971153259, 1.0, 1.0, 1.0, 1.0, 0.6234897971153259], bef_sess_et_dayofmonth_sin_seq=[0.9377521276473999, 0.9377521276473999, 0.9377521276473999, 0.9377521276473999, 0.9377521276473999, 0.9377521276473999, 0.9987165331840515, 0.9987165331840515, 0.8978045582771301, 0.8978045582771301, 0.8978045582771301, 0.8978045582771301, 0.8978045582771301, 0.8978045582771301, 0.790775716304779, 0.651372492313385, 0.651372492313385, 0.651372492313385, 0.651372492313385, 0.4853019714355469], bef_sess_et_dayofmonth_cos_seq=[0.3473052382469177, 0.3473052382469177, 0.3473052382469177, 0.3473052382469177, 0.3473052382469177, 0.3473052382469177, -0.05064916983246803, -0.05064916983246803, -0.44039416313171387, -0.44039416313171387, -0.44039416313171387, -0.44039416313171387, -0.44039416313171387, -0.44039416313171387, -0.6121059656143188, -0.7587581276893616, -0.7587581276893616, -0.7587581276893616, -0.7587581276893616, -0.8743466138839722], bef_sess_session_reversed_order_seq=[8, 8, 8, 8, 8, 8, 7, 7, 6, 5, 5, 5, 5, 5, 4, 3, 3, 3, 3, 2], session_start_date=datetime.date(2019, 10, 13)),\n",
       " Row(user_idx=512505241, user_session='5074830a-2dca-4d8d-83ca-6ac1c7a76135', session_start_ts=1570950014, sess_seq_len=3, bef_sess_seq_length=5, sess_pid_seq=[5397, 5061, 5617], sess_etime_seq=[1570950014, 1570950203, 1570950217], sess_etype_seq=[2, 2, 2], sess_csid_seq=[208, 208, 208], sess_ccid_seq=[85, 85, 85], sess_bid_seq=[249, 249, 249], sess_price_log_norm_seq=[0.44211423676419415, 0.08562865547527937, 0.19090332630441492], sess_dtime_secs_seq=[311453, 189, 14], sess_dtime_secs_log_norm_seq=[2.252412272808673, 0.13275125454159442, -0.5943193212099357], sess_prod_recency_days_seq=[12.089074074074073, 12.16636574074074, 12.144201388888888], sess_prod_recency_days_log_norm_seq=[0.12381907883843236, 0.1310326615780607, 0.12896841621604369], sess_relative_price_to_avg_category_seq=[0.615118998907848, 0.027237762160386817, 0.17423979384006183], sess_et_hour_sin_seq=[0.9659258127212524, 0.9659258127212524, 0.9659258127212524], sess_et_hour_cos_seq=[-0.258819043636322, -0.258819043636322, -0.258819043636322], sess_et_month_sin_seq=[-0.8660253882408142, -0.8660253882408142, -0.8660253882408142], sess_et_month_cos_seq=[0.5, 0.5, 0.5], sess_et_dayofweek_sin_seq=[0.7818315029144287, 0.7818315029144287, 0.7818315029144287], sess_et_dayofweek_cos_seq=[0.6234897971153259, 0.6234897971153259, 0.6234897971153259], sess_et_dayofmonth_sin_seq=[0.4853019714355469, 0.4853019714355469, 0.4853019714355469], sess_et_dayofmonth_cos_seq=[-0.8743466138839722, -0.8743466138839722, -0.8743466138839722], sess_session_reversed_order_seq=[1, 1, 1, 1, 1, 1, 1, 1, 1, 1, 1, 1, 1, 1, 1, 1, 1, 1, 1, 1], bef_sess_pid_seq=[731, 5911, 182, 175, 963], bef_sess_etime_seq=[1569907204, 1569907260, 1570590552, 1570590583, 1570638561], bef_sess_etype_seq=[2, 2, 2, 2, 2], bef_sess_csid_seq=[81, 258, 11, 11, 11], bef_sess_ccid_seq=[128, 43, 3, 3, 3], bef_sess_bid_seq=[8, 9, 3, 3, 3], bef_sess_price_log_seq=[0.4492376446723938, 1.1577792167663574, 1.141814112663269, 0.8983646631240845, 0.9103543162345886], bef_sess_dtime_secs_seq=[783443.0], bef_sess_dtime_secs_log_norm_seq=[2.516568183898926], bef_sess_prod_recency_days_seq=[13.499675750732422], bef_sess_prod_recency_days_log_norm_seq=[0.2492162436246872], bef_sess_relative_price_to_avg_category_seq=[-0.04740540310740471, 0.7550073266029358, 0.8470804691314697, 0.3573133945465088, 0.3780718147754669], bef_sess_et_hour_sin_seq=[0.9659258127212524, 0.9659258127212524, 0.7071067690849304, 0.7071067690849304, -0.8660253882408142], bef_sess_et_hour_cos_seq=[0.258819043636322, 0.258819043636322, 0.7071067690849304, 0.7071067690849304, -0.5], bef_sess_et_month_sin_seq=[-0.8660253882408142, -0.8660253882408142, -0.8660253882408142, -0.8660253882408142, -0.8660253882408142], bef_sess_et_month_cos_seq=[0.5, 0.5, 0.5, 0.5, 0.5], bef_sess_et_dayofweek_sin_seq=[0.4338837265968323, 0.4338837265968323, -0.43388375639915466, -0.43388375639915466, -0.43388375639915466], bef_sess_et_dayofweek_cos_seq=[-0.9009688496589661, -0.9009688496589661, -0.9009688496589661, -0.9009688496589661, -0.9009688496589661], bef_sess_et_dayofmonth_sin_seq=[0.2012985199689865, 0.2012985199689865, 0.9680771231651306, 0.9680771231651306, 0.9680771231651306], bef_sess_et_dayofmonth_cos_seq=[0.9795299172401428, 0.9795299172401428, -0.2506525218486786, -0.2506525218486786, -0.2506525218486786], bef_sess_session_reversed_order_seq=[4, 4, 3, 3, 2], session_start_date=datetime.date(2019, 10, 13)),\n",
       " Row(user_idx=512512370, user_session='7a09b3e8-c85c-4085-8ae1-e5a51279df2f', session_start_ts=1570950461, sess_seq_len=4, bef_sess_seq_length=10, sess_pid_seq=[17, 1953, 277, 52], sess_etime_seq=[1570950461, 1570950585, 1570950630, 1570950937], sess_etype_seq=[2, 2, 2, 2], sess_csid_seq=[2, 2, 2, 2], sess_ccid_seq=[2, 2, 2, 2], sess_bid_seq=[3, 3, 3, 3], sess_price_log_norm_seq=[1.4841640189485263, 1.1640015689099503, 1.1167838606175438, 1.2365308601744531], sess_dtime_secs_seq=[429048, 124, 45, 307], sess_dtime_secs_log_norm_seq=[2.344140222055858, 0.012847710945233879, -0.2734224049795846, 0.2710867211630193], sess_prod_recency_days_seq=[12.295798611111111, 11.498634259259259, 12.297743055555555, 12.204791666666667], sess_prod_recency_days_log_norm_seq=[0.14301824204164584, 0.06726580753033332, 0.1431974081039543, 0.13460318466852023], sess_relative_price_to_avg_category_seq=[0.892594172695216, 0.26239201709681437, 0.18918480879941912, 0.38370170817446914], sess_et_hour_sin_seq=[0.9659258127212524, 0.9659258127212524, 0.9659258127212524, 0.9659258127212524], sess_et_hour_cos_seq=[-0.258819043636322, -0.258819043636322, -0.258819043636322, -0.258819043636322], sess_et_month_sin_seq=[-0.8660253882408142, -0.8660253882408142, -0.8660253882408142, -0.8660253882408142], sess_et_month_cos_seq=[0.5, 0.5, 0.5, 0.5], sess_et_dayofweek_sin_seq=[0.7818315029144287, 0.7818315029144287, 0.7818315029144287, 0.7818315029144287], sess_et_dayofweek_cos_seq=[0.6234897971153259, 0.6234897971153259, 0.6234897971153259, 0.6234897971153259], sess_et_dayofmonth_sin_seq=[0.4853019714355469, 0.4853019714355469, 0.4853019714355469, 0.4853019714355469], sess_et_dayofmonth_cos_seq=[-0.8743466138839722, -0.8743466138839722, -0.8743466138839722, -0.8743466138839722], sess_session_reversed_order_seq=[1, 1, 1, 1, 1, 1, 1, 1, 1, 1, 1, 1, 1, 1, 1, 1, 1, 1, 1, 1], bef_sess_pid_seq=[8, 19, 438, 276, 65, 833, 632, 2466, 895, 60067], bef_sess_etime_seq=[1570110165, 1570110316, 1570110407, 1570110527, 1570110569, 1570520682, 1570520751, 1570520935, 1570520960, 1570521413], bef_sess_etype_seq=[2, 2, 2, 2, 2, 2, 2, 2, 2, 2], bef_sess_csid_seq=[2, 2, 2, 2, 2, 36, 36, 36, 36, 338], bef_sess_ccid_seq=[2, 2, 2, 2, 2, 128, 128, 128, 128, 128], bef_sess_bid_seq=[3, 3, 3, 3, 3, 3446, 25, 3446, 3446, 3446], bef_sess_price_log_seq=[0.9132125377655029, 1.10019052028656, 0.9321359395980835, 1.087585210800171, 1.0954548120498657, -0.005753418430685997, 0.5706415772438049, 0.5195451974868774, 0.6864606142044067, -0.0017276251455768943], bef_sess_dtime_secs_seq=[1092751.0], bef_sess_dtime_secs_log_norm_seq=[2.6118571758270264], bef_sess_prod_recency_days_seq=[23.584699630737305], bef_sess_prod_recency_days_log_norm_seq=[0.8961184620857239], bef_sess_relative_price_to_avg_category_seq=[-0.08090467005968094, 0.1644776314496994, -0.058622486889362335, 0.1460515856742859, 0.15752065181732178, -0.4484892785549164, 0.14633119106292725, 0.0744415894150734, 0.327528178691864, -0.21952258050441742], bef_sess_et_hour_sin_seq=[-0.258819043636322, -0.258819043636322, -0.258819043636322, -0.258819043636322, -0.258819043636322, 0.9659258127212524, 0.9659258127212524, 0.9659258127212524, 0.9659258127212524, 0.9659258127212524], bef_sess_et_hour_cos_seq=[-0.9659258127212524, -0.9659258127212524, -0.9659258127212524, -0.9659258127212524, -0.9659258127212524, -0.258819043636322, -0.258819043636322, -0.258819043636322, -0.258819043636322, -0.258819043636322], bef_sess_et_month_sin_seq=[-0.8660253882408142, -0.8660253882408142, -0.8660253882408142, -0.8660253882408142, -0.8660253882408142, -0.8660253882408142, -0.8660253882408142, -0.8660253882408142, -0.8660253882408142, -0.8660253882408142], bef_sess_et_month_cos_seq=[0.5, 0.5, 0.5, 0.5, 0.5, 0.5, 0.5, 0.5, 0.5, 0.5], bef_sess_et_dayofweek_sin_seq=[-0.9749279022216797, -0.9749279022216797, -0.9749279022216797, -0.9749279022216797, -0.9749279022216797, 0.4338837265968323, 0.4338837265968323, 0.4338837265968323, 0.4338837265968323, 0.4338837265968323], bef_sess_et_dayofweek_cos_seq=[-0.22252093255519867, -0.22252093255519867, -0.22252093255519867, -0.22252093255519867, -0.22252093255519867, -0.9009688496589661, -0.9009688496589661, -0.9009688496589661, -0.9009688496589661, -0.9009688496589661], bef_sess_et_dayofmonth_sin_seq=[0.5712682008743286, 0.5712682008743286, 0.5712682008743286, 0.5712682008743286, 0.5712682008743286, 0.9987165331840515, 0.9987165331840515, 0.9987165331840515, 0.9987165331840515, 0.9987165331840515], bef_sess_et_dayofmonth_cos_seq=[0.8207634687423706, 0.8207634687423706, 0.8207634687423706, 0.8207634687423706, 0.8207634687423706, -0.05064916983246803, -0.05064916983246803, -0.05064916983246803, -0.05064916983246803, -0.05064916983246803], bef_sess_session_reversed_order_seq=[3, 3, 3, 3, 3, 2, 2, 2, 2, 2], session_start_date=datetime.date(2019, 10, 13))]"
      ]
     },
     "execution_count": 142,
     "metadata": {},
     "output_type": "execute_result"
    }
   ],
   "source": [
    "check_df.take(10)"
   ]
  },
  {
   "cell_type": "code",
   "execution_count": 143,
   "metadata": {},
   "outputs": [
    {
     "data": {
      "text/plain": [
       "3929658"
      ]
     },
     "execution_count": 143,
     "metadata": {},
     "output_type": "execute_result"
    }
   ],
   "source": [
    "check_df.count()"
   ]
  }
 ],
 "metadata": {
  "kernelspec": {
   "display_name": "Python 3",
   "language": "python",
   "name": "python3"
  },
  "language_info": {
   "codemirror_mode": {
    "name": "ipython",
    "version": 3
   },
   "file_extension": ".py",
   "mimetype": "text/x-python",
   "name": "python",
   "nbconvert_exporter": "python",
   "pygments_lexer": "ipython3",
   "version": "3.8.8"
  }
 },
 "nbformat": 4,
 "nbformat_minor": 4
}
