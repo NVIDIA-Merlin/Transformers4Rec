{
 "cells": [
  {
   "cell_type": "markdown",
   "metadata": {},
   "source": [
    "# Read, Parse, Process E-Commerce data with NVTabular\n",
    "eCommerce dataset: https://www.kaggle.com/mkechinov/ecommerce-behavior-data-from-multi-category-store"
   ]
  },
  {
   "cell_type": "markdown",
   "metadata": {},
   "source": [
    "## Data Download from Kaggle"
   ]
  },
  {
   "cell_type": "code",
   "execution_count": 1,
   "metadata": {},
   "outputs": [],
   "source": [
    "# !pip install kaggle --upgrade"
   ]
  },
  {
   "cell_type": "code",
   "execution_count": 2,
   "metadata": {},
   "outputs": [],
   "source": [
    "# # NOTE: first to get kaggle api tiken from account page in Kaggle. Place it at ~/.kaggle/kaggle.json\n",
    "# !mkdir -p ~/.kaggle/ && cp /mount/workspace/kaggle.json ~/.kaggle/ && chmod 600 ~/.kaggle/kaggle.json\n",
    "# !mkdir -p ~/data\n",
    "# !cd ~/data && kaggle datasets download mkechinov/ecommerce-behavior-data-from-multi-category-store\n",
    "# !cd ~/data && unzip ecommerce-behavior-data-from-multi-category-store.zip"
   ]
  },
  {
   "cell_type": "markdown",
   "metadata": {},
   "source": [
    "### Downloading additional months from Google Drive"
   ]
  },
  {
   "cell_type": "code",
   "execution_count": 3,
   "metadata": {},
   "outputs": [],
   "source": [
    "# !pip install gdown\n",
    "# !cd ~/data "
   ]
  },
  {
   "cell_type": "code",
   "execution_count": 4,
   "metadata": {},
   "outputs": [],
   "source": [
    "# !gdown https://drive.google.com/uc?id=1qZIwMbMgMmgDC5EoMdJ8aI9lQPsWA3-P -O .\n",
    "# !echo \"Unziping\" && gunzip 2019-Dec.csv.gz"
   ]
  },
  {
   "cell_type": "code",
   "execution_count": 5,
   "metadata": {},
   "outputs": [],
   "source": [
    "# !cd ~/data && gdown https://drive.google.com/uc?id=1x5ohrrZNhWQN4Q-zww0RmXOwctKHH9PT\n",
    "# !cd ~/data && echo \"Unziping\" && gunzip 2020-Jan.csv.gz"
   ]
  },
  {
   "cell_type": "code",
   "execution_count": 6,
   "metadata": {},
   "outputs": [],
   "source": [
    "# !cd ~/data && gdown https://drive.google.com/uc?id=1-Rov9fFtGJqb7_ePc6qH-Rhzxn0cIcKB\n",
    "# !cd ~/data && echo \"Unziping\" && gunzip 2020-Feb.csv.gz"
   ]
  },
  {
   "cell_type": "code",
   "execution_count": 7,
   "metadata": {},
   "outputs": [],
   "source": [
    "# !cd ~/data && gdown https://drive.google.com/uc?id=1zr_RXpGvOWN2PrWI6itWL8HnRsCpyqz8\n",
    "# !cd ~/data && echo \"Unziping\" && gunzip 2020-Mar.csv.gz"
   ]
  },
  {
   "cell_type": "code",
   "execution_count": 8,
   "metadata": {},
   "outputs": [],
   "source": [
    "# !cd ~/data && gdown https://drive.google.com/uc?id=1g5WoIgLe05UMdREbxAjh0bEFgVCjA1UL\n",
    "# !cd ~/data && echo \"Unziping\" && gunzip 2020-Apr.csv.gz"
   ]
  },
  {
   "cell_type": "markdown",
   "metadata": {},
   "source": [
    "## Configurations"
   ]
  },
  {
   "cell_type": "code",
   "execution_count": 9,
   "metadata": {},
   "outputs": [],
   "source": [
    "import os"
   ]
  },
  {
   "cell_type": "code",
   "execution_count": 10,
   "metadata": {},
   "outputs": [],
   "source": [
    "import numpy as np # linear algebra\n",
    "import pandas as pd # data processing, CSV file I/O (e.g. pd.read_csv)\n",
    "from dask_cuda import LocalCUDACluster\n",
    "from dask.distributed import Client\n",
    "\n",
    "import rmm\n",
    "\n",
    "import glob\n",
    "\n",
    "import cudf, dask_cudf\n",
    "import cupy\n",
    "import nvtabular as nvt\n",
    "from nvtabular import ColumnGroup\n",
    "\n",
    "import pandas as pd\n",
    "import numpy as np\n",
    "import shutil"
   ]
  },
  {
   "cell_type": "markdown",
   "metadata": {},
   "source": [
    "## Set up Dask Cuda Cluster"
   ]
  },
  {
   "cell_type": "code",
   "execution_count": 11,
   "metadata": {},
   "outputs": [],
   "source": [
    "# define some information about where to get our data\n",
    "BASE_DIR = os.environ.get(\"BASE_DIR\", \"/workspace/\")\n",
    "INPUT_DATA_DIR = os.environ.get(\"INPUT_DATA_DIR\", BASE_DIR + \"ecommerce/\")\n",
    "dask_workdir = os.path.join(BASE_DIR, \"test_dask/workdir\")\n",
    "OUTPUT_DATA_DIR = os.environ.get(\"OUTPUT_DATA_DIR\", BASE_DIR + \"/ecommerce/output\")\n",
    "stats_path = os.path.join(BASE_DIR, \"test_dask/stats\")\n",
    "\n",
    "# Make sure we have a clean worker space for Dask\n",
    "if os.path.isdir(dask_workdir):\n",
    "    shutil.rmtree(dask_workdir)\n",
    "os.makedirs(dask_workdir)\n",
    "\n",
    "# Make sure we have a clean stats space for Dask\n",
    "if os.path.isdir(stats_path):\n",
    "    shutil.rmtree(stats_path)\n",
    "os.mkdir(stats_path)\n",
    "\n",
    "# Make sure we have a clean output path\n",
    "if os.path.isdir(OUTPUT_DATA_DIR):\n",
    "    shutil.rmtree(OUTPUT_DATA_DIR)\n",
    "os.mkdir(OUTPUT_DATA_DIR)"
   ]
  },
  {
   "cell_type": "code",
   "execution_count": 12,
   "metadata": {},
   "outputs": [
    {
     "data": {
      "text/html": [
       "<table style=\"border: 2px solid white;\">\n",
       "<tr>\n",
       "<td style=\"vertical-align: top; border: 0px solid white\">\n",
       "<h3 style=\"text-align: left;\">Client</h3>\n",
       "<ul style=\"text-align: left; list-style: none; margin: 0; padding: 0;\">\n",
       "  <li><b>Scheduler: </b>tcp://127.0.0.1:41259</li>\n",
       "  <li><b>Dashboard: </b><a href='http://127.0.0.1:8787/status' target='_blank'>http://127.0.0.1:8787/status</a></li>\n",
       "</ul>\n",
       "</td>\n",
       "<td style=\"vertical-align: top; border: 0px solid white\">\n",
       "<h3 style=\"text-align: left;\">Cluster</h3>\n",
       "<ul style=\"text-align: left; list-style:none; margin: 0; padding: 0;\">\n",
       "  <li><b>Workers: </b>2</li>\n",
       "  <li><b>Cores: </b>2</li>\n",
       "  <li><b>Memory: </b>100.00 GiB</li>\n",
       "</ul>\n",
       "</td>\n",
       "</tr>\n",
       "</table>"
      ],
      "text/plain": [
       "<Client: 'tcp://127.0.0.1:41259' processes=2 threads=2, memory=100.00 GiB>"
      ]
     },
     "execution_count": 12,
     "metadata": {},
     "output_type": "execute_result"
    }
   ],
   "source": [
    "# Dask dashboard\n",
    "from nvtabular.utils import _pynvml_mem_size, device_mem_size\n",
    "dashboard_port = \"8787\"\n",
    "\n",
    "# Deploy a Single-Machine Multi-GPU Cluster\n",
    "protocol = \"tcp\"  # \"tcp\" or \"ucx\"\n",
    "NUM_GPUS = [0, 1] # list here the number of gpus available on your system.\n",
    "visible_devices = \",\".join([str(n) for n in NUM_GPUS])  # Delect devices to place workers\n",
    "device_limit_frac = 0.7  # Spill GPU-Worker memory to host at this limit.\n",
    "device_pool_frac = 0.8\n",
    "part_mem_frac = 0.15\n",
    "\n",
    "# Use total device size to calculate args.device_limit_frac\n",
    "device_size = device_mem_size(kind=\"total\")\n",
    "device_limit = int(device_limit_frac * device_size)\n",
    "device_pool_size = int(device_pool_frac * device_size)\n",
    "part_size = int(part_mem_frac * device_size)\n",
    "\n",
    "# Check if any device memory is already occupied\n",
    "for dev in visible_devices.split(\",\"):\n",
    "    fmem = _pynvml_mem_size(kind=\"free\", index=int(dev))\n",
    "    used = (device_size - fmem) / 1e9\n",
    "    if used > 1.0:\n",
    "        warnings.warn(f\"BEWARE - {used} GB is already occupied on device {int(dev)}!\")\n",
    "\n",
    "cluster = None  # (Optional) Specify existing scheduler port\n",
    "if cluster is None:\n",
    "    cluster = LocalCUDACluster(\n",
    "        protocol=protocol,\n",
    "        n_workers=len(visible_devices.split(\",\")),\n",
    "        CUDA_VISIBLE_DEVICES=visible_devices,\n",
    "        device_memory_limit=device_limit,\n",
    "        local_directory=dask_workdir,\n",
    "        dashboard_address=\":\" + dashboard_port,\n",
    "    )\n",
    "\n",
    "# Create the distributed client\n",
    "client = Client(cluster)\n",
    "client"
   ]
  },
  {
   "cell_type": "code",
   "execution_count": 13,
   "metadata": {},
   "outputs": [],
   "source": [
    "NUM_MONTHS_TO_PREPROCESS = 1 #For the eCommerce dataset there are up to 7 months (2019-Oct to 2020-Apr)\n",
    "KEEP_REPEATED_USER_INTERACTIONS = False"
   ]
  },
  {
   "cell_type": "code",
   "execution_count": 14,
   "metadata": {},
   "outputs": [],
   "source": [
    "MONTHS_FILES = [\"2019-Oct.csv\", \"2019-Nov.csv\", \"2019-Dec.csv\", \"2020-Jan.csv\", \"2020-Feb.csv\", \"2020-Mar.csv\", \"2020-Apr.csv\"]"
   ]
  },
  {
   "cell_type": "code",
   "execution_count": 15,
   "metadata": {},
   "outputs": [
    {
     "data": {
      "text/plain": [
       "['2019-Oct.csv']"
      ]
     },
     "execution_count": 15,
     "metadata": {},
     "output_type": "execute_result"
    }
   ],
   "source": [
    "selected_months = MONTHS_FILES[:NUM_MONTHS_TO_PREPROCESS]\n",
    "selected_months"
   ]
  },
  {
   "cell_type": "code",
   "execution_count": 16,
   "metadata": {},
   "outputs": [
    {
     "data": {
      "text/plain": [
       "['/workspace/ecommerce/2019-Oct.csv']"
      ]
     },
     "execution_count": 16,
     "metadata": {},
     "output_type": "execute_result"
    }
   ],
   "source": [
    "files_paths = [os.path.join(INPUT_DATA_DIR, file) for file in selected_months]\n",
    "files_paths"
   ]
  },
  {
   "cell_type": "markdown",
   "metadata": {},
   "source": [
    "#### Read through Dask-cudf from CSV"
   ]
  },
  {
   "cell_type": "code",
   "execution_count": 17,
   "metadata": {},
   "outputs": [
    {
     "name": "stdout",
     "output_type": "stream",
     "text": [
      "CPU times: user 762 ms, sys: 373 ms, total: 1.14 s\n",
      "Wall time: 4.36 s\n"
     ]
    },
    {
     "data": {
      "text/html": [
       "<div>\n",
       "<style scoped>\n",
       "    .dataframe tbody tr th:only-of-type {\n",
       "        vertical-align: middle;\n",
       "    }\n",
       "\n",
       "    .dataframe tbody tr th {\n",
       "        vertical-align: top;\n",
       "    }\n",
       "\n",
       "    .dataframe thead th {\n",
       "        text-align: right;\n",
       "    }\n",
       "</style>\n",
       "<table border=\"1\" class=\"dataframe\">\n",
       "  <thead>\n",
       "    <tr style=\"text-align: right;\">\n",
       "      <th></th>\n",
       "      <th>event_time</th>\n",
       "      <th>event_type</th>\n",
       "      <th>product_id</th>\n",
       "      <th>category_id</th>\n",
       "      <th>category_code</th>\n",
       "      <th>brand</th>\n",
       "      <th>price</th>\n",
       "      <th>user_id</th>\n",
       "      <th>user_session</th>\n",
       "    </tr>\n",
       "  </thead>\n",
       "  <tbody>\n",
       "    <tr>\n",
       "      <th>0</th>\n",
       "      <td>2019-10-01 00:00:00 UTC</td>\n",
       "      <td>view</td>\n",
       "      <td>44600062</td>\n",
       "      <td>2103807459595387724</td>\n",
       "      <td>&lt;NA&gt;</td>\n",
       "      <td>shiseido</td>\n",
       "      <td>35.79</td>\n",
       "      <td>541312140</td>\n",
       "      <td>72d76fde-8bb3-4e00-8c23-a032dfed738c</td>\n",
       "    </tr>\n",
       "    <tr>\n",
       "      <th>1</th>\n",
       "      <td>2019-10-01 00:00:00 UTC</td>\n",
       "      <td>view</td>\n",
       "      <td>3900821</td>\n",
       "      <td>2053013552326770905</td>\n",
       "      <td>appliances.environment.water_heater</td>\n",
       "      <td>aqua</td>\n",
       "      <td>33.20</td>\n",
       "      <td>554748717</td>\n",
       "      <td>9333dfbd-b87a-4708-9857-6336556b0fcc</td>\n",
       "    </tr>\n",
       "    <tr>\n",
       "      <th>2</th>\n",
       "      <td>2019-10-01 00:00:01 UTC</td>\n",
       "      <td>view</td>\n",
       "      <td>17200506</td>\n",
       "      <td>2053013559792632471</td>\n",
       "      <td>furniture.living_room.sofa</td>\n",
       "      <td>&lt;NA&gt;</td>\n",
       "      <td>543.10</td>\n",
       "      <td>519107250</td>\n",
       "      <td>566511c2-e2e3-422b-b695-cf8e6e792ca8</td>\n",
       "    </tr>\n",
       "    <tr>\n",
       "      <th>3</th>\n",
       "      <td>2019-10-01 00:00:01 UTC</td>\n",
       "      <td>view</td>\n",
       "      <td>1307067</td>\n",
       "      <td>2053013558920217191</td>\n",
       "      <td>computers.notebook</td>\n",
       "      <td>lenovo</td>\n",
       "      <td>251.74</td>\n",
       "      <td>550050854</td>\n",
       "      <td>7c90fc70-0e80-4590-96f3-13c02c18c713</td>\n",
       "    </tr>\n",
       "    <tr>\n",
       "      <th>4</th>\n",
       "      <td>2019-10-01 00:00:04 UTC</td>\n",
       "      <td>view</td>\n",
       "      <td>1004237</td>\n",
       "      <td>2053013555631882655</td>\n",
       "      <td>electronics.smartphone</td>\n",
       "      <td>apple</td>\n",
       "      <td>1081.98</td>\n",
       "      <td>535871217</td>\n",
       "      <td>c6bd7419-2748-4c56-95b4-8cec9ff8b80d</td>\n",
       "    </tr>\n",
       "  </tbody>\n",
       "</table>\n",
       "</div>"
      ],
      "text/plain": [
       "                event_time event_type  product_id          category_id  \\\n",
       "0  2019-10-01 00:00:00 UTC       view    44600062  2103807459595387724   \n",
       "1  2019-10-01 00:00:00 UTC       view     3900821  2053013552326770905   \n",
       "2  2019-10-01 00:00:01 UTC       view    17200506  2053013559792632471   \n",
       "3  2019-10-01 00:00:01 UTC       view     1307067  2053013558920217191   \n",
       "4  2019-10-01 00:00:04 UTC       view     1004237  2053013555631882655   \n",
       "\n",
       "                         category_code     brand    price    user_id  \\\n",
       "0                                 <NA>  shiseido    35.79  541312140   \n",
       "1  appliances.environment.water_heater      aqua    33.20  554748717   \n",
       "2           furniture.living_room.sofa      <NA>   543.10  519107250   \n",
       "3                   computers.notebook    lenovo   251.74  550050854   \n",
       "4               electronics.smartphone     apple  1081.98  535871217   \n",
       "\n",
       "                           user_session  \n",
       "0  72d76fde-8bb3-4e00-8c23-a032dfed738c  \n",
       "1  9333dfbd-b87a-4708-9857-6336556b0fcc  \n",
       "2  566511c2-e2e3-422b-b695-cf8e6e792ca8  \n",
       "3  7c90fc70-0e80-4590-96f3-13c02c18c713  \n",
       "4  c6bd7419-2748-4c56-95b4-8cec9ff8b80d  "
      ]
     },
     "execution_count": 17,
     "metadata": {},
     "output_type": "execute_result"
    }
   ],
   "source": [
    "%%time\n",
    "raw_df = dask_cudf.read_csv(files_paths, inferSchema = True) \n",
    "raw_df.head()"
   ]
  },
  {
   "cell_type": "markdown",
   "metadata": {},
   "source": [
    "## Convert timestamp from datetime"
   ]
  },
  {
   "cell_type": "code",
   "execution_count": 18,
   "metadata": {},
   "outputs": [
    {
     "data": {
      "text/html": [
       "<div>\n",
       "<style scoped>\n",
       "    .dataframe tbody tr th:only-of-type {\n",
       "        vertical-align: middle;\n",
       "    }\n",
       "\n",
       "    .dataframe tbody tr th {\n",
       "        vertical-align: top;\n",
       "    }\n",
       "\n",
       "    .dataframe thead th {\n",
       "        text-align: right;\n",
       "    }\n",
       "</style>\n",
       "<table border=\"1\" class=\"dataframe\">\n",
       "  <thead>\n",
       "    <tr style=\"text-align: right;\">\n",
       "      <th></th>\n",
       "      <th>event_time</th>\n",
       "      <th>event_type</th>\n",
       "      <th>product_id</th>\n",
       "      <th>category_id</th>\n",
       "      <th>category_code</th>\n",
       "      <th>brand</th>\n",
       "      <th>price</th>\n",
       "      <th>user_id</th>\n",
       "      <th>user_session</th>\n",
       "      <th>event_time_dt</th>\n",
       "      <th>event_time_ts</th>\n",
       "    </tr>\n",
       "  </thead>\n",
       "  <tbody>\n",
       "    <tr>\n",
       "      <th>0</th>\n",
       "      <td>2019-10-01 00:00:00 UTC</td>\n",
       "      <td>view</td>\n",
       "      <td>44600062</td>\n",
       "      <td>2103807459595387724</td>\n",
       "      <td>&lt;NA&gt;</td>\n",
       "      <td>shiseido</td>\n",
       "      <td>35.79</td>\n",
       "      <td>541312140</td>\n",
       "      <td>72d76fde-8bb3-4e00-8c23-a032dfed738c</td>\n",
       "      <td>2019-10-01 00:00:00</td>\n",
       "      <td>1569888000</td>\n",
       "    </tr>\n",
       "    <tr>\n",
       "      <th>1</th>\n",
       "      <td>2019-10-01 00:00:00 UTC</td>\n",
       "      <td>view</td>\n",
       "      <td>3900821</td>\n",
       "      <td>2053013552326770905</td>\n",
       "      <td>appliances.environment.water_heater</td>\n",
       "      <td>aqua</td>\n",
       "      <td>33.20</td>\n",
       "      <td>554748717</td>\n",
       "      <td>9333dfbd-b87a-4708-9857-6336556b0fcc</td>\n",
       "      <td>2019-10-01 00:00:00</td>\n",
       "      <td>1569888000</td>\n",
       "    </tr>\n",
       "    <tr>\n",
       "      <th>2</th>\n",
       "      <td>2019-10-01 00:00:01 UTC</td>\n",
       "      <td>view</td>\n",
       "      <td>17200506</td>\n",
       "      <td>2053013559792632471</td>\n",
       "      <td>furniture.living_room.sofa</td>\n",
       "      <td>&lt;NA&gt;</td>\n",
       "      <td>543.10</td>\n",
       "      <td>519107250</td>\n",
       "      <td>566511c2-e2e3-422b-b695-cf8e6e792ca8</td>\n",
       "      <td>2019-10-01 00:00:01</td>\n",
       "      <td>1569888001</td>\n",
       "    </tr>\n",
       "    <tr>\n",
       "      <th>3</th>\n",
       "      <td>2019-10-01 00:00:01 UTC</td>\n",
       "      <td>view</td>\n",
       "      <td>1307067</td>\n",
       "      <td>2053013558920217191</td>\n",
       "      <td>computers.notebook</td>\n",
       "      <td>lenovo</td>\n",
       "      <td>251.74</td>\n",
       "      <td>550050854</td>\n",
       "      <td>7c90fc70-0e80-4590-96f3-13c02c18c713</td>\n",
       "      <td>2019-10-01 00:00:01</td>\n",
       "      <td>1569888001</td>\n",
       "    </tr>\n",
       "    <tr>\n",
       "      <th>4</th>\n",
       "      <td>2019-10-01 00:00:04 UTC</td>\n",
       "      <td>view</td>\n",
       "      <td>1004237</td>\n",
       "      <td>2053013555631882655</td>\n",
       "      <td>electronics.smartphone</td>\n",
       "      <td>apple</td>\n",
       "      <td>1081.98</td>\n",
       "      <td>535871217</td>\n",
       "      <td>c6bd7419-2748-4c56-95b4-8cec9ff8b80d</td>\n",
       "      <td>2019-10-01 00:00:04</td>\n",
       "      <td>1569888004</td>\n",
       "    </tr>\n",
       "  </tbody>\n",
       "</table>\n",
       "</div>"
      ],
      "text/plain": [
       "                event_time event_type  product_id          category_id  \\\n",
       "0  2019-10-01 00:00:00 UTC       view    44600062  2103807459595387724   \n",
       "1  2019-10-01 00:00:00 UTC       view     3900821  2053013552326770905   \n",
       "2  2019-10-01 00:00:01 UTC       view    17200506  2053013559792632471   \n",
       "3  2019-10-01 00:00:01 UTC       view     1307067  2053013558920217191   \n",
       "4  2019-10-01 00:00:04 UTC       view     1004237  2053013555631882655   \n",
       "\n",
       "                         category_code     brand    price    user_id  \\\n",
       "0                                 <NA>  shiseido    35.79  541312140   \n",
       "1  appliances.environment.water_heater      aqua    33.20  554748717   \n",
       "2           furniture.living_room.sofa      <NA>   543.10  519107250   \n",
       "3                   computers.notebook    lenovo   251.74  550050854   \n",
       "4               electronics.smartphone     apple  1081.98  535871217   \n",
       "\n",
       "                           user_session       event_time_dt  event_time_ts  \n",
       "0  72d76fde-8bb3-4e00-8c23-a032dfed738c 2019-10-01 00:00:00     1569888000  \n",
       "1  9333dfbd-b87a-4708-9857-6336556b0fcc 2019-10-01 00:00:00     1569888000  \n",
       "2  566511c2-e2e3-422b-b695-cf8e6e792ca8 2019-10-01 00:00:01     1569888001  \n",
       "3  7c90fc70-0e80-4590-96f3-13c02c18c713 2019-10-01 00:00:01     1569888001  \n",
       "4  c6bd7419-2748-4c56-95b4-8cec9ff8b80d 2019-10-01 00:00:04     1569888004  "
      ]
     },
     "execution_count": 18,
     "metadata": {},
     "output_type": "execute_result"
    }
   ],
   "source": [
    "raw_df['event_time_dt'] = raw_df['event_time'].astype('datetime64[s]')\n",
    "raw_df['event_time_ts']= raw_df['event_time_dt'].astype('int')\n",
    "raw_df.head()"
   ]
  },
  {
   "cell_type": "code",
   "execution_count": 19,
   "metadata": {},
   "outputs": [
    {
     "data": {
      "text/plain": [
       "event_time       False\n",
       "event_type       False\n",
       "product_id       False\n",
       "category_id      False\n",
       "category_code     True\n",
       "brand             True\n",
       "price            False\n",
       "user_id          False\n",
       "user_session      True\n",
       "event_time_dt    False\n",
       "event_time_ts    False\n",
       "dtype: bool"
      ]
     },
     "execution_count": 19,
     "metadata": {},
     "output_type": "execute_result"
    }
   ],
   "source": [
    "# check out the columns with nulls\n",
    "raw_df.isnull().any().compute()"
   ]
  },
  {
   "cell_type": "code",
   "execution_count": 20,
   "metadata": {},
   "outputs": [
    {
     "data": {
      "text/plain": [
       "42448762"
      ]
     },
     "execution_count": 20,
     "metadata": {},
     "output_type": "execute_result"
    }
   ],
   "source": [
    "# Remove rows where `user_session` is null.\n",
    "\n",
    "raw_df = raw_df[raw_df['user_session'].isnull()==False]\n",
    "len(raw_df)"
   ]
  },
  {
   "cell_type": "code",
   "execution_count": 21,
   "metadata": {},
   "outputs": [
    {
     "data": {
      "text/plain": [
       "event_time              object\n",
       "event_type              object\n",
       "product_id               int64\n",
       "category_id              int64\n",
       "category_code           object\n",
       "brand                   object\n",
       "price                  float64\n",
       "user_id                  int64\n",
       "user_session            object\n",
       "event_time_dt    datetime64[s]\n",
       "event_time_ts            int64\n",
       "dtype: object"
      ]
     },
     "execution_count": 21,
     "metadata": {},
     "output_type": "execute_result"
    }
   ],
   "source": [
    "raw_df.dtypes"
   ]
  },
  {
   "cell_type": "markdown",
   "metadata": {},
   "source": [
    "## Removing repeated (user,item) interactions"
   ]
  },
  {
   "cell_type": "markdown",
   "metadata": {},
   "source": [
    "### Categorify `user_session` column"
   ]
  },
  {
   "cell_type": "code",
   "execution_count": 22,
   "metadata": {},
   "outputs": [
    {
     "data": {
      "text/plain": [
       "['event_time',\n",
       " 'event_type',\n",
       " 'product_id',\n",
       " 'category_id',\n",
       " 'category_code',\n",
       " 'brand',\n",
       " 'price',\n",
       " 'user_id',\n",
       " 'event_time_dt',\n",
       " 'event_time_ts']"
      ]
     },
     "execution_count": 22,
     "metadata": {},
     "output_type": "execute_result"
    }
   ],
   "source": [
    "cols = list(raw_df.columns)\n",
    "cols.remove('user_session')\n",
    "cols"
   ]
  },
  {
   "cell_type": "code",
   "execution_count": 23,
   "metadata": {},
   "outputs": [],
   "source": [
    "#  load data \n",
    "df_event = nvt.Dataset(raw_df) \n",
    "# categorify features \n",
    "cat_feats = ['user_session'] >> nvt.ops.Categorify()\n",
    "\n",
    "workflow = nvt.Workflow(cols + cat_feats)\n",
    "workflow.fit(df_event)\n",
    "df = workflow.transform(df_event).to_ddf()"
   ]
  },
  {
   "cell_type": "code",
   "execution_count": 24,
   "metadata": {},
   "outputs": [],
   "source": [
    "df = df.drop(['event_time'],  axis=1)"
   ]
  },
  {
   "cell_type": "code",
   "execution_count": 25,
   "metadata": {},
   "outputs": [
    {
     "data": {
      "text/html": [
       "<div>\n",
       "<style scoped>\n",
       "    .dataframe tbody tr th:only-of-type {\n",
       "        vertical-align: middle;\n",
       "    }\n",
       "\n",
       "    .dataframe tbody tr th {\n",
       "        vertical-align: top;\n",
       "    }\n",
       "\n",
       "    .dataframe thead th {\n",
       "        text-align: right;\n",
       "    }\n",
       "</style>\n",
       "<table border=\"1\" class=\"dataframe\">\n",
       "  <thead>\n",
       "    <tr style=\"text-align: right;\">\n",
       "      <th></th>\n",
       "      <th>user_session</th>\n",
       "      <th>event_type</th>\n",
       "      <th>product_id</th>\n",
       "      <th>category_id</th>\n",
       "      <th>category_code</th>\n",
       "      <th>brand</th>\n",
       "      <th>price</th>\n",
       "      <th>user_id</th>\n",
       "      <th>event_time_dt</th>\n",
       "      <th>event_time_ts</th>\n",
       "    </tr>\n",
       "  </thead>\n",
       "  <tbody>\n",
       "    <tr>\n",
       "      <th>0</th>\n",
       "      <td>4147851</td>\n",
       "      <td>view</td>\n",
       "      <td>44600062</td>\n",
       "      <td>2103807459595387724</td>\n",
       "      <td>&lt;NA&gt;</td>\n",
       "      <td>shiseido</td>\n",
       "      <td>35.79</td>\n",
       "      <td>541312140</td>\n",
       "      <td>2019-10-01 00:00:00</td>\n",
       "      <td>1569888000</td>\n",
       "    </tr>\n",
       "    <tr>\n",
       "      <th>1</th>\n",
       "      <td>5316339</td>\n",
       "      <td>view</td>\n",
       "      <td>3900821</td>\n",
       "      <td>2053013552326770905</td>\n",
       "      <td>appliances.environment.water_heater</td>\n",
       "      <td>aqua</td>\n",
       "      <td>33.20</td>\n",
       "      <td>554748717</td>\n",
       "      <td>2019-10-01 00:00:00</td>\n",
       "      <td>1569888000</td>\n",
       "    </tr>\n",
       "    <tr>\n",
       "      <th>2</th>\n",
       "      <td>3120154</td>\n",
       "      <td>view</td>\n",
       "      <td>17200506</td>\n",
       "      <td>2053013559792632471</td>\n",
       "      <td>furniture.living_room.sofa</td>\n",
       "      <td>&lt;NA&gt;</td>\n",
       "      <td>543.10</td>\n",
       "      <td>519107250</td>\n",
       "      <td>2019-10-01 00:00:01</td>\n",
       "      <td>1569888001</td>\n",
       "    </tr>\n",
       "    <tr>\n",
       "      <th>3</th>\n",
       "      <td>4499322</td>\n",
       "      <td>view</td>\n",
       "      <td>1307067</td>\n",
       "      <td>2053013558920217191</td>\n",
       "      <td>computers.notebook</td>\n",
       "      <td>lenovo</td>\n",
       "      <td>251.74</td>\n",
       "      <td>550050854</td>\n",
       "      <td>2019-10-01 00:00:01</td>\n",
       "      <td>1569888001</td>\n",
       "    </tr>\n",
       "    <tr>\n",
       "      <th>4</th>\n",
       "      <td>7176697</td>\n",
       "      <td>view</td>\n",
       "      <td>1004237</td>\n",
       "      <td>2053013555631882655</td>\n",
       "      <td>electronics.smartphone</td>\n",
       "      <td>apple</td>\n",
       "      <td>1081.98</td>\n",
       "      <td>535871217</td>\n",
       "      <td>2019-10-01 00:00:04</td>\n",
       "      <td>1569888004</td>\n",
       "    </tr>\n",
       "  </tbody>\n",
       "</table>\n",
       "</div>"
      ],
      "text/plain": [
       "   user_session event_type  product_id          category_id  \\\n",
       "0       4147851       view    44600062  2103807459595387724   \n",
       "1       5316339       view     3900821  2053013552326770905   \n",
       "2       3120154       view    17200506  2053013559792632471   \n",
       "3       4499322       view     1307067  2053013558920217191   \n",
       "4       7176697       view     1004237  2053013555631882655   \n",
       "\n",
       "                         category_code     brand    price    user_id  \\\n",
       "0                                 <NA>  shiseido    35.79  541312140   \n",
       "1  appliances.environment.water_heater      aqua    33.20  554748717   \n",
       "2           furniture.living_room.sofa      <NA>   543.10  519107250   \n",
       "3                   computers.notebook    lenovo   251.74  550050854   \n",
       "4               electronics.smartphone     apple  1081.98  535871217   \n",
       "\n",
       "        event_time_dt  event_time_ts  \n",
       "0 2019-10-01 00:00:00     1569888000  \n",
       "1 2019-10-01 00:00:00     1569888000  \n",
       "2 2019-10-01 00:00:01     1569888001  \n",
       "3 2019-10-01 00:00:01     1569888001  \n",
       "4 2019-10-01 00:00:04     1569888004  "
      ]
     },
     "execution_count": 25,
     "metadata": {},
     "output_type": "execute_result"
    }
   ],
   "source": [
    "df.head()"
   ]
  },
  {
   "cell_type": "code",
   "execution_count": 26,
   "metadata": {},
   "outputs": [
    {
     "data": {
      "text/plain": [
       "user_session     float64\n",
       "event_type       float64\n",
       "product_id       float64\n",
       "category_id      float64\n",
       "category_code    float64\n",
       "brand            float64\n",
       "price            float64\n",
       "user_id          float64\n",
       "event_time_dt    float64\n",
       "event_time_ts    float64\n",
       "dtype: object"
      ]
     },
     "execution_count": 26,
     "metadata": {},
     "output_type": "execute_result"
    }
   ],
   "source": [
    "df.dtypes"
   ]
  },
  {
   "cell_type": "code",
   "execution_count": 27,
   "metadata": {},
   "outputs": [],
   "source": [
    "df['user_session'] = df['user_session'].astype('int64')\n",
    "df['event_time_ts'] = df['event_time_ts'].astype('int64')\n",
    "df['product_id'] = df['product_id'].astype('int64')\n",
    "df['category_id'] = df['category_id'].astype('int64')\n",
    "df['category_code'] = df['category_id'].astype(object)\n",
    "df['brand'] = df['brand'].astype(object)\n",
    "df['event_type'] = df['event_type'].astype(object)\n",
    "df['event_time_dt'] = df['event_time_dt'].astype('datetime64[s]')"
   ]
  },
  {
   "cell_type": "code",
   "execution_count": 28,
   "metadata": {},
   "outputs": [
    {
     "data": {
      "text/plain": [
       "user_session             int64\n",
       "event_type              object\n",
       "product_id               int64\n",
       "category_id              int64\n",
       "category_code           object\n",
       "brand                   object\n",
       "price                  float64\n",
       "user_id                float64\n",
       "event_time_dt    datetime64[s]\n",
       "event_time_ts            int64\n",
       "dtype: object"
      ]
     },
     "execution_count": 28,
     "metadata": {},
     "output_type": "execute_result"
    }
   ],
   "source": [
    "df.dtypes"
   ]
  },
  {
   "cell_type": "code",
   "execution_count": 29,
   "metadata": {},
   "outputs": [],
   "source": [
    "df = df.sort_values(['user_session', 'event_time_ts'])"
   ]
  },
  {
   "cell_type": "code",
   "execution_count": 30,
   "metadata": {},
   "outputs": [],
   "source": [
    "#Keeping only the first user interaction with an item (ignores all future repeated interactions)\n",
    "if not KEEP_REPEATED_USER_INTERACTIONS:\n",
    "    df_first_user_item_interaction_df = df.groupby(['user_id', 'product_id']).agg({'event_time_ts': 'min'})\n",
    "    df_first_user_item_interaction_df = df_first_user_item_interaction_df.compute().reset_index().rename(columns={'event_time_ts': 'first_user_item_event_time_ts'})\n",
    "    df = df.merge(df_first_user_item_interaction_df, how='inner', left_on=['user_id', 'product_id', 'event_time_ts'], right_on=['user_id', 'product_id','first_user_item_event_time_ts'])\n",
    "    df = df.drop(columns=['first_user_item_event_time_ts'])\n",
    "\n",
    "#Keeps repeated interactions on the same items, removing only consecutive interactions, because it might be due to browser tab refreshes or different interaction types (e.g. click, add-to-card, purchase)\n",
    "else:\n",
    "    print(\"Count with in-session repeated interactions: {}\".format(len(df)))\n",
    "    # Sorts the dataframe by session and timestamp, to remove consective repetitions\n",
    "    df['product_id_past'] = df['product_id'].shift(1)\n",
    "    df['session_id_past'] = df['user_session'].shift(1)\n",
    "    #Keeping only no consecutive repeated in session interactions\n",
    "    df = df[~((df['user_session'] == df['session_id_past']) & \\\n",
    "                 (df['product_id'] == df['product_id_past']))]\n",
    "    print(\"Count after removed in-session repeated interactions: {}\".format(len(df)))\n",
    "    del(df['product_id_past'])\n",
    "    del(df['session_id_past'])"
   ]
  },
  {
   "cell_type": "code",
   "execution_count": 31,
   "metadata": {},
   "outputs": [
    {
     "data": {
      "text/html": [
       "<div>\n",
       "<style scoped>\n",
       "    .dataframe tbody tr th:only-of-type {\n",
       "        vertical-align: middle;\n",
       "    }\n",
       "\n",
       "    .dataframe tbody tr th {\n",
       "        vertical-align: top;\n",
       "    }\n",
       "\n",
       "    .dataframe thead th {\n",
       "        text-align: right;\n",
       "    }\n",
       "</style>\n",
       "<table border=\"1\" class=\"dataframe\">\n",
       "  <thead>\n",
       "    <tr style=\"text-align: right;\">\n",
       "      <th></th>\n",
       "      <th>user_session</th>\n",
       "      <th>event_type</th>\n",
       "      <th>product_id</th>\n",
       "      <th>category_id</th>\n",
       "      <th>category_code</th>\n",
       "      <th>brand</th>\n",
       "      <th>price</th>\n",
       "      <th>user_id</th>\n",
       "      <th>event_time_dt</th>\n",
       "      <th>event_time_ts</th>\n",
       "    </tr>\n",
       "  </thead>\n",
       "  <tbody>\n",
       "    <tr>\n",
       "      <th>0</th>\n",
       "      <td>134690</td>\n",
       "      <td>view</td>\n",
       "      <td>1004785</td>\n",
       "      <td>2053013555631882655</td>\n",
       "      <td>2053013555631882655</td>\n",
       "      <td>huawei</td>\n",
       "      <td>272.21</td>\n",
       "      <td>556580487</td>\n",
       "      <td>2019-10-07 18:09:21</td>\n",
       "      <td>1570471761</td>\n",
       "    </tr>\n",
       "    <tr>\n",
       "      <th>1</th>\n",
       "      <td>357954</td>\n",
       "      <td>view</td>\n",
       "      <td>1005161</td>\n",
       "      <td>2053013555631882655</td>\n",
       "      <td>2053013555631882655</td>\n",
       "      <td>xiaomi</td>\n",
       "      <td>222.09</td>\n",
       "      <td>553443936</td>\n",
       "      <td>2019-10-23 17:58:03</td>\n",
       "      <td>1571853483</td>\n",
       "    </tr>\n",
       "    <tr>\n",
       "      <th>2</th>\n",
       "      <td>102210</td>\n",
       "      <td>view</td>\n",
       "      <td>1005003</td>\n",
       "      <td>2053013555631882655</td>\n",
       "      <td>2053013555631882655</td>\n",
       "      <td>huawei</td>\n",
       "      <td>252.38</td>\n",
       "      <td>518503755</td>\n",
       "      <td>2019-10-09 04:31:19</td>\n",
       "      <td>1570595479</td>\n",
       "    </tr>\n",
       "    <tr>\n",
       "      <th>3</th>\n",
       "      <td>417814</td>\n",
       "      <td>view</td>\n",
       "      <td>3700737</td>\n",
       "      <td>2053013565983425517</td>\n",
       "      <td>2053013565983425517</td>\n",
       "      <td>philips</td>\n",
       "      <td>205.90</td>\n",
       "      <td>523997686</td>\n",
       "      <td>2019-10-29 18:19:15</td>\n",
       "      <td>1572373155</td>\n",
       "    </tr>\n",
       "    <tr>\n",
       "      <th>4</th>\n",
       "      <td>254486</td>\n",
       "      <td>view</td>\n",
       "      <td>2600163</td>\n",
       "      <td>2053013563970159485</td>\n",
       "      <td>2053013563970159485</td>\n",
       "      <td>&lt;NA&gt;</td>\n",
       "      <td>125.87</td>\n",
       "      <td>517700671</td>\n",
       "      <td>2019-10-05 04:53:15</td>\n",
       "      <td>1570251195</td>\n",
       "    </tr>\n",
       "  </tbody>\n",
       "</table>\n",
       "</div>"
      ],
      "text/plain": [
       "   user_session event_type  product_id          category_id  \\\n",
       "0        134690       view     1004785  2053013555631882655   \n",
       "1        357954       view     1005161  2053013555631882655   \n",
       "2        102210       view     1005003  2053013555631882655   \n",
       "3        417814       view     3700737  2053013565983425517   \n",
       "4        254486       view     2600163  2053013563970159485   \n",
       "\n",
       "         category_code    brand   price    user_id       event_time_dt  \\\n",
       "0  2053013555631882655   huawei  272.21  556580487 2019-10-07 18:09:21   \n",
       "1  2053013555631882655   xiaomi  222.09  553443936 2019-10-23 17:58:03   \n",
       "2  2053013555631882655   huawei  252.38  518503755 2019-10-09 04:31:19   \n",
       "3  2053013565983425517  philips  205.90  523997686 2019-10-29 18:19:15   \n",
       "4  2053013563970159485     <NA>  125.87  517700671 2019-10-05 04:53:15   \n",
       "\n",
       "   event_time_ts  \n",
       "0     1570471761  \n",
       "1     1571853483  \n",
       "2     1570595479  \n",
       "3     1572373155  \n",
       "4     1570251195  "
      ]
     },
     "execution_count": 31,
     "metadata": {},
     "output_type": "execute_result"
    }
   ],
   "source": [
    "df.head()"
   ]
  },
  {
   "cell_type": "markdown",
   "metadata": {},
   "source": [
    "**Full Dataset (7 months) Stats - Number of interactions**\n",
    "- No filter: 411709736\n",
    "- Removed iser consecutive repeated interactions in the same items: 261390136\n",
    "- Removing all user repeated interactions with the same items: 204098003"
   ]
  },
  {
   "cell_type": "markdown",
   "metadata": {},
   "source": [
    "**1 Months Stats - Number of interactions**\n",
    "- No filter: 42448764\n",
    "- Removed iser consecutive repeated interactions in the same items: 26565608 \n",
    "- Removing all user repeated interactions with the same items: 23312920"
   ]
  },
  {
   "cell_type": "markdown",
   "metadata": {},
   "source": [
    "### Include the item first time seen feature (for recency calculation)¶"
   ]
  },
  {
   "cell_type": "code",
   "execution_count": 32,
   "metadata": {},
   "outputs": [
    {
     "data": {
      "text/html": [
       "<div>\n",
       "<style scoped>\n",
       "    .dataframe tbody tr th:only-of-type {\n",
       "        vertical-align: middle;\n",
       "    }\n",
       "\n",
       "    .dataframe tbody tr th {\n",
       "        vertical-align: top;\n",
       "    }\n",
       "\n",
       "    .dataframe thead th {\n",
       "        text-align: right;\n",
       "    }\n",
       "</style>\n",
       "<table border=\"1\" class=\"dataframe\">\n",
       "  <thead>\n",
       "    <tr style=\"text-align: right;\">\n",
       "      <th></th>\n",
       "      <th>product_id</th>\n",
       "      <th>prod_first_event_time_ts</th>\n",
       "    </tr>\n",
       "  </thead>\n",
       "  <tbody>\n",
       "    <tr>\n",
       "      <th>0</th>\n",
       "      <td>32403886</td>\n",
       "      <td>2019-10-18 15:47:15</td>\n",
       "    </tr>\n",
       "    <tr>\n",
       "      <th>1</th>\n",
       "      <td>5801301</td>\n",
       "      <td>2019-10-01 11:21:27</td>\n",
       "    </tr>\n",
       "    <tr>\n",
       "      <th>2</th>\n",
       "      <td>12719653</td>\n",
       "      <td>2019-10-01 04:17:46</td>\n",
       "    </tr>\n",
       "    <tr>\n",
       "      <th>3</th>\n",
       "      <td>13400621</td>\n",
       "      <td>2019-10-01 05:52:12</td>\n",
       "    </tr>\n",
       "    <tr>\n",
       "      <th>4</th>\n",
       "      <td>27800167</td>\n",
       "      <td>2019-10-01 05:44:26</td>\n",
       "    </tr>\n",
       "  </tbody>\n",
       "</table>\n",
       "</div>"
      ],
      "text/plain": [
       "   product_id prod_first_event_time_ts\n",
       "0    32403886      2019-10-18 15:47:15\n",
       "1     5801301      2019-10-01 11:21:27\n",
       "2    12719653      2019-10-01 04:17:46\n",
       "3    13400621      2019-10-01 05:52:12\n",
       "4    27800167      2019-10-01 05:44:26"
      ]
     },
     "execution_count": 32,
     "metadata": {},
     "output_type": "execute_result"
    }
   ],
   "source": [
    "item_first_interaction_df = df.groupby('product_id').agg({'event_time_ts': 'min'}).reset_index().rename(columns={'event_time_ts': 'prod_first_event_time_ts'})\n",
    "item_first_interaction_df['prod_first_event_time_ts'] = item_first_interaction_df['prod_first_event_time_ts'].astype('datetime64[s]')\n",
    "item_first_interaction_df.head()"
   ]
  },
  {
   "cell_type": "code",
   "execution_count": 33,
   "metadata": {},
   "outputs": [],
   "source": [
    "df = df.merge(item_first_interaction_df, on=['product_id'], how='left')"
   ]
  },
  {
   "cell_type": "code",
   "execution_count": 34,
   "metadata": {},
   "outputs": [],
   "source": [
    "# # save df as parquet files on disk\n",
    "# df.to_parquet('./NVTabular/input_df')"
   ]
  },
  {
   "cell_type": "markdown",
   "metadata": {},
   "source": [
    "### Categorical features encoding\n"
   ]
  },
  {
   "cell_type": "code",
   "execution_count": 35,
   "metadata": {},
   "outputs": [],
   "source": [
    "cols= ['event_time_dt', 'event_time_ts', 'user_session']"
   ]
  },
  {
   "cell_type": "code",
   "execution_count": 36,
   "metadata": {},
   "outputs": [],
   "source": [
    "# categorify features \n",
    "\n",
    "## filll NA sttrings with unknown.\n",
    "# fill missing product_actions\n",
    "fill_na_categs = ['category_code', 'brand'] >> nvt.ops.FillMissing(fill_val='unknown')\n",
    "cat_feats = fill_na_categs + ['user_id', 'product_id', 'category_id', 'event_type'] >> nvt.ops.Rename(postfix = '_idx') >> nvt.ops.Categorify()"
   ]
  },
  {
   "cell_type": "code",
   "execution_count": 37,
   "metadata": {},
   "outputs": [
    {
     "data": {
      "text/plain": [
       "['category_code_idx',\n",
       " 'brand_idx',\n",
       " 'user_id_idx',\n",
       " 'product_id_idx',\n",
       " 'category_id_idx',\n",
       " 'event_type_idx']"
      ]
     },
     "execution_count": 37,
     "metadata": {},
     "output_type": "execute_result"
    }
   ],
   "source": [
    "cat_feats.columns"
   ]
  },
  {
   "cell_type": "markdown",
   "metadata": {},
   "source": [
    "### Extract Temporal Features"
   ]
  },
  {
   "cell_type": "code",
   "execution_count": 38,
   "metadata": {},
   "outputs": [],
   "source": [
    "# calculate item recency \n",
    "# create custom op\n",
    "from nvtabular.ops import Operator\n",
    "\n",
    "class ItemRecency(Operator):\n",
    "    def transform(self, columns, gdf):\n",
    "        for column in columns:\n",
    "            col = gdf[column]\n",
    "            item_first_timestamp = gdf['prod_first_event_time_ts']\n",
    "            delta_days = (col - item_first_timestamp).dt.days\n",
    "            gdf[column + \"_age_days\"] = delta_days * (delta_days >=0)\n",
    "        return gdf\n",
    "            \n",
    "    def output_column_names(self, columns):\n",
    "        return [column + \"_age_days\" for column in columns]\n",
    "            \n",
    "    def dependencies(self):\n",
    "        return [\"prod_first_event_time_ts\"]"
   ]
  },
  {
   "cell_type": "code",
   "execution_count": 39,
   "metadata": {},
   "outputs": [],
   "source": [
    "# create time features\n",
    "sessionTime = ['event_time_dt']\n",
    "\n",
    "sessionTime_hour = (\n",
    "    sessionTime >> \n",
    "    nvt.ops.LambdaOp(lambda col: col.dt.hour) >> \n",
    "    nvt.ops.Rename(name = 'et_hour')\n",
    ")\n",
    "sessionTime_weekday = (\n",
    "    sessionTime >> \n",
    "    nvt.ops.LambdaOp(lambda col: col.dt.weekday) >> \n",
    "    nvt.ops.Rename(name ='et_dayofweek')\n",
    ")\n",
    "sessionTime_day = (\n",
    "    sessionTime >> \n",
    "    nvt.ops.LambdaOp(lambda col: col.dt.day) >> \n",
    "    nvt.ops.Rename(name =\"et_dayofmonth\")\n",
    ")\n",
    "sessionTime_month = (\n",
    "    sessionTime >> \n",
    "    nvt.ops.LambdaOp(lambda col: col.dt.month) >> \n",
    "    nvt.ops.Rename(name =\"et_month\")\n",
    ")"
   ]
  },
  {
   "cell_type": "code",
   "execution_count": 40,
   "metadata": {},
   "outputs": [],
   "source": [
    "def get_cycled_feature_value_sin(col, max_value):\n",
    "    value_scaled = (col + 0.000001) / max_value\n",
    "    value_sin = np.sin(2*np.pi*value_scaled)\n",
    "    return value_sin\n",
    "\n",
    "def get_cycled_feature_value_cos(col, max_value):\n",
    "    value_scaled = (col + 0.000001) / max_value\n",
    "    value_cos = np.cos(2*np.pi*value_scaled)\n",
    "    return value_cos"
   ]
  },
  {
   "cell_type": "code",
   "execution_count": 41,
   "metadata": {},
   "outputs": [],
   "source": [
    "hour_sin = sessionTime_hour >> (lambda col: get_cycled_feature_value_sin(col, 24)) >> nvt.ops.Rename(name='et_hour_sin')\n",
    "hour_cos = sessionTime_hour >> (lambda col: get_cycled_feature_value_cos(col, 24)) >> nvt.ops.Rename(name ='et_hour_cos')\n",
    "weekday_sin = sessionTime_weekday >> (lambda col: get_cycled_feature_value_sin(col+1, 7)) >> nvt.ops.Rename(name = 'et_dayofweek_sin')\n",
    "weekday_cos= sessionTime_weekday >> (lambda col: get_cycled_feature_value_cos(col+1, 7)) >> nvt.ops.Rename(name = 'et_dayofweek_cos')\n",
    "\n",
    "dayofmonth_sin = sessionTime_hour >> (lambda col: get_cycled_feature_value_sin(col, 31)) >> nvt.ops.Rename(name ='et_dayofmonth_sin')\n",
    "dayofmonth_cos = sessionTime_hour >> (lambda col: get_cycled_feature_value_cos(col, 31)) >> nvt.ops.Rename(name='et_dayofmonth_cos')\n",
    "month_sin = sessionTime_weekday >> (lambda col: get_cycled_feature_value_sin(col, 12)) >> nvt.ops.Rename(name='et_month_sin')\n",
    "month_cos= sessionTime_weekday >> (lambda col: get_cycled_feature_value_cos(col, 12)) >> nvt.ops.Rename(name = 'et_month_cos')"
   ]
  },
  {
   "cell_type": "code",
   "execution_count": 42,
   "metadata": {},
   "outputs": [],
   "source": [
    "cycled_features = hour_sin + hour_cos + weekday_sin + weekday_cos + dayofmonth_sin + dayofmonth_cos + month_sin + month_cos"
   ]
  },
  {
   "cell_type": "code",
   "execution_count": 43,
   "metadata": {},
   "outputs": [],
   "source": [
    "recency_features = [\"event_time_dt\"] >> ItemRecency() >>  nvt.ops.Rename(name='product_recency_days')\n",
    "recency_features_norm = recency_features >> nvt.ops.LogOp() >> nvt.ops.Normalize() >> nvt.ops.Rename(name='product_recency_days_log_norm')"
   ]
  },
  {
   "cell_type": "code",
   "execution_count": 44,
   "metadata": {},
   "outputs": [],
   "source": [
    "time_features = (\n",
    "    sessionTime_hour +\n",
    "    sessionTime_day + \n",
    "    sessionTime_month + \n",
    "    sessionTime_weekday +\n",
    "    recency_features +\n",
    "    recency_features_norm + \n",
    "    cycled_features\n",
    ")\n",
    "#time_features.graph"
   ]
  },
  {
   "cell_type": "markdown",
   "metadata": {},
   "source": [
    "### Computing elapsed time since last interaction (on non-repeated items)"
   ]
  },
  {
   "cell_type": "code",
   "execution_count": 45,
   "metadata": {},
   "outputs": [],
   "source": [
    "# compute the delta in timestamp for each users session\n",
    "diff_features = ([\"event_time_ts\"] >> nvt.ops.DifferenceLag(partition_cols=[\"user_session\"]) >> (lambda col: col.astype(\"float32\"))\n",
    "                                   >> nvt.ops.FillMissing(fill_val=0)\n",
    "                                   >> nvt.ops.Rename(name=\"delta_event_secs\")\n",
    "                )\n",
    "diff_features_log_norm = diff_features >> nvt.ops.LogOp() >> nvt.ops.Normalize() >> nvt.ops.Rename(name='delta_event_secs_log_norm')"
   ]
  },
  {
   "cell_type": "markdown",
   "metadata": {},
   "source": [
    "### Normalize Continuous Features¶"
   ]
  },
  {
   "cell_type": "code",
   "execution_count": 46,
   "metadata": {},
   "outputs": [],
   "source": [
    "#Smoothing price long-tailed distribution\n",
    "price_log = ['price'] >> nvt.ops.LogOp() >> nvt.ops.Normalize() >> nvt.ops.Rename(name='price_log_norm')"
   ]
  },
  {
   "cell_type": "code",
   "execution_count": 47,
   "metadata": {},
   "outputs": [],
   "source": [
    "# Relative Price to the average price for the category_id\n",
    "def relative_price_to_avg_categ(col, gdf):\n",
    "    col = (gdf['price'] - col) / col\n",
    "    return col\n",
    "    \n",
    "avg_category_id_pr = ['category_id'] >> nvt.ops.JoinGroupby(cont_cols =['price'], stats=[\"mean\"]) >> nvt.ops.Rename(name='avg_category_id_price')\n",
    "relative_price_to_avg_category = avg_category_id_pr >> nvt.ops.LambdaOp(relative_price_to_avg_categ, dependency=['price']) >> nvt.ops.Rename(name=\"relative_price_to_avg_categ_id\")"
   ]
  },
  {
   "cell_type": "markdown",
   "metadata": {},
   "source": [
    "### Grouping interactions into sessions¶"
   ]
  },
  {
   "cell_type": "code",
   "execution_count": 48,
   "metadata": {},
   "outputs": [],
   "source": [
    "groupby_feats = cols + cat_feats + time_features + avg_category_id_pr + price_log + relative_price_to_avg_category + diff_features + diff_features_log_norm"
   ]
  },
  {
   "cell_type": "code",
   "execution_count": 49,
   "metadata": {},
   "outputs": [
    {
     "data": {
      "text/plain": [
       "['category_code_idx',\n",
       " 'brand_idx',\n",
       " 'user_id_idx',\n",
       " 'product_id_idx',\n",
       " 'category_id_idx',\n",
       " 'event_type_idx',\n",
       " 'event_time_dt',\n",
       " 'event_time_ts',\n",
       " 'user_session',\n",
       " 'et_hour',\n",
       " 'et_dayofmonth',\n",
       " 'et_month',\n",
       " 'et_dayofweek',\n",
       " 'product_recency_days',\n",
       " 'product_recency_days_log_norm',\n",
       " 'et_hour_sin',\n",
       " 'et_hour_cos',\n",
       " 'et_dayofweek_sin',\n",
       " 'et_dayofweek_cos',\n",
       " 'et_dayofmonth_sin',\n",
       " 'et_dayofmonth_cos',\n",
       " 'et_month_sin',\n",
       " 'et_month_cos',\n",
       " 'avg_category_id_price',\n",
       " 'price_log_norm',\n",
       " 'relative_price_to_avg_categ_id',\n",
       " 'delta_event_secs',\n",
       " 'delta_event_secs_log_norm']"
      ]
     },
     "execution_count": 49,
     "metadata": {},
     "output_type": "execute_result"
    }
   ],
   "source": [
    "groupby_feats.columns"
   ]
  },
  {
   "cell_type": "markdown",
   "metadata": {},
   "source": [
    "#### Aggregate by session id (create sequence as type of array)"
   ]
  },
  {
   "cell_type": "code",
   "execution_count": 50,
   "metadata": {},
   "outputs": [],
   "source": [
    "# Define Groupby Workflow\n",
    "groupby_features = groupby_feats  >> nvt.ops.Groupby(\n",
    "    groupby_cols=[\"user_session\"], \n",
    "    sort_cols=[\"event_time_ts\"],\n",
    "    aggs={\n",
    "        'user_id_idx': ['first'],\n",
    "        'product_id_idx': [\"list\", \"count\"],\n",
    "        'category_code_idx': [\"list\"],  \n",
    "        'event_type_idx': [\"list\"], \n",
    "        'brand_idx': [\"list\"], \n",
    "        'category_id_idx': [\"list\"], \n",
    "        'event_time_ts': [\"list\", \"first\", \"last\"],\n",
    "        'event_time_dt': [\"first\"],\n",
    "        'et_month': [\"list\"],\n",
    "        'et_hour': [\"list\"],\n",
    "        'et_dayofmonth': [\"list\"],\n",
    "        'et_dayofweek': [\"list\"],\n",
    "        'product_recency_days': [\"list\"],\n",
    "        'product_recency_days_log_norm': [\"list\"],\n",
    "        'et_hour_sin': [\"list\"],\n",
    "        'et_hour_cos': [\"list\"],\n",
    "        'et_dayofweek_sin': [\"list\"],\n",
    "        'et_dayofweek_cos': [\"list\"],\n",
    "        'et_dayofmonth_sin': [\"list\"],\n",
    "        'et_dayofmonth_cos': [\"list\"],\n",
    "        'et_month_sin': [\"list\"],\n",
    "        'et_month_cos': [\"list\"], \n",
    "        'avg_category_id_price': [\"list\"], \n",
    "        'relative_price_to_avg_categ_id': [\"list\"], \n",
    "        'price_log_norm': [\"list\"], \n",
    "        'delta_event_secs': [\"list\"], \n",
    "        'delta_event_secs_log_norm': [\"list\"], \n",
    "        },\n",
    "    name_sep=\"-\")"
   ]
  },
  {
   "cell_type": "code",
   "execution_count": 51,
   "metadata": {},
   "outputs": [
    {
     "data": {
      "text/plain": [
       "['et_month-list',\n",
       " 'event_time_ts-last',\n",
       " 'brand_idx-list',\n",
       " 'delta_event_secs-list',\n",
       " 'et_dayofmonth-list',\n",
       " 'product_recency_days_log_norm-list',\n",
       " 'et_month_sin-list',\n",
       " 'delta_event_secs_log_norm-list',\n",
       " 'et_dayofmonth_sin-list',\n",
       " 'et_dayofweek_sin-list',\n",
       " 'price_log_norm-list',\n",
       " 'event_time_dt-first',\n",
       " 'et_dayofmonth_cos-list',\n",
       " 'category_id_idx-list',\n",
       " 'event_type_idx-list',\n",
       " 'product_recency_days-list',\n",
       " 'avg_category_id_price-list',\n",
       " 'relative_price_to_avg_categ_id-list',\n",
       " 'user_id_idx-first',\n",
       " 'product_id_idx-list',\n",
       " 'et_dayofweek-list',\n",
       " 'event_time_ts-first',\n",
       " 'et_hour_sin-list',\n",
       " 'et_hour_cos-list',\n",
       " 'et_month_cos-list',\n",
       " 'et_hour-list',\n",
       " 'category_code_idx-list',\n",
       " 'user_session',\n",
       " 'et_dayofweek_cos-list',\n",
       " 'product_id_idx-count',\n",
       " 'event_time_ts-list']"
      ]
     },
     "execution_count": 51,
     "metadata": {},
     "output_type": "execute_result"
    }
   ],
   "source": [
    "groupby_features.columns"
   ]
  },
  {
   "cell_type": "code",
   "execution_count": 52,
   "metadata": {},
   "outputs": [
    {
     "data": {
      "text/plain": [
       "['event_time_ts-last',\n",
       " 'event_time_dt-first',\n",
       " 'user_id_idx-first',\n",
       " 'event_time_ts-first',\n",
       " 'user_session',\n",
       " 'product_id_idx-count']"
      ]
     },
     "execution_count": 52,
     "metadata": {},
     "output_type": "execute_result"
    }
   ],
   "source": [
    "groupby_features_nonlist = [x for x in groupby_features.columns if '-list' not in x]\n",
    "groupby_features_nonlist"
   ]
  },
  {
   "cell_type": "code",
   "execution_count": 53,
   "metadata": {},
   "outputs": [],
   "source": [
    "SESSIONS_MAX_LENGTH = 20 \n",
    "MINIMUM_SESSION_LENGTH = 2"
   ]
  },
  {
   "cell_type": "code",
   "execution_count": 54,
   "metadata": {},
   "outputs": [],
   "source": [
    "groupby_features_trim = ((groupby_features - groupby_features_nonlist)) >> nvt.ops.ListSlice(0,SESSIONS_MAX_LENGTH) >> nvt.ops.Rename(postfix = '_trim')"
   ]
  },
  {
   "cell_type": "code",
   "execution_count": 55,
   "metadata": {},
   "outputs": [
    {
     "data": {
      "text/plain": [
       "['et_month-list_trim',\n",
       " 'brand_idx-list_trim',\n",
       " 'delta_event_secs-list_trim',\n",
       " 'et_dayofmonth-list_trim',\n",
       " 'product_recency_days_log_norm-list_trim',\n",
       " 'et_month_sin-list_trim',\n",
       " 'delta_event_secs_log_norm-list_trim',\n",
       " 'et_dayofmonth_sin-list_trim',\n",
       " 'et_dayofweek_sin-list_trim',\n",
       " 'price_log_norm-list_trim',\n",
       " 'et_dayofmonth_cos-list_trim',\n",
       " 'category_id_idx-list_trim',\n",
       " 'event_type_idx-list_trim',\n",
       " 'product_recency_days-list_trim',\n",
       " 'avg_category_id_price-list_trim',\n",
       " 'relative_price_to_avg_categ_id-list_trim',\n",
       " 'product_id_idx-list_trim',\n",
       " 'et_dayofweek-list_trim',\n",
       " 'et_hour_sin-list_trim',\n",
       " 'et_hour_cos-list_trim',\n",
       " 'et_month_cos-list_trim',\n",
       " 'et_hour-list_trim',\n",
       " 'category_code_idx-list_trim',\n",
       " 'et_dayofweek_cos-list_trim',\n",
       " 'event_time_ts-list_trim']"
      ]
     },
     "execution_count": 55,
     "metadata": {},
     "output_type": "execute_result"
    }
   ],
   "source": [
    "groupby_features_trim.columns"
   ]
  },
  {
   "cell_type": "code",
   "execution_count": 56,
   "metadata": {},
   "outputs": [],
   "source": [
    "# calculate session day index based on 'timestamp-first' column\n",
    "remaining_columns = [x for x in groupby_features.columns if x!= 'event_time_dt-first']\n",
    "day_index = ((groupby_features - remaining_columns)  >> \n",
    "    nvt.ops.LambdaOp(lambda col: (col - col.min()).dt.days +1) >> \n",
    "    nvt.ops.Rename(f = lambda col: \"day_index\")\n",
    ")"
   ]
  },
  {
   "cell_type": "code",
   "execution_count": 57,
   "metadata": {},
   "outputs": [],
   "source": [
    "day_idx_padded = day_index >> (lambda col: col.astype(str).str.pad(4,fillchar='0')) >> nvt.ops.Rename(f = lambda col: \"day_idx_padded\")"
   ]
  },
  {
   "cell_type": "code",
   "execution_count": 58,
   "metadata": {},
   "outputs": [],
   "source": [
    "rename_cols = {\"product_id_idx-count\": \"session_size\"} \n",
    "groupby_features = groupby_features >> nvt.ops.Rename(lambda col: rename_cols.get(col, col))"
   ]
  },
  {
   "cell_type": "code",
   "execution_count": 59,
   "metadata": {},
   "outputs": [],
   "source": [
    "filtered_sessions = (groupby_features + groupby_features_trim + day_index + day_idx_padded) >> \\\n",
    "                     nvt.ops.Filter(f=lambda df: df[\"session_size\"] >= MINIMUM_SESSION_LENGTH)"
   ]
  },
  {
   "cell_type": "code",
   "execution_count": 60,
   "metadata": {},
   "outputs": [],
   "source": [
    "# define the path of the saved parquet files \n",
    "path = '/workspace/Transformers4Rec/datasets/ecommerce_rees46/preprocessing/NVTabular/input_df/'\n",
    "input_paths = glob.glob(os.path.join(path, '*.parquet'))\n",
    "#input_paths"
   ]
  },
  {
   "cell_type": "code",
   "execution_count": 61,
   "metadata": {},
   "outputs": [],
   "source": [
    "dataset = nvt.Dataset(input_paths, part_size=\"500MB\")\n",
    "workflow = nvt.Workflow(filtered_sessions)\n",
    "workflow.fit(dataset)\n",
    "df_indexed = workflow.transform(dataset).to_ddf()"
   ]
  },
  {
   "cell_type": "code",
   "execution_count": 63,
   "metadata": {},
   "outputs": [
    {
     "data": {
      "text/plain": [
       "['event_time_ts-last',\n",
       " 'user_id_idx-first',\n",
       " 'event_time_ts-first',\n",
       " 'user_session',\n",
       " 'session_size',\n",
       " 'day_index']"
      ]
     },
     "execution_count": 63,
     "metadata": {},
     "output_type": "execute_result"
    }
   ],
   "source": [
    "cast_dtypes_cols =  [x for x in df_indexed.columns if ('-list' not in x) & (x!= 'event_time_dt-first') & (x!= 'day_idx_padded')]\n",
    "cast_dtypes_cols"
   ]
  },
  {
   "cell_type": "code",
   "execution_count": 64,
   "metadata": {},
   "outputs": [],
   "source": [
    "for col in cast_dtypes_cols:\n",
    "    df_indexed[col] = df_indexed[col].astype('int64')"
   ]
  },
  {
   "cell_type": "code",
   "execution_count": 65,
   "metadata": {},
   "outputs": [
    {
     "data": {
      "text/plain": [
       "et_month-list                               float64\n",
       "event_time_ts-last                            int64\n",
       "brand_idx-list                              float64\n",
       "delta_event_secs-list                       float64\n",
       "et_dayofmonth-list                          float64\n",
       "product_recency_days_log_norm-list          float64\n",
       "et_month_sin-list                           float64\n",
       "delta_event_secs_log_norm-list              float64\n",
       "et_dayofmonth_sin-list                      float64\n",
       "et_dayofweek_sin-list                       float64\n",
       "price_log_norm-list                         float64\n",
       "event_time_dt-first                         float64\n",
       "et_dayofmonth_cos-list                      float64\n",
       "category_id_idx-list                        float64\n",
       "event_type_idx-list                         float64\n",
       "product_recency_days-list                   float64\n",
       "avg_category_id_price-list                  float64\n",
       "relative_price_to_avg_categ_id-list         float64\n",
       "user_id_idx-first                             int64\n",
       "product_id_idx-list                         float64\n",
       "et_dayofweek-list                           float64\n",
       "event_time_ts-first                           int64\n",
       "et_hour_sin-list                            float64\n",
       "et_hour_cos-list                            float64\n",
       "et_month_cos-list                           float64\n",
       "et_hour-list                                float64\n",
       "category_code_idx-list                      float64\n",
       "user_session                                  int64\n",
       "et_dayofweek_cos-list                       float64\n",
       "session_size                                  int64\n",
       "event_time_ts-list                          float64\n",
       "et_month-list_trim                          float64\n",
       "brand_idx-list_trim                         float64\n",
       "delta_event_secs-list_trim                  float64\n",
       "et_dayofmonth-list_trim                     float64\n",
       "product_recency_days_log_norm-list_trim     float64\n",
       "et_month_sin-list_trim                      float64\n",
       "delta_event_secs_log_norm-list_trim         float64\n",
       "et_dayofmonth_sin-list_trim                 float64\n",
       "et_dayofweek_sin-list_trim                  float64\n",
       "price_log_norm-list_trim                    float64\n",
       "et_dayofmonth_cos-list_trim                 float64\n",
       "category_id_idx-list_trim                   float64\n",
       "event_type_idx-list_trim                    float64\n",
       "product_recency_days-list_trim              float64\n",
       "avg_category_id_price-list_trim             float64\n",
       "relative_price_to_avg_categ_id-list_trim    float64\n",
       "product_id_idx-list_trim                    float64\n",
       "et_dayofweek-list_trim                      float64\n",
       "et_hour_sin-list_trim                       float64\n",
       "et_hour_cos-list_trim                       float64\n",
       "et_month_cos-list_trim                      float64\n",
       "et_hour-list_trim                           float64\n",
       "category_code_idx-list_trim                 float64\n",
       "et_dayofweek_cos-list_trim                  float64\n",
       "event_time_ts-list_trim                     float64\n",
       "day_index                                     int64\n",
       "day_idx_padded                              float64\n",
       "dtype: object"
      ]
     },
     "execution_count": 65,
     "metadata": {},
     "output_type": "execute_result"
    }
   ],
   "source": [
    "df_indexed.dtypes"
   ]
  },
  {
   "cell_type": "code",
   "execution_count": 66,
   "metadata": {},
   "outputs": [
    {
     "data": {
      "text/html": [
       "<div>\n",
       "<style scoped>\n",
       "    .dataframe tbody tr th:only-of-type {\n",
       "        vertical-align: middle;\n",
       "    }\n",
       "\n",
       "    .dataframe tbody tr th {\n",
       "        vertical-align: top;\n",
       "    }\n",
       "\n",
       "    .dataframe thead th {\n",
       "        text-align: right;\n",
       "    }\n",
       "</style>\n",
       "<table border=\"1\" class=\"dataframe\">\n",
       "  <thead>\n",
       "    <tr style=\"text-align: right;\">\n",
       "      <th></th>\n",
       "      <th>et_month-list</th>\n",
       "      <th>event_time_ts-last</th>\n",
       "      <th>brand_idx-list</th>\n",
       "      <th>delta_event_secs-list</th>\n",
       "      <th>et_dayofmonth-list</th>\n",
       "      <th>product_recency_days_log_norm-list</th>\n",
       "      <th>et_month_sin-list</th>\n",
       "      <th>delta_event_secs_log_norm-list</th>\n",
       "      <th>et_dayofmonth_sin-list</th>\n",
       "      <th>et_dayofweek_sin-list</th>\n",
       "      <th>...</th>\n",
       "      <th>et_dayofweek-list_trim</th>\n",
       "      <th>et_hour_sin-list_trim</th>\n",
       "      <th>et_hour_cos-list_trim</th>\n",
       "      <th>et_month_cos-list_trim</th>\n",
       "      <th>et_hour-list_trim</th>\n",
       "      <th>category_code_idx-list_trim</th>\n",
       "      <th>et_dayofweek_cos-list_trim</th>\n",
       "      <th>event_time_ts-list_trim</th>\n",
       "      <th>day_index</th>\n",
       "      <th>day_idx_padded</th>\n",
       "    </tr>\n",
       "  </thead>\n",
       "  <tbody>\n",
       "    <tr>\n",
       "      <th>0</th>\n",
       "      <td>[10, 10, 10, 10, 10, 10, 10]</td>\n",
       "      <td>1572503485</td>\n",
       "      <td>[166, 166, 3359, 2701, 166, 166, 2701]</td>\n",
       "      <td>[0.0, 0.0, 0.0, 0.0, 0.0, 0.0, 0.0]</td>\n",
       "      <td>[31, 31, 31, 31, 31, 31, 31]</td>\n",
       "      <td>[1.1646589, 1.1646589, 1.1646589, 1.1646589, 1...</td>\n",
       "      <td>[1.0, 1.0, 1.0, 1.0, 1.0, 1.0, 1.0]</td>\n",
       "      <td>[-0.0019120104, -0.0019120104, -0.0019120104, ...</td>\n",
       "      <td>[0.9377522, 0.9377522, 0.9377522, 0.9377522, 0...</td>\n",
       "      <td>[-0.43388462, -0.43388462, -0.43388462, -0.433...</td>\n",
       "      <td>...</td>\n",
       "      <td>[3, 3, 3, 3, 3, 3, 3]</td>\n",
       "      <td>[1.0, 1.0, 1.0, 1.0, 1.0, 1.0, 1.0]</td>\n",
       "      <td>[-2.8212997e-07, -2.8212997e-07, -2.8212997e-0...</td>\n",
       "      <td>[-6.3975784e-07, -6.3975784e-07, -6.3975784e-0...</td>\n",
       "      <td>[6, 6, 6, 6, 6, 6, 6]</td>\n",
       "      <td>[85, 85, 35, 85, 85, 85, 85]</td>\n",
       "      <td>[-0.90096843, -0.90096843, -0.90096843, -0.900...</td>\n",
       "      <td>[1572502992, 1572503032, 1572503152, 157250321...</td>\n",
       "      <td>31</td>\n",
       "      <td>0031</td>\n",
       "    </tr>\n",
       "    <tr>\n",
       "      <th>1</th>\n",
       "      <td>[10, 10, 10, 10, 10, 10, 10, 10, 10, 10, 10, 1...</td>\n",
       "      <td>1570361570</td>\n",
       "      <td>[2701, 2701, 2701, 2701, 2701, 2701, 2701, 335...</td>\n",
       "      <td>[0.0, 0.0, 0.0, 0.0, 0.0, 0.0, 0.0, 0.0, 0.0, ...</td>\n",
       "      <td>[6, 6, 6, 6, 6, 6, 6, 6, 6, 6, 6, 6, 6, 6]</td>\n",
       "      <td>[-0.710463, -0.710463, -0.710463, -0.710463, -...</td>\n",
       "      <td>[-5.6425995e-07, -5.6425995e-07, -5.6425995e-0...</td>\n",
       "      <td>[-0.0019120104, -0.0019120104, -0.0019120104, ...</td>\n",
       "      <td>[0.7907757, 0.7907757, 0.7907757, 0.7907757, 0...</td>\n",
       "      <td>[1.1285199e-06, 1.1285199e-06, 1.1285199e-06, ...</td>\n",
       "      <td>...</td>\n",
       "      <td>[6, 6, 6, 6, 6, 6, 6, 6, 6, 6, 6, 6, 6, 6]</td>\n",
       "      <td>[0.2588187, 0.2588187, 0.2588187, 0.2588187, 0...</td>\n",
       "      <td>[-0.96592593, -0.96592593, -0.96592593, -0.965...</td>\n",
       "      <td>[-1.0, -1.0, -1.0, -1.0, -1.0, -1.0, -1.0, -1....</td>\n",
       "      <td>[11, 11, 11, 11, 11, 11, 11, 11, 11, 11, 11, 1...</td>\n",
       "      <td>[85, 85, 85, 85, 85, 85, 85, 85, 85, 85, 85, 8...</td>\n",
       "      <td>[1.0, 1.0, 1.0, 1.0, 1.0, 1.0, 1.0, 1.0, 1.0, ...</td>\n",
       "      <td>[1570361085, 1570361154, 1570361159, 157036119...</td>\n",
       "      <td>6</td>\n",
       "      <td>0006</td>\n",
       "    </tr>\n",
       "    <tr>\n",
       "      <th>2</th>\n",
       "      <td>[10, 10]</td>\n",
       "      <td>1572177968</td>\n",
       "      <td>[1449, 1449]</td>\n",
       "      <td>[0.0, 0.0]</td>\n",
       "      <td>[27, 27]</td>\n",
       "      <td>[1.0069168, 1.0069168]</td>\n",
       "      <td>[-5.6425995e-07, -5.6425995e-07]</td>\n",
       "      <td>[-0.0019120104, -0.0019120104]</td>\n",
       "      <td>[0.65137243, 0.65137243]</td>\n",
       "      <td>[1.1285199e-06, 1.1285199e-06]</td>\n",
       "      <td>...</td>\n",
       "      <td>[6, 6]</td>\n",
       "      <td>[-5.6425995e-07, -5.6425995e-07]</td>\n",
       "      <td>[-1.0, -1.0]</td>\n",
       "      <td>[-1.0, -1.0]</td>\n",
       "      <td>[12, 12]</td>\n",
       "      <td>[283, 283]</td>\n",
       "      <td>[1.0, 1.0]</td>\n",
       "      <td>[1572177904, 1572177968]</td>\n",
       "      <td>27</td>\n",
       "      <td>0027</td>\n",
       "    </tr>\n",
       "    <tr>\n",
       "      <th>3</th>\n",
       "      <td>[10, 10]</td>\n",
       "      <td>1571060515</td>\n",
       "      <td>[166, 166]</td>\n",
       "      <td>[0.0, 0.0]</td>\n",
       "      <td>[14, 14]</td>\n",
       "      <td>[0.25699535, 0.25699535]</td>\n",
       "      <td>[5.2359877e-07, 5.2359877e-07]</td>\n",
       "      <td>[-0.0019120104, -0.0019120104]</td>\n",
       "      <td>[0.48530182, 0.48530182]</td>\n",
       "      <td>[0.7818321, 0.7818321]</td>\n",
       "      <td>...</td>\n",
       "      <td>[0, 0]</td>\n",
       "      <td>[-0.2588193, -0.2588193]</td>\n",
       "      <td>[-0.96592575, -0.96592575]</td>\n",
       "      <td>[1.0, 1.0]</td>\n",
       "      <td>[13, 13]</td>\n",
       "      <td>[85, 85]</td>\n",
       "      <td>[0.6234891, 0.6234891]</td>\n",
       "      <td>[1571060486, 1571060515]</td>\n",
       "      <td>14</td>\n",
       "      <td>0014</td>\n",
       "    </tr>\n",
       "    <tr>\n",
       "      <th>4</th>\n",
       "      <td>[10, 10, 10, 10, 10, 10]</td>\n",
       "      <td>1570952551</td>\n",
       "      <td>[1846, 2848, 1846, 1846, 3163, 3163]</td>\n",
       "      <td>[0.0, 0.0, 0.0, 0.0, 0.0, 0.0]</td>\n",
       "      <td>[13, 13, 13, 13, 13, 13]</td>\n",
       "      <td>[0.1723775, 0.1723775, 0.1723775, 0.1723775, 0...</td>\n",
       "      <td>[-5.6425995e-07, -5.6425995e-07, -5.6425995e-0...</td>\n",
       "      <td>[-0.0019120104, -0.0019120104, -0.0019120104, ...</td>\n",
       "      <td>[0.98846835, 0.98846835, 0.98846835, 0.9884683...</td>\n",
       "      <td>[1.1285199e-06, 1.1285199e-06, 1.1285199e-06, ...</td>\n",
       "      <td>...</td>\n",
       "      <td>[6, 6, 6, 6, 6, 6]</td>\n",
       "      <td>[0.96592575, 0.96592575, 0.96592575, 0.9659257...</td>\n",
       "      <td>[-0.25881937, -0.25881937, -0.25881937, -0.258...</td>\n",
       "      <td>[-1.0, -1.0, -1.0, -1.0, -1.0, -1.0]</td>\n",
       "      <td>[7, 7, 7, 7, 7, 7]</td>\n",
       "      <td>[274, 276, 274, 275, 276, 269]</td>\n",
       "      <td>[1.0, 1.0, 1.0, 1.0, 1.0, 1.0]</td>\n",
       "      <td>[1570952296, 1570952365, 1570952436, 157095247...</td>\n",
       "      <td>13</td>\n",
       "      <td>0013</td>\n",
       "    </tr>\n",
       "  </tbody>\n",
       "</table>\n",
       "<p>5 rows × 58 columns</p>\n",
       "</div>"
      ],
      "text/plain": [
       "                                       et_month-list  event_time_ts-last  \\\n",
       "0                       [10, 10, 10, 10, 10, 10, 10]          1572503485   \n",
       "1  [10, 10, 10, 10, 10, 10, 10, 10, 10, 10, 10, 1...          1570361570   \n",
       "2                                           [10, 10]          1572177968   \n",
       "3                                           [10, 10]          1571060515   \n",
       "4                           [10, 10, 10, 10, 10, 10]          1570952551   \n",
       "\n",
       "                                      brand_idx-list  \\\n",
       "0             [166, 166, 3359, 2701, 166, 166, 2701]   \n",
       "1  [2701, 2701, 2701, 2701, 2701, 2701, 2701, 335...   \n",
       "2                                       [1449, 1449]   \n",
       "3                                         [166, 166]   \n",
       "4               [1846, 2848, 1846, 1846, 3163, 3163]   \n",
       "\n",
       "                               delta_event_secs-list  \\\n",
       "0                [0.0, 0.0, 0.0, 0.0, 0.0, 0.0, 0.0]   \n",
       "1  [0.0, 0.0, 0.0, 0.0, 0.0, 0.0, 0.0, 0.0, 0.0, ...   \n",
       "2                                         [0.0, 0.0]   \n",
       "3                                         [0.0, 0.0]   \n",
       "4                     [0.0, 0.0, 0.0, 0.0, 0.0, 0.0]   \n",
       "\n",
       "                           et_dayofmonth-list  \\\n",
       "0                [31, 31, 31, 31, 31, 31, 31]   \n",
       "1  [6, 6, 6, 6, 6, 6, 6, 6, 6, 6, 6, 6, 6, 6]   \n",
       "2                                    [27, 27]   \n",
       "3                                    [14, 14]   \n",
       "4                    [13, 13, 13, 13, 13, 13]   \n",
       "\n",
       "                  product_recency_days_log_norm-list  \\\n",
       "0  [1.1646589, 1.1646589, 1.1646589, 1.1646589, 1...   \n",
       "1  [-0.710463, -0.710463, -0.710463, -0.710463, -...   \n",
       "2                             [1.0069168, 1.0069168]   \n",
       "3                           [0.25699535, 0.25699535]   \n",
       "4  [0.1723775, 0.1723775, 0.1723775, 0.1723775, 0...   \n",
       "\n",
       "                                   et_month_sin-list  \\\n",
       "0                [1.0, 1.0, 1.0, 1.0, 1.0, 1.0, 1.0]   \n",
       "1  [-5.6425995e-07, -5.6425995e-07, -5.6425995e-0...   \n",
       "2                   [-5.6425995e-07, -5.6425995e-07]   \n",
       "3                     [5.2359877e-07, 5.2359877e-07]   \n",
       "4  [-5.6425995e-07, -5.6425995e-07, -5.6425995e-0...   \n",
       "\n",
       "                      delta_event_secs_log_norm-list  \\\n",
       "0  [-0.0019120104, -0.0019120104, -0.0019120104, ...   \n",
       "1  [-0.0019120104, -0.0019120104, -0.0019120104, ...   \n",
       "2                     [-0.0019120104, -0.0019120104]   \n",
       "3                     [-0.0019120104, -0.0019120104]   \n",
       "4  [-0.0019120104, -0.0019120104, -0.0019120104, ...   \n",
       "\n",
       "                              et_dayofmonth_sin-list  \\\n",
       "0  [0.9377522, 0.9377522, 0.9377522, 0.9377522, 0...   \n",
       "1  [0.7907757, 0.7907757, 0.7907757, 0.7907757, 0...   \n",
       "2                           [0.65137243, 0.65137243]   \n",
       "3                           [0.48530182, 0.48530182]   \n",
       "4  [0.98846835, 0.98846835, 0.98846835, 0.9884683...   \n",
       "\n",
       "                               et_dayofweek_sin-list  ...  \\\n",
       "0  [-0.43388462, -0.43388462, -0.43388462, -0.433...  ...   \n",
       "1  [1.1285199e-06, 1.1285199e-06, 1.1285199e-06, ...  ...   \n",
       "2                     [1.1285199e-06, 1.1285199e-06]  ...   \n",
       "3                             [0.7818321, 0.7818321]  ...   \n",
       "4  [1.1285199e-06, 1.1285199e-06, 1.1285199e-06, ...  ...   \n",
       "\n",
       "                       et_dayofweek-list_trim  \\\n",
       "0                       [3, 3, 3, 3, 3, 3, 3]   \n",
       "1  [6, 6, 6, 6, 6, 6, 6, 6, 6, 6, 6, 6, 6, 6]   \n",
       "2                                      [6, 6]   \n",
       "3                                      [0, 0]   \n",
       "4                          [6, 6, 6, 6, 6, 6]   \n",
       "\n",
       "                               et_hour_sin-list_trim  \\\n",
       "0                [1.0, 1.0, 1.0, 1.0, 1.0, 1.0, 1.0]   \n",
       "1  [0.2588187, 0.2588187, 0.2588187, 0.2588187, 0...   \n",
       "2                   [-5.6425995e-07, -5.6425995e-07]   \n",
       "3                           [-0.2588193, -0.2588193]   \n",
       "4  [0.96592575, 0.96592575, 0.96592575, 0.9659257...   \n",
       "\n",
       "                               et_hour_cos-list_trim  \\\n",
       "0  [-2.8212997e-07, -2.8212997e-07, -2.8212997e-0...   \n",
       "1  [-0.96592593, -0.96592593, -0.96592593, -0.965...   \n",
       "2                                       [-1.0, -1.0]   \n",
       "3                         [-0.96592575, -0.96592575]   \n",
       "4  [-0.25881937, -0.25881937, -0.25881937, -0.258...   \n",
       "\n",
       "                              et_month_cos-list_trim  \\\n",
       "0  [-6.3975784e-07, -6.3975784e-07, -6.3975784e-0...   \n",
       "1  [-1.0, -1.0, -1.0, -1.0, -1.0, -1.0, -1.0, -1....   \n",
       "2                                       [-1.0, -1.0]   \n",
       "3                                         [1.0, 1.0]   \n",
       "4               [-1.0, -1.0, -1.0, -1.0, -1.0, -1.0]   \n",
       "\n",
       "                                   et_hour-list_trim  \\\n",
       "0                              [6, 6, 6, 6, 6, 6, 6]   \n",
       "1  [11, 11, 11, 11, 11, 11, 11, 11, 11, 11, 11, 1...   \n",
       "2                                           [12, 12]   \n",
       "3                                           [13, 13]   \n",
       "4                                 [7, 7, 7, 7, 7, 7]   \n",
       "\n",
       "                         category_code_idx-list_trim  \\\n",
       "0                       [85, 85, 35, 85, 85, 85, 85]   \n",
       "1  [85, 85, 85, 85, 85, 85, 85, 85, 85, 85, 85, 8...   \n",
       "2                                         [283, 283]   \n",
       "3                                           [85, 85]   \n",
       "4                     [274, 276, 274, 275, 276, 269]   \n",
       "\n",
       "                          et_dayofweek_cos-list_trim  \\\n",
       "0  [-0.90096843, -0.90096843, -0.90096843, -0.900...   \n",
       "1  [1.0, 1.0, 1.0, 1.0, 1.0, 1.0, 1.0, 1.0, 1.0, ...   \n",
       "2                                         [1.0, 1.0]   \n",
       "3                             [0.6234891, 0.6234891]   \n",
       "4                     [1.0, 1.0, 1.0, 1.0, 1.0, 1.0]   \n",
       "\n",
       "                             event_time_ts-list_trim day_index  day_idx_padded  \n",
       "0  [1572502992, 1572503032, 1572503152, 157250321...        31            0031  \n",
       "1  [1570361085, 1570361154, 1570361159, 157036119...         6            0006  \n",
       "2                           [1572177904, 1572177968]        27            0027  \n",
       "3                           [1571060486, 1571060515]        14            0014  \n",
       "4  [1570952296, 1570952365, 1570952436, 157095247...        13            0013  \n",
       "\n",
       "[5 rows x 58 columns]"
      ]
     },
     "execution_count": 66,
     "metadata": {},
     "output_type": "execute_result"
    }
   ],
   "source": [
    "df_indexed.head()"
   ]
  },
  {
   "cell_type": "code",
   "execution_count": 68,
   "metadata": {},
   "outputs": [
    {
     "data": {
      "text/plain": [
       "{'category_code_idx': (625, 59),\n",
       " 'brand_idx': (3445, 153),\n",
       " 'user_id_idx': (3022291, 512),\n",
       " 'product_id_idx': (166795, 512),\n",
       " 'category_id_idx': (625, 59),\n",
       " 'event_type_idx': (4, 16)}"
      ]
     },
     "execution_count": 68,
     "metadata": {},
     "output_type": "execute_result"
    }
   ],
   "source": [
    "cat_feats.op.get_embedding_sizes(cat_feats.columns)"
   ]
  },
  {
   "cell_type": "markdown",
   "metadata": {},
   "source": [
    "# Exporting data"
   ]
  },
  {
   "cell_type": "code",
   "execution_count": 78,
   "metadata": {},
   "outputs": [],
   "source": [
    "OUTPUT_FOLDER = \"/workspace/ecommerce-rees/preproc_sessions_by_day_ts\"\n",
    "!mkdir -p $OUTPUT_FOLDER"
   ]
  },
  {
   "cell_type": "code",
   "execution_count": 79,
   "metadata": {},
   "outputs": [],
   "source": [
    "SELECTED_COLS = ['user_id_idx-first', 'user_session', 'event_time_ts-first', 'product_id_idx-list_trim', 'event_time_ts-list_trim', 'event_type_idx-list_trim',\n",
    "                 'category_id_idx-list_trim', 'category_code_idx-list_trim', 'brand_idx-list_trim', 'price_log_norm-list_trim',  'delta_event_secs-list_trim',\n",
    "                 'delta_event_secs_log_norm-list_trim', 'product_recency_days-list_trim', 'product_recency_days_log_norm-list_trim', 'relative_price_to_avg_categ_id-list_trim',\n",
    "                 'et_hour_sin-list_trim', 'et_hour_cos-list_trim', 'et_month_sin-list_trim', 'et_month_cos-list_trim', 'et_dayofweek_sin-list_trim', 'et_dayofweek_cos-list_trim',\n",
    "                 'et_dayofmonth_sin-list_trim', 'et_dayofmonth_cos-list_trim', 'session_size',  'day_idx_padded']\n"
   ]
  },
  {
   "cell_type": "code",
   "execution_count": 80,
   "metadata": {},
   "outputs": [
    {
     "data": {
      "text/html": [
       "<div>\n",
       "<style scoped>\n",
       "    .dataframe tbody tr th:only-of-type {\n",
       "        vertical-align: middle;\n",
       "    }\n",
       "\n",
       "    .dataframe tbody tr th {\n",
       "        vertical-align: top;\n",
       "    }\n",
       "\n",
       "    .dataframe thead th {\n",
       "        text-align: right;\n",
       "    }\n",
       "</style>\n",
       "<table border=\"1\" class=\"dataframe\">\n",
       "  <thead>\n",
       "    <tr style=\"text-align: right;\">\n",
       "      <th></th>\n",
       "      <th>user_id_idx-first</th>\n",
       "      <th>user_session</th>\n",
       "      <th>event_time_ts-first</th>\n",
       "      <th>product_id_idx-list_trim</th>\n",
       "      <th>event_time_ts-list_trim</th>\n",
       "      <th>event_type_idx-list_trim</th>\n",
       "      <th>category_id_idx-list_trim</th>\n",
       "      <th>category_code_idx-list_trim</th>\n",
       "      <th>brand_idx-list_trim</th>\n",
       "      <th>price_log_norm-list_trim</th>\n",
       "      <th>...</th>\n",
       "      <th>et_hour_sin-list_trim</th>\n",
       "      <th>et_hour_cos-list_trim</th>\n",
       "      <th>et_month_sin-list_trim</th>\n",
       "      <th>et_month_cos-list_trim</th>\n",
       "      <th>et_dayofweek_sin-list_trim</th>\n",
       "      <th>et_dayofweek_cos-list_trim</th>\n",
       "      <th>et_dayofmonth_sin-list_trim</th>\n",
       "      <th>et_dayofmonth_cos-list_trim</th>\n",
       "      <th>session_size</th>\n",
       "      <th>day_idx_padded</th>\n",
       "    </tr>\n",
       "  </thead>\n",
       "  <tbody>\n",
       "    <tr>\n",
       "      <th>0</th>\n",
       "      <td>219023</td>\n",
       "      <td>2</td>\n",
       "      <td>1572502992</td>\n",
       "      <td>[1127, 1117, 19138, 926, 1116, 153, 1223]</td>\n",
       "      <td>[1572502992, 1572503032, 1572503152, 157250321...</td>\n",
       "      <td>[3, 3, 3, 3, 3, 3, 3]</td>\n",
       "      <td>[85, 85, 35, 85, 85, 85, 85]</td>\n",
       "      <td>[85, 85, 35, 85, 85, 85, 85]</td>\n",
       "      <td>[166, 166, 3359, 2701, 166, 166, 2701]</td>\n",
       "      <td>[1.4872231, 1.7600029, -1.2381928, -0.07776256...</td>\n",
       "      <td>...</td>\n",
       "      <td>[1.0, 1.0, 1.0, 1.0, 1.0, 1.0, 1.0]</td>\n",
       "      <td>[-2.8212997e-07, -2.8212997e-07, -2.8212997e-0...</td>\n",
       "      <td>[1.0, 1.0, 1.0, 1.0, 1.0, 1.0, 1.0]</td>\n",
       "      <td>[-6.3975784e-07, -6.3975784e-07, -6.3975784e-0...</td>\n",
       "      <td>[-0.43388462, -0.43388462, -0.43388462, -0.433...</td>\n",
       "      <td>[-0.90096843, -0.90096843, -0.90096843, -0.900...</td>\n",
       "      <td>[0.9377522, 0.9377522, 0.9377522, 0.9377522, 0...</td>\n",
       "      <td>[0.3473051, 0.3473051, 0.3473051, 0.3473051, 0...</td>\n",
       "      <td>7</td>\n",
       "      <td>0031</td>\n",
       "    </tr>\n",
       "    <tr>\n",
       "      <th>1</th>\n",
       "      <td>1597284</td>\n",
       "      <td>3</td>\n",
       "      <td>1570361085</td>\n",
       "      <td>[849, 1110, 1086, 935, 839, 766, 1042, 212, 11...</td>\n",
       "      <td>[1570361085, 1570361154, 1570361159, 157036119...</td>\n",
       "      <td>[3, 3, 3, 3, 3, 3, 3, 3, 3, 3, 3, 3, 3, 3]</td>\n",
       "      <td>[85, 85, 85, 85, 85, 85, 85, 85, 85, 85, 85, 8...</td>\n",
       "      <td>[85, 85, 85, 85, 85, 85, 85, 85, 85, 85, 85, 8...</td>\n",
       "      <td>[2701, 2701, 2701, 2701, 2701, 2701, 2701, 335...</td>\n",
       "      <td>[0.4324528, 0.038939036, 1.6355649, 0.53558946...</td>\n",
       "      <td>...</td>\n",
       "      <td>[0.2588187, 0.2588187, 0.2588187, 0.2588187, 0...</td>\n",
       "      <td>[-0.96592593, -0.96592593, -0.96592593, -0.965...</td>\n",
       "      <td>[-5.6425995e-07, -5.6425995e-07, -5.6425995e-0...</td>\n",
       "      <td>[-1.0, -1.0, -1.0, -1.0, -1.0, -1.0, -1.0, -1....</td>\n",
       "      <td>[1.1285199e-06, 1.1285199e-06, 1.1285199e-06, ...</td>\n",
       "      <td>[1.0, 1.0, 1.0, 1.0, 1.0, 1.0, 1.0, 1.0, 1.0, ...</td>\n",
       "      <td>[0.7907757, 0.7907757, 0.7907757, 0.7907757, 0...</td>\n",
       "      <td>[-0.6121061, -0.6121061, -0.6121061, -0.612106...</td>\n",
       "      <td>14</td>\n",
       "      <td>0006</td>\n",
       "    </tr>\n",
       "    <tr>\n",
       "      <th>2</th>\n",
       "      <td>1811923</td>\n",
       "      <td>6</td>\n",
       "      <td>1572177904</td>\n",
       "      <td>[8611, 8673]</td>\n",
       "      <td>[1572177904, 1572177968]</td>\n",
       "      <td>[3, 3]</td>\n",
       "      <td>[283, 283]</td>\n",
       "      <td>[283, 283]</td>\n",
       "      <td>[1449, 1449]</td>\n",
       "      <td>[0.5510725, 0.6363106]</td>\n",
       "      <td>...</td>\n",
       "      <td>[-5.6425995e-07, -5.6425995e-07]</td>\n",
       "      <td>[-1.0, -1.0]</td>\n",
       "      <td>[-5.6425995e-07, -5.6425995e-07]</td>\n",
       "      <td>[-1.0, -1.0]</td>\n",
       "      <td>[1.1285199e-06, 1.1285199e-06]</td>\n",
       "      <td>[1.0, 1.0]</td>\n",
       "      <td>[0.65137243, 0.65137243]</td>\n",
       "      <td>[-0.7587582, -0.7587582]</td>\n",
       "      <td>2</td>\n",
       "      <td>0027</td>\n",
       "    </tr>\n",
       "    <tr>\n",
       "      <th>3</th>\n",
       "      <td>1412504</td>\n",
       "      <td>10</td>\n",
       "      <td>1571060486</td>\n",
       "      <td>[1117, 1147]</td>\n",
       "      <td>[1571060486, 1571060515]</td>\n",
       "      <td>[3, 3]</td>\n",
       "      <td>[85, 85]</td>\n",
       "      <td>[85, 85]</td>\n",
       "      <td>[166, 166]</td>\n",
       "      <td>[1.8049271, 1.9645911]</td>\n",
       "      <td>...</td>\n",
       "      <td>[-0.2588193, -0.2588193]</td>\n",
       "      <td>[-0.96592575, -0.96592575]</td>\n",
       "      <td>[5.2359877e-07, 5.2359877e-07]</td>\n",
       "      <td>[1.0, 1.0]</td>\n",
       "      <td>[0.7818321, 0.7818321]</td>\n",
       "      <td>[0.6234891, 0.6234891]</td>\n",
       "      <td>[0.48530182, 0.48530182]</td>\n",
       "      <td>[-0.87434673, -0.87434673]</td>\n",
       "      <td>2</td>\n",
       "      <td>0014</td>\n",
       "    </tr>\n",
       "    <tr>\n",
       "      <th>4</th>\n",
       "      <td>1064821</td>\n",
       "      <td>12</td>\n",
       "      <td>1570952296</td>\n",
       "      <td>[122348, 120741, 122296, 122900, 118720, 122608]</td>\n",
       "      <td>[1570952296, 1570952365, 1570952436, 157095247...</td>\n",
       "      <td>[3, 3, 3, 3, 3, 3]</td>\n",
       "      <td>[274, 276, 274, 275, 276, 269]</td>\n",
       "      <td>[274, 276, 274, 275, 276, 269]</td>\n",
       "      <td>[1846, 2848, 1846, 1846, 3163, 3163]</td>\n",
       "      <td>[1.25176, -0.11356461, 1.057411, 0.2789118, 0....</td>\n",
       "      <td>...</td>\n",
       "      <td>[0.96592575, 0.96592575, 0.96592575, 0.9659257...</td>\n",
       "      <td>[-0.25881937, -0.25881937, -0.25881937, -0.258...</td>\n",
       "      <td>[-5.6425995e-07, -5.6425995e-07, -5.6425995e-0...</td>\n",
       "      <td>[-1.0, -1.0, -1.0, -1.0, -1.0, -1.0]</td>\n",
       "      <td>[1.1285199e-06, 1.1285199e-06, 1.1285199e-06, ...</td>\n",
       "      <td>[1.0, 1.0, 1.0, 1.0, 1.0, 1.0]</td>\n",
       "      <td>[0.98846835, 0.98846835, 0.98846835, 0.9884683...</td>\n",
       "      <td>[0.15142754, 0.15142754, 0.15142754, 0.1514275...</td>\n",
       "      <td>6</td>\n",
       "      <td>0013</td>\n",
       "    </tr>\n",
       "  </tbody>\n",
       "</table>\n",
       "<p>5 rows × 25 columns</p>\n",
       "</div>"
      ],
      "text/plain": [
       "   user_id_idx-first  user_session  event_time_ts-first  \\\n",
       "0             219023             2           1572502992   \n",
       "1            1597284             3           1570361085   \n",
       "2            1811923             6           1572177904   \n",
       "3            1412504            10           1571060486   \n",
       "4            1064821            12           1570952296   \n",
       "\n",
       "                            product_id_idx-list_trim  \\\n",
       "0          [1127, 1117, 19138, 926, 1116, 153, 1223]   \n",
       "1  [849, 1110, 1086, 935, 839, 766, 1042, 212, 11...   \n",
       "2                                       [8611, 8673]   \n",
       "3                                       [1117, 1147]   \n",
       "4   [122348, 120741, 122296, 122900, 118720, 122608]   \n",
       "\n",
       "                             event_time_ts-list_trim  \\\n",
       "0  [1572502992, 1572503032, 1572503152, 157250321...   \n",
       "1  [1570361085, 1570361154, 1570361159, 157036119...   \n",
       "2                           [1572177904, 1572177968]   \n",
       "3                           [1571060486, 1571060515]   \n",
       "4  [1570952296, 1570952365, 1570952436, 157095247...   \n",
       "\n",
       "                     event_type_idx-list_trim  \\\n",
       "0                       [3, 3, 3, 3, 3, 3, 3]   \n",
       "1  [3, 3, 3, 3, 3, 3, 3, 3, 3, 3, 3, 3, 3, 3]   \n",
       "2                                      [3, 3]   \n",
       "3                                      [3, 3]   \n",
       "4                          [3, 3, 3, 3, 3, 3]   \n",
       "\n",
       "                           category_id_idx-list_trim  \\\n",
       "0                       [85, 85, 35, 85, 85, 85, 85]   \n",
       "1  [85, 85, 85, 85, 85, 85, 85, 85, 85, 85, 85, 8...   \n",
       "2                                         [283, 283]   \n",
       "3                                           [85, 85]   \n",
       "4                     [274, 276, 274, 275, 276, 269]   \n",
       "\n",
       "                         category_code_idx-list_trim  \\\n",
       "0                       [85, 85, 35, 85, 85, 85, 85]   \n",
       "1  [85, 85, 85, 85, 85, 85, 85, 85, 85, 85, 85, 8...   \n",
       "2                                         [283, 283]   \n",
       "3                                           [85, 85]   \n",
       "4                     [274, 276, 274, 275, 276, 269]   \n",
       "\n",
       "                                 brand_idx-list_trim  \\\n",
       "0             [166, 166, 3359, 2701, 166, 166, 2701]   \n",
       "1  [2701, 2701, 2701, 2701, 2701, 2701, 2701, 335...   \n",
       "2                                       [1449, 1449]   \n",
       "3                                         [166, 166]   \n",
       "4               [1846, 2848, 1846, 1846, 3163, 3163]   \n",
       "\n",
       "                            price_log_norm-list_trim  ...  \\\n",
       "0  [1.4872231, 1.7600029, -1.2381928, -0.07776256...  ...   \n",
       "1  [0.4324528, 0.038939036, 1.6355649, 0.53558946...  ...   \n",
       "2                             [0.5510725, 0.6363106]  ...   \n",
       "3                             [1.8049271, 1.9645911]  ...   \n",
       "4  [1.25176, -0.11356461, 1.057411, 0.2789118, 0....  ...   \n",
       "\n",
       "                               et_hour_sin-list_trim  \\\n",
       "0                [1.0, 1.0, 1.0, 1.0, 1.0, 1.0, 1.0]   \n",
       "1  [0.2588187, 0.2588187, 0.2588187, 0.2588187, 0...   \n",
       "2                   [-5.6425995e-07, -5.6425995e-07]   \n",
       "3                           [-0.2588193, -0.2588193]   \n",
       "4  [0.96592575, 0.96592575, 0.96592575, 0.9659257...   \n",
       "\n",
       "                               et_hour_cos-list_trim  \\\n",
       "0  [-2.8212997e-07, -2.8212997e-07, -2.8212997e-0...   \n",
       "1  [-0.96592593, -0.96592593, -0.96592593, -0.965...   \n",
       "2                                       [-1.0, -1.0]   \n",
       "3                         [-0.96592575, -0.96592575]   \n",
       "4  [-0.25881937, -0.25881937, -0.25881937, -0.258...   \n",
       "\n",
       "                              et_month_sin-list_trim  \\\n",
       "0                [1.0, 1.0, 1.0, 1.0, 1.0, 1.0, 1.0]   \n",
       "1  [-5.6425995e-07, -5.6425995e-07, -5.6425995e-0...   \n",
       "2                   [-5.6425995e-07, -5.6425995e-07]   \n",
       "3                     [5.2359877e-07, 5.2359877e-07]   \n",
       "4  [-5.6425995e-07, -5.6425995e-07, -5.6425995e-0...   \n",
       "\n",
       "                              et_month_cos-list_trim  \\\n",
       "0  [-6.3975784e-07, -6.3975784e-07, -6.3975784e-0...   \n",
       "1  [-1.0, -1.0, -1.0, -1.0, -1.0, -1.0, -1.0, -1....   \n",
       "2                                       [-1.0, -1.0]   \n",
       "3                                         [1.0, 1.0]   \n",
       "4               [-1.0, -1.0, -1.0, -1.0, -1.0, -1.0]   \n",
       "\n",
       "                          et_dayofweek_sin-list_trim  \\\n",
       "0  [-0.43388462, -0.43388462, -0.43388462, -0.433...   \n",
       "1  [1.1285199e-06, 1.1285199e-06, 1.1285199e-06, ...   \n",
       "2                     [1.1285199e-06, 1.1285199e-06]   \n",
       "3                             [0.7818321, 0.7818321]   \n",
       "4  [1.1285199e-06, 1.1285199e-06, 1.1285199e-06, ...   \n",
       "\n",
       "                          et_dayofweek_cos-list_trim  \\\n",
       "0  [-0.90096843, -0.90096843, -0.90096843, -0.900...   \n",
       "1  [1.0, 1.0, 1.0, 1.0, 1.0, 1.0, 1.0, 1.0, 1.0, ...   \n",
       "2                                         [1.0, 1.0]   \n",
       "3                             [0.6234891, 0.6234891]   \n",
       "4                     [1.0, 1.0, 1.0, 1.0, 1.0, 1.0]   \n",
       "\n",
       "                         et_dayofmonth_sin-list_trim  \\\n",
       "0  [0.9377522, 0.9377522, 0.9377522, 0.9377522, 0...   \n",
       "1  [0.7907757, 0.7907757, 0.7907757, 0.7907757, 0...   \n",
       "2                           [0.65137243, 0.65137243]   \n",
       "3                           [0.48530182, 0.48530182]   \n",
       "4  [0.98846835, 0.98846835, 0.98846835, 0.9884683...   \n",
       "\n",
       "                         et_dayofmonth_cos-list_trim session_size  \\\n",
       "0  [0.3473051, 0.3473051, 0.3473051, 0.3473051, 0...            7   \n",
       "1  [-0.6121061, -0.6121061, -0.6121061, -0.612106...           14   \n",
       "2                           [-0.7587582, -0.7587582]            2   \n",
       "3                         [-0.87434673, -0.87434673]            2   \n",
       "4  [0.15142754, 0.15142754, 0.15142754, 0.1514275...            6   \n",
       "\n",
       "   day_idx_padded  \n",
       "0            0031  \n",
       "1            0006  \n",
       "2            0027  \n",
       "3            0014  \n",
       "4            0013  \n",
       "\n",
       "[5 rows x 25 columns]"
      ]
     },
     "execution_count": 80,
     "metadata": {},
     "output_type": "execute_result"
    }
   ],
   "source": [
    "sessions_gdf = df_indexed[SELECTED_COLS]\n",
    "sessions_gdf.head()"
   ]
  },
  {
   "cell_type": "code",
   "execution_count": 73,
   "metadata": {},
   "outputs": [
    {
     "data": {
      "text/plain": [
       "day_idx_padded\n",
       "1     133105\n",
       "2     121623\n",
       "3     109534\n",
       "4     137280\n",
       "5     125959\n",
       "6     123606\n",
       "7     114435\n",
       "8     137286\n",
       "9     130990\n",
       "10    119762\n",
       "11    141178\n",
       "12    136945\n",
       "13    149435\n",
       "14    131733\n",
       "15    143179\n",
       "16    140935\n",
       "17    127738\n",
       "18    135473\n",
       "19    127588\n",
       "20    132022\n",
       "21    125834\n",
       "22    128440\n",
       "23    125730\n",
       "24    117280\n",
       "25    129787\n",
       "26    117998\n",
       "27    119390\n",
       "28    113002\n",
       "29    110655\n",
       "30    108328\n",
       "31    113395\n",
       "dtype: int64"
      ]
     },
     "execution_count": 73,
     "metadata": {},
     "output_type": "execute_result"
    }
   ],
   "source": [
    "sessions_gdf.groupby('day_idx_padded').size().compute().sort_index()"
   ]
  },
  {
   "cell_type": "markdown",
   "metadata": {},
   "source": [
    "#### Export dataset to parquet, partioned by the session day_idx"
   ]
  },
  {
   "cell_type": "code",
   "execution_count": 81,
   "metadata": {},
   "outputs": [],
   "source": [
    "PARTITION_COL = 'day_idx_padded'"
   ]
  },
  {
   "cell_type": "code",
   "execution_count": null,
   "metadata": {},
   "outputs": [],
   "source": [
    "# Convert to a Dataset and write out hive-partitioned data to disk\n",
    "nvt_output_path_tmp ='./output_nvt_tmp/'\n",
    "nvt.Dataset(sessions_gdf).to_parquet(nvt_output_path_tmp, partition_on=[PARTITION_COL])"
   ]
  },
  {
   "cell_type": "code",
   "execution_count": null,
   "metadata": {},
   "outputs": [],
   "source": [
    "!ls $nvt_output_path_tmp/"
   ]
  },
  {
   "cell_type": "code",
   "execution_count": null,
   "metadata": {},
   "outputs": [
    {
     "name": "stderr",
     "output_type": "stream",
     "text": [
      "distributed.nanny - WARNING - Restarting worker\n",
      "distributed.nanny - WARNING - Restarting worker\n"
     ]
    }
   ],
   "source": [
    "rename_columns = ['user_idx', 'user_session', 'session_start_ts', 'sess_pid_seq', 'sess_etime_seq', 'sess_etype_seq', 'sess_csid_seq', 'sess_ccid_seq', 'sess_bid_seq',\n",
    "            'sess_price_log_norm_seq', 'sess_dtime_secs_seq','sess_dtime_secs_log_norm_seq', 'sess_prod_recency_days_seq','sess_prod_recency_days_log_norm_seq',\n",
    "            'sess_relative_price_to_avg_category_seq', 'sess_et_hour_sin_seq', 'sess_et_hour_cos_seq', 'sess_et_month_sin_seq', 'sess_et_month_cos_seq', \n",
    "            'sess_et_dayofweek_sin_seq', 'sess_et_dayofweek_cos_seq', 'sess_et_dayofmonth_sin_seq', 'sess_et_dayofmonth_cos_seq', 'session_size']"
   ]
  },
  {
   "cell_type": "code",
   "execution_count": 95,
   "metadata": {},
   "outputs": [
    {
     "name": "stdout",
     "output_type": "stream",
     "text": [
      "(133105, 24)\n",
      "valid_set: 13480\n",
      "test_set: 13248\n",
      "(119762, 24)\n",
      "valid_set: 12071\n",
      "test_set: 11915\n",
      "(141178, 24)\n",
      "valid_set: 13989\n",
      "test_set: 14117\n",
      "(136945, 24)\n",
      "valid_set: 13827\n",
      "test_set: 13602\n",
      "(149435, 24)\n",
      "valid_set: 15060\n",
      "test_set: 14751\n",
      "(131733, 24)\n",
      "valid_set: 13262\n",
      "test_set: 13070\n",
      "(143179, 24)\n",
      "valid_set: 14513\n",
      "test_set: 14415\n",
      "(140935, 24)\n",
      "valid_set: 14136\n",
      "test_set: 13891\n",
      "(127738, 24)\n",
      "valid_set: 12707\n",
      "test_set: 12777\n",
      "(135473, 24)\n",
      "valid_set: 13501\n",
      "test_set: 13478\n",
      "(127588, 24)\n",
      "valid_set: 12693\n",
      "test_set: 12646\n",
      "(121623, 24)\n",
      "valid_set: 12059\n",
      "test_set: 12175\n",
      "(132022, 24)\n",
      "valid_set: 13188\n",
      "test_set: 12903\n",
      "(125834, 24)\n",
      "valid_set: 12741\n",
      "test_set: 12587\n",
      "(128440, 24)\n",
      "valid_set: 12838\n",
      "test_set: 12768\n",
      "(125730, 24)\n",
      "valid_set: 12623\n",
      "test_set: 12690\n",
      "(117280, 24)\n",
      "valid_set: 11694\n",
      "test_set: 11700\n",
      "(129787, 24)\n",
      "valid_set: 12785\n",
      "test_set: 13048\n",
      "(117998, 24)\n",
      "valid_set: 11758\n",
      "test_set: 11896\n",
      "(119390, 24)\n",
      "valid_set: 11907\n",
      "test_set: 11895\n",
      "(113002, 24)\n",
      "valid_set: 11171\n",
      "test_set: 11320\n",
      "(110655, 24)\n",
      "valid_set: 11067\n",
      "test_set: 10986\n",
      "(109534, 24)\n",
      "valid_set: 10962\n",
      "test_set: 10836\n",
      "(108328, 24)\n",
      "valid_set: 10908\n",
      "test_set: 10799\n",
      "(113395, 24)\n",
      "valid_set: 11219\n",
      "test_set: 11420\n",
      "(137280, 24)\n",
      "valid_set: 13894\n",
      "test_set: 13611\n",
      "(125959, 24)\n",
      "valid_set: 12642\n",
      "test_set: 12557\n",
      "(123606, 24)\n",
      "valid_set: 12442\n",
      "test_set: 12221\n",
      "(114435, 24)\n",
      "valid_set: 11648\n",
      "test_set: 11426\n",
      "(137286, 24)\n",
      "valid_set: 13650\n",
      "test_set: 13944\n",
      "(130990, 24)\n",
      "valid_set: 13310\n",
      "test_set: 12944\n"
     ]
    }
   ],
   "source": [
    "days_folders = [f for f in sorted(os.listdir(nvt_output_path_tmp)) if f.startswith(PARTITION_COL)]\n",
    "for day_folder in days_folders:\n",
    "    df = cudf.read_parquet(os.path.join(nvt_output_path_tmp, day_folder))\n",
    "    print(df.shape)\n",
    "    df = df.sort_values('event_time_ts-first')\n",
    "    df.columns = rename_columns\n",
    "    out_folder = os.path.join(OUTPUT_FOLDER, day_folder.replace('day_idx_padded=', ''))\n",
    "    os.makedirs(out_folder, exist_ok=True)\n",
    "    df.to_parquet(os.path.join(out_folder, 'train.parquet'), engine='pyarrow', row_group_size=10000)\n",
    "    \n",
    "    random_values = cupy.random.rand(len(df))\n",
    "    \n",
    "    #Extracts 10% for valid and test set. Those sessions are also in the train set, but as evaluation\n",
    "    #happens only for the subsequent day of training, that is not an issue, and we can keep the train set larger.\n",
    "    valid_set = df[random_values <= 0.10]\n",
    "    valid_set.to_parquet(os.path.join(out_folder, 'valid.parquet'))\n",
    "    print(\"valid_set:\", len(valid_set))\n",
    "    test_set = df[random_values >= 0.90]\n",
    "    print(\"test_set:\", len(test_set))\n",
    "    test_set.to_parquet(os.path.join(out_folder, 'test.parquet'))"
   ]
  },
  {
   "cell_type": "markdown",
   "metadata": {},
   "source": [
    "#### Check exported dataset"
   ]
  },
  {
   "cell_type": "code",
   "execution_count": null,
   "metadata": {},
   "outputs": [],
   "source": [
    "# Check one file\n",
    "df = cudf.read_parquet(os.path.join(OUTPUT_FOLDER, '0001/train.parquet'))\n",
    "df"
   ]
  },
  {
   "cell_type": "code",
   "execution_count": null,
   "metadata": {},
   "outputs": [],
   "source": [
    "df.shape()"
   ]
  }
 ],
 "metadata": {
  "kernelspec": {
   "display_name": "Python 3",
   "language": "python",
   "name": "python3"
  },
  "language_info": {
   "codemirror_mode": {
    "name": "ipython",
    "version": 3
   },
   "file_extension": ".py",
   "mimetype": "text/x-python",
   "name": "python",
   "nbconvert_exporter": "python",
   "pygments_lexer": "ipython3",
   "version": "3.8.8"
  }
 },
 "nbformat": 4,
 "nbformat_minor": 4
}
