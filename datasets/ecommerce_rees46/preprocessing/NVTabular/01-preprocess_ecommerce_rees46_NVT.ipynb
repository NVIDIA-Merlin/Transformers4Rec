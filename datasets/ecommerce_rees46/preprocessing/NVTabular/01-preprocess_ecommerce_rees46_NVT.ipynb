{
 "cells": [
  {
   "cell_type": "markdown",
   "metadata": {},
   "source": [
    "# Read, Parse, Process E-Commerce data with NVTabular\n",
    "eCommerce dataset: https://www.kaggle.com/mkechinov/ecommerce-behavior-data-from-multi-category-store"
   ]
  },
  {
   "cell_type": "markdown",
   "metadata": {},
   "source": [
    "## Data Download from Kaggle"
   ]
  },
  {
   "cell_type": "code",
   "execution_count": null,
   "metadata": {},
   "outputs": [],
   "source": [
    "# !pip install kaggle --upgrade"
   ]
  },
  {
   "cell_type": "code",
   "execution_count": null,
   "metadata": {},
   "outputs": [],
   "source": [
    "# # NOTE: first to get kaggle api tiken from account page in Kaggle. Place it at ~/.kaggle/kaggle.json\n",
    "# !mkdir -p ~/.kaggle/ && cp /mount/workspace/kaggle.json ~/.kaggle/ && chmod 600 ~/.kaggle/kaggle.json\n",
    "# !mkdir -p ~/data\n",
    "# !cd ~/data && kaggle datasets download mkechinov/ecommerce-behavior-data-from-multi-category-store\n",
    "# !cd ~/data && unzip ecommerce-behavior-data-from-multi-category-store.zip"
   ]
  },
  {
   "cell_type": "markdown",
   "metadata": {},
   "source": [
    "### Downloading additional months from Google Drive"
   ]
  },
  {
   "cell_type": "code",
   "execution_count": null,
   "metadata": {},
   "outputs": [],
   "source": [
    "# !pip install gdown\n",
    "# !cd ~/data "
   ]
  },
  {
   "cell_type": "code",
   "execution_count": null,
   "metadata": {},
   "outputs": [],
   "source": [
    "# !gdown https://drive.google.com/uc?id=1qZIwMbMgMmgDC5EoMdJ8aI9lQPsWA3-P -O .\n",
    "# !echo \"Unziping\" && gunzip 2019-Dec.csv.gz"
   ]
  },
  {
   "cell_type": "code",
   "execution_count": null,
   "metadata": {},
   "outputs": [],
   "source": [
    "# !cd ~/data && gdown https://drive.google.com/uc?id=1x5ohrrZNhWQN4Q-zww0RmXOwctKHH9PT\n",
    "# !cd ~/data && echo \"Unziping\" && gunzip 2020-Jan.csv.gz"
   ]
  },
  {
   "cell_type": "code",
   "execution_count": null,
   "metadata": {},
   "outputs": [],
   "source": [
    "# !cd ~/data && gdown https://drive.google.com/uc?id=1-Rov9fFtGJqb7_ePc6qH-Rhzxn0cIcKB\n",
    "# !cd ~/data && echo \"Unziping\" && gunzip 2020-Feb.csv.gz"
   ]
  },
  {
   "cell_type": "code",
   "execution_count": null,
   "metadata": {},
   "outputs": [],
   "source": [
    "# !cd ~/data && gdown https://drive.google.com/uc?id=1zr_RXpGvOWN2PrWI6itWL8HnRsCpyqz8\n",
    "# !cd ~/data && echo \"Unziping\" && gunzip 2020-Mar.csv.gz"
   ]
  },
  {
   "cell_type": "code",
   "execution_count": null,
   "metadata": {},
   "outputs": [],
   "source": [
    "# !cd ~/data && gdown https://drive.google.com/uc?id=1g5WoIgLe05UMdREbxAjh0bEFgVCjA1UL\n",
    "# !cd ~/data && echo \"Unziping\" && gunzip 2020-Apr.csv.gz"
   ]
  },
  {
   "cell_type": "markdown",
   "metadata": {},
   "source": [
    "## Configurations"
   ]
  },
  {
   "cell_type": "code",
   "execution_count": 9,
   "metadata": {},
   "outputs": [],
   "source": [
    "import os"
   ]
  },
  {
   "cell_type": "code",
   "execution_count": 10,
   "metadata": {},
   "outputs": [],
   "source": [
    "import numpy as np # linear algebra\n",
    "import pandas as pd # data processing, CSV file I/O (e.g. pd.read_csv)\n",
    "from dask_cuda import LocalCUDACluster\n",
    "from dask.distributed import Client\n",
    "\n",
    "import rmm\n",
    "\n",
    "import glob\n",
    "\n",
    "import cudf, dask_cudf\n",
    "import cupy\n",
    "import nvtabular as nvt\n",
    "from nvtabular import ColumnGroup\n",
    "\n",
    "import pandas as pd\n",
    "import numpy as np\n",
    "import shutil"
   ]
  },
  {
   "cell_type": "markdown",
   "metadata": {},
   "source": [
    "## Set up Dask Cuda Cluster"
   ]
  },
  {
   "cell_type": "code",
   "execution_count": 11,
   "metadata": {},
   "outputs": [],
   "source": [
    "# define some information about where to get our data\n",
    "BASE_DIR = os.environ.get(\"BASE_DIR\", \"/workspace/\")\n",
    "INPUT_DATA_DIR = os.environ.get(\"INPUT_DATA_DIR\", BASE_DIR + \"ecommerce/\")\n",
    "dask_workdir = os.path.join(BASE_DIR, \"test_dask/workdir\")\n",
    "OUTPUT_DATA_DIR = os.environ.get(\"OUTPUT_DATA_DIR\", BASE_DIR + \"/ecommerce/output\")\n",
    "stats_path = os.path.join(BASE_DIR, \"test_dask/stats\")\n",
    "\n",
    "# Make sure we have a clean worker space for Dask\n",
    "if os.path.isdir(dask_workdir):\n",
    "    shutil.rmtree(dask_workdir)\n",
    "os.makedirs(dask_workdir)\n",
    "\n",
    "# Make sure we have a clean stats space for Dask\n",
    "if os.path.isdir(stats_path):\n",
    "    shutil.rmtree(stats_path)\n",
    "os.mkdir(stats_path)\n",
    "\n",
    "# Make sure we have a clean output path\n",
    "if os.path.isdir(OUTPUT_DATA_DIR):\n",
    "    shutil.rmtree(OUTPUT_DATA_DIR)\n",
    "os.mkdir(OUTPUT_DATA_DIR)"
   ]
  },
  {
   "cell_type": "code",
   "execution_count": 12,
   "metadata": {},
   "outputs": [
    {
     "data": {
      "text/html": [
       "<table style=\"border: 2px solid white;\">\n",
       "<tr>\n",
       "<td style=\"vertical-align: top; border: 0px solid white\">\n",
       "<h3 style=\"text-align: left;\">Client</h3>\n",
       "<ul style=\"text-align: left; list-style: none; margin: 0; padding: 0;\">\n",
       "  <li><b>Scheduler: </b>tcp://127.0.0.1:36817</li>\n",
       "  <li><b>Dashboard: </b><a href='http://127.0.0.1:8787/status' target='_blank'>http://127.0.0.1:8787/status</a></li>\n",
       "</ul>\n",
       "</td>\n",
       "<td style=\"vertical-align: top; border: 0px solid white\">\n",
       "<h3 style=\"text-align: left;\">Cluster</h3>\n",
       "<ul style=\"text-align: left; list-style:none; margin: 0; padding: 0;\">\n",
       "  <li><b>Workers: </b>2</li>\n",
       "  <li><b>Cores: </b>2</li>\n",
       "  <li><b>Memory: </b>100.00 GiB</li>\n",
       "</ul>\n",
       "</td>\n",
       "</tr>\n",
       "</table>"
      ],
      "text/plain": [
       "<Client: 'tcp://127.0.0.1:36817' processes=2 threads=2, memory=100.00 GiB>"
      ]
     },
     "execution_count": 12,
     "metadata": {},
     "output_type": "execute_result"
    }
   ],
   "source": [
    "# Dask dashboard\n",
    "from nvtabular.utils import _pynvml_mem_size, device_mem_size\n",
    "dashboard_port = \"8787\"\n",
    "\n",
    "# Deploy a Single-Machine Multi-GPU Cluster\n",
    "protocol = \"tcp\"  # \"tcp\" or \"ucx\"\n",
    "NUM_GPUS = [0, 1] # list here the number of gpus available on your system.\n",
    "visible_devices = \",\".join([str(n) for n in NUM_GPUS])  # Delect devices to place workers\n",
    "device_limit_frac = 0.7  # Spill GPU-Worker memory to host at this limit.\n",
    "device_pool_frac = 0.8\n",
    "part_mem_frac = 0.15\n",
    "\n",
    "# Use total device size to calculate args.device_limit_frac\n",
    "device_size = device_mem_size(kind=\"total\")\n",
    "device_limit = int(device_limit_frac * device_size)\n",
    "device_pool_size = int(device_pool_frac * device_size)\n",
    "part_size = int(part_mem_frac * device_size)\n",
    "\n",
    "# Check if any device memory is already occupied\n",
    "for dev in visible_devices.split(\",\"):\n",
    "    fmem = _pynvml_mem_size(kind=\"free\", index=int(dev))\n",
    "    used = (device_size - fmem) / 1e9\n",
    "    if used > 1.0:\n",
    "        warnings.warn(f\"BEWARE - {used} GB is already occupied on device {int(dev)}!\")\n",
    "\n",
    "cluster = None  # (Optional) Specify existing scheduler port\n",
    "if cluster is None:\n",
    "    cluster = LocalCUDACluster(\n",
    "        protocol=protocol,\n",
    "        n_workers=len(visible_devices.split(\",\")),\n",
    "        CUDA_VISIBLE_DEVICES=visible_devices,\n",
    "        device_memory_limit=device_limit,\n",
    "        local_directory=dask_workdir,\n",
    "        dashboard_address=\":\" + dashboard_port,\n",
    "    )\n",
    "\n",
    "# Create the distributed client\n",
    "client = Client(cluster)\n",
    "client"
   ]
  },
  {
   "cell_type": "code",
   "execution_count": 13,
   "metadata": {},
   "outputs": [],
   "source": [
    "NUM_MONTHS_TO_PREPROCESS = 1 #For the eCommerce dataset there are up to 7 months (2019-Oct to 2020-Apr)\n",
    "KEEP_REPEATED_USER_INTERACTIONS = False"
   ]
  },
  {
   "cell_type": "code",
   "execution_count": 14,
   "metadata": {},
   "outputs": [],
   "source": [
    "MONTHS_FILES = [\"2019-Oct.csv\", \"2019-Nov.csv\", \"2019-Dec.csv\", \"2020-Jan.csv\", \"2020-Feb.csv\", \"2020-Mar.csv\", \"2020-Apr.csv\"]"
   ]
  },
  {
   "cell_type": "code",
   "execution_count": 15,
   "metadata": {},
   "outputs": [
    {
     "data": {
      "text/plain": [
       "['2019-Oct.csv']"
      ]
     },
     "execution_count": 15,
     "metadata": {},
     "output_type": "execute_result"
    }
   ],
   "source": [
    "selected_months = MONTHS_FILES[:NUM_MONTHS_TO_PREPROCESS]\n",
    "selected_months"
   ]
  },
  {
   "cell_type": "code",
   "execution_count": 16,
   "metadata": {},
   "outputs": [
    {
     "data": {
      "text/plain": [
       "['/workspace/ecommerce/2019-Oct.csv']"
      ]
     },
     "execution_count": 16,
     "metadata": {},
     "output_type": "execute_result"
    }
   ],
   "source": [
    "files_paths = [os.path.join(INPUT_DATA_DIR, file) for file in selected_months]\n",
    "files_paths"
   ]
  },
  {
   "cell_type": "markdown",
   "metadata": {},
   "source": [
    "#### Read through Dask-cudf from CSV"
   ]
  },
  {
   "cell_type": "code",
   "execution_count": 17,
   "metadata": {},
   "outputs": [
    {
     "name": "stdout",
     "output_type": "stream",
     "text": [
      "CPU times: user 846 ms, sys: 420 ms, total: 1.27 s\n",
      "Wall time: 6.47 s\n"
     ]
    },
    {
     "data": {
      "text/html": [
       "<div>\n",
       "<style scoped>\n",
       "    .dataframe tbody tr th:only-of-type {\n",
       "        vertical-align: middle;\n",
       "    }\n",
       "\n",
       "    .dataframe tbody tr th {\n",
       "        vertical-align: top;\n",
       "    }\n",
       "\n",
       "    .dataframe thead th {\n",
       "        text-align: right;\n",
       "    }\n",
       "</style>\n",
       "<table border=\"1\" class=\"dataframe\">\n",
       "  <thead>\n",
       "    <tr style=\"text-align: right;\">\n",
       "      <th></th>\n",
       "      <th>event_time</th>\n",
       "      <th>event_type</th>\n",
       "      <th>product_id</th>\n",
       "      <th>category_id</th>\n",
       "      <th>category_code</th>\n",
       "      <th>brand</th>\n",
       "      <th>price</th>\n",
       "      <th>user_id</th>\n",
       "      <th>user_session</th>\n",
       "    </tr>\n",
       "  </thead>\n",
       "  <tbody>\n",
       "    <tr>\n",
       "      <th>0</th>\n",
       "      <td>2019-10-01 00:00:00 UTC</td>\n",
       "      <td>view</td>\n",
       "      <td>44600062</td>\n",
       "      <td>2103807459595387724</td>\n",
       "      <td>&lt;NA&gt;</td>\n",
       "      <td>shiseido</td>\n",
       "      <td>35.79</td>\n",
       "      <td>541312140</td>\n",
       "      <td>72d76fde-8bb3-4e00-8c23-a032dfed738c</td>\n",
       "    </tr>\n",
       "    <tr>\n",
       "      <th>1</th>\n",
       "      <td>2019-10-01 00:00:00 UTC</td>\n",
       "      <td>view</td>\n",
       "      <td>3900821</td>\n",
       "      <td>2053013552326770905</td>\n",
       "      <td>appliances.environment.water_heater</td>\n",
       "      <td>aqua</td>\n",
       "      <td>33.20</td>\n",
       "      <td>554748717</td>\n",
       "      <td>9333dfbd-b87a-4708-9857-6336556b0fcc</td>\n",
       "    </tr>\n",
       "    <tr>\n",
       "      <th>2</th>\n",
       "      <td>2019-10-01 00:00:01 UTC</td>\n",
       "      <td>view</td>\n",
       "      <td>17200506</td>\n",
       "      <td>2053013559792632471</td>\n",
       "      <td>furniture.living_room.sofa</td>\n",
       "      <td>&lt;NA&gt;</td>\n",
       "      <td>543.10</td>\n",
       "      <td>519107250</td>\n",
       "      <td>566511c2-e2e3-422b-b695-cf8e6e792ca8</td>\n",
       "    </tr>\n",
       "    <tr>\n",
       "      <th>3</th>\n",
       "      <td>2019-10-01 00:00:01 UTC</td>\n",
       "      <td>view</td>\n",
       "      <td>1307067</td>\n",
       "      <td>2053013558920217191</td>\n",
       "      <td>computers.notebook</td>\n",
       "      <td>lenovo</td>\n",
       "      <td>251.74</td>\n",
       "      <td>550050854</td>\n",
       "      <td>7c90fc70-0e80-4590-96f3-13c02c18c713</td>\n",
       "    </tr>\n",
       "    <tr>\n",
       "      <th>4</th>\n",
       "      <td>2019-10-01 00:00:04 UTC</td>\n",
       "      <td>view</td>\n",
       "      <td>1004237</td>\n",
       "      <td>2053013555631882655</td>\n",
       "      <td>electronics.smartphone</td>\n",
       "      <td>apple</td>\n",
       "      <td>1081.98</td>\n",
       "      <td>535871217</td>\n",
       "      <td>c6bd7419-2748-4c56-95b4-8cec9ff8b80d</td>\n",
       "    </tr>\n",
       "  </tbody>\n",
       "</table>\n",
       "</div>"
      ],
      "text/plain": [
       "                event_time event_type  product_id          category_id  \\\n",
       "0  2019-10-01 00:00:00 UTC       view    44600062  2103807459595387724   \n",
       "1  2019-10-01 00:00:00 UTC       view     3900821  2053013552326770905   \n",
       "2  2019-10-01 00:00:01 UTC       view    17200506  2053013559792632471   \n",
       "3  2019-10-01 00:00:01 UTC       view     1307067  2053013558920217191   \n",
       "4  2019-10-01 00:00:04 UTC       view     1004237  2053013555631882655   \n",
       "\n",
       "                         category_code     brand    price    user_id  \\\n",
       "0                                 <NA>  shiseido    35.79  541312140   \n",
       "1  appliances.environment.water_heater      aqua    33.20  554748717   \n",
       "2           furniture.living_room.sofa      <NA>   543.10  519107250   \n",
       "3                   computers.notebook    lenovo   251.74  550050854   \n",
       "4               electronics.smartphone     apple  1081.98  535871217   \n",
       "\n",
       "                           user_session  \n",
       "0  72d76fde-8bb3-4e00-8c23-a032dfed738c  \n",
       "1  9333dfbd-b87a-4708-9857-6336556b0fcc  \n",
       "2  566511c2-e2e3-422b-b695-cf8e6e792ca8  \n",
       "3  7c90fc70-0e80-4590-96f3-13c02c18c713  \n",
       "4  c6bd7419-2748-4c56-95b4-8cec9ff8b80d  "
      ]
     },
     "execution_count": 17,
     "metadata": {},
     "output_type": "execute_result"
    }
   ],
   "source": [
    "%%time\n",
    "raw_df = dask_cudf.read_csv(files_paths, inferSchema = True) \n",
    "raw_df.head()"
   ]
  },
  {
   "cell_type": "markdown",
   "metadata": {},
   "source": [
    "## Convert timestamp from datetime"
   ]
  },
  {
   "cell_type": "code",
   "execution_count": 18,
   "metadata": {},
   "outputs": [
    {
     "data": {
      "text/html": [
       "<div>\n",
       "<style scoped>\n",
       "    .dataframe tbody tr th:only-of-type {\n",
       "        vertical-align: middle;\n",
       "    }\n",
       "\n",
       "    .dataframe tbody tr th {\n",
       "        vertical-align: top;\n",
       "    }\n",
       "\n",
       "    .dataframe thead th {\n",
       "        text-align: right;\n",
       "    }\n",
       "</style>\n",
       "<table border=\"1\" class=\"dataframe\">\n",
       "  <thead>\n",
       "    <tr style=\"text-align: right;\">\n",
       "      <th></th>\n",
       "      <th>event_time</th>\n",
       "      <th>event_type</th>\n",
       "      <th>product_id</th>\n",
       "      <th>category_id</th>\n",
       "      <th>category_code</th>\n",
       "      <th>brand</th>\n",
       "      <th>price</th>\n",
       "      <th>user_id</th>\n",
       "      <th>user_session</th>\n",
       "      <th>event_time_dt</th>\n",
       "      <th>event_time_ts</th>\n",
       "    </tr>\n",
       "  </thead>\n",
       "  <tbody>\n",
       "    <tr>\n",
       "      <th>0</th>\n",
       "      <td>2019-10-01 00:00:00 UTC</td>\n",
       "      <td>view</td>\n",
       "      <td>44600062</td>\n",
       "      <td>2103807459595387724</td>\n",
       "      <td>&lt;NA&gt;</td>\n",
       "      <td>shiseido</td>\n",
       "      <td>35.79</td>\n",
       "      <td>541312140</td>\n",
       "      <td>72d76fde-8bb3-4e00-8c23-a032dfed738c</td>\n",
       "      <td>2019-10-01 00:00:00</td>\n",
       "      <td>1569888000</td>\n",
       "    </tr>\n",
       "    <tr>\n",
       "      <th>1</th>\n",
       "      <td>2019-10-01 00:00:00 UTC</td>\n",
       "      <td>view</td>\n",
       "      <td>3900821</td>\n",
       "      <td>2053013552326770905</td>\n",
       "      <td>appliances.environment.water_heater</td>\n",
       "      <td>aqua</td>\n",
       "      <td>33.20</td>\n",
       "      <td>554748717</td>\n",
       "      <td>9333dfbd-b87a-4708-9857-6336556b0fcc</td>\n",
       "      <td>2019-10-01 00:00:00</td>\n",
       "      <td>1569888000</td>\n",
       "    </tr>\n",
       "    <tr>\n",
       "      <th>2</th>\n",
       "      <td>2019-10-01 00:00:01 UTC</td>\n",
       "      <td>view</td>\n",
       "      <td>17200506</td>\n",
       "      <td>2053013559792632471</td>\n",
       "      <td>furniture.living_room.sofa</td>\n",
       "      <td>&lt;NA&gt;</td>\n",
       "      <td>543.10</td>\n",
       "      <td>519107250</td>\n",
       "      <td>566511c2-e2e3-422b-b695-cf8e6e792ca8</td>\n",
       "      <td>2019-10-01 00:00:01</td>\n",
       "      <td>1569888001</td>\n",
       "    </tr>\n",
       "    <tr>\n",
       "      <th>3</th>\n",
       "      <td>2019-10-01 00:00:01 UTC</td>\n",
       "      <td>view</td>\n",
       "      <td>1307067</td>\n",
       "      <td>2053013558920217191</td>\n",
       "      <td>computers.notebook</td>\n",
       "      <td>lenovo</td>\n",
       "      <td>251.74</td>\n",
       "      <td>550050854</td>\n",
       "      <td>7c90fc70-0e80-4590-96f3-13c02c18c713</td>\n",
       "      <td>2019-10-01 00:00:01</td>\n",
       "      <td>1569888001</td>\n",
       "    </tr>\n",
       "    <tr>\n",
       "      <th>4</th>\n",
       "      <td>2019-10-01 00:00:04 UTC</td>\n",
       "      <td>view</td>\n",
       "      <td>1004237</td>\n",
       "      <td>2053013555631882655</td>\n",
       "      <td>electronics.smartphone</td>\n",
       "      <td>apple</td>\n",
       "      <td>1081.98</td>\n",
       "      <td>535871217</td>\n",
       "      <td>c6bd7419-2748-4c56-95b4-8cec9ff8b80d</td>\n",
       "      <td>2019-10-01 00:00:04</td>\n",
       "      <td>1569888004</td>\n",
       "    </tr>\n",
       "  </tbody>\n",
       "</table>\n",
       "</div>"
      ],
      "text/plain": [
       "                event_time event_type  product_id          category_id  \\\n",
       "0  2019-10-01 00:00:00 UTC       view    44600062  2103807459595387724   \n",
       "1  2019-10-01 00:00:00 UTC       view     3900821  2053013552326770905   \n",
       "2  2019-10-01 00:00:01 UTC       view    17200506  2053013559792632471   \n",
       "3  2019-10-01 00:00:01 UTC       view     1307067  2053013558920217191   \n",
       "4  2019-10-01 00:00:04 UTC       view     1004237  2053013555631882655   \n",
       "\n",
       "                         category_code     brand    price    user_id  \\\n",
       "0                                 <NA>  shiseido    35.79  541312140   \n",
       "1  appliances.environment.water_heater      aqua    33.20  554748717   \n",
       "2           furniture.living_room.sofa      <NA>   543.10  519107250   \n",
       "3                   computers.notebook    lenovo   251.74  550050854   \n",
       "4               electronics.smartphone     apple  1081.98  535871217   \n",
       "\n",
       "                           user_session       event_time_dt  event_time_ts  \n",
       "0  72d76fde-8bb3-4e00-8c23-a032dfed738c 2019-10-01 00:00:00     1569888000  \n",
       "1  9333dfbd-b87a-4708-9857-6336556b0fcc 2019-10-01 00:00:00     1569888000  \n",
       "2  566511c2-e2e3-422b-b695-cf8e6e792ca8 2019-10-01 00:00:01     1569888001  \n",
       "3  7c90fc70-0e80-4590-96f3-13c02c18c713 2019-10-01 00:00:01     1569888001  \n",
       "4  c6bd7419-2748-4c56-95b4-8cec9ff8b80d 2019-10-01 00:00:04     1569888004  "
      ]
     },
     "execution_count": 18,
     "metadata": {},
     "output_type": "execute_result"
    }
   ],
   "source": [
    "raw_df['event_time_dt'] = raw_df['event_time'].astype('datetime64[s]')\n",
    "raw_df['event_time_ts']= raw_df['event_time_dt'].astype('int')\n",
    "raw_df.head()"
   ]
  },
  {
   "cell_type": "code",
   "execution_count": 19,
   "metadata": {},
   "outputs": [
    {
     "data": {
      "text/plain": [
       "event_time       False\n",
       "event_type       False\n",
       "product_id       False\n",
       "category_id      False\n",
       "category_code     True\n",
       "brand             True\n",
       "price            False\n",
       "user_id          False\n",
       "user_session      True\n",
       "event_time_dt    False\n",
       "event_time_ts    False\n",
       "dtype: bool"
      ]
     },
     "execution_count": 19,
     "metadata": {},
     "output_type": "execute_result"
    }
   ],
   "source": [
    "# check out the columns with nulls\n",
    "raw_df.isnull().any().compute()"
   ]
  },
  {
   "cell_type": "code",
   "execution_count": 20,
   "metadata": {},
   "outputs": [
    {
     "data": {
      "text/plain": [
       "42448762"
      ]
     },
     "execution_count": 20,
     "metadata": {},
     "output_type": "execute_result"
    }
   ],
   "source": [
    "# Remove rows where `user_session` is null.\n",
    "\n",
    "raw_df = raw_df[raw_df['user_session'].isnull()==False]\n",
    "len(raw_df)"
   ]
  },
  {
   "cell_type": "code",
   "execution_count": 21,
   "metadata": {},
   "outputs": [
    {
     "data": {
      "text/plain": [
       "event_time              object\n",
       "event_type              object\n",
       "product_id               int64\n",
       "category_id              int64\n",
       "category_code           object\n",
       "brand                   object\n",
       "price                  float64\n",
       "user_id                  int64\n",
       "user_session            object\n",
       "event_time_dt    datetime64[s]\n",
       "event_time_ts            int64\n",
       "dtype: object"
      ]
     },
     "execution_count": 21,
     "metadata": {},
     "output_type": "execute_result"
    }
   ],
   "source": [
    "raw_df.dtypes"
   ]
  },
  {
   "cell_type": "markdown",
   "metadata": {},
   "source": [
    "## Removing repeated (user,item) interactions"
   ]
  },
  {
   "cell_type": "markdown",
   "metadata": {},
   "source": [
    "### Categorify `user_session` column"
   ]
  },
  {
   "cell_type": "code",
   "execution_count": 22,
   "metadata": {},
   "outputs": [
    {
     "data": {
      "text/plain": [
       "['event_time',\n",
       " 'event_type',\n",
       " 'product_id',\n",
       " 'category_id',\n",
       " 'category_code',\n",
       " 'brand',\n",
       " 'price',\n",
       " 'user_id',\n",
       " 'event_time_dt',\n",
       " 'event_time_ts']"
      ]
     },
     "execution_count": 22,
     "metadata": {},
     "output_type": "execute_result"
    }
   ],
   "source": [
    "cols = list(raw_df.columns)\n",
    "cols.remove('user_session')\n",
    "cols"
   ]
  },
  {
   "cell_type": "code",
   "execution_count": 23,
   "metadata": {},
   "outputs": [],
   "source": [
    "#  load data \n",
    "df_event = nvt.Dataset(raw_df) \n",
    "# categorify features \n",
    "cat_feats = ['user_session'] >> nvt.ops.Categorify()\n",
    "\n",
    "workflow = nvt.Workflow(cols + cat_feats)\n",
    "workflow.fit(df_event)\n",
    "df = workflow.transform(df_event).to_ddf()"
   ]
  },
  {
   "cell_type": "code",
   "execution_count": 24,
   "metadata": {},
   "outputs": [],
   "source": [
    "df = df.drop(['event_time'],  axis=1)"
   ]
  },
  {
   "cell_type": "code",
   "execution_count": 25,
   "metadata": {},
   "outputs": [
    {
     "data": {
      "text/html": [
       "<div>\n",
       "<style scoped>\n",
       "    .dataframe tbody tr th:only-of-type {\n",
       "        vertical-align: middle;\n",
       "    }\n",
       "\n",
       "    .dataframe tbody tr th {\n",
       "        vertical-align: top;\n",
       "    }\n",
       "\n",
       "    .dataframe thead th {\n",
       "        text-align: right;\n",
       "    }\n",
       "</style>\n",
       "<table border=\"1\" class=\"dataframe\">\n",
       "  <thead>\n",
       "    <tr style=\"text-align: right;\">\n",
       "      <th></th>\n",
       "      <th>user_session</th>\n",
       "      <th>event_type</th>\n",
       "      <th>product_id</th>\n",
       "      <th>category_id</th>\n",
       "      <th>category_code</th>\n",
       "      <th>brand</th>\n",
       "      <th>price</th>\n",
       "      <th>user_id</th>\n",
       "      <th>event_time_dt</th>\n",
       "      <th>event_time_ts</th>\n",
       "    </tr>\n",
       "  </thead>\n",
       "  <tbody>\n",
       "    <tr>\n",
       "      <th>0</th>\n",
       "      <td>4147851</td>\n",
       "      <td>view</td>\n",
       "      <td>44600062</td>\n",
       "      <td>2103807459595387724</td>\n",
       "      <td>&lt;NA&gt;</td>\n",
       "      <td>shiseido</td>\n",
       "      <td>35.79</td>\n",
       "      <td>541312140</td>\n",
       "      <td>2019-10-01 00:00:00</td>\n",
       "      <td>1569888000</td>\n",
       "    </tr>\n",
       "    <tr>\n",
       "      <th>1</th>\n",
       "      <td>5316339</td>\n",
       "      <td>view</td>\n",
       "      <td>3900821</td>\n",
       "      <td>2053013552326770905</td>\n",
       "      <td>appliances.environment.water_heater</td>\n",
       "      <td>aqua</td>\n",
       "      <td>33.20</td>\n",
       "      <td>554748717</td>\n",
       "      <td>2019-10-01 00:00:00</td>\n",
       "      <td>1569888000</td>\n",
       "    </tr>\n",
       "    <tr>\n",
       "      <th>2</th>\n",
       "      <td>3120154</td>\n",
       "      <td>view</td>\n",
       "      <td>17200506</td>\n",
       "      <td>2053013559792632471</td>\n",
       "      <td>furniture.living_room.sofa</td>\n",
       "      <td>&lt;NA&gt;</td>\n",
       "      <td>543.10</td>\n",
       "      <td>519107250</td>\n",
       "      <td>2019-10-01 00:00:01</td>\n",
       "      <td>1569888001</td>\n",
       "    </tr>\n",
       "    <tr>\n",
       "      <th>3</th>\n",
       "      <td>4499322</td>\n",
       "      <td>view</td>\n",
       "      <td>1307067</td>\n",
       "      <td>2053013558920217191</td>\n",
       "      <td>computers.notebook</td>\n",
       "      <td>lenovo</td>\n",
       "      <td>251.74</td>\n",
       "      <td>550050854</td>\n",
       "      <td>2019-10-01 00:00:01</td>\n",
       "      <td>1569888001</td>\n",
       "    </tr>\n",
       "    <tr>\n",
       "      <th>4</th>\n",
       "      <td>7176697</td>\n",
       "      <td>view</td>\n",
       "      <td>1004237</td>\n",
       "      <td>2053013555631882655</td>\n",
       "      <td>electronics.smartphone</td>\n",
       "      <td>apple</td>\n",
       "      <td>1081.98</td>\n",
       "      <td>535871217</td>\n",
       "      <td>2019-10-01 00:00:04</td>\n",
       "      <td>1569888004</td>\n",
       "    </tr>\n",
       "  </tbody>\n",
       "</table>\n",
       "</div>"
      ],
      "text/plain": [
       "   user_session event_type  product_id          category_id  \\\n",
       "0       4147851       view    44600062  2103807459595387724   \n",
       "1       5316339       view     3900821  2053013552326770905   \n",
       "2       3120154       view    17200506  2053013559792632471   \n",
       "3       4499322       view     1307067  2053013558920217191   \n",
       "4       7176697       view     1004237  2053013555631882655   \n",
       "\n",
       "                         category_code     brand    price    user_id  \\\n",
       "0                                 <NA>  shiseido    35.79  541312140   \n",
       "1  appliances.environment.water_heater      aqua    33.20  554748717   \n",
       "2           furniture.living_room.sofa      <NA>   543.10  519107250   \n",
       "3                   computers.notebook    lenovo   251.74  550050854   \n",
       "4               electronics.smartphone     apple  1081.98  535871217   \n",
       "\n",
       "        event_time_dt  event_time_ts  \n",
       "0 2019-10-01 00:00:00     1569888000  \n",
       "1 2019-10-01 00:00:00     1569888000  \n",
       "2 2019-10-01 00:00:01     1569888001  \n",
       "3 2019-10-01 00:00:01     1569888001  \n",
       "4 2019-10-01 00:00:04     1569888004  "
      ]
     },
     "execution_count": 25,
     "metadata": {},
     "output_type": "execute_result"
    }
   ],
   "source": [
    "df.head()"
   ]
  },
  {
   "cell_type": "code",
   "execution_count": 26,
   "metadata": {},
   "outputs": [
    {
     "data": {
      "text/plain": [
       "user_session     float64\n",
       "event_type       float64\n",
       "product_id       float64\n",
       "category_id      float64\n",
       "category_code    float64\n",
       "brand            float64\n",
       "price            float64\n",
       "user_id          float64\n",
       "event_time_dt    float64\n",
       "event_time_ts    float64\n",
       "dtype: object"
      ]
     },
     "execution_count": 26,
     "metadata": {},
     "output_type": "execute_result"
    }
   ],
   "source": [
    "df.dtypes"
   ]
  },
  {
   "cell_type": "code",
   "execution_count": 27,
   "metadata": {},
   "outputs": [],
   "source": [
    "df['user_session'] = df['user_session'].astype('int64')\n",
    "df['event_time_ts'] = df['event_time_ts'].astype('int64')\n",
    "df['product_id'] = df['product_id'].astype('int64')\n",
    "df['category_id'] = df['category_id'].astype('int64')\n",
    "df['category_code'] = df['category_id'].astype(object)\n",
    "df['brand'] = df['brand'].astype(object)\n",
    "df['event_type'] = df['event_type'].astype(object)\n",
    "df['event_time_dt'] = df['event_time_dt'].astype('datetime64[s]')"
   ]
  },
  {
   "cell_type": "code",
   "execution_count": 28,
   "metadata": {},
   "outputs": [
    {
     "data": {
      "text/plain": [
       "user_session             int64\n",
       "event_type              object\n",
       "product_id               int64\n",
       "category_id              int64\n",
       "category_code           object\n",
       "brand                   object\n",
       "price                  float64\n",
       "user_id                float64\n",
       "event_time_dt    datetime64[s]\n",
       "event_time_ts            int64\n",
       "dtype: object"
      ]
     },
     "execution_count": 28,
     "metadata": {},
     "output_type": "execute_result"
    }
   ],
   "source": [
    "df.dtypes"
   ]
  },
  {
   "cell_type": "code",
   "execution_count": 29,
   "metadata": {},
   "outputs": [],
   "source": [
    "df = df.sort_values(['user_session', 'event_time_ts'])"
   ]
  },
  {
   "cell_type": "code",
   "execution_count": 30,
   "metadata": {},
   "outputs": [],
   "source": [
    "#Keeping only the first user interaction with an item (ignores all future repeated interactions)\n",
    "if not KEEP_REPEATED_USER_INTERACTIONS:\n",
    "    df_first_user_item_interaction_df = df.groupby(['user_id', 'product_id']).agg({'event_time_ts': 'min'})\n",
    "    df_first_user_item_interaction_df = df_first_user_item_interaction_df.compute().reset_index().rename(columns={'event_time_ts': 'first_user_item_event_time_ts'})\n",
    "    df = df.merge(df_first_user_item_interaction_df, how='inner', left_on=['user_id', 'product_id', 'event_time_ts'], right_on=['user_id', 'product_id','first_user_item_event_time_ts'])\n",
    "    df = df.drop(columns=['first_user_item_event_time_ts'])\n",
    "\n",
    "#Keeps repeated interactions on the same items, removing only consecutive interactions, because it might be due to browser tab refreshes or different interaction types (e.g. click, add-to-card, purchase)\n",
    "else:\n",
    "    print(\"Count with in-session repeated interactions: {}\".format(len(df)))\n",
    "    # Sorts the dataframe by session and timestamp, to remove consective repetitions\n",
    "    df['product_id_past'] = df['product_id'].shift(1)\n",
    "    df['session_id_past'] = df['user_session'].shift(1)\n",
    "    #Keeping only no consecutive repeated in session interactions\n",
    "    df = df[~((df['user_session'] == df['session_id_past']) & \\\n",
    "                 (df['product_id'] == df['product_id_past']))]\n",
    "    print(\"Count after removed in-session repeated interactions: {}\".format(len(df)))\n",
    "    del(df['product_id_past'])\n",
    "    del(df['session_id_past'])"
   ]
  },
  {
   "cell_type": "code",
   "execution_count": 31,
   "metadata": {},
   "outputs": [
    {
     "data": {
      "text/html": [
       "<div>\n",
       "<style scoped>\n",
       "    .dataframe tbody tr th:only-of-type {\n",
       "        vertical-align: middle;\n",
       "    }\n",
       "\n",
       "    .dataframe tbody tr th {\n",
       "        vertical-align: top;\n",
       "    }\n",
       "\n",
       "    .dataframe thead th {\n",
       "        text-align: right;\n",
       "    }\n",
       "</style>\n",
       "<table border=\"1\" class=\"dataframe\">\n",
       "  <thead>\n",
       "    <tr style=\"text-align: right;\">\n",
       "      <th></th>\n",
       "      <th>user_session</th>\n",
       "      <th>event_type</th>\n",
       "      <th>product_id</th>\n",
       "      <th>category_id</th>\n",
       "      <th>category_code</th>\n",
       "      <th>brand</th>\n",
       "      <th>price</th>\n",
       "      <th>user_id</th>\n",
       "      <th>event_time_dt</th>\n",
       "      <th>event_time_ts</th>\n",
       "    </tr>\n",
       "  </thead>\n",
       "  <tbody>\n",
       "    <tr>\n",
       "      <th>0</th>\n",
       "      <td>354747</td>\n",
       "      <td>view</td>\n",
       "      <td>12709169</td>\n",
       "      <td>2053013553559896355</td>\n",
       "      <td>2053013553559896355</td>\n",
       "      <td>michelin</td>\n",
       "      <td>67.44</td>\n",
       "      <td>561510226</td>\n",
       "      <td>2019-10-18 09:56:13</td>\n",
       "      <td>1571392573</td>\n",
       "    </tr>\n",
       "    <tr>\n",
       "      <th>1</th>\n",
       "      <td>161997</td>\n",
       "      <td>view</td>\n",
       "      <td>12600014</td>\n",
       "      <td>2053013554751078769</td>\n",
       "      <td>2053013554751078769</td>\n",
       "      <td>clatronic</td>\n",
       "      <td>40.67</td>\n",
       "      <td>533888320</td>\n",
       "      <td>2019-10-17 18:53:25</td>\n",
       "      <td>1571338405</td>\n",
       "    </tr>\n",
       "    <tr>\n",
       "      <th>2</th>\n",
       "      <td>414407</td>\n",
       "      <td>view</td>\n",
       "      <td>1004839</td>\n",
       "      <td>2053013555631882655</td>\n",
       "      <td>2053013555631882655</td>\n",
       "      <td>oppo</td>\n",
       "      <td>179.92</td>\n",
       "      <td>545041406</td>\n",
       "      <td>2019-10-25 13:39:41</td>\n",
       "      <td>1572010781</td>\n",
       "    </tr>\n",
       "    <tr>\n",
       "      <th>3</th>\n",
       "      <td>159643</td>\n",
       "      <td>view</td>\n",
       "      <td>51800038</td>\n",
       "      <td>2135658542386905834</td>\n",
       "      <td>2135658542386905834</td>\n",
       "      <td>tomfarr</td>\n",
       "      <td>152.64</td>\n",
       "      <td>514826663</td>\n",
       "      <td>2019-10-31 08:43:46</td>\n",
       "      <td>1572511426</td>\n",
       "    </tr>\n",
       "    <tr>\n",
       "      <th>4</th>\n",
       "      <td>66646</td>\n",
       "      <td>view</td>\n",
       "      <td>4802400</td>\n",
       "      <td>2053013554658804075</td>\n",
       "      <td>2053013554658804075</td>\n",
       "      <td>samsung</td>\n",
       "      <td>45.75</td>\n",
       "      <td>547206054</td>\n",
       "      <td>2019-10-03 16:16:05</td>\n",
       "      <td>1570119365</td>\n",
       "    </tr>\n",
       "  </tbody>\n",
       "</table>\n",
       "</div>"
      ],
      "text/plain": [
       "   user_session event_type  product_id          category_id  \\\n",
       "0        354747       view    12709169  2053013553559896355   \n",
       "1        161997       view    12600014  2053013554751078769   \n",
       "2        414407       view     1004839  2053013555631882655   \n",
       "3        159643       view    51800038  2135658542386905834   \n",
       "4         66646       view     4802400  2053013554658804075   \n",
       "\n",
       "         category_code      brand   price    user_id       event_time_dt  \\\n",
       "0  2053013553559896355   michelin   67.44  561510226 2019-10-18 09:56:13   \n",
       "1  2053013554751078769  clatronic   40.67  533888320 2019-10-17 18:53:25   \n",
       "2  2053013555631882655       oppo  179.92  545041406 2019-10-25 13:39:41   \n",
       "3  2135658542386905834    tomfarr  152.64  514826663 2019-10-31 08:43:46   \n",
       "4  2053013554658804075    samsung   45.75  547206054 2019-10-03 16:16:05   \n",
       "\n",
       "   event_time_ts  \n",
       "0     1571392573  \n",
       "1     1571338405  \n",
       "2     1572010781  \n",
       "3     1572511426  \n",
       "4     1570119365  "
      ]
     },
     "execution_count": 31,
     "metadata": {},
     "output_type": "execute_result"
    }
   ],
   "source": [
    "df.head()"
   ]
  },
  {
   "cell_type": "markdown",
   "metadata": {},
   "source": [
    "**Full Dataset (7 months) Stats - Number of interactions**\n",
    "- No filter: 411709736\n",
    "- Removed iser consecutive repeated interactions in the same items: 261390136\n",
    "- Removing all user repeated interactions with the same items: 204098003"
   ]
  },
  {
   "cell_type": "markdown",
   "metadata": {},
   "source": [
    "**1 Months Stats - Number of interactions**\n",
    "- No filter: 42448764\n",
    "- Removed iser consecutive repeated interactions in the same items: 26565608 \n",
    "- Removing all user repeated interactions with the same items: 23312920"
   ]
  },
  {
   "cell_type": "markdown",
   "metadata": {},
   "source": [
    "### Include the item first time seen feature (for recency calculation)¶"
   ]
  },
  {
   "cell_type": "code",
   "execution_count": 32,
   "metadata": {},
   "outputs": [
    {
     "data": {
      "text/html": [
       "<div>\n",
       "<style scoped>\n",
       "    .dataframe tbody tr th:only-of-type {\n",
       "        vertical-align: middle;\n",
       "    }\n",
       "\n",
       "    .dataframe tbody tr th {\n",
       "        vertical-align: top;\n",
       "    }\n",
       "\n",
       "    .dataframe thead th {\n",
       "        text-align: right;\n",
       "    }\n",
       "</style>\n",
       "<table border=\"1\" class=\"dataframe\">\n",
       "  <thead>\n",
       "    <tr style=\"text-align: right;\">\n",
       "      <th></th>\n",
       "      <th>product_id</th>\n",
       "      <th>prod_first_event_time_ts</th>\n",
       "    </tr>\n",
       "  </thead>\n",
       "  <tbody>\n",
       "    <tr>\n",
       "      <th>0</th>\n",
       "      <td>32403886</td>\n",
       "      <td>2019-10-18 15:47:15</td>\n",
       "    </tr>\n",
       "    <tr>\n",
       "      <th>1</th>\n",
       "      <td>5801301</td>\n",
       "      <td>2019-10-01 11:21:27</td>\n",
       "    </tr>\n",
       "    <tr>\n",
       "      <th>2</th>\n",
       "      <td>12719653</td>\n",
       "      <td>2019-10-01 04:17:46</td>\n",
       "    </tr>\n",
       "    <tr>\n",
       "      <th>3</th>\n",
       "      <td>13400621</td>\n",
       "      <td>2019-10-01 05:52:12</td>\n",
       "    </tr>\n",
       "    <tr>\n",
       "      <th>4</th>\n",
       "      <td>27800167</td>\n",
       "      <td>2019-10-01 05:44:26</td>\n",
       "    </tr>\n",
       "  </tbody>\n",
       "</table>\n",
       "</div>"
      ],
      "text/plain": [
       "   product_id prod_first_event_time_ts\n",
       "0    32403886      2019-10-18 15:47:15\n",
       "1     5801301      2019-10-01 11:21:27\n",
       "2    12719653      2019-10-01 04:17:46\n",
       "3    13400621      2019-10-01 05:52:12\n",
       "4    27800167      2019-10-01 05:44:26"
      ]
     },
     "execution_count": 32,
     "metadata": {},
     "output_type": "execute_result"
    }
   ],
   "source": [
    "item_first_interaction_df = df.groupby('product_id').agg({'event_time_ts': 'min'}).reset_index().rename(columns={'event_time_ts': 'prod_first_event_time_ts'})\n",
    "item_first_interaction_df['prod_first_event_time_ts'] = item_first_interaction_df['prod_first_event_time_ts'].astype('datetime64[s]')\n",
    "item_first_interaction_df.head()"
   ]
  },
  {
   "cell_type": "code",
   "execution_count": 33,
   "metadata": {},
   "outputs": [],
   "source": [
    "df = df.merge(item_first_interaction_df, on=['product_id'], how='left')"
   ]
  },
  {
   "cell_type": "code",
   "execution_count": 34,
   "metadata": {},
   "outputs": [],
   "source": [
    "# # save df as parquet files on disk\n",
    "# df.to_parquet('./NVTabular/input_df')"
   ]
  },
  {
   "cell_type": "markdown",
   "metadata": {},
   "source": [
    "### Categorical features encoding\n"
   ]
  },
  {
   "cell_type": "code",
   "execution_count": 35,
   "metadata": {},
   "outputs": [],
   "source": [
    "cols= ['event_time_dt', 'event_time_ts', 'user_session']"
   ]
  },
  {
   "cell_type": "code",
   "execution_count": 36,
   "metadata": {},
   "outputs": [],
   "source": [
    "# categorify features \n",
    "\n",
    "## filll NA sttrings with unknown.\n",
    "# fill missing product_actions\n",
    "fill_na_categs = ['category_code', 'brand'] >> nvt.ops.FillMissing(fill_val='unknown')\n",
    "cat_feats = fill_na_categs + ['user_id', 'product_id', 'category_id', 'event_type'] >> nvt.ops.Rename(postfix = '_idx') >> nvt.ops.Categorify()"
   ]
  },
  {
   "cell_type": "code",
   "execution_count": 37,
   "metadata": {},
   "outputs": [
    {
     "data": {
      "text/plain": [
       "['category_code_idx',\n",
       " 'brand_idx',\n",
       " 'user_id_idx',\n",
       " 'product_id_idx',\n",
       " 'category_id_idx',\n",
       " 'event_type_idx']"
      ]
     },
     "execution_count": 37,
     "metadata": {},
     "output_type": "execute_result"
    }
   ],
   "source": [
    "cat_feats.columns"
   ]
  },
  {
   "cell_type": "markdown",
   "metadata": {},
   "source": [
    "### Extract Temporal Features"
   ]
  },
  {
   "cell_type": "code",
   "execution_count": 38,
   "metadata": {},
   "outputs": [],
   "source": [
    "# calculate item recency \n",
    "# create custom op\n",
    "from nvtabular.ops import Operator\n",
    "\n",
    "class ItemRecency(Operator):\n",
    "    def transform(self, columns, gdf):\n",
    "        for column in columns:\n",
    "            col = gdf[column]\n",
    "            item_first_timestamp = gdf['prod_first_event_time_ts']\n",
    "            delta_days = (col - item_first_timestamp).dt.days\n",
    "            gdf[column + \"_age_days\"] = delta_days * (delta_days >=0)\n",
    "        return gdf\n",
    "            \n",
    "    def output_column_names(self, columns):\n",
    "        return [column + \"_age_days\" for column in columns]\n",
    "            \n",
    "    def dependencies(self):\n",
    "        return [\"prod_first_event_time_ts\"]"
   ]
  },
  {
   "cell_type": "code",
   "execution_count": 39,
   "metadata": {},
   "outputs": [],
   "source": [
    "# create time features\n",
    "sessionTime = ['event_time_dt']\n",
    "\n",
    "sessionTime_hour = (\n",
    "    sessionTime >> \n",
    "    nvt.ops.LambdaOp(lambda col: col.dt.hour) >> \n",
    "    nvt.ops.Rename(name = 'et_hour')\n",
    ")\n",
    "sessionTime_weekday = (\n",
    "    sessionTime >> \n",
    "    nvt.ops.LambdaOp(lambda col: col.dt.weekday) >> \n",
    "    nvt.ops.Rename(name ='et_dayofweek')\n",
    ")\n",
    "sessionTime_day = (\n",
    "    sessionTime >> \n",
    "    nvt.ops.LambdaOp(lambda col: col.dt.day) >> \n",
    "    nvt.ops.Rename(name =\"et_dayofmonth\")\n",
    ")\n",
    "sessionTime_month = (\n",
    "    sessionTime >> \n",
    "    nvt.ops.LambdaOp(lambda col: col.dt.month) >> \n",
    "    nvt.ops.Rename(name =\"et_month\")\n",
    ")"
   ]
  },
  {
   "cell_type": "code",
   "execution_count": 40,
   "metadata": {},
   "outputs": [],
   "source": [
    "def get_cycled_feature_value_sin(col, max_value):\n",
    "    value_scaled = (col + 0.000001) / max_value\n",
    "    value_sin = np.sin(2*np.pi*value_scaled)\n",
    "    return value_sin\n",
    "\n",
    "def get_cycled_feature_value_cos(col, max_value):\n",
    "    value_scaled = (col + 0.000001) / max_value\n",
    "    value_cos = np.cos(2*np.pi*value_scaled)\n",
    "    return value_cos"
   ]
  },
  {
   "cell_type": "code",
   "execution_count": 41,
   "metadata": {},
   "outputs": [],
   "source": [
    "hour_sin = sessionTime_hour >> (lambda col: get_cycled_feature_value_sin(col, 24)) >> nvt.ops.Rename(name='et_hour_sin')\n",
    "hour_cos = sessionTime_hour >> (lambda col: get_cycled_feature_value_cos(col, 24)) >> nvt.ops.Rename(name ='et_hour_cos')\n",
    "weekday_sin = sessionTime_weekday >> (lambda col: get_cycled_feature_value_sin(col+1, 7)) >> nvt.ops.Rename(name = 'et_dayofweek_sin')\n",
    "weekday_cos= sessionTime_weekday >> (lambda col: get_cycled_feature_value_cos(col+1, 7)) >> nvt.ops.Rename(name = 'et_dayofweek_cos')\n",
    "\n",
    "dayofmonth_sin = sessionTime_hour >> (lambda col: get_cycled_feature_value_sin(col, 31)) >> nvt.ops.Rename(name ='et_dayofmonth_sin')\n",
    "dayofmonth_cos = sessionTime_hour >> (lambda col: get_cycled_feature_value_cos(col, 31)) >> nvt.ops.Rename(name='et_dayofmonth_cos')\n",
    "month_sin = sessionTime_weekday >> (lambda col: get_cycled_feature_value_sin(col, 12)) >> nvt.ops.Rename(name='et_month_sin')\n",
    "month_cos= sessionTime_weekday >> (lambda col: get_cycled_feature_value_cos(col, 12)) >> nvt.ops.Rename(name = 'et_month_cos')"
   ]
  },
  {
   "cell_type": "code",
   "execution_count": 42,
   "metadata": {},
   "outputs": [],
   "source": [
    "cycled_features = hour_sin + hour_cos + weekday_sin + weekday_cos + dayofmonth_sin + dayofmonth_cos + month_sin + month_cos"
   ]
  },
  {
   "cell_type": "code",
   "execution_count": 43,
   "metadata": {},
   "outputs": [],
   "source": [
    "recency_features = [\"event_time_dt\"] >> ItemRecency() >>  nvt.ops.Rename(name='product_recency_days')\n",
    "recency_features_norm = recency_features >> nvt.ops.LogOp() >> nvt.ops.Normalize() >> nvt.ops.Rename(name='product_recency_days_log_norm')"
   ]
  },
  {
   "cell_type": "code",
   "execution_count": 44,
   "metadata": {},
   "outputs": [],
   "source": [
    "time_features = (\n",
    "    sessionTime_hour +\n",
    "    sessionTime_day + \n",
    "    sessionTime_month + \n",
    "    sessionTime_weekday +\n",
    "    recency_features +\n",
    "    recency_features_norm + \n",
    "    cycled_features\n",
    ")\n",
    "#time_features.graph"
   ]
  },
  {
   "cell_type": "markdown",
   "metadata": {},
   "source": [
    "### Computing elapsed time since last interaction (on non-repeated items)"
   ]
  },
  {
   "cell_type": "code",
   "execution_count": 45,
   "metadata": {},
   "outputs": [],
   "source": [
    "# compute the delta in timestamp for each users session\n",
    "diff_features = ([\"event_time_ts\"] >> nvt.ops.DifferenceLag(partition_cols=[\"user_session\"]) >> (lambda col: col.astype(\"float32\"))\n",
    "                                   >> nvt.ops.FillMissing(fill_val=0)\n",
    "                                   >> nvt.ops.Rename(name=\"delta_event_secs\")\n",
    "                )\n",
    "diff_features_log_norm = diff_features >> nvt.ops.LogOp() >> nvt.ops.Normalize() >> nvt.ops.Rename(name='delta_event_secs_log_norm')"
   ]
  },
  {
   "cell_type": "markdown",
   "metadata": {},
   "source": [
    "### Normalize Continuous Features¶"
   ]
  },
  {
   "cell_type": "code",
   "execution_count": 46,
   "metadata": {},
   "outputs": [],
   "source": [
    "#Smoothing price long-tailed distribution\n",
    "price_log = ['price'] >> nvt.ops.LogOp() >> nvt.ops.Normalize() >> nvt.ops.Rename(name='price_log_norm')"
   ]
  },
  {
   "cell_type": "code",
   "execution_count": 47,
   "metadata": {},
   "outputs": [],
   "source": [
    "# Relative Price to the average price for the category_id\n",
    "def relative_price_to_avg_categ(col, gdf):\n",
    "    col = (gdf['price'] - col) / col\n",
    "    return col\n",
    "    \n",
    "avg_category_id_pr = ['category_id'] >> nvt.ops.JoinGroupby(cont_cols =['price'], stats=[\"mean\"]) >> nvt.ops.Rename(name='avg_category_id_price')\n",
    "relative_price_to_avg_category = avg_category_id_pr >> nvt.ops.LambdaOp(relative_price_to_avg_categ, dependency=['price']) >> nvt.ops.Rename(name=\"relative_price_to_avg_categ_id\")"
   ]
  },
  {
   "cell_type": "markdown",
   "metadata": {},
   "source": [
    "### Grouping interactions into sessions¶"
   ]
  },
  {
   "cell_type": "code",
   "execution_count": 48,
   "metadata": {},
   "outputs": [],
   "source": [
    "groupby_feats = cols + cat_feats + time_features + avg_category_id_pr + price_log + relative_price_to_avg_category + diff_features + diff_features_log_norm"
   ]
  },
  {
   "cell_type": "code",
   "execution_count": 49,
   "metadata": {},
   "outputs": [
    {
     "data": {
      "text/plain": [
       "['category_code_idx',\n",
       " 'brand_idx',\n",
       " 'user_id_idx',\n",
       " 'product_id_idx',\n",
       " 'category_id_idx',\n",
       " 'event_type_idx',\n",
       " 'event_time_dt',\n",
       " 'event_time_ts',\n",
       " 'user_session',\n",
       " 'et_hour',\n",
       " 'et_dayofmonth',\n",
       " 'et_month',\n",
       " 'et_dayofweek',\n",
       " 'product_recency_days',\n",
       " 'product_recency_days_log_norm',\n",
       " 'et_hour_sin',\n",
       " 'et_hour_cos',\n",
       " 'et_dayofweek_sin',\n",
       " 'et_dayofweek_cos',\n",
       " 'et_dayofmonth_sin',\n",
       " 'et_dayofmonth_cos',\n",
       " 'et_month_sin',\n",
       " 'et_month_cos',\n",
       " 'avg_category_id_price',\n",
       " 'price_log_norm',\n",
       " 'relative_price_to_avg_categ_id',\n",
       " 'delta_event_secs',\n",
       " 'delta_event_secs_log_norm']"
      ]
     },
     "execution_count": 49,
     "metadata": {},
     "output_type": "execute_result"
    }
   ],
   "source": [
    "groupby_feats.columns"
   ]
  },
  {
   "cell_type": "markdown",
   "metadata": {},
   "source": [
    "#### Aggregate by session id (create sequence as type of array)"
   ]
  },
  {
   "cell_type": "code",
   "execution_count": 50,
   "metadata": {},
   "outputs": [],
   "source": [
    "# Define Groupby Workflow\n",
    "groupby_features = groupby_feats  >> nvt.ops.Groupby(\n",
    "    groupby_cols=[\"user_session\"], \n",
    "    sort_cols=[\"event_time_ts\"],\n",
    "    aggs={\n",
    "        'user_id_idx': ['first'],\n",
    "        'product_id_idx': [\"list\", \"count\"],\n",
    "        'category_code_idx': [\"list\"],  \n",
    "        'event_type_idx': [\"list\"], \n",
    "        'brand_idx': [\"list\"], \n",
    "        'category_id_idx': [\"list\"], \n",
    "        'event_time_ts': [\"list\", \"first\", \"last\"],\n",
    "        'event_time_dt': [\"first\"],\n",
    "        'et_month': [\"list\"],\n",
    "        'et_hour': [\"list\"],\n",
    "        'et_dayofmonth': [\"list\"],\n",
    "        'et_dayofweek': [\"list\"],\n",
    "        'product_recency_days': [\"list\"],\n",
    "        'product_recency_days_log_norm': [\"list\"],\n",
    "        'et_hour_sin': [\"list\"],\n",
    "        'et_hour_cos': [\"list\"],\n",
    "        'et_dayofweek_sin': [\"list\"],\n",
    "        'et_dayofweek_cos': [\"list\"],\n",
    "        'et_dayofmonth_sin': [\"list\"],\n",
    "        'et_dayofmonth_cos': [\"list\"],\n",
    "        'et_month_sin': [\"list\"],\n",
    "        'et_month_cos': [\"list\"], \n",
    "        'avg_category_id_price': [\"list\"], \n",
    "        'relative_price_to_avg_categ_id': [\"list\"], \n",
    "        'price_log_norm': [\"list\"], \n",
    "        'delta_event_secs': [\"list\"], \n",
    "        'delta_event_secs_log_norm': [\"list\"], \n",
    "        },\n",
    "    name_sep=\"-\")"
   ]
  },
  {
   "cell_type": "code",
   "execution_count": 51,
   "metadata": {},
   "outputs": [
    {
     "data": {
      "text/plain": [
       "['et_dayofmonth-list',\n",
       " 'price_log_norm-list',\n",
       " 'product_recency_days-list',\n",
       " 'product_id_idx-list',\n",
       " 'et_hour-list',\n",
       " 'et_dayofmonth_cos-list',\n",
       " 'user_id_idx-first',\n",
       " 'relative_price_to_avg_categ_id-list',\n",
       " 'product_recency_days_log_norm-list',\n",
       " 'et_dayofweek_sin-list',\n",
       " 'category_id_idx-list',\n",
       " 'et_dayofweek_cos-list',\n",
       " 'event_time_dt-first',\n",
       " 'et_dayofweek-list',\n",
       " 'event_time_ts-list',\n",
       " 'category_code_idx-list',\n",
       " 'delta_event_secs_log_norm-list',\n",
       " 'product_id_idx-count',\n",
       " 'user_session',\n",
       " 'et_dayofmonth_sin-list',\n",
       " 'et_month_cos-list',\n",
       " 'event_time_ts-first',\n",
       " 'et_month-list',\n",
       " 'event_type_idx-list',\n",
       " 'et_hour_cos-list',\n",
       " 'brand_idx-list',\n",
       " 'event_time_ts-last',\n",
       " 'avg_category_id_price-list',\n",
       " 'delta_event_secs-list',\n",
       " 'et_hour_sin-list',\n",
       " 'et_month_sin-list']"
      ]
     },
     "execution_count": 51,
     "metadata": {},
     "output_type": "execute_result"
    }
   ],
   "source": [
    "groupby_features.columns"
   ]
  },
  {
   "cell_type": "code",
   "execution_count": 52,
   "metadata": {},
   "outputs": [
    {
     "data": {
      "text/plain": [
       "['user_id_idx-first',\n",
       " 'event_time_dt-first',\n",
       " 'product_id_idx-count',\n",
       " 'user_session',\n",
       " 'event_time_ts-first',\n",
       " 'event_time_ts-last']"
      ]
     },
     "execution_count": 52,
     "metadata": {},
     "output_type": "execute_result"
    }
   ],
   "source": [
    "groupby_features_nonlist = [x for x in groupby_features.columns if '-list' not in x]\n",
    "groupby_features_nonlist"
   ]
  },
  {
   "cell_type": "code",
   "execution_count": 53,
   "metadata": {},
   "outputs": [],
   "source": [
    "SESSIONS_MAX_LENGTH = 20 \n",
    "MINIMUM_SESSION_LENGTH = 2"
   ]
  },
  {
   "cell_type": "code",
   "execution_count": 54,
   "metadata": {},
   "outputs": [],
   "source": [
    "groupby_features_trim = ((groupby_features - groupby_features_nonlist)) >> nvt.ops.ListSlice(0,SESSIONS_MAX_LENGTH) >> nvt.ops.Rename(postfix = '_trim')"
   ]
  },
  {
   "cell_type": "code",
   "execution_count": 55,
   "metadata": {},
   "outputs": [
    {
     "data": {
      "text/plain": [
       "['et_dayofmonth-list_trim',\n",
       " 'price_log_norm-list_trim',\n",
       " 'product_recency_days-list_trim',\n",
       " 'product_id_idx-list_trim',\n",
       " 'et_hour-list_trim',\n",
       " 'et_dayofmonth_cos-list_trim',\n",
       " 'relative_price_to_avg_categ_id-list_trim',\n",
       " 'product_recency_days_log_norm-list_trim',\n",
       " 'et_dayofweek_sin-list_trim',\n",
       " 'category_id_idx-list_trim',\n",
       " 'et_dayofweek_cos-list_trim',\n",
       " 'et_dayofweek-list_trim',\n",
       " 'event_time_ts-list_trim',\n",
       " 'category_code_idx-list_trim',\n",
       " 'delta_event_secs_log_norm-list_trim',\n",
       " 'et_dayofmonth_sin-list_trim',\n",
       " 'et_month_cos-list_trim',\n",
       " 'et_month-list_trim',\n",
       " 'event_type_idx-list_trim',\n",
       " 'et_hour_cos-list_trim',\n",
       " 'brand_idx-list_trim',\n",
       " 'avg_category_id_price-list_trim',\n",
       " 'delta_event_secs-list_trim',\n",
       " 'et_hour_sin-list_trim',\n",
       " 'et_month_sin-list_trim']"
      ]
     },
     "execution_count": 55,
     "metadata": {},
     "output_type": "execute_result"
    }
   ],
   "source": [
    "groupby_features_trim.columns"
   ]
  },
  {
   "cell_type": "code",
   "execution_count": 56,
   "metadata": {},
   "outputs": [],
   "source": [
    "# calculate session day index based on 'timestamp-first' column\n",
    "remaining_columns = [x for x in groupby_features.columns if x!= 'event_time_dt-first']\n",
    "day_index = ((groupby_features - remaining_columns)  >> \n",
    "    nvt.ops.LambdaOp(lambda col: (col - col.min()).dt.days +1) >> \n",
    "    nvt.ops.Rename(f = lambda col: \"day_index\")\n",
    ")"
   ]
  },
  {
   "cell_type": "code",
   "execution_count": 57,
   "metadata": {},
   "outputs": [],
   "source": [
    "day_idx_padded = day_index >> (lambda col: col.astype(str).str.pad(4,fillchar='0')) >> nvt.ops.Rename(f = lambda col: \"day_idx_padded\")"
   ]
  },
  {
   "cell_type": "code",
   "execution_count": 58,
   "metadata": {},
   "outputs": [],
   "source": [
    "rename_cols = {\"product_id_idx-count\": \"session_size\"} \n",
    "groupby_features = groupby_features >> nvt.ops.Rename(lambda col: rename_cols.get(col, col))"
   ]
  },
  {
   "cell_type": "code",
   "execution_count": 59,
   "metadata": {},
   "outputs": [],
   "source": [
    "filtered_sessions = (groupby_features + groupby_features_trim + day_index + day_idx_padded) >> \\\n",
    "                     nvt.ops.Filter(f=lambda df: df[\"session_size\"] >= MINIMUM_SESSION_LENGTH)"
   ]
  },
  {
   "cell_type": "code",
   "execution_count": 60,
   "metadata": {},
   "outputs": [],
   "source": [
    "# define the path of the saved parquet files \n",
    "path = '/workspace/Transformers4Rec/datasets/ecommerce_rees46/preprocessing/NVTabular/input_df/'\n",
    "input_paths = glob.glob(os.path.join(path, '*.parquet'))\n",
    "#input_paths"
   ]
  },
  {
   "cell_type": "code",
   "execution_count": 61,
   "metadata": {},
   "outputs": [],
   "source": [
    "dataset = nvt.Dataset(input_paths, part_size=\"500MB\")\n",
    "workflow = nvt.Workflow(filtered_sessions, client=client)\n",
    "workflow.fit(dataset)\n",
    "df_indexed = workflow.transform(dataset).to_ddf()"
   ]
  },
  {
   "cell_type": "code",
   "execution_count": 62,
   "metadata": {},
   "outputs": [
    {
     "data": {
      "text/plain": [
       "['user_id_idx-first',\n",
       " 'session_size',\n",
       " 'user_session',\n",
       " 'event_time_ts-first',\n",
       " 'event_time_ts-last',\n",
       " 'day_index']"
      ]
     },
     "execution_count": 62,
     "metadata": {},
     "output_type": "execute_result"
    }
   ],
   "source": [
    "cast_dtypes_cols =  [x for x in df_indexed.columns if ('-list' not in x) & (x!= 'event_time_dt-first') & (x!= 'day_idx_padded')]\n",
    "cast_dtypes_cols"
   ]
  },
  {
   "cell_type": "code",
   "execution_count": 63,
   "metadata": {},
   "outputs": [],
   "source": [
    "for col in cast_dtypes_cols:\n",
    "    df_indexed[col] = df_indexed[col].astype('int64')"
   ]
  },
  {
   "cell_type": "code",
   "execution_count": 64,
   "metadata": {},
   "outputs": [
    {
     "data": {
      "text/plain": [
       "et_dayofmonth-list                          float64\n",
       "price_log_norm-list                         float64\n",
       "product_recency_days-list                   float64\n",
       "product_id_idx-list                         float64\n",
       "et_hour-list                                float64\n",
       "et_dayofmonth_cos-list                      float64\n",
       "user_id_idx-first                             int64\n",
       "relative_price_to_avg_categ_id-list         float64\n",
       "product_recency_days_log_norm-list          float64\n",
       "et_dayofweek_sin-list                       float64\n",
       "category_id_idx-list                        float64\n",
       "et_dayofweek_cos-list                       float64\n",
       "event_time_dt-first                         float64\n",
       "et_dayofweek-list                           float64\n",
       "event_time_ts-list                          float64\n",
       "category_code_idx-list                      float64\n",
       "delta_event_secs_log_norm-list              float64\n",
       "session_size                                  int64\n",
       "user_session                                  int64\n",
       "et_dayofmonth_sin-list                      float64\n",
       "et_month_cos-list                           float64\n",
       "event_time_ts-first                           int64\n",
       "et_month-list                               float64\n",
       "event_type_idx-list                         float64\n",
       "et_hour_cos-list                            float64\n",
       "brand_idx-list                              float64\n",
       "event_time_ts-last                            int64\n",
       "avg_category_id_price-list                  float64\n",
       "delta_event_secs-list                       float64\n",
       "et_hour_sin-list                            float64\n",
       "et_month_sin-list                           float64\n",
       "et_dayofmonth-list_trim                     float64\n",
       "price_log_norm-list_trim                    float64\n",
       "product_recency_days-list_trim              float64\n",
       "product_id_idx-list_trim                    float64\n",
       "et_hour-list_trim                           float64\n",
       "et_dayofmonth_cos-list_trim                 float64\n",
       "relative_price_to_avg_categ_id-list_trim    float64\n",
       "product_recency_days_log_norm-list_trim     float64\n",
       "et_dayofweek_sin-list_trim                  float64\n",
       "category_id_idx-list_trim                   float64\n",
       "et_dayofweek_cos-list_trim                  float64\n",
       "et_dayofweek-list_trim                      float64\n",
       "event_time_ts-list_trim                     float64\n",
       "category_code_idx-list_trim                 float64\n",
       "delta_event_secs_log_norm-list_trim         float64\n",
       "et_dayofmonth_sin-list_trim                 float64\n",
       "et_month_cos-list_trim                      float64\n",
       "et_month-list_trim                          float64\n",
       "event_type_idx-list_trim                    float64\n",
       "et_hour_cos-list_trim                       float64\n",
       "brand_idx-list_trim                         float64\n",
       "avg_category_id_price-list_trim             float64\n",
       "delta_event_secs-list_trim                  float64\n",
       "et_hour_sin-list_trim                       float64\n",
       "et_month_sin-list_trim                      float64\n",
       "day_index                                     int64\n",
       "day_idx_padded                              float64\n",
       "dtype: object"
      ]
     },
     "execution_count": 64,
     "metadata": {},
     "output_type": "execute_result"
    }
   ],
   "source": [
    "df_indexed.dtypes"
   ]
  },
  {
   "cell_type": "code",
   "execution_count": 65,
   "metadata": {},
   "outputs": [
    {
     "data": {
      "text/html": [
       "<div>\n",
       "<style scoped>\n",
       "    .dataframe tbody tr th:only-of-type {\n",
       "        vertical-align: middle;\n",
       "    }\n",
       "\n",
       "    .dataframe tbody tr th {\n",
       "        vertical-align: top;\n",
       "    }\n",
       "\n",
       "    .dataframe thead th {\n",
       "        text-align: right;\n",
       "    }\n",
       "</style>\n",
       "<table border=\"1\" class=\"dataframe\">\n",
       "  <thead>\n",
       "    <tr style=\"text-align: right;\">\n",
       "      <th></th>\n",
       "      <th>et_dayofmonth-list</th>\n",
       "      <th>price_log_norm-list</th>\n",
       "      <th>product_recency_days-list</th>\n",
       "      <th>product_id_idx-list</th>\n",
       "      <th>et_hour-list</th>\n",
       "      <th>et_dayofmonth_cos-list</th>\n",
       "      <th>user_id_idx-first</th>\n",
       "      <th>relative_price_to_avg_categ_id-list</th>\n",
       "      <th>product_recency_days_log_norm-list</th>\n",
       "      <th>et_dayofweek_sin-list</th>\n",
       "      <th>...</th>\n",
       "      <th>et_month-list_trim</th>\n",
       "      <th>event_type_idx-list_trim</th>\n",
       "      <th>et_hour_cos-list_trim</th>\n",
       "      <th>brand_idx-list_trim</th>\n",
       "      <th>avg_category_id_price-list_trim</th>\n",
       "      <th>delta_event_secs-list_trim</th>\n",
       "      <th>et_hour_sin-list_trim</th>\n",
       "      <th>et_month_sin-list_trim</th>\n",
       "      <th>day_index</th>\n",
       "      <th>day_idx_padded</th>\n",
       "    </tr>\n",
       "  </thead>\n",
       "  <tbody>\n",
       "    <tr>\n",
       "      <th>0</th>\n",
       "      <td>[31, 31, 31, 31, 31, 31, 31]</td>\n",
       "      <td>[1.4872231, 1.7600029, -1.2381928, -0.07776256...</td>\n",
       "      <td>[30, 30, 30, 30, 30, 30, 21]</td>\n",
       "      <td>[1127, 1117, 19138, 926, 1116, 153, 1223]</td>\n",
       "      <td>[6, 6, 6, 6, 6, 6, 6]</td>\n",
       "      <td>[0.3473051, 0.3473051, 0.3473051, 0.3473051, 0...</td>\n",
       "      <td>219023</td>\n",
       "      <td>[0.8999288074661269, 1.6823296038282975, -0.22...</td>\n",
       "      <td>[1.1646589, 1.1646589, 1.1646589, 1.1646589, 1...</td>\n",
       "      <td>[-0.43388462, -0.43388462, -0.43388462, -0.433...</td>\n",
       "      <td>...</td>\n",
       "      <td>[10, 10, 10, 10, 10, 10, 10]</td>\n",
       "      <td>[3, 3, 3, 3, 3, 3, 3]</td>\n",
       "      <td>[-2.8212997e-07, -2.8212997e-07, -2.8212997e-0...</td>\n",
       "      <td>[166, 166, 3359, 2701, 166, 166, 2701]</td>\n",
       "      <td>[503.0925349643877, 503.0925349643877, 38.0222...</td>\n",
       "      <td>[0.0, 0.0, 0.0, 0.0, 0.0, 0.0, 0.0]</td>\n",
       "      <td>[1.0, 1.0, 1.0, 1.0, 1.0, 1.0, 1.0]</td>\n",
       "      <td>[1.0, 1.0, 1.0, 1.0, 1.0, 1.0, 1.0]</td>\n",
       "      <td>31</td>\n",
       "      <td>0031</td>\n",
       "    </tr>\n",
       "    <tr>\n",
       "      <th>1</th>\n",
       "      <td>[6, 6, 6, 6, 6, 6, 6, 6, 6, 6, 6, 6, 6, 6]</td>\n",
       "      <td>[0.4324528, 0.038939036, 1.6355649, 0.53558946...</td>\n",
       "      <td>[5, 5, 5, 5, 5, 5, 5, 5, 5, 5, 5, 5, 5, 5]</td>\n",
       "      <td>[849, 1110, 1086, 935, 839, 766, 1042, 212, 11...</td>\n",
       "      <td>[11, 11, 11, 11, 11, 11, 11, 11, 11, 11, 11, 1...</td>\n",
       "      <td>[-0.6121061, -0.6121061, -0.6121061, -0.612106...</td>\n",
       "      <td>1597284</td>\n",
       "      <td>[-0.5001515973243357, -0.6967158337763834, 1.2...</td>\n",
       "      <td>[-0.710463, -0.710463, -0.710463, -0.710463, -...</td>\n",
       "      <td>[1.1285199e-06, 1.1285199e-06, 1.1285199e-06, ...</td>\n",
       "      <td>...</td>\n",
       "      <td>[10, 10, 10, 10, 10, 10, 10, 10, 10, 10, 10, 1...</td>\n",
       "      <td>[3, 3, 3, 3, 3, 3, 3, 3, 3, 3, 3, 3, 3, 3]</td>\n",
       "      <td>[-0.96592593, -0.96592593, -0.96592593, -0.965...</td>\n",
       "      <td>[2701, 2701, 2701, 2701, 2701, 2701, 2701, 335...</td>\n",
       "      <td>[503.0925349643877, 503.0925349643877, 503.092...</td>\n",
       "      <td>[0.0, 0.0, 0.0, 0.0, 0.0, 0.0, 0.0, 0.0, 0.0, ...</td>\n",
       "      <td>[0.2588187, 0.2588187, 0.2588187, 0.2588187, 0...</td>\n",
       "      <td>[-5.6425995e-07, -5.6425995e-07, -5.6425995e-0...</td>\n",
       "      <td>6</td>\n",
       "      <td>0006</td>\n",
       "    </tr>\n",
       "    <tr>\n",
       "      <th>2</th>\n",
       "      <td>[27, 27]</td>\n",
       "      <td>[0.5510725, 0.6363106]</td>\n",
       "      <td>[26, 26]</td>\n",
       "      <td>[8611, 8673]</td>\n",
       "      <td>[12, 12]</td>\n",
       "      <td>[-0.7587582, -0.7587582]</td>\n",
       "      <td>1811923</td>\n",
       "      <td>[-0.3850561413909375, -0.3149102941005784]</td>\n",
       "      <td>[1.0069168, 1.0069168]</td>\n",
       "      <td>[1.1285199e-06, 1.1285199e-06]</td>\n",
       "      <td>...</td>\n",
       "      <td>[10, 10]</td>\n",
       "      <td>[3, 3]</td>\n",
       "      <td>[-1.0, -1.0]</td>\n",
       "      <td>[1449, 1449]</td>\n",
       "      <td>[475.2954207252451, 475.2954207252451]</td>\n",
       "      <td>[0.0, 0.0]</td>\n",
       "      <td>[-5.6425995e-07, -5.6425995e-07]</td>\n",
       "      <td>[-5.6425995e-07, -5.6425995e-07]</td>\n",
       "      <td>27</td>\n",
       "      <td>0027</td>\n",
       "    </tr>\n",
       "    <tr>\n",
       "      <th>3</th>\n",
       "      <td>[14, 14]</td>\n",
       "      <td>[1.8049271, 1.9645911]</td>\n",
       "      <td>[13, 13]</td>\n",
       "      <td>[1117, 1147]</td>\n",
       "      <td>[13, 13]</td>\n",
       "      <td>[-0.87434673, -0.87434673]</td>\n",
       "      <td>1412504</td>\n",
       "      <td>[1.8390602140441328, 2.473913601448517]</td>\n",
       "      <td>[0.25699535, 0.25699535]</td>\n",
       "      <td>[0.7818321, 0.7818321]</td>\n",
       "      <td>...</td>\n",
       "      <td>[10, 10]</td>\n",
       "      <td>[3, 3]</td>\n",
       "      <td>[-0.96592575, -0.96592575]</td>\n",
       "      <td>[166, 166]</td>\n",
       "      <td>[503.0925349643877, 503.0925349643877]</td>\n",
       "      <td>[0.0, 0.0]</td>\n",
       "      <td>[-0.2588193, -0.2588193]</td>\n",
       "      <td>[5.2359877e-07, 5.2359877e-07]</td>\n",
       "      <td>14</td>\n",
       "      <td>0014</td>\n",
       "    </tr>\n",
       "    <tr>\n",
       "      <th>4</th>\n",
       "      <td>[13, 13, 13, 13, 13, 13]</td>\n",
       "      <td>[1.25176, -0.11356461, 1.057411, 0.2789118, 0....</td>\n",
       "      <td>[12, 12, 12, 12, 12, 12]</td>\n",
       "      <td>[122348, 120741, 122296, 122900, 118720, 122608]</td>\n",
       "      <td>[7, 7, 7, 7, 7, 7]</td>\n",
       "      <td>[0.15142754, 0.15142754, 0.15142754, 0.1514275...</td>\n",
       "      <td>1064821</td>\n",
       "      <td>[0.8467763701904679, -0.3728416757390223, 0.44...</td>\n",
       "      <td>[0.1723775, 0.1723775, 0.1723775, 0.1723775, 0...</td>\n",
       "      <td>[1.1285199e-06, 1.1285199e-06, 1.1285199e-06, ...</td>\n",
       "      <td>...</td>\n",
       "      <td>[10, 10, 10, 10, 10, 10]</td>\n",
       "      <td>[3, 3, 3, 3, 3, 3]</td>\n",
       "      <td>[-0.25881937, -0.25881937, -0.25881937, -0.258...</td>\n",
       "      <td>[1846, 2848, 1846, 1846, 3163, 3163]</td>\n",
       "      <td>[384.2750056016842, 200.3800238928269, 384.275...</td>\n",
       "      <td>[0.0, 0.0, 0.0, 0.0, 0.0, 0.0]</td>\n",
       "      <td>[0.96592575, 0.96592575, 0.96592575, 0.9659257...</td>\n",
       "      <td>[-5.6425995e-07, -5.6425995e-07, -5.6425995e-0...</td>\n",
       "      <td>13</td>\n",
       "      <td>0013</td>\n",
       "    </tr>\n",
       "  </tbody>\n",
       "</table>\n",
       "<p>5 rows × 58 columns</p>\n",
       "</div>"
      ],
      "text/plain": [
       "                           et_dayofmonth-list  \\\n",
       "0                [31, 31, 31, 31, 31, 31, 31]   \n",
       "1  [6, 6, 6, 6, 6, 6, 6, 6, 6, 6, 6, 6, 6, 6]   \n",
       "2                                    [27, 27]   \n",
       "3                                    [14, 14]   \n",
       "4                    [13, 13, 13, 13, 13, 13]   \n",
       "\n",
       "                                 price_log_norm-list  \\\n",
       "0  [1.4872231, 1.7600029, -1.2381928, -0.07776256...   \n",
       "1  [0.4324528, 0.038939036, 1.6355649, 0.53558946...   \n",
       "2                             [0.5510725, 0.6363106]   \n",
       "3                             [1.8049271, 1.9645911]   \n",
       "4  [1.25176, -0.11356461, 1.057411, 0.2789118, 0....   \n",
       "\n",
       "                    product_recency_days-list  \\\n",
       "0                [30, 30, 30, 30, 30, 30, 21]   \n",
       "1  [5, 5, 5, 5, 5, 5, 5, 5, 5, 5, 5, 5, 5, 5]   \n",
       "2                                    [26, 26]   \n",
       "3                                    [13, 13]   \n",
       "4                    [12, 12, 12, 12, 12, 12]   \n",
       "\n",
       "                                 product_id_idx-list  \\\n",
       "0          [1127, 1117, 19138, 926, 1116, 153, 1223]   \n",
       "1  [849, 1110, 1086, 935, 839, 766, 1042, 212, 11...   \n",
       "2                                       [8611, 8673]   \n",
       "3                                       [1117, 1147]   \n",
       "4   [122348, 120741, 122296, 122900, 118720, 122608]   \n",
       "\n",
       "                                        et_hour-list  \\\n",
       "0                              [6, 6, 6, 6, 6, 6, 6]   \n",
       "1  [11, 11, 11, 11, 11, 11, 11, 11, 11, 11, 11, 1...   \n",
       "2                                           [12, 12]   \n",
       "3                                           [13, 13]   \n",
       "4                                 [7, 7, 7, 7, 7, 7]   \n",
       "\n",
       "                              et_dayofmonth_cos-list  user_id_idx-first  \\\n",
       "0  [0.3473051, 0.3473051, 0.3473051, 0.3473051, 0...             219023   \n",
       "1  [-0.6121061, -0.6121061, -0.6121061, -0.612106...            1597284   \n",
       "2                           [-0.7587582, -0.7587582]            1811923   \n",
       "3                         [-0.87434673, -0.87434673]            1412504   \n",
       "4  [0.15142754, 0.15142754, 0.15142754, 0.1514275...            1064821   \n",
       "\n",
       "                 relative_price_to_avg_categ_id-list  \\\n",
       "0  [0.8999288074661269, 1.6823296038282975, -0.22...   \n",
       "1  [-0.5001515973243357, -0.6967158337763834, 1.2...   \n",
       "2         [-0.3850561413909375, -0.3149102941005784]   \n",
       "3            [1.8390602140441328, 2.473913601448517]   \n",
       "4  [0.8467763701904679, -0.3728416757390223, 0.44...   \n",
       "\n",
       "                  product_recency_days_log_norm-list  \\\n",
       "0  [1.1646589, 1.1646589, 1.1646589, 1.1646589, 1...   \n",
       "1  [-0.710463, -0.710463, -0.710463, -0.710463, -...   \n",
       "2                             [1.0069168, 1.0069168]   \n",
       "3                           [0.25699535, 0.25699535]   \n",
       "4  [0.1723775, 0.1723775, 0.1723775, 0.1723775, 0...   \n",
       "\n",
       "                               et_dayofweek_sin-list  ...  \\\n",
       "0  [-0.43388462, -0.43388462, -0.43388462, -0.433...  ...   \n",
       "1  [1.1285199e-06, 1.1285199e-06, 1.1285199e-06, ...  ...   \n",
       "2                     [1.1285199e-06, 1.1285199e-06]  ...   \n",
       "3                             [0.7818321, 0.7818321]  ...   \n",
       "4  [1.1285199e-06, 1.1285199e-06, 1.1285199e-06, ...  ...   \n",
       "\n",
       "                                  et_month-list_trim  \\\n",
       "0                       [10, 10, 10, 10, 10, 10, 10]   \n",
       "1  [10, 10, 10, 10, 10, 10, 10, 10, 10, 10, 10, 1...   \n",
       "2                                           [10, 10]   \n",
       "3                                           [10, 10]   \n",
       "4                           [10, 10, 10, 10, 10, 10]   \n",
       "\n",
       "                     event_type_idx-list_trim  \\\n",
       "0                       [3, 3, 3, 3, 3, 3, 3]   \n",
       "1  [3, 3, 3, 3, 3, 3, 3, 3, 3, 3, 3, 3, 3, 3]   \n",
       "2                                      [3, 3]   \n",
       "3                                      [3, 3]   \n",
       "4                          [3, 3, 3, 3, 3, 3]   \n",
       "\n",
       "                               et_hour_cos-list_trim  \\\n",
       "0  [-2.8212997e-07, -2.8212997e-07, -2.8212997e-0...   \n",
       "1  [-0.96592593, -0.96592593, -0.96592593, -0.965...   \n",
       "2                                       [-1.0, -1.0]   \n",
       "3                         [-0.96592575, -0.96592575]   \n",
       "4  [-0.25881937, -0.25881937, -0.25881937, -0.258...   \n",
       "\n",
       "                                 brand_idx-list_trim  \\\n",
       "0             [166, 166, 3359, 2701, 166, 166, 2701]   \n",
       "1  [2701, 2701, 2701, 2701, 2701, 2701, 2701, 335...   \n",
       "2                                       [1449, 1449]   \n",
       "3                                         [166, 166]   \n",
       "4               [1846, 2848, 1846, 1846, 3163, 3163]   \n",
       "\n",
       "                     avg_category_id_price-list_trim  \\\n",
       "0  [503.0925349643877, 503.0925349643877, 38.0222...   \n",
       "1  [503.0925349643877, 503.0925349643877, 503.092...   \n",
       "2             [475.2954207252451, 475.2954207252451]   \n",
       "3             [503.0925349643877, 503.0925349643877]   \n",
       "4  [384.2750056016842, 200.3800238928269, 384.275...   \n",
       "\n",
       "                          delta_event_secs-list_trim  \\\n",
       "0                [0.0, 0.0, 0.0, 0.0, 0.0, 0.0, 0.0]   \n",
       "1  [0.0, 0.0, 0.0, 0.0, 0.0, 0.0, 0.0, 0.0, 0.0, ...   \n",
       "2                                         [0.0, 0.0]   \n",
       "3                                         [0.0, 0.0]   \n",
       "4                     [0.0, 0.0, 0.0, 0.0, 0.0, 0.0]   \n",
       "\n",
       "                               et_hour_sin-list_trim  \\\n",
       "0                [1.0, 1.0, 1.0, 1.0, 1.0, 1.0, 1.0]   \n",
       "1  [0.2588187, 0.2588187, 0.2588187, 0.2588187, 0...   \n",
       "2                   [-5.6425995e-07, -5.6425995e-07]   \n",
       "3                           [-0.2588193, -0.2588193]   \n",
       "4  [0.96592575, 0.96592575, 0.96592575, 0.9659257...   \n",
       "\n",
       "                              et_month_sin-list_trim day_index  day_idx_padded  \n",
       "0                [1.0, 1.0, 1.0, 1.0, 1.0, 1.0, 1.0]        31            0031  \n",
       "1  [-5.6425995e-07, -5.6425995e-07, -5.6425995e-0...         6            0006  \n",
       "2                   [-5.6425995e-07, -5.6425995e-07]        27            0027  \n",
       "3                     [5.2359877e-07, 5.2359877e-07]        14            0014  \n",
       "4  [-5.6425995e-07, -5.6425995e-07, -5.6425995e-0...        13            0013  \n",
       "\n",
       "[5 rows x 58 columns]"
      ]
     },
     "execution_count": 65,
     "metadata": {},
     "output_type": "execute_result"
    }
   ],
   "source": [
    "df_indexed.head()"
   ]
  },
  {
   "cell_type": "code",
   "execution_count": 66,
   "metadata": {},
   "outputs": [
    {
     "data": {
      "text/plain": [
       "{'category_code_idx': (625, 59),\n",
       " 'brand_idx': (3445, 153),\n",
       " 'user_id_idx': (3022291, 512),\n",
       " 'product_id_idx': (166795, 512),\n",
       " 'category_id_idx': (625, 59),\n",
       " 'event_type_idx': (4, 16)}"
      ]
     },
     "execution_count": 66,
     "metadata": {},
     "output_type": "execute_result"
    }
   ],
   "source": [
    "cat_feats.op.get_embedding_sizes(cat_feats.columns)"
   ]
  },
  {
   "cell_type": "markdown",
   "metadata": {},
   "source": [
    "# Exporting data"
   ]
  },
  {
   "cell_type": "code",
   "execution_count": 67,
   "metadata": {},
   "outputs": [],
   "source": [
    "OUTPUT_FOLDER = \"/workspace/ecommerce-rees/preproc_sessions_by_day_ts\"\n",
    "!mkdir -p $OUTPUT_FOLDER"
   ]
  },
  {
   "cell_type": "code",
   "execution_count": 79,
   "metadata": {},
   "outputs": [],
   "source": [
    "SELECTED_COLS = ['user_id_idx-first', 'user_session', 'event_time_ts-first', 'product_id_idx-list_trim', 'event_time_ts-list_trim', 'event_type_idx-list_trim',\n",
    "                 'category_id_idx-list_trim', 'category_code_idx-list_trim', 'brand_idx-list_trim', 'price_log_norm-list_trim',  'delta_event_secs-list_trim',\n",
    "                 'delta_event_secs_log_norm-list_trim', 'product_recency_days-list_trim', 'product_recency_days_log_norm-list_trim', 'relative_price_to_avg_categ_id-list_trim',\n",
    "                 'et_hour_sin-list_trim', 'et_hour_cos-list_trim', 'et_month_sin-list_trim', 'et_month_cos-list_trim', 'et_dayofweek_sin-list_trim', 'et_dayofweek_cos-list_trim',\n",
    "                 'et_dayofmonth_sin-list_trim', 'et_dayofmonth_cos-list_trim', 'session_size', 'day_idx_padded']\n"
   ]
  },
  {
   "cell_type": "code",
   "execution_count": 69,
   "metadata": {},
   "outputs": [],
   "source": [
    "sessions_gdf = df_indexed[SELECTED_COLS]\n",
    "# sessions_gdf.head()"
   ]
  },
  {
   "cell_type": "code",
   "execution_count": 70,
   "metadata": {},
   "outputs": [],
   "source": [
    "#sessions_gdf.groupby('day_idx_padded').size().compute().sort_index()"
   ]
  },
  {
   "cell_type": "markdown",
   "metadata": {},
   "source": [
    "#### Export dataset to parquet, partioned by the session day_idx"
   ]
  },
  {
   "cell_type": "code",
   "execution_count": 73,
   "metadata": {},
   "outputs": [],
   "source": [
    "PARTITION_COL = 'day_idx_padded'"
   ]
  },
  {
   "cell_type": "code",
   "execution_count": 74,
   "metadata": {},
   "outputs": [],
   "source": [
    "# Convert to a Dataset and write out hive-partitioned data to disk\n",
    "nvt_output_path_tmp ='./output_nvt_tmp/'\n",
    "nvt.Dataset(sessions_gdf).to_parquet(nvt_output_path_tmp, partition_on=[PARTITION_COL])"
   ]
  },
  {
   "cell_type": "code",
   "execution_count": 101,
   "metadata": {},
   "outputs": [
    {
     "name": "stdout",
     "output_type": "stream",
     "text": [
      " _file_list.txt\t\t'day_idx_padded2=0010'\t'day_idx_padded2=0022'\n",
      " _metadata\t\t'day_idx_padded2=0011'\t'day_idx_padded2=0023'\n",
      " _metadata.json\t\t'day_idx_padded2=0012'\t'day_idx_padded2=0024'\n",
      "'day_idx_padded2=0001'\t'day_idx_padded2=0013'\t'day_idx_padded2=0025'\n",
      "'day_idx_padded2=0002'\t'day_idx_padded2=0014'\t'day_idx_padded2=0026'\n",
      "'day_idx_padded2=0003'\t'day_idx_padded2=0015'\t'day_idx_padded2=0027'\n",
      "'day_idx_padded2=0004'\t'day_idx_padded2=0016'\t'day_idx_padded2=0028'\n",
      "'day_idx_padded2=0005'\t'day_idx_padded2=0017'\t'day_idx_padded2=0029'\n",
      "'day_idx_padded2=0006'\t'day_idx_padded2=0018'\t'day_idx_padded2=0030'\n",
      "'day_idx_padded2=0007'\t'day_idx_padded2=0019'\t'day_idx_padded2=0031'\n",
      "'day_idx_padded2=0008'\t'day_idx_padded2=0020'\n",
      "'day_idx_padded2=0009'\t'day_idx_padded2=0021'\n"
     ]
    }
   ],
   "source": [
    "!ls $nvt_output_path_tmp/"
   ]
  },
  {
   "cell_type": "code",
   "execution_count": 75,
   "metadata": {},
   "outputs": [],
   "source": [
    "rename_columns = ['user_idx', 'user_session', 'session_start_ts', 'sess_pid_seq', 'sess_etime_seq', 'sess_etype_seq', 'sess_csid_seq', 'sess_ccid_seq', 'sess_bid_seq',\n",
    "            'sess_price_log_norm_seq', 'sess_dtime_secs_seq','sess_dtime_secs_log_norm_seq', 'sess_prod_recency_days_seq','sess_prod_recency_days_log_norm_seq',\n",
    "            'sess_relative_price_to_avg_category_seq', 'sess_et_hour_sin_seq', 'sess_et_hour_cos_seq', 'sess_et_month_sin_seq', 'sess_et_month_cos_seq', \n",
    "            'sess_et_dayofweek_sin_seq', 'sess_et_dayofweek_cos_seq', 'sess_et_dayofmonth_sin_seq', 'sess_et_dayofmonth_cos_seq', 'session_size']"
   ]
  },
  {
   "cell_type": "markdown",
   "metadata": {},
   "source": [
    "### Converting to the HF4Rec dir structure and splitting dataset¶\n",
    "- move to pandas to be able to save as required file structure to load back in the model."
   ]
  },
  {
   "cell_type": "code",
   "execution_count": 84,
   "metadata": {},
   "outputs": [
    {
     "name": "stdout",
     "output_type": "stream",
     "text": [
      "train_set: 133105\n",
      "valid_set: 13377\n",
      "test_set: 13314\n",
      "train_set: 121623\n",
      "valid_set: 12160\n",
      "test_set: 12070\n",
      "train_set: 109534\n",
      "valid_set: 10911\n",
      "test_set: 10927\n",
      "train_set: 137280\n",
      "valid_set: 13707\n",
      "test_set: 13826\n",
      "train_set: 125959\n",
      "valid_set: 12435\n",
      "test_set: 12572\n",
      "train_set: 123606\n",
      "valid_set: 12215\n",
      "test_set: 12343\n",
      "train_set: 114435\n",
      "valid_set: 11287\n",
      "test_set: 11522\n",
      "train_set: 137286\n",
      "valid_set: 13847\n",
      "test_set: 13753\n",
      "train_set: 130990\n",
      "valid_set: 13024\n",
      "test_set: 13116\n",
      "train_set: 119762\n",
      "valid_set: 12038\n",
      "test_set: 12116\n",
      "train_set: 141178\n",
      "valid_set: 14108\n",
      "test_set: 14124\n",
      "train_set: 136945\n",
      "valid_set: 13656\n",
      "test_set: 13600\n",
      "train_set: 149435\n",
      "valid_set: 14853\n",
      "test_set: 14881\n",
      "train_set: 131733\n",
      "valid_set: 13235\n",
      "test_set: 13103\n",
      "train_set: 143179\n",
      "valid_set: 14265\n",
      "test_set: 14354\n",
      "train_set: 140935\n",
      "valid_set: 14039\n",
      "test_set: 14380\n",
      "train_set: 127738\n",
      "valid_set: 12916\n",
      "test_set: 12833\n",
      "train_set: 135473\n",
      "valid_set: 13500\n",
      "test_set: 13543\n",
      "train_set: 127588\n",
      "valid_set: 12871\n",
      "test_set: 12698\n",
      "train_set: 132022\n",
      "valid_set: 13506\n",
      "test_set: 13236\n",
      "train_set: 125834\n",
      "valid_set: 12670\n",
      "test_set: 12464\n",
      "train_set: 128440\n",
      "valid_set: 12731\n",
      "test_set: 12945\n",
      "train_set: 125730\n",
      "valid_set: 12548\n",
      "test_set: 12538\n",
      "train_set: 117280\n",
      "valid_set: 11829\n",
      "test_set: 11716\n",
      "train_set: 129787\n",
      "valid_set: 13001\n",
      "test_set: 12790\n",
      "train_set: 117998\n",
      "valid_set: 11735\n",
      "test_set: 11838\n",
      "train_set: 119390\n",
      "valid_set: 11731\n",
      "test_set: 11955\n",
      "train_set: 113002\n",
      "valid_set: 11261\n",
      "test_set: 11338\n",
      "train_set: 110655\n",
      "valid_set: 11143\n",
      "test_set: 11103\n",
      "train_set: 108328\n",
      "valid_set: 10619\n",
      "test_set: 10749\n",
      "train_set: 113395\n",
      "valid_set: 11343\n",
      "test_set: 11454\n"
     ]
    }
   ],
   "source": [
    "days_folders = [f for f in sorted(os.listdir(nvt_output_path_tmp)) if f.startswith(PARTITION_COL)]\n",
    "for day_folder in days_folders:\n",
    "    df = pd.read_parquet(os.path.join(nvt_output_path_tmp, day_folder))\n",
    "    df = df.sort_values('event_time_ts-first')\n",
    "    df.columns = rename_columns\n",
    "    print(\"train_set:\", len(df))\n",
    "    out_folder = os.path.join(OUTPUT_FOLDER, day_folder.replace('day_idx_padded=', ''))\n",
    "    os.makedirs(out_folder, exist_ok=True)\n",
    "    \n",
    "    df.to_parquet(os.path.join(out_folder, 'train.parquet'), engine='pyarrow', row_group_size=10000)\n",
    "    \n",
    "    random_values = np.random.rand(len(df))\n",
    "    \n",
    "    #Extracts 10% for valid and test set. Those sessions are also in the train set, but as evaluation\n",
    "    #happens only for the subsequent day of training, that is not an issue, and we can keep the train set larger.\n",
    "    valid_set = df[random_values <= 0.10]\n",
    "    valid_set.to_parquet(os.path.join(out_folder, 'valid.parquet'))\n",
    "    print(\"valid_set:\", len(valid_set))\n",
    "    test_set = df[random_values >= 0.90]\n",
    "    print(\"test_set:\", len(test_set))\n",
    "    test_set.to_parquet(os.path.join(out_folder, 'test.parquet'))"
   ]
  },
  {
   "cell_type": "markdown",
   "metadata": {},
   "source": [
    "#### Check exported dataset"
   ]
  },
  {
   "cell_type": "code",
   "execution_count": 86,
   "metadata": {},
   "outputs": [
    {
     "data": {
      "text/html": [
       "<div>\n",
       "<style scoped>\n",
       "    .dataframe tbody tr th:only-of-type {\n",
       "        vertical-align: middle;\n",
       "    }\n",
       "\n",
       "    .dataframe tbody tr th {\n",
       "        vertical-align: top;\n",
       "    }\n",
       "\n",
       "    .dataframe thead th {\n",
       "        text-align: right;\n",
       "    }\n",
       "</style>\n",
       "<table border=\"1\" class=\"dataframe\">\n",
       "  <thead>\n",
       "    <tr style=\"text-align: right;\">\n",
       "      <th></th>\n",
       "      <th>user_idx</th>\n",
       "      <th>user_session</th>\n",
       "      <th>session_start_ts</th>\n",
       "      <th>sess_pid_seq</th>\n",
       "      <th>sess_etime_seq</th>\n",
       "      <th>sess_etype_seq</th>\n",
       "      <th>sess_csid_seq</th>\n",
       "      <th>sess_ccid_seq</th>\n",
       "      <th>sess_bid_seq</th>\n",
       "      <th>sess_price_log_norm_seq</th>\n",
       "      <th>...</th>\n",
       "      <th>sess_relative_price_to_avg_category_seq</th>\n",
       "      <th>sess_et_hour_sin_seq</th>\n",
       "      <th>sess_et_hour_cos_seq</th>\n",
       "      <th>sess_et_month_sin_seq</th>\n",
       "      <th>sess_et_month_cos_seq</th>\n",
       "      <th>sess_et_dayofweek_sin_seq</th>\n",
       "      <th>sess_et_dayofweek_cos_seq</th>\n",
       "      <th>sess_et_dayofmonth_sin_seq</th>\n",
       "      <th>sess_et_dayofmonth_cos_seq</th>\n",
       "      <th>session_size</th>\n",
       "    </tr>\n",
       "  </thead>\n",
       "  <tbody>\n",
       "    <tr>\n",
       "      <th>15877</th>\n",
       "      <td>1744966</td>\n",
       "      <td>4499322</td>\n",
       "      <td>1569888001</td>\n",
       "      <td>[2451, 2142, 1827, 2733, 1983]</td>\n",
       "      <td>[1569888001, 1569888019, 1569888065, 156988816...</td>\n",
       "      <td>[3, 3, 3, 3, 3]</td>\n",
       "      <td>[159, 159, 159, 159, 159]</td>\n",
       "      <td>[159, 159, 159, 159, 159]</td>\n",
       "      <td>[1778, 1387, 1387, 13, 13]</td>\n",
       "      <td>[0.43329915, 1.0934848, 1.8503833, 0.45006597,...</td>\n",
       "      <td>...</td>\n",
       "      <td>[-0.6638423781795151, -0.2243163544160583, 1.0...</td>\n",
       "      <td>[2.6179939e-07, 2.6179939e-07, 2.6179939e-07, ...</td>\n",
       "      <td>[1.0, 1.0, 1.0, 1.0, 1.0]</td>\n",
       "      <td>[0.5000004, 0.5000004, 0.5000004, 0.5000004, 0...</td>\n",
       "      <td>[0.86602515, 0.86602515, 0.86602515, 0.8660251...</td>\n",
       "      <td>[0.9749277, 0.9749277, 0.9749277, 0.9749277, 0...</td>\n",
       "      <td>[-0.22252177, -0.22252177, -0.22252177, -0.222...</td>\n",
       "      <td>[2.0268341e-07, 2.0268341e-07, 2.0268341e-07, ...</td>\n",
       "      <td>[1.0, 1.0, 1.0, 1.0, 1.0]</td>\n",
       "      <td>5</td>\n",
       "    </tr>\n",
       "    <tr>\n",
       "      <th>116692</th>\n",
       "      <td>676889</td>\n",
       "      <td>3120154</td>\n",
       "      <td>1569888001</td>\n",
       "      <td>[75671, 69217, 69041, 69226, 69055, 69159, 691...</td>\n",
       "      <td>[1569888001, 1569888069, 1569888086, 156988820...</td>\n",
       "      <td>[3, 3, 3, 3, 3, 3, 3, 3, 3]</td>\n",
       "      <td>[180, 107, 107, 107, 107, 107, 107, 107, 107]</td>\n",
       "      <td>[180, 107, 107, 107, 107, 107, 107, 107, 107]</td>\n",
       "      <td>[3163, 3163, 502, 3163, 3163, 3163, 3163, 3163...</td>\n",
       "      <td>[1.0403255, 0.45006597, 0.9571255, 0.9735843, ...</td>\n",
       "      <td>...</td>\n",
       "      <td>[-0.14619387999067904, -0.5671669560450453, -0...</td>\n",
       "      <td>[2.6179939e-07, 2.6179939e-07, 2.6179939e-07, ...</td>\n",
       "      <td>[1.0, 1.0, 1.0, 1.0, 1.0, 1.0, 1.0, 1.0, 1.0]</td>\n",
       "      <td>[0.5000004, 0.5000004, 0.5000004, 0.5000004, 0...</td>\n",
       "      <td>[0.86602515, 0.86602515, 0.86602515, 0.8660251...</td>\n",
       "      <td>[0.9749277, 0.9749277, 0.9749277, 0.9749277, 0...</td>\n",
       "      <td>[-0.22252177, -0.22252177, -0.22252177, -0.222...</td>\n",
       "      <td>[2.0268341e-07, 2.0268341e-07, 2.0268341e-07, ...</td>\n",
       "      <td>[1.0, 1.0, 1.0, 1.0, 1.0, 1.0, 1.0, 1.0, 1.0]</td>\n",
       "      <td>9</td>\n",
       "    </tr>\n",
       "    <tr>\n",
       "      <th>54304</th>\n",
       "      <td>1220411</td>\n",
       "      <td>7176697</td>\n",
       "      <td>1569888004</td>\n",
       "      <td>[525, 1147]</td>\n",
       "      <td>[1569888004, 1569888019]</td>\n",
       "      <td>[3, 3]</td>\n",
       "      <td>[85, 85]</td>\n",
       "      <td>[85, 85]</td>\n",
       "      <td>[166, 166]</td>\n",
       "      <td>[1.5852594, 1.9646319]</td>\n",
       "      <td>...</td>\n",
       "      <td>[1.1506580296934636, 2.474092494979518]</td>\n",
       "      <td>[2.6179939e-07, 2.6179939e-07]</td>\n",
       "      <td>[1.0, 1.0]</td>\n",
       "      <td>[0.5000004, 0.5000004]</td>\n",
       "      <td>[0.86602515, 0.86602515]</td>\n",
       "      <td>[0.9749277, 0.9749277]</td>\n",
       "      <td>[-0.22252177, -0.22252177]</td>\n",
       "      <td>[2.0268341e-07, 2.0268341e-07]</td>\n",
       "      <td>[1.0, 1.0]</td>\n",
       "      <td>2</td>\n",
       "    </tr>\n",
       "    <tr>\n",
       "      <th>6679</th>\n",
       "      <td>78430</td>\n",
       "      <td>471501</td>\n",
       "      <td>1569888005</td>\n",
       "      <td>[3278, 3367, 3385, 3169, 24684]</td>\n",
       "      <td>[1569888005, 1569888022, 1569888093, 156988810...</td>\n",
       "      <td>[3, 3, 3, 3, 3]</td>\n",
       "      <td>[211, 211, 211, 211, 52]</td>\n",
       "      <td>[211, 211, 211, 211, 52]</td>\n",
       "      <td>[2502, 2502, 2502, 2502, 1201]</td>\n",
       "      <td>[1.4471576, 1.4582802, 1.5095989, 1.5360643, 0...</td>\n",
       "      <td>...</td>\n",
       "      <td>[0.10425298946218896, 0.11989400107802217, 0.1...</td>\n",
       "      <td>[2.6179939e-07, 2.6179939e-07, 2.6179939e-07, ...</td>\n",
       "      <td>[1.0, 1.0, 1.0, 1.0, 1.0]</td>\n",
       "      <td>[0.5000004, 0.5000004, 0.5000004, 0.5000004, 0...</td>\n",
       "      <td>[0.86602515, 0.86602515, 0.86602515, 0.8660251...</td>\n",
       "      <td>[0.9749277, 0.9749277, 0.9749277, 0.9749277, 0...</td>\n",
       "      <td>[-0.22252177, -0.22252177, -0.22252177, -0.222...</td>\n",
       "      <td>[2.0268341e-07, 2.0268341e-07, 2.0268341e-07, ...</td>\n",
       "      <td>[1.0, 1.0, 1.0, 1.0, 1.0]</td>\n",
       "      <td>5</td>\n",
       "    </tr>\n",
       "    <tr>\n",
       "      <th>123065</th>\n",
       "      <td>1780029</td>\n",
       "      <td>3557184</td>\n",
       "      <td>1569888008</td>\n",
       "      <td>[145429, 145489, 145566]</td>\n",
       "      <td>[1569888008, 1569888027, 1569888044]</td>\n",
       "      <td>[3, 3, 3]</td>\n",
       "      <td>[131, 131, 131]</td>\n",
       "      <td>[131, 131, 131]</td>\n",
       "      <td>[1849, 3163, 1849]</td>\n",
       "      <td>[-0.98448616, 0.10355003, -0.096378]</td>\n",
       "      <td>...</td>\n",
       "      <td>[-0.6828770962654591, 0.2761962530269521, -0.0...</td>\n",
       "      <td>[2.6179939e-07, 2.6179939e-07, 2.6179939e-07]</td>\n",
       "      <td>[1.0, 1.0, 1.0]</td>\n",
       "      <td>[0.5000004, 0.5000004, 0.5000004]</td>\n",
       "      <td>[0.86602515, 0.86602515, 0.86602515]</td>\n",
       "      <td>[0.9749277, 0.9749277, 0.9749277]</td>\n",
       "      <td>[-0.22252177, -0.22252177, -0.22252177]</td>\n",
       "      <td>[2.0268341e-07, 2.0268341e-07, 2.0268341e-07]</td>\n",
       "      <td>[1.0, 1.0, 1.0]</td>\n",
       "      <td>3</td>\n",
       "    </tr>\n",
       "  </tbody>\n",
       "</table>\n",
       "<p>5 rows × 24 columns</p>\n",
       "</div>"
      ],
      "text/plain": [
       "        user_idx  user_session  session_start_ts  \\\n",
       "15877    1744966       4499322        1569888001   \n",
       "116692    676889       3120154        1569888001   \n",
       "54304    1220411       7176697        1569888004   \n",
       "6679       78430        471501        1569888005   \n",
       "123065   1780029       3557184        1569888008   \n",
       "\n",
       "                                             sess_pid_seq  \\\n",
       "15877                      [2451, 2142, 1827, 2733, 1983]   \n",
       "116692  [75671, 69217, 69041, 69226, 69055, 69159, 691...   \n",
       "54304                                         [525, 1147]   \n",
       "6679                      [3278, 3367, 3385, 3169, 24684]   \n",
       "123065                           [145429, 145489, 145566]   \n",
       "\n",
       "                                           sess_etime_seq  \\\n",
       "15877   [1569888001, 1569888019, 1569888065, 156988816...   \n",
       "116692  [1569888001, 1569888069, 1569888086, 156988820...   \n",
       "54304                            [1569888004, 1569888019]   \n",
       "6679    [1569888005, 1569888022, 1569888093, 156988810...   \n",
       "123065               [1569888008, 1569888027, 1569888044]   \n",
       "\n",
       "                     sess_etype_seq  \\\n",
       "15877               [3, 3, 3, 3, 3]   \n",
       "116692  [3, 3, 3, 3, 3, 3, 3, 3, 3]   \n",
       "54304                        [3, 3]   \n",
       "6679                [3, 3, 3, 3, 3]   \n",
       "123065                    [3, 3, 3]   \n",
       "\n",
       "                                        sess_csid_seq  \\\n",
       "15877                       [159, 159, 159, 159, 159]   \n",
       "116692  [180, 107, 107, 107, 107, 107, 107, 107, 107]   \n",
       "54304                                        [85, 85]   \n",
       "6679                         [211, 211, 211, 211, 52]   \n",
       "123065                                [131, 131, 131]   \n",
       "\n",
       "                                        sess_ccid_seq  \\\n",
       "15877                       [159, 159, 159, 159, 159]   \n",
       "116692  [180, 107, 107, 107, 107, 107, 107, 107, 107]   \n",
       "54304                                        [85, 85]   \n",
       "6679                         [211, 211, 211, 211, 52]   \n",
       "123065                                [131, 131, 131]   \n",
       "\n",
       "                                             sess_bid_seq  \\\n",
       "15877                          [1778, 1387, 1387, 13, 13]   \n",
       "116692  [3163, 3163, 502, 3163, 3163, 3163, 3163, 3163...   \n",
       "54304                                          [166, 166]   \n",
       "6679                       [2502, 2502, 2502, 2502, 1201]   \n",
       "123065                                 [1849, 3163, 1849]   \n",
       "\n",
       "                                  sess_price_log_norm_seq  ...  \\\n",
       "15877   [0.43329915, 1.0934848, 1.8503833, 0.45006597,...  ...   \n",
       "116692  [1.0403255, 0.45006597, 0.9571255, 0.9735843, ...  ...   \n",
       "54304                              [1.5852594, 1.9646319]  ...   \n",
       "6679    [1.4471576, 1.4582802, 1.5095989, 1.5360643, 0...  ...   \n",
       "123065               [-0.98448616, 0.10355003, -0.096378]  ...   \n",
       "\n",
       "                  sess_relative_price_to_avg_category_seq  \\\n",
       "15877   [-0.6638423781795151, -0.2243163544160583, 1.0...   \n",
       "116692  [-0.14619387999067904, -0.5671669560450453, -0...   \n",
       "54304             [1.1506580296934636, 2.474092494979518]   \n",
       "6679    [0.10425298946218896, 0.11989400107802217, 0.1...   \n",
       "123065  [-0.6828770962654591, 0.2761962530269521, -0.0...   \n",
       "\n",
       "                                     sess_et_hour_sin_seq  \\\n",
       "15877   [2.6179939e-07, 2.6179939e-07, 2.6179939e-07, ...   \n",
       "116692  [2.6179939e-07, 2.6179939e-07, 2.6179939e-07, ...   \n",
       "54304                      [2.6179939e-07, 2.6179939e-07]   \n",
       "6679    [2.6179939e-07, 2.6179939e-07, 2.6179939e-07, ...   \n",
       "123065      [2.6179939e-07, 2.6179939e-07, 2.6179939e-07]   \n",
       "\n",
       "                                 sess_et_hour_cos_seq  \\\n",
       "15877                       [1.0, 1.0, 1.0, 1.0, 1.0]   \n",
       "116692  [1.0, 1.0, 1.0, 1.0, 1.0, 1.0, 1.0, 1.0, 1.0]   \n",
       "54304                                      [1.0, 1.0]   \n",
       "6679                        [1.0, 1.0, 1.0, 1.0, 1.0]   \n",
       "123065                                [1.0, 1.0, 1.0]   \n",
       "\n",
       "                                    sess_et_month_sin_seq  \\\n",
       "15877   [0.5000004, 0.5000004, 0.5000004, 0.5000004, 0...   \n",
       "116692  [0.5000004, 0.5000004, 0.5000004, 0.5000004, 0...   \n",
       "54304                              [0.5000004, 0.5000004]   \n",
       "6679    [0.5000004, 0.5000004, 0.5000004, 0.5000004, 0...   \n",
       "123065                  [0.5000004, 0.5000004, 0.5000004]   \n",
       "\n",
       "                                    sess_et_month_cos_seq  \\\n",
       "15877   [0.86602515, 0.86602515, 0.86602515, 0.8660251...   \n",
       "116692  [0.86602515, 0.86602515, 0.86602515, 0.8660251...   \n",
       "54304                            [0.86602515, 0.86602515]   \n",
       "6679    [0.86602515, 0.86602515, 0.86602515, 0.8660251...   \n",
       "123065               [0.86602515, 0.86602515, 0.86602515]   \n",
       "\n",
       "                                sess_et_dayofweek_sin_seq  \\\n",
       "15877   [0.9749277, 0.9749277, 0.9749277, 0.9749277, 0...   \n",
       "116692  [0.9749277, 0.9749277, 0.9749277, 0.9749277, 0...   \n",
       "54304                              [0.9749277, 0.9749277]   \n",
       "6679    [0.9749277, 0.9749277, 0.9749277, 0.9749277, 0...   \n",
       "123065                  [0.9749277, 0.9749277, 0.9749277]   \n",
       "\n",
       "                                sess_et_dayofweek_cos_seq  \\\n",
       "15877   [-0.22252177, -0.22252177, -0.22252177, -0.222...   \n",
       "116692  [-0.22252177, -0.22252177, -0.22252177, -0.222...   \n",
       "54304                          [-0.22252177, -0.22252177]   \n",
       "6679    [-0.22252177, -0.22252177, -0.22252177, -0.222...   \n",
       "123065            [-0.22252177, -0.22252177, -0.22252177]   \n",
       "\n",
       "                               sess_et_dayofmonth_sin_seq  \\\n",
       "15877   [2.0268341e-07, 2.0268341e-07, 2.0268341e-07, ...   \n",
       "116692  [2.0268341e-07, 2.0268341e-07, 2.0268341e-07, ...   \n",
       "54304                      [2.0268341e-07, 2.0268341e-07]   \n",
       "6679    [2.0268341e-07, 2.0268341e-07, 2.0268341e-07, ...   \n",
       "123065      [2.0268341e-07, 2.0268341e-07, 2.0268341e-07]   \n",
       "\n",
       "                           sess_et_dayofmonth_cos_seq session_size  \n",
       "15877                       [1.0, 1.0, 1.0, 1.0, 1.0]            5  \n",
       "116692  [1.0, 1.0, 1.0, 1.0, 1.0, 1.0, 1.0, 1.0, 1.0]            9  \n",
       "54304                                      [1.0, 1.0]            2  \n",
       "6679                        [1.0, 1.0, 1.0, 1.0, 1.0]            5  \n",
       "123065                                [1.0, 1.0, 1.0]            3  \n",
       "\n",
       "[5 rows x 24 columns]"
      ]
     },
     "execution_count": 86,
     "metadata": {},
     "output_type": "execute_result"
    }
   ],
   "source": [
    "# Check one file\n",
    "df = cudf.read_parquet(os.path.join(OUTPUT_FOLDER, '0001/train.parquet'))\n",
    "df.head()"
   ]
  },
  {
   "cell_type": "code",
   "execution_count": 87,
   "metadata": {},
   "outputs": [
    {
     "data": {
      "text/plain": [
       "(133105, 24)"
      ]
     },
     "execution_count": 87,
     "metadata": {},
     "output_type": "execute_result"
    }
   ],
   "source": [
    "df.shape"
   ]
  }
 ],
 "metadata": {
  "kernelspec": {
   "display_name": "Python 3",
   "language": "python",
   "name": "python3"
  },
  "language_info": {
   "codemirror_mode": {
    "name": "ipython",
    "version": 3
   },
   "file_extension": ".py",
   "mimetype": "text/x-python",
   "name": "python",
   "nbconvert_exporter": "python",
   "pygments_lexer": "ipython3",
   "version": "3.8.8"
  }
 },
 "nbformat": 4,
 "nbformat_minor": 4
}
