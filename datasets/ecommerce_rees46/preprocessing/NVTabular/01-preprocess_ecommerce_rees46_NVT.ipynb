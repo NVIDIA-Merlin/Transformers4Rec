{
 "cells": [
  {
   "cell_type": "code",
   "execution_count": 1,
   "metadata": {},
   "outputs": [],
   "source": [
    "# Copyright 2021 NVIDIA Corporation. All Rights Reserved.\n",
    "#\n",
    "# Licensed under the Apache License, Version 2.0 (the \"License\");\n",
    "# you may not use this file except in compliance with the License.\n",
    "# You may obtain a copy of the License at\n",
    "#\n",
    "#     http://www.apache.org/licenses/LICENSE-2.0\n",
    "#\n",
    "# Unless required by applicable law or agreed to in writing, software\n",
    "# distributed under the License is distributed on an \"AS IS\" BASIS,\n",
    "# WITHOUT WARRANTIES OR CONDITIONS OF ANY KIND, either express or implied.\n",
    "# See the License for the specific language governing permissions and\n",
    "# limitations under the License.\n",
    "# =============================================================================="
   ]
  },
  {
   "cell_type": "markdown",
   "metadata": {},
   "source": [
    "## Read and Process E-Commerce data with NVTabular"
   ]
  },
  {
   "cell_type": "markdown",
   "metadata": {},
   "source": [
    "In this notebook, we are going to use a subset of the publicly available [eCommerce dataset](https://www.kaggle.com/mkechinov/ecommerce-behavior-data-from-multi-category-store). The e-commerce behavior data contains 7 months data (from October 2019 to April 2020) from a large multi-category online store. Each row in the file represents an event. All events are related to products and users. Each event is like many-to-many relation between products and users.\n",
    "Data collected by Open CDP project and the source of the dataset is [REES46 Marketing Platform](https://rees46.com/)."
   ]
  },
  {
   "cell_type": "markdown",
   "metadata": {},
   "source": [
    "We use only `2019-Oct.csv` file for training our models, so you can visit this site and download the csv file: https://www.kaggle.com/mkechinov/ecommerce-behavior-data-from-multi-category-store."
   ]
  },
  {
   "cell_type": "markdown",
   "metadata": {},
   "source": [
    "In addition, we provide scripts to download additional months from Google Drive in the [01-preprocess_ecommerce_rees46_pyspark.ipynb](https://github.com/NVIDIA-Merlin/Transformers4Rec/blob/main/datasets/ecommerce_rees46/preprocessing/pyspark/01-preprocess_ecommerce_rees46_pyspark.ipynb) notebook. You can visit the notebook to use the download scripts from google drive."
   ]
  },
  {
   "cell_type": "markdown",
   "metadata": {},
   "source": [
    "- Import the required libraries"
   ]
  },
  {
   "cell_type": "code",
   "execution_count": 2,
   "metadata": {},
   "outputs": [],
   "source": [
    "import os\n",
    "import numpy as np \n",
    "import pandas as pd\n",
    "import gc\n",
    "import shutil\n",
    "import glob\n",
    "\n",
    "import cudf\n",
    "import cupy\n",
    "import nvtabular as nvt\n",
    "from nvtabular import ColumnGroup"
   ]
  },
  {
   "cell_type": "markdown",
   "metadata": {},
   "source": [
    "## Define Input/Output Directories"
   ]
  },
  {
   "cell_type": "markdown",
   "metadata": {},
   "source": [
    "A this point we expect that you have already downloaded the `2019-Oct.csv` dataset and stored it in the `INPUT_DATA_DIR` as defined below."
   ]
  },
  {
   "cell_type": "code",
   "execution_count": 3,
   "metadata": {},
   "outputs": [],
   "source": [
    "# define some information about where to get our data\n",
    "BASE_DIR = os.environ.get(\"BASE_DIR\", \"/workspace/\")\n",
    "INPUT_DATA_DIR = os.environ.get(\"INPUT_DATA_DIR\", BASE_DIR + \"ecommerce/\")\n",
    "OUTPUT_DATA_DIR = os.environ.get(\"OUTPUT_DATA_DIR\", BASE_DIR + \"ecommerce/output_tmp/\")\n",
    "\n",
    "INPUT_PATH= os.path.join(INPUT_DATA_DIR, 'input/')\n",
    "!mkdir -p $INPUT_PATH"
   ]
  },
  {
   "cell_type": "markdown",
   "metadata": {},
   "source": [
    "## Configurations"
   ]
  },
  {
   "cell_type": "markdown",
   "metadata": {},
   "source": [
    "We will only use 2019-Oct dataset."
   ]
  },
  {
   "cell_type": "code",
   "execution_count": 4,
   "metadata": {},
   "outputs": [],
   "source": [
    "selected_months = [\"2019-Oct.csv\"]"
   ]
  },
  {
   "cell_type": "code",
   "execution_count": 5,
   "metadata": {},
   "outputs": [
    {
     "data": {
      "text/plain": [
       "['/workspace/ecommerce/2019-Oct.csv']"
      ]
     },
     "execution_count": 5,
     "metadata": {},
     "output_type": "execute_result"
    }
   ],
   "source": [
    "files_paths = [os.path.join(INPUT_DATA_DIR, file) for file in selected_months]\n",
    "files_paths"
   ]
  },
  {
   "cell_type": "markdown",
   "metadata": {},
   "source": [
    "## Read Data via cuDF from CSV"
   ]
  },
  {
   "cell_type": "code",
   "execution_count": 6,
   "metadata": {},
   "outputs": [
    {
     "name": "stdout",
     "output_type": "stream",
     "text": [
      "CPU times: user 2.22 s, sys: 2.16 s, total: 4.37 s\n",
      "Wall time: 4.74 s\n"
     ]
    },
    {
     "data": {
      "text/html": [
       "<div>\n",
       "<style scoped>\n",
       "    .dataframe tbody tr th:only-of-type {\n",
       "        vertical-align: middle;\n",
       "    }\n",
       "\n",
       "    .dataframe tbody tr th {\n",
       "        vertical-align: top;\n",
       "    }\n",
       "\n",
       "    .dataframe thead th {\n",
       "        text-align: right;\n",
       "    }\n",
       "</style>\n",
       "<table border=\"1\" class=\"dataframe\">\n",
       "  <thead>\n",
       "    <tr style=\"text-align: right;\">\n",
       "      <th></th>\n",
       "      <th>event_time</th>\n",
       "      <th>event_type</th>\n",
       "      <th>product_id</th>\n",
       "      <th>category_id</th>\n",
       "      <th>category_code</th>\n",
       "      <th>brand</th>\n",
       "      <th>price</th>\n",
       "      <th>user_id</th>\n",
       "      <th>user_session</th>\n",
       "    </tr>\n",
       "  </thead>\n",
       "  <tbody>\n",
       "    <tr>\n",
       "      <th>0</th>\n",
       "      <td>2019-10-01 00:00:00 UTC</td>\n",
       "      <td>view</td>\n",
       "      <td>44600062</td>\n",
       "      <td>2103807459595387724</td>\n",
       "      <td>&lt;NA&gt;</td>\n",
       "      <td>shiseido</td>\n",
       "      <td>35.79</td>\n",
       "      <td>541312140</td>\n",
       "      <td>72d76fde-8bb3-4e00-8c23-a032dfed738c</td>\n",
       "    </tr>\n",
       "    <tr>\n",
       "      <th>1</th>\n",
       "      <td>2019-10-01 00:00:00 UTC</td>\n",
       "      <td>view</td>\n",
       "      <td>3900821</td>\n",
       "      <td>2053013552326770905</td>\n",
       "      <td>appliances.environment.water_heater</td>\n",
       "      <td>aqua</td>\n",
       "      <td>33.20</td>\n",
       "      <td>554748717</td>\n",
       "      <td>9333dfbd-b87a-4708-9857-6336556b0fcc</td>\n",
       "    </tr>\n",
       "    <tr>\n",
       "      <th>2</th>\n",
       "      <td>2019-10-01 00:00:01 UTC</td>\n",
       "      <td>view</td>\n",
       "      <td>17200506</td>\n",
       "      <td>2053013559792632471</td>\n",
       "      <td>furniture.living_room.sofa</td>\n",
       "      <td>&lt;NA&gt;</td>\n",
       "      <td>543.10</td>\n",
       "      <td>519107250</td>\n",
       "      <td>566511c2-e2e3-422b-b695-cf8e6e792ca8</td>\n",
       "    </tr>\n",
       "    <tr>\n",
       "      <th>3</th>\n",
       "      <td>2019-10-01 00:00:01 UTC</td>\n",
       "      <td>view</td>\n",
       "      <td>1307067</td>\n",
       "      <td>2053013558920217191</td>\n",
       "      <td>computers.notebook</td>\n",
       "      <td>lenovo</td>\n",
       "      <td>251.74</td>\n",
       "      <td>550050854</td>\n",
       "      <td>7c90fc70-0e80-4590-96f3-13c02c18c713</td>\n",
       "    </tr>\n",
       "    <tr>\n",
       "      <th>4</th>\n",
       "      <td>2019-10-01 00:00:04 UTC</td>\n",
       "      <td>view</td>\n",
       "      <td>1004237</td>\n",
       "      <td>2053013555631882655</td>\n",
       "      <td>electronics.smartphone</td>\n",
       "      <td>apple</td>\n",
       "      <td>1081.98</td>\n",
       "      <td>535871217</td>\n",
       "      <td>c6bd7419-2748-4c56-95b4-8cec9ff8b80d</td>\n",
       "    </tr>\n",
       "  </tbody>\n",
       "</table>\n",
       "</div>"
      ],
      "text/plain": [
       "                event_time event_type  product_id          category_id  \\\n",
       "0  2019-10-01 00:00:00 UTC       view    44600062  2103807459595387724   \n",
       "1  2019-10-01 00:00:00 UTC       view     3900821  2053013552326770905   \n",
       "2  2019-10-01 00:00:01 UTC       view    17200506  2053013559792632471   \n",
       "3  2019-10-01 00:00:01 UTC       view     1307067  2053013558920217191   \n",
       "4  2019-10-01 00:00:04 UTC       view     1004237  2053013555631882655   \n",
       "\n",
       "                         category_code     brand    price    user_id  \\\n",
       "0                                 <NA>  shiseido    35.79  541312140   \n",
       "1  appliances.environment.water_heater      aqua    33.20  554748717   \n",
       "2           furniture.living_room.sofa      <NA>   543.10  519107250   \n",
       "3                   computers.notebook    lenovo   251.74  550050854   \n",
       "4               electronics.smartphone     apple  1081.98  535871217   \n",
       "\n",
       "                           user_session  \n",
       "0  72d76fde-8bb3-4e00-8c23-a032dfed738c  \n",
       "1  9333dfbd-b87a-4708-9857-6336556b0fcc  \n",
       "2  566511c2-e2e3-422b-b695-cf8e6e792ca8  \n",
       "3  7c90fc70-0e80-4590-96f3-13c02c18c713  \n",
       "4  c6bd7419-2748-4c56-95b4-8cec9ff8b80d  "
      ]
     },
     "execution_count": 6,
     "metadata": {},
     "output_type": "execute_result"
    }
   ],
   "source": [
    "%%time\n",
    "raw_df = cudf.read_csv(files_paths[0]) \n",
    "raw_df.head()"
   ]
  },
  {
   "cell_type": "code",
   "execution_count": 7,
   "metadata": {},
   "outputs": [
    {
     "data": {
      "text/plain": [
       "(42448764, 9)"
      ]
     },
     "execution_count": 7,
     "metadata": {},
     "output_type": "execute_result"
    }
   ],
   "source": [
    "raw_df.shape"
   ]
  },
  {
   "cell_type": "markdown",
   "metadata": {},
   "source": [
    "## PREPROCESSING"
   ]
  },
  {
   "cell_type": "markdown",
   "metadata": {},
   "source": [
    "### Convert timestamp from datetime"
   ]
  },
  {
   "cell_type": "code",
   "execution_count": 8,
   "metadata": {},
   "outputs": [
    {
     "data": {
      "text/html": [
       "<div>\n",
       "<style scoped>\n",
       "    .dataframe tbody tr th:only-of-type {\n",
       "        vertical-align: middle;\n",
       "    }\n",
       "\n",
       "    .dataframe tbody tr th {\n",
       "        vertical-align: top;\n",
       "    }\n",
       "\n",
       "    .dataframe thead th {\n",
       "        text-align: right;\n",
       "    }\n",
       "</style>\n",
       "<table border=\"1\" class=\"dataframe\">\n",
       "  <thead>\n",
       "    <tr style=\"text-align: right;\">\n",
       "      <th></th>\n",
       "      <th>event_time</th>\n",
       "      <th>event_type</th>\n",
       "      <th>product_id</th>\n",
       "      <th>category_id</th>\n",
       "      <th>category_code</th>\n",
       "      <th>brand</th>\n",
       "      <th>price</th>\n",
       "      <th>user_id</th>\n",
       "      <th>user_session</th>\n",
       "      <th>event_time_dt</th>\n",
       "      <th>event_time_ts</th>\n",
       "    </tr>\n",
       "  </thead>\n",
       "  <tbody>\n",
       "    <tr>\n",
       "      <th>0</th>\n",
       "      <td>2019-10-01 00:00:00 UTC</td>\n",
       "      <td>view</td>\n",
       "      <td>44600062</td>\n",
       "      <td>2103807459595387724</td>\n",
       "      <td>&lt;NA&gt;</td>\n",
       "      <td>shiseido</td>\n",
       "      <td>35.79</td>\n",
       "      <td>541312140</td>\n",
       "      <td>72d76fde-8bb3-4e00-8c23-a032dfed738c</td>\n",
       "      <td>2019-10-01 00:00:00</td>\n",
       "      <td>1569888000</td>\n",
       "    </tr>\n",
       "    <tr>\n",
       "      <th>1</th>\n",
       "      <td>2019-10-01 00:00:00 UTC</td>\n",
       "      <td>view</td>\n",
       "      <td>3900821</td>\n",
       "      <td>2053013552326770905</td>\n",
       "      <td>appliances.environment.water_heater</td>\n",
       "      <td>aqua</td>\n",
       "      <td>33.20</td>\n",
       "      <td>554748717</td>\n",
       "      <td>9333dfbd-b87a-4708-9857-6336556b0fcc</td>\n",
       "      <td>2019-10-01 00:00:00</td>\n",
       "      <td>1569888000</td>\n",
       "    </tr>\n",
       "    <tr>\n",
       "      <th>2</th>\n",
       "      <td>2019-10-01 00:00:01 UTC</td>\n",
       "      <td>view</td>\n",
       "      <td>17200506</td>\n",
       "      <td>2053013559792632471</td>\n",
       "      <td>furniture.living_room.sofa</td>\n",
       "      <td>&lt;NA&gt;</td>\n",
       "      <td>543.10</td>\n",
       "      <td>519107250</td>\n",
       "      <td>566511c2-e2e3-422b-b695-cf8e6e792ca8</td>\n",
       "      <td>2019-10-01 00:00:01</td>\n",
       "      <td>1569888001</td>\n",
       "    </tr>\n",
       "    <tr>\n",
       "      <th>3</th>\n",
       "      <td>2019-10-01 00:00:01 UTC</td>\n",
       "      <td>view</td>\n",
       "      <td>1307067</td>\n",
       "      <td>2053013558920217191</td>\n",
       "      <td>computers.notebook</td>\n",
       "      <td>lenovo</td>\n",
       "      <td>251.74</td>\n",
       "      <td>550050854</td>\n",
       "      <td>7c90fc70-0e80-4590-96f3-13c02c18c713</td>\n",
       "      <td>2019-10-01 00:00:01</td>\n",
       "      <td>1569888001</td>\n",
       "    </tr>\n",
       "    <tr>\n",
       "      <th>4</th>\n",
       "      <td>2019-10-01 00:00:04 UTC</td>\n",
       "      <td>view</td>\n",
       "      <td>1004237</td>\n",
       "      <td>2053013555631882655</td>\n",
       "      <td>electronics.smartphone</td>\n",
       "      <td>apple</td>\n",
       "      <td>1081.98</td>\n",
       "      <td>535871217</td>\n",
       "      <td>c6bd7419-2748-4c56-95b4-8cec9ff8b80d</td>\n",
       "      <td>2019-10-01 00:00:04</td>\n",
       "      <td>1569888004</td>\n",
       "    </tr>\n",
       "  </tbody>\n",
       "</table>\n",
       "</div>"
      ],
      "text/plain": [
       "                event_time event_type  product_id          category_id  \\\n",
       "0  2019-10-01 00:00:00 UTC       view    44600062  2103807459595387724   \n",
       "1  2019-10-01 00:00:00 UTC       view     3900821  2053013552326770905   \n",
       "2  2019-10-01 00:00:01 UTC       view    17200506  2053013559792632471   \n",
       "3  2019-10-01 00:00:01 UTC       view     1307067  2053013558920217191   \n",
       "4  2019-10-01 00:00:04 UTC       view     1004237  2053013555631882655   \n",
       "\n",
       "                         category_code     brand    price    user_id  \\\n",
       "0                                 <NA>  shiseido    35.79  541312140   \n",
       "1  appliances.environment.water_heater      aqua    33.20  554748717   \n",
       "2           furniture.living_room.sofa      <NA>   543.10  519107250   \n",
       "3                   computers.notebook    lenovo   251.74  550050854   \n",
       "4               electronics.smartphone     apple  1081.98  535871217   \n",
       "\n",
       "                           user_session       event_time_dt  event_time_ts  \n",
       "0  72d76fde-8bb3-4e00-8c23-a032dfed738c 2019-10-01 00:00:00     1569888000  \n",
       "1  9333dfbd-b87a-4708-9857-6336556b0fcc 2019-10-01 00:00:00     1569888000  \n",
       "2  566511c2-e2e3-422b-b695-cf8e6e792ca8 2019-10-01 00:00:01     1569888001  \n",
       "3  7c90fc70-0e80-4590-96f3-13c02c18c713 2019-10-01 00:00:01     1569888001  \n",
       "4  c6bd7419-2748-4c56-95b4-8cec9ff8b80d 2019-10-01 00:00:04     1569888004  "
      ]
     },
     "execution_count": 8,
     "metadata": {},
     "output_type": "execute_result"
    }
   ],
   "source": [
    "raw_df['event_time_dt'] = raw_df['event_time'].astype('datetime64[s]')\n",
    "raw_df['event_time_ts']= raw_df['event_time_dt'].astype('int')\n",
    "raw_df.head()"
   ]
  },
  {
   "cell_type": "code",
   "execution_count": 9,
   "metadata": {},
   "outputs": [
    {
     "data": {
      "text/plain": [
       "event_time       False\n",
       "event_type       False\n",
       "product_id       False\n",
       "category_id      False\n",
       "category_code     True\n",
       "brand             True\n",
       "price            False\n",
       "user_id          False\n",
       "user_session      True\n",
       "event_time_dt    False\n",
       "event_time_ts    False\n",
       "dtype: bool"
      ]
     },
     "execution_count": 9,
     "metadata": {},
     "output_type": "execute_result"
    }
   ],
   "source": [
    "# check out the columns with nulls\n",
    "raw_df.isnull().any()"
   ]
  },
  {
   "cell_type": "code",
   "execution_count": 10,
   "metadata": {},
   "outputs": [
    {
     "data": {
      "text/plain": [
       "42448762"
      ]
     },
     "execution_count": 10,
     "metadata": {},
     "output_type": "execute_result"
    }
   ],
   "source": [
    "# Remove rows where `user_session` is null.\n",
    "raw_df = raw_df[raw_df['user_session'].isnull()==False]\n",
    "len(raw_df)"
   ]
  },
  {
   "cell_type": "code",
   "execution_count": 11,
   "metadata": {},
   "outputs": [
    {
     "data": {
      "text/plain": [
       "event_time              object\n",
       "event_type              object\n",
       "product_id               int64\n",
       "category_id              int64\n",
       "category_code           object\n",
       "brand                   object\n",
       "price                  float64\n",
       "user_id                  int64\n",
       "user_session            object\n",
       "event_time_dt    datetime64[s]\n",
       "event_time_ts            int64\n",
       "dtype: object"
      ]
     },
     "execution_count": 11,
     "metadata": {},
     "output_type": "execute_result"
    }
   ],
   "source": [
    "raw_df.dtypes"
   ]
  },
  {
   "cell_type": "markdown",
   "metadata": {},
   "source": [
    "### Categorify `user_session` column"
   ]
  },
  {
   "cell_type": "code",
   "execution_count": 12,
   "metadata": {},
   "outputs": [
    {
     "data": {
      "text/plain": [
       "['event_time',\n",
       " 'event_type',\n",
       " 'product_id',\n",
       " 'category_id',\n",
       " 'category_code',\n",
       " 'brand',\n",
       " 'price',\n",
       " 'user_id',\n",
       " 'event_time_dt',\n",
       " 'event_time_ts']"
      ]
     },
     "execution_count": 12,
     "metadata": {},
     "output_type": "execute_result"
    }
   ],
   "source": [
    "cols = list(raw_df.columns)\n",
    "cols.remove('user_session')\n",
    "cols"
   ]
  },
  {
   "cell_type": "code",
   "execution_count": 13,
   "metadata": {},
   "outputs": [],
   "source": [
    "# load data \n",
    "df_event = nvt.Dataset(raw_df) \n",
    "# categorify features \n",
    "cat_feats = ['user_session'] >> nvt.ops.Categorify()\n",
    "\n",
    "workflow = nvt.Workflow(cols + cat_feats)\n",
    "workflow.fit(df_event)\n",
    "df = workflow.transform(df_event).to_ddf().compute()"
   ]
  },
  {
   "cell_type": "code",
   "execution_count": 14,
   "metadata": {},
   "outputs": [],
   "source": [
    "df = df.drop(['event_time'],  axis=1)"
   ]
  },
  {
   "cell_type": "code",
   "execution_count": 15,
   "metadata": {},
   "outputs": [
    {
     "data": {
      "text/plain": [
       "user_session             int64\n",
       "event_type              object\n",
       "product_id               int64\n",
       "category_id              int64\n",
       "category_code           object\n",
       "brand                   object\n",
       "price                  float64\n",
       "user_id                  int64\n",
       "event_time_dt    datetime64[s]\n",
       "event_time_ts            int64\n",
       "dtype: object"
      ]
     },
     "execution_count": 15,
     "metadata": {},
     "output_type": "execute_result"
    }
   ],
   "source": [
    "df.dtypes"
   ]
  },
  {
   "cell_type": "code",
   "execution_count": 16,
   "metadata": {},
   "outputs": [
    {
     "data": {
      "text/html": [
       "<div>\n",
       "<style scoped>\n",
       "    .dataframe tbody tr th:only-of-type {\n",
       "        vertical-align: middle;\n",
       "    }\n",
       "\n",
       "    .dataframe tbody tr th {\n",
       "        vertical-align: top;\n",
       "    }\n",
       "\n",
       "    .dataframe thead th {\n",
       "        text-align: right;\n",
       "    }\n",
       "</style>\n",
       "<table border=\"1\" class=\"dataframe\">\n",
       "  <thead>\n",
       "    <tr style=\"text-align: right;\">\n",
       "      <th></th>\n",
       "      <th>user_session</th>\n",
       "      <th>event_type</th>\n",
       "      <th>product_id</th>\n",
       "      <th>category_id</th>\n",
       "      <th>category_code</th>\n",
       "      <th>brand</th>\n",
       "      <th>price</th>\n",
       "      <th>user_id</th>\n",
       "      <th>event_time_dt</th>\n",
       "      <th>event_time_ts</th>\n",
       "    </tr>\n",
       "  </thead>\n",
       "  <tbody>\n",
       "    <tr>\n",
       "      <th>0</th>\n",
       "      <td>5126085</td>\n",
       "      <td>view</td>\n",
       "      <td>44600062</td>\n",
       "      <td>2103807459595387724</td>\n",
       "      <td>&lt;NA&gt;</td>\n",
       "      <td>shiseido</td>\n",
       "      <td>35.79</td>\n",
       "      <td>541312140</td>\n",
       "      <td>2019-10-01 00:00:00</td>\n",
       "      <td>1569888000</td>\n",
       "    </tr>\n",
       "    <tr>\n",
       "      <th>1</th>\n",
       "      <td>7854470</td>\n",
       "      <td>view</td>\n",
       "      <td>3900821</td>\n",
       "      <td>2053013552326770905</td>\n",
       "      <td>appliances.environment.water_heater</td>\n",
       "      <td>aqua</td>\n",
       "      <td>33.20</td>\n",
       "      <td>554748717</td>\n",
       "      <td>2019-10-01 00:00:00</td>\n",
       "      <td>1569888000</td>\n",
       "    </tr>\n",
       "    <tr>\n",
       "      <th>2</th>\n",
       "      <td>730655</td>\n",
       "      <td>view</td>\n",
       "      <td>17200506</td>\n",
       "      <td>2053013559792632471</td>\n",
       "      <td>furniture.living_room.sofa</td>\n",
       "      <td>&lt;NA&gt;</td>\n",
       "      <td>543.10</td>\n",
       "      <td>519107250</td>\n",
       "      <td>2019-10-01 00:00:01</td>\n",
       "      <td>1569888001</td>\n",
       "    </tr>\n",
       "    <tr>\n",
       "      <th>3</th>\n",
       "      <td>1637332</td>\n",
       "      <td>view</td>\n",
       "      <td>1307067</td>\n",
       "      <td>2053013558920217191</td>\n",
       "      <td>computers.notebook</td>\n",
       "      <td>lenovo</td>\n",
       "      <td>251.74</td>\n",
       "      <td>550050854</td>\n",
       "      <td>2019-10-01 00:00:01</td>\n",
       "      <td>1569888001</td>\n",
       "    </tr>\n",
       "    <tr>\n",
       "      <th>4</th>\n",
       "      <td>4202155</td>\n",
       "      <td>view</td>\n",
       "      <td>1004237</td>\n",
       "      <td>2053013555631882655</td>\n",
       "      <td>electronics.smartphone</td>\n",
       "      <td>apple</td>\n",
       "      <td>1081.98</td>\n",
       "      <td>535871217</td>\n",
       "      <td>2019-10-01 00:00:04</td>\n",
       "      <td>1569888004</td>\n",
       "    </tr>\n",
       "  </tbody>\n",
       "</table>\n",
       "</div>"
      ],
      "text/plain": [
       "   user_session event_type  product_id          category_id  \\\n",
       "0       5126085       view    44600062  2103807459595387724   \n",
       "1       7854470       view     3900821  2053013552326770905   \n",
       "2        730655       view    17200506  2053013559792632471   \n",
       "3       1637332       view     1307067  2053013558920217191   \n",
       "4       4202155       view     1004237  2053013555631882655   \n",
       "\n",
       "                         category_code     brand    price    user_id  \\\n",
       "0                                 <NA>  shiseido    35.79  541312140   \n",
       "1  appliances.environment.water_heater      aqua    33.20  554748717   \n",
       "2           furniture.living_room.sofa      <NA>   543.10  519107250   \n",
       "3                   computers.notebook    lenovo   251.74  550050854   \n",
       "4               electronics.smartphone     apple  1081.98  535871217   \n",
       "\n",
       "        event_time_dt  event_time_ts  \n",
       "0 2019-10-01 00:00:00     1569888000  \n",
       "1 2019-10-01 00:00:00     1569888000  \n",
       "2 2019-10-01 00:00:01     1569888001  \n",
       "3 2019-10-01 00:00:01     1569888001  \n",
       "4 2019-10-01 00:00:04     1569888004  "
      ]
     },
     "execution_count": 16,
     "metadata": {},
     "output_type": "execute_result"
    }
   ],
   "source": [
    "df.head()"
   ]
  },
  {
   "cell_type": "code",
   "execution_count": 17,
   "metadata": {},
   "outputs": [
    {
     "data": {
      "text/plain": [
       "(42448762, 10)"
      ]
     },
     "execution_count": 17,
     "metadata": {},
     "output_type": "execute_result"
    }
   ],
   "source": [
    "df.shape"
   ]
  },
  {
   "cell_type": "code",
   "execution_count": 18,
   "metadata": {},
   "outputs": [],
   "source": [
    "raw_df = None\n",
    "del(raw_df)"
   ]
  },
  {
   "cell_type": "code",
   "execution_count": 19,
   "metadata": {},
   "outputs": [
    {
     "data": {
      "text/plain": [
       "167"
      ]
     },
     "execution_count": 19,
     "metadata": {},
     "output_type": "execute_result"
    }
   ],
   "source": [
    "gc.collect()"
   ]
  },
  {
   "cell_type": "markdown",
   "metadata": {},
   "source": [
    "### Removing repeated (user, item) interactions"
   ]
  },
  {
   "cell_type": "code",
   "execution_count": 20,
   "metadata": {},
   "outputs": [
    {
     "name": "stdout",
     "output_type": "stream",
     "text": [
      "Count with in-session repeated interactions: 42448762\n",
      "Count after removed in-session repeated interactions: 30733301\n",
      "CPU times: user 461 ms, sys: 467 ms, total: 929 ms\n",
      "Wall time: 1.05 s\n"
     ]
    },
    {
     "data": {
      "text/plain": [
       "0"
      ]
     },
     "execution_count": 20,
     "metadata": {},
     "output_type": "execute_result"
    }
   ],
   "source": [
    "%%time\n",
    "\n",
    "# Keeps repeated interactions on the same items, removing only consecutive interactions, \n",
    "# because it might be due to browser tab refreshes or different interaction types (e.g. click, add-to-card, purchase)\n",
    "\n",
    "df = df.sort_values(['user_session', 'event_time_ts']).reset_index(drop=True)\n",
    "\n",
    "print(\"Count with in-session repeated interactions: {}\".format(len(df)))\n",
    "# Sorts the dataframe by session and timestamp, to remove consecutive repetitions\n",
    "df['product_id_past'] = df['product_id'].shift(1).fillna(0)\n",
    "df['session_id_past'] = df['user_session'].shift(1).fillna(0)\n",
    "#Keeping only no consecutive repeated in session interactions\n",
    "df = df[~((df['user_session'] == df['session_id_past']) & \\\n",
    "             (df['product_id'] == df['product_id_past']))]\n",
    "print(\"Count after removed in-session repeated interactions: {}\".format(len(df)))\n",
    "del(df['product_id_past'])\n",
    "del(df['session_id_past'])\n",
    "\n",
    "gc.collect()"
   ]
  },
  {
   "cell_type": "markdown",
   "metadata": {},
   "source": [
    "### Include the item first time seen feature (for recency calculation)¶"
   ]
  },
  {
   "cell_type": "code",
   "execution_count": 21,
   "metadata": {},
   "outputs": [
    {
     "data": {
      "text/plain": [
       "0"
      ]
     },
     "execution_count": 21,
     "metadata": {},
     "output_type": "execute_result"
    }
   ],
   "source": [
    "item_first_interaction_df = df.groupby('product_id').agg({'event_time_ts': 'min'}).reset_index().rename(columns={'event_time_ts': 'prod_first_event_time_ts'})\n",
    "item_first_interaction_df['prod_first_event_time_ts'] = item_first_interaction_df['prod_first_event_time_ts'].astype('datetime64[s]')\n",
    "item_first_interaction_df.head()\n",
    "gc.collect()"
   ]
  },
  {
   "cell_type": "code",
   "execution_count": 22,
   "metadata": {},
   "outputs": [],
   "source": [
    "df = df.merge(item_first_interaction_df, on=['product_id'], how='left').reset_index(drop=True)"
   ]
  },
  {
   "cell_type": "code",
   "execution_count": 23,
   "metadata": {},
   "outputs": [
    {
     "data": {
      "text/html": [
       "<div>\n",
       "<style scoped>\n",
       "    .dataframe tbody tr th:only-of-type {\n",
       "        vertical-align: middle;\n",
       "    }\n",
       "\n",
       "    .dataframe tbody tr th {\n",
       "        vertical-align: top;\n",
       "    }\n",
       "\n",
       "    .dataframe thead th {\n",
       "        text-align: right;\n",
       "    }\n",
       "</style>\n",
       "<table border=\"1\" class=\"dataframe\">\n",
       "  <thead>\n",
       "    <tr style=\"text-align: right;\">\n",
       "      <th></th>\n",
       "      <th>user_session</th>\n",
       "      <th>event_type</th>\n",
       "      <th>product_id</th>\n",
       "      <th>category_id</th>\n",
       "      <th>category_code</th>\n",
       "      <th>brand</th>\n",
       "      <th>price</th>\n",
       "      <th>user_id</th>\n",
       "      <th>event_time_dt</th>\n",
       "      <th>event_time_ts</th>\n",
       "      <th>prod_first_event_time_ts</th>\n",
       "    </tr>\n",
       "  </thead>\n",
       "  <tbody>\n",
       "    <tr>\n",
       "      <th>0</th>\n",
       "      <td>94</td>\n",
       "      <td>view</td>\n",
       "      <td>26202560</td>\n",
       "      <td>2053013563693335403</td>\n",
       "      <td>&lt;NA&gt;</td>\n",
       "      <td>&lt;NA&gt;</td>\n",
       "      <td>388.49</td>\n",
       "      <td>512892706</td>\n",
       "      <td>2019-10-15 17:16:18</td>\n",
       "      <td>1571159778</td>\n",
       "      <td>2019-10-01 10:28:02</td>\n",
       "    </tr>\n",
       "    <tr>\n",
       "      <th>1</th>\n",
       "      <td>94</td>\n",
       "      <td>view</td>\n",
       "      <td>26203994</td>\n",
       "      <td>2053013563693335403</td>\n",
       "      <td>&lt;NA&gt;</td>\n",
       "      <td>&lt;NA&gt;</td>\n",
       "      <td>157.79</td>\n",
       "      <td>512892706</td>\n",
       "      <td>2019-10-15 17:16:24</td>\n",
       "      <td>1571159784</td>\n",
       "      <td>2019-10-01 14:51:00</td>\n",
       "    </tr>\n",
       "    <tr>\n",
       "      <th>2</th>\n",
       "      <td>94</td>\n",
       "      <td>view</td>\n",
       "      <td>26203430</td>\n",
       "      <td>2053013563693335403</td>\n",
       "      <td>&lt;NA&gt;</td>\n",
       "      <td>&lt;NA&gt;</td>\n",
       "      <td>388.45</td>\n",
       "      <td>512892706</td>\n",
       "      <td>2019-10-15 17:16:39</td>\n",
       "      <td>1571159799</td>\n",
       "      <td>2019-10-01 03:59:14</td>\n",
       "    </tr>\n",
       "    <tr>\n",
       "      <th>3</th>\n",
       "      <td>94</td>\n",
       "      <td>view</td>\n",
       "      <td>26203994</td>\n",
       "      <td>2053013563693335403</td>\n",
       "      <td>&lt;NA&gt;</td>\n",
       "      <td>&lt;NA&gt;</td>\n",
       "      <td>157.79</td>\n",
       "      <td>512892706</td>\n",
       "      <td>2019-10-15 17:16:41</td>\n",
       "      <td>1571159801</td>\n",
       "      <td>2019-10-01 14:51:00</td>\n",
       "    </tr>\n",
       "    <tr>\n",
       "      <th>4</th>\n",
       "      <td>94</td>\n",
       "      <td>view</td>\n",
       "      <td>26203727</td>\n",
       "      <td>2053013563693335403</td>\n",
       "      <td>&lt;NA&gt;</td>\n",
       "      <td>lucente</td>\n",
       "      <td>317.38</td>\n",
       "      <td>512892706</td>\n",
       "      <td>2019-10-15 17:16:55</td>\n",
       "      <td>1571159815</td>\n",
       "      <td>2019-10-01 03:37:36</td>\n",
       "    </tr>\n",
       "  </tbody>\n",
       "</table>\n",
       "</div>"
      ],
      "text/plain": [
       "   user_session event_type  product_id          category_id category_code  \\\n",
       "0            94       view    26202560  2053013563693335403          <NA>   \n",
       "1            94       view    26203994  2053013563693335403          <NA>   \n",
       "2            94       view    26203430  2053013563693335403          <NA>   \n",
       "3            94       view    26203994  2053013563693335403          <NA>   \n",
       "4            94       view    26203727  2053013563693335403          <NA>   \n",
       "\n",
       "     brand   price    user_id       event_time_dt  event_time_ts  \\\n",
       "0     <NA>  388.49  512892706 2019-10-15 17:16:18     1571159778   \n",
       "1     <NA>  157.79  512892706 2019-10-15 17:16:24     1571159784   \n",
       "2     <NA>  388.45  512892706 2019-10-15 17:16:39     1571159799   \n",
       "3     <NA>  157.79  512892706 2019-10-15 17:16:41     1571159801   \n",
       "4  lucente  317.38  512892706 2019-10-15 17:16:55     1571159815   \n",
       "\n",
       "  prod_first_event_time_ts  \n",
       "0      2019-10-01 10:28:02  \n",
       "1      2019-10-01 14:51:00  \n",
       "2      2019-10-01 03:59:14  \n",
       "3      2019-10-01 14:51:00  \n",
       "4      2019-10-01 03:37:36  "
      ]
     },
     "execution_count": 23,
     "metadata": {},
     "output_type": "execute_result"
    }
   ],
   "source": [
    "df.head()"
   ]
  },
  {
   "cell_type": "markdown",
   "metadata": {},
   "source": [
    "- Check out if there is any column with missing (null) values."
   ]
  },
  {
   "cell_type": "code",
   "execution_count": 24,
   "metadata": {},
   "outputs": [
    {
     "data": {
      "text/plain": [
       "user_session                False\n",
       "event_type                  False\n",
       "product_id                  False\n",
       "category_id                 False\n",
       "category_code                True\n",
       "brand                        True\n",
       "price                       False\n",
       "user_id                     False\n",
       "event_time_dt               False\n",
       "event_time_ts               False\n",
       "prod_first_event_time_ts    False\n",
       "dtype: bool"
      ]
     },
     "execution_count": 24,
     "metadata": {},
     "output_type": "execute_result"
    }
   ],
   "source": [
    "df.isnull().any()"
   ]
  },
  {
   "cell_type": "code",
   "execution_count": 25,
   "metadata": {},
   "outputs": [
    {
     "data": {
      "text/plain": [
       "0"
      ]
     },
     "execution_count": 25,
     "metadata": {},
     "output_type": "execute_result"
    }
   ],
   "source": [
    "del(item_first_interaction_df)\n",
    "item_first_interaction_df=None\n",
    "gc.collect()"
   ]
  },
  {
   "cell_type": "markdown",
   "metadata": {},
   "source": [
    "You need to run this cell only once and then comment out if you would like to rerun the same pipeline. We'll use this saved parquet file below in the NVTabular workflow."
   ]
  },
  {
   "cell_type": "code",
   "execution_count": 26,
   "metadata": {},
   "outputs": [],
   "source": [
    "# save df as parquet files on disk\n",
    "df.to_parquet(os.path.join(INPUT_PATH, 'input.parquet'))"
   ]
  },
  {
   "cell_type": "markdown",
   "metadata": {},
   "source": [
    "## FEATURE ENGINEERING with NVTabular"
   ]
  },
  {
   "cell_type": "markdown",
   "metadata": {},
   "source": [
    "### Categorical features encoding\n"
   ]
  },
  {
   "cell_type": "code",
   "execution_count": 27,
   "metadata": {},
   "outputs": [],
   "source": [
    "cols= ['event_time_dt', 'event_time_ts', 'user_session']"
   ]
  },
  {
   "cell_type": "code",
   "execution_count": 28,
   "metadata": {},
   "outputs": [],
   "source": [
    "# categorify categorical features \n",
    "# since we are using 0 for padding later on, let's fill columns with NA strings with 'unknown' value.\n",
    "\n",
    "fill_na_categs = ['category_code', 'brand'] >> nvt.ops.FillMissing(fill_val='unknown')\n",
    "cat_feats = fill_na_categs + ['user_id', 'product_id', 'category_id', 'event_type'] >> nvt.ops.Rename(postfix = '_idx') >> nvt.ops.Categorify()"
   ]
  },
  {
   "cell_type": "code",
   "execution_count": 29,
   "metadata": {},
   "outputs": [
    {
     "data": {
      "text/plain": [
       "['category_code_idx',\n",
       " 'brand_idx',\n",
       " 'user_id_idx',\n",
       " 'product_id_idx',\n",
       " 'category_id_idx',\n",
       " 'event_type_idx']"
      ]
     },
     "execution_count": 29,
     "metadata": {},
     "output_type": "execute_result"
    }
   ],
   "source": [
    "cat_feats.columns"
   ]
  },
  {
   "cell_type": "markdown",
   "metadata": {},
   "source": [
    "### Extract Temporal Features"
   ]
  },
  {
   "cell_type": "code",
   "execution_count": 30,
   "metadata": {},
   "outputs": [],
   "source": [
    "# calculate item recency \n",
    "# create custom op\n",
    "from nvtabular.ops import Operator\n",
    "\n",
    "class ItemRecency(Operator):\n",
    "    def transform(self, columns, gdf):\n",
    "        for column in columns:\n",
    "            col = gdf[column]\n",
    "            item_first_timestamp = gdf['prod_first_event_time_ts']\n",
    "            delta_days = (col - item_first_timestamp).dt.days\n",
    "            gdf[column + \"_age_days\"] = delta_days * (delta_days >=0)\n",
    "        return gdf\n",
    "            \n",
    "    def output_column_names(self, columns):\n",
    "        return [column + \"_age_days\" for column in columns]\n",
    "            \n",
    "    def dependencies(self):\n",
    "        return [\"prod_first_event_time_ts\"]"
   ]
  },
  {
   "cell_type": "code",
   "execution_count": 31,
   "metadata": {},
   "outputs": [],
   "source": [
    "# create time features\n",
    "sessionTime = ['event_time_dt']\n",
    "\n",
    "sessionTime_hour = (\n",
    "    sessionTime >> \n",
    "    nvt.ops.LambdaOp(lambda col: col.dt.hour) >> \n",
    "    nvt.ops.Rename(name = 'et_hour')\n",
    ")\n",
    "sessionTime_weekday = (\n",
    "    sessionTime >> \n",
    "    nvt.ops.LambdaOp(lambda col: col.dt.weekday) >> \n",
    "    nvt.ops.Rename(name ='et_dayofweek')\n",
    ")\n",
    "sessionTime_day = (\n",
    "    sessionTime >> \n",
    "    nvt.ops.LambdaOp(lambda col: col.dt.day) >> \n",
    "    nvt.ops.Rename(name =\"et_dayofmonth\")\n",
    ")\n",
    "sessionTime_month = (\n",
    "    sessionTime >> \n",
    "    nvt.ops.LambdaOp(lambda col: col.dt.month) >> \n",
    "    nvt.ops.Rename(name =\"et_month\")\n",
    ")"
   ]
  },
  {
   "cell_type": "code",
   "execution_count": 32,
   "metadata": {},
   "outputs": [],
   "source": [
    "def get_cycled_feature_value_sin(col, max_value):\n",
    "    value_scaled = (col + 0.000001) / max_value\n",
    "    value_sin = np.sin(2*np.pi*value_scaled)\n",
    "    return value_sin\n",
    "\n",
    "def get_cycled_feature_value_cos(col, max_value):\n",
    "    value_scaled = (col + 0.000001) / max_value\n",
    "    value_cos = np.cos(2*np.pi*value_scaled)\n",
    "    return value_cos"
   ]
  },
  {
   "cell_type": "code",
   "execution_count": 33,
   "metadata": {},
   "outputs": [],
   "source": [
    "hour_sin = sessionTime_hour >> (lambda col: get_cycled_feature_value_sin(col, 24)) >> nvt.ops.Rename(name='et_hour_sin')\n",
    "hour_cos = sessionTime_hour >> (lambda col: get_cycled_feature_value_cos(col, 24)) >> nvt.ops.Rename(name ='et_hour_cos')\n",
    "weekday_sin = sessionTime_weekday >> (lambda col: get_cycled_feature_value_sin(col+1, 7)) >> nvt.ops.Rename(name = 'et_dayofweek_sin')\n",
    "weekday_cos= sessionTime_weekday >> (lambda col: get_cycled_feature_value_cos(col+1, 7)) >> nvt.ops.Rename(name = 'et_dayofweek_cos')\n",
    "\n",
    "dayofmonth_sin = sessionTime_hour >> (lambda col: get_cycled_feature_value_sin(col, 31)) >> nvt.ops.Rename(name ='et_dayofmonth_sin')\n",
    "dayofmonth_cos = sessionTime_hour >> (lambda col: get_cycled_feature_value_cos(col, 31)) >> nvt.ops.Rename(name='et_dayofmonth_cos')\n",
    "month_sin = sessionTime_weekday >> (lambda col: get_cycled_feature_value_sin(col, 12)) >> nvt.ops.Rename(name='et_month_sin')\n",
    "month_cos= sessionTime_weekday >> (lambda col: get_cycled_feature_value_cos(col, 12)) >> nvt.ops.Rename(name = 'et_month_cos')"
   ]
  },
  {
   "cell_type": "code",
   "execution_count": 34,
   "metadata": {},
   "outputs": [],
   "source": [
    "cycled_features = hour_sin + hour_cos + weekday_sin + weekday_cos + dayofmonth_sin + dayofmonth_cos + month_sin + month_cos"
   ]
  },
  {
   "cell_type": "code",
   "execution_count": 35,
   "metadata": {},
   "outputs": [],
   "source": [
    "recency_features = [\"event_time_dt\"] >> ItemRecency() >>  nvt.ops.Rename(name='product_recency_days')\n",
    "recency_features_norm = recency_features >> nvt.ops.LogOp() >> nvt.ops.Normalize() >> nvt.ops.Rename(name='product_recency_days_log_norm')"
   ]
  },
  {
   "cell_type": "code",
   "execution_count": 36,
   "metadata": {},
   "outputs": [],
   "source": [
    "time_features = (\n",
    "    sessionTime_hour +\n",
    "    sessionTime_day + \n",
    "    sessionTime_month + \n",
    "    sessionTime_weekday +\n",
    "    cycled_features +\n",
    "    recency_features_norm\n",
    ")"
   ]
  },
  {
   "cell_type": "code",
   "execution_count": 37,
   "metadata": {},
   "outputs": [
    {
     "data": {
      "image/svg+xml": [
       "<?xml version=\"1.0\" encoding=\"UTF-8\" standalone=\"no\"?>\n",
       "<!DOCTYPE svg PUBLIC \"-//W3C//DTD SVG 1.1//EN\"\n",
       " \"http://www.w3.org/Graphics/SVG/1.1/DTD/svg11.dtd\">\n",
       "<!-- Generated by graphviz version 2.43.0 (0)\n",
       " -->\n",
       "<!-- Title: %3 Pages: 1 -->\n",
       "<svg width=\"5200pt\" height=\"548pt\"\n",
       " viewBox=\"0.00 0.00 5200.46 548.00\" xmlns=\"http://www.w3.org/2000/svg\" xmlns:xlink=\"http://www.w3.org/1999/xlink\">\n",
       "<g id=\"graph0\" class=\"graph\" transform=\"scale(1 1) rotate(0) translate(4 544)\">\n",
       "<title>%3</title>\n",
       "<polygon fill=\"white\" stroke=\"transparent\" points=\"-4,4 -4,-544 5196.46,-544 5196.46,4 -4,4\"/>\n",
       "<!-- 0 -->\n",
       "<g id=\"node1\" class=\"node\">\n",
       "<title>0</title>\n",
       "<ellipse fill=\"none\" stroke=\"black\" cx=\"4750.78\" cy=\"-162\" rx=\"48.19\" ry=\"18\"/>\n",
       "<text text-anchor=\"middle\" x=\"4750.78\" y=\"-158.3\" font-family=\"Times,serif\" font-size=\"14.00\">Rename</text>\n",
       "</g>\n",
       "<!-- 6 -->\n",
       "<g id=\"node12\" class=\"node\">\n",
       "<title>6</title>\n",
       "<ellipse fill=\"none\" stroke=\"black\" cx=\"2392.78\" cy=\"-90\" rx=\"27\" ry=\"18\"/>\n",
       "<text text-anchor=\"middle\" x=\"2392.78\" y=\"-86.3\" font-family=\"Times,serif\" font-size=\"14.00\">+</text>\n",
       "</g>\n",
       "<!-- 0&#45;&gt;6 -->\n",
       "<g id=\"edge8\" class=\"edge\">\n",
       "<title>0&#45;&gt;6</title>\n",
       "<path fill=\"none\" stroke=\"black\" d=\"M4704.08,-157.63C4648.86,-153.77 4554.18,-147.52 4472.78,-144 3646.68,-108.23 2634.91,-94.05 2429.99,-91.45\"/>\n",
       "<polygon fill=\"black\" stroke=\"black\" points=\"2429.81,-87.95 2419.77,-91.32 2429.72,-94.95 2429.81,-87.95\"/>\n",
       "</g>\n",
       "<!-- 21 -->\n",
       "<g id=\"node2\" class=\"node\">\n",
       "<title>21</title>\n",
       "<ellipse fill=\"none\" stroke=\"black\" cx=\"4972.78\" cy=\"-234\" rx=\"219.86\" ry=\"18\"/>\n",
       "<text text-anchor=\"middle\" x=\"4972.78\" y=\"-230.3\" font-family=\"Times,serif\" font-size=\"14.00\">nvt.ops.LambdaOp(lambda col: col.dt.month)</text>\n",
       "</g>\n",
       "<!-- 21&#45;&gt;0 -->\n",
       "<g id=\"edge1\" class=\"edge\">\n",
       "<title>21&#45;&gt;0</title>\n",
       "<path fill=\"none\" stroke=\"black\" d=\"M4920.45,-216.5C4882.72,-204.6 4832.3,-188.7 4796.24,-177.34\"/>\n",
       "<polygon fill=\"black\" stroke=\"black\" points=\"4797.07,-173.93 4786.48,-174.26 4794.96,-180.6 4797.07,-173.93\"/>\n",
       "</g>\n",
       "<!-- 1 -->\n",
       "<g id=\"node3\" class=\"node\">\n",
       "<title>1</title>\n",
       "<ellipse fill=\"none\" stroke=\"black\" cx=\"4393.78\" cy=\"-234\" rx=\"206.06\" ry=\"18\"/>\n",
       "<text text-anchor=\"middle\" x=\"4393.78\" y=\"-230.3\" font-family=\"Times,serif\" font-size=\"14.00\">nvt.ops.LambdaOp(lambda col: col.dt.day)</text>\n",
       "</g>\n",
       "<!-- 28 -->\n",
       "<g id=\"node14\" class=\"node\">\n",
       "<title>28</title>\n",
       "<ellipse fill=\"none\" stroke=\"black\" cx=\"4041.78\" cy=\"-162\" rx=\"48.19\" ry=\"18\"/>\n",
       "<text text-anchor=\"middle\" x=\"4041.78\" y=\"-158.3\" font-family=\"Times,serif\" font-size=\"14.00\">Rename</text>\n",
       "</g>\n",
       "<!-- 1&#45;&gt;28 -->\n",
       "<g id=\"edge37\" class=\"edge\">\n",
       "<title>1&#45;&gt;28</title>\n",
       "<path fill=\"none\" stroke=\"black\" d=\"M4314.78,-217.29C4247.09,-203.83 4151.56,-184.83 4093.3,-173.25\"/>\n",
       "<polygon fill=\"black\" stroke=\"black\" points=\"4093.72,-169.76 4083.23,-171.24 4092.35,-176.63 4093.72,-169.76\"/>\n",
       "</g>\n",
       "<!-- 24 -->\n",
       "<g id=\"node4\" class=\"node\">\n",
       "<title>24</title>\n",
       "<ellipse fill=\"none\" stroke=\"black\" cx=\"4393.78\" cy=\"-306\" rx=\"135.68\" ry=\"18\"/>\n",
       "<text text-anchor=\"middle\" x=\"4393.78\" y=\"-302.3\" font-family=\"Times,serif\" font-size=\"14.00\">input cols=[event_time_dt]</text>\n",
       "</g>\n",
       "<!-- 24&#45;&gt;1 -->\n",
       "<g id=\"edge2\" class=\"edge\">\n",
       "<title>24&#45;&gt;1</title>\n",
       "<path fill=\"none\" stroke=\"black\" d=\"M4393.78,-287.7C4393.78,-279.98 4393.78,-270.71 4393.78,-262.11\"/>\n",
       "<polygon fill=\"black\" stroke=\"black\" points=\"4397.28,-262.1 4393.78,-252.1 4390.28,-262.1 4397.28,-262.1\"/>\n",
       "</g>\n",
       "<!-- 2 -->\n",
       "<g id=\"node5\" class=\"node\">\n",
       "<title>2</title>\n",
       "<ellipse fill=\"none\" stroke=\"black\" cx=\"358.78\" cy=\"-162\" rx=\"48.19\" ry=\"18\"/>\n",
       "<text text-anchor=\"middle\" x=\"358.78\" y=\"-158.3\" font-family=\"Times,serif\" font-size=\"14.00\">Rename</text>\n",
       "</g>\n",
       "<!-- 2&#45;&gt;6 -->\n",
       "<g id=\"edge13\" class=\"edge\">\n",
       "<title>2&#45;&gt;6</title>\n",
       "<path fill=\"none\" stroke=\"black\" d=\"M403.87,-155.44C436.99,-151.58 483.12,-146.67 523.78,-144 1260.12,-95.69 2162.5,-91.39 2355.4,-91.03\"/>\n",
       "<polygon fill=\"black\" stroke=\"black\" points=\"2355.58,-94.53 2365.58,-91.01 2355.57,-87.53 2355.58,-94.53\"/>\n",
       "</g>\n",
       "<!-- 35 -->\n",
       "<g id=\"node6\" class=\"node\">\n",
       "<title>35</title>\n",
       "<ellipse fill=\"none\" stroke=\"black\" cx=\"254.78\" cy=\"-234\" rx=\"254.55\" ry=\"18\"/>\n",
       "<text text-anchor=\"middle\" x=\"254.78\" y=\"-230.3\" font-family=\"Times,serif\" font-size=\"14.00\">(lambda col: get_cycled_feature_value_cos(col+1, 7))</text>\n",
       "</g>\n",
       "<!-- 35&#45;&gt;2 -->\n",
       "<g id=\"edge3\" class=\"edge\">\n",
       "<title>35&#45;&gt;2</title>\n",
       "<path fill=\"none\" stroke=\"black\" d=\"M279.95,-216.05C294.33,-206.38 312.46,-194.17 327.71,-183.91\"/>\n",
       "<polygon fill=\"black\" stroke=\"black\" points=\"329.97,-186.61 336.31,-178.12 326.06,-180.8 329.97,-186.61\"/>\n",
       "</g>\n",
       "<!-- 3 -->\n",
       "<g id=\"node7\" class=\"node\">\n",
       "<title>3</title>\n",
       "<ellipse fill=\"none\" stroke=\"black\" cx=\"4676.78\" cy=\"-306\" rx=\"40.89\" ry=\"18\"/>\n",
       "<text text-anchor=\"middle\" x=\"4676.78\" y=\"-302.3\" font-family=\"Times,serif\" font-size=\"14.00\">LogOp</text>\n",
       "</g>\n",
       "<!-- 26 -->\n",
       "<g id=\"node33\" class=\"node\">\n",
       "<title>26</title>\n",
       "<ellipse fill=\"none\" stroke=\"black\" cx=\"4676.78\" cy=\"-234\" rx=\"58.49\" ry=\"18\"/>\n",
       "<text text-anchor=\"middle\" x=\"4676.78\" y=\"-230.3\" font-family=\"Times,serif\" font-size=\"14.00\">Normalize</text>\n",
       "</g>\n",
       "<!-- 3&#45;&gt;26 -->\n",
       "<g id=\"edge35\" class=\"edge\">\n",
       "<title>3&#45;&gt;26</title>\n",
       "<path fill=\"none\" stroke=\"black\" d=\"M4676.78,-287.7C4676.78,-279.98 4676.78,-270.71 4676.78,-262.11\"/>\n",
       "<polygon fill=\"black\" stroke=\"black\" points=\"4680.28,-262.1 4676.78,-252.1 4673.28,-262.1 4680.28,-262.1\"/>\n",
       "</g>\n",
       "<!-- 16 -->\n",
       "<g id=\"node8\" class=\"node\">\n",
       "<title>16</title>\n",
       "<ellipse fill=\"none\" stroke=\"black\" cx=\"4676.78\" cy=\"-378\" rx=\"48.19\" ry=\"18\"/>\n",
       "<text text-anchor=\"middle\" x=\"4676.78\" y=\"-374.3\" font-family=\"Times,serif\" font-size=\"14.00\">Rename</text>\n",
       "</g>\n",
       "<!-- 16&#45;&gt;3 -->\n",
       "<g id=\"edge4\" class=\"edge\">\n",
       "<title>16&#45;&gt;3</title>\n",
       "<path fill=\"none\" stroke=\"black\" d=\"M4676.78,-359.7C4676.78,-351.98 4676.78,-342.71 4676.78,-334.11\"/>\n",
       "<polygon fill=\"black\" stroke=\"black\" points=\"4680.28,-334.1 4676.78,-324.1 4673.28,-334.1 4680.28,-334.1\"/>\n",
       "</g>\n",
       "<!-- 4 -->\n",
       "<g id=\"node9\" class=\"node\">\n",
       "<title>4</title>\n",
       "<ellipse fill=\"none\" stroke=\"black\" cx=\"4507.78\" cy=\"-522\" rx=\"135.68\" ry=\"18\"/>\n",
       "<text text-anchor=\"middle\" x=\"4507.78\" y=\"-518.3\" font-family=\"Times,serif\" font-size=\"14.00\">input cols=[event_time_dt]</text>\n",
       "</g>\n",
       "<!-- 29 -->\n",
       "<g id=\"node29\" class=\"node\">\n",
       "<title>29</title>\n",
       "<ellipse fill=\"none\" stroke=\"black\" cx=\"4676.78\" cy=\"-450\" rx=\"70.69\" ry=\"18\"/>\n",
       "<text text-anchor=\"middle\" x=\"4676.78\" y=\"-446.3\" font-family=\"Times,serif\" font-size=\"14.00\">ItemRecency</text>\n",
       "</g>\n",
       "<!-- 4&#45;&gt;29 -->\n",
       "<g id=\"edge38\" class=\"edge\">\n",
       "<title>4&#45;&gt;29</title>\n",
       "<path fill=\"none\" stroke=\"black\" d=\"M4546.97,-504.76C4572.33,-494.26 4605.42,-480.56 4631.84,-469.61\"/>\n",
       "<polygon fill=\"black\" stroke=\"black\" points=\"4633.35,-472.78 4641.25,-465.72 4630.67,-466.31 4633.35,-472.78\"/>\n",
       "</g>\n",
       "<!-- 5 -->\n",
       "<g id=\"node10\" class=\"node\">\n",
       "<title>5</title>\n",
       "<ellipse fill=\"none\" stroke=\"black\" cx=\"2902.78\" cy=\"-378\" rx=\"211.46\" ry=\"18\"/>\n",
       "<text text-anchor=\"middle\" x=\"2902.78\" y=\"-374.3\" font-family=\"Times,serif\" font-size=\"14.00\">nvt.ops.LambdaOp(lambda col: col.dt.hour)</text>\n",
       "</g>\n",
       "<!-- 11 -->\n",
       "<g id=\"node13\" class=\"node\">\n",
       "<title>11</title>\n",
       "<ellipse fill=\"none\" stroke=\"black\" cx=\"2902.78\" cy=\"-306\" rx=\"48.19\" ry=\"18\"/>\n",
       "<text text-anchor=\"middle\" x=\"2902.78\" y=\"-302.3\" font-family=\"Times,serif\" font-size=\"14.00\">Rename</text>\n",
       "</g>\n",
       "<!-- 5&#45;&gt;11 -->\n",
       "<g id=\"edge22\" class=\"edge\">\n",
       "<title>5&#45;&gt;11</title>\n",
       "<path fill=\"none\" stroke=\"black\" d=\"M2902.78,-359.7C2902.78,-351.98 2902.78,-342.71 2902.78,-334.11\"/>\n",
       "<polygon fill=\"black\" stroke=\"black\" points=\"2906.28,-334.1 2902.78,-324.1 2899.28,-334.1 2906.28,-334.1\"/>\n",
       "</g>\n",
       "<!-- 9 -->\n",
       "<g id=\"node11\" class=\"node\">\n",
       "<title>9</title>\n",
       "<ellipse fill=\"none\" stroke=\"black\" cx=\"2902.78\" cy=\"-450\" rx=\"135.68\" ry=\"18\"/>\n",
       "<text text-anchor=\"middle\" x=\"2902.78\" y=\"-446.3\" font-family=\"Times,serif\" font-size=\"14.00\">input cols=[event_time_dt]</text>\n",
       "</g>\n",
       "<!-- 9&#45;&gt;5 -->\n",
       "<g id=\"edge5\" class=\"edge\">\n",
       "<title>9&#45;&gt;5</title>\n",
       "<path fill=\"none\" stroke=\"black\" d=\"M2902.78,-431.7C2902.78,-423.98 2902.78,-414.71 2902.78,-406.11\"/>\n",
       "<polygon fill=\"black\" stroke=\"black\" points=\"2906.28,-406.1 2902.78,-396.1 2899.28,-406.1 2906.28,-406.1\"/>\n",
       "</g>\n",
       "<!-- 36 -->\n",
       "<g id=\"node37\" class=\"node\">\n",
       "<title>36</title>\n",
       "<ellipse fill=\"none\" stroke=\"black\" cx=\"2392.78\" cy=\"-18\" rx=\"243.96\" ry=\"18\"/>\n",
       "<text text-anchor=\"middle\" x=\"2392.78\" y=\"-14.3\" font-family=\"Times,serif\" font-size=\"14.00\">output cols=[et_hour, et_dayofmonth, et_month...]</text>\n",
       "</g>\n",
       "<!-- 6&#45;&gt;36 -->\n",
       "<g id=\"edge44\" class=\"edge\">\n",
       "<title>6&#45;&gt;36</title>\n",
       "<path fill=\"none\" stroke=\"black\" d=\"M2392.78,-71.7C2392.78,-63.98 2392.78,-54.71 2392.78,-46.11\"/>\n",
       "<polygon fill=\"black\" stroke=\"black\" points=\"2396.28,-46.1 2392.78,-36.1 2389.28,-46.1 2396.28,-46.1\"/>\n",
       "</g>\n",
       "<!-- 11&#45;&gt;6 -->\n",
       "<g id=\"edge6\" class=\"edge\">\n",
       "<title>11&#45;&gt;6</title>\n",
       "<path fill=\"none\" stroke=\"black\" d=\"M2854.58,-305.38C2694.45,-306.12 2187.59,-304.31 2138.78,-252 2065.88,-173.87 2271.92,-117.75 2357.46,-98.4\"/>\n",
       "<polygon fill=\"black\" stroke=\"black\" points=\"2358.26,-101.8 2367.26,-96.22 2356.74,-94.97 2358.26,-101.8\"/>\n",
       "</g>\n",
       "<!-- 8 -->\n",
       "<g id=\"node26\" class=\"node\">\n",
       "<title>8</title>\n",
       "<ellipse fill=\"none\" stroke=\"black\" cx=\"2392.78\" cy=\"-234\" rx=\"245.06\" ry=\"18\"/>\n",
       "<text text-anchor=\"middle\" x=\"2392.78\" y=\"-230.3\" font-family=\"Times,serif\" font-size=\"14.00\">(lambda col: get_cycled_feature_value_sin(col, 31))</text>\n",
       "</g>\n",
       "<!-- 11&#45;&gt;8 -->\n",
       "<g id=\"edge20\" class=\"edge\">\n",
       "<title>11&#45;&gt;8</title>\n",
       "<path fill=\"none\" stroke=\"black\" d=\"M2858.41,-298.91C2782.15,-288.44 2623.74,-266.7 2512.97,-251.5\"/>\n",
       "<polygon fill=\"black\" stroke=\"black\" points=\"2513.12,-247.99 2502.74,-250.09 2512.17,-254.92 2513.12,-247.99\"/>\n",
       "</g>\n",
       "<!-- 12 -->\n",
       "<g id=\"node27\" class=\"node\">\n",
       "<title>12</title>\n",
       "<ellipse fill=\"none\" stroke=\"black\" cx=\"2902.78\" cy=\"-234\" rx=\"246.96\" ry=\"18\"/>\n",
       "<text text-anchor=\"middle\" x=\"2902.78\" y=\"-230.3\" font-family=\"Times,serif\" font-size=\"14.00\">(lambda col: get_cycled_feature_value_cos(col, 31))</text>\n",
       "</g>\n",
       "<!-- 11&#45;&gt;12 -->\n",
       "<g id=\"edge23\" class=\"edge\">\n",
       "<title>11&#45;&gt;12</title>\n",
       "<path fill=\"none\" stroke=\"black\" d=\"M2902.78,-287.7C2902.78,-279.98 2902.78,-270.71 2902.78,-262.11\"/>\n",
       "<polygon fill=\"black\" stroke=\"black\" points=\"2906.28,-262.1 2902.78,-252.1 2899.28,-262.1 2906.28,-262.1\"/>\n",
       "</g>\n",
       "<!-- 13 -->\n",
       "<g id=\"node28\" class=\"node\">\n",
       "<title>13</title>\n",
       "<ellipse fill=\"none\" stroke=\"black\" cx=\"3412.78\" cy=\"-234\" rx=\"245.06\" ry=\"18\"/>\n",
       "<text text-anchor=\"middle\" x=\"3412.78\" y=\"-230.3\" font-family=\"Times,serif\" font-size=\"14.00\">(lambda col: get_cycled_feature_value_sin(col, 24))</text>\n",
       "</g>\n",
       "<!-- 11&#45;&gt;13 -->\n",
       "<g id=\"edge24\" class=\"edge\">\n",
       "<title>11&#45;&gt;13</title>\n",
       "<path fill=\"none\" stroke=\"black\" d=\"M2947.14,-298.91C3023.4,-288.44 3181.81,-266.7 3292.58,-251.5\"/>\n",
       "<polygon fill=\"black\" stroke=\"black\" points=\"3293.38,-254.92 3302.82,-250.09 3292.43,-247.99 3293.38,-254.92\"/>\n",
       "</g>\n",
       "<!-- 19 -->\n",
       "<g id=\"node30\" class=\"node\">\n",
       "<title>19</title>\n",
       "<ellipse fill=\"none\" stroke=\"black\" cx=\"3922.78\" cy=\"-234\" rx=\"246.96\" ry=\"18\"/>\n",
       "<text text-anchor=\"middle\" x=\"3922.78\" y=\"-230.3\" font-family=\"Times,serif\" font-size=\"14.00\">(lambda col: get_cycled_feature_value_cos(col, 24))</text>\n",
       "</g>\n",
       "<!-- 11&#45;&gt;19 -->\n",
       "<g id=\"edge29\" class=\"edge\">\n",
       "<title>11&#45;&gt;19</title>\n",
       "<path fill=\"none\" stroke=\"black\" d=\"M2949.59,-301.79C3087.55,-292.32 3497.99,-264.15 3739.53,-247.58\"/>\n",
       "<polygon fill=\"black\" stroke=\"black\" points=\"3740.09,-251.05 3749.83,-246.87 3739.61,-244.06 3740.09,-251.05\"/>\n",
       "</g>\n",
       "<!-- 28&#45;&gt;6 -->\n",
       "<g id=\"edge7\" class=\"edge\">\n",
       "<title>28&#45;&gt;6</title>\n",
       "<path fill=\"none\" stroke=\"black\" d=\"M3994.2,-158.98C3750.78,-148.65 2647.58,-101.82 2430.08,-92.58\"/>\n",
       "<polygon fill=\"black\" stroke=\"black\" points=\"2429.97,-89.08 2419.83,-92.15 2429.67,-96.07 2429.97,-89.08\"/>\n",
       "</g>\n",
       "<!-- 18 -->\n",
       "<g id=\"node15\" class=\"node\">\n",
       "<title>18</title>\n",
       "<ellipse fill=\"none\" stroke=\"black\" cx=\"810.78\" cy=\"-306\" rx=\"48.19\" ry=\"18\"/>\n",
       "<text text-anchor=\"middle\" x=\"810.78\" y=\"-302.3\" font-family=\"Times,serif\" font-size=\"14.00\">Rename</text>\n",
       "</g>\n",
       "<!-- 18&#45;&gt;35 -->\n",
       "<g id=\"edge43\" class=\"edge\">\n",
       "<title>18&#45;&gt;35</title>\n",
       "<path fill=\"none\" stroke=\"black\" d=\"M765.75,-299.33C683.52,-288.98 506.27,-266.66 383.79,-251.24\"/>\n",
       "<polygon fill=\"black\" stroke=\"black\" points=\"383.95,-247.74 373.59,-249.96 383.08,-254.68 383.95,-247.74\"/>\n",
       "</g>\n",
       "<!-- 18&#45;&gt;6 -->\n",
       "<g id=\"edge9\" class=\"edge\">\n",
       "<title>18&#45;&gt;6</title>\n",
       "<path fill=\"none\" stroke=\"black\" d=\"M762.88,-304.22C674.45,-301.1 499.57,-286.17 556.78,-216 657.13,-92.91 749.09,-162.9 906.78,-144 1199.82,-108.88 2154.91,-94.22 2355.58,-91.48\"/>\n",
       "<polygon fill=\"black\" stroke=\"black\" points=\"2355.66,-94.98 2365.61,-91.35 2355.57,-87.98 2355.66,-94.98\"/>\n",
       "</g>\n",
       "<!-- 20 -->\n",
       "<g id=\"node31\" class=\"node\">\n",
       "<title>20</title>\n",
       "<ellipse fill=\"none\" stroke=\"black\" cx=\"810.78\" cy=\"-234\" rx=\"245.06\" ry=\"18\"/>\n",
       "<text text-anchor=\"middle\" x=\"810.78\" y=\"-230.3\" font-family=\"Times,serif\" font-size=\"14.00\">(lambda col: get_cycled_feature_value_sin(col, 12))</text>\n",
       "</g>\n",
       "<!-- 18&#45;&gt;20 -->\n",
       "<g id=\"edge30\" class=\"edge\">\n",
       "<title>18&#45;&gt;20</title>\n",
       "<path fill=\"none\" stroke=\"black\" d=\"M810.78,-287.7C810.78,-279.98 810.78,-270.71 810.78,-262.11\"/>\n",
       "<polygon fill=\"black\" stroke=\"black\" points=\"814.28,-262.1 810.78,-252.1 807.28,-262.1 814.28,-262.1\"/>\n",
       "</g>\n",
       "<!-- 27 -->\n",
       "<g id=\"node34\" class=\"node\">\n",
       "<title>27</title>\n",
       "<ellipse fill=\"none\" stroke=\"black\" cx=\"1326.78\" cy=\"-234\" rx=\"252.66\" ry=\"18\"/>\n",
       "<text text-anchor=\"middle\" x=\"1326.78\" y=\"-230.3\" font-family=\"Times,serif\" font-size=\"14.00\">(lambda col: get_cycled_feature_value_sin(col+1, 7))</text>\n",
       "</g>\n",
       "<!-- 18&#45;&gt;27 -->\n",
       "<g id=\"edge36\" class=\"edge\">\n",
       "<title>18&#45;&gt;27</title>\n",
       "<path fill=\"none\" stroke=\"black\" d=\"M855.22,-298.97C932.16,-288.53 1092.71,-266.75 1205,-251.52\"/>\n",
       "<polygon fill=\"black\" stroke=\"black\" points=\"1205.59,-254.97 1215.03,-250.16 1204.65,-248.04 1205.59,-254.97\"/>\n",
       "</g>\n",
       "<!-- 30 -->\n",
       "<g id=\"node36\" class=\"node\">\n",
       "<title>30</title>\n",
       "<ellipse fill=\"none\" stroke=\"black\" cx=\"1844.78\" cy=\"-234\" rx=\"246.96\" ry=\"18\"/>\n",
       "<text text-anchor=\"middle\" x=\"1844.78\" y=\"-230.3\" font-family=\"Times,serif\" font-size=\"14.00\">(lambda col: get_cycled_feature_value_cos(col, 12))</text>\n",
       "</g>\n",
       "<!-- 18&#45;&gt;30 -->\n",
       "<g id=\"edge40\" class=\"edge\">\n",
       "<title>18&#45;&gt;30</title>\n",
       "<path fill=\"none\" stroke=\"black\" d=\"M857.89,-301.81C997.74,-292.34 1415.91,-264.03 1660.73,-247.46\"/>\n",
       "<polygon fill=\"black\" stroke=\"black\" points=\"1661.07,-250.94 1670.81,-246.78 1660.59,-243.96 1661.07,-250.94\"/>\n",
       "</g>\n",
       "<!-- 17 -->\n",
       "<g id=\"node16\" class=\"node\">\n",
       "<title>17</title>\n",
       "<ellipse fill=\"none\" stroke=\"black\" cx=\"3115.78\" cy=\"-162\" rx=\"48.19\" ry=\"18\"/>\n",
       "<text text-anchor=\"middle\" x=\"3115.78\" y=\"-158.3\" font-family=\"Times,serif\" font-size=\"14.00\">Rename</text>\n",
       "</g>\n",
       "<!-- 17&#45;&gt;6 -->\n",
       "<g id=\"edge10\" class=\"edge\">\n",
       "<title>17&#45;&gt;6</title>\n",
       "<path fill=\"none\" stroke=\"black\" d=\"M3069.73,-156.54C2936.27,-143.62 2551.11,-106.33 2429.82,-94.59\"/>\n",
       "<polygon fill=\"black\" stroke=\"black\" points=\"2429.86,-91.07 2419.57,-93.59 2429.18,-98.04 2429.86,-91.07\"/>\n",
       "</g>\n",
       "<!-- 25 -->\n",
       "<g id=\"node17\" class=\"node\">\n",
       "<title>25</title>\n",
       "<ellipse fill=\"none\" stroke=\"black\" cx=\"3575.78\" cy=\"-162\" rx=\"48.19\" ry=\"18\"/>\n",
       "<text text-anchor=\"middle\" x=\"3575.78\" y=\"-158.3\" font-family=\"Times,serif\" font-size=\"14.00\">Rename</text>\n",
       "</g>\n",
       "<!-- 25&#45;&gt;6 -->\n",
       "<g id=\"edge11\" class=\"edge\">\n",
       "<title>25&#45;&gt;6</title>\n",
       "<path fill=\"none\" stroke=\"black\" d=\"M3528.67,-158.21C3335.15,-146.76 2603.34,-103.46 2429.83,-93.19\"/>\n",
       "<polygon fill=\"black\" stroke=\"black\" points=\"2429.87,-89.69 2419.68,-92.59 2429.45,-96.68 2429.87,-89.69\"/>\n",
       "</g>\n",
       "<!-- 31 -->\n",
       "<g id=\"node18\" class=\"node\">\n",
       "<title>31</title>\n",
       "<ellipse fill=\"none\" stroke=\"black\" cx=\"1579.78\" cy=\"-162\" rx=\"48.19\" ry=\"18\"/>\n",
       "<text text-anchor=\"middle\" x=\"1579.78\" y=\"-158.3\" font-family=\"Times,serif\" font-size=\"14.00\">Rename</text>\n",
       "</g>\n",
       "<!-- 31&#45;&gt;6 -->\n",
       "<g id=\"edge12\" class=\"edge\">\n",
       "<title>31&#45;&gt;6</title>\n",
       "<path fill=\"none\" stroke=\"black\" d=\"M1626.11,-157.01C1772.63,-144.4 2224.01,-105.53 2356.1,-94.16\"/>\n",
       "<polygon fill=\"black\" stroke=\"black\" points=\"2356.46,-97.64 2366.12,-93.3 2355.86,-90.67 2356.46,-97.64\"/>\n",
       "</g>\n",
       "<!-- 10 -->\n",
       "<g id=\"node19\" class=\"node\">\n",
       "<title>10</title>\n",
       "<ellipse fill=\"none\" stroke=\"black\" cx=\"2392.78\" cy=\"-162\" rx=\"48.19\" ry=\"18\"/>\n",
       "<text text-anchor=\"middle\" x=\"2392.78\" y=\"-158.3\" font-family=\"Times,serif\" font-size=\"14.00\">Rename</text>\n",
       "</g>\n",
       "<!-- 10&#45;&gt;6 -->\n",
       "<g id=\"edge14\" class=\"edge\">\n",
       "<title>10&#45;&gt;6</title>\n",
       "<path fill=\"none\" stroke=\"black\" d=\"M2392.78,-143.7C2392.78,-135.98 2392.78,-126.71 2392.78,-118.11\"/>\n",
       "<polygon fill=\"black\" stroke=\"black\" points=\"2396.28,-118.1 2392.78,-108.1 2389.28,-118.1 2396.28,-118.1\"/>\n",
       "</g>\n",
       "<!-- 14 -->\n",
       "<g id=\"node20\" class=\"node\">\n",
       "<title>14</title>\n",
       "<ellipse fill=\"none\" stroke=\"black\" cx=\"2704.78\" cy=\"-162\" rx=\"48.19\" ry=\"18\"/>\n",
       "<text text-anchor=\"middle\" x=\"2704.78\" y=\"-158.3\" font-family=\"Times,serif\" font-size=\"14.00\">Rename</text>\n",
       "</g>\n",
       "<!-- 14&#45;&gt;6 -->\n",
       "<g id=\"edge15\" class=\"edge\">\n",
       "<title>14&#45;&gt;6</title>\n",
       "<path fill=\"none\" stroke=\"black\" d=\"M2664.63,-151.99C2603.14,-138.2 2486.66,-112.06 2428.17,-98.94\"/>\n",
       "<polygon fill=\"black\" stroke=\"black\" points=\"2428.8,-95.5 2418.28,-96.72 2427.27,-102.33 2428.8,-95.5\"/>\n",
       "</g>\n",
       "<!-- 23 -->\n",
       "<g id=\"node21\" class=\"node\">\n",
       "<title>23</title>\n",
       "<ellipse fill=\"none\" stroke=\"black\" cx=\"963.78\" cy=\"-162\" rx=\"48.19\" ry=\"18\"/>\n",
       "<text text-anchor=\"middle\" x=\"963.78\" y=\"-158.3\" font-family=\"Times,serif\" font-size=\"14.00\">Rename</text>\n",
       "</g>\n",
       "<!-- 23&#45;&gt;6 -->\n",
       "<g id=\"edge16\" class=\"edge\">\n",
       "<title>23&#45;&gt;6</title>\n",
       "<path fill=\"none\" stroke=\"black\" d=\"M1011.32,-158.67C1232.57,-147.83 2158.84,-102.46 2355.84,-92.81\"/>\n",
       "<polygon fill=\"black\" stroke=\"black\" points=\"2356.15,-96.3 2365.96,-92.31 2355.8,-89.31 2356.15,-96.3\"/>\n",
       "</g>\n",
       "<!-- 33 -->\n",
       "<g id=\"node22\" class=\"node\">\n",
       "<title>33</title>\n",
       "<ellipse fill=\"none\" stroke=\"black\" cx=\"1944.78\" cy=\"-162\" rx=\"48.19\" ry=\"18\"/>\n",
       "<text text-anchor=\"middle\" x=\"1944.78\" y=\"-158.3\" font-family=\"Times,serif\" font-size=\"14.00\">Rename</text>\n",
       "</g>\n",
       "<!-- 33&#45;&gt;6 -->\n",
       "<g id=\"edge17\" class=\"edge\">\n",
       "<title>33&#45;&gt;6</title>\n",
       "<path fill=\"none\" stroke=\"black\" d=\"M1988.55,-154.16C2076.84,-140.37 2274.78,-109.44 2356.46,-96.67\"/>\n",
       "<polygon fill=\"black\" stroke=\"black\" points=\"2357.4,-100.07 2366.74,-95.07 2356.32,-93.15 2357.4,-100.07\"/>\n",
       "</g>\n",
       "<!-- 22 -->\n",
       "<g id=\"node23\" class=\"node\">\n",
       "<title>22</title>\n",
       "<ellipse fill=\"none\" stroke=\"black\" cx=\"4415.78\" cy=\"-162\" rx=\"48.19\" ry=\"18\"/>\n",
       "<text text-anchor=\"middle\" x=\"4415.78\" y=\"-158.3\" font-family=\"Times,serif\" font-size=\"14.00\">Rename</text>\n",
       "</g>\n",
       "<!-- 22&#45;&gt;6 -->\n",
       "<g id=\"edge18\" class=\"edge\">\n",
       "<title>22&#45;&gt;6</title>\n",
       "<path fill=\"none\" stroke=\"black\" d=\"M4368.53,-158.13C4306.6,-154.45 4194.59,-148.06 4098.78,-144 3429.69,-115.67 2612.39,-96.05 2430.01,-91.85\"/>\n",
       "<polygon fill=\"black\" stroke=\"black\" points=\"2429.95,-88.34 2419.87,-91.61 2429.79,-95.34 2429.95,-88.34\"/>\n",
       "</g>\n",
       "<!-- 7 -->\n",
       "<g id=\"node24\" class=\"node\">\n",
       "<title>7</title>\n",
       "<ellipse fill=\"none\" stroke=\"black\" cx=\"810.78\" cy=\"-378\" rx=\"230.16\" ry=\"18\"/>\n",
       "<text text-anchor=\"middle\" x=\"810.78\" y=\"-374.3\" font-family=\"Times,serif\" font-size=\"14.00\">nvt.ops.LambdaOp(lambda col: col.dt.weekday)</text>\n",
       "</g>\n",
       "<!-- 7&#45;&gt;18 -->\n",
       "<g id=\"edge28\" class=\"edge\">\n",
       "<title>7&#45;&gt;18</title>\n",
       "<path fill=\"none\" stroke=\"black\" d=\"M810.78,-359.7C810.78,-351.98 810.78,-342.71 810.78,-334.11\"/>\n",
       "<polygon fill=\"black\" stroke=\"black\" points=\"814.28,-334.1 810.78,-324.1 807.28,-334.1 814.28,-334.1\"/>\n",
       "</g>\n",
       "<!-- 15 -->\n",
       "<g id=\"node25\" class=\"node\">\n",
       "<title>15</title>\n",
       "<ellipse fill=\"none\" stroke=\"black\" cx=\"810.78\" cy=\"-450\" rx=\"135.68\" ry=\"18\"/>\n",
       "<text text-anchor=\"middle\" x=\"810.78\" y=\"-446.3\" font-family=\"Times,serif\" font-size=\"14.00\">input cols=[event_time_dt]</text>\n",
       "</g>\n",
       "<!-- 15&#45;&gt;7 -->\n",
       "<g id=\"edge19\" class=\"edge\">\n",
       "<title>15&#45;&gt;7</title>\n",
       "<path fill=\"none\" stroke=\"black\" d=\"M810.78,-431.7C810.78,-423.98 810.78,-414.71 810.78,-406.11\"/>\n",
       "<polygon fill=\"black\" stroke=\"black\" points=\"814.28,-406.1 810.78,-396.1 807.28,-406.1 814.28,-406.1\"/>\n",
       "</g>\n",
       "<!-- 8&#45;&gt;10 -->\n",
       "<g id=\"edge21\" class=\"edge\">\n",
       "<title>8&#45;&gt;10</title>\n",
       "<path fill=\"none\" stroke=\"black\" d=\"M2392.78,-215.7C2392.78,-207.98 2392.78,-198.71 2392.78,-190.11\"/>\n",
       "<polygon fill=\"black\" stroke=\"black\" points=\"2396.28,-190.1 2392.78,-180.1 2389.28,-190.1 2396.28,-190.1\"/>\n",
       "</g>\n",
       "<!-- 12&#45;&gt;14 -->\n",
       "<g id=\"edge25\" class=\"edge\">\n",
       "<title>12&#45;&gt;14</title>\n",
       "<path fill=\"none\" stroke=\"black\" d=\"M2855.6,-216.32C2822.95,-204.78 2779.82,-189.53 2748.05,-178.3\"/>\n",
       "<polygon fill=\"black\" stroke=\"black\" points=\"2749.17,-174.98 2738.58,-174.95 2746.84,-181.58 2749.17,-174.98\"/>\n",
       "</g>\n",
       "<!-- 13&#45;&gt;17 -->\n",
       "<g id=\"edge27\" class=\"edge\">\n",
       "<title>13&#45;&gt;17</title>\n",
       "<path fill=\"none\" stroke=\"black\" d=\"M3343.52,-216.68C3288.95,-203.82 3214.19,-186.2 3165.45,-174.71\"/>\n",
       "<polygon fill=\"black\" stroke=\"black\" points=\"3166,-171.24 3155.46,-172.35 3164.39,-178.05 3166,-171.24\"/>\n",
       "</g>\n",
       "<!-- 29&#45;&gt;16 -->\n",
       "<g id=\"edge26\" class=\"edge\">\n",
       "<title>29&#45;&gt;16</title>\n",
       "<path fill=\"none\" stroke=\"black\" d=\"M4676.78,-431.7C4676.78,-423.98 4676.78,-414.71 4676.78,-406.11\"/>\n",
       "<polygon fill=\"black\" stroke=\"black\" points=\"4680.28,-406.1 4676.78,-396.1 4673.28,-406.1 4680.28,-406.1\"/>\n",
       "</g>\n",
       "<!-- 19&#45;&gt;25 -->\n",
       "<g id=\"edge34\" class=\"edge\">\n",
       "<title>19&#45;&gt;25</title>\n",
       "<path fill=\"none\" stroke=\"black\" d=\"M3843.17,-216.94C3776.73,-203.54 3683.99,-184.83 3627.02,-173.34\"/>\n",
       "<polygon fill=\"black\" stroke=\"black\" points=\"3627.65,-169.89 3617.16,-171.35 3626.27,-176.76 3627.65,-169.89\"/>\n",
       "</g>\n",
       "<!-- 20&#45;&gt;23 -->\n",
       "<g id=\"edge33\" class=\"edge\">\n",
       "<title>20&#45;&gt;23</title>\n",
       "<path fill=\"none\" stroke=\"black\" d=\"M847.81,-216.05C871.13,-205.39 901.19,-191.64 924.86,-180.81\"/>\n",
       "<polygon fill=\"black\" stroke=\"black\" points=\"926.61,-183.86 934.24,-176.51 923.69,-177.49 926.61,-183.86\"/>\n",
       "</g>\n",
       "<!-- 32 -->\n",
       "<g id=\"node32\" class=\"node\">\n",
       "<title>32</title>\n",
       "<ellipse fill=\"none\" stroke=\"black\" cx=\"4972.78\" cy=\"-306\" rx=\"135.68\" ry=\"18\"/>\n",
       "<text text-anchor=\"middle\" x=\"4972.78\" y=\"-302.3\" font-family=\"Times,serif\" font-size=\"14.00\">input cols=[event_time_dt]</text>\n",
       "</g>\n",
       "<!-- 32&#45;&gt;21 -->\n",
       "<g id=\"edge31\" class=\"edge\">\n",
       "<title>32&#45;&gt;21</title>\n",
       "<path fill=\"none\" stroke=\"black\" d=\"M4972.78,-287.7C4972.78,-279.98 4972.78,-270.71 4972.78,-262.11\"/>\n",
       "<polygon fill=\"black\" stroke=\"black\" points=\"4976.28,-262.1 4972.78,-252.1 4969.28,-262.1 4976.28,-262.1\"/>\n",
       "</g>\n",
       "<!-- 26&#45;&gt;22 -->\n",
       "<g id=\"edge32\" class=\"edge\">\n",
       "<title>26&#45;&gt;22</title>\n",
       "<path fill=\"none\" stroke=\"black\" d=\"M4634.26,-221.6C4587.37,-209.02 4512.11,-188.84 4463.3,-175.75\"/>\n",
       "<polygon fill=\"black\" stroke=\"black\" points=\"4464.17,-172.36 4453.61,-173.15 4462.36,-179.12 4464.17,-172.36\"/>\n",
       "</g>\n",
       "<!-- 27&#45;&gt;31 -->\n",
       "<g id=\"edge41\" class=\"edge\">\n",
       "<title>27&#45;&gt;31</title>\n",
       "<path fill=\"none\" stroke=\"black\" d=\"M1386.41,-216.5C1430.95,-204.18 1491.01,-187.56 1532.31,-176.13\"/>\n",
       "<polygon fill=\"black\" stroke=\"black\" points=\"1533.42,-179.46 1542.12,-173.42 1531.55,-172.71 1533.42,-179.46\"/>\n",
       "</g>\n",
       "<!-- 34 -->\n",
       "<g id=\"node35\" class=\"node\">\n",
       "<title>34</title>\n",
       "<ellipse fill=\"none\" stroke=\"black\" cx=\"4845.78\" cy=\"-522\" rx=\"184.67\" ry=\"18\"/>\n",
       "<text text-anchor=\"middle\" x=\"4845.78\" y=\"-518.3\" font-family=\"Times,serif\" font-size=\"14.00\">input cols=[prod_first_event_time_ts]</text>\n",
       "</g>\n",
       "<!-- 34&#45;&gt;29 -->\n",
       "<g id=\"edge39\" class=\"edge\">\n",
       "<title>34&#45;&gt;29</title>\n",
       "<path fill=\"none\" stroke=\"black\" d=\"M4805.73,-504.41C4780.43,-493.93 4747.7,-480.38 4721.55,-469.54\"/>\n",
       "<polygon fill=\"black\" stroke=\"black\" points=\"4722.81,-466.28 4712.24,-465.69 4720.14,-472.75 4722.81,-466.28\"/>\n",
       "</g>\n",
       "<!-- 30&#45;&gt;33 -->\n",
       "<g id=\"edge42\" class=\"edge\">\n",
       "<title>30&#45;&gt;33</title>\n",
       "<path fill=\"none\" stroke=\"black\" d=\"M1868.98,-216.05C1882.8,-206.38 1900.24,-194.17 1914.91,-183.91\"/>\n",
       "<polygon fill=\"black\" stroke=\"black\" points=\"1916.99,-186.72 1923.18,-178.12 1912.98,-180.99 1916.99,-186.72\"/>\n",
       "</g>\n",
       "</g>\n",
       "</svg>\n"
      ],
      "text/plain": [
       "<graphviz.dot.Digraph at 0x7f6c89d93280>"
      ]
     },
     "execution_count": 37,
     "metadata": {},
     "output_type": "execute_result"
    }
   ],
   "source": [
    "time_features.graph"
   ]
  },
  {
   "cell_type": "code",
   "execution_count": 38,
   "metadata": {},
   "outputs": [
    {
     "data": {
      "text/plain": [
       "['et_hour',\n",
       " 'et_dayofmonth',\n",
       " 'et_month',\n",
       " 'et_dayofweek',\n",
       " 'et_hour_sin',\n",
       " 'et_hour_cos',\n",
       " 'et_dayofweek_sin',\n",
       " 'et_dayofweek_cos',\n",
       " 'et_dayofmonth_sin',\n",
       " 'et_dayofmonth_cos',\n",
       " 'et_month_sin',\n",
       " 'et_month_cos',\n",
       " 'product_recency_days_log_norm']"
      ]
     },
     "execution_count": 38,
     "metadata": {},
     "output_type": "execute_result"
    }
   ],
   "source": [
    "time_features.columns"
   ]
  },
  {
   "cell_type": "markdown",
   "metadata": {},
   "source": [
    "### Computing elapsed time since last interaction (on non-repeated items)"
   ]
  },
  {
   "cell_type": "code",
   "execution_count": 39,
   "metadata": {},
   "outputs": [],
   "source": [
    "# compute the delta in timestamp for each users session\n",
    "diff_features = ([\"event_time_ts\"] >> nvt.ops.DifferenceLag(partition_cols=[\"user_session\"]) >> (lambda col: col.astype(\"float32\"))\n",
    "                                   >> nvt.ops.FillMissing(fill_val=0)\n",
    "                                   >> nvt.ops.Rename(name=\"delta_event_secs\")\n",
    "                )\n",
    "diff_features_log_norm = diff_features >> nvt.ops.LogOp() >> nvt.ops.Normalize() >> nvt.ops.Rename(name='delta_event_secs_log_norm')"
   ]
  },
  {
   "cell_type": "markdown",
   "metadata": {},
   "source": [
    "### Normalize Continuous Features¶"
   ]
  },
  {
   "cell_type": "code",
   "execution_count": 40,
   "metadata": {},
   "outputs": [],
   "source": [
    "# Smoothing price long-tailed distribution\n",
    "price_log = ['price'] >> nvt.ops.LogOp() >> nvt.ops.Normalize() >> nvt.ops.Rename(name='price_log_norm')"
   ]
  },
  {
   "cell_type": "code",
   "execution_count": 41,
   "metadata": {},
   "outputs": [],
   "source": [
    "# Relative Price to the average price for the category_id\n",
    "def relative_price_to_avg_categ(col, gdf):\n",
    "    col = (gdf['price'] - col) / col\n",
    "    return col\n",
    "    \n",
    "avg_category_id_pr = ['category_id'] >> nvt.ops.JoinGroupby(cont_cols =['price'], stats=[\"mean\"]) >> nvt.ops.Rename(name='avg_category_id_price')\n",
    "relative_price_to_avg_category = avg_category_id_pr >> nvt.ops.LambdaOp(relative_price_to_avg_categ, dependency=['price']) >> nvt.ops.Rename(name=\"relative_price_to_avg_categ_id\")"
   ]
  },
  {
   "cell_type": "markdown",
   "metadata": {},
   "source": [
    "### Grouping interactions into sessions¶"
   ]
  },
  {
   "cell_type": "code",
   "execution_count": 42,
   "metadata": {},
   "outputs": [],
   "source": [
    "groupby_feats = cols + cat_feats + time_features + avg_category_id_pr + price_log + relative_price_to_avg_category + diff_features_log_norm"
   ]
  },
  {
   "cell_type": "markdown",
   "metadata": {},
   "source": [
    "#### Aggregate by session id (create sequence as type of array)"
   ]
  },
  {
   "cell_type": "code",
   "execution_count": 43,
   "metadata": {},
   "outputs": [],
   "source": [
    "# Define Groupby Workflow\n",
    "groupby_features = groupby_feats  >> nvt.ops.Groupby(\n",
    "    groupby_cols=[\"user_session\"], \n",
    "    sort_cols=[\"event_time_ts\"],\n",
    "    aggs={\n",
    "        'user_id_idx': ['first'],\n",
    "        'product_id_idx': [\"list\", \"count\"],\n",
    "        'category_code_idx': [\"list\"],  \n",
    "        'event_type_idx': [\"list\"], \n",
    "        'brand_idx': [\"list\"], \n",
    "        'category_id_idx': [\"list\"], \n",
    "        'event_time_ts': [\"list\", \"first\", \"last\"],\n",
    "        'event_time_dt': [\"first\"],\n",
    "        'et_month': [\"list\"],\n",
    "        'et_hour': [\"list\"],\n",
    "        'et_dayofmonth': [\"list\"],\n",
    "        'et_dayofweek': [\"list\"],\n",
    "        'product_recency_days_log_norm': [\"list\"],\n",
    "        'et_hour_sin': [\"list\"],\n",
    "        'et_hour_cos': [\"list\"],\n",
    "        'et_dayofweek_sin': [\"list\"],\n",
    "        'et_dayofweek_cos': [\"list\"],\n",
    "        'et_dayofmonth_sin': [\"list\"],\n",
    "        'et_dayofmonth_cos': [\"list\"],\n",
    "        'et_month_sin': [\"list\"],\n",
    "        'et_month_cos': [\"list\"], \n",
    "        'avg_category_id_price': [\"list\"], \n",
    "        'relative_price_to_avg_categ_id': [\"list\"], \n",
    "        'price_log_norm': [\"list\"], \n",
    "        'delta_event_secs_log_norm': [\"list\"], \n",
    "        },\n",
    "    name_sep=\"-\")"
   ]
  },
  {
   "cell_type": "code",
   "execution_count": 44,
   "metadata": {},
   "outputs": [
    {
     "data": {
      "text/plain": [
       "['event_time_ts-first',\n",
       " 'user_session',\n",
       " 'event_time_ts-last',\n",
       " 'product_id_idx-count',\n",
       " 'event_time_dt-first',\n",
       " 'user_id_idx-first']"
      ]
     },
     "execution_count": 44,
     "metadata": {},
     "output_type": "execute_result"
    }
   ],
   "source": [
    "groupby_features_nonlist = [x for x in groupby_features.columns if '-list' not in x]\n",
    "groupby_features_nonlist"
   ]
  },
  {
   "cell_type": "code",
   "execution_count": 45,
   "metadata": {},
   "outputs": [],
   "source": [
    "SESSIONS_MAX_LENGTH = 20 \n",
    "MINIMUM_SESSION_LENGTH = 2"
   ]
  },
  {
   "cell_type": "code",
   "execution_count": 46,
   "metadata": {},
   "outputs": [],
   "source": [
    "groupby_features_trim = ((groupby_features - groupby_features_nonlist)) >> nvt.ops.ListSlice(0,SESSIONS_MAX_LENGTH) >> nvt.ops.Rename(postfix = '_trim')"
   ]
  },
  {
   "cell_type": "code",
   "execution_count": 48,
   "metadata": {},
   "outputs": [],
   "source": [
    "# calculate session day index based on 'timestamp-first' column\n",
    "# remaining_columns = [x for x in groupby_features.columns if x!= 'event_time_dt-first']"
   ]
  },
  {
   "cell_type": "code",
   "execution_count": 52,
   "metadata": {},
   "outputs": [],
   "source": [
    "day_index = (groupby_features['event_time_dt-first'] >> \n",
    "    nvt.ops.LambdaOp(lambda col: (col - col.min()).dt.days +1) >> \n",
    "    nvt.ops.Rename(f = lambda col: \"day_index\")\n",
    ")"
   ]
  },
  {
   "cell_type": "code",
   "execution_count": 53,
   "metadata": {},
   "outputs": [],
   "source": [
    "day_idx_padded = day_index >> (lambda col: col.astype(str).str.pad(4,fillchar='0')) >> nvt.ops.Rename(f = lambda col: \"day_idx_padded\")"
   ]
  },
  {
   "cell_type": "code",
   "execution_count": 54,
   "metadata": {},
   "outputs": [],
   "source": [
    "rename_cols = {\"product_id_idx-count\": \"session_size\"} \n",
    "groupby_features = groupby_features >> nvt.ops.Rename(lambda col: rename_cols.get(col, col))"
   ]
  },
  {
   "cell_type": "code",
   "execution_count": 55,
   "metadata": {},
   "outputs": [],
   "source": [
    "filtered_sessions = (groupby_features + groupby_features_trim + day_index + day_idx_padded) >> \\\n",
    "                     nvt.ops.Filter(f=lambda df: df[\"session_size\"] >= MINIMUM_SESSION_LENGTH)"
   ]
  },
  {
   "cell_type": "code",
   "execution_count": 58,
   "metadata": {},
   "outputs": [
    {
     "data": {
      "text/plain": [
       "['/workspace/ecommerce/input/input.parquet']"
      ]
     },
     "execution_count": 58,
     "metadata": {},
     "output_type": "execute_result"
    }
   ],
   "source": [
    "# define the path of the saved parquet files \n",
    "\n",
    "input_paths = glob.glob(os.path.join(INPUT_PATH, '*.parquet'))\n",
    "input_paths"
   ]
  },
  {
   "cell_type": "code",
   "execution_count": 59,
   "metadata": {},
   "outputs": [],
   "source": [
    "selected_features = filtered_sessions['user_id_idx-first', 'user_session', 'event_time_ts-first', 'product_id_idx-list_trim', 'event_time_ts-list_trim', 'event_type_idx-list_trim',\n",
    "                 'category_id_idx-list_trim', 'category_code_idx-list_trim', 'brand_idx-list_trim', 'price_log_norm-list_trim', 'delta_event_secs_log_norm-list_trim', \n",
    "                'product_recency_days_log_norm-list_trim', 'relative_price_to_avg_categ_id-list_trim', 'et_hour_sin-list_trim', 'et_hour_cos-list_trim', \n",
    "                'et_month_sin-list_trim', 'et_month_cos-list_trim', 'et_dayofweek_sin-list_trim', 'et_dayofweek_cos-list_trim', 'et_dayofmonth_sin-list_trim', \n",
    "                'et_dayofmonth_cos-list_trim', 'session_size', 'day_idx_padded']"
   ]
  },
  {
   "cell_type": "code",
   "execution_count": 60,
   "metadata": {},
   "outputs": [
    {
     "name": "stderr",
     "output_type": "stream",
     "text": [
      "/root/.local/lib/python3.8/site-packages/numba-0.54.0rc2-py3.8-linux-x86_64.egg/numba/cuda/compiler.py:865: NumbaPerformanceWarning: \u001b[1mGrid size (1) < 2 * SM count (160) will likely result in GPU under utilization due to low occupancy.\u001b[0m\n",
      "  warn(NumbaPerformanceWarning(msg))\n",
      "/root/.local/lib/python3.8/site-packages/numba-0.54.0rc2-py3.8-linux-x86_64.egg/numba/cuda/compiler.py:865: NumbaPerformanceWarning: \u001b[1mGrid size (1) < 2 * SM count (160) will likely result in GPU under utilization due to low occupancy.\u001b[0m\n",
      "  warn(NumbaPerformanceWarning(msg))\n",
      "/root/.local/lib/python3.8/site-packages/numba-0.54.0rc2-py3.8-linux-x86_64.egg/numba/cuda/compiler.py:865: NumbaPerformanceWarning: \u001b[1mGrid size (1) < 2 * SM count (160) will likely result in GPU under utilization due to low occupancy.\u001b[0m\n",
      "  warn(NumbaPerformanceWarning(msg))\n"
     ]
    }
   ],
   "source": [
    "dataset = nvt.Dataset(input_paths, part_size=\"500MB\")\n",
    "workflow = nvt.Workflow(selected_features)\n",
    "workflow.fit(dataset)"
   ]
  },
  {
   "cell_type": "code",
   "execution_count": 61,
   "metadata": {},
   "outputs": [
    {
     "data": {
      "text/html": [
       "<div>\n",
       "<style scoped>\n",
       "    .dataframe tbody tr th:only-of-type {\n",
       "        vertical-align: middle;\n",
       "    }\n",
       "\n",
       "    .dataframe tbody tr th {\n",
       "        vertical-align: top;\n",
       "    }\n",
       "\n",
       "    .dataframe thead th {\n",
       "        text-align: right;\n",
       "    }\n",
       "</style>\n",
       "<table border=\"1\" class=\"dataframe\">\n",
       "  <thead>\n",
       "    <tr style=\"text-align: right;\">\n",
       "      <th></th>\n",
       "      <th>user_id_idx-first</th>\n",
       "      <th>user_session</th>\n",
       "      <th>event_time_ts-first</th>\n",
       "      <th>product_id_idx-list_trim</th>\n",
       "      <th>event_time_ts-list_trim</th>\n",
       "      <th>event_type_idx-list_trim</th>\n",
       "      <th>category_id_idx-list_trim</th>\n",
       "      <th>category_code_idx-list_trim</th>\n",
       "      <th>brand_idx-list_trim</th>\n",
       "      <th>price_log_norm-list_trim</th>\n",
       "      <th>...</th>\n",
       "      <th>et_hour_sin-list_trim</th>\n",
       "      <th>et_hour_cos-list_trim</th>\n",
       "      <th>et_month_sin-list_trim</th>\n",
       "      <th>et_month_cos-list_trim</th>\n",
       "      <th>et_dayofweek_sin-list_trim</th>\n",
       "      <th>et_dayofweek_cos-list_trim</th>\n",
       "      <th>et_dayofmonth_sin-list_trim</th>\n",
       "      <th>et_dayofmonth_cos-list_trim</th>\n",
       "      <th>session_size</th>\n",
       "      <th>day_idx_padded</th>\n",
       "    </tr>\n",
       "  </thead>\n",
       "  <tbody>\n",
       "    <tr>\n",
       "      <th>0</th>\n",
       "      <td>73</td>\n",
       "      <td>1</td>\n",
       "      <td>1569900208</td>\n",
       "      <td>[26847, 111411, 31915, 10388, 28421, 670, 897,...</td>\n",
       "      <td>[1569900208, 1569900523, 1569900702, 156990268...</td>\n",
       "      <td>[1, 1, 1, 1, 1, 1, 1, 1, 1, 1, 1, 1, 1, 1, 1, ...</td>\n",
       "      <td>[2, 2, 2, 2, 2, 19, 19, 19, 19, 19, 19, 19, 19...</td>\n",
       "      <td>[1, 1, 1, 1, 1, 16, 16, 16, 16, 16, 16, 16, 16...</td>\n",
       "      <td>[190, 111, 275, 290, 536, 31, 10, 31, 416, 185...</td>\n",
       "      <td>[-0.5968719, -0.5826299, -0.5769155, -0.947719...</td>\n",
       "      <td>...</td>\n",
       "      <td>[0.707107, 0.707107, 0.707107, 0.86602557, 0.8...</td>\n",
       "      <td>[0.70710653, 0.70710653, 0.70710653, 0.4999997...</td>\n",
       "      <td>[0.5000004, 0.5000004, 0.5000004, 0.5000004, 0...</td>\n",
       "      <td>[0.86602515, 0.86602515, 0.86602515, 0.8660251...</td>\n",
       "      <td>[0.9749277, 0.9749277, 0.9749277, 0.9749277, 0...</td>\n",
       "      <td>[-0.22252177, -0.22252177, -0.22252177, -0.222...</td>\n",
       "      <td>[0.5712684, 0.5712684, 0.5712684, 0.72479296, ...</td>\n",
       "      <td>[0.82076335, 0.82076335, 0.82076335, 0.6889667...</td>\n",
       "      <td>779</td>\n",
       "      <td>0001</td>\n",
       "    </tr>\n",
       "    <tr>\n",
       "      <th>1</th>\n",
       "      <td>17</td>\n",
       "      <td>2</td>\n",
       "      <td>1571718982</td>\n",
       "      <td>[620, 2933, 620, 2762, 11452, 34, 265, 761, 11...</td>\n",
       "      <td>[1571718982, 1571719023, 1571719135, 157171947...</td>\n",
       "      <td>[1, 1, 1, 1, 1, 1, 1, 1, 1, 1, 1, 1, 1, 1, 1, ...</td>\n",
       "      <td>[12, 12, 12, 5, 5, 5, 5, 5, 5, 5, 5, 5, 5, 5, ...</td>\n",
       "      <td>[8, 8, 8, 6, 6, 6, 6, 6, 6, 6, 6, 6, 6, 6, 6, ...</td>\n",
       "      <td>[1, 43, 1, 15, 15, 15, 15, 15, 15, 15, 15, 15,...</td>\n",
       "      <td>[0.08458562, -0.24322416, 0.08458562, -0.14456...</td>\n",
       "      <td>...</td>\n",
       "      <td>[0.86602557, 0.86602557, 0.86602557, 0.8660255...</td>\n",
       "      <td>[0.49999976, 0.49999976, 0.49999976, 0.4999997...</td>\n",
       "      <td>[0.5000004, 0.5000004, 0.5000004, 0.5000004, 0...</td>\n",
       "      <td>[0.86602515, 0.86602515, 0.86602515, 0.8660251...</td>\n",
       "      <td>[0.9749277, 0.9749277, 0.9749277, 0.9749277, 0...</td>\n",
       "      <td>[-0.22252177, -0.22252177, -0.22252177, -0.222...</td>\n",
       "      <td>[0.72479296, 0.72479296, 0.72479296, 0.7247929...</td>\n",
       "      <td>[0.68896675, 0.68896675, 0.68896675, 0.6889667...</td>\n",
       "      <td>1008</td>\n",
       "      <td>0022</td>\n",
       "    </tr>\n",
       "    <tr>\n",
       "      <th>2</th>\n",
       "      <td>276</td>\n",
       "      <td>3</td>\n",
       "      <td>1571905625</td>\n",
       "      <td>[1490, 2014, 1490, 306, 99, 316, 1865, 543, 31...</td>\n",
       "      <td>[1571905625, 1571906083, 1571906151, 157190618...</td>\n",
       "      <td>[1, 1, 1, 1, 1, 1, 1, 1, 1, 1, 1, 1, 1, 1, 1, ...</td>\n",
       "      <td>[3, 3, 3, 3, 3, 3, 3, 3, 3, 3, 3, 3, 3, 3, 3, ...</td>\n",
       "      <td>[4, 4, 4, 4, 4, 4, 4, 4, 4, 4, 4, 4, 4, 4, 4, ...</td>\n",
       "      <td>[24, 11, 24, 11, 11, 24, 16, 16, 24, 1, 24, 24...</td>\n",
       "      <td>[0.94210273, 0.95062035, 0.94210273, 1.1711533...</td>\n",
       "      <td>...</td>\n",
       "      <td>[0.86602527, 0.86602527, 0.86602527, 0.8660252...</td>\n",
       "      <td>[-0.5000003, -0.5000003, -0.5000003, -0.500000...</td>\n",
       "      <td>[1.0, 1.0, 1.0, 1.0, 1.0, 1.0, 1.0, 1.0, 1.0, ...</td>\n",
       "      <td>[-6.3975784e-07, -6.3975784e-07, -6.3975784e-0...</td>\n",
       "      <td>[-0.43388462, -0.43388462, -0.43388462, -0.433...</td>\n",
       "      <td>[-0.90096843, -0.90096843, -0.90096843, -0.900...</td>\n",
       "      <td>[0.9987165, 0.9987165, 0.9987165, 0.9987165, 0...</td>\n",
       "      <td>[-0.050649345, -0.050649345, -0.050649345, -0....</td>\n",
       "      <td>353</td>\n",
       "      <td>0024</td>\n",
       "    </tr>\n",
       "    <tr>\n",
       "      <th>3</th>\n",
       "      <td>13</td>\n",
       "      <td>4</td>\n",
       "      <td>1572188123</td>\n",
       "      <td>[7316, 8857, 550, 2183, 409, 14689, 643, 1744,...</td>\n",
       "      <td>[1572188123, 1572188141, 1572188155, 157218819...</td>\n",
       "      <td>[1, 1, 1, 1, 1, 1, 1, 1, 1, 1, 1, 1, 1, 1, 1, ...</td>\n",
       "      <td>[10, 10, 10, 202, 31, 82, 56, 34, 413, 120, 10...</td>\n",
       "      <td>[10, 10, 10, 1, 21, 39, 1, 1, 1, 1, 10, 10, 1,...</td>\n",
       "      <td>[18, 25, 2, 1, 1, 28, 1, 1, 463, 1, 18, 18, 1,...</td>\n",
       "      <td>[-0.9334466, -0.6120558, -0.64176565, -1.15579...</td>\n",
       "      <td>...</td>\n",
       "      <td>[-0.50000036, -0.50000036, -0.50000036, -0.500...</td>\n",
       "      <td>[-0.8660252, -0.8660252, -0.8660252, -0.866025...</td>\n",
       "      <td>[-5.6425995e-07, -5.6425995e-07, -5.6425995e-0...</td>\n",
       "      <td>[-1.0, -1.0, -1.0, -1.0, -1.0, -1.0, -1.0, -1....</td>\n",
       "      <td>[1.1285199e-06, 1.1285199e-06, 1.1285199e-06, ...</td>\n",
       "      <td>[1.0, 1.0, 1.0, 1.0, 1.0, 1.0, 1.0, 1.0, 1.0, ...</td>\n",
       "      <td>[0.2993629, 0.2993629, 0.2993629, 0.2993629, 0...</td>\n",
       "      <td>[-0.95413935, -0.95413935, -0.95413935, -0.954...</td>\n",
       "      <td>365</td>\n",
       "      <td>0027</td>\n",
       "    </tr>\n",
       "    <tr>\n",
       "      <th>4</th>\n",
       "      <td>2100</td>\n",
       "      <td>5</td>\n",
       "      <td>1572535256</td>\n",
       "      <td>[170, 60, 4393, 856, 2545, 320, 33573, 2545, 8...</td>\n",
       "      <td>[1572535256, 1572535291, 1572535328, 157253539...</td>\n",
       "      <td>[1, 1, 1, 1, 1, 1, 1, 1, 1, 1, 1, 1, 1, 1, 1, ...</td>\n",
       "      <td>[5, 5, 5, 5, 5, 5, 5, 5, 5, 5, 5, 5, 5, 5, 5, ...</td>\n",
       "      <td>[6, 6, 6, 6, 6, 6, 6, 6, 6, 6, 6, 6, 6, 6, 6, ...</td>\n",
       "      <td>[2, 2, 221, 2, 36, 8, 1, 36, 2, 2, 10, 2, 8, 2...</td>\n",
       "      <td>[0.86096936, 0.95058733, 0.7281769, 0.9416705,...</td>\n",
       "      <td>...</td>\n",
       "      <td>[-0.70710707, -0.70710707, -0.70710707, -0.707...</td>\n",
       "      <td>[-0.70710653, -0.70710653, -0.70710653, -0.707...</td>\n",
       "      <td>[1.0, 1.0, 1.0, 1.0, 1.0, 1.0, 1.0, 1.0, 1.0, ...</td>\n",
       "      <td>[-6.3975784e-07, -6.3975784e-07, -6.3975784e-0...</td>\n",
       "      <td>[-0.43388462, -0.43388462, -0.43388462, -0.433...</td>\n",
       "      <td>[-0.90096843, -0.90096843, -0.90096843, -0.900...</td>\n",
       "      <td>[0.10116802, 0.10116802, 0.10116802, 0.1011680...</td>\n",
       "      <td>[-0.99486935, -0.99486935, -0.99486935, -0.994...</td>\n",
       "      <td>294</td>\n",
       "      <td>0031</td>\n",
       "    </tr>\n",
       "  </tbody>\n",
       "</table>\n",
       "<p>5 rows × 23 columns</p>\n",
       "</div>"
      ],
      "text/plain": [
       "   user_id_idx-first  user_session  event_time_ts-first  \\\n",
       "0                 73             1           1569900208   \n",
       "1                 17             2           1571718982   \n",
       "2                276             3           1571905625   \n",
       "3                 13             4           1572188123   \n",
       "4               2100             5           1572535256   \n",
       "\n",
       "                            product_id_idx-list_trim  \\\n",
       "0  [26847, 111411, 31915, 10388, 28421, 670, 897,...   \n",
       "1  [620, 2933, 620, 2762, 11452, 34, 265, 761, 11...   \n",
       "2  [1490, 2014, 1490, 306, 99, 316, 1865, 543, 31...   \n",
       "3  [7316, 8857, 550, 2183, 409, 14689, 643, 1744,...   \n",
       "4  [170, 60, 4393, 856, 2545, 320, 33573, 2545, 8...   \n",
       "\n",
       "                             event_time_ts-list_trim  \\\n",
       "0  [1569900208, 1569900523, 1569900702, 156990268...   \n",
       "1  [1571718982, 1571719023, 1571719135, 157171947...   \n",
       "2  [1571905625, 1571906083, 1571906151, 157190618...   \n",
       "3  [1572188123, 1572188141, 1572188155, 157218819...   \n",
       "4  [1572535256, 1572535291, 1572535328, 157253539...   \n",
       "\n",
       "                            event_type_idx-list_trim  \\\n",
       "0  [1, 1, 1, 1, 1, 1, 1, 1, 1, 1, 1, 1, 1, 1, 1, ...   \n",
       "1  [1, 1, 1, 1, 1, 1, 1, 1, 1, 1, 1, 1, 1, 1, 1, ...   \n",
       "2  [1, 1, 1, 1, 1, 1, 1, 1, 1, 1, 1, 1, 1, 1, 1, ...   \n",
       "3  [1, 1, 1, 1, 1, 1, 1, 1, 1, 1, 1, 1, 1, 1, 1, ...   \n",
       "4  [1, 1, 1, 1, 1, 1, 1, 1, 1, 1, 1, 1, 1, 1, 1, ...   \n",
       "\n",
       "                           category_id_idx-list_trim  \\\n",
       "0  [2, 2, 2, 2, 2, 19, 19, 19, 19, 19, 19, 19, 19...   \n",
       "1  [12, 12, 12, 5, 5, 5, 5, 5, 5, 5, 5, 5, 5, 5, ...   \n",
       "2  [3, 3, 3, 3, 3, 3, 3, 3, 3, 3, 3, 3, 3, 3, 3, ...   \n",
       "3  [10, 10, 10, 202, 31, 82, 56, 34, 413, 120, 10...   \n",
       "4  [5, 5, 5, 5, 5, 5, 5, 5, 5, 5, 5, 5, 5, 5, 5, ...   \n",
       "\n",
       "                         category_code_idx-list_trim  \\\n",
       "0  [1, 1, 1, 1, 1, 16, 16, 16, 16, 16, 16, 16, 16...   \n",
       "1  [8, 8, 8, 6, 6, 6, 6, 6, 6, 6, 6, 6, 6, 6, 6, ...   \n",
       "2  [4, 4, 4, 4, 4, 4, 4, 4, 4, 4, 4, 4, 4, 4, 4, ...   \n",
       "3  [10, 10, 10, 1, 21, 39, 1, 1, 1, 1, 10, 10, 1,...   \n",
       "4  [6, 6, 6, 6, 6, 6, 6, 6, 6, 6, 6, 6, 6, 6, 6, ...   \n",
       "\n",
       "                                 brand_idx-list_trim  \\\n",
       "0  [190, 111, 275, 290, 536, 31, 10, 31, 416, 185...   \n",
       "1  [1, 43, 1, 15, 15, 15, 15, 15, 15, 15, 15, 15,...   \n",
       "2  [24, 11, 24, 11, 11, 24, 16, 16, 24, 1, 24, 24...   \n",
       "3  [18, 25, 2, 1, 1, 28, 1, 1, 463, 1, 18, 18, 1,...   \n",
       "4  [2, 2, 221, 2, 36, 8, 1, 36, 2, 2, 10, 2, 8, 2...   \n",
       "\n",
       "                            price_log_norm-list_trim  ...  \\\n",
       "0  [-0.5968719, -0.5826299, -0.5769155, -0.947719...  ...   \n",
       "1  [0.08458562, -0.24322416, 0.08458562, -0.14456...  ...   \n",
       "2  [0.94210273, 0.95062035, 0.94210273, 1.1711533...  ...   \n",
       "3  [-0.9334466, -0.6120558, -0.64176565, -1.15579...  ...   \n",
       "4  [0.86096936, 0.95058733, 0.7281769, 0.9416705,...  ...   \n",
       "\n",
       "                               et_hour_sin-list_trim  \\\n",
       "0  [0.707107, 0.707107, 0.707107, 0.86602557, 0.8...   \n",
       "1  [0.86602557, 0.86602557, 0.86602557, 0.8660255...   \n",
       "2  [0.86602527, 0.86602527, 0.86602527, 0.8660252...   \n",
       "3  [-0.50000036, -0.50000036, -0.50000036, -0.500...   \n",
       "4  [-0.70710707, -0.70710707, -0.70710707, -0.707...   \n",
       "\n",
       "                               et_hour_cos-list_trim  \\\n",
       "0  [0.70710653, 0.70710653, 0.70710653, 0.4999997...   \n",
       "1  [0.49999976, 0.49999976, 0.49999976, 0.4999997...   \n",
       "2  [-0.5000003, -0.5000003, -0.5000003, -0.500000...   \n",
       "3  [-0.8660252, -0.8660252, -0.8660252, -0.866025...   \n",
       "4  [-0.70710653, -0.70710653, -0.70710653, -0.707...   \n",
       "\n",
       "                              et_month_sin-list_trim  \\\n",
       "0  [0.5000004, 0.5000004, 0.5000004, 0.5000004, 0...   \n",
       "1  [0.5000004, 0.5000004, 0.5000004, 0.5000004, 0...   \n",
       "2  [1.0, 1.0, 1.0, 1.0, 1.0, 1.0, 1.0, 1.0, 1.0, ...   \n",
       "3  [-5.6425995e-07, -5.6425995e-07, -5.6425995e-0...   \n",
       "4  [1.0, 1.0, 1.0, 1.0, 1.0, 1.0, 1.0, 1.0, 1.0, ...   \n",
       "\n",
       "                              et_month_cos-list_trim  \\\n",
       "0  [0.86602515, 0.86602515, 0.86602515, 0.8660251...   \n",
       "1  [0.86602515, 0.86602515, 0.86602515, 0.8660251...   \n",
       "2  [-6.3975784e-07, -6.3975784e-07, -6.3975784e-0...   \n",
       "3  [-1.0, -1.0, -1.0, -1.0, -1.0, -1.0, -1.0, -1....   \n",
       "4  [-6.3975784e-07, -6.3975784e-07, -6.3975784e-0...   \n",
       "\n",
       "                          et_dayofweek_sin-list_trim  \\\n",
       "0  [0.9749277, 0.9749277, 0.9749277, 0.9749277, 0...   \n",
       "1  [0.9749277, 0.9749277, 0.9749277, 0.9749277, 0...   \n",
       "2  [-0.43388462, -0.43388462, -0.43388462, -0.433...   \n",
       "3  [1.1285199e-06, 1.1285199e-06, 1.1285199e-06, ...   \n",
       "4  [-0.43388462, -0.43388462, -0.43388462, -0.433...   \n",
       "\n",
       "                          et_dayofweek_cos-list_trim  \\\n",
       "0  [-0.22252177, -0.22252177, -0.22252177, -0.222...   \n",
       "1  [-0.22252177, -0.22252177, -0.22252177, -0.222...   \n",
       "2  [-0.90096843, -0.90096843, -0.90096843, -0.900...   \n",
       "3  [1.0, 1.0, 1.0, 1.0, 1.0, 1.0, 1.0, 1.0, 1.0, ...   \n",
       "4  [-0.90096843, -0.90096843, -0.90096843, -0.900...   \n",
       "\n",
       "                         et_dayofmonth_sin-list_trim  \\\n",
       "0  [0.5712684, 0.5712684, 0.5712684, 0.72479296, ...   \n",
       "1  [0.72479296, 0.72479296, 0.72479296, 0.7247929...   \n",
       "2  [0.9987165, 0.9987165, 0.9987165, 0.9987165, 0...   \n",
       "3  [0.2993629, 0.2993629, 0.2993629, 0.2993629, 0...   \n",
       "4  [0.10116802, 0.10116802, 0.10116802, 0.1011680...   \n",
       "\n",
       "                         et_dayofmonth_cos-list_trim session_size  \\\n",
       "0  [0.82076335, 0.82076335, 0.82076335, 0.6889667...          779   \n",
       "1  [0.68896675, 0.68896675, 0.68896675, 0.6889667...         1008   \n",
       "2  [-0.050649345, -0.050649345, -0.050649345, -0....          353   \n",
       "3  [-0.95413935, -0.95413935, -0.95413935, -0.954...          365   \n",
       "4  [-0.99486935, -0.99486935, -0.99486935, -0.994...          294   \n",
       "\n",
       "   day_idx_padded  \n",
       "0            0001  \n",
       "1            0022  \n",
       "2            0024  \n",
       "3            0027  \n",
       "4            0031  \n",
       "\n",
       "[5 rows x 23 columns]"
      ]
     },
     "execution_count": 61,
     "metadata": {},
     "output_type": "execute_result"
    }
   ],
   "source": [
    "sessions_gdf = workflow.transform(dataset).to_ddf()\n",
    "sessions_gdf.head()"
   ]
  },
  {
   "cell_type": "code",
   "execution_count": 62,
   "metadata": {},
   "outputs": [
    {
     "data": {
      "text/plain": [
       "['user_id_idx-first',\n",
       " 'user_session',\n",
       " 'event_time_ts-first',\n",
       " 'product_id_idx-list_trim',\n",
       " 'event_time_ts-list_trim',\n",
       " 'event_type_idx-list_trim',\n",
       " 'category_id_idx-list_trim',\n",
       " 'category_code_idx-list_trim',\n",
       " 'brand_idx-list_trim',\n",
       " 'price_log_norm-list_trim',\n",
       " 'delta_event_secs_log_norm-list_trim',\n",
       " 'product_recency_days_log_norm-list_trim',\n",
       " 'relative_price_to_avg_categ_id-list_trim',\n",
       " 'et_hour_sin-list_trim',\n",
       " 'et_hour_cos-list_trim',\n",
       " 'et_month_sin-list_trim',\n",
       " 'et_month_cos-list_trim',\n",
       " 'et_dayofweek_sin-list_trim',\n",
       " 'et_dayofweek_cos-list_trim',\n",
       " 'et_dayofmonth_sin-list_trim',\n",
       " 'et_dayofmonth_cos-list_trim',\n",
       " 'session_size',\n",
       " 'day_idx_padded']"
      ]
     },
     "execution_count": 62,
     "metadata": {},
     "output_type": "execute_result"
    }
   ],
   "source": [
    "workflow.column_group.columns"
   ]
  },
  {
   "cell_type": "markdown",
   "metadata": {},
   "source": [
    "- NVTabular provides a useful op to print out (cardinality, emb_dim) tuples for each categorical column. Note that here the `emb_dim` value is calculated from the `emb_sz_rule` [function](https://github.com/NVIDIA/NVTabular/blob/bc4eef46f80140986d5c7e2893ed35b69fc8030a/nvtabular/ops/categorify.py#L528). "
   ]
  },
  {
   "cell_type": "code",
   "execution_count": 63,
   "metadata": {},
   "outputs": [
    {
     "data": {
      "text/plain": [
       "{'category_code_idx': (128, 24),\n",
       " 'brand_idx': (3446, 153),\n",
       " 'user_id_idx': (3022271, 512),\n",
       " 'product_id_idx': (166795, 512),\n",
       " 'category_id_idx': (625, 59),\n",
       " 'event_type_idx': (4, 16)}"
      ]
     },
     "execution_count": 63,
     "metadata": {},
     "output_type": "execute_result"
    }
   ],
   "source": [
    "cat_feats.op.get_embedding_sizes(cat_feats.columns)"
   ]
  },
  {
   "cell_type": "markdown",
   "metadata": {},
   "source": [
    "## Exporting data"
   ]
  },
  {
   "cell_type": "markdown",
   "metadata": {},
   "source": [
    "- Export dataset to parquet, partioned by the session day_idx_padded column"
   ]
  },
  {
   "cell_type": "code",
   "execution_count": 65,
   "metadata": {},
   "outputs": [],
   "source": [
    "PARTITION_COL = 'day_idx_padded'\n",
    "\n",
    "# Convert to a Dataset and write out hive-partitioned data to disk\n",
    "workflow.transform(dataset).to_parquet(OUTPUT_DATA_DIR, partition_on=[PARTITION_COL])"
   ]
  },
  {
   "cell_type": "markdown",
   "metadata": {},
   "source": [
    "## Converting to the HF4Rec dir structure and splitting dataset¶\n",
    "- Move to pandas to be able to save as required file structure to load back in the model."
   ]
  },
  {
   "cell_type": "code",
   "execution_count": 71,
   "metadata": {},
   "outputs": [],
   "source": [
    "OUTPUT_FOLDER = \"/workspace/ecommerce-rees/sessions_by_day_ts\"\n",
    "!mkdir -p $OUTPUT_FOLDER"
   ]
  },
  {
   "cell_type": "code",
   "execution_count": 74,
   "metadata": {},
   "outputs": [],
   "source": [
    "rename_columns = ['user_idx', 'user_session', 'session_start_ts', 'sess_pid_seq', 'sess_etime_seq', 'sess_etype_seq', 'sess_csid_seq', 'sess_ccid_seq', 'sess_bid_seq',\n",
    "            'sess_price_log_norm_seq', 'sess_dtime_secs_log_norm_seq', 'sess_prod_recency_days_log_norm_seq',\n",
    "            'sess_relative_price_to_avg_category_seq', 'sess_et_hour_sin_seq', 'sess_et_hour_cos_seq', 'sess_et_month_sin_seq', 'sess_et_month_cos_seq', \n",
    "            'sess_et_dayofweek_sin_seq', 'sess_et_dayofweek_cos_seq', 'sess_et_dayofmonth_sin_seq', 'sess_et_dayofmonth_cos_seq', 'session_size']"
   ]
  },
  {
   "cell_type": "code",
   "execution_count": 75,
   "metadata": {},
   "outputs": [],
   "source": [
    "# Save the final parquet files into the required file structure to be used in the model training and evaluation.\n",
    "days_folders = [f for f in sorted(os.listdir(OUTPUT_DATA_DIR)) if f.startswith(PARTITION_COL)]\n",
    "for day_folder in days_folders:\n",
    "    df = pd.read_parquet(os.path.join(OUTPUT_DATA_DIR, day_folder))\n",
    "    df = df.sort_values('event_time_ts-first')\n",
    "    df.columns = rename_columns\n",
    "    out_folder = os.path.join(OUTPUT_FOLDER, day_folder.replace('day_idx_padded=', ''))\n",
    "    os.makedirs(out_folder, exist_ok=True)\n",
    "    \n",
    "    df.to_parquet(os.path.join(out_folder, 'train.parquet'))\n",
    "    \n",
    "    random_values = np.random.rand(len(df))\n",
    "    \n",
    "    #Extracts 10% for valid and test set. Those sessions are also in the train set, but as evaluation\n",
    "    #happens only for the subsequent day of training, that is not an issue, and we can keep the train set larger.\n",
    "    valid_set = df[random_values <= 0.10]\n",
    "    valid_set.to_parquet(os.path.join(out_folder, 'valid.parquet'))\n",
    "    test_set = df[random_values >= 0.90]\n",
    "    test_set.to_parquet(os.path.join(out_folder, 'test.parquet'))"
   ]
  },
  {
   "cell_type": "markdown",
   "metadata": {},
   "source": [
    "### Check exported dataset"
   ]
  },
  {
   "cell_type": "code",
   "execution_count": 76,
   "metadata": {},
   "outputs": [
    {
     "data": {
      "text/html": [
       "<div>\n",
       "<style scoped>\n",
       "    .dataframe tbody tr th:only-of-type {\n",
       "        vertical-align: middle;\n",
       "    }\n",
       "\n",
       "    .dataframe tbody tr th {\n",
       "        vertical-align: top;\n",
       "    }\n",
       "\n",
       "    .dataframe thead th {\n",
       "        text-align: right;\n",
       "    }\n",
       "</style>\n",
       "<table border=\"1\" class=\"dataframe\">\n",
       "  <thead>\n",
       "    <tr style=\"text-align: right;\">\n",
       "      <th></th>\n",
       "      <th>user_idx</th>\n",
       "      <th>user_session</th>\n",
       "      <th>session_start_ts</th>\n",
       "      <th>sess_pid_seq</th>\n",
       "      <th>sess_etime_seq</th>\n",
       "      <th>sess_etype_seq</th>\n",
       "      <th>sess_csid_seq</th>\n",
       "      <th>sess_ccid_seq</th>\n",
       "      <th>sess_bid_seq</th>\n",
       "      <th>sess_price_log_norm_seq</th>\n",
       "      <th>...</th>\n",
       "      <th>sess_relative_price_to_avg_category_seq</th>\n",
       "      <th>sess_et_hour_sin_seq</th>\n",
       "      <th>sess_et_hour_cos_seq</th>\n",
       "      <th>sess_et_month_sin_seq</th>\n",
       "      <th>sess_et_month_cos_seq</th>\n",
       "      <th>sess_et_dayofweek_sin_seq</th>\n",
       "      <th>sess_et_dayofweek_cos_seq</th>\n",
       "      <th>sess_et_dayofmonth_sin_seq</th>\n",
       "      <th>sess_et_dayofmonth_cos_seq</th>\n",
       "      <th>session_size</th>\n",
       "    </tr>\n",
       "  </thead>\n",
       "  <tbody>\n",
       "    <tr>\n",
       "      <th>47879</th>\n",
       "      <td>366900</td>\n",
       "      <td>1637332</td>\n",
       "      <td>1569888001</td>\n",
       "      <td>[222, 1579, 19587, 1579, 222, 1467, 306]</td>\n",
       "      <td>[1569888001, 1569888019, 1569888065, 156988810...</td>\n",
       "      <td>[1, 1, 1, 1, 1, 1, 1]</td>\n",
       "      <td>[3, 3, 3, 3, 3, 3, 3]</td>\n",
       "      <td>[4, 4, 4, 4, 4, 4, 4]</td>\n",
       "      <td>[14, 16, 16, 16, 14, 11, 11]</td>\n",
       "      <td>[0.41740003, 1.089425, 1.8598971, 1.089425, 0....</td>\n",
       "      <td>...</td>\n",
       "      <td>[-0.6585854756736873, -0.2121860529279741, 1.0...</td>\n",
       "      <td>[2.6179939e-07, 2.6179939e-07, 2.6179939e-07, ...</td>\n",
       "      <td>[1.0, 1.0, 1.0, 1.0, 1.0, 1.0, 1.0]</td>\n",
       "      <td>[0.5000004, 0.5000004, 0.5000004, 0.5000004, 0...</td>\n",
       "      <td>[0.86602515, 0.86602515, 0.86602515, 0.8660251...</td>\n",
       "      <td>[0.9749277, 0.9749277, 0.9749277, 0.9749277, 0...</td>\n",
       "      <td>[-0.22252177, -0.22252177, -0.22252177, -0.222...</td>\n",
       "      <td>[2.0268341e-07, 2.0268341e-07, 2.0268341e-07, ...</td>\n",
       "      <td>[1.0, 1.0, 1.0, 1.0, 1.0, 1.0, 1.0]</td>\n",
       "      <td>7</td>\n",
       "    </tr>\n",
       "    <tr>\n",
       "      <th>21660</th>\n",
       "      <td>425512</td>\n",
       "      <td>730655</td>\n",
       "      <td>1569888001</td>\n",
       "      <td>[4853, 81, 146, 132, 381, 519, 1558, 5046, 155...</td>\n",
       "      <td>[1569888001, 1569888069, 1569888086, 156988820...</td>\n",
       "      <td>[1, 1, 1, 1, 1, 1, 1, 1, 1, 1, 1]</td>\n",
       "      <td>[31, 14, 14, 14, 14, 14, 14, 14, 14, 14, 14]</td>\n",
       "      <td>[21, 1, 1, 1, 1, 1, 1, 1, 1, 1, 1]</td>\n",
       "      <td>[1, 1, 42, 1, 1, 1, 1, 1, 1, 1, 1]</td>\n",
       "      <td>[1.0353123, 0.43446755, 0.9506203, 0.96737427,...</td>\n",
       "      <td>...</td>\n",
       "      <td>[-0.13391444424434915, -0.5523576406449782, -0...</td>\n",
       "      <td>[2.6179939e-07, 2.6179939e-07, 2.6179939e-07, ...</td>\n",
       "      <td>[1.0, 1.0, 1.0, 1.0, 1.0, 1.0, 1.0, 1.0, 1.0, ...</td>\n",
       "      <td>[0.5000004, 0.5000004, 0.5000004, 0.5000004, 0...</td>\n",
       "      <td>[0.86602515, 0.86602515, 0.86602515, 0.8660251...</td>\n",
       "      <td>[0.9749277, 0.9749277, 0.9749277, 0.9749277, 0...</td>\n",
       "      <td>[-0.22252177, -0.22252177, -0.22252177, -0.222...</td>\n",
       "      <td>[2.0268341e-07, 2.0268341e-07, 2.0268341e-07, ...</td>\n",
       "      <td>[1.0, 1.0, 1.0, 1.0, 1.0, 1.0, 1.0, 1.0, 1.0, ...</td>\n",
       "      <td>11</td>\n",
       "    </tr>\n",
       "    <tr>\n",
       "      <th>110498</th>\n",
       "      <td>101880</td>\n",
       "      <td>4202155</td>\n",
       "      <td>1569888004</td>\n",
       "      <td>[40, 17]</td>\n",
       "      <td>[1569888004, 1569888019]</td>\n",
       "      <td>[1, 1]</td>\n",
       "      <td>[1, 1]</td>\n",
       "      <td>[2, 2]</td>\n",
       "      <td>[3, 3]</td>\n",
       "      <td>[1.5900187, 1.9761946]</td>\n",
       "      <td>...</td>\n",
       "      <td>[1.1859394700323467, 2.5310848133309625]</td>\n",
       "      <td>[2.6179939e-07, 2.6179939e-07]</td>\n",
       "      <td>[1.0, 1.0]</td>\n",
       "      <td>[0.5000004, 0.5000004]</td>\n",
       "      <td>[0.86602515, 0.86602515]</td>\n",
       "      <td>[0.9749277, 0.9749277]</td>\n",
       "      <td>[-0.22252177, -0.22252177]</td>\n",
       "      <td>[2.0268341e-07, 2.0268341e-07]</td>\n",
       "      <td>[1.0, 1.0]</td>\n",
       "      <td>2</td>\n",
       "    </tr>\n",
       "    <tr>\n",
       "      <th>52597</th>\n",
       "      <td>135811</td>\n",
       "      <td>1808164</td>\n",
       "      <td>1569888005</td>\n",
       "      <td>[12538, 8620, 10200, 117715, 5831]</td>\n",
       "      <td>[1569888005, 1569888022, 1569888093, 156988810...</td>\n",
       "      <td>[1, 1, 1, 1, 1]</td>\n",
       "      <td>[28, 28, 28, 28, 84]</td>\n",
       "      <td>[13, 13, 13, 13, 50]</td>\n",
       "      <td>[64, 64, 64, 64, 137]</td>\n",
       "      <td>[1.4494404, 1.4607624, 1.5130013, 1.5399413, 0...</td>\n",
       "      <td>...</td>\n",
       "      <td>[0.11695417577696178, 0.1327750912776656, 0.20...</td>\n",
       "      <td>[2.6179939e-07, 2.6179939e-07, 2.6179939e-07, ...</td>\n",
       "      <td>[1.0, 1.0, 1.0, 1.0, 1.0]</td>\n",
       "      <td>[0.5000004, 0.5000004, 0.5000004, 0.5000004, 0...</td>\n",
       "      <td>[0.86602515, 0.86602515, 0.86602515, 0.8660251...</td>\n",
       "      <td>[0.9749277, 0.9749277, 0.9749277, 0.9749277, 0...</td>\n",
       "      <td>[-0.22252177, -0.22252177, -0.22252177, -0.222...</td>\n",
       "      <td>[2.0268341e-07, 2.0268341e-07, 2.0268341e-07, ...</td>\n",
       "      <td>[1.0, 1.0, 1.0, 1.0, 1.0]</td>\n",
       "      <td>5</td>\n",
       "    </tr>\n",
       "    <tr>\n",
       "      <th>101874</th>\n",
       "      <td>1611628</td>\n",
       "      <td>3794756</td>\n",
       "      <td>1569888008</td>\n",
       "      <td>[1648, 4902, 1887]</td>\n",
       "      <td>[1569888008, 1569888027, 1569888044]</td>\n",
       "      <td>[1, 1, 1]</td>\n",
       "      <td>[49, 49, 49]</td>\n",
       "      <td>[1, 1, 1]</td>\n",
       "      <td>[59, 1, 59]</td>\n",
       "      <td>[-1.0258108, 0.08173744, -0.121775955]</td>\n",
       "      <td>...</td>\n",
       "      <td>[-0.6828106042565476, 0.2764638365147098, -0.0...</td>\n",
       "      <td>[2.6179939e-07, 2.6179939e-07, 2.6179939e-07]</td>\n",
       "      <td>[1.0, 1.0, 1.0]</td>\n",
       "      <td>[0.5000004, 0.5000004, 0.5000004]</td>\n",
       "      <td>[0.86602515, 0.86602515, 0.86602515]</td>\n",
       "      <td>[0.9749277, 0.9749277, 0.9749277]</td>\n",
       "      <td>[-0.22252177, -0.22252177, -0.22252177]</td>\n",
       "      <td>[2.0268341e-07, 2.0268341e-07, 2.0268341e-07]</td>\n",
       "      <td>[1.0, 1.0, 1.0]</td>\n",
       "      <td>3</td>\n",
       "    </tr>\n",
       "  </tbody>\n",
       "</table>\n",
       "<p>5 rows × 22 columns</p>\n",
       "</div>"
      ],
      "text/plain": [
       "        user_idx  user_session  session_start_ts  \\\n",
       "47879     366900       1637332        1569888001   \n",
       "21660     425512        730655        1569888001   \n",
       "110498    101880       4202155        1569888004   \n",
       "52597     135811       1808164        1569888005   \n",
       "101874   1611628       3794756        1569888008   \n",
       "\n",
       "                                             sess_pid_seq  \\\n",
       "47879            [222, 1579, 19587, 1579, 222, 1467, 306]   \n",
       "21660   [4853, 81, 146, 132, 381, 519, 1558, 5046, 155...   \n",
       "110498                                           [40, 17]   \n",
       "52597                  [12538, 8620, 10200, 117715, 5831]   \n",
       "101874                                 [1648, 4902, 1887]   \n",
       "\n",
       "                                           sess_etime_seq  \\\n",
       "47879   [1569888001, 1569888019, 1569888065, 156988810...   \n",
       "21660   [1569888001, 1569888069, 1569888086, 156988820...   \n",
       "110498                           [1569888004, 1569888019]   \n",
       "52597   [1569888005, 1569888022, 1569888093, 156988810...   \n",
       "101874               [1569888008, 1569888027, 1569888044]   \n",
       "\n",
       "                           sess_etype_seq  \\\n",
       "47879               [1, 1, 1, 1, 1, 1, 1]   \n",
       "21660   [1, 1, 1, 1, 1, 1, 1, 1, 1, 1, 1]   \n",
       "110498                             [1, 1]   \n",
       "52597                     [1, 1, 1, 1, 1]   \n",
       "101874                          [1, 1, 1]   \n",
       "\n",
       "                                       sess_csid_seq  \\\n",
       "47879                          [3, 3, 3, 3, 3, 3, 3]   \n",
       "21660   [31, 14, 14, 14, 14, 14, 14, 14, 14, 14, 14]   \n",
       "110498                                        [1, 1]   \n",
       "52597                           [28, 28, 28, 28, 84]   \n",
       "101874                                  [49, 49, 49]   \n",
       "\n",
       "                             sess_ccid_seq  \\\n",
       "47879                [4, 4, 4, 4, 4, 4, 4]   \n",
       "21660   [21, 1, 1, 1, 1, 1, 1, 1, 1, 1, 1]   \n",
       "110498                              [2, 2]   \n",
       "52597                 [13, 13, 13, 13, 50]   \n",
       "101874                           [1, 1, 1]   \n",
       "\n",
       "                              sess_bid_seq  \\\n",
       "47879         [14, 16, 16, 16, 14, 11, 11]   \n",
       "21660   [1, 1, 42, 1, 1, 1, 1, 1, 1, 1, 1]   \n",
       "110498                              [3, 3]   \n",
       "52597                [64, 64, 64, 64, 137]   \n",
       "101874                         [59, 1, 59]   \n",
       "\n",
       "                                  sess_price_log_norm_seq  ...  \\\n",
       "47879   [0.41740003, 1.089425, 1.8598971, 1.089425, 0....  ...   \n",
       "21660   [1.0353123, 0.43446755, 0.9506203, 0.96737427,...  ...   \n",
       "110498                             [1.5900187, 1.9761946]  ...   \n",
       "52597   [1.4494404, 1.4607624, 1.5130013, 1.5399413, 0...  ...   \n",
       "101874             [-1.0258108, 0.08173744, -0.121775955]  ...   \n",
       "\n",
       "                  sess_relative_price_to_avg_category_seq  \\\n",
       "47879   [-0.6585854756736873, -0.2121860529279741, 1.0...   \n",
       "21660   [-0.13391444424434915, -0.5523576406449782, -0...   \n",
       "110498           [1.1859394700323467, 2.5310848133309625]   \n",
       "52597   [0.11695417577696178, 0.1327750912776656, 0.20...   \n",
       "101874  [-0.6828106042565476, 0.2764638365147098, -0.0...   \n",
       "\n",
       "                                     sess_et_hour_sin_seq  \\\n",
       "47879   [2.6179939e-07, 2.6179939e-07, 2.6179939e-07, ...   \n",
       "21660   [2.6179939e-07, 2.6179939e-07, 2.6179939e-07, ...   \n",
       "110498                     [2.6179939e-07, 2.6179939e-07]   \n",
       "52597   [2.6179939e-07, 2.6179939e-07, 2.6179939e-07, ...   \n",
       "101874      [2.6179939e-07, 2.6179939e-07, 2.6179939e-07]   \n",
       "\n",
       "                                     sess_et_hour_cos_seq  \\\n",
       "47879                 [1.0, 1.0, 1.0, 1.0, 1.0, 1.0, 1.0]   \n",
       "21660   [1.0, 1.0, 1.0, 1.0, 1.0, 1.0, 1.0, 1.0, 1.0, ...   \n",
       "110498                                         [1.0, 1.0]   \n",
       "52597                           [1.0, 1.0, 1.0, 1.0, 1.0]   \n",
       "101874                                    [1.0, 1.0, 1.0]   \n",
       "\n",
       "                                    sess_et_month_sin_seq  \\\n",
       "47879   [0.5000004, 0.5000004, 0.5000004, 0.5000004, 0...   \n",
       "21660   [0.5000004, 0.5000004, 0.5000004, 0.5000004, 0...   \n",
       "110498                             [0.5000004, 0.5000004]   \n",
       "52597   [0.5000004, 0.5000004, 0.5000004, 0.5000004, 0...   \n",
       "101874                  [0.5000004, 0.5000004, 0.5000004]   \n",
       "\n",
       "                                    sess_et_month_cos_seq  \\\n",
       "47879   [0.86602515, 0.86602515, 0.86602515, 0.8660251...   \n",
       "21660   [0.86602515, 0.86602515, 0.86602515, 0.8660251...   \n",
       "110498                           [0.86602515, 0.86602515]   \n",
       "52597   [0.86602515, 0.86602515, 0.86602515, 0.8660251...   \n",
       "101874               [0.86602515, 0.86602515, 0.86602515]   \n",
       "\n",
       "                                sess_et_dayofweek_sin_seq  \\\n",
       "47879   [0.9749277, 0.9749277, 0.9749277, 0.9749277, 0...   \n",
       "21660   [0.9749277, 0.9749277, 0.9749277, 0.9749277, 0...   \n",
       "110498                             [0.9749277, 0.9749277]   \n",
       "52597   [0.9749277, 0.9749277, 0.9749277, 0.9749277, 0...   \n",
       "101874                  [0.9749277, 0.9749277, 0.9749277]   \n",
       "\n",
       "                                sess_et_dayofweek_cos_seq  \\\n",
       "47879   [-0.22252177, -0.22252177, -0.22252177, -0.222...   \n",
       "21660   [-0.22252177, -0.22252177, -0.22252177, -0.222...   \n",
       "110498                         [-0.22252177, -0.22252177]   \n",
       "52597   [-0.22252177, -0.22252177, -0.22252177, -0.222...   \n",
       "101874            [-0.22252177, -0.22252177, -0.22252177]   \n",
       "\n",
       "                               sess_et_dayofmonth_sin_seq  \\\n",
       "47879   [2.0268341e-07, 2.0268341e-07, 2.0268341e-07, ...   \n",
       "21660   [2.0268341e-07, 2.0268341e-07, 2.0268341e-07, ...   \n",
       "110498                     [2.0268341e-07, 2.0268341e-07]   \n",
       "52597   [2.0268341e-07, 2.0268341e-07, 2.0268341e-07, ...   \n",
       "101874      [2.0268341e-07, 2.0268341e-07, 2.0268341e-07]   \n",
       "\n",
       "                               sess_et_dayofmonth_cos_seq session_size  \n",
       "47879                 [1.0, 1.0, 1.0, 1.0, 1.0, 1.0, 1.0]            7  \n",
       "21660   [1.0, 1.0, 1.0, 1.0, 1.0, 1.0, 1.0, 1.0, 1.0, ...           11  \n",
       "110498                                         [1.0, 1.0]            2  \n",
       "52597                           [1.0, 1.0, 1.0, 1.0, 1.0]            5  \n",
       "101874                                    [1.0, 1.0, 1.0]            3  \n",
       "\n",
       "[5 rows x 22 columns]"
      ]
     },
     "execution_count": 76,
     "metadata": {},
     "output_type": "execute_result"
    }
   ],
   "source": [
    "# Check one file\n",
    "df = cudf.read_parquet(os.path.join(OUTPUT_FOLDER, '0001/train.parquet'))\n",
    "df.head()"
   ]
  }
 ],
 "metadata": {
  "kernelspec": {
   "display_name": "Python 3 (ipykernel)",
   "language": "python",
   "name": "python3"
  },
  "language_info": {
   "codemirror_mode": {
    "name": "ipython",
    "version": 3
   },
   "file_extension": ".py",
   "mimetype": "text/x-python",
   "name": "python",
   "nbconvert_exporter": "python",
   "pygments_lexer": "ipython3",
   "version": "3.8.10"
  }
 },
 "nbformat": 4,
 "nbformat_minor": 4
}
