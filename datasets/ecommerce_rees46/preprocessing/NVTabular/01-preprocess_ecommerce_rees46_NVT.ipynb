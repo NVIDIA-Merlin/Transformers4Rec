{
 "cells": [
  {
   "cell_type": "code",
   "execution_count": null,
   "metadata": {},
   "outputs": [],
   "source": [
    "# Copyright 2021 NVIDIA Corporation. All Rights Reserved.\n",
    "#\n",
    "# Licensed under the Apache License, Version 2.0 (the \"License\");\n",
    "# you may not use this file except in compliance with the License.\n",
    "# You may obtain a copy of the License at\n",
    "#\n",
    "#     http://www.apache.org/licenses/LICENSE-2.0\n",
    "#\n",
    "# Unless required by applicable law or agreed to in writing, software\n",
    "# distributed under the License is distributed on an \"AS IS\" BASIS,\n",
    "# WITHOUT WARRANTIES OR CONDITIONS OF ANY KIND, either express or implied.\n",
    "# See the License for the specific language governing permissions and\n",
    "# limitations under the License.\n",
    "# =============================================================================="
   ]
  },
  {
   "cell_type": "markdown",
   "metadata": {},
   "source": [
    "## Read and Process E-Commerce data with NVTabular"
   ]
  },
  {
   "cell_type": "markdown",
   "metadata": {},
   "source": [
    "In this notebook, we are going to use a subset of the publicly available [eCommerce dataset](https://www.kaggle.com/mkechinov/ecommerce-behavior-data-from-multi-category-store). The e-commerce behavior data contains 7 months data (from October 2019 to April 2020) from a large multi-category online store. Each row in the file represents an event. All events are related to products and users. Each event is like many-to-many relation between products and users.\n",
    "Data collected by Open CDP project and the source of the dataset is [REES46 Marketing Platform](https://rees46.com/)."
   ]
  },
  {
   "cell_type": "markdown",
   "metadata": {},
   "source": [
    "We use only `2019-Oct.csv` file for training our models, so you can visit this site and download the csv file: https://www.kaggle.com/mkechinov/ecommerce-behavior-data-from-multi-category-store."
   ]
  },
  {
   "cell_type": "markdown",
   "metadata": {},
   "source": [
    "- Import the required libraries"
   ]
  },
  {
   "cell_type": "code",
   "execution_count": 2,
   "metadata": {},
   "outputs": [],
   "source": [
    "import os\n",
    "import numpy as np \n",
    "import pandas as pd\n",
    "import gc\n",
    "import shutil\n",
    "import glob\n",
    "\n",
    "import cudf\n",
    "import cupy\n",
    "import nvtabular as nvt\n",
    "from nvtabular import ColumnSelector"
   ]
  },
  {
   "cell_type": "markdown",
   "metadata": {},
   "source": [
    "## Define Input/Output Directories"
   ]
  },
  {
   "cell_type": "markdown",
   "metadata": {},
   "source": [
    "A this point we expect that you have already downloaded the `2019-Oct.csv` dataset and stored it in the `INPUT_DATA_DIR` as defined below."
   ]
  },
  {
   "cell_type": "code",
   "execution_count": 3,
   "metadata": {},
   "outputs": [],
   "source": [
    "# define some information about where to get our data\n",
    "BASE_DIR = os.environ.get(\"BASE_DIR\", \"/workspace/\")\n",
    "INPUT_DATA_DIR = os.environ.get(\"INPUT_DATA_DIR\", BASE_DIR + \"ecommerce/\")\n",
    "OUTPUT_DATA_DIR = os.environ.get(\"OUTPUT_DATA_DIR\", BASE_DIR + \"ecommerce/output_tmp/\")\n",
    "\n",
    "INPUT_PATH= os.path.join(INPUT_DATA_DIR, 'input/')\n",
    "!mkdir -p $INPUT_PATH"
   ]
  },
  {
   "cell_type": "markdown",
   "metadata": {},
   "source": [
    "## Configurations"
   ]
  },
  {
   "cell_type": "markdown",
   "metadata": {},
   "source": [
    "We will only use 2019-Oct dataset."
   ]
  },
  {
   "cell_type": "code",
   "execution_count": 4,
   "metadata": {},
   "outputs": [],
   "source": [
    "selected_months = [\"2019-Oct.csv\"]"
   ]
  },
  {
   "cell_type": "code",
   "execution_count": 5,
   "metadata": {},
   "outputs": [
    {
     "data": {
      "text/plain": [
       "['/workspace/ecommerce/2019-Oct.csv']"
      ]
     },
     "execution_count": 5,
     "metadata": {},
     "output_type": "execute_result"
    }
   ],
   "source": [
    "files_paths = [os.path.join(INPUT_DATA_DIR, file) for file in selected_months]\n",
    "files_paths"
   ]
  },
  {
   "cell_type": "markdown",
   "metadata": {},
   "source": [
    "## Read Data via cuDF from CSV"
   ]
  },
  {
   "cell_type": "code",
   "execution_count": 6,
   "metadata": {},
   "outputs": [
    {
     "name": "stdout",
     "output_type": "stream",
     "text": [
      "CPU times: user 2.81 s, sys: 1.27 s, total: 4.08 s\n",
      "Wall time: 4.32 s\n"
     ]
    },
    {
     "data": {
      "text/html": [
       "<div>\n",
       "<style scoped>\n",
       "    .dataframe tbody tr th:only-of-type {\n",
       "        vertical-align: middle;\n",
       "    }\n",
       "\n",
       "    .dataframe tbody tr th {\n",
       "        vertical-align: top;\n",
       "    }\n",
       "\n",
       "    .dataframe thead th {\n",
       "        text-align: right;\n",
       "    }\n",
       "</style>\n",
       "<table border=\"1\" class=\"dataframe\">\n",
       "  <thead>\n",
       "    <tr style=\"text-align: right;\">\n",
       "      <th></th>\n",
       "      <th>event_time</th>\n",
       "      <th>event_type</th>\n",
       "      <th>product_id</th>\n",
       "      <th>category_id</th>\n",
       "      <th>category_code</th>\n",
       "      <th>brand</th>\n",
       "      <th>price</th>\n",
       "      <th>user_id</th>\n",
       "      <th>user_session</th>\n",
       "    </tr>\n",
       "  </thead>\n",
       "  <tbody>\n",
       "    <tr>\n",
       "      <th>0</th>\n",
       "      <td>2019-10-01 00:00:00 UTC</td>\n",
       "      <td>view</td>\n",
       "      <td>44600062</td>\n",
       "      <td>2103807459595387724</td>\n",
       "      <td>&lt;NA&gt;</td>\n",
       "      <td>shiseido</td>\n",
       "      <td>35.79</td>\n",
       "      <td>541312140</td>\n",
       "      <td>72d76fde-8bb3-4e00-8c23-a032dfed738c</td>\n",
       "    </tr>\n",
       "    <tr>\n",
       "      <th>1</th>\n",
       "      <td>2019-10-01 00:00:00 UTC</td>\n",
       "      <td>view</td>\n",
       "      <td>3900821</td>\n",
       "      <td>2053013552326770905</td>\n",
       "      <td>appliances.environment.water_heater</td>\n",
       "      <td>aqua</td>\n",
       "      <td>33.20</td>\n",
       "      <td>554748717</td>\n",
       "      <td>9333dfbd-b87a-4708-9857-6336556b0fcc</td>\n",
       "    </tr>\n",
       "    <tr>\n",
       "      <th>2</th>\n",
       "      <td>2019-10-01 00:00:01 UTC</td>\n",
       "      <td>view</td>\n",
       "      <td>17200506</td>\n",
       "      <td>2053013559792632471</td>\n",
       "      <td>furniture.living_room.sofa</td>\n",
       "      <td>&lt;NA&gt;</td>\n",
       "      <td>543.10</td>\n",
       "      <td>519107250</td>\n",
       "      <td>566511c2-e2e3-422b-b695-cf8e6e792ca8</td>\n",
       "    </tr>\n",
       "    <tr>\n",
       "      <th>3</th>\n",
       "      <td>2019-10-01 00:00:01 UTC</td>\n",
       "      <td>view</td>\n",
       "      <td>1307067</td>\n",
       "      <td>2053013558920217191</td>\n",
       "      <td>computers.notebook</td>\n",
       "      <td>lenovo</td>\n",
       "      <td>251.74</td>\n",
       "      <td>550050854</td>\n",
       "      <td>7c90fc70-0e80-4590-96f3-13c02c18c713</td>\n",
       "    </tr>\n",
       "    <tr>\n",
       "      <th>4</th>\n",
       "      <td>2019-10-01 00:00:04 UTC</td>\n",
       "      <td>view</td>\n",
       "      <td>1004237</td>\n",
       "      <td>2053013555631882655</td>\n",
       "      <td>electronics.smartphone</td>\n",
       "      <td>apple</td>\n",
       "      <td>1081.98</td>\n",
       "      <td>535871217</td>\n",
       "      <td>c6bd7419-2748-4c56-95b4-8cec9ff8b80d</td>\n",
       "    </tr>\n",
       "  </tbody>\n",
       "</table>\n",
       "</div>"
      ],
      "text/plain": [
       "                event_time event_type  product_id          category_id  \\\n",
       "0  2019-10-01 00:00:00 UTC       view    44600062  2103807459595387724   \n",
       "1  2019-10-01 00:00:00 UTC       view     3900821  2053013552326770905   \n",
       "2  2019-10-01 00:00:01 UTC       view    17200506  2053013559792632471   \n",
       "3  2019-10-01 00:00:01 UTC       view     1307067  2053013558920217191   \n",
       "4  2019-10-01 00:00:04 UTC       view     1004237  2053013555631882655   \n",
       "\n",
       "                         category_code     brand    price    user_id  \\\n",
       "0                                 <NA>  shiseido    35.79  541312140   \n",
       "1  appliances.environment.water_heater      aqua    33.20  554748717   \n",
       "2           furniture.living_room.sofa      <NA>   543.10  519107250   \n",
       "3                   computers.notebook    lenovo   251.74  550050854   \n",
       "4               electronics.smartphone     apple  1081.98  535871217   \n",
       "\n",
       "                           user_session  \n",
       "0  72d76fde-8bb3-4e00-8c23-a032dfed738c  \n",
       "1  9333dfbd-b87a-4708-9857-6336556b0fcc  \n",
       "2  566511c2-e2e3-422b-b695-cf8e6e792ca8  \n",
       "3  7c90fc70-0e80-4590-96f3-13c02c18c713  \n",
       "4  c6bd7419-2748-4c56-95b4-8cec9ff8b80d  "
      ]
     },
     "execution_count": 6,
     "metadata": {},
     "output_type": "execute_result"
    }
   ],
   "source": [
    "%%time\n",
    "raw_df = cudf.read_csv(files_paths[0]) \n",
    "raw_df.head()"
   ]
  },
  {
   "cell_type": "code",
   "execution_count": 7,
   "metadata": {},
   "outputs": [
    {
     "data": {
      "text/plain": [
       "(42448764, 9)"
      ]
     },
     "execution_count": 7,
     "metadata": {},
     "output_type": "execute_result"
    }
   ],
   "source": [
    "raw_df.shape"
   ]
  },
  {
   "cell_type": "markdown",
   "metadata": {},
   "source": [
    "## PREPROCESSING"
   ]
  },
  {
   "cell_type": "markdown",
   "metadata": {},
   "source": [
    "### Convert timestamp from datetime"
   ]
  },
  {
   "cell_type": "code",
   "execution_count": 8,
   "metadata": {},
   "outputs": [],
   "source": [
    "raw_df['event_time_dt'] = raw_df['event_time'].astype('datetime64[s]')\n",
    "raw_df['event_time_ts']= raw_df['event_time_dt'].astype('int')"
   ]
  },
  {
   "cell_type": "code",
   "execution_count": 9,
   "metadata": {},
   "outputs": [
    {
     "data": {
      "text/plain": [
       "event_time       False\n",
       "event_type       False\n",
       "product_id       False\n",
       "category_id      False\n",
       "category_code     True\n",
       "brand             True\n",
       "price            False\n",
       "user_id          False\n",
       "user_session      True\n",
       "event_time_dt    False\n",
       "event_time_ts    False\n",
       "dtype: bool"
      ]
     },
     "execution_count": 9,
     "metadata": {},
     "output_type": "execute_result"
    }
   ],
   "source": [
    "# check out the columns with nulls\n",
    "raw_df.isnull().any()"
   ]
  },
  {
   "cell_type": "code",
   "execution_count": 10,
   "metadata": {},
   "outputs": [
    {
     "data": {
      "text/plain": [
       "42448762"
      ]
     },
     "execution_count": 10,
     "metadata": {},
     "output_type": "execute_result"
    }
   ],
   "source": [
    "# Remove rows where `user_session` is null.\n",
    "raw_df = raw_df[raw_df['user_session'].isnull()==False]\n",
    "len(raw_df)"
   ]
  },
  {
   "cell_type": "markdown",
   "metadata": {},
   "source": [
    "### Categorify `user_session` column"
   ]
  },
  {
   "cell_type": "code",
   "execution_count": 11,
   "metadata": {},
   "outputs": [
    {
     "data": {
      "text/plain": [
       "['event_time',\n",
       " 'event_type',\n",
       " 'product_id',\n",
       " 'category_id',\n",
       " 'category_code',\n",
       " 'brand',\n",
       " 'price',\n",
       " 'user_id',\n",
       " 'event_time_dt',\n",
       " 'event_time_ts']"
      ]
     },
     "execution_count": 11,
     "metadata": {},
     "output_type": "execute_result"
    }
   ],
   "source": [
    "cols = list(raw_df.columns)\n",
    "cols.remove('user_session')\n",
    "cols"
   ]
  },
  {
   "cell_type": "code",
   "execution_count": 12,
   "metadata": {},
   "outputs": [],
   "source": [
    "# load data \n",
    "df_event = nvt.Dataset(raw_df) \n",
    "\n",
    "# categorify user_session \n",
    "cat_feats = ['user_session'] >> nvt.ops.Categorify()\n",
    "\n",
    "workflow = nvt.Workflow(cols + cat_feats)\n",
    "workflow.fit(df_event)\n",
    "df = workflow.transform(df_event).to_ddf().compute()"
   ]
  },
  {
   "cell_type": "code",
   "execution_count": 13,
   "metadata": {},
   "outputs": [],
   "source": [
    "df = df.drop(['event_time'],  axis=1)"
   ]
  },
  {
   "cell_type": "code",
   "execution_count": 15,
   "metadata": {},
   "outputs": [
    {
     "data": {
      "text/html": [
       "<div>\n",
       "<style scoped>\n",
       "    .dataframe tbody tr th:only-of-type {\n",
       "        vertical-align: middle;\n",
       "    }\n",
       "\n",
       "    .dataframe tbody tr th {\n",
       "        vertical-align: top;\n",
       "    }\n",
       "\n",
       "    .dataframe thead th {\n",
       "        text-align: right;\n",
       "    }\n",
       "</style>\n",
       "<table border=\"1\" class=\"dataframe\">\n",
       "  <thead>\n",
       "    <tr style=\"text-align: right;\">\n",
       "      <th></th>\n",
       "      <th>user_session</th>\n",
       "      <th>event_type</th>\n",
       "      <th>product_id</th>\n",
       "      <th>category_id</th>\n",
       "      <th>category_code</th>\n",
       "      <th>brand</th>\n",
       "      <th>price</th>\n",
       "      <th>user_id</th>\n",
       "      <th>event_time_dt</th>\n",
       "      <th>event_time_ts</th>\n",
       "    </tr>\n",
       "  </thead>\n",
       "  <tbody>\n",
       "    <tr>\n",
       "      <th>0</th>\n",
       "      <td>5126085</td>\n",
       "      <td>view</td>\n",
       "      <td>44600062</td>\n",
       "      <td>2103807459595387724</td>\n",
       "      <td>&lt;NA&gt;</td>\n",
       "      <td>shiseido</td>\n",
       "      <td>35.79</td>\n",
       "      <td>541312140</td>\n",
       "      <td>2019-10-01 00:00:00</td>\n",
       "      <td>1569888000</td>\n",
       "    </tr>\n",
       "    <tr>\n",
       "      <th>1</th>\n",
       "      <td>7854470</td>\n",
       "      <td>view</td>\n",
       "      <td>3900821</td>\n",
       "      <td>2053013552326770905</td>\n",
       "      <td>appliances.environment.water_heater</td>\n",
       "      <td>aqua</td>\n",
       "      <td>33.20</td>\n",
       "      <td>554748717</td>\n",
       "      <td>2019-10-01 00:00:00</td>\n",
       "      <td>1569888000</td>\n",
       "    </tr>\n",
       "    <tr>\n",
       "      <th>2</th>\n",
       "      <td>730655</td>\n",
       "      <td>view</td>\n",
       "      <td>17200506</td>\n",
       "      <td>2053013559792632471</td>\n",
       "      <td>furniture.living_room.sofa</td>\n",
       "      <td>&lt;NA&gt;</td>\n",
       "      <td>543.10</td>\n",
       "      <td>519107250</td>\n",
       "      <td>2019-10-01 00:00:01</td>\n",
       "      <td>1569888001</td>\n",
       "    </tr>\n",
       "    <tr>\n",
       "      <th>3</th>\n",
       "      <td>1637332</td>\n",
       "      <td>view</td>\n",
       "      <td>1307067</td>\n",
       "      <td>2053013558920217191</td>\n",
       "      <td>computers.notebook</td>\n",
       "      <td>lenovo</td>\n",
       "      <td>251.74</td>\n",
       "      <td>550050854</td>\n",
       "      <td>2019-10-01 00:00:01</td>\n",
       "      <td>1569888001</td>\n",
       "    </tr>\n",
       "    <tr>\n",
       "      <th>4</th>\n",
       "      <td>4202155</td>\n",
       "      <td>view</td>\n",
       "      <td>1004237</td>\n",
       "      <td>2053013555631882655</td>\n",
       "      <td>electronics.smartphone</td>\n",
       "      <td>apple</td>\n",
       "      <td>1081.98</td>\n",
       "      <td>535871217</td>\n",
       "      <td>2019-10-01 00:00:04</td>\n",
       "      <td>1569888004</td>\n",
       "    </tr>\n",
       "  </tbody>\n",
       "</table>\n",
       "</div>"
      ],
      "text/plain": [
       "   user_session event_type  product_id          category_id  \\\n",
       "0       5126085       view    44600062  2103807459595387724   \n",
       "1       7854470       view     3900821  2053013552326770905   \n",
       "2        730655       view    17200506  2053013559792632471   \n",
       "3       1637332       view     1307067  2053013558920217191   \n",
       "4       4202155       view     1004237  2053013555631882655   \n",
       "\n",
       "                         category_code     brand    price    user_id  \\\n",
       "0                                 <NA>  shiseido    35.79  541312140   \n",
       "1  appliances.environment.water_heater      aqua    33.20  554748717   \n",
       "2           furniture.living_room.sofa      <NA>   543.10  519107250   \n",
       "3                   computers.notebook    lenovo   251.74  550050854   \n",
       "4               electronics.smartphone     apple  1081.98  535871217   \n",
       "\n",
       "        event_time_dt  event_time_ts  \n",
       "0 2019-10-01 00:00:00     1569888000  \n",
       "1 2019-10-01 00:00:00     1569888000  \n",
       "2 2019-10-01 00:00:01     1569888001  \n",
       "3 2019-10-01 00:00:01     1569888001  \n",
       "4 2019-10-01 00:00:04     1569888004  "
      ]
     },
     "execution_count": 15,
     "metadata": {},
     "output_type": "execute_result"
    }
   ],
   "source": [
    "df.head()"
   ]
  },
  {
   "cell_type": "code",
   "execution_count": 16,
   "metadata": {},
   "outputs": [
    {
     "data": {
      "text/plain": [
       "(42448762, 10)"
      ]
     },
     "execution_count": 16,
     "metadata": {},
     "output_type": "execute_result"
    }
   ],
   "source": [
    "df.shape"
   ]
  },
  {
   "cell_type": "code",
   "execution_count": 17,
   "metadata": {},
   "outputs": [],
   "source": [
    "raw_df = None\n",
    "del(raw_df)"
   ]
  },
  {
   "cell_type": "code",
   "execution_count": 18,
   "metadata": {},
   "outputs": [
    {
     "data": {
      "text/plain": [
       "0"
      ]
     },
     "execution_count": 18,
     "metadata": {},
     "output_type": "execute_result"
    }
   ],
   "source": [
    "gc.collect()"
   ]
  },
  {
   "cell_type": "markdown",
   "metadata": {},
   "source": [
    "### Removing repeated (user, item) interactions"
   ]
  },
  {
   "cell_type": "code",
   "execution_count": 19,
   "metadata": {},
   "outputs": [
    {
     "name": "stdout",
     "output_type": "stream",
     "text": [
      "Count with in-session repeated interactions: 42448762\n",
      "Count after removed in-session repeated interactions: 30733301\n",
      "CPU times: user 747 ms, sys: 142 ms, total: 890 ms\n",
      "Wall time: 986 ms\n"
     ]
    },
    {
     "data": {
      "text/plain": [
       "0"
      ]
     },
     "execution_count": 19,
     "metadata": {},
     "output_type": "execute_result"
    }
   ],
   "source": [
    "%%time\n",
    "\n",
    "# Keeps repeated interactions on the same items, removing only consecutive interactions, \n",
    "# because it might be due to browser tab refreshes or different interaction types (e.g. click, add-to-card, purchase)\n",
    "\n",
    "df = df.sort_values(['user_session', 'event_time_ts']).reset_index(drop=True)\n",
    "\n",
    "print(\"Count with in-session repeated interactions: {}\".format(len(df)))\n",
    "# Sorts the dataframe by session and timestamp, to remove consecutive repetitions\n",
    "df['product_id_past'] = df['product_id'].shift(1).fillna(0)\n",
    "df['session_id_past'] = df['user_session'].shift(1).fillna(0)\n",
    "#Keeping only no consecutive repeated in session interactions\n",
    "df = df[~((df['user_session'] == df['session_id_past']) & \\\n",
    "             (df['product_id'] == df['product_id_past']))]\n",
    "print(\"Count after removed in-session repeated interactions: {}\".format(len(df)))\n",
    "del(df['product_id_past'])\n",
    "del(df['session_id_past'])\n",
    "\n",
    "gc.collect()"
   ]
  },
  {
   "cell_type": "markdown",
   "metadata": {},
   "source": [
    "### Include the item first time seen feature (for recency calculation)¶"
   ]
  },
  {
   "cell_type": "code",
   "execution_count": 20,
   "metadata": {},
   "outputs": [
    {
     "data": {
      "text/plain": [
       "0"
      ]
     },
     "execution_count": 20,
     "metadata": {},
     "output_type": "execute_result"
    }
   ],
   "source": [
    "item_first_interaction_df = df.groupby('product_id').agg({'event_time_ts': 'min'}).reset_index().rename(columns={'event_time_ts': 'prod_first_event_time_ts'})\n",
    "item_first_interaction_df.head()\n",
    "gc.collect()"
   ]
  },
  {
   "cell_type": "code",
   "execution_count": 21,
   "metadata": {},
   "outputs": [],
   "source": [
    "df = df.merge(item_first_interaction_df, on=['product_id'], how='left').reset_index(drop=True)"
   ]
  },
  {
   "cell_type": "code",
   "execution_count": 22,
   "metadata": {},
   "outputs": [
    {
     "data": {
      "text/html": [
       "<div>\n",
       "<style scoped>\n",
       "    .dataframe tbody tr th:only-of-type {\n",
       "        vertical-align: middle;\n",
       "    }\n",
       "\n",
       "    .dataframe tbody tr th {\n",
       "        vertical-align: top;\n",
       "    }\n",
       "\n",
       "    .dataframe thead th {\n",
       "        text-align: right;\n",
       "    }\n",
       "</style>\n",
       "<table border=\"1\" class=\"dataframe\">\n",
       "  <thead>\n",
       "    <tr style=\"text-align: right;\">\n",
       "      <th></th>\n",
       "      <th>user_session</th>\n",
       "      <th>event_type</th>\n",
       "      <th>product_id</th>\n",
       "      <th>category_id</th>\n",
       "      <th>category_code</th>\n",
       "      <th>brand</th>\n",
       "      <th>price</th>\n",
       "      <th>user_id</th>\n",
       "      <th>event_time_dt</th>\n",
       "      <th>event_time_ts</th>\n",
       "      <th>prod_first_event_time_ts</th>\n",
       "    </tr>\n",
       "  </thead>\n",
       "  <tbody>\n",
       "    <tr>\n",
       "      <th>0</th>\n",
       "      <td>94</td>\n",
       "      <td>view</td>\n",
       "      <td>26202560</td>\n",
       "      <td>2053013563693335403</td>\n",
       "      <td>&lt;NA&gt;</td>\n",
       "      <td>&lt;NA&gt;</td>\n",
       "      <td>388.49</td>\n",
       "      <td>512892706</td>\n",
       "      <td>2019-10-15 17:21:59</td>\n",
       "      <td>1571160119</td>\n",
       "      <td>1569925682</td>\n",
       "    </tr>\n",
       "    <tr>\n",
       "      <th>1</th>\n",
       "      <td>94</td>\n",
       "      <td>view</td>\n",
       "      <td>26203994</td>\n",
       "      <td>2053013563693335403</td>\n",
       "      <td>&lt;NA&gt;</td>\n",
       "      <td>&lt;NA&gt;</td>\n",
       "      <td>157.79</td>\n",
       "      <td>512892706</td>\n",
       "      <td>2019-10-15 17:22:17</td>\n",
       "      <td>1571160137</td>\n",
       "      <td>1569941460</td>\n",
       "    </tr>\n",
       "    <tr>\n",
       "      <th>2</th>\n",
       "      <td>94</td>\n",
       "      <td>view</td>\n",
       "      <td>26204036</td>\n",
       "      <td>2053013563693335403</td>\n",
       "      <td>&lt;NA&gt;</td>\n",
       "      <td>sokolov</td>\n",
       "      <td>471.70</td>\n",
       "      <td>512892706</td>\n",
       "      <td>2019-10-15 17:22:29</td>\n",
       "      <td>1571160149</td>\n",
       "      <td>1569897265</td>\n",
       "    </tr>\n",
       "    <tr>\n",
       "      <th>3</th>\n",
       "      <td>94</td>\n",
       "      <td>view</td>\n",
       "      <td>26203994</td>\n",
       "      <td>2053013563693335403</td>\n",
       "      <td>&lt;NA&gt;</td>\n",
       "      <td>&lt;NA&gt;</td>\n",
       "      <td>157.79</td>\n",
       "      <td>512892706</td>\n",
       "      <td>2019-10-15 17:22:58</td>\n",
       "      <td>1571160178</td>\n",
       "      <td>1569941460</td>\n",
       "    </tr>\n",
       "    <tr>\n",
       "      <th>4</th>\n",
       "      <td>94</td>\n",
       "      <td>view</td>\n",
       "      <td>26203727</td>\n",
       "      <td>2053013563693335403</td>\n",
       "      <td>&lt;NA&gt;</td>\n",
       "      <td>lucente</td>\n",
       "      <td>317.38</td>\n",
       "      <td>512892706</td>\n",
       "      <td>2019-10-15 17:23:19</td>\n",
       "      <td>1571160199</td>\n",
       "      <td>1569901056</td>\n",
       "    </tr>\n",
       "  </tbody>\n",
       "</table>\n",
       "</div>"
      ],
      "text/plain": [
       "   user_session event_type  product_id          category_id category_code  \\\n",
       "0            94       view    26202560  2053013563693335403          <NA>   \n",
       "1            94       view    26203994  2053013563693335403          <NA>   \n",
       "2            94       view    26204036  2053013563693335403          <NA>   \n",
       "3            94       view    26203994  2053013563693335403          <NA>   \n",
       "4            94       view    26203727  2053013563693335403          <NA>   \n",
       "\n",
       "     brand   price    user_id       event_time_dt  event_time_ts  \\\n",
       "0     <NA>  388.49  512892706 2019-10-15 17:21:59     1571160119   \n",
       "1     <NA>  157.79  512892706 2019-10-15 17:22:17     1571160137   \n",
       "2  sokolov  471.70  512892706 2019-10-15 17:22:29     1571160149   \n",
       "3     <NA>  157.79  512892706 2019-10-15 17:22:58     1571160178   \n",
       "4  lucente  317.38  512892706 2019-10-15 17:23:19     1571160199   \n",
       "\n",
       "   prod_first_event_time_ts  \n",
       "0                1569925682  \n",
       "1                1569941460  \n",
       "2                1569897265  \n",
       "3                1569941460  \n",
       "4                1569901056  "
      ]
     },
     "execution_count": 22,
     "metadata": {},
     "output_type": "execute_result"
    }
   ],
   "source": [
    "df.head()"
   ]
  },
  {
   "cell_type": "markdown",
   "metadata": {},
   "source": [
    "- Check out if there is any column with missing (null) values."
   ]
  },
  {
   "cell_type": "code",
   "execution_count": 23,
   "metadata": {},
   "outputs": [
    {
     "data": {
      "text/plain": [
       "user_session                False\n",
       "event_type                  False\n",
       "product_id                  False\n",
       "category_id                 False\n",
       "category_code                True\n",
       "brand                        True\n",
       "price                       False\n",
       "user_id                     False\n",
       "event_time_dt               False\n",
       "event_time_ts               False\n",
       "prod_first_event_time_ts    False\n",
       "dtype: bool"
      ]
     },
     "execution_count": 23,
     "metadata": {},
     "output_type": "execute_result"
    }
   ],
   "source": [
    "df.isnull().any()"
   ]
  },
  {
   "cell_type": "code",
   "execution_count": 24,
   "metadata": {},
   "outputs": [
    {
     "data": {
      "text/plain": [
       "0"
      ]
     },
     "execution_count": 24,
     "metadata": {},
     "output_type": "execute_result"
    }
   ],
   "source": [
    "del(item_first_interaction_df)\n",
    "item_first_interaction_df=None\n",
    "gc.collect()"
   ]
  },
  {
   "cell_type": "markdown",
   "metadata": {},
   "source": [
    "You need to run this cell only once and then comment out if you would like to rerun the same pipeline. We'll use this saved parquet file below in the NVTabular workflow."
   ]
  },
  {
   "cell_type": "code",
   "execution_count": 25,
   "metadata": {},
   "outputs": [],
   "source": [
    "# save df as parquet files on disk\n",
    "df.to_parquet(os.path.join(INPUT_PATH, 'input.parquet'))"
   ]
  },
  {
   "cell_type": "markdown",
   "metadata": {},
   "source": [
    "## FEATURE ENGINEERING with NVTabular"
   ]
  },
  {
   "cell_type": "markdown",
   "metadata": {},
   "source": [
    "### Categorical features encoding\n"
   ]
  },
  {
   "cell_type": "markdown",
   "metadata": {},
   "source": [
    "We see that `'category_code', 'brand'` columns have null values, and in the following cell we are going to fill these nulls with via categorify op, and then all categorical columns will be encoded to continuous integers. Note that we also add `1` after we categorify the categorical columns, the reason for that we want the encoded null values to start from `1` instead of `0` because we reserve `0` for padding the seqeunce features."
   ]
  },
  {
   "cell_type": "code",
   "execution_count": 26,
   "metadata": {},
   "outputs": [],
   "source": [
    "cols= ['event_time_dt', 'event_time_ts', 'user_session']"
   ]
  },
  {
   "cell_type": "code",
   "execution_count": 27,
   "metadata": {},
   "outputs": [],
   "source": [
    "# categorify categorical features \n",
    "cat_feats = ['category_code', 'brand', 'user_id', 'product_id', 'category_id', 'event_type'] >> nvt.ops.Categorify() >> nvt.ops.LambdaOp(lambda col: col +1)"
   ]
  },
  {
   "cell_type": "markdown",
   "metadata": {},
   "source": [
    "### Extract Temporal Features"
   ]
  },
  {
   "cell_type": "code",
   "execution_count": 28,
   "metadata": {},
   "outputs": [],
   "source": [
    "# create time features\n",
    "sessionTime = ['event_time_dt']\n",
    "\n",
    "sessionTime_hour = (\n",
    "    sessionTime >> \n",
    "    nvt.ops.LambdaOp(lambda col: col.dt.hour) >> \n",
    "    nvt.ops.Rename(name = 'et_hour')\n",
    ")\n",
    "sessionTime_weekday = (\n",
    "    sessionTime >> \n",
    "    nvt.ops.LambdaOp(lambda col: col.dt.weekday) >> \n",
    "    nvt.ops.Rename(name ='et_dayofweek')\n",
    ")\n",
    "sessionTime_day = (\n",
    "    sessionTime >> \n",
    "    nvt.ops.LambdaOp(lambda col: col.dt.day) >> \n",
    "    nvt.ops.Rename(name =\"et_dayofmonth\")\n",
    ")\n",
    "sessionTime_month = (\n",
    "    sessionTime >> \n",
    "    nvt.ops.LambdaOp(lambda col: col.dt.month) >> \n",
    "    nvt.ops.Rename(name =\"et_month\")\n",
    ")"
   ]
  },
  {
   "cell_type": "code",
   "execution_count": 29,
   "metadata": {},
   "outputs": [],
   "source": [
    "def get_cycled_feature_value_sin(col, max_value):\n",
    "    value_scaled = (col + 0.000001) / max_value\n",
    "    value_sin = np.sin(2*np.pi*value_scaled)\n",
    "    return value_sin\n",
    "\n",
    "def get_cycled_feature_value_cos(col, max_value):\n",
    "    value_scaled = (col + 0.000001) / max_value\n",
    "    value_cos = np.cos(2*np.pi*value_scaled)\n",
    "    return value_cos"
   ]
  },
  {
   "cell_type": "code",
   "execution_count": 30,
   "metadata": {},
   "outputs": [],
   "source": [
    "hour_sin = sessionTime_hour >> (lambda col: get_cycled_feature_value_sin(col, 24)) >> nvt.ops.Rename(name='et_hour_sin')\n",
    "hour_cos = sessionTime_hour >> (lambda col: get_cycled_feature_value_cos(col, 24)) >> nvt.ops.Rename(name ='et_hour_cos')\n",
    "weekday_sin = sessionTime_weekday >> (lambda col: get_cycled_feature_value_sin(col+1, 7)) >> nvt.ops.Rename(name = 'et_dayofweek_sin')\n",
    "weekday_cos= sessionTime_weekday >> (lambda col: get_cycled_feature_value_cos(col+1, 7)) >> nvt.ops.Rename(name = 'et_dayofweek_cos')\n",
    "\n",
    "dayofmonth_sin = sessionTime_hour >> (lambda col: get_cycled_feature_value_sin(col, 31)) >> nvt.ops.Rename(name ='et_dayofmonth_sin')\n",
    "dayofmonth_cos = sessionTime_hour >> (lambda col: get_cycled_feature_value_cos(col, 31)) >> nvt.ops.Rename(name='et_dayofmonth_cos')\n",
    "month_sin = sessionTime_weekday >> (lambda col: get_cycled_feature_value_sin(col, 12)) >> nvt.ops.Rename(name='et_month_sin')\n",
    "month_cos= sessionTime_weekday >> (lambda col: get_cycled_feature_value_cos(col, 12)) >> nvt.ops.Rename(name = 'et_month_cos')"
   ]
  },
  {
   "cell_type": "code",
   "execution_count": 31,
   "metadata": {},
   "outputs": [],
   "source": [
    "cycled_features = hour_sin + hour_cos + weekday_sin + weekday_cos + dayofmonth_sin + dayofmonth_cos + month_sin + month_cos"
   ]
  },
  {
   "cell_type": "markdown",
   "metadata": {},
   "source": [
    "- Calculate item recency "
   ]
  },
  {
   "cell_type": "code",
   "execution_count": 32,
   "metadata": {},
   "outputs": [],
   "source": [
    "# create custom op\n",
    "from nvtabular.ops import Operator\n",
    "\n",
    "class ItemRecency(Operator):\n",
    "    def transform(self, columns, gdf):\n",
    "        for column in columns:\n",
    "            col = gdf[column]\n",
    "            item_first_timestamp = gdf['prod_first_event_time_ts']\n",
    "            delta_days = (col - item_first_timestamp) / (60*60*24)\n",
    "            gdf[column + \"_age_days\"] = delta_days * (delta_days >=0)\n",
    "        return gdf\n",
    "            \n",
    "    def output_column_names(self, columns):\n",
    "        return ColumnSelector([column + \"_age_days\" for column in columns])\n",
    "            \n",
    "    def dependencies(self):\n",
    "        return [\"prod_first_event_time_ts\"]"
   ]
  },
  {
   "cell_type": "code",
   "execution_count": 33,
   "metadata": {},
   "outputs": [],
   "source": [
    "recency_features = [\"event_time_ts\"] >> ItemRecency() >>  nvt.ops.Rename(name='product_recency_days')\n",
    "recency_features_norm = recency_features >> nvt.ops.LogOp() >> nvt.ops.Normalize() >> nvt.ops.Rename(name='product_recency_days_log_norm')"
   ]
  },
  {
   "cell_type": "code",
   "execution_count": 34,
   "metadata": {},
   "outputs": [],
   "source": [
    "time_features = (\n",
    "    sessionTime_hour +\n",
    "    sessionTime_day + \n",
    "    sessionTime_month + \n",
    "    sessionTime_weekday +\n",
    "    cycled_features +\n",
    "    recency_features_norm\n",
    ")"
   ]
  },
  {
   "cell_type": "code",
   "execution_count": 35,
   "metadata": {},
   "outputs": [
    {
     "data": {
      "image/svg+xml": [
       "<?xml version=\"1.0\" encoding=\"UTF-8\" standalone=\"no\"?>\n",
       "<!DOCTYPE svg PUBLIC \"-//W3C//DTD SVG 1.1//EN\"\n",
       " \"http://www.w3.org/Graphics/SVG/1.1/DTD/svg11.dtd\">\n",
       "<!-- Generated by graphviz version 2.43.0 (0)\n",
       " -->\n",
       "<!-- Title: %3 Pages: 1 -->\n",
       "<svg width=\"5201pt\" height=\"476pt\"\n",
       " viewBox=\"0.00 0.00 5200.71 476.00\" xmlns=\"http://www.w3.org/2000/svg\" xmlns:xlink=\"http://www.w3.org/1999/xlink\">\n",
       "<g id=\"graph0\" class=\"graph\" transform=\"scale(1 1) rotate(0) translate(4 472)\">\n",
       "<title>%3</title>\n",
       "<polygon fill=\"white\" stroke=\"transparent\" points=\"-4,4 -4,-472 5196.71,-472 5196.71,4 -4,4\"/>\n",
       "<!-- 0 -->\n",
       "<g id=\"node1\" class=\"node\">\n",
       "<title>0</title>\n",
       "<ellipse fill=\"none\" stroke=\"black\" cx=\"332.03\" cy=\"-162\" rx=\"48.19\" ry=\"18\"/>\n",
       "<text text-anchor=\"middle\" x=\"332.03\" y=\"-158.3\" font-family=\"Times,serif\" font-size=\"14.00\">Rename</text>\n",
       "</g>\n",
       "<!-- 29 -->\n",
       "<g id=\"node30\" class=\"node\">\n",
       "<title>29</title>\n",
       "<ellipse fill=\"none\" stroke=\"black\" cx=\"2847.03\" cy=\"-90\" rx=\"27\" ry=\"18\"/>\n",
       "<text text-anchor=\"middle\" x=\"2847.03\" y=\"-86.3\" font-family=\"Times,serif\" font-size=\"14.00\">+</text>\n",
       "</g>\n",
       "<!-- 0&#45;&gt;29 -->\n",
       "<g id=\"edge29\" class=\"edge\">\n",
       "<title>0&#45;&gt;29</title>\n",
       "<path fill=\"none\" stroke=\"black\" d=\"M379.75,-159.67C699.45,-150.77 2526.01,-99.94 2809.94,-92.03\"/>\n",
       "<polygon fill=\"black\" stroke=\"black\" points=\"2810.22,-95.53 2820.12,-91.75 2810.02,-88.53 2810.22,-95.53\"/>\n",
       "</g>\n",
       "<!-- 28 -->\n",
       "<g id=\"node2\" class=\"node\">\n",
       "<title>28</title>\n",
       "<ellipse fill=\"none\" stroke=\"black\" cx=\"245.03\" cy=\"-234\" rx=\"245.06\" ry=\"18\"/>\n",
       "<text text-anchor=\"middle\" x=\"245.03\" y=\"-230.3\" font-family=\"Times,serif\" font-size=\"14.00\">(lambda col: get_cycled_feature_value_sin(col, 31))</text>\n",
       "</g>\n",
       "<!-- 28&#45;&gt;0 -->\n",
       "<g id=\"edge1\" class=\"edge\">\n",
       "<title>28&#45;&gt;0</title>\n",
       "<path fill=\"none\" stroke=\"black\" d=\"M266.09,-216.05C277.72,-206.69 292.3,-194.96 304.79,-184.91\"/>\n",
       "<polygon fill=\"black\" stroke=\"black\" points=\"307.05,-187.59 312.65,-178.59 302.66,-182.13 307.05,-187.59\"/>\n",
       "</g>\n",
       "<!-- 1 -->\n",
       "<g id=\"node3\" class=\"node\">\n",
       "<title>1</title>\n",
       "<ellipse fill=\"none\" stroke=\"black\" cx=\"1139.03\" cy=\"-162\" rx=\"48.19\" ry=\"18\"/>\n",
       "<text text-anchor=\"middle\" x=\"1139.03\" y=\"-158.3\" font-family=\"Times,serif\" font-size=\"14.00\">Rename</text>\n",
       "</g>\n",
       "<!-- 1&#45;&gt;29 -->\n",
       "<g id=\"edge25\" class=\"edge\">\n",
       "<title>1&#45;&gt;29</title>\n",
       "<path fill=\"none\" stroke=\"black\" d=\"M1186.6,-158.98C1262.14,-155.77 1414.14,-149.33 1543.03,-144 2044.32,-123.27 2654.04,-98.75 2809.55,-92.5\"/>\n",
       "<polygon fill=\"black\" stroke=\"black\" points=\"2810.1,-95.98 2819.95,-92.09 2809.82,-88.99 2810.1,-95.98\"/>\n",
       "</g>\n",
       "<!-- 27 -->\n",
       "<g id=\"node4\" class=\"node\">\n",
       "<title>27</title>\n",
       "<ellipse fill=\"none\" stroke=\"black\" cx=\"753.03\" cy=\"-234\" rx=\"245.06\" ry=\"18\"/>\n",
       "<text text-anchor=\"middle\" x=\"753.03\" y=\"-230.3\" font-family=\"Times,serif\" font-size=\"14.00\">(lambda col: get_cycled_feature_value_sin(col, 24))</text>\n",
       "</g>\n",
       "<!-- 27&#45;&gt;1 -->\n",
       "<g id=\"edge2\" class=\"edge\">\n",
       "<title>27&#45;&gt;1</title>\n",
       "<path fill=\"none\" stroke=\"black\" d=\"M840.62,-217.12C916.37,-203.38 1023.36,-183.98 1086.53,-172.52\"/>\n",
       "<polygon fill=\"black\" stroke=\"black\" points=\"1087.45,-175.91 1096.66,-170.68 1086.2,-169.02 1087.45,-175.91\"/>\n",
       "</g>\n",
       "<!-- 2 -->\n",
       "<g id=\"node5\" class=\"node\">\n",
       "<title>2</title>\n",
       "<ellipse fill=\"none\" stroke=\"black\" cx=\"3365.03\" cy=\"-378\" rx=\"230.16\" ry=\"18\"/>\n",
       "<text text-anchor=\"middle\" x=\"3365.03\" y=\"-374.3\" font-family=\"Times,serif\" font-size=\"14.00\">nvt.ops.LambdaOp(lambda col: col.dt.weekday)</text>\n",
       "</g>\n",
       "<!-- 3 -->\n",
       "<g id=\"node6\" class=\"node\">\n",
       "<title>3</title>\n",
       "<ellipse fill=\"none\" stroke=\"black\" cx=\"3365.03\" cy=\"-306\" rx=\"48.19\" ry=\"18\"/>\n",
       "<text text-anchor=\"middle\" x=\"3365.03\" y=\"-302.3\" font-family=\"Times,serif\" font-size=\"14.00\">Rename</text>\n",
       "</g>\n",
       "<!-- 2&#45;&gt;3 -->\n",
       "<g id=\"edge3\" class=\"edge\">\n",
       "<title>2&#45;&gt;3</title>\n",
       "<path fill=\"none\" stroke=\"black\" d=\"M3365.03,-359.7C3365.03,-351.98 3365.03,-342.71 3365.03,-334.11\"/>\n",
       "<polygon fill=\"black\" stroke=\"black\" points=\"3368.53,-334.1 3365.03,-324.1 3361.53,-334.1 3368.53,-334.1\"/>\n",
       "</g>\n",
       "<!-- 13 -->\n",
       "<g id=\"node18\" class=\"node\">\n",
       "<title>13</title>\n",
       "<ellipse fill=\"none\" stroke=\"black\" cx=\"2331.03\" cy=\"-234\" rx=\"252.66\" ry=\"18\"/>\n",
       "<text text-anchor=\"middle\" x=\"2331.03\" y=\"-230.3\" font-family=\"Times,serif\" font-size=\"14.00\">(lambda col: get_cycled_feature_value_sin(col+1, 7))</text>\n",
       "</g>\n",
       "<!-- 3&#45;&gt;13 -->\n",
       "<g id=\"edge11\" class=\"edge\">\n",
       "<title>3&#45;&gt;13</title>\n",
       "<path fill=\"none\" stroke=\"black\" d=\"M3317.91,-301.81C3178.51,-292.37 2762.51,-264.21 2517.38,-247.62\"/>\n",
       "<polygon fill=\"black\" stroke=\"black\" points=\"2517.5,-244.12 2507.29,-246.93 2517.03,-251.1 2517.5,-244.12\"/>\n",
       "</g>\n",
       "<!-- 14 -->\n",
       "<g id=\"node19\" class=\"node\">\n",
       "<title>14</title>\n",
       "<ellipse fill=\"none\" stroke=\"black\" cx=\"2847.03\" cy=\"-234\" rx=\"245.06\" ry=\"18\"/>\n",
       "<text text-anchor=\"middle\" x=\"2847.03\" y=\"-230.3\" font-family=\"Times,serif\" font-size=\"14.00\">(lambda col: get_cycled_feature_value_sin(col, 12))</text>\n",
       "</g>\n",
       "<!-- 3&#45;&gt;14 -->\n",
       "<g id=\"edge12\" class=\"edge\">\n",
       "<title>3&#45;&gt;14</title>\n",
       "<path fill=\"none\" stroke=\"black\" d=\"M3320.42,-298.97C3243,-288.51 3081.25,-266.65 2968.5,-251.41\"/>\n",
       "<polygon fill=\"black\" stroke=\"black\" points=\"2968.81,-247.92 2958.43,-250.05 2967.87,-254.86 2968.81,-247.92\"/>\n",
       "</g>\n",
       "<!-- 20 -->\n",
       "<g id=\"node25\" class=\"node\">\n",
       "<title>20</title>\n",
       "<ellipse fill=\"none\" stroke=\"black\" cx=\"3365.03\" cy=\"-234\" rx=\"254.55\" ry=\"18\"/>\n",
       "<text text-anchor=\"middle\" x=\"3365.03\" y=\"-230.3\" font-family=\"Times,serif\" font-size=\"14.00\">(lambda col: get_cycled_feature_value_cos(col+1, 7))</text>\n",
       "</g>\n",
       "<!-- 3&#45;&gt;20 -->\n",
       "<g id=\"edge17\" class=\"edge\">\n",
       "<title>3&#45;&gt;20</title>\n",
       "<path fill=\"none\" stroke=\"black\" d=\"M3365.03,-287.7C3365.03,-279.98 3365.03,-270.71 3365.03,-262.11\"/>\n",
       "<polygon fill=\"black\" stroke=\"black\" points=\"3368.53,-262.1 3365.03,-252.1 3361.53,-262.1 3368.53,-262.1\"/>\n",
       "</g>\n",
       "<!-- 21 -->\n",
       "<g id=\"node26\" class=\"node\">\n",
       "<title>21</title>\n",
       "<ellipse fill=\"none\" stroke=\"black\" cx=\"3885.03\" cy=\"-234\" rx=\"246.96\" ry=\"18\"/>\n",
       "<text text-anchor=\"middle\" x=\"3885.03\" y=\"-230.3\" font-family=\"Times,serif\" font-size=\"14.00\">(lambda col: get_cycled_feature_value_cos(col, 12))</text>\n",
       "</g>\n",
       "<!-- 3&#45;&gt;21 -->\n",
       "<g id=\"edge18\" class=\"edge\">\n",
       "<title>3&#45;&gt;21</title>\n",
       "<path fill=\"none\" stroke=\"black\" d=\"M3409.81,-298.97C3487.53,-288.51 3649.9,-266.65 3763.09,-251.41\"/>\n",
       "<polygon fill=\"black\" stroke=\"black\" points=\"3763.76,-254.86 3773.2,-250.05 3762.82,-247.92 3763.76,-254.86\"/>\n",
       "</g>\n",
       "<!-- 3&#45;&gt;29 -->\n",
       "<g id=\"edge36\" class=\"edge\">\n",
       "<title>3&#45;&gt;29</title>\n",
       "<path fill=\"none\" stroke=\"black\" d=\"M3413.14,-305.43C3574.83,-306.38 4091.34,-305.2 4141.03,-252 4151.95,-240.31 4151.51,-228.09 4141.03,-216 4056.37,-118.36 3087.5,-95.38 2884.28,-91.62\"/>\n",
       "<polygon fill=\"black\" stroke=\"black\" points=\"2884.17,-88.12 2874.11,-91.44 2884.05,-95.12 2884.17,-88.12\"/>\n",
       "</g>\n",
       "<!-- 4 -->\n",
       "<g id=\"node7\" class=\"node\">\n",
       "<title>4</title>\n",
       "<ellipse fill=\"none\" stroke=\"black\" cx=\"4241.03\" cy=\"-162\" rx=\"48.19\" ry=\"18\"/>\n",
       "<text text-anchor=\"middle\" x=\"4241.03\" y=\"-158.3\" font-family=\"Times,serif\" font-size=\"14.00\">Rename</text>\n",
       "</g>\n",
       "<!-- 4&#45;&gt;29 -->\n",
       "<g id=\"edge37\" class=\"edge\">\n",
       "<title>4&#45;&gt;29</title>\n",
       "<path fill=\"none\" stroke=\"black\" d=\"M4204.44,-150.25C4194.65,-147.78 4184,-145.45 4174.03,-144 3915.09,-106.4 3072.2,-93.81 2884.36,-91.44\"/>\n",
       "<polygon fill=\"black\" stroke=\"black\" points=\"2884.22,-87.94 2874.17,-91.31 2884.13,-94.94 2884.22,-87.94\"/>\n",
       "</g>\n",
       "<!-- 6 -->\n",
       "<g id=\"node8\" class=\"node\">\n",
       "<title>6</title>\n",
       "<ellipse fill=\"none\" stroke=\"black\" cx=\"4246.03\" cy=\"-234\" rx=\"58.49\" ry=\"18\"/>\n",
       "<text text-anchor=\"middle\" x=\"4246.03\" y=\"-230.3\" font-family=\"Times,serif\" font-size=\"14.00\">Normalize</text>\n",
       "</g>\n",
       "<!-- 6&#45;&gt;4 -->\n",
       "<g id=\"edge4\" class=\"edge\">\n",
       "<title>6&#45;&gt;4</title>\n",
       "<path fill=\"none\" stroke=\"black\" d=\"M4244.79,-215.7C4244.24,-207.98 4243.58,-198.71 4242.96,-190.11\"/>\n",
       "<polygon fill=\"black\" stroke=\"black\" points=\"4246.45,-189.83 4242.25,-180.1 4239.47,-190.33 4246.45,-189.83\"/>\n",
       "</g>\n",
       "<!-- 5 -->\n",
       "<g id=\"node9\" class=\"node\">\n",
       "<title>5</title>\n",
       "<ellipse fill=\"none\" stroke=\"black\" cx=\"1263.03\" cy=\"-234\" rx=\"246.96\" ry=\"18\"/>\n",
       "<text text-anchor=\"middle\" x=\"1263.03\" y=\"-230.3\" font-family=\"Times,serif\" font-size=\"14.00\">(lambda col: get_cycled_feature_value_cos(col, 24))</text>\n",
       "</g>\n",
       "<!-- 9 -->\n",
       "<g id=\"node14\" class=\"node\">\n",
       "<title>9</title>\n",
       "<ellipse fill=\"none\" stroke=\"black\" cx=\"1600.03\" cy=\"-162\" rx=\"48.19\" ry=\"18\"/>\n",
       "<text text-anchor=\"middle\" x=\"1600.03\" y=\"-158.3\" font-family=\"Times,serif\" font-size=\"14.00\">Rename</text>\n",
       "</g>\n",
       "<!-- 5&#45;&gt;9 -->\n",
       "<g id=\"edge8\" class=\"edge\">\n",
       "<title>5&#45;&gt;9</title>\n",
       "<path fill=\"none\" stroke=\"black\" d=\"M1340.77,-216.85C1404.81,-203.55 1493.8,-185.07 1549.1,-173.58\"/>\n",
       "<polygon fill=\"black\" stroke=\"black\" points=\"1549.94,-176.98 1559.02,-171.52 1548.52,-170.12 1549.94,-176.98\"/>\n",
       "</g>\n",
       "<!-- 26 -->\n",
       "<g id=\"node10\" class=\"node\">\n",
       "<title>26</title>\n",
       "<ellipse fill=\"none\" stroke=\"black\" cx=\"1263.03\" cy=\"-306\" rx=\"48.19\" ry=\"18\"/>\n",
       "<text text-anchor=\"middle\" x=\"1263.03\" y=\"-302.3\" font-family=\"Times,serif\" font-size=\"14.00\">Rename</text>\n",
       "</g>\n",
       "<!-- 26&#45;&gt;28 -->\n",
       "<g id=\"edge24\" class=\"edge\">\n",
       "<title>26&#45;&gt;28</title>\n",
       "<path fill=\"none\" stroke=\"black\" d=\"M1215.97,-301.76C1077.87,-292.27 668.29,-264.1 427.48,-247.55\"/>\n",
       "<polygon fill=\"black\" stroke=\"black\" points=\"427.43,-244.03 417.21,-246.84 426.95,-251.02 427.43,-244.03\"/>\n",
       "</g>\n",
       "<!-- 26&#45;&gt;27 -->\n",
       "<g id=\"edge23\" class=\"edge\">\n",
       "<title>26&#45;&gt;27</title>\n",
       "<path fill=\"none\" stroke=\"black\" d=\"M1218.66,-298.91C1142.4,-288.44 983.99,-266.7 873.22,-251.5\"/>\n",
       "<polygon fill=\"black\" stroke=\"black\" points=\"873.37,-247.99 862.99,-250.09 872.42,-254.92 873.37,-247.99\"/>\n",
       "</g>\n",
       "<!-- 26&#45;&gt;5 -->\n",
       "<g id=\"edge5\" class=\"edge\">\n",
       "<title>26&#45;&gt;5</title>\n",
       "<path fill=\"none\" stroke=\"black\" d=\"M1263.03,-287.7C1263.03,-279.98 1263.03,-270.71 1263.03,-262.11\"/>\n",
       "<polygon fill=\"black\" stroke=\"black\" points=\"1266.53,-262.1 1263.03,-252.1 1259.53,-262.1 1266.53,-262.1\"/>\n",
       "</g>\n",
       "<!-- 7 -->\n",
       "<g id=\"node12\" class=\"node\">\n",
       "<title>7</title>\n",
       "<ellipse fill=\"none\" stroke=\"black\" cx=\"1775.03\" cy=\"-234\" rx=\"246.96\" ry=\"18\"/>\n",
       "<text text-anchor=\"middle\" x=\"1775.03\" y=\"-230.3\" font-family=\"Times,serif\" font-size=\"14.00\">(lambda col: get_cycled_feature_value_cos(col, 31))</text>\n",
       "</g>\n",
       "<!-- 26&#45;&gt;7 -->\n",
       "<g id=\"edge7\" class=\"edge\">\n",
       "<title>26&#45;&gt;7</title>\n",
       "<path fill=\"none\" stroke=\"black\" d=\"M1307.57,-298.91C1384.15,-288.44 1543.23,-266.69 1654.44,-251.49\"/>\n",
       "<polygon fill=\"black\" stroke=\"black\" points=\"1654.94,-254.95 1664.38,-250.13 1654,-248.02 1654.94,-254.95\"/>\n",
       "</g>\n",
       "<!-- 26&#45;&gt;29 -->\n",
       "<g id=\"edge33\" class=\"edge\">\n",
       "<title>26&#45;&gt;29</title>\n",
       "<path fill=\"none\" stroke=\"black\" d=\"M1310.75,-303.58C1468.26,-298.63 1965.25,-280.87 2031.03,-252 2052.33,-242.65 2048.25,-226.47 2069.03,-216 2232.67,-133.5 2294.07,-172.93 2475.03,-144 2597.93,-124.35 2744.27,-104.55 2810.84,-95.74\"/>\n",
       "<polygon fill=\"black\" stroke=\"black\" points=\"2811.37,-99.2 2820.82,-94.42 2810.45,-92.26 2811.37,-99.2\"/>\n",
       "</g>\n",
       "<!-- 18 -->\n",
       "<g id=\"node11\" class=\"node\">\n",
       "<title>18</title>\n",
       "<ellipse fill=\"none\" stroke=\"black\" cx=\"4246.03\" cy=\"-306\" rx=\"40.89\" ry=\"18\"/>\n",
       "<text text-anchor=\"middle\" x=\"4246.03\" y=\"-302.3\" font-family=\"Times,serif\" font-size=\"14.00\">LogOp</text>\n",
       "</g>\n",
       "<!-- 18&#45;&gt;6 -->\n",
       "<g id=\"edge6\" class=\"edge\">\n",
       "<title>18&#45;&gt;6</title>\n",
       "<path fill=\"none\" stroke=\"black\" d=\"M4246.03,-287.7C4246.03,-279.98 4246.03,-270.71 4246.03,-262.11\"/>\n",
       "<polygon fill=\"black\" stroke=\"black\" points=\"4249.53,-262.1 4246.03,-252.1 4242.53,-262.1 4249.53,-262.1\"/>\n",
       "</g>\n",
       "<!-- 10 -->\n",
       "<g id=\"node15\" class=\"node\">\n",
       "<title>10</title>\n",
       "<ellipse fill=\"none\" stroke=\"black\" cx=\"1887.03\" cy=\"-162\" rx=\"48.19\" ry=\"18\"/>\n",
       "<text text-anchor=\"middle\" x=\"1887.03\" y=\"-158.3\" font-family=\"Times,serif\" font-size=\"14.00\">Rename</text>\n",
       "</g>\n",
       "<!-- 7&#45;&gt;10 -->\n",
       "<g id=\"edge9\" class=\"edge\">\n",
       "<title>7&#45;&gt;10</title>\n",
       "<path fill=\"none\" stroke=\"black\" d=\"M1802.14,-216.05C1817.87,-206.22 1837.79,-193.77 1854.38,-183.4\"/>\n",
       "<polygon fill=\"black\" stroke=\"black\" points=\"1856.58,-186.16 1863.21,-177.89 1852.87,-180.22 1856.58,-186.16\"/>\n",
       "</g>\n",
       "<!-- 8 -->\n",
       "<g id=\"node13\" class=\"node\">\n",
       "<title>8</title>\n",
       "<ellipse fill=\"none\" stroke=\"black\" cx=\"4246.03\" cy=\"-450\" rx=\"70.69\" ry=\"18\"/>\n",
       "<text text-anchor=\"middle\" x=\"4246.03\" y=\"-446.3\" font-family=\"Times,serif\" font-size=\"14.00\">ItemRecency</text>\n",
       "</g>\n",
       "<!-- 24 -->\n",
       "<g id=\"node23\" class=\"node\">\n",
       "<title>24</title>\n",
       "<ellipse fill=\"none\" stroke=\"black\" cx=\"4246.03\" cy=\"-378\" rx=\"48.19\" ry=\"18\"/>\n",
       "<text text-anchor=\"middle\" x=\"4246.03\" y=\"-374.3\" font-family=\"Times,serif\" font-size=\"14.00\">Rename</text>\n",
       "</g>\n",
       "<!-- 8&#45;&gt;24 -->\n",
       "<g id=\"edge21\" class=\"edge\">\n",
       "<title>8&#45;&gt;24</title>\n",
       "<path fill=\"none\" stroke=\"black\" d=\"M4246.03,-431.7C4246.03,-423.98 4246.03,-414.71 4246.03,-406.11\"/>\n",
       "<polygon fill=\"black\" stroke=\"black\" points=\"4249.53,-406.1 4246.03,-396.1 4242.53,-406.1 4249.53,-406.1\"/>\n",
       "</g>\n",
       "<!-- 9&#45;&gt;29 -->\n",
       "<g id=\"edge26\" class=\"edge\">\n",
       "<title>9&#45;&gt;29</title>\n",
       "<path fill=\"none\" stroke=\"black\" d=\"M1646.7,-157.25C1693.16,-153.59 1766.49,-148 1830.03,-144 2212.71,-119.89 2676.9,-98.59 2809.84,-92.65\"/>\n",
       "<polygon fill=\"black\" stroke=\"black\" points=\"2810.07,-96.14 2819.91,-92.2 2809.76,-89.15 2810.07,-96.14\"/>\n",
       "</g>\n",
       "<!-- 10&#45;&gt;29 -->\n",
       "<g id=\"edge30\" class=\"edge\">\n",
       "<title>10&#45;&gt;29</title>\n",
       "<path fill=\"none\" stroke=\"black\" d=\"M1931.96,-155.3C1961.5,-151.7 2001.02,-147.14 2036.03,-144 2334.14,-117.27 2695.05,-98.45 2810,-92.78\"/>\n",
       "<polygon fill=\"black\" stroke=\"black\" points=\"2810.22,-96.27 2820.04,-92.29 2809.88,-89.28 2810.22,-96.27\"/>\n",
       "</g>\n",
       "<!-- 11 -->\n",
       "<g id=\"node16\" class=\"node\">\n",
       "<title>11</title>\n",
       "<ellipse fill=\"none\" stroke=\"black\" cx=\"4442.03\" cy=\"-162\" rx=\"48.19\" ry=\"18\"/>\n",
       "<text text-anchor=\"middle\" x=\"4442.03\" y=\"-158.3\" font-family=\"Times,serif\" font-size=\"14.00\">Rename</text>\n",
       "</g>\n",
       "<!-- 11&#45;&gt;29 -->\n",
       "<g id=\"edge34\" class=\"edge\">\n",
       "<title>11&#45;&gt;29</title>\n",
       "<path fill=\"none\" stroke=\"black\" d=\"M4397.68,-154.82C4369.26,-151.1 4331.54,-146.59 4298.03,-144 3736.69,-100.69 3050.38,-92.61 2884.43,-91.25\"/>\n",
       "<polygon fill=\"black\" stroke=\"black\" points=\"2884.29,-87.75 2874.26,-91.17 2884.23,-94.75 2884.29,-87.75\"/>\n",
       "</g>\n",
       "<!-- 12 -->\n",
       "<g id=\"node17\" class=\"node\">\n",
       "<title>12</title>\n",
       "<ellipse fill=\"none\" stroke=\"black\" cx=\"4529.03\" cy=\"-234\" rx=\"206.06\" ry=\"18\"/>\n",
       "<text text-anchor=\"middle\" x=\"4529.03\" y=\"-230.3\" font-family=\"Times,serif\" font-size=\"14.00\">nvt.ops.LambdaOp(lambda col: col.dt.day)</text>\n",
       "</g>\n",
       "<!-- 12&#45;&gt;11 -->\n",
       "<g id=\"edge10\" class=\"edge\">\n",
       "<title>12&#45;&gt;11</title>\n",
       "<path fill=\"none\" stroke=\"black\" d=\"M4507.97,-216.05C4496.33,-206.69 4481.75,-194.96 4469.26,-184.91\"/>\n",
       "<polygon fill=\"black\" stroke=\"black\" points=\"4471.39,-182.13 4461.41,-178.59 4467,-187.59 4471.39,-182.13\"/>\n",
       "</g>\n",
       "<!-- 15 -->\n",
       "<g id=\"node20\" class=\"node\">\n",
       "<title>15</title>\n",
       "<ellipse fill=\"none\" stroke=\"black\" cx=\"2532.03\" cy=\"-162\" rx=\"48.19\" ry=\"18\"/>\n",
       "<text text-anchor=\"middle\" x=\"2532.03\" y=\"-158.3\" font-family=\"Times,serif\" font-size=\"14.00\">Rename</text>\n",
       "</g>\n",
       "<!-- 13&#45;&gt;15 -->\n",
       "<g id=\"edge13\" class=\"edge\">\n",
       "<title>13&#45;&gt;15</title>\n",
       "<path fill=\"none\" stroke=\"black\" d=\"M2378.92,-216.32C2412.17,-204.74 2456.12,-189.43 2488.41,-178.19\"/>\n",
       "<polygon fill=\"black\" stroke=\"black\" points=\"2489.73,-181.44 2498.03,-174.84 2487.43,-174.83 2489.73,-181.44\"/>\n",
       "</g>\n",
       "<!-- 16 -->\n",
       "<g id=\"node21\" class=\"node\">\n",
       "<title>16</title>\n",
       "<ellipse fill=\"none\" stroke=\"black\" cx=\"2847.03\" cy=\"-162\" rx=\"48.19\" ry=\"18\"/>\n",
       "<text text-anchor=\"middle\" x=\"2847.03\" y=\"-158.3\" font-family=\"Times,serif\" font-size=\"14.00\">Rename</text>\n",
       "</g>\n",
       "<!-- 14&#45;&gt;16 -->\n",
       "<g id=\"edge14\" class=\"edge\">\n",
       "<title>14&#45;&gt;16</title>\n",
       "<path fill=\"none\" stroke=\"black\" d=\"M2847.03,-215.7C2847.03,-207.98 2847.03,-198.71 2847.03,-190.11\"/>\n",
       "<polygon fill=\"black\" stroke=\"black\" points=\"2850.53,-190.1 2847.03,-180.1 2843.53,-190.1 2850.53,-190.1\"/>\n",
       "</g>\n",
       "<!-- 15&#45;&gt;29 -->\n",
       "<g id=\"edge27\" class=\"edge\">\n",
       "<title>15&#45;&gt;29</title>\n",
       "<path fill=\"none\" stroke=\"black\" d=\"M2572.24,-152.06C2634.36,-138.26 2752.63,-111.98 2811.66,-98.86\"/>\n",
       "<polygon fill=\"black\" stroke=\"black\" points=\"2812.63,-102.23 2821.63,-96.64 2811.11,-95.4 2812.63,-102.23\"/>\n",
       "</g>\n",
       "<!-- 16&#45;&gt;29 -->\n",
       "<g id=\"edge31\" class=\"edge\">\n",
       "<title>16&#45;&gt;29</title>\n",
       "<path fill=\"none\" stroke=\"black\" d=\"M2847.03,-143.7C2847.03,-135.98 2847.03,-126.71 2847.03,-118.11\"/>\n",
       "<polygon fill=\"black\" stroke=\"black\" points=\"2850.53,-118.1 2847.03,-108.1 2843.53,-118.1 2850.53,-118.1\"/>\n",
       "</g>\n",
       "<!-- 17 -->\n",
       "<g id=\"node22\" class=\"node\">\n",
       "<title>17</title>\n",
       "<ellipse fill=\"none\" stroke=\"black\" cx=\"4973.03\" cy=\"-234\" rx=\"219.86\" ry=\"18\"/>\n",
       "<text text-anchor=\"middle\" x=\"4973.03\" y=\"-230.3\" font-family=\"Times,serif\" font-size=\"14.00\">nvt.ops.LambdaOp(lambda col: col.dt.month)</text>\n",
       "</g>\n",
       "<!-- 19 -->\n",
       "<g id=\"node24\" class=\"node\">\n",
       "<title>19</title>\n",
       "<ellipse fill=\"none\" stroke=\"black\" cx=\"4764.03\" cy=\"-162\" rx=\"48.19\" ry=\"18\"/>\n",
       "<text text-anchor=\"middle\" x=\"4764.03\" y=\"-158.3\" font-family=\"Times,serif\" font-size=\"14.00\">Rename</text>\n",
       "</g>\n",
       "<!-- 17&#45;&gt;19 -->\n",
       "<g id=\"edge16\" class=\"edge\">\n",
       "<title>17&#45;&gt;19</title>\n",
       "<path fill=\"none\" stroke=\"black\" d=\"M4923.5,-216.41C4888.56,-204.71 4842.16,-189.17 4808.43,-177.87\"/>\n",
       "<polygon fill=\"black\" stroke=\"black\" points=\"4809.42,-174.51 4798.83,-174.66 4807.2,-181.15 4809.42,-174.51\"/>\n",
       "</g>\n",
       "<!-- 24&#45;&gt;18 -->\n",
       "<g id=\"edge15\" class=\"edge\">\n",
       "<title>24&#45;&gt;18</title>\n",
       "<path fill=\"none\" stroke=\"black\" d=\"M4246.03,-359.7C4246.03,-351.98 4246.03,-342.71 4246.03,-334.11\"/>\n",
       "<polygon fill=\"black\" stroke=\"black\" points=\"4249.53,-334.1 4246.03,-324.1 4242.53,-334.1 4249.53,-334.1\"/>\n",
       "</g>\n",
       "<!-- 19&#45;&gt;29 -->\n",
       "<g id=\"edge35\" class=\"edge\">\n",
       "<title>19&#45;&gt;29</title>\n",
       "<path fill=\"none\" stroke=\"black\" d=\"M4717.14,-157.54C4664.2,-153.73 4575.47,-147.68 4499.03,-144 3852.64,-112.91 3063.08,-95.47 2884.22,-91.75\"/>\n",
       "<polygon fill=\"black\" stroke=\"black\" points=\"2884.1,-88.25 2874.03,-91.54 2883.96,-95.25 2884.1,-88.25\"/>\n",
       "</g>\n",
       "<!-- 22 -->\n",
       "<g id=\"node27\" class=\"node\">\n",
       "<title>22</title>\n",
       "<ellipse fill=\"none\" stroke=\"black\" cx=\"3163.03\" cy=\"-162\" rx=\"48.19\" ry=\"18\"/>\n",
       "<text text-anchor=\"middle\" x=\"3163.03\" y=\"-158.3\" font-family=\"Times,serif\" font-size=\"14.00\">Rename</text>\n",
       "</g>\n",
       "<!-- 20&#45;&gt;22 -->\n",
       "<g id=\"edge19\" class=\"edge\">\n",
       "<title>20&#45;&gt;22</title>\n",
       "<path fill=\"none\" stroke=\"black\" d=\"M3316.9,-216.32C3283.48,-204.74 3239.31,-189.43 3206.87,-178.19\"/>\n",
       "<polygon fill=\"black\" stroke=\"black\" points=\"3207.79,-174.81 3197.2,-174.84 3205.5,-181.42 3207.79,-174.81\"/>\n",
       "</g>\n",
       "<!-- 23 -->\n",
       "<g id=\"node28\" class=\"node\">\n",
       "<title>23</title>\n",
       "<ellipse fill=\"none\" stroke=\"black\" cx=\"3581.03\" cy=\"-162\" rx=\"48.19\" ry=\"18\"/>\n",
       "<text text-anchor=\"middle\" x=\"3581.03\" y=\"-158.3\" font-family=\"Times,serif\" font-size=\"14.00\">Rename</text>\n",
       "</g>\n",
       "<!-- 21&#45;&gt;23 -->\n",
       "<g id=\"edge20\" class=\"edge\">\n",
       "<title>21&#45;&gt;23</title>\n",
       "<path fill=\"none\" stroke=\"black\" d=\"M3814.14,-216.68C3757.84,-203.71 3680.54,-185.91 3630.68,-174.43\"/>\n",
       "<polygon fill=\"black\" stroke=\"black\" points=\"3631.32,-170.99 3620.78,-172.15 3629.74,-177.81 3631.32,-170.99\"/>\n",
       "</g>\n",
       "<!-- 22&#45;&gt;29 -->\n",
       "<g id=\"edge28\" class=\"edge\">\n",
       "<title>22&#45;&gt;29</title>\n",
       "<path fill=\"none\" stroke=\"black\" d=\"M3122.69,-152.06C3060.37,-138.26 2941.73,-111.98 2882.5,-98.86\"/>\n",
       "<polygon fill=\"black\" stroke=\"black\" points=\"2883.02,-95.39 2872.5,-96.64 2881.51,-102.22 2883.02,-95.39\"/>\n",
       "</g>\n",
       "<!-- 23&#45;&gt;29 -->\n",
       "<g id=\"edge32\" class=\"edge\">\n",
       "<title>23&#45;&gt;29</title>\n",
       "<path fill=\"none\" stroke=\"black\" d=\"M3535.11,-156.62C3400.02,-143.74 3005.72,-106.13 2883.55,-94.48\"/>\n",
       "<polygon fill=\"black\" stroke=\"black\" points=\"2883.86,-91 2873.58,-93.53 2883.2,-97.97 2883.86,-91\"/>\n",
       "</g>\n",
       "<!-- 25 -->\n",
       "<g id=\"node29\" class=\"node\">\n",
       "<title>25</title>\n",
       "<ellipse fill=\"none\" stroke=\"black\" cx=\"1263.03\" cy=\"-378\" rx=\"211.46\" ry=\"18\"/>\n",
       "<text text-anchor=\"middle\" x=\"1263.03\" y=\"-374.3\" font-family=\"Times,serif\" font-size=\"14.00\">nvt.ops.LambdaOp(lambda col: col.dt.hour)</text>\n",
       "</g>\n",
       "<!-- 25&#45;&gt;26 -->\n",
       "<g id=\"edge22\" class=\"edge\">\n",
       "<title>25&#45;&gt;26</title>\n",
       "<path fill=\"none\" stroke=\"black\" d=\"M1263.03,-359.7C1263.03,-351.98 1263.03,-342.71 1263.03,-334.11\"/>\n",
       "<polygon fill=\"black\" stroke=\"black\" points=\"1266.53,-334.1 1263.03,-324.1 1259.53,-334.1 1266.53,-334.1\"/>\n",
       "</g>\n",
       "<!-- 30 -->\n",
       "<g id=\"node31\" class=\"node\">\n",
       "<title>30</title>\n",
       "<ellipse fill=\"none\" stroke=\"black\" cx=\"2847.03\" cy=\"-18\" rx=\"285.95\" ry=\"18\"/>\n",
       "<text text-anchor=\"middle\" x=\"2847.03\" y=\"-14.3\" font-family=\"Times,serif\" font-size=\"14.00\">output cols=[et_hour_sin, et_hour_cos, et_dayofweek_sin...]</text>\n",
       "</g>\n",
       "<!-- 29&#45;&gt;30 -->\n",
       "<g id=\"edge38\" class=\"edge\">\n",
       "<title>29&#45;&gt;30</title>\n",
       "<path fill=\"none\" stroke=\"black\" d=\"M2847.03,-71.7C2847.03,-63.98 2847.03,-54.71 2847.03,-46.11\"/>\n",
       "<polygon fill=\"black\" stroke=\"black\" points=\"2850.53,-46.1 2847.03,-36.1 2843.53,-46.1 2850.53,-46.1\"/>\n",
       "</g>\n",
       "</g>\n",
       "</svg>\n"
      ],
      "text/plain": [
       "<graphviz.dot.Digraph at 0x7fc0f7f3be80>"
      ]
     },
     "execution_count": 35,
     "metadata": {},
     "output_type": "execute_result"
    }
   ],
   "source": [
    "time_features.graph"
   ]
  },
  {
   "cell_type": "markdown",
   "metadata": {},
   "source": [
    "### Computing elapsed time since last interaction (on non-repeated items)"
   ]
  },
  {
   "cell_type": "code",
   "execution_count": 36,
   "metadata": {},
   "outputs": [],
   "source": [
    "# compute the delta in timestamp for each users session\n",
    "diff_features = ([\"event_time_ts\"] >> nvt.ops.DifferenceLag(partition_cols=[\"user_session\"]) >> (lambda col: col.astype(\"float32\"))\n",
    "                                   >> nvt.ops.FillMissing(fill_val=0)\n",
    "                                   >> nvt.ops.Rename(name=\"delta_event_secs\")\n",
    "                )\n",
    "diff_features_log_norm = diff_features >> nvt.ops.LogOp() >> nvt.ops.Normalize() >> nvt.ops.Rename(name='delta_event_secs_log_norm')"
   ]
  },
  {
   "cell_type": "markdown",
   "metadata": {},
   "source": [
    "### Normalize Continuous Features¶"
   ]
  },
  {
   "cell_type": "code",
   "execution_count": 37,
   "metadata": {},
   "outputs": [],
   "source": [
    "# Smoothing price long-tailed distribution\n",
    "price_log = ['price'] >> nvt.ops.LogOp() >> nvt.ops.Normalize() >> nvt.ops.Rename(name='price_log_norm')"
   ]
  },
  {
   "cell_type": "code",
   "execution_count": 38,
   "metadata": {},
   "outputs": [],
   "source": [
    "# Relative Price to the average price for the category_id\n",
    "def relative_price_to_avg_categ(col, gdf):\n",
    "    epsilon = 1e-5\n",
    "    col = ((gdf['price'] - col) / (col + epsilon)) * (col > 0).astype(int)\n",
    "    return col\n",
    "    \n",
    "avg_category_id_pr = ['category_id'] >> nvt.ops.JoinGroupby(cont_cols =['price'], stats=[\"mean\"]) >> nvt.ops.Rename(name='avg_category_id_price')\n",
    "relative_price_to_avg_category = avg_category_id_pr >> nvt.ops.LambdaOp(relative_price_to_avg_categ, dependency=['price']) >> nvt.ops.Rename(name=\"relative_price_to_avg_categ_id\")"
   ]
  },
  {
   "cell_type": "markdown",
   "metadata": {},
   "source": [
    "### Grouping interactions into sessions¶"
   ]
  },
  {
   "cell_type": "code",
   "execution_count": 39,
   "metadata": {},
   "outputs": [],
   "source": [
    "groupby_feats = cols + cat_feats + time_features + avg_category_id_pr + price_log + relative_price_to_avg_category + diff_features_log_norm"
   ]
  },
  {
   "cell_type": "markdown",
   "metadata": {},
   "source": [
    "#### Aggregate by session id (create sequence as type of array)"
   ]
  },
  {
   "cell_type": "code",
   "execution_count": 40,
   "metadata": {},
   "outputs": [],
   "source": [
    "# Define Groupby Workflow\n",
    "groupby_features = groupby_feats  >> nvt.ops.Groupby(\n",
    "    groupby_cols=[\"user_session\"], \n",
    "    sort_cols=[\"event_time_ts\"],\n",
    "    aggs={\n",
    "        'user_id': ['first'],\n",
    "        'product_id': [\"list\", \"count\"],\n",
    "        'category_code': [\"list\"],  \n",
    "        'event_type': [\"list\"], \n",
    "        'brand': [\"list\"], \n",
    "        'category_id': [\"list\"], \n",
    "        'event_time_ts': [\"list\", \"first\"],\n",
    "        'event_time_dt': [\"first\"],\n",
    "        'product_recency_days_log_norm': [\"list\"],\n",
    "        'et_hour_sin': [\"list\"],\n",
    "        'et_hour_cos': [\"list\"],\n",
    "        'et_dayofweek_sin': [\"list\"],\n",
    "        'et_dayofweek_cos': [\"list\"],\n",
    "        'et_dayofmonth_sin': [\"list\"],\n",
    "        'et_dayofmonth_cos': [\"list\"],\n",
    "        'et_month_sin': [\"list\"],\n",
    "        'et_month_cos': [\"list\"], \n",
    "        'avg_category_id_price': [\"list\"], \n",
    "        'relative_price_to_avg_categ_id': [\"list\"], \n",
    "        'price_log_norm': [\"list\"], \n",
    "        'delta_event_secs_log_norm': [\"list\"], \n",
    "        },\n",
    "    name_sep=\"-\")"
   ]
  },
  {
   "cell_type": "code",
   "execution_count": 41,
   "metadata": {},
   "outputs": [
    {
     "data": {
      "text/plain": [
       "['product_id-count',\n",
       " 'event_time_dt-first',\n",
       " 'event_time_ts-first',\n",
       " 'user_id-first',\n",
       " 'user_session']"
      ]
     },
     "execution_count": 41,
     "metadata": {},
     "output_type": "execute_result"
    }
   ],
   "source": [
    "groupby_features_nonlist = [x for x in groupby_features.output_columns.names if '-list' not in x]\n",
    "groupby_features_nonlist"
   ]
  },
  {
   "cell_type": "code",
   "execution_count": 42,
   "metadata": {},
   "outputs": [],
   "source": [
    "SESSIONS_MAX_LENGTH = 20 \n",
    "MINIMUM_SESSION_LENGTH = 2"
   ]
  },
  {
   "cell_type": "code",
   "execution_count": 43,
   "metadata": {},
   "outputs": [
    {
     "name": "stderr",
     "output_type": "stream",
     "text": [
      "/nvtabular/nvtabular/workflow/node.py:45: FutureWarning: The `[\"a\", \"b\", \"c\"] >> ops.Operator` syntax for creating a `ColumnGroup` has been deprecated in NVTabular 21.09 and will be removed in a future version.\n",
      "  warnings.warn(\n"
     ]
    }
   ],
   "source": [
    "groupby_features_trim = ((groupby_features - groupby_features_nonlist)) >> nvt.ops.ListSlice(0,SESSIONS_MAX_LENGTH) >> nvt.ops.Rename(postfix = '_seq')"
   ]
  },
  {
   "cell_type": "code",
   "execution_count": 44,
   "metadata": {},
   "outputs": [],
   "source": [
    "day_index = (groupby_features['event_time_dt-first'] >> \n",
    "    nvt.ops.LambdaOp(lambda col: (col - col.min()).dt.days +1) >> \n",
    "    nvt.ops.Rename(name = \"day_index\")\n",
    ")"
   ]
  },
  {
   "cell_type": "code",
   "execution_count": 45,
   "metadata": {},
   "outputs": [],
   "source": [
    "day_padded = day_index >> (lambda col: col.astype(str).str.pad(4,fillchar='0')) >> nvt.ops.Rename(name=\"day_padded\")"
   ]
  },
  {
   "cell_type": "code",
   "execution_count": 46,
   "metadata": {},
   "outputs": [],
   "source": [
    "selected_features = groupby_features[groupby_features_nonlist] + groupby_features_trim + day_padded"
   ]
  },
  {
   "cell_type": "markdown",
   "metadata": {},
   "source": [
    "- Select sessions with session size is equal and longer than the MINIMUM_SESSION_LENGTH."
   ]
  },
  {
   "cell_type": "code",
   "execution_count": 47,
   "metadata": {},
   "outputs": [],
   "source": [
    "filtered_sessions = (selected_features-['event_time_dt-first']) >> nvt.ops.Filter(f=lambda df: df[\"product_id-count\"] >= MINIMUM_SESSION_LENGTH)"
   ]
  },
  {
   "cell_type": "code",
   "execution_count": 48,
   "metadata": {},
   "outputs": [
    {
     "data": {
      "text/plain": [
       "['/workspace/ecommerce/input/input.parquet']"
      ]
     },
     "execution_count": 48,
     "metadata": {},
     "output_type": "execute_result"
    }
   ],
   "source": [
    "# define the path of the saved parquet files \n",
    "input_paths = glob.glob(os.path.join(INPUT_PATH, '*.parquet'))\n",
    "input_paths"
   ]
  },
  {
   "cell_type": "code",
   "execution_count": 49,
   "metadata": {},
   "outputs": [
    {
     "name": "stderr",
     "output_type": "stream",
     "text": [
      "/root/.local/lib/python3.8/site-packages/numba-0.54.0rc2-py3.8-linux-x86_64.egg/numba/cuda/compiler.py:865: NumbaPerformanceWarning: \u001b[1mGrid size (1) < 2 * SM count (160) will likely result in GPU under utilization due to low occupancy.\u001b[0m\n",
      "  warn(NumbaPerformanceWarning(msg))\n",
      "/root/.local/lib/python3.8/site-packages/numba-0.54.0rc2-py3.8-linux-x86_64.egg/numba/cuda/compiler.py:865: NumbaPerformanceWarning: \u001b[1mGrid size (1) < 2 * SM count (160) will likely result in GPU under utilization due to low occupancy.\u001b[0m\n",
      "  warn(NumbaPerformanceWarning(msg))\n",
      "/root/.local/lib/python3.8/site-packages/numba-0.54.0rc2-py3.8-linux-x86_64.egg/numba/cuda/compiler.py:865: NumbaPerformanceWarning: \u001b[1mGrid size (1) < 2 * SM count (160) will likely result in GPU under utilization due to low occupancy.\u001b[0m\n",
      "  warn(NumbaPerformanceWarning(msg))\n"
     ]
    },
    {
     "data": {
      "text/plain": [
       "<nvtabular.workflow.workflow.Workflow at 0x7fbd90d7b760>"
      ]
     },
     "execution_count": 49,
     "metadata": {},
     "output_type": "execute_result"
    }
   ],
   "source": [
    "dataset = nvt.Dataset(input_paths, part_size=\"256MB\")\n",
    "workflow = nvt.Workflow(filtered_sessions)\n",
    "workflow.fit(dataset)"
   ]
  },
  {
   "cell_type": "code",
   "execution_count": 50,
   "metadata": {},
   "outputs": [],
   "source": [
    "sessions_gdf = workflow.transform(dataset).to_ddf()"
   ]
  },
  {
   "cell_type": "code",
   "execution_count": 51,
   "metadata": {},
   "outputs": [
    {
     "data": {
      "text/html": [
       "<div>\n",
       "<style scoped>\n",
       "    .dataframe tbody tr th:only-of-type {\n",
       "        vertical-align: middle;\n",
       "    }\n",
       "\n",
       "    .dataframe tbody tr th {\n",
       "        vertical-align: top;\n",
       "    }\n",
       "\n",
       "    .dataframe thead th {\n",
       "        text-align: right;\n",
       "    }\n",
       "</style>\n",
       "<table border=\"1\" class=\"dataframe\">\n",
       "  <thead>\n",
       "    <tr style=\"text-align: right;\">\n",
       "      <th></th>\n",
       "      <th>product_id-count</th>\n",
       "      <th>event_time_ts-first</th>\n",
       "      <th>user_id-first</th>\n",
       "      <th>user_session</th>\n",
       "      <th>et_hour_sin-list_seq</th>\n",
       "      <th>brand-list_seq</th>\n",
       "      <th>event_time_ts-list_seq</th>\n",
       "      <th>category_code-list_seq</th>\n",
       "      <th>et_month_cos-list_seq</th>\n",
       "      <th>et_dayofmonth_cos-list_seq</th>\n",
       "      <th>...</th>\n",
       "      <th>et_dayofweek_cos-list_seq</th>\n",
       "      <th>et_month_sin-list_seq</th>\n",
       "      <th>category_id-list_seq</th>\n",
       "      <th>product_recency_days_log_norm-list_seq</th>\n",
       "      <th>price_log_norm-list_seq</th>\n",
       "      <th>delta_event_secs_log_norm-list_seq</th>\n",
       "      <th>avg_category_id_price-list_seq</th>\n",
       "      <th>event_type-list_seq</th>\n",
       "      <th>product_id-list_seq</th>\n",
       "      <th>day_padded</th>\n",
       "    </tr>\n",
       "  </thead>\n",
       "  <tbody>\n",
       "    <tr>\n",
       "      <th>0</th>\n",
       "      <td>779</td>\n",
       "      <td>1569900208</td>\n",
       "      <td>74</td>\n",
       "      <td>1</td>\n",
       "      <td>[0.707107, 0.707107, 0.707107, 0.86602557, 0.8...</td>\n",
       "      <td>[190, 111, 275, 290, 536, 31, 10, 31, 416, 185...</td>\n",
       "      <td>[1569900208, 1569900523, 1569900702, 156990268...</td>\n",
       "      <td>[1, 1, 1, 1, 1, 16, 16, 16, 16, 16, 16, 16, 16...</td>\n",
       "      <td>[0.86602515, 0.86602515, 0.86602515, 0.8660251...</td>\n",
       "      <td>[0.82076335, 0.82076335, 0.82076335, 0.6889667...</td>\n",
       "      <td>...</td>\n",
       "      <td>[-0.22252177, -0.22252177, -0.22252177, -0.222...</td>\n",
       "      <td>[0.5000004, 0.5000004, 0.5000004, 0.5000004, 0...</td>\n",
       "      <td>[3, 3, 3, 3, 3, 20, 20, 20, 20, 20, 20, 20, 20...</td>\n",
       "      <td>[-3.1486552, -3.1486552, -3.1484227, -3.148655...</td>\n",
       "      <td>[-0.5968717, -0.5826297, -0.57691526, -0.94771...</td>\n",
       "      <td>[-1.3126725, 1.5326053, 1.2543997, 2.4412644, ...</td>\n",
       "      <td>[67.77804798822417, 67.77804798822417, 67.7780...</td>\n",
       "      <td>[2, 2, 2, 2, 2, 2, 2, 2, 2, 2, 2, 2, 2, 2, 2, ...</td>\n",
       "      <td>[26848, 111412, 31916, 10389, 28422, 671, 898,...</td>\n",
       "      <td>0001</td>\n",
       "    </tr>\n",
       "    <tr>\n",
       "      <th>1</th>\n",
       "      <td>1008</td>\n",
       "      <td>1571718982</td>\n",
       "      <td>18</td>\n",
       "      <td>2</td>\n",
       "      <td>[0.86602557, 0.86602557, 0.86602557, 0.8660255...</td>\n",
       "      <td>[1, 43, 1, 15, 15, 15, 15, 15, 15, 15, 15, 15,...</td>\n",
       "      <td>[1571718982, 1571719023, 1571719135, 157171947...</td>\n",
       "      <td>[8, 8, 8, 6, 6, 6, 6, 6, 6, 6, 6, 6, 6, 6, 6, ...</td>\n",
       "      <td>[0.86602515, 0.86602515, 0.86602515, 0.8660251...</td>\n",
       "      <td>[0.68896675, 0.68896675, 0.68896675, 0.6889667...</td>\n",
       "      <td>...</td>\n",
       "      <td>[-0.22252177, -0.22252177, -0.22252177, -0.222...</td>\n",
       "      <td>[0.5000004, 0.5000004, 0.5000004, 0.5000004, 0...</td>\n",
       "      <td>[13, 13, 13, 6, 6, 6, 6, 6, 6, 6, 6, 6, 6, 6, ...</td>\n",
       "      <td>[0.740196, 0.73695815, 0.7402966, 0.7385435, 0...</td>\n",
       "      <td>[0.08458559, -0.24322405, 0.08458559, -0.14456...</td>\n",
       "      <td>[-1.3126725, 0.5349969, 1.0242516, 1.5629423, ...</td>\n",
       "      <td>[465.9987932459774, 465.9987932459774, 465.998...</td>\n",
       "      <td>[2, 2, 2, 2, 2, 2, 2, 2, 2, 2, 2, 2, 2, 2, 2, ...</td>\n",
       "      <td>[621, 2934, 621, 2763, 11453, 35, 266, 762, 11...</td>\n",
       "      <td>0022</td>\n",
       "    </tr>\n",
       "  </tbody>\n",
       "</table>\n",
       "<p>2 rows × 24 columns</p>\n",
       "</div>"
      ],
      "text/plain": [
       "   product_id-count  event_time_ts-first  user_id-first  user_session  \\\n",
       "0               779           1569900208             74             1   \n",
       "1              1008           1571718982             18             2   \n",
       "\n",
       "                                et_hour_sin-list_seq  \\\n",
       "0  [0.707107, 0.707107, 0.707107, 0.86602557, 0.8...   \n",
       "1  [0.86602557, 0.86602557, 0.86602557, 0.8660255...   \n",
       "\n",
       "                                      brand-list_seq  \\\n",
       "0  [190, 111, 275, 290, 536, 31, 10, 31, 416, 185...   \n",
       "1  [1, 43, 1, 15, 15, 15, 15, 15, 15, 15, 15, 15,...   \n",
       "\n",
       "                              event_time_ts-list_seq  \\\n",
       "0  [1569900208, 1569900523, 1569900702, 156990268...   \n",
       "1  [1571718982, 1571719023, 1571719135, 157171947...   \n",
       "\n",
       "                              category_code-list_seq  \\\n",
       "0  [1, 1, 1, 1, 1, 16, 16, 16, 16, 16, 16, 16, 16...   \n",
       "1  [8, 8, 8, 6, 6, 6, 6, 6, 6, 6, 6, 6, 6, 6, 6, ...   \n",
       "\n",
       "                               et_month_cos-list_seq  \\\n",
       "0  [0.86602515, 0.86602515, 0.86602515, 0.8660251...   \n",
       "1  [0.86602515, 0.86602515, 0.86602515, 0.8660251...   \n",
       "\n",
       "                          et_dayofmonth_cos-list_seq  ...  \\\n",
       "0  [0.82076335, 0.82076335, 0.82076335, 0.6889667...  ...   \n",
       "1  [0.68896675, 0.68896675, 0.68896675, 0.6889667...  ...   \n",
       "\n",
       "                           et_dayofweek_cos-list_seq  \\\n",
       "0  [-0.22252177, -0.22252177, -0.22252177, -0.222...   \n",
       "1  [-0.22252177, -0.22252177, -0.22252177, -0.222...   \n",
       "\n",
       "                               et_month_sin-list_seq  \\\n",
       "0  [0.5000004, 0.5000004, 0.5000004, 0.5000004, 0...   \n",
       "1  [0.5000004, 0.5000004, 0.5000004, 0.5000004, 0...   \n",
       "\n",
       "                                category_id-list_seq  \\\n",
       "0  [3, 3, 3, 3, 3, 20, 20, 20, 20, 20, 20, 20, 20...   \n",
       "1  [13, 13, 13, 6, 6, 6, 6, 6, 6, 6, 6, 6, 6, 6, ...   \n",
       "\n",
       "              product_recency_days_log_norm-list_seq  \\\n",
       "0  [-3.1486552, -3.1486552, -3.1484227, -3.148655...   \n",
       "1  [0.740196, 0.73695815, 0.7402966, 0.7385435, 0...   \n",
       "\n",
       "                             price_log_norm-list_seq  \\\n",
       "0  [-0.5968717, -0.5826297, -0.57691526, -0.94771...   \n",
       "1  [0.08458559, -0.24322405, 0.08458559, -0.14456...   \n",
       "\n",
       "                  delta_event_secs_log_norm-list_seq  \\\n",
       "0  [-1.3126725, 1.5326053, 1.2543997, 2.4412644, ...   \n",
       "1  [-1.3126725, 0.5349969, 1.0242516, 1.5629423, ...   \n",
       "\n",
       "                      avg_category_id_price-list_seq  \\\n",
       "0  [67.77804798822417, 67.77804798822417, 67.7780...   \n",
       "1  [465.9987932459774, 465.9987932459774, 465.998...   \n",
       "\n",
       "                                 event_type-list_seq  \\\n",
       "0  [2, 2, 2, 2, 2, 2, 2, 2, 2, 2, 2, 2, 2, 2, 2, ...   \n",
       "1  [2, 2, 2, 2, 2, 2, 2, 2, 2, 2, 2, 2, 2, 2, 2, ...   \n",
       "\n",
       "                                 product_id-list_seq day_padded  \n",
       "0  [26848, 111412, 31916, 10389, 28422, 671, 898,...       0001  \n",
       "1  [621, 2934, 621, 2763, 11453, 35, 266, 762, 11...       0022  \n",
       "\n",
       "[2 rows x 24 columns]"
      ]
     },
     "execution_count": 51,
     "metadata": {},
     "output_type": "execute_result"
    }
   ],
   "source": [
    "sessions_gdf.head(2)"
   ]
  },
  {
   "cell_type": "code",
   "execution_count": 52,
   "metadata": {},
   "outputs": [
    {
     "data": {
      "text/plain": [
       "['product_id-count',\n",
       " 'event_time_ts-first',\n",
       " 'user_id-first',\n",
       " 'user_session',\n",
       " 'et_hour_sin-list_seq',\n",
       " 'brand-list_seq',\n",
       " 'event_time_ts-list_seq',\n",
       " 'category_code-list_seq',\n",
       " 'et_month_cos-list_seq',\n",
       " 'et_dayofmonth_cos-list_seq',\n",
       " 'et_hour_cos-list_seq',\n",
       " 'et_dayofweek_sin-list_seq',\n",
       " 'relative_price_to_avg_categ_id-list_seq',\n",
       " 'et_dayofmonth_sin-list_seq',\n",
       " 'et_dayofweek_cos-list_seq',\n",
       " 'et_month_sin-list_seq',\n",
       " 'category_id-list_seq',\n",
       " 'product_recency_days_log_norm-list_seq',\n",
       " 'price_log_norm-list_seq',\n",
       " 'delta_event_secs_log_norm-list_seq',\n",
       " 'avg_category_id_price-list_seq',\n",
       " 'event_type-list_seq',\n",
       " 'product_id-list_seq',\n",
       " 'day_padded']"
      ]
     },
     "execution_count": 52,
     "metadata": {},
     "output_type": "execute_result"
    }
   ],
   "source": [
    "workflow.output_node.selector.names"
   ]
  },
  {
   "cell_type": "markdown",
   "metadata": {},
   "source": [
    "## Exporting data"
   ]
  },
  {
   "cell_type": "markdown",
   "metadata": {},
   "source": [
    "- Export dataset to parquet, partioned by the session day_padded column"
   ]
  },
  {
   "cell_type": "code",
   "execution_count": 53,
   "metadata": {},
   "outputs": [],
   "source": [
    "PARTITION_COL = 'day_padded'\n",
    "\n",
    "# Convert to a Dataset and write out hive-partitioned data to disk\n",
    "workflow.transform(dataset).to_parquet(OUTPUT_DATA_DIR, partition_on=[PARTITION_COL])"
   ]
  },
  {
   "cell_type": "markdown",
   "metadata": {},
   "source": [
    "## Converting to the HF4Rec dir structure and splitting dataset¶"
   ]
  },
  {
   "cell_type": "code",
   "execution_count": 54,
   "metadata": {},
   "outputs": [],
   "source": [
    "OUTPUT_FOLDER = \"/workspace/ecommerce-rees/sessions_by_day\"\n",
    "!mkdir -p $OUTPUT_FOLDER"
   ]
  },
  {
   "cell_type": "code",
   "execution_count": 56,
   "metadata": {},
   "outputs": [],
   "source": [
    "# Save the final parquet files into the required file structure to be used in the model training and evaluation.\n",
    "days_folders = [f for f in sorted(os.listdir(OUTPUT_DATA_DIR)) if f.startswith(PARTITION_COL)]\n",
    "for day_folder in days_folders:\n",
    "    df = cudf.read_parquet(os.path.join(OUTPUT_DATA_DIR, day_folder))\n",
    "    df = df.sort_values('event_time_ts-first')\n",
    "    out_folder = os.path.join(OUTPUT_FOLDER, day_folder.replace('day_padded=', ''))\n",
    "    os.makedirs(out_folder, exist_ok=True)\n",
    "    df.to_parquet(os.path.join(out_folder, 'train.parquet'))\n",
    "    np.random.seed(1)\n",
    "    random_values = np.random.rand(len(df))\n",
    "    \n",
    "    #Extracts 10% for valid and test set. Those sessions are also in the train set, but as evaluation\n",
    "    #happens only for the subsequent day of training, that is not an issue, and we can keep the train set larger.\n",
    "    valid_set = df[random_values <= 0.10]\n",
    "    valid_set.to_parquet(os.path.join(out_folder, 'valid.parquet'))\n",
    "    test_set = df[random_values >= 0.90]\n",
    "    test_set.to_parquet(os.path.join(out_folder, 'test.parquet'))"
   ]
  },
  {
   "cell_type": "markdown",
   "metadata": {},
   "source": [
    "### Check exported dataset"
   ]
  },
  {
   "cell_type": "code",
   "execution_count": 57,
   "metadata": {},
   "outputs": [
    {
     "data": {
      "text/html": [
       "<div>\n",
       "<style scoped>\n",
       "    .dataframe tbody tr th:only-of-type {\n",
       "        vertical-align: middle;\n",
       "    }\n",
       "\n",
       "    .dataframe tbody tr th {\n",
       "        vertical-align: top;\n",
       "    }\n",
       "\n",
       "    .dataframe thead th {\n",
       "        text-align: right;\n",
       "    }\n",
       "</style>\n",
       "<table border=\"1\" class=\"dataframe\">\n",
       "  <thead>\n",
       "    <tr style=\"text-align: right;\">\n",
       "      <th></th>\n",
       "      <th>product_id-count</th>\n",
       "      <th>event_time_ts-first</th>\n",
       "      <th>user_id-first</th>\n",
       "      <th>user_session</th>\n",
       "      <th>et_hour_sin-list_seq</th>\n",
       "      <th>brand-list_seq</th>\n",
       "      <th>event_time_ts-list_seq</th>\n",
       "      <th>category_code-list_seq</th>\n",
       "      <th>et_month_cos-list_seq</th>\n",
       "      <th>et_dayofmonth_cos-list_seq</th>\n",
       "      <th>...</th>\n",
       "      <th>et_dayofmonth_sin-list_seq</th>\n",
       "      <th>et_dayofweek_cos-list_seq</th>\n",
       "      <th>et_month_sin-list_seq</th>\n",
       "      <th>category_id-list_seq</th>\n",
       "      <th>product_recency_days_log_norm-list_seq</th>\n",
       "      <th>price_log_norm-list_seq</th>\n",
       "      <th>delta_event_secs_log_norm-list_seq</th>\n",
       "      <th>avg_category_id_price-list_seq</th>\n",
       "      <th>event_type-list_seq</th>\n",
       "      <th>product_id-list_seq</th>\n",
       "    </tr>\n",
       "  </thead>\n",
       "  <tbody>\n",
       "    <tr>\n",
       "      <th>21655</th>\n",
       "      <td>11</td>\n",
       "      <td>1569888001</td>\n",
       "      <td>425513</td>\n",
       "      <td>730655</td>\n",
       "      <td>[2.6179939e-07, 2.6179939e-07, 2.6179939e-07, ...</td>\n",
       "      <td>[1, 1, 42, 1, 1, 1, 1, 1, 1, 1, 1]</td>\n",
       "      <td>[1569888001, 1569888069, 1569888086, 156988820...</td>\n",
       "      <td>[21, 1, 1, 1, 1, 1, 1, 1, 1, 1, 1]</td>\n",
       "      <td>[0.86602515, 0.86602515, 0.86602515, 0.8660251...</td>\n",
       "      <td>[1.0, 1.0, 1.0, 1.0, 1.0, 1.0, 1.0, 1.0, 1.0, ...</td>\n",
       "      <td>...</td>\n",
       "      <td>[2.0268341e-07, 2.0268341e-07, 2.0268341e-07, ...</td>\n",
       "      <td>[-0.22252177, -0.22252177, -0.22252177, -0.222...</td>\n",
       "      <td>[0.5000004, 0.5000004, 0.5000004, 0.5000004, 0...</td>\n",
       "      <td>[32, 15, 15, 15, 15, 15, 15, 15, 15, 15, 15]</td>\n",
       "      <td>[-3.1486552, -3.1486552, -3.1486552, -3.148655...</td>\n",
       "      <td>[1.035312, 0.43446743, 0.95062, 0.96737397, 0....</td>\n",
       "      <td>[-1.3126725, -1.3126725, 0.11614599, 1.0329243...</td>\n",
       "      <td>[627.0743073715739, 574.4541253211827, 574.454...</td>\n",
       "      <td>[2, 2, 2, 2, 2, 2, 2, 2, 2, 2, 2]</td>\n",
       "      <td>[4854, 82, 147, 133, 382, 520, 1559, 5047, 155...</td>\n",
       "    </tr>\n",
       "    <tr>\n",
       "      <th>47875</th>\n",
       "      <td>7</td>\n",
       "      <td>1569888001</td>\n",
       "      <td>366901</td>\n",
       "      <td>1637332</td>\n",
       "      <td>[2.6179939e-07, 2.6179939e-07, 2.6179939e-07, ...</td>\n",
       "      <td>[14, 16, 16, 16, 14, 11, 11]</td>\n",
       "      <td>[1569888001, 1569888019, 1569888065, 156988810...</td>\n",
       "      <td>[4, 4, 4, 4, 4, 4, 4]</td>\n",
       "      <td>[0.86602515, 0.86602515, 0.86602515, 0.8660251...</td>\n",
       "      <td>[1.0, 1.0, 1.0, 1.0, 1.0, 1.0, 1.0]</td>\n",
       "      <td>...</td>\n",
       "      <td>[2.0268341e-07, 2.0268341e-07, 2.0268341e-07, ...</td>\n",
       "      <td>[-0.22252177, -0.22252177, -0.22252177, -0.222...</td>\n",
       "      <td>[0.5000004, 0.5000004, 0.5000004, 0.5000004, 0...</td>\n",
       "      <td>[4, 4, 4, 4, 4, 4, 4]</td>\n",
       "      <td>[-3.1486552, -3.1486552, -3.1486552, -3.147448...</td>\n",
       "      <td>[0.4173999, 1.0894246, 1.8598965, 1.0894246, 0...</td>\n",
       "      <td>[-1.3126725, 0.14287339, 0.590599, 0.48552188,...</td>\n",
       "      <td>[737.3441434477309, 737.3441434477309, 737.344...</td>\n",
       "      <td>[2, 2, 2, 2, 2, 2, 2]</td>\n",
       "      <td>[223, 1580, 19588, 1580, 223, 1468, 307]</td>\n",
       "    </tr>\n",
       "    <tr>\n",
       "      <th>110493</th>\n",
       "      <td>2</td>\n",
       "      <td>1569888004</td>\n",
       "      <td>101881</td>\n",
       "      <td>4202155</td>\n",
       "      <td>[2.6179939e-07, 2.6179939e-07]</td>\n",
       "      <td>[3, 3]</td>\n",
       "      <td>[1569888004, 1569888019]</td>\n",
       "      <td>[2, 2]</td>\n",
       "      <td>[0.86602515, 0.86602515]</td>\n",
       "      <td>[1.0, 1.0]</td>\n",
       "      <td>...</td>\n",
       "      <td>[2.0268341e-07, 2.0268341e-07]</td>\n",
       "      <td>[-0.22252177, -0.22252177]</td>\n",
       "      <td>[0.5000004, 0.5000004]</td>\n",
       "      <td>[2, 2]</td>\n",
       "      <td>[-3.1486552, -3.1486552]</td>\n",
       "      <td>[1.5900183, 1.976194]</td>\n",
       "      <td>[-1.3126725, 0.05792143]</td>\n",
       "      <td>[494.9725346164256, 494.9725346164256]</td>\n",
       "      <td>[2, 2]</td>\n",
       "      <td>[41, 18]</td>\n",
       "    </tr>\n",
       "    <tr>\n",
       "      <th>52593</th>\n",
       "      <td>5</td>\n",
       "      <td>1569888005</td>\n",
       "      <td>135812</td>\n",
       "      <td>1808164</td>\n",
       "      <td>[2.6179939e-07, 2.6179939e-07, 2.6179939e-07, ...</td>\n",
       "      <td>[64, 64, 64, 64, 137]</td>\n",
       "      <td>[1569888005, 1569888022, 1569888093, 156988810...</td>\n",
       "      <td>[13, 13, 13, 13, 50]</td>\n",
       "      <td>[0.86602515, 0.86602515, 0.86602515, 0.8660251...</td>\n",
       "      <td>[1.0, 1.0, 1.0, 1.0, 1.0]</td>\n",
       "      <td>...</td>\n",
       "      <td>[2.0268341e-07, 2.0268341e-07, 2.0268341e-07, ...</td>\n",
       "      <td>[-0.22252177, -0.22252177, -0.22252177, -0.222...</td>\n",
       "      <td>[0.5000004, 0.5000004, 0.5000004, 0.5000004, 0...</td>\n",
       "      <td>[29, 29, 29, 29, 85]</td>\n",
       "      <td>[-3.1486552, -3.1486552, -3.1486552, -3.148655...</td>\n",
       "      <td>[1.4494399, 1.4607619, 1.5130008, 1.539941, 0....</td>\n",
       "      <td>[-1.3126725, 0.11614599, 0.801443, 0.026017653...</td>\n",
       "      <td>[813.4801048287926, 813.4801048287926, 813.480...</td>\n",
       "      <td>[2, 2, 2, 2, 2]</td>\n",
       "      <td>[12539, 8621, 10201, 117716, 5832]</td>\n",
       "    </tr>\n",
       "    <tr>\n",
       "      <th>101869</th>\n",
       "      <td>3</td>\n",
       "      <td>1569888008</td>\n",
       "      <td>1611629</td>\n",
       "      <td>3794756</td>\n",
       "      <td>[2.6179939e-07, 2.6179939e-07, 2.6179939e-07]</td>\n",
       "      <td>[59, 1, 59]</td>\n",
       "      <td>[1569888008, 1569888027, 1569888044]</td>\n",
       "      <td>[1, 1, 1]</td>\n",
       "      <td>[0.86602515, 0.86602515, 0.86602515]</td>\n",
       "      <td>[1.0, 1.0, 1.0]</td>\n",
       "      <td>...</td>\n",
       "      <td>[2.0268341e-07, 2.0268341e-07, 2.0268341e-07]</td>\n",
       "      <td>[-0.22252177, -0.22252177, -0.22252177]</td>\n",
       "      <td>[0.5000004, 0.5000004, 0.5000004]</td>\n",
       "      <td>[50, 50, 50]</td>\n",
       "      <td>[-3.1486552, -3.1486552, -3.1486552]</td>\n",
       "      <td>[-1.0258105, 0.081737414, -0.12177592]</td>\n",
       "      <td>[-1.3126725, 0.16822961, 0.11614599]</td>\n",
       "      <td>[129.76474167279795, 129.76474167279795, 129.7...</td>\n",
       "      <td>[2, 2, 2]</td>\n",
       "      <td>[1649, 4903, 1888]</td>\n",
       "    </tr>\n",
       "  </tbody>\n",
       "</table>\n",
       "<p>5 rows × 23 columns</p>\n",
       "</div>"
      ],
      "text/plain": [
       "        product_id-count  event_time_ts-first  user_id-first  user_session  \\\n",
       "21655                 11           1569888001         425513        730655   \n",
       "47875                  7           1569888001         366901       1637332   \n",
       "110493                 2           1569888004         101881       4202155   \n",
       "52593                  5           1569888005         135812       1808164   \n",
       "101869                 3           1569888008        1611629       3794756   \n",
       "\n",
       "                                     et_hour_sin-list_seq  \\\n",
       "21655   [2.6179939e-07, 2.6179939e-07, 2.6179939e-07, ...   \n",
       "47875   [2.6179939e-07, 2.6179939e-07, 2.6179939e-07, ...   \n",
       "110493                     [2.6179939e-07, 2.6179939e-07]   \n",
       "52593   [2.6179939e-07, 2.6179939e-07, 2.6179939e-07, ...   \n",
       "101869      [2.6179939e-07, 2.6179939e-07, 2.6179939e-07]   \n",
       "\n",
       "                            brand-list_seq  \\\n",
       "21655   [1, 1, 42, 1, 1, 1, 1, 1, 1, 1, 1]   \n",
       "47875         [14, 16, 16, 16, 14, 11, 11]   \n",
       "110493                              [3, 3]   \n",
       "52593                [64, 64, 64, 64, 137]   \n",
       "101869                         [59, 1, 59]   \n",
       "\n",
       "                                   event_time_ts-list_seq  \\\n",
       "21655   [1569888001, 1569888069, 1569888086, 156988820...   \n",
       "47875   [1569888001, 1569888019, 1569888065, 156988810...   \n",
       "110493                           [1569888004, 1569888019]   \n",
       "52593   [1569888005, 1569888022, 1569888093, 156988810...   \n",
       "101869               [1569888008, 1569888027, 1569888044]   \n",
       "\n",
       "                    category_code-list_seq  \\\n",
       "21655   [21, 1, 1, 1, 1, 1, 1, 1, 1, 1, 1]   \n",
       "47875                [4, 4, 4, 4, 4, 4, 4]   \n",
       "110493                              [2, 2]   \n",
       "52593                 [13, 13, 13, 13, 50]   \n",
       "101869                           [1, 1, 1]   \n",
       "\n",
       "                                    et_month_cos-list_seq  \\\n",
       "21655   [0.86602515, 0.86602515, 0.86602515, 0.8660251...   \n",
       "47875   [0.86602515, 0.86602515, 0.86602515, 0.8660251...   \n",
       "110493                           [0.86602515, 0.86602515]   \n",
       "52593   [0.86602515, 0.86602515, 0.86602515, 0.8660251...   \n",
       "101869               [0.86602515, 0.86602515, 0.86602515]   \n",
       "\n",
       "                               et_dayofmonth_cos-list_seq  ...  \\\n",
       "21655   [1.0, 1.0, 1.0, 1.0, 1.0, 1.0, 1.0, 1.0, 1.0, ...  ...   \n",
       "47875                 [1.0, 1.0, 1.0, 1.0, 1.0, 1.0, 1.0]  ...   \n",
       "110493                                         [1.0, 1.0]  ...   \n",
       "52593                           [1.0, 1.0, 1.0, 1.0, 1.0]  ...   \n",
       "101869                                    [1.0, 1.0, 1.0]  ...   \n",
       "\n",
       "                               et_dayofmonth_sin-list_seq  \\\n",
       "21655   [2.0268341e-07, 2.0268341e-07, 2.0268341e-07, ...   \n",
       "47875   [2.0268341e-07, 2.0268341e-07, 2.0268341e-07, ...   \n",
       "110493                     [2.0268341e-07, 2.0268341e-07]   \n",
       "52593   [2.0268341e-07, 2.0268341e-07, 2.0268341e-07, ...   \n",
       "101869      [2.0268341e-07, 2.0268341e-07, 2.0268341e-07]   \n",
       "\n",
       "                                et_dayofweek_cos-list_seq  \\\n",
       "21655   [-0.22252177, -0.22252177, -0.22252177, -0.222...   \n",
       "47875   [-0.22252177, -0.22252177, -0.22252177, -0.222...   \n",
       "110493                         [-0.22252177, -0.22252177]   \n",
       "52593   [-0.22252177, -0.22252177, -0.22252177, -0.222...   \n",
       "101869            [-0.22252177, -0.22252177, -0.22252177]   \n",
       "\n",
       "                                    et_month_sin-list_seq  \\\n",
       "21655   [0.5000004, 0.5000004, 0.5000004, 0.5000004, 0...   \n",
       "47875   [0.5000004, 0.5000004, 0.5000004, 0.5000004, 0...   \n",
       "110493                             [0.5000004, 0.5000004]   \n",
       "52593   [0.5000004, 0.5000004, 0.5000004, 0.5000004, 0...   \n",
       "101869                  [0.5000004, 0.5000004, 0.5000004]   \n",
       "\n",
       "                                category_id-list_seq  \\\n",
       "21655   [32, 15, 15, 15, 15, 15, 15, 15, 15, 15, 15]   \n",
       "47875                          [4, 4, 4, 4, 4, 4, 4]   \n",
       "110493                                        [2, 2]   \n",
       "52593                           [29, 29, 29, 29, 85]   \n",
       "101869                                  [50, 50, 50]   \n",
       "\n",
       "                   product_recency_days_log_norm-list_seq  \\\n",
       "21655   [-3.1486552, -3.1486552, -3.1486552, -3.148655...   \n",
       "47875   [-3.1486552, -3.1486552, -3.1486552, -3.147448...   \n",
       "110493                           [-3.1486552, -3.1486552]   \n",
       "52593   [-3.1486552, -3.1486552, -3.1486552, -3.148655...   \n",
       "101869               [-3.1486552, -3.1486552, -3.1486552]   \n",
       "\n",
       "                                  price_log_norm-list_seq  \\\n",
       "21655   [1.035312, 0.43446743, 0.95062, 0.96737397, 0....   \n",
       "47875   [0.4173999, 1.0894246, 1.8598965, 1.0894246, 0...   \n",
       "110493                              [1.5900183, 1.976194]   \n",
       "52593   [1.4494399, 1.4607619, 1.5130008, 1.539941, 0....   \n",
       "101869             [-1.0258105, 0.081737414, -0.12177592]   \n",
       "\n",
       "                       delta_event_secs_log_norm-list_seq  \\\n",
       "21655   [-1.3126725, -1.3126725, 0.11614599, 1.0329243...   \n",
       "47875   [-1.3126725, 0.14287339, 0.590599, 0.48552188,...   \n",
       "110493                           [-1.3126725, 0.05792143]   \n",
       "52593   [-1.3126725, 0.11614599, 0.801443, 0.026017653...   \n",
       "101869               [-1.3126725, 0.16822961, 0.11614599]   \n",
       "\n",
       "                           avg_category_id_price-list_seq  \\\n",
       "21655   [627.0743073715739, 574.4541253211827, 574.454...   \n",
       "47875   [737.3441434477309, 737.3441434477309, 737.344...   \n",
       "110493             [494.9725346164256, 494.9725346164256]   \n",
       "52593   [813.4801048287926, 813.4801048287926, 813.480...   \n",
       "101869  [129.76474167279795, 129.76474167279795, 129.7...   \n",
       "\n",
       "                      event_type-list_seq  \\\n",
       "21655   [2, 2, 2, 2, 2, 2, 2, 2, 2, 2, 2]   \n",
       "47875               [2, 2, 2, 2, 2, 2, 2]   \n",
       "110493                             [2, 2]   \n",
       "52593                     [2, 2, 2, 2, 2]   \n",
       "101869                          [2, 2, 2]   \n",
       "\n",
       "                                      product_id-list_seq  \n",
       "21655   [4854, 82, 147, 133, 382, 520, 1559, 5047, 155...  \n",
       "47875            [223, 1580, 19588, 1580, 223, 1468, 307]  \n",
       "110493                                           [41, 18]  \n",
       "52593                  [12539, 8621, 10201, 117716, 5832]  \n",
       "101869                                 [1649, 4903, 1888]  \n",
       "\n",
       "[5 rows x 23 columns]"
      ]
     },
     "execution_count": 57,
     "metadata": {},
     "output_type": "execute_result"
    }
   ],
   "source": [
    "# Check out one processed parquet file\n",
    "df = cudf.read_parquet(os.path.join(OUTPUT_FOLDER, '0001/train.parquet'))\n",
    "df.head()"
   ]
  }
 ],
 "metadata": {
  "kernelspec": {
   "display_name": "Python 3 (ipykernel)",
   "language": "python",
   "name": "python3"
  },
  "language_info": {
   "codemirror_mode": {
    "name": "ipython",
    "version": 3
   },
   "file_extension": ".py",
   "mimetype": "text/x-python",
   "name": "python",
   "nbconvert_exporter": "python",
   "pygments_lexer": "ipython3",
   "version": "3.8.10"
  }
 },
 "nbformat": 4,
 "nbformat_minor": 4
}
