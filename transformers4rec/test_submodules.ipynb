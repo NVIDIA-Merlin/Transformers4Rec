{
 "cells": [
  {
   "cell_type": "code",
   "execution_count": 1,
   "id": "monthly-hometown",
   "metadata": {},
   "outputs": [],
   "source": [
    "from feature_process import get_feature_process\n",
    "from recsys_data import get_nvtabular_dataloader\n",
    "from dataclasses import dataclass"
   ]
  },
  {
   "cell_type": "markdown",
   "id": "special-affiliate",
   "metadata": {},
   "source": [
    "- We define two feature maps for two FeatureGroups : \n",
    "\n",
    "        - The first FeatureGroup uses all features present in ecomrees dataset. \n",
    "        \n",
    "        - The second FeatureGroup contains only the item-id column."
   ]
  },
  {
   "cell_type": "code",
   "execution_count": 2,
   "id": "southeast-interface",
   "metadata": {},
   "outputs": [],
   "source": [
    "feature_group_configs = [{ 'name' : 'session_based_features_all',\n",
    "                          'feature_map' : \"/workspace/transformerlib/Transformers4Rec/datasets/ecommerce_rees46/config/features/session_based_features_all.yaml\"},\n",
    "                         \n",
    "                         { 'name' : 'session_based_features_itemid',\n",
    "                          'feature_map' : \"/workspace/transformerlib/Transformers4Rec/datasets/ecommerce_rees46/config/features/session_based_features_itemid.yaml\"}\n",
    "                         ]"
   ]
  },
  {
   "cell_type": "markdown",
   "id": "asian-porter",
   "metadata": {},
   "source": [
    "## Load data "
   ]
  },
  {
   "cell_type": "code",
   "execution_count": 3,
   "id": "vertical-western",
   "metadata": {},
   "outputs": [],
   "source": [
    "@dataclass\n",
    "class training_args: \n",
    "    local_rank = -1\n",
    "    dataloader_drop_last = True\n",
    "    \n",
    "@dataclass \n",
    "class data_args: \n",
    "    session_seq_length_max = 20\n",
    "    nvt_part_mem_fraction = 0.7\n",
    "    nvt_part_size = None\n",
    "    \n",
    "data_paths = ['/data/0001/train.parquet', '/data/0002/train.parquet']\n",
    "\n",
    "batch_size = 128"
   ]
  },
  {
   "cell_type": "code",
   "execution_count": 4,
   "id": "gentle-broadcast",
   "metadata": {},
   "outputs": [
    {
     "name": "stderr",
     "output_type": "stream",
     "text": [
      "/nvtabular/nvtabular/io/dataset.py:253: UserWarning: Using very large partitions sizes for Dask. Memory-related errors are likely.\n",
      "  warnings.warn(\n"
     ]
    }
   ],
   "source": [
    "import yaml \n",
    "feature_maps = []\n",
    "for config in feature_group_configs: \n",
    "    with open(config['feature_map']) as yaml_file:\n",
    "        feature_maps.append(yaml.load(yaml_file, Loader=yaml.FullLoader))\n",
    "general_feature_map = feature_maps[0]\n",
    "general_feature_map.update(feature_maps[1])\n",
    "    \n",
    "loader = get_nvtabular_dataloader(data_args, training_args, general_feature_map, data_paths, batch_size)\n",
    "it = iter(loader)\n",
    "first = next(it)\n",
    "second = next(it)"
   ]
  },
  {
   "cell_type": "markdown",
   "id": "asian-brunei",
   "metadata": {},
   "source": [
    "## Define FeatureProcess class "
   ]
  },
  {
   "cell_type": "markdown",
   "id": "accepted-kernel",
   "metadata": {},
   "source": [
    "- Get FeatureProcess module "
   ]
  },
  {
   "cell_type": "code",
   "execution_count": 5,
   "id": "prescribed-therapy",
   "metadata": {},
   "outputs": [],
   "source": [
    "feature_process = get_feature_process(feature_group_configs)"
   ]
  },
  {
   "cell_type": "markdown",
   "id": "chinese-fluid",
   "metadata": {},
   "source": [
    "- Check FeatureProcess output"
   ]
  },
  {
   "cell_type": "code",
   "execution_count": 6,
   "id": "offensive-details",
   "metadata": {},
   "outputs": [],
   "source": [
    "out = feature_process(first)"
   ]
  },
  {
   "cell_type": "markdown",
   "id": "stuffed-secret",
   "metadata": {},
   "source": [
    "    - Aggregated output of first sequence: "
   ]
  },
  {
   "cell_type": "code",
   "execution_count": 7,
   "id": "effective-copying",
   "metadata": {},
   "outputs": [
    {
     "data": {
      "text/plain": [
       "torch.Size([128, 20, 1408])"
      ]
     },
     "execution_count": 7,
     "metadata": {},
     "output_type": "execute_result"
    }
   ],
   "source": [
    "out.feature_groups[0].values.shape"
   ]
  },
  {
   "cell_type": "markdown",
   "id": "complimentary-summer",
   "metadata": {},
   "source": [
    "    - Aggregated output of second sequence:  "
   ]
  },
  {
   "cell_type": "code",
   "execution_count": 8,
   "id": "balanced-reconstruction",
   "metadata": {},
   "outputs": [
    {
     "data": {
      "text/plain": [
       "torch.Size([128, 20, 128])"
      ]
     },
     "execution_count": 8,
     "metadata": {},
     "output_type": "execute_result"
    }
   ],
   "source": [
    "out.feature_groups[1].values.shape"
   ]
  },
  {
   "cell_type": "markdown",
   "id": "modified-onion",
   "metadata": {},
   "source": [
    "    - Label columns "
   ]
  },
  {
   "cell_type": "code",
   "execution_count": 9,
   "id": "surgical-calgary",
   "metadata": {},
   "outputs": [
    {
     "data": {
      "text/plain": [
       "[LabelFeature(type='item_prediction', label_column='sess_pid_seq', dimension=390000),\n",
       " LabelFeature(type='classification', label_column='sess_ccid_seq', dimension=150),\n",
       " LabelFeature(type='item_prediction', label_column='sess_pid_seq', dimension=390000)]"
      ]
     },
     "execution_count": 9,
     "metadata": {},
     "output_type": "execute_result"
    }
   ],
   "source": [
    "out.label_groups"
   ]
  },
  {
   "cell_type": "markdown",
   "id": "fixed-student",
   "metadata": {},
   "source": [
    "- columns to log as metadata "
   ]
  },
  {
   "cell_type": "code",
   "execution_count": 10,
   "id": "worthy-physiology",
   "metadata": {},
   "outputs": [
    {
     "data": {
      "text/plain": [
       "['sess_price_log_norm_seq',\n",
       " 'sess_relative_price_to_avg_category_seq',\n",
       " 'sess_prod_recency_days_log_norm_seq',\n",
       " 'sess_et_hour_sin_seq',\n",
       " 'sess_et_hour_cos_seq',\n",
       " 'sess_et_dayofweek_sin_seq',\n",
       " 'sess_et_dayofweek_cos_seq',\n",
       " 'sess_pid_seq',\n",
       " 'sess_ccid_seq',\n",
       " 'sess_csid_seq',\n",
       " 'sess_bid_seq',\n",
       " 'sess_pid_seq']"
      ]
     },
     "execution_count": 10,
     "metadata": {},
     "output_type": "execute_result"
    }
   ],
   "source": [
    "out.metadata_features"
   ]
  },
  {
   "cell_type": "markdown",
   "id": "historic-charleston",
   "metadata": {},
   "source": [
    "## Define Masking class "
   ]
  },
  {
   "cell_type": "code",
   "execution_count": 12,
   "id": "ideal-trigger",
   "metadata": {},
   "outputs": [],
   "source": [
    "from mask_sequence import MaskSequence"
   ]
  },
  {
   "cell_type": "markdown",
   "id": "absent-justice",
   "metadata": {},
   "source": [
    "- Each sequence is related to its own masking scheme "
   ]
  },
  {
   "cell_type": "code",
   "execution_count": 14,
   "id": "acquired-appraisal",
   "metadata": {},
   "outputs": [],
   "source": [
    "# masking the first sequence with all features using plm \n",
    "mask_module_1 = MaskSequence(task='plm', hidden_size=1408)\n",
    "\n",
    "# masking the second sequence with item-id using mlm \n",
    "mask_module_2 = MaskSequence(task='mlm', hidden_size=128)"
   ]
  },
  {
   "cell_type": "markdown",
   "id": "standing-atmosphere",
   "metadata": {},
   "source": [
    "- Masking first sequence "
   ]
  },
  {
   "cell_type": "code",
   "execution_count": 28,
   "id": "finnish-series",
   "metadata": {},
   "outputs": [],
   "source": [
    "input_sequence = out.feature_groups[0].values\n",
    "itemid_seq =  first[feature_process.feature_groups[0].itemid_name]\n",
    "pos_emb_inp_1, labels_1, mask_labels_1, plm_target_mapping_1, plm_perm_mask_1 = mask_module_1(input_sequence,\n",
    "                                                                                    itemid_seq,\n",
    "                                                                                    training = True)"
   ]
  },
  {
   "cell_type": "code",
   "execution_count": 29,
   "id": "agricultural-vehicle",
   "metadata": {},
   "outputs": [
    {
     "data": {
      "text/plain": [
       "(torch.Size([128, 20, 1408]),\n",
       " torch.Size([128, 20, 20]),\n",
       " torch.Size([128, 20, 20]))"
      ]
     },
     "execution_count": 29,
     "metadata": {},
     "output_type": "execute_result"
    }
   ],
   "source": [
    "pos_emb_inp_1.shape, plm_target_mapping_1.shape, plm_perm_mask_1.shape"
   ]
  },
  {
   "cell_type": "code",
   "execution_count": 33,
   "id": "minus-standing",
   "metadata": {},
   "outputs": [
    {
     "data": {
      "text/plain": [
       "tensor([[     0,      0,   1406,  ...,      0,      0,      0],\n",
       "        [  8218,      0, 118441,  ...,      0,      0,      0],\n",
       "        [     0,  10804,      0,  ...,      0,      0,      0],\n",
       "        ...,\n",
       "        [    61,      0,      0,  ...,      0,      0,      0],\n",
       "        [   260,      0,   1567,  ...,      0,      0,      0],\n",
       "        [     0,     13,     31,  ...,      0,      0,      0]],\n",
       "       device='cuda:0')"
      ]
     },
     "execution_count": 33,
     "metadata": {},
     "output_type": "execute_result"
    }
   ],
   "source": [
    "labels_2"
   ]
  },
  {
   "cell_type": "markdown",
   "id": "american-storage",
   "metadata": {},
   "source": [
    "- Masking second sequence "
   ]
  },
  {
   "cell_type": "code",
   "execution_count": 31,
   "id": "induced-latino",
   "metadata": {},
   "outputs": [],
   "source": [
    "input_sequence = out.feature_groups[1].values\n",
    "itemid_seq =  first[feature_process.feature_groups[1].itemid_name]\n",
    "pos_emb_inp_2, labels_2, mask_labels_2, plm_target_mapping_2, plm_perm_mask_2 = mask_module_2(input_sequence,\n",
    "                                                                                    itemid_seq,\n",
    "                                                                                    True)"
   ]
  },
  {
   "cell_type": "code",
   "execution_count": 32,
   "id": "explicit-rough",
   "metadata": {},
   "outputs": [
    {
     "data": {
      "text/plain": [
       "(torch.Size([128, 20, 128]), None, None)"
      ]
     },
     "execution_count": 32,
     "metadata": {},
     "output_type": "execute_result"
    }
   ],
   "source": [
    "pos_emb_inp_2.shape, plm_target_mapping_2,  plm_perm_mask_2"
   ]
  },
  {
   "cell_type": "code",
   "execution_count": 34,
   "id": "athletic-danger",
   "metadata": {},
   "outputs": [
    {
     "data": {
      "text/plain": [
       "tensor([[     0,      0,   1406,  ...,      0,      0,      0],\n",
       "        [  8218,      0, 118441,  ...,      0,      0,      0],\n",
       "        [     0,  10804,      0,  ...,      0,      0,      0],\n",
       "        ...,\n",
       "        [    61,      0,      0,  ...,      0,      0,      0],\n",
       "        [   260,      0,   1567,  ...,      0,      0,      0],\n",
       "        [     0,     13,     31,  ...,      0,      0,      0]],\n",
       "       device='cuda:0')"
      ]
     },
     "execution_count": 34,
     "metadata": {},
     "output_type": "execute_result"
    }
   ],
   "source": [
    "labels_2"
   ]
  },
  {
   "cell_type": "markdown",
   "id": "outer-purchase",
   "metadata": {},
   "source": [
    "## Define Tower models "
   ]
  },
  {
   "cell_type": "code",
   "execution_count": 37,
   "id": "listed-atmosphere",
   "metadata": {},
   "outputs": [],
   "source": [
    "from tower_model import *"
   ]
  },
  {
   "cell_type": "markdown",
   "id": "dried-barrier",
   "metadata": {},
   "source": [
    "- Define the model block for each feature group "
   ]
  },
  {
   "cell_type": "code",
   "execution_count": 38,
   "id": "flush-comment",
   "metadata": {},
   "outputs": [],
   "source": [
    "#model_tye, hidden_size, n_head, n_layer, total_seq_length\n",
    "models = [['xlnet', 1408, 4, 2, 20], ['lstm', 128, 0, 4, 21]]"
   ]
  },
  {
   "cell_type": "code",
   "execution_count": 39,
   "id": "outside-donna",
   "metadata": {},
   "outputs": [],
   "source": [
    "model = TowerModel(models)"
   ]
  },
  {
   "cell_type": "markdown",
   "id": "integral-immigration",
   "metadata": {},
   "source": [
    "- Get tower outputs "
   ]
  },
  {
   "cell_type": "code",
   "execution_count": 40,
   "id": "fallen-begin",
   "metadata": {},
   "outputs": [],
   "source": [
    "out_1, out_2 = model([\n",
    "    [pos_emb_inp_1, {'task': 'plm', 'target_mapping':plm_target_mapping, 'perm_mask':plm_perm_mask}], \n",
    "    [pos_emb_inp_2,  {'task': 'mlm'}],\n",
    "])"
   ]
  },
  {
   "cell_type": "code",
   "execution_count": 41,
   "id": "level-korea",
   "metadata": {},
   "outputs": [
    {
     "data": {
      "text/plain": [
       "(torch.Size([128, 20, 1408]), 2)"
      ]
     },
     "execution_count": 41,
     "metadata": {},
     "output_type": "execute_result"
    }
   ],
   "source": [
    "out_1[0].shape, len(out_1[1])"
   ]
  },
  {
   "cell_type": "code",
   "execution_count": 42,
   "id": "modified-recall",
   "metadata": {},
   "outputs": [
    {
     "data": {
      "text/plain": [
       "(torch.Size([128, 20, 128]), 1)"
      ]
     },
     "execution_count": 42,
     "metadata": {},
     "output_type": "execute_result"
    }
   ],
   "source": [
    "out_2[0].shape, len(out_2[1])"
   ]
  },
  {
   "cell_type": "markdown",
   "id": "neutral-utility",
   "metadata": {},
   "source": [
    "## Define Prediction Head "
   ]
  },
  {
   "cell_type": "markdown",
   "id": "hollywood-there",
   "metadata": {},
   "source": [
    "#TBD "
   ]
  },
  {
   "cell_type": "code",
   "execution_count": null,
   "id": "ready-wells",
   "metadata": {},
   "outputs": [],
   "source": []
  }
 ],
 "metadata": {
  "kernelspec": {
   "display_name": "Python 3",
   "language": "python",
   "name": "python3"
  },
  "language_info": {
   "codemirror_mode": {
    "name": "ipython",
    "version": 3
   },
   "file_extension": ".py",
   "mimetype": "text/x-python",
   "name": "python",
   "nbconvert_exporter": "python",
   "pygments_lexer": "ipython3",
   "version": "3.8.8"
  }
 },
 "nbformat": 4,
 "nbformat_minor": 5
}
